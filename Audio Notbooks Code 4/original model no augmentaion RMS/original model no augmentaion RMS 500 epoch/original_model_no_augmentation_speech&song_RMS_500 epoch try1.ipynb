{
  "nbformat": 4,
  "nbformat_minor": 0,
  "metadata": {
    "colab": {
      "name": "original model no augmentation speech&song RMS try 5.ipynb",
      "provenance": [],
      "collapsed_sections": []
    },
    "kernelspec": {
      "name": "python3",
      "display_name": "Python 3"
    },
    "language_info": {
      "name": "python"
    },
    "accelerator": "GPU"
  },
  "cells": [
    {
      "cell_type": "code",
      "execution_count": 1,
      "metadata": {
        "colab": {
          "base_uri": "https://localhost:8080/"
        },
        "id": "9SRCO-a_AlH5",
        "outputId": "5bb31e02-dab6-48f8-f59b-5ce5fcdade9f"
      },
      "outputs": [
        {
          "output_type": "stream",
          "name": "stdout",
          "text": [
            "Drive already mounted at /content/drive; to attempt to forcibly remount, call drive.mount(\"/content/drive\", force_remount=True).\n"
          ]
        }
      ],
      "source": [
        "from google.colab import drive\n",
        "drive.mount('/content/drive')"
      ]
    },
    {
      "cell_type": "code",
      "source": [
        "!pip install librosa"
      ],
      "metadata": {
        "colab": {
          "base_uri": "https://localhost:8080/"
        },
        "id": "oi8pWV3yBVjO",
        "outputId": "ae5e1abe-a3be-4de0-b04e-c7895f02cf94"
      },
      "execution_count": 2,
      "outputs": [
        {
          "output_type": "stream",
          "name": "stdout",
          "text": [
            "Looking in indexes: https://pypi.org/simple, https://us-python.pkg.dev/colab-wheels/public/simple/\n",
            "Requirement already satisfied: librosa in /usr/local/lib/python3.7/dist-packages (0.8.1)\n",
            "Requirement already satisfied: resampy>=0.2.2 in /usr/local/lib/python3.7/dist-packages (from librosa) (0.2.2)\n",
            "Requirement already satisfied: joblib>=0.14 in /usr/local/lib/python3.7/dist-packages (from librosa) (1.1.0)\n",
            "Requirement already satisfied: decorator>=3.0.0 in /usr/local/lib/python3.7/dist-packages (from librosa) (4.4.2)\n",
            "Requirement already satisfied: numpy>=1.15.0 in /usr/local/lib/python3.7/dist-packages (from librosa) (1.21.6)\n",
            "Requirement already satisfied: numba>=0.43.0 in /usr/local/lib/python3.7/dist-packages (from librosa) (0.51.2)\n",
            "Requirement already satisfied: scikit-learn!=0.19.0,>=0.14.0 in /usr/local/lib/python3.7/dist-packages (from librosa) (1.0.2)\n",
            "Requirement already satisfied: scipy>=1.0.0 in /usr/local/lib/python3.7/dist-packages (from librosa) (1.4.1)\n",
            "Requirement already satisfied: pooch>=1.0 in /usr/local/lib/python3.7/dist-packages (from librosa) (1.6.0)\n",
            "Requirement already satisfied: packaging>=20.0 in /usr/local/lib/python3.7/dist-packages (from librosa) (21.3)\n",
            "Requirement already satisfied: soundfile>=0.10.2 in /usr/local/lib/python3.7/dist-packages (from librosa) (0.10.3.post1)\n",
            "Requirement already satisfied: audioread>=2.0.0 in /usr/local/lib/python3.7/dist-packages (from librosa) (2.1.9)\n",
            "Requirement already satisfied: setuptools in /usr/local/lib/python3.7/dist-packages (from numba>=0.43.0->librosa) (57.4.0)\n",
            "Requirement already satisfied: llvmlite<0.35,>=0.34.0.dev0 in /usr/local/lib/python3.7/dist-packages (from numba>=0.43.0->librosa) (0.34.0)\n",
            "Requirement already satisfied: pyparsing!=3.0.5,>=2.0.2 in /usr/local/lib/python3.7/dist-packages (from packaging>=20.0->librosa) (3.0.9)\n",
            "Requirement already satisfied: requests>=2.19.0 in /usr/local/lib/python3.7/dist-packages (from pooch>=1.0->librosa) (2.23.0)\n",
            "Requirement already satisfied: appdirs>=1.3.0 in /usr/local/lib/python3.7/dist-packages (from pooch>=1.0->librosa) (1.4.4)\n",
            "Requirement already satisfied: urllib3!=1.25.0,!=1.25.1,<1.26,>=1.21.1 in /usr/local/lib/python3.7/dist-packages (from requests>=2.19.0->pooch>=1.0->librosa) (1.24.3)\n",
            "Requirement already satisfied: certifi>=2017.4.17 in /usr/local/lib/python3.7/dist-packages (from requests>=2.19.0->pooch>=1.0->librosa) (2022.5.18.1)\n",
            "Requirement already satisfied: idna<3,>=2.5 in /usr/local/lib/python3.7/dist-packages (from requests>=2.19.0->pooch>=1.0->librosa) (2.10)\n",
            "Requirement already satisfied: chardet<4,>=3.0.2 in /usr/local/lib/python3.7/dist-packages (from requests>=2.19.0->pooch>=1.0->librosa) (3.0.4)\n",
            "Requirement already satisfied: six>=1.3 in /usr/local/lib/python3.7/dist-packages (from resampy>=0.2.2->librosa) (1.15.0)\n",
            "Requirement already satisfied: threadpoolctl>=2.0.0 in /usr/local/lib/python3.7/dist-packages (from scikit-learn!=0.19.0,>=0.14.0->librosa) (3.1.0)\n",
            "Requirement already satisfied: cffi>=1.0 in /usr/local/lib/python3.7/dist-packages (from soundfile>=0.10.2->librosa) (1.15.0)\n",
            "Requirement already satisfied: pycparser in /usr/local/lib/python3.7/dist-packages (from cffi>=1.0->soundfile>=0.10.2->librosa) (2.21)\n"
          ]
        }
      ]
    },
    {
      "cell_type": "code",
      "metadata": {
        "id": "HJjcbxwy46bG",
        "colab": {
          "base_uri": "https://localhost:8080/",
          "height": 17
        },
        "outputId": "a3a8ee3c-7861-4a29-dbbf-78785b03e3f0"
      },
      "source": [
        "# Orignial Notebook: https://github.com/MITESHPUTHRANNEU/Speech-Emotion-Analyzer/blob/master/final_results_gender_test.ipynb\n",
        "# This notebook author: Reza Chu\n",
        "# Last Editing Date: 31st May 2019\n",
        "\n",
        "## Python\n",
        "import os\n",
        "import random\n",
        "import sys\n",
        "\n",
        "import IPython\n",
        "from IPython.display import Audio\n",
        "from IPython.display import Image\n",
        "import matplotlib.pyplot as plt\n",
        "\n",
        "## Package\n",
        "import glob \n",
        "import keras\n",
        "import IPython.display as ipd\n",
        "import librosa\n",
        "import librosa.display\n",
        "import matplotlib.pyplot as plt\n",
        "import numpy as np\n",
        "import pandas as pd\n",
        "import plotly.graph_objs as go\n",
        "import plotly.offline as py\n",
        "import plotly.tools as tls\n",
        "import seaborn as sns\n",
        "import scipy.io.wavfile\n",
        "import tensorflow as tf\n",
        "py.init_notebook_mode(connected=True)\n",
        "\n",
        "## Keras\n",
        "from keras import regularizers\n",
        "from keras.callbacks import ModelCheckpoint, LearningRateScheduler, EarlyStopping\n",
        "from keras.callbacks import  History, ReduceLROnPlateau, CSVLogger\n",
        "from keras.models import Model, Sequential\n",
        "from keras.layers import Dense, Embedding, LSTM\n",
        "from keras.layers import Input, Flatten, Dropout, Activation, BatchNormalization\n",
        "from keras.layers import Conv1D, MaxPooling1D, AveragePooling1D\n",
        "from keras.preprocessing import sequence\n",
        "from keras.preprocessing.sequence import pad_sequences\n",
        "from keras.preprocessing.text import Tokenizer\n",
        "from keras.utils import np_utils\n",
        "from tensorflow.keras.utils import to_categorical\n",
        "\n",
        "## Sklearn\n",
        "from sklearn.metrics import confusion_matrix\n",
        "from sklearn.preprocessing import LabelEncoder\n",
        "\n",
        "## Rest\n",
        "from scipy.fftpack import fft\n",
        "from scipy import signal\n",
        "from scipy.io import wavfile\n",
        "from tqdm import tqdm\n",
        "\n",
        "input_duration=3\n",
        "# % pylab inline"
      ],
      "execution_count": 3,
      "outputs": [
        {
          "output_type": "display_data",
          "data": {
            "text/html": [
              "        <script type=\"text/javascript\">\n",
              "        window.PlotlyConfig = {MathJaxConfig: 'local'};\n",
              "        if (window.MathJax) {MathJax.Hub.Config({SVG: {font: \"STIX-Web\"}});}\n",
              "        if (typeof require !== 'undefined') {\n",
              "        require.undef(\"plotly\");\n",
              "        requirejs.config({\n",
              "            paths: {\n",
              "                'plotly': ['https://cdn.plot.ly/plotly-2.8.3.min']\n",
              "            }\n",
              "        });\n",
              "        require(['plotly'], function(Plotly) {\n",
              "            window._Plotly = Plotly;\n",
              "        });\n",
              "        }\n",
              "        </script>\n",
              "        "
            ]
          },
          "metadata": {}
        }
      ]
    },
    {
      "cell_type": "code",
      "source": [
        "#radvass speech and song\n",
        "import time\n",
        "import os\n",
        "import librosa\n",
        "from librosa import display\n",
        "import matplotlib.pyplot as plt\n",
        "\n",
        "count=0\n",
        "path1 = '/content/drive/MyDrive/RAVDESS_speech'\n",
        "path2 = '/content/drive/MyDrive/RAVDESS_song'\n",
        "\n",
        "lst = []\n",
        "\n",
        "start_time = time.time()\n",
        "\n",
        "for subdir, dirs, files in os.walk(path2):\n",
        "  #print(dirs)\n",
        "  #print(subdir)\n",
        "  #print(files)\n",
        "  for file in files:\n",
        "      try:\n",
        "        count +=1\n",
        "        #Load librosa array, obtain mfcss, store the file and the mcss information in a new array\n",
        "        X, sample_rate = librosa.load(os.path.join(subdir,file), res_type='kaiser_fast')\n",
        "        mfccs = np.mean(librosa.feature.mfcc(y=X, sr=sample_rate, n_mfcc=40).T,axis=0) \n",
        "        # The instruction below converts the labels (from 1 to 8) to a series from 0 to 7\n",
        "        # This is because our predictor needs to start from 0 otherwise it will try to predict also 0.\n",
        "        file = int(file[7:8]) - 1 \n",
        "        arr = mfccs, file\n",
        "        lst.append(arr)\n",
        "      # If the file is not valid, skip it\n",
        "      except ValueError:\n",
        "        continue\n",
        "\n",
        "for subdir, dirs, files in os.walk(path1):\n",
        "  #print(dirs)\n",
        "  #print(subdir)\n",
        " # print(files)\n",
        "  for file in files:\n",
        "      try:\n",
        "        #Load librosa array, obtain mfcss, store the file and the mcss information in a new array\n",
        "        X, sample_rate = librosa.load(os.path.join(subdir,file), res_type='kaiser_fast')\n",
        "        mfccs = np.mean(librosa.feature.mfcc(y=X, sr=sample_rate, n_mfcc=40).T,axis=0) \n",
        "        # The instruction below converts the labels (from 1 to 8) to a series from 0 to 7\n",
        "        # This is because our predictor needs to start from 0 otherwise it will try to predict also 0.\n",
        "        file = int(file[7:8]) - 1 \n",
        "        if(file ==6 or file==7):\n",
        "          continue\n",
        "        count +=1\n",
        "        arr = mfccs, file\n",
        "        lst.append(arr)\n",
        "      # If the file is not valid, skip it\n",
        "      except ValueError:\n",
        "        continue\n",
        "\n",
        "\n",
        "\n",
        "print(\"--- Data loaded. Loading time: %s seconds ---\" % (time.time() - start_time))"
      ],
      "metadata": {
        "colab": {
          "base_uri": "https://localhost:8080/"
        },
        "id": "IfuyRZl42ccZ",
        "outputId": "b1bff222-f82e-4f2c-d145-54716f64c4e9"
      },
      "execution_count": 4,
      "outputs": [
        {
          "output_type": "stream",
          "name": "stdout",
          "text": [
            "--- Data loaded. Loading time: 206.6529712677002 seconds ---\n"
          ]
        }
      ]
    },
    {
      "cell_type": "code",
      "source": [
        "count"
      ],
      "metadata": {
        "id": "Ltlhi25L2AI5",
        "colab": {
          "base_uri": "https://localhost:8080/"
        },
        "outputId": "2650feff-8855-48f9-df2a-c55677527b59"
      },
      "execution_count": 5,
      "outputs": [
        {
          "output_type": "execute_result",
          "data": {
            "text/plain": [
              "2068"
            ]
          },
          "metadata": {},
          "execution_count": 5
        }
      ]
    },
    {
      "cell_type": "code",
      "source": [
        "from numpy.core.fromnumeric import size\n",
        "size(lst)"
      ],
      "metadata": {
        "id": "HMOH7d7mzHB7",
        "colab": {
          "base_uri": "https://localhost:8080/"
        },
        "outputId": "25d08442-e99f-4ee8-bc18-be8394e6e8ce"
      },
      "execution_count": 6,
      "outputs": [
        {
          "output_type": "stream",
          "name": "stderr",
          "text": [
            "/usr/local/lib/python3.7/dist-packages/numpy/core/fromnumeric.py:3208: VisibleDeprecationWarning:\n",
            "\n",
            "Creating an ndarray from ragged nested sequences (which is a list-or-tuple of lists-or-tuples-or ndarrays with different lengths or shapes) is deprecated. If you meant to do this, you must specify 'dtype=object' when creating the ndarray.\n",
            "\n"
          ]
        },
        {
          "output_type": "execute_result",
          "data": {
            "text/plain": [
              "4136"
            ]
          },
          "metadata": {},
          "execution_count": 6
        }
      ]
    },
    {
      "cell_type": "code",
      "source": [
        "# Creating X and y: zip makes a list of all the first elements, and a list of all the second elements.\n",
        "X, y = zip(*lst)"
      ],
      "metadata": {
        "id": "ocdL7tSTBoMt"
      },
      "execution_count": 7,
      "outputs": []
    },
    {
      "cell_type": "code",
      "source": [
        "import numpy as np\n",
        "X = np.asarray(X)\n",
        "y = np.asarray(y)\n",
        "X.shape, y.shape"
      ],
      "metadata": {
        "id": "vHKwUGTbBtnF",
        "colab": {
          "base_uri": "https://localhost:8080/"
        },
        "outputId": "ae350117-6bb2-4f35-a4c7-2a11aa3483ff"
      },
      "execution_count": 8,
      "outputs": [
        {
          "output_type": "execute_result",
          "data": {
            "text/plain": [
              "((2068, 40), (2068,))"
            ]
          },
          "metadata": {},
          "execution_count": 8
        }
      ]
    },
    {
      "cell_type": "code",
      "source": [
        "X.shape"
      ],
      "metadata": {
        "id": "2sUCtbfMztE5",
        "colab": {
          "base_uri": "https://localhost:8080/"
        },
        "outputId": "0dcaa670-69da-4421-f81c-b7abb529248b"
      },
      "execution_count": 9,
      "outputs": [
        {
          "output_type": "execute_result",
          "data": {
            "text/plain": [
              "(2068, 40)"
            ]
          },
          "metadata": {},
          "execution_count": 9
        }
      ]
    },
    {
      "cell_type": "code",
      "source": [
        "X.shape"
      ],
      "metadata": {
        "colab": {
          "base_uri": "https://localhost:8080/"
        },
        "id": "7PSTurzjCo5K",
        "outputId": "272e4012-0a6e-4bb4-da6a-d880204407e8"
      },
      "execution_count": 10,
      "outputs": [
        {
          "output_type": "execute_result",
          "data": {
            "text/plain": [
              "(2068, 40)"
            ]
          },
          "metadata": {},
          "execution_count": 10
        }
      ]
    },
    {
      "cell_type": "code",
      "source": [
        "from sklearn.model_selection import train_test_split\n",
        "\n",
        "X_train, X_test, y_train, y_test = train_test_split(X,y, test_size=0.2,train_size=0.8, random_state=42)\n",
        "X_valid, X_test, y_valid, y_test = train_test_split(X_test,y_test, test_size=0.5,train_size=0.5, random_state=42)"
      ],
      "metadata": {
        "id": "Ai4Fy5cPCiq1"
      },
      "execution_count": 11,
      "outputs": []
    },
    {
      "cell_type": "code",
      "source": [
        "import numpy as np\n",
        "x_traincnn = np.expand_dims(X_train, axis=2)\n",
        "x_testcnn = np.expand_dims(X_test, axis=2)\n",
        "X_valid= np.expand_dims(X_valid, axis=2)"
      ],
      "metadata": {
        "id": "tp1Fm5K3CEXu"
      },
      "execution_count": 12,
      "outputs": []
    },
    {
      "cell_type": "code",
      "source": [
        "x_traincnn.shape, x_testcnn.shape , X_valid.shape"
      ],
      "metadata": {
        "id": "RI0MxoIPBws5",
        "colab": {
          "base_uri": "https://localhost:8080/"
        },
        "outputId": "812c1a8a-c23c-4307-b1af-e1bf678dd44b"
      },
      "execution_count": 13,
      "outputs": [
        {
          "output_type": "execute_result",
          "data": {
            "text/plain": [
              "((1654, 40, 1), (207, 40, 1), (207, 40, 1))"
            ]
          },
          "metadata": {},
          "execution_count": 13
        }
      ]
    },
    {
      "cell_type": "code",
      "source": [
        "!pip install tensorflow"
      ],
      "metadata": {
        "id": "goxL4Y3jKICC",
        "colab": {
          "base_uri": "https://localhost:8080/"
        },
        "outputId": "d40a2963-ce42-4df0-e9e2-f7ad6e62e73b"
      },
      "execution_count": 14,
      "outputs": [
        {
          "output_type": "stream",
          "name": "stdout",
          "text": [
            "Looking in indexes: https://pypi.org/simple, https://us-python.pkg.dev/colab-wheels/public/simple/\n",
            "Requirement already satisfied: tensorflow in /usr/local/lib/python3.7/dist-packages (2.8.2+zzzcolab20220527125636)\n",
            "Requirement already satisfied: termcolor>=1.1.0 in /usr/local/lib/python3.7/dist-packages (from tensorflow) (1.1.0)\n",
            "Requirement already satisfied: protobuf<3.20,>=3.9.2 in /usr/local/lib/python3.7/dist-packages (from tensorflow) (3.17.3)\n",
            "Requirement already satisfied: opt-einsum>=2.3.2 in /usr/local/lib/python3.7/dist-packages (from tensorflow) (3.3.0)\n",
            "Requirement already satisfied: h5py>=2.9.0 in /usr/local/lib/python3.7/dist-packages (from tensorflow) (3.1.0)\n",
            "Requirement already satisfied: tensorboard<2.9,>=2.8 in /usr/local/lib/python3.7/dist-packages (from tensorflow) (2.8.0)\n",
            "Requirement already satisfied: astunparse>=1.6.0 in /usr/local/lib/python3.7/dist-packages (from tensorflow) (1.6.3)\n",
            "Requirement already satisfied: gast>=0.2.1 in /usr/local/lib/python3.7/dist-packages (from tensorflow) (0.5.3)\n",
            "Requirement already satisfied: absl-py>=0.4.0 in /usr/local/lib/python3.7/dist-packages (from tensorflow) (1.0.0)\n",
            "Requirement already satisfied: typing-extensions>=3.6.6 in /usr/local/lib/python3.7/dist-packages (from tensorflow) (4.2.0)\n",
            "Requirement already satisfied: setuptools in /usr/local/lib/python3.7/dist-packages (from tensorflow) (57.4.0)\n",
            "Requirement already satisfied: google-pasta>=0.1.1 in /usr/local/lib/python3.7/dist-packages (from tensorflow) (0.2.0)\n",
            "Requirement already satisfied: keras<2.9,>=2.8.0rc0 in /usr/local/lib/python3.7/dist-packages (from tensorflow) (2.8.0)\n",
            "Requirement already satisfied: wrapt>=1.11.0 in /usr/local/lib/python3.7/dist-packages (from tensorflow) (1.14.1)\n",
            "Requirement already satisfied: six>=1.12.0 in /usr/local/lib/python3.7/dist-packages (from tensorflow) (1.15.0)\n",
            "Requirement already satisfied: grpcio<2.0,>=1.24.3 in /usr/local/lib/python3.7/dist-packages (from tensorflow) (1.46.3)\n",
            "Requirement already satisfied: libclang>=9.0.1 in /usr/local/lib/python3.7/dist-packages (from tensorflow) (14.0.1)\n",
            "Requirement already satisfied: tensorflow-io-gcs-filesystem>=0.23.1 in /usr/local/lib/python3.7/dist-packages (from tensorflow) (0.26.0)\n",
            "Requirement already satisfied: keras-preprocessing>=1.1.1 in /usr/local/lib/python3.7/dist-packages (from tensorflow) (1.1.2)\n",
            "Requirement already satisfied: numpy>=1.20 in /usr/local/lib/python3.7/dist-packages (from tensorflow) (1.21.6)\n",
            "Requirement already satisfied: flatbuffers>=1.12 in /usr/local/lib/python3.7/dist-packages (from tensorflow) (2.0)\n",
            "Requirement already satisfied: tensorflow-estimator<2.9,>=2.8 in /usr/local/lib/python3.7/dist-packages (from tensorflow) (2.8.0)\n",
            "Requirement already satisfied: wheel<1.0,>=0.23.0 in /usr/local/lib/python3.7/dist-packages (from astunparse>=1.6.0->tensorflow) (0.37.1)\n",
            "Requirement already satisfied: cached-property in /usr/local/lib/python3.7/dist-packages (from h5py>=2.9.0->tensorflow) (1.5.2)\n",
            "Requirement already satisfied: tensorboard-data-server<0.7.0,>=0.6.0 in /usr/local/lib/python3.7/dist-packages (from tensorboard<2.9,>=2.8->tensorflow) (0.6.1)\n",
            "Requirement already satisfied: markdown>=2.6.8 in /usr/local/lib/python3.7/dist-packages (from tensorboard<2.9,>=2.8->tensorflow) (3.3.7)\n",
            "Requirement already satisfied: tensorboard-plugin-wit>=1.6.0 in /usr/local/lib/python3.7/dist-packages (from tensorboard<2.9,>=2.8->tensorflow) (1.8.1)\n",
            "Requirement already satisfied: google-auth-oauthlib<0.5,>=0.4.1 in /usr/local/lib/python3.7/dist-packages (from tensorboard<2.9,>=2.8->tensorflow) (0.4.6)\n",
            "Requirement already satisfied: requests<3,>=2.21.0 in /usr/local/lib/python3.7/dist-packages (from tensorboard<2.9,>=2.8->tensorflow) (2.23.0)\n",
            "Requirement already satisfied: werkzeug>=0.11.15 in /usr/local/lib/python3.7/dist-packages (from tensorboard<2.9,>=2.8->tensorflow) (1.0.1)\n",
            "Requirement already satisfied: google-auth<3,>=1.6.3 in /usr/local/lib/python3.7/dist-packages (from tensorboard<2.9,>=2.8->tensorflow) (1.35.0)\n",
            "Requirement already satisfied: pyasn1-modules>=0.2.1 in /usr/local/lib/python3.7/dist-packages (from google-auth<3,>=1.6.3->tensorboard<2.9,>=2.8->tensorflow) (0.2.8)\n",
            "Requirement already satisfied: rsa<5,>=3.1.4 in /usr/local/lib/python3.7/dist-packages (from google-auth<3,>=1.6.3->tensorboard<2.9,>=2.8->tensorflow) (4.8)\n",
            "Requirement already satisfied: cachetools<5.0,>=2.0.0 in /usr/local/lib/python3.7/dist-packages (from google-auth<3,>=1.6.3->tensorboard<2.9,>=2.8->tensorflow) (4.2.4)\n",
            "Requirement already satisfied: requests-oauthlib>=0.7.0 in /usr/local/lib/python3.7/dist-packages (from google-auth-oauthlib<0.5,>=0.4.1->tensorboard<2.9,>=2.8->tensorflow) (1.3.1)\n",
            "Requirement already satisfied: importlib-metadata>=4.4 in /usr/local/lib/python3.7/dist-packages (from markdown>=2.6.8->tensorboard<2.9,>=2.8->tensorflow) (4.11.4)\n",
            "Requirement already satisfied: zipp>=0.5 in /usr/local/lib/python3.7/dist-packages (from importlib-metadata>=4.4->markdown>=2.6.8->tensorboard<2.9,>=2.8->tensorflow) (3.8.0)\n",
            "Requirement already satisfied: pyasn1<0.5.0,>=0.4.6 in /usr/local/lib/python3.7/dist-packages (from pyasn1-modules>=0.2.1->google-auth<3,>=1.6.3->tensorboard<2.9,>=2.8->tensorflow) (0.4.8)\n",
            "Requirement already satisfied: urllib3!=1.25.0,!=1.25.1,<1.26,>=1.21.1 in /usr/local/lib/python3.7/dist-packages (from requests<3,>=2.21.0->tensorboard<2.9,>=2.8->tensorflow) (1.24.3)\n",
            "Requirement already satisfied: idna<3,>=2.5 in /usr/local/lib/python3.7/dist-packages (from requests<3,>=2.21.0->tensorboard<2.9,>=2.8->tensorflow) (2.10)\n",
            "Requirement already satisfied: chardet<4,>=3.0.2 in /usr/local/lib/python3.7/dist-packages (from requests<3,>=2.21.0->tensorboard<2.9,>=2.8->tensorflow) (3.0.4)\n",
            "Requirement already satisfied: certifi>=2017.4.17 in /usr/local/lib/python3.7/dist-packages (from requests<3,>=2.21.0->tensorboard<2.9,>=2.8->tensorflow) (2022.5.18.1)\n",
            "Requirement already satisfied: oauthlib>=3.0.0 in /usr/local/lib/python3.7/dist-packages (from requests-oauthlib>=0.7.0->google-auth-oauthlib<0.5,>=0.4.1->tensorboard<2.9,>=2.8->tensorflow) (3.2.0)\n"
          ]
        }
      ]
    },
    {
      "cell_type": "code",
      "source": [
        "!pip install keras"
      ],
      "metadata": {
        "id": "EkcmN9UrKSxj",
        "colab": {
          "base_uri": "https://localhost:8080/"
        },
        "outputId": "801c4945-4821-4144-f6af-0f4c29705833"
      },
      "execution_count": 15,
      "outputs": [
        {
          "output_type": "stream",
          "name": "stdout",
          "text": [
            "Looking in indexes: https://pypi.org/simple, https://us-python.pkg.dev/colab-wheels/public/simple/\n",
            "Requirement already satisfied: keras in /usr/local/lib/python3.7/dist-packages (2.8.0)\n"
          ]
        }
      ]
    },
    {
      "cell_type": "code",
      "source": [
        "import keras\n",
        "import numpy as np\n",
        "import matplotlib.pyplot as plt\n",
        "import tensorflow as tf\n",
        "from keras.preprocessing import sequence\n",
        "from keras.models import Sequential\n",
        "from keras.layers import Dense, Embedding\n",
        "from tensorflow.keras.utils import to_categorical\n",
        "from keras.layers import Input, Flatten, Dropout, Activation\n",
        "from keras.layers import Conv1D, MaxPooling1D\n",
        "from keras.models import Model\n",
        "from keras.callbacks import ModelCheckpoint\n",
        "from tensorflow.keras import optimizers\n",
        "\n",
        "model = Sequential()\n",
        "\n",
        "model.add(Conv1D(128, 8,padding='same', #classifier.add(Convolution2D(64, (3, 3), padding = 'same', input_shape = (128, 128, 3), activation = 'relu'))\n",
        "                 input_shape=(40,1)))\n",
        "model.add(Activation('relu'))\n",
        "model.add(Dropout(0.3))\n",
        "model.add(MaxPooling1D(pool_size=(5)))\n",
        "\n",
        "\n",
        "model.add(Conv1D(256,8,padding='same',))\n",
        "model.add(Activation('relu'))\n",
        "model.add(Dropout(0.3))\n",
        "model.add(MaxPooling1D(pool_size=(5)))\n",
        "\n",
        "model.add(Flatten())\n",
        "\n",
        "model.add(Dense(256))\n",
        "model.add(Activation('relu'))\n",
        "model.add(Dense(256))\n",
        "model.add(Activation('relu'))\n",
        "\n",
        "model.add(Dense(6))\n",
        "model.add(Activation('softmax'))\n",
        "\n",
        "#opt = tf.keras.optimizers.Adam(lr=0.00002)\n",
        "opt = tf.keras.optimizers.RMSprop(lr=0.00002, rho=0.9, epsilon=1e-07, decay=0.0)\n",
        "#opt = tf.keras.optimizers.SGD(lr=0.001, momentum=0.0, decay=0.0, nesterov=False)"
      ],
      "metadata": {
        "id": "g74fXWVAC4Cr",
        "colab": {
          "base_uri": "https://localhost:8080/"
        },
        "outputId": "51705024-23c8-4a1c-ca89-e1d68201feee"
      },
      "execution_count": 16,
      "outputs": [
        {
          "output_type": "stream",
          "name": "stderr",
          "text": [
            "/usr/local/lib/python3.7/dist-packages/keras/optimizer_v2/rmsprop.py:130: UserWarning:\n",
            "\n",
            "The `lr` argument is deprecated, use `learning_rate` instead.\n",
            "\n"
          ]
        }
      ]
    },
    {
      "cell_type": "code",
      "source": [
        "model.summary()"
      ],
      "metadata": {
        "colab": {
          "base_uri": "https://localhost:8080/"
        },
        "id": "H6ukOxAGC_I4",
        "outputId": "c600f3ca-d445-43c7-82e9-854206075ee0"
      },
      "execution_count": 17,
      "outputs": [
        {
          "output_type": "stream",
          "name": "stdout",
          "text": [
            "Model: \"sequential\"\n",
            "_________________________________________________________________\n",
            " Layer (type)                Output Shape              Param #   \n",
            "=================================================================\n",
            " conv1d (Conv1D)             (None, 40, 128)           1152      \n",
            "                                                                 \n",
            " activation (Activation)     (None, 40, 128)           0         \n",
            "                                                                 \n",
            " dropout (Dropout)           (None, 40, 128)           0         \n",
            "                                                                 \n",
            " max_pooling1d (MaxPooling1D  (None, 8, 128)           0         \n",
            " )                                                               \n",
            "                                                                 \n",
            " conv1d_1 (Conv1D)           (None, 8, 256)            262400    \n",
            "                                                                 \n",
            " activation_1 (Activation)   (None, 8, 256)            0         \n",
            "                                                                 \n",
            " dropout_1 (Dropout)         (None, 8, 256)            0         \n",
            "                                                                 \n",
            " max_pooling1d_1 (MaxPooling  (None, 1, 256)           0         \n",
            " 1D)                                                             \n",
            "                                                                 \n",
            " flatten (Flatten)           (None, 256)               0         \n",
            "                                                                 \n",
            " dense (Dense)               (None, 256)               65792     \n",
            "                                                                 \n",
            " activation_2 (Activation)   (None, 256)               0         \n",
            "                                                                 \n",
            " dense_1 (Dense)             (None, 256)               65792     \n",
            "                                                                 \n",
            " activation_3 (Activation)   (None, 256)               0         \n",
            "                                                                 \n",
            " dense_2 (Dense)             (None, 6)                 1542      \n",
            "                                                                 \n",
            " activation_4 (Activation)   (None, 6)                 0         \n",
            "                                                                 \n",
            "=================================================================\n",
            "Total params: 396,678\n",
            "Trainable params: 396,678\n",
            "Non-trainable params: 0\n",
            "_________________________________________________________________\n"
          ]
        }
      ]
    },
    {
      "cell_type": "code",
      "source": [
        "model.compile(loss='sparse_categorical_crossentropy',\n",
        "              optimizer=opt,\n",
        "              metrics=['accuracy'])"
      ],
      "metadata": {
        "id": "AbMlLNk4DCBM"
      },
      "execution_count": 18,
      "outputs": []
    },
    {
      "cell_type": "code",
      "source": [
        "#cnnhistory=model.fit(x_traincnn, y_train, batch_size=16, epochs=700, validation_data=(x_testcnn, y_test))\n",
        "cnnhistory=model.fit(x_traincnn, y_train, batch_size=16, epochs=500 , validation_data=(X_valid, y_valid))"
      ],
      "metadata": {
        "colab": {
          "base_uri": "https://localhost:8080/"
        },
        "id": "RI1v2AuADFhy",
        "outputId": "05eb7418-731b-4d5d-c843-58be510df870"
      },
      "execution_count": 19,
      "outputs": [
        {
          "output_type": "stream",
          "name": "stdout",
          "text": [
            "Epoch 1/500\n",
            "104/104 [==============================] - 4s 12ms/step - loss: 5.3870 - accuracy: 0.1614 - val_loss: 2.0924 - val_accuracy: 0.1932\n",
            "Epoch 2/500\n",
            "104/104 [==============================] - 1s 7ms/step - loss: 4.1516 - accuracy: 0.1826 - val_loss: 1.7886 - val_accuracy: 0.2319\n",
            "Epoch 3/500\n",
            "104/104 [==============================] - 1s 9ms/step - loss: 3.6429 - accuracy: 0.1784 - val_loss: 1.9338 - val_accuracy: 0.1787\n",
            "Epoch 4/500\n",
            "104/104 [==============================] - 1s 8ms/step - loss: 3.1420 - accuracy: 0.1723 - val_loss: 1.7467 - val_accuracy: 0.2222\n",
            "Epoch 5/500\n",
            "104/104 [==============================] - 1s 7ms/step - loss: 2.9252 - accuracy: 0.1784 - val_loss: 1.7834 - val_accuracy: 0.2271\n",
            "Epoch 6/500\n",
            "104/104 [==============================] - 1s 9ms/step - loss: 2.6706 - accuracy: 0.1911 - val_loss: 1.7602 - val_accuracy: 0.2609\n",
            "Epoch 7/500\n",
            "104/104 [==============================] - 1s 8ms/step - loss: 2.5424 - accuracy: 0.1935 - val_loss: 1.7002 - val_accuracy: 0.2899\n",
            "Epoch 8/500\n",
            "104/104 [==============================] - 1s 8ms/step - loss: 2.3519 - accuracy: 0.1947 - val_loss: 1.7731 - val_accuracy: 0.2174\n",
            "Epoch 9/500\n",
            "104/104 [==============================] - 1s 8ms/step - loss: 2.2166 - accuracy: 0.2164 - val_loss: 1.7352 - val_accuracy: 0.2657\n",
            "Epoch 10/500\n",
            "104/104 [==============================] - 1s 7ms/step - loss: 2.1941 - accuracy: 0.1989 - val_loss: 1.7612 - val_accuracy: 0.2126\n",
            "Epoch 11/500\n",
            "104/104 [==============================] - 1s 7ms/step - loss: 2.1354 - accuracy: 0.2007 - val_loss: 1.7272 - val_accuracy: 0.1981\n",
            "Epoch 12/500\n",
            "104/104 [==============================] - 1s 8ms/step - loss: 2.0433 - accuracy: 0.2255 - val_loss: 1.7073 - val_accuracy: 0.2222\n",
            "Epoch 13/500\n",
            "104/104 [==============================] - 1s 9ms/step - loss: 2.0651 - accuracy: 0.2074 - val_loss: 1.7402 - val_accuracy: 0.2367\n",
            "Epoch 14/500\n",
            "104/104 [==============================] - 1s 9ms/step - loss: 2.0098 - accuracy: 0.2031 - val_loss: 1.7277 - val_accuracy: 0.2271\n",
            "Epoch 15/500\n",
            "104/104 [==============================] - 1s 8ms/step - loss: 1.9698 - accuracy: 0.2243 - val_loss: 1.7036 - val_accuracy: 0.2464\n",
            "Epoch 16/500\n",
            "104/104 [==============================] - 1s 9ms/step - loss: 1.9396 - accuracy: 0.2267 - val_loss: 1.7356 - val_accuracy: 0.2029\n",
            "Epoch 17/500\n",
            "104/104 [==============================] - 1s 9ms/step - loss: 1.9390 - accuracy: 0.2134 - val_loss: 1.6725 - val_accuracy: 0.2705\n",
            "Epoch 18/500\n",
            "104/104 [==============================] - 1s 9ms/step - loss: 1.9164 - accuracy: 0.2225 - val_loss: 1.6932 - val_accuracy: 0.2415\n",
            "Epoch 19/500\n",
            "104/104 [==============================] - 1s 8ms/step - loss: 1.9027 - accuracy: 0.2285 - val_loss: 1.6956 - val_accuracy: 0.2802\n",
            "Epoch 20/500\n",
            "104/104 [==============================] - 1s 7ms/step - loss: 1.8702 - accuracy: 0.2291 - val_loss: 1.6859 - val_accuracy: 0.2899\n",
            "Epoch 21/500\n",
            "104/104 [==============================] - 1s 7ms/step - loss: 1.8714 - accuracy: 0.2370 - val_loss: 1.6734 - val_accuracy: 0.3043\n",
            "Epoch 22/500\n",
            "104/104 [==============================] - 1s 8ms/step - loss: 1.8327 - accuracy: 0.2304 - val_loss: 1.6664 - val_accuracy: 0.2947\n",
            "Epoch 23/500\n",
            "104/104 [==============================] - 1s 8ms/step - loss: 1.8506 - accuracy: 0.2237 - val_loss: 1.6475 - val_accuracy: 0.3575\n",
            "Epoch 24/500\n",
            "104/104 [==============================] - 1s 9ms/step - loss: 1.8284 - accuracy: 0.2110 - val_loss: 1.6493 - val_accuracy: 0.2657\n",
            "Epoch 25/500\n",
            "104/104 [==============================] - 1s 8ms/step - loss: 1.8295 - accuracy: 0.2382 - val_loss: 1.6671 - val_accuracy: 0.2415\n",
            "Epoch 26/500\n",
            "104/104 [==============================] - 1s 7ms/step - loss: 1.8323 - accuracy: 0.2406 - val_loss: 1.6534 - val_accuracy: 0.2995\n",
            "Epoch 27/500\n",
            "104/104 [==============================] - 1s 7ms/step - loss: 1.7961 - accuracy: 0.2527 - val_loss: 1.6250 - val_accuracy: 0.3623\n",
            "Epoch 28/500\n",
            "104/104 [==============================] - 1s 7ms/step - loss: 1.8050 - accuracy: 0.2521 - val_loss: 1.6282 - val_accuracy: 0.3575\n",
            "Epoch 29/500\n",
            "104/104 [==============================] - 1s 9ms/step - loss: 1.7899 - accuracy: 0.2388 - val_loss: 1.6254 - val_accuracy: 0.3913\n",
            "Epoch 30/500\n",
            "104/104 [==============================] - 1s 9ms/step - loss: 1.7699 - accuracy: 0.2588 - val_loss: 1.6400 - val_accuracy: 0.3237\n",
            "Epoch 31/500\n",
            "104/104 [==============================] - 1s 9ms/step - loss: 1.7747 - accuracy: 0.2503 - val_loss: 1.6255 - val_accuracy: 0.3575\n",
            "Epoch 32/500\n",
            "104/104 [==============================] - 1s 7ms/step - loss: 1.7626 - accuracy: 0.2479 - val_loss: 1.6331 - val_accuracy: 0.3575\n",
            "Epoch 33/500\n",
            "104/104 [==============================] - 1s 7ms/step - loss: 1.7470 - accuracy: 0.2715 - val_loss: 1.6253 - val_accuracy: 0.3816\n",
            "Epoch 34/500\n",
            "104/104 [==============================] - 1s 5ms/step - loss: 1.7244 - accuracy: 0.2739 - val_loss: 1.6151 - val_accuracy: 0.3575\n",
            "Epoch 35/500\n",
            "104/104 [==============================] - 0s 5ms/step - loss: 1.7511 - accuracy: 0.2654 - val_loss: 1.6087 - val_accuracy: 0.3961\n",
            "Epoch 36/500\n",
            "104/104 [==============================] - 1s 5ms/step - loss: 1.7376 - accuracy: 0.2684 - val_loss: 1.6147 - val_accuracy: 0.3575\n",
            "Epoch 37/500\n",
            "104/104 [==============================] - 1s 5ms/step - loss: 1.7484 - accuracy: 0.2509 - val_loss: 1.6125 - val_accuracy: 0.3720\n",
            "Epoch 38/500\n",
            "104/104 [==============================] - 0s 5ms/step - loss: 1.7113 - accuracy: 0.2763 - val_loss: 1.6088 - val_accuracy: 0.4010\n",
            "Epoch 39/500\n",
            "104/104 [==============================] - 0s 4ms/step - loss: 1.7231 - accuracy: 0.2842 - val_loss: 1.6331 - val_accuracy: 0.3285\n",
            "Epoch 40/500\n",
            "104/104 [==============================] - 1s 5ms/step - loss: 1.6977 - accuracy: 0.2999 - val_loss: 1.6204 - val_accuracy: 0.3285\n",
            "Epoch 41/500\n",
            "104/104 [==============================] - 1s 5ms/step - loss: 1.7084 - accuracy: 0.2684 - val_loss: 1.6084 - val_accuracy: 0.3865\n",
            "Epoch 42/500\n",
            "104/104 [==============================] - 0s 4ms/step - loss: 1.6932 - accuracy: 0.2975 - val_loss: 1.5797 - val_accuracy: 0.3913\n",
            "Epoch 43/500\n",
            "104/104 [==============================] - 1s 5ms/step - loss: 1.6858 - accuracy: 0.2751 - val_loss: 1.6002 - val_accuracy: 0.3623\n",
            "Epoch 44/500\n",
            "104/104 [==============================] - 0s 5ms/step - loss: 1.6774 - accuracy: 0.2938 - val_loss: 1.5856 - val_accuracy: 0.4106\n",
            "Epoch 45/500\n",
            "104/104 [==============================] - 0s 5ms/step - loss: 1.7102 - accuracy: 0.2709 - val_loss: 1.5835 - val_accuracy: 0.3575\n",
            "Epoch 46/500\n",
            "104/104 [==============================] - 0s 5ms/step - loss: 1.6754 - accuracy: 0.3011 - val_loss: 1.5910 - val_accuracy: 0.3382\n",
            "Epoch 47/500\n",
            "104/104 [==============================] - 0s 4ms/step - loss: 1.6720 - accuracy: 0.2938 - val_loss: 1.6053 - val_accuracy: 0.3913\n",
            "Epoch 48/500\n",
            "104/104 [==============================] - 1s 5ms/step - loss: 1.6723 - accuracy: 0.2956 - val_loss: 1.6031 - val_accuracy: 0.3671\n",
            "Epoch 49/500\n",
            "104/104 [==============================] - 1s 5ms/step - loss: 1.6661 - accuracy: 0.2963 - val_loss: 1.5726 - val_accuracy: 0.3768\n",
            "Epoch 50/500\n",
            "104/104 [==============================] - 0s 4ms/step - loss: 1.6628 - accuracy: 0.3047 - val_loss: 1.5747 - val_accuracy: 0.3865\n",
            "Epoch 51/500\n",
            "104/104 [==============================] - 0s 5ms/step - loss: 1.6426 - accuracy: 0.2993 - val_loss: 1.5653 - val_accuracy: 0.4010\n",
            "Epoch 52/500\n",
            "104/104 [==============================] - 0s 5ms/step - loss: 1.6606 - accuracy: 0.3023 - val_loss: 1.5483 - val_accuracy: 0.3961\n",
            "Epoch 53/500\n",
            "104/104 [==============================] - 0s 5ms/step - loss: 1.6258 - accuracy: 0.3150 - val_loss: 1.5419 - val_accuracy: 0.3816\n",
            "Epoch 54/500\n",
            "104/104 [==============================] - 0s 4ms/step - loss: 1.6301 - accuracy: 0.3204 - val_loss: 1.5739 - val_accuracy: 0.3575\n",
            "Epoch 55/500\n",
            "104/104 [==============================] - 0s 5ms/step - loss: 1.6345 - accuracy: 0.3180 - val_loss: 1.5557 - val_accuracy: 0.4106\n",
            "Epoch 56/500\n",
            "104/104 [==============================] - 0s 4ms/step - loss: 1.6278 - accuracy: 0.3089 - val_loss: 1.5884 - val_accuracy: 0.3333\n",
            "Epoch 57/500\n",
            "104/104 [==============================] - 0s 4ms/step - loss: 1.6237 - accuracy: 0.3289 - val_loss: 1.5512 - val_accuracy: 0.4010\n",
            "Epoch 58/500\n",
            "104/104 [==============================] - 0s 4ms/step - loss: 1.6272 - accuracy: 0.3301 - val_loss: 1.5431 - val_accuracy: 0.4058\n",
            "Epoch 59/500\n",
            "104/104 [==============================] - 1s 5ms/step - loss: 1.6241 - accuracy: 0.3150 - val_loss: 1.5351 - val_accuracy: 0.3720\n",
            "Epoch 60/500\n",
            "104/104 [==============================] - 0s 5ms/step - loss: 1.6291 - accuracy: 0.3192 - val_loss: 1.5360 - val_accuracy: 0.4058\n",
            "Epoch 61/500\n",
            "104/104 [==============================] - 0s 4ms/step - loss: 1.6135 - accuracy: 0.3331 - val_loss: 1.5236 - val_accuracy: 0.4589\n",
            "Epoch 62/500\n",
            "104/104 [==============================] - 0s 4ms/step - loss: 1.6319 - accuracy: 0.3186 - val_loss: 1.5600 - val_accuracy: 0.4106\n",
            "Epoch 63/500\n",
            "104/104 [==============================] - 0s 4ms/step - loss: 1.6028 - accuracy: 0.3331 - val_loss: 1.5459 - val_accuracy: 0.4010\n",
            "Epoch 64/500\n",
            "104/104 [==============================] - 0s 4ms/step - loss: 1.5942 - accuracy: 0.3301 - val_loss: 1.5313 - val_accuracy: 0.3527\n",
            "Epoch 65/500\n",
            "104/104 [==============================] - 0s 5ms/step - loss: 1.5899 - accuracy: 0.3277 - val_loss: 1.5280 - val_accuracy: 0.4589\n",
            "Epoch 66/500\n",
            "104/104 [==============================] - 0s 5ms/step - loss: 1.6073 - accuracy: 0.3156 - val_loss: 1.5418 - val_accuracy: 0.4058\n",
            "Epoch 67/500\n",
            "104/104 [==============================] - 0s 4ms/step - loss: 1.5816 - accuracy: 0.3265 - val_loss: 1.5439 - val_accuracy: 0.3285\n",
            "Epoch 68/500\n",
            "104/104 [==============================] - 0s 5ms/step - loss: 1.5781 - accuracy: 0.3301 - val_loss: 1.5191 - val_accuracy: 0.4300\n",
            "Epoch 69/500\n",
            "104/104 [==============================] - 0s 4ms/step - loss: 1.5727 - accuracy: 0.3392 - val_loss: 1.5147 - val_accuracy: 0.3768\n",
            "Epoch 70/500\n",
            "104/104 [==============================] - 0s 4ms/step - loss: 1.5690 - accuracy: 0.3567 - val_loss: 1.5235 - val_accuracy: 0.4058\n",
            "Epoch 71/500\n",
            "104/104 [==============================] - 0s 5ms/step - loss: 1.5771 - accuracy: 0.3392 - val_loss: 1.5015 - val_accuracy: 0.4106\n",
            "Epoch 72/500\n",
            "104/104 [==============================] - 0s 5ms/step - loss: 1.5603 - accuracy: 0.3597 - val_loss: 1.4941 - val_accuracy: 0.4155\n",
            "Epoch 73/500\n",
            "104/104 [==============================] - 0s 4ms/step - loss: 1.5762 - accuracy: 0.3585 - val_loss: 1.5005 - val_accuracy: 0.4444\n",
            "Epoch 74/500\n",
            "104/104 [==============================] - 0s 4ms/step - loss: 1.5752 - accuracy: 0.3482 - val_loss: 1.5107 - val_accuracy: 0.3816\n",
            "Epoch 75/500\n",
            "104/104 [==============================] - 0s 5ms/step - loss: 1.5523 - accuracy: 0.3664 - val_loss: 1.5047 - val_accuracy: 0.3720\n",
            "Epoch 76/500\n",
            "104/104 [==============================] - 0s 4ms/step - loss: 1.5543 - accuracy: 0.3706 - val_loss: 1.4861 - val_accuracy: 0.4251\n",
            "Epoch 77/500\n",
            "104/104 [==============================] - 0s 5ms/step - loss: 1.5547 - accuracy: 0.3513 - val_loss: 1.4988 - val_accuracy: 0.3865\n",
            "Epoch 78/500\n",
            "104/104 [==============================] - 0s 5ms/step - loss: 1.5554 - accuracy: 0.3476 - val_loss: 1.5067 - val_accuracy: 0.3671\n",
            "Epoch 79/500\n",
            "104/104 [==============================] - 0s 4ms/step - loss: 1.5489 - accuracy: 0.3495 - val_loss: 1.4788 - val_accuracy: 0.4300\n",
            "Epoch 80/500\n",
            "104/104 [==============================] - 1s 5ms/step - loss: 1.5404 - accuracy: 0.3464 - val_loss: 1.4835 - val_accuracy: 0.4734\n",
            "Epoch 81/500\n",
            "104/104 [==============================] - 1s 5ms/step - loss: 1.5380 - accuracy: 0.3670 - val_loss: 1.4740 - val_accuracy: 0.4638\n",
            "Epoch 82/500\n",
            "104/104 [==============================] - 0s 4ms/step - loss: 1.5222 - accuracy: 0.3676 - val_loss: 1.4917 - val_accuracy: 0.3720\n",
            "Epoch 83/500\n",
            "104/104 [==============================] - 0s 5ms/step - loss: 1.5224 - accuracy: 0.3694 - val_loss: 1.4714 - val_accuracy: 0.3961\n",
            "Epoch 84/500\n",
            "104/104 [==============================] - 0s 5ms/step - loss: 1.5138 - accuracy: 0.3773 - val_loss: 1.4770 - val_accuracy: 0.4300\n",
            "Epoch 85/500\n",
            "104/104 [==============================] - 1s 5ms/step - loss: 1.5136 - accuracy: 0.3585 - val_loss: 1.4496 - val_accuracy: 0.4589\n",
            "Epoch 86/500\n",
            "104/104 [==============================] - 0s 4ms/step - loss: 1.5252 - accuracy: 0.3827 - val_loss: 1.4775 - val_accuracy: 0.4203\n",
            "Epoch 87/500\n",
            "104/104 [==============================] - 0s 5ms/step - loss: 1.5074 - accuracy: 0.3628 - val_loss: 1.4535 - val_accuracy: 0.4541\n",
            "Epoch 88/500\n",
            "104/104 [==============================] - 0s 4ms/step - loss: 1.4943 - accuracy: 0.3990 - val_loss: 1.4688 - val_accuracy: 0.4396\n",
            "Epoch 89/500\n",
            "104/104 [==============================] - 0s 5ms/step - loss: 1.4850 - accuracy: 0.3851 - val_loss: 1.4436 - val_accuracy: 0.4493\n",
            "Epoch 90/500\n",
            "104/104 [==============================] - 0s 4ms/step - loss: 1.4947 - accuracy: 0.3748 - val_loss: 1.4559 - val_accuracy: 0.4058\n",
            "Epoch 91/500\n",
            "104/104 [==============================] - 0s 4ms/step - loss: 1.4936 - accuracy: 0.3803 - val_loss: 1.4239 - val_accuracy: 0.4734\n",
            "Epoch 92/500\n",
            "104/104 [==============================] - 0s 5ms/step - loss: 1.4863 - accuracy: 0.3797 - val_loss: 1.4341 - val_accuracy: 0.4251\n",
            "Epoch 93/500\n",
            "104/104 [==============================] - 0s 5ms/step - loss: 1.4813 - accuracy: 0.4008 - val_loss: 1.4305 - val_accuracy: 0.4493\n",
            "Epoch 94/500\n",
            "104/104 [==============================] - 0s 4ms/step - loss: 1.4608 - accuracy: 0.4015 - val_loss: 1.4330 - val_accuracy: 0.4686\n",
            "Epoch 95/500\n",
            "104/104 [==============================] - 1s 5ms/step - loss: 1.4719 - accuracy: 0.3724 - val_loss: 1.4348 - val_accuracy: 0.3816\n",
            "Epoch 96/500\n",
            "104/104 [==============================] - 0s 5ms/step - loss: 1.4781 - accuracy: 0.3960 - val_loss: 1.4188 - val_accuracy: 0.4444\n",
            "Epoch 97/500\n",
            "104/104 [==============================] - 1s 5ms/step - loss: 1.4680 - accuracy: 0.3869 - val_loss: 1.4295 - val_accuracy: 0.3865\n",
            "Epoch 98/500\n",
            "104/104 [==============================] - 1s 5ms/step - loss: 1.4602 - accuracy: 0.4015 - val_loss: 1.4010 - val_accuracy: 0.4783\n",
            "Epoch 99/500\n",
            "104/104 [==============================] - 1s 5ms/step - loss: 1.4552 - accuracy: 0.3978 - val_loss: 1.4088 - val_accuracy: 0.4348\n",
            "Epoch 100/500\n",
            "104/104 [==============================] - 0s 5ms/step - loss: 1.4544 - accuracy: 0.3936 - val_loss: 1.4077 - val_accuracy: 0.4300\n",
            "Epoch 101/500\n",
            "104/104 [==============================] - 0s 5ms/step - loss: 1.4445 - accuracy: 0.4172 - val_loss: 1.3857 - val_accuracy: 0.4831\n",
            "Epoch 102/500\n",
            "104/104 [==============================] - 0s 5ms/step - loss: 1.4484 - accuracy: 0.4027 - val_loss: 1.4073 - val_accuracy: 0.4734\n",
            "Epoch 103/500\n",
            "104/104 [==============================] - 0s 5ms/step - loss: 1.4396 - accuracy: 0.4057 - val_loss: 1.3917 - val_accuracy: 0.4831\n",
            "Epoch 104/500\n",
            "104/104 [==============================] - 0s 5ms/step - loss: 1.4554 - accuracy: 0.4129 - val_loss: 1.3907 - val_accuracy: 0.4638\n",
            "Epoch 105/500\n",
            "104/104 [==============================] - 1s 5ms/step - loss: 1.4359 - accuracy: 0.4087 - val_loss: 1.3867 - val_accuracy: 0.4686\n",
            "Epoch 106/500\n",
            "104/104 [==============================] - 0s 4ms/step - loss: 1.4296 - accuracy: 0.4160 - val_loss: 1.3826 - val_accuracy: 0.4686\n",
            "Epoch 107/500\n",
            "104/104 [==============================] - 0s 4ms/step - loss: 1.4166 - accuracy: 0.4172 - val_loss: 1.3833 - val_accuracy: 0.4444\n",
            "Epoch 108/500\n",
            "104/104 [==============================] - 1s 5ms/step - loss: 1.4126 - accuracy: 0.4238 - val_loss: 1.3677 - val_accuracy: 0.4831\n",
            "Epoch 109/500\n",
            "104/104 [==============================] - 0s 4ms/step - loss: 1.4249 - accuracy: 0.4099 - val_loss: 1.3678 - val_accuracy: 0.4879\n",
            "Epoch 110/500\n",
            "104/104 [==============================] - 1s 5ms/step - loss: 1.4273 - accuracy: 0.4208 - val_loss: 1.3610 - val_accuracy: 0.4734\n",
            "Epoch 111/500\n",
            "104/104 [==============================] - 0s 5ms/step - loss: 1.3960 - accuracy: 0.4335 - val_loss: 1.3759 - val_accuracy: 0.4831\n",
            "Epoch 112/500\n",
            "104/104 [==============================] - 1s 5ms/step - loss: 1.4023 - accuracy: 0.4190 - val_loss: 1.3563 - val_accuracy: 0.4783\n",
            "Epoch 113/500\n",
            "104/104 [==============================] - 0s 5ms/step - loss: 1.3989 - accuracy: 0.4281 - val_loss: 1.3395 - val_accuracy: 0.5121\n",
            "Epoch 114/500\n",
            "104/104 [==============================] - 0s 5ms/step - loss: 1.3943 - accuracy: 0.4244 - val_loss: 1.3655 - val_accuracy: 0.4493\n",
            "Epoch 115/500\n",
            "104/104 [==============================] - 0s 4ms/step - loss: 1.3765 - accuracy: 0.4395 - val_loss: 1.3333 - val_accuracy: 0.4976\n",
            "Epoch 116/500\n",
            "104/104 [==============================] - 1s 5ms/step - loss: 1.3989 - accuracy: 0.4305 - val_loss: 1.3491 - val_accuracy: 0.4734\n",
            "Epoch 117/500\n",
            "104/104 [==============================] - 0s 4ms/step - loss: 1.3693 - accuracy: 0.4347 - val_loss: 1.3250 - val_accuracy: 0.4928\n",
            "Epoch 118/500\n",
            "104/104 [==============================] - 1s 5ms/step - loss: 1.3640 - accuracy: 0.4492 - val_loss: 1.3434 - val_accuracy: 0.4686\n",
            "Epoch 119/500\n",
            "104/104 [==============================] - 0s 4ms/step - loss: 1.3661 - accuracy: 0.4468 - val_loss: 1.3325 - val_accuracy: 0.4686\n",
            "Epoch 120/500\n",
            "104/104 [==============================] - 0s 5ms/step - loss: 1.3618 - accuracy: 0.4522 - val_loss: 1.3166 - val_accuracy: 0.5024\n",
            "Epoch 121/500\n",
            "104/104 [==============================] - 0s 4ms/step - loss: 1.3678 - accuracy: 0.4456 - val_loss: 1.3273 - val_accuracy: 0.4879\n",
            "Epoch 122/500\n",
            "104/104 [==============================] - 1s 5ms/step - loss: 1.3631 - accuracy: 0.4383 - val_loss: 1.3150 - val_accuracy: 0.5121\n",
            "Epoch 123/500\n",
            "104/104 [==============================] - 1s 5ms/step - loss: 1.3530 - accuracy: 0.4492 - val_loss: 1.3246 - val_accuracy: 0.4928\n",
            "Epoch 124/500\n",
            "104/104 [==============================] - 0s 5ms/step - loss: 1.3631 - accuracy: 0.4450 - val_loss: 1.3196 - val_accuracy: 0.5072\n",
            "Epoch 125/500\n",
            "104/104 [==============================] - 0s 4ms/step - loss: 1.3443 - accuracy: 0.4577 - val_loss: 1.2925 - val_accuracy: 0.5024\n",
            "Epoch 126/500\n",
            "104/104 [==============================] - 0s 5ms/step - loss: 1.3429 - accuracy: 0.4456 - val_loss: 1.3011 - val_accuracy: 0.4976\n",
            "Epoch 127/500\n",
            "104/104 [==============================] - 1s 5ms/step - loss: 1.3511 - accuracy: 0.4649 - val_loss: 1.2853 - val_accuracy: 0.4976\n",
            "Epoch 128/500\n",
            "104/104 [==============================] - 1s 5ms/step - loss: 1.3268 - accuracy: 0.4565 - val_loss: 1.2862 - val_accuracy: 0.5072\n",
            "Epoch 129/500\n",
            "104/104 [==============================] - 0s 4ms/step - loss: 1.3355 - accuracy: 0.4528 - val_loss: 1.3015 - val_accuracy: 0.4638\n",
            "Epoch 130/500\n",
            "104/104 [==============================] - 0s 5ms/step - loss: 1.3279 - accuracy: 0.4686 - val_loss: 1.2855 - val_accuracy: 0.4976\n",
            "Epoch 131/500\n",
            "104/104 [==============================] - 0s 5ms/step - loss: 1.3536 - accuracy: 0.4577 - val_loss: 1.2937 - val_accuracy: 0.5217\n",
            "Epoch 132/500\n",
            "104/104 [==============================] - 1s 5ms/step - loss: 1.3184 - accuracy: 0.4595 - val_loss: 1.2739 - val_accuracy: 0.5507\n",
            "Epoch 133/500\n",
            "104/104 [==============================] - 0s 4ms/step - loss: 1.3043 - accuracy: 0.4553 - val_loss: 1.2774 - val_accuracy: 0.5169\n",
            "Epoch 134/500\n",
            "104/104 [==============================] - 0s 4ms/step - loss: 1.3018 - accuracy: 0.4740 - val_loss: 1.2534 - val_accuracy: 0.5507\n",
            "Epoch 135/500\n",
            "104/104 [==============================] - 1s 5ms/step - loss: 1.3253 - accuracy: 0.4547 - val_loss: 1.2491 - val_accuracy: 0.5266\n",
            "Epoch 136/500\n",
            "104/104 [==============================] - 0s 5ms/step - loss: 1.2951 - accuracy: 0.4782 - val_loss: 1.2620 - val_accuracy: 0.5169\n",
            "Epoch 137/500\n",
            "104/104 [==============================] - 0s 5ms/step - loss: 1.3023 - accuracy: 0.4788 - val_loss: 1.2531 - val_accuracy: 0.5459\n",
            "Epoch 138/500\n",
            "104/104 [==============================] - 1s 5ms/step - loss: 1.3108 - accuracy: 0.4661 - val_loss: 1.2226 - val_accuracy: 0.5507\n",
            "Epoch 139/500\n",
            "104/104 [==============================] - 0s 5ms/step - loss: 1.3099 - accuracy: 0.4746 - val_loss: 1.2406 - val_accuracy: 0.5556\n",
            "Epoch 140/500\n",
            "104/104 [==============================] - 1s 5ms/step - loss: 1.2945 - accuracy: 0.4788 - val_loss: 1.2321 - val_accuracy: 0.5556\n",
            "Epoch 141/500\n",
            "104/104 [==============================] - 1s 5ms/step - loss: 1.3070 - accuracy: 0.4565 - val_loss: 1.2403 - val_accuracy: 0.5556\n",
            "Epoch 142/500\n",
            "104/104 [==============================] - 0s 4ms/step - loss: 1.2893 - accuracy: 0.4752 - val_loss: 1.2469 - val_accuracy: 0.5362\n",
            "Epoch 143/500\n",
            "104/104 [==============================] - 0s 5ms/step - loss: 1.2999 - accuracy: 0.4831 - val_loss: 1.2331 - val_accuracy: 0.5507\n",
            "Epoch 144/500\n",
            "104/104 [==============================] - 0s 5ms/step - loss: 1.2746 - accuracy: 0.4897 - val_loss: 1.2210 - val_accuracy: 0.5072\n",
            "Epoch 145/500\n",
            "104/104 [==============================] - 1s 5ms/step - loss: 1.2795 - accuracy: 0.4861 - val_loss: 1.2249 - val_accuracy: 0.5314\n",
            "Epoch 146/500\n",
            "104/104 [==============================] - 0s 4ms/step - loss: 1.2778 - accuracy: 0.4740 - val_loss: 1.2167 - val_accuracy: 0.5556\n",
            "Epoch 147/500\n",
            "104/104 [==============================] - 0s 5ms/step - loss: 1.2687 - accuracy: 0.4752 - val_loss: 1.1981 - val_accuracy: 0.5507\n",
            "Epoch 148/500\n",
            "104/104 [==============================] - 0s 4ms/step - loss: 1.2803 - accuracy: 0.4873 - val_loss: 1.2032 - val_accuracy: 0.5314\n",
            "Epoch 149/500\n",
            "104/104 [==============================] - 1s 5ms/step - loss: 1.2755 - accuracy: 0.4825 - val_loss: 1.2025 - val_accuracy: 0.5507\n",
            "Epoch 150/500\n",
            "104/104 [==============================] - 1s 5ms/step - loss: 1.2652 - accuracy: 0.4776 - val_loss: 1.1851 - val_accuracy: 0.5749\n",
            "Epoch 151/500\n",
            "104/104 [==============================] - 1s 5ms/step - loss: 1.2646 - accuracy: 0.4867 - val_loss: 1.1962 - val_accuracy: 0.5749\n",
            "Epoch 152/500\n",
            "104/104 [==============================] - 1s 5ms/step - loss: 1.2465 - accuracy: 0.4909 - val_loss: 1.1882 - val_accuracy: 0.5411\n",
            "Epoch 153/500\n",
            "104/104 [==============================] - 1s 5ms/step - loss: 1.2498 - accuracy: 0.4873 - val_loss: 1.1813 - val_accuracy: 0.5845\n",
            "Epoch 154/500\n",
            "104/104 [==============================] - 0s 5ms/step - loss: 1.2500 - accuracy: 0.4879 - val_loss: 1.1938 - val_accuracy: 0.5604\n",
            "Epoch 155/500\n",
            "104/104 [==============================] - 0s 5ms/step - loss: 1.2674 - accuracy: 0.5012 - val_loss: 1.1940 - val_accuracy: 0.5700\n",
            "Epoch 156/500\n",
            "104/104 [==============================] - 0s 5ms/step - loss: 1.2489 - accuracy: 0.4970 - val_loss: 1.1860 - val_accuracy: 0.5507\n",
            "Epoch 157/500\n",
            "104/104 [==============================] - 0s 5ms/step - loss: 1.2717 - accuracy: 0.4728 - val_loss: 1.1729 - val_accuracy: 0.5556\n",
            "Epoch 158/500\n",
            "104/104 [==============================] - 0s 4ms/step - loss: 1.2318 - accuracy: 0.4976 - val_loss: 1.1812 - val_accuracy: 0.5507\n",
            "Epoch 159/500\n",
            "104/104 [==============================] - 0s 5ms/step - loss: 1.2524 - accuracy: 0.4861 - val_loss: 1.2003 - val_accuracy: 0.5121\n",
            "Epoch 160/500\n",
            "104/104 [==============================] - 0s 4ms/step - loss: 1.2426 - accuracy: 0.5006 - val_loss: 1.1984 - val_accuracy: 0.5459\n",
            "Epoch 161/500\n",
            "104/104 [==============================] - 0s 4ms/step - loss: 1.2543 - accuracy: 0.4770 - val_loss: 1.1835 - val_accuracy: 0.5556\n",
            "Epoch 162/500\n",
            "104/104 [==============================] - 0s 4ms/step - loss: 1.2254 - accuracy: 0.5073 - val_loss: 1.1725 - val_accuracy: 0.5411\n",
            "Epoch 163/500\n",
            "104/104 [==============================] - 0s 4ms/step - loss: 1.2357 - accuracy: 0.4970 - val_loss: 1.1787 - val_accuracy: 0.5556\n",
            "Epoch 164/500\n",
            "104/104 [==============================] - 0s 4ms/step - loss: 1.2360 - accuracy: 0.4952 - val_loss: 1.1801 - val_accuracy: 0.5700\n",
            "Epoch 165/500\n",
            "104/104 [==============================] - 0s 5ms/step - loss: 1.2493 - accuracy: 0.4831 - val_loss: 1.1622 - val_accuracy: 0.5700\n",
            "Epoch 166/500\n",
            "104/104 [==============================] - 1s 5ms/step - loss: 1.2137 - accuracy: 0.5115 - val_loss: 1.1717 - val_accuracy: 0.5894\n",
            "Epoch 167/500\n",
            "104/104 [==============================] - 1s 9ms/step - loss: 1.2024 - accuracy: 0.5169 - val_loss: 1.1600 - val_accuracy: 0.5894\n",
            "Epoch 168/500\n",
            "104/104 [==============================] - 1s 6ms/step - loss: 1.2122 - accuracy: 0.5073 - val_loss: 1.1648 - val_accuracy: 0.5411\n",
            "Epoch 169/500\n",
            "104/104 [==============================] - 1s 9ms/step - loss: 1.2182 - accuracy: 0.5054 - val_loss: 1.1557 - val_accuracy: 0.5894\n",
            "Epoch 170/500\n",
            "104/104 [==============================] - 1s 7ms/step - loss: 1.2004 - accuracy: 0.5230 - val_loss: 1.1454 - val_accuracy: 0.5797\n",
            "Epoch 171/500\n",
            "104/104 [==============================] - 1s 8ms/step - loss: 1.1912 - accuracy: 0.5151 - val_loss: 1.1420 - val_accuracy: 0.6039\n",
            "Epoch 172/500\n",
            "104/104 [==============================] - 1s 7ms/step - loss: 1.2021 - accuracy: 0.5097 - val_loss: 1.1309 - val_accuracy: 0.5894\n",
            "Epoch 173/500\n",
            "104/104 [==============================] - 1s 5ms/step - loss: 1.1985 - accuracy: 0.5175 - val_loss: 1.1627 - val_accuracy: 0.5459\n",
            "Epoch 174/500\n",
            "104/104 [==============================] - 1s 5ms/step - loss: 1.2065 - accuracy: 0.5000 - val_loss: 1.1448 - val_accuracy: 0.5604\n",
            "Epoch 175/500\n",
            "104/104 [==============================] - 1s 5ms/step - loss: 1.1914 - accuracy: 0.4988 - val_loss: 1.1287 - val_accuracy: 0.5797\n",
            "Epoch 176/500\n",
            "104/104 [==============================] - 1s 5ms/step - loss: 1.2078 - accuracy: 0.5236 - val_loss: 1.1580 - val_accuracy: 0.5604\n",
            "Epoch 177/500\n",
            "104/104 [==============================] - 1s 6ms/step - loss: 1.1737 - accuracy: 0.5187 - val_loss: 1.1349 - val_accuracy: 0.5652\n",
            "Epoch 178/500\n",
            "104/104 [==============================] - 1s 7ms/step - loss: 1.1777 - accuracy: 0.5181 - val_loss: 1.1266 - val_accuracy: 0.5700\n",
            "Epoch 179/500\n",
            "104/104 [==============================] - 1s 6ms/step - loss: 1.1631 - accuracy: 0.5296 - val_loss: 1.1341 - val_accuracy: 0.5797\n",
            "Epoch 180/500\n",
            "104/104 [==============================] - 1s 7ms/step - loss: 1.2101 - accuracy: 0.5139 - val_loss: 1.1276 - val_accuracy: 0.5507\n",
            "Epoch 181/500\n",
            "104/104 [==============================] - 1s 6ms/step - loss: 1.1694 - accuracy: 0.5314 - val_loss: 1.1290 - val_accuracy: 0.5797\n",
            "Epoch 182/500\n",
            "104/104 [==============================] - 1s 5ms/step - loss: 1.1806 - accuracy: 0.5230 - val_loss: 1.1354 - val_accuracy: 0.5652\n",
            "Epoch 183/500\n",
            "104/104 [==============================] - 1s 5ms/step - loss: 1.1496 - accuracy: 0.5429 - val_loss: 1.1288 - val_accuracy: 0.5459\n",
            "Epoch 184/500\n",
            "104/104 [==============================] - 1s 5ms/step - loss: 1.1757 - accuracy: 0.5218 - val_loss: 1.1211 - val_accuracy: 0.5652\n",
            "Epoch 185/500\n",
            "104/104 [==============================] - 0s 5ms/step - loss: 1.1621 - accuracy: 0.5290 - val_loss: 1.1212 - val_accuracy: 0.5507\n",
            "Epoch 186/500\n",
            "104/104 [==============================] - 0s 5ms/step - loss: 1.1557 - accuracy: 0.5381 - val_loss: 1.1005 - val_accuracy: 0.6135\n",
            "Epoch 187/500\n",
            "104/104 [==============================] - 0s 5ms/step - loss: 1.1618 - accuracy: 0.5290 - val_loss: 1.1383 - val_accuracy: 0.5700\n",
            "Epoch 188/500\n",
            "104/104 [==============================] - 0s 5ms/step - loss: 1.1699 - accuracy: 0.5417 - val_loss: 1.1240 - val_accuracy: 0.5700\n",
            "Epoch 189/500\n",
            "104/104 [==============================] - 1s 5ms/step - loss: 1.1682 - accuracy: 0.5266 - val_loss: 1.1156 - val_accuracy: 0.5652\n",
            "Epoch 190/500\n",
            "104/104 [==============================] - 0s 4ms/step - loss: 1.1400 - accuracy: 0.5278 - val_loss: 1.1243 - val_accuracy: 0.5942\n",
            "Epoch 191/500\n",
            "104/104 [==============================] - 0s 4ms/step - loss: 1.1349 - accuracy: 0.5423 - val_loss: 1.0968 - val_accuracy: 0.5845\n",
            "Epoch 192/500\n",
            "104/104 [==============================] - 0s 4ms/step - loss: 1.1309 - accuracy: 0.5411 - val_loss: 1.1008 - val_accuracy: 0.6039\n",
            "Epoch 193/500\n",
            "104/104 [==============================] - 1s 5ms/step - loss: 1.1236 - accuracy: 0.5526 - val_loss: 1.1079 - val_accuracy: 0.5700\n",
            "Epoch 194/500\n",
            "104/104 [==============================] - 0s 4ms/step - loss: 1.1461 - accuracy: 0.5611 - val_loss: 1.1089 - val_accuracy: 0.5845\n",
            "Epoch 195/500\n",
            "104/104 [==============================] - 0s 5ms/step - loss: 1.1537 - accuracy: 0.5333 - val_loss: 1.1024 - val_accuracy: 0.5942\n",
            "Epoch 196/500\n",
            "104/104 [==============================] - 0s 4ms/step - loss: 1.1648 - accuracy: 0.5357 - val_loss: 1.0937 - val_accuracy: 0.6184\n",
            "Epoch 197/500\n",
            "104/104 [==============================] - 1s 5ms/step - loss: 1.1184 - accuracy: 0.5453 - val_loss: 1.0987 - val_accuracy: 0.5700\n",
            "Epoch 198/500\n",
            "104/104 [==============================] - 0s 4ms/step - loss: 1.1168 - accuracy: 0.5466 - val_loss: 1.0747 - val_accuracy: 0.6087\n",
            "Epoch 199/500\n",
            "104/104 [==============================] - 0s 5ms/step - loss: 1.1267 - accuracy: 0.5387 - val_loss: 1.0918 - val_accuracy: 0.5845\n",
            "Epoch 200/500\n",
            "104/104 [==============================] - 1s 5ms/step - loss: 1.1309 - accuracy: 0.5502 - val_loss: 1.0939 - val_accuracy: 0.5990\n",
            "Epoch 201/500\n",
            "104/104 [==============================] - 0s 5ms/step - loss: 1.1099 - accuracy: 0.5441 - val_loss: 1.0926 - val_accuracy: 0.5990\n",
            "Epoch 202/500\n",
            "104/104 [==============================] - 0s 4ms/step - loss: 1.1112 - accuracy: 0.5550 - val_loss: 1.0810 - val_accuracy: 0.5894\n",
            "Epoch 203/500\n",
            "104/104 [==============================] - 0s 4ms/step - loss: 1.1325 - accuracy: 0.5411 - val_loss: 1.0879 - val_accuracy: 0.5942\n",
            "Epoch 204/500\n",
            "104/104 [==============================] - 0s 4ms/step - loss: 1.1236 - accuracy: 0.5514 - val_loss: 1.0778 - val_accuracy: 0.5749\n",
            "Epoch 205/500\n",
            "104/104 [==============================] - 0s 5ms/step - loss: 1.1103 - accuracy: 0.5544 - val_loss: 1.0722 - val_accuracy: 0.6039\n",
            "Epoch 206/500\n",
            "104/104 [==============================] - 1s 5ms/step - loss: 1.1139 - accuracy: 0.5653 - val_loss: 1.0676 - val_accuracy: 0.6087\n",
            "Epoch 207/500\n",
            "104/104 [==============================] - 1s 5ms/step - loss: 1.0974 - accuracy: 0.5665 - val_loss: 1.0662 - val_accuracy: 0.5942\n",
            "Epoch 208/500\n",
            "104/104 [==============================] - 0s 5ms/step - loss: 1.1007 - accuracy: 0.5629 - val_loss: 1.0666 - val_accuracy: 0.5942\n",
            "Epoch 209/500\n",
            "104/104 [==============================] - 0s 5ms/step - loss: 1.1118 - accuracy: 0.5623 - val_loss: 1.0813 - val_accuracy: 0.5507\n",
            "Epoch 210/500\n",
            "104/104 [==============================] - 0s 5ms/step - loss: 1.0927 - accuracy: 0.5466 - val_loss: 1.0586 - val_accuracy: 0.5942\n",
            "Epoch 211/500\n",
            "104/104 [==============================] - 1s 5ms/step - loss: 1.0931 - accuracy: 0.5713 - val_loss: 1.0549 - val_accuracy: 0.6135\n",
            "Epoch 212/500\n",
            "104/104 [==============================] - 1s 5ms/step - loss: 1.0955 - accuracy: 0.5472 - val_loss: 1.0976 - val_accuracy: 0.5845\n",
            "Epoch 213/500\n",
            "104/104 [==============================] - 1s 5ms/step - loss: 1.0872 - accuracy: 0.5580 - val_loss: 1.0441 - val_accuracy: 0.6232\n",
            "Epoch 214/500\n",
            "104/104 [==============================] - 0s 5ms/step - loss: 1.1006 - accuracy: 0.5526 - val_loss: 1.0683 - val_accuracy: 0.6184\n",
            "Epoch 215/500\n",
            "104/104 [==============================] - 0s 4ms/step - loss: 1.0906 - accuracy: 0.5593 - val_loss: 1.0614 - val_accuracy: 0.6039\n",
            "Epoch 216/500\n",
            "104/104 [==============================] - 0s 5ms/step - loss: 1.1060 - accuracy: 0.5478 - val_loss: 1.0649 - val_accuracy: 0.5990\n",
            "Epoch 217/500\n",
            "104/104 [==============================] - 0s 5ms/step - loss: 1.1148 - accuracy: 0.5423 - val_loss: 1.0649 - val_accuracy: 0.6039\n",
            "Epoch 218/500\n",
            "104/104 [==============================] - 0s 5ms/step - loss: 1.1026 - accuracy: 0.5502 - val_loss: 1.0688 - val_accuracy: 0.6087\n",
            "Epoch 219/500\n",
            "104/104 [==============================] - 0s 4ms/step - loss: 1.0702 - accuracy: 0.5750 - val_loss: 1.0414 - val_accuracy: 0.6087\n",
            "Epoch 220/500\n",
            "104/104 [==============================] - 0s 5ms/step - loss: 1.1065 - accuracy: 0.5387 - val_loss: 1.0365 - val_accuracy: 0.6039\n",
            "Epoch 221/500\n",
            "104/104 [==============================] - 1s 5ms/step - loss: 1.0785 - accuracy: 0.5804 - val_loss: 1.0407 - val_accuracy: 0.6087\n",
            "Epoch 222/500\n",
            "104/104 [==============================] - 0s 5ms/step - loss: 1.0920 - accuracy: 0.5750 - val_loss: 1.0543 - val_accuracy: 0.5942\n",
            "Epoch 223/500\n",
            "104/104 [==============================] - 0s 5ms/step - loss: 1.0726 - accuracy: 0.5611 - val_loss: 1.0444 - val_accuracy: 0.5797\n",
            "Epoch 224/500\n",
            "104/104 [==============================] - 0s 4ms/step - loss: 1.0618 - accuracy: 0.5659 - val_loss: 1.0526 - val_accuracy: 0.6039\n",
            "Epoch 225/500\n",
            "104/104 [==============================] - 0s 4ms/step - loss: 1.0980 - accuracy: 0.5635 - val_loss: 1.0435 - val_accuracy: 0.6184\n",
            "Epoch 226/500\n",
            "104/104 [==============================] - 0s 5ms/step - loss: 1.0869 - accuracy: 0.5629 - val_loss: 1.0438 - val_accuracy: 0.6280\n",
            "Epoch 227/500\n",
            "104/104 [==============================] - 0s 5ms/step - loss: 1.0627 - accuracy: 0.5701 - val_loss: 1.0401 - val_accuracy: 0.5942\n",
            "Epoch 228/500\n",
            "104/104 [==============================] - 1s 5ms/step - loss: 1.0486 - accuracy: 0.5822 - val_loss: 1.0254 - val_accuracy: 0.6232\n",
            "Epoch 229/500\n",
            "104/104 [==============================] - 1s 5ms/step - loss: 1.0688 - accuracy: 0.5726 - val_loss: 1.0228 - val_accuracy: 0.6280\n",
            "Epoch 230/500\n",
            "104/104 [==============================] - 0s 5ms/step - loss: 1.0507 - accuracy: 0.5774 - val_loss: 1.0406 - val_accuracy: 0.5990\n",
            "Epoch 231/500\n",
            "104/104 [==============================] - 1s 5ms/step - loss: 1.0733 - accuracy: 0.5683 - val_loss: 1.0178 - val_accuracy: 0.6377\n",
            "Epoch 232/500\n",
            "104/104 [==============================] - 0s 5ms/step - loss: 1.0596 - accuracy: 0.5744 - val_loss: 1.0290 - val_accuracy: 0.6039\n",
            "Epoch 233/500\n",
            "104/104 [==============================] - 1s 5ms/step - loss: 1.0635 - accuracy: 0.5774 - val_loss: 1.0053 - val_accuracy: 0.6329\n",
            "Epoch 234/500\n",
            "104/104 [==============================] - 0s 5ms/step - loss: 1.0381 - accuracy: 0.5901 - val_loss: 1.0249 - val_accuracy: 0.5894\n",
            "Epoch 235/500\n",
            "104/104 [==============================] - 0s 4ms/step - loss: 1.0505 - accuracy: 0.5780 - val_loss: 1.0081 - val_accuracy: 0.6135\n",
            "Epoch 236/500\n",
            "104/104 [==============================] - 1s 5ms/step - loss: 1.0483 - accuracy: 0.5852 - val_loss: 1.0144 - val_accuracy: 0.6135\n",
            "Epoch 237/500\n",
            "104/104 [==============================] - 0s 5ms/step - loss: 1.0530 - accuracy: 0.5901 - val_loss: 1.0008 - val_accuracy: 0.6377\n",
            "Epoch 238/500\n",
            "104/104 [==============================] - 1s 5ms/step - loss: 1.0363 - accuracy: 0.5846 - val_loss: 1.0212 - val_accuracy: 0.5990\n",
            "Epoch 239/500\n",
            "104/104 [==============================] - 0s 4ms/step - loss: 1.0444 - accuracy: 0.5762 - val_loss: 1.0182 - val_accuracy: 0.6329\n",
            "Epoch 240/500\n",
            "104/104 [==============================] - 0s 5ms/step - loss: 1.0409 - accuracy: 0.5834 - val_loss: 1.0096 - val_accuracy: 0.6377\n",
            "Epoch 241/500\n",
            "104/104 [==============================] - 1s 5ms/step - loss: 1.0255 - accuracy: 0.5816 - val_loss: 1.0194 - val_accuracy: 0.6039\n",
            "Epoch 242/500\n",
            "104/104 [==============================] - 1s 5ms/step - loss: 1.0477 - accuracy: 0.5822 - val_loss: 1.0144 - val_accuracy: 0.6232\n",
            "Epoch 243/500\n",
            "104/104 [==============================] - 0s 5ms/step - loss: 1.0307 - accuracy: 0.5925 - val_loss: 1.0184 - val_accuracy: 0.6087\n",
            "Epoch 244/500\n",
            "104/104 [==============================] - 0s 5ms/step - loss: 1.0108 - accuracy: 0.5949 - val_loss: 1.0029 - val_accuracy: 0.6377\n",
            "Epoch 245/500\n",
            "104/104 [==============================] - 1s 5ms/step - loss: 1.0193 - accuracy: 0.5883 - val_loss: 1.0060 - val_accuracy: 0.6232\n",
            "Epoch 246/500\n",
            "104/104 [==============================] - 0s 5ms/step - loss: 1.0307 - accuracy: 0.5895 - val_loss: 1.0163 - val_accuracy: 0.5990\n",
            "Epoch 247/500\n",
            "104/104 [==============================] - 0s 5ms/step - loss: 1.0066 - accuracy: 0.6088 - val_loss: 1.0056 - val_accuracy: 0.5942\n",
            "Epoch 248/500\n",
            "104/104 [==============================] - 1s 5ms/step - loss: 1.0311 - accuracy: 0.5943 - val_loss: 0.9969 - val_accuracy: 0.6522\n",
            "Epoch 249/500\n",
            "104/104 [==============================] - 1s 5ms/step - loss: 1.0285 - accuracy: 0.5798 - val_loss: 1.0105 - val_accuracy: 0.6232\n",
            "Epoch 250/500\n",
            "104/104 [==============================] - 0s 5ms/step - loss: 1.0284 - accuracy: 0.5859 - val_loss: 1.0067 - val_accuracy: 0.6329\n",
            "Epoch 251/500\n",
            "104/104 [==============================] - 0s 5ms/step - loss: 1.0070 - accuracy: 0.5973 - val_loss: 1.0195 - val_accuracy: 0.6184\n",
            "Epoch 252/500\n",
            "104/104 [==============================] - 1s 5ms/step - loss: 1.0159 - accuracy: 0.5931 - val_loss: 0.9838 - val_accuracy: 0.6329\n",
            "Epoch 253/500\n",
            "104/104 [==============================] - 0s 5ms/step - loss: 0.9958 - accuracy: 0.6010 - val_loss: 0.9870 - val_accuracy: 0.6329\n",
            "Epoch 254/500\n",
            "104/104 [==============================] - 0s 5ms/step - loss: 1.0240 - accuracy: 0.5895 - val_loss: 1.0043 - val_accuracy: 0.6039\n",
            "Epoch 255/500\n",
            "104/104 [==============================] - 0s 5ms/step - loss: 1.0123 - accuracy: 0.5895 - val_loss: 0.9746 - val_accuracy: 0.6522\n",
            "Epoch 256/500\n",
            "104/104 [==============================] - 1s 5ms/step - loss: 1.0249 - accuracy: 0.6119 - val_loss: 1.0075 - val_accuracy: 0.6135\n",
            "Epoch 257/500\n",
            "104/104 [==============================] - 1s 5ms/step - loss: 0.9991 - accuracy: 0.5925 - val_loss: 0.9825 - val_accuracy: 0.6232\n",
            "Epoch 258/500\n",
            "104/104 [==============================] - 0s 5ms/step - loss: 1.0044 - accuracy: 0.5949 - val_loss: 0.9855 - val_accuracy: 0.6280\n",
            "Epoch 259/500\n",
            "104/104 [==============================] - 1s 5ms/step - loss: 0.9977 - accuracy: 0.5895 - val_loss: 1.0046 - val_accuracy: 0.6087\n",
            "Epoch 260/500\n",
            "104/104 [==============================] - 1s 5ms/step - loss: 1.0082 - accuracy: 0.5889 - val_loss: 0.9841 - val_accuracy: 0.6473\n",
            "Epoch 261/500\n",
            "104/104 [==============================] - 1s 5ms/step - loss: 0.9895 - accuracy: 0.6076 - val_loss: 0.9863 - val_accuracy: 0.6039\n",
            "Epoch 262/500\n",
            "104/104 [==============================] - 1s 5ms/step - loss: 0.9849 - accuracy: 0.6040 - val_loss: 0.9739 - val_accuracy: 0.6473\n",
            "Epoch 263/500\n",
            "104/104 [==============================] - 1s 5ms/step - loss: 1.0024 - accuracy: 0.6016 - val_loss: 0.9748 - val_accuracy: 0.6715\n",
            "Epoch 264/500\n",
            "104/104 [==============================] - 0s 5ms/step - loss: 0.9824 - accuracy: 0.6028 - val_loss: 0.9889 - val_accuracy: 0.6232\n",
            "Epoch 265/500\n",
            "104/104 [==============================] - 1s 5ms/step - loss: 1.0158 - accuracy: 0.5931 - val_loss: 0.9793 - val_accuracy: 0.6280\n",
            "Epoch 266/500\n",
            "104/104 [==============================] - 1s 5ms/step - loss: 0.9881 - accuracy: 0.6028 - val_loss: 0.9607 - val_accuracy: 0.6377\n",
            "Epoch 267/500\n",
            "104/104 [==============================] - 0s 5ms/step - loss: 0.9767 - accuracy: 0.6191 - val_loss: 0.9639 - val_accuracy: 0.6522\n",
            "Epoch 268/500\n",
            "104/104 [==============================] - 0s 5ms/step - loss: 0.9868 - accuracy: 0.5985 - val_loss: 0.9616 - val_accuracy: 0.6618\n",
            "Epoch 269/500\n",
            "104/104 [==============================] - 1s 5ms/step - loss: 0.9964 - accuracy: 0.6016 - val_loss: 0.9732 - val_accuracy: 0.6570\n",
            "Epoch 270/500\n",
            "104/104 [==============================] - 1s 5ms/step - loss: 0.9867 - accuracy: 0.6131 - val_loss: 0.9677 - val_accuracy: 0.6280\n",
            "Epoch 271/500\n",
            "104/104 [==============================] - 1s 5ms/step - loss: 0.9867 - accuracy: 0.6094 - val_loss: 0.9803 - val_accuracy: 0.6135\n",
            "Epoch 272/500\n",
            "104/104 [==============================] - 1s 5ms/step - loss: 0.9766 - accuracy: 0.6185 - val_loss: 0.9536 - val_accuracy: 0.6618\n",
            "Epoch 273/500\n",
            "104/104 [==============================] - 1s 5ms/step - loss: 0.9862 - accuracy: 0.6106 - val_loss: 0.9470 - val_accuracy: 0.6667\n",
            "Epoch 274/500\n",
            "104/104 [==============================] - 1s 5ms/step - loss: 0.9819 - accuracy: 0.6082 - val_loss: 0.9719 - val_accuracy: 0.6425\n",
            "Epoch 275/500\n",
            "104/104 [==============================] - 1s 5ms/step - loss: 0.9723 - accuracy: 0.6137 - val_loss: 0.9639 - val_accuracy: 0.6377\n",
            "Epoch 276/500\n",
            "104/104 [==============================] - 1s 5ms/step - loss: 0.9559 - accuracy: 0.6131 - val_loss: 0.9730 - val_accuracy: 0.6473\n",
            "Epoch 277/500\n",
            "104/104 [==============================] - 1s 5ms/step - loss: 0.9670 - accuracy: 0.6082 - val_loss: 0.9590 - val_accuracy: 0.6522\n",
            "Epoch 278/500\n",
            "104/104 [==============================] - 1s 5ms/step - loss: 0.9483 - accuracy: 0.6276 - val_loss: 0.9642 - val_accuracy: 0.6618\n",
            "Epoch 279/500\n",
            "104/104 [==============================] - 1s 5ms/step - loss: 0.9908 - accuracy: 0.5919 - val_loss: 0.9802 - val_accuracy: 0.6425\n",
            "Epoch 280/500\n",
            "104/104 [==============================] - 1s 5ms/step - loss: 0.9793 - accuracy: 0.6100 - val_loss: 0.9842 - val_accuracy: 0.6280\n",
            "Epoch 281/500\n",
            "104/104 [==============================] - 0s 5ms/step - loss: 0.9646 - accuracy: 0.6167 - val_loss: 0.9817 - val_accuracy: 0.6135\n",
            "Epoch 282/500\n",
            "104/104 [==============================] - 0s 5ms/step - loss: 0.9624 - accuracy: 0.6336 - val_loss: 0.9567 - val_accuracy: 0.6812\n",
            "Epoch 283/500\n",
            "104/104 [==============================] - 0s 5ms/step - loss: 0.9629 - accuracy: 0.6227 - val_loss: 0.9618 - val_accuracy: 0.6473\n",
            "Epoch 284/500\n",
            "104/104 [==============================] - 1s 5ms/step - loss: 0.9441 - accuracy: 0.6167 - val_loss: 0.9529 - val_accuracy: 0.6522\n",
            "Epoch 285/500\n",
            "104/104 [==============================] - 0s 5ms/step - loss: 0.9655 - accuracy: 0.6276 - val_loss: 0.9595 - val_accuracy: 0.6377\n",
            "Epoch 286/500\n",
            "104/104 [==============================] - 0s 5ms/step - loss: 0.9592 - accuracy: 0.6088 - val_loss: 0.9478 - val_accuracy: 0.6425\n",
            "Epoch 287/500\n",
            "104/104 [==============================] - 1s 5ms/step - loss: 0.9637 - accuracy: 0.6100 - val_loss: 0.9407 - val_accuracy: 0.6522\n",
            "Epoch 288/500\n",
            "104/104 [==============================] - 1s 5ms/step - loss: 0.9508 - accuracy: 0.6179 - val_loss: 0.9441 - val_accuracy: 0.6715\n",
            "Epoch 289/500\n",
            "104/104 [==============================] - 1s 5ms/step - loss: 0.9622 - accuracy: 0.6221 - val_loss: 0.9623 - val_accuracy: 0.6329\n",
            "Epoch 290/500\n",
            "104/104 [==============================] - 0s 5ms/step - loss: 0.9468 - accuracy: 0.6264 - val_loss: 0.9422 - val_accuracy: 0.6667\n",
            "Epoch 291/500\n",
            "104/104 [==============================] - 1s 5ms/step - loss: 0.9434 - accuracy: 0.6306 - val_loss: 0.9452 - val_accuracy: 0.6425\n",
            "Epoch 292/500\n",
            "104/104 [==============================] - 1s 5ms/step - loss: 0.9517 - accuracy: 0.6264 - val_loss: 0.9548 - val_accuracy: 0.6570\n",
            "Epoch 293/500\n",
            "104/104 [==============================] - 1s 5ms/step - loss: 0.9655 - accuracy: 0.6076 - val_loss: 0.9513 - val_accuracy: 0.6280\n",
            "Epoch 294/500\n",
            "104/104 [==============================] - 0s 5ms/step - loss: 0.9503 - accuracy: 0.6131 - val_loss: 0.9467 - val_accuracy: 0.6570\n",
            "Epoch 295/500\n",
            "104/104 [==============================] - 1s 5ms/step - loss: 0.9349 - accuracy: 0.6324 - val_loss: 0.9368 - val_accuracy: 0.6570\n",
            "Epoch 296/500\n",
            "104/104 [==============================] - 0s 5ms/step - loss: 0.9155 - accuracy: 0.6324 - val_loss: 0.9446 - val_accuracy: 0.6715\n",
            "Epoch 297/500\n",
            "104/104 [==============================] - 1s 5ms/step - loss: 0.9381 - accuracy: 0.6324 - val_loss: 0.9318 - val_accuracy: 0.6763\n",
            "Epoch 298/500\n",
            "104/104 [==============================] - 0s 5ms/step - loss: 0.9420 - accuracy: 0.6282 - val_loss: 0.9383 - val_accuracy: 0.6715\n",
            "Epoch 299/500\n",
            "104/104 [==============================] - 1s 5ms/step - loss: 0.9341 - accuracy: 0.6215 - val_loss: 0.9526 - val_accuracy: 0.6618\n",
            "Epoch 300/500\n",
            "104/104 [==============================] - 1s 5ms/step - loss: 0.9351 - accuracy: 0.6040 - val_loss: 0.9224 - val_accuracy: 0.6763\n",
            "Epoch 301/500\n",
            "104/104 [==============================] - 1s 5ms/step - loss: 0.9498 - accuracy: 0.6185 - val_loss: 0.9319 - val_accuracy: 0.6763\n",
            "Epoch 302/500\n",
            "104/104 [==============================] - 1s 5ms/step - loss: 0.9491 - accuracy: 0.6276 - val_loss: 0.9336 - val_accuracy: 0.6715\n",
            "Epoch 303/500\n",
            "104/104 [==============================] - 1s 5ms/step - loss: 0.9369 - accuracy: 0.6191 - val_loss: 0.9439 - val_accuracy: 0.6522\n",
            "Epoch 304/500\n",
            "104/104 [==============================] - 0s 5ms/step - loss: 0.9206 - accuracy: 0.6306 - val_loss: 0.9462 - val_accuracy: 0.6667\n",
            "Epoch 305/500\n",
            "104/104 [==============================] - 1s 5ms/step - loss: 0.9197 - accuracy: 0.6439 - val_loss: 0.9306 - val_accuracy: 0.6812\n",
            "Epoch 306/500\n",
            "104/104 [==============================] - 0s 5ms/step - loss: 0.9397 - accuracy: 0.6270 - val_loss: 0.9132 - val_accuracy: 0.6763\n",
            "Epoch 307/500\n",
            "104/104 [==============================] - 1s 5ms/step - loss: 0.9478 - accuracy: 0.6191 - val_loss: 0.9254 - val_accuracy: 0.6715\n",
            "Epoch 308/500\n",
            "104/104 [==============================] - 0s 5ms/step - loss: 0.9296 - accuracy: 0.6348 - val_loss: 0.9218 - val_accuracy: 0.6473\n",
            "Epoch 309/500\n",
            "104/104 [==============================] - 1s 5ms/step - loss: 0.9206 - accuracy: 0.6366 - val_loss: 0.9391 - val_accuracy: 0.6618\n",
            "Epoch 310/500\n",
            "104/104 [==============================] - 1s 5ms/step - loss: 0.9151 - accuracy: 0.6318 - val_loss: 0.9144 - val_accuracy: 0.6715\n",
            "Epoch 311/500\n",
            "104/104 [==============================] - 1s 5ms/step - loss: 0.8959 - accuracy: 0.6397 - val_loss: 0.9148 - val_accuracy: 0.6715\n",
            "Epoch 312/500\n",
            "104/104 [==============================] - 0s 5ms/step - loss: 0.9243 - accuracy: 0.6258 - val_loss: 0.9174 - val_accuracy: 0.6812\n",
            "Epoch 313/500\n",
            "104/104 [==============================] - 1s 5ms/step - loss: 0.9077 - accuracy: 0.6427 - val_loss: 0.9212 - val_accuracy: 0.6522\n",
            "Epoch 314/500\n",
            "104/104 [==============================] - 1s 5ms/step - loss: 0.8974 - accuracy: 0.6457 - val_loss: 0.9289 - val_accuracy: 0.6425\n",
            "Epoch 315/500\n",
            "104/104 [==============================] - 1s 5ms/step - loss: 0.9317 - accuracy: 0.6421 - val_loss: 0.9206 - val_accuracy: 0.6667\n",
            "Epoch 316/500\n",
            "104/104 [==============================] - 0s 5ms/step - loss: 0.9025 - accuracy: 0.6505 - val_loss: 0.9302 - val_accuracy: 0.6425\n",
            "Epoch 317/500\n",
            "104/104 [==============================] - 1s 5ms/step - loss: 0.9277 - accuracy: 0.6378 - val_loss: 0.9126 - val_accuracy: 0.6763\n",
            "Epoch 318/500\n",
            "104/104 [==============================] - 1s 5ms/step - loss: 0.9050 - accuracy: 0.6372 - val_loss: 0.9306 - val_accuracy: 0.6522\n",
            "Epoch 319/500\n",
            "104/104 [==============================] - 0s 5ms/step - loss: 0.9116 - accuracy: 0.6421 - val_loss: 0.9307 - val_accuracy: 0.6425\n",
            "Epoch 320/500\n",
            "104/104 [==============================] - 0s 5ms/step - loss: 0.9165 - accuracy: 0.6294 - val_loss: 0.9317 - val_accuracy: 0.6570\n",
            "Epoch 321/500\n",
            "104/104 [==============================] - 1s 5ms/step - loss: 0.8999 - accuracy: 0.6421 - val_loss: 0.9121 - val_accuracy: 0.6763\n",
            "Epoch 322/500\n",
            "104/104 [==============================] - 0s 5ms/step - loss: 0.9057 - accuracy: 0.6457 - val_loss: 0.9010 - val_accuracy: 0.6957\n",
            "Epoch 323/500\n",
            "104/104 [==============================] - 0s 5ms/step - loss: 0.8845 - accuracy: 0.6318 - val_loss: 0.9205 - val_accuracy: 0.6908\n",
            "Epoch 324/500\n",
            "104/104 [==============================] - 0s 5ms/step - loss: 0.9003 - accuracy: 0.6415 - val_loss: 0.9103 - val_accuracy: 0.6667\n",
            "Epoch 325/500\n",
            "104/104 [==============================] - 1s 5ms/step - loss: 0.8974 - accuracy: 0.6397 - val_loss: 0.9084 - val_accuracy: 0.6860\n",
            "Epoch 326/500\n",
            "104/104 [==============================] - 0s 5ms/step - loss: 0.9130 - accuracy: 0.6354 - val_loss: 0.9332 - val_accuracy: 0.6522\n",
            "Epoch 327/500\n",
            "104/104 [==============================] - 1s 5ms/step - loss: 0.8813 - accuracy: 0.6542 - val_loss: 0.8935 - val_accuracy: 0.6812\n",
            "Epoch 328/500\n",
            "104/104 [==============================] - 0s 5ms/step - loss: 0.8756 - accuracy: 0.6475 - val_loss: 0.9187 - val_accuracy: 0.6522\n",
            "Epoch 329/500\n",
            "104/104 [==============================] - 1s 5ms/step - loss: 0.9005 - accuracy: 0.6475 - val_loss: 0.8990 - val_accuracy: 0.6763\n",
            "Epoch 330/500\n",
            "104/104 [==============================] - 0s 5ms/step - loss: 0.8744 - accuracy: 0.6626 - val_loss: 0.9002 - val_accuracy: 0.6763\n",
            "Epoch 331/500\n",
            "104/104 [==============================] - 0s 5ms/step - loss: 0.8763 - accuracy: 0.6475 - val_loss: 0.8996 - val_accuracy: 0.6812\n",
            "Epoch 332/500\n",
            "104/104 [==============================] - 0s 5ms/step - loss: 0.8822 - accuracy: 0.6511 - val_loss: 0.9003 - val_accuracy: 0.6860\n",
            "Epoch 333/500\n",
            "104/104 [==============================] - 1s 5ms/step - loss: 0.8745 - accuracy: 0.6481 - val_loss: 0.9076 - val_accuracy: 0.6715\n",
            "Epoch 334/500\n",
            "104/104 [==============================] - 1s 5ms/step - loss: 0.8712 - accuracy: 0.6578 - val_loss: 0.8948 - val_accuracy: 0.6908\n",
            "Epoch 335/500\n",
            "104/104 [==============================] - 1s 5ms/step - loss: 0.8864 - accuracy: 0.6536 - val_loss: 0.8918 - val_accuracy: 0.6908\n",
            "Epoch 336/500\n",
            "104/104 [==============================] - 1s 5ms/step - loss: 0.9143 - accuracy: 0.6342 - val_loss: 0.9016 - val_accuracy: 0.7005\n",
            "Epoch 337/500\n",
            "104/104 [==============================] - 1s 5ms/step - loss: 0.8726 - accuracy: 0.6620 - val_loss: 0.9001 - val_accuracy: 0.6812\n",
            "Epoch 338/500\n",
            "104/104 [==============================] - 1s 5ms/step - loss: 0.8859 - accuracy: 0.6421 - val_loss: 0.8847 - val_accuracy: 0.6860\n",
            "Epoch 339/500\n",
            "104/104 [==============================] - 1s 5ms/step - loss: 0.8611 - accuracy: 0.6626 - val_loss: 0.8883 - val_accuracy: 0.7101\n",
            "Epoch 340/500\n",
            "104/104 [==============================] - 1s 5ms/step - loss: 0.8837 - accuracy: 0.6409 - val_loss: 0.8871 - val_accuracy: 0.7005\n",
            "Epoch 341/500\n",
            "104/104 [==============================] - 1s 6ms/step - loss: 0.8861 - accuracy: 0.6566 - val_loss: 0.8985 - val_accuracy: 0.6908\n",
            "Epoch 342/500\n",
            "104/104 [==============================] - 1s 5ms/step - loss: 0.8651 - accuracy: 0.6657 - val_loss: 0.8982 - val_accuracy: 0.6715\n",
            "Epoch 343/500\n",
            "104/104 [==============================] - 1s 5ms/step - loss: 0.8709 - accuracy: 0.6421 - val_loss: 0.9008 - val_accuracy: 0.6473\n",
            "Epoch 344/500\n",
            "104/104 [==============================] - 1s 5ms/step - loss: 0.8884 - accuracy: 0.6554 - val_loss: 0.8902 - val_accuracy: 0.6763\n",
            "Epoch 345/500\n",
            "104/104 [==============================] - 0s 5ms/step - loss: 0.8762 - accuracy: 0.6620 - val_loss: 0.8812 - val_accuracy: 0.7005\n",
            "Epoch 346/500\n",
            "104/104 [==============================] - 0s 5ms/step - loss: 0.8587 - accuracy: 0.6584 - val_loss: 0.8912 - val_accuracy: 0.6908\n",
            "Epoch 347/500\n",
            "104/104 [==============================] - 1s 5ms/step - loss: 0.8607 - accuracy: 0.6669 - val_loss: 0.8887 - val_accuracy: 0.7053\n",
            "Epoch 348/500\n",
            "104/104 [==============================] - 1s 5ms/step - loss: 0.8664 - accuracy: 0.6572 - val_loss: 0.8816 - val_accuracy: 0.7053\n",
            "Epoch 349/500\n",
            "104/104 [==============================] - 1s 5ms/step - loss: 0.8687 - accuracy: 0.6554 - val_loss: 0.8726 - val_accuracy: 0.6957\n",
            "Epoch 350/500\n",
            "104/104 [==============================] - 0s 5ms/step - loss: 0.8538 - accuracy: 0.6602 - val_loss: 0.8821 - val_accuracy: 0.6812\n",
            "Epoch 351/500\n",
            "104/104 [==============================] - 1s 5ms/step - loss: 0.8757 - accuracy: 0.6445 - val_loss: 0.9058 - val_accuracy: 0.6570\n",
            "Epoch 352/500\n",
            "104/104 [==============================] - 1s 5ms/step - loss: 0.8733 - accuracy: 0.6475 - val_loss: 0.8820 - val_accuracy: 0.7053\n",
            "Epoch 353/500\n",
            "104/104 [==============================] - 0s 5ms/step - loss: 0.8590 - accuracy: 0.6499 - val_loss: 0.8814 - val_accuracy: 0.7005\n",
            "Epoch 354/500\n",
            "104/104 [==============================] - 0s 5ms/step - loss: 0.8606 - accuracy: 0.6578 - val_loss: 0.8705 - val_accuracy: 0.6812\n",
            "Epoch 355/500\n",
            "104/104 [==============================] - 1s 5ms/step - loss: 0.8558 - accuracy: 0.6602 - val_loss: 0.8885 - val_accuracy: 0.6618\n",
            "Epoch 356/500\n",
            "104/104 [==============================] - 1s 5ms/step - loss: 0.8532 - accuracy: 0.6644 - val_loss: 0.8718 - val_accuracy: 0.7150\n",
            "Epoch 357/500\n",
            "104/104 [==============================] - 1s 5ms/step - loss: 0.8431 - accuracy: 0.6638 - val_loss: 0.8579 - val_accuracy: 0.7198\n",
            "Epoch 358/500\n",
            "104/104 [==============================] - 1s 5ms/step - loss: 0.8390 - accuracy: 0.6765 - val_loss: 0.8712 - val_accuracy: 0.6715\n",
            "Epoch 359/500\n",
            "104/104 [==============================] - 1s 5ms/step - loss: 0.8822 - accuracy: 0.6487 - val_loss: 0.8888 - val_accuracy: 0.6860\n",
            "Epoch 360/500\n",
            "104/104 [==============================] - 1s 5ms/step - loss: 0.8424 - accuracy: 0.6675 - val_loss: 0.8702 - val_accuracy: 0.6957\n",
            "Epoch 361/500\n",
            "104/104 [==============================] - 1s 5ms/step - loss: 0.8280 - accuracy: 0.6778 - val_loss: 0.8652 - val_accuracy: 0.7101\n",
            "Epoch 362/500\n",
            "104/104 [==============================] - 1s 5ms/step - loss: 0.8492 - accuracy: 0.6681 - val_loss: 0.8531 - val_accuracy: 0.7005\n",
            "Epoch 363/500\n",
            "104/104 [==============================] - 0s 5ms/step - loss: 0.8251 - accuracy: 0.6693 - val_loss: 0.8582 - val_accuracy: 0.7005\n",
            "Epoch 364/500\n",
            "104/104 [==============================] - 0s 5ms/step - loss: 0.8349 - accuracy: 0.6699 - val_loss: 0.8629 - val_accuracy: 0.7150\n",
            "Epoch 365/500\n",
            "104/104 [==============================] - 1s 5ms/step - loss: 0.8305 - accuracy: 0.6723 - val_loss: 0.8580 - val_accuracy: 0.6812\n",
            "Epoch 366/500\n",
            "104/104 [==============================] - 1s 5ms/step - loss: 0.8574 - accuracy: 0.6638 - val_loss: 0.8611 - val_accuracy: 0.6763\n",
            "Epoch 367/500\n",
            "104/104 [==============================] - 0s 5ms/step - loss: 0.8426 - accuracy: 0.6675 - val_loss: 0.8565 - val_accuracy: 0.7053\n",
            "Epoch 368/500\n",
            "104/104 [==============================] - 1s 5ms/step - loss: 0.8414 - accuracy: 0.6644 - val_loss: 0.8573 - val_accuracy: 0.7053\n",
            "Epoch 369/500\n",
            "104/104 [==============================] - 1s 5ms/step - loss: 0.8423 - accuracy: 0.6554 - val_loss: 0.8619 - val_accuracy: 0.6957\n",
            "Epoch 370/500\n",
            "104/104 [==============================] - 1s 5ms/step - loss: 0.8302 - accuracy: 0.6687 - val_loss: 0.8631 - val_accuracy: 0.6860\n",
            "Epoch 371/500\n",
            "104/104 [==============================] - 1s 5ms/step - loss: 0.8404 - accuracy: 0.6644 - val_loss: 0.8514 - val_accuracy: 0.7150\n",
            "Epoch 372/500\n",
            "104/104 [==============================] - 1s 5ms/step - loss: 0.8296 - accuracy: 0.6765 - val_loss: 0.8676 - val_accuracy: 0.6763\n",
            "Epoch 373/500\n",
            "104/104 [==============================] - 1s 5ms/step - loss: 0.8330 - accuracy: 0.6729 - val_loss: 0.8561 - val_accuracy: 0.6812\n",
            "Epoch 374/500\n",
            "104/104 [==============================] - 0s 5ms/step - loss: 0.8344 - accuracy: 0.6651 - val_loss: 0.8738 - val_accuracy: 0.6425\n",
            "Epoch 375/500\n",
            "104/104 [==============================] - 1s 5ms/step - loss: 0.8400 - accuracy: 0.6584 - val_loss: 0.8699 - val_accuracy: 0.6812\n",
            "Epoch 376/500\n",
            "104/104 [==============================] - 1s 5ms/step - loss: 0.8454 - accuracy: 0.6644 - val_loss: 0.8735 - val_accuracy: 0.6957\n",
            "Epoch 377/500\n",
            "104/104 [==============================] - 1s 5ms/step - loss: 0.8296 - accuracy: 0.6844 - val_loss: 0.8614 - val_accuracy: 0.6908\n",
            "Epoch 378/500\n",
            "104/104 [==============================] - 1s 5ms/step - loss: 0.8269 - accuracy: 0.6808 - val_loss: 0.8661 - val_accuracy: 0.6957\n",
            "Epoch 379/500\n",
            "104/104 [==============================] - 1s 5ms/step - loss: 0.8538 - accuracy: 0.6548 - val_loss: 0.8624 - val_accuracy: 0.7005\n",
            "Epoch 380/500\n",
            "104/104 [==============================] - 1s 5ms/step - loss: 0.8328 - accuracy: 0.6753 - val_loss: 0.8643 - val_accuracy: 0.6860\n",
            "Epoch 381/500\n",
            "104/104 [==============================] - 0s 5ms/step - loss: 0.8225 - accuracy: 0.6832 - val_loss: 0.8502 - val_accuracy: 0.6957\n",
            "Epoch 382/500\n",
            "104/104 [==============================] - 1s 5ms/step - loss: 0.8272 - accuracy: 0.6759 - val_loss: 0.8835 - val_accuracy: 0.6522\n",
            "Epoch 383/500\n",
            "104/104 [==============================] - 1s 5ms/step - loss: 0.8344 - accuracy: 0.6626 - val_loss: 0.8658 - val_accuracy: 0.7005\n",
            "Epoch 384/500\n",
            "104/104 [==============================] - 0s 5ms/step - loss: 0.8314 - accuracy: 0.6687 - val_loss: 0.8906 - val_accuracy: 0.6763\n",
            "Epoch 385/500\n",
            "104/104 [==============================] - 1s 5ms/step - loss: 0.8264 - accuracy: 0.6790 - val_loss: 0.8690 - val_accuracy: 0.6763\n",
            "Epoch 386/500\n",
            "104/104 [==============================] - 1s 6ms/step - loss: 0.8179 - accuracy: 0.6753 - val_loss: 0.8542 - val_accuracy: 0.7101\n",
            "Epoch 387/500\n",
            "104/104 [==============================] - 1s 5ms/step - loss: 0.8146 - accuracy: 0.6771 - val_loss: 0.8827 - val_accuracy: 0.6715\n",
            "Epoch 388/500\n",
            "104/104 [==============================] - 1s 5ms/step - loss: 0.8085 - accuracy: 0.6729 - val_loss: 0.8561 - val_accuracy: 0.7053\n",
            "Epoch 389/500\n",
            "104/104 [==============================] - 1s 5ms/step - loss: 0.8138 - accuracy: 0.6771 - val_loss: 0.8622 - val_accuracy: 0.6860\n",
            "Epoch 390/500\n",
            "104/104 [==============================] - 1s 5ms/step - loss: 0.8221 - accuracy: 0.6759 - val_loss: 0.8412 - val_accuracy: 0.6957\n",
            "Epoch 391/500\n",
            "104/104 [==============================] - 1s 5ms/step - loss: 0.8190 - accuracy: 0.6771 - val_loss: 0.8653 - val_accuracy: 0.6812\n",
            "Epoch 392/500\n",
            "104/104 [==============================] - 1s 5ms/step - loss: 0.8204 - accuracy: 0.6832 - val_loss: 0.8477 - val_accuracy: 0.6908\n",
            "Epoch 393/500\n",
            "104/104 [==============================] - 1s 5ms/step - loss: 0.8096 - accuracy: 0.6717 - val_loss: 0.8559 - val_accuracy: 0.6812\n",
            "Epoch 394/500\n",
            "104/104 [==============================] - 1s 5ms/step - loss: 0.7948 - accuracy: 0.6935 - val_loss: 0.8327 - val_accuracy: 0.7101\n",
            "Epoch 395/500\n",
            "104/104 [==============================] - 1s 5ms/step - loss: 0.8041 - accuracy: 0.6826 - val_loss: 0.8510 - val_accuracy: 0.6957\n",
            "Epoch 396/500\n",
            "104/104 [==============================] - 0s 5ms/step - loss: 0.8133 - accuracy: 0.6796 - val_loss: 0.8578 - val_accuracy: 0.7005\n",
            "Epoch 397/500\n",
            "104/104 [==============================] - 1s 5ms/step - loss: 0.7964 - accuracy: 0.6856 - val_loss: 0.8601 - val_accuracy: 0.6957\n",
            "Epoch 398/500\n",
            "104/104 [==============================] - 1s 5ms/step - loss: 0.7896 - accuracy: 0.7007 - val_loss: 0.8700 - val_accuracy: 0.6473\n",
            "Epoch 399/500\n",
            "104/104 [==============================] - 1s 5ms/step - loss: 0.7959 - accuracy: 0.6856 - val_loss: 0.8198 - val_accuracy: 0.7005\n",
            "Epoch 400/500\n",
            "104/104 [==============================] - 1s 5ms/step - loss: 0.7958 - accuracy: 0.6826 - val_loss: 0.8507 - val_accuracy: 0.6908\n",
            "Epoch 401/500\n",
            "104/104 [==============================] - 1s 5ms/step - loss: 0.7674 - accuracy: 0.6911 - val_loss: 0.8194 - val_accuracy: 0.6957\n",
            "Epoch 402/500\n",
            "104/104 [==============================] - 1s 5ms/step - loss: 0.8150 - accuracy: 0.6784 - val_loss: 0.8474 - val_accuracy: 0.7053\n",
            "Epoch 403/500\n",
            "104/104 [==============================] - 1s 5ms/step - loss: 0.7743 - accuracy: 0.6977 - val_loss: 0.8254 - val_accuracy: 0.6957\n",
            "Epoch 404/500\n",
            "104/104 [==============================] - 1s 5ms/step - loss: 0.8146 - accuracy: 0.6669 - val_loss: 0.8327 - val_accuracy: 0.6860\n",
            "Epoch 405/500\n",
            "104/104 [==============================] - 1s 6ms/step - loss: 0.7972 - accuracy: 0.6917 - val_loss: 0.8325 - val_accuracy: 0.7198\n",
            "Epoch 406/500\n",
            "104/104 [==============================] - 1s 5ms/step - loss: 0.7857 - accuracy: 0.6904 - val_loss: 0.8304 - val_accuracy: 0.6908\n",
            "Epoch 407/500\n",
            "104/104 [==============================] - 1s 5ms/step - loss: 0.7942 - accuracy: 0.6838 - val_loss: 0.8317 - val_accuracy: 0.7150\n",
            "Epoch 408/500\n",
            "104/104 [==============================] - 1s 5ms/step - loss: 0.8154 - accuracy: 0.6850 - val_loss: 0.8236 - val_accuracy: 0.7295\n",
            "Epoch 409/500\n",
            "104/104 [==============================] - 1s 5ms/step - loss: 0.7906 - accuracy: 0.6880 - val_loss: 0.8309 - val_accuracy: 0.6715\n",
            "Epoch 410/500\n",
            "104/104 [==============================] - 1s 5ms/step - loss: 0.7712 - accuracy: 0.6953 - val_loss: 0.8188 - val_accuracy: 0.7101\n",
            "Epoch 411/500\n",
            "104/104 [==============================] - 0s 5ms/step - loss: 0.7882 - accuracy: 0.6862 - val_loss: 0.8499 - val_accuracy: 0.6473\n",
            "Epoch 412/500\n",
            "104/104 [==============================] - 1s 5ms/step - loss: 0.8014 - accuracy: 0.6965 - val_loss: 0.8310 - val_accuracy: 0.6860\n",
            "Epoch 413/500\n",
            "104/104 [==============================] - 1s 5ms/step - loss: 0.7826 - accuracy: 0.6886 - val_loss: 0.8278 - val_accuracy: 0.6715\n",
            "Epoch 414/500\n",
            "104/104 [==============================] - 1s 5ms/step - loss: 0.7962 - accuracy: 0.6802 - val_loss: 0.8536 - val_accuracy: 0.6377\n",
            "Epoch 415/500\n",
            "104/104 [==============================] - 1s 5ms/step - loss: 0.8049 - accuracy: 0.6711 - val_loss: 0.8423 - val_accuracy: 0.6957\n",
            "Epoch 416/500\n",
            "104/104 [==============================] - 1s 5ms/step - loss: 0.7698 - accuracy: 0.6971 - val_loss: 0.8355 - val_accuracy: 0.6812\n",
            "Epoch 417/500\n",
            "104/104 [==============================] - 1s 5ms/step - loss: 0.7747 - accuracy: 0.6923 - val_loss: 0.8361 - val_accuracy: 0.6957\n",
            "Epoch 418/500\n",
            "104/104 [==============================] - 1s 5ms/step - loss: 0.7789 - accuracy: 0.6778 - val_loss: 0.8409 - val_accuracy: 0.6763\n",
            "Epoch 419/500\n",
            "104/104 [==============================] - 1s 5ms/step - loss: 0.7541 - accuracy: 0.6959 - val_loss: 0.8186 - val_accuracy: 0.7295\n",
            "Epoch 420/500\n",
            "104/104 [==============================] - 0s 5ms/step - loss: 0.7802 - accuracy: 0.6904 - val_loss: 0.8233 - val_accuracy: 0.7005\n",
            "Epoch 421/500\n",
            "104/104 [==============================] - 1s 5ms/step - loss: 0.7679 - accuracy: 0.6953 - val_loss: 0.8296 - val_accuracy: 0.6860\n",
            "Epoch 422/500\n",
            "104/104 [==============================] - 0s 5ms/step - loss: 0.7859 - accuracy: 0.6814 - val_loss: 0.8340 - val_accuracy: 0.6860\n",
            "Epoch 423/500\n",
            "104/104 [==============================] - 1s 6ms/step - loss: 0.7846 - accuracy: 0.6904 - val_loss: 0.8316 - val_accuracy: 0.6908\n",
            "Epoch 424/500\n",
            "104/104 [==============================] - 1s 5ms/step - loss: 0.7733 - accuracy: 0.6856 - val_loss: 0.8282 - val_accuracy: 0.6860\n",
            "Epoch 425/500\n",
            "104/104 [==============================] - 1s 5ms/step - loss: 0.7586 - accuracy: 0.6995 - val_loss: 0.8213 - val_accuracy: 0.7005\n",
            "Epoch 426/500\n",
            "104/104 [==============================] - 1s 5ms/step - loss: 0.7792 - accuracy: 0.6898 - val_loss: 0.8289 - val_accuracy: 0.6957\n",
            "Epoch 427/500\n",
            "104/104 [==============================] - 1s 5ms/step - loss: 0.8080 - accuracy: 0.6759 - val_loss: 0.8213 - val_accuracy: 0.7101\n",
            "Epoch 428/500\n",
            "104/104 [==============================] - 1s 5ms/step - loss: 0.7629 - accuracy: 0.6989 - val_loss: 0.8151 - val_accuracy: 0.7101\n",
            "Epoch 429/500\n",
            "104/104 [==============================] - 1s 5ms/step - loss: 0.7761 - accuracy: 0.6995 - val_loss: 0.8041 - val_accuracy: 0.7246\n",
            "Epoch 430/500\n",
            "104/104 [==============================] - 1s 5ms/step - loss: 0.7639 - accuracy: 0.6995 - val_loss: 0.8200 - val_accuracy: 0.6957\n",
            "Epoch 431/500\n",
            "104/104 [==============================] - 1s 5ms/step - loss: 0.7779 - accuracy: 0.6989 - val_loss: 0.8248 - val_accuracy: 0.7053\n",
            "Epoch 432/500\n",
            "104/104 [==============================] - 1s 5ms/step - loss: 0.7712 - accuracy: 0.6947 - val_loss: 0.8304 - val_accuracy: 0.7198\n",
            "Epoch 433/500\n",
            "104/104 [==============================] - 1s 5ms/step - loss: 0.7632 - accuracy: 0.7062 - val_loss: 0.8369 - val_accuracy: 0.6812\n",
            "Epoch 434/500\n",
            "104/104 [==============================] - 1s 5ms/step - loss: 0.7791 - accuracy: 0.6923 - val_loss: 0.8278 - val_accuracy: 0.7053\n",
            "Epoch 435/500\n",
            "104/104 [==============================] - 1s 5ms/step - loss: 0.7643 - accuracy: 0.6917 - val_loss: 0.8281 - val_accuracy: 0.6908\n",
            "Epoch 436/500\n",
            "104/104 [==============================] - 1s 5ms/step - loss: 0.7596 - accuracy: 0.7031 - val_loss: 0.8387 - val_accuracy: 0.6860\n",
            "Epoch 437/500\n",
            "104/104 [==============================] - 1s 5ms/step - loss: 0.7777 - accuracy: 0.6947 - val_loss: 0.8337 - val_accuracy: 0.7053\n",
            "Epoch 438/500\n",
            "104/104 [==============================] - 1s 5ms/step - loss: 0.7720 - accuracy: 0.6917 - val_loss: 0.8247 - val_accuracy: 0.7005\n",
            "Epoch 439/500\n",
            "104/104 [==============================] - 1s 5ms/step - loss: 0.7483 - accuracy: 0.7025 - val_loss: 0.8304 - val_accuracy: 0.6957\n",
            "Epoch 440/500\n",
            "104/104 [==============================] - 1s 5ms/step - loss: 0.7944 - accuracy: 0.6814 - val_loss: 0.8303 - val_accuracy: 0.7198\n",
            "Epoch 441/500\n",
            "104/104 [==============================] - 1s 5ms/step - loss: 0.7704 - accuracy: 0.6874 - val_loss: 0.8360 - val_accuracy: 0.6667\n",
            "Epoch 442/500\n",
            "104/104 [==============================] - 1s 5ms/step - loss: 0.7803 - accuracy: 0.6959 - val_loss: 0.8164 - val_accuracy: 0.6860\n",
            "Epoch 443/500\n",
            "104/104 [==============================] - 1s 5ms/step - loss: 0.7591 - accuracy: 0.7013 - val_loss: 0.8205 - val_accuracy: 0.6908\n",
            "Epoch 444/500\n",
            "104/104 [==============================] - 1s 5ms/step - loss: 0.7623 - accuracy: 0.6989 - val_loss: 0.8157 - val_accuracy: 0.7150\n",
            "Epoch 445/500\n",
            "104/104 [==============================] - 1s 5ms/step - loss: 0.7653 - accuracy: 0.6904 - val_loss: 0.8018 - val_accuracy: 0.7101\n",
            "Epoch 446/500\n",
            "104/104 [==============================] - 1s 5ms/step - loss: 0.7632 - accuracy: 0.6935 - val_loss: 0.8151 - val_accuracy: 0.6908\n",
            "Epoch 447/500\n",
            "104/104 [==============================] - 1s 6ms/step - loss: 0.7453 - accuracy: 0.7080 - val_loss: 0.8084 - val_accuracy: 0.6860\n",
            "Epoch 448/500\n",
            "104/104 [==============================] - 1s 5ms/step - loss: 0.7476 - accuracy: 0.6917 - val_loss: 0.8114 - val_accuracy: 0.6957\n",
            "Epoch 449/500\n",
            "104/104 [==============================] - 1s 5ms/step - loss: 0.7399 - accuracy: 0.7092 - val_loss: 0.8220 - val_accuracy: 0.6957\n",
            "Epoch 450/500\n",
            "104/104 [==============================] - 1s 5ms/step - loss: 0.7488 - accuracy: 0.6953 - val_loss: 0.8043 - val_accuracy: 0.6957\n",
            "Epoch 451/500\n",
            "104/104 [==============================] - 1s 5ms/step - loss: 0.7483 - accuracy: 0.7080 - val_loss: 0.8029 - val_accuracy: 0.7150\n",
            "Epoch 452/500\n",
            "104/104 [==============================] - 1s 5ms/step - loss: 0.7261 - accuracy: 0.7134 - val_loss: 0.8129 - val_accuracy: 0.7101\n",
            "Epoch 453/500\n",
            "104/104 [==============================] - 1s 5ms/step - loss: 0.7579 - accuracy: 0.7050 - val_loss: 0.7990 - val_accuracy: 0.7053\n",
            "Epoch 454/500\n",
            "104/104 [==============================] - 1s 5ms/step - loss: 0.7397 - accuracy: 0.7213 - val_loss: 0.8036 - val_accuracy: 0.7391\n",
            "Epoch 455/500\n",
            "104/104 [==============================] - 1s 5ms/step - loss: 0.7518 - accuracy: 0.7013 - val_loss: 0.8083 - val_accuracy: 0.7246\n",
            "Epoch 456/500\n",
            "104/104 [==============================] - 1s 5ms/step - loss: 0.7307 - accuracy: 0.7110 - val_loss: 0.8142 - val_accuracy: 0.7005\n",
            "Epoch 457/500\n",
            "104/104 [==============================] - 1s 5ms/step - loss: 0.7486 - accuracy: 0.6983 - val_loss: 0.8050 - val_accuracy: 0.7150\n",
            "Epoch 458/500\n",
            "104/104 [==============================] - 1s 5ms/step - loss: 0.7375 - accuracy: 0.7050 - val_loss: 0.8022 - val_accuracy: 0.7295\n",
            "Epoch 459/500\n",
            "104/104 [==============================] - 1s 5ms/step - loss: 0.7341 - accuracy: 0.7134 - val_loss: 0.8031 - val_accuracy: 0.6860\n",
            "Epoch 460/500\n",
            "104/104 [==============================] - 1s 6ms/step - loss: 0.7517 - accuracy: 0.6911 - val_loss: 0.8140 - val_accuracy: 0.7005\n",
            "Epoch 461/500\n",
            "104/104 [==============================] - 1s 5ms/step - loss: 0.7263 - accuracy: 0.7158 - val_loss: 0.8076 - val_accuracy: 0.6957\n",
            "Epoch 462/500\n",
            "104/104 [==============================] - 1s 6ms/step - loss: 0.7351 - accuracy: 0.7007 - val_loss: 0.8237 - val_accuracy: 0.6908\n",
            "Epoch 463/500\n",
            "104/104 [==============================] - 1s 5ms/step - loss: 0.7377 - accuracy: 0.7092 - val_loss: 0.8301 - val_accuracy: 0.6860\n",
            "Epoch 464/500\n",
            "104/104 [==============================] - 1s 6ms/step - loss: 0.7346 - accuracy: 0.7098 - val_loss: 0.8150 - val_accuracy: 0.6908\n",
            "Epoch 465/500\n",
            "104/104 [==============================] - 1s 5ms/step - loss: 0.7438 - accuracy: 0.7116 - val_loss: 0.8021 - val_accuracy: 0.7005\n",
            "Epoch 466/500\n",
            "104/104 [==============================] - 1s 5ms/step - loss: 0.7632 - accuracy: 0.6826 - val_loss: 0.8049 - val_accuracy: 0.6812\n",
            "Epoch 467/500\n",
            "104/104 [==============================] - 1s 5ms/step - loss: 0.7188 - accuracy: 0.7146 - val_loss: 0.8225 - val_accuracy: 0.6570\n",
            "Epoch 468/500\n",
            "104/104 [==============================] - 1s 5ms/step - loss: 0.7393 - accuracy: 0.7128 - val_loss: 0.8126 - val_accuracy: 0.6812\n",
            "Epoch 469/500\n",
            "104/104 [==============================] - 1s 5ms/step - loss: 0.7323 - accuracy: 0.7134 - val_loss: 0.7930 - val_accuracy: 0.7246\n",
            "Epoch 470/500\n",
            "104/104 [==============================] - 1s 6ms/step - loss: 0.7230 - accuracy: 0.7092 - val_loss: 0.8011 - val_accuracy: 0.7005\n",
            "Epoch 471/500\n",
            "104/104 [==============================] - 1s 6ms/step - loss: 0.7226 - accuracy: 0.7164 - val_loss: 0.8021 - val_accuracy: 0.7101\n",
            "Epoch 472/500\n",
            "104/104 [==============================] - 1s 5ms/step - loss: 0.7335 - accuracy: 0.7092 - val_loss: 0.8096 - val_accuracy: 0.6860\n",
            "Epoch 473/500\n",
            "104/104 [==============================] - 1s 6ms/step - loss: 0.7224 - accuracy: 0.7044 - val_loss: 0.8083 - val_accuracy: 0.6812\n",
            "Epoch 474/500\n",
            "104/104 [==============================] - 1s 5ms/step - loss: 0.7107 - accuracy: 0.7110 - val_loss: 0.8007 - val_accuracy: 0.7198\n",
            "Epoch 475/500\n",
            "104/104 [==============================] - 1s 5ms/step - loss: 0.7117 - accuracy: 0.7056 - val_loss: 0.7755 - val_accuracy: 0.7101\n",
            "Epoch 476/500\n",
            "104/104 [==============================] - 1s 6ms/step - loss: 0.7275 - accuracy: 0.7134 - val_loss: 0.7861 - val_accuracy: 0.7005\n",
            "Epoch 477/500\n",
            "104/104 [==============================] - 1s 5ms/step - loss: 0.7248 - accuracy: 0.7152 - val_loss: 0.8042 - val_accuracy: 0.6860\n",
            "Epoch 478/500\n",
            "104/104 [==============================] - 1s 5ms/step - loss: 0.7370 - accuracy: 0.7225 - val_loss: 0.8123 - val_accuracy: 0.6812\n",
            "Epoch 479/500\n",
            "104/104 [==============================] - 1s 5ms/step - loss: 0.7218 - accuracy: 0.7195 - val_loss: 0.8057 - val_accuracy: 0.6957\n",
            "Epoch 480/500\n",
            "104/104 [==============================] - 1s 5ms/step - loss: 0.7332 - accuracy: 0.7189 - val_loss: 0.8119 - val_accuracy: 0.6763\n",
            "Epoch 481/500\n",
            "104/104 [==============================] - 1s 5ms/step - loss: 0.7241 - accuracy: 0.7158 - val_loss: 0.7911 - val_accuracy: 0.6908\n",
            "Epoch 482/500\n",
            "104/104 [==============================] - 1s 5ms/step - loss: 0.7131 - accuracy: 0.7128 - val_loss: 0.7885 - val_accuracy: 0.7101\n",
            "Epoch 483/500\n",
            "104/104 [==============================] - 1s 5ms/step - loss: 0.7343 - accuracy: 0.7110 - val_loss: 0.8013 - val_accuracy: 0.7053\n",
            "Epoch 484/500\n",
            "104/104 [==============================] - 1s 6ms/step - loss: 0.7280 - accuracy: 0.7189 - val_loss: 0.8304 - val_accuracy: 0.6715\n",
            "Epoch 485/500\n",
            "104/104 [==============================] - 1s 5ms/step - loss: 0.7156 - accuracy: 0.7207 - val_loss: 0.7955 - val_accuracy: 0.7295\n",
            "Epoch 486/500\n",
            "104/104 [==============================] - 1s 5ms/step - loss: 0.7169 - accuracy: 0.7225 - val_loss: 0.7933 - val_accuracy: 0.7150\n",
            "Epoch 487/500\n",
            "104/104 [==============================] - 1s 5ms/step - loss: 0.7168 - accuracy: 0.7213 - val_loss: 0.7945 - val_accuracy: 0.6908\n",
            "Epoch 488/500\n",
            "104/104 [==============================] - 1s 5ms/step - loss: 0.7040 - accuracy: 0.7291 - val_loss: 0.7898 - val_accuracy: 0.7101\n",
            "Epoch 489/500\n",
            "104/104 [==============================] - 1s 5ms/step - loss: 0.7125 - accuracy: 0.7025 - val_loss: 0.7962 - val_accuracy: 0.6957\n",
            "Epoch 490/500\n",
            "104/104 [==============================] - 1s 6ms/step - loss: 0.7155 - accuracy: 0.7231 - val_loss: 0.8018 - val_accuracy: 0.6908\n",
            "Epoch 491/500\n",
            "104/104 [==============================] - 1s 6ms/step - loss: 0.7364 - accuracy: 0.7207 - val_loss: 0.7816 - val_accuracy: 0.7150\n",
            "Epoch 492/500\n",
            "104/104 [==============================] - 1s 6ms/step - loss: 0.7242 - accuracy: 0.7237 - val_loss: 0.7823 - val_accuracy: 0.7005\n",
            "Epoch 493/500\n",
            "104/104 [==============================] - 1s 5ms/step - loss: 0.7018 - accuracy: 0.7219 - val_loss: 0.8006 - val_accuracy: 0.6957\n",
            "Epoch 494/500\n",
            "104/104 [==============================] - 1s 5ms/step - loss: 0.7026 - accuracy: 0.7273 - val_loss: 0.7889 - val_accuracy: 0.6957\n",
            "Epoch 495/500\n",
            "104/104 [==============================] - 1s 5ms/step - loss: 0.7141 - accuracy: 0.7249 - val_loss: 0.8099 - val_accuracy: 0.6860\n",
            "Epoch 496/500\n",
            "104/104 [==============================] - 1s 5ms/step - loss: 0.7185 - accuracy: 0.7177 - val_loss: 0.7887 - val_accuracy: 0.7246\n",
            "Epoch 497/500\n",
            "104/104 [==============================] - 1s 5ms/step - loss: 0.7469 - accuracy: 0.7007 - val_loss: 0.7978 - val_accuracy: 0.6957\n",
            "Epoch 498/500\n",
            "104/104 [==============================] - 1s 5ms/step - loss: 0.7033 - accuracy: 0.7285 - val_loss: 0.8033 - val_accuracy: 0.7005\n",
            "Epoch 499/500\n",
            "104/104 [==============================] - 1s 5ms/step - loss: 0.7101 - accuracy: 0.7158 - val_loss: 0.8141 - val_accuracy: 0.6667\n",
            "Epoch 500/500\n",
            "104/104 [==============================] - 1s 5ms/step - loss: 0.7299 - accuracy: 0.7056 - val_loss: 0.8127 - val_accuracy: 0.7005\n"
          ]
        }
      ]
    },
    {
      "cell_type": "code",
      "source": [
        "plt.plot(cnnhistory.history['loss'])\n",
        "plt.plot(cnnhistory.history['val_loss'])\n",
        "plt.title('model loss')\n",
        "plt.ylabel('loss')\n",
        "plt.xlabel('epoch')\n",
        "plt.legend(['train','test'], loc='upper left')\n",
        "plt.show()"
      ],
      "metadata": {
        "colab": {
          "base_uri": "https://localhost:8080/",
          "height": 295
        },
        "id": "oQYnuaCrDH_A",
        "outputId": "fb88a1e9-73d1-4778-9862-8836efab341d"
      },
      "execution_count": 20,
      "outputs": [
        {
          "output_type": "display_data",
          "data": {
            "text/plain": [
              "<Figure size 432x288 with 1 Axes>"
            ],
            "image/png": "[encoded data removed]"
          },
          "metadata": {
            "needs_background": "light"
          }
        }
      ]
    },
    {
      "cell_type": "code",
      "source": [
        "plt.plot(cnnhistory.history['accuracy'])\n",
        "plt.plot(cnnhistory.history['val_accuracy'])\n",
        "plt.title('model accuracy')\n",
        "plt.ylabel('accuracy')\n",
        "plt.xlabel('epoch')\n",
        "plt.legend(['train','test'], loc='upper left')\n",
        "plt.show()"
      ],
      "metadata": {
        "colab": {
          "base_uri": "https://localhost:8080/",
          "height": 295
        },
        "id": "IFkTuO8nDNdq",
        "outputId": "ca5b08c5-6b79-4c23-d987-b36fb2ad09e4"
      },
      "execution_count": 21,
      "outputs": [
        {
          "output_type": "display_data",
          "data": {
            "text/plain": [
              "<Figure size 432x288 with 1 Axes>"
            ],
            "image/png": "[encoded data removed]"
          },
          "metadata": {
            "needs_background": "light"
          }
        }
      ]
    },
    {
      "cell_type": "code",
      "source": [
        "#predictions = model.predict_classes(x_testcnn)\n",
        "predictions = model.predict(x_testcnn)"
      ],
      "metadata": {
        "id": "A2xtrN5wDQgY"
      },
      "execution_count": 22,
      "outputs": []
    },
    {
      "cell_type": "code",
      "source": [
        "predictions"
      ],
      "metadata": {
        "colab": {
          "base_uri": "https://localhost:8080/"
        },
        "id": "_f_ohjXKDUpY",
        "outputId": "525914ed-0363-468b-f184-27fdbb6a9565"
      },
      "execution_count": 23,
      "outputs": [
        {
          "output_type": "execute_result",
          "data": {
            "text/plain": [
              "array([[9.4453210e-04, 5.4121279e-04, 5.6306511e-02, 3.3903938e-02,\n",
              "        3.0966913e-02, 8.7733692e-01],\n",
              "       [1.2123181e-01, 6.5883386e-01, 8.0423787e-02, 6.7805342e-02,\n",
              "        2.5972595e-02, 4.5732565e-02],\n",
              "       [6.5230350e-05, 4.5736548e-03, 8.7787259e-01, 2.5060500e-03,\n",
              "        8.3951302e-02, 3.1031191e-02],\n",
              "       ...,\n",
              "       [2.8099468e-02, 1.2191996e-03, 1.5913999e-02, 4.5832761e-02,\n",
              "        6.3320380e-01, 2.7573076e-01],\n",
              "       [7.1584441e-02, 4.7539271e-02, 5.4103352e-02, 5.4771030e-01,\n",
              "        1.4261686e-02, 2.6480094e-01],\n",
              "       [1.8827081e-01, 1.7608345e-01, 1.5167679e-01, 1.1295052e-01,\n",
              "        3.3223999e-01, 3.8778424e-02]], dtype=float32)"
            ]
          },
          "metadata": {},
          "execution_count": 23
        }
      ]
    },
    {
      "cell_type": "code",
      "source": [
        "y_test"
      ],
      "metadata": {
        "colab": {
          "base_uri": "https://localhost:8080/"
        },
        "id": "cmA2bFgsDW3D",
        "outputId": "53dbefea-f279-423f-b43b-2500b46989b0"
      },
      "execution_count": 24,
      "outputs": [
        {
          "output_type": "execute_result",
          "data": {
            "text/plain": [
              "array([5, 1, 2, 5, 3, 4, 2, 0, 3, 1, 3, 2, 1, 4, 3, 0, 5, 0, 2, 5, 0, 0,\n",
              "       1, 3, 2, 3, 2, 5, 4, 2, 2, 3, 1, 2, 5, 5, 3, 5, 3, 3, 4, 1, 3, 2,\n",
              "       3, 1, 5, 3, 1, 2, 4, 4, 5, 5, 5, 1, 2, 3, 2, 5, 0, 2, 4, 2, 5, 4,\n",
              "       3, 0, 1, 2, 5, 2, 1, 2, 4, 5, 4, 1, 5, 5, 3, 1, 5, 3, 2, 4, 2, 5,\n",
              "       0, 5, 0, 5, 4, 0, 2, 4, 0, 2, 2, 0, 2, 3, 5, 3, 5, 5, 3, 1, 2, 2,\n",
              "       2, 1, 3, 2, 1, 3, 4, 4, 1, 1, 2, 4, 4, 1, 4, 2, 0, 4, 5, 5, 3, 1,\n",
              "       2, 1, 5, 5, 1, 2, 3, 3, 0, 3, 3, 0, 1, 0, 1, 2, 1, 5, 1, 2, 2, 0,\n",
              "       1, 1, 1, 1, 1, 4, 0, 1, 5, 1, 4, 5, 5, 4, 1, 0, 3, 5, 2, 3, 0, 4,\n",
              "       1, 3, 1, 0, 5, 5, 3, 5, 4, 5, 4, 0, 4, 1, 2, 1, 5, 0, 4, 3, 2, 1,\n",
              "       0, 3, 5, 0, 4, 5, 4, 5, 4])"
            ]
          },
          "metadata": {},
          "execution_count": 24
        }
      ]
    },
    {
      "cell_type": "code",
      "source": [
        "new_Ytest = y_test.astype(int)"
      ],
      "metadata": {
        "id": "0PHDKWJWDY3g"
      },
      "execution_count": 25,
      "outputs": []
    },
    {
      "cell_type": "code",
      "source": [
        "new_Ytest"
      ],
      "metadata": {
        "colab": {
          "base_uri": "https://localhost:8080/"
        },
        "id": "k68v2i-pDbZE",
        "outputId": "7bceb6eb-9b89-4051-e4c1-bdb90b412fee"
      },
      "execution_count": 26,
      "outputs": [
        {
          "output_type": "execute_result",
          "data": {
            "text/plain": [
              "array([5, 1, 2, 5, 3, 4, 2, 0, 3, 1, 3, 2, 1, 4, 3, 0, 5, 0, 2, 5, 0, 0,\n",
              "       1, 3, 2, 3, 2, 5, 4, 2, 2, 3, 1, 2, 5, 5, 3, 5, 3, 3, 4, 1, 3, 2,\n",
              "       3, 1, 5, 3, 1, 2, 4, 4, 5, 5, 5, 1, 2, 3, 2, 5, 0, 2, 4, 2, 5, 4,\n",
              "       3, 0, 1, 2, 5, 2, 1, 2, 4, 5, 4, 1, 5, 5, 3, 1, 5, 3, 2, 4, 2, 5,\n",
              "       0, 5, 0, 5, 4, 0, 2, 4, 0, 2, 2, 0, 2, 3, 5, 3, 5, 5, 3, 1, 2, 2,\n",
              "       2, 1, 3, 2, 1, 3, 4, 4, 1, 1, 2, 4, 4, 1, 4, 2, 0, 4, 5, 5, 3, 1,\n",
              "       2, 1, 5, 5, 1, 2, 3, 3, 0, 3, 3, 0, 1, 0, 1, 2, 1, 5, 1, 2, 2, 0,\n",
              "       1, 1, 1, 1, 1, 4, 0, 1, 5, 1, 4, 5, 5, 4, 1, 0, 3, 5, 2, 3, 0, 4,\n",
              "       1, 3, 1, 0, 5, 5, 3, 5, 4, 5, 4, 0, 4, 1, 2, 1, 5, 0, 4, 3, 2, 1,\n",
              "       0, 3, 5, 0, 4, 5, 4, 5, 4])"
            ]
          },
          "metadata": {},
          "execution_count": 26
        }
      ]
    },
    {
      "cell_type": "code",
      "source": [
        "preds1=predictions.argmax(axis=1)\n",
        "preds1"
      ],
      "metadata": {
        "colab": {
          "base_uri": "https://localhost:8080/"
        },
        "id": "4_cAI39VFhtp",
        "outputId": "19c6f577-d9cf-4696-b07a-7f18c7378e2f"
      },
      "execution_count": 27,
      "outputs": [
        {
          "output_type": "execute_result",
          "data": {
            "text/plain": [
              "array([5, 1, 2, 5, 0, 4, 2, 0, 3, 1, 3, 2, 1, 4, 3, 0, 5, 1, 2, 5, 3, 1,\n",
              "       1, 3, 2, 3, 2, 0, 2, 4, 2, 3, 1, 2, 5, 4, 1, 5, 3, 2, 3, 1, 2, 2,\n",
              "       3, 1, 3, 3, 1, 3, 4, 4, 5, 3, 3, 1, 2, 3, 2, 5, 0, 2, 2, 4, 5, 4,\n",
              "       2, 1, 0, 2, 5, 2, 1, 1, 4, 3, 4, 3, 5, 2, 3, 2, 5, 3, 2, 4, 2, 3,\n",
              "       0, 5, 0, 3, 4, 0, 3, 4, 3, 2, 2, 1, 2, 1, 0, 3, 5, 5, 5, 1, 2, 2,\n",
              "       2, 1, 3, 2, 1, 4, 4, 4, 1, 0, 2, 4, 4, 1, 4, 2, 3, 4, 3, 5, 5, 1,\n",
              "       1, 1, 2, 4, 1, 3, 3, 3, 0, 3, 3, 0, 0, 0, 1, 2, 0, 5, 1, 2, 4, 0,\n",
              "       1, 1, 1, 1, 0, 4, 0, 1, 5, 0, 5, 5, 4, 2, 1, 0, 5, 3, 2, 3, 3, 4,\n",
              "       1, 3, 1, 0, 5, 2, 3, 3, 4, 3, 4, 1, 3, 1, 2, 1, 3, 0, 4, 1, 2, 1,\n",
              "       1, 4, 5, 0, 5, 5, 4, 3, 4])"
            ]
          },
          "metadata": {},
          "execution_count": 27
        }
      ]
    },
    {
      "cell_type": "code",
      "source": [
        "abc = preds1.astype(int).flatten()"
      ],
      "metadata": {
        "id": "H4WEmM60NfQn"
      },
      "execution_count": 28,
      "outputs": []
    },
    {
      "cell_type": "code",
      "source": [
        "from sklearn.metrics import confusion_matrix\n",
        "c = confusion_matrix(new_Ytest, abc) \n",
        "c"
      ],
      "metadata": {
        "colab": {
          "base_uri": "https://localhost:8080/"
        },
        "id": "bKEBeEBlFjB8",
        "outputId": "bb6024a9-e7a9-4e63-cc3a-39b5e52657fd"
      },
      "execution_count": 29,
      "outputs": [
        {
          "output_type": "execute_result",
          "data": {
            "text/plain": [
              "array([[15,  6,  0,  4,  0,  0],\n",
              "       [ 6, 31,  1,  1,  0,  0],\n",
              "       [ 0,  2, 30,  3,  3,  0],\n",
              "       [ 1,  3,  3, 21,  2,  3],\n",
              "       [ 0,  0,  3,  2, 23,  2],\n",
              "       [ 2,  0,  3, 12,  3, 22]])"
            ]
          },
          "metadata": {},
          "execution_count": 29
        }
      ]
    },
    {
      "cell_type": "code",
      "source": [
        "y_test"
      ],
      "metadata": {
        "colab": {
          "base_uri": "https://localhost:8080/"
        },
        "id": "m4RjG7LWLSQx",
        "outputId": "bc78fafc-50c0-4567-85fb-45e40d65ee4b"
      },
      "execution_count": 30,
      "outputs": [
        {
          "output_type": "execute_result",
          "data": {
            "text/plain": [
              "array([5, 1, 2, 5, 3, 4, 2, 0, 3, 1, 3, 2, 1, 4, 3, 0, 5, 0, 2, 5, 0, 0,\n",
              "       1, 3, 2, 3, 2, 5, 4, 2, 2, 3, 1, 2, 5, 5, 3, 5, 3, 3, 4, 1, 3, 2,\n",
              "       3, 1, 5, 3, 1, 2, 4, 4, 5, 5, 5, 1, 2, 3, 2, 5, 0, 2, 4, 2, 5, 4,\n",
              "       3, 0, 1, 2, 5, 2, 1, 2, 4, 5, 4, 1, 5, 5, 3, 1, 5, 3, 2, 4, 2, 5,\n",
              "       0, 5, 0, 5, 4, 0, 2, 4, 0, 2, 2, 0, 2, 3, 5, 3, 5, 5, 3, 1, 2, 2,\n",
              "       2, 1, 3, 2, 1, 3, 4, 4, 1, 1, 2, 4, 4, 1, 4, 2, 0, 4, 5, 5, 3, 1,\n",
              "       2, 1, 5, 5, 1, 2, 3, 3, 0, 3, 3, 0, 1, 0, 1, 2, 1, 5, 1, 2, 2, 0,\n",
              "       1, 1, 1, 1, 1, 4, 0, 1, 5, 1, 4, 5, 5, 4, 1, 0, 3, 5, 2, 3, 0, 4,\n",
              "       1, 3, 1, 0, 5, 5, 3, 5, 4, 5, 4, 0, 4, 1, 2, 1, 5, 0, 4, 3, 2, 1,\n",
              "       0, 3, 5, 0, 4, 5, 4, 5, 4])"
            ]
          },
          "metadata": {},
          "execution_count": 30
        }
      ]
    },
    {
      "cell_type": "code",
      "source": [
        "model.save('/content/drive/MyDrive/model2')\n",
        "print(\"MODEL SAVED\")"
      ],
      "metadata": {
        "colab": {
          "base_uri": "https://localhost:8080/"
        },
        "id": "lsJBNeMWDl6Z",
        "outputId": "8335b8f8-9e3c-47f8-db10-05d4c02ee8e5"
      },
      "execution_count": 31,
      "outputs": [
        {
          "output_type": "stream",
          "name": "stdout",
          "text": [
            "INFO:tensorflow:Assets written to: /content/drive/MyDrive/model2/assets\n",
            "MODEL SAVED\n"
          ]
        }
      ]
    },
    {
      "cell_type": "code",
      "source": [
        "new_model=keras.models.load_model('/content/drive/MyDrive/model2')\n",
        "new_model.summary()"
      ],
      "metadata": {
        "colab": {
          "base_uri": "https://localhost:8080/"
        },
        "id": "Q3KjaO9GDoNl",
        "outputId": "72f3fb09-78d2-42a3-bdd3-33279ad44d23"
      },
      "execution_count": 32,
      "outputs": [
        {
          "output_type": "stream",
          "name": "stdout",
          "text": [
            "Model: \"sequential\"\n",
            "_________________________________________________________________\n",
            " Layer (type)                Output Shape              Param #   \n",
            "=================================================================\n",
            " conv1d (Conv1D)             (None, 40, 128)           1152      \n",
            "                                                                 \n",
            " activation (Activation)     (None, 40, 128)           0         \n",
            "                                                                 \n",
            " dropout (Dropout)           (None, 40, 128)           0         \n",
            "                                                                 \n",
            " max_pooling1d (MaxPooling1D  (None, 8, 128)           0         \n",
            " )                                                               \n",
            "                                                                 \n",
            " conv1d_1 (Conv1D)           (None, 8, 256)            262400    \n",
            "                                                                 \n",
            " activation_1 (Activation)   (None, 8, 256)            0         \n",
            "                                                                 \n",
            " dropout_1 (Dropout)         (None, 8, 256)            0         \n",
            "                                                                 \n",
            " max_pooling1d_1 (MaxPooling  (None, 1, 256)           0         \n",
            " 1D)                                                             \n",
            "                                                                 \n",
            " flatten (Flatten)           (None, 256)               0         \n",
            "                                                                 \n",
            " dense (Dense)               (None, 256)               65792     \n",
            "                                                                 \n",
            " activation_2 (Activation)   (None, 256)               0         \n",
            "                                                                 \n",
            " dense_1 (Dense)             (None, 256)               65792     \n",
            "                                                                 \n",
            " activation_3 (Activation)   (None, 256)               0         \n",
            "                                                                 \n",
            " dense_2 (Dense)             (None, 6)                 1542      \n",
            "                                                                 \n",
            " activation_4 (Activation)   (None, 6)                 0         \n",
            "                                                                 \n",
            "=================================================================\n",
            "Total params: 396,678\n",
            "Trainable params: 396,678\n",
            "Non-trainable params: 0\n",
            "_________________________________________________________________\n"
          ]
        }
      ]
    },
    {
      "cell_type": "code",
      "source": [
        "loss, acc =model.evaluate(x_testcnn, y_test)\n",
        "print(\"Restored model, accuracy: {:5.2f}%\".format(100*acc))"
      ],
      "metadata": {
        "colab": {
          "base_uri": "https://localhost:8080/"
        },
        "id": "n3kzoqPkDqqS",
        "outputId": "ba00c6b3-52f4-4186-fc6e-2290c91126e2"
      },
      "execution_count": 33,
      "outputs": [
        {
          "output_type": "stream",
          "name": "stdout",
          "text": [
            "7/7 [==============================] - 0s 3ms/step - loss: 0.7819 - accuracy: 0.6860\n",
            "Restored model, accuracy: 68.60%\n"
          ]
        }
      ]
    },
    {
      "cell_type": "code",
      "source": [
        "loss, acc =model.evaluate(X_train, y_train)\n",
        "print(\"Restored model train, accuracy: {:5.2f}%\".format(100*acc))"
      ],
      "metadata": {
        "id": "fJDTGH_OUX0z",
        "colab": {
          "base_uri": "https://localhost:8080/"
        },
        "outputId": "171a5ecc-c6aa-4ef1-9306-18ba99363992"
      },
      "execution_count": 34,
      "outputs": [
        {
          "output_type": "stream",
          "name": "stdout",
          "text": [
            "52/52 [==============================] - 0s 4ms/step - loss: 0.6293 - accuracy: 0.8083\n",
            "Restored model train, accuracy: 80.83%\n"
          ]
        }
      ]
    },
    {
      "cell_type": "code",
      "source": [
        "from sklearn.metrics import classification_report, confusion_matrix,accuracy_score\n",
        "import seaborn as sn\n",
        "\n",
        "print(classification_report(new_Ytest,abc))\n",
        "\n",
        "acc = float(accuracy_score(new_Ytest,abc))*100\n",
        "print(\"----accuracy score %s ----\" % acc)\n",
        "\n",
        "cm = confusion_matrix(new_Ytest,abc)\n",
        "#df_cm = pd.DataFrame(cm)\n",
        "class_names = ['neutral','calm', 'happy','sad','angry', 'fearful' ]\n",
        "df_cm = pd.DataFrame(cm, index=class_names, columns=class_names,)\n",
        "sn.heatmap(df_cm, annot=True, fmt='')\n",
        "plt.show()"
      ],
      "metadata": {
        "colab": {
          "base_uri": "https://localhost:8080/",
          "height": 508
        },
        "id": "SfSC3El94LZg",
        "outputId": "91958ebc-6be8-4720-c87f-b2fe363c1af9"
      },
      "execution_count": 35,
      "outputs": [
        {
          "output_type": "stream",
          "name": "stdout",
          "text": [
            "              precision    recall  f1-score   support\n",
            "\n",
            "           0       0.62      0.60      0.61        25\n",
            "           1       0.74      0.79      0.77        39\n",
            "           2       0.75      0.79      0.77        38\n",
            "           3       0.49      0.64      0.55        33\n",
            "           4       0.74      0.77      0.75        30\n",
            "           5       0.81      0.52      0.64        42\n",
            "\n",
            "    accuracy                           0.69       207\n",
            "   macro avg       0.69      0.69      0.68       207\n",
            "weighted avg       0.70      0.69      0.69       207\n",
            "\n",
            "----accuracy score 68.59903381642512 ----\n"
          ]
        },
        {
          "output_type": "display_data",
          "data": {
            "text/plain": [
              "<Figure size 432x288 with 2 Axes>"
            ],
            "image/png": "[encoded data removed]"
          },
          "metadata": {
            "needs_background": "light"
          }
        }
      ]
    }
  ]
}