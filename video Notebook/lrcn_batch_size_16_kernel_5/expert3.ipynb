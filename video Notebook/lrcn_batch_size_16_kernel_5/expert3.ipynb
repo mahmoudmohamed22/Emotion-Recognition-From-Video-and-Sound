{
  "nbformat": 4,
  "nbformat_minor": 0,
  "metadata": {
    "colab": {
      "name": "expert3.ipynb",
      "provenance": [],
      "collapsed_sections": [],
      "machine_shape": "hm"
    },
    "kernelspec": {
      "name": "python3",
      "display_name": "Python 3"
    },
    "accelerator": "GPU"
  },
  "cells": [
    {
      "cell_type": "markdown",
      "source": [
        "**training**"
      ],
      "metadata": {
        "id": "3p4NEbw1wA08"
      }
    },
    {
      "cell_type": "code",
      "source": [
        "# Discard the output of this cell.\n",
        "#%%capture\n",
        "\n",
        "# Install the required libraries.\n",
        "!pip install tensorflow opencv-contrib-python youtube-dl moviepy pydot\n",
        "!pip install git+https://github.com/TahaAnwar/pafy.git#egg=pafy"
      ],
      "metadata": {
        "id": "MChAq7xYwD1o",
        "outputId": "c7554009-4a4f-4ae9-ec45-5876885ee888",
        "colab": {
          "base_uri": "https://localhost:8080/"
        }
      },
      "execution_count": 1,
      "outputs": [
        {
          "output_type": "stream",
          "name": "stdout",
          "text": [
            "Looking in indexes: https://pypi.org/simple, https://us-python.pkg.dev/colab-wheels/public/simple/\n",
            "Requirement already satisfied: tensorflow in /usr/local/lib/python3.7/dist-packages (2.8.2+zzzcolab20220527125636)\n",
            "Requirement already satisfied: opencv-contrib-python in /usr/local/lib/python3.7/dist-packages (4.1.2.30)\n",
            "Collecting youtube-dl\n",
            "  Downloading youtube_dl-2021.12.17-py2.py3-none-any.whl (1.9 MB)\n",
            "\u001b[K     |████████████████████████████████| 1.9 MB 5.1 MB/s \n",
            "\u001b[?25hRequirement already satisfied: moviepy in /usr/local/lib/python3.7/dist-packages (0.2.3.5)\n",
            "Requirement already satisfied: pydot in /usr/local/lib/python3.7/dist-packages (1.3.0)\n",
            "Requirement already satisfied: protobuf<3.20,>=3.9.2 in /usr/local/lib/python3.7/dist-packages (from tensorflow) (3.17.3)\n",
            "Requirement already satisfied: setuptools in /usr/local/lib/python3.7/dist-packages (from tensorflow) (57.4.0)\n",
            "Requirement already satisfied: opt-einsum>=2.3.2 in /usr/local/lib/python3.7/dist-packages (from tensorflow) (3.3.0)\n",
            "Requirement already satisfied: numpy>=1.20 in /usr/local/lib/python3.7/dist-packages (from tensorflow) (1.21.6)\n",
            "Requirement already satisfied: keras-preprocessing>=1.1.1 in /usr/local/lib/python3.7/dist-packages (from tensorflow) (1.1.2)\n",
            "Requirement already satisfied: wrapt>=1.11.0 in /usr/local/lib/python3.7/dist-packages (from tensorflow) (1.14.1)\n",
            "Requirement already satisfied: flatbuffers>=1.12 in /usr/local/lib/python3.7/dist-packages (from tensorflow) (2.0)\n",
            "Requirement already satisfied: tensorboard<2.9,>=2.8 in /usr/local/lib/python3.7/dist-packages (from tensorflow) (2.8.0)\n",
            "Requirement already satisfied: gast>=0.2.1 in /usr/local/lib/python3.7/dist-packages (from tensorflow) (0.5.3)\n",
            "Requirement already satisfied: tensorflow-estimator<2.9,>=2.8 in /usr/local/lib/python3.7/dist-packages (from tensorflow) (2.8.0)\n",
            "Requirement already satisfied: termcolor>=1.1.0 in /usr/local/lib/python3.7/dist-packages (from tensorflow) (1.1.0)\n",
            "Requirement already satisfied: h5py>=2.9.0 in /usr/local/lib/python3.7/dist-packages (from tensorflow) (3.1.0)\n",
            "Requirement already satisfied: keras<2.9,>=2.8.0rc0 in /usr/local/lib/python3.7/dist-packages (from tensorflow) (2.8.0)\n",
            "Requirement already satisfied: absl-py>=0.4.0 in /usr/local/lib/python3.7/dist-packages (from tensorflow) (1.0.0)\n",
            "Requirement already satisfied: typing-extensions>=3.6.6 in /usr/local/lib/python3.7/dist-packages (from tensorflow) (4.2.0)\n",
            "Requirement already satisfied: six>=1.12.0 in /usr/local/lib/python3.7/dist-packages (from tensorflow) (1.15.0)\n",
            "Requirement already satisfied: google-pasta>=0.1.1 in /usr/local/lib/python3.7/dist-packages (from tensorflow) (0.2.0)\n",
            "Requirement already satisfied: libclang>=9.0.1 in /usr/local/lib/python3.7/dist-packages (from tensorflow) (14.0.1)\n",
            "Requirement already satisfied: grpcio<2.0,>=1.24.3 in /usr/local/lib/python3.7/dist-packages (from tensorflow) (1.46.3)\n",
            "Requirement already satisfied: tensorflow-io-gcs-filesystem>=0.23.1 in /usr/local/lib/python3.7/dist-packages (from tensorflow) (0.26.0)\n",
            "Requirement already satisfied: astunparse>=1.6.0 in /usr/local/lib/python3.7/dist-packages (from tensorflow) (1.6.3)\n",
            "Requirement already satisfied: wheel<1.0,>=0.23.0 in /usr/local/lib/python3.7/dist-packages (from astunparse>=1.6.0->tensorflow) (0.37.1)\n",
            "Requirement already satisfied: cached-property in /usr/local/lib/python3.7/dist-packages (from h5py>=2.9.0->tensorflow) (1.5.2)\n",
            "Requirement already satisfied: tensorboard-data-server<0.7.0,>=0.6.0 in /usr/local/lib/python3.7/dist-packages (from tensorboard<2.9,>=2.8->tensorflow) (0.6.1)\n",
            "Requirement already satisfied: google-auth-oauthlib<0.5,>=0.4.1 in /usr/local/lib/python3.7/dist-packages (from tensorboard<2.9,>=2.8->tensorflow) (0.4.6)\n",
            "Requirement already satisfied: werkzeug>=0.11.15 in /usr/local/lib/python3.7/dist-packages (from tensorboard<2.9,>=2.8->tensorflow) (1.0.1)\n",
            "Requirement already satisfied: google-auth<3,>=1.6.3 in /usr/local/lib/python3.7/dist-packages (from tensorboard<2.9,>=2.8->tensorflow) (1.35.0)\n",
            "Requirement already satisfied: markdown>=2.6.8 in /usr/local/lib/python3.7/dist-packages (from tensorboard<2.9,>=2.8->tensorflow) (3.3.7)\n",
            "Requirement already satisfied: requests<3,>=2.21.0 in /usr/local/lib/python3.7/dist-packages (from tensorboard<2.9,>=2.8->tensorflow) (2.23.0)\n",
            "Requirement already satisfied: tensorboard-plugin-wit>=1.6.0 in /usr/local/lib/python3.7/dist-packages (from tensorboard<2.9,>=2.8->tensorflow) (1.8.1)\n",
            "Requirement already satisfied: pyasn1-modules>=0.2.1 in /usr/local/lib/python3.7/dist-packages (from google-auth<3,>=1.6.3->tensorboard<2.9,>=2.8->tensorflow) (0.2.8)\n",
            "Requirement already satisfied: rsa<5,>=3.1.4 in /usr/local/lib/python3.7/dist-packages (from google-auth<3,>=1.6.3->tensorboard<2.9,>=2.8->tensorflow) (4.8)\n",
            "Requirement already satisfied: cachetools<5.0,>=2.0.0 in /usr/local/lib/python3.7/dist-packages (from google-auth<3,>=1.6.3->tensorboard<2.9,>=2.8->tensorflow) (4.2.4)\n",
            "Requirement already satisfied: requests-oauthlib>=0.7.0 in /usr/local/lib/python3.7/dist-packages (from google-auth-oauthlib<0.5,>=0.4.1->tensorboard<2.9,>=2.8->tensorflow) (1.3.1)\n",
            "Requirement already satisfied: importlib-metadata>=4.4 in /usr/local/lib/python3.7/dist-packages (from markdown>=2.6.8->tensorboard<2.9,>=2.8->tensorflow) (4.11.4)\n",
            "Requirement already satisfied: zipp>=0.5 in /usr/local/lib/python3.7/dist-packages (from importlib-metadata>=4.4->markdown>=2.6.8->tensorboard<2.9,>=2.8->tensorflow) (3.8.0)\n",
            "Requirement already satisfied: pyasn1<0.5.0,>=0.4.6 in /usr/local/lib/python3.7/dist-packages (from pyasn1-modules>=0.2.1->google-auth<3,>=1.6.3->tensorboard<2.9,>=2.8->tensorflow) (0.4.8)\n",
            "Requirement already satisfied: urllib3!=1.25.0,!=1.25.1,<1.26,>=1.21.1 in /usr/local/lib/python3.7/dist-packages (from requests<3,>=2.21.0->tensorboard<2.9,>=2.8->tensorflow) (1.24.3)\n",
            "Requirement already satisfied: idna<3,>=2.5 in /usr/local/lib/python3.7/dist-packages (from requests<3,>=2.21.0->tensorboard<2.9,>=2.8->tensorflow) (2.10)\n",
            "Requirement already satisfied: chardet<4,>=3.0.2 in /usr/local/lib/python3.7/dist-packages (from requests<3,>=2.21.0->tensorboard<2.9,>=2.8->tensorflow) (3.0.4)\n",
            "Requirement already satisfied: certifi>=2017.4.17 in /usr/local/lib/python3.7/dist-packages (from requests<3,>=2.21.0->tensorboard<2.9,>=2.8->tensorflow) (2022.5.18.1)\n",
            "Requirement already satisfied: oauthlib>=3.0.0 in /usr/local/lib/python3.7/dist-packages (from requests-oauthlib>=0.7.0->google-auth-oauthlib<0.5,>=0.4.1->tensorboard<2.9,>=2.8->tensorflow) (3.2.0)\n",
            "Requirement already satisfied: tqdm<5.0,>=4.11.2 in /usr/local/lib/python3.7/dist-packages (from moviepy) (4.64.0)\n",
            "Requirement already satisfied: decorator<5.0,>=4.0.2 in /usr/local/lib/python3.7/dist-packages (from moviepy) (4.4.2)\n",
            "Requirement already satisfied: imageio<3.0,>=2.1.2 in /usr/local/lib/python3.7/dist-packages (from moviepy) (2.4.1)\n",
            "Requirement already satisfied: pillow in /usr/local/lib/python3.7/dist-packages (from imageio<3.0,>=2.1.2->moviepy) (7.1.2)\n",
            "Requirement already satisfied: pyparsing>=2.1.4 in /usr/local/lib/python3.7/dist-packages (from pydot) (3.0.9)\n",
            "Installing collected packages: youtube-dl\n",
            "Successfully installed youtube-dl-2021.12.17\n",
            "Looking in indexes: https://pypi.org/simple, https://us-python.pkg.dev/colab-wheels/public/simple/\n",
            "Collecting pafy\n",
            "  Cloning https://github.com/TahaAnwar/pafy.git to /tmp/pip-install-1j0xm03_/pafy_5b0d97cbc807437289f19b4293293c39\n",
            "  Running command git clone -q https://github.com/TahaAnwar/pafy.git /tmp/pip-install-1j0xm03_/pafy_5b0d97cbc807437289f19b4293293c39\n",
            "Building wheels for collected packages: pafy\n",
            "  Building wheel for pafy (setup.py) ... \u001b[?25l\u001b[?25hdone\n",
            "  Created wheel for pafy: filename=pafy-0.5.5-py2.py3-none-any.whl size=35706 sha256=da2fa08f17b378e662b0e318732d9c0fa2a577db0f1b90efd77b46a27fa28de1\n",
            "  Stored in directory: /tmp/pip-ephem-wheel-cache-hsxvugwx/wheels/64/82/dd/3d7823b3bbbe1aca9b30f8cf0d6bb6c1b72ccd95e3360f8190\n",
            "Successfully built pafy\n",
            "Installing collected packages: pafy\n",
            "Successfully installed pafy-0.5.5\n"
          ]
        }
      ]
    },
    {
      "cell_type": "code",
      "source": [
        "# Import the required libraries.\n",
        "import os\n",
        "import cv2\n",
        "import pafy\n",
        "import math\n",
        "import random\n",
        "import numpy as np\n",
        "import datetime as dt\n",
        "import tensorflow as tf\n",
        "from collections import deque\n",
        "import matplotlib.pyplot as plt\n",
        "\n",
        "from moviepy.editor import *\n",
        "%matplotlib inline\n",
        "\n",
        "from sklearn.model_selection import train_test_split\n",
        "\n",
        "from tensorflow.keras.layers import *\n",
        "from tensorflow.keras.models import Sequential\n",
        "from tensorflow.keras.utils import to_categorical\n",
        "from tensorflow.keras.callbacks import EarlyStopping\n",
        "from tensorflow.keras.utils import plot_model\n",
        "import glob"
      ],
      "metadata": {
        "id": "1nJVuzQAwGQp",
        "colab": {
          "base_uri": "https://localhost:8080/"
        },
        "outputId": "0191f64d-59a9-4c31-dc46-43f78e4b1642"
      },
      "execution_count": 2,
      "outputs": [
        {
          "output_type": "stream",
          "name": "stdout",
          "text": [
            "Imageio: 'ffmpeg-linux64-v3.3.1' was not found on your computer; downloading it now.\n",
            "Try 1. Download from https://github.com/imageio/imageio-binaries/raw/master/ffmpeg/ffmpeg-linux64-v3.3.1 (43.8 MB)\n",
            "Downloading: 8192/45929032 bytes (0.0%)\b\b\b\b\b\b\b\b\b\b\b\b\b\b\b\b\b\b\b\b\b\b\b\b\b\b2220032/45929032 bytes (4.8%)\b\b\b\b\b\b\b\b\b\b\b\b\b\b\b\b\b\b\b\b\b\b\b\b\b\b\b\b\b5373952/45929032 bytes (11.7%)\b\b\b\b\b\b\b\b\b\b\b\b\b\b\b\b\b\b\b\b\b\b\b\b\b\b\b\b\b\b8085504/45929032 bytes (17.6%)\b\b\b\b\b\b\b\b\b\b\b\b\b\b\b\b\b\b\b\b\b\b\b\b\b\b\b\b\b\b10633216/45929032 bytes (23.2%)\b\b\b\b\b\b\b\b\b\b\b\b\b\b\b\b\b\b\b\b\b\b\b\b\b\b\b\b\b\b\b13385728/45929032 bytes (29.1%)\b\b\b\b\b\b\b\b\b\b\b\b\b\b\b\b\b\b\b\b\b\b\b\b\b\b\b\b\b\b\b16384000/45929032 bytes (35.7%)\b\b\b\b\b\b\b\b\b\b\b\b\b\b\b\b\b\b\b\b\b\b\b\b\b\b\b\b\b\b\b18423808/45929032 bytes (40.1%)\b\b\b\b\b\b\b\b\b\b\b\b\b\b\b\b\b\b\b\b\b\b\b\b\b\b\b\b\b\b\b21504000/45929032 bytes (46.8%)\b\b\b\b\b\b\b\b\b\b\b\b\b\b\b\b\b\b\b\b\b\b\b\b\b\b\b\b\b\b\b24281088/45929032 bytes (52.9%)\b\b\b\b\b\b\b\b\b\b\b\b\b\b\b\b\b\b\b\b\b\b\b\b\b\b\b\b\b\b\b27279360/45929032 bytes (59.4%)\b\b\b\b\b\b\b\b\b\b\b\b\b\b\b\b\b\b\b\b\b\b\b\b\b\b\b\b\b\b\b30269440/45929032 bytes (65.9%)\b\b\b\b\b\b\b\b\b\b\b\b\b\b\b\b\b\b\b\b\b\b\b\b\b\b\b\b\b\b\b33316864/45929032 bytes (72.5%)\b\b\b\b\b\b\b\b\b\b\b\b\b\b\b\b\b\b\b\b\b\b\b\b\b\b\b\b\b\b\b36044800/45929032 bytes (78.5%)\b\b\b\b\b\b\b\b\b\b\b\b\b\b\b\b\b\b\b\b\b\b\b\b\b\b\b\b\b\b\b38731776/45929032 bytes (84.3%)\b\b\b\b\b\b\b\b\b\b\b\b\b\b\b\b\b\b\b\b\b\b\b\b\b\b\b\b\b\b\b41705472/45929032 bytes (90.8%)\b\b\b\b\b\b\b\b\b\b\b\b\b\b\b\b\b\b\b\b\b\b\b\b\b\b\b\b\b\b\b44392448/45929032 bytes (96.7%)\b\b\b\b\b\b\b\b\b\b\b\b\b\b\b\b\b\b\b\b\b\b\b\b\b\b\b\b\b\b\b45929032/45929032 bytes (100.0%)\n",
            "  Done\n",
            "File saved as /root/.imageio/ffmpeg/ffmpeg-linux64-v3.3.1.\n"
          ]
        }
      ]
    },
    {
      "cell_type": "code",
      "source": [
        "seed_constant = 27\n",
        "np.random.seed(seed_constant)\n",
        "random.seed(seed_constant)\n",
        "tf.random.set_seed(seed_constant)\n"
      ],
      "metadata": {
        "id": "IoMuaveSwK6K"
      },
      "execution_count": 3,
      "outputs": []
    },
    {
      "cell_type": "code",
      "source": [
        "# Specify the height and width to which each video frame will be resized in our dataset.\n",
        "IMAGE_HEIGHT , IMAGE_WIDTH = 64, 64\n",
        "\n",
        "# Specify the number of frames of a video that will be fed to the model as one sequence.\n",
        "SEQUENCE_LENGTH = 30\n",
        "\n",
        "# Specify the directory containing the UCF50 dataset. \n",
        "#DATASET_DIR = \"/content/drive/MyDrive/frames_ravdess_label\"\n",
        "\n",
        "# Specify the list containing the names of the classes used for training. Feel free to choose any set of classes.\n",
        "CLASSES_LIST = [\"neutral\", \"calm\", \"happy\", \"sad\",\"angry\",\"fearful\"]"
      ],
      "metadata": {
        "id": "GcOPbLHXwNW6"
      },
      "execution_count": 4,
      "outputs": []
    },
    {
      "cell_type": "code",
      "source": [
        "from google.colab import drive\n",
        "drive.mount('/content/drive')"
      ],
      "metadata": {
        "id": "R4qTnVYzwtnU",
        "outputId": "1f6fcd84-0f50-48df-f633-f0093a27806d",
        "colab": {
          "base_uri": "https://localhost:8080/"
        }
      },
      "execution_count": 5,
      "outputs": [
        {
          "output_type": "stream",
          "name": "stdout",
          "text": [
            "Mounted at /content/drive\n"
          ]
        }
      ]
    },
    {
      "cell_type": "code",
      "source": [
        "import joblib\n",
        "features = joblib.load('/content/drive/My Drive/features_ravdess/data_set/features_data')\n",
        "labels = joblib.load('/content/drive/MyDrive/features_ravdess/data_set/labels')\n",
        "video_files_paths = joblib.load('/content/drive/My Drive/features_ravdess/data_set/video_path')"
      ],
      "metadata": {
        "id": "Hpib_QJowRPo"
      },
      "execution_count": 6,
      "outputs": []
    },
    {
      "cell_type": "code",
      "source": [
        "features = np.asarray(features)\n",
        "labels = np.array(labels)  "
      ],
      "metadata": {
        "id": "PH_q4iTSwt_7"
      },
      "execution_count": 7,
      "outputs": []
    },
    {
      "cell_type": "code",
      "source": [
        "features.shape"
      ],
      "metadata": {
        "id": "EcUFSl-ExLkk",
        "outputId": "cf1ca036-d5e2-4074-bd42-48fe8fbe4ace",
        "colab": {
          "base_uri": "https://localhost:8080/"
        }
      },
      "execution_count": 8,
      "outputs": [
        {
          "output_type": "execute_result",
          "data": {
            "text/plain": [
              "(2067, 30, 64, 64, 3)"
            ]
          },
          "metadata": {},
          "execution_count": 8
        }
      ]
    },
    {
      "cell_type": "code",
      "source": [
        "# Using Keras's to_categorical method to convert labels into one-hot-encoded vectors\n",
        "one_hot_encoded_labels = to_categorical(labels)"
      ],
      "metadata": {
        "id": "byN_xKZ1w3db"
      },
      "execution_count": 9,
      "outputs": []
    },
    {
      "cell_type": "code",
      "source": [
        "# Split the Data into Train ( 80% ) and Test Set ( 20% ).\n",
        "features_train, features_test, labels_train, labels_test = train_test_split(features, one_hot_encoded_labels,\n",
        "                                                                            test_size = 0.10, shuffle = True,\n",
        "                                                                            random_state = seed_constant)"
      ],
      "metadata": {
        "id": "Xbo5u-ynw4bP"
      },
      "execution_count": 10,
      "outputs": []
    },
    {
      "cell_type": "code",
      "source": [
        "def create_LRCN_model():\n",
        "    '''\n",
        "    This function will construct the required LRCN model.\n",
        "    Returns:\n",
        "        model: It is the required constructed LRCN model.\n",
        "    '''\n",
        "\n",
        "    # We will use a Sequential model for model construction.\n",
        "    model = Sequential()\n",
        "   \n",
        "    # Define the Model Architecture.\n",
        "    ########################################################################################################################\n",
        "    \n",
        "    model.add(TimeDistributed(Conv2D(16, (5,5), padding='same'),\n",
        "                              input_shape = (SEQUENCE_LENGTH, IMAGE_HEIGHT, IMAGE_WIDTH, 3)))\n",
        "    model.add(TimeDistributed(BatchNormalization()))\n",
        "    model.add(TimeDistributed(Activation('relu')))\n",
        "    model.add(TimeDistributed(MaxPooling2D((4, 4)))) \n",
        "    model.add(TimeDistributed(Dropout(0.1)))\n",
        "    \n",
        "    model.add(TimeDistributed(Conv2D(32, (5,5), padding='same')))\n",
        "    model.add(TimeDistributed(BatchNormalization()))\n",
        "    model.add(TimeDistributed(Activation('relu')))\n",
        "    model.add(TimeDistributed(MaxPooling2D((4, 4))))\n",
        "    model.add(TimeDistributed(Dropout(0.2)))\n",
        "    \n",
        "    model.add(TimeDistributed(Conv2D(64, (5,5), padding='same')))\n",
        "    model.add(TimeDistributed(BatchNormalization()))\n",
        "    model.add(TimeDistributed(Activation('relu')))\n",
        "    model.add(TimeDistributed(MaxPooling2D((2, 2))))\n",
        "    model.add(TimeDistributed(Dropout(0.3)))\n",
        "    \n",
        "    model.add(TimeDistributed(Conv2D(64, (5,5), padding='same')))\n",
        "    model.add(TimeDistributed(BatchNormalization()))\n",
        "    model.add(TimeDistributed(Activation('relu')))\n",
        "    model.add(TimeDistributed(MaxPooling2D((2, 2))))\n",
        "    #model.add(TimeDistributed(Dropout(0.25)))\n",
        "                                      \n",
        "    model.add(TimeDistributed(Flatten()))\n",
        "                                      \n",
        "    model.add(LSTM(64))\n",
        "                                      \n",
        "    model.add(Dense(len(CLASSES_LIST), activation = 'softmax'))\n",
        "\n",
        "    ########################################################################################################################\n",
        "\n",
        "    # Display the models summary.\n",
        "    model.summary()\n",
        "    \n",
        "    # Return the constructed LRCN model.\n",
        "    return model"
      ],
      "metadata": {
        "id": "ANf9NyOAw7Fa"
      },
      "execution_count": 11,
      "outputs": []
    },
    {
      "cell_type": "code",
      "source": [
        "# Construct the required LRCN model.\n",
        "LRCN_model = create_LRCN_model()\n",
        "\n",
        "# Display the success message.\n",
        "print(\"Model Created Successfully!\")"
      ],
      "metadata": {
        "id": "VX1aE7GoxSHl",
        "outputId": "5bc9b14f-cf24-4eb5-bb6b-b1fb5ef8234e",
        "colab": {
          "base_uri": "https://localhost:8080/"
        }
      },
      "execution_count": 12,
      "outputs": [
        {
          "output_type": "stream",
          "name": "stdout",
          "text": [
            "Model: \"sequential\"\n",
            "_________________________________________________________________\n",
            " Layer (type)                Output Shape              Param #   \n",
            "=================================================================\n",
            " time_distributed (TimeDistr  (None, 30, 64, 64, 16)   1216      \n",
            " ibuted)                                                         \n",
            "                                                                 \n",
            " time_distributed_1 (TimeDis  (None, 30, 64, 64, 16)   64        \n",
            " tributed)                                                       \n",
            "                                                                 \n",
            " time_distributed_2 (TimeDis  (None, 30, 64, 64, 16)   0         \n",
            " tributed)                                                       \n",
            "                                                                 \n",
            " time_distributed_3 (TimeDis  (None, 30, 16, 16, 16)   0         \n",
            " tributed)                                                       \n",
            "                                                                 \n",
            " time_distributed_4 (TimeDis  (None, 30, 16, 16, 16)   0         \n",
            " tributed)                                                       \n",
            "                                                                 \n",
            " time_distributed_5 (TimeDis  (None, 30, 16, 16, 32)   12832     \n",
            " tributed)                                                       \n",
            "                                                                 \n",
            " time_distributed_6 (TimeDis  (None, 30, 16, 16, 32)   128       \n",
            " tributed)                                                       \n",
            "                                                                 \n",
            " time_distributed_7 (TimeDis  (None, 30, 16, 16, 32)   0         \n",
            " tributed)                                                       \n",
            "                                                                 \n",
            " time_distributed_8 (TimeDis  (None, 30, 4, 4, 32)     0         \n",
            " tributed)                                                       \n",
            "                                                                 \n",
            " time_distributed_9 (TimeDis  (None, 30, 4, 4, 32)     0         \n",
            " tributed)                                                       \n",
            "                                                                 \n",
            " time_distributed_10 (TimeDi  (None, 30, 4, 4, 64)     51264     \n",
            " stributed)                                                      \n",
            "                                                                 \n",
            " time_distributed_11 (TimeDi  (None, 30, 4, 4, 64)     256       \n",
            " stributed)                                                      \n",
            "                                                                 \n",
            " time_distributed_12 (TimeDi  (None, 30, 4, 4, 64)     0         \n",
            " stributed)                                                      \n",
            "                                                                 \n",
            " time_distributed_13 (TimeDi  (None, 30, 2, 2, 64)     0         \n",
            " stributed)                                                      \n",
            "                                                                 \n",
            " time_distributed_14 (TimeDi  (None, 30, 2, 2, 64)     0         \n",
            " stributed)                                                      \n",
            "                                                                 \n",
            " time_distributed_15 (TimeDi  (None, 30, 2, 2, 64)     102464    \n",
            " stributed)                                                      \n",
            "                                                                 \n",
            " time_distributed_16 (TimeDi  (None, 30, 2, 2, 64)     256       \n",
            " stributed)                                                      \n",
            "                                                                 \n",
            " time_distributed_17 (TimeDi  (None, 30, 2, 2, 64)     0         \n",
            " stributed)                                                      \n",
            "                                                                 \n",
            " time_distributed_18 (TimeDi  (None, 30, 1, 1, 64)     0         \n",
            " stributed)                                                      \n",
            "                                                                 \n",
            " time_distributed_19 (TimeDi  (None, 30, 64)           0         \n",
            " stributed)                                                      \n",
            "                                                                 \n",
            " lstm (LSTM)                 (None, 64)                33024     \n",
            "                                                                 \n",
            " dense (Dense)               (None, 6)                 390       \n",
            "                                                                 \n",
            "=================================================================\n",
            "Total params: 201,894\n",
            "Trainable params: 201,542\n",
            "Non-trainable params: 352\n",
            "_________________________________________________________________\n",
            "Model Created Successfully!\n"
          ]
        }
      ]
    },
    {
      "cell_type": "code",
      "source": [
        "# Create an Instance of Early Stopping Callback.\n",
        "early_stopping_callback = EarlyStopping(monitor = 'val_loss', patience = 25, mode = 'min', restore_best_weights = True)\n",
        " \n",
        "# Compile the model and specify loss function, optimizer and metrics to the model.\n",
        "LRCN_model.compile(loss = 'categorical_crossentropy', optimizer = 'Adam', metrics = [\"accuracy\"])\n",
        "\n",
        "# Start training the model.\n",
        "LRCN_model_training_history = LRCN_model.fit(x = features_train, y = labels_train, epochs = 100, batch_size = 16 ,\n",
        "                                             shuffle = True, validation_split = 0.1, callbacks = [early_stopping_callback])"
      ],
      "metadata": {
        "id": "-wmt7CHExUgm",
        "outputId": "b5c1709a-423d-445f-cc72-cfe04438e677",
        "colab": {
          "base_uri": "https://localhost:8080/"
        }
      },
      "execution_count": 13,
      "outputs": [
        {
          "output_type": "stream",
          "name": "stdout",
          "text": [
            "Epoch 1/100\n",
            "105/105 [==============================] - 22s 56ms/step - loss: 1.5455 - accuracy: 0.3542 - val_loss: 2.0199 - val_accuracy: 0.1935\n",
            "Epoch 2/100\n",
            "105/105 [==============================] - 5s 46ms/step - loss: 1.0627 - accuracy: 0.5693 - val_loss: 2.2397 - val_accuracy: 0.2527\n",
            "Epoch 3/100\n",
            "105/105 [==============================] - 5s 45ms/step - loss: 0.9203 - accuracy: 0.6356 - val_loss: 2.0698 - val_accuracy: 0.2419\n",
            "Epoch 4/100\n",
            "105/105 [==============================] - 5s 45ms/step - loss: 0.7972 - accuracy: 0.6906 - val_loss: 1.2299 - val_accuracy: 0.5269\n",
            "Epoch 5/100\n",
            "105/105 [==============================] - 5s 45ms/step - loss: 0.7050 - accuracy: 0.7252 - val_loss: 1.0738 - val_accuracy: 0.5914\n",
            "Epoch 6/100\n",
            "105/105 [==============================] - 5s 45ms/step - loss: 0.5918 - accuracy: 0.7748 - val_loss: 1.0353 - val_accuracy: 0.5806\n",
            "Epoch 7/100\n",
            "105/105 [==============================] - 5s 46ms/step - loss: 0.5405 - accuracy: 0.7957 - val_loss: 1.3724 - val_accuracy: 0.5430\n",
            "Epoch 8/100\n",
            "105/105 [==============================] - 5s 45ms/step - loss: 0.4747 - accuracy: 0.8321 - val_loss: 0.7327 - val_accuracy: 0.7312\n",
            "Epoch 9/100\n",
            "105/105 [==============================] - 5s 46ms/step - loss: 0.4045 - accuracy: 0.8584 - val_loss: 0.5590 - val_accuracy: 0.8333\n",
            "Epoch 10/100\n",
            "105/105 [==============================] - 5s 45ms/step - loss: 0.3773 - accuracy: 0.8698 - val_loss: 0.5466 - val_accuracy: 0.8172\n",
            "Epoch 11/100\n",
            "105/105 [==============================] - 5s 45ms/step - loss: 0.3821 - accuracy: 0.8644 - val_loss: 0.3262 - val_accuracy: 0.8817\n",
            "Epoch 12/100\n",
            "105/105 [==============================] - 5s 45ms/step - loss: 0.3489 - accuracy: 0.8728 - val_loss: 0.4513 - val_accuracy: 0.8495\n",
            "Epoch 13/100\n",
            "105/105 [==============================] - 5s 45ms/step - loss: 0.2878 - accuracy: 0.8984 - val_loss: 0.3728 - val_accuracy: 0.8548\n",
            "Epoch 14/100\n",
            "105/105 [==============================] - 5s 45ms/step - loss: 0.2920 - accuracy: 0.8901 - val_loss: 0.8460 - val_accuracy: 0.7473\n",
            "Epoch 15/100\n",
            "105/105 [==============================] - 5s 45ms/step - loss: 0.2719 - accuracy: 0.9056 - val_loss: 0.7154 - val_accuracy: 0.7097\n",
            "Epoch 16/100\n",
            "105/105 [==============================] - 5s 45ms/step - loss: 0.2614 - accuracy: 0.9026 - val_loss: 0.4828 - val_accuracy: 0.8333\n",
            "Epoch 17/100\n",
            "105/105 [==============================] - 5s 45ms/step - loss: 0.2325 - accuracy: 0.9146 - val_loss: 0.4157 - val_accuracy: 0.8763\n",
            "Epoch 18/100\n",
            "105/105 [==============================] - 5s 45ms/step - loss: 0.2147 - accuracy: 0.9253 - val_loss: 0.3082 - val_accuracy: 0.9032\n",
            "Epoch 19/100\n",
            "105/105 [==============================] - 5s 45ms/step - loss: 0.2032 - accuracy: 0.9235 - val_loss: 0.3686 - val_accuracy: 0.8710\n",
            "Epoch 20/100\n",
            "105/105 [==============================] - 5s 45ms/step - loss: 0.2551 - accuracy: 0.9146 - val_loss: 0.5820 - val_accuracy: 0.8226\n",
            "Epoch 21/100\n",
            "105/105 [==============================] - 5s 45ms/step - loss: 0.1968 - accuracy: 0.9259 - val_loss: 0.6107 - val_accuracy: 0.7849\n",
            "Epoch 22/100\n",
            "105/105 [==============================] - 5s 45ms/step - loss: 0.1723 - accuracy: 0.9397 - val_loss: 0.7274 - val_accuracy: 0.7688\n",
            "Epoch 23/100\n",
            "105/105 [==============================] - 5s 45ms/step - loss: 0.2073 - accuracy: 0.9283 - val_loss: 0.6480 - val_accuracy: 0.7796\n",
            "Epoch 24/100\n",
            "105/105 [==============================] - 5s 45ms/step - loss: 0.1696 - accuracy: 0.9462 - val_loss: 0.4940 - val_accuracy: 0.8656\n",
            "Epoch 25/100\n",
            "105/105 [==============================] - 5s 45ms/step - loss: 0.2210 - accuracy: 0.9194 - val_loss: 0.8652 - val_accuracy: 0.7849\n",
            "Epoch 26/100\n",
            "105/105 [==============================] - 5s 45ms/step - loss: 0.1932 - accuracy: 0.9295 - val_loss: 0.8767 - val_accuracy: 0.7258\n",
            "Epoch 27/100\n",
            "105/105 [==============================] - 5s 46ms/step - loss: 0.1963 - accuracy: 0.9319 - val_loss: 0.2506 - val_accuracy: 0.9140\n",
            "Epoch 28/100\n",
            "105/105 [==============================] - 5s 45ms/step - loss: 0.1357 - accuracy: 0.9534 - val_loss: 1.0954 - val_accuracy: 0.7742\n",
            "Epoch 29/100\n",
            "105/105 [==============================] - 5s 45ms/step - loss: 0.1285 - accuracy: 0.9546 - val_loss: 0.3512 - val_accuracy: 0.9032\n",
            "Epoch 30/100\n",
            "105/105 [==============================] - 5s 45ms/step - loss: 0.1372 - accuracy: 0.9576 - val_loss: 0.4877 - val_accuracy: 0.8387\n",
            "Epoch 31/100\n",
            "105/105 [==============================] - 5s 45ms/step - loss: 0.1148 - accuracy: 0.9630 - val_loss: 0.2984 - val_accuracy: 0.9301\n",
            "Epoch 32/100\n",
            "105/105 [==============================] - 5s 45ms/step - loss: 0.1083 - accuracy: 0.9588 - val_loss: 0.6403 - val_accuracy: 0.8118\n",
            "Epoch 33/100\n",
            "105/105 [==============================] - 5s 45ms/step - loss: 0.1332 - accuracy: 0.9570 - val_loss: 0.7159 - val_accuracy: 0.8011\n",
            "Epoch 34/100\n",
            "105/105 [==============================] - 5s 45ms/step - loss: 0.1173 - accuracy: 0.9600 - val_loss: 0.4094 - val_accuracy: 0.8817\n",
            "Epoch 35/100\n",
            "105/105 [==============================] - 5s 45ms/step - loss: 0.1557 - accuracy: 0.9468 - val_loss: 0.3495 - val_accuracy: 0.9032\n",
            "Epoch 36/100\n",
            "105/105 [==============================] - 5s 45ms/step - loss: 0.1325 - accuracy: 0.9546 - val_loss: 0.3907 - val_accuracy: 0.9140\n",
            "Epoch 37/100\n",
            "105/105 [==============================] - 5s 45ms/step - loss: 0.1209 - accuracy: 0.9552 - val_loss: 0.5272 - val_accuracy: 0.8602\n",
            "Epoch 38/100\n",
            "105/105 [==============================] - 5s 45ms/step - loss: 0.0975 - accuracy: 0.9701 - val_loss: 0.2823 - val_accuracy: 0.9194\n",
            "Epoch 39/100\n",
            "105/105 [==============================] - 5s 45ms/step - loss: 0.1050 - accuracy: 0.9642 - val_loss: 0.5080 - val_accuracy: 0.8387\n",
            "Epoch 40/100\n",
            "105/105 [==============================] - 5s 45ms/step - loss: 0.0740 - accuracy: 0.9743 - val_loss: 0.7747 - val_accuracy: 0.8065\n",
            "Epoch 41/100\n",
            "105/105 [==============================] - 5s 45ms/step - loss: 0.1198 - accuracy: 0.9606 - val_loss: 0.5171 - val_accuracy: 0.8710\n",
            "Epoch 42/100\n",
            "105/105 [==============================] - 5s 46ms/step - loss: 0.1017 - accuracy: 0.9636 - val_loss: 0.3149 - val_accuracy: 0.9140\n",
            "Epoch 43/100\n",
            "105/105 [==============================] - 5s 46ms/step - loss: 0.1050 - accuracy: 0.9677 - val_loss: 0.5300 - val_accuracy: 0.8763\n",
            "Epoch 44/100\n",
            "105/105 [==============================] - 5s 45ms/step - loss: 0.0628 - accuracy: 0.9785 - val_loss: 0.3174 - val_accuracy: 0.9032\n",
            "Epoch 45/100\n",
            "105/105 [==============================] - 5s 45ms/step - loss: 0.1021 - accuracy: 0.9659 - val_loss: 0.3223 - val_accuracy: 0.8871\n",
            "Epoch 46/100\n",
            "105/105 [==============================] - 5s 45ms/step - loss: 0.0882 - accuracy: 0.9737 - val_loss: 1.0998 - val_accuracy: 0.7419\n",
            "Epoch 47/100\n",
            "105/105 [==============================] - 5s 45ms/step - loss: 0.1111 - accuracy: 0.9612 - val_loss: 0.9937 - val_accuracy: 0.7151\n",
            "Epoch 48/100\n",
            "105/105 [==============================] - 5s 45ms/step - loss: 0.0507 - accuracy: 0.9809 - val_loss: 0.2279 - val_accuracy: 0.9355\n",
            "Epoch 49/100\n",
            "105/105 [==============================] - 5s 46ms/step - loss: 0.0772 - accuracy: 0.9713 - val_loss: 0.2006 - val_accuracy: 0.9355\n",
            "Epoch 50/100\n",
            "105/105 [==============================] - 5s 45ms/step - loss: 0.1003 - accuracy: 0.9630 - val_loss: 0.3997 - val_accuracy: 0.8817\n",
            "Epoch 51/100\n",
            "105/105 [==============================] - 5s 45ms/step - loss: 0.1069 - accuracy: 0.9665 - val_loss: 0.5877 - val_accuracy: 0.8656\n",
            "Epoch 52/100\n",
            "105/105 [==============================] - 5s 45ms/step - loss: 0.1013 - accuracy: 0.9677 - val_loss: 0.5189 - val_accuracy: 0.8656\n",
            "Epoch 53/100\n",
            "105/105 [==============================] - 5s 45ms/step - loss: 0.0697 - accuracy: 0.9773 - val_loss: 0.5047 - val_accuracy: 0.8495\n",
            "Epoch 54/100\n",
            "105/105 [==============================] - 5s 45ms/step - loss: 0.0780 - accuracy: 0.9737 - val_loss: 0.4027 - val_accuracy: 0.8978\n",
            "Epoch 55/100\n",
            "105/105 [==============================] - 5s 45ms/step - loss: 0.0811 - accuracy: 0.9767 - val_loss: 0.8867 - val_accuracy: 0.8226\n",
            "Epoch 56/100\n",
            "105/105 [==============================] - 5s 45ms/step - loss: 0.1067 - accuracy: 0.9654 - val_loss: 1.0519 - val_accuracy: 0.7796\n",
            "Epoch 57/100\n",
            "105/105 [==============================] - 5s 45ms/step - loss: 0.1068 - accuracy: 0.9654 - val_loss: 0.3052 - val_accuracy: 0.9032\n",
            "Epoch 58/100\n",
            "105/105 [==============================] - 5s 45ms/step - loss: 0.0758 - accuracy: 0.9701 - val_loss: 0.7844 - val_accuracy: 0.7688\n",
            "Epoch 59/100\n",
            "105/105 [==============================] - 5s 45ms/step - loss: 0.0445 - accuracy: 0.9839 - val_loss: 0.4151 - val_accuracy: 0.9247\n",
            "Epoch 60/100\n",
            "105/105 [==============================] - 5s 45ms/step - loss: 0.0749 - accuracy: 0.9749 - val_loss: 0.6902 - val_accuracy: 0.7957\n",
            "Epoch 61/100\n",
            "105/105 [==============================] - 5s 45ms/step - loss: 0.0626 - accuracy: 0.9803 - val_loss: 0.3068 - val_accuracy: 0.9247\n",
            "Epoch 62/100\n",
            "105/105 [==============================] - 5s 45ms/step - loss: 0.0675 - accuracy: 0.9725 - val_loss: 1.0831 - val_accuracy: 0.7258\n",
            "Epoch 63/100\n",
            "105/105 [==============================] - 5s 45ms/step - loss: 0.0791 - accuracy: 0.9743 - val_loss: 0.3168 - val_accuracy: 0.8817\n",
            "Epoch 64/100\n",
            "105/105 [==============================] - 5s 46ms/step - loss: 0.0564 - accuracy: 0.9839 - val_loss: 0.3310 - val_accuracy: 0.8925\n",
            "Epoch 65/100\n",
            "105/105 [==============================] - 5s 45ms/step - loss: 0.0715 - accuracy: 0.9749 - val_loss: 0.2294 - val_accuracy: 0.9301\n",
            "Epoch 66/100\n",
            "105/105 [==============================] - 5s 45ms/step - loss: 0.0597 - accuracy: 0.9785 - val_loss: 0.2911 - val_accuracy: 0.9140\n",
            "Epoch 67/100\n",
            "105/105 [==============================] - 5s 45ms/step - loss: 0.0332 - accuracy: 0.9898 - val_loss: 0.5775 - val_accuracy: 0.8656\n",
            "Epoch 68/100\n",
            "105/105 [==============================] - 5s 45ms/step - loss: 0.0717 - accuracy: 0.9773 - val_loss: 0.3527 - val_accuracy: 0.9194\n",
            "Epoch 69/100\n",
            "105/105 [==============================] - 5s 45ms/step - loss: 0.0466 - accuracy: 0.9821 - val_loss: 0.5076 - val_accuracy: 0.8656\n",
            "Epoch 70/100\n",
            "105/105 [==============================] - 5s 45ms/step - loss: 0.0226 - accuracy: 0.9934 - val_loss: 0.3424 - val_accuracy: 0.9086\n",
            "Epoch 71/100\n",
            "105/105 [==============================] - 5s 45ms/step - loss: 0.0339 - accuracy: 0.9886 - val_loss: 0.3799 - val_accuracy: 0.9086\n",
            "Epoch 72/100\n",
            "105/105 [==============================] - 5s 45ms/step - loss: 0.0686 - accuracy: 0.9761 - val_loss: 0.2334 - val_accuracy: 0.9247\n",
            "Epoch 73/100\n",
            "105/105 [==============================] - 5s 46ms/step - loss: 0.0690 - accuracy: 0.9785 - val_loss: 0.6618 - val_accuracy: 0.8118\n",
            "Epoch 74/100\n",
            "105/105 [==============================] - 5s 46ms/step - loss: 0.0453 - accuracy: 0.9875 - val_loss: 0.4961 - val_accuracy: 0.8925\n"
          ]
        }
      ]
    },
    {
      "cell_type": "code",
      "source": [
        "# Evaluate the trained model.\n",
        "model_evaluation_history = LRCN_model.evaluate(features_test, labels_test)"
      ],
      "metadata": {
        "id": "hhLgaWvCxZ-e",
        "outputId": "5f849503-43c8-4f9c-9f3e-430b3e6ca563",
        "colab": {
          "base_uri": "https://localhost:8080/"
        }
      },
      "execution_count": 14,
      "outputs": [
        {
          "output_type": "stream",
          "name": "stdout",
          "text": [
            "7/7 [==============================] - 0s 39ms/step - loss: 0.2156 - accuracy: 0.9420\n"
          ]
        }
      ]
    },
    {
      "cell_type": "code",
      "source": [
        "# Get the loss and accuracy from model_evaluation_history.\n",
        "model_evaluation_loss, model_evaluation_accuracy = model_evaluation_history\n",
        "\n",
        "# Define the string date format.\n",
        "# Get the current Date and Time in a DateTime Object.\n",
        "# Convert the DateTime object to string according to the style mentioned in date_time_format string.\n",
        "date_time_format = '%Y_%m_%d__%H_%M_%S'\n",
        "current_date_time_dt = dt.datetime.now()\n",
        "current_date_time_string = dt.datetime.strftime(current_date_time_dt, date_time_format)\n",
        "    \n",
        "# Define a useful name for our model to make it easy for us while navigating through multiple saved models.\n",
        "model_file_name = f'landmark3_lr=0.001___Accuracy_{model_evaluation_accuracy}___Loss_{model_evaluation_loss}.h5'\n",
        "\n",
        "# Save the Model.\n",
        "#LRCN_model.save('/content/drive/My Drive/marwa/saved_models/lrcn/'+model_file_name)"
      ],
      "metadata": {
        "id": "g8wWe5lR1GRp"
      },
      "execution_count": null,
      "outputs": []
    },
    {
      "cell_type": "code",
      "source": [
        "def plot_metric(model_training_history, metric_name_1, metric_name_2, plot_name):\n",
        "    '''\n",
        "    This function will plot the metrics passed to it in a graph.\n",
        "    Args:\n",
        "        model_training_history: A history object containing a record of training and validation \n",
        "                                loss values and metrics values at successive epochs\n",
        "        metric_name_1:          The name of the first metric that needs to be plotted in the graph.\n",
        "        metric_name_2:          The name of the second metric that needs to be plotted in the graph.\n",
        "        plot_name:              The title of the graph.\n",
        "    '''\n",
        "    \n",
        "    # Get metric values using metric names as identifiers.\n",
        "    metric_value_1 = model_training_history.history[metric_name_1]\n",
        "    metric_value_2 = model_training_history.history[metric_name_2]\n",
        "    \n",
        "    # Construct a range object which will be used as x-axis (horizontal plane) of the graph.\n",
        "    epochs = range(len(metric_value_1))\n",
        "\n",
        "    # Plot the Graph.\n",
        "    plt.plot(epochs, metric_value_1, 'blue', label = metric_name_1)\n",
        "    plt.plot(epochs, metric_value_2, 'red', label = metric_name_2)\n",
        "\n",
        "    # Add title to the plot.\n",
        "    plt.title(str(plot_name))\n",
        "\n",
        "    # Add legend to the plot.\n",
        "    plt.legend()"
      ],
      "metadata": {
        "id": "ZiSh_i871KAd"
      },
      "execution_count": 15,
      "outputs": []
    },
    {
      "cell_type": "code",
      "source": [
        "# Visualize the training and validation loss metrices.\n",
        "plot_metric(LRCN_model_training_history, 'loss', 'val_loss', 'Total Loss vs Total Validation Loss')"
      ],
      "metadata": {
        "id": "7HjkIAJj1Ncw",
        "outputId": "4b22a92f-aeb4-491a-adeb-35f68f941c4a",
        "colab": {
          "base_uri": "https://localhost:8080/",
          "height": 281
        }
      },
      "execution_count": 16,
      "outputs": [
        {
          "output_type": "display_data",
          "data": {
            "text/plain": [
              "<Figure size 432x288 with 1 Axes>"
            ],
            "image/png": "[encoded data removed]"
          },
          "metadata": {
            "needs_background": "light"
          }
        }
      ]
    },
    {
      "cell_type": "code",
      "source": [
        "\n",
        "# Visualize the training and validation accuracy metrices.\n",
        "plot_metric(LRCN_model_training_history, 'accuracy', 'val_accuracy', 'Total Accuracy vs Total Validation Accuracy')"
      ],
      "metadata": {
        "id": "sYTDhDnq1Qce",
        "outputId": "79ffaf96-a795-486e-f4d3-2c5a425e415a",
        "colab": {
          "base_uri": "https://localhost:8080/",
          "height": 281
        }
      },
      "execution_count": 17,
      "outputs": [
        {
          "output_type": "display_data",
          "data": {
            "text/plain": [
              "<Figure size 432x288 with 1 Axes>"
            ],
            "image/png": "[encoded data removed]"
          },
          "metadata": {
            "needs_background": "light"
          }
        }
      ]
    },
    {
      "cell_type": "code",
      "source": [
        "predictions =  LRCN_model.predict(features_test)\n",
        "predictions"
      ],
      "metadata": {
        "id": "KrJfAkU41SlN",
        "outputId": "192996af-1ffe-40be-ba58-cc30c39cd450",
        "colab": {
          "base_uri": "https://localhost:8080/"
        }
      },
      "execution_count": 18,
      "outputs": [
        {
          "output_type": "execute_result",
          "data": {
            "text/plain": [
              "array([[9.44024384e-01, 3.52224451e-03, 9.13843814e-06, 5.18343039e-02,\n",
              "        4.35472932e-04, 1.74486675e-04],\n",
              "       [1.77004214e-04, 3.63527946e-02, 1.00561650e-03, 9.42060113e-01,\n",
              "        1.90141089e-02, 1.39029755e-03],\n",
              "       [4.69119385e-07, 1.70421281e-05, 9.99969602e-01, 1.55163923e-06,\n",
              "        4.10622533e-06, 7.20352955e-06],\n",
              "       ...,\n",
              "       [4.48375475e-04, 3.70689348e-04, 1.60629381e-04, 1.10989495e-04,\n",
              "        9.98683155e-01, 2.26147720e-04],\n",
              "       [1.04936989e-05, 3.80789447e-06, 1.97308364e-05, 1.69743507e-05,\n",
              "        9.99242544e-01, 7.06491410e-04],\n",
              "       [1.71207968e-04, 9.99223709e-01, 3.88433284e-04, 1.99030386e-04,\n",
              "        3.99003102e-06, 1.36053695e-05]], dtype=float32)"
            ]
          },
          "metadata": {},
          "execution_count": 18
        }
      ]
    },
    {
      "cell_type": "code",
      "source": [
        "preds=predictions.argmax(axis=1)\n",
        "preds"
      ],
      "metadata": {
        "id": "IWZvTQCa1W6M",
        "outputId": "42e78999-6b30-4e6e-df66-2f09d62e3296",
        "colab": {
          "base_uri": "https://localhost:8080/"
        }
      },
      "execution_count": 19,
      "outputs": [
        {
          "output_type": "execute_result",
          "data": {
            "text/plain": [
              "array([0, 3, 2, 5, 5, 2, 5, 1, 4, 0, 3, 1, 4, 0, 4, 5, 4, 1, 1, 1, 3, 2,\n",
              "       0, 2, 2, 5, 3, 4, 5, 5, 5, 4, 5, 0, 2, 2, 4, 1, 5, 4, 2, 2, 1, 5,\n",
              "       2, 1, 5, 5, 4, 3, 4, 2, 1, 3, 3, 0, 0, 0, 2, 5, 4, 4, 5, 0, 1, 3,\n",
              "       2, 0, 5, 1, 1, 2, 5, 3, 5, 4, 0, 3, 4, 2, 3, 4, 4, 0, 1, 1, 2, 3,\n",
              "       3, 5, 5, 1, 0, 1, 5, 5, 1, 2, 5, 3, 4, 3, 3, 5, 4, 5, 2, 1, 4, 1,\n",
              "       5, 2, 0, 1, 4, 0, 4, 1, 1, 1, 1, 5, 1, 4, 1, 2, 3, 2, 5, 1, 2, 0,\n",
              "       1, 5, 1, 0, 5, 0, 1, 1, 2, 1, 2, 3, 1, 2, 3, 0, 0, 3, 2, 3, 5, 3,\n",
              "       1, 2, 1, 3, 0, 0, 1, 3, 3, 2, 4, 1, 0, 0, 5, 4, 4, 3, 1, 4, 3, 1,\n",
              "       5, 0, 4, 4, 4, 0, 0, 5, 3, 3, 1, 3, 3, 4, 1, 4, 1, 0, 4, 2, 3, 1,\n",
              "       4, 5, 3, 2, 5, 2, 4, 4, 1])"
            ]
          },
          "metadata": {},
          "execution_count": 19
        }
      ]
    },
    {
      "cell_type": "code",
      "source": [
        "new_preds = preds.astype(int).flatten()\n",
        "new_preds"
      ],
      "metadata": {
        "id": "0CpgXIkh1Z_v",
        "outputId": "4fb4d368-6284-4b3f-a5f4-18131899c3f9",
        "colab": {
          "base_uri": "https://localhost:8080/"
        }
      },
      "execution_count": 20,
      "outputs": [
        {
          "output_type": "execute_result",
          "data": {
            "text/plain": [
              "array([0, 3, 2, 5, 5, 2, 5, 1, 4, 0, 3, 1, 4, 0, 4, 5, 4, 1, 1, 1, 3, 2,\n",
              "       0, 2, 2, 5, 3, 4, 5, 5, 5, 4, 5, 0, 2, 2, 4, 1, 5, 4, 2, 2, 1, 5,\n",
              "       2, 1, 5, 5, 4, 3, 4, 2, 1, 3, 3, 0, 0, 0, 2, 5, 4, 4, 5, 0, 1, 3,\n",
              "       2, 0, 5, 1, 1, 2, 5, 3, 5, 4, 0, 3, 4, 2, 3, 4, 4, 0, 1, 1, 2, 3,\n",
              "       3, 5, 5, 1, 0, 1, 5, 5, 1, 2, 5, 3, 4, 3, 3, 5, 4, 5, 2, 1, 4, 1,\n",
              "       5, 2, 0, 1, 4, 0, 4, 1, 1, 1, 1, 5, 1, 4, 1, 2, 3, 2, 5, 1, 2, 0,\n",
              "       1, 5, 1, 0, 5, 0, 1, 1, 2, 1, 2, 3, 1, 2, 3, 0, 0, 3, 2, 3, 5, 3,\n",
              "       1, 2, 1, 3, 0, 0, 1, 3, 3, 2, 4, 1, 0, 0, 5, 4, 4, 3, 1, 4, 3, 1,\n",
              "       5, 0, 4, 4, 4, 0, 0, 5, 3, 3, 1, 3, 3, 4, 1, 4, 1, 0, 4, 2, 3, 1,\n",
              "       4, 5, 3, 2, 5, 2, 4, 4, 1])"
            ]
          },
          "metadata": {},
          "execution_count": 20
        }
      ]
    },
    {
      "cell_type": "code",
      "source": [
        "\n",
        "from sklearn.metrics import classification_report, confusion_matrix,accuracy_score\n",
        "import seaborn as sn\n",
        "import pandas as pd\n",
        "import numpy as np\n",
        "new_labels=np.argmax(labels_test, axis=1)\n",
        "print(classification_report(new_labels,new_preds))\n",
        "\n",
        "acc = float(accuracy_score(new_labels,new_preds))*100\n",
        "print(\"----accuracy score %s ----\" % acc)\n",
        "\n",
        "cm = confusion_matrix(new_labels,new_preds)\n",
        "#df_cm = pd.DataFrame(cm)\n",
        "class_names = ['neutral','calm', 'happy','sad','angry', 'fearful' ]\n",
        "df_cm = pd.DataFrame(cm, index=class_names, columns=class_names,)\n",
        "sn.heatmap(df_cm, annot=True, fmt='')\n",
        "plt.show()"
      ],
      "metadata": {
        "id": "7U3HwUqc1cft",
        "outputId": "6e011e6b-9367-4c41-c029-d28d1e5a3d3d",
        "colab": {
          "base_uri": "https://localhost:8080/",
          "height": 508
        }
      },
      "execution_count": 21,
      "outputs": [
        {
          "output_type": "stream",
          "name": "stdout",
          "text": [
            "              precision    recall  f1-score   support\n",
            "\n",
            "           0       0.93      0.96      0.95        27\n",
            "           1       0.95      0.95      0.95        44\n",
            "           2       0.94      0.97      0.95        30\n",
            "           3       0.94      0.91      0.93        34\n",
            "           4       0.94      0.97      0.96        34\n",
            "           5       0.94      0.89      0.92        38\n",
            "\n",
            "    accuracy                           0.94       207\n",
            "   macro avg       0.94      0.94      0.94       207\n",
            "weighted avg       0.94      0.94      0.94       207\n",
            "\n",
            "----accuracy score 94.20289855072464 ----\n"
          ]
        },
        {
          "output_type": "display_data",
          "data": {
            "text/plain": [
              "<Figure size 432x288 with 2 Axes>"
            ],
            "image/png": "[encoded data removed]"
          },
          "metadata": {
            "needs_background": "light"
          }
        }
      ]
    },
    {
      "cell_type": "code",
      "source": [
        ""
      ],
      "metadata": {
        "id": "pVlEoCq0-0n3"
      },
      "execution_count": null,
      "outputs": []
    }
  ]
}