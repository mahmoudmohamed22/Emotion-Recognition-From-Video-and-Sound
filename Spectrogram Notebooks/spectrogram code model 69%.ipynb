{
  "nbformat": 4,
  "nbformat_minor": 0,
  "metadata": {
    "colab": {
      "name": "Untitled7.ipynb",
      "provenance": [],
      "collapsed_sections": []
    },
    "kernelspec": {
      "name": "python3",
      "display_name": "Python 3"
    },
    "language_info": {
      "name": "python"
    },
    "accelerator": "GPU"
  },
  "cells": [
    {
      "cell_type": "code",
      "execution_count": 1,
      "metadata": {
        "colab": {
          "base_uri": "https://localhost:8080/",
          "height": 17
        },
        "id": "AWbqRykpcjnl",
        "outputId": "f2472524-3242-4fff-a0c8-38506678fefc"
      },
      "outputs": [
        {
          "output_type": "display_data",
          "data": {
            "text/html": [
              "        <script type=\"text/javascript\">\n",
              "        window.PlotlyConfig = {MathJaxConfig: 'local'};\n",
              "        if (window.MathJax) {MathJax.Hub.Config({SVG: {font: \"STIX-Web\"}});}\n",
              "        if (typeof require !== 'undefined') {\n",
              "        require.undef(\"plotly\");\n",
              "        requirejs.config({\n",
              "            paths: {\n",
              "                'plotly': ['https://cdn.plot.ly/plotly-latest.min']\n",
              "            }\n",
              "        });\n",
              "        require(['plotly'], function(Plotly) {\n",
              "            window._Plotly = Plotly;\n",
              "        });\n",
              "        }\n",
              "        </script>\n",
              "        "
            ]
          },
          "metadata": {}
        }
      ],
      "source": [
        "## Python\n",
        "import os\n",
        "import random\n",
        "import sys\n",
        "import warnings\n",
        "warnings.filterwarnings('ignore')\n",
        "\n",
        "\n",
        "## Package\n",
        "import glob \n",
        "import keras\n",
        "import IPython.display as ipd\n",
        "import librosa\n",
        "\n",
        "import librosa.display\n",
        "import matplotlib.pyplot as plt\n",
        "import numpy as np\n",
        "import pandas as pd\n",
        "import plotly.graph_objs as go\n",
        "import plotly.offline as py\n",
        "import plotly.tools as tls\n",
        "import seaborn as sns\n",
        "import scipy.io.wavfile\n",
        "import tensorflow as tf\n",
        "py.init_notebook_mode(connected=True)\n",
        "\n",
        "\n",
        "## Keras\n",
        "from keras import regularizers\n",
        "from keras.callbacks import ModelCheckpoint, LearningRateScheduler, EarlyStopping\n",
        "from keras.callbacks import  History, ReduceLROnPlateau, CSVLogger\n",
        "from keras.models import Model, Sequential\n",
        "from keras.layers import Dense, Embedding, LSTM\n",
        "from keras.layers import Input, Flatten, Dropout, Activation, BatchNormalization\n",
        "from keras.layers import Conv1D, MaxPooling1D, AveragePooling1D\n",
        "from keras.preprocessing import sequence\n",
        "from keras.preprocessing.sequence import pad_sequences\n",
        "from keras.preprocessing.text import Tokenizer\n",
        "from keras.utils import np_utils\n",
        "from tensorflow.keras.utils import to_categorical\n",
        "\n",
        "from keras.models import Model, Sequential\n",
        "from keras import optimizers\n",
        "from keras.layers import Input, Conv1D, Conv2D,BatchNormalization, MaxPooling1D,MaxPooling2D, LSTM, Dense, Activation, Layer,Reshape\n",
        "\n",
        "from tensorflow.keras.utils import to_categorical\n",
        "import keras.backend as K\n",
        "from keras.callbacks import EarlyStopping\n",
        "from keras.callbacks import ModelCheckpoint\n",
        "from keras.models import load_model\n",
        "\n",
        "\n",
        "## Sklearn\n",
        "from sklearn.metrics import confusion_matrix\n",
        "from sklearn.preprocessing import LabelEncoder\n",
        "from sklearn.model_selection import train_test_split\n",
        "\n",
        "\n",
        "## Rest\n",
        "from scipy.fftpack import fft\n",
        "from scipy import signal\n",
        "from scipy.io import wavfile\n",
        "from tqdm import tqdm_notebook as tqdm\n",
        "\n",
        "input_duration=3\n",
        "# % pylab inline"
      ]
    },
    {
      "cell_type": "code",
      "source": [
        "Ravdess_paths= np.array((\"/content/drive/MyDrive/audio_speech_actors_01-24/\",\"/content/drive/MyDrive/audio_speech_actors_01-24/\"))\n",
        "dir_list = os.listdir(Ravdess_paths[0])\n",
        "dir_list.sort()\n",
        "print (dir_list)"
      ],
      "metadata": {
        "colab": {
          "base_uri": "https://localhost:8080/"
        },
        "id": "ft2YyzQQdn-O",
        "outputId": "ae89ce2a-13b6-4b96-e9fc-ba88d95de620"
      },
      "execution_count": 4,
      "outputs": [
        {
          "output_type": "stream",
          "name": "stdout",
          "text": [
            "[b'Actor_01', b'Actor_02', b'Actor_03', b'Actor_04', b'Actor_05', b'Actor_06', b'Actor_07', b'Actor_08', b'Actor_09', b'Actor_10', b'Actor_11', b'Actor_12', b'Actor_13', b'Actor_14', b'Actor_15', b'Actor_16', b'Actor_17', b'Actor_18', b'Actor_19', b'Actor_20', b'Actor_21', b'Actor_22', b'Actor_23', b'Actor_24']\n"
          ]
        }
      ]
    },
    {
      "cell_type": "code",
      "source": [
        "# Create DataFrame for Data intel\n",
        "ravdess_db = pd.DataFrame(columns=['path','source','actor', 'gender', 'emotion','emotion_lb'])\n",
        "count = 0\n",
        "for data_path in Ravdess_paths:\n",
        "    dir_list = os.listdir('/content/drive/MyDrive/audio_speech_actors_01-24/')\n",
        "    dir_list.sort()\n",
        "    for i in dir_list:\n",
        "        file_list = os.listdir('/content/drive/MyDrive/audio_speech_actors_01-24/' + i)\n",
        "        for f in file_list:\n",
        "            nm = f.split('.')[0].split('-')\n",
        "            path = data_path + i + '/' + f\n",
        "            src = int(nm[1])\n",
        "            actor = int(nm[-1])\n",
        "            emotion = int(nm[2])\n",
        "            source = \"Ravdess\"\n",
        "\n",
        "            if int(actor)%2 == 0:\n",
        "                gender = \"female\"\n",
        "            else:\n",
        "                gender = \"male\"\n",
        "\n",
        "            if nm[3] == '01':\n",
        "                intensity = 0\n",
        "            else:\n",
        "                intensity = 1\n",
        "\n",
        "            if nm[4] == '01':\n",
        "                statement = 0\n",
        "            else:\n",
        "                statement = 1\n",
        "\n",
        "            if nm[5] == '01':\n",
        "                repeat = 0\n",
        "            else:\n",
        "                repeat = 1\n",
        "\n",
        "            if emotion == 1:\n",
        "                lb = \"neutral\"\n",
        "            elif emotion == 2:\n",
        "                lb = \"calm\"\n",
        "            elif emotion == 3:\n",
        "                lb = \"happy\"\n",
        "            elif emotion == 4:\n",
        "                lb = \"sad\"\n",
        "            elif emotion == 5:\n",
        "                lb = \"angry\"\n",
        "            elif emotion == 6:\n",
        "                lb = \"fearful\"\n",
        "            elif emotion == 7:\n",
        "                lb = \"disgust\"\n",
        "            elif emotion == 8:\n",
        "                lb = \"surprised\"\n",
        "            else:\n",
        "                lb = \"none\"\n",
        "\n",
        "            ravdess_db.loc[count] = [path,source,actor, gender, emotion,lb]\n",
        "            count += 1\n",
        "ravdess_db.head()"
      ],
      "metadata": {
        "colab": {
          "base_uri": "https://localhost:8080/",
          "height": 206
        },
        "id": "Xi5zwjjMeMKv",
        "outputId": "4db687e2-2f04-4a88-a43d-e49258876a27"
      },
      "execution_count": 5,
      "outputs": [
        {
          "output_type": "execute_result",
          "data": {
            "text/html": [
              "\n",
              "  <div id=\"df-a2be3519-76f7-4ed4-83fd-61cc7f3b9efd\">\n",
              "    <div class=\"colab-df-container\">\n",
              "      <div>\n",
              "<style scoped>\n",
              "    .dataframe tbody tr th:only-of-type {\n",
              "        vertical-align: middle;\n",
              "    }\n",
              "\n",
              "    .dataframe tbody tr th {\n",
              "        vertical-align: top;\n",
              "    }\n",
              "\n",
              "    .dataframe thead th {\n",
              "        text-align: right;\n",
              "    }\n",
              "</style>\n",
              "<table border=\"1\" class=\"dataframe\">\n",
              "  <thead>\n",
              "    <tr style=\"text-align: right;\">\n",
              "      <th></th>\n",
              "      <th>path</th>\n",
              "      <th>source</th>\n",
              "      <th>actor</th>\n",
              "      <th>gender</th>\n",
              "      <th>emotion</th>\n",
              "      <th>emotion_lb</th>\n",
              "    </tr>\n",
              "  </thead>\n",
              "  <tbody>\n",
              "    <tr>\n",
              "      <th>0</th>\n",
              "      <td>/content/drive/MyDrive/audio_speech_actors_01-...</td>\n",
              "      <td>Ravdess</td>\n",
              "      <td>1</td>\n",
              "      <td>male</td>\n",
              "      <td>1</td>\n",
              "      <td>neutral</td>\n",
              "    </tr>\n",
              "    <tr>\n",
              "      <th>1</th>\n",
              "      <td>/content/drive/MyDrive/audio_speech_actors_01-...</td>\n",
              "      <td>Ravdess</td>\n",
              "      <td>1</td>\n",
              "      <td>male</td>\n",
              "      <td>1</td>\n",
              "      <td>neutral</td>\n",
              "    </tr>\n",
              "    <tr>\n",
              "      <th>2</th>\n",
              "      <td>/content/drive/MyDrive/audio_speech_actors_01-...</td>\n",
              "      <td>Ravdess</td>\n",
              "      <td>1</td>\n",
              "      <td>male</td>\n",
              "      <td>2</td>\n",
              "      <td>calm</td>\n",
              "    </tr>\n",
              "    <tr>\n",
              "      <th>3</th>\n",
              "      <td>/content/drive/MyDrive/audio_speech_actors_01-...</td>\n",
              "      <td>Ravdess</td>\n",
              "      <td>1</td>\n",
              "      <td>male</td>\n",
              "      <td>2</td>\n",
              "      <td>calm</td>\n",
              "    </tr>\n",
              "    <tr>\n",
              "      <th>4</th>\n",
              "      <td>/content/drive/MyDrive/audio_speech_actors_01-...</td>\n",
              "      <td>Ravdess</td>\n",
              "      <td>1</td>\n",
              "      <td>male</td>\n",
              "      <td>1</td>\n",
              "      <td>neutral</td>\n",
              "    </tr>\n",
              "  </tbody>\n",
              "</table>\n",
              "</div>\n",
              "      <button class=\"colab-df-convert\" onclick=\"convertToInteractive('df-a2be3519-76f7-4ed4-83fd-61cc7f3b9efd')\"\n",
              "              title=\"Convert this dataframe to an interactive table.\"\n",
              "              style=\"display:none;\">\n",
              "        \n",
              "  <svg xmlns=\"http://www.w3.org/2000/svg\" height=\"24px\"viewBox=\"0 0 24 24\"\n",
              "       width=\"24px\">\n",
              "    <path d=\"M0 0h24v24H0V0z\" fill=\"none\"/>\n",
              "    <path d=\"M18.56 5.44l.94 2.06.94-2.06 2.06-.94-2.06-.94-.94-2.06-.94 2.06-2.06.94zm-11 1L8.5 8.5l.94-2.06 2.06-.94-2.06-.94L8.5 2.5l-.94 2.06-2.06.94zm10 10l.94 2.06.94-2.06 2.06-.94-2.06-.94-.94-2.06-.94 2.06-2.06.94z\"/><path d=\"M17.41 7.96l-1.37-1.37c-.4-.4-.92-.59-1.43-.59-.52 0-1.04.2-1.43.59L10.3 9.45l-7.72 7.72c-.78.78-.78 2.05 0 2.83L4 21.41c.39.39.9.59 1.41.59.51 0 1.02-.2 1.41-.59l7.78-7.78 2.81-2.81c.8-.78.8-2.07 0-2.86zM5.41 20L4 18.59l7.72-7.72 1.47 1.35L5.41 20z\"/>\n",
              "  </svg>\n",
              "      </button>\n",
              "      \n",
              "  <style>\n",
              "    .colab-df-container {\n",
              "      display:flex;\n",
              "      flex-wrap:wrap;\n",
              "      gap: 12px;\n",
              "    }\n",
              "\n",
              "    .colab-df-convert {\n",
              "      background-color: #E8F0FE;\n",
              "      border: none;\n",
              "      border-radius: 50%;\n",
              "      cursor: pointer;\n",
              "      display: none;\n",
              "      fill: #1967D2;\n",
              "      height: 32px;\n",
              "      padding: 0 0 0 0;\n",
              "      width: 32px;\n",
              "    }\n",
              "\n",
              "    .colab-df-convert:hover {\n",
              "      background-color: #E2EBFA;\n",
              "      box-shadow: 0px 1px 2px rgba(60, 64, 67, 0.3), 0px 1px 3px 1px rgba(60, 64, 67, 0.15);\n",
              "      fill: #174EA6;\n",
              "    }\n",
              "\n",
              "    [theme=dark] .colab-df-convert {\n",
              "      background-color: #3B4455;\n",
              "      fill: #D2E3FC;\n",
              "    }\n",
              "\n",
              "    [theme=dark] .colab-df-convert:hover {\n",
              "      background-color: #434B5C;\n",
              "      box-shadow: 0px 1px 3px 1px rgba(0, 0, 0, 0.15);\n",
              "      filter: drop-shadow(0px 1px 2px rgba(0, 0, 0, 0.3));\n",
              "      fill: #FFFFFF;\n",
              "    }\n",
              "  </style>\n",
              "\n",
              "      <script>\n",
              "        const buttonEl =\n",
              "          document.querySelector('#df-a2be3519-76f7-4ed4-83fd-61cc7f3b9efd button.colab-df-convert');\n",
              "        buttonEl.style.display =\n",
              "          google.colab.kernel.accessAllowed ? 'block' : 'none';\n",
              "\n",
              "        async function convertToInteractive(key) {\n",
              "          const element = document.querySelector('#df-a2be3519-76f7-4ed4-83fd-61cc7f3b9efd');\n",
              "          const dataTable =\n",
              "            await google.colab.kernel.invokeFunction('convertToInteractive',\n",
              "                                                     [key], {});\n",
              "          if (!dataTable) return;\n",
              "\n",
              "          const docLinkHtml = 'Like what you see? Visit the ' +\n",
              "            '<a target=\"_blank\" href=https://colab.research.google.com/notebooks/data_table.ipynb>data table notebook</a>'\n",
              "            + ' to learn more about interactive tables.';\n",
              "          element.innerHTML = '';\n",
              "          dataTable['output_type'] = 'display_data';\n",
              "          await google.colab.output.renderOutput(dataTable, element);\n",
              "          const docLink = document.createElement('div');\n",
              "          docLink.innerHTML = docLinkHtml;\n",
              "          element.appendChild(docLink);\n",
              "        }\n",
              "      </script>\n",
              "    </div>\n",
              "  </div>\n",
              "  "
            ],
            "text/plain": [
              "                                                path  ... emotion_lb\n",
              "0  /content/drive/MyDrive/audio_speech_actors_01-...  ...    neutral\n",
              "1  /content/drive/MyDrive/audio_speech_actors_01-...  ...    neutral\n",
              "2  /content/drive/MyDrive/audio_speech_actors_01-...  ...       calm\n",
              "3  /content/drive/MyDrive/audio_speech_actors_01-...  ...       calm\n",
              "4  /content/drive/MyDrive/audio_speech_actors_01-...  ...    neutral\n",
              "\n",
              "[5 rows x 6 columns]"
            ]
          },
          "metadata": {},
          "execution_count": 5
        }
      ]
    },
    {
      "cell_type": "code",
      "source": [
        "ravdess_db['split'] =  np.where((ravdess_db.actor ==23) | (ravdess_db.actor ==24), 'Test', \n",
        "                                (np.where((ravdess_db.actor ==21) | (ravdess_db.actor ==22),'Val','Train')))\n",
        "ravdess_db['split'].value_counts()"
      ],
      "metadata": {
        "colab": {
          "base_uri": "https://localhost:8080/"
        },
        "id": "nRSV2vIt1t_a",
        "outputId": "ab9da9fd-2e88-4965-b822-f67a91774365"
      },
      "execution_count": 6,
      "outputs": [
        {
          "output_type": "execute_result",
          "data": {
            "text/plain": [
              "Train    2400\n",
              "Val       240\n",
              "Test      240\n",
              "Name: split, dtype: int64"
            ]
          },
          "metadata": {},
          "execution_count": 6
        }
      ]
    },
    {
      "cell_type": "code",
      "source": [
        "ravdess_db.drop(ravdess_db.index[ravdess_db['emotion_lb'] == 'surprised'], inplace = True)\n",
        "ravdess_db.loc[ravdess_db.emotion_lb=='calm',['emotion','emotion_lb']]= 1,'neutral'\n",
        "ravdess_db.emotion_lb.value_counts()"
      ],
      "metadata": {
        "colab": {
          "base_uri": "https://localhost:8080/"
        },
        "id": "7dMMATb31xTx",
        "outputId": "352cf791-5aa3-4647-f7bf-d061975305fc"
      },
      "execution_count": 7,
      "outputs": [
        {
          "output_type": "execute_result",
          "data": {
            "text/plain": [
              "neutral    576\n",
              "angry      384\n",
              "happy      384\n",
              "disgust    384\n",
              "fearful    384\n",
              "sad        384\n",
              "Name: emotion_lb, dtype: int64"
            ]
          },
          "metadata": {},
          "execution_count": 7
        }
      ]
    },
    {
      "cell_type": "code",
      "source": [
        "dataset_db = ravdess_db.copy()\n",
        "\n",
        "dataset_db.emotion_lb.value_counts()"
      ],
      "metadata": {
        "colab": {
          "base_uri": "https://localhost:8080/"
        },
        "id": "II1kCwID1yZA",
        "outputId": "f880c960-2d2a-4544-adca-2a044d5f7fef"
      },
      "execution_count": 8,
      "outputs": [
        {
          "output_type": "execute_result",
          "data": {
            "text/plain": [
              "neutral    576\n",
              "angry      384\n",
              "happy      384\n",
              "disgust    384\n",
              "fearful    384\n",
              "sad        384\n",
              "Name: emotion_lb, dtype: int64"
            ]
          },
          "metadata": {},
          "execution_count": 8
        }
      ]
    },
    {
      "cell_type": "code",
      "source": [
        "dataset_db.index=range(len(dataset_db.index))\n",
        "dataset_db.head()"
      ],
      "metadata": {
        "colab": {
          "base_uri": "https://localhost:8080/",
          "height": 206
        },
        "id": "-vfrgUhv14hY",
        "outputId": "4b49cfc4-45e4-4e5a-ccf1-d2a253eb01cd"
      },
      "execution_count": 9,
      "outputs": [
        {
          "output_type": "execute_result",
          "data": {
            "text/html": [
              "\n",
              "  <div id=\"df-99c24fec-0839-4573-8e30-3887f3ca4d88\">\n",
              "    <div class=\"colab-df-container\">\n",
              "      <div>\n",
              "<style scoped>\n",
              "    .dataframe tbody tr th:only-of-type {\n",
              "        vertical-align: middle;\n",
              "    }\n",
              "\n",
              "    .dataframe tbody tr th {\n",
              "        vertical-align: top;\n",
              "    }\n",
              "\n",
              "    .dataframe thead th {\n",
              "        text-align: right;\n",
              "    }\n",
              "</style>\n",
              "<table border=\"1\" class=\"dataframe\">\n",
              "  <thead>\n",
              "    <tr style=\"text-align: right;\">\n",
              "      <th></th>\n",
              "      <th>path</th>\n",
              "      <th>source</th>\n",
              "      <th>actor</th>\n",
              "      <th>gender</th>\n",
              "      <th>emotion</th>\n",
              "      <th>emotion_lb</th>\n",
              "      <th>split</th>\n",
              "    </tr>\n",
              "  </thead>\n",
              "  <tbody>\n",
              "    <tr>\n",
              "      <th>0</th>\n",
              "      <td>/content/drive/MyDrive/audio_speech_actors_01-...</td>\n",
              "      <td>Ravdess</td>\n",
              "      <td>1</td>\n",
              "      <td>male</td>\n",
              "      <td>1</td>\n",
              "      <td>neutral</td>\n",
              "      <td>Train</td>\n",
              "    </tr>\n",
              "    <tr>\n",
              "      <th>1</th>\n",
              "      <td>/content/drive/MyDrive/audio_speech_actors_01-...</td>\n",
              "      <td>Ravdess</td>\n",
              "      <td>1</td>\n",
              "      <td>male</td>\n",
              "      <td>1</td>\n",
              "      <td>neutral</td>\n",
              "      <td>Train</td>\n",
              "    </tr>\n",
              "    <tr>\n",
              "      <th>2</th>\n",
              "      <td>/content/drive/MyDrive/audio_speech_actors_01-...</td>\n",
              "      <td>Ravdess</td>\n",
              "      <td>1</td>\n",
              "      <td>male</td>\n",
              "      <td>1</td>\n",
              "      <td>neutral</td>\n",
              "      <td>Train</td>\n",
              "    </tr>\n",
              "    <tr>\n",
              "      <th>3</th>\n",
              "      <td>/content/drive/MyDrive/audio_speech_actors_01-...</td>\n",
              "      <td>Ravdess</td>\n",
              "      <td>1</td>\n",
              "      <td>male</td>\n",
              "      <td>1</td>\n",
              "      <td>neutral</td>\n",
              "      <td>Train</td>\n",
              "    </tr>\n",
              "    <tr>\n",
              "      <th>4</th>\n",
              "      <td>/content/drive/MyDrive/audio_speech_actors_01-...</td>\n",
              "      <td>Ravdess</td>\n",
              "      <td>1</td>\n",
              "      <td>male</td>\n",
              "      <td>1</td>\n",
              "      <td>neutral</td>\n",
              "      <td>Train</td>\n",
              "    </tr>\n",
              "  </tbody>\n",
              "</table>\n",
              "</div>\n",
              "      <button class=\"colab-df-convert\" onclick=\"convertToInteractive('df-99c24fec-0839-4573-8e30-3887f3ca4d88')\"\n",
              "              title=\"Convert this dataframe to an interactive table.\"\n",
              "              style=\"display:none;\">\n",
              "        \n",
              "  <svg xmlns=\"http://www.w3.org/2000/svg\" height=\"24px\"viewBox=\"0 0 24 24\"\n",
              "       width=\"24px\">\n",
              "    <path d=\"M0 0h24v24H0V0z\" fill=\"none\"/>\n",
              "    <path d=\"M18.56 5.44l.94 2.06.94-2.06 2.06-.94-2.06-.94-.94-2.06-.94 2.06-2.06.94zm-11 1L8.5 8.5l.94-2.06 2.06-.94-2.06-.94L8.5 2.5l-.94 2.06-2.06.94zm10 10l.94 2.06.94-2.06 2.06-.94-2.06-.94-.94-2.06-.94 2.06-2.06.94z\"/><path d=\"M17.41 7.96l-1.37-1.37c-.4-.4-.92-.59-1.43-.59-.52 0-1.04.2-1.43.59L10.3 9.45l-7.72 7.72c-.78.78-.78 2.05 0 2.83L4 21.41c.39.39.9.59 1.41.59.51 0 1.02-.2 1.41-.59l7.78-7.78 2.81-2.81c.8-.78.8-2.07 0-2.86zM5.41 20L4 18.59l7.72-7.72 1.47 1.35L5.41 20z\"/>\n",
              "  </svg>\n",
              "      </button>\n",
              "      \n",
              "  <style>\n",
              "    .colab-df-container {\n",
              "      display:flex;\n",
              "      flex-wrap:wrap;\n",
              "      gap: 12px;\n",
              "    }\n",
              "\n",
              "    .colab-df-convert {\n",
              "      background-color: #E8F0FE;\n",
              "      border: none;\n",
              "      border-radius: 50%;\n",
              "      cursor: pointer;\n",
              "      display: none;\n",
              "      fill: #1967D2;\n",
              "      height: 32px;\n",
              "      padding: 0 0 0 0;\n",
              "      width: 32px;\n",
              "    }\n",
              "\n",
              "    .colab-df-convert:hover {\n",
              "      background-color: #E2EBFA;\n",
              "      box-shadow: 0px 1px 2px rgba(60, 64, 67, 0.3), 0px 1px 3px 1px rgba(60, 64, 67, 0.15);\n",
              "      fill: #174EA6;\n",
              "    }\n",
              "\n",
              "    [theme=dark] .colab-df-convert {\n",
              "      background-color: #3B4455;\n",
              "      fill: #D2E3FC;\n",
              "    }\n",
              "\n",
              "    [theme=dark] .colab-df-convert:hover {\n",
              "      background-color: #434B5C;\n",
              "      box-shadow: 0px 1px 3px 1px rgba(0, 0, 0, 0.15);\n",
              "      filter: drop-shadow(0px 1px 2px rgba(0, 0, 0, 0.3));\n",
              "      fill: #FFFFFF;\n",
              "    }\n",
              "  </style>\n",
              "\n",
              "      <script>\n",
              "        const buttonEl =\n",
              "          document.querySelector('#df-99c24fec-0839-4573-8e30-3887f3ca4d88 button.colab-df-convert');\n",
              "        buttonEl.style.display =\n",
              "          google.colab.kernel.accessAllowed ? 'block' : 'none';\n",
              "\n",
              "        async function convertToInteractive(key) {\n",
              "          const element = document.querySelector('#df-99c24fec-0839-4573-8e30-3887f3ca4d88');\n",
              "          const dataTable =\n",
              "            await google.colab.kernel.invokeFunction('convertToInteractive',\n",
              "                                                     [key], {});\n",
              "          if (!dataTable) return;\n",
              "\n",
              "          const docLinkHtml = 'Like what you see? Visit the ' +\n",
              "            '<a target=\"_blank\" href=https://colab.research.google.com/notebooks/data_table.ipynb>data table notebook</a>'\n",
              "            + ' to learn more about interactive tables.';\n",
              "          element.innerHTML = '';\n",
              "          dataTable['output_type'] = 'display_data';\n",
              "          await google.colab.output.renderOutput(dataTable, element);\n",
              "          const docLink = document.createElement('div');\n",
              "          docLink.innerHTML = docLinkHtml;\n",
              "          element.appendChild(docLink);\n",
              "        }\n",
              "      </script>\n",
              "    </div>\n",
              "  </div>\n",
              "  "
            ],
            "text/plain": [
              "                                                path   source  ... emotion_lb  split\n",
              "0  /content/drive/MyDrive/audio_speech_actors_01-...  Ravdess  ...    neutral  Train\n",
              "1  /content/drive/MyDrive/audio_speech_actors_01-...  Ravdess  ...    neutral  Train\n",
              "2  /content/drive/MyDrive/audio_speech_actors_01-...  Ravdess  ...    neutral  Train\n",
              "3  /content/drive/MyDrive/audio_speech_actors_01-...  Ravdess  ...    neutral  Train\n",
              "4  /content/drive/MyDrive/audio_speech_actors_01-...  Ravdess  ...    neutral  Train\n",
              "\n",
              "[5 rows x 7 columns]"
            ]
          },
          "metadata": {},
          "execution_count": 9
        }
      ]
    },
    {
      "cell_type": "code",
      "source": [
        "dataset_db.emotion_lb = dataset_db.gender+\"_\"+dataset_db.emotion_lb\n",
        "dataset_db.index=range(len(dataset_db.index))\n",
        "dataset_db.emotion_lb.value_counts()\n",
        "dataset_db.sort_values(by=['path'], inplace=True)\n",
        "dataset_db.head()"
      ],
      "metadata": {
        "colab": {
          "base_uri": "https://localhost:8080/",
          "height": 206
        },
        "id": "2edac_eW16tw",
        "outputId": "9ec7e1cb-0c4c-4b8c-d368-328d3430c611"
      },
      "execution_count": 10,
      "outputs": [
        {
          "output_type": "execute_result",
          "data": {
            "text/html": [
              "\n",
              "  <div id=\"df-af29e0ff-14cb-4921-a678-9eeb91624283\">\n",
              "    <div class=\"colab-df-container\">\n",
              "      <div>\n",
              "<style scoped>\n",
              "    .dataframe tbody tr th:only-of-type {\n",
              "        vertical-align: middle;\n",
              "    }\n",
              "\n",
              "    .dataframe tbody tr th {\n",
              "        vertical-align: top;\n",
              "    }\n",
              "\n",
              "    .dataframe thead th {\n",
              "        text-align: right;\n",
              "    }\n",
              "</style>\n",
              "<table border=\"1\" class=\"dataframe\">\n",
              "  <thead>\n",
              "    <tr style=\"text-align: right;\">\n",
              "      <th></th>\n",
              "      <th>path</th>\n",
              "      <th>source</th>\n",
              "      <th>actor</th>\n",
              "      <th>gender</th>\n",
              "      <th>emotion</th>\n",
              "      <th>emotion_lb</th>\n",
              "      <th>split</th>\n",
              "    </tr>\n",
              "  </thead>\n",
              "  <tbody>\n",
              "    <tr>\n",
              "      <th>1</th>\n",
              "      <td>/content/drive/MyDrive/audio_speech_actors_01-...</td>\n",
              "      <td>Ravdess</td>\n",
              "      <td>1</td>\n",
              "      <td>male</td>\n",
              "      <td>1</td>\n",
              "      <td>male_neutral</td>\n",
              "      <td>Train</td>\n",
              "    </tr>\n",
              "    <tr>\n",
              "      <th>1249</th>\n",
              "      <td>/content/drive/MyDrive/audio_speech_actors_01-...</td>\n",
              "      <td>Ravdess</td>\n",
              "      <td>1</td>\n",
              "      <td>male</td>\n",
              "      <td>1</td>\n",
              "      <td>male_neutral</td>\n",
              "      <td>Train</td>\n",
              "    </tr>\n",
              "    <tr>\n",
              "      <th>0</th>\n",
              "      <td>/content/drive/MyDrive/audio_speech_actors_01-...</td>\n",
              "      <td>Ravdess</td>\n",
              "      <td>1</td>\n",
              "      <td>male</td>\n",
              "      <td>1</td>\n",
              "      <td>male_neutral</td>\n",
              "      <td>Train</td>\n",
              "    </tr>\n",
              "    <tr>\n",
              "      <th>1248</th>\n",
              "      <td>/content/drive/MyDrive/audio_speech_actors_01-...</td>\n",
              "      <td>Ravdess</td>\n",
              "      <td>1</td>\n",
              "      <td>male</td>\n",
              "      <td>1</td>\n",
              "      <td>male_neutral</td>\n",
              "      <td>Train</td>\n",
              "    </tr>\n",
              "    <tr>\n",
              "      <th>1252</th>\n",
              "      <td>/content/drive/MyDrive/audio_speech_actors_01-...</td>\n",
              "      <td>Ravdess</td>\n",
              "      <td>1</td>\n",
              "      <td>male</td>\n",
              "      <td>1</td>\n",
              "      <td>male_neutral</td>\n",
              "      <td>Train</td>\n",
              "    </tr>\n",
              "  </tbody>\n",
              "</table>\n",
              "</div>\n",
              "      <button class=\"colab-df-convert\" onclick=\"convertToInteractive('df-af29e0ff-14cb-4921-a678-9eeb91624283')\"\n",
              "              title=\"Convert this dataframe to an interactive table.\"\n",
              "              style=\"display:none;\">\n",
              "        \n",
              "  <svg xmlns=\"http://www.w3.org/2000/svg\" height=\"24px\"viewBox=\"0 0 24 24\"\n",
              "       width=\"24px\">\n",
              "    <path d=\"M0 0h24v24H0V0z\" fill=\"none\"/>\n",
              "    <path d=\"M18.56 5.44l.94 2.06.94-2.06 2.06-.94-2.06-.94-.94-2.06-.94 2.06-2.06.94zm-11 1L8.5 8.5l.94-2.06 2.06-.94-2.06-.94L8.5 2.5l-.94 2.06-2.06.94zm10 10l.94 2.06.94-2.06 2.06-.94-2.06-.94-.94-2.06-.94 2.06-2.06.94z\"/><path d=\"M17.41 7.96l-1.37-1.37c-.4-.4-.92-.59-1.43-.59-.52 0-1.04.2-1.43.59L10.3 9.45l-7.72 7.72c-.78.78-.78 2.05 0 2.83L4 21.41c.39.39.9.59 1.41.59.51 0 1.02-.2 1.41-.59l7.78-7.78 2.81-2.81c.8-.78.8-2.07 0-2.86zM5.41 20L4 18.59l7.72-7.72 1.47 1.35L5.41 20z\"/>\n",
              "  </svg>\n",
              "      </button>\n",
              "      \n",
              "  <style>\n",
              "    .colab-df-container {\n",
              "      display:flex;\n",
              "      flex-wrap:wrap;\n",
              "      gap: 12px;\n",
              "    }\n",
              "\n",
              "    .colab-df-convert {\n",
              "      background-color: #E8F0FE;\n",
              "      border: none;\n",
              "      border-radius: 50%;\n",
              "      cursor: pointer;\n",
              "      display: none;\n",
              "      fill: #1967D2;\n",
              "      height: 32px;\n",
              "      padding: 0 0 0 0;\n",
              "      width: 32px;\n",
              "    }\n",
              "\n",
              "    .colab-df-convert:hover {\n",
              "      background-color: #E2EBFA;\n",
              "      box-shadow: 0px 1px 2px rgba(60, 64, 67, 0.3), 0px 1px 3px 1px rgba(60, 64, 67, 0.15);\n",
              "      fill: #174EA6;\n",
              "    }\n",
              "\n",
              "    [theme=dark] .colab-df-convert {\n",
              "      background-color: #3B4455;\n",
              "      fill: #D2E3FC;\n",
              "    }\n",
              "\n",
              "    [theme=dark] .colab-df-convert:hover {\n",
              "      background-color: #434B5C;\n",
              "      box-shadow: 0px 1px 3px 1px rgba(0, 0, 0, 0.15);\n",
              "      filter: drop-shadow(0px 1px 2px rgba(0, 0, 0, 0.3));\n",
              "      fill: #FFFFFF;\n",
              "    }\n",
              "  </style>\n",
              "\n",
              "      <script>\n",
              "        const buttonEl =\n",
              "          document.querySelector('#df-af29e0ff-14cb-4921-a678-9eeb91624283 button.colab-df-convert');\n",
              "        buttonEl.style.display =\n",
              "          google.colab.kernel.accessAllowed ? 'block' : 'none';\n",
              "\n",
              "        async function convertToInteractive(key) {\n",
              "          const element = document.querySelector('#df-af29e0ff-14cb-4921-a678-9eeb91624283');\n",
              "          const dataTable =\n",
              "            await google.colab.kernel.invokeFunction('convertToInteractive',\n",
              "                                                     [key], {});\n",
              "          if (!dataTable) return;\n",
              "\n",
              "          const docLinkHtml = 'Like what you see? Visit the ' +\n",
              "            '<a target=\"_blank\" href=https://colab.research.google.com/notebooks/data_table.ipynb>data table notebook</a>'\n",
              "            + ' to learn more about interactive tables.';\n",
              "          element.innerHTML = '';\n",
              "          dataTable['output_type'] = 'display_data';\n",
              "          await google.colab.output.renderOutput(dataTable, element);\n",
              "          const docLink = document.createElement('div');\n",
              "          docLink.innerHTML = docLinkHtml;\n",
              "          element.appendChild(docLink);\n",
              "        }\n",
              "      </script>\n",
              "    </div>\n",
              "  </div>\n",
              "  "
            ],
            "text/plain": [
              "                                                   path  ...  split\n",
              "1     /content/drive/MyDrive/audio_speech_actors_01-...  ...  Train\n",
              "1249  /content/drive/MyDrive/audio_speech_actors_01-...  ...  Train\n",
              "0     /content/drive/MyDrive/audio_speech_actors_01-...  ...  Train\n",
              "1248  /content/drive/MyDrive/audio_speech_actors_01-...  ...  Train\n",
              "1252  /content/drive/MyDrive/audio_speech_actors_01-...  ...  Train\n",
              "\n",
              "[5 rows x 7 columns]"
            ]
          },
          "metadata": {},
          "execution_count": 10
        }
      ]
    },
    {
      "cell_type": "code",
      "source": [
        "dataset_db.index = range(len(dataset_db.index))\n",
        "dataset_db.shape"
      ],
      "metadata": {
        "colab": {
          "base_uri": "https://localhost:8080/"
        },
        "id": "XQYlD2dx19Mo",
        "outputId": "5eb59d96-76b7-4e8f-9c71-589230871f6f"
      },
      "execution_count": 11,
      "outputs": [
        {
          "output_type": "execute_result",
          "data": {
            "text/plain": [
              "(2496, 7)"
            ]
          },
          "metadata": {},
          "execution_count": 11
        }
      ]
    },
    {
      "cell_type": "code",
      "source": [
        "audio_duration = 3\n",
        "sampling_rate = 22050*2\n",
        "input_length = sampling_rate * audio_duration\n",
        "n_mfcc = 20\n",
        "data_sample= np.zeros(input_length)\n",
        "MFCC = librosa.feature.mfcc(data_sample, sr=sampling_rate, n_mfcc=n_mfcc)\n",
        "MFCC.shape"
      ],
      "metadata": {
        "colab": {
          "base_uri": "https://localhost:8080/"
        },
        "id": "lWyxlK701_6A",
        "outputId": "cfda47c2-8563-4086-8cec-c20434e52a49"
      },
      "execution_count": 12,
      "outputs": [
        {
          "output_type": "execute_result",
          "data": {
            "text/plain": [
              "(20, 259)"
            ]
          },
          "metadata": {},
          "execution_count": 12
        }
      ]
    },
    {
      "cell_type": "code",
      "source": [
        "dataset_db.split.value_counts()"
      ],
      "metadata": {
        "colab": {
          "base_uri": "https://localhost:8080/"
        },
        "id": "4NzTzkxD2CZQ",
        "outputId": "5440484f-593f-474d-cd77-8a746c483ddf"
      },
      "execution_count": 13,
      "outputs": [
        {
          "output_type": "execute_result",
          "data": {
            "text/plain": [
              "Train    2080\n",
              "Val       208\n",
              "Test      208\n",
              "Name: split, dtype: int64"
            ]
          },
          "metadata": {},
          "execution_count": 13
        }
      ]
    },
    {
      "cell_type": "code",
      "source": [
        "from tqdm import tqdm\n",
        "signal, sample_rate = librosa.load(ravdess_db.path[0], res_type='kaiser_fast',sr=sampling_rate)\n",
        "signal,index = librosa.effects.trim(signal,top_db = 25)\n",
        "signal = scipy.signal.wiener(signal)\n",
        "\n",
        "if len(signal) > input_length:\n",
        "    signal = signal[0:input_length]\n",
        "elif  input_length > len(signal):\n",
        "    max_offset = input_length - len(signal)  \n",
        "    signal = np.pad(signal, (0, max_offset), \"constant\")\n",
        "signal = np.array(signal).reshape(-1,1)\n",
        "signal.shape"
      ],
      "metadata": {
        "colab": {
          "base_uri": "https://localhost:8080/"
        },
        "id": "F4xJVlSW2FBY",
        "outputId": "00364a7a-b8e0-4e8a-b9ab-e850efc27fb6"
      },
      "execution_count": 17,
      "outputs": [
        {
          "output_type": "execute_result",
          "data": {
            "text/plain": [
              "(132300, 1)"
            ]
          },
          "metadata": {},
          "execution_count": 17
        }
      ]
    },
    {
      "cell_type": "code",
      "source": [
        "audios= np.empty(shape=(dataset_db.shape[0],128, MFCC.shape[1], 1))\n",
        "\n",
        "count=0\n",
        "for i in tqdm(range(len(dataset_db))):\n",
        "    signal, sample_rate = librosa.load(dataset_db.path[i], res_type='kaiser_fast',sr=sampling_rate)\n",
        "    signal,index = librosa.effects.trim(signal,top_db = 25)\n",
        "    signal = scipy.signal.wiener(signal)\n",
        "    \n",
        "    if len(signal) > input_length:\n",
        "        signal = signal[0:input_length]\n",
        "    elif  input_length > len(signal):\n",
        "        max_offset = input_length - len(signal)  \n",
        "        signal = np.pad(signal, (0, max_offset), \"constant\")\n",
        "\n",
        "    melspec = librosa.feature.melspectrogram(signal, sr=sample_rate, n_mels=128,n_fft=2048,hop_length=512)   \n",
        "    logspec = librosa.amplitude_to_db(melspec)\n",
        "    logspec = np.expand_dims(logspec, axis=-1)\n",
        "    audios[count,] = logspec \n",
        "    count+=1\n"
      ],
      "metadata": {
        "colab": {
          "base_uri": "https://localhost:8080/"
        },
        "id": "bP6W3C_t4NaH",
        "outputId": "f2efebb4-2844-4598-d94a-94baa1593aeb"
      },
      "execution_count": 19,
      "outputs": [
        {
          "output_type": "stream",
          "name": "stderr",
          "text": [
            "100%|██████████| 2496/2496 [04:32<00:00,  9.16it/s]\n"
          ]
        }
      ]
    },
    {
      "cell_type": "code",
      "source": [
        "audios.shape"
      ],
      "metadata": {
        "colab": {
          "base_uri": "https://localhost:8080/"
        },
        "id": "lPZ0a08K76mi",
        "outputId": "4f179260-ade4-4611-9e8a-a293e94c7b61"
      },
      "execution_count": 20,
      "outputs": [
        {
          "output_type": "execute_result",
          "data": {
            "text/plain": [
              "(2496, 128, 259, 1)"
            ]
          },
          "metadata": {},
          "execution_count": 20
        }
      ]
    },
    {
      "cell_type": "code",
      "source": [
        "import h5py\n",
        "with h5py.File('/content/drive/MyDrive/weights-improvement-90-0.73_best.hdf5', 'w') as hf:\n",
        "    hf.create_dataset(\"Ravdess_audio_Mel_spec\",  data=audios)"
      ],
      "metadata": {
        "id": "xiTwYTZh7-cZ"
      },
      "execution_count": 22,
      "outputs": []
    },
    {
      "cell_type": "code",
      "source": [
        "import h5py\n",
        "with h5py.File('/content/drive/MyDrive/weights-improvement-90-0.73_best.hdf5', 'r') as hf:\n",
        "  audios = hf['Ravdess_audio_Mel_spec'][:]"
      ],
      "metadata": {
        "id": "DmokXMQV-AdQ"
      },
      "execution_count": 24,
      "outputs": []
    },
    {
      "cell_type": "code",
      "source": [
        "librosa.display.specshow(audios[0].reshape(128,259))"
      ],
      "metadata": {
        "colab": {
          "base_uri": "https://localhost:8080/",
          "height": 269
        },
        "id": "OKYJFuQd-QKY",
        "outputId": "4a4f3cf3-8d77-4440-801d-7d0160395d9a"
      },
      "execution_count": 25,
      "outputs": [
        {
          "output_type": "execute_result",
          "data": {
            "text/plain": [
              "<matplotlib.collections.QuadMesh at 0x7f3bbe65ff50>"
            ]
          },
          "metadata": {},
          "execution_count": 25
        },
        {
          "output_type": "display_data",
          "data": {
            "image/png": "[encoded data removed]",
            "text/plain": [
              "<Figure size 432x288 with 1 Axes>"
            ]
          },
          "metadata": {}
        }
      ]
    },
    {
      "cell_type": "code",
      "source": [
        "x_train = audios[(dataset_db['split'] == 'Train')]\n",
        "y_train = dataset_db.emotion_lb[(dataset_db['split'] == 'Train')]\n",
        "\n",
        "print(x_train.shape,y_train.shape)"
      ],
      "metadata": {
        "colab": {
          "base_uri": "https://localhost:8080/"
        },
        "id": "tsJBjLc8-Vtm",
        "outputId": "90806f94-d967-49b8-f590-754fa1fda9c6"
      },
      "execution_count": 26,
      "outputs": [
        {
          "output_type": "stream",
          "name": "stdout",
          "text": [
            "(2080, 128, 259, 1) (2080,)\n"
          ]
        }
      ]
    },
    {
      "cell_type": "code",
      "source": [
        "x_test = audios[(dataset_db['split'] == 'Val')]\n",
        "y_test = dataset_db.emotion_lb[(dataset_db['split'] == 'Val')]\n",
        "\n",
        "print(x_test.shape,y_test.shape)"
      ],
      "metadata": {
        "colab": {
          "base_uri": "https://localhost:8080/"
        },
        "id": "oaU4fSZS-ZG2",
        "outputId": "9fa55cc7-3e52-4a35-97c6-c3947c3692c4"
      },
      "execution_count": 27,
      "outputs": [
        {
          "output_type": "stream",
          "name": "stdout",
          "text": [
            "(208, 128, 259, 1) (208,)\n"
          ]
        }
      ]
    },
    {
      "cell_type": "code",
      "source": [
        "x_train = np.array(x_train)\n",
        "y_train = np.array(y_train)\n",
        "x_test = np.array(x_test)\n",
        "y_test = np.array(y_test)\n",
        "\n",
        "lb = LabelEncoder()\n",
        "y_train = np_utils.to_categorical(lb.fit_transform(y_train))\n",
        "y_test = np_utils.to_categorical(lb.fit_transform(y_test))"
      ],
      "metadata": {
        "id": "Pbi1Mk-z-ba2"
      },
      "execution_count": 28,
      "outputs": []
    },
    {
      "cell_type": "code",
      "source": [
        "x_traincnn = x_train\n",
        "x_testcnn = x_test"
      ],
      "metadata": {
        "id": "PmEV1fEE-c-e"
      },
      "execution_count": 29,
      "outputs": []
    },
    {
      "cell_type": "code",
      "source": [
        "x_traincnn.shape,x_testcnn.shape,y_train.shape,y_test.shape"
      ],
      "metadata": {
        "colab": {
          "base_uri": "https://localhost:8080/"
        },
        "id": "ghHYQByw-igO",
        "outputId": "761ac4e9-9f14-4788-bdd2-84917009a418"
      },
      "execution_count": 30,
      "outputs": [
        {
          "output_type": "execute_result",
          "data": {
            "text/plain": [
              "((2080, 128, 259, 1), (208, 128, 259, 1), (2080, 12), (208, 12))"
            ]
          },
          "metadata": {},
          "execution_count": 30
        }
      ]
    },
    {
      "cell_type": "code",
      "source": [
        "# CNN I/P Config\n",
        "num_classes = len(np.unique(np.argmax(y_train, 1)))\n",
        "input_shape = x_traincnn.shape[1:]\n",
        "learning_rate = 0.0001\n",
        "decay = 1e-6\n",
        "momentum = 0.9\n",
        "\n",
        "#LSTM Configuration\n",
        "#num_lstm = 256"
      ],
      "metadata": {
        "id": "rKBGLT0D-kzn"
      },
      "execution_count": 31,
      "outputs": []
    },
    {
      "cell_type": "code",
      "source": [
        "input_shape"
      ],
      "metadata": {
        "colab": {
          "base_uri": "https://localhost:8080/"
        },
        "id": "EDgnRhw0-nOY",
        "outputId": "3c5fc067-dc80-413a-e93e-386da56cd89d"
      },
      "execution_count": 32,
      "outputs": [
        {
          "output_type": "execute_result",
          "data": {
            "text/plain": [
              "(128, 259, 1)"
            ]
          },
          "metadata": {},
          "execution_count": 32
        }
      ]
    },
    {
      "cell_type": "code",
      "source": [
        "model = Sequential(name='Audio_CNN_2D')\n",
        "\n",
        "# LFLB1\n",
        "model.add(Conv2D(filters=128, kernel_size=(3,3), strides=(1,1), padding='same', data_format='channels_last',input_shape=input_shape))\n",
        "model.add(BatchNormalization())\n",
        "model.add(Activation('elu'))\n",
        "model.add(MaxPooling2D(pool_size=(2,2), strides=(2,2)))\n",
        "model.add(Dropout(0.5))\n",
        "\n",
        "model.add(Conv2D(filters=128, kernel_size=(3,3), strides=(1,1), padding='same'))\n",
        "model.add(BatchNormalization())\n",
        "model.add(Activation('elu'))\n",
        "model.add(MaxPooling2D(pool_size=(2,2), strides=(2,2)))\n",
        "model.add(Dropout(0.25))\n",
        "\n",
        "model.add(Conv2D(filters=64, kernel_size=(3,3), strides=(1,1), padding='same'))\n",
        "model.add(BatchNormalization())\n",
        "model.add(Activation('elu'))\n",
        "model.add(MaxPooling2D(pool_size=(2,2), strides=(2,2)))\n",
        "model.add(Dropout(0.25))\n",
        "\n",
        "model.add(Conv2D(filters=64, kernel_size=(3,3), strides=(1,1), padding='same'))\n",
        "model.add(BatchNormalization())\n",
        "model.add(Activation('elu'))\n",
        "model.add(MaxPooling2D(pool_size=(2,2), strides=(2,2)))\n",
        "model.add(Dropout(0.25))\n",
        "\n",
        "model.add(Conv2D(filters=64, kernel_size=(3,3), strides=(1,1), padding='same'))\n",
        "model.add(BatchNormalization())\n",
        "model.add(Activation('elu'))\n",
        "model.add(MaxPooling2D(pool_size=(2,2), strides=(2,2)))\n",
        "model.add(Dropout(0.25))\n",
        "\n",
        "model.add(Conv2D(filters=64, kernel_size=(3,3), strides=(1,1), padding='same'))\n",
        "model.add(BatchNormalization())\n",
        "model.add(Activation('elu'))\n",
        "model.add(MaxPooling2D(pool_size=(2,2), strides=(2,2)))\n",
        "model.add(Dropout(0.25))\n",
        "\n",
        "\n",
        "model.add(Flatten())\n",
        "# FC\n",
        "model.add(Dense(units=num_classes, activation='softmax'))\n",
        "\n",
        "# Model compilation\n",
        "opt = tf.keras.optimizers.Adam(lr=0.001, beta_1=0.9,  beta_2=0.999, amsgrad=False)\n",
        "model.compile(optimizer=opt, loss='categorical_crossentropy', metrics=['categorical_accuracy'])"
      ],
      "metadata": {
        "id": "pATyRgnw_9-2"
      },
      "execution_count": 46,
      "outputs": []
    },
    {
      "cell_type": "code",
      "source": [
        "model.summary()"
      ],
      "metadata": {
        "colab": {
          "base_uri": "https://localhost:8080/"
        },
        "id": "-vPnia3XAFNE",
        "outputId": "3600c153-4aa5-46fc-fdf9-333cfb0d37c2"
      },
      "execution_count": 47,
      "outputs": [
        {
          "output_type": "stream",
          "name": "stdout",
          "text": [
            "Model: \"Audio_CNN_2D\"\n",
            "_________________________________________________________________\n",
            " Layer (type)                Output Shape              Param #   \n",
            "=================================================================\n",
            " conv2d_54 (Conv2D)          (None, 128, 259, 128)     1280      \n",
            "                                                                 \n",
            " batch_normalization_54 (Bat  (None, 128, 259, 128)    512       \n",
            " chNormalization)                                                \n",
            "                                                                 \n",
            " activation_54 (Activation)  (None, 128, 259, 128)     0         \n",
            "                                                                 \n",
            " max_pooling2d_54 (MaxPoolin  (None, 64, 129, 128)     0         \n",
            " g2D)                                                            \n",
            "                                                                 \n",
            " dropout_54 (Dropout)        (None, 64, 129, 128)      0         \n",
            "                                                                 \n",
            " conv2d_55 (Conv2D)          (None, 64, 129, 128)      147584    \n",
            "                                                                 \n",
            " batch_normalization_55 (Bat  (None, 64, 129, 128)     512       \n",
            " chNormalization)                                                \n",
            "                                                                 \n",
            " activation_55 (Activation)  (None, 64, 129, 128)      0         \n",
            "                                                                 \n",
            " max_pooling2d_55 (MaxPoolin  (None, 32, 64, 128)      0         \n",
            " g2D)                                                            \n",
            "                                                                 \n",
            " dropout_55 (Dropout)        (None, 32, 64, 128)       0         \n",
            "                                                                 \n",
            " conv2d_56 (Conv2D)          (None, 32, 64, 64)        73792     \n",
            "                                                                 \n",
            " batch_normalization_56 (Bat  (None, 32, 64, 64)       256       \n",
            " chNormalization)                                                \n",
            "                                                                 \n",
            " activation_56 (Activation)  (None, 32, 64, 64)        0         \n",
            "                                                                 \n",
            " max_pooling2d_56 (MaxPoolin  (None, 16, 32, 64)       0         \n",
            " g2D)                                                            \n",
            "                                                                 \n",
            " dropout_56 (Dropout)        (None, 16, 32, 64)        0         \n",
            "                                                                 \n",
            " conv2d_57 (Conv2D)          (None, 16, 32, 64)        36928     \n",
            "                                                                 \n",
            " batch_normalization_57 (Bat  (None, 16, 32, 64)       256       \n",
            " chNormalization)                                                \n",
            "                                                                 \n",
            " activation_57 (Activation)  (None, 16, 32, 64)        0         \n",
            "                                                                 \n",
            " max_pooling2d_57 (MaxPoolin  (None, 8, 16, 64)        0         \n",
            " g2D)                                                            \n",
            "                                                                 \n",
            " dropout_57 (Dropout)        (None, 8, 16, 64)         0         \n",
            "                                                                 \n",
            " conv2d_58 (Conv2D)          (None, 8, 16, 64)         36928     \n",
            "                                                                 \n",
            " batch_normalization_58 (Bat  (None, 8, 16, 64)        256       \n",
            " chNormalization)                                                \n",
            "                                                                 \n",
            " activation_58 (Activation)  (None, 8, 16, 64)         0         \n",
            "                                                                 \n",
            " max_pooling2d_58 (MaxPoolin  (None, 4, 8, 64)         0         \n",
            " g2D)                                                            \n",
            "                                                                 \n",
            " dropout_58 (Dropout)        (None, 4, 8, 64)          0         \n",
            "                                                                 \n",
            " conv2d_59 (Conv2D)          (None, 4, 8, 64)          36928     \n",
            "                                                                 \n",
            " batch_normalization_59 (Bat  (None, 4, 8, 64)         256       \n",
            " chNormalization)                                                \n",
            "                                                                 \n",
            " activation_59 (Activation)  (None, 4, 8, 64)          0         \n",
            "                                                                 \n",
            " max_pooling2d_59 (MaxPoolin  (None, 2, 4, 64)         0         \n",
            " g2D)                                                            \n",
            "                                                                 \n",
            " dropout_59 (Dropout)        (None, 2, 4, 64)          0         \n",
            "                                                                 \n",
            " flatten_9 (Flatten)         (None, 512)               0         \n",
            "                                                                 \n",
            " dense_9 (Dense)             (None, 12)                6156      \n",
            "                                                                 \n",
            "=================================================================\n",
            "Total params: 341,644\n",
            "Trainable params: 340,620\n",
            "Non-trainable params: 1,024\n",
            "_________________________________________________________________\n"
          ]
        }
      ]
    },
    {
      "cell_type": "code",
      "source": [
        "batch_size = 16\n",
        "num_epochs = 100\n",
        "\n",
        "# Model Training\n",
        "lr_reduce = ReduceLROnPlateau(monitor='val_loss', factor=0.9, patience=20, min_lr=0.000001)\n",
        "# Please change the model name accordingly.\n",
        "mcp_save = ModelCheckpoint('/content/drive/MyDrive/Audio_2DCNN_6L.h5', save_best_only=True, monitor='val_categorical_accuracy', mode='max')\n",
        "cnnhistory=model.fit(x_traincnn, y_train, batch_size=batch_size, epochs=num_epochs,validation_data=(x_testcnn, y_test), callbacks=[mcp_save, lr_reduce])"
      ],
      "metadata": {
        "colab": {
          "base_uri": "https://localhost:8080/"
        },
        "id": "I-UX8h0kANtc",
        "outputId": "e2003506-903f-4ef3-ca20-f5b9c5fece80"
      },
      "execution_count": 48,
      "outputs": [
        {
          "output_type": "stream",
          "name": "stdout",
          "text": [
            "Epoch 1/100\n",
            "130/130 [==============================] - 32s 167ms/step - loss: 2.6027 - categorical_accuracy: 0.1654 - val_loss: 2.5292 - val_categorical_accuracy: 0.2500 - lr: 0.0010\n",
            "Epoch 2/100\n",
            "130/130 [==============================] - 21s 161ms/step - loss: 2.1000 - categorical_accuracy: 0.3034 - val_loss: 2.6409 - val_categorical_accuracy: 0.1250 - lr: 0.0010\n",
            "Epoch 3/100\n",
            "130/130 [==============================] - 21s 164ms/step - loss: 1.7969 - categorical_accuracy: 0.3663 - val_loss: 2.1426 - val_categorical_accuracy: 0.2788 - lr: 0.0010\n",
            "Epoch 4/100\n",
            "130/130 [==============================] - 21s 161ms/step - loss: 1.6509 - categorical_accuracy: 0.4043 - val_loss: 3.3352 - val_categorical_accuracy: 0.1923 - lr: 0.0010\n",
            "Epoch 5/100\n",
            "130/130 [==============================] - 21s 161ms/step - loss: 1.5060 - categorical_accuracy: 0.4490 - val_loss: 2.2674 - val_categorical_accuracy: 0.1827 - lr: 0.0010\n",
            "Epoch 6/100\n",
            "130/130 [==============================] - 21s 164ms/step - loss: 1.4053 - categorical_accuracy: 0.4846 - val_loss: 1.6582 - val_categorical_accuracy: 0.3462 - lr: 0.0010\n",
            "Epoch 7/100\n",
            "130/130 [==============================] - 21s 164ms/step - loss: 1.2847 - categorical_accuracy: 0.5240 - val_loss: 1.7662 - val_categorical_accuracy: 0.4327 - lr: 0.0010\n",
            "Epoch 8/100\n",
            "130/130 [==============================] - 21s 161ms/step - loss: 1.1772 - categorical_accuracy: 0.5736 - val_loss: 2.2849 - val_categorical_accuracy: 0.1827 - lr: 0.0010\n",
            "Epoch 9/100\n",
            "130/130 [==============================] - 21s 161ms/step - loss: 1.0643 - categorical_accuracy: 0.5947 - val_loss: 1.7851 - val_categorical_accuracy: 0.3846 - lr: 0.0010\n",
            "Epoch 10/100\n",
            "130/130 [==============================] - 21s 161ms/step - loss: 1.0123 - categorical_accuracy: 0.6178 - val_loss: 1.8284 - val_categorical_accuracy: 0.3462 - lr: 0.0010\n",
            "Epoch 11/100\n",
            "130/130 [==============================] - 21s 164ms/step - loss: 0.9017 - categorical_accuracy: 0.6543 - val_loss: 1.2909 - val_categorical_accuracy: 0.4615 - lr: 0.0010\n",
            "Epoch 12/100\n",
            "130/130 [==============================] - 21s 164ms/step - loss: 0.8544 - categorical_accuracy: 0.6803 - val_loss: 1.2370 - val_categorical_accuracy: 0.5962 - lr: 0.0010\n",
            "Epoch 13/100\n",
            "130/130 [==============================] - 21s 162ms/step - loss: 0.7524 - categorical_accuracy: 0.7197 - val_loss: 1.2610 - val_categorical_accuracy: 0.5481 - lr: 0.0010\n",
            "Epoch 14/100\n",
            "130/130 [==============================] - 21s 161ms/step - loss: 0.6757 - categorical_accuracy: 0.7471 - val_loss: 1.1701 - val_categorical_accuracy: 0.5481 - lr: 0.0010\n",
            "Epoch 15/100\n",
            "130/130 [==============================] - 21s 164ms/step - loss: 0.5940 - categorical_accuracy: 0.7774 - val_loss: 1.1801 - val_categorical_accuracy: 0.6058 - lr: 0.0010\n",
            "Epoch 16/100\n",
            "130/130 [==============================] - 21s 163ms/step - loss: 0.5636 - categorical_accuracy: 0.7923 - val_loss: 1.2320 - val_categorical_accuracy: 0.6346 - lr: 0.0010\n",
            "Epoch 17/100\n",
            "130/130 [==============================] - 21s 161ms/step - loss: 0.4939 - categorical_accuracy: 0.8173 - val_loss: 1.0458 - val_categorical_accuracy: 0.5673 - lr: 0.0010\n",
            "Epoch 18/100\n",
            "130/130 [==============================] - 21s 161ms/step - loss: 0.4515 - categorical_accuracy: 0.8365 - val_loss: 1.3875 - val_categorical_accuracy: 0.5577 - lr: 0.0010\n",
            "Epoch 19/100\n",
            "130/130 [==============================] - 21s 161ms/step - loss: 0.3979 - categorical_accuracy: 0.8606 - val_loss: 1.0702 - val_categorical_accuracy: 0.6250 - lr: 0.0010\n",
            "Epoch 20/100\n",
            "130/130 [==============================] - 21s 161ms/step - loss: 0.3643 - categorical_accuracy: 0.8716 - val_loss: 1.6722 - val_categorical_accuracy: 0.4904 - lr: 0.0010\n",
            "Epoch 21/100\n",
            "130/130 [==============================] - 21s 165ms/step - loss: 0.3353 - categorical_accuracy: 0.8846 - val_loss: 1.0504 - val_categorical_accuracy: 0.6923 - lr: 0.0010\n",
            "Epoch 22/100\n",
            "130/130 [==============================] - 21s 162ms/step - loss: 0.2718 - categorical_accuracy: 0.9091 - val_loss: 1.6272 - val_categorical_accuracy: 0.5385 - lr: 0.0010\n",
            "Epoch 23/100\n",
            "130/130 [==============================] - 21s 161ms/step - loss: 0.2416 - categorical_accuracy: 0.9236 - val_loss: 1.8564 - val_categorical_accuracy: 0.4808 - lr: 0.0010\n",
            "Epoch 24/100\n",
            "130/130 [==============================] - 21s 161ms/step - loss: 0.2269 - categorical_accuracy: 0.9216 - val_loss: 1.4795 - val_categorical_accuracy: 0.5962 - lr: 0.0010\n",
            "Epoch 25/100\n",
            "130/130 [==============================] - 21s 161ms/step - loss: 0.2105 - categorical_accuracy: 0.9269 - val_loss: 1.5317 - val_categorical_accuracy: 0.5385 - lr: 0.0010\n",
            "Epoch 26/100\n",
            "130/130 [==============================] - 21s 161ms/step - loss: 0.2015 - categorical_accuracy: 0.9279 - val_loss: 1.2761 - val_categorical_accuracy: 0.6058 - lr: 0.0010\n",
            "Epoch 27/100\n",
            "130/130 [==============================] - 21s 161ms/step - loss: 0.1785 - categorical_accuracy: 0.9399 - val_loss: 1.4816 - val_categorical_accuracy: 0.5577 - lr: 0.0010\n",
            "Epoch 28/100\n",
            "130/130 [==============================] - 21s 160ms/step - loss: 0.1358 - categorical_accuracy: 0.9577 - val_loss: 1.1923 - val_categorical_accuracy: 0.6827 - lr: 0.0010\n",
            "Epoch 29/100\n",
            "130/130 [==============================] - 21s 161ms/step - loss: 0.1300 - categorical_accuracy: 0.9611 - val_loss: 1.7447 - val_categorical_accuracy: 0.5288 - lr: 0.0010\n",
            "Epoch 30/100\n",
            "130/130 [==============================] - 21s 161ms/step - loss: 0.1208 - categorical_accuracy: 0.9611 - val_loss: 1.2443 - val_categorical_accuracy: 0.5962 - lr: 0.0010\n",
            "Epoch 31/100\n",
            "130/130 [==============================] - 21s 161ms/step - loss: 0.1247 - categorical_accuracy: 0.9591 - val_loss: 1.3610 - val_categorical_accuracy: 0.6346 - lr: 0.0010\n",
            "Epoch 32/100\n",
            "130/130 [==============================] - 21s 161ms/step - loss: 0.1282 - categorical_accuracy: 0.9582 - val_loss: 1.6951 - val_categorical_accuracy: 0.5865 - lr: 0.0010\n",
            "Epoch 33/100\n",
            "130/130 [==============================] - 21s 161ms/step - loss: 0.1077 - categorical_accuracy: 0.9673 - val_loss: 1.8581 - val_categorical_accuracy: 0.5865 - lr: 0.0010\n",
            "Epoch 34/100\n",
            "130/130 [==============================] - 21s 161ms/step - loss: 0.0946 - categorical_accuracy: 0.9702 - val_loss: 1.4244 - val_categorical_accuracy: 0.6442 - lr: 0.0010\n",
            "Epoch 35/100\n",
            "130/130 [==============================] - 21s 161ms/step - loss: 0.0857 - categorical_accuracy: 0.9740 - val_loss: 1.4582 - val_categorical_accuracy: 0.6538 - lr: 0.0010\n",
            "Epoch 36/100\n",
            "130/130 [==============================] - 21s 161ms/step - loss: 0.0988 - categorical_accuracy: 0.9673 - val_loss: 1.4105 - val_categorical_accuracy: 0.6442 - lr: 0.0010\n",
            "Epoch 37/100\n",
            "130/130 [==============================] - 21s 161ms/step - loss: 0.1014 - categorical_accuracy: 0.9683 - val_loss: 1.6609 - val_categorical_accuracy: 0.5962 - lr: 0.0010\n",
            "Epoch 38/100\n",
            "130/130 [==============================] - 21s 162ms/step - loss: 0.0766 - categorical_accuracy: 0.9788 - val_loss: 1.5966 - val_categorical_accuracy: 0.6346 - lr: 9.0000e-04\n",
            "Epoch 39/100\n",
            "130/130 [==============================] - 21s 162ms/step - loss: 0.0653 - categorical_accuracy: 0.9784 - val_loss: 1.6389 - val_categorical_accuracy: 0.6058 - lr: 9.0000e-04\n",
            "Epoch 40/100\n",
            "130/130 [==============================] - 21s 161ms/step - loss: 0.0482 - categorical_accuracy: 0.9875 - val_loss: 1.3559 - val_categorical_accuracy: 0.6731 - lr: 9.0000e-04\n",
            "Epoch 41/100\n",
            "130/130 [==============================] - 21s 161ms/step - loss: 0.0616 - categorical_accuracy: 0.9851 - val_loss: 1.7645 - val_categorical_accuracy: 0.6058 - lr: 9.0000e-04\n",
            "Epoch 42/100\n",
            "130/130 [==============================] - 21s 161ms/step - loss: 0.0506 - categorical_accuracy: 0.9856 - val_loss: 1.5864 - val_categorical_accuracy: 0.6250 - lr: 9.0000e-04\n",
            "Epoch 43/100\n",
            "130/130 [==============================] - 21s 160ms/step - loss: 0.0620 - categorical_accuracy: 0.9827 - val_loss: 2.6869 - val_categorical_accuracy: 0.4327 - lr: 9.0000e-04\n",
            "Epoch 44/100\n",
            "130/130 [==============================] - 21s 161ms/step - loss: 0.0604 - categorical_accuracy: 0.9788 - val_loss: 1.6808 - val_categorical_accuracy: 0.6058 - lr: 9.0000e-04\n",
            "Epoch 45/100\n",
            "130/130 [==============================] - 21s 161ms/step - loss: 0.0675 - categorical_accuracy: 0.9803 - val_loss: 1.6265 - val_categorical_accuracy: 0.5481 - lr: 9.0000e-04\n",
            "Epoch 46/100\n",
            "130/130 [==============================] - 21s 161ms/step - loss: 0.0648 - categorical_accuracy: 0.9793 - val_loss: 1.4285 - val_categorical_accuracy: 0.6538 - lr: 9.0000e-04\n",
            "Epoch 47/100\n",
            "130/130 [==============================] - 21s 161ms/step - loss: 0.0568 - categorical_accuracy: 0.9837 - val_loss: 2.2766 - val_categorical_accuracy: 0.5288 - lr: 9.0000e-04\n",
            "Epoch 48/100\n",
            "130/130 [==============================] - 21s 161ms/step - loss: 0.0476 - categorical_accuracy: 0.9832 - val_loss: 1.4980 - val_categorical_accuracy: 0.6442 - lr: 9.0000e-04\n",
            "Epoch 49/100\n",
            "130/130 [==============================] - 21s 161ms/step - loss: 0.0536 - categorical_accuracy: 0.9846 - val_loss: 1.7795 - val_categorical_accuracy: 0.6346 - lr: 9.0000e-04\n",
            "Epoch 50/100\n",
            "130/130 [==============================] - 21s 161ms/step - loss: 0.0440 - categorical_accuracy: 0.9846 - val_loss: 1.3590 - val_categorical_accuracy: 0.6346 - lr: 9.0000e-04\n",
            "Epoch 51/100\n",
            "130/130 [==============================] - 21s 162ms/step - loss: 0.0555 - categorical_accuracy: 0.9812 - val_loss: 1.4356 - val_categorical_accuracy: 0.6731 - lr: 9.0000e-04\n",
            "Epoch 52/100\n",
            "130/130 [==============================] - 21s 162ms/step - loss: 0.0551 - categorical_accuracy: 0.9788 - val_loss: 2.0308 - val_categorical_accuracy: 0.5769 - lr: 9.0000e-04\n",
            "Epoch 53/100\n",
            "130/130 [==============================] - 21s 161ms/step - loss: 0.0443 - categorical_accuracy: 0.9846 - val_loss: 1.9826 - val_categorical_accuracy: 0.5865 - lr: 9.0000e-04\n",
            "Epoch 54/100\n",
            "130/130 [==============================] - 21s 162ms/step - loss: 0.0514 - categorical_accuracy: 0.9832 - val_loss: 1.6807 - val_categorical_accuracy: 0.6058 - lr: 9.0000e-04\n",
            "Epoch 55/100\n",
            "130/130 [==============================] - 21s 161ms/step - loss: 0.0366 - categorical_accuracy: 0.9923 - val_loss: 1.8627 - val_categorical_accuracy: 0.5865 - lr: 9.0000e-04\n",
            "Epoch 56/100\n",
            "130/130 [==============================] - 21s 162ms/step - loss: 0.0587 - categorical_accuracy: 0.9812 - val_loss: 1.4654 - val_categorical_accuracy: 0.6731 - lr: 9.0000e-04\n",
            "Epoch 57/100\n",
            "130/130 [==============================] - 21s 161ms/step - loss: 0.0407 - categorical_accuracy: 0.9875 - val_loss: 1.7116 - val_categorical_accuracy: 0.6154 - lr: 9.0000e-04\n",
            "Epoch 58/100\n",
            "130/130 [==============================] - 21s 161ms/step - loss: 0.0343 - categorical_accuracy: 0.9904 - val_loss: 1.6739 - val_categorical_accuracy: 0.6538 - lr: 8.1000e-04\n",
            "Epoch 59/100\n",
            "130/130 [==============================] - 21s 161ms/step - loss: 0.0266 - categorical_accuracy: 0.9918 - val_loss: 1.9503 - val_categorical_accuracy: 0.6058 - lr: 8.1000e-04\n",
            "Epoch 60/100\n",
            "130/130 [==============================] - 21s 162ms/step - loss: 0.0504 - categorical_accuracy: 0.9837 - val_loss: 2.1856 - val_categorical_accuracy: 0.6058 - lr: 8.1000e-04\n",
            "Epoch 61/100\n",
            "130/130 [==============================] - 21s 161ms/step - loss: 0.0288 - categorical_accuracy: 0.9899 - val_loss: 1.9482 - val_categorical_accuracy: 0.5962 - lr: 8.1000e-04\n",
            "Epoch 62/100\n",
            "130/130 [==============================] - 21s 161ms/step - loss: 0.0290 - categorical_accuracy: 0.9918 - val_loss: 2.0135 - val_categorical_accuracy: 0.5962 - lr: 8.1000e-04\n",
            "Epoch 63/100\n",
            "130/130 [==============================] - 21s 162ms/step - loss: 0.0345 - categorical_accuracy: 0.9899 - val_loss: 1.4655 - val_categorical_accuracy: 0.6346 - lr: 8.1000e-04\n",
            "Epoch 64/100\n",
            "130/130 [==============================] - 21s 161ms/step - loss: 0.0186 - categorical_accuracy: 0.9957 - val_loss: 2.0089 - val_categorical_accuracy: 0.5673 - lr: 8.1000e-04\n",
            "Epoch 65/100\n",
            "130/130 [==============================] - 21s 161ms/step - loss: 0.0230 - categorical_accuracy: 0.9933 - val_loss: 2.4399 - val_categorical_accuracy: 0.5769 - lr: 8.1000e-04\n",
            "Epoch 66/100\n",
            "130/130 [==============================] - 21s 161ms/step - loss: 0.0313 - categorical_accuracy: 0.9909 - val_loss: 2.2936 - val_categorical_accuracy: 0.6346 - lr: 8.1000e-04\n",
            "Epoch 67/100\n",
            "130/130 [==============================] - 21s 161ms/step - loss: 0.0268 - categorical_accuracy: 0.9899 - val_loss: 2.0055 - val_categorical_accuracy: 0.6250 - lr: 8.1000e-04\n",
            "Epoch 68/100\n",
            "130/130 [==============================] - 21s 162ms/step - loss: 0.0304 - categorical_accuracy: 0.9933 - val_loss: 2.0643 - val_categorical_accuracy: 0.6058 - lr: 8.1000e-04\n",
            "Epoch 69/100\n",
            "130/130 [==============================] - 21s 161ms/step - loss: 0.0428 - categorical_accuracy: 0.9875 - val_loss: 1.7844 - val_categorical_accuracy: 0.6442 - lr: 8.1000e-04\n",
            "Epoch 70/100\n",
            "130/130 [==============================] - 21s 161ms/step - loss: 0.0310 - categorical_accuracy: 0.9909 - val_loss: 2.5836 - val_categorical_accuracy: 0.5481 - lr: 8.1000e-04\n",
            "Epoch 71/100\n",
            "130/130 [==============================] - 21s 161ms/step - loss: 0.0348 - categorical_accuracy: 0.9865 - val_loss: 1.8498 - val_categorical_accuracy: 0.6442 - lr: 8.1000e-04\n",
            "Epoch 72/100\n",
            "130/130 [==============================] - 21s 161ms/step - loss: 0.0282 - categorical_accuracy: 0.9928 - val_loss: 1.9599 - val_categorical_accuracy: 0.6058 - lr: 8.1000e-04\n",
            "Epoch 73/100\n",
            "130/130 [==============================] - 21s 162ms/step - loss: 0.0224 - categorical_accuracy: 0.9928 - val_loss: 1.9274 - val_categorical_accuracy: 0.5962 - lr: 8.1000e-04\n",
            "Epoch 74/100\n",
            "130/130 [==============================] - 21s 161ms/step - loss: 0.0257 - categorical_accuracy: 0.9909 - val_loss: 2.4859 - val_categorical_accuracy: 0.5385 - lr: 8.1000e-04\n",
            "Epoch 75/100\n",
            "130/130 [==============================] - 21s 161ms/step - loss: 0.0198 - categorical_accuracy: 0.9942 - val_loss: 1.7388 - val_categorical_accuracy: 0.6635 - lr: 8.1000e-04\n",
            "Epoch 76/100\n",
            "130/130 [==============================] - 21s 161ms/step - loss: 0.0156 - categorical_accuracy: 0.9962 - val_loss: 2.1777 - val_categorical_accuracy: 0.6442 - lr: 8.1000e-04\n",
            "Epoch 77/100\n",
            "130/130 [==============================] - 21s 161ms/step - loss: 0.0253 - categorical_accuracy: 0.9923 - val_loss: 2.3297 - val_categorical_accuracy: 0.5769 - lr: 8.1000e-04\n",
            "Epoch 78/100\n",
            "130/130 [==============================] - 21s 161ms/step - loss: 0.0366 - categorical_accuracy: 0.9880 - val_loss: 2.2715 - val_categorical_accuracy: 0.6635 - lr: 7.2900e-04\n",
            "Epoch 79/100\n",
            "130/130 [==============================] - 21s 161ms/step - loss: 0.0309 - categorical_accuracy: 0.9889 - val_loss: 2.6440 - val_categorical_accuracy: 0.5288 - lr: 7.2900e-04\n",
            "Epoch 80/100\n",
            "130/130 [==============================] - 21s 161ms/step - loss: 0.0181 - categorical_accuracy: 0.9947 - val_loss: 2.1278 - val_categorical_accuracy: 0.6635 - lr: 7.2900e-04\n",
            "Epoch 81/100\n",
            "130/130 [==============================] - 21s 161ms/step - loss: 0.0160 - categorical_accuracy: 0.9933 - val_loss: 2.2333 - val_categorical_accuracy: 0.6442 - lr: 7.2900e-04\n",
            "Epoch 82/100\n",
            "130/130 [==============================] - 21s 160ms/step - loss: 0.0253 - categorical_accuracy: 0.9928 - val_loss: 2.1677 - val_categorical_accuracy: 0.6635 - lr: 7.2900e-04\n",
            "Epoch 83/100\n",
            "130/130 [==============================] - 21s 161ms/step - loss: 0.0272 - categorical_accuracy: 0.9889 - val_loss: 2.0612 - val_categorical_accuracy: 0.6250 - lr: 7.2900e-04\n",
            "Epoch 84/100\n",
            "130/130 [==============================] - 21s 161ms/step - loss: 0.0187 - categorical_accuracy: 0.9928 - val_loss: 2.0845 - val_categorical_accuracy: 0.6058 - lr: 7.2900e-04\n",
            "Epoch 85/100\n",
            "130/130 [==============================] - 21s 161ms/step - loss: 0.0121 - categorical_accuracy: 0.9971 - val_loss: 2.2744 - val_categorical_accuracy: 0.6058 - lr: 7.2900e-04\n",
            "Epoch 86/100\n",
            "130/130 [==============================] - 21s 161ms/step - loss: 0.0298 - categorical_accuracy: 0.9899 - val_loss: 2.5384 - val_categorical_accuracy: 0.6346 - lr: 7.2900e-04\n",
            "Epoch 87/100\n",
            "130/130 [==============================] - 21s 161ms/step - loss: 0.0316 - categorical_accuracy: 0.9899 - val_loss: 2.1961 - val_categorical_accuracy: 0.6058 - lr: 7.2900e-04\n",
            "Epoch 88/100\n",
            "130/130 [==============================] - 21s 162ms/step - loss: 0.0156 - categorical_accuracy: 0.9957 - val_loss: 2.1021 - val_categorical_accuracy: 0.5962 - lr: 7.2900e-04\n",
            "Epoch 89/100\n",
            "130/130 [==============================] - 21s 161ms/step - loss: 0.0189 - categorical_accuracy: 0.9933 - val_loss: 1.6111 - val_categorical_accuracy: 0.6635 - lr: 7.2900e-04\n",
            "Epoch 90/100\n",
            "130/130 [==============================] - 21s 161ms/step - loss: 0.0218 - categorical_accuracy: 0.9933 - val_loss: 2.3636 - val_categorical_accuracy: 0.5769 - lr: 7.2900e-04\n",
            "Epoch 91/100\n",
            "130/130 [==============================] - 21s 161ms/step - loss: 0.0272 - categorical_accuracy: 0.9913 - val_loss: 2.3337 - val_categorical_accuracy: 0.5577 - lr: 7.2900e-04\n",
            "Epoch 92/100\n",
            "130/130 [==============================] - 21s 162ms/step - loss: 0.0242 - categorical_accuracy: 0.9909 - val_loss: 2.3083 - val_categorical_accuracy: 0.6058 - lr: 7.2900e-04\n",
            "Epoch 93/100\n",
            "130/130 [==============================] - 21s 161ms/step - loss: 0.0195 - categorical_accuracy: 0.9952 - val_loss: 2.4061 - val_categorical_accuracy: 0.6346 - lr: 7.2900e-04\n",
            "Epoch 94/100\n",
            "130/130 [==============================] - 21s 161ms/step - loss: 0.0207 - categorical_accuracy: 0.9942 - val_loss: 2.0085 - val_categorical_accuracy: 0.5962 - lr: 7.2900e-04\n",
            "Epoch 95/100\n",
            "130/130 [==============================] - 21s 161ms/step - loss: 0.0114 - categorical_accuracy: 0.9981 - val_loss: 2.5800 - val_categorical_accuracy: 0.5673 - lr: 7.2900e-04\n",
            "Epoch 96/100\n",
            "130/130 [==============================] - 22s 171ms/step - loss: 0.0261 - categorical_accuracy: 0.9918 - val_loss: 2.6289 - val_categorical_accuracy: 0.5962 - lr: 7.2900e-04\n",
            "Epoch 97/100\n",
            "130/130 [==============================] - 21s 163ms/step - loss: 0.0296 - categorical_accuracy: 0.9894 - val_loss: 1.8666 - val_categorical_accuracy: 0.6058 - lr: 7.2900e-04\n",
            "Epoch 98/100\n",
            "130/130 [==============================] - 21s 164ms/step - loss: 0.0122 - categorical_accuracy: 0.9966 - val_loss: 1.8114 - val_categorical_accuracy: 0.6442 - lr: 6.5610e-04\n",
            "Epoch 99/100\n",
            "130/130 [==============================] - 21s 161ms/step - loss: 0.0244 - categorical_accuracy: 0.9923 - val_loss: 2.4511 - val_categorical_accuracy: 0.6058 - lr: 6.5610e-04\n",
            "Epoch 100/100\n",
            "130/130 [==============================] - 21s 161ms/step - loss: 0.0117 - categorical_accuracy: 0.9966 - val_loss: 2.0186 - val_categorical_accuracy: 0.6154 - lr: 6.5610e-04\n"
          ]
        }
      ]
    },
    {
      "cell_type": "code",
      "source": [
        "max(cnnhistory.history['val_categorical_accuracy'])"
      ],
      "metadata": {
        "colab": {
          "base_uri": "https://localhost:8080/"
        },
        "id": "X8kUMdKhINwV",
        "outputId": "0395ec45-94c3-447f-84ae-b9d1b124f68e"
      },
      "execution_count": 49,
      "outputs": [
        {
          "output_type": "execute_result",
          "data": {
            "text/plain": [
              "0.692307710647583"
            ]
          },
          "metadata": {},
          "execution_count": 49
        }
      ]
    },
    {
      "cell_type": "code",
      "source": [
        "# Plotting the Train Valid Loss Graph\n",
        "\n",
        "plt.plot(cnnhistory.history['categorical_accuracy'])\n",
        "plt.plot(cnnhistory.history['val_categorical_accuracy'])\n",
        "plt.title('model accuracy')\n",
        "plt.ylabel('accuracy')\n",
        "plt.xlabel('epoch')\n",
        "plt.legend(['train', 'test'], loc='upper left')\n",
        "plt.show()"
      ],
      "metadata": {
        "colab": {
          "base_uri": "https://localhost:8080/",
          "height": 295
        },
        "id": "U9UVX_dyIQT1",
        "outputId": "28c8ac1b-ca99-4eb5-a340-482d25d3963c"
      },
      "execution_count": 50,
      "outputs": [
        {
          "output_type": "display_data",
          "data": {
            "image/png": "[encoded data removed]",
            "text/plain": [
              "<Figure size 432x288 with 1 Axes>"
            ]
          },
          "metadata": {
            "needs_background": "light"
          }
        }
      ]
    },
    {
      "cell_type": "code",
      "source": [
        "plt.plot(cnnhistory.history['loss'])\n",
        "plt.plot(cnnhistory.history['val_loss'])\n",
        "plt.title('model loss')\n",
        "plt.ylabel('loss')\n",
        "plt.xlabel('epoch')\n",
        "plt.legend(['train', 'test'], loc='upper left')\n",
        "plt.show()"
      ],
      "metadata": {
        "colab": {
          "base_uri": "https://localhost:8080/",
          "height": 295
        },
        "id": "WoFWQ-sbIScj",
        "outputId": "bf33659e-70e7-4071-931c-28a876ce8947"
      },
      "execution_count": 51,
      "outputs": [
        {
          "output_type": "display_data",
          "data": {
            "image/png": "[encoded data removed]",
            "text/plain": [
              "<Figure size 432x288 with 1 Axes>"
            ]
          },
          "metadata": {
            "needs_background": "light"
          }
        }
      ]
    },
    {
      "cell_type": "code",
      "source": [
        "import json\n",
        "model_json = model.to_json()\n",
        "with open(\"/content/drive/MyDrive/Audio_2DCNN_LogMelModel_6L.json\", \"w\") as json_file:\n",
        "    json_file.write(model_json)"
      ],
      "metadata": {
        "id": "G3gO2cu6IUfL"
      },
      "execution_count": 52,
      "outputs": []
    },
    {
      "cell_type": "code",
      "source": [
        "# loading json and creating model\n",
        "from keras.models import model_from_json\n",
        "json_file = open('/content/drive/MyDrive/Audio_2DCNN_LogMelModel_6L.json', 'r')\n",
        "loaded_model_json = json_file.read()\n",
        "json_file.close()\n",
        "loaded_model = model_from_json(loaded_model_json)"
      ],
      "metadata": {
        "id": "_dFPVllLIXUk"
      },
      "execution_count": 53,
      "outputs": []
    },
    {
      "cell_type": "code",
      "source": [
        "from keras.models import load_model\n",
        "\n",
        "# Returns a compiled model identical to the previous one\n",
        "loaded_model.load_weights('/content/drive/MyDrive/Audio_2DCNN_6L.h5')"
      ],
      "metadata": {
        "id": "oS9kKJa6IZsT"
      },
      "execution_count": 59,
      "outputs": []
    },
    {
      "cell_type": "code",
      "source": [
        "# evaluate loaded model on test data\n",
        "loaded_model.compile(loss='categorical_crossentropy', optimizer=opt, metrics=['accuracy'])\n",
        "score = loaded_model.evaluate(x_testcnn, y_test, verbose=0)\n",
        "print(\"%s: %.2f%%\" % (loaded_model.metrics_names[1], score[1]*100))"
      ],
      "metadata": {
        "colab": {
          "base_uri": "https://localhost:8080/"
        },
        "id": "Otr7xA4XIb59",
        "outputId": "ce733091-30ad-4c4f-c648-bad3dd54d07a"
      },
      "execution_count": 60,
      "outputs": [
        {
          "output_type": "stream",
          "name": "stdout",
          "text": [
            "accuracy: 69.23%\n"
          ]
        }
      ]
    },
    {
      "cell_type": "code",
      "source": [
        "x_test_data = audios[(dataset_db['split'] == 'Test')]\n",
        "y_test_data = dataset_db.emotion_lb[(dataset_db['split'] == 'Test')]\n",
        "\n",
        "print(x_test_data.shape,y_test_data.shape)"
      ],
      "metadata": {
        "colab": {
          "base_uri": "https://localhost:8080/"
        },
        "id": "b4IYRo20MNSA",
        "outputId": "59c1e9f8-db7a-4801-b552-0f0b41d403d8"
      },
      "execution_count": 61,
      "outputs": [
        {
          "output_type": "stream",
          "name": "stdout",
          "text": [
            "(208, 128, 259, 1) (208,)\n"
          ]
        }
      ]
    },
    {
      "cell_type": "code",
      "source": [
        "preds = loaded_model.predict(x_test_data,batch_size=16,verbose=1)\n",
        "preds1=preds.argmax(axis=1)\n",
        "abc = preds1.astype(int).flatten()\n",
        "predictions = (lb.inverse_transform((abc)))"
      ],
      "metadata": {
        "colab": {
          "base_uri": "https://localhost:8080/"
        },
        "id": "_4pPJFl9MTkH",
        "outputId": "6bc636c9-53d8-489f-9c27-1e6aca872bf1"
      },
      "execution_count": 62,
      "outputs": [
        {
          "output_type": "stream",
          "name": "stdout",
          "text": [
            "13/13 [==============================] - 1s 44ms/step\n"
          ]
        }
      ]
    },
    {
      "cell_type": "code",
      "source": [
        "preddf = pd.DataFrame({'predictedvalues': predictions})\n",
        "preddf[:10]"
      ],
      "metadata": {
        "colab": {
          "base_uri": "https://localhost:8080/",
          "height": 363
        },
        "id": "n04MZfKrMZ_n",
        "outputId": "0a2ad7e1-afc9-45b0-aa77-f68b95ea1e10"
      },
      "execution_count": 63,
      "outputs": [
        {
          "output_type": "execute_result",
          "data": {
            "text/html": [
              "\n",
              "  <div id=\"df-ef2253ca-12a0-4dbc-9259-24fd20eeb9b1\">\n",
              "    <div class=\"colab-df-container\">\n",
              "      <div>\n",
              "<style scoped>\n",
              "    .dataframe tbody tr th:only-of-type {\n",
              "        vertical-align: middle;\n",
              "    }\n",
              "\n",
              "    .dataframe tbody tr th {\n",
              "        vertical-align: top;\n",
              "    }\n",
              "\n",
              "    .dataframe thead th {\n",
              "        text-align: right;\n",
              "    }\n",
              "</style>\n",
              "<table border=\"1\" class=\"dataframe\">\n",
              "  <thead>\n",
              "    <tr style=\"text-align: right;\">\n",
              "      <th></th>\n",
              "      <th>predictedvalues</th>\n",
              "    </tr>\n",
              "  </thead>\n",
              "  <tbody>\n",
              "    <tr>\n",
              "      <th>0</th>\n",
              "      <td>male_happy</td>\n",
              "    </tr>\n",
              "    <tr>\n",
              "      <th>1</th>\n",
              "      <td>male_happy</td>\n",
              "    </tr>\n",
              "    <tr>\n",
              "      <th>2</th>\n",
              "      <td>male_happy</td>\n",
              "    </tr>\n",
              "    <tr>\n",
              "      <th>3</th>\n",
              "      <td>male_happy</td>\n",
              "    </tr>\n",
              "    <tr>\n",
              "      <th>4</th>\n",
              "      <td>male_happy</td>\n",
              "    </tr>\n",
              "    <tr>\n",
              "      <th>5</th>\n",
              "      <td>male_happy</td>\n",
              "    </tr>\n",
              "    <tr>\n",
              "      <th>6</th>\n",
              "      <td>male_happy</td>\n",
              "    </tr>\n",
              "    <tr>\n",
              "      <th>7</th>\n",
              "      <td>male_happy</td>\n",
              "    </tr>\n",
              "    <tr>\n",
              "      <th>8</th>\n",
              "      <td>male_disgust</td>\n",
              "    </tr>\n",
              "    <tr>\n",
              "      <th>9</th>\n",
              "      <td>male_disgust</td>\n",
              "    </tr>\n",
              "  </tbody>\n",
              "</table>\n",
              "</div>\n",
              "      <button class=\"colab-df-convert\" onclick=\"convertToInteractive('df-ef2253ca-12a0-4dbc-9259-24fd20eeb9b1')\"\n",
              "              title=\"Convert this dataframe to an interactive table.\"\n",
              "              style=\"display:none;\">\n",
              "        \n",
              "  <svg xmlns=\"http://www.w3.org/2000/svg\" height=\"24px\"viewBox=\"0 0 24 24\"\n",
              "       width=\"24px\">\n",
              "    <path d=\"M0 0h24v24H0V0z\" fill=\"none\"/>\n",
              "    <path d=\"M18.56 5.44l.94 2.06.94-2.06 2.06-.94-2.06-.94-.94-2.06-.94 2.06-2.06.94zm-11 1L8.5 8.5l.94-2.06 2.06-.94-2.06-.94L8.5 2.5l-.94 2.06-2.06.94zm10 10l.94 2.06.94-2.06 2.06-.94-2.06-.94-.94-2.06-.94 2.06-2.06.94z\"/><path d=\"M17.41 7.96l-1.37-1.37c-.4-.4-.92-.59-1.43-.59-.52 0-1.04.2-1.43.59L10.3 9.45l-7.72 7.72c-.78.78-.78 2.05 0 2.83L4 21.41c.39.39.9.59 1.41.59.51 0 1.02-.2 1.41-.59l7.78-7.78 2.81-2.81c.8-.78.8-2.07 0-2.86zM5.41 20L4 18.59l7.72-7.72 1.47 1.35L5.41 20z\"/>\n",
              "  </svg>\n",
              "      </button>\n",
              "      \n",
              "  <style>\n",
              "    .colab-df-container {\n",
              "      display:flex;\n",
              "      flex-wrap:wrap;\n",
              "      gap: 12px;\n",
              "    }\n",
              "\n",
              "    .colab-df-convert {\n",
              "      background-color: #E8F0FE;\n",
              "      border: none;\n",
              "      border-radius: 50%;\n",
              "      cursor: pointer;\n",
              "      display: none;\n",
              "      fill: #1967D2;\n",
              "      height: 32px;\n",
              "      padding: 0 0 0 0;\n",
              "      width: 32px;\n",
              "    }\n",
              "\n",
              "    .colab-df-convert:hover {\n",
              "      background-color: #E2EBFA;\n",
              "      box-shadow: 0px 1px 2px rgba(60, 64, 67, 0.3), 0px 1px 3px 1px rgba(60, 64, 67, 0.15);\n",
              "      fill: #174EA6;\n",
              "    }\n",
              "\n",
              "    [theme=dark] .colab-df-convert {\n",
              "      background-color: #3B4455;\n",
              "      fill: #D2E3FC;\n",
              "    }\n",
              "\n",
              "    [theme=dark] .colab-df-convert:hover {\n",
              "      background-color: #434B5C;\n",
              "      box-shadow: 0px 1px 3px 1px rgba(0, 0, 0, 0.15);\n",
              "      filter: drop-shadow(0px 1px 2px rgba(0, 0, 0, 0.3));\n",
              "      fill: #FFFFFF;\n",
              "    }\n",
              "  </style>\n",
              "\n",
              "      <script>\n",
              "        const buttonEl =\n",
              "          document.querySelector('#df-ef2253ca-12a0-4dbc-9259-24fd20eeb9b1 button.colab-df-convert');\n",
              "        buttonEl.style.display =\n",
              "          google.colab.kernel.accessAllowed ? 'block' : 'none';\n",
              "\n",
              "        async function convertToInteractive(key) {\n",
              "          const element = document.querySelector('#df-ef2253ca-12a0-4dbc-9259-24fd20eeb9b1');\n",
              "          const dataTable =\n",
              "            await google.colab.kernel.invokeFunction('convertToInteractive',\n",
              "                                                     [key], {});\n",
              "          if (!dataTable) return;\n",
              "\n",
              "          const docLinkHtml = 'Like what you see? Visit the ' +\n",
              "            '<a target=\"_blank\" href=https://colab.research.google.com/notebooks/data_table.ipynb>data table notebook</a>'\n",
              "            + ' to learn more about interactive tables.';\n",
              "          element.innerHTML = '';\n",
              "          dataTable['output_type'] = 'display_data';\n",
              "          await google.colab.output.renderOutput(dataTable, element);\n",
              "          const docLink = document.createElement('div');\n",
              "          docLink.innerHTML = docLinkHtml;\n",
              "          element.appendChild(docLink);\n",
              "        }\n",
              "      </script>\n",
              "    </div>\n",
              "  </div>\n",
              "  "
            ],
            "text/plain": [
              "  predictedvalues\n",
              "0      male_happy\n",
              "1      male_happy\n",
              "2      male_happy\n",
              "3      male_happy\n",
              "4      male_happy\n",
              "5      male_happy\n",
              "6      male_happy\n",
              "7      male_happy\n",
              "8    male_disgust\n",
              "9    male_disgust"
            ]
          },
          "metadata": {},
          "execution_count": 63
        }
      ]
    },
    {
      "cell_type": "code",
      "source": [
        "actualdf = pd.DataFrame({'actualvalues': y_test_data})\n",
        "actualdf[:10]\n",
        "actualdf.index = range(len(actualdf.index))"
      ],
      "metadata": {
        "id": "PiapPWgaMd6P"
      },
      "execution_count": 64,
      "outputs": []
    },
    {
      "cell_type": "code",
      "source": [
        "finaldf = pd.concat([actualdf,preddf],axis=1)\n",
        "finaldf.head()"
      ],
      "metadata": {
        "colab": {
          "base_uri": "https://localhost:8080/",
          "height": 206
        },
        "id": "2RN6FH00MhvP",
        "outputId": "a1166727-436a-4799-848d-3fbed9ddd7de"
      },
      "execution_count": 65,
      "outputs": [
        {
          "output_type": "execute_result",
          "data": {
            "text/html": [
              "\n",
              "  <div id=\"df-373041cb-54b7-441c-9ce5-5cd4118a375a\">\n",
              "    <div class=\"colab-df-container\">\n",
              "      <div>\n",
              "<style scoped>\n",
              "    .dataframe tbody tr th:only-of-type {\n",
              "        vertical-align: middle;\n",
              "    }\n",
              "\n",
              "    .dataframe tbody tr th {\n",
              "        vertical-align: top;\n",
              "    }\n",
              "\n",
              "    .dataframe thead th {\n",
              "        text-align: right;\n",
              "    }\n",
              "</style>\n",
              "<table border=\"1\" class=\"dataframe\">\n",
              "  <thead>\n",
              "    <tr style=\"text-align: right;\">\n",
              "      <th></th>\n",
              "      <th>actualvalues</th>\n",
              "      <th>predictedvalues</th>\n",
              "    </tr>\n",
              "  </thead>\n",
              "  <tbody>\n",
              "    <tr>\n",
              "      <th>0</th>\n",
              "      <td>male_neutral</td>\n",
              "      <td>male_happy</td>\n",
              "    </tr>\n",
              "    <tr>\n",
              "      <th>1</th>\n",
              "      <td>male_neutral</td>\n",
              "      <td>male_happy</td>\n",
              "    </tr>\n",
              "    <tr>\n",
              "      <th>2</th>\n",
              "      <td>male_neutral</td>\n",
              "      <td>male_happy</td>\n",
              "    </tr>\n",
              "    <tr>\n",
              "      <th>3</th>\n",
              "      <td>male_neutral</td>\n",
              "      <td>male_happy</td>\n",
              "    </tr>\n",
              "    <tr>\n",
              "      <th>4</th>\n",
              "      <td>male_neutral</td>\n",
              "      <td>male_happy</td>\n",
              "    </tr>\n",
              "  </tbody>\n",
              "</table>\n",
              "</div>\n",
              "      <button class=\"colab-df-convert\" onclick=\"convertToInteractive('df-373041cb-54b7-441c-9ce5-5cd4118a375a')\"\n",
              "              title=\"Convert this dataframe to an interactive table.\"\n",
              "              style=\"display:none;\">\n",
              "        \n",
              "  <svg xmlns=\"http://www.w3.org/2000/svg\" height=\"24px\"viewBox=\"0 0 24 24\"\n",
              "       width=\"24px\">\n",
              "    <path d=\"M0 0h24v24H0V0z\" fill=\"none\"/>\n",
              "    <path d=\"M18.56 5.44l.94 2.06.94-2.06 2.06-.94-2.06-.94-.94-2.06-.94 2.06-2.06.94zm-11 1L8.5 8.5l.94-2.06 2.06-.94-2.06-.94L8.5 2.5l-.94 2.06-2.06.94zm10 10l.94 2.06.94-2.06 2.06-.94-2.06-.94-.94-2.06-.94 2.06-2.06.94z\"/><path d=\"M17.41 7.96l-1.37-1.37c-.4-.4-.92-.59-1.43-.59-.52 0-1.04.2-1.43.59L10.3 9.45l-7.72 7.72c-.78.78-.78 2.05 0 2.83L4 21.41c.39.39.9.59 1.41.59.51 0 1.02-.2 1.41-.59l7.78-7.78 2.81-2.81c.8-.78.8-2.07 0-2.86zM5.41 20L4 18.59l7.72-7.72 1.47 1.35L5.41 20z\"/>\n",
              "  </svg>\n",
              "      </button>\n",
              "      \n",
              "  <style>\n",
              "    .colab-df-container {\n",
              "      display:flex;\n",
              "      flex-wrap:wrap;\n",
              "      gap: 12px;\n",
              "    }\n",
              "\n",
              "    .colab-df-convert {\n",
              "      background-color: #E8F0FE;\n",
              "      border: none;\n",
              "      border-radius: 50%;\n",
              "      cursor: pointer;\n",
              "      display: none;\n",
              "      fill: #1967D2;\n",
              "      height: 32px;\n",
              "      padding: 0 0 0 0;\n",
              "      width: 32px;\n",
              "    }\n",
              "\n",
              "    .colab-df-convert:hover {\n",
              "      background-color: #E2EBFA;\n",
              "      box-shadow: 0px 1px 2px rgba(60, 64, 67, 0.3), 0px 1px 3px 1px rgba(60, 64, 67, 0.15);\n",
              "      fill: #174EA6;\n",
              "    }\n",
              "\n",
              "    [theme=dark] .colab-df-convert {\n",
              "      background-color: #3B4455;\n",
              "      fill: #D2E3FC;\n",
              "    }\n",
              "\n",
              "    [theme=dark] .colab-df-convert:hover {\n",
              "      background-color: #434B5C;\n",
              "      box-shadow: 0px 1px 3px 1px rgba(0, 0, 0, 0.15);\n",
              "      filter: drop-shadow(0px 1px 2px rgba(0, 0, 0, 0.3));\n",
              "      fill: #FFFFFF;\n",
              "    }\n",
              "  </style>\n",
              "\n",
              "      <script>\n",
              "        const buttonEl =\n",
              "          document.querySelector('#df-373041cb-54b7-441c-9ce5-5cd4118a375a button.colab-df-convert');\n",
              "        buttonEl.style.display =\n",
              "          google.colab.kernel.accessAllowed ? 'block' : 'none';\n",
              "\n",
              "        async function convertToInteractive(key) {\n",
              "          const element = document.querySelector('#df-373041cb-54b7-441c-9ce5-5cd4118a375a');\n",
              "          const dataTable =\n",
              "            await google.colab.kernel.invokeFunction('convertToInteractive',\n",
              "                                                     [key], {});\n",
              "          if (!dataTable) return;\n",
              "\n",
              "          const docLinkHtml = 'Like what you see? Visit the ' +\n",
              "            '<a target=\"_blank\" href=https://colab.research.google.com/notebooks/data_table.ipynb>data table notebook</a>'\n",
              "            + ' to learn more about interactive tables.';\n",
              "          element.innerHTML = '';\n",
              "          dataTable['output_type'] = 'display_data';\n",
              "          await google.colab.output.renderOutput(dataTable, element);\n",
              "          const docLink = document.createElement('div');\n",
              "          docLink.innerHTML = docLinkHtml;\n",
              "          element.appendChild(docLink);\n",
              "        }\n",
              "      </script>\n",
              "    </div>\n",
              "  </div>\n",
              "  "
            ],
            "text/plain": [
              "   actualvalues predictedvalues\n",
              "0  male_neutral      male_happy\n",
              "1  male_neutral      male_happy\n",
              "2  male_neutral      male_happy\n",
              "3  male_neutral      male_happy\n",
              "4  male_neutral      male_happy"
            ]
          },
          "metadata": {},
          "execution_count": 65
        }
      ]
    },
    {
      "cell_type": "code",
      "source": [
        "def print_confusion_matrix(confusion_matrix, class_names, figsize = (9,6), fontsize=14):\n",
        "    \"\"\"Prints a confusion matrix, as returned by sklearn.metrics.confusion_matrix, as a heatmap.\n",
        "    \n",
        "    Arguments\n",
        "    ---------\n",
        "    confusion_matrix: numpy.ndarray\n",
        "        The numpy.ndarray object returned from a call to sklearn.metrics.confusion_matrix. \n",
        "        Similarly constructed ndarrays can also be used.\n",
        "    class_names: list\n",
        "        An ordered list of class names, in the order they index the given confusion matrix.\n",
        "    figsize: tuple\n",
        "        A 2-long tuple, the first value determining the horizontal size of the ouputted figure,\n",
        "        the second determining the vertical size. Defaults to (10,7).\n",
        "    fontsize: int\n",
        "        Font size for axes labels. Defaults to 14.\n",
        "        \n",
        "    Returns\n",
        "    -------\n",
        "    matplotlib.figure.Figure\n",
        "        The resulting confusion matrix figure\n",
        "    \"\"\"\n",
        "    df_cm = pd.DataFrame(\n",
        "        confusion_matrix, index=class_names, columns=class_names, \n",
        "    )\n",
        "    fig = plt.figure(figsize=figsize)\n",
        "    try:\n",
        "        heatmap = sns.heatmap(df_cm, annot=True, fmt=\"d\")\n",
        "    except ValueError:\n",
        "        raise ValueError(\"Confusion matrix values must be integers.\")\n",
        "        \n",
        "    heatmap.yaxis.set_ticklabels(heatmap.yaxis.get_ticklabels(), rotation=0, ha='right', fontsize=fontsize)\n",
        "    heatmap.xaxis.set_ticklabels(heatmap.xaxis.get_ticklabels(), rotation=45, ha='right', fontsize=fontsize)\n",
        "    plt.ylabel('True label')\n",
        "    plt.xlabel('Predicted label')"
      ],
      "metadata": {
        "id": "t3LbOJQqMjTg"
      },
      "execution_count": 66,
      "outputs": []
    },
    {
      "cell_type": "code",
      "source": [
        "from sklearn.metrics import accuracy_score\n",
        "y_true = finaldf.actualvalues\n",
        "y_pred = finaldf.predictedvalues\n",
        "accuracy_score(y_true, y_pred)*100"
      ],
      "metadata": {
        "colab": {
          "base_uri": "https://localhost:8080/"
        },
        "id": "A4nwmKaQMpbH",
        "outputId": "74fb3672-7d95-4087-9775-f044f8b3d256"
      },
      "execution_count": 67,
      "outputs": [
        {
          "output_type": "execute_result",
          "data": {
            "text/plain": [
              "51.92307692307693"
            ]
          },
          "metadata": {},
          "execution_count": 67
        }
      ]
    },
    {
      "cell_type": "code",
      "source": [
        "from sklearn.metrics import f1_score\n",
        "f1_score(y_true, y_pred, average='macro') *100"
      ],
      "metadata": {
        "colab": {
          "base_uri": "https://localhost:8080/"
        },
        "id": "TFYtiRGaMsIX",
        "outputId": "d4bbf146-8108-430a-ea06-496ba638488a"
      },
      "execution_count": 68,
      "outputs": [
        {
          "output_type": "execute_result",
          "data": {
            "text/plain": [
              "47.18865121806299"
            ]
          },
          "metadata": {},
          "execution_count": 68
        }
      ]
    },
    {
      "cell_type": "code",
      "source": [
        "from sklearn.metrics import confusion_matrix\n",
        "c = confusion_matrix(y_true, y_pred)\n",
        "c"
      ],
      "metadata": {
        "colab": {
          "base_uri": "https://localhost:8080/"
        },
        "id": "VpNslBW9Mwof",
        "outputId": "c21d02b7-21df-4ac2-ca74-5c1d3b960f8f"
      },
      "execution_count": 69,
      "outputs": [
        {
          "output_type": "execute_result",
          "data": {
            "text/plain": [
              "array([[14,  2,  0,  0,  0,  0,  0,  0,  0,  0,  0,  0],\n",
              "       [ 6, 10,  0,  0,  0,  0,  0,  0,  0,  0,  0,  0],\n",
              "       [ 4,  0, 12,  0,  0,  0,  0,  0,  0,  0,  0,  0],\n",
              "       [ 2,  0,  4,  6,  4,  0,  0,  0,  0,  0,  0,  0],\n",
              "       [ 0,  0,  2,  0, 16,  6,  0,  0,  0,  0,  0,  0],\n",
              "       [ 2,  8,  0,  0,  6,  0,  0,  0,  0,  0,  0,  0],\n",
              "       [ 0,  0,  2,  2,  0,  0,  0,  0, 12,  0,  0,  0],\n",
              "       [ 0,  0,  0,  0,  0,  0,  0, 14,  2,  0,  0,  0],\n",
              "       [ 0,  0,  0,  0,  0,  0,  0,  0, 12,  4,  0,  0],\n",
              "       [ 0,  0,  0,  0,  0,  0,  0,  0, 10,  6,  0,  0],\n",
              "       [ 0,  0,  0,  0,  0,  0,  0,  2,  0,  8, 12,  2],\n",
              "       [ 0,  0,  0,  0,  0,  0,  0,  8,  2,  0,  0,  6]])"
            ]
          },
          "metadata": {},
          "execution_count": 69
        }
      ]
    },
    {
      "cell_type": "code",
      "source": [
        "class_names=sorted(set(finaldf.actualvalues))\n",
        "print_confusion_matrix(c, class_names)"
      ],
      "metadata": {
        "colab": {
          "base_uri": "https://localhost:8080/",
          "height": 467
        },
        "id": "3KLnROWOM0TI",
        "outputId": "a72da413-986f-4346-9280-1cc089643518"
      },
      "execution_count": 70,
      "outputs": [
        {
          "output_type": "display_data",
          "data": {
            "image/png": "[encoded data removed]",
            "text/plain": [
              "<Figure size 648x432 with 2 Axes>"
            ]
          },
          "metadata": {
            "needs_background": "light"
          }
        }
      ]
    }
  ]
}