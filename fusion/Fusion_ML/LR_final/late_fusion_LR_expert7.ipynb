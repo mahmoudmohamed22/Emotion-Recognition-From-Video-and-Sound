{
  "cells": [
    {
      "cell_type": "code",
      "execution_count": 1,
      "metadata": {
        "id": "XQj4f23-Ix-w"
      },
      "outputs": [],
      "source": [
        "# stacked generalization with linear meta model on blobs dataset\n",
        "from sklearn.metrics import accuracy_score\n",
        "from sklearn.linear_model import LogisticRegression\n",
        "from matplotlib import pyplot\n"
      ]
    },
    {
      "cell_type": "code",
      "source": [
        "from google.colab import drive\n",
        "drive.mount('/content/drive')"
      ],
      "metadata": {
        "colab": {
          "base_uri": "https://localhost:8080/"
        },
        "id": "I5zSyH1P9rt3",
        "outputId": "9118ba90-4122-4154-db9c-11e638a55a0e"
      },
      "execution_count": 2,
      "outputs": [
        {
          "output_type": "stream",
          "name": "stdout",
          "text": [
            "Drive already mounted at /content/drive; to attempt to forcibly remount, call drive.mount(\"/content/drive\", force_remount=True).\n"
          ]
        }
      ]
    },
    {
      "cell_type": "code",
      "execution_count": 3,
      "metadata": {
        "colab": {
          "base_uri": "https://localhost:8080/",
          "height": 70
        },
        "id": "gb8C-44ct_Yp",
        "outputId": "a154287b-ada1-47f2-816f-d045ff0abacb"
      },
      "outputs": [
        {
          "output_type": "execute_result",
          "data": {
            "text/plain": [
              "\"\\n#samples name\\ntest_videos= joblib.load('/content/drive/My Drive/fusion/video/data_set_fusion/expert7/test/video_test_path')\\ntrain_videos = joblib.load('/content/drive/My Drive/fusion/video/data_set_fusion/expert7/train/video_train_path')\\nvalid_videos = joblib.load('/content/drive/My Drive/fusion/video/data_set_fusion/expert7/valid/video_valid_path')\\n\""
            ],
            "application/vnd.google.colaboratory.intrinsic+json": {
              "type": "string"
            }
          },
          "metadata": {},
          "execution_count": 3
        }
      ],
      "source": [
        "#x_train  y_train to train\n",
        "#x_test   y_test to test\n",
        "#x_valid  y_valid \n",
        "#video\n",
        "import joblib\n",
        "x_test_prediction = joblib.load('/content/drive/My Drive/fusion/video/data_set_fusion/expert7/test/pred_test')\n",
        "x_train_prediction = joblib.load('/content/drive/My Drive/fusion/video/data_set_fusion/expert7/train/pred_train')\n",
        "x_valid_prediction = joblib.load('/content/drive/My Drive/fusion/video/data_set_fusion/expert7/valid/pred_valid')\n",
        "y_test = joblib.load('/content/drive/My Drive/fusion/video/data_set_fusion/expert7/test/labels_test')\n",
        "y_train = joblib.load('/content/drive/My Drive/fusion/video/data_set_fusion/expert7/train/labels_train')\n",
        "y_valid = joblib.load('/content/drive/My Drive/fusion/video/data_set_fusion/expert7/valid/labels_valid')\n",
        "#audio\n",
        "\n",
        "x_audio_test_prediction = joblib.load('/content/drive/My Drive/fusion/final_audio/data_set_fusion/expert7/test/predict_test')\n",
        "x_audio_train_prediction = joblib.load('/content/drive/My Drive/fusion/final_audio/data_set_fusion/expert7/train/predict_train')\n",
        "x_audio_valid_prediction = joblib.load('/content/drive/My Drive/fusion/final_audio/data_set_fusion/expert7/valid/predict_valid')\n",
        "\"\"\"\n",
        "#samples name\n",
        "test_videos= joblib.load('/content/drive/My Drive/fusion/video/data_set_fusion/expert7/test/video_test_path')\n",
        "train_videos = joblib.load('/content/drive/My Drive/fusion/video/data_set_fusion/expert7/train/video_train_path')\n",
        "valid_videos = joblib.load('/content/drive/My Drive/fusion/video/data_set_fusion/expert7/valid/video_valid_path')\n",
        "\"\"\""
      ]
    },
    {
      "cell_type": "code",
      "execution_count": 4,
      "metadata": {
        "colab": {
          "base_uri": "https://localhost:8080/"
        },
        "id": "Qz1Z3Vgdxaaw",
        "outputId": "a27865aa-0caa-4357-add4-f5a91e6f85ce"
      },
      "outputs": [
        {
          "output_type": "execute_result",
          "data": {
            "text/plain": [
              "(207, 1653, 207, 1653, 207, 207)"
            ]
          },
          "metadata": {},
          "execution_count": 4
        }
      ],
      "source": [
        "len(x_test_prediction),len(x_train_prediction),len(x_audio_test_prediction),len(x_audio_train_prediction),len(x_valid_prediction),len(x_audio_valid_prediction)"
      ]
    },
    {
      "cell_type": "code",
      "execution_count": 5,
      "metadata": {
        "id": "QgDf-FF0utgP"
      },
      "outputs": [],
      "source": [
        "#x_train for video\n",
        "x_train_prediction=x_train_prediction.append(x_valid_prediction,ignore_index = True)\n",
        "#x_train for audio\n",
        "x_audio_train_prediction=x_audio_train_prediction.append(x_audio_valid_prediction,ignore_index = True)"
      ]
    },
    {
      "cell_type": "code",
      "execution_count": 6,
      "metadata": {
        "colab": {
          "base_uri": "https://localhost:8080/"
        },
        "id": "3G4-X-MLv79s",
        "outputId": "640d9d96-a6b4-48f1-cf5c-b596541d669d"
      },
      "outputs": [
        {
          "output_type": "execute_result",
          "data": {
            "text/plain": [
              "(1860, 1860)"
            ]
          },
          "metadata": {},
          "execution_count": 6
        }
      ],
      "source": [
        "len(x_audio_train_prediction),len(x_train_prediction)"
      ]
    },
    {
      "cell_type": "code",
      "execution_count": 7,
      "metadata": {
        "id": "JrYaQCyZw06M"
      },
      "outputs": [],
      "source": [
        "from pandas.core.frame import DataFrame\n",
        "df_train=DataFrame(y_train,columns=['labels'])\n",
        "df_valid=DataFrame(y_valid,columns=['labels'])"
      ]
    },
    {
      "cell_type": "code",
      "execution_count": 8,
      "metadata": {
        "id": "Rq3yhw26xjfy"
      },
      "outputs": [],
      "source": [
        "df_train=df_train.append(df_valid,ignore_index = True)"
      ]
    },
    {
      "cell_type": "code",
      "execution_count": 9,
      "metadata": {
        "colab": {
          "base_uri": "https://localhost:8080/"
        },
        "id": "dvYKmNurx1KR",
        "outputId": "1f10d847-3c0e-4be6-9614-5359dfa8efc2"
      },
      "outputs": [
        {
          "output_type": "execute_result",
          "data": {
            "text/plain": [
              "1860"
            ]
          },
          "metadata": {},
          "execution_count": 9
        }
      ],
      "source": [
        "len(df_train)"
      ]
    },
    {
      "cell_type": "code",
      "execution_count": 10,
      "metadata": {
        "colab": {
          "base_uri": "https://localhost:8080/",
          "height": 424
        },
        "id": "Pfp2YX591X1F",
        "outputId": "f98c3cf1-6420-4139-aa99-a01bee1bb630"
      },
      "outputs": [
        {
          "output_type": "execute_result",
          "data": {
            "text/plain": [
              "      labels\n",
              "0          5\n",
              "1          3\n",
              "2          5\n",
              "3          3\n",
              "4          3\n",
              "...      ...\n",
              "1855       1\n",
              "1856       1\n",
              "1857       5\n",
              "1858       3\n",
              "1859       4\n",
              "\n",
              "[1860 rows x 1 columns]"
            ],
            "text/html": [
              "\n",
              "  <div id=\"df-72c0a7a5-082e-4411-93bb-f4e18faef72e\">\n",
              "    <div class=\"colab-df-container\">\n",
              "      <div>\n",
              "<style scoped>\n",
              "    .dataframe tbody tr th:only-of-type {\n",
              "        vertical-align: middle;\n",
              "    }\n",
              "\n",
              "    .dataframe tbody tr th {\n",
              "        vertical-align: top;\n",
              "    }\n",
              "\n",
              "    .dataframe thead th {\n",
              "        text-align: right;\n",
              "    }\n",
              "</style>\n",
              "<table border=\"1\" class=\"dataframe\">\n",
              "  <thead>\n",
              "    <tr style=\"text-align: right;\">\n",
              "      <th></th>\n",
              "      <th>labels</th>\n",
              "    </tr>\n",
              "  </thead>\n",
              "  <tbody>\n",
              "    <tr>\n",
              "      <th>0</th>\n",
              "      <td>5</td>\n",
              "    </tr>\n",
              "    <tr>\n",
              "      <th>1</th>\n",
              "      <td>3</td>\n",
              "    </tr>\n",
              "    <tr>\n",
              "      <th>2</th>\n",
              "      <td>5</td>\n",
              "    </tr>\n",
              "    <tr>\n",
              "      <th>3</th>\n",
              "      <td>3</td>\n",
              "    </tr>\n",
              "    <tr>\n",
              "      <th>4</th>\n",
              "      <td>3</td>\n",
              "    </tr>\n",
              "    <tr>\n",
              "      <th>...</th>\n",
              "      <td>...</td>\n",
              "    </tr>\n",
              "    <tr>\n",
              "      <th>1855</th>\n",
              "      <td>1</td>\n",
              "    </tr>\n",
              "    <tr>\n",
              "      <th>1856</th>\n",
              "      <td>1</td>\n",
              "    </tr>\n",
              "    <tr>\n",
              "      <th>1857</th>\n",
              "      <td>5</td>\n",
              "    </tr>\n",
              "    <tr>\n",
              "      <th>1858</th>\n",
              "      <td>3</td>\n",
              "    </tr>\n",
              "    <tr>\n",
              "      <th>1859</th>\n",
              "      <td>4</td>\n",
              "    </tr>\n",
              "  </tbody>\n",
              "</table>\n",
              "<p>1860 rows × 1 columns</p>\n",
              "</div>\n",
              "      <button class=\"colab-df-convert\" onclick=\"convertToInteractive('df-72c0a7a5-082e-4411-93bb-f4e18faef72e')\"\n",
              "              title=\"Convert this dataframe to an interactive table.\"\n",
              "              style=\"display:none;\">\n",
              "        \n",
              "  <svg xmlns=\"http://www.w3.org/2000/svg\" height=\"24px\"viewBox=\"0 0 24 24\"\n",
              "       width=\"24px\">\n",
              "    <path d=\"M0 0h24v24H0V0z\" fill=\"none\"/>\n",
              "    <path d=\"M18.56 5.44l.94 2.06.94-2.06 2.06-.94-2.06-.94-.94-2.06-.94 2.06-2.06.94zm-11 1L8.5 8.5l.94-2.06 2.06-.94-2.06-.94L8.5 2.5l-.94 2.06-2.06.94zm10 10l.94 2.06.94-2.06 2.06-.94-2.06-.94-.94-2.06-.94 2.06-2.06.94z\"/><path d=\"M17.41 7.96l-1.37-1.37c-.4-.4-.92-.59-1.43-.59-.52 0-1.04.2-1.43.59L10.3 9.45l-7.72 7.72c-.78.78-.78 2.05 0 2.83L4 21.41c.39.39.9.59 1.41.59.51 0 1.02-.2 1.41-.59l7.78-7.78 2.81-2.81c.8-.78.8-2.07 0-2.86zM5.41 20L4 18.59l7.72-7.72 1.47 1.35L5.41 20z\"/>\n",
              "  </svg>\n",
              "      </button>\n",
              "      \n",
              "  <style>\n",
              "    .colab-df-container {\n",
              "      display:flex;\n",
              "      flex-wrap:wrap;\n",
              "      gap: 12px;\n",
              "    }\n",
              "\n",
              "    .colab-df-convert {\n",
              "      background-color: #E8F0FE;\n",
              "      border: none;\n",
              "      border-radius: 50%;\n",
              "      cursor: pointer;\n",
              "      display: none;\n",
              "      fill: #1967D2;\n",
              "      height: 32px;\n",
              "      padding: 0 0 0 0;\n",
              "      width: 32px;\n",
              "    }\n",
              "\n",
              "    .colab-df-convert:hover {\n",
              "      background-color: #E2EBFA;\n",
              "      box-shadow: 0px 1px 2px rgba(60, 64, 67, 0.3), 0px 1px 3px 1px rgba(60, 64, 67, 0.15);\n",
              "      fill: #174EA6;\n",
              "    }\n",
              "\n",
              "    [theme=dark] .colab-df-convert {\n",
              "      background-color: #3B4455;\n",
              "      fill: #D2E3FC;\n",
              "    }\n",
              "\n",
              "    [theme=dark] .colab-df-convert:hover {\n",
              "      background-color: #434B5C;\n",
              "      box-shadow: 0px 1px 3px 1px rgba(0, 0, 0, 0.15);\n",
              "      filter: drop-shadow(0px 1px 2px rgba(0, 0, 0, 0.3));\n",
              "      fill: #FFFFFF;\n",
              "    }\n",
              "  </style>\n",
              "\n",
              "      <script>\n",
              "        const buttonEl =\n",
              "          document.querySelector('#df-72c0a7a5-082e-4411-93bb-f4e18faef72e button.colab-df-convert');\n",
              "        buttonEl.style.display =\n",
              "          google.colab.kernel.accessAllowed ? 'block' : 'none';\n",
              "\n",
              "        async function convertToInteractive(key) {\n",
              "          const element = document.querySelector('#df-72c0a7a5-082e-4411-93bb-f4e18faef72e');\n",
              "          const dataTable =\n",
              "            await google.colab.kernel.invokeFunction('convertToInteractive',\n",
              "                                                     [key], {});\n",
              "          if (!dataTable) return;\n",
              "\n",
              "          const docLinkHtml = 'Like what you see? Visit the ' +\n",
              "            '<a target=\"_blank\" href=https://colab.research.google.com/notebooks/data_table.ipynb>data table notebook</a>'\n",
              "            + ' to learn more about interactive tables.';\n",
              "          element.innerHTML = '';\n",
              "          dataTable['output_type'] = 'display_data';\n",
              "          await google.colab.output.renderOutput(dataTable, element);\n",
              "          const docLink = document.createElement('div');\n",
              "          docLink.innerHTML = docLinkHtml;\n",
              "          element.appendChild(docLink);\n",
              "        }\n",
              "      </script>\n",
              "    </div>\n",
              "  </div>\n",
              "  "
            ]
          },
          "metadata": {},
          "execution_count": 10
        }
      ],
      "source": [
        "df_train"
      ]
    },
    {
      "cell_type": "code",
      "execution_count": 11,
      "metadata": {
        "id": "sbkgIXaFwKwh"
      },
      "outputs": [],
      "source": [
        "import pandas as pd\n",
        "\n",
        "x_train = pd.concat([x_train_prediction, x_audio_train_prediction], axis=1,join='inner')\n",
        "x_test =  pd.concat([x_test_prediction, x_audio_test_prediction], axis=1,join='inner')"
      ]
    },
    {
      "cell_type": "code",
      "execution_count": 12,
      "metadata": {
        "colab": {
          "base_uri": "https://localhost:8080/",
          "height": 468
        },
        "id": "78gEQ1w7w_fd",
        "outputId": "19d14f10-7b21-45ea-b3c3-baf063283f62"
      },
      "outputs": [
        {
          "output_type": "execute_result",
          "data": {
            "text/plain": [
              "         OV_0      OV_1      OV_2      OV_3      OV_4          OV_5  \\\n",
              "0    0.000062  0.999659  0.000080  0.000196  0.000003  9.539600e-07   \n",
              "1    0.000869  0.995548  0.000523  0.003042  0.000009  8.922462e-06   \n",
              "2    0.000049  0.000041  0.000020  0.002123  0.001456  9.963111e-01   \n",
              "3    0.000114  0.999223  0.000342  0.000290  0.000023  8.258175e-06   \n",
              "4    0.991302  0.007643  0.000025  0.000973  0.000027  2.944969e-05   \n",
              "..        ...       ...       ...       ...       ...           ...   \n",
              "202  0.000004  0.000058  0.000043  0.009858  0.000075  9.899615e-01   \n",
              "203  0.000990  0.962252  0.035509  0.001156  0.000013  8.015337e-05   \n",
              "204  0.991305  0.007294  0.000021  0.001309  0.000014  5.721731e-05   \n",
              "205  0.000433  0.998711  0.000594  0.000256  0.000005  1.035527e-06   \n",
              "206  0.000002  0.001578  0.998243  0.000148  0.000011  1.695817e-05   \n",
              "\n",
              "             OA_0          OA_1          OA_2          OA_3          OA_4  \\\n",
              "0    9.203964e-01  5.378347e-02  1.521798e-03  2.405777e-02  1.586962e-04   \n",
              "1    6.189468e-06  4.238812e-01  5.761091e-01  3.594934e-06  2.235819e-11   \n",
              "2    4.238568e-05  8.242146e-09  5.435681e-05  6.787966e-06  9.122024e-01   \n",
              "3    6.573676e-01  2.347927e-01  1.070476e-01  1.266765e-04  5.233891e-04   \n",
              "4    3.510085e-02  2.448565e-01  5.023615e-02  6.644048e-01  5.327760e-03   \n",
              "..            ...           ...           ...           ...           ...   \n",
              "202  3.324921e-12  4.399423e-06  3.645562e-03  7.355066e-08  2.290855e-09   \n",
              "203  3.717093e-07  9.989679e-01  1.031794e-03  4.555096e-10  7.812916e-10   \n",
              "204  9.999918e-01  8.981947e-11  7.546583e-11  6.835684e-06  1.353483e-06   \n",
              "205  1.780075e-01  5.454309e-01  1.511044e-01  7.345127e-02  4.369416e-03   \n",
              "206  3.049838e-01  7.764411e-03  6.761920e-01  3.978088e-03  2.239285e-03   \n",
              "\n",
              "             OA_5  \n",
              "0    8.193485e-05  \n",
              "1    2.386949e-08  \n",
              "2    8.769407e-02  \n",
              "3    1.419341e-04  \n",
              "4    7.393933e-05  \n",
              "..            ...  \n",
              "202  9.963499e-01  \n",
              "203  7.091765e-11  \n",
              "204  9.361896e-08  \n",
              "205  4.763644e-02  \n",
              "206  4.842293e-03  \n",
              "\n",
              "[207 rows x 12 columns]"
            ],
            "text/html": [
              "\n",
              "  <div id=\"df-4c1007bf-b3ff-483d-9c1f-6aff19ff8ea2\">\n",
              "    <div class=\"colab-df-container\">\n",
              "      <div>\n",
              "<style scoped>\n",
              "    .dataframe tbody tr th:only-of-type {\n",
              "        vertical-align: middle;\n",
              "    }\n",
              "\n",
              "    .dataframe tbody tr th {\n",
              "        vertical-align: top;\n",
              "    }\n",
              "\n",
              "    .dataframe thead th {\n",
              "        text-align: right;\n",
              "    }\n",
              "</style>\n",
              "<table border=\"1\" class=\"dataframe\">\n",
              "  <thead>\n",
              "    <tr style=\"text-align: right;\">\n",
              "      <th></th>\n",
              "      <th>OV_0</th>\n",
              "      <th>OV_1</th>\n",
              "      <th>OV_2</th>\n",
              "      <th>OV_3</th>\n",
              "      <th>OV_4</th>\n",
              "      <th>OV_5</th>\n",
              "      <th>OA_0</th>\n",
              "      <th>OA_1</th>\n",
              "      <th>OA_2</th>\n",
              "      <th>OA_3</th>\n",
              "      <th>OA_4</th>\n",
              "      <th>OA_5</th>\n",
              "    </tr>\n",
              "  </thead>\n",
              "  <tbody>\n",
              "    <tr>\n",
              "      <th>0</th>\n",
              "      <td>0.000062</td>\n",
              "      <td>0.999659</td>\n",
              "      <td>0.000080</td>\n",
              "      <td>0.000196</td>\n",
              "      <td>0.000003</td>\n",
              "      <td>9.539600e-07</td>\n",
              "      <td>9.203964e-01</td>\n",
              "      <td>5.378347e-02</td>\n",
              "      <td>1.521798e-03</td>\n",
              "      <td>2.405777e-02</td>\n",
              "      <td>1.586962e-04</td>\n",
              "      <td>8.193485e-05</td>\n",
              "    </tr>\n",
              "    <tr>\n",
              "      <th>1</th>\n",
              "      <td>0.000869</td>\n",
              "      <td>0.995548</td>\n",
              "      <td>0.000523</td>\n",
              "      <td>0.003042</td>\n",
              "      <td>0.000009</td>\n",
              "      <td>8.922462e-06</td>\n",
              "      <td>6.189468e-06</td>\n",
              "      <td>4.238812e-01</td>\n",
              "      <td>5.761091e-01</td>\n",
              "      <td>3.594934e-06</td>\n",
              "      <td>2.235819e-11</td>\n",
              "      <td>2.386949e-08</td>\n",
              "    </tr>\n",
              "    <tr>\n",
              "      <th>2</th>\n",
              "      <td>0.000049</td>\n",
              "      <td>0.000041</td>\n",
              "      <td>0.000020</td>\n",
              "      <td>0.002123</td>\n",
              "      <td>0.001456</td>\n",
              "      <td>9.963111e-01</td>\n",
              "      <td>4.238568e-05</td>\n",
              "      <td>8.242146e-09</td>\n",
              "      <td>5.435681e-05</td>\n",
              "      <td>6.787966e-06</td>\n",
              "      <td>9.122024e-01</td>\n",
              "      <td>8.769407e-02</td>\n",
              "    </tr>\n",
              "    <tr>\n",
              "      <th>3</th>\n",
              "      <td>0.000114</td>\n",
              "      <td>0.999223</td>\n",
              "      <td>0.000342</td>\n",
              "      <td>0.000290</td>\n",
              "      <td>0.000023</td>\n",
              "      <td>8.258175e-06</td>\n",
              "      <td>6.573676e-01</td>\n",
              "      <td>2.347927e-01</td>\n",
              "      <td>1.070476e-01</td>\n",
              "      <td>1.266765e-04</td>\n",
              "      <td>5.233891e-04</td>\n",
              "      <td>1.419341e-04</td>\n",
              "    </tr>\n",
              "    <tr>\n",
              "      <th>4</th>\n",
              "      <td>0.991302</td>\n",
              "      <td>0.007643</td>\n",
              "      <td>0.000025</td>\n",
              "      <td>0.000973</td>\n",
              "      <td>0.000027</td>\n",
              "      <td>2.944969e-05</td>\n",
              "      <td>3.510085e-02</td>\n",
              "      <td>2.448565e-01</td>\n",
              "      <td>5.023615e-02</td>\n",
              "      <td>6.644048e-01</td>\n",
              "      <td>5.327760e-03</td>\n",
              "      <td>7.393933e-05</td>\n",
              "    </tr>\n",
              "    <tr>\n",
              "      <th>...</th>\n",
              "      <td>...</td>\n",
              "      <td>...</td>\n",
              "      <td>...</td>\n",
              "      <td>...</td>\n",
              "      <td>...</td>\n",
              "      <td>...</td>\n",
              "      <td>...</td>\n",
              "      <td>...</td>\n",
              "      <td>...</td>\n",
              "      <td>...</td>\n",
              "      <td>...</td>\n",
              "      <td>...</td>\n",
              "    </tr>\n",
              "    <tr>\n",
              "      <th>202</th>\n",
              "      <td>0.000004</td>\n",
              "      <td>0.000058</td>\n",
              "      <td>0.000043</td>\n",
              "      <td>0.009858</td>\n",
              "      <td>0.000075</td>\n",
              "      <td>9.899615e-01</td>\n",
              "      <td>3.324921e-12</td>\n",
              "      <td>4.399423e-06</td>\n",
              "      <td>3.645562e-03</td>\n",
              "      <td>7.355066e-08</td>\n",
              "      <td>2.290855e-09</td>\n",
              "      <td>9.963499e-01</td>\n",
              "    </tr>\n",
              "    <tr>\n",
              "      <th>203</th>\n",
              "      <td>0.000990</td>\n",
              "      <td>0.962252</td>\n",
              "      <td>0.035509</td>\n",
              "      <td>0.001156</td>\n",
              "      <td>0.000013</td>\n",
              "      <td>8.015337e-05</td>\n",
              "      <td>3.717093e-07</td>\n",
              "      <td>9.989679e-01</td>\n",
              "      <td>1.031794e-03</td>\n",
              "      <td>4.555096e-10</td>\n",
              "      <td>7.812916e-10</td>\n",
              "      <td>7.091765e-11</td>\n",
              "    </tr>\n",
              "    <tr>\n",
              "      <th>204</th>\n",
              "      <td>0.991305</td>\n",
              "      <td>0.007294</td>\n",
              "      <td>0.000021</td>\n",
              "      <td>0.001309</td>\n",
              "      <td>0.000014</td>\n",
              "      <td>5.721731e-05</td>\n",
              "      <td>9.999918e-01</td>\n",
              "      <td>8.981947e-11</td>\n",
              "      <td>7.546583e-11</td>\n",
              "      <td>6.835684e-06</td>\n",
              "      <td>1.353483e-06</td>\n",
              "      <td>9.361896e-08</td>\n",
              "    </tr>\n",
              "    <tr>\n",
              "      <th>205</th>\n",
              "      <td>0.000433</td>\n",
              "      <td>0.998711</td>\n",
              "      <td>0.000594</td>\n",
              "      <td>0.000256</td>\n",
              "      <td>0.000005</td>\n",
              "      <td>1.035527e-06</td>\n",
              "      <td>1.780075e-01</td>\n",
              "      <td>5.454309e-01</td>\n",
              "      <td>1.511044e-01</td>\n",
              "      <td>7.345127e-02</td>\n",
              "      <td>4.369416e-03</td>\n",
              "      <td>4.763644e-02</td>\n",
              "    </tr>\n",
              "    <tr>\n",
              "      <th>206</th>\n",
              "      <td>0.000002</td>\n",
              "      <td>0.001578</td>\n",
              "      <td>0.998243</td>\n",
              "      <td>0.000148</td>\n",
              "      <td>0.000011</td>\n",
              "      <td>1.695817e-05</td>\n",
              "      <td>3.049838e-01</td>\n",
              "      <td>7.764411e-03</td>\n",
              "      <td>6.761920e-01</td>\n",
              "      <td>3.978088e-03</td>\n",
              "      <td>2.239285e-03</td>\n",
              "      <td>4.842293e-03</td>\n",
              "    </tr>\n",
              "  </tbody>\n",
              "</table>\n",
              "<p>207 rows × 12 columns</p>\n",
              "</div>\n",
              "      <button class=\"colab-df-convert\" onclick=\"convertToInteractive('df-4c1007bf-b3ff-483d-9c1f-6aff19ff8ea2')\"\n",
              "              title=\"Convert this dataframe to an interactive table.\"\n",
              "              style=\"display:none;\">\n",
              "        \n",
              "  <svg xmlns=\"http://www.w3.org/2000/svg\" height=\"24px\"viewBox=\"0 0 24 24\"\n",
              "       width=\"24px\">\n",
              "    <path d=\"M0 0h24v24H0V0z\" fill=\"none\"/>\n",
              "    <path d=\"M18.56 5.44l.94 2.06.94-2.06 2.06-.94-2.06-.94-.94-2.06-.94 2.06-2.06.94zm-11 1L8.5 8.5l.94-2.06 2.06-.94-2.06-.94L8.5 2.5l-.94 2.06-2.06.94zm10 10l.94 2.06.94-2.06 2.06-.94-2.06-.94-.94-2.06-.94 2.06-2.06.94z\"/><path d=\"M17.41 7.96l-1.37-1.37c-.4-.4-.92-.59-1.43-.59-.52 0-1.04.2-1.43.59L10.3 9.45l-7.72 7.72c-.78.78-.78 2.05 0 2.83L4 21.41c.39.39.9.59 1.41.59.51 0 1.02-.2 1.41-.59l7.78-7.78 2.81-2.81c.8-.78.8-2.07 0-2.86zM5.41 20L4 18.59l7.72-7.72 1.47 1.35L5.41 20z\"/>\n",
              "  </svg>\n",
              "      </button>\n",
              "      \n",
              "  <style>\n",
              "    .colab-df-container {\n",
              "      display:flex;\n",
              "      flex-wrap:wrap;\n",
              "      gap: 12px;\n",
              "    }\n",
              "\n",
              "    .colab-df-convert {\n",
              "      background-color: #E8F0FE;\n",
              "      border: none;\n",
              "      border-radius: 50%;\n",
              "      cursor: pointer;\n",
              "      display: none;\n",
              "      fill: #1967D2;\n",
              "      height: 32px;\n",
              "      padding: 0 0 0 0;\n",
              "      width: 32px;\n",
              "    }\n",
              "\n",
              "    .colab-df-convert:hover {\n",
              "      background-color: #E2EBFA;\n",
              "      box-shadow: 0px 1px 2px rgba(60, 64, 67, 0.3), 0px 1px 3px 1px rgba(60, 64, 67, 0.15);\n",
              "      fill: #174EA6;\n",
              "    }\n",
              "\n",
              "    [theme=dark] .colab-df-convert {\n",
              "      background-color: #3B4455;\n",
              "      fill: #D2E3FC;\n",
              "    }\n",
              "\n",
              "    [theme=dark] .colab-df-convert:hover {\n",
              "      background-color: #434B5C;\n",
              "      box-shadow: 0px 1px 3px 1px rgba(0, 0, 0, 0.15);\n",
              "      filter: drop-shadow(0px 1px 2px rgba(0, 0, 0, 0.3));\n",
              "      fill: #FFFFFF;\n",
              "    }\n",
              "  </style>\n",
              "\n",
              "      <script>\n",
              "        const buttonEl =\n",
              "          document.querySelector('#df-4c1007bf-b3ff-483d-9c1f-6aff19ff8ea2 button.colab-df-convert');\n",
              "        buttonEl.style.display =\n",
              "          google.colab.kernel.accessAllowed ? 'block' : 'none';\n",
              "\n",
              "        async function convertToInteractive(key) {\n",
              "          const element = document.querySelector('#df-4c1007bf-b3ff-483d-9c1f-6aff19ff8ea2');\n",
              "          const dataTable =\n",
              "            await google.colab.kernel.invokeFunction('convertToInteractive',\n",
              "                                                     [key], {});\n",
              "          if (!dataTable) return;\n",
              "\n",
              "          const docLinkHtml = 'Like what you see? Visit the ' +\n",
              "            '<a target=\"_blank\" href=https://colab.research.google.com/notebooks/data_table.ipynb>data table notebook</a>'\n",
              "            + ' to learn more about interactive tables.';\n",
              "          element.innerHTML = '';\n",
              "          dataTable['output_type'] = 'display_data';\n",
              "          await google.colab.output.renderOutput(dataTable, element);\n",
              "          const docLink = document.createElement('div');\n",
              "          docLink.innerHTML = docLinkHtml;\n",
              "          element.appendChild(docLink);\n",
              "        }\n",
              "      </script>\n",
              "    </div>\n",
              "  </div>\n",
              "  "
            ]
          },
          "metadata": {},
          "execution_count": 12
        }
      ],
      "source": [
        "x_test"
      ]
    },
    {
      "cell_type": "code",
      "execution_count": 13,
      "metadata": {
        "colab": {
          "base_uri": "https://localhost:8080/"
        },
        "id": "ryRQjTkUyZJv",
        "outputId": "a870edd2-6c2b-4eff-9d7e-058b852abda5"
      },
      "outputs": [
        {
          "output_type": "execute_result",
          "data": {
            "text/plain": [
              "(207, 1860)"
            ]
          },
          "metadata": {},
          "execution_count": 13
        }
      ],
      "source": [
        "len(x_test),len(x_train)"
      ]
    },
    {
      "cell_type": "code",
      "execution_count": 14,
      "metadata": {
        "colab": {
          "base_uri": "https://localhost:8080/",
          "height": 641
        },
        "id": "1e5kgXiFwzx3",
        "outputId": "7af1a126-a8a1-4487-8c4b-e08916039698"
      },
      "outputs": [
        {
          "output_type": "execute_result",
          "data": {
            "text/plain": [
              "          OV_0      OV_1          OV_2      OV_3      OV_4          OV_5  \\\n",
              "0     0.000007  0.000007  1.694538e-05  0.000112  0.000117  9.997398e-01   \n",
              "1     0.000014  0.000401  1.076231e-06  0.999402  0.000014  1.689073e-04   \n",
              "2     0.000586  0.000661  7.012845e-05  0.097090  0.001241  9.003514e-01   \n",
              "3     0.000038  0.000159  6.821508e-07  0.999483  0.000044  2.741277e-04   \n",
              "4     0.000034  0.002090  3.303122e-05  0.993146  0.000084  4.613491e-03   \n",
              "...        ...       ...           ...       ...       ...           ...   \n",
              "1855  0.001335  0.996680  1.703442e-03  0.000212  0.000062  7.762030e-06   \n",
              "1856  0.000135  0.999532  1.162601e-04  0.000212  0.000005  9.671194e-07   \n",
              "1857  0.000002  0.000004  8.520990e-06  0.000211  0.000115  9.996591e-01   \n",
              "1858  0.000009  0.000728  1.373353e-06  0.999060  0.000009  1.925414e-04   \n",
              "1859  0.000005  0.000014  3.302180e-06  0.000046  0.998507  1.425267e-03   \n",
              "\n",
              "              OA_0          OA_1          OA_2          OA_3          OA_4  \\\n",
              "0     1.387192e-04  2.771353e-06  1.120603e-04  4.898067e-05  2.210067e-04   \n",
              "1     1.226334e-08  1.108405e-07  7.288507e-04  9.989219e-01  4.406886e-08   \n",
              "2     4.673212e-07  2.941928e-10  3.436124e-10  1.662648e-04  3.308743e-08   \n",
              "3     9.910273e-08  7.407110e-11  5.901686e-09  9.999740e-01  4.811433e-06   \n",
              "4     2.125222e-04  2.954680e-03  7.055510e-07  9.968263e-01  1.936183e-06   \n",
              "...            ...           ...           ...           ...           ...   \n",
              "1855  4.043623e-10  6.588283e-02  9.341170e-01  7.534875e-08  2.476956e-10   \n",
              "1856  1.008437e-02  9.891237e-01  2.470985e-06  1.327756e-04  4.750484e-04   \n",
              "1857  1.065556e-09  1.896635e-08  2.203337e-04  9.958742e-07  2.758207e-09   \n",
              "1858  5.690332e-08  8.852413e-11  1.198114e-08  9.990975e-01  3.625674e-06   \n",
              "1859  2.660609e-09  8.678356e-10  3.970349e-07  6.938065e-08  9.999981e-01   \n",
              "\n",
              "              OA_5  \n",
              "0     9.994765e-01  \n",
              "1     3.490766e-04  \n",
              "2     9.998332e-01  \n",
              "3     2.107512e-05  \n",
              "4     3.913473e-06  \n",
              "...            ...  \n",
              "1855  8.284928e-13  \n",
              "1856  1.815893e-04  \n",
              "1857  9.997787e-01  \n",
              "1858  8.989621e-04  \n",
              "1859  1.387548e-06  \n",
              "\n",
              "[1860 rows x 12 columns]"
            ],
            "text/html": [
              "\n",
              "  <div id=\"df-cb2bf6c8-c49f-465b-99da-ab42446f2028\">\n",
              "    <div class=\"colab-df-container\">\n",
              "      <div>\n",
              "<style scoped>\n",
              "    .dataframe tbody tr th:only-of-type {\n",
              "        vertical-align: middle;\n",
              "    }\n",
              "\n",
              "    .dataframe tbody tr th {\n",
              "        vertical-align: top;\n",
              "    }\n",
              "\n",
              "    .dataframe thead th {\n",
              "        text-align: right;\n",
              "    }\n",
              "</style>\n",
              "<table border=\"1\" class=\"dataframe\">\n",
              "  <thead>\n",
              "    <tr style=\"text-align: right;\">\n",
              "      <th></th>\n",
              "      <th>OV_0</th>\n",
              "      <th>OV_1</th>\n",
              "      <th>OV_2</th>\n",
              "      <th>OV_3</th>\n",
              "      <th>OV_4</th>\n",
              "      <th>OV_5</th>\n",
              "      <th>OA_0</th>\n",
              "      <th>OA_1</th>\n",
              "      <th>OA_2</th>\n",
              "      <th>OA_3</th>\n",
              "      <th>OA_4</th>\n",
              "      <th>OA_5</th>\n",
              "    </tr>\n",
              "  </thead>\n",
              "  <tbody>\n",
              "    <tr>\n",
              "      <th>0</th>\n",
              "      <td>0.000007</td>\n",
              "      <td>0.000007</td>\n",
              "      <td>1.694538e-05</td>\n",
              "      <td>0.000112</td>\n",
              "      <td>0.000117</td>\n",
              "      <td>9.997398e-01</td>\n",
              "      <td>1.387192e-04</td>\n",
              "      <td>2.771353e-06</td>\n",
              "      <td>1.120603e-04</td>\n",
              "      <td>4.898067e-05</td>\n",
              "      <td>2.210067e-04</td>\n",
              "      <td>9.994765e-01</td>\n",
              "    </tr>\n",
              "    <tr>\n",
              "      <th>1</th>\n",
              "      <td>0.000014</td>\n",
              "      <td>0.000401</td>\n",
              "      <td>1.076231e-06</td>\n",
              "      <td>0.999402</td>\n",
              "      <td>0.000014</td>\n",
              "      <td>1.689073e-04</td>\n",
              "      <td>1.226334e-08</td>\n",
              "      <td>1.108405e-07</td>\n",
              "      <td>7.288507e-04</td>\n",
              "      <td>9.989219e-01</td>\n",
              "      <td>4.406886e-08</td>\n",
              "      <td>3.490766e-04</td>\n",
              "    </tr>\n",
              "    <tr>\n",
              "      <th>2</th>\n",
              "      <td>0.000586</td>\n",
              "      <td>0.000661</td>\n",
              "      <td>7.012845e-05</td>\n",
              "      <td>0.097090</td>\n",
              "      <td>0.001241</td>\n",
              "      <td>9.003514e-01</td>\n",
              "      <td>4.673212e-07</td>\n",
              "      <td>2.941928e-10</td>\n",
              "      <td>3.436124e-10</td>\n",
              "      <td>1.662648e-04</td>\n",
              "      <td>3.308743e-08</td>\n",
              "      <td>9.998332e-01</td>\n",
              "    </tr>\n",
              "    <tr>\n",
              "      <th>3</th>\n",
              "      <td>0.000038</td>\n",
              "      <td>0.000159</td>\n",
              "      <td>6.821508e-07</td>\n",
              "      <td>0.999483</td>\n",
              "      <td>0.000044</td>\n",
              "      <td>2.741277e-04</td>\n",
              "      <td>9.910273e-08</td>\n",
              "      <td>7.407110e-11</td>\n",
              "      <td>5.901686e-09</td>\n",
              "      <td>9.999740e-01</td>\n",
              "      <td>4.811433e-06</td>\n",
              "      <td>2.107512e-05</td>\n",
              "    </tr>\n",
              "    <tr>\n",
              "      <th>4</th>\n",
              "      <td>0.000034</td>\n",
              "      <td>0.002090</td>\n",
              "      <td>3.303122e-05</td>\n",
              "      <td>0.993146</td>\n",
              "      <td>0.000084</td>\n",
              "      <td>4.613491e-03</td>\n",
              "      <td>2.125222e-04</td>\n",
              "      <td>2.954680e-03</td>\n",
              "      <td>7.055510e-07</td>\n",
              "      <td>9.968263e-01</td>\n",
              "      <td>1.936183e-06</td>\n",
              "      <td>3.913473e-06</td>\n",
              "    </tr>\n",
              "    <tr>\n",
              "      <th>...</th>\n",
              "      <td>...</td>\n",
              "      <td>...</td>\n",
              "      <td>...</td>\n",
              "      <td>...</td>\n",
              "      <td>...</td>\n",
              "      <td>...</td>\n",
              "      <td>...</td>\n",
              "      <td>...</td>\n",
              "      <td>...</td>\n",
              "      <td>...</td>\n",
              "      <td>...</td>\n",
              "      <td>...</td>\n",
              "    </tr>\n",
              "    <tr>\n",
              "      <th>1855</th>\n",
              "      <td>0.001335</td>\n",
              "      <td>0.996680</td>\n",
              "      <td>1.703442e-03</td>\n",
              "      <td>0.000212</td>\n",
              "      <td>0.000062</td>\n",
              "      <td>7.762030e-06</td>\n",
              "      <td>4.043623e-10</td>\n",
              "      <td>6.588283e-02</td>\n",
              "      <td>9.341170e-01</td>\n",
              "      <td>7.534875e-08</td>\n",
              "      <td>2.476956e-10</td>\n",
              "      <td>8.284928e-13</td>\n",
              "    </tr>\n",
              "    <tr>\n",
              "      <th>1856</th>\n",
              "      <td>0.000135</td>\n",
              "      <td>0.999532</td>\n",
              "      <td>1.162601e-04</td>\n",
              "      <td>0.000212</td>\n",
              "      <td>0.000005</td>\n",
              "      <td>9.671194e-07</td>\n",
              "      <td>1.008437e-02</td>\n",
              "      <td>9.891237e-01</td>\n",
              "      <td>2.470985e-06</td>\n",
              "      <td>1.327756e-04</td>\n",
              "      <td>4.750484e-04</td>\n",
              "      <td>1.815893e-04</td>\n",
              "    </tr>\n",
              "    <tr>\n",
              "      <th>1857</th>\n",
              "      <td>0.000002</td>\n",
              "      <td>0.000004</td>\n",
              "      <td>8.520990e-06</td>\n",
              "      <td>0.000211</td>\n",
              "      <td>0.000115</td>\n",
              "      <td>9.996591e-01</td>\n",
              "      <td>1.065556e-09</td>\n",
              "      <td>1.896635e-08</td>\n",
              "      <td>2.203337e-04</td>\n",
              "      <td>9.958742e-07</td>\n",
              "      <td>2.758207e-09</td>\n",
              "      <td>9.997787e-01</td>\n",
              "    </tr>\n",
              "    <tr>\n",
              "      <th>1858</th>\n",
              "      <td>0.000009</td>\n",
              "      <td>0.000728</td>\n",
              "      <td>1.373353e-06</td>\n",
              "      <td>0.999060</td>\n",
              "      <td>0.000009</td>\n",
              "      <td>1.925414e-04</td>\n",
              "      <td>5.690332e-08</td>\n",
              "      <td>8.852413e-11</td>\n",
              "      <td>1.198114e-08</td>\n",
              "      <td>9.990975e-01</td>\n",
              "      <td>3.625674e-06</td>\n",
              "      <td>8.989621e-04</td>\n",
              "    </tr>\n",
              "    <tr>\n",
              "      <th>1859</th>\n",
              "      <td>0.000005</td>\n",
              "      <td>0.000014</td>\n",
              "      <td>3.302180e-06</td>\n",
              "      <td>0.000046</td>\n",
              "      <td>0.998507</td>\n",
              "      <td>1.425267e-03</td>\n",
              "      <td>2.660609e-09</td>\n",
              "      <td>8.678356e-10</td>\n",
              "      <td>3.970349e-07</td>\n",
              "      <td>6.938065e-08</td>\n",
              "      <td>9.999981e-01</td>\n",
              "      <td>1.387548e-06</td>\n",
              "    </tr>\n",
              "  </tbody>\n",
              "</table>\n",
              "<p>1860 rows × 12 columns</p>\n",
              "</div>\n",
              "      <button class=\"colab-df-convert\" onclick=\"convertToInteractive('df-cb2bf6c8-c49f-465b-99da-ab42446f2028')\"\n",
              "              title=\"Convert this dataframe to an interactive table.\"\n",
              "              style=\"display:none;\">\n",
              "        \n",
              "  <svg xmlns=\"http://www.w3.org/2000/svg\" height=\"24px\"viewBox=\"0 0 24 24\"\n",
              "       width=\"24px\">\n",
              "    <path d=\"M0 0h24v24H0V0z\" fill=\"none\"/>\n",
              "    <path d=\"M18.56 5.44l.94 2.06.94-2.06 2.06-.94-2.06-.94-.94-2.06-.94 2.06-2.06.94zm-11 1L8.5 8.5l.94-2.06 2.06-.94-2.06-.94L8.5 2.5l-.94 2.06-2.06.94zm10 10l.94 2.06.94-2.06 2.06-.94-2.06-.94-.94-2.06-.94 2.06-2.06.94z\"/><path d=\"M17.41 7.96l-1.37-1.37c-.4-.4-.92-.59-1.43-.59-.52 0-1.04.2-1.43.59L10.3 9.45l-7.72 7.72c-.78.78-.78 2.05 0 2.83L4 21.41c.39.39.9.59 1.41.59.51 0 1.02-.2 1.41-.59l7.78-7.78 2.81-2.81c.8-.78.8-2.07 0-2.86zM5.41 20L4 18.59l7.72-7.72 1.47 1.35L5.41 20z\"/>\n",
              "  </svg>\n",
              "      </button>\n",
              "      \n",
              "  <style>\n",
              "    .colab-df-container {\n",
              "      display:flex;\n",
              "      flex-wrap:wrap;\n",
              "      gap: 12px;\n",
              "    }\n",
              "\n",
              "    .colab-df-convert {\n",
              "      background-color: #E8F0FE;\n",
              "      border: none;\n",
              "      border-radius: 50%;\n",
              "      cursor: pointer;\n",
              "      display: none;\n",
              "      fill: #1967D2;\n",
              "      height: 32px;\n",
              "      padding: 0 0 0 0;\n",
              "      width: 32px;\n",
              "    }\n",
              "\n",
              "    .colab-df-convert:hover {\n",
              "      background-color: #E2EBFA;\n",
              "      box-shadow: 0px 1px 2px rgba(60, 64, 67, 0.3), 0px 1px 3px 1px rgba(60, 64, 67, 0.15);\n",
              "      fill: #174EA6;\n",
              "    }\n",
              "\n",
              "    [theme=dark] .colab-df-convert {\n",
              "      background-color: #3B4455;\n",
              "      fill: #D2E3FC;\n",
              "    }\n",
              "\n",
              "    [theme=dark] .colab-df-convert:hover {\n",
              "      background-color: #434B5C;\n",
              "      box-shadow: 0px 1px 3px 1px rgba(0, 0, 0, 0.15);\n",
              "      filter: drop-shadow(0px 1px 2px rgba(0, 0, 0, 0.3));\n",
              "      fill: #FFFFFF;\n",
              "    }\n",
              "  </style>\n",
              "\n",
              "      <script>\n",
              "        const buttonEl =\n",
              "          document.querySelector('#df-cb2bf6c8-c49f-465b-99da-ab42446f2028 button.colab-df-convert');\n",
              "        buttonEl.style.display =\n",
              "          google.colab.kernel.accessAllowed ? 'block' : 'none';\n",
              "\n",
              "        async function convertToInteractive(key) {\n",
              "          const element = document.querySelector('#df-cb2bf6c8-c49f-465b-99da-ab42446f2028');\n",
              "          const dataTable =\n",
              "            await google.colab.kernel.invokeFunction('convertToInteractive',\n",
              "                                                     [key], {});\n",
              "          if (!dataTable) return;\n",
              "\n",
              "          const docLinkHtml = 'Like what you see? Visit the ' +\n",
              "            '<a target=\"_blank\" href=https://colab.research.google.com/notebooks/data_table.ipynb>data table notebook</a>'\n",
              "            + ' to learn more about interactive tables.';\n",
              "          element.innerHTML = '';\n",
              "          dataTable['output_type'] = 'display_data';\n",
              "          await google.colab.output.renderOutput(dataTable, element);\n",
              "          const docLink = document.createElement('div');\n",
              "          docLink.innerHTML = docLinkHtml;\n",
              "          element.appendChild(docLink);\n",
              "        }\n",
              "      </script>\n",
              "    </div>\n",
              "  </div>\n",
              "  "
            ]
          },
          "metadata": {},
          "execution_count": 14
        }
      ],
      "source": [
        "x_train"
      ]
    },
    {
      "cell_type": "code",
      "execution_count": 15,
      "metadata": {
        "colab": {
          "base_uri": "https://localhost:8080/",
          "height": 36
        },
        "id": "p5veJq2ei1vA",
        "outputId": "9cf8d89b-7ba5-426c-b997-29bbd684d1e0"
      },
      "outputs": [
        {
          "output_type": "execute_result",
          "data": {
            "text/plain": [
              "'\\ny_train=df_train.to_numpy()\\ny_train=y_train.reshape(1860,)\\ny_train, y_train.shape\\n'"
            ],
            "application/vnd.google.colaboratory.intrinsic+json": {
              "type": "string"
            }
          },
          "metadata": {},
          "execution_count": 15
        }
      ],
      "source": [
        "from sklearn.utils import shuffle\n",
        "seed=42\n",
        "new_x_train = shuffle(x_train,random_state=seed)\n",
        "new_y_train = shuffle(df_train,random_state=seed)\n",
        "new_x_train = new_x_train.reset_index(drop=True)\n",
        "new_y_train = new_y_train.reset_index(drop=True)\n",
        "\"\"\"\n",
        "y_train=df_train.to_numpy()\n",
        "y_train=y_train.reshape(1860,)\n",
        "y_train, y_train.shape\n",
        "\"\"\""
      ]
    },
    {
      "cell_type": "code",
      "execution_count": 16,
      "metadata": {
        "colab": {
          "base_uri": "https://localhost:8080/"
        },
        "id": "pFfSFyo-7NfO",
        "outputId": "2f146ab5-cb9c-4a6a-86e2-b2f50e1937c6"
      },
      "outputs": [
        {
          "output_type": "execute_result",
          "data": {
            "text/plain": [
              "1860"
            ]
          },
          "metadata": {},
          "execution_count": 16
        }
      ],
      "source": [
        "len(new_y_train)"
      ]
    },
    {
      "cell_type": "code",
      "execution_count": 17,
      "metadata": {
        "id": "wPUM0nKyxmkZ"
      },
      "outputs": [],
      "source": [
        "from sklearn.preprocessing import StandardScaler, MinMaxScaler\n",
        "scaler = MinMaxScaler(feature_range=(0, 1))\n",
        "new_x_train = scaler.fit_transform(new_x_train)\n",
        "X_test = scaler.transform(x_test)"
      ]
    },
    {
      "cell_type": "code",
      "execution_count": 18,
      "metadata": {
        "colab": {
          "base_uri": "https://localhost:8080/"
        },
        "id": "4UmZkWm-tMOU",
        "outputId": "b782b933-e973-47e5-c352-363d9b58df12"
      },
      "outputs": [
        {
          "output_type": "execute_result",
          "data": {
            "text/plain": [
              "(array([5, 3, 5, ..., 5, 3, 4]), (1860,))"
            ]
          },
          "metadata": {},
          "execution_count": 18
        }
      ],
      "source": [
        "y_train=df_train.to_numpy()\n",
        "y_train=y_train.reshape(1860,)\n",
        "y_train, y_train.shape"
      ]
    },
    {
      "cell_type": "markdown",
      "metadata": {
        "id": "1hZPjTpT4lb3"
      },
      "source": [
        "# training machine learning"
      ]
    },
    {
      "cell_type": "code",
      "execution_count": 19,
      "metadata": {
        "colab": {
          "base_uri": "https://localhost:8080/"
        },
        "id": "PS4PZtkj5G8k",
        "outputId": "f784e305-e91f-4a7b-8f4c-de605b6cd1c6"
      },
      "outputs": [
        {
          "output_type": "stream",
          "name": "stderr",
          "text": [
            "/usr/local/lib/python3.7/dist-packages/sklearn/utils/validation.py:993: DataConversionWarning: A column-vector y was passed when a 1d array was expected. Please change the shape of y to (n_samples, ), for example using ravel().\n",
            "  y = column_or_1d(y, warn=True)\n",
            "/usr/local/lib/python3.7/dist-packages/sklearn/base.py:444: UserWarning: X has feature names, but LogisticRegression was fitted without feature names\n",
            "  f\"X has feature names, but {self.__class__.__name__} was fitted without\"\n"
          ]
        }
      ],
      "source": [
        "from sklearn.linear_model import LogisticRegression\n",
        "model = LogisticRegression(multi_class='multinomial')\n",
        "LR=model.fit(new_x_train,new_y_train)\n",
        "predictions = model.predict(x_test)\n",
        "#print(\"Restored model, accuracy: {:5.2f}%\".format(100*acc))"
      ]
    },
    {
      "cell_type": "code",
      "execution_count": 20,
      "metadata": {
        "colab": {
          "base_uri": "https://localhost:8080/"
        },
        "id": "ibm_g_O66uKI",
        "outputId": "615b3676-94bf-4f91-f872-770e0fa7bc47"
      },
      "outputs": [
        {
          "output_type": "execute_result",
          "data": {
            "text/plain": [
              "array([1, 1, 5, 1, 0, 0, 3, 2, 5, 2, 4, 5, 1, 2, 3, 3, 0, 3, 0, 1, 0, 1,\n",
              "       4, 3, 3, 4, 1, 3, 3, 1, 2, 3, 2, 4, 4, 1, 1, 5, 1, 5, 2, 2, 3, 4,\n",
              "       1, 3, 0, 2, 1, 2, 2, 5, 4, 1, 4, 5, 1, 5, 1, 1, 5, 4, 4, 1, 2, 3,\n",
              "       2, 4, 2, 2, 1, 3, 2, 1, 5, 5, 1, 5, 1, 5, 5, 2, 4, 0, 5, 0, 0, 5,\n",
              "       1, 1, 5, 5, 3, 4, 1, 4, 2, 4, 2, 4, 1, 2, 3, 4, 5, 3, 2, 4, 4, 4,\n",
              "       5, 3, 3, 1, 1, 1, 2, 1, 5, 3, 4, 0, 4, 2, 2, 1, 4, 3, 3, 0, 5, 3,\n",
              "       5, 1, 1, 5, 3, 5, 4, 1, 3, 1, 3, 1, 2, 2, 4, 1, 2, 2, 3, 2, 1, 4,\n",
              "       1, 2, 5, 5, 5, 4, 4, 4, 5, 5, 1, 1, 3, 3, 5, 4, 4, 4, 4, 1, 5, 1,\n",
              "       1, 3, 5, 2, 0, 4, 5, 1, 3, 5, 3, 3, 2, 5, 4, 3, 5, 1, 3, 4, 2, 0,\n",
              "       4, 5, 4, 5, 5, 1, 0, 1, 2])"
            ]
          },
          "metadata": {},
          "execution_count": 20
        }
      ],
      "source": [
        "predictions"
      ]
    },
    {
      "cell_type": "code",
      "execution_count": 21,
      "metadata": {
        "colab": {
          "base_uri": "https://localhost:8080/",
          "height": 508
        },
        "id": "A9gR6pV063GP",
        "outputId": "1349219c-33a6-41a5-9530-53a0c6039896"
      },
      "outputs": [
        {
          "output_type": "stream",
          "name": "stdout",
          "text": [
            "              precision    recall  f1-score   support\n",
            "\n",
            "           0       1.00      1.00      1.00        14\n",
            "           1       1.00      1.00      1.00        48\n",
            "           2       0.97      1.00      0.98        32\n",
            "           3       1.00      0.94      0.97        36\n",
            "           4       0.97      0.93      0.95        40\n",
            "           5       0.90      0.97      0.94        37\n",
            "\n",
            "    accuracy                           0.97       207\n",
            "   macro avg       0.97      0.97      0.97       207\n",
            "weighted avg       0.97      0.97      0.97       207\n",
            "\n",
            "----accuracy score 97.10144927536231 ----\n"
          ]
        },
        {
          "output_type": "display_data",
          "data": {
            "text/plain": [
              "<Figure size 432x288 with 2 Axes>"
            ],
            "image/png": "[encoded data removed]"
          },
          "metadata": {
            "needs_background": "light"
          }
        }
      ],
      "source": [
        "from sklearn.metrics import classification_report, confusion_matrix,accuracy_score\n",
        "import seaborn as sn\n",
        "import matplotlib.pyplot as plt\n",
        "\n",
        "print(classification_report(y_test,predictions))\n",
        "\n",
        "acc = float(accuracy_score(y_test,predictions))*100\n",
        "print(\"----accuracy score %s ----\" % acc)\n",
        "\n",
        "cm = confusion_matrix(y_test,predictions)\n",
        "#df_cm = pd.DataFrame(cm)\n",
        "class_names = ['neutral','calm', 'happy','sad','angry', 'fearful' ]\n",
        "df_cm = pd.DataFrame(cm, index=class_names, columns=class_names,)\n",
        "sn.heatmap(df_cm, annot=True, fmt='')\n",
        "plt.show()"
      ]
    },
    {
      "cell_type": "code",
      "execution_count": 22,
      "metadata": {
        "colab": {
          "base_uri": "https://localhost:8080/"
        },
        "id": "WFonuoIS7NTg",
        "outputId": "41775615-b4ed-4651-ac78-777bcdd9e488"
      },
      "outputs": [
        {
          "output_type": "stream",
          "name": "stdout",
          "text": [
            "MODEL SAVED\n"
          ]
        }
      ],
      "source": [
        "path='/content/drive/MyDrive/LR_RESULTS/expert7'\n",
        "savedvX = joblib.dump(model, path)\n",
        "\n",
        "print(\"MODEL SAVED\")"
      ]
    }
  ],
  "metadata": {
    "colab": {
      "collapsed_sections": [],
      "name": "late_fusion_LR_expert7.ipynb",
      "provenance": []
    },
    "kernelspec": {
      "display_name": "Python 3",
      "name": "python3"
    },
    "language_info": {
      "name": "python"
    },
    "accelerator": "GPU",
    "gpuClass": "standard"
  },
  "nbformat": 4,
  "nbformat_minor": 0
}