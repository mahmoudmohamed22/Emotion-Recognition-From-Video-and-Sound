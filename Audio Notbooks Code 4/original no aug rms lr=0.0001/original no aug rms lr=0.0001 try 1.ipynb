{
  "nbformat": 4,
  "nbformat_minor": 0,
  "metadata": {
    "colab": {
      "name": "ramadan adam 0.0002 1.ipynb",
      "provenance": [],
      "collapsed_sections": []
    },
    "kernelspec": {
      "name": "python3",
      "display_name": "Python 3"
    },
    "language_info": {
      "name": "python"
    },
    "accelerator": "GPU"
  },
  "cells": [
    {
      "cell_type": "code",
      "execution_count": 2,
      "metadata": {
        "colab": {
          "base_uri": "https://localhost:8080/"
        },
        "id": "9SRCO-a_AlH5",
        "outputId": "cf78dd6f-2f5d-40a6-b705-e1dc53b36add"
      },
      "outputs": [
        {
          "output_type": "stream",
          "name": "stdout",
          "text": [
            "Drive already mounted at /content/drive; to attempt to forcibly remount, call drive.mount(\"/content/drive\", force_remount=True).\n"
          ]
        }
      ],
      "source": [
        "from google.colab import drive\n",
        "drive.mount('/content/drive')"
      ]
    },
    {
      "cell_type": "code",
      "source": [
        "!pip install librosa"
      ],
      "metadata": {
        "colab": {
          "base_uri": "https://localhost:8080/"
        },
        "id": "oi8pWV3yBVjO",
        "outputId": "6adae4b5-9daf-4317-ef51-6adbbcea06d8"
      },
      "execution_count": 3,
      "outputs": [
        {
          "output_type": "stream",
          "name": "stdout",
          "text": [
            "Looking in indexes: https://pypi.org/simple, https://us-python.pkg.dev/colab-wheels/public/simple/\n",
            "Requirement already satisfied: librosa in /usr/local/lib/python3.7/dist-packages (0.8.1)\n",
            "Requirement already satisfied: resampy>=0.2.2 in /usr/local/lib/python3.7/dist-packages (from librosa) (0.2.2)\n",
            "Requirement already satisfied: numpy>=1.15.0 in /usr/local/lib/python3.7/dist-packages (from librosa) (1.21.6)\n",
            "Requirement already satisfied: numba>=0.43.0 in /usr/local/lib/python3.7/dist-packages (from librosa) (0.51.2)\n",
            "Requirement already satisfied: audioread>=2.0.0 in /usr/local/lib/python3.7/dist-packages (from librosa) (2.1.9)\n",
            "Requirement already satisfied: packaging>=20.0 in /usr/local/lib/python3.7/dist-packages (from librosa) (21.3)\n",
            "Requirement already satisfied: scikit-learn!=0.19.0,>=0.14.0 in /usr/local/lib/python3.7/dist-packages (from librosa) (1.0.2)\n",
            "Requirement already satisfied: soundfile>=0.10.2 in /usr/local/lib/python3.7/dist-packages (from librosa) (0.10.3.post1)\n",
            "Requirement already satisfied: pooch>=1.0 in /usr/local/lib/python3.7/dist-packages (from librosa) (1.6.0)\n",
            "Requirement already satisfied: scipy>=1.0.0 in /usr/local/lib/python3.7/dist-packages (from librosa) (1.4.1)\n",
            "Requirement already satisfied: decorator>=3.0.0 in /usr/local/lib/python3.7/dist-packages (from librosa) (4.4.2)\n",
            "Requirement already satisfied: joblib>=0.14 in /usr/local/lib/python3.7/dist-packages (from librosa) (1.1.0)\n",
            "Requirement already satisfied: setuptools in /usr/local/lib/python3.7/dist-packages (from numba>=0.43.0->librosa) (57.4.0)\n",
            "Requirement already satisfied: llvmlite<0.35,>=0.34.0.dev0 in /usr/local/lib/python3.7/dist-packages (from numba>=0.43.0->librosa) (0.34.0)\n",
            "Requirement already satisfied: pyparsing!=3.0.5,>=2.0.2 in /usr/local/lib/python3.7/dist-packages (from packaging>=20.0->librosa) (3.0.9)\n",
            "Requirement already satisfied: appdirs>=1.3.0 in /usr/local/lib/python3.7/dist-packages (from pooch>=1.0->librosa) (1.4.4)\n",
            "Requirement already satisfied: requests>=2.19.0 in /usr/local/lib/python3.7/dist-packages (from pooch>=1.0->librosa) (2.23.0)\n",
            "Requirement already satisfied: urllib3!=1.25.0,!=1.25.1,<1.26,>=1.21.1 in /usr/local/lib/python3.7/dist-packages (from requests>=2.19.0->pooch>=1.0->librosa) (1.24.3)\n",
            "Requirement already satisfied: certifi>=2017.4.17 in /usr/local/lib/python3.7/dist-packages (from requests>=2.19.0->pooch>=1.0->librosa) (2022.5.18.1)\n",
            "Requirement already satisfied: idna<3,>=2.5 in /usr/local/lib/python3.7/dist-packages (from requests>=2.19.0->pooch>=1.0->librosa) (2.10)\n",
            "Requirement already satisfied: chardet<4,>=3.0.2 in /usr/local/lib/python3.7/dist-packages (from requests>=2.19.0->pooch>=1.0->librosa) (3.0.4)\n",
            "Requirement already satisfied: six>=1.3 in /usr/local/lib/python3.7/dist-packages (from resampy>=0.2.2->librosa) (1.15.0)\n",
            "Requirement already satisfied: threadpoolctl>=2.0.0 in /usr/local/lib/python3.7/dist-packages (from scikit-learn!=0.19.0,>=0.14.0->librosa) (3.1.0)\n",
            "Requirement already satisfied: cffi>=1.0 in /usr/local/lib/python3.7/dist-packages (from soundfile>=0.10.2->librosa) (1.15.0)\n",
            "Requirement already satisfied: pycparser in /usr/local/lib/python3.7/dist-packages (from cffi>=1.0->soundfile>=0.10.2->librosa) (2.21)\n"
          ]
        }
      ]
    },
    {
      "cell_type": "code",
      "metadata": {
        "id": "HJjcbxwy46bG",
        "colab": {
          "base_uri": "https://localhost:8080/",
          "height": 17
        },
        "outputId": "064b56ad-4a82-43c5-a716-cbae78a34b82"
      },
      "source": [
        "# Orignial Notebook: https://github.com/MITESHPUTHRANNEU/Speech-Emotion-Analyzer/blob/master/final_results_gender_test.ipynb\n",
        "# This notebook author: Reza Chu\n",
        "# Last Editing Date: 31st May 2019\n",
        "\n",
        "## Python\n",
        "import os\n",
        "import random\n",
        "import sys\n",
        "\n",
        "import IPython\n",
        "from IPython.display import Audio\n",
        "from IPython.display import Image\n",
        "import matplotlib.pyplot as plt\n",
        "\n",
        "## Package\n",
        "import glob \n",
        "import keras\n",
        "import IPython.display as ipd\n",
        "import librosa\n",
        "import librosa.display\n",
        "import matplotlib.pyplot as plt\n",
        "import numpy as np\n",
        "import pandas as pd\n",
        "import plotly.graph_objs as go\n",
        "import plotly.offline as py\n",
        "import plotly.tools as tls\n",
        "import seaborn as sns\n",
        "import scipy.io.wavfile\n",
        "import tensorflow as tf\n",
        "py.init_notebook_mode(connected=True)\n",
        "\n",
        "## Keras\n",
        "from keras import regularizers\n",
        "from keras.callbacks import ModelCheckpoint, LearningRateScheduler, EarlyStopping\n",
        "from keras.callbacks import  History, ReduceLROnPlateau, CSVLogger\n",
        "from keras.models import Model, Sequential\n",
        "from keras.layers import Dense, Embedding, LSTM\n",
        "from keras.layers import Input, Flatten, Dropout, Activation, BatchNormalization\n",
        "from keras.layers import Conv1D, MaxPooling1D, AveragePooling1D\n",
        "from keras.preprocessing import sequence\n",
        "from keras.preprocessing.sequence import pad_sequences\n",
        "from keras.preprocessing.text import Tokenizer\n",
        "from keras.utils import np_utils\n",
        "from tensorflow.keras.utils import to_categorical\n",
        "\n",
        "## Sklearn\n",
        "from sklearn.metrics import confusion_matrix\n",
        "from sklearn.preprocessing import LabelEncoder\n",
        "\n",
        "## Rest\n",
        "from scipy.fftpack import fft\n",
        "from scipy import signal\n",
        "from scipy.io import wavfile\n",
        "from tqdm import tqdm\n",
        "\n",
        "input_duration=3\n",
        "# % pylab inline"
      ],
      "execution_count": 4,
      "outputs": [
        {
          "output_type": "display_data",
          "data": {
            "text/html": [
              "        <script type=\"text/javascript\">\n",
              "        window.PlotlyConfig = {MathJaxConfig: 'local'};\n",
              "        if (window.MathJax) {MathJax.Hub.Config({SVG: {font: \"STIX-Web\"}});}\n",
              "        if (typeof require !== 'undefined') {\n",
              "        require.undef(\"plotly\");\n",
              "        requirejs.config({\n",
              "            paths: {\n",
              "                'plotly': ['https://cdn.plot.ly/plotly-2.8.3.min']\n",
              "            }\n",
              "        });\n",
              "        require(['plotly'], function(Plotly) {\n",
              "            window._Plotly = Plotly;\n",
              "        });\n",
              "        }\n",
              "        </script>\n",
              "        "
            ]
          },
          "metadata": {}
        }
      ]
    },
    {
      "cell_type": "code",
      "source": [
        "#radvass speech and song\n",
        "import time\n",
        "import os\n",
        "import librosa\n",
        "from librosa import display\n",
        "import matplotlib.pyplot as plt\n",
        "\n",
        "count=0\n",
        "path1 = '/content/drive/MyDrive/RAVDESS_speech'\n",
        "path2 = '/content/drive/MyDrive/RAVDESS_song'\n",
        "\n",
        "lst = []\n",
        "\n",
        "start_time = time.time()\n",
        "\n",
        "for subdir, dirs, files in os.walk(path2):\n",
        "  print(dirs)\n",
        "  print(subdir)\n",
        "  #print(files)\n",
        "  for file in files:\n",
        "      try:\n",
        "        count +=1\n",
        "        #Load librosa array, obtain mfcss, store the file and the mcss information in a new array\n",
        "        X, sample_rate = librosa.load(os.path.join(subdir,file), res_type='kaiser_fast')\n",
        "        mfccs = np.mean(librosa.feature.mfcc(y=X, sr=sample_rate, n_mfcc=40).T,axis=0) \n",
        "        # The instruction below converts the labels (from 1 to 8) to a series from 0 to 7\n",
        "        # This is because our predictor needs to start from 0 otherwise it will try to predict also 0.\n",
        "        file = int(file[7:8]) - 1 \n",
        "        arr = mfccs, file\n",
        "        lst.append(arr)\n",
        "      # If the file is not valid, skip it\n",
        "      except ValueError:\n",
        "        continue\n",
        "\n",
        "for subdir, dirs, files in os.walk(path1):\n",
        "  print(dirs)\n",
        "  print(subdir)\n",
        " # print(files)\n",
        "  for file in files:\n",
        "      try:\n",
        "        #Load librosa array, obtain mfcss, store the file and the mcss information in a new array\n",
        "        X, sample_rate = librosa.load(os.path.join(subdir,file), res_type='kaiser_fast')\n",
        "        mfccs = np.mean(librosa.feature.mfcc(y=X, sr=sample_rate, n_mfcc=40).T,axis=0) \n",
        "        # The instruction below converts the labels (from 1 to 8) to a series from 0 to 7\n",
        "        # This is because our predictor needs to start from 0 otherwise it will try to predict also 0.\n",
        "        file = int(file[7:8]) - 1 \n",
        "        if(file ==6 or file==7):\n",
        "          continue\n",
        "        count +=1\n",
        "        arr = mfccs, file\n",
        "        lst.append(arr)\n",
        "      # If the file is not valid, skip it\n",
        "      except ValueError:\n",
        "        continue\n",
        "\n",
        "\n",
        "\n",
        "print(\"--- Data loaded. Loading time: %s seconds ---\" % (time.time() - start_time))"
      ],
      "metadata": {
        "colab": {
          "base_uri": "https://localhost:8080/"
        },
        "id": "IfuyRZl42ccZ",
        "outputId": "14a0de75-6b9d-4dbd-8400-53655dc2d74e"
      },
      "execution_count": 5,
      "outputs": [
        {
          "output_type": "stream",
          "name": "stdout",
          "text": [
            "['Actor_10', 'Actor_11', 'Actor_13', 'Actor_12', 'Actor_14', 'Actor_15', 'Actor_16', 'Actor_17', 'Actor_18', 'Actor_19', 'Actor_21', 'Actor_22', 'Actor_23', 'Actor_09', 'Actor_24', 'Actor_04', 'Actor_08', 'Actor_03', 'Actor_02', 'Actor_06', 'Actor_05', 'Actor_01', 'Actor_07', 'Actor_20']\n",
            "/content/drive/MyDrive/RAVDESS_song\n",
            "[]\n",
            "/content/drive/MyDrive/RAVDESS_song/Actor_10\n",
            "[]\n",
            "/content/drive/MyDrive/RAVDESS_song/Actor_11\n",
            "[]\n",
            "/content/drive/MyDrive/RAVDESS_song/Actor_13\n",
            "[]\n",
            "/content/drive/MyDrive/RAVDESS_song/Actor_12\n",
            "[]\n",
            "/content/drive/MyDrive/RAVDESS_song/Actor_14\n",
            "[]\n",
            "/content/drive/MyDrive/RAVDESS_song/Actor_15\n",
            "[]\n",
            "/content/drive/MyDrive/RAVDESS_song/Actor_16\n",
            "[]\n",
            "/content/drive/MyDrive/RAVDESS_song/Actor_17\n",
            "[]\n",
            "/content/drive/MyDrive/RAVDESS_song/Actor_18\n",
            "[]\n",
            "/content/drive/MyDrive/RAVDESS_song/Actor_19\n",
            "[]\n",
            "/content/drive/MyDrive/RAVDESS_song/Actor_21\n",
            "[]\n",
            "/content/drive/MyDrive/RAVDESS_song/Actor_22\n",
            "[]\n",
            "/content/drive/MyDrive/RAVDESS_song/Actor_23\n",
            "[]\n",
            "/content/drive/MyDrive/RAVDESS_song/Actor_09\n",
            "[]\n",
            "/content/drive/MyDrive/RAVDESS_song/Actor_24\n",
            "[]\n",
            "/content/drive/MyDrive/RAVDESS_song/Actor_04\n",
            "[]\n",
            "/content/drive/MyDrive/RAVDESS_song/Actor_08\n",
            "[]\n",
            "/content/drive/MyDrive/RAVDESS_song/Actor_03\n",
            "[]\n",
            "/content/drive/MyDrive/RAVDESS_song/Actor_02\n",
            "[]\n",
            "/content/drive/MyDrive/RAVDESS_song/Actor_06\n",
            "[]\n",
            "/content/drive/MyDrive/RAVDESS_song/Actor_05\n",
            "[]\n",
            "/content/drive/MyDrive/RAVDESS_song/Actor_01\n",
            "[]\n",
            "/content/drive/MyDrive/RAVDESS_song/Actor_07\n",
            "[]\n",
            "/content/drive/MyDrive/RAVDESS_song/Actor_20\n",
            "['Actor_05', 'Actor_08', 'Actor_10', 'Actor_04', 'Actor_09', 'Actor_14', 'Actor_12', 'Actor_13', 'Actor_11', 'Actor_06', 'Actor_24', 'Actor_07', 'Actor_23', 'Actor_22', 'Actor_21', 'Actor_20', 'Actor_02', 'Actor_19', 'Actor_18', 'Actor_17', 'Actor_16', 'Actor_15', 'Actor_03', 'Actor_01']\n",
            "/content/drive/MyDrive/RAVDESS_speech\n",
            "[]\n",
            "/content/drive/MyDrive/RAVDESS_speech/Actor_05\n",
            "[]\n",
            "/content/drive/MyDrive/RAVDESS_speech/Actor_08\n",
            "[]\n",
            "/content/drive/MyDrive/RAVDESS_speech/Actor_10\n",
            "[]\n",
            "/content/drive/MyDrive/RAVDESS_speech/Actor_04\n",
            "[]\n",
            "/content/drive/MyDrive/RAVDESS_speech/Actor_09\n",
            "[]\n",
            "/content/drive/MyDrive/RAVDESS_speech/Actor_14\n",
            "[]\n",
            "/content/drive/MyDrive/RAVDESS_speech/Actor_12\n",
            "[]\n",
            "/content/drive/MyDrive/RAVDESS_speech/Actor_13\n",
            "[]\n",
            "/content/drive/MyDrive/RAVDESS_speech/Actor_11\n",
            "[]\n",
            "/content/drive/MyDrive/RAVDESS_speech/Actor_06\n",
            "[]\n",
            "/content/drive/MyDrive/RAVDESS_speech/Actor_24\n",
            "[]\n",
            "/content/drive/MyDrive/RAVDESS_speech/Actor_07\n",
            "[]\n",
            "/content/drive/MyDrive/RAVDESS_speech/Actor_23\n",
            "[]\n",
            "/content/drive/MyDrive/RAVDESS_speech/Actor_22\n",
            "[]\n",
            "/content/drive/MyDrive/RAVDESS_speech/Actor_21\n",
            "[]\n",
            "/content/drive/MyDrive/RAVDESS_speech/Actor_20\n",
            "[]\n",
            "/content/drive/MyDrive/RAVDESS_speech/Actor_02\n",
            "[]\n",
            "/content/drive/MyDrive/RAVDESS_speech/Actor_19\n",
            "[]\n",
            "/content/drive/MyDrive/RAVDESS_speech/Actor_18\n",
            "[]\n",
            "/content/drive/MyDrive/RAVDESS_speech/Actor_17\n",
            "[]\n",
            "/content/drive/MyDrive/RAVDESS_speech/Actor_16\n",
            "[]\n",
            "/content/drive/MyDrive/RAVDESS_speech/Actor_15\n",
            "[]\n",
            "/content/drive/MyDrive/RAVDESS_speech/Actor_03\n",
            "[]\n",
            "/content/drive/MyDrive/RAVDESS_speech/Actor_01\n",
            "--- Data loaded. Loading time: 670.0365371704102 seconds ---\n"
          ]
        }
      ]
    },
    {
      "cell_type": "code",
      "source": [
        "count"
      ],
      "metadata": {
        "id": "Ltlhi25L2AI5",
        "colab": {
          "base_uri": "https://localhost:8080/"
        },
        "outputId": "5e427ab9-f047-4d67-db4c-a2e9820348ac"
      },
      "execution_count": 6,
      "outputs": [
        {
          "output_type": "execute_result",
          "data": {
            "text/plain": [
              "2068"
            ]
          },
          "metadata": {},
          "execution_count": 6
        }
      ]
    },
    {
      "cell_type": "code",
      "source": [
        "from numpy.core.fromnumeric import size\n",
        "size(lst)"
      ],
      "metadata": {
        "id": "HMOH7d7mzHB7",
        "colab": {
          "base_uri": "https://localhost:8080/"
        },
        "outputId": "e16df90c-a928-435a-a1a6-c9d90043bb93"
      },
      "execution_count": 7,
      "outputs": [
        {
          "output_type": "stream",
          "name": "stderr",
          "text": [
            "/usr/local/lib/python3.7/dist-packages/numpy/core/fromnumeric.py:3208: VisibleDeprecationWarning:\n",
            "\n",
            "Creating an ndarray from ragged nested sequences (which is a list-or-tuple of lists-or-tuples-or ndarrays with different lengths or shapes) is deprecated. If you meant to do this, you must specify 'dtype=object' when creating the ndarray.\n",
            "\n"
          ]
        },
        {
          "output_type": "execute_result",
          "data": {
            "text/plain": [
              "4136"
            ]
          },
          "metadata": {},
          "execution_count": 7
        }
      ]
    },
    {
      "cell_type": "code",
      "source": [
        "# Creating X and y: zip makes a list of all the first elements, and a list of all the second elements.\n",
        "X, y = zip(*lst)"
      ],
      "metadata": {
        "id": "ocdL7tSTBoMt"
      },
      "execution_count": 8,
      "outputs": []
    },
    {
      "cell_type": "code",
      "source": [
        "import numpy as np\n",
        "X = np.asarray(X)\n",
        "y = np.asarray(y)\n",
        "X.shape, y.shape"
      ],
      "metadata": {
        "id": "vHKwUGTbBtnF",
        "colab": {
          "base_uri": "https://localhost:8080/"
        },
        "outputId": "6c260080-8f2f-4b9c-c31e-cfc3f5e80d65"
      },
      "execution_count": 9,
      "outputs": [
        {
          "output_type": "execute_result",
          "data": {
            "text/plain": [
              "((2068, 40), (2068,))"
            ]
          },
          "metadata": {},
          "execution_count": 9
        }
      ]
    },
    {
      "cell_type": "code",
      "source": [
        "X.shape"
      ],
      "metadata": {
        "id": "2sUCtbfMztE5",
        "colab": {
          "base_uri": "https://localhost:8080/"
        },
        "outputId": "68306598-78d5-460c-f7a1-122fbc218f3d"
      },
      "execution_count": 10,
      "outputs": [
        {
          "output_type": "execute_result",
          "data": {
            "text/plain": [
              "(2068, 40)"
            ]
          },
          "metadata": {},
          "execution_count": 10
        }
      ]
    },
    {
      "cell_type": "code",
      "source": [
        "# # Saving joblib files to not load them again with the loop above\n",
        "\n",
        "# import joblib\n",
        "\n",
        "# X_name = 'x.joblib'\n",
        "# y_name = 'y.joblib'\n",
        "# save_dir = '/content/drive/My Drive/graduation project/audio/paper_code/features'\n",
        "\n",
        "# savedX = joblib.dump(X, os.path.join(save_dir, X_name))\n",
        "# savedy = joblib.dump(y, os.path.join(save_dir, y_name))"
      ],
      "metadata": {
        "id": "UCzic8rlDcuk"
      },
      "execution_count": 11,
      "outputs": []
    },
    {
      "cell_type": "code",
      "source": [
        "# # Loading saved models\n",
        "# import joblib\n",
        "# X = joblib.load('/content/drive/My Drive/graduation project/audio/paper_code/features/x.joblib')\n",
        "# y = joblib.load('/content/drive/My Drive/graduation project/audio/paper_code/features/y.joblib')"
      ],
      "metadata": {
        "id": "Q35CN6zDrzg1"
      },
      "execution_count": 12,
      "outputs": []
    },
    {
      "cell_type": "code",
      "source": [
        "X.shape"
      ],
      "metadata": {
        "colab": {
          "base_uri": "https://localhost:8080/"
        },
        "id": "7PSTurzjCo5K",
        "outputId": "edd32da8-7747-4021-b6ee-38fb63e01a1a"
      },
      "execution_count": 13,
      "outputs": [
        {
          "output_type": "execute_result",
          "data": {
            "text/plain": [
              "(2068, 40)"
            ]
          },
          "metadata": {},
          "execution_count": 13
        }
      ]
    },
    {
      "cell_type": "code",
      "source": [
        "from sklearn.model_selection import train_test_split\n",
        "\n",
        "X_train, X_test, y_train, y_test = train_test_split(X,y, test_size=0.2,train_size=0.8, random_state=42)\n",
        "X_valid, X_test, y_valid, y_test = train_test_split(X_test,y_test, test_size=0.5,train_size=0.5, random_state=42)"
      ],
      "metadata": {
        "id": "Ai4Fy5cPCiq1"
      },
      "execution_count": 14,
      "outputs": []
    },
    {
      "cell_type": "code",
      "source": [
        "import numpy as np\n",
        "x_traincnn = np.expand_dims(X_train, axis=2)\n",
        "x_testcnn = np.expand_dims(X_test, axis=2)\n",
        "X_valid= np.expand_dims(X_valid, axis=2)"
      ],
      "metadata": {
        "id": "tp1Fm5K3CEXu"
      },
      "execution_count": 15,
      "outputs": []
    },
    {
      "cell_type": "code",
      "source": [
        "x_traincnn.shape, x_testcnn.shape , X_valid.shape"
      ],
      "metadata": {
        "id": "RI0MxoIPBws5",
        "colab": {
          "base_uri": "https://localhost:8080/"
        },
        "outputId": "33091c07-f795-4b73-a1b3-c6bb54994544"
      },
      "execution_count": 16,
      "outputs": [
        {
          "output_type": "execute_result",
          "data": {
            "text/plain": [
              "((1654, 40, 1), (207, 40, 1), (207, 40, 1))"
            ]
          },
          "metadata": {},
          "execution_count": 16
        }
      ]
    },
    {
      "cell_type": "code",
      "source": [
        "!pip install tensorflow"
      ],
      "metadata": {
        "id": "goxL4Y3jKICC",
        "colab": {
          "base_uri": "https://localhost:8080/"
        },
        "outputId": "74fb0c55-15cf-424f-8618-c07d20c451a6"
      },
      "execution_count": 17,
      "outputs": [
        {
          "output_type": "stream",
          "name": "stdout",
          "text": [
            "Looking in indexes: https://pypi.org/simple, https://us-python.pkg.dev/colab-wheels/public/simple/\n",
            "Requirement already satisfied: tensorflow in /usr/local/lib/python3.7/dist-packages (2.8.2+zzzcolab20220527125636)\n",
            "Requirement already satisfied: termcolor>=1.1.0 in /usr/local/lib/python3.7/dist-packages (from tensorflow) (1.1.0)\n",
            "Requirement already satisfied: astunparse>=1.6.0 in /usr/local/lib/python3.7/dist-packages (from tensorflow) (1.6.3)\n",
            "Requirement already satisfied: libclang>=9.0.1 in /usr/local/lib/python3.7/dist-packages (from tensorflow) (14.0.1)\n",
            "Requirement already satisfied: opt-einsum>=2.3.2 in /usr/local/lib/python3.7/dist-packages (from tensorflow) (3.3.0)\n",
            "Requirement already satisfied: tensorflow-estimator<2.9,>=2.8 in /usr/local/lib/python3.7/dist-packages (from tensorflow) (2.8.0)\n",
            "Requirement already satisfied: absl-py>=0.4.0 in /usr/local/lib/python3.7/dist-packages (from tensorflow) (1.0.0)\n",
            "Requirement already satisfied: flatbuffers>=1.12 in /usr/local/lib/python3.7/dist-packages (from tensorflow) (2.0)\n",
            "Requirement already satisfied: wrapt>=1.11.0 in /usr/local/lib/python3.7/dist-packages (from tensorflow) (1.14.1)\n",
            "Requirement already satisfied: numpy>=1.20 in /usr/local/lib/python3.7/dist-packages (from tensorflow) (1.21.6)\n",
            "Requirement already satisfied: typing-extensions>=3.6.6 in /usr/local/lib/python3.7/dist-packages (from tensorflow) (4.2.0)\n",
            "Requirement already satisfied: grpcio<2.0,>=1.24.3 in /usr/local/lib/python3.7/dist-packages (from tensorflow) (1.46.3)\n",
            "Requirement already satisfied: keras<2.9,>=2.8.0rc0 in /usr/local/lib/python3.7/dist-packages (from tensorflow) (2.8.0)\n",
            "Requirement already satisfied: six>=1.12.0 in /usr/local/lib/python3.7/dist-packages (from tensorflow) (1.15.0)\n",
            "Requirement already satisfied: tensorflow-io-gcs-filesystem>=0.23.1 in /usr/local/lib/python3.7/dist-packages (from tensorflow) (0.26.0)\n",
            "Requirement already satisfied: google-pasta>=0.1.1 in /usr/local/lib/python3.7/dist-packages (from tensorflow) (0.2.0)\n",
            "Requirement already satisfied: h5py>=2.9.0 in /usr/local/lib/python3.7/dist-packages (from tensorflow) (3.1.0)\n",
            "Requirement already satisfied: tensorboard<2.9,>=2.8 in /usr/local/lib/python3.7/dist-packages (from tensorflow) (2.8.0)\n",
            "Requirement already satisfied: gast>=0.2.1 in /usr/local/lib/python3.7/dist-packages (from tensorflow) (0.5.3)\n",
            "Requirement already satisfied: keras-preprocessing>=1.1.1 in /usr/local/lib/python3.7/dist-packages (from tensorflow) (1.1.2)\n",
            "Requirement already satisfied: protobuf<3.20,>=3.9.2 in /usr/local/lib/python3.7/dist-packages (from tensorflow) (3.17.3)\n",
            "Requirement already satisfied: setuptools in /usr/local/lib/python3.7/dist-packages (from tensorflow) (57.4.0)\n",
            "Requirement already satisfied: wheel<1.0,>=0.23.0 in /usr/local/lib/python3.7/dist-packages (from astunparse>=1.6.0->tensorflow) (0.37.1)\n",
            "Requirement already satisfied: cached-property in /usr/local/lib/python3.7/dist-packages (from h5py>=2.9.0->tensorflow) (1.5.2)\n",
            "Requirement already satisfied: werkzeug>=0.11.15 in /usr/local/lib/python3.7/dist-packages (from tensorboard<2.9,>=2.8->tensorflow) (1.0.1)\n",
            "Requirement already satisfied: tensorboard-plugin-wit>=1.6.0 in /usr/local/lib/python3.7/dist-packages (from tensorboard<2.9,>=2.8->tensorflow) (1.8.1)\n",
            "Requirement already satisfied: markdown>=2.6.8 in /usr/local/lib/python3.7/dist-packages (from tensorboard<2.9,>=2.8->tensorflow) (3.3.7)\n",
            "Requirement already satisfied: requests<3,>=2.21.0 in /usr/local/lib/python3.7/dist-packages (from tensorboard<2.9,>=2.8->tensorflow) (2.23.0)\n",
            "Requirement already satisfied: google-auth-oauthlib<0.5,>=0.4.1 in /usr/local/lib/python3.7/dist-packages (from tensorboard<2.9,>=2.8->tensorflow) (0.4.6)\n",
            "Requirement already satisfied: google-auth<3,>=1.6.3 in /usr/local/lib/python3.7/dist-packages (from tensorboard<2.9,>=2.8->tensorflow) (1.35.0)\n",
            "Requirement already satisfied: tensorboard-data-server<0.7.0,>=0.6.0 in /usr/local/lib/python3.7/dist-packages (from tensorboard<2.9,>=2.8->tensorflow) (0.6.1)\n",
            "Requirement already satisfied: pyasn1-modules>=0.2.1 in /usr/local/lib/python3.7/dist-packages (from google-auth<3,>=1.6.3->tensorboard<2.9,>=2.8->tensorflow) (0.2.8)\n",
            "Requirement already satisfied: rsa<5,>=3.1.4 in /usr/local/lib/python3.7/dist-packages (from google-auth<3,>=1.6.3->tensorboard<2.9,>=2.8->tensorflow) (4.8)\n",
            "Requirement already satisfied: cachetools<5.0,>=2.0.0 in /usr/local/lib/python3.7/dist-packages (from google-auth<3,>=1.6.3->tensorboard<2.9,>=2.8->tensorflow) (4.2.4)\n",
            "Requirement already satisfied: requests-oauthlib>=0.7.0 in /usr/local/lib/python3.7/dist-packages (from google-auth-oauthlib<0.5,>=0.4.1->tensorboard<2.9,>=2.8->tensorflow) (1.3.1)\n",
            "Requirement already satisfied: importlib-metadata>=4.4 in /usr/local/lib/python3.7/dist-packages (from markdown>=2.6.8->tensorboard<2.9,>=2.8->tensorflow) (4.11.4)\n",
            "Requirement already satisfied: zipp>=0.5 in /usr/local/lib/python3.7/dist-packages (from importlib-metadata>=4.4->markdown>=2.6.8->tensorboard<2.9,>=2.8->tensorflow) (3.8.0)\n",
            "Requirement already satisfied: pyasn1<0.5.0,>=0.4.6 in /usr/local/lib/python3.7/dist-packages (from pyasn1-modules>=0.2.1->google-auth<3,>=1.6.3->tensorboard<2.9,>=2.8->tensorflow) (0.4.8)\n",
            "Requirement already satisfied: chardet<4,>=3.0.2 in /usr/local/lib/python3.7/dist-packages (from requests<3,>=2.21.0->tensorboard<2.9,>=2.8->tensorflow) (3.0.4)\n",
            "Requirement already satisfied: certifi>=2017.4.17 in /usr/local/lib/python3.7/dist-packages (from requests<3,>=2.21.0->tensorboard<2.9,>=2.8->tensorflow) (2022.5.18.1)\n",
            "Requirement already satisfied: idna<3,>=2.5 in /usr/local/lib/python3.7/dist-packages (from requests<3,>=2.21.0->tensorboard<2.9,>=2.8->tensorflow) (2.10)\n",
            "Requirement already satisfied: urllib3!=1.25.0,!=1.25.1,<1.26,>=1.21.1 in /usr/local/lib/python3.7/dist-packages (from requests<3,>=2.21.0->tensorboard<2.9,>=2.8->tensorflow) (1.24.3)\n",
            "Requirement already satisfied: oauthlib>=3.0.0 in /usr/local/lib/python3.7/dist-packages (from requests-oauthlib>=0.7.0->google-auth-oauthlib<0.5,>=0.4.1->tensorboard<2.9,>=2.8->tensorflow) (3.2.0)\n"
          ]
        }
      ]
    },
    {
      "cell_type": "code",
      "source": [
        "!pip install keras"
      ],
      "metadata": {
        "id": "EkcmN9UrKSxj",
        "colab": {
          "base_uri": "https://localhost:8080/"
        },
        "outputId": "72e616e7-5ded-4def-d1db-f38ef5607aad"
      },
      "execution_count": 18,
      "outputs": [
        {
          "output_type": "stream",
          "name": "stdout",
          "text": [
            "Looking in indexes: https://pypi.org/simple, https://us-python.pkg.dev/colab-wheels/public/simple/\n",
            "Requirement already satisfied: keras in /usr/local/lib/python3.7/dist-packages (2.8.0)\n"
          ]
        }
      ]
    },
    {
      "cell_type": "code",
      "source": [
        "import keras\n",
        "import numpy as np\n",
        "import matplotlib.pyplot as plt\n",
        "import tensorflow as tf\n",
        "from keras.preprocessing import sequence\n",
        "from keras.models import Sequential\n",
        "from keras.layers import Dense, Embedding\n",
        "from tensorflow.keras.utils import to_categorical\n",
        "from keras.layers import Input, Flatten, Dropout, Activation\n",
        "from keras.layers import Conv1D, MaxPooling1D\n",
        "from keras.models import Model\n",
        "from keras.callbacks import ModelCheckpoint\n",
        "from tensorflow.keras import optimizers\n",
        "\n",
        "model = Sequential()\n",
        "\n",
        "model.add(Conv1D(128, 8,padding='same', #classifier.add(Convolution2D(64, (3, 3), padding = 'same', input_shape = (128, 128, 3), activation = 'relu'))\n",
        "                 input_shape=(40,1)))\n",
        "model.add(Activation('relu'))\n",
        "model.add(Dropout(0.3))\n",
        "model.add(MaxPooling1D(pool_size=(5)))\n",
        "\n",
        "\n",
        "model.add(Conv1D(256,8,padding='same',))\n",
        "model.add(Activation('relu'))\n",
        "model.add(Dropout(0.3))\n",
        "model.add(MaxPooling1D(pool_size=(5)))\n",
        "\n",
        "model.add(Flatten())\n",
        "\n",
        "model.add(Dense(256))\n",
        "model.add(Activation('relu'))\n",
        "model.add(Dense(256))\n",
        "model.add(Activation('relu'))\n",
        "\n",
        "model.add(Dense(6))\n",
        "model.add(Activation('softmax'))\n",
        "\n",
        "#opt = tf.keras.optimizers.Adam(lr=0.00002)\n",
        "opt = tf.keras.optimizers.RMSprop(lr=0.0001, rho=0.9, epsilon=1e-07, decay=0.0)\n",
        "#opt = tf.keras.optimizers.SGD(lr=0.001, momentum=0.0, decay=0.0, nesterov=False)"
      ],
      "metadata": {
        "id": "g74fXWVAC4Cr",
        "colab": {
          "base_uri": "https://localhost:8080/"
        },
        "outputId": "e6235c92-2b7f-40c6-8c36-ce7e5cdadaef"
      },
      "execution_count": 19,
      "outputs": [
        {
          "output_type": "stream",
          "name": "stderr",
          "text": [
            "/usr/local/lib/python3.7/dist-packages/keras/optimizer_v2/rmsprop.py:130: UserWarning:\n",
            "\n",
            "The `lr` argument is deprecated, use `learning_rate` instead.\n",
            "\n"
          ]
        }
      ]
    },
    {
      "cell_type": "code",
      "source": [
        "model.summary()"
      ],
      "metadata": {
        "colab": {
          "base_uri": "https://localhost:8080/"
        },
        "id": "H6ukOxAGC_I4",
        "outputId": "79d97057-d7ea-4cf4-ef2e-dd26550ee3d3"
      },
      "execution_count": 20,
      "outputs": [
        {
          "output_type": "stream",
          "name": "stdout",
          "text": [
            "Model: \"sequential\"\n",
            "_________________________________________________________________\n",
            " Layer (type)                Output Shape              Param #   \n",
            "=================================================================\n",
            " conv1d (Conv1D)             (None, 40, 128)           1152      \n",
            "                                                                 \n",
            " activation (Activation)     (None, 40, 128)           0         \n",
            "                                                                 \n",
            " dropout (Dropout)           (None, 40, 128)           0         \n",
            "                                                                 \n",
            " max_pooling1d (MaxPooling1D  (None, 8, 128)           0         \n",
            " )                                                               \n",
            "                                                                 \n",
            " conv1d_1 (Conv1D)           (None, 8, 256)            262400    \n",
            "                                                                 \n",
            " activation_1 (Activation)   (None, 8, 256)            0         \n",
            "                                                                 \n",
            " dropout_1 (Dropout)         (None, 8, 256)            0         \n",
            "                                                                 \n",
            " max_pooling1d_1 (MaxPooling  (None, 1, 256)           0         \n",
            " 1D)                                                             \n",
            "                                                                 \n",
            " flatten (Flatten)           (None, 256)               0         \n",
            "                                                                 \n",
            " dense (Dense)               (None, 256)               65792     \n",
            "                                                                 \n",
            " activation_2 (Activation)   (None, 256)               0         \n",
            "                                                                 \n",
            " dense_1 (Dense)             (None, 256)               65792     \n",
            "                                                                 \n",
            " activation_3 (Activation)   (None, 256)               0         \n",
            "                                                                 \n",
            " dense_2 (Dense)             (None, 6)                 1542      \n",
            "                                                                 \n",
            " activation_4 (Activation)   (None, 6)                 0         \n",
            "                                                                 \n",
            "=================================================================\n",
            "Total params: 396,678\n",
            "Trainable params: 396,678\n",
            "Non-trainable params: 0\n",
            "_________________________________________________________________\n"
          ]
        }
      ]
    },
    {
      "cell_type": "code",
      "source": [
        "model.compile(loss='sparse_categorical_crossentropy',\n",
        "              optimizer=opt,\n",
        "              metrics=['accuracy'])"
      ],
      "metadata": {
        "id": "AbMlLNk4DCBM"
      },
      "execution_count": 21,
      "outputs": []
    },
    {
      "cell_type": "code",
      "source": [
        "#cnnhistory=model.fit(x_traincnn, y_train, batch_size=16, epochs=700, validation_data=(x_testcnn, y_test))\n",
        "cnnhistory=model.fit(x_traincnn, y_train, batch_size=16, epochs=500 , validation_data=(X_valid, y_valid))"
      ],
      "metadata": {
        "colab": {
          "base_uri": "https://localhost:8080/"
        },
        "id": "RI1v2AuADFhy",
        "outputId": "5353bb87-4516-4bc5-a38e-00ff8a957a01"
      },
      "execution_count": 22,
      "outputs": [
        {
          "output_type": "stream",
          "name": "stdout",
          "text": [
            "Epoch 1/500\n",
            "104/104 [==============================] - 13s 8ms/step - loss: 5.2212 - accuracy: 0.1844 - val_loss: 2.2119 - val_accuracy: 0.2705\n",
            "Epoch 2/500\n",
            "104/104 [==============================] - 1s 5ms/step - loss: 3.1409 - accuracy: 0.1941 - val_loss: 2.1076 - val_accuracy: 0.0725\n",
            "Epoch 3/500\n",
            "104/104 [==============================] - 1s 5ms/step - loss: 2.4956 - accuracy: 0.1995 - val_loss: 1.8070 - val_accuracy: 0.1691\n",
            "Epoch 4/500\n",
            "104/104 [==============================] - 1s 5ms/step - loss: 2.1985 - accuracy: 0.2158 - val_loss: 1.9906 - val_accuracy: 0.2029\n",
            "Epoch 5/500\n",
            "104/104 [==============================] - 1s 5ms/step - loss: 2.0611 - accuracy: 0.2128 - val_loss: 2.0133 - val_accuracy: 0.0628\n",
            "Epoch 6/500\n",
            "104/104 [==============================] - 1s 5ms/step - loss: 1.9938 - accuracy: 0.2116 - val_loss: 1.7838 - val_accuracy: 0.2705\n",
            "Epoch 7/500\n",
            "104/104 [==============================] - 0s 5ms/step - loss: 1.8772 - accuracy: 0.2304 - val_loss: 1.7853 - val_accuracy: 0.2415\n",
            "Epoch 8/500\n",
            "104/104 [==============================] - 1s 5ms/step - loss: 1.8598 - accuracy: 0.2394 - val_loss: 1.7707 - val_accuracy: 0.2271\n",
            "Epoch 9/500\n",
            "104/104 [==============================] - 0s 5ms/step - loss: 1.8505 - accuracy: 0.2346 - val_loss: 1.7711 - val_accuracy: 0.1981\n",
            "Epoch 10/500\n",
            "104/104 [==============================] - 1s 5ms/step - loss: 1.8176 - accuracy: 0.2461 - val_loss: 1.6581 - val_accuracy: 0.3092\n",
            "Epoch 11/500\n",
            "104/104 [==============================] - 1s 5ms/step - loss: 1.7712 - accuracy: 0.2666 - val_loss: 1.6524 - val_accuracy: 0.3043\n",
            "Epoch 12/500\n",
            "104/104 [==============================] - 1s 5ms/step - loss: 1.7374 - accuracy: 0.2642 - val_loss: 1.6977 - val_accuracy: 0.2705\n",
            "Epoch 13/500\n",
            "104/104 [==============================] - 0s 5ms/step - loss: 1.7059 - accuracy: 0.2854 - val_loss: 1.5646 - val_accuracy: 0.4541\n",
            "Epoch 14/500\n",
            "104/104 [==============================] - 0s 5ms/step - loss: 1.7085 - accuracy: 0.2896 - val_loss: 1.6527 - val_accuracy: 0.2947\n",
            "Epoch 15/500\n",
            "104/104 [==============================] - 1s 5ms/step - loss: 1.6850 - accuracy: 0.3108 - val_loss: 1.6677 - val_accuracy: 0.2512\n",
            "Epoch 16/500\n",
            "104/104 [==============================] - 0s 5ms/step - loss: 1.6771 - accuracy: 0.2848 - val_loss: 1.6205 - val_accuracy: 0.2995\n",
            "Epoch 17/500\n",
            "104/104 [==============================] - 1s 5ms/step - loss: 1.6718 - accuracy: 0.3017 - val_loss: 1.5531 - val_accuracy: 0.3575\n",
            "Epoch 18/500\n",
            "104/104 [==============================] - 1s 5ms/step - loss: 1.6292 - accuracy: 0.3241 - val_loss: 1.5425 - val_accuracy: 0.3333\n",
            "Epoch 19/500\n",
            "104/104 [==============================] - 1s 5ms/step - loss: 1.6112 - accuracy: 0.3301 - val_loss: 1.5474 - val_accuracy: 0.3430\n",
            "Epoch 20/500\n",
            "104/104 [==============================] - 1s 5ms/step - loss: 1.6046 - accuracy: 0.3253 - val_loss: 1.5929 - val_accuracy: 0.2802\n",
            "Epoch 21/500\n",
            "104/104 [==============================] - 0s 5ms/step - loss: 1.5964 - accuracy: 0.3489 - val_loss: 1.5218 - val_accuracy: 0.3671\n",
            "Epoch 22/500\n",
            "104/104 [==============================] - 1s 5ms/step - loss: 1.5717 - accuracy: 0.3319 - val_loss: 1.5697 - val_accuracy: 0.3237\n",
            "Epoch 23/500\n",
            "104/104 [==============================] - 1s 5ms/step - loss: 1.5830 - accuracy: 0.3440 - val_loss: 1.4902 - val_accuracy: 0.4106\n",
            "Epoch 24/500\n",
            "104/104 [==============================] - 1s 5ms/step - loss: 1.5294 - accuracy: 0.3652 - val_loss: 1.4502 - val_accuracy: 0.3671\n",
            "Epoch 25/500\n",
            "104/104 [==============================] - 1s 5ms/step - loss: 1.5123 - accuracy: 0.3724 - val_loss: 1.4099 - val_accuracy: 0.4010\n",
            "Epoch 26/500\n",
            "104/104 [==============================] - 1s 5ms/step - loss: 1.5155 - accuracy: 0.3724 - val_loss: 1.4276 - val_accuracy: 0.3865\n",
            "Epoch 27/500\n",
            "104/104 [==============================] - 1s 5ms/step - loss: 1.4810 - accuracy: 0.3827 - val_loss: 1.4667 - val_accuracy: 0.3527\n",
            "Epoch 28/500\n",
            "104/104 [==============================] - 0s 5ms/step - loss: 1.4775 - accuracy: 0.3948 - val_loss: 1.4481 - val_accuracy: 0.4493\n",
            "Epoch 29/500\n",
            "104/104 [==============================] - 0s 5ms/step - loss: 1.4447 - accuracy: 0.4033 - val_loss: 1.5292 - val_accuracy: 0.4106\n",
            "Epoch 30/500\n",
            "104/104 [==============================] - 1s 5ms/step - loss: 1.4479 - accuracy: 0.3942 - val_loss: 1.4652 - val_accuracy: 0.3913\n",
            "Epoch 31/500\n",
            "104/104 [==============================] - 1s 5ms/step - loss: 1.4156 - accuracy: 0.4178 - val_loss: 1.4270 - val_accuracy: 0.4251\n",
            "Epoch 32/500\n",
            "104/104 [==============================] - 0s 5ms/step - loss: 1.4090 - accuracy: 0.4553 - val_loss: 1.4622 - val_accuracy: 0.4106\n",
            "Epoch 33/500\n",
            "104/104 [==============================] - 1s 5ms/step - loss: 1.4019 - accuracy: 0.4317 - val_loss: 1.3165 - val_accuracy: 0.4879\n",
            "Epoch 34/500\n",
            "104/104 [==============================] - 0s 5ms/step - loss: 1.3858 - accuracy: 0.4353 - val_loss: 1.2909 - val_accuracy: 0.5121\n",
            "Epoch 35/500\n",
            "104/104 [==============================] - 0s 5ms/step - loss: 1.3774 - accuracy: 0.4359 - val_loss: 1.3012 - val_accuracy: 0.5169\n",
            "Epoch 36/500\n",
            "104/104 [==============================] - 0s 5ms/step - loss: 1.3573 - accuracy: 0.4510 - val_loss: 1.2660 - val_accuracy: 0.5266\n",
            "Epoch 37/500\n",
            "104/104 [==============================] - 0s 5ms/step - loss: 1.3248 - accuracy: 0.4643 - val_loss: 1.2899 - val_accuracy: 0.4928\n",
            "Epoch 38/500\n",
            "104/104 [==============================] - 0s 5ms/step - loss: 1.3079 - accuracy: 0.4698 - val_loss: 1.2457 - val_accuracy: 0.5217\n",
            "Epoch 39/500\n",
            "104/104 [==============================] - 1s 5ms/step - loss: 1.3022 - accuracy: 0.4740 - val_loss: 1.2727 - val_accuracy: 0.4879\n",
            "Epoch 40/500\n",
            "104/104 [==============================] - 1s 5ms/step - loss: 1.2811 - accuracy: 0.4770 - val_loss: 1.2101 - val_accuracy: 0.5507\n",
            "Epoch 41/500\n",
            "104/104 [==============================] - 1s 5ms/step - loss: 1.2620 - accuracy: 0.4794 - val_loss: 1.2071 - val_accuracy: 0.5314\n",
            "Epoch 42/500\n",
            "104/104 [==============================] - 1s 5ms/step - loss: 1.2409 - accuracy: 0.4867 - val_loss: 1.2894 - val_accuracy: 0.4686\n",
            "Epoch 43/500\n",
            "104/104 [==============================] - 1s 5ms/step - loss: 1.2708 - accuracy: 0.4794 - val_loss: 1.2021 - val_accuracy: 0.4976\n",
            "Epoch 44/500\n",
            "104/104 [==============================] - 1s 5ms/step - loss: 1.2239 - accuracy: 0.4946 - val_loss: 1.2003 - val_accuracy: 0.5266\n",
            "Epoch 45/500\n",
            "104/104 [==============================] - 1s 5ms/step - loss: 1.2398 - accuracy: 0.4940 - val_loss: 1.1598 - val_accuracy: 0.5797\n",
            "Epoch 46/500\n",
            "104/104 [==============================] - 0s 5ms/step - loss: 1.2160 - accuracy: 0.5085 - val_loss: 1.2527 - val_accuracy: 0.4058\n",
            "Epoch 47/500\n",
            "104/104 [==============================] - 1s 5ms/step - loss: 1.2044 - accuracy: 0.5230 - val_loss: 1.1512 - val_accuracy: 0.5217\n",
            "Epoch 48/500\n",
            "104/104 [==============================] - 1s 5ms/step - loss: 1.1910 - accuracy: 0.5121 - val_loss: 1.0853 - val_accuracy: 0.5845\n",
            "Epoch 49/500\n",
            "104/104 [==============================] - 1s 5ms/step - loss: 1.1655 - accuracy: 0.5127 - val_loss: 1.1174 - val_accuracy: 0.5604\n",
            "Epoch 50/500\n",
            "104/104 [==============================] - 1s 5ms/step - loss: 1.1730 - accuracy: 0.5103 - val_loss: 1.1197 - val_accuracy: 0.5652\n",
            "Epoch 51/500\n",
            "104/104 [==============================] - 1s 5ms/step - loss: 1.1677 - accuracy: 0.5103 - val_loss: 1.0536 - val_accuracy: 0.5942\n",
            "Epoch 52/500\n",
            "104/104 [==============================] - 1s 5ms/step - loss: 1.1403 - accuracy: 0.5526 - val_loss: 1.0615 - val_accuracy: 0.6329\n",
            "Epoch 53/500\n",
            "104/104 [==============================] - 1s 5ms/step - loss: 1.1394 - accuracy: 0.5411 - val_loss: 1.0744 - val_accuracy: 0.5652\n",
            "Epoch 54/500\n",
            "104/104 [==============================] - 1s 5ms/step - loss: 1.1503 - accuracy: 0.5284 - val_loss: 1.0560 - val_accuracy: 0.6135\n",
            "Epoch 55/500\n",
            "104/104 [==============================] - 1s 5ms/step - loss: 1.0926 - accuracy: 0.5478 - val_loss: 1.0481 - val_accuracy: 0.5990\n",
            "Epoch 56/500\n",
            "104/104 [==============================] - 0s 5ms/step - loss: 1.1097 - accuracy: 0.5441 - val_loss: 1.0991 - val_accuracy: 0.5942\n",
            "Epoch 57/500\n",
            "104/104 [==============================] - 1s 5ms/step - loss: 1.1025 - accuracy: 0.5447 - val_loss: 1.0830 - val_accuracy: 0.5459\n",
            "Epoch 58/500\n",
            "104/104 [==============================] - 1s 5ms/step - loss: 1.1167 - accuracy: 0.5333 - val_loss: 1.0467 - val_accuracy: 0.5507\n",
            "Epoch 59/500\n",
            "104/104 [==============================] - 1s 5ms/step - loss: 1.0912 - accuracy: 0.5580 - val_loss: 1.0244 - val_accuracy: 0.6087\n",
            "Epoch 60/500\n",
            "104/104 [==============================] - 1s 5ms/step - loss: 1.0572 - accuracy: 0.5677 - val_loss: 1.0539 - val_accuracy: 0.5507\n",
            "Epoch 61/500\n",
            "104/104 [==============================] - 0s 5ms/step - loss: 1.0742 - accuracy: 0.5659 - val_loss: 1.0077 - val_accuracy: 0.6473\n",
            "Epoch 62/500\n",
            "104/104 [==============================] - 1s 5ms/step - loss: 1.0661 - accuracy: 0.5750 - val_loss: 1.0777 - val_accuracy: 0.5556\n",
            "Epoch 63/500\n",
            "104/104 [==============================] - 0s 5ms/step - loss: 1.0661 - accuracy: 0.5780 - val_loss: 1.0026 - val_accuracy: 0.6329\n",
            "Epoch 64/500\n",
            "104/104 [==============================] - 1s 5ms/step - loss: 1.0563 - accuracy: 0.5774 - val_loss: 1.0150 - val_accuracy: 0.6280\n",
            "Epoch 65/500\n",
            "104/104 [==============================] - 1s 5ms/step - loss: 1.0420 - accuracy: 0.5840 - val_loss: 1.0141 - val_accuracy: 0.6135\n",
            "Epoch 66/500\n",
            "104/104 [==============================] - 1s 5ms/step - loss: 1.0284 - accuracy: 0.5967 - val_loss: 1.0078 - val_accuracy: 0.6087\n",
            "Epoch 67/500\n",
            "104/104 [==============================] - 0s 5ms/step - loss: 1.0294 - accuracy: 0.5816 - val_loss: 0.9974 - val_accuracy: 0.5845\n",
            "Epoch 68/500\n",
            "104/104 [==============================] - 0s 5ms/step - loss: 0.9986 - accuracy: 0.6052 - val_loss: 0.9640 - val_accuracy: 0.6087\n",
            "Epoch 69/500\n",
            "104/104 [==============================] - 1s 5ms/step - loss: 1.0020 - accuracy: 0.6106 - val_loss: 1.0175 - val_accuracy: 0.6039\n",
            "Epoch 70/500\n",
            "104/104 [==============================] - 1s 5ms/step - loss: 0.9943 - accuracy: 0.5937 - val_loss: 1.0724 - val_accuracy: 0.5556\n",
            "Epoch 71/500\n",
            "104/104 [==============================] - 0s 5ms/step - loss: 0.9819 - accuracy: 0.6004 - val_loss: 0.9619 - val_accuracy: 0.5990\n",
            "Epoch 72/500\n",
            "104/104 [==============================] - 1s 5ms/step - loss: 0.9798 - accuracy: 0.5961 - val_loss: 0.9242 - val_accuracy: 0.6425\n",
            "Epoch 73/500\n",
            "104/104 [==============================] - 1s 5ms/step - loss: 0.9666 - accuracy: 0.6058 - val_loss: 0.9622 - val_accuracy: 0.6184\n",
            "Epoch 74/500\n",
            "104/104 [==============================] - 0s 5ms/step - loss: 0.9725 - accuracy: 0.6125 - val_loss: 0.9591 - val_accuracy: 0.5942\n",
            "Epoch 75/500\n",
            "104/104 [==============================] - 1s 5ms/step - loss: 0.9665 - accuracy: 0.6082 - val_loss: 0.9408 - val_accuracy: 0.6232\n",
            "Epoch 76/500\n",
            "104/104 [==============================] - 1s 5ms/step - loss: 0.9592 - accuracy: 0.6197 - val_loss: 0.9346 - val_accuracy: 0.6087\n",
            "Epoch 77/500\n",
            "104/104 [==============================] - 1s 5ms/step - loss: 0.9501 - accuracy: 0.6131 - val_loss: 0.9448 - val_accuracy: 0.6425\n",
            "Epoch 78/500\n",
            "104/104 [==============================] - 1s 5ms/step - loss: 0.9161 - accuracy: 0.6366 - val_loss: 0.9300 - val_accuracy: 0.6135\n",
            "Epoch 79/500\n",
            "104/104 [==============================] - 1s 5ms/step - loss: 0.9248 - accuracy: 0.6336 - val_loss: 0.9168 - val_accuracy: 0.6522\n",
            "Epoch 80/500\n",
            "104/104 [==============================] - 1s 5ms/step - loss: 0.9408 - accuracy: 0.6088 - val_loss: 0.9998 - val_accuracy: 0.6377\n",
            "Epoch 81/500\n",
            "104/104 [==============================] - 1s 5ms/step - loss: 0.9109 - accuracy: 0.6342 - val_loss: 0.9921 - val_accuracy: 0.5845\n",
            "Epoch 82/500\n",
            "104/104 [==============================] - 1s 5ms/step - loss: 0.9206 - accuracy: 0.6306 - val_loss: 0.9313 - val_accuracy: 0.6570\n",
            "Epoch 83/500\n",
            "104/104 [==============================] - 1s 5ms/step - loss: 0.9043 - accuracy: 0.6258 - val_loss: 0.9461 - val_accuracy: 0.6377\n",
            "Epoch 84/500\n",
            "104/104 [==============================] - 1s 5ms/step - loss: 0.9059 - accuracy: 0.6330 - val_loss: 0.8726 - val_accuracy: 0.6570\n",
            "Epoch 85/500\n",
            "104/104 [==============================] - 1s 5ms/step - loss: 0.8833 - accuracy: 0.6385 - val_loss: 0.9227 - val_accuracy: 0.6425\n",
            "Epoch 86/500\n",
            "104/104 [==============================] - 0s 5ms/step - loss: 0.8742 - accuracy: 0.6427 - val_loss: 0.9549 - val_accuracy: 0.6135\n",
            "Epoch 87/500\n",
            "104/104 [==============================] - 0s 5ms/step - loss: 0.8915 - accuracy: 0.6391 - val_loss: 0.9120 - val_accuracy: 0.6522\n",
            "Epoch 88/500\n",
            "104/104 [==============================] - 1s 5ms/step - loss: 0.8842 - accuracy: 0.6457 - val_loss: 0.8713 - val_accuracy: 0.6763\n",
            "Epoch 89/500\n",
            "104/104 [==============================] - 1s 5ms/step - loss: 0.8688 - accuracy: 0.6451 - val_loss: 0.9688 - val_accuracy: 0.6425\n",
            "Epoch 90/500\n",
            "104/104 [==============================] - 1s 5ms/step - loss: 0.8509 - accuracy: 0.6590 - val_loss: 0.9118 - val_accuracy: 0.6425\n",
            "Epoch 91/500\n",
            "104/104 [==============================] - 1s 5ms/step - loss: 0.8406 - accuracy: 0.6614 - val_loss: 0.9328 - val_accuracy: 0.6473\n",
            "Epoch 92/500\n",
            "104/104 [==============================] - 0s 5ms/step - loss: 0.8581 - accuracy: 0.6602 - val_loss: 0.9205 - val_accuracy: 0.6425\n",
            "Epoch 93/500\n",
            "104/104 [==============================] - 1s 5ms/step - loss: 0.8589 - accuracy: 0.6560 - val_loss: 0.9229 - val_accuracy: 0.6377\n",
            "Epoch 94/500\n",
            "104/104 [==============================] - 1s 5ms/step - loss: 0.8484 - accuracy: 0.6711 - val_loss: 0.8996 - val_accuracy: 0.6280\n",
            "Epoch 95/500\n",
            "104/104 [==============================] - 1s 5ms/step - loss: 0.8501 - accuracy: 0.6651 - val_loss: 0.9137 - val_accuracy: 0.6329\n",
            "Epoch 96/500\n",
            "104/104 [==============================] - 1s 5ms/step - loss: 0.8271 - accuracy: 0.6741 - val_loss: 0.8812 - val_accuracy: 0.6957\n",
            "Epoch 97/500\n",
            "104/104 [==============================] - 1s 5ms/step - loss: 0.8369 - accuracy: 0.6723 - val_loss: 0.8657 - val_accuracy: 0.6377\n",
            "Epoch 98/500\n",
            "104/104 [==============================] - 1s 5ms/step - loss: 0.8391 - accuracy: 0.6711 - val_loss: 0.8788 - val_accuracy: 0.6860\n",
            "Epoch 99/500\n",
            "104/104 [==============================] - 1s 5ms/step - loss: 0.8243 - accuracy: 0.6632 - val_loss: 0.8923 - val_accuracy: 0.6570\n",
            "Epoch 100/500\n",
            "104/104 [==============================] - 1s 5ms/step - loss: 0.8116 - accuracy: 0.6693 - val_loss: 0.9477 - val_accuracy: 0.5700\n",
            "Epoch 101/500\n",
            "104/104 [==============================] - 1s 5ms/step - loss: 0.8047 - accuracy: 0.6886 - val_loss: 0.9132 - val_accuracy: 0.6280\n",
            "Epoch 102/500\n",
            "104/104 [==============================] - 1s 5ms/step - loss: 0.8070 - accuracy: 0.6759 - val_loss: 0.8712 - val_accuracy: 0.6425\n",
            "Epoch 103/500\n",
            "104/104 [==============================] - 1s 5ms/step - loss: 0.8081 - accuracy: 0.6844 - val_loss: 0.8623 - val_accuracy: 0.6329\n",
            "Epoch 104/500\n",
            "104/104 [==============================] - 1s 5ms/step - loss: 0.8135 - accuracy: 0.6784 - val_loss: 0.8431 - val_accuracy: 0.6860\n",
            "Epoch 105/500\n",
            "104/104 [==============================] - 1s 5ms/step - loss: 0.8075 - accuracy: 0.6892 - val_loss: 0.8497 - val_accuracy: 0.6473\n",
            "Epoch 106/500\n",
            "104/104 [==============================] - 1s 5ms/step - loss: 0.7831 - accuracy: 0.6911 - val_loss: 0.8957 - val_accuracy: 0.6618\n",
            "Epoch 107/500\n",
            "104/104 [==============================] - 1s 5ms/step - loss: 0.7663 - accuracy: 0.6904 - val_loss: 0.8182 - val_accuracy: 0.6860\n",
            "Epoch 108/500\n",
            "104/104 [==============================] - 1s 5ms/step - loss: 0.7672 - accuracy: 0.6953 - val_loss: 0.8538 - val_accuracy: 0.6667\n",
            "Epoch 109/500\n",
            "104/104 [==============================] - 1s 5ms/step - loss: 0.7653 - accuracy: 0.6953 - val_loss: 0.8645 - val_accuracy: 0.6377\n",
            "Epoch 110/500\n",
            "104/104 [==============================] - 1s 5ms/step - loss: 0.7629 - accuracy: 0.6977 - val_loss: 0.8642 - val_accuracy: 0.6280\n",
            "Epoch 111/500\n",
            "104/104 [==============================] - 1s 5ms/step - loss: 0.7533 - accuracy: 0.7044 - val_loss: 0.8561 - val_accuracy: 0.6425\n",
            "Epoch 112/500\n",
            "104/104 [==============================] - 1s 5ms/step - loss: 0.7550 - accuracy: 0.6995 - val_loss: 0.8573 - val_accuracy: 0.6377\n",
            "Epoch 113/500\n",
            "104/104 [==============================] - 0s 5ms/step - loss: 0.7567 - accuracy: 0.6983 - val_loss: 0.8726 - val_accuracy: 0.6280\n",
            "Epoch 114/500\n",
            "104/104 [==============================] - 1s 5ms/step - loss: 0.7736 - accuracy: 0.6886 - val_loss: 0.8727 - val_accuracy: 0.6667\n",
            "Epoch 115/500\n",
            "104/104 [==============================] - 1s 5ms/step - loss: 0.7562 - accuracy: 0.6880 - val_loss: 0.8862 - val_accuracy: 0.6522\n",
            "Epoch 116/500\n",
            "104/104 [==============================] - 1s 5ms/step - loss: 0.7158 - accuracy: 0.7098 - val_loss: 0.8313 - val_accuracy: 0.6763\n",
            "Epoch 117/500\n",
            "104/104 [==============================] - 1s 5ms/step - loss: 0.7210 - accuracy: 0.7213 - val_loss: 0.8101 - val_accuracy: 0.6425\n",
            "Epoch 118/500\n",
            "104/104 [==============================] - 1s 5ms/step - loss: 0.7297 - accuracy: 0.7056 - val_loss: 0.8986 - val_accuracy: 0.6232\n",
            "Epoch 119/500\n",
            "104/104 [==============================] - 0s 5ms/step - loss: 0.7253 - accuracy: 0.7134 - val_loss: 0.8245 - val_accuracy: 0.6763\n",
            "Epoch 120/500\n",
            "104/104 [==============================] - 1s 5ms/step - loss: 0.7186 - accuracy: 0.7044 - val_loss: 0.8687 - val_accuracy: 0.6329\n",
            "Epoch 121/500\n",
            "104/104 [==============================] - 1s 5ms/step - loss: 0.7377 - accuracy: 0.7104 - val_loss: 0.8280 - val_accuracy: 0.6715\n",
            "Epoch 122/500\n",
            "104/104 [==============================] - 1s 5ms/step - loss: 0.7206 - accuracy: 0.7231 - val_loss: 0.8153 - val_accuracy: 0.6908\n",
            "Epoch 123/500\n",
            "104/104 [==============================] - 1s 5ms/step - loss: 0.7111 - accuracy: 0.7304 - val_loss: 0.7892 - val_accuracy: 0.6908\n",
            "Epoch 124/500\n",
            "104/104 [==============================] - 1s 5ms/step - loss: 0.7210 - accuracy: 0.7031 - val_loss: 0.7982 - val_accuracy: 0.6618\n",
            "Epoch 125/500\n",
            "104/104 [==============================] - 0s 5ms/step - loss: 0.6856 - accuracy: 0.7291 - val_loss: 0.7839 - val_accuracy: 0.7005\n",
            "Epoch 126/500\n",
            "104/104 [==============================] - 1s 5ms/step - loss: 0.7055 - accuracy: 0.7152 - val_loss: 0.8333 - val_accuracy: 0.6957\n",
            "Epoch 127/500\n",
            "104/104 [==============================] - 1s 5ms/step - loss: 0.7029 - accuracy: 0.7279 - val_loss: 0.7854 - val_accuracy: 0.6812\n",
            "Epoch 128/500\n",
            "104/104 [==============================] - 1s 5ms/step - loss: 0.7082 - accuracy: 0.7164 - val_loss: 0.7788 - val_accuracy: 0.7150\n",
            "Epoch 129/500\n",
            "104/104 [==============================] - 1s 5ms/step - loss: 0.6880 - accuracy: 0.7358 - val_loss: 0.7900 - val_accuracy: 0.6715\n",
            "Epoch 130/500\n",
            "104/104 [==============================] - 1s 5ms/step - loss: 0.6691 - accuracy: 0.7455 - val_loss: 0.7902 - val_accuracy: 0.6812\n",
            "Epoch 131/500\n",
            "104/104 [==============================] - 1s 5ms/step - loss: 0.6784 - accuracy: 0.7358 - val_loss: 0.7986 - val_accuracy: 0.6618\n",
            "Epoch 132/500\n",
            "104/104 [==============================] - 1s 5ms/step - loss: 0.6581 - accuracy: 0.7358 - val_loss: 0.7968 - val_accuracy: 0.6957\n",
            "Epoch 133/500\n",
            "104/104 [==============================] - 1s 5ms/step - loss: 0.6709 - accuracy: 0.7352 - val_loss: 0.8303 - val_accuracy: 0.6425\n",
            "Epoch 134/500\n",
            "104/104 [==============================] - 1s 5ms/step - loss: 0.6599 - accuracy: 0.7364 - val_loss: 0.7614 - val_accuracy: 0.7053\n",
            "Epoch 135/500\n",
            "104/104 [==============================] - 1s 5ms/step - loss: 0.6830 - accuracy: 0.7304 - val_loss: 0.7656 - val_accuracy: 0.7005\n",
            "Epoch 136/500\n",
            "104/104 [==============================] - 1s 5ms/step - loss: 0.6734 - accuracy: 0.7437 - val_loss: 0.7559 - val_accuracy: 0.6908\n",
            "Epoch 137/500\n",
            "104/104 [==============================] - 1s 5ms/step - loss: 0.6583 - accuracy: 0.7406 - val_loss: 0.7753 - val_accuracy: 0.6957\n",
            "Epoch 138/500\n",
            "104/104 [==============================] - 0s 5ms/step - loss: 0.6505 - accuracy: 0.7424 - val_loss: 0.7731 - val_accuracy: 0.6812\n",
            "Epoch 139/500\n",
            "104/104 [==============================] - 1s 5ms/step - loss: 0.6380 - accuracy: 0.7509 - val_loss: 0.7689 - val_accuracy: 0.7101\n",
            "Epoch 140/500\n",
            "104/104 [==============================] - 1s 5ms/step - loss: 0.6388 - accuracy: 0.7545 - val_loss: 0.8278 - val_accuracy: 0.6522\n",
            "Epoch 141/500\n",
            "104/104 [==============================] - 1s 5ms/step - loss: 0.6587 - accuracy: 0.7455 - val_loss: 0.7510 - val_accuracy: 0.7198\n",
            "Epoch 142/500\n",
            "104/104 [==============================] - 0s 5ms/step - loss: 0.6490 - accuracy: 0.7430 - val_loss: 0.7469 - val_accuracy: 0.7150\n",
            "Epoch 143/500\n",
            "104/104 [==============================] - 1s 5ms/step - loss: 0.6419 - accuracy: 0.7388 - val_loss: 0.7680 - val_accuracy: 0.7101\n",
            "Epoch 144/500\n",
            "104/104 [==============================] - 1s 5ms/step - loss: 0.6514 - accuracy: 0.7406 - val_loss: 0.7453 - val_accuracy: 0.7150\n",
            "Epoch 145/500\n",
            "104/104 [==============================] - 1s 5ms/step - loss: 0.6412 - accuracy: 0.7479 - val_loss: 0.7382 - val_accuracy: 0.7198\n",
            "Epoch 146/500\n",
            "104/104 [==============================] - 1s 5ms/step - loss: 0.6340 - accuracy: 0.7551 - val_loss: 0.7811 - val_accuracy: 0.6667\n",
            "Epoch 147/500\n",
            "104/104 [==============================] - 1s 5ms/step - loss: 0.6399 - accuracy: 0.7515 - val_loss: 0.7567 - val_accuracy: 0.7101\n",
            "Epoch 148/500\n",
            "104/104 [==============================] - 1s 5ms/step - loss: 0.6426 - accuracy: 0.7412 - val_loss: 0.7599 - val_accuracy: 0.7198\n",
            "Epoch 149/500\n",
            "104/104 [==============================] - 1s 5ms/step - loss: 0.6445 - accuracy: 0.7412 - val_loss: 0.7442 - val_accuracy: 0.7246\n",
            "Epoch 150/500\n",
            "104/104 [==============================] - 0s 5ms/step - loss: 0.6200 - accuracy: 0.7582 - val_loss: 0.7994 - val_accuracy: 0.6908\n",
            "Epoch 151/500\n",
            "104/104 [==============================] - 1s 5ms/step - loss: 0.6042 - accuracy: 0.7624 - val_loss: 0.7340 - val_accuracy: 0.7150\n",
            "Epoch 152/500\n",
            "104/104 [==============================] - 1s 5ms/step - loss: 0.6173 - accuracy: 0.7606 - val_loss: 0.7785 - val_accuracy: 0.6908\n",
            "Epoch 153/500\n",
            "104/104 [==============================] - 1s 5ms/step - loss: 0.6062 - accuracy: 0.7606 - val_loss: 0.7657 - val_accuracy: 0.7005\n",
            "Epoch 154/500\n",
            "104/104 [==============================] - 1s 5ms/step - loss: 0.6046 - accuracy: 0.7642 - val_loss: 0.7226 - val_accuracy: 0.6957\n",
            "Epoch 155/500\n",
            "104/104 [==============================] - 1s 5ms/step - loss: 0.6042 - accuracy: 0.7684 - val_loss: 0.7172 - val_accuracy: 0.7101\n",
            "Epoch 156/500\n",
            "104/104 [==============================] - 1s 5ms/step - loss: 0.5861 - accuracy: 0.7654 - val_loss: 0.7468 - val_accuracy: 0.6715\n",
            "Epoch 157/500\n",
            "104/104 [==============================] - 1s 5ms/step - loss: 0.5868 - accuracy: 0.7709 - val_loss: 0.7428 - val_accuracy: 0.7101\n",
            "Epoch 158/500\n",
            "104/104 [==============================] - 1s 5ms/step - loss: 0.5981 - accuracy: 0.7654 - val_loss: 0.7301 - val_accuracy: 0.7198\n",
            "Epoch 159/500\n",
            "104/104 [==============================] - 1s 5ms/step - loss: 0.5715 - accuracy: 0.7799 - val_loss: 0.7802 - val_accuracy: 0.7005\n",
            "Epoch 160/500\n",
            "104/104 [==============================] - 1s 5ms/step - loss: 0.6105 - accuracy: 0.7642 - val_loss: 0.7449 - val_accuracy: 0.7005\n",
            "Epoch 161/500\n",
            "104/104 [==============================] - 1s 5ms/step - loss: 0.5732 - accuracy: 0.7751 - val_loss: 0.7367 - val_accuracy: 0.7005\n",
            "Epoch 162/500\n",
            "104/104 [==============================] - 1s 5ms/step - loss: 0.5861 - accuracy: 0.7715 - val_loss: 0.7631 - val_accuracy: 0.6618\n",
            "Epoch 163/500\n",
            "104/104 [==============================] - 1s 5ms/step - loss: 0.5674 - accuracy: 0.7775 - val_loss: 0.7016 - val_accuracy: 0.7536\n",
            "Epoch 164/500\n",
            "104/104 [==============================] - 1s 5ms/step - loss: 0.5658 - accuracy: 0.7975 - val_loss: 0.7150 - val_accuracy: 0.7440\n",
            "Epoch 165/500\n",
            "104/104 [==============================] - 1s 5ms/step - loss: 0.5682 - accuracy: 0.7763 - val_loss: 0.7348 - val_accuracy: 0.7198\n",
            "Epoch 166/500\n",
            "104/104 [==============================] - 1s 5ms/step - loss: 0.5595 - accuracy: 0.7830 - val_loss: 0.7337 - val_accuracy: 0.6860\n",
            "Epoch 167/500\n",
            "104/104 [==============================] - 1s 5ms/step - loss: 0.5820 - accuracy: 0.7733 - val_loss: 0.7114 - val_accuracy: 0.7295\n",
            "Epoch 168/500\n",
            "104/104 [==============================] - 1s 5ms/step - loss: 0.5366 - accuracy: 0.7926 - val_loss: 0.7342 - val_accuracy: 0.7005\n",
            "Epoch 169/500\n",
            "104/104 [==============================] - 1s 5ms/step - loss: 0.5645 - accuracy: 0.7830 - val_loss: 0.7259 - val_accuracy: 0.7295\n",
            "Epoch 170/500\n",
            "104/104 [==============================] - 1s 5ms/step - loss: 0.5292 - accuracy: 0.7963 - val_loss: 0.7655 - val_accuracy: 0.7391\n",
            "Epoch 171/500\n",
            "104/104 [==============================] - 1s 5ms/step - loss: 0.5447 - accuracy: 0.7811 - val_loss: 0.7651 - val_accuracy: 0.7053\n",
            "Epoch 172/500\n",
            "104/104 [==============================] - 1s 5ms/step - loss: 0.5310 - accuracy: 0.7969 - val_loss: 0.7354 - val_accuracy: 0.7053\n",
            "Epoch 173/500\n",
            "104/104 [==============================] - 1s 5ms/step - loss: 0.5601 - accuracy: 0.7836 - val_loss: 0.7262 - val_accuracy: 0.7150\n",
            "Epoch 174/500\n",
            "104/104 [==============================] - 1s 5ms/step - loss: 0.5370 - accuracy: 0.7890 - val_loss: 0.7084 - val_accuracy: 0.7150\n",
            "Epoch 175/500\n",
            "104/104 [==============================] - 1s 5ms/step - loss: 0.5369 - accuracy: 0.7926 - val_loss: 0.7345 - val_accuracy: 0.7150\n",
            "Epoch 176/500\n",
            "104/104 [==============================] - 1s 5ms/step - loss: 0.5335 - accuracy: 0.7944 - val_loss: 0.7185 - val_accuracy: 0.7101\n",
            "Epoch 177/500\n",
            "104/104 [==============================] - 1s 5ms/step - loss: 0.5520 - accuracy: 0.7823 - val_loss: 0.7718 - val_accuracy: 0.7053\n",
            "Epoch 178/500\n",
            "104/104 [==============================] - 1s 5ms/step - loss: 0.5244 - accuracy: 0.8029 - val_loss: 0.7311 - val_accuracy: 0.6957\n",
            "Epoch 179/500\n",
            "104/104 [==============================] - 1s 5ms/step - loss: 0.5120 - accuracy: 0.7963 - val_loss: 0.7368 - val_accuracy: 0.7005\n",
            "Epoch 180/500\n",
            "104/104 [==============================] - 1s 5ms/step - loss: 0.5290 - accuracy: 0.7878 - val_loss: 0.6749 - val_accuracy: 0.7343\n",
            "Epoch 181/500\n",
            "104/104 [==============================] - 1s 5ms/step - loss: 0.5016 - accuracy: 0.8017 - val_loss: 0.7048 - val_accuracy: 0.7343\n",
            "Epoch 182/500\n",
            "104/104 [==============================] - 1s 5ms/step - loss: 0.5259 - accuracy: 0.7902 - val_loss: 0.7330 - val_accuracy: 0.7150\n",
            "Epoch 183/500\n",
            "104/104 [==============================] - 1s 5ms/step - loss: 0.5150 - accuracy: 0.8017 - val_loss: 0.6959 - val_accuracy: 0.7246\n",
            "Epoch 184/500\n",
            "104/104 [==============================] - 1s 5ms/step - loss: 0.5161 - accuracy: 0.8041 - val_loss: 0.7325 - val_accuracy: 0.7198\n",
            "Epoch 185/500\n",
            "104/104 [==============================] - 1s 5ms/step - loss: 0.5073 - accuracy: 0.8047 - val_loss: 0.7566 - val_accuracy: 0.7005\n",
            "Epoch 186/500\n",
            "104/104 [==============================] - 1s 5ms/step - loss: 0.4936 - accuracy: 0.8126 - val_loss: 0.7004 - val_accuracy: 0.7246\n",
            "Epoch 187/500\n",
            "104/104 [==============================] - 1s 5ms/step - loss: 0.4930 - accuracy: 0.8071 - val_loss: 0.7146 - val_accuracy: 0.7343\n",
            "Epoch 188/500\n",
            "104/104 [==============================] - 1s 5ms/step - loss: 0.4807 - accuracy: 0.8083 - val_loss: 0.6957 - val_accuracy: 0.7391\n",
            "Epoch 189/500\n",
            "104/104 [==============================] - 1s 5ms/step - loss: 0.5049 - accuracy: 0.8011 - val_loss: 0.6987 - val_accuracy: 0.7101\n",
            "Epoch 190/500\n",
            "104/104 [==============================] - 1s 5ms/step - loss: 0.4891 - accuracy: 0.8150 - val_loss: 0.7087 - val_accuracy: 0.7053\n",
            "Epoch 191/500\n",
            "104/104 [==============================] - 1s 5ms/step - loss: 0.4978 - accuracy: 0.8120 - val_loss: 0.7278 - val_accuracy: 0.7391\n",
            "Epoch 192/500\n",
            "104/104 [==============================] - 1s 5ms/step - loss: 0.5152 - accuracy: 0.8053 - val_loss: 0.7167 - val_accuracy: 0.7440\n",
            "Epoch 193/500\n",
            "104/104 [==============================] - 1s 5ms/step - loss: 0.5077 - accuracy: 0.8065 - val_loss: 0.7129 - val_accuracy: 0.7246\n",
            "Epoch 194/500\n",
            "104/104 [==============================] - 1s 6ms/step - loss: 0.4896 - accuracy: 0.8168 - val_loss: 0.7233 - val_accuracy: 0.7198\n",
            "Epoch 195/500\n",
            "104/104 [==============================] - 1s 5ms/step - loss: 0.4917 - accuracy: 0.8071 - val_loss: 0.6789 - val_accuracy: 0.7440\n",
            "Epoch 196/500\n",
            "104/104 [==============================] - 1s 6ms/step - loss: 0.5059 - accuracy: 0.8017 - val_loss: 0.7040 - val_accuracy: 0.7246\n",
            "Epoch 197/500\n",
            "104/104 [==============================] - 1s 5ms/step - loss: 0.4854 - accuracy: 0.8089 - val_loss: 0.6679 - val_accuracy: 0.7343\n",
            "Epoch 198/500\n",
            "104/104 [==============================] - 1s 5ms/step - loss: 0.4788 - accuracy: 0.8108 - val_loss: 0.6767 - val_accuracy: 0.7198\n",
            "Epoch 199/500\n",
            "104/104 [==============================] - 1s 5ms/step - loss: 0.4678 - accuracy: 0.8247 - val_loss: 0.7225 - val_accuracy: 0.7440\n",
            "Epoch 200/500\n",
            "104/104 [==============================] - 1s 5ms/step - loss: 0.4719 - accuracy: 0.8259 - val_loss: 0.7783 - val_accuracy: 0.6860\n",
            "Epoch 201/500\n",
            "104/104 [==============================] - 1s 5ms/step - loss: 0.4804 - accuracy: 0.8144 - val_loss: 0.7071 - val_accuracy: 0.7391\n",
            "Epoch 202/500\n",
            "104/104 [==============================] - 1s 5ms/step - loss: 0.4638 - accuracy: 0.8289 - val_loss: 0.7210 - val_accuracy: 0.7488\n",
            "Epoch 203/500\n",
            "104/104 [==============================] - 1s 6ms/step - loss: 0.4813 - accuracy: 0.8102 - val_loss: 0.6691 - val_accuracy: 0.7536\n",
            "Epoch 204/500\n",
            "104/104 [==============================] - 1s 5ms/step - loss: 0.4775 - accuracy: 0.8150 - val_loss: 0.7192 - val_accuracy: 0.7246\n",
            "Epoch 205/500\n",
            "104/104 [==============================] - 1s 5ms/step - loss: 0.4476 - accuracy: 0.8295 - val_loss: 0.6746 - val_accuracy: 0.7391\n",
            "Epoch 206/500\n",
            "104/104 [==============================] - 1s 5ms/step - loss: 0.4643 - accuracy: 0.8307 - val_loss: 0.6832 - val_accuracy: 0.7246\n",
            "Epoch 207/500\n",
            "104/104 [==============================] - 1s 5ms/step - loss: 0.4409 - accuracy: 0.8356 - val_loss: 0.6984 - val_accuracy: 0.7536\n",
            "Epoch 208/500\n",
            "104/104 [==============================] - 1s 6ms/step - loss: 0.4502 - accuracy: 0.8204 - val_loss: 0.6707 - val_accuracy: 0.7536\n",
            "Epoch 209/500\n",
            "104/104 [==============================] - 1s 5ms/step - loss: 0.4511 - accuracy: 0.8229 - val_loss: 0.6677 - val_accuracy: 0.7440\n",
            "Epoch 210/500\n",
            "104/104 [==============================] - 1s 5ms/step - loss: 0.4588 - accuracy: 0.8150 - val_loss: 0.6886 - val_accuracy: 0.7198\n",
            "Epoch 211/500\n",
            "104/104 [==============================] - 1s 5ms/step - loss: 0.4491 - accuracy: 0.8186 - val_loss: 0.6725 - val_accuracy: 0.7391\n",
            "Epoch 212/500\n",
            "104/104 [==============================] - 1s 5ms/step - loss: 0.4566 - accuracy: 0.8295 - val_loss: 0.6578 - val_accuracy: 0.7488\n",
            "Epoch 213/500\n",
            "104/104 [==============================] - 1s 5ms/step - loss: 0.4443 - accuracy: 0.8277 - val_loss: 0.6807 - val_accuracy: 0.7536\n",
            "Epoch 214/500\n",
            "104/104 [==============================] - 1s 5ms/step - loss: 0.4265 - accuracy: 0.8271 - val_loss: 0.6406 - val_accuracy: 0.7778\n",
            "Epoch 215/500\n",
            "104/104 [==============================] - 1s 5ms/step - loss: 0.4370 - accuracy: 0.8374 - val_loss: 0.7076 - val_accuracy: 0.7053\n",
            "Epoch 216/500\n",
            "104/104 [==============================] - 1s 5ms/step - loss: 0.4413 - accuracy: 0.8362 - val_loss: 0.7173 - val_accuracy: 0.7150\n",
            "Epoch 217/500\n",
            "104/104 [==============================] - 1s 5ms/step - loss: 0.4521 - accuracy: 0.8374 - val_loss: 0.7049 - val_accuracy: 0.7246\n",
            "Epoch 218/500\n",
            "104/104 [==============================] - 1s 5ms/step - loss: 0.4164 - accuracy: 0.8349 - val_loss: 0.6438 - val_accuracy: 0.7488\n",
            "Epoch 219/500\n",
            "104/104 [==============================] - 1s 5ms/step - loss: 0.4380 - accuracy: 0.8307 - val_loss: 0.6611 - val_accuracy: 0.7585\n",
            "Epoch 220/500\n",
            "104/104 [==============================] - 1s 5ms/step - loss: 0.4429 - accuracy: 0.8307 - val_loss: 0.7154 - val_accuracy: 0.7488\n",
            "Epoch 221/500\n",
            "104/104 [==============================] - 1s 5ms/step - loss: 0.4287 - accuracy: 0.8307 - val_loss: 0.7554 - val_accuracy: 0.7150\n",
            "Epoch 222/500\n",
            "104/104 [==============================] - 1s 5ms/step - loss: 0.4422 - accuracy: 0.8380 - val_loss: 0.6647 - val_accuracy: 0.7536\n",
            "Epoch 223/500\n",
            "104/104 [==============================] - 1s 5ms/step - loss: 0.4473 - accuracy: 0.8277 - val_loss: 0.6801 - val_accuracy: 0.7536\n",
            "Epoch 224/500\n",
            "104/104 [==============================] - 1s 5ms/step - loss: 0.4088 - accuracy: 0.8325 - val_loss: 0.6661 - val_accuracy: 0.7681\n",
            "Epoch 225/500\n",
            "104/104 [==============================] - 1s 5ms/step - loss: 0.3950 - accuracy: 0.8482 - val_loss: 0.6310 - val_accuracy: 0.7681\n",
            "Epoch 226/500\n",
            "104/104 [==============================] - 1s 5ms/step - loss: 0.4404 - accuracy: 0.8470 - val_loss: 0.6938 - val_accuracy: 0.7005\n",
            "Epoch 227/500\n",
            "104/104 [==============================] - 1s 5ms/step - loss: 0.4277 - accuracy: 0.8428 - val_loss: 0.7401 - val_accuracy: 0.7005\n",
            "Epoch 228/500\n",
            "104/104 [==============================] - 1s 5ms/step - loss: 0.4045 - accuracy: 0.8428 - val_loss: 0.6474 - val_accuracy: 0.7681\n",
            "Epoch 229/500\n",
            "104/104 [==============================] - 1s 5ms/step - loss: 0.4237 - accuracy: 0.8325 - val_loss: 0.6984 - val_accuracy: 0.7391\n",
            "Epoch 230/500\n",
            "104/104 [==============================] - 1s 5ms/step - loss: 0.3936 - accuracy: 0.8555 - val_loss: 0.7835 - val_accuracy: 0.7295\n",
            "Epoch 231/500\n",
            "104/104 [==============================] - 1s 5ms/step - loss: 0.3936 - accuracy: 0.8567 - val_loss: 0.7052 - val_accuracy: 0.7295\n",
            "Epoch 232/500\n",
            "104/104 [==============================] - 1s 5ms/step - loss: 0.3854 - accuracy: 0.8573 - val_loss: 0.6852 - val_accuracy: 0.7633\n",
            "Epoch 233/500\n",
            "104/104 [==============================] - 1s 5ms/step - loss: 0.3984 - accuracy: 0.8392 - val_loss: 0.6979 - val_accuracy: 0.7198\n",
            "Epoch 234/500\n",
            "104/104 [==============================] - 1s 5ms/step - loss: 0.3781 - accuracy: 0.8622 - val_loss: 0.6774 - val_accuracy: 0.7633\n",
            "Epoch 235/500\n",
            "104/104 [==============================] - 1s 5ms/step - loss: 0.4032 - accuracy: 0.8519 - val_loss: 0.6618 - val_accuracy: 0.7681\n",
            "Epoch 236/500\n",
            "104/104 [==============================] - 1s 5ms/step - loss: 0.3955 - accuracy: 0.8470 - val_loss: 0.6252 - val_accuracy: 0.7681\n",
            "Epoch 237/500\n",
            "104/104 [==============================] - 1s 5ms/step - loss: 0.3912 - accuracy: 0.8615 - val_loss: 0.6808 - val_accuracy: 0.7440\n",
            "Epoch 238/500\n",
            "104/104 [==============================] - 1s 5ms/step - loss: 0.3762 - accuracy: 0.8543 - val_loss: 0.6858 - val_accuracy: 0.7633\n",
            "Epoch 239/500\n",
            "104/104 [==============================] - 1s 5ms/step - loss: 0.3731 - accuracy: 0.8603 - val_loss: 0.6594 - val_accuracy: 0.7488\n",
            "Epoch 240/500\n",
            "104/104 [==============================] - 1s 5ms/step - loss: 0.3753 - accuracy: 0.8561 - val_loss: 0.6767 - val_accuracy: 0.7295\n",
            "Epoch 241/500\n",
            "104/104 [==============================] - 1s 5ms/step - loss: 0.3768 - accuracy: 0.8603 - val_loss: 0.6580 - val_accuracy: 0.7681\n",
            "Epoch 242/500\n",
            "104/104 [==============================] - 1s 5ms/step - loss: 0.3902 - accuracy: 0.8537 - val_loss: 0.7109 - val_accuracy: 0.7295\n",
            "Epoch 243/500\n",
            "104/104 [==============================] - 1s 5ms/step - loss: 0.4131 - accuracy: 0.8452 - val_loss: 0.6929 - val_accuracy: 0.7343\n",
            "Epoch 244/500\n",
            "104/104 [==============================] - 1s 5ms/step - loss: 0.3587 - accuracy: 0.8706 - val_loss: 0.6643 - val_accuracy: 0.7536\n",
            "Epoch 245/500\n",
            "104/104 [==============================] - 1s 5ms/step - loss: 0.3601 - accuracy: 0.8609 - val_loss: 0.7157 - val_accuracy: 0.7101\n",
            "Epoch 246/500\n",
            "104/104 [==============================] - 1s 5ms/step - loss: 0.3686 - accuracy: 0.8537 - val_loss: 0.6868 - val_accuracy: 0.7536\n",
            "Epoch 247/500\n",
            "104/104 [==============================] - 1s 5ms/step - loss: 0.3830 - accuracy: 0.8609 - val_loss: 0.6798 - val_accuracy: 0.7391\n",
            "Epoch 248/500\n",
            "104/104 [==============================] - 1s 5ms/step - loss: 0.3279 - accuracy: 0.8688 - val_loss: 0.6778 - val_accuracy: 0.7488\n",
            "Epoch 249/500\n",
            "104/104 [==============================] - 1s 5ms/step - loss: 0.3759 - accuracy: 0.8622 - val_loss: 0.7052 - val_accuracy: 0.7150\n",
            "Epoch 250/500\n",
            "104/104 [==============================] - 1s 5ms/step - loss: 0.3495 - accuracy: 0.8634 - val_loss: 0.6914 - val_accuracy: 0.7633\n",
            "Epoch 251/500\n",
            "104/104 [==============================] - 1s 5ms/step - loss: 0.3545 - accuracy: 0.8670 - val_loss: 0.7015 - val_accuracy: 0.7536\n",
            "Epoch 252/500\n",
            "104/104 [==============================] - 1s 5ms/step - loss: 0.3702 - accuracy: 0.8525 - val_loss: 0.6634 - val_accuracy: 0.7536\n",
            "Epoch 253/500\n",
            "104/104 [==============================] - 1s 5ms/step - loss: 0.3482 - accuracy: 0.8628 - val_loss: 0.6562 - val_accuracy: 0.7536\n",
            "Epoch 254/500\n",
            "104/104 [==============================] - 1s 5ms/step - loss: 0.3339 - accuracy: 0.8706 - val_loss: 0.6492 - val_accuracy: 0.7874\n",
            "Epoch 255/500\n",
            "104/104 [==============================] - 1s 5ms/step - loss: 0.3490 - accuracy: 0.8664 - val_loss: 0.7137 - val_accuracy: 0.7488\n",
            "Epoch 256/500\n",
            "104/104 [==============================] - 1s 5ms/step - loss: 0.3337 - accuracy: 0.8791 - val_loss: 0.6721 - val_accuracy: 0.7681\n",
            "Epoch 257/500\n",
            "104/104 [==============================] - 1s 5ms/step - loss: 0.3578 - accuracy: 0.8658 - val_loss: 0.6039 - val_accuracy: 0.7681\n",
            "Epoch 258/500\n",
            "104/104 [==============================] - 1s 5ms/step - loss: 0.3499 - accuracy: 0.8676 - val_loss: 0.6580 - val_accuracy: 0.7681\n",
            "Epoch 259/500\n",
            "104/104 [==============================] - 1s 5ms/step - loss: 0.3314 - accuracy: 0.8779 - val_loss: 0.6817 - val_accuracy: 0.7536\n",
            "Epoch 260/500\n",
            "104/104 [==============================] - 1s 5ms/step - loss: 0.3328 - accuracy: 0.8706 - val_loss: 0.6703 - val_accuracy: 0.7343\n",
            "Epoch 261/500\n",
            "104/104 [==============================] - 1s 5ms/step - loss: 0.3481 - accuracy: 0.8603 - val_loss: 0.6488 - val_accuracy: 0.7826\n",
            "Epoch 262/500\n",
            "104/104 [==============================] - 1s 5ms/step - loss: 0.3319 - accuracy: 0.8742 - val_loss: 0.6964 - val_accuracy: 0.7391\n",
            "Epoch 263/500\n",
            "104/104 [==============================] - 1s 6ms/step - loss: 0.3677 - accuracy: 0.8591 - val_loss: 0.6886 - val_accuracy: 0.7585\n",
            "Epoch 264/500\n",
            "104/104 [==============================] - 1s 6ms/step - loss: 0.3526 - accuracy: 0.8615 - val_loss: 0.6467 - val_accuracy: 0.7729\n",
            "Epoch 265/500\n",
            "104/104 [==============================] - 1s 5ms/step - loss: 0.3373 - accuracy: 0.8700 - val_loss: 0.6468 - val_accuracy: 0.7826\n",
            "Epoch 266/500\n",
            "104/104 [==============================] - 1s 5ms/step - loss: 0.3278 - accuracy: 0.8833 - val_loss: 0.6919 - val_accuracy: 0.7633\n",
            "Epoch 267/500\n",
            "104/104 [==============================] - 1s 5ms/step - loss: 0.3361 - accuracy: 0.8767 - val_loss: 0.6502 - val_accuracy: 0.7488\n",
            "Epoch 268/500\n",
            "104/104 [==============================] - 1s 5ms/step - loss: 0.3289 - accuracy: 0.8797 - val_loss: 0.7160 - val_accuracy: 0.7391\n",
            "Epoch 269/500\n",
            "104/104 [==============================] - 1s 5ms/step - loss: 0.3429 - accuracy: 0.8664 - val_loss: 0.6882 - val_accuracy: 0.7391\n",
            "Epoch 270/500\n",
            "104/104 [==============================] - 1s 5ms/step - loss: 0.3607 - accuracy: 0.8658 - val_loss: 0.6714 - val_accuracy: 0.7729\n",
            "Epoch 271/500\n",
            "104/104 [==============================] - 1s 5ms/step - loss: 0.3150 - accuracy: 0.8748 - val_loss: 0.6593 - val_accuracy: 0.7874\n",
            "Epoch 272/500\n",
            "104/104 [==============================] - 1s 5ms/step - loss: 0.3537 - accuracy: 0.8724 - val_loss: 0.7216 - val_accuracy: 0.7536\n",
            "Epoch 273/500\n",
            "104/104 [==============================] - 1s 5ms/step - loss: 0.3393 - accuracy: 0.8682 - val_loss: 0.6767 - val_accuracy: 0.7585\n",
            "Epoch 274/500\n",
            "104/104 [==============================] - 1s 5ms/step - loss: 0.2999 - accuracy: 0.8803 - val_loss: 0.6967 - val_accuracy: 0.7778\n",
            "Epoch 275/500\n",
            "104/104 [==============================] - 1s 5ms/step - loss: 0.3039 - accuracy: 0.8821 - val_loss: 0.6746 - val_accuracy: 0.7778\n",
            "Epoch 276/500\n",
            "104/104 [==============================] - 1s 5ms/step - loss: 0.3156 - accuracy: 0.8851 - val_loss: 0.7462 - val_accuracy: 0.7585\n",
            "Epoch 277/500\n",
            "104/104 [==============================] - 1s 6ms/step - loss: 0.3270 - accuracy: 0.8833 - val_loss: 0.6584 - val_accuracy: 0.7729\n",
            "Epoch 278/500\n",
            "104/104 [==============================] - 1s 6ms/step - loss: 0.3060 - accuracy: 0.8918 - val_loss: 0.7416 - val_accuracy: 0.7536\n",
            "Epoch 279/500\n",
            "104/104 [==============================] - 1s 7ms/step - loss: 0.2980 - accuracy: 0.8845 - val_loss: 0.7018 - val_accuracy: 0.7826\n",
            "Epoch 280/500\n",
            "104/104 [==============================] - 1s 6ms/step - loss: 0.3060 - accuracy: 0.8869 - val_loss: 0.6528 - val_accuracy: 0.7778\n",
            "Epoch 281/500\n",
            "104/104 [==============================] - 1s 7ms/step - loss: 0.3092 - accuracy: 0.8851 - val_loss: 0.6926 - val_accuracy: 0.7295\n",
            "Epoch 282/500\n",
            "104/104 [==============================] - 1s 7ms/step - loss: 0.3025 - accuracy: 0.8863 - val_loss: 0.7232 - val_accuracy: 0.7343\n",
            "Epoch 283/500\n",
            "104/104 [==============================] - 1s 7ms/step - loss: 0.3281 - accuracy: 0.8748 - val_loss: 0.6715 - val_accuracy: 0.7826\n",
            "Epoch 284/500\n",
            "104/104 [==============================] - 1s 5ms/step - loss: 0.2864 - accuracy: 0.8869 - val_loss: 0.6721 - val_accuracy: 0.7585\n",
            "Epoch 285/500\n",
            "104/104 [==============================] - 1s 5ms/step - loss: 0.3001 - accuracy: 0.8894 - val_loss: 0.6898 - val_accuracy: 0.7729\n",
            "Epoch 286/500\n",
            "104/104 [==============================] - 1s 5ms/step - loss: 0.3212 - accuracy: 0.8797 - val_loss: 0.7060 - val_accuracy: 0.7440\n",
            "Epoch 287/500\n",
            "104/104 [==============================] - 1s 5ms/step - loss: 0.3045 - accuracy: 0.8779 - val_loss: 0.6431 - val_accuracy: 0.7681\n",
            "Epoch 288/500\n",
            "104/104 [==============================] - 1s 5ms/step - loss: 0.3299 - accuracy: 0.8773 - val_loss: 0.7189 - val_accuracy: 0.7681\n",
            "Epoch 289/500\n",
            "104/104 [==============================] - 1s 5ms/step - loss: 0.2998 - accuracy: 0.8875 - val_loss: 0.6853 - val_accuracy: 0.7585\n",
            "Epoch 290/500\n",
            "104/104 [==============================] - 1s 5ms/step - loss: 0.2925 - accuracy: 0.8803 - val_loss: 0.6181 - val_accuracy: 0.7874\n",
            "Epoch 291/500\n",
            "104/104 [==============================] - 1s 6ms/step - loss: 0.2921 - accuracy: 0.8888 - val_loss: 0.6631 - val_accuracy: 0.7729\n",
            "Epoch 292/500\n",
            "104/104 [==============================] - 1s 6ms/step - loss: 0.2743 - accuracy: 0.8978 - val_loss: 0.6841 - val_accuracy: 0.7633\n",
            "Epoch 293/500\n",
            "104/104 [==============================] - 1s 5ms/step - loss: 0.3034 - accuracy: 0.8918 - val_loss: 0.7516 - val_accuracy: 0.7585\n",
            "Epoch 294/500\n",
            "104/104 [==============================] - 1s 5ms/step - loss: 0.3030 - accuracy: 0.8881 - val_loss: 0.6571 - val_accuracy: 0.7874\n",
            "Epoch 295/500\n",
            "104/104 [==============================] - 1s 5ms/step - loss: 0.2909 - accuracy: 0.8906 - val_loss: 0.6977 - val_accuracy: 0.7729\n",
            "Epoch 296/500\n",
            "104/104 [==============================] - 1s 5ms/step - loss: 0.3081 - accuracy: 0.8912 - val_loss: 0.6993 - val_accuracy: 0.7440\n",
            "Epoch 297/500\n",
            "104/104 [==============================] - 1s 5ms/step - loss: 0.2751 - accuracy: 0.8996 - val_loss: 0.6520 - val_accuracy: 0.7633\n",
            "Epoch 298/500\n",
            "104/104 [==============================] - 1s 5ms/step - loss: 0.2887 - accuracy: 0.8881 - val_loss: 0.7090 - val_accuracy: 0.7343\n",
            "Epoch 299/500\n",
            "104/104 [==============================] - 1s 6ms/step - loss: 0.2712 - accuracy: 0.8978 - val_loss: 0.7765 - val_accuracy: 0.7391\n",
            "Epoch 300/500\n",
            "104/104 [==============================] - 1s 5ms/step - loss: 0.2934 - accuracy: 0.8930 - val_loss: 0.6896 - val_accuracy: 0.7681\n",
            "Epoch 301/500\n",
            "104/104 [==============================] - 1s 5ms/step - loss: 0.2911 - accuracy: 0.8881 - val_loss: 0.6900 - val_accuracy: 0.7681\n",
            "Epoch 302/500\n",
            "104/104 [==============================] - 1s 5ms/step - loss: 0.2887 - accuracy: 0.8942 - val_loss: 0.6978 - val_accuracy: 0.7440\n",
            "Epoch 303/500\n",
            "104/104 [==============================] - 1s 5ms/step - loss: 0.2883 - accuracy: 0.8906 - val_loss: 0.6373 - val_accuracy: 0.7729\n",
            "Epoch 304/500\n",
            "104/104 [==============================] - 1s 5ms/step - loss: 0.2662 - accuracy: 0.8948 - val_loss: 0.6952 - val_accuracy: 0.7778\n",
            "Epoch 305/500\n",
            "104/104 [==============================] - 1s 6ms/step - loss: 0.2747 - accuracy: 0.9002 - val_loss: 0.6686 - val_accuracy: 0.8068\n",
            "Epoch 306/500\n",
            "104/104 [==============================] - 1s 5ms/step - loss: 0.2819 - accuracy: 0.8990 - val_loss: 0.6868 - val_accuracy: 0.7681\n",
            "Epoch 307/500\n",
            "104/104 [==============================] - 1s 5ms/step - loss: 0.2750 - accuracy: 0.8954 - val_loss: 0.7479 - val_accuracy: 0.7440\n",
            "Epoch 308/500\n",
            "104/104 [==============================] - 1s 5ms/step - loss: 0.2708 - accuracy: 0.8966 - val_loss: 0.6971 - val_accuracy: 0.7633\n",
            "Epoch 309/500\n",
            "104/104 [==============================] - 1s 6ms/step - loss: 0.2790 - accuracy: 0.8942 - val_loss: 0.7306 - val_accuracy: 0.7391\n",
            "Epoch 310/500\n",
            "104/104 [==============================] - 1s 6ms/step - loss: 0.2674 - accuracy: 0.9045 - val_loss: 0.7378 - val_accuracy: 0.7585\n",
            "Epoch 311/500\n",
            "104/104 [==============================] - 1s 5ms/step - loss: 0.2995 - accuracy: 0.8900 - val_loss: 0.6506 - val_accuracy: 0.7778\n",
            "Epoch 312/500\n",
            "104/104 [==============================] - 1s 6ms/step - loss: 0.2521 - accuracy: 0.9099 - val_loss: 0.7662 - val_accuracy: 0.7585\n",
            "Epoch 313/500\n",
            "104/104 [==============================] - 1s 6ms/step - loss: 0.2875 - accuracy: 0.8930 - val_loss: 0.7383 - val_accuracy: 0.7729\n",
            "Epoch 314/500\n",
            "104/104 [==============================] - 1s 5ms/step - loss: 0.2815 - accuracy: 0.8948 - val_loss: 0.7058 - val_accuracy: 0.7681\n",
            "Epoch 315/500\n",
            "104/104 [==============================] - 1s 5ms/step - loss: 0.2703 - accuracy: 0.9045 - val_loss: 0.7505 - val_accuracy: 0.7536\n",
            "Epoch 316/500\n",
            "104/104 [==============================] - 1s 5ms/step - loss: 0.2712 - accuracy: 0.9015 - val_loss: 0.7503 - val_accuracy: 0.7681\n",
            "Epoch 317/500\n",
            "104/104 [==============================] - 1s 5ms/step - loss: 0.2615 - accuracy: 0.9002 - val_loss: 0.6724 - val_accuracy: 0.7778\n",
            "Epoch 318/500\n",
            "104/104 [==============================] - 1s 5ms/step - loss: 0.2643 - accuracy: 0.8978 - val_loss: 0.7234 - val_accuracy: 0.7729\n",
            "Epoch 319/500\n",
            "104/104 [==============================] - 1s 5ms/step - loss: 0.2485 - accuracy: 0.9105 - val_loss: 0.7209 - val_accuracy: 0.7536\n",
            "Epoch 320/500\n",
            "104/104 [==============================] - 1s 5ms/step - loss: 0.2490 - accuracy: 0.9117 - val_loss: 0.7738 - val_accuracy: 0.7729\n",
            "Epoch 321/500\n",
            "104/104 [==============================] - 1s 5ms/step - loss: 0.2692 - accuracy: 0.8996 - val_loss: 0.7233 - val_accuracy: 0.7681\n",
            "Epoch 322/500\n",
            "104/104 [==============================] - 1s 5ms/step - loss: 0.2540 - accuracy: 0.9129 - val_loss: 0.6727 - val_accuracy: 0.7778\n",
            "Epoch 323/500\n",
            "104/104 [==============================] - 1s 5ms/step - loss: 0.2626 - accuracy: 0.9027 - val_loss: 0.7068 - val_accuracy: 0.7681\n",
            "Epoch 324/500\n",
            "104/104 [==============================] - 1s 6ms/step - loss: 0.2609 - accuracy: 0.9015 - val_loss: 0.6917 - val_accuracy: 0.8164\n",
            "Epoch 325/500\n",
            "104/104 [==============================] - 1s 6ms/step - loss: 0.2482 - accuracy: 0.9051 - val_loss: 0.7180 - val_accuracy: 0.7778\n",
            "Epoch 326/500\n",
            "104/104 [==============================] - 1s 5ms/step - loss: 0.2576 - accuracy: 0.9015 - val_loss: 0.7053 - val_accuracy: 0.7826\n",
            "Epoch 327/500\n",
            "104/104 [==============================] - 1s 5ms/step - loss: 0.2510 - accuracy: 0.9051 - val_loss: 0.6429 - val_accuracy: 0.7971\n",
            "Epoch 328/500\n",
            "104/104 [==============================] - 1s 6ms/step - loss: 0.2676 - accuracy: 0.8996 - val_loss: 0.6404 - val_accuracy: 0.7729\n",
            "Epoch 329/500\n",
            "104/104 [==============================] - 1s 6ms/step - loss: 0.2399 - accuracy: 0.9129 - val_loss: 0.7268 - val_accuracy: 0.7778\n",
            "Epoch 330/500\n",
            "104/104 [==============================] - 1s 6ms/step - loss: 0.2331 - accuracy: 0.9111 - val_loss: 0.6660 - val_accuracy: 0.7971\n",
            "Epoch 331/500\n",
            "104/104 [==============================] - 1s 5ms/step - loss: 0.2540 - accuracy: 0.9039 - val_loss: 0.6986 - val_accuracy: 0.8019\n",
            "Epoch 332/500\n",
            "104/104 [==============================] - 1s 6ms/step - loss: 0.2582 - accuracy: 0.9093 - val_loss: 0.7001 - val_accuracy: 0.7971\n",
            "Epoch 333/500\n",
            "104/104 [==============================] - 1s 5ms/step - loss: 0.2445 - accuracy: 0.9069 - val_loss: 0.6339 - val_accuracy: 0.8213\n",
            "Epoch 334/500\n",
            "104/104 [==============================] - 1s 6ms/step - loss: 0.2367 - accuracy: 0.9148 - val_loss: 0.7348 - val_accuracy: 0.7923\n",
            "Epoch 335/500\n",
            "104/104 [==============================] - 1s 6ms/step - loss: 0.2617 - accuracy: 0.9057 - val_loss: 0.6955 - val_accuracy: 0.7633\n",
            "Epoch 336/500\n",
            "104/104 [==============================] - 1s 6ms/step - loss: 0.2591 - accuracy: 0.9002 - val_loss: 0.7072 - val_accuracy: 0.7681\n",
            "Epoch 337/500\n",
            "104/104 [==============================] - 1s 6ms/step - loss: 0.2520 - accuracy: 0.9021 - val_loss: 0.8073 - val_accuracy: 0.7536\n",
            "Epoch 338/500\n",
            "104/104 [==============================] - 1s 5ms/step - loss: 0.2436 - accuracy: 0.9051 - val_loss: 0.6442 - val_accuracy: 0.7729\n",
            "Epoch 339/500\n",
            "104/104 [==============================] - 1s 5ms/step - loss: 0.2526 - accuracy: 0.9051 - val_loss: 0.6995 - val_accuracy: 0.7729\n",
            "Epoch 340/500\n",
            "104/104 [==============================] - 1s 6ms/step - loss: 0.2373 - accuracy: 0.9160 - val_loss: 0.6568 - val_accuracy: 0.7778\n",
            "Epoch 341/500\n",
            "104/104 [==============================] - 1s 5ms/step - loss: 0.2426 - accuracy: 0.9141 - val_loss: 0.6746 - val_accuracy: 0.7923\n",
            "Epoch 342/500\n",
            "104/104 [==============================] - 1s 5ms/step - loss: 0.2438 - accuracy: 0.9075 - val_loss: 0.7266 - val_accuracy: 0.7826\n",
            "Epoch 343/500\n",
            "104/104 [==============================] - 1s 6ms/step - loss: 0.2446 - accuracy: 0.9105 - val_loss: 0.7218 - val_accuracy: 0.7971\n",
            "Epoch 344/500\n",
            "104/104 [==============================] - 1s 6ms/step - loss: 0.2313 - accuracy: 0.9135 - val_loss: 0.7095 - val_accuracy: 0.7585\n",
            "Epoch 345/500\n",
            "104/104 [==============================] - 1s 5ms/step - loss: 0.2270 - accuracy: 0.9232 - val_loss: 0.6952 - val_accuracy: 0.7874\n",
            "Epoch 346/500\n",
            "104/104 [==============================] - 1s 5ms/step - loss: 0.2287 - accuracy: 0.9184 - val_loss: 0.7263 - val_accuracy: 0.8068\n",
            "Epoch 347/500\n",
            "104/104 [==============================] - 1s 5ms/step - loss: 0.2544 - accuracy: 0.9172 - val_loss: 0.7190 - val_accuracy: 0.7729\n",
            "Epoch 348/500\n",
            "104/104 [==============================] - 1s 5ms/step - loss: 0.2217 - accuracy: 0.9154 - val_loss: 0.6905 - val_accuracy: 0.7778\n",
            "Epoch 349/500\n",
            "104/104 [==============================] - 1s 5ms/step - loss: 0.2292 - accuracy: 0.9160 - val_loss: 0.6536 - val_accuracy: 0.7923\n",
            "Epoch 350/500\n",
            "104/104 [==============================] - 1s 5ms/step - loss: 0.2380 - accuracy: 0.9129 - val_loss: 0.6646 - val_accuracy: 0.7826\n",
            "Epoch 351/500\n",
            "104/104 [==============================] - 1s 5ms/step - loss: 0.2290 - accuracy: 0.9166 - val_loss: 0.7520 - val_accuracy: 0.7729\n",
            "Epoch 352/500\n",
            "104/104 [==============================] - 1s 6ms/step - loss: 0.2232 - accuracy: 0.9141 - val_loss: 0.7590 - val_accuracy: 0.7681\n",
            "Epoch 353/500\n",
            "104/104 [==============================] - 1s 5ms/step - loss: 0.2166 - accuracy: 0.9226 - val_loss: 0.6904 - val_accuracy: 0.7681\n",
            "Epoch 354/500\n",
            "104/104 [==============================] - 1s 5ms/step - loss: 0.2323 - accuracy: 0.9141 - val_loss: 0.6639 - val_accuracy: 0.7826\n",
            "Epoch 355/500\n",
            "104/104 [==============================] - 1s 6ms/step - loss: 0.2332 - accuracy: 0.9141 - val_loss: 0.7371 - val_accuracy: 0.7729\n",
            "Epoch 356/500\n",
            "104/104 [==============================] - 1s 6ms/step - loss: 0.2250 - accuracy: 0.9117 - val_loss: 0.7515 - val_accuracy: 0.7874\n",
            "Epoch 357/500\n",
            "104/104 [==============================] - 1s 6ms/step - loss: 0.2337 - accuracy: 0.9087 - val_loss: 0.6730 - val_accuracy: 0.7874\n",
            "Epoch 358/500\n",
            "104/104 [==============================] - 1s 6ms/step - loss: 0.2290 - accuracy: 0.9141 - val_loss: 0.7140 - val_accuracy: 0.8068\n",
            "Epoch 359/500\n",
            "104/104 [==============================] - 1s 6ms/step - loss: 0.2008 - accuracy: 0.9208 - val_loss: 0.6570 - val_accuracy: 0.8019\n",
            "Epoch 360/500\n",
            "104/104 [==============================] - 1s 5ms/step - loss: 0.1881 - accuracy: 0.9305 - val_loss: 0.6663 - val_accuracy: 0.7874\n",
            "Epoch 361/500\n",
            "104/104 [==============================] - 1s 5ms/step - loss: 0.2492 - accuracy: 0.9160 - val_loss: 0.6726 - val_accuracy: 0.7778\n",
            "Epoch 362/500\n",
            "104/104 [==============================] - 1s 6ms/step - loss: 0.2227 - accuracy: 0.9208 - val_loss: 0.8386 - val_accuracy: 0.7874\n",
            "Epoch 363/500\n",
            "104/104 [==============================] - 1s 5ms/step - loss: 0.2157 - accuracy: 0.9256 - val_loss: 0.6886 - val_accuracy: 0.7874\n",
            "Epoch 364/500\n",
            "104/104 [==============================] - 1s 6ms/step - loss: 0.2127 - accuracy: 0.9105 - val_loss: 0.7031 - val_accuracy: 0.7778\n",
            "Epoch 365/500\n",
            "104/104 [==============================] - 1s 6ms/step - loss: 0.2202 - accuracy: 0.9202 - val_loss: 0.8133 - val_accuracy: 0.7536\n",
            "Epoch 366/500\n",
            "104/104 [==============================] - 1s 6ms/step - loss: 0.2435 - accuracy: 0.9154 - val_loss: 0.7450 - val_accuracy: 0.7681\n",
            "Epoch 367/500\n",
            "104/104 [==============================] - 1s 6ms/step - loss: 0.2072 - accuracy: 0.9166 - val_loss: 0.7523 - val_accuracy: 0.7874\n",
            "Epoch 368/500\n",
            "104/104 [==============================] - 1s 5ms/step - loss: 0.2196 - accuracy: 0.9238 - val_loss: 0.6733 - val_accuracy: 0.7778\n",
            "Epoch 369/500\n",
            "104/104 [==============================] - 1s 6ms/step - loss: 0.2289 - accuracy: 0.9202 - val_loss: 0.6774 - val_accuracy: 0.7874\n",
            "Epoch 370/500\n",
            "104/104 [==============================] - 1s 6ms/step - loss: 0.2250 - accuracy: 0.9172 - val_loss: 0.6943 - val_accuracy: 0.7826\n",
            "Epoch 371/500\n",
            "104/104 [==============================] - 1s 5ms/step - loss: 0.2352 - accuracy: 0.9141 - val_loss: 0.6818 - val_accuracy: 0.7778\n",
            "Epoch 372/500\n",
            "104/104 [==============================] - 1s 5ms/step - loss: 0.2084 - accuracy: 0.9244 - val_loss: 0.6507 - val_accuracy: 0.8019\n",
            "Epoch 373/500\n",
            "104/104 [==============================] - 1s 6ms/step - loss: 0.1894 - accuracy: 0.9305 - val_loss: 0.6493 - val_accuracy: 0.8261\n",
            "Epoch 374/500\n",
            "104/104 [==============================] - 1s 5ms/step - loss: 0.2000 - accuracy: 0.9274 - val_loss: 0.6876 - val_accuracy: 0.8164\n",
            "Epoch 375/500\n",
            "104/104 [==============================] - 1s 6ms/step - loss: 0.2036 - accuracy: 0.9226 - val_loss: 0.7231 - val_accuracy: 0.7729\n",
            "Epoch 376/500\n",
            "104/104 [==============================] - 1s 5ms/step - loss: 0.2141 - accuracy: 0.9232 - val_loss: 0.6963 - val_accuracy: 0.7826\n",
            "Epoch 377/500\n",
            "104/104 [==============================] - 1s 6ms/step - loss: 0.1985 - accuracy: 0.9274 - val_loss: 0.8200 - val_accuracy: 0.7729\n",
            "Epoch 378/500\n",
            "104/104 [==============================] - 1s 6ms/step - loss: 0.2317 - accuracy: 0.9178 - val_loss: 0.7439 - val_accuracy: 0.8068\n",
            "Epoch 379/500\n",
            "104/104 [==============================] - 1s 5ms/step - loss: 0.2045 - accuracy: 0.9256 - val_loss: 0.7070 - val_accuracy: 0.7874\n",
            "Epoch 380/500\n",
            "104/104 [==============================] - 1s 6ms/step - loss: 0.1971 - accuracy: 0.9341 - val_loss: 0.8000 - val_accuracy: 0.7778\n",
            "Epoch 381/500\n",
            "104/104 [==============================] - 1s 6ms/step - loss: 0.2072 - accuracy: 0.9220 - val_loss: 0.6832 - val_accuracy: 0.7923\n",
            "Epoch 382/500\n",
            "104/104 [==============================] - 1s 5ms/step - loss: 0.1774 - accuracy: 0.9311 - val_loss: 0.7851 - val_accuracy: 0.7778\n",
            "Epoch 383/500\n",
            "104/104 [==============================] - 1s 6ms/step - loss: 0.1933 - accuracy: 0.9311 - val_loss: 0.7404 - val_accuracy: 0.7633\n",
            "Epoch 384/500\n",
            "104/104 [==============================] - 1s 5ms/step - loss: 0.1811 - accuracy: 0.9365 - val_loss: 0.7804 - val_accuracy: 0.7681\n",
            "Epoch 385/500\n",
            "104/104 [==============================] - 1s 6ms/step - loss: 0.1958 - accuracy: 0.9323 - val_loss: 0.7595 - val_accuracy: 0.7874\n",
            "Epoch 386/500\n",
            "104/104 [==============================] - 1s 6ms/step - loss: 0.2121 - accuracy: 0.9299 - val_loss: 0.6712 - val_accuracy: 0.8213\n",
            "Epoch 387/500\n",
            "104/104 [==============================] - 1s 6ms/step - loss: 0.2132 - accuracy: 0.9268 - val_loss: 0.6494 - val_accuracy: 0.7826\n",
            "Epoch 388/500\n",
            "104/104 [==============================] - 1s 6ms/step - loss: 0.1912 - accuracy: 0.9256 - val_loss: 0.7351 - val_accuracy: 0.7971\n",
            "Epoch 389/500\n",
            "104/104 [==============================] - 1s 6ms/step - loss: 0.2120 - accuracy: 0.9287 - val_loss: 0.8928 - val_accuracy: 0.7681\n",
            "Epoch 390/500\n",
            "104/104 [==============================] - 1s 6ms/step - loss: 0.2046 - accuracy: 0.9281 - val_loss: 0.7265 - val_accuracy: 0.8116\n",
            "Epoch 391/500\n",
            "104/104 [==============================] - 1s 5ms/step - loss: 0.2087 - accuracy: 0.9178 - val_loss: 0.6835 - val_accuracy: 0.7585\n",
            "Epoch 392/500\n",
            "104/104 [==============================] - 1s 5ms/step - loss: 0.2344 - accuracy: 0.9184 - val_loss: 0.7801 - val_accuracy: 0.7874\n",
            "Epoch 393/500\n",
            "104/104 [==============================] - 1s 6ms/step - loss: 0.1758 - accuracy: 0.9414 - val_loss: 0.7174 - val_accuracy: 0.7778\n",
            "Epoch 394/500\n",
            "104/104 [==============================] - 1s 6ms/step - loss: 0.1881 - accuracy: 0.9341 - val_loss: 0.7597 - val_accuracy: 0.8019\n",
            "Epoch 395/500\n",
            "104/104 [==============================] - 1s 6ms/step - loss: 0.1852 - accuracy: 0.9335 - val_loss: 0.7749 - val_accuracy: 0.7923\n",
            "Epoch 396/500\n",
            "104/104 [==============================] - 1s 5ms/step - loss: 0.1852 - accuracy: 0.9305 - val_loss: 0.7624 - val_accuracy: 0.7681\n",
            "Epoch 397/500\n",
            "104/104 [==============================] - 1s 6ms/step - loss: 0.2247 - accuracy: 0.9135 - val_loss: 0.7656 - val_accuracy: 0.7778\n",
            "Epoch 398/500\n",
            "104/104 [==============================] - 1s 6ms/step - loss: 0.1729 - accuracy: 0.9383 - val_loss: 0.7361 - val_accuracy: 0.8116\n",
            "Epoch 399/500\n",
            "104/104 [==============================] - 1s 5ms/step - loss: 0.2000 - accuracy: 0.9262 - val_loss: 0.7847 - val_accuracy: 0.7729\n",
            "Epoch 400/500\n",
            "104/104 [==============================] - 1s 6ms/step - loss: 0.1825 - accuracy: 0.9341 - val_loss: 0.7891 - val_accuracy: 0.7633\n",
            "Epoch 401/500\n",
            "104/104 [==============================] - 1s 5ms/step - loss: 0.2254 - accuracy: 0.9256 - val_loss: 0.7543 - val_accuracy: 0.7826\n",
            "Epoch 402/500\n",
            "104/104 [==============================] - 1s 6ms/step - loss: 0.1763 - accuracy: 0.9359 - val_loss: 0.8177 - val_accuracy: 0.7778\n",
            "Epoch 403/500\n",
            "104/104 [==============================] - 1s 5ms/step - loss: 0.1988 - accuracy: 0.9232 - val_loss: 0.7859 - val_accuracy: 0.7826\n",
            "Epoch 404/500\n",
            "104/104 [==============================] - 1s 5ms/step - loss: 0.1946 - accuracy: 0.9250 - val_loss: 0.7981 - val_accuracy: 0.7826\n",
            "Epoch 405/500\n",
            "104/104 [==============================] - 1s 6ms/step - loss: 0.1876 - accuracy: 0.9268 - val_loss: 0.7480 - val_accuracy: 0.7874\n",
            "Epoch 406/500\n",
            "104/104 [==============================] - 1s 5ms/step - loss: 0.1996 - accuracy: 0.9287 - val_loss: 0.8162 - val_accuracy: 0.7729\n",
            "Epoch 407/500\n",
            "104/104 [==============================] - 1s 5ms/step - loss: 0.1771 - accuracy: 0.9371 - val_loss: 0.7148 - val_accuracy: 0.7488\n",
            "Epoch 408/500\n",
            "104/104 [==============================] - 1s 6ms/step - loss: 0.1942 - accuracy: 0.9383 - val_loss: 0.7358 - val_accuracy: 0.7729\n",
            "Epoch 409/500\n",
            "104/104 [==============================] - 1s 6ms/step - loss: 0.2057 - accuracy: 0.9287 - val_loss: 0.7735 - val_accuracy: 0.7681\n",
            "Epoch 410/500\n",
            "104/104 [==============================] - 1s 5ms/step - loss: 0.2091 - accuracy: 0.9329 - val_loss: 0.7404 - val_accuracy: 0.7971\n",
            "Epoch 411/500\n",
            "104/104 [==============================] - 1s 5ms/step - loss: 0.2046 - accuracy: 0.9323 - val_loss: 0.7132 - val_accuracy: 0.7874\n",
            "Epoch 412/500\n",
            "104/104 [==============================] - 1s 6ms/step - loss: 0.1987 - accuracy: 0.9281 - val_loss: 0.7259 - val_accuracy: 0.7874\n",
            "Epoch 413/500\n",
            "104/104 [==============================] - 1s 6ms/step - loss: 0.2116 - accuracy: 0.9214 - val_loss: 0.7847 - val_accuracy: 0.7923\n",
            "Epoch 414/500\n",
            "104/104 [==============================] - 1s 6ms/step - loss: 0.1757 - accuracy: 0.9395 - val_loss: 0.7927 - val_accuracy: 0.7778\n",
            "Epoch 415/500\n",
            "104/104 [==============================] - 1s 5ms/step - loss: 0.1996 - accuracy: 0.9323 - val_loss: 0.7921 - val_accuracy: 0.8019\n",
            "Epoch 416/500\n",
            "104/104 [==============================] - 1s 5ms/step - loss: 0.1792 - accuracy: 0.9359 - val_loss: 0.7200 - val_accuracy: 0.7923\n",
            "Epoch 417/500\n",
            "104/104 [==============================] - 1s 5ms/step - loss: 0.2094 - accuracy: 0.9335 - val_loss: 0.7837 - val_accuracy: 0.7681\n",
            "Epoch 418/500\n",
            "104/104 [==============================] - 1s 6ms/step - loss: 0.1795 - accuracy: 0.9383 - val_loss: 0.7406 - val_accuracy: 0.7826\n",
            "Epoch 419/500\n",
            "104/104 [==============================] - 1s 6ms/step - loss: 0.1960 - accuracy: 0.9335 - val_loss: 0.7368 - val_accuracy: 0.7874\n",
            "Epoch 420/500\n",
            "104/104 [==============================] - 1s 5ms/step - loss: 0.1847 - accuracy: 0.9335 - val_loss: 0.7563 - val_accuracy: 0.7729\n",
            "Epoch 421/500\n",
            "104/104 [==============================] - 1s 5ms/step - loss: 0.1881 - accuracy: 0.9317 - val_loss: 0.7651 - val_accuracy: 0.7585\n",
            "Epoch 422/500\n",
            "104/104 [==============================] - 1s 5ms/step - loss: 0.1860 - accuracy: 0.9329 - val_loss: 0.7856 - val_accuracy: 0.7971\n",
            "Epoch 423/500\n",
            "104/104 [==============================] - 1s 6ms/step - loss: 0.1941 - accuracy: 0.9311 - val_loss: 0.7351 - val_accuracy: 0.7923\n",
            "Epoch 424/500\n",
            "104/104 [==============================] - 1s 6ms/step - loss: 0.1827 - accuracy: 0.9305 - val_loss: 0.7025 - val_accuracy: 0.7971\n",
            "Epoch 425/500\n",
            "104/104 [==============================] - 1s 5ms/step - loss: 0.1860 - accuracy: 0.9335 - val_loss: 0.7650 - val_accuracy: 0.7971\n",
            "Epoch 426/500\n",
            "104/104 [==============================] - 1s 6ms/step - loss: 0.2182 - accuracy: 0.9268 - val_loss: 0.7661 - val_accuracy: 0.7681\n",
            "Epoch 427/500\n",
            "104/104 [==============================] - 1s 5ms/step - loss: 0.1774 - accuracy: 0.9401 - val_loss: 0.7440 - val_accuracy: 0.7874\n",
            "Epoch 428/500\n",
            "104/104 [==============================] - 1s 6ms/step - loss: 0.1873 - accuracy: 0.9323 - val_loss: 0.7373 - val_accuracy: 0.7971\n",
            "Epoch 429/500\n",
            "104/104 [==============================] - 1s 6ms/step - loss: 0.1686 - accuracy: 0.9401 - val_loss: 0.8438 - val_accuracy: 0.7923\n",
            "Epoch 430/500\n",
            "104/104 [==============================] - 1s 6ms/step - loss: 0.1741 - accuracy: 0.9383 - val_loss: 0.7621 - val_accuracy: 0.7923\n",
            "Epoch 431/500\n",
            "104/104 [==============================] - 1s 5ms/step - loss: 0.1637 - accuracy: 0.9432 - val_loss: 0.7497 - val_accuracy: 0.7923\n",
            "Epoch 432/500\n",
            "104/104 [==============================] - 1s 6ms/step - loss: 0.1590 - accuracy: 0.9474 - val_loss: 0.7867 - val_accuracy: 0.7874\n",
            "Epoch 433/500\n",
            "104/104 [==============================] - 1s 5ms/step - loss: 0.1636 - accuracy: 0.9414 - val_loss: 0.6990 - val_accuracy: 0.8116\n",
            "Epoch 434/500\n",
            "104/104 [==============================] - 1s 6ms/step - loss: 0.1614 - accuracy: 0.9426 - val_loss: 0.7711 - val_accuracy: 0.8019\n",
            "Epoch 435/500\n",
            "104/104 [==============================] - 1s 5ms/step - loss: 0.2045 - accuracy: 0.9299 - val_loss: 0.7817 - val_accuracy: 0.7778\n",
            "Epoch 436/500\n",
            "104/104 [==============================] - 1s 6ms/step - loss: 0.1772 - accuracy: 0.9414 - val_loss: 0.8532 - val_accuracy: 0.7874\n",
            "Epoch 437/500\n",
            "104/104 [==============================] - 1s 5ms/step - loss: 0.1861 - accuracy: 0.9377 - val_loss: 0.7864 - val_accuracy: 0.8068\n",
            "Epoch 438/500\n",
            "104/104 [==============================] - 1s 6ms/step - loss: 0.1559 - accuracy: 0.9420 - val_loss: 0.7765 - val_accuracy: 0.7681\n",
            "Epoch 439/500\n",
            "104/104 [==============================] - 1s 5ms/step - loss: 0.1600 - accuracy: 0.9450 - val_loss: 0.8634 - val_accuracy: 0.7826\n",
            "Epoch 440/500\n",
            "104/104 [==============================] - 1s 5ms/step - loss: 0.1837 - accuracy: 0.9347 - val_loss: 0.7812 - val_accuracy: 0.7826\n",
            "Epoch 441/500\n",
            "104/104 [==============================] - 1s 6ms/step - loss: 0.1735 - accuracy: 0.9420 - val_loss: 0.8337 - val_accuracy: 0.7585\n",
            "Epoch 442/500\n",
            "104/104 [==============================] - 1s 6ms/step - loss: 0.1831 - accuracy: 0.9341 - val_loss: 0.7999 - val_accuracy: 0.8019\n",
            "Epoch 443/500\n",
            "104/104 [==============================] - 1s 5ms/step - loss: 0.1629 - accuracy: 0.9347 - val_loss: 0.8150 - val_accuracy: 0.7874\n",
            "Epoch 444/500\n",
            "104/104 [==============================] - 1s 6ms/step - loss: 0.1602 - accuracy: 0.9383 - val_loss: 0.8147 - val_accuracy: 0.7971\n",
            "Epoch 445/500\n",
            "104/104 [==============================] - 1s 5ms/step - loss: 0.1962 - accuracy: 0.9395 - val_loss: 0.7433 - val_accuracy: 0.7681\n",
            "Epoch 446/500\n",
            "104/104 [==============================] - 1s 5ms/step - loss: 0.1809 - accuracy: 0.9420 - val_loss: 0.7663 - val_accuracy: 0.7729\n",
            "Epoch 447/500\n",
            "104/104 [==============================] - 1s 5ms/step - loss: 0.1932 - accuracy: 0.9341 - val_loss: 0.8100 - val_accuracy: 0.7778\n",
            "Epoch 448/500\n",
            "104/104 [==============================] - 1s 5ms/step - loss: 0.1939 - accuracy: 0.9371 - val_loss: 0.6925 - val_accuracy: 0.8116\n",
            "Epoch 449/500\n",
            "104/104 [==============================] - 1s 6ms/step - loss: 0.1721 - accuracy: 0.9377 - val_loss: 0.7117 - val_accuracy: 0.8019\n",
            "Epoch 450/500\n",
            "104/104 [==============================] - 1s 6ms/step - loss: 0.1421 - accuracy: 0.9498 - val_loss: 0.8081 - val_accuracy: 0.8164\n",
            "Epoch 451/500\n",
            "104/104 [==============================] - 1s 6ms/step - loss: 0.1565 - accuracy: 0.9426 - val_loss: 0.7518 - val_accuracy: 0.8019\n",
            "Epoch 452/500\n",
            "104/104 [==============================] - 1s 6ms/step - loss: 0.1603 - accuracy: 0.9492 - val_loss: 0.7479 - val_accuracy: 0.7923\n",
            "Epoch 453/500\n",
            "104/104 [==============================] - 1s 5ms/step - loss: 0.1507 - accuracy: 0.9420 - val_loss: 0.7998 - val_accuracy: 0.7826\n",
            "Epoch 454/500\n",
            "104/104 [==============================] - 1s 5ms/step - loss: 0.1628 - accuracy: 0.9389 - val_loss: 0.8447 - val_accuracy: 0.7681\n",
            "Epoch 455/500\n",
            "104/104 [==============================] - 1s 6ms/step - loss: 0.1859 - accuracy: 0.9329 - val_loss: 0.7422 - val_accuracy: 0.7923\n",
            "Epoch 456/500\n",
            "104/104 [==============================] - 1s 6ms/step - loss: 0.1589 - accuracy: 0.9414 - val_loss: 0.7657 - val_accuracy: 0.7923\n",
            "Epoch 457/500\n",
            "104/104 [==============================] - 1s 6ms/step - loss: 0.1689 - accuracy: 0.9456 - val_loss: 0.7744 - val_accuracy: 0.7826\n",
            "Epoch 458/500\n",
            "104/104 [==============================] - 1s 5ms/step - loss: 0.1442 - accuracy: 0.9468 - val_loss: 0.7791 - val_accuracy: 0.7826\n",
            "Epoch 459/500\n",
            "104/104 [==============================] - 1s 5ms/step - loss: 0.1565 - accuracy: 0.9389 - val_loss: 0.7425 - val_accuracy: 0.7923\n",
            "Epoch 460/500\n",
            "104/104 [==============================] - 1s 6ms/step - loss: 0.1890 - accuracy: 0.9401 - val_loss: 0.7223 - val_accuracy: 0.7923\n",
            "Epoch 461/500\n",
            "104/104 [==============================] - 1s 6ms/step - loss: 0.1838 - accuracy: 0.9359 - val_loss: 0.6875 - val_accuracy: 0.7874\n",
            "Epoch 462/500\n",
            "104/104 [==============================] - 1s 6ms/step - loss: 0.1478 - accuracy: 0.9553 - val_loss: 0.8106 - val_accuracy: 0.7633\n",
            "Epoch 463/500\n",
            "104/104 [==============================] - 1s 6ms/step - loss: 0.1543 - accuracy: 0.9432 - val_loss: 0.8652 - val_accuracy: 0.7826\n",
            "Epoch 464/500\n",
            "104/104 [==============================] - 1s 6ms/step - loss: 0.1599 - accuracy: 0.9450 - val_loss: 0.7597 - val_accuracy: 0.7874\n",
            "Epoch 465/500\n",
            "104/104 [==============================] - 1s 5ms/step - loss: 0.1719 - accuracy: 0.9353 - val_loss: 0.7010 - val_accuracy: 0.7874\n",
            "Epoch 466/500\n",
            "104/104 [==============================] - 1s 6ms/step - loss: 0.1725 - accuracy: 0.9371 - val_loss: 0.8218 - val_accuracy: 0.7826\n",
            "Epoch 467/500\n",
            "104/104 [==============================] - 1s 5ms/step - loss: 0.1661 - accuracy: 0.9407 - val_loss: 0.8490 - val_accuracy: 0.7681\n",
            "Epoch 468/500\n",
            "104/104 [==============================] - 1s 6ms/step - loss: 0.1574 - accuracy: 0.9450 - val_loss: 0.7899 - val_accuracy: 0.7923\n",
            "Epoch 469/500\n",
            "104/104 [==============================] - 1s 6ms/step - loss: 0.1602 - accuracy: 0.9420 - val_loss: 0.7536 - val_accuracy: 0.7923\n",
            "Epoch 470/500\n",
            "104/104 [==============================] - 1s 6ms/step - loss: 0.1755 - accuracy: 0.9395 - val_loss: 0.7791 - val_accuracy: 0.8019\n",
            "Epoch 471/500\n",
            "104/104 [==============================] - 1s 5ms/step - loss: 0.1525 - accuracy: 0.9462 - val_loss: 0.8509 - val_accuracy: 0.8116\n",
            "Epoch 472/500\n",
            "104/104 [==============================] - 1s 5ms/step - loss: 0.1476 - accuracy: 0.9450 - val_loss: 0.7989 - val_accuracy: 0.7923\n",
            "Epoch 473/500\n",
            "104/104 [==============================] - 1s 6ms/step - loss: 0.1770 - accuracy: 0.9407 - val_loss: 0.8614 - val_accuracy: 0.8019\n",
            "Epoch 474/500\n",
            "104/104 [==============================] - 1s 6ms/step - loss: 0.1720 - accuracy: 0.9468 - val_loss: 0.7799 - val_accuracy: 0.8019\n",
            "Epoch 475/500\n",
            "104/104 [==============================] - 1s 6ms/step - loss: 0.1589 - accuracy: 0.9407 - val_loss: 0.7807 - val_accuracy: 0.8019\n",
            "Epoch 476/500\n",
            "104/104 [==============================] - 1s 5ms/step - loss: 0.1492 - accuracy: 0.9522 - val_loss: 0.8097 - val_accuracy: 0.7585\n",
            "Epoch 477/500\n",
            "104/104 [==============================] - 1s 6ms/step - loss: 0.1864 - accuracy: 0.9341 - val_loss: 0.8867 - val_accuracy: 0.7729\n",
            "Epoch 478/500\n",
            "104/104 [==============================] - 1s 6ms/step - loss: 0.1410 - accuracy: 0.9498 - val_loss: 0.8021 - val_accuracy: 0.8068\n",
            "Epoch 479/500\n",
            "104/104 [==============================] - 1s 5ms/step - loss: 0.1773 - accuracy: 0.9383 - val_loss: 0.8407 - val_accuracy: 0.7826\n",
            "Epoch 480/500\n",
            "104/104 [==============================] - 1s 6ms/step - loss: 0.1521 - accuracy: 0.9468 - val_loss: 0.7874 - val_accuracy: 0.7971\n",
            "Epoch 481/500\n",
            "104/104 [==============================] - 1s 5ms/step - loss: 0.1381 - accuracy: 0.9498 - val_loss: 0.8402 - val_accuracy: 0.8068\n",
            "Epoch 482/500\n",
            "104/104 [==============================] - 1s 6ms/step - loss: 0.1498 - accuracy: 0.9444 - val_loss: 0.7973 - val_accuracy: 0.7971\n",
            "Epoch 483/500\n",
            "104/104 [==============================] - 1s 5ms/step - loss: 0.1579 - accuracy: 0.9407 - val_loss: 0.8846 - val_accuracy: 0.7826\n",
            "Epoch 484/500\n",
            "104/104 [==============================] - 1s 6ms/step - loss: 0.1544 - accuracy: 0.9432 - val_loss: 0.8730 - val_accuracy: 0.7971\n",
            "Epoch 485/500\n",
            "104/104 [==============================] - 1s 5ms/step - loss: 0.1625 - accuracy: 0.9486 - val_loss: 0.7549 - val_accuracy: 0.8019\n",
            "Epoch 486/500\n",
            "104/104 [==============================] - 1s 5ms/step - loss: 0.1633 - accuracy: 0.9486 - val_loss: 0.9012 - val_accuracy: 0.7923\n",
            "Epoch 487/500\n",
            "104/104 [==============================] - 1s 6ms/step - loss: 0.1421 - accuracy: 0.9498 - val_loss: 0.9979 - val_accuracy: 0.7681\n",
            "Epoch 488/500\n",
            "104/104 [==============================] - 1s 5ms/step - loss: 0.1389 - accuracy: 0.9553 - val_loss: 0.8542 - val_accuracy: 0.7874\n",
            "Epoch 489/500\n",
            "104/104 [==============================] - 1s 6ms/step - loss: 0.1422 - accuracy: 0.9450 - val_loss: 0.8762 - val_accuracy: 0.8019\n",
            "Epoch 490/500\n",
            "104/104 [==============================] - 1s 6ms/step - loss: 0.1578 - accuracy: 0.9456 - val_loss: 0.8908 - val_accuracy: 0.7971\n",
            "Epoch 491/500\n",
            "104/104 [==============================] - 1s 6ms/step - loss: 0.1626 - accuracy: 0.9462 - val_loss: 0.8973 - val_accuracy: 0.8213\n",
            "Epoch 492/500\n",
            "104/104 [==============================] - 1s 5ms/step - loss: 0.1531 - accuracy: 0.9444 - val_loss: 0.8230 - val_accuracy: 0.7971\n",
            "Epoch 493/500\n",
            "104/104 [==============================] - 1s 6ms/step - loss: 0.1592 - accuracy: 0.9492 - val_loss: 0.9312 - val_accuracy: 0.7826\n",
            "Epoch 494/500\n",
            "104/104 [==============================] - 1s 5ms/step - loss: 0.1561 - accuracy: 0.9534 - val_loss: 0.8098 - val_accuracy: 0.7923\n",
            "Epoch 495/500\n",
            "104/104 [==============================] - 1s 5ms/step - loss: 0.1494 - accuracy: 0.9420 - val_loss: 0.7739 - val_accuracy: 0.8068\n",
            "Epoch 496/500\n",
            "104/104 [==============================] - 1s 5ms/step - loss: 0.1415 - accuracy: 0.9492 - val_loss: 0.8639 - val_accuracy: 0.7971\n",
            "Epoch 497/500\n",
            "104/104 [==============================] - 1s 5ms/step - loss: 0.1657 - accuracy: 0.9438 - val_loss: 0.7402 - val_accuracy: 0.7826\n",
            "Epoch 498/500\n",
            "104/104 [==============================] - 1s 6ms/step - loss: 0.1355 - accuracy: 0.9516 - val_loss: 0.7118 - val_accuracy: 0.8116\n",
            "Epoch 499/500\n",
            "104/104 [==============================] - 1s 6ms/step - loss: 0.1368 - accuracy: 0.9565 - val_loss: 0.8755 - val_accuracy: 0.7923\n",
            "Epoch 500/500\n",
            "104/104 [==============================] - 1s 6ms/step - loss: 0.1510 - accuracy: 0.9480 - val_loss: 0.9104 - val_accuracy: 0.7681\n"
          ]
        }
      ]
    },
    {
      "cell_type": "code",
      "source": [
        "plt.plot(cnnhistory.history['loss'])\n",
        "plt.plot(cnnhistory.history['val_loss'])\n",
        "plt.title('model loss')\n",
        "plt.ylabel('loss')\n",
        "plt.xlabel('epoch')\n",
        "plt.legend(['train','test'], loc='upper left')\n",
        "plt.show()"
      ],
      "metadata": {
        "colab": {
          "base_uri": "https://localhost:8080/",
          "height": 295
        },
        "id": "oQYnuaCrDH_A",
        "outputId": "e90f2937-14d9-4d1a-dbaf-ec84e1e1bc46"
      },
      "execution_count": 23,
      "outputs": [
        {
          "output_type": "display_data",
          "data": {
            "text/plain": [
              "<Figure size 432x288 with 1 Axes>"
            ],
            "image/png": "[encoded data removed]"
          },
          "metadata": {
            "needs_background": "light"
          }
        }
      ]
    },
    {
      "cell_type": "code",
      "source": [
        "plt.plot(cnnhistory.history['accuracy'])\n",
        "plt.plot(cnnhistory.history['val_accuracy'])\n",
        "plt.title('model accuracy')\n",
        "plt.ylabel('accuracy')\n",
        "plt.xlabel('epoch')\n",
        "plt.legend(['train','test'], loc='upper left')\n",
        "plt.show()"
      ],
      "metadata": {
        "colab": {
          "base_uri": "https://localhost:8080/",
          "height": 295
        },
        "id": "IFkTuO8nDNdq",
        "outputId": "91727e70-e385-40f7-b41f-72e50139d49d"
      },
      "execution_count": 24,
      "outputs": [
        {
          "output_type": "display_data",
          "data": {
            "text/plain": [
              "<Figure size 432x288 with 1 Axes>"
            ],
            "image/png": "[encoded data removed]"
          },
          "metadata": {
            "needs_background": "light"
          }
        }
      ]
    },
    {
      "cell_type": "code",
      "source": [
        "#predictions = model.predict_classes(x_testcnn)\n",
        "predictions = model.predict(x_testcnn)"
      ],
      "metadata": {
        "id": "A2xtrN5wDQgY"
      },
      "execution_count": 25,
      "outputs": []
    },
    {
      "cell_type": "code",
      "source": [
        "predictions"
      ],
      "metadata": {
        "colab": {
          "base_uri": "https://localhost:8080/"
        },
        "id": "_f_ohjXKDUpY",
        "outputId": "0c6e45e2-cdb9-4f73-bdf6-7f6e12cf8faf"
      },
      "execution_count": 26,
      "outputs": [
        {
          "output_type": "execute_result",
          "data": {
            "text/plain": [
              "array([[1.0136834e-05, 2.0927798e-06, 8.9040622e-03, 2.3549544e-05,\n",
              "        4.5087668e-03, 9.8655140e-01],\n",
              "       [3.0898659e-03, 9.9339598e-01, 2.5124467e-04, 2.6822763e-03,\n",
              "        3.3905468e-04, 2.4159682e-04],\n",
              "       [1.4119157e-06, 4.2409007e-03, 9.7028089e-01, 1.8589884e-05,\n",
              "        4.2820289e-03, 2.1176113e-02],\n",
              "       ...,\n",
              "       [2.8554870e-05, 2.4094160e-07, 9.1542926e-04, 9.4812189e-05,\n",
              "        9.7582769e-01, 2.3133274e-02],\n",
              "       [2.4283538e-05, 7.3717638e-06, 1.7189834e-06, 9.7306424e-01,\n",
              "        3.4196141e-06, 2.6898898e-02],\n",
              "       [6.9082816e-05, 7.0382237e-05, 1.5990265e-06, 5.1990628e-05,\n",
              "        9.9980694e-01, 1.6510141e-08]], dtype=float32)"
            ]
          },
          "metadata": {},
          "execution_count": 26
        }
      ]
    },
    {
      "cell_type": "code",
      "source": [
        "y_test"
      ],
      "metadata": {
        "colab": {
          "base_uri": "https://localhost:8080/"
        },
        "id": "cmA2bFgsDW3D",
        "outputId": "26a6ae6f-9db9-441d-8a05-3e7a4921428b"
      },
      "execution_count": 27,
      "outputs": [
        {
          "output_type": "execute_result",
          "data": {
            "text/plain": [
              "array([5, 1, 2, 5, 3, 4, 2, 0, 3, 1, 3, 2, 1, 4, 3, 0, 5, 0, 2, 5, 0, 0,\n",
              "       1, 3, 2, 3, 2, 5, 4, 2, 2, 3, 1, 2, 5, 5, 3, 5, 3, 3, 4, 1, 3, 2,\n",
              "       3, 1, 5, 3, 1, 2, 4, 4, 5, 5, 5, 1, 2, 3, 2, 5, 0, 2, 4, 2, 5, 4,\n",
              "       3, 0, 1, 2, 5, 2, 1, 2, 4, 5, 4, 1, 5, 5, 3, 1, 5, 3, 2, 4, 2, 5,\n",
              "       0, 5, 0, 5, 4, 0, 2, 4, 0, 2, 2, 0, 2, 3, 5, 3, 5, 5, 3, 1, 2, 2,\n",
              "       2, 1, 3, 2, 1, 3, 4, 4, 1, 1, 2, 4, 4, 1, 4, 2, 0, 4, 5, 5, 3, 1,\n",
              "       2, 1, 5, 5, 1, 2, 3, 3, 0, 3, 3, 0, 1, 0, 1, 2, 1, 5, 1, 2, 2, 0,\n",
              "       1, 1, 1, 1, 1, 4, 0, 1, 5, 1, 4, 5, 5, 4, 1, 0, 3, 5, 2, 3, 0, 4,\n",
              "       1, 3, 1, 0, 5, 5, 3, 5, 4, 5, 4, 0, 4, 1, 2, 1, 5, 0, 4, 3, 2, 1,\n",
              "       0, 3, 5, 0, 4, 5, 4, 5, 4])"
            ]
          },
          "metadata": {},
          "execution_count": 27
        }
      ]
    },
    {
      "cell_type": "code",
      "source": [
        "new_Ytest = y_test.astype(int)"
      ],
      "metadata": {
        "id": "0PHDKWJWDY3g"
      },
      "execution_count": 28,
      "outputs": []
    },
    {
      "cell_type": "code",
      "source": [
        "new_Ytest"
      ],
      "metadata": {
        "colab": {
          "base_uri": "https://localhost:8080/"
        },
        "id": "k68v2i-pDbZE",
        "outputId": "39922254-7ae7-4076-cad8-483b7ebbf095"
      },
      "execution_count": 29,
      "outputs": [
        {
          "output_type": "execute_result",
          "data": {
            "text/plain": [
              "array([5, 1, 2, 5, 3, 4, 2, 0, 3, 1, 3, 2, 1, 4, 3, 0, 5, 0, 2, 5, 0, 0,\n",
              "       1, 3, 2, 3, 2, 5, 4, 2, 2, 3, 1, 2, 5, 5, 3, 5, 3, 3, 4, 1, 3, 2,\n",
              "       3, 1, 5, 3, 1, 2, 4, 4, 5, 5, 5, 1, 2, 3, 2, 5, 0, 2, 4, 2, 5, 4,\n",
              "       3, 0, 1, 2, 5, 2, 1, 2, 4, 5, 4, 1, 5, 5, 3, 1, 5, 3, 2, 4, 2, 5,\n",
              "       0, 5, 0, 5, 4, 0, 2, 4, 0, 2, 2, 0, 2, 3, 5, 3, 5, 5, 3, 1, 2, 2,\n",
              "       2, 1, 3, 2, 1, 3, 4, 4, 1, 1, 2, 4, 4, 1, 4, 2, 0, 4, 5, 5, 3, 1,\n",
              "       2, 1, 5, 5, 1, 2, 3, 3, 0, 3, 3, 0, 1, 0, 1, 2, 1, 5, 1, 2, 2, 0,\n",
              "       1, 1, 1, 1, 1, 4, 0, 1, 5, 1, 4, 5, 5, 4, 1, 0, 3, 5, 2, 3, 0, 4,\n",
              "       1, 3, 1, 0, 5, 5, 3, 5, 4, 5, 4, 0, 4, 1, 2, 1, 5, 0, 4, 3, 2, 1,\n",
              "       0, 3, 5, 0, 4, 5, 4, 5, 4])"
            ]
          },
          "metadata": {},
          "execution_count": 29
        }
      ]
    },
    {
      "cell_type": "code",
      "source": [
        "preds1=predictions.argmax(axis=1)\n",
        "preds1"
      ],
      "metadata": {
        "colab": {
          "base_uri": "https://localhost:8080/"
        },
        "id": "4_cAI39VFhtp",
        "outputId": "ca4d2a85-f4a1-4695-e691-c8656383782d"
      },
      "execution_count": 30,
      "outputs": [
        {
          "output_type": "execute_result",
          "data": {
            "text/plain": [
              "array([5, 1, 2, 5, 1, 4, 2, 0, 3, 0, 3, 2, 1, 4, 3, 0, 5, 3, 2, 5, 0, 0,\n",
              "       1, 3, 2, 5, 2, 5, 4, 2, 2, 3, 1, 2, 5, 5, 1, 5, 3, 3, 4, 1, 2, 2,\n",
              "       3, 1, 3, 3, 1, 0, 4, 4, 5, 5, 3, 1, 2, 3, 2, 5, 0, 2, 4, 4, 5, 4,\n",
              "       3, 0, 1, 2, 3, 2, 1, 2, 4, 5, 4, 1, 5, 5, 3, 1, 5, 3, 2, 4, 2, 3,\n",
              "       0, 2, 0, 5, 4, 0, 3, 4, 3, 4, 2, 0, 2, 3, 5, 3, 5, 2, 5, 1, 2, 2,\n",
              "       2, 1, 3, 2, 1, 3, 4, 4, 0, 1, 2, 4, 4, 1, 4, 2, 0, 4, 5, 5, 5, 1,\n",
              "       4, 1, 5, 5, 1, 3, 3, 3, 0, 3, 5, 0, 1, 0, 1, 2, 1, 2, 0, 1, 2, 0,\n",
              "       1, 1, 1, 1, 2, 4, 0, 1, 5, 1, 4, 5, 5, 4, 1, 0, 3, 1, 2, 2, 3, 4,\n",
              "       1, 3, 1, 0, 5, 2, 3, 5, 4, 4, 0, 0, 0, 3, 2, 1, 3, 0, 4, 1, 2, 0,\n",
              "       1, 3, 5, 0, 4, 5, 4, 3, 4])"
            ]
          },
          "metadata": {},
          "execution_count": 30
        }
      ]
    },
    {
      "cell_type": "code",
      "source": [
        "abc = preds1.astype(int).flatten()"
      ],
      "metadata": {
        "id": "H4WEmM60NfQn"
      },
      "execution_count": 31,
      "outputs": []
    },
    {
      "cell_type": "code",
      "source": [
        "from sklearn.metrics import confusion_matrix\n",
        "c = confusion_matrix(new_Ytest, abc) \n",
        "c"
      ],
      "metadata": {
        "colab": {
          "base_uri": "https://localhost:8080/"
        },
        "id": "bKEBeEBlFjB8",
        "outputId": "6fb2c2fa-3491-4a32-87db-5e572431de9a"
      },
      "execution_count": 32,
      "outputs": [
        {
          "output_type": "execute_result",
          "data": {
            "text/plain": [
              "array([[21,  1,  0,  3,  0,  0],\n",
              "       [ 4, 33,  1,  1,  0,  0],\n",
              "       [ 1,  1, 31,  2,  3,  0],\n",
              "       [ 0,  3,  2, 24,  0,  4],\n",
              "       [ 2,  0,  0,  0, 28,  0],\n",
              "       [ 0,  1,  4,  6,  1, 30]])"
            ]
          },
          "metadata": {},
          "execution_count": 32
        }
      ]
    },
    {
      "cell_type": "code",
      "source": [
        "y_test"
      ],
      "metadata": {
        "colab": {
          "base_uri": "https://localhost:8080/"
        },
        "id": "m4RjG7LWLSQx",
        "outputId": "a0c00bfa-0967-4cb9-8481-ff444cdf83db"
      },
      "execution_count": 33,
      "outputs": [
        {
          "output_type": "execute_result",
          "data": {
            "text/plain": [
              "array([5, 1, 2, 5, 3, 4, 2, 0, 3, 1, 3, 2, 1, 4, 3, 0, 5, 0, 2, 5, 0, 0,\n",
              "       1, 3, 2, 3, 2, 5, 4, 2, 2, 3, 1, 2, 5, 5, 3, 5, 3, 3, 4, 1, 3, 2,\n",
              "       3, 1, 5, 3, 1, 2, 4, 4, 5, 5, 5, 1, 2, 3, 2, 5, 0, 2, 4, 2, 5, 4,\n",
              "       3, 0, 1, 2, 5, 2, 1, 2, 4, 5, 4, 1, 5, 5, 3, 1, 5, 3, 2, 4, 2, 5,\n",
              "       0, 5, 0, 5, 4, 0, 2, 4, 0, 2, 2, 0, 2, 3, 5, 3, 5, 5, 3, 1, 2, 2,\n",
              "       2, 1, 3, 2, 1, 3, 4, 4, 1, 1, 2, 4, 4, 1, 4, 2, 0, 4, 5, 5, 3, 1,\n",
              "       2, 1, 5, 5, 1, 2, 3, 3, 0, 3, 3, 0, 1, 0, 1, 2, 1, 5, 1, 2, 2, 0,\n",
              "       1, 1, 1, 1, 1, 4, 0, 1, 5, 1, 4, 5, 5, 4, 1, 0, 3, 5, 2, 3, 0, 4,\n",
              "       1, 3, 1, 0, 5, 5, 3, 5, 4, 5, 4, 0, 4, 1, 2, 1, 5, 0, 4, 3, 2, 1,\n",
              "       0, 3, 5, 0, 4, 5, 4, 5, 4])"
            ]
          },
          "metadata": {},
          "execution_count": 33
        }
      ]
    },
    {
      "cell_type": "code",
      "source": [
        "model.save('/content/drive/My Drive/graduation project/audio/paper_code/mariam/original_500 epoch_with_valid_Adam2_3')\n",
        "print(\"MODEL SAVED\")"
      ],
      "metadata": {
        "colab": {
          "base_uri": "https://localhost:8080/"
        },
        "id": "lsJBNeMWDl6Z",
        "outputId": "089f4f99-6e4d-4997-f15e-ec97b726c657"
      },
      "execution_count": 34,
      "outputs": [
        {
          "output_type": "stream",
          "name": "stdout",
          "text": [
            "INFO:tensorflow:Assets written to: /content/drive/My Drive/graduation project/audio/paper_code/mariam/original_500 epoch_with_valid_Adam2_3/assets\n",
            "MODEL SAVED\n"
          ]
        }
      ]
    },
    {
      "cell_type": "code",
      "source": [
        "new_model=keras.models.load_model('/content/drive/My Drive/graduation project/audio/paper_code/mariam/original_500 epoch_with_valid_Adam2_3')\n",
        "new_model.summary()"
      ],
      "metadata": {
        "colab": {
          "base_uri": "https://localhost:8080/"
        },
        "id": "Q3KjaO9GDoNl",
        "outputId": "560b367d-6291-4fd9-ce4b-dbb43d3a8aac"
      },
      "execution_count": 35,
      "outputs": [
        {
          "output_type": "stream",
          "name": "stdout",
          "text": [
            "Model: \"sequential\"\n",
            "_________________________________________________________________\n",
            " Layer (type)                Output Shape              Param #   \n",
            "=================================================================\n",
            " conv1d (Conv1D)             (None, 40, 128)           1152      \n",
            "                                                                 \n",
            " activation (Activation)     (None, 40, 128)           0         \n",
            "                                                                 \n",
            " dropout (Dropout)           (None, 40, 128)           0         \n",
            "                                                                 \n",
            " max_pooling1d (MaxPooling1D  (None, 8, 128)           0         \n",
            " )                                                               \n",
            "                                                                 \n",
            " conv1d_1 (Conv1D)           (None, 8, 256)            262400    \n",
            "                                                                 \n",
            " activation_1 (Activation)   (None, 8, 256)            0         \n",
            "                                                                 \n",
            " dropout_1 (Dropout)         (None, 8, 256)            0         \n",
            "                                                                 \n",
            " max_pooling1d_1 (MaxPooling  (None, 1, 256)           0         \n",
            " 1D)                                                             \n",
            "                                                                 \n",
            " flatten (Flatten)           (None, 256)               0         \n",
            "                                                                 \n",
            " dense (Dense)               (None, 256)               65792     \n",
            "                                                                 \n",
            " activation_2 (Activation)   (None, 256)               0         \n",
            "                                                                 \n",
            " dense_1 (Dense)             (None, 256)               65792     \n",
            "                                                                 \n",
            " activation_3 (Activation)   (None, 256)               0         \n",
            "                                                                 \n",
            " dense_2 (Dense)             (None, 6)                 1542      \n",
            "                                                                 \n",
            " activation_4 (Activation)   (None, 6)                 0         \n",
            "                                                                 \n",
            "=================================================================\n",
            "Total params: 396,678\n",
            "Trainable params: 396,678\n",
            "Non-trainable params: 0\n",
            "_________________________________________________________________\n"
          ]
        }
      ]
    },
    {
      "cell_type": "code",
      "source": [
        "loss, acc =model.evaluate(x_testcnn, y_test)\n",
        "print(\"Restored model, accuracy: {:5.2f}%\".format(100*acc))"
      ],
      "metadata": {
        "colab": {
          "base_uri": "https://localhost:8080/"
        },
        "id": "n3kzoqPkDqqS",
        "outputId": "65eb0b0b-c625-4130-d74c-71d19e12a728"
      },
      "execution_count": 36,
      "outputs": [
        {
          "output_type": "stream",
          "name": "stdout",
          "text": [
            "7/7 [==============================] - 0s 3ms/step - loss: 0.7565 - accuracy: 0.8068\n",
            "Restored model, accuracy: 80.68%\n"
          ]
        }
      ]
    },
    {
      "cell_type": "code",
      "source": [
        "loss, acc =model.evaluate(X_train, y_train)\n",
        "print(\"Restored model train, accuracy: {:5.2f}%\".format(100*acc))"
      ],
      "metadata": {
        "id": "fJDTGH_OUX0z",
        "colab": {
          "base_uri": "https://localhost:8080/"
        },
        "outputId": "f8041a5f-4ba6-4573-b4d1-b5a286ffd1df"
      },
      "execution_count": 37,
      "outputs": [
        {
          "output_type": "stream",
          "name": "stdout",
          "text": [
            "52/52 [==============================] - 0s 4ms/step - loss: 0.0650 - accuracy: 0.9855\n",
            "Restored model train, accuracy: 98.55%\n"
          ]
        }
      ]
    },
    {
      "cell_type": "code",
      "source": [
        "from sklearn.metrics import classification_report, confusion_matrix,accuracy_score\n",
        "import seaborn as sn\n",
        "\n",
        "print(classification_report(new_Ytest,abc))\n",
        "\n",
        "acc = float(accuracy_score(new_Ytest,abc))*100\n",
        "print(\"----accuracy score %s ----\" % acc)\n",
        "\n",
        "cm = confusion_matrix(new_Ytest,abc)\n",
        "#df_cm = pd.DataFrame(cm)\n",
        "class_names = ['neutral','calm', 'happy','sad','angry', 'fearful' ]\n",
        "df_cm = pd.DataFrame(cm, index=class_names, columns=class_names,)\n",
        "sn.heatmap(df_cm, annot=True, fmt='')\n",
        "plt.show()"
      ],
      "metadata": {
        "colab": {
          "base_uri": "https://localhost:8080/",
          "height": 508
        },
        "id": "SfSC3El94LZg",
        "outputId": "3344d745-28b3-4459-803a-896a57206ce0"
      },
      "execution_count": 38,
      "outputs": [
        {
          "output_type": "stream",
          "name": "stdout",
          "text": [
            "              precision    recall  f1-score   support\n",
            "\n",
            "           0       0.75      0.84      0.79        25\n",
            "           1       0.85      0.85      0.85        39\n",
            "           2       0.82      0.82      0.82        38\n",
            "           3       0.67      0.73      0.70        33\n",
            "           4       0.88      0.93      0.90        30\n",
            "           5       0.88      0.71      0.79        42\n",
            "\n",
            "    accuracy                           0.81       207\n",
            "   macro avg       0.81      0.81      0.81       207\n",
            "weighted avg       0.81      0.81      0.81       207\n",
            "\n",
            "----accuracy score 80.67632850241546 ----\n"
          ]
        },
        {
          "output_type": "display_data",
          "data": {
            "text/plain": [
              "<Figure size 432x288 with 2 Axes>"
            ],
            "image/png": "[encoded data removed]"
          },
          "metadata": {
            "needs_background": "light"
          }
        }
      ]
    },
    {
      "cell_type": "code",
      "source": [
        ""
      ],
      "metadata": {
        "id": "LGpgwFQqkpyU"
      },
      "execution_count": 38,
      "outputs": []
    }
  ]
}