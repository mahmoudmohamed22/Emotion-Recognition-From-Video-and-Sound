{
  "nbformat": 4,
  "nbformat_minor": 0,
  "metadata": {
    "colab": {
      "name": "ramadan adam 0.0002 1.ipynb",
      "provenance": [],
      "collapsed_sections": []
    },
    "kernelspec": {
      "name": "python3",
      "display_name": "Python 3"
    },
    "language_info": {
      "name": "python"
    },
    "accelerator": "GPU"
  },
  "cells": [
    {
      "cell_type": "code",
      "execution_count": 1,
      "metadata": {
        "colab": {
          "base_uri": "https://localhost:8080/"
        },
        "id": "9SRCO-a_AlH5",
        "outputId": "c6091392-b67a-4fe6-9882-36bc042908e5"
      },
      "outputs": [
        {
          "output_type": "stream",
          "name": "stdout",
          "text": [
            "Drive already mounted at /content/drive; to attempt to forcibly remount, call drive.mount(\"/content/drive\", force_remount=True).\n"
          ]
        }
      ],
      "source": [
        "from google.colab import drive\n",
        "drive.mount('/content/drive')"
      ]
    },
    {
      "cell_type": "code",
      "source": [
        "!pip install librosa"
      ],
      "metadata": {
        "colab": {
          "base_uri": "https://localhost:8080/"
        },
        "id": "oi8pWV3yBVjO",
        "outputId": "5661addc-edcf-414a-9ebe-091a9f15d901"
      },
      "execution_count": 2,
      "outputs": [
        {
          "output_type": "stream",
          "name": "stdout",
          "text": [
            "Looking in indexes: https://pypi.org/simple, https://us-python.pkg.dev/colab-wheels/public/simple/\n",
            "Requirement already satisfied: librosa in /usr/local/lib/python3.7/dist-packages (0.8.1)\n",
            "Requirement already satisfied: scipy>=1.0.0 in /usr/local/lib/python3.7/dist-packages (from librosa) (1.4.1)\n",
            "Requirement already satisfied: resampy>=0.2.2 in /usr/local/lib/python3.7/dist-packages (from librosa) (0.2.2)\n",
            "Requirement already satisfied: packaging>=20.0 in /usr/local/lib/python3.7/dist-packages (from librosa) (21.3)\n",
            "Requirement already satisfied: joblib>=0.14 in /usr/local/lib/python3.7/dist-packages (from librosa) (1.1.0)\n",
            "Requirement already satisfied: audioread>=2.0.0 in /usr/local/lib/python3.7/dist-packages (from librosa) (2.1.9)\n",
            "Requirement already satisfied: decorator>=3.0.0 in /usr/local/lib/python3.7/dist-packages (from librosa) (4.4.2)\n",
            "Requirement already satisfied: soundfile>=0.10.2 in /usr/local/lib/python3.7/dist-packages (from librosa) (0.10.3.post1)\n",
            "Requirement already satisfied: scikit-learn!=0.19.0,>=0.14.0 in /usr/local/lib/python3.7/dist-packages (from librosa) (1.0.2)\n",
            "Requirement already satisfied: pooch>=1.0 in /usr/local/lib/python3.7/dist-packages (from librosa) (1.6.0)\n",
            "Requirement already satisfied: numba>=0.43.0 in /usr/local/lib/python3.7/dist-packages (from librosa) (0.51.2)\n",
            "Requirement already satisfied: numpy>=1.15.0 in /usr/local/lib/python3.7/dist-packages (from librosa) (1.21.6)\n",
            "Requirement already satisfied: setuptools in /usr/local/lib/python3.7/dist-packages (from numba>=0.43.0->librosa) (57.4.0)\n",
            "Requirement already satisfied: llvmlite<0.35,>=0.34.0.dev0 in /usr/local/lib/python3.7/dist-packages (from numba>=0.43.0->librosa) (0.34.0)\n",
            "Requirement already satisfied: pyparsing!=3.0.5,>=2.0.2 in /usr/local/lib/python3.7/dist-packages (from packaging>=20.0->librosa) (3.0.9)\n",
            "Requirement already satisfied: requests>=2.19.0 in /usr/local/lib/python3.7/dist-packages (from pooch>=1.0->librosa) (2.23.0)\n",
            "Requirement already satisfied: appdirs>=1.3.0 in /usr/local/lib/python3.7/dist-packages (from pooch>=1.0->librosa) (1.4.4)\n",
            "Requirement already satisfied: urllib3!=1.25.0,!=1.25.1,<1.26,>=1.21.1 in /usr/local/lib/python3.7/dist-packages (from requests>=2.19.0->pooch>=1.0->librosa) (1.24.3)\n",
            "Requirement already satisfied: chardet<4,>=3.0.2 in /usr/local/lib/python3.7/dist-packages (from requests>=2.19.0->pooch>=1.0->librosa) (3.0.4)\n",
            "Requirement already satisfied: certifi>=2017.4.17 in /usr/local/lib/python3.7/dist-packages (from requests>=2.19.0->pooch>=1.0->librosa) (2022.5.18.1)\n",
            "Requirement already satisfied: idna<3,>=2.5 in /usr/local/lib/python3.7/dist-packages (from requests>=2.19.0->pooch>=1.0->librosa) (2.10)\n",
            "Requirement already satisfied: six>=1.3 in /usr/local/lib/python3.7/dist-packages (from resampy>=0.2.2->librosa) (1.15.0)\n",
            "Requirement already satisfied: threadpoolctl>=2.0.0 in /usr/local/lib/python3.7/dist-packages (from scikit-learn!=0.19.0,>=0.14.0->librosa) (3.1.0)\n",
            "Requirement already satisfied: cffi>=1.0 in /usr/local/lib/python3.7/dist-packages (from soundfile>=0.10.2->librosa) (1.15.0)\n",
            "Requirement already satisfied: pycparser in /usr/local/lib/python3.7/dist-packages (from cffi>=1.0->soundfile>=0.10.2->librosa) (2.21)\n"
          ]
        }
      ]
    },
    {
      "cell_type": "code",
      "metadata": {
        "id": "HJjcbxwy46bG",
        "colab": {
          "base_uri": "https://localhost:8080/",
          "height": 17
        },
        "outputId": "c9a2bc5a-23d0-4141-a27e-455af717f6b7"
      },
      "source": [
        "# Orignial Notebook: https://github.com/MITESHPUTHRANNEU/Speech-Emotion-Analyzer/blob/master/final_results_gender_test.ipynb\n",
        "# This notebook author: Reza Chu\n",
        "# Last Editing Date: 31st May 2019\n",
        "\n",
        "## Python\n",
        "import os\n",
        "import random\n",
        "import sys\n",
        "\n",
        "import IPython\n",
        "from IPython.display import Audio\n",
        "from IPython.display import Image\n",
        "import matplotlib.pyplot as plt\n",
        "\n",
        "## Package\n",
        "import glob \n",
        "import keras\n",
        "import IPython.display as ipd\n",
        "import librosa\n",
        "import librosa.display\n",
        "import matplotlib.pyplot as plt\n",
        "import numpy as np\n",
        "import pandas as pd\n",
        "import plotly.graph_objs as go\n",
        "import plotly.offline as py\n",
        "import plotly.tools as tls\n",
        "import seaborn as sns\n",
        "import scipy.io.wavfile\n",
        "import tensorflow as tf\n",
        "py.init_notebook_mode(connected=True)\n",
        "\n",
        "## Keras\n",
        "from keras import regularizers\n",
        "from keras.callbacks import ModelCheckpoint, LearningRateScheduler, EarlyStopping\n",
        "from keras.callbacks import  History, ReduceLROnPlateau, CSVLogger\n",
        "from keras.models import Model, Sequential\n",
        "from keras.layers import Dense, Embedding, LSTM\n",
        "from keras.layers import Input, Flatten, Dropout, Activation, BatchNormalization\n",
        "from keras.layers import Conv1D, MaxPooling1D, AveragePooling1D\n",
        "from keras.preprocessing import sequence\n",
        "from keras.preprocessing.sequence import pad_sequences\n",
        "from keras.preprocessing.text import Tokenizer\n",
        "from keras.utils import np_utils\n",
        "from tensorflow.keras.utils import to_categorical\n",
        "\n",
        "## Sklearn\n",
        "from sklearn.metrics import confusion_matrix\n",
        "from sklearn.preprocessing import LabelEncoder\n",
        "\n",
        "## Rest\n",
        "from scipy.fftpack import fft\n",
        "from scipy import signal\n",
        "from scipy.io import wavfile\n",
        "from tqdm import tqdm\n",
        "\n",
        "input_duration=3\n",
        "# % pylab inline"
      ],
      "execution_count": 3,
      "outputs": [
        {
          "output_type": "display_data",
          "data": {
            "text/html": [
              "        <script type=\"text/javascript\">\n",
              "        window.PlotlyConfig = {MathJaxConfig: 'local'};\n",
              "        if (window.MathJax) {MathJax.Hub.Config({SVG: {font: \"STIX-Web\"}});}\n",
              "        if (typeof require !== 'undefined') {\n",
              "        require.undef(\"plotly\");\n",
              "        requirejs.config({\n",
              "            paths: {\n",
              "                'plotly': ['https://cdn.plot.ly/plotly-2.8.3.min']\n",
              "            }\n",
              "        });\n",
              "        require(['plotly'], function(Plotly) {\n",
              "            window._Plotly = Plotly;\n",
              "        });\n",
              "        }\n",
              "        </script>\n",
              "        "
            ]
          },
          "metadata": {}
        }
      ]
    },
    {
      "cell_type": "code",
      "source": [
        "#radvass speech and song\n",
        "import time\n",
        "import os\n",
        "import librosa\n",
        "from librosa import display\n",
        "import matplotlib.pyplot as plt\n",
        "\n",
        "count=0\n",
        "path1 = '/content/drive/MyDrive/RAVDESS_speech'\n",
        "path2 = '/content/drive/MyDrive/RAVDESS_song'\n",
        "\n",
        "lst = []\n",
        "\n",
        "start_time = time.time()\n",
        "\n",
        "for subdir, dirs, files in os.walk(path2):\n",
        "  print(dirs)\n",
        "  print(subdir)\n",
        "  #print(files)\n",
        "  for file in files:\n",
        "      try:\n",
        "        count +=1\n",
        "        #Load librosa array, obtain mfcss, store the file and the mcss information in a new array\n",
        "        X, sample_rate = librosa.load(os.path.join(subdir,file), res_type='kaiser_fast')\n",
        "        mfccs = np.mean(librosa.feature.mfcc(y=X, sr=sample_rate, n_mfcc=40).T,axis=0) \n",
        "        # The instruction below converts the labels (from 1 to 8) to a series from 0 to 7\n",
        "        # This is because our predictor needs to start from 0 otherwise it will try to predict also 0.\n",
        "        file = int(file[7:8]) - 1 \n",
        "        arr = mfccs, file\n",
        "        lst.append(arr)\n",
        "      # If the file is not valid, skip it\n",
        "      except ValueError:\n",
        "        continue\n",
        "\n",
        "for subdir, dirs, files in os.walk(path1):\n",
        "  print(dirs)\n",
        "  print(subdir)\n",
        " # print(files)\n",
        "  for file in files:\n",
        "      try:\n",
        "        #Load librosa array, obtain mfcss, store the file and the mcss information in a new array\n",
        "        X, sample_rate = librosa.load(os.path.join(subdir,file), res_type='kaiser_fast')\n",
        "        mfccs = np.mean(librosa.feature.mfcc(y=X, sr=sample_rate, n_mfcc=40).T,axis=0) \n",
        "        # The instruction below converts the labels (from 1 to 8) to a series from 0 to 7\n",
        "        # This is because our predictor needs to start from 0 otherwise it will try to predict also 0.\n",
        "        file = int(file[7:8]) - 1 \n",
        "        if(file ==6 or file==7):\n",
        "          continue\n",
        "        count +=1\n",
        "        arr = mfccs, file\n",
        "        lst.append(arr)\n",
        "      # If the file is not valid, skip it\n",
        "      except ValueError:\n",
        "        continue\n",
        "\n",
        "\n",
        "\n",
        "print(\"--- Data loaded. Loading time: %s seconds ---\" % (time.time() - start_time))"
      ],
      "metadata": {
        "colab": {
          "base_uri": "https://localhost:8080/"
        },
        "id": "IfuyRZl42ccZ",
        "outputId": "ce249970-9930-450a-db19-8e2b3f9edde8"
      },
      "execution_count": 4,
      "outputs": [
        {
          "output_type": "stream",
          "name": "stdout",
          "text": [
            "['Actor_10', 'Actor_11', 'Actor_13', 'Actor_12', 'Actor_14', 'Actor_15', 'Actor_16', 'Actor_17', 'Actor_18', 'Actor_19', 'Actor_21', 'Actor_22', 'Actor_23', 'Actor_09', 'Actor_24', 'Actor_04', 'Actor_08', 'Actor_03', 'Actor_02', 'Actor_06', 'Actor_05', 'Actor_01', 'Actor_07', 'Actor_20']\n",
            "/content/drive/MyDrive/RAVDESS_song\n",
            "[]\n",
            "/content/drive/MyDrive/RAVDESS_song/Actor_10\n",
            "[]\n",
            "/content/drive/MyDrive/RAVDESS_song/Actor_11\n",
            "[]\n",
            "/content/drive/MyDrive/RAVDESS_song/Actor_13\n",
            "[]\n",
            "/content/drive/MyDrive/RAVDESS_song/Actor_12\n",
            "[]\n",
            "/content/drive/MyDrive/RAVDESS_song/Actor_14\n",
            "[]\n",
            "/content/drive/MyDrive/RAVDESS_song/Actor_15\n",
            "[]\n",
            "/content/drive/MyDrive/RAVDESS_song/Actor_16\n",
            "[]\n",
            "/content/drive/MyDrive/RAVDESS_song/Actor_17\n",
            "[]\n",
            "/content/drive/MyDrive/RAVDESS_song/Actor_18\n",
            "[]\n",
            "/content/drive/MyDrive/RAVDESS_song/Actor_19\n",
            "[]\n",
            "/content/drive/MyDrive/RAVDESS_song/Actor_21\n",
            "[]\n",
            "/content/drive/MyDrive/RAVDESS_song/Actor_22\n",
            "[]\n",
            "/content/drive/MyDrive/RAVDESS_song/Actor_23\n",
            "[]\n",
            "/content/drive/MyDrive/RAVDESS_song/Actor_09\n",
            "[]\n",
            "/content/drive/MyDrive/RAVDESS_song/Actor_24\n",
            "[]\n",
            "/content/drive/MyDrive/RAVDESS_song/Actor_04\n",
            "[]\n",
            "/content/drive/MyDrive/RAVDESS_song/Actor_08\n",
            "[]\n",
            "/content/drive/MyDrive/RAVDESS_song/Actor_03\n",
            "[]\n",
            "/content/drive/MyDrive/RAVDESS_song/Actor_02\n",
            "[]\n",
            "/content/drive/MyDrive/RAVDESS_song/Actor_06\n",
            "[]\n",
            "/content/drive/MyDrive/RAVDESS_song/Actor_05\n",
            "[]\n",
            "/content/drive/MyDrive/RAVDESS_song/Actor_01\n",
            "[]\n",
            "/content/drive/MyDrive/RAVDESS_song/Actor_07\n",
            "[]\n",
            "/content/drive/MyDrive/RAVDESS_song/Actor_20\n",
            "['Actor_05', 'Actor_08', 'Actor_10', 'Actor_04', 'Actor_09', 'Actor_14', 'Actor_12', 'Actor_13', 'Actor_11', 'Actor_06', 'Actor_24', 'Actor_07', 'Actor_23', 'Actor_22', 'Actor_21', 'Actor_20', 'Actor_02', 'Actor_19', 'Actor_18', 'Actor_17', 'Actor_16', 'Actor_15', 'Actor_03', 'Actor_01']\n",
            "/content/drive/MyDrive/RAVDESS_speech\n",
            "[]\n",
            "/content/drive/MyDrive/RAVDESS_speech/Actor_05\n",
            "[]\n",
            "/content/drive/MyDrive/RAVDESS_speech/Actor_08\n",
            "[]\n",
            "/content/drive/MyDrive/RAVDESS_speech/Actor_10\n",
            "[]\n",
            "/content/drive/MyDrive/RAVDESS_speech/Actor_04\n",
            "[]\n",
            "/content/drive/MyDrive/RAVDESS_speech/Actor_09\n",
            "[]\n",
            "/content/drive/MyDrive/RAVDESS_speech/Actor_14\n",
            "[]\n",
            "/content/drive/MyDrive/RAVDESS_speech/Actor_12\n",
            "[]\n",
            "/content/drive/MyDrive/RAVDESS_speech/Actor_13\n",
            "[]\n",
            "/content/drive/MyDrive/RAVDESS_speech/Actor_11\n",
            "[]\n",
            "/content/drive/MyDrive/RAVDESS_speech/Actor_06\n",
            "[]\n",
            "/content/drive/MyDrive/RAVDESS_speech/Actor_24\n",
            "[]\n",
            "/content/drive/MyDrive/RAVDESS_speech/Actor_07\n",
            "[]\n",
            "/content/drive/MyDrive/RAVDESS_speech/Actor_23\n",
            "[]\n",
            "/content/drive/MyDrive/RAVDESS_speech/Actor_22\n",
            "[]\n",
            "/content/drive/MyDrive/RAVDESS_speech/Actor_21\n",
            "[]\n",
            "/content/drive/MyDrive/RAVDESS_speech/Actor_20\n",
            "[]\n",
            "/content/drive/MyDrive/RAVDESS_speech/Actor_02\n",
            "[]\n",
            "/content/drive/MyDrive/RAVDESS_speech/Actor_19\n",
            "[]\n",
            "/content/drive/MyDrive/RAVDESS_speech/Actor_18\n",
            "[]\n",
            "/content/drive/MyDrive/RAVDESS_speech/Actor_17\n",
            "[]\n",
            "/content/drive/MyDrive/RAVDESS_speech/Actor_16\n",
            "[]\n",
            "/content/drive/MyDrive/RAVDESS_speech/Actor_15\n",
            "[]\n",
            "/content/drive/MyDrive/RAVDESS_speech/Actor_03\n",
            "[]\n",
            "/content/drive/MyDrive/RAVDESS_speech/Actor_01\n",
            "--- Data loaded. Loading time: 204.12607288360596 seconds ---\n"
          ]
        }
      ]
    },
    {
      "cell_type": "code",
      "source": [
        "count"
      ],
      "metadata": {
        "id": "Ltlhi25L2AI5",
        "colab": {
          "base_uri": "https://localhost:8080/"
        },
        "outputId": "92f64156-e27a-4381-e558-85094fc41c56"
      },
      "execution_count": 5,
      "outputs": [
        {
          "output_type": "execute_result",
          "data": {
            "text/plain": [
              "2068"
            ]
          },
          "metadata": {},
          "execution_count": 5
        }
      ]
    },
    {
      "cell_type": "code",
      "source": [
        "from numpy.core.fromnumeric import size\n",
        "size(lst)"
      ],
      "metadata": {
        "id": "HMOH7d7mzHB7",
        "colab": {
          "base_uri": "https://localhost:8080/"
        },
        "outputId": "454c6795-9625-4c4a-aae1-8816c01db98f"
      },
      "execution_count": 6,
      "outputs": [
        {
          "output_type": "stream",
          "name": "stderr",
          "text": [
            "/usr/local/lib/python3.7/dist-packages/numpy/core/fromnumeric.py:3208: VisibleDeprecationWarning:\n",
            "\n",
            "Creating an ndarray from ragged nested sequences (which is a list-or-tuple of lists-or-tuples-or ndarrays with different lengths or shapes) is deprecated. If you meant to do this, you must specify 'dtype=object' when creating the ndarray.\n",
            "\n"
          ]
        },
        {
          "output_type": "execute_result",
          "data": {
            "text/plain": [
              "4136"
            ]
          },
          "metadata": {},
          "execution_count": 6
        }
      ]
    },
    {
      "cell_type": "code",
      "source": [
        "# Creating X and y: zip makes a list of all the first elements, and a list of all the second elements.\n",
        "X, y = zip(*lst)"
      ],
      "metadata": {
        "id": "ocdL7tSTBoMt"
      },
      "execution_count": 7,
      "outputs": []
    },
    {
      "cell_type": "code",
      "source": [
        "import numpy as np\n",
        "X = np.asarray(X)\n",
        "y = np.asarray(y)\n",
        "X.shape, y.shape"
      ],
      "metadata": {
        "id": "vHKwUGTbBtnF",
        "colab": {
          "base_uri": "https://localhost:8080/"
        },
        "outputId": "52b5b212-692b-49e9-b357-6d6f08d864df"
      },
      "execution_count": 8,
      "outputs": [
        {
          "output_type": "execute_result",
          "data": {
            "text/plain": [
              "((2068, 40), (2068,))"
            ]
          },
          "metadata": {},
          "execution_count": 8
        }
      ]
    },
    {
      "cell_type": "code",
      "source": [
        "X.shape"
      ],
      "metadata": {
        "id": "2sUCtbfMztE5",
        "colab": {
          "base_uri": "https://localhost:8080/"
        },
        "outputId": "e14844a2-b3c4-439c-e82f-783c1f91504a"
      },
      "execution_count": 9,
      "outputs": [
        {
          "output_type": "execute_result",
          "data": {
            "text/plain": [
              "(2068, 40)"
            ]
          },
          "metadata": {},
          "execution_count": 9
        }
      ]
    },
    {
      "cell_type": "code",
      "source": [
        "# # Saving joblib files to not load them again with the loop above\n",
        "\n",
        "# import joblib\n",
        "\n",
        "# X_name = 'x.joblib'\n",
        "# y_name = 'y.joblib'\n",
        "# save_dir = '/content/drive/My Drive/graduation project/audio/paper_code/features'\n",
        "\n",
        "# savedX = joblib.dump(X, os.path.join(save_dir, X_name))\n",
        "# savedy = joblib.dump(y, os.path.join(save_dir, y_name))"
      ],
      "metadata": {
        "id": "UCzic8rlDcuk"
      },
      "execution_count": 10,
      "outputs": []
    },
    {
      "cell_type": "code",
      "source": [
        "# # Loading saved models\n",
        "# import joblib\n",
        "# X = joblib.load('/content/drive/My Drive/graduation project/audio/paper_code/features/x.joblib')\n",
        "# y = joblib.load('/content/drive/My Drive/graduation project/audio/paper_code/features/y.joblib')"
      ],
      "metadata": {
        "id": "Q35CN6zDrzg1"
      },
      "execution_count": 11,
      "outputs": []
    },
    {
      "cell_type": "code",
      "source": [
        "X.shape"
      ],
      "metadata": {
        "colab": {
          "base_uri": "https://localhost:8080/"
        },
        "id": "7PSTurzjCo5K",
        "outputId": "d213d88d-ce24-4cb7-8fe3-c1f3c15c8ce2"
      },
      "execution_count": 12,
      "outputs": [
        {
          "output_type": "execute_result",
          "data": {
            "text/plain": [
              "(2068, 40)"
            ]
          },
          "metadata": {},
          "execution_count": 12
        }
      ]
    },
    {
      "cell_type": "code",
      "source": [
        "from sklearn.model_selection import train_test_split\n",
        "\n",
        "X_train, X_test, y_train, y_test = train_test_split(X,y, test_size=0.2,train_size=0.8, random_state=42)\n",
        "X_valid, X_test, y_valid, y_test = train_test_split(X_test,y_test, test_size=0.5,train_size=0.5, random_state=42)"
      ],
      "metadata": {
        "id": "Ai4Fy5cPCiq1"
      },
      "execution_count": 13,
      "outputs": []
    },
    {
      "cell_type": "code",
      "source": [
        "import numpy as np\n",
        "x_traincnn = np.expand_dims(X_train, axis=2)\n",
        "x_testcnn = np.expand_dims(X_test, axis=2)\n",
        "X_valid= np.expand_dims(X_valid, axis=2)"
      ],
      "metadata": {
        "id": "tp1Fm5K3CEXu"
      },
      "execution_count": 14,
      "outputs": []
    },
    {
      "cell_type": "code",
      "source": [
        "x_traincnn.shape, x_testcnn.shape , X_valid.shape"
      ],
      "metadata": {
        "id": "RI0MxoIPBws5",
        "colab": {
          "base_uri": "https://localhost:8080/"
        },
        "outputId": "2aa0962f-a4d1-4f08-ae28-139e10fec529"
      },
      "execution_count": 15,
      "outputs": [
        {
          "output_type": "execute_result",
          "data": {
            "text/plain": [
              "((1654, 40, 1), (207, 40, 1), (207, 40, 1))"
            ]
          },
          "metadata": {},
          "execution_count": 15
        }
      ]
    },
    {
      "cell_type": "code",
      "source": [
        "!pip install tensorflow"
      ],
      "metadata": {
        "id": "goxL4Y3jKICC",
        "colab": {
          "base_uri": "https://localhost:8080/"
        },
        "outputId": "8cdd7ae3-35ee-446e-ab94-1a6e2f958331"
      },
      "execution_count": 16,
      "outputs": [
        {
          "output_type": "stream",
          "name": "stdout",
          "text": [
            "Looking in indexes: https://pypi.org/simple, https://us-python.pkg.dev/colab-wheels/public/simple/\n",
            "Requirement already satisfied: tensorflow in /usr/local/lib/python3.7/dist-packages (2.8.2+zzzcolab20220527125636)\n",
            "Requirement already satisfied: grpcio<2.0,>=1.24.3 in /usr/local/lib/python3.7/dist-packages (from tensorflow) (1.46.3)\n",
            "Requirement already satisfied: absl-py>=0.4.0 in /usr/local/lib/python3.7/dist-packages (from tensorflow) (1.0.0)\n",
            "Requirement already satisfied: numpy>=1.20 in /usr/local/lib/python3.7/dist-packages (from tensorflow) (1.21.6)\n",
            "Requirement already satisfied: wrapt>=1.11.0 in /usr/local/lib/python3.7/dist-packages (from tensorflow) (1.14.1)\n",
            "Requirement already satisfied: libclang>=9.0.1 in /usr/local/lib/python3.7/dist-packages (from tensorflow) (14.0.1)\n",
            "Requirement already satisfied: h5py>=2.9.0 in /usr/local/lib/python3.7/dist-packages (from tensorflow) (3.1.0)\n",
            "Requirement already satisfied: gast>=0.2.1 in /usr/local/lib/python3.7/dist-packages (from tensorflow) (0.5.3)\n",
            "Requirement already satisfied: setuptools in /usr/local/lib/python3.7/dist-packages (from tensorflow) (57.4.0)\n",
            "Requirement already satisfied: protobuf<3.20,>=3.9.2 in /usr/local/lib/python3.7/dist-packages (from tensorflow) (3.17.3)\n",
            "Requirement already satisfied: google-pasta>=0.1.1 in /usr/local/lib/python3.7/dist-packages (from tensorflow) (0.2.0)\n",
            "Requirement already satisfied: opt-einsum>=2.3.2 in /usr/local/lib/python3.7/dist-packages (from tensorflow) (3.3.0)\n",
            "Requirement already satisfied: six>=1.12.0 in /usr/local/lib/python3.7/dist-packages (from tensorflow) (1.15.0)\n",
            "Requirement already satisfied: flatbuffers>=1.12 in /usr/local/lib/python3.7/dist-packages (from tensorflow) (2.0)\n",
            "Requirement already satisfied: typing-extensions>=3.6.6 in /usr/local/lib/python3.7/dist-packages (from tensorflow) (4.2.0)\n",
            "Requirement already satisfied: keras<2.9,>=2.8.0rc0 in /usr/local/lib/python3.7/dist-packages (from tensorflow) (2.8.0)\n",
            "Requirement already satisfied: keras-preprocessing>=1.1.1 in /usr/local/lib/python3.7/dist-packages (from tensorflow) (1.1.2)\n",
            "Requirement already satisfied: tensorboard<2.9,>=2.8 in /usr/local/lib/python3.7/dist-packages (from tensorflow) (2.8.0)\n",
            "Requirement already satisfied: tensorflow-estimator<2.9,>=2.8 in /usr/local/lib/python3.7/dist-packages (from tensorflow) (2.8.0)\n",
            "Requirement already satisfied: tensorflow-io-gcs-filesystem>=0.23.1 in /usr/local/lib/python3.7/dist-packages (from tensorflow) (0.26.0)\n",
            "Requirement already satisfied: termcolor>=1.1.0 in /usr/local/lib/python3.7/dist-packages (from tensorflow) (1.1.0)\n",
            "Requirement already satisfied: astunparse>=1.6.0 in /usr/local/lib/python3.7/dist-packages (from tensorflow) (1.6.3)\n",
            "Requirement already satisfied: wheel<1.0,>=0.23.0 in /usr/local/lib/python3.7/dist-packages (from astunparse>=1.6.0->tensorflow) (0.37.1)\n",
            "Requirement already satisfied: cached-property in /usr/local/lib/python3.7/dist-packages (from h5py>=2.9.0->tensorflow) (1.5.2)\n",
            "Requirement already satisfied: google-auth<3,>=1.6.3 in /usr/local/lib/python3.7/dist-packages (from tensorboard<2.9,>=2.8->tensorflow) (1.35.0)\n",
            "Requirement already satisfied: markdown>=2.6.8 in /usr/local/lib/python3.7/dist-packages (from tensorboard<2.9,>=2.8->tensorflow) (3.3.7)\n",
            "Requirement already satisfied: requests<3,>=2.21.0 in /usr/local/lib/python3.7/dist-packages (from tensorboard<2.9,>=2.8->tensorflow) (2.23.0)\n",
            "Requirement already satisfied: tensorboard-plugin-wit>=1.6.0 in /usr/local/lib/python3.7/dist-packages (from tensorboard<2.9,>=2.8->tensorflow) (1.8.1)\n",
            "Requirement already satisfied: tensorboard-data-server<0.7.0,>=0.6.0 in /usr/local/lib/python3.7/dist-packages (from tensorboard<2.9,>=2.8->tensorflow) (0.6.1)\n",
            "Requirement already satisfied: werkzeug>=0.11.15 in /usr/local/lib/python3.7/dist-packages (from tensorboard<2.9,>=2.8->tensorflow) (1.0.1)\n",
            "Requirement already satisfied: google-auth-oauthlib<0.5,>=0.4.1 in /usr/local/lib/python3.7/dist-packages (from tensorboard<2.9,>=2.8->tensorflow) (0.4.6)\n",
            "Requirement already satisfied: pyasn1-modules>=0.2.1 in /usr/local/lib/python3.7/dist-packages (from google-auth<3,>=1.6.3->tensorboard<2.9,>=2.8->tensorflow) (0.2.8)\n",
            "Requirement already satisfied: rsa<5,>=3.1.4 in /usr/local/lib/python3.7/dist-packages (from google-auth<3,>=1.6.3->tensorboard<2.9,>=2.8->tensorflow) (4.8)\n",
            "Requirement already satisfied: cachetools<5.0,>=2.0.0 in /usr/local/lib/python3.7/dist-packages (from google-auth<3,>=1.6.3->tensorboard<2.9,>=2.8->tensorflow) (4.2.4)\n",
            "Requirement already satisfied: requests-oauthlib>=0.7.0 in /usr/local/lib/python3.7/dist-packages (from google-auth-oauthlib<0.5,>=0.4.1->tensorboard<2.9,>=2.8->tensorflow) (1.3.1)\n",
            "Requirement already satisfied: importlib-metadata>=4.4 in /usr/local/lib/python3.7/dist-packages (from markdown>=2.6.8->tensorboard<2.9,>=2.8->tensorflow) (4.11.4)\n",
            "Requirement already satisfied: zipp>=0.5 in /usr/local/lib/python3.7/dist-packages (from importlib-metadata>=4.4->markdown>=2.6.8->tensorboard<2.9,>=2.8->tensorflow) (3.8.0)\n",
            "Requirement already satisfied: pyasn1<0.5.0,>=0.4.6 in /usr/local/lib/python3.7/dist-packages (from pyasn1-modules>=0.2.1->google-auth<3,>=1.6.3->tensorboard<2.9,>=2.8->tensorflow) (0.4.8)\n",
            "Requirement already satisfied: urllib3!=1.25.0,!=1.25.1,<1.26,>=1.21.1 in /usr/local/lib/python3.7/dist-packages (from requests<3,>=2.21.0->tensorboard<2.9,>=2.8->tensorflow) (1.24.3)\n",
            "Requirement already satisfied: idna<3,>=2.5 in /usr/local/lib/python3.7/dist-packages (from requests<3,>=2.21.0->tensorboard<2.9,>=2.8->tensorflow) (2.10)\n",
            "Requirement already satisfied: chardet<4,>=3.0.2 in /usr/local/lib/python3.7/dist-packages (from requests<3,>=2.21.0->tensorboard<2.9,>=2.8->tensorflow) (3.0.4)\n",
            "Requirement already satisfied: certifi>=2017.4.17 in /usr/local/lib/python3.7/dist-packages (from requests<3,>=2.21.0->tensorboard<2.9,>=2.8->tensorflow) (2022.5.18.1)\n",
            "Requirement already satisfied: oauthlib>=3.0.0 in /usr/local/lib/python3.7/dist-packages (from requests-oauthlib>=0.7.0->google-auth-oauthlib<0.5,>=0.4.1->tensorboard<2.9,>=2.8->tensorflow) (3.2.0)\n"
          ]
        }
      ]
    },
    {
      "cell_type": "code",
      "source": [
        "!pip install keras"
      ],
      "metadata": {
        "id": "EkcmN9UrKSxj",
        "colab": {
          "base_uri": "https://localhost:8080/"
        },
        "outputId": "fad24552-53e3-4816-90d3-f919cc87e96c"
      },
      "execution_count": 17,
      "outputs": [
        {
          "output_type": "stream",
          "name": "stdout",
          "text": [
            "Looking in indexes: https://pypi.org/simple, https://us-python.pkg.dev/colab-wheels/public/simple/\n",
            "Requirement already satisfied: keras in /usr/local/lib/python3.7/dist-packages (2.8.0)\n"
          ]
        }
      ]
    },
    {
      "cell_type": "code",
      "source": [
        "import keras\n",
        "import numpy as np\n",
        "import matplotlib.pyplot as plt\n",
        "import tensorflow as tf\n",
        "from keras.preprocessing import sequence\n",
        "from keras.models import Sequential\n",
        "from keras.layers import Dense, Embedding\n",
        "from tensorflow.keras.utils import to_categorical\n",
        "from keras.layers import Input, Flatten, Dropout, Activation\n",
        "from keras.layers import Conv1D, MaxPooling1D\n",
        "from keras.models import Model\n",
        "from keras.callbacks import ModelCheckpoint\n",
        "from tensorflow.keras import optimizers\n",
        "\n",
        "model = Sequential()\n",
        "\n",
        "model.add(Conv1D(128, 8,padding='same', #classifier.add(Convolution2D(64, (3, 3), padding = 'same', input_shape = (128, 128, 3), activation = 'relu'))\n",
        "                 input_shape=(40,1)))\n",
        "model.add(Activation('relu'))\n",
        "model.add(Dropout(0.3))\n",
        "model.add(MaxPooling1D(pool_size=(5)))\n",
        "\n",
        "\n",
        "model.add(Conv1D(256,8,padding='same',))\n",
        "model.add(Activation('relu'))\n",
        "model.add(Dropout(0.3))\n",
        "model.add(MaxPooling1D(pool_size=(5)))\n",
        "\n",
        "model.add(Flatten())\n",
        "\n",
        "model.add(Dense(256))\n",
        "model.add(Activation('relu'))\n",
        "model.add(Dense(256))\n",
        "model.add(Activation('relu'))\n",
        "\n",
        "model.add(Dense(6))\n",
        "model.add(Activation('softmax'))\n",
        "\n",
        "opt = tf.keras.optimizers.Adam(lr=0.0002)\n",
        "#opt = tf.keras.optimizers.RMSprop(lr=0.0001, rho=0.9, epsilon=1e-07, decay=0.0)\n",
        "#opt = tf.keras.optimizers.SGD(lr=0.001, momentum=0.0, decay=0.0, nesterov=False)"
      ],
      "metadata": {
        "id": "g74fXWVAC4Cr",
        "colab": {
          "base_uri": "https://localhost:8080/"
        },
        "outputId": "929560db-3c5f-4cba-e83e-548f5f3e150f"
      },
      "execution_count": 18,
      "outputs": [
        {
          "output_type": "stream",
          "name": "stderr",
          "text": [
            "/usr/local/lib/python3.7/dist-packages/keras/optimizer_v2/adam.py:105: UserWarning:\n",
            "\n",
            "The `lr` argument is deprecated, use `learning_rate` instead.\n",
            "\n"
          ]
        }
      ]
    },
    {
      "cell_type": "code",
      "source": [
        "model.summary()"
      ],
      "metadata": {
        "colab": {
          "base_uri": "https://localhost:8080/"
        },
        "id": "H6ukOxAGC_I4",
        "outputId": "96adaa3d-8ddd-4f48-8c19-11b80098fc08"
      },
      "execution_count": 19,
      "outputs": [
        {
          "output_type": "stream",
          "name": "stdout",
          "text": [
            "Model: \"sequential\"\n",
            "_________________________________________________________________\n",
            " Layer (type)                Output Shape              Param #   \n",
            "=================================================================\n",
            " conv1d (Conv1D)             (None, 40, 128)           1152      \n",
            "                                                                 \n",
            " activation (Activation)     (None, 40, 128)           0         \n",
            "                                                                 \n",
            " dropout (Dropout)           (None, 40, 128)           0         \n",
            "                                                                 \n",
            " max_pooling1d (MaxPooling1D  (None, 8, 128)           0         \n",
            " )                                                               \n",
            "                                                                 \n",
            " conv1d_1 (Conv1D)           (None, 8, 256)            262400    \n",
            "                                                                 \n",
            " activation_1 (Activation)   (None, 8, 256)            0         \n",
            "                                                                 \n",
            " dropout_1 (Dropout)         (None, 8, 256)            0         \n",
            "                                                                 \n",
            " max_pooling1d_1 (MaxPooling  (None, 1, 256)           0         \n",
            " 1D)                                                             \n",
            "                                                                 \n",
            " flatten (Flatten)           (None, 256)               0         \n",
            "                                                                 \n",
            " dense (Dense)               (None, 256)               65792     \n",
            "                                                                 \n",
            " activation_2 (Activation)   (None, 256)               0         \n",
            "                                                                 \n",
            " dense_1 (Dense)             (None, 256)               65792     \n",
            "                                                                 \n",
            " activation_3 (Activation)   (None, 256)               0         \n",
            "                                                                 \n",
            " dense_2 (Dense)             (None, 6)                 1542      \n",
            "                                                                 \n",
            " activation_4 (Activation)   (None, 6)                 0         \n",
            "                                                                 \n",
            "=================================================================\n",
            "Total params: 396,678\n",
            "Trainable params: 396,678\n",
            "Non-trainable params: 0\n",
            "_________________________________________________________________\n"
          ]
        }
      ]
    },
    {
      "cell_type": "code",
      "source": [
        "model.compile(loss='sparse_categorical_crossentropy',\n",
        "              optimizer=opt,\n",
        "              metrics=['accuracy'])"
      ],
      "metadata": {
        "id": "AbMlLNk4DCBM"
      },
      "execution_count": 20,
      "outputs": []
    },
    {
      "cell_type": "code",
      "source": [
        "#cnnhistory=model.fit(x_traincnn, y_train, batch_size=16, epochs=700, validation_data=(x_testcnn, y_test))\n",
        "cnnhistory=model.fit(x_traincnn, y_train, batch_size=16, epochs=500 , validation_data=(X_valid, y_valid))"
      ],
      "metadata": {
        "colab": {
          "base_uri": "https://localhost:8080/"
        },
        "id": "RI1v2AuADFhy",
        "outputId": "bd3f9a9f-86ba-4e50-d76c-92cfa2c3bfc7"
      },
      "execution_count": 21,
      "outputs": [
        {
          "output_type": "stream",
          "name": "stdout",
          "text": [
            "Epoch 1/500\n",
            "104/104 [==============================] - 4s 11ms/step - loss: 4.3540 - accuracy: 0.1898 - val_loss: 1.8713 - val_accuracy: 0.1739\n",
            "Epoch 2/500\n",
            "104/104 [==============================] - 1s 7ms/step - loss: 2.4024 - accuracy: 0.1886 - val_loss: 1.6948 - val_accuracy: 0.2464\n",
            "Epoch 3/500\n",
            "104/104 [==============================] - 1s 8ms/step - loss: 2.0660 - accuracy: 0.2128 - val_loss: 1.6869 - val_accuracy: 0.2947\n",
            "Epoch 4/500\n",
            "104/104 [==============================] - 1s 7ms/step - loss: 1.9340 - accuracy: 0.2152 - val_loss: 1.7273 - val_accuracy: 0.2850\n",
            "Epoch 5/500\n",
            "104/104 [==============================] - 1s 8ms/step - loss: 1.8280 - accuracy: 0.2352 - val_loss: 1.6643 - val_accuracy: 0.2995\n",
            "Epoch 6/500\n",
            "104/104 [==============================] - 1s 8ms/step - loss: 1.8305 - accuracy: 0.2467 - val_loss: 1.7072 - val_accuracy: 0.2947\n",
            "Epoch 7/500\n",
            "104/104 [==============================] - 1s 7ms/step - loss: 1.8298 - accuracy: 0.2461 - val_loss: 1.7416 - val_accuracy: 0.2077\n",
            "Epoch 8/500\n",
            "104/104 [==============================] - 1s 8ms/step - loss: 1.7795 - accuracy: 0.2485 - val_loss: 1.6512 - val_accuracy: 0.3237\n",
            "Epoch 9/500\n",
            "104/104 [==============================] - 1s 7ms/step - loss: 1.7223 - accuracy: 0.2799 - val_loss: 1.6182 - val_accuracy: 0.3285\n",
            "Epoch 10/500\n",
            "104/104 [==============================] - 1s 8ms/step - loss: 1.7168 - accuracy: 0.2811 - val_loss: 1.6678 - val_accuracy: 0.2754\n",
            "Epoch 11/500\n",
            "104/104 [==============================] - 1s 7ms/step - loss: 1.6809 - accuracy: 0.2817 - val_loss: 1.6396 - val_accuracy: 0.3188\n",
            "Epoch 12/500\n",
            "104/104 [==============================] - 1s 7ms/step - loss: 1.6736 - accuracy: 0.2799 - val_loss: 1.5677 - val_accuracy: 0.3527\n",
            "Epoch 13/500\n",
            "104/104 [==============================] - 1s 8ms/step - loss: 1.6441 - accuracy: 0.3023 - val_loss: 1.5973 - val_accuracy: 0.3333\n",
            "Epoch 14/500\n",
            "104/104 [==============================] - 1s 8ms/step - loss: 1.6252 - accuracy: 0.3204 - val_loss: 1.5741 - val_accuracy: 0.3575\n",
            "Epoch 15/500\n",
            "104/104 [==============================] - 1s 8ms/step - loss: 1.6061 - accuracy: 0.3295 - val_loss: 1.5590 - val_accuracy: 0.3768\n",
            "Epoch 16/500\n",
            "104/104 [==============================] - 1s 8ms/step - loss: 1.5851 - accuracy: 0.3362 - val_loss: 1.5107 - val_accuracy: 0.4106\n",
            "Epoch 17/500\n",
            "104/104 [==============================] - 1s 8ms/step - loss: 1.5730 - accuracy: 0.3422 - val_loss: 1.4811 - val_accuracy: 0.3865\n",
            "Epoch 18/500\n",
            "104/104 [==============================] - 1s 7ms/step - loss: 1.5255 - accuracy: 0.3682 - val_loss: 1.5152 - val_accuracy: 0.3720\n",
            "Epoch 19/500\n",
            "104/104 [==============================] - 1s 8ms/step - loss: 1.5163 - accuracy: 0.3549 - val_loss: 1.4318 - val_accuracy: 0.4589\n",
            "Epoch 20/500\n",
            "104/104 [==============================] - 1s 9ms/step - loss: 1.4470 - accuracy: 0.4021 - val_loss: 1.4498 - val_accuracy: 0.4493\n",
            "Epoch 21/500\n",
            "104/104 [==============================] - 1s 8ms/step - loss: 1.4352 - accuracy: 0.4081 - val_loss: 1.3812 - val_accuracy: 0.4493\n",
            "Epoch 22/500\n",
            "104/104 [==============================] - 1s 7ms/step - loss: 1.4171 - accuracy: 0.4148 - val_loss: 1.3486 - val_accuracy: 0.4251\n",
            "Epoch 23/500\n",
            "104/104 [==============================] - 1s 8ms/step - loss: 1.3910 - accuracy: 0.4238 - val_loss: 1.2940 - val_accuracy: 0.5459\n",
            "Epoch 24/500\n",
            "104/104 [==============================] - 1s 9ms/step - loss: 1.3827 - accuracy: 0.4256 - val_loss: 1.3172 - val_accuracy: 0.5169\n",
            "Epoch 25/500\n",
            "104/104 [==============================] - 1s 8ms/step - loss: 1.3327 - accuracy: 0.4395 - val_loss: 1.2270 - val_accuracy: 0.5459\n",
            "Epoch 26/500\n",
            "104/104 [==============================] - 1s 8ms/step - loss: 1.3078 - accuracy: 0.4559 - val_loss: 1.2136 - val_accuracy: 0.5700\n",
            "Epoch 27/500\n",
            "104/104 [==============================] - 1s 7ms/step - loss: 1.2970 - accuracy: 0.4553 - val_loss: 1.2474 - val_accuracy: 0.5362\n",
            "Epoch 28/500\n",
            "104/104 [==============================] - 1s 7ms/step - loss: 1.2699 - accuracy: 0.4867 - val_loss: 1.1729 - val_accuracy: 0.5797\n",
            "Epoch 29/500\n",
            "104/104 [==============================] - 1s 7ms/step - loss: 1.2396 - accuracy: 0.5139 - val_loss: 1.1937 - val_accuracy: 0.5362\n",
            "Epoch 30/500\n",
            "104/104 [==============================] - 1s 8ms/step - loss: 1.2146 - accuracy: 0.5000 - val_loss: 1.2052 - val_accuracy: 0.5556\n",
            "Epoch 31/500\n",
            "104/104 [==============================] - 1s 8ms/step - loss: 1.2326 - accuracy: 0.4873 - val_loss: 1.1487 - val_accuracy: 0.5556\n",
            "Epoch 32/500\n",
            "104/104 [==============================] - 1s 8ms/step - loss: 1.2305 - accuracy: 0.4825 - val_loss: 1.2277 - val_accuracy: 0.5459\n",
            "Epoch 33/500\n",
            "104/104 [==============================] - 1s 8ms/step - loss: 1.1891 - accuracy: 0.5206 - val_loss: 1.1144 - val_accuracy: 0.6087\n",
            "Epoch 34/500\n",
            "104/104 [==============================] - 1s 6ms/step - loss: 1.1777 - accuracy: 0.5218 - val_loss: 1.1118 - val_accuracy: 0.6087\n",
            "Epoch 35/500\n",
            "104/104 [==============================] - 1s 8ms/step - loss: 1.1468 - accuracy: 0.5308 - val_loss: 1.1049 - val_accuracy: 0.5845\n",
            "Epoch 36/500\n",
            "104/104 [==============================] - 1s 5ms/step - loss: 1.1400 - accuracy: 0.5260 - val_loss: 1.0688 - val_accuracy: 0.6280\n",
            "Epoch 37/500\n",
            "104/104 [==============================] - 0s 4ms/step - loss: 1.1171 - accuracy: 0.5496 - val_loss: 1.1006 - val_accuracy: 0.5556\n",
            "Epoch 38/500\n",
            "104/104 [==============================] - 0s 5ms/step - loss: 1.1093 - accuracy: 0.5357 - val_loss: 1.0889 - val_accuracy: 0.5121\n",
            "Epoch 39/500\n",
            "104/104 [==============================] - 0s 5ms/step - loss: 1.0941 - accuracy: 0.5538 - val_loss: 1.0655 - val_accuracy: 0.5845\n",
            "Epoch 40/500\n",
            "104/104 [==============================] - 0s 4ms/step - loss: 1.0687 - accuracy: 0.5641 - val_loss: 1.0144 - val_accuracy: 0.6425\n",
            "Epoch 41/500\n",
            "104/104 [==============================] - 0s 4ms/step - loss: 1.0671 - accuracy: 0.5580 - val_loss: 1.0365 - val_accuracy: 0.5700\n",
            "Epoch 42/500\n",
            "104/104 [==============================] - 0s 4ms/step - loss: 1.0305 - accuracy: 0.5828 - val_loss: 1.0168 - val_accuracy: 0.6087\n",
            "Epoch 43/500\n",
            "104/104 [==============================] - 0s 4ms/step - loss: 1.0364 - accuracy: 0.5683 - val_loss: 1.0004 - val_accuracy: 0.6184\n",
            "Epoch 44/500\n",
            "104/104 [==============================] - 0s 5ms/step - loss: 1.0174 - accuracy: 0.5871 - val_loss: 1.0203 - val_accuracy: 0.5797\n",
            "Epoch 45/500\n",
            "104/104 [==============================] - 0s 5ms/step - loss: 0.9894 - accuracy: 0.5852 - val_loss: 1.0030 - val_accuracy: 0.5749\n",
            "Epoch 46/500\n",
            "104/104 [==============================] - 0s 4ms/step - loss: 1.0016 - accuracy: 0.5834 - val_loss: 0.9901 - val_accuracy: 0.6135\n",
            "Epoch 47/500\n",
            "104/104 [==============================] - 0s 4ms/step - loss: 0.9780 - accuracy: 0.6167 - val_loss: 0.9692 - val_accuracy: 0.6087\n",
            "Epoch 48/500\n",
            "104/104 [==============================] - 0s 4ms/step - loss: 0.9522 - accuracy: 0.6082 - val_loss: 0.9715 - val_accuracy: 0.5894\n",
            "Epoch 49/500\n",
            "104/104 [==============================] - 0s 5ms/step - loss: 0.9593 - accuracy: 0.5943 - val_loss: 0.9652 - val_accuracy: 0.6377\n",
            "Epoch 50/500\n",
            "104/104 [==============================] - 0s 5ms/step - loss: 0.9555 - accuracy: 0.6112 - val_loss: 0.9486 - val_accuracy: 0.6087\n",
            "Epoch 51/500\n",
            "104/104 [==============================] - 0s 4ms/step - loss: 0.9354 - accuracy: 0.6191 - val_loss: 0.9589 - val_accuracy: 0.6184\n",
            "Epoch 52/500\n",
            "104/104 [==============================] - 0s 5ms/step - loss: 0.9049 - accuracy: 0.6403 - val_loss: 0.9419 - val_accuracy: 0.6473\n",
            "Epoch 53/500\n",
            "104/104 [==============================] - 0s 4ms/step - loss: 0.8933 - accuracy: 0.6451 - val_loss: 0.9422 - val_accuracy: 0.6135\n",
            "Epoch 54/500\n",
            "104/104 [==============================] - 0s 4ms/step - loss: 0.9219 - accuracy: 0.6185 - val_loss: 1.0039 - val_accuracy: 0.5797\n",
            "Epoch 55/500\n",
            "104/104 [==============================] - 0s 4ms/step - loss: 0.8912 - accuracy: 0.6378 - val_loss: 0.9804 - val_accuracy: 0.5990\n",
            "Epoch 56/500\n",
            "104/104 [==============================] - 0s 4ms/step - loss: 0.8666 - accuracy: 0.6475 - val_loss: 0.8832 - val_accuracy: 0.6329\n",
            "Epoch 57/500\n",
            "104/104 [==============================] - 0s 4ms/step - loss: 0.8594 - accuracy: 0.6475 - val_loss: 0.9024 - val_accuracy: 0.6329\n",
            "Epoch 58/500\n",
            "104/104 [==============================] - 0s 5ms/step - loss: 0.8748 - accuracy: 0.6487 - val_loss: 0.9323 - val_accuracy: 0.6425\n",
            "Epoch 59/500\n",
            "104/104 [==============================] - 0s 4ms/step - loss: 0.8570 - accuracy: 0.6608 - val_loss: 0.9016 - val_accuracy: 0.6473\n",
            "Epoch 60/500\n",
            "104/104 [==============================] - 0s 4ms/step - loss: 0.8346 - accuracy: 0.6596 - val_loss: 0.8949 - val_accuracy: 0.6232\n",
            "Epoch 61/500\n",
            "104/104 [==============================] - 0s 4ms/step - loss: 0.8647 - accuracy: 0.6566 - val_loss: 0.8976 - val_accuracy: 0.6329\n",
            "Epoch 62/500\n",
            "104/104 [==============================] - 0s 4ms/step - loss: 0.8202 - accuracy: 0.6687 - val_loss: 0.9578 - val_accuracy: 0.6280\n",
            "Epoch 63/500\n",
            "104/104 [==============================] - 0s 4ms/step - loss: 0.8487 - accuracy: 0.6602 - val_loss: 0.9102 - val_accuracy: 0.6473\n",
            "Epoch 64/500\n",
            "104/104 [==============================] - 0s 4ms/step - loss: 0.7972 - accuracy: 0.6790 - val_loss: 0.8472 - val_accuracy: 0.6715\n",
            "Epoch 65/500\n",
            "104/104 [==============================] - 0s 5ms/step - loss: 0.7893 - accuracy: 0.6747 - val_loss: 0.8691 - val_accuracy: 0.6570\n",
            "Epoch 66/500\n",
            "104/104 [==============================] - 0s 5ms/step - loss: 0.7841 - accuracy: 0.7001 - val_loss: 0.8629 - val_accuracy: 0.6522\n",
            "Epoch 67/500\n",
            "104/104 [==============================] - 0s 5ms/step - loss: 0.7916 - accuracy: 0.6771 - val_loss: 0.8908 - val_accuracy: 0.6522\n",
            "Epoch 68/500\n",
            "104/104 [==============================] - 0s 5ms/step - loss: 0.7971 - accuracy: 0.6826 - val_loss: 0.8669 - val_accuracy: 0.6667\n",
            "Epoch 69/500\n",
            "104/104 [==============================] - 0s 4ms/step - loss: 0.7847 - accuracy: 0.6771 - val_loss: 0.8760 - val_accuracy: 0.6618\n",
            "Epoch 70/500\n",
            "104/104 [==============================] - 0s 5ms/step - loss: 0.7749 - accuracy: 0.6832 - val_loss: 0.8555 - val_accuracy: 0.6570\n",
            "Epoch 71/500\n",
            "104/104 [==============================] - 0s 4ms/step - loss: 0.7413 - accuracy: 0.7068 - val_loss: 0.8500 - val_accuracy: 0.6522\n",
            "Epoch 72/500\n",
            "104/104 [==============================] - 0s 4ms/step - loss: 0.7579 - accuracy: 0.6935 - val_loss: 0.8270 - val_accuracy: 0.6763\n",
            "Epoch 73/500\n",
            "104/104 [==============================] - 0s 4ms/step - loss: 0.7202 - accuracy: 0.7044 - val_loss: 0.8730 - val_accuracy: 0.6425\n",
            "Epoch 74/500\n",
            "104/104 [==============================] - 0s 5ms/step - loss: 0.7287 - accuracy: 0.7110 - val_loss: 0.8340 - val_accuracy: 0.6667\n",
            "Epoch 75/500\n",
            "104/104 [==============================] - 0s 5ms/step - loss: 0.7225 - accuracy: 0.7116 - val_loss: 0.8367 - val_accuracy: 0.6522\n",
            "Epoch 76/500\n",
            "104/104 [==============================] - 0s 4ms/step - loss: 0.7371 - accuracy: 0.7062 - val_loss: 0.8381 - val_accuracy: 0.6667\n",
            "Epoch 77/500\n",
            "104/104 [==============================] - 0s 4ms/step - loss: 0.7264 - accuracy: 0.7092 - val_loss: 0.7963 - val_accuracy: 0.6667\n",
            "Epoch 78/500\n",
            "104/104 [==============================] - 0s 5ms/step - loss: 0.7365 - accuracy: 0.7031 - val_loss: 0.8214 - val_accuracy: 0.6908\n",
            "Epoch 79/500\n",
            "104/104 [==============================] - 0s 5ms/step - loss: 0.7188 - accuracy: 0.7170 - val_loss: 0.8070 - val_accuracy: 0.6763\n",
            "Epoch 80/500\n",
            "104/104 [==============================] - 0s 5ms/step - loss: 0.6908 - accuracy: 0.7285 - val_loss: 0.7863 - val_accuracy: 0.6570\n",
            "Epoch 81/500\n",
            "104/104 [==============================] - 0s 4ms/step - loss: 0.6778 - accuracy: 0.7237 - val_loss: 0.7906 - val_accuracy: 0.6715\n",
            "Epoch 82/500\n",
            "104/104 [==============================] - 0s 4ms/step - loss: 0.7032 - accuracy: 0.7243 - val_loss: 0.8036 - val_accuracy: 0.6812\n",
            "Epoch 83/500\n",
            "104/104 [==============================] - 0s 5ms/step - loss: 0.6882 - accuracy: 0.7297 - val_loss: 0.8138 - val_accuracy: 0.6570\n",
            "Epoch 84/500\n",
            "104/104 [==============================] - 0s 5ms/step - loss: 0.6691 - accuracy: 0.7249 - val_loss: 0.8054 - val_accuracy: 0.6667\n",
            "Epoch 85/500\n",
            "104/104 [==============================] - 0s 5ms/step - loss: 0.6746 - accuracy: 0.7346 - val_loss: 0.8437 - val_accuracy: 0.6425\n",
            "Epoch 86/500\n",
            "104/104 [==============================] - 0s 5ms/step - loss: 0.6757 - accuracy: 0.7364 - val_loss: 0.8162 - val_accuracy: 0.6667\n",
            "Epoch 87/500\n",
            "104/104 [==============================] - 0s 5ms/step - loss: 0.6355 - accuracy: 0.7449 - val_loss: 0.7662 - val_accuracy: 0.7005\n",
            "Epoch 88/500\n",
            "104/104 [==============================] - 0s 4ms/step - loss: 0.6362 - accuracy: 0.7437 - val_loss: 0.7949 - val_accuracy: 0.6812\n",
            "Epoch 89/500\n",
            "104/104 [==============================] - 0s 4ms/step - loss: 0.6327 - accuracy: 0.7479 - val_loss: 0.7769 - val_accuracy: 0.7101\n",
            "Epoch 90/500\n",
            "104/104 [==============================] - 0s 5ms/step - loss: 0.6458 - accuracy: 0.7437 - val_loss: 0.7772 - val_accuracy: 0.6522\n",
            "Epoch 91/500\n",
            "104/104 [==============================] - 0s 5ms/step - loss: 0.6314 - accuracy: 0.7563 - val_loss: 0.7571 - val_accuracy: 0.6860\n",
            "Epoch 92/500\n",
            "104/104 [==============================] - 0s 4ms/step - loss: 0.6131 - accuracy: 0.7618 - val_loss: 0.7506 - val_accuracy: 0.6812\n",
            "Epoch 93/500\n",
            "104/104 [==============================] - 0s 4ms/step - loss: 0.5979 - accuracy: 0.7648 - val_loss: 0.7381 - val_accuracy: 0.6908\n",
            "Epoch 94/500\n",
            "104/104 [==============================] - 0s 4ms/step - loss: 0.5944 - accuracy: 0.7588 - val_loss: 0.7481 - val_accuracy: 0.7101\n",
            "Epoch 95/500\n",
            "104/104 [==============================] - 0s 4ms/step - loss: 0.5894 - accuracy: 0.7672 - val_loss: 0.7784 - val_accuracy: 0.6715\n",
            "Epoch 96/500\n",
            "104/104 [==============================] - 0s 4ms/step - loss: 0.5782 - accuracy: 0.7636 - val_loss: 0.7907 - val_accuracy: 0.6618\n",
            "Epoch 97/500\n",
            "104/104 [==============================] - 0s 5ms/step - loss: 0.6005 - accuracy: 0.7648 - val_loss: 0.7181 - val_accuracy: 0.7150\n",
            "Epoch 98/500\n",
            "104/104 [==============================] - 0s 5ms/step - loss: 0.6030 - accuracy: 0.7551 - val_loss: 0.7937 - val_accuracy: 0.6908\n",
            "Epoch 99/500\n",
            "104/104 [==============================] - 0s 5ms/step - loss: 0.5781 - accuracy: 0.7769 - val_loss: 0.7394 - val_accuracy: 0.7053\n",
            "Epoch 100/500\n",
            "104/104 [==============================] - 0s 4ms/step - loss: 0.5363 - accuracy: 0.7878 - val_loss: 0.7391 - val_accuracy: 0.7101\n",
            "Epoch 101/500\n",
            "104/104 [==============================] - 0s 5ms/step - loss: 0.5654 - accuracy: 0.7787 - val_loss: 0.7516 - val_accuracy: 0.7053\n",
            "Epoch 102/500\n",
            "104/104 [==============================] - 0s 5ms/step - loss: 0.5759 - accuracy: 0.7570 - val_loss: 0.7699 - val_accuracy: 0.6715\n",
            "Epoch 103/500\n",
            "104/104 [==============================] - 0s 5ms/step - loss: 0.5620 - accuracy: 0.7811 - val_loss: 0.7327 - val_accuracy: 0.6667\n",
            "Epoch 104/500\n",
            "104/104 [==============================] - 0s 4ms/step - loss: 0.5559 - accuracy: 0.7672 - val_loss: 0.7424 - val_accuracy: 0.7005\n",
            "Epoch 105/500\n",
            "104/104 [==============================] - 0s 5ms/step - loss: 0.5425 - accuracy: 0.7805 - val_loss: 0.7339 - val_accuracy: 0.6812\n",
            "Epoch 106/500\n",
            "104/104 [==============================] - 0s 4ms/step - loss: 0.5341 - accuracy: 0.7932 - val_loss: 0.7221 - val_accuracy: 0.7246\n",
            "Epoch 107/500\n",
            "104/104 [==============================] - 0s 5ms/step - loss: 0.5348 - accuracy: 0.7956 - val_loss: 0.7338 - val_accuracy: 0.7005\n",
            "Epoch 108/500\n",
            "104/104 [==============================] - 0s 5ms/step - loss: 0.5088 - accuracy: 0.7914 - val_loss: 0.7063 - val_accuracy: 0.6957\n",
            "Epoch 109/500\n",
            "104/104 [==============================] - 0s 4ms/step - loss: 0.5309 - accuracy: 0.7908 - val_loss: 0.7016 - val_accuracy: 0.7488\n",
            "Epoch 110/500\n",
            "104/104 [==============================] - 0s 5ms/step - loss: 0.5224 - accuracy: 0.7938 - val_loss: 0.7001 - val_accuracy: 0.7488\n",
            "Epoch 111/500\n",
            "104/104 [==============================] - 0s 4ms/step - loss: 0.5061 - accuracy: 0.8029 - val_loss: 0.7465 - val_accuracy: 0.7343\n",
            "Epoch 112/500\n",
            "104/104 [==============================] - 0s 4ms/step - loss: 0.5123 - accuracy: 0.8126 - val_loss: 0.6882 - val_accuracy: 0.7295\n",
            "Epoch 113/500\n",
            "104/104 [==============================] - 0s 4ms/step - loss: 0.4908 - accuracy: 0.8011 - val_loss: 0.7589 - val_accuracy: 0.7295\n",
            "Epoch 114/500\n",
            "104/104 [==============================] - 0s 4ms/step - loss: 0.5209 - accuracy: 0.7908 - val_loss: 0.6802 - val_accuracy: 0.7488\n",
            "Epoch 115/500\n",
            "104/104 [==============================] - 0s 4ms/step - loss: 0.4687 - accuracy: 0.8174 - val_loss: 0.7143 - val_accuracy: 0.7101\n",
            "Epoch 116/500\n",
            "104/104 [==============================] - 0s 5ms/step - loss: 0.5032 - accuracy: 0.8065 - val_loss: 0.6812 - val_accuracy: 0.7343\n",
            "Epoch 117/500\n",
            "104/104 [==============================] - 0s 5ms/step - loss: 0.4446 - accuracy: 0.8222 - val_loss: 0.7127 - val_accuracy: 0.7150\n",
            "Epoch 118/500\n",
            "104/104 [==============================] - 0s 4ms/step - loss: 0.4616 - accuracy: 0.8216 - val_loss: 0.6936 - val_accuracy: 0.7440\n",
            "Epoch 119/500\n",
            "104/104 [==============================] - 0s 4ms/step - loss: 0.4436 - accuracy: 0.8337 - val_loss: 0.6901 - val_accuracy: 0.7150\n",
            "Epoch 120/500\n",
            "104/104 [==============================] - 0s 5ms/step - loss: 0.4565 - accuracy: 0.8186 - val_loss: 0.7166 - val_accuracy: 0.7101\n",
            "Epoch 121/500\n",
            "104/104 [==============================] - 0s 4ms/step - loss: 0.4341 - accuracy: 0.8277 - val_loss: 0.6788 - val_accuracy: 0.7391\n",
            "Epoch 122/500\n",
            "104/104 [==============================] - 0s 4ms/step - loss: 0.4415 - accuracy: 0.8349 - val_loss: 0.6612 - val_accuracy: 0.7101\n",
            "Epoch 123/500\n",
            "104/104 [==============================] - 0s 4ms/step - loss: 0.4518 - accuracy: 0.8186 - val_loss: 0.6684 - val_accuracy: 0.7101\n",
            "Epoch 124/500\n",
            "104/104 [==============================] - 0s 5ms/step - loss: 0.4530 - accuracy: 0.8180 - val_loss: 0.7045 - val_accuracy: 0.7101\n",
            "Epoch 125/500\n",
            "104/104 [==============================] - 0s 5ms/step - loss: 0.4489 - accuracy: 0.8271 - val_loss: 0.7241 - val_accuracy: 0.6957\n",
            "Epoch 126/500\n",
            "104/104 [==============================] - 0s 4ms/step - loss: 0.4278 - accuracy: 0.8216 - val_loss: 0.6920 - val_accuracy: 0.7295\n",
            "Epoch 127/500\n",
            "104/104 [==============================] - 0s 5ms/step - loss: 0.4107 - accuracy: 0.8470 - val_loss: 0.6879 - val_accuracy: 0.7295\n",
            "Epoch 128/500\n",
            "104/104 [==============================] - 0s 4ms/step - loss: 0.4130 - accuracy: 0.8380 - val_loss: 0.7005 - val_accuracy: 0.7101\n",
            "Epoch 129/500\n",
            "104/104 [==============================] - 0s 4ms/step - loss: 0.3986 - accuracy: 0.8489 - val_loss: 0.7691 - val_accuracy: 0.6860\n",
            "Epoch 130/500\n",
            "104/104 [==============================] - 0s 4ms/step - loss: 0.4118 - accuracy: 0.8489 - val_loss: 0.6682 - val_accuracy: 0.7391\n",
            "Epoch 131/500\n",
            "104/104 [==============================] - 0s 4ms/step - loss: 0.3882 - accuracy: 0.8573 - val_loss: 0.6668 - val_accuracy: 0.7246\n",
            "Epoch 132/500\n",
            "104/104 [==============================] - 0s 5ms/step - loss: 0.4021 - accuracy: 0.8356 - val_loss: 0.6627 - val_accuracy: 0.7536\n",
            "Epoch 133/500\n",
            "104/104 [==============================] - 0s 5ms/step - loss: 0.3887 - accuracy: 0.8446 - val_loss: 0.6544 - val_accuracy: 0.7391\n",
            "Epoch 134/500\n",
            "104/104 [==============================] - 1s 5ms/step - loss: 0.3864 - accuracy: 0.8507 - val_loss: 0.6679 - val_accuracy: 0.6957\n",
            "Epoch 135/500\n",
            "104/104 [==============================] - 1s 5ms/step - loss: 0.3695 - accuracy: 0.8579 - val_loss: 0.6627 - val_accuracy: 0.7295\n",
            "Epoch 136/500\n",
            "104/104 [==============================] - 0s 4ms/step - loss: 0.3878 - accuracy: 0.8495 - val_loss: 0.6745 - val_accuracy: 0.7198\n",
            "Epoch 137/500\n",
            "104/104 [==============================] - 0s 4ms/step - loss: 0.3608 - accuracy: 0.8688 - val_loss: 0.6661 - val_accuracy: 0.7198\n",
            "Epoch 138/500\n",
            "104/104 [==============================] - 1s 5ms/step - loss: 0.3574 - accuracy: 0.8615 - val_loss: 0.6894 - val_accuracy: 0.7246\n",
            "Epoch 139/500\n",
            "104/104 [==============================] - 1s 9ms/step - loss: 0.3718 - accuracy: 0.8519 - val_loss: 0.7207 - val_accuracy: 0.7440\n",
            "Epoch 140/500\n",
            "104/104 [==============================] - 1s 6ms/step - loss: 0.3468 - accuracy: 0.8664 - val_loss: 0.6165 - val_accuracy: 0.7633\n",
            "Epoch 141/500\n",
            "104/104 [==============================] - 0s 5ms/step - loss: 0.3927 - accuracy: 0.8555 - val_loss: 0.6788 - val_accuracy: 0.7101\n",
            "Epoch 142/500\n",
            "104/104 [==============================] - 0s 5ms/step - loss: 0.3623 - accuracy: 0.8615 - val_loss: 0.6786 - val_accuracy: 0.7488\n",
            "Epoch 143/500\n",
            "104/104 [==============================] - 0s 5ms/step - loss: 0.3515 - accuracy: 0.8646 - val_loss: 0.6639 - val_accuracy: 0.7343\n",
            "Epoch 144/500\n",
            "104/104 [==============================] - 0s 5ms/step - loss: 0.3364 - accuracy: 0.8755 - val_loss: 0.6905 - val_accuracy: 0.7053\n",
            "Epoch 145/500\n",
            "104/104 [==============================] - 0s 4ms/step - loss: 0.3311 - accuracy: 0.8700 - val_loss: 0.6861 - val_accuracy: 0.7295\n",
            "Epoch 146/500\n",
            "104/104 [==============================] - 0s 4ms/step - loss: 0.3351 - accuracy: 0.8767 - val_loss: 0.6953 - val_accuracy: 0.7246\n",
            "Epoch 147/500\n",
            "104/104 [==============================] - 1s 5ms/step - loss: 0.3444 - accuracy: 0.8700 - val_loss: 0.6561 - val_accuracy: 0.7343\n",
            "Epoch 148/500\n",
            "104/104 [==============================] - 0s 4ms/step - loss: 0.3337 - accuracy: 0.8652 - val_loss: 0.6230 - val_accuracy: 0.7633\n",
            "Epoch 149/500\n",
            "104/104 [==============================] - 0s 4ms/step - loss: 0.3244 - accuracy: 0.8785 - val_loss: 0.6136 - val_accuracy: 0.7874\n",
            "Epoch 150/500\n",
            "104/104 [==============================] - 0s 4ms/step - loss: 0.3181 - accuracy: 0.8761 - val_loss: 0.6381 - val_accuracy: 0.7681\n",
            "Epoch 151/500\n",
            "104/104 [==============================] - 0s 5ms/step - loss: 0.3304 - accuracy: 0.8730 - val_loss: 0.6509 - val_accuracy: 0.7633\n",
            "Epoch 152/500\n",
            "104/104 [==============================] - 0s 4ms/step - loss: 0.3145 - accuracy: 0.8839 - val_loss: 0.6331 - val_accuracy: 0.7681\n",
            "Epoch 153/500\n",
            "104/104 [==============================] - 0s 4ms/step - loss: 0.3510 - accuracy: 0.8628 - val_loss: 0.6407 - val_accuracy: 0.7681\n",
            "Epoch 154/500\n",
            "104/104 [==============================] - 0s 4ms/step - loss: 0.3243 - accuracy: 0.8742 - val_loss: 0.6350 - val_accuracy: 0.7633\n",
            "Epoch 155/500\n",
            "104/104 [==============================] - 0s 4ms/step - loss: 0.3197 - accuracy: 0.8742 - val_loss: 0.6435 - val_accuracy: 0.7391\n",
            "Epoch 156/500\n",
            "104/104 [==============================] - 0s 5ms/step - loss: 0.2991 - accuracy: 0.8942 - val_loss: 0.6023 - val_accuracy: 0.7729\n",
            "Epoch 157/500\n",
            "104/104 [==============================] - 0s 5ms/step - loss: 0.3153 - accuracy: 0.8779 - val_loss: 0.6204 - val_accuracy: 0.7778\n",
            "Epoch 158/500\n",
            "104/104 [==============================] - 1s 9ms/step - loss: 0.2942 - accuracy: 0.8839 - val_loss: 0.6295 - val_accuracy: 0.7536\n",
            "Epoch 159/500\n",
            "104/104 [==============================] - 1s 6ms/step - loss: 0.3082 - accuracy: 0.8791 - val_loss: 0.6203 - val_accuracy: 0.7585\n",
            "Epoch 160/500\n",
            "104/104 [==============================] - 1s 8ms/step - loss: 0.3053 - accuracy: 0.8815 - val_loss: 0.6673 - val_accuracy: 0.7778\n",
            "Epoch 161/500\n",
            "104/104 [==============================] - 1s 7ms/step - loss: 0.2635 - accuracy: 0.9008 - val_loss: 0.6043 - val_accuracy: 0.7729\n",
            "Epoch 162/500\n",
            "104/104 [==============================] - 0s 4ms/step - loss: 0.2878 - accuracy: 0.8863 - val_loss: 0.6240 - val_accuracy: 0.7585\n",
            "Epoch 163/500\n",
            "104/104 [==============================] - 0s 4ms/step - loss: 0.2714 - accuracy: 0.8960 - val_loss: 0.5996 - val_accuracy: 0.7729\n",
            "Epoch 164/500\n",
            "104/104 [==============================] - 0s 5ms/step - loss: 0.2780 - accuracy: 0.8990 - val_loss: 0.6922 - val_accuracy: 0.7488\n",
            "Epoch 165/500\n",
            "104/104 [==============================] - 0s 5ms/step - loss: 0.3351 - accuracy: 0.8748 - val_loss: 0.6088 - val_accuracy: 0.7778\n",
            "Epoch 166/500\n",
            "104/104 [==============================] - 0s 5ms/step - loss: 0.2932 - accuracy: 0.8881 - val_loss: 0.5420 - val_accuracy: 0.7971\n",
            "Epoch 167/500\n",
            "104/104 [==============================] - 0s 5ms/step - loss: 0.2722 - accuracy: 0.8972 - val_loss: 0.6083 - val_accuracy: 0.7536\n",
            "Epoch 168/500\n",
            "104/104 [==============================] - 0s 4ms/step - loss: 0.2574 - accuracy: 0.9027 - val_loss: 0.6466 - val_accuracy: 0.7198\n",
            "Epoch 169/500\n",
            "104/104 [==============================] - 0s 5ms/step - loss: 0.2960 - accuracy: 0.8815 - val_loss: 0.6620 - val_accuracy: 0.7536\n",
            "Epoch 170/500\n",
            "104/104 [==============================] - 0s 5ms/step - loss: 0.2615 - accuracy: 0.9033 - val_loss: 0.6248 - val_accuracy: 0.7874\n",
            "Epoch 171/500\n",
            "104/104 [==============================] - 0s 4ms/step - loss: 0.2561 - accuracy: 0.8936 - val_loss: 0.6386 - val_accuracy: 0.7923\n",
            "Epoch 172/500\n",
            "104/104 [==============================] - 1s 5ms/step - loss: 0.2423 - accuracy: 0.9105 - val_loss: 0.6921 - val_accuracy: 0.7585\n",
            "Epoch 173/500\n",
            "104/104 [==============================] - 0s 4ms/step - loss: 0.2599 - accuracy: 0.8966 - val_loss: 0.6513 - val_accuracy: 0.7440\n",
            "Epoch 174/500\n",
            "104/104 [==============================] - 1s 5ms/step - loss: 0.2495 - accuracy: 0.9039 - val_loss: 0.6026 - val_accuracy: 0.7923\n",
            "Epoch 175/500\n",
            "104/104 [==============================] - 0s 4ms/step - loss: 0.2710 - accuracy: 0.8966 - val_loss: 0.6346 - val_accuracy: 0.7729\n",
            "Epoch 176/500\n",
            "104/104 [==============================] - 1s 5ms/step - loss: 0.2481 - accuracy: 0.9154 - val_loss: 0.5444 - val_accuracy: 0.8116\n",
            "Epoch 177/500\n",
            "104/104 [==============================] - 0s 4ms/step - loss: 0.2369 - accuracy: 0.9154 - val_loss: 0.6296 - val_accuracy: 0.7729\n",
            "Epoch 178/500\n",
            "104/104 [==============================] - 0s 4ms/step - loss: 0.2715 - accuracy: 0.8996 - val_loss: 0.6327 - val_accuracy: 0.8116\n",
            "Epoch 179/500\n",
            "104/104 [==============================] - 0s 5ms/step - loss: 0.2522 - accuracy: 0.9075 - val_loss: 0.6281 - val_accuracy: 0.7729\n",
            "Epoch 180/500\n",
            "104/104 [==============================] - 0s 5ms/step - loss: 0.2510 - accuracy: 0.9021 - val_loss: 0.6020 - val_accuracy: 0.7729\n",
            "Epoch 181/500\n",
            "104/104 [==============================] - 0s 4ms/step - loss: 0.2452 - accuracy: 0.9015 - val_loss: 0.6031 - val_accuracy: 0.7826\n",
            "Epoch 182/500\n",
            "104/104 [==============================] - 0s 4ms/step - loss: 0.2327 - accuracy: 0.9141 - val_loss: 0.6122 - val_accuracy: 0.7633\n",
            "Epoch 183/500\n",
            "104/104 [==============================] - 0s 4ms/step - loss: 0.2229 - accuracy: 0.9141 - val_loss: 0.6356 - val_accuracy: 0.7536\n",
            "Epoch 184/500\n",
            "104/104 [==============================] - 0s 4ms/step - loss: 0.2283 - accuracy: 0.9178 - val_loss: 0.5896 - val_accuracy: 0.7826\n",
            "Epoch 185/500\n",
            "104/104 [==============================] - 0s 4ms/step - loss: 0.2145 - accuracy: 0.9287 - val_loss: 0.6394 - val_accuracy: 0.7681\n",
            "Epoch 186/500\n",
            "104/104 [==============================] - 0s 5ms/step - loss: 0.2358 - accuracy: 0.9123 - val_loss: 0.6286 - val_accuracy: 0.7633\n",
            "Epoch 187/500\n",
            "104/104 [==============================] - 0s 5ms/step - loss: 0.2345 - accuracy: 0.9117 - val_loss: 0.7161 - val_accuracy: 0.7633\n",
            "Epoch 188/500\n",
            "104/104 [==============================] - 0s 5ms/step - loss: 0.2417 - accuracy: 0.9051 - val_loss: 0.5787 - val_accuracy: 0.7923\n",
            "Epoch 189/500\n",
            "104/104 [==============================] - 0s 5ms/step - loss: 0.2311 - accuracy: 0.9154 - val_loss: 0.7127 - val_accuracy: 0.7343\n",
            "Epoch 190/500\n",
            "104/104 [==============================] - 0s 4ms/step - loss: 0.2068 - accuracy: 0.9160 - val_loss: 0.6259 - val_accuracy: 0.7681\n",
            "Epoch 191/500\n",
            "104/104 [==============================] - 1s 5ms/step - loss: 0.2316 - accuracy: 0.9105 - val_loss: 0.6003 - val_accuracy: 0.8019\n",
            "Epoch 192/500\n",
            "104/104 [==============================] - 0s 4ms/step - loss: 0.2154 - accuracy: 0.9166 - val_loss: 0.5894 - val_accuracy: 0.7874\n",
            "Epoch 193/500\n",
            "104/104 [==============================] - 0s 5ms/step - loss: 0.2114 - accuracy: 0.9226 - val_loss: 0.5882 - val_accuracy: 0.7971\n",
            "Epoch 194/500\n",
            "104/104 [==============================] - 1s 5ms/step - loss: 0.1961 - accuracy: 0.9293 - val_loss: 0.6346 - val_accuracy: 0.7391\n",
            "Epoch 195/500\n",
            "104/104 [==============================] - 0s 5ms/step - loss: 0.2059 - accuracy: 0.9178 - val_loss: 0.6631 - val_accuracy: 0.7536\n",
            "Epoch 196/500\n",
            "104/104 [==============================] - 0s 4ms/step - loss: 0.1980 - accuracy: 0.9226 - val_loss: 0.6389 - val_accuracy: 0.7729\n",
            "Epoch 197/500\n",
            "104/104 [==============================] - 0s 5ms/step - loss: 0.2197 - accuracy: 0.9141 - val_loss: 0.6586 - val_accuracy: 0.7729\n",
            "Epoch 198/500\n",
            "104/104 [==============================] - 0s 5ms/step - loss: 0.2128 - accuracy: 0.9196 - val_loss: 0.6146 - val_accuracy: 0.7874\n",
            "Epoch 199/500\n",
            "104/104 [==============================] - 0s 5ms/step - loss: 0.2253 - accuracy: 0.9105 - val_loss: 0.6090 - val_accuracy: 0.7778\n",
            "Epoch 200/500\n",
            "104/104 [==============================] - 0s 5ms/step - loss: 0.2205 - accuracy: 0.9250 - val_loss: 0.5923 - val_accuracy: 0.7971\n",
            "Epoch 201/500\n",
            "104/104 [==============================] - 0s 5ms/step - loss: 0.1787 - accuracy: 0.9299 - val_loss: 0.6907 - val_accuracy: 0.7440\n",
            "Epoch 202/500\n",
            "104/104 [==============================] - 0s 4ms/step - loss: 0.2008 - accuracy: 0.9238 - val_loss: 0.6863 - val_accuracy: 0.7440\n",
            "Epoch 203/500\n",
            "104/104 [==============================] - 0s 5ms/step - loss: 0.1895 - accuracy: 0.9293 - val_loss: 0.6348 - val_accuracy: 0.8019\n",
            "Epoch 204/500\n",
            "104/104 [==============================] - 0s 5ms/step - loss: 0.2034 - accuracy: 0.9293 - val_loss: 0.6197 - val_accuracy: 0.8116\n",
            "Epoch 205/500\n",
            "104/104 [==============================] - 0s 4ms/step - loss: 0.1989 - accuracy: 0.9256 - val_loss: 0.6626 - val_accuracy: 0.7681\n",
            "Epoch 206/500\n",
            "104/104 [==============================] - 0s 5ms/step - loss: 0.2156 - accuracy: 0.9238 - val_loss: 0.6417 - val_accuracy: 0.7874\n",
            "Epoch 207/500\n",
            "104/104 [==============================] - 0s 5ms/step - loss: 0.2184 - accuracy: 0.9268 - val_loss: 0.6095 - val_accuracy: 0.8019\n",
            "Epoch 208/500\n",
            "104/104 [==============================] - 0s 5ms/step - loss: 0.2041 - accuracy: 0.9232 - val_loss: 0.6588 - val_accuracy: 0.7874\n",
            "Epoch 209/500\n",
            "104/104 [==============================] - 0s 5ms/step - loss: 0.1723 - accuracy: 0.9432 - val_loss: 0.6216 - val_accuracy: 0.7488\n",
            "Epoch 210/500\n",
            "104/104 [==============================] - 0s 4ms/step - loss: 0.1648 - accuracy: 0.9438 - val_loss: 0.6530 - val_accuracy: 0.7778\n",
            "Epoch 211/500\n",
            "104/104 [==============================] - 0s 5ms/step - loss: 0.1710 - accuracy: 0.9371 - val_loss: 0.6635 - val_accuracy: 0.8019\n",
            "Epoch 212/500\n",
            "104/104 [==============================] - 0s 4ms/step - loss: 0.1956 - accuracy: 0.9274 - val_loss: 0.6087 - val_accuracy: 0.7778\n",
            "Epoch 213/500\n",
            "104/104 [==============================] - 0s 4ms/step - loss: 0.1706 - accuracy: 0.9456 - val_loss: 0.6359 - val_accuracy: 0.7874\n",
            "Epoch 214/500\n",
            "104/104 [==============================] - 0s 5ms/step - loss: 0.1760 - accuracy: 0.9407 - val_loss: 0.6528 - val_accuracy: 0.7874\n",
            "Epoch 215/500\n",
            "104/104 [==============================] - 0s 5ms/step - loss: 0.1800 - accuracy: 0.9341 - val_loss: 0.7037 - val_accuracy: 0.7488\n",
            "Epoch 216/500\n",
            "104/104 [==============================] - 0s 5ms/step - loss: 0.1612 - accuracy: 0.9426 - val_loss: 0.7708 - val_accuracy: 0.7295\n",
            "Epoch 217/500\n",
            "104/104 [==============================] - 0s 5ms/step - loss: 0.2114 - accuracy: 0.9184 - val_loss: 0.6108 - val_accuracy: 0.7874\n",
            "Epoch 218/500\n",
            "104/104 [==============================] - 0s 4ms/step - loss: 0.1761 - accuracy: 0.9383 - val_loss: 0.6464 - val_accuracy: 0.8164\n",
            "Epoch 219/500\n",
            "104/104 [==============================] - 0s 4ms/step - loss: 0.1706 - accuracy: 0.9359 - val_loss: 0.6198 - val_accuracy: 0.7681\n",
            "Epoch 220/500\n",
            "104/104 [==============================] - 0s 4ms/step - loss: 0.1676 - accuracy: 0.9365 - val_loss: 0.6245 - val_accuracy: 0.7826\n",
            "Epoch 221/500\n",
            "104/104 [==============================] - 0s 4ms/step - loss: 0.1621 - accuracy: 0.9462 - val_loss: 0.6637 - val_accuracy: 0.7633\n",
            "Epoch 222/500\n",
            "104/104 [==============================] - 0s 4ms/step - loss: 0.1753 - accuracy: 0.9353 - val_loss: 0.6738 - val_accuracy: 0.7874\n",
            "Epoch 223/500\n",
            "104/104 [==============================] - 1s 5ms/step - loss: 0.1556 - accuracy: 0.9468 - val_loss: 0.6006 - val_accuracy: 0.8116\n",
            "Epoch 224/500\n",
            "104/104 [==============================] - 0s 4ms/step - loss: 0.1643 - accuracy: 0.9438 - val_loss: 0.6085 - val_accuracy: 0.8068\n",
            "Epoch 225/500\n",
            "104/104 [==============================] - 0s 4ms/step - loss: 0.1778 - accuracy: 0.9311 - val_loss: 0.5708 - val_accuracy: 0.8116\n",
            "Epoch 226/500\n",
            "104/104 [==============================] - 0s 5ms/step - loss: 0.1578 - accuracy: 0.9480 - val_loss: 0.6355 - val_accuracy: 0.7826\n",
            "Epoch 227/500\n",
            "104/104 [==============================] - 0s 4ms/step - loss: 0.1558 - accuracy: 0.9444 - val_loss: 0.6064 - val_accuracy: 0.7874\n",
            "Epoch 228/500\n",
            "104/104 [==============================] - 0s 4ms/step - loss: 0.1581 - accuracy: 0.9438 - val_loss: 0.6670 - val_accuracy: 0.7923\n",
            "Epoch 229/500\n",
            "104/104 [==============================] - 1s 5ms/step - loss: 0.1381 - accuracy: 0.9553 - val_loss: 0.6621 - val_accuracy: 0.8019\n",
            "Epoch 230/500\n",
            "104/104 [==============================] - 0s 4ms/step - loss: 0.1372 - accuracy: 0.9474 - val_loss: 0.6959 - val_accuracy: 0.7778\n",
            "Epoch 231/500\n",
            "104/104 [==============================] - 0s 5ms/step - loss: 0.1498 - accuracy: 0.9474 - val_loss: 0.5990 - val_accuracy: 0.7826\n",
            "Epoch 232/500\n",
            "104/104 [==============================] - 0s 5ms/step - loss: 0.1555 - accuracy: 0.9432 - val_loss: 0.6135 - val_accuracy: 0.7826\n",
            "Epoch 233/500\n",
            "104/104 [==============================] - 0s 5ms/step - loss: 0.1747 - accuracy: 0.9365 - val_loss: 0.7228 - val_accuracy: 0.7488\n",
            "Epoch 234/500\n",
            "104/104 [==============================] - 0s 5ms/step - loss: 0.1700 - accuracy: 0.9371 - val_loss: 0.7170 - val_accuracy: 0.7585\n",
            "Epoch 235/500\n",
            "104/104 [==============================] - 0s 4ms/step - loss: 0.1750 - accuracy: 0.9341 - val_loss: 0.6648 - val_accuracy: 0.7633\n",
            "Epoch 236/500\n",
            "104/104 [==============================] - 1s 5ms/step - loss: 0.1591 - accuracy: 0.9438 - val_loss: 0.6536 - val_accuracy: 0.7488\n",
            "Epoch 237/500\n",
            "104/104 [==============================] - 0s 4ms/step - loss: 0.1488 - accuracy: 0.9426 - val_loss: 0.6610 - val_accuracy: 0.7729\n",
            "Epoch 238/500\n",
            "104/104 [==============================] - 0s 5ms/step - loss: 0.1423 - accuracy: 0.9504 - val_loss: 0.7134 - val_accuracy: 0.7729\n",
            "Epoch 239/500\n",
            "104/104 [==============================] - 0s 5ms/step - loss: 0.1619 - accuracy: 0.9383 - val_loss: 0.6430 - val_accuracy: 0.7826\n",
            "Epoch 240/500\n",
            "104/104 [==============================] - 0s 4ms/step - loss: 0.1544 - accuracy: 0.9504 - val_loss: 0.6120 - val_accuracy: 0.7778\n",
            "Epoch 241/500\n",
            "104/104 [==============================] - 0s 5ms/step - loss: 0.1312 - accuracy: 0.9522 - val_loss: 0.6559 - val_accuracy: 0.7874\n",
            "Epoch 242/500\n",
            "104/104 [==============================] - 1s 5ms/step - loss: 0.1453 - accuracy: 0.9480 - val_loss: 0.6536 - val_accuracy: 0.7826\n",
            "Epoch 243/500\n",
            "104/104 [==============================] - 0s 4ms/step - loss: 0.1518 - accuracy: 0.9456 - val_loss: 0.6146 - val_accuracy: 0.7729\n",
            "Epoch 244/500\n",
            "104/104 [==============================] - 0s 5ms/step - loss: 0.1434 - accuracy: 0.9474 - val_loss: 0.6717 - val_accuracy: 0.7681\n",
            "Epoch 245/500\n",
            "104/104 [==============================] - 0s 5ms/step - loss: 0.1627 - accuracy: 0.9365 - val_loss: 0.6819 - val_accuracy: 0.7391\n",
            "Epoch 246/500\n",
            "104/104 [==============================] - 1s 5ms/step - loss: 0.1352 - accuracy: 0.9456 - val_loss: 0.6546 - val_accuracy: 0.7923\n",
            "Epoch 247/500\n",
            "104/104 [==============================] - 0s 4ms/step - loss: 0.1373 - accuracy: 0.9450 - val_loss: 0.5444 - val_accuracy: 0.8019\n",
            "Epoch 248/500\n",
            "104/104 [==============================] - 0s 5ms/step - loss: 0.1543 - accuracy: 0.9456 - val_loss: 0.5673 - val_accuracy: 0.7971\n",
            "Epoch 249/500\n",
            "104/104 [==============================] - 0s 4ms/step - loss: 0.1354 - accuracy: 0.9516 - val_loss: 0.6328 - val_accuracy: 0.7488\n",
            "Epoch 250/500\n",
            "104/104 [==============================] - 0s 4ms/step - loss: 0.1267 - accuracy: 0.9541 - val_loss: 0.6958 - val_accuracy: 0.7440\n",
            "Epoch 251/500\n",
            "104/104 [==============================] - 0s 5ms/step - loss: 0.1785 - accuracy: 0.9347 - val_loss: 0.6141 - val_accuracy: 0.7633\n",
            "Epoch 252/500\n",
            "104/104 [==============================] - 0s 4ms/step - loss: 0.1739 - accuracy: 0.9371 - val_loss: 0.7122 - val_accuracy: 0.7440\n",
            "Epoch 253/500\n",
            "104/104 [==============================] - 0s 4ms/step - loss: 0.1563 - accuracy: 0.9389 - val_loss: 0.6577 - val_accuracy: 0.7633\n",
            "Epoch 254/500\n",
            "104/104 [==============================] - 0s 5ms/step - loss: 0.1510 - accuracy: 0.9414 - val_loss: 0.6838 - val_accuracy: 0.7585\n",
            "Epoch 255/500\n",
            "104/104 [==============================] - 0s 4ms/step - loss: 0.1301 - accuracy: 0.9547 - val_loss: 0.6220 - val_accuracy: 0.7923\n",
            "Epoch 256/500\n",
            "104/104 [==============================] - 0s 5ms/step - loss: 0.1392 - accuracy: 0.9480 - val_loss: 0.7268 - val_accuracy: 0.7729\n",
            "Epoch 257/500\n",
            "104/104 [==============================] - 0s 5ms/step - loss: 0.1289 - accuracy: 0.9486 - val_loss: 0.5966 - val_accuracy: 0.8068\n",
            "Epoch 258/500\n",
            "104/104 [==============================] - 0s 4ms/step - loss: 0.1226 - accuracy: 0.9541 - val_loss: 0.6567 - val_accuracy: 0.7923\n",
            "Epoch 259/500\n",
            "104/104 [==============================] - 0s 5ms/step - loss: 0.1092 - accuracy: 0.9571 - val_loss: 0.6114 - val_accuracy: 0.8261\n",
            "Epoch 260/500\n",
            "104/104 [==============================] - 0s 5ms/step - loss: 0.1249 - accuracy: 0.9571 - val_loss: 0.6324 - val_accuracy: 0.7778\n",
            "Epoch 261/500\n",
            "104/104 [==============================] - 1s 5ms/step - loss: 0.1548 - accuracy: 0.9438 - val_loss: 0.6724 - val_accuracy: 0.7778\n",
            "Epoch 262/500\n",
            "104/104 [==============================] - 1s 5ms/step - loss: 0.1269 - accuracy: 0.9474 - val_loss: 0.6115 - val_accuracy: 0.7971\n",
            "Epoch 263/500\n",
            "104/104 [==============================] - 1s 6ms/step - loss: 0.1126 - accuracy: 0.9559 - val_loss: 0.7214 - val_accuracy: 0.7633\n",
            "Epoch 264/500\n",
            "104/104 [==============================] - 1s 6ms/step - loss: 0.1137 - accuracy: 0.9589 - val_loss: 0.6583 - val_accuracy: 0.7874\n",
            "Epoch 265/500\n",
            "104/104 [==============================] - 1s 7ms/step - loss: 0.1274 - accuracy: 0.9522 - val_loss: 0.6441 - val_accuracy: 0.8019\n",
            "Epoch 266/500\n",
            "104/104 [==============================] - 1s 7ms/step - loss: 0.1274 - accuracy: 0.9522 - val_loss: 0.6213 - val_accuracy: 0.7971\n",
            "Epoch 267/500\n",
            "104/104 [==============================] - 1s 7ms/step - loss: 0.1291 - accuracy: 0.9534 - val_loss: 0.6511 - val_accuracy: 0.7826\n",
            "Epoch 268/500\n",
            "104/104 [==============================] - 1s 6ms/step - loss: 0.1374 - accuracy: 0.9498 - val_loss: 0.6795 - val_accuracy: 0.7874\n",
            "Epoch 269/500\n",
            "104/104 [==============================] - 1s 5ms/step - loss: 0.1393 - accuracy: 0.9510 - val_loss: 0.6794 - val_accuracy: 0.8019\n",
            "Epoch 270/500\n",
            "104/104 [==============================] - 0s 5ms/step - loss: 0.1351 - accuracy: 0.9516 - val_loss: 0.6324 - val_accuracy: 0.7826\n",
            "Epoch 271/500\n",
            "104/104 [==============================] - 0s 5ms/step - loss: 0.1120 - accuracy: 0.9625 - val_loss: 0.5976 - val_accuracy: 0.8019\n",
            "Epoch 272/500\n",
            "104/104 [==============================] - 0s 5ms/step - loss: 0.1175 - accuracy: 0.9583 - val_loss: 0.5996 - val_accuracy: 0.8068\n",
            "Epoch 273/500\n",
            "104/104 [==============================] - 1s 5ms/step - loss: 0.1117 - accuracy: 0.9577 - val_loss: 0.6212 - val_accuracy: 0.8019\n",
            "Epoch 274/500\n",
            "104/104 [==============================] - 0s 4ms/step - loss: 0.1234 - accuracy: 0.9541 - val_loss: 0.6848 - val_accuracy: 0.7633\n",
            "Epoch 275/500\n",
            "104/104 [==============================] - 1s 5ms/step - loss: 0.1114 - accuracy: 0.9595 - val_loss: 0.6538 - val_accuracy: 0.7778\n",
            "Epoch 276/500\n",
            "104/104 [==============================] - 1s 5ms/step - loss: 0.1180 - accuracy: 0.9559 - val_loss: 0.7127 - val_accuracy: 0.7681\n",
            "Epoch 277/500\n",
            "104/104 [==============================] - 1s 5ms/step - loss: 0.1063 - accuracy: 0.9559 - val_loss: 0.7184 - val_accuracy: 0.7778\n",
            "Epoch 278/500\n",
            "104/104 [==============================] - 1s 5ms/step - loss: 0.0838 - accuracy: 0.9710 - val_loss: 0.5867 - val_accuracy: 0.8116\n",
            "Epoch 279/500\n",
            "104/104 [==============================] - 1s 5ms/step - loss: 0.1100 - accuracy: 0.9631 - val_loss: 0.7037 - val_accuracy: 0.7826\n",
            "Epoch 280/500\n",
            "104/104 [==============================] - 0s 5ms/step - loss: 0.1526 - accuracy: 0.9414 - val_loss: 0.6625 - val_accuracy: 0.7778\n",
            "Epoch 281/500\n",
            "104/104 [==============================] - 1s 5ms/step - loss: 0.1296 - accuracy: 0.9498 - val_loss: 0.7039 - val_accuracy: 0.7681\n",
            "Epoch 282/500\n",
            "104/104 [==============================] - 0s 5ms/step - loss: 0.1366 - accuracy: 0.9492 - val_loss: 0.6409 - val_accuracy: 0.7923\n",
            "Epoch 283/500\n",
            "104/104 [==============================] - 0s 5ms/step - loss: 0.1154 - accuracy: 0.9577 - val_loss: 0.7105 - val_accuracy: 0.7729\n",
            "Epoch 284/500\n",
            "104/104 [==============================] - 0s 5ms/step - loss: 0.1070 - accuracy: 0.9661 - val_loss: 0.6664 - val_accuracy: 0.7971\n",
            "Epoch 285/500\n",
            "104/104 [==============================] - 1s 5ms/step - loss: 0.1167 - accuracy: 0.9589 - val_loss: 0.6984 - val_accuracy: 0.7923\n",
            "Epoch 286/500\n",
            "104/104 [==============================] - 1s 5ms/step - loss: 0.1200 - accuracy: 0.9553 - val_loss: 0.7012 - val_accuracy: 0.7778\n",
            "Epoch 287/500\n",
            "104/104 [==============================] - 1s 5ms/step - loss: 0.0971 - accuracy: 0.9625 - val_loss: 0.6827 - val_accuracy: 0.7778\n",
            "Epoch 288/500\n",
            "104/104 [==============================] - 1s 5ms/step - loss: 0.1348 - accuracy: 0.9480 - val_loss: 0.6714 - val_accuracy: 0.7826\n",
            "Epoch 289/500\n",
            "104/104 [==============================] - 1s 5ms/step - loss: 0.1353 - accuracy: 0.9510 - val_loss: 0.6095 - val_accuracy: 0.7971\n",
            "Epoch 290/500\n",
            "104/104 [==============================] - 1s 5ms/step - loss: 0.1413 - accuracy: 0.9504 - val_loss: 0.6345 - val_accuracy: 0.7971\n",
            "Epoch 291/500\n",
            "104/104 [==============================] - 1s 5ms/step - loss: 0.0881 - accuracy: 0.9692 - val_loss: 0.7799 - val_accuracy: 0.7681\n",
            "Epoch 292/500\n",
            "104/104 [==============================] - 1s 5ms/step - loss: 0.1249 - accuracy: 0.9553 - val_loss: 0.6961 - val_accuracy: 0.7971\n",
            "Epoch 293/500\n",
            "104/104 [==============================] - 0s 5ms/step - loss: 0.0967 - accuracy: 0.9619 - val_loss: 0.7021 - val_accuracy: 0.7536\n",
            "Epoch 294/500\n",
            "104/104 [==============================] - 1s 5ms/step - loss: 0.1093 - accuracy: 0.9571 - val_loss: 0.6673 - val_accuracy: 0.8068\n",
            "Epoch 295/500\n",
            "104/104 [==============================] - 1s 5ms/step - loss: 0.1347 - accuracy: 0.9480 - val_loss: 0.7003 - val_accuracy: 0.8068\n",
            "Epoch 296/500\n",
            "104/104 [==============================] - 0s 5ms/step - loss: 0.0887 - accuracy: 0.9655 - val_loss: 0.7065 - val_accuracy: 0.7923\n",
            "Epoch 297/500\n",
            "104/104 [==============================] - 1s 5ms/step - loss: 0.0949 - accuracy: 0.9674 - val_loss: 0.6570 - val_accuracy: 0.8068\n",
            "Epoch 298/500\n",
            "104/104 [==============================] - 0s 5ms/step - loss: 0.1395 - accuracy: 0.9504 - val_loss: 0.6938 - val_accuracy: 0.7729\n",
            "Epoch 299/500\n",
            "104/104 [==============================] - 1s 5ms/step - loss: 0.1170 - accuracy: 0.9583 - val_loss: 0.6806 - val_accuracy: 0.7874\n",
            "Epoch 300/500\n",
            "104/104 [==============================] - 1s 5ms/step - loss: 0.1286 - accuracy: 0.9595 - val_loss: 0.6845 - val_accuracy: 0.7633\n",
            "Epoch 301/500\n",
            "104/104 [==============================] - 1s 5ms/step - loss: 0.1029 - accuracy: 0.9583 - val_loss: 0.6498 - val_accuracy: 0.8116\n",
            "Epoch 302/500\n",
            "104/104 [==============================] - 1s 5ms/step - loss: 0.1146 - accuracy: 0.9547 - val_loss: 0.6816 - val_accuracy: 0.7923\n",
            "Epoch 303/500\n",
            "104/104 [==============================] - 1s 5ms/step - loss: 0.0983 - accuracy: 0.9661 - val_loss: 0.6899 - val_accuracy: 0.7874\n",
            "Epoch 304/500\n",
            "104/104 [==============================] - 1s 5ms/step - loss: 0.1095 - accuracy: 0.9619 - val_loss: 0.7513 - val_accuracy: 0.7440\n",
            "Epoch 305/500\n",
            "104/104 [==============================] - 1s 5ms/step - loss: 0.0971 - accuracy: 0.9637 - val_loss: 0.6903 - val_accuracy: 0.7729\n",
            "Epoch 306/500\n",
            "104/104 [==============================] - 1s 5ms/step - loss: 0.1024 - accuracy: 0.9631 - val_loss: 0.6636 - val_accuracy: 0.8068\n",
            "Epoch 307/500\n",
            "104/104 [==============================] - 0s 5ms/step - loss: 0.1170 - accuracy: 0.9577 - val_loss: 0.6233 - val_accuracy: 0.7778\n",
            "Epoch 308/500\n",
            "104/104 [==============================] - 0s 5ms/step - loss: 0.1214 - accuracy: 0.9528 - val_loss: 0.6842 - val_accuracy: 0.7778\n",
            "Epoch 309/500\n",
            "104/104 [==============================] - 1s 5ms/step - loss: 0.1160 - accuracy: 0.9559 - val_loss: 0.7457 - val_accuracy: 0.7874\n",
            "Epoch 310/500\n",
            "104/104 [==============================] - 1s 5ms/step - loss: 0.0918 - accuracy: 0.9667 - val_loss: 0.7639 - val_accuracy: 0.7874\n",
            "Epoch 311/500\n",
            "104/104 [==============================] - 1s 5ms/step - loss: 0.1149 - accuracy: 0.9631 - val_loss: 0.6818 - val_accuracy: 0.7681\n",
            "Epoch 312/500\n",
            "104/104 [==============================] - 1s 5ms/step - loss: 0.1037 - accuracy: 0.9619 - val_loss: 0.6462 - val_accuracy: 0.7874\n",
            "Epoch 313/500\n",
            "104/104 [==============================] - 0s 5ms/step - loss: 0.0968 - accuracy: 0.9619 - val_loss: 0.7137 - val_accuracy: 0.7681\n",
            "Epoch 314/500\n",
            "104/104 [==============================] - 1s 5ms/step - loss: 0.0902 - accuracy: 0.9643 - val_loss: 0.7051 - val_accuracy: 0.7971\n",
            "Epoch 315/500\n",
            "104/104 [==============================] - 1s 5ms/step - loss: 0.0920 - accuracy: 0.9686 - val_loss: 0.6971 - val_accuracy: 0.7874\n",
            "Epoch 316/500\n",
            "104/104 [==============================] - 1s 5ms/step - loss: 0.0819 - accuracy: 0.9698 - val_loss: 0.7012 - val_accuracy: 0.7971\n",
            "Epoch 317/500\n",
            "104/104 [==============================] - 1s 5ms/step - loss: 0.1034 - accuracy: 0.9637 - val_loss: 0.6245 - val_accuracy: 0.7778\n",
            "Epoch 318/500\n",
            "104/104 [==============================] - 1s 5ms/step - loss: 0.0794 - accuracy: 0.9764 - val_loss: 0.6927 - val_accuracy: 0.7874\n",
            "Epoch 319/500\n",
            "104/104 [==============================] - 0s 5ms/step - loss: 0.1103 - accuracy: 0.9619 - val_loss: 0.7086 - val_accuracy: 0.8019\n",
            "Epoch 320/500\n",
            "104/104 [==============================] - 0s 5ms/step - loss: 0.0899 - accuracy: 0.9667 - val_loss: 0.7402 - val_accuracy: 0.7681\n",
            "Epoch 321/500\n",
            "104/104 [==============================] - 1s 5ms/step - loss: 0.0878 - accuracy: 0.9631 - val_loss: 0.6417 - val_accuracy: 0.7826\n",
            "Epoch 322/500\n",
            "104/104 [==============================] - 1s 5ms/step - loss: 0.1010 - accuracy: 0.9643 - val_loss: 0.6647 - val_accuracy: 0.8019\n",
            "Epoch 323/500\n",
            "104/104 [==============================] - 1s 5ms/step - loss: 0.1201 - accuracy: 0.9559 - val_loss: 0.7229 - val_accuracy: 0.7923\n",
            "Epoch 324/500\n",
            "104/104 [==============================] - 0s 5ms/step - loss: 0.0805 - accuracy: 0.9692 - val_loss: 0.6897 - val_accuracy: 0.7778\n",
            "Epoch 325/500\n",
            "104/104 [==============================] - 1s 5ms/step - loss: 0.1122 - accuracy: 0.9625 - val_loss: 0.8907 - val_accuracy: 0.7633\n",
            "Epoch 326/500\n",
            "104/104 [==============================] - 1s 5ms/step - loss: 0.1017 - accuracy: 0.9680 - val_loss: 0.6645 - val_accuracy: 0.8116\n",
            "Epoch 327/500\n",
            "104/104 [==============================] - 1s 5ms/step - loss: 0.1030 - accuracy: 0.9643 - val_loss: 0.7083 - val_accuracy: 0.7971\n",
            "Epoch 328/500\n",
            "104/104 [==============================] - 1s 5ms/step - loss: 0.0939 - accuracy: 0.9643 - val_loss: 0.7013 - val_accuracy: 0.7826\n",
            "Epoch 329/500\n",
            "104/104 [==============================] - 1s 5ms/step - loss: 0.1009 - accuracy: 0.9631 - val_loss: 0.6509 - val_accuracy: 0.7971\n",
            "Epoch 330/500\n",
            "104/104 [==============================] - 0s 5ms/step - loss: 0.0812 - accuracy: 0.9667 - val_loss: 0.6915 - val_accuracy: 0.7923\n",
            "Epoch 331/500\n",
            "104/104 [==============================] - 1s 5ms/step - loss: 0.1007 - accuracy: 0.9667 - val_loss: 0.6431 - val_accuracy: 0.7874\n",
            "Epoch 332/500\n",
            "104/104 [==============================] - 0s 5ms/step - loss: 0.0994 - accuracy: 0.9667 - val_loss: 0.7429 - val_accuracy: 0.8019\n",
            "Epoch 333/500\n",
            "104/104 [==============================] - 0s 5ms/step - loss: 0.0972 - accuracy: 0.9589 - val_loss: 0.7188 - val_accuracy: 0.8019\n",
            "Epoch 334/500\n",
            "104/104 [==============================] - 1s 5ms/step - loss: 0.1208 - accuracy: 0.9571 - val_loss: 0.6798 - val_accuracy: 0.7971\n",
            "Epoch 335/500\n",
            "104/104 [==============================] - 0s 5ms/step - loss: 0.0958 - accuracy: 0.9613 - val_loss: 0.7007 - val_accuracy: 0.7826\n",
            "Epoch 336/500\n",
            "104/104 [==============================] - 1s 5ms/step - loss: 0.0948 - accuracy: 0.9674 - val_loss: 0.6861 - val_accuracy: 0.8019\n",
            "Epoch 337/500\n",
            "104/104 [==============================] - 0s 5ms/step - loss: 0.0973 - accuracy: 0.9631 - val_loss: 0.6827 - val_accuracy: 0.8116\n",
            "Epoch 338/500\n",
            "104/104 [==============================] - 0s 5ms/step - loss: 0.0830 - accuracy: 0.9704 - val_loss: 0.7504 - val_accuracy: 0.7874\n",
            "Epoch 339/500\n",
            "104/104 [==============================] - 0s 4ms/step - loss: 0.0877 - accuracy: 0.9649 - val_loss: 0.6113 - val_accuracy: 0.8116\n",
            "Epoch 340/500\n",
            "104/104 [==============================] - 1s 5ms/step - loss: 0.1132 - accuracy: 0.9583 - val_loss: 0.6803 - val_accuracy: 0.8019\n",
            "Epoch 341/500\n",
            "104/104 [==============================] - 1s 5ms/step - loss: 0.0969 - accuracy: 0.9661 - val_loss: 0.6010 - val_accuracy: 0.8164\n",
            "Epoch 342/500\n",
            "104/104 [==============================] - 1s 5ms/step - loss: 0.0857 - accuracy: 0.9710 - val_loss: 0.6785 - val_accuracy: 0.7923\n",
            "Epoch 343/500\n",
            "104/104 [==============================] - 0s 4ms/step - loss: 0.0955 - accuracy: 0.9649 - val_loss: 0.6572 - val_accuracy: 0.8164\n",
            "Epoch 344/500\n",
            "104/104 [==============================] - 1s 5ms/step - loss: 0.1188 - accuracy: 0.9613 - val_loss: 0.7124 - val_accuracy: 0.7874\n",
            "Epoch 345/500\n",
            "104/104 [==============================] - 0s 5ms/step - loss: 0.0859 - accuracy: 0.9692 - val_loss: 0.7123 - val_accuracy: 0.7874\n",
            "Epoch 346/500\n",
            "104/104 [==============================] - 1s 5ms/step - loss: 0.0978 - accuracy: 0.9674 - val_loss: 0.6368 - val_accuracy: 0.7826\n",
            "Epoch 347/500\n",
            "104/104 [==============================] - 1s 5ms/step - loss: 0.0700 - accuracy: 0.9686 - val_loss: 0.6113 - val_accuracy: 0.7971\n",
            "Epoch 348/500\n",
            "104/104 [==============================] - 1s 5ms/step - loss: 0.0938 - accuracy: 0.9674 - val_loss: 0.6462 - val_accuracy: 0.7826\n",
            "Epoch 349/500\n",
            "104/104 [==============================] - 1s 5ms/step - loss: 0.0871 - accuracy: 0.9649 - val_loss: 0.6902 - val_accuracy: 0.7681\n",
            "Epoch 350/500\n",
            "104/104 [==============================] - 0s 5ms/step - loss: 0.1171 - accuracy: 0.9583 - val_loss: 0.7371 - val_accuracy: 0.7585\n",
            "Epoch 351/500\n",
            "104/104 [==============================] - 0s 5ms/step - loss: 0.1019 - accuracy: 0.9649 - val_loss: 0.7890 - val_accuracy: 0.7440\n",
            "Epoch 352/500\n",
            "104/104 [==============================] - 1s 5ms/step - loss: 0.0871 - accuracy: 0.9710 - val_loss: 0.6694 - val_accuracy: 0.7778\n",
            "Epoch 353/500\n",
            "104/104 [==============================] - 1s 5ms/step - loss: 0.0897 - accuracy: 0.9680 - val_loss: 0.6262 - val_accuracy: 0.8116\n",
            "Epoch 354/500\n",
            "104/104 [==============================] - 1s 5ms/step - loss: 0.0734 - accuracy: 0.9764 - val_loss: 0.6514 - val_accuracy: 0.8357\n",
            "Epoch 355/500\n",
            "104/104 [==============================] - 0s 5ms/step - loss: 0.0760 - accuracy: 0.9758 - val_loss: 0.7415 - val_accuracy: 0.7923\n",
            "Epoch 356/500\n",
            "104/104 [==============================] - 1s 5ms/step - loss: 0.0741 - accuracy: 0.9758 - val_loss: 0.7438 - val_accuracy: 0.7681\n",
            "Epoch 357/500\n",
            "104/104 [==============================] - 1s 5ms/step - loss: 0.0950 - accuracy: 0.9643 - val_loss: 0.6581 - val_accuracy: 0.7778\n",
            "Epoch 358/500\n",
            "104/104 [==============================] - 1s 5ms/step - loss: 0.0755 - accuracy: 0.9752 - val_loss: 0.6900 - val_accuracy: 0.8164\n",
            "Epoch 359/500\n",
            "104/104 [==============================] - 1s 5ms/step - loss: 0.0957 - accuracy: 0.9625 - val_loss: 0.6656 - val_accuracy: 0.7778\n",
            "Epoch 360/500\n",
            "104/104 [==============================] - 1s 5ms/step - loss: 0.0915 - accuracy: 0.9686 - val_loss: 0.6780 - val_accuracy: 0.7874\n",
            "Epoch 361/500\n",
            "104/104 [==============================] - 0s 5ms/step - loss: 0.0879 - accuracy: 0.9704 - val_loss: 0.6251 - val_accuracy: 0.7826\n",
            "Epoch 362/500\n",
            "104/104 [==============================] - 0s 5ms/step - loss: 0.0862 - accuracy: 0.9704 - val_loss: 0.6570 - val_accuracy: 0.8116\n",
            "Epoch 363/500\n",
            "104/104 [==============================] - 1s 5ms/step - loss: 0.0835 - accuracy: 0.9686 - val_loss: 0.7412 - val_accuracy: 0.7923\n",
            "Epoch 364/500\n",
            "104/104 [==============================] - 0s 5ms/step - loss: 0.0780 - accuracy: 0.9728 - val_loss: 0.6806 - val_accuracy: 0.8019\n",
            "Epoch 365/500\n",
            "104/104 [==============================] - 1s 5ms/step - loss: 0.0977 - accuracy: 0.9655 - val_loss: 0.7042 - val_accuracy: 0.7633\n",
            "Epoch 366/500\n",
            "104/104 [==============================] - 0s 5ms/step - loss: 0.0883 - accuracy: 0.9722 - val_loss: 0.7140 - val_accuracy: 0.7826\n",
            "Epoch 367/500\n",
            "104/104 [==============================] - 1s 5ms/step - loss: 0.0902 - accuracy: 0.9680 - val_loss: 0.7487 - val_accuracy: 0.8068\n",
            "Epoch 368/500\n",
            "104/104 [==============================] - 0s 5ms/step - loss: 0.0884 - accuracy: 0.9680 - val_loss: 0.6645 - val_accuracy: 0.7826\n",
            "Epoch 369/500\n",
            "104/104 [==============================] - 1s 5ms/step - loss: 0.1041 - accuracy: 0.9607 - val_loss: 0.7896 - val_accuracy: 0.7440\n",
            "Epoch 370/500\n",
            "104/104 [==============================] - 1s 5ms/step - loss: 0.0794 - accuracy: 0.9728 - val_loss: 0.7840 - val_accuracy: 0.7633\n",
            "Epoch 371/500\n",
            "104/104 [==============================] - 1s 5ms/step - loss: 0.1051 - accuracy: 0.9619 - val_loss: 0.7292 - val_accuracy: 0.7874\n",
            "Epoch 372/500\n",
            "104/104 [==============================] - 1s 5ms/step - loss: 0.1022 - accuracy: 0.9667 - val_loss: 0.7048 - val_accuracy: 0.7681\n",
            "Epoch 373/500\n",
            "104/104 [==============================] - 1s 5ms/step - loss: 0.0801 - accuracy: 0.9716 - val_loss: 0.7797 - val_accuracy: 0.7681\n",
            "Epoch 374/500\n",
            "104/104 [==============================] - 0s 5ms/step - loss: 0.0682 - accuracy: 0.9764 - val_loss: 0.6861 - val_accuracy: 0.7681\n",
            "Epoch 375/500\n",
            "104/104 [==============================] - 1s 5ms/step - loss: 0.0767 - accuracy: 0.9746 - val_loss: 0.8661 - val_accuracy: 0.7295\n",
            "Epoch 376/500\n",
            "104/104 [==============================] - 1s 5ms/step - loss: 0.1071 - accuracy: 0.9613 - val_loss: 0.8075 - val_accuracy: 0.7778\n",
            "Epoch 377/500\n",
            "104/104 [==============================] - 1s 5ms/step - loss: 0.0869 - accuracy: 0.9704 - val_loss: 0.7176 - val_accuracy: 0.7874\n",
            "Epoch 378/500\n",
            "104/104 [==============================] - 0s 5ms/step - loss: 0.0953 - accuracy: 0.9710 - val_loss: 0.7135 - val_accuracy: 0.7874\n",
            "Epoch 379/500\n",
            "104/104 [==============================] - 0s 5ms/step - loss: 0.0932 - accuracy: 0.9667 - val_loss: 0.6652 - val_accuracy: 0.7923\n",
            "Epoch 380/500\n",
            "104/104 [==============================] - 1s 5ms/step - loss: 0.0706 - accuracy: 0.9734 - val_loss: 0.6601 - val_accuracy: 0.7971\n",
            "Epoch 381/500\n",
            "104/104 [==============================] - 1s 5ms/step - loss: 0.0680 - accuracy: 0.9770 - val_loss: 0.7757 - val_accuracy: 0.7343\n",
            "Epoch 382/500\n",
            "104/104 [==============================] - 1s 5ms/step - loss: 0.0764 - accuracy: 0.9692 - val_loss: 0.7659 - val_accuracy: 0.7681\n",
            "Epoch 383/500\n",
            "104/104 [==============================] - 1s 5ms/step - loss: 0.0801 - accuracy: 0.9746 - val_loss: 0.7302 - val_accuracy: 0.7826\n",
            "Epoch 384/500\n",
            "104/104 [==============================] - 0s 5ms/step - loss: 0.0656 - accuracy: 0.9782 - val_loss: 0.7148 - val_accuracy: 0.8116\n",
            "Epoch 385/500\n",
            "104/104 [==============================] - 1s 5ms/step - loss: 0.0810 - accuracy: 0.9686 - val_loss: 0.6967 - val_accuracy: 0.8116\n",
            "Epoch 386/500\n",
            "104/104 [==============================] - 1s 5ms/step - loss: 0.0835 - accuracy: 0.9667 - val_loss: 0.8374 - val_accuracy: 0.7536\n",
            "Epoch 387/500\n",
            "104/104 [==============================] - 1s 5ms/step - loss: 0.0688 - accuracy: 0.9740 - val_loss: 0.7752 - val_accuracy: 0.7681\n",
            "Epoch 388/500\n",
            "104/104 [==============================] - 0s 5ms/step - loss: 0.0709 - accuracy: 0.9764 - val_loss: 0.8117 - val_accuracy: 0.7536\n",
            "Epoch 389/500\n",
            "104/104 [==============================] - 1s 5ms/step - loss: 0.0650 - accuracy: 0.9788 - val_loss: 0.6649 - val_accuracy: 0.7923\n",
            "Epoch 390/500\n",
            "104/104 [==============================] - 1s 5ms/step - loss: 0.0676 - accuracy: 0.9758 - val_loss: 0.7710 - val_accuracy: 0.7971\n",
            "Epoch 391/500\n",
            "104/104 [==============================] - 1s 5ms/step - loss: 0.0696 - accuracy: 0.9740 - val_loss: 0.6118 - val_accuracy: 0.8116\n",
            "Epoch 392/500\n",
            "104/104 [==============================] - 0s 5ms/step - loss: 0.0667 - accuracy: 0.9746 - val_loss: 0.7561 - val_accuracy: 0.7826\n",
            "Epoch 393/500\n",
            "104/104 [==============================] - 0s 5ms/step - loss: 0.0886 - accuracy: 0.9728 - val_loss: 0.6987 - val_accuracy: 0.7536\n",
            "Epoch 394/500\n",
            "104/104 [==============================] - 1s 5ms/step - loss: 0.0633 - accuracy: 0.9770 - val_loss: 0.7283 - val_accuracy: 0.7778\n",
            "Epoch 395/500\n",
            "104/104 [==============================] - 1s 5ms/step - loss: 0.1026 - accuracy: 0.9686 - val_loss: 0.7063 - val_accuracy: 0.7971\n",
            "Epoch 396/500\n",
            "104/104 [==============================] - 0s 5ms/step - loss: 0.0852 - accuracy: 0.9649 - val_loss: 0.7501 - val_accuracy: 0.7971\n",
            "Epoch 397/500\n",
            "104/104 [==============================] - 1s 5ms/step - loss: 0.0989 - accuracy: 0.9649 - val_loss: 0.7932 - val_accuracy: 0.7729\n",
            "Epoch 398/500\n",
            "104/104 [==============================] - 1s 5ms/step - loss: 0.0868 - accuracy: 0.9698 - val_loss: 0.6912 - val_accuracy: 0.7778\n",
            "Epoch 399/500\n",
            "104/104 [==============================] - 1s 5ms/step - loss: 0.0907 - accuracy: 0.9667 - val_loss: 0.7378 - val_accuracy: 0.7440\n",
            "Epoch 400/500\n",
            "104/104 [==============================] - 1s 5ms/step - loss: 0.0628 - accuracy: 0.9788 - val_loss: 0.6401 - val_accuracy: 0.7826\n",
            "Epoch 401/500\n",
            "104/104 [==============================] - 1s 5ms/step - loss: 0.0469 - accuracy: 0.9825 - val_loss: 0.6204 - val_accuracy: 0.8116\n",
            "Epoch 402/500\n",
            "104/104 [==============================] - 1s 5ms/step - loss: 0.0573 - accuracy: 0.9819 - val_loss: 0.6098 - val_accuracy: 0.8261\n",
            "Epoch 403/500\n",
            "104/104 [==============================] - 1s 5ms/step - loss: 0.0924 - accuracy: 0.9680 - val_loss: 0.6809 - val_accuracy: 0.7923\n",
            "Epoch 404/500\n",
            "104/104 [==============================] - 1s 5ms/step - loss: 0.0924 - accuracy: 0.9637 - val_loss: 0.7574 - val_accuracy: 0.7971\n",
            "Epoch 405/500\n",
            "104/104 [==============================] - 1s 5ms/step - loss: 0.0735 - accuracy: 0.9686 - val_loss: 0.7967 - val_accuracy: 0.7536\n",
            "Epoch 406/500\n",
            "104/104 [==============================] - 1s 5ms/step - loss: 0.0973 - accuracy: 0.9643 - val_loss: 0.7498 - val_accuracy: 0.7874\n",
            "Epoch 407/500\n",
            "104/104 [==============================] - 1s 5ms/step - loss: 0.0707 - accuracy: 0.9758 - val_loss: 0.6737 - val_accuracy: 0.7729\n",
            "Epoch 408/500\n",
            "104/104 [==============================] - 0s 5ms/step - loss: 0.1143 - accuracy: 0.9631 - val_loss: 0.7151 - val_accuracy: 0.8116\n",
            "Epoch 409/500\n",
            "104/104 [==============================] - 1s 5ms/step - loss: 0.0807 - accuracy: 0.9692 - val_loss: 0.6497 - val_accuracy: 0.7971\n",
            "Epoch 410/500\n",
            "104/104 [==============================] - 1s 5ms/step - loss: 0.0845 - accuracy: 0.9686 - val_loss: 0.6057 - val_accuracy: 0.8213\n",
            "Epoch 411/500\n",
            "104/104 [==============================] - 0s 5ms/step - loss: 0.0776 - accuracy: 0.9752 - val_loss: 0.7586 - val_accuracy: 0.7633\n",
            "Epoch 412/500\n",
            "104/104 [==============================] - 1s 5ms/step - loss: 0.0544 - accuracy: 0.9813 - val_loss: 0.7742 - val_accuracy: 0.7923\n",
            "Epoch 413/500\n",
            "104/104 [==============================] - 1s 5ms/step - loss: 0.0652 - accuracy: 0.9788 - val_loss: 0.6851 - val_accuracy: 0.8019\n",
            "Epoch 414/500\n",
            "104/104 [==============================] - 1s 5ms/step - loss: 0.0676 - accuracy: 0.9758 - val_loss: 0.7749 - val_accuracy: 0.7585\n",
            "Epoch 415/500\n",
            "104/104 [==============================] - 0s 5ms/step - loss: 0.0966 - accuracy: 0.9680 - val_loss: 0.7080 - val_accuracy: 0.8164\n",
            "Epoch 416/500\n",
            "104/104 [==============================] - 1s 5ms/step - loss: 0.0715 - accuracy: 0.9716 - val_loss: 0.7314 - val_accuracy: 0.8019\n",
            "Epoch 417/500\n",
            "104/104 [==============================] - 0s 5ms/step - loss: 0.0657 - accuracy: 0.9807 - val_loss: 0.7254 - val_accuracy: 0.7585\n",
            "Epoch 418/500\n",
            "104/104 [==============================] - 1s 5ms/step - loss: 0.0507 - accuracy: 0.9819 - val_loss: 0.6549 - val_accuracy: 0.7681\n",
            "Epoch 419/500\n",
            "104/104 [==============================] - 0s 5ms/step - loss: 0.0850 - accuracy: 0.9661 - val_loss: 0.7373 - val_accuracy: 0.8019\n",
            "Epoch 420/500\n",
            "104/104 [==============================] - 0s 5ms/step - loss: 0.0993 - accuracy: 0.9637 - val_loss: 0.7230 - val_accuracy: 0.7874\n",
            "Epoch 421/500\n",
            "104/104 [==============================] - 0s 5ms/step - loss: 0.0638 - accuracy: 0.9782 - val_loss: 0.7088 - val_accuracy: 0.7826\n",
            "Epoch 422/500\n",
            "104/104 [==============================] - 1s 5ms/step - loss: 0.0678 - accuracy: 0.9734 - val_loss: 0.8041 - val_accuracy: 0.7633\n",
            "Epoch 423/500\n",
            "104/104 [==============================] - 1s 5ms/step - loss: 0.0991 - accuracy: 0.9613 - val_loss: 0.6975 - val_accuracy: 0.7681\n",
            "Epoch 424/500\n",
            "104/104 [==============================] - 1s 5ms/step - loss: 0.0851 - accuracy: 0.9746 - val_loss: 0.7284 - val_accuracy: 0.8068\n",
            "Epoch 425/500\n",
            "104/104 [==============================] - 1s 5ms/step - loss: 0.0801 - accuracy: 0.9710 - val_loss: 0.6790 - val_accuracy: 0.7826\n",
            "Epoch 426/500\n",
            "104/104 [==============================] - 0s 5ms/step - loss: 0.0781 - accuracy: 0.9740 - val_loss: 0.6179 - val_accuracy: 0.8068\n",
            "Epoch 427/500\n",
            "104/104 [==============================] - 1s 5ms/step - loss: 0.0686 - accuracy: 0.9734 - val_loss: 0.7551 - val_accuracy: 0.7923\n",
            "Epoch 428/500\n",
            "104/104 [==============================] - 0s 5ms/step - loss: 0.0632 - accuracy: 0.9794 - val_loss: 0.7762 - val_accuracy: 0.7585\n",
            "Epoch 429/500\n",
            "104/104 [==============================] - 1s 5ms/step - loss: 0.0832 - accuracy: 0.9716 - val_loss: 0.7026 - val_accuracy: 0.7826\n",
            "Epoch 430/500\n",
            "104/104 [==============================] - 0s 5ms/step - loss: 0.0705 - accuracy: 0.9740 - val_loss: 0.7787 - val_accuracy: 0.7391\n",
            "Epoch 431/500\n",
            "104/104 [==============================] - 1s 5ms/step - loss: 0.0684 - accuracy: 0.9746 - val_loss: 0.7579 - val_accuracy: 0.7729\n",
            "Epoch 432/500\n",
            "104/104 [==============================] - 0s 5ms/step - loss: 0.0611 - accuracy: 0.9764 - val_loss: 0.8308 - val_accuracy: 0.7729\n",
            "Epoch 433/500\n",
            "104/104 [==============================] - 0s 5ms/step - loss: 0.0677 - accuracy: 0.9764 - val_loss: 0.7818 - val_accuracy: 0.8068\n",
            "Epoch 434/500\n",
            "104/104 [==============================] - 1s 5ms/step - loss: 0.0692 - accuracy: 0.9716 - val_loss: 0.6782 - val_accuracy: 0.7826\n",
            "Epoch 435/500\n",
            "104/104 [==============================] - 0s 5ms/step - loss: 0.0657 - accuracy: 0.9758 - val_loss: 0.7538 - val_accuracy: 0.7681\n",
            "Epoch 436/500\n",
            "104/104 [==============================] - 1s 5ms/step - loss: 0.0685 - accuracy: 0.9764 - val_loss: 0.7643 - val_accuracy: 0.8068\n",
            "Epoch 437/500\n",
            "104/104 [==============================] - 1s 5ms/step - loss: 0.0773 - accuracy: 0.9752 - val_loss: 0.7855 - val_accuracy: 0.7826\n",
            "Epoch 438/500\n",
            "104/104 [==============================] - 1s 5ms/step - loss: 0.0451 - accuracy: 0.9855 - val_loss: 0.7247 - val_accuracy: 0.8019\n",
            "Epoch 439/500\n",
            "104/104 [==============================] - 1s 5ms/step - loss: 0.0834 - accuracy: 0.9698 - val_loss: 0.7559 - val_accuracy: 0.7778\n",
            "Epoch 440/500\n",
            "104/104 [==============================] - 1s 5ms/step - loss: 0.0992 - accuracy: 0.9655 - val_loss: 0.8510 - val_accuracy: 0.8068\n",
            "Epoch 441/500\n",
            "104/104 [==============================] - 1s 5ms/step - loss: 0.0800 - accuracy: 0.9698 - val_loss: 0.7620 - val_accuracy: 0.7971\n",
            "Epoch 442/500\n",
            "104/104 [==============================] - 1s 5ms/step - loss: 0.0507 - accuracy: 0.9825 - val_loss: 0.7279 - val_accuracy: 0.8019\n",
            "Epoch 443/500\n",
            "104/104 [==============================] - 1s 5ms/step - loss: 0.0719 - accuracy: 0.9776 - val_loss: 0.7897 - val_accuracy: 0.7826\n",
            "Epoch 444/500\n",
            "104/104 [==============================] - 1s 5ms/step - loss: 0.0884 - accuracy: 0.9710 - val_loss: 0.8071 - val_accuracy: 0.7488\n",
            "Epoch 445/500\n",
            "104/104 [==============================] - 1s 5ms/step - loss: 0.0645 - accuracy: 0.9716 - val_loss: 0.7708 - val_accuracy: 0.7826\n",
            "Epoch 446/500\n",
            "104/104 [==============================] - 1s 5ms/step - loss: 0.0827 - accuracy: 0.9692 - val_loss: 0.6928 - val_accuracy: 0.8068\n",
            "Epoch 447/500\n",
            "104/104 [==============================] - 1s 5ms/step - loss: 0.0717 - accuracy: 0.9734 - val_loss: 0.7683 - val_accuracy: 0.8068\n",
            "Epoch 448/500\n",
            "104/104 [==============================] - 1s 5ms/step - loss: 0.0857 - accuracy: 0.9655 - val_loss: 0.6177 - val_accuracy: 0.8309\n",
            "Epoch 449/500\n",
            "104/104 [==============================] - 1s 5ms/step - loss: 0.0895 - accuracy: 0.9680 - val_loss: 0.6637 - val_accuracy: 0.8164\n",
            "Epoch 450/500\n",
            "104/104 [==============================] - 1s 5ms/step - loss: 0.0696 - accuracy: 0.9770 - val_loss: 0.6933 - val_accuracy: 0.7874\n",
            "Epoch 451/500\n",
            "104/104 [==============================] - 0s 5ms/step - loss: 0.0906 - accuracy: 0.9680 - val_loss: 0.7262 - val_accuracy: 0.7826\n",
            "Epoch 452/500\n",
            "104/104 [==============================] - 1s 5ms/step - loss: 0.0905 - accuracy: 0.9680 - val_loss: 0.6417 - val_accuracy: 0.8261\n",
            "Epoch 453/500\n",
            "104/104 [==============================] - 1s 5ms/step - loss: 0.0566 - accuracy: 0.9776 - val_loss: 0.7063 - val_accuracy: 0.7778\n",
            "Epoch 454/500\n",
            "104/104 [==============================] - 0s 5ms/step - loss: 0.0827 - accuracy: 0.9740 - val_loss: 0.7126 - val_accuracy: 0.8019\n",
            "Epoch 455/500\n",
            "104/104 [==============================] - 1s 5ms/step - loss: 0.0548 - accuracy: 0.9800 - val_loss: 0.7674 - val_accuracy: 0.7633\n",
            "Epoch 456/500\n",
            "104/104 [==============================] - 1s 5ms/step - loss: 0.0775 - accuracy: 0.9728 - val_loss: 0.8018 - val_accuracy: 0.7681\n",
            "Epoch 457/500\n",
            "104/104 [==============================] - 1s 5ms/step - loss: 0.0746 - accuracy: 0.9752 - val_loss: 0.8289 - val_accuracy: 0.7633\n",
            "Epoch 458/500\n",
            "104/104 [==============================] - 1s 5ms/step - loss: 0.0718 - accuracy: 0.9758 - val_loss: 0.7244 - val_accuracy: 0.8019\n",
            "Epoch 459/500\n",
            "104/104 [==============================] - 1s 5ms/step - loss: 0.0488 - accuracy: 0.9794 - val_loss: 0.8017 - val_accuracy: 0.7971\n",
            "Epoch 460/500\n",
            "104/104 [==============================] - 1s 5ms/step - loss: 0.0482 - accuracy: 0.9837 - val_loss: 0.6895 - val_accuracy: 0.7874\n",
            "Epoch 461/500\n",
            "104/104 [==============================] - 1s 5ms/step - loss: 0.0533 - accuracy: 0.9819 - val_loss: 0.6930 - val_accuracy: 0.8116\n",
            "Epoch 462/500\n",
            "104/104 [==============================] - 0s 5ms/step - loss: 0.0523 - accuracy: 0.9819 - val_loss: 0.7913 - val_accuracy: 0.7778\n",
            "Epoch 463/500\n",
            "104/104 [==============================] - 1s 5ms/step - loss: 0.0533 - accuracy: 0.9807 - val_loss: 0.7580 - val_accuracy: 0.8068\n",
            "Epoch 464/500\n",
            "104/104 [==============================] - 1s 5ms/step - loss: 0.0478 - accuracy: 0.9849 - val_loss: 0.7303 - val_accuracy: 0.8068\n",
            "Epoch 465/500\n",
            "104/104 [==============================] - 1s 5ms/step - loss: 0.0600 - accuracy: 0.9776 - val_loss: 0.7493 - val_accuracy: 0.7923\n",
            "Epoch 466/500\n",
            "104/104 [==============================] - 1s 5ms/step - loss: 0.0704 - accuracy: 0.9770 - val_loss: 0.7982 - val_accuracy: 0.7729\n",
            "Epoch 467/500\n",
            "104/104 [==============================] - 0s 5ms/step - loss: 0.0766 - accuracy: 0.9728 - val_loss: 0.6712 - val_accuracy: 0.7778\n",
            "Epoch 468/500\n",
            "104/104 [==============================] - 1s 5ms/step - loss: 0.0728 - accuracy: 0.9740 - val_loss: 0.7584 - val_accuracy: 0.7826\n",
            "Epoch 469/500\n",
            "104/104 [==============================] - 1s 5ms/step - loss: 0.0681 - accuracy: 0.9770 - val_loss: 0.7808 - val_accuracy: 0.7874\n",
            "Epoch 470/500\n",
            "104/104 [==============================] - 1s 5ms/step - loss: 0.0749 - accuracy: 0.9752 - val_loss: 0.8047 - val_accuracy: 0.8164\n",
            "Epoch 471/500\n",
            "104/104 [==============================] - 1s 5ms/step - loss: 0.0802 - accuracy: 0.9734 - val_loss: 0.6749 - val_accuracy: 0.7923\n",
            "Epoch 472/500\n",
            "104/104 [==============================] - 0s 5ms/step - loss: 0.0824 - accuracy: 0.9710 - val_loss: 0.7412 - val_accuracy: 0.7681\n",
            "Epoch 473/500\n",
            "104/104 [==============================] - 1s 5ms/step - loss: 0.0981 - accuracy: 0.9680 - val_loss: 0.6818 - val_accuracy: 0.7923\n",
            "Epoch 474/500\n",
            "104/104 [==============================] - 0s 5ms/step - loss: 0.0710 - accuracy: 0.9740 - val_loss: 0.5902 - val_accuracy: 0.8068\n",
            "Epoch 475/500\n",
            "104/104 [==============================] - 1s 5ms/step - loss: 0.0577 - accuracy: 0.9788 - val_loss: 0.6193 - val_accuracy: 0.8068\n",
            "Epoch 476/500\n",
            "104/104 [==============================] - 1s 5ms/step - loss: 0.0747 - accuracy: 0.9740 - val_loss: 0.7102 - val_accuracy: 0.8068\n",
            "Epoch 477/500\n",
            "104/104 [==============================] - 0s 5ms/step - loss: 0.0616 - accuracy: 0.9794 - val_loss: 0.6951 - val_accuracy: 0.8116\n",
            "Epoch 478/500\n",
            "104/104 [==============================] - 0s 5ms/step - loss: 0.0551 - accuracy: 0.9831 - val_loss: 0.7756 - val_accuracy: 0.7536\n",
            "Epoch 479/500\n",
            "104/104 [==============================] - 1s 5ms/step - loss: 0.0655 - accuracy: 0.9776 - val_loss: 0.7584 - val_accuracy: 0.7874\n",
            "Epoch 480/500\n",
            "104/104 [==============================] - 1s 5ms/step - loss: 0.0749 - accuracy: 0.9740 - val_loss: 0.7075 - val_accuracy: 0.7778\n",
            "Epoch 481/500\n",
            "104/104 [==============================] - 1s 5ms/step - loss: 0.0470 - accuracy: 0.9825 - val_loss: 0.7013 - val_accuracy: 0.7874\n",
            "Epoch 482/500\n",
            "104/104 [==============================] - 0s 5ms/step - loss: 0.0391 - accuracy: 0.9909 - val_loss: 0.5740 - val_accuracy: 0.8213\n",
            "Epoch 483/500\n",
            "104/104 [==============================] - 1s 5ms/step - loss: 0.0714 - accuracy: 0.9758 - val_loss: 0.6728 - val_accuracy: 0.7923\n",
            "Epoch 484/500\n",
            "104/104 [==============================] - 1s 5ms/step - loss: 0.0446 - accuracy: 0.9813 - val_loss: 0.7092 - val_accuracy: 0.7874\n",
            "Epoch 485/500\n",
            "104/104 [==============================] - 1s 5ms/step - loss: 0.0460 - accuracy: 0.9825 - val_loss: 0.7181 - val_accuracy: 0.7778\n",
            "Epoch 486/500\n",
            "104/104 [==============================] - 1s 5ms/step - loss: 0.0720 - accuracy: 0.9752 - val_loss: 0.7494 - val_accuracy: 0.7488\n",
            "Epoch 487/500\n",
            "104/104 [==============================] - 0s 5ms/step - loss: 0.0919 - accuracy: 0.9655 - val_loss: 0.6605 - val_accuracy: 0.8068\n",
            "Epoch 488/500\n",
            "104/104 [==============================] - 0s 5ms/step - loss: 0.0688 - accuracy: 0.9704 - val_loss: 0.7419 - val_accuracy: 0.8019\n",
            "Epoch 489/500\n",
            "104/104 [==============================] - 0s 5ms/step - loss: 0.0614 - accuracy: 0.9752 - val_loss: 0.7600 - val_accuracy: 0.7874\n",
            "Epoch 490/500\n",
            "104/104 [==============================] - 1s 5ms/step - loss: 0.0603 - accuracy: 0.9794 - val_loss: 0.6970 - val_accuracy: 0.7874\n",
            "Epoch 491/500\n",
            "104/104 [==============================] - 1s 5ms/step - loss: 0.0879 - accuracy: 0.9667 - val_loss: 0.7286 - val_accuracy: 0.8068\n",
            "Epoch 492/500\n",
            "104/104 [==============================] - 1s 5ms/step - loss: 0.0739 - accuracy: 0.9728 - val_loss: 0.9499 - val_accuracy: 0.7343\n",
            "Epoch 493/500\n",
            "104/104 [==============================] - 0s 5ms/step - loss: 0.0602 - accuracy: 0.9734 - val_loss: 0.8136 - val_accuracy: 0.7923\n",
            "Epoch 494/500\n",
            "104/104 [==============================] - 1s 5ms/step - loss: 0.0480 - accuracy: 0.9807 - val_loss: 0.7073 - val_accuracy: 0.7874\n",
            "Epoch 495/500\n",
            "104/104 [==============================] - 1s 5ms/step - loss: 0.0638 - accuracy: 0.9788 - val_loss: 0.7565 - val_accuracy: 0.7729\n",
            "Epoch 496/500\n",
            "104/104 [==============================] - 1s 5ms/step - loss: 0.0616 - accuracy: 0.9794 - val_loss: 0.8075 - val_accuracy: 0.7681\n",
            "Epoch 497/500\n",
            "104/104 [==============================] - 1s 5ms/step - loss: 0.0703 - accuracy: 0.9746 - val_loss: 0.7297 - val_accuracy: 0.7923\n",
            "Epoch 498/500\n",
            "104/104 [==============================] - 1s 5ms/step - loss: 0.0594 - accuracy: 0.9813 - val_loss: 0.8257 - val_accuracy: 0.7826\n",
            "Epoch 499/500\n",
            "104/104 [==============================] - 0s 5ms/step - loss: 0.0505 - accuracy: 0.9807 - val_loss: 0.8345 - val_accuracy: 0.7874\n",
            "Epoch 500/500\n",
            "104/104 [==============================] - 1s 5ms/step - loss: 0.0785 - accuracy: 0.9764 - val_loss: 0.7358 - val_accuracy: 0.7826\n"
          ]
        }
      ]
    },
    {
      "cell_type": "code",
      "source": [
        "plt.plot(cnnhistory.history['loss'])\n",
        "plt.plot(cnnhistory.history['val_loss'])\n",
        "plt.title('model loss')\n",
        "plt.ylabel('loss')\n",
        "plt.xlabel('epoch')\n",
        "plt.legend(['train','test'], loc='upper left')\n",
        "plt.show()"
      ],
      "metadata": {
        "colab": {
          "base_uri": "https://localhost:8080/",
          "height": 295
        },
        "id": "oQYnuaCrDH_A",
        "outputId": "73589b1a-d927-4807-a8bc-2e487dba1066"
      },
      "execution_count": 22,
      "outputs": [
        {
          "output_type": "display_data",
          "data": {
            "text/plain": [
              "<Figure size 432x288 with 1 Axes>"
            ],
            "image/png": "[encoded data removed]"
          },
          "metadata": {
            "needs_background": "light"
          }
        }
      ]
    },
    {
      "cell_type": "code",
      "source": [
        "plt.plot(cnnhistory.history['accuracy'])\n",
        "plt.plot(cnnhistory.history['val_accuracy'])\n",
        "plt.title('model accuracy')\n",
        "plt.ylabel('accuracy')\n",
        "plt.xlabel('epoch')\n",
        "plt.legend(['train','test'], loc='upper left')\n",
        "plt.show()"
      ],
      "metadata": {
        "colab": {
          "base_uri": "https://localhost:8080/",
          "height": 295
        },
        "id": "IFkTuO8nDNdq",
        "outputId": "1f9b6695-70a8-495d-ba9b-43950f1feab1"
      },
      "execution_count": 23,
      "outputs": [
        {
          "output_type": "display_data",
          "data": {
            "text/plain": [
              "<Figure size 432x288 with 1 Axes>"
            ],
            "image/png": "[encoded data removed]"
          },
          "metadata": {
            "needs_background": "light"
          }
        }
      ]
    },
    {
      "cell_type": "code",
      "source": [
        "#predictions = model.predict_classes(x_testcnn)\n",
        "predictions = model.predict(x_testcnn)"
      ],
      "metadata": {
        "id": "A2xtrN5wDQgY"
      },
      "execution_count": 24,
      "outputs": []
    },
    {
      "cell_type": "code",
      "source": [
        "predictions"
      ],
      "metadata": {
        "colab": {
          "base_uri": "https://localhost:8080/"
        },
        "id": "_f_ohjXKDUpY",
        "outputId": "c834bac9-0d7b-4ee0-bc4b-117c1d7f7b7a"
      },
      "execution_count": 25,
      "outputs": [
        {
          "output_type": "execute_result",
          "data": {
            "text/plain": [
              "array([[4.3227934e-12, 2.7963868e-12, 1.0624469e-05, 2.0625208e-08,\n",
              "        1.5040411e-01, 8.4958518e-01],\n",
              "       [2.6158199e-02, 9.7366184e-01, 5.2510933e-07, 1.7046482e-04,\n",
              "        7.7932718e-06, 1.1681690e-06],\n",
              "       [1.4714373e-13, 1.4370138e-10, 9.9997771e-01, 4.3743004e-08,\n",
              "        1.0854111e-05, 1.1453767e-05],\n",
              "       ...,\n",
              "       [1.8661425e-10, 6.4984814e-12, 3.5426444e-06, 2.6200933e-10,\n",
              "        9.9993145e-01, 6.4999731e-05],\n",
              "       [4.3480632e-06, 5.3695174e-05, 2.3368474e-04, 7.2460127e-01,\n",
              "        1.8598945e-03, 2.7324718e-01],\n",
              "       [1.0693762e-03, 1.9441180e-04, 1.4089547e-03, 1.1030245e-04,\n",
              "        9.9721658e-01, 4.0566508e-07]], dtype=float32)"
            ]
          },
          "metadata": {},
          "execution_count": 25
        }
      ]
    },
    {
      "cell_type": "code",
      "source": [
        "y_test"
      ],
      "metadata": {
        "colab": {
          "base_uri": "https://localhost:8080/"
        },
        "id": "cmA2bFgsDW3D",
        "outputId": "6c6d9ac1-efdf-42c9-f59f-2341ae808302"
      },
      "execution_count": 26,
      "outputs": [
        {
          "output_type": "execute_result",
          "data": {
            "text/plain": [
              "array([5, 1, 2, 5, 3, 4, 2, 0, 3, 1, 3, 2, 1, 4, 3, 0, 5, 0, 2, 5, 0, 0,\n",
              "       1, 3, 2, 3, 2, 5, 4, 2, 2, 3, 1, 2, 5, 5, 3, 5, 3, 3, 4, 1, 3, 2,\n",
              "       3, 1, 5, 3, 1, 2, 4, 4, 5, 5, 5, 1, 2, 3, 2, 5, 0, 2, 4, 2, 5, 4,\n",
              "       3, 0, 1, 2, 5, 2, 1, 2, 4, 5, 4, 1, 5, 5, 3, 1, 5, 3, 2, 4, 2, 5,\n",
              "       0, 5, 0, 5, 4, 0, 2, 4, 0, 2, 2, 0, 2, 3, 5, 3, 5, 5, 3, 1, 2, 2,\n",
              "       2, 1, 3, 2, 1, 3, 4, 4, 1, 1, 2, 4, 4, 1, 4, 2, 0, 4, 5, 5, 3, 1,\n",
              "       2, 1, 5, 5, 1, 2, 3, 3, 0, 3, 3, 0, 1, 0, 1, 2, 1, 5, 1, 2, 2, 0,\n",
              "       1, 1, 1, 1, 1, 4, 0, 1, 5, 1, 4, 5, 5, 4, 1, 0, 3, 5, 2, 3, 0, 4,\n",
              "       1, 3, 1, 0, 5, 5, 3, 5, 4, 5, 4, 0, 4, 1, 2, 1, 5, 0, 4, 3, 2, 1,\n",
              "       0, 3, 5, 0, 4, 5, 4, 5, 4])"
            ]
          },
          "metadata": {},
          "execution_count": 26
        }
      ]
    },
    {
      "cell_type": "code",
      "source": [
        "new_Ytest = y_test.astype(int)"
      ],
      "metadata": {
        "id": "0PHDKWJWDY3g"
      },
      "execution_count": 27,
      "outputs": []
    },
    {
      "cell_type": "code",
      "source": [
        "new_Ytest"
      ],
      "metadata": {
        "colab": {
          "base_uri": "https://localhost:8080/"
        },
        "id": "k68v2i-pDbZE",
        "outputId": "5d43d863-01f4-4a00-94e0-c26e132c8c65"
      },
      "execution_count": 28,
      "outputs": [
        {
          "output_type": "execute_result",
          "data": {
            "text/plain": [
              "array([5, 1, 2, 5, 3, 4, 2, 0, 3, 1, 3, 2, 1, 4, 3, 0, 5, 0, 2, 5, 0, 0,\n",
              "       1, 3, 2, 3, 2, 5, 4, 2, 2, 3, 1, 2, 5, 5, 3, 5, 3, 3, 4, 1, 3, 2,\n",
              "       3, 1, 5, 3, 1, 2, 4, 4, 5, 5, 5, 1, 2, 3, 2, 5, 0, 2, 4, 2, 5, 4,\n",
              "       3, 0, 1, 2, 5, 2, 1, 2, 4, 5, 4, 1, 5, 5, 3, 1, 5, 3, 2, 4, 2, 5,\n",
              "       0, 5, 0, 5, 4, 0, 2, 4, 0, 2, 2, 0, 2, 3, 5, 3, 5, 5, 3, 1, 2, 2,\n",
              "       2, 1, 3, 2, 1, 3, 4, 4, 1, 1, 2, 4, 4, 1, 4, 2, 0, 4, 5, 5, 3, 1,\n",
              "       2, 1, 5, 5, 1, 2, 3, 3, 0, 3, 3, 0, 1, 0, 1, 2, 1, 5, 1, 2, 2, 0,\n",
              "       1, 1, 1, 1, 1, 4, 0, 1, 5, 1, 4, 5, 5, 4, 1, 0, 3, 5, 2, 3, 0, 4,\n",
              "       1, 3, 1, 0, 5, 5, 3, 5, 4, 5, 4, 0, 4, 1, 2, 1, 5, 0, 4, 3, 2, 1,\n",
              "       0, 3, 5, 0, 4, 5, 4, 5, 4])"
            ]
          },
          "metadata": {},
          "execution_count": 28
        }
      ]
    },
    {
      "cell_type": "code",
      "source": [
        "preds1=predictions.argmax(axis=1)\n",
        "preds1"
      ],
      "metadata": {
        "colab": {
          "base_uri": "https://localhost:8080/"
        },
        "id": "4_cAI39VFhtp",
        "outputId": "3483f82f-fd51-4bb2-8e40-49428cc3831c"
      },
      "execution_count": 29,
      "outputs": [
        {
          "output_type": "execute_result",
          "data": {
            "text/plain": [
              "array([5, 1, 2, 5, 1, 4, 2, 0, 3, 1, 5, 2, 1, 4, 3, 0, 5, 1, 2, 5, 0, 0,\n",
              "       1, 3, 2, 5, 2, 5, 4, 4, 2, 3, 0, 2, 5, 5, 1, 5, 3, 2, 4, 1, 2, 2,\n",
              "       3, 1, 3, 3, 1, 4, 4, 4, 5, 5, 5, 1, 2, 3, 2, 5, 0, 2, 4, 2, 5, 4,\n",
              "       0, 4, 1, 2, 5, 2, 1, 2, 4, 2, 4, 3, 5, 2, 3, 1, 5, 3, 2, 4, 2, 5,\n",
              "       0, 5, 0, 5, 4, 0, 3, 4, 3, 4, 2, 2, 4, 3, 5, 3, 5, 5, 5, 1, 2, 2,\n",
              "       2, 1, 3, 2, 1, 4, 4, 4, 1, 1, 2, 4, 4, 1, 4, 2, 0, 4, 5, 5, 5, 1,\n",
              "       2, 1, 5, 5, 1, 2, 3, 3, 0, 3, 5, 0, 1, 0, 1, 2, 1, 5, 0, 2, 2, 0,\n",
              "       1, 1, 1, 1, 1, 4, 0, 1, 5, 1, 4, 5, 5, 2, 1, 0, 2, 5, 2, 2, 3, 4,\n",
              "       1, 5, 0, 0, 5, 5, 3, 5, 4, 5, 0, 0, 4, 3, 2, 1, 5, 0, 4, 3, 2, 4,\n",
              "       1, 3, 5, 3, 4, 4, 4, 3, 4])"
            ]
          },
          "metadata": {},
          "execution_count": 29
        }
      ]
    },
    {
      "cell_type": "code",
      "source": [
        "abc = preds1.astype(int).flatten()"
      ],
      "metadata": {
        "id": "H4WEmM60NfQn"
      },
      "execution_count": 30,
      "outputs": []
    },
    {
      "cell_type": "code",
      "source": [
        "from sklearn.metrics import confusion_matrix\n",
        "c = confusion_matrix(new_Ytest, abc) \n",
        "c"
      ],
      "metadata": {
        "colab": {
          "base_uri": "https://localhost:8080/"
        },
        "id": "bKEBeEBlFjB8",
        "outputId": "cddc304a-914b-4d4c-c180-2e6bbb557225"
      },
      "execution_count": 31,
      "outputs": [
        {
          "output_type": "execute_result",
          "data": {
            "text/plain": [
              "array([[18,  2,  1,  3,  1,  0],\n",
              "       [ 3, 33,  0,  2,  1,  0],\n",
              "       [ 0,  0, 33,  1,  4,  0],\n",
              "       [ 1,  2,  4, 19,  1,  6],\n",
              "       [ 1,  0,  1,  0, 28,  0],\n",
              "       [ 0,  0,  2,  2,  1, 37]])"
            ]
          },
          "metadata": {},
          "execution_count": 31
        }
      ]
    },
    {
      "cell_type": "code",
      "source": [
        "y_test"
      ],
      "metadata": {
        "colab": {
          "base_uri": "https://localhost:8080/"
        },
        "id": "m4RjG7LWLSQx",
        "outputId": "768f6fc7-1356-489f-db1b-2e433e23c12a"
      },
      "execution_count": 32,
      "outputs": [
        {
          "output_type": "execute_result",
          "data": {
            "text/plain": [
              "array([5, 1, 2, 5, 3, 4, 2, 0, 3, 1, 3, 2, 1, 4, 3, 0, 5, 0, 2, 5, 0, 0,\n",
              "       1, 3, 2, 3, 2, 5, 4, 2, 2, 3, 1, 2, 5, 5, 3, 5, 3, 3, 4, 1, 3, 2,\n",
              "       3, 1, 5, 3, 1, 2, 4, 4, 5, 5, 5, 1, 2, 3, 2, 5, 0, 2, 4, 2, 5, 4,\n",
              "       3, 0, 1, 2, 5, 2, 1, 2, 4, 5, 4, 1, 5, 5, 3, 1, 5, 3, 2, 4, 2, 5,\n",
              "       0, 5, 0, 5, 4, 0, 2, 4, 0, 2, 2, 0, 2, 3, 5, 3, 5, 5, 3, 1, 2, 2,\n",
              "       2, 1, 3, 2, 1, 3, 4, 4, 1, 1, 2, 4, 4, 1, 4, 2, 0, 4, 5, 5, 3, 1,\n",
              "       2, 1, 5, 5, 1, 2, 3, 3, 0, 3, 3, 0, 1, 0, 1, 2, 1, 5, 1, 2, 2, 0,\n",
              "       1, 1, 1, 1, 1, 4, 0, 1, 5, 1, 4, 5, 5, 4, 1, 0, 3, 5, 2, 3, 0, 4,\n",
              "       1, 3, 1, 0, 5, 5, 3, 5, 4, 5, 4, 0, 4, 1, 2, 1, 5, 0, 4, 3, 2, 1,\n",
              "       0, 3, 5, 0, 4, 5, 4, 5, 4])"
            ]
          },
          "metadata": {},
          "execution_count": 32
        }
      ]
    },
    {
      "cell_type": "code",
      "source": [
        "model.save('/content/drive/My Drive/graduation project/audio/paper_code/mariam/original_500 epoch_with_valid_Adam2_3')\n",
        "print(\"MODEL SAVED\")"
      ],
      "metadata": {
        "colab": {
          "base_uri": "https://localhost:8080/"
        },
        "id": "lsJBNeMWDl6Z",
        "outputId": "ed96267e-046d-45db-d259-833819b1e6f2"
      },
      "execution_count": 33,
      "outputs": [
        {
          "output_type": "stream",
          "name": "stdout",
          "text": [
            "INFO:tensorflow:Assets written to: /content/drive/My Drive/graduation project/audio/paper_code/mariam/original_500 epoch_with_valid_Adam2_3/assets\n",
            "MODEL SAVED\n"
          ]
        }
      ]
    },
    {
      "cell_type": "code",
      "source": [
        "new_model=keras.models.load_model('/content/drive/My Drive/graduation project/audio/paper_code/mariam/original_500 epoch_with_valid_Adam2_3')\n",
        "new_model.summary()"
      ],
      "metadata": {
        "colab": {
          "base_uri": "https://localhost:8080/"
        },
        "id": "Q3KjaO9GDoNl",
        "outputId": "b509c41b-32e6-434b-f23d-4c04a29eb7c5"
      },
      "execution_count": 34,
      "outputs": [
        {
          "output_type": "stream",
          "name": "stdout",
          "text": [
            "Model: \"sequential\"\n",
            "_________________________________________________________________\n",
            " Layer (type)                Output Shape              Param #   \n",
            "=================================================================\n",
            " conv1d (Conv1D)             (None, 40, 128)           1152      \n",
            "                                                                 \n",
            " activation (Activation)     (None, 40, 128)           0         \n",
            "                                                                 \n",
            " dropout (Dropout)           (None, 40, 128)           0         \n",
            "                                                                 \n",
            " max_pooling1d (MaxPooling1D  (None, 8, 128)           0         \n",
            " )                                                               \n",
            "                                                                 \n",
            " conv1d_1 (Conv1D)           (None, 8, 256)            262400    \n",
            "                                                                 \n",
            " activation_1 (Activation)   (None, 8, 256)            0         \n",
            "                                                                 \n",
            " dropout_1 (Dropout)         (None, 8, 256)            0         \n",
            "                                                                 \n",
            " max_pooling1d_1 (MaxPooling  (None, 1, 256)           0         \n",
            " 1D)                                                             \n",
            "                                                                 \n",
            " flatten (Flatten)           (None, 256)               0         \n",
            "                                                                 \n",
            " dense (Dense)               (None, 256)               65792     \n",
            "                                                                 \n",
            " activation_2 (Activation)   (None, 256)               0         \n",
            "                                                                 \n",
            " dense_1 (Dense)             (None, 256)               65792     \n",
            "                                                                 \n",
            " activation_3 (Activation)   (None, 256)               0         \n",
            "                                                                 \n",
            " dense_2 (Dense)             (None, 6)                 1542      \n",
            "                                                                 \n",
            " activation_4 (Activation)   (None, 6)                 0         \n",
            "                                                                 \n",
            "=================================================================\n",
            "Total params: 396,678\n",
            "Trainable params: 396,678\n",
            "Non-trainable params: 0\n",
            "_________________________________________________________________\n"
          ]
        }
      ]
    },
    {
      "cell_type": "code",
      "source": [
        "loss, acc =model.evaluate(x_testcnn, y_test)\n",
        "print(\"Restored model, accuracy: {:5.2f}%\".format(100*acc))"
      ],
      "metadata": {
        "colab": {
          "base_uri": "https://localhost:8080/"
        },
        "id": "n3kzoqPkDqqS",
        "outputId": "f27ceefa-a3ca-44e4-c9b2-7086475b2d1c"
      },
      "execution_count": 35,
      "outputs": [
        {
          "output_type": "stream",
          "name": "stdout",
          "text": [
            "7/7 [==============================] - 0s 4ms/step - loss: 0.6315 - accuracy: 0.8116\n",
            "Restored model, accuracy: 81.16%\n"
          ]
        }
      ]
    },
    {
      "cell_type": "code",
      "source": [
        "loss, acc =model.evaluate(X_train, y_train)\n",
        "print(\"Restored model train, accuracy: {:5.2f}%\".format(100*acc))"
      ],
      "metadata": {
        "id": "fJDTGH_OUX0z",
        "colab": {
          "base_uri": "https://localhost:8080/"
        },
        "outputId": "03fb1352-b49c-4129-f787-ef432e84d80b"
      },
      "execution_count": 36,
      "outputs": [
        {
          "output_type": "stream",
          "name": "stdout",
          "text": [
            "52/52 [==============================] - 0s 5ms/step - loss: 0.0179 - accuracy: 0.9976\n",
            "Restored model train, accuracy: 99.76%\n"
          ]
        }
      ]
    },
    {
      "cell_type": "code",
      "source": [
        "from sklearn.metrics import classification_report, confusion_matrix,accuracy_score\n",
        "import seaborn as sn\n",
        "\n",
        "print(classification_report(new_Ytest,abc))\n",
        "\n",
        "acc = float(accuracy_score(new_Ytest,abc))*100\n",
        "print(\"----accuracy score %s ----\" % acc)\n",
        "\n",
        "cm = confusion_matrix(new_Ytest,abc)\n",
        "#df_cm = pd.DataFrame(cm)\n",
        "class_names = ['neutral','calm', 'happy','sad','angry', 'fearful' ]\n",
        "df_cm = pd.DataFrame(cm, index=class_names, columns=class_names,)\n",
        "sn.heatmap(df_cm, annot=True, fmt='')\n",
        "plt.show()"
      ],
      "metadata": {
        "colab": {
          "base_uri": "https://localhost:8080/",
          "height": 508
        },
        "id": "SfSC3El94LZg",
        "outputId": "ac7c51ef-c33a-41d7-f277-a331c03098ad"
      },
      "execution_count": 37,
      "outputs": [
        {
          "output_type": "stream",
          "name": "stdout",
          "text": [
            "              precision    recall  f1-score   support\n",
            "\n",
            "           0       0.78      0.72      0.75        25\n",
            "           1       0.89      0.85      0.87        39\n",
            "           2       0.80      0.87      0.84        38\n",
            "           3       0.70      0.58      0.63        33\n",
            "           4       0.78      0.93      0.85        30\n",
            "           5       0.86      0.88      0.87        42\n",
            "\n",
            "    accuracy                           0.81       207\n",
            "   macro avg       0.80      0.80      0.80       207\n",
            "weighted avg       0.81      0.81      0.81       207\n",
            "\n",
            "----accuracy score 81.15942028985508 ----\n"
          ]
        },
        {
          "output_type": "display_data",
          "data": {
            "text/plain": [
              "<Figure size 432x288 with 2 Axes>"
            ],
            "image/png": "[encoded data removed]"
          },
          "metadata": {
            "needs_background": "light"
          }
        }
      ]
    },
    {
      "cell_type": "code",
      "source": [
        ""
      ],
      "metadata": {
        "id": "LGpgwFQqkpyU"
      },
      "execution_count": 37,
      "outputs": []
    }
  ]
}