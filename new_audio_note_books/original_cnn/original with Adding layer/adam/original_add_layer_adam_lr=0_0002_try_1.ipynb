{
  "nbformat": 4,
  "nbformat_minor": 0,
  "metadata": {
    "colab": {
      "name": "original add layer adam lr=0.0002 try 1.ipynb",
      "provenance": [],
      "collapsed_sections": []
    },
    "kernelspec": {
      "name": "python3",
      "display_name": "Python 3"
    },
    "language_info": {
      "name": "python"
    },
    "accelerator": "GPU"
  },
  "cells": [
    {
      "cell_type": "code",
      "execution_count": 1,
      "metadata": {
        "colab": {
          "base_uri": "https://localhost:8080/"
        },
        "id": "9SRCO-a_AlH5",
        "outputId": "2a1ec43b-6a4c-4850-af2a-e0133d161b6f"
      },
      "outputs": [
        {
          "output_type": "stream",
          "name": "stdout",
          "text": [
            "Drive already mounted at /content/drive; to attempt to forcibly remount, call drive.mount(\"/content/drive\", force_remount=True).\n"
          ]
        }
      ],
      "source": [
        "from google.colab import drive\n",
        "drive.mount('/content/drive')"
      ]
    },
    {
      "cell_type": "code",
      "source": [
        "!pip install librosa"
      ],
      "metadata": {
        "colab": {
          "base_uri": "https://localhost:8080/"
        },
        "id": "5Lo4mUwG9RMd",
        "outputId": "bca5b008-2e83-4226-dda4-4fec76994922"
      },
      "execution_count": 2,
      "outputs": [
        {
          "output_type": "stream",
          "name": "stdout",
          "text": [
            "Looking in indexes: https://pypi.org/simple, https://us-python.pkg.dev/colab-wheels/public/simple/\n",
            "Requirement already satisfied: librosa in /usr/local/lib/python3.7/dist-packages (0.8.1)\n",
            "Requirement already satisfied: numpy>=1.15.0 in /usr/local/lib/python3.7/dist-packages (from librosa) (1.21.6)\n",
            "Requirement already satisfied: audioread>=2.0.0 in /usr/local/lib/python3.7/dist-packages (from librosa) (2.1.9)\n",
            "Requirement already satisfied: scikit-learn!=0.19.0,>=0.14.0 in /usr/local/lib/python3.7/dist-packages (from librosa) (1.0.2)\n",
            "Requirement already satisfied: decorator>=3.0.0 in /usr/local/lib/python3.7/dist-packages (from librosa) (4.4.2)\n",
            "Requirement already satisfied: resampy>=0.2.2 in /usr/local/lib/python3.7/dist-packages (from librosa) (0.2.2)\n",
            "Requirement already satisfied: soundfile>=0.10.2 in /usr/local/lib/python3.7/dist-packages (from librosa) (0.10.3.post1)\n",
            "Requirement already satisfied: pooch>=1.0 in /usr/local/lib/python3.7/dist-packages (from librosa) (1.6.0)\n",
            "Requirement already satisfied: packaging>=20.0 in /usr/local/lib/python3.7/dist-packages (from librosa) (21.3)\n",
            "Requirement already satisfied: numba>=0.43.0 in /usr/local/lib/python3.7/dist-packages (from librosa) (0.51.2)\n",
            "Requirement already satisfied: scipy>=1.0.0 in /usr/local/lib/python3.7/dist-packages (from librosa) (1.4.1)\n",
            "Requirement already satisfied: joblib>=0.14 in /usr/local/lib/python3.7/dist-packages (from librosa) (1.1.0)\n",
            "Requirement already satisfied: llvmlite<0.35,>=0.34.0.dev0 in /usr/local/lib/python3.7/dist-packages (from numba>=0.43.0->librosa) (0.34.0)\n",
            "Requirement already satisfied: setuptools in /usr/local/lib/python3.7/dist-packages (from numba>=0.43.0->librosa) (57.4.0)\n",
            "Requirement already satisfied: pyparsing!=3.0.5,>=2.0.2 in /usr/local/lib/python3.7/dist-packages (from packaging>=20.0->librosa) (3.0.9)\n",
            "Requirement already satisfied: requests>=2.19.0 in /usr/local/lib/python3.7/dist-packages (from pooch>=1.0->librosa) (2.23.0)\n",
            "Requirement already satisfied: appdirs>=1.3.0 in /usr/local/lib/python3.7/dist-packages (from pooch>=1.0->librosa) (1.4.4)\n",
            "Requirement already satisfied: urllib3!=1.25.0,!=1.25.1,<1.26,>=1.21.1 in /usr/local/lib/python3.7/dist-packages (from requests>=2.19.0->pooch>=1.0->librosa) (1.24.3)\n",
            "Requirement already satisfied: idna<3,>=2.5 in /usr/local/lib/python3.7/dist-packages (from requests>=2.19.0->pooch>=1.0->librosa) (2.10)\n",
            "Requirement already satisfied: chardet<4,>=3.0.2 in /usr/local/lib/python3.7/dist-packages (from requests>=2.19.0->pooch>=1.0->librosa) (3.0.4)\n",
            "Requirement already satisfied: certifi>=2017.4.17 in /usr/local/lib/python3.7/dist-packages (from requests>=2.19.0->pooch>=1.0->librosa) (2022.5.18.1)\n",
            "Requirement already satisfied: six>=1.3 in /usr/local/lib/python3.7/dist-packages (from resampy>=0.2.2->librosa) (1.15.0)\n",
            "Requirement already satisfied: threadpoolctl>=2.0.0 in /usr/local/lib/python3.7/dist-packages (from scikit-learn!=0.19.0,>=0.14.0->librosa) (3.1.0)\n",
            "Requirement already satisfied: cffi>=1.0 in /usr/local/lib/python3.7/dist-packages (from soundfile>=0.10.2->librosa) (1.15.0)\n",
            "Requirement already satisfied: pycparser in /usr/local/lib/python3.7/dist-packages (from cffi>=1.0->soundfile>=0.10.2->librosa) (2.21)\n"
          ]
        }
      ]
    },
    {
      "cell_type": "code",
      "metadata": {
        "id": "HJjcbxwy46bG",
        "colab": {
          "base_uri": "https://localhost:8080/",
          "height": 17
        },
        "outputId": "fe9f9078-3d43-4c77-9b04-2ecfa3c7fd9c"
      },
      "source": [
        "# Orignial Notebook: https://github.com/MITESHPUTHRANNEU/Speech-Emotion-Analyzer/blob/master/final_results_gender_test.ipynb\n",
        "# This notebook author: Reza Chu\n",
        "# Last Editing Date: 31st May 2019\n",
        "\n",
        "## Python\n",
        "import os\n",
        "import random\n",
        "import sys\n",
        "\n",
        "import IPython\n",
        "from IPython.display import Audio\n",
        "from IPython.display import Image\n",
        "import matplotlib.pyplot as plt\n",
        "\n",
        "## Package\n",
        "import glob \n",
        "import keras\n",
        "import IPython.display as ipd\n",
        "import librosa\n",
        "import librosa.display\n",
        "import matplotlib.pyplot as plt\n",
        "import numpy as np\n",
        "import pandas as pd\n",
        "import plotly.graph_objs as go\n",
        "import plotly.offline as py\n",
        "import plotly.tools as tls\n",
        "import seaborn as sns\n",
        "import scipy.io.wavfile\n",
        "import tensorflow as tf\n",
        "py.init_notebook_mode(connected=True)\n",
        "\n",
        "## Keras\n",
        "from keras import regularizers\n",
        "from keras.callbacks import ModelCheckpoint, LearningRateScheduler, EarlyStopping\n",
        "from keras.callbacks import  History, ReduceLROnPlateau, CSVLogger\n",
        "from keras.models import Model, Sequential\n",
        "from keras.layers import Dense, Embedding, LSTM\n",
        "from keras.layers import Input, Flatten, Dropout, Activation, BatchNormalization\n",
        "from keras.layers import Conv1D, MaxPooling1D, AveragePooling1D\n",
        "from keras.preprocessing import sequence\n",
        "from keras.preprocessing.sequence import pad_sequences\n",
        "from keras.preprocessing.text import Tokenizer\n",
        "from keras.utils import np_utils\n",
        "from tensorflow.keras.utils import to_categorical\n",
        "\n",
        "## Sklearn\n",
        "from sklearn.metrics import confusion_matrix\n",
        "from sklearn.preprocessing import LabelEncoder\n",
        "\n",
        "## Rest\n",
        "from scipy.fftpack import fft\n",
        "from scipy import signal\n",
        "from scipy.io import wavfile\n",
        "from tqdm import tqdm\n",
        "\n",
        "input_duration=3\n",
        "# % pylab inline"
      ],
      "execution_count": 3,
      "outputs": [
        {
          "output_type": "display_data",
          "data": {
            "text/html": [
              "        <script type=\"text/javascript\">\n",
              "        window.PlotlyConfig = {MathJaxConfig: 'local'};\n",
              "        if (window.MathJax) {MathJax.Hub.Config({SVG: {font: \"STIX-Web\"}});}\n",
              "        if (typeof require !== 'undefined') {\n",
              "        require.undef(\"plotly\");\n",
              "        requirejs.config({\n",
              "            paths: {\n",
              "                'plotly': ['https://cdn.plot.ly/plotly-2.8.3.min']\n",
              "            }\n",
              "        });\n",
              "        require(['plotly'], function(Plotly) {\n",
              "            window._Plotly = Plotly;\n",
              "        });\n",
              "        }\n",
              "        </script>\n",
              "        "
            ]
          },
          "metadata": {}
        }
      ]
    },
    {
      "cell_type": "code",
      "source": [
        "# # Saving joblib files to not load them again with the loop above\n",
        "\n",
        "# import joblib\n",
        "\n",
        "# X_name = 'x.joblib'\n",
        "# y_name = 'y.joblib'\n",
        "# save_dir = '/content/drive/My Drive/graduation project/audio/paper_code/features'\n",
        "\n",
        "# savedX = joblib.dump(X, os.path.join(save_dir, X_name))\n",
        "# savedy = joblib.dump(y, os.path.join(save_dir, y_name))"
      ],
      "metadata": {
        "id": "UCzic8rlDcuk"
      },
      "execution_count": 4,
      "outputs": []
    },
    {
      "cell_type": "code",
      "source": [
        "# # Loading saved models\n",
        "import joblib\n",
        "X = joblib.load('/content/drive/My Drive/graduation project/audio/paper_code/features/x.joblib')\n",
        "y = joblib.load('/content/drive/My Drive/graduation project/audio/paper_code/features/y.joblib')"
      ],
      "metadata": {
        "id": "Q35CN6zDrzg1"
      },
      "execution_count": 5,
      "outputs": []
    },
    {
      "cell_type": "code",
      "source": [
        "X.shape"
      ],
      "metadata": {
        "colab": {
          "base_uri": "https://localhost:8080/"
        },
        "id": "7PSTurzjCo5K",
        "outputId": "85d27cd9-3429-43e2-edf8-3d6507fe186e"
      },
      "execution_count": 6,
      "outputs": [
        {
          "output_type": "execute_result",
          "data": {
            "text/plain": [
              "(2068, 40)"
            ]
          },
          "metadata": {},
          "execution_count": 6
        }
      ]
    },
    {
      "cell_type": "code",
      "source": [
        "from sklearn.model_selection import train_test_split\n",
        "\n",
        "X_train, X_test, y_train, y_test = train_test_split(X,y, test_size=0.1 ,shuffle = True\n",
        "                                                    , random_state=42)\n",
        "X_train , X_valid, y_train, y_valid = train_test_split(X_train,y_train, test_size=0.1112305212 , shuffle = True \n",
        "                                                       , random_state=42)"
      ],
      "metadata": {
        "id": "Ai4Fy5cPCiq1"
      },
      "execution_count": 7,
      "outputs": []
    },
    {
      "cell_type": "code",
      "source": [
        "import numpy as np\n",
        "x_traincnn = np.expand_dims(X_train, axis=2)\n",
        "x_testcnn = np.expand_dims(X_test, axis=2)\n",
        "X_valid= np.expand_dims(X_valid, axis=2)"
      ],
      "metadata": {
        "id": "tp1Fm5K3CEXu"
      },
      "execution_count": 8,
      "outputs": []
    },
    {
      "cell_type": "code",
      "source": [
        "x_traincnn.shape, x_testcnn.shape , X_valid.shape\n",
        "#1861"
      ],
      "metadata": {
        "id": "RI0MxoIPBws5",
        "colab": {
          "base_uri": "https://localhost:8080/"
        },
        "outputId": "6ee4756e-1529-4f5f-91e4-27e381ca7eac"
      },
      "execution_count": 9,
      "outputs": [
        {
          "output_type": "execute_result",
          "data": {
            "text/plain": [
              "((1654, 40, 1), (207, 40, 1), (207, 40, 1))"
            ]
          },
          "metadata": {},
          "execution_count": 9
        }
      ]
    },
    {
      "cell_type": "code",
      "source": [
        "!pip install tensorflow"
      ],
      "metadata": {
        "colab": {
          "base_uri": "https://localhost:8080/"
        },
        "id": "oALhiMUd9G2Y",
        "outputId": "06114a56-dd36-4713-9271-3d35d8efe48a"
      },
      "execution_count": 10,
      "outputs": [
        {
          "output_type": "stream",
          "name": "stdout",
          "text": [
            "Looking in indexes: https://pypi.org/simple, https://us-python.pkg.dev/colab-wheels/public/simple/\n",
            "Requirement already satisfied: tensorflow in /usr/local/lib/python3.7/dist-packages (2.8.2+zzzcolab20220527125636)\n",
            "Requirement already satisfied: protobuf<3.20,>=3.9.2 in /usr/local/lib/python3.7/dist-packages (from tensorflow) (3.17.3)\n",
            "Requirement already satisfied: gast>=0.2.1 in /usr/local/lib/python3.7/dist-packages (from tensorflow) (0.5.3)\n",
            "Requirement already satisfied: keras<2.9,>=2.8.0rc0 in /usr/local/lib/python3.7/dist-packages (from tensorflow) (2.8.0)\n",
            "Requirement already satisfied: absl-py>=0.4.0 in /usr/local/lib/python3.7/dist-packages (from tensorflow) (1.0.0)\n",
            "Requirement already satisfied: astunparse>=1.6.0 in /usr/local/lib/python3.7/dist-packages (from tensorflow) (1.6.3)\n",
            "Requirement already satisfied: setuptools in /usr/local/lib/python3.7/dist-packages (from tensorflow) (57.4.0)\n",
            "Requirement already satisfied: h5py>=2.9.0 in /usr/local/lib/python3.7/dist-packages (from tensorflow) (3.1.0)\n",
            "Requirement already satisfied: opt-einsum>=2.3.2 in /usr/local/lib/python3.7/dist-packages (from tensorflow) (3.3.0)\n",
            "Requirement already satisfied: tensorflow-io-gcs-filesystem>=0.23.1 in /usr/local/lib/python3.7/dist-packages (from tensorflow) (0.26.0)\n",
            "Requirement already satisfied: wrapt>=1.11.0 in /usr/local/lib/python3.7/dist-packages (from tensorflow) (1.14.1)\n",
            "Requirement already satisfied: grpcio<2.0,>=1.24.3 in /usr/local/lib/python3.7/dist-packages (from tensorflow) (1.46.3)\n",
            "Requirement already satisfied: keras-preprocessing>=1.1.1 in /usr/local/lib/python3.7/dist-packages (from tensorflow) (1.1.2)\n",
            "Requirement already satisfied: tensorflow-estimator<2.9,>=2.8 in /usr/local/lib/python3.7/dist-packages (from tensorflow) (2.8.0)\n",
            "Requirement already satisfied: flatbuffers>=1.12 in /usr/local/lib/python3.7/dist-packages (from tensorflow) (2.0)\n",
            "Requirement already satisfied: typing-extensions>=3.6.6 in /usr/local/lib/python3.7/dist-packages (from tensorflow) (4.2.0)\n",
            "Requirement already satisfied: tensorboard<2.9,>=2.8 in /usr/local/lib/python3.7/dist-packages (from tensorflow) (2.8.0)\n",
            "Requirement already satisfied: termcolor>=1.1.0 in /usr/local/lib/python3.7/dist-packages (from tensorflow) (1.1.0)\n",
            "Requirement already satisfied: six>=1.12.0 in /usr/local/lib/python3.7/dist-packages (from tensorflow) (1.15.0)\n",
            "Requirement already satisfied: google-pasta>=0.1.1 in /usr/local/lib/python3.7/dist-packages (from tensorflow) (0.2.0)\n",
            "Requirement already satisfied: numpy>=1.20 in /usr/local/lib/python3.7/dist-packages (from tensorflow) (1.21.6)\n",
            "Requirement already satisfied: libclang>=9.0.1 in /usr/local/lib/python3.7/dist-packages (from tensorflow) (14.0.1)\n",
            "Requirement already satisfied: wheel<1.0,>=0.23.0 in /usr/local/lib/python3.7/dist-packages (from astunparse>=1.6.0->tensorflow) (0.37.1)\n",
            "Requirement already satisfied: cached-property in /usr/local/lib/python3.7/dist-packages (from h5py>=2.9.0->tensorflow) (1.5.2)\n",
            "Requirement already satisfied: google-auth-oauthlib<0.5,>=0.4.1 in /usr/local/lib/python3.7/dist-packages (from tensorboard<2.9,>=2.8->tensorflow) (0.4.6)\n",
            "Requirement already satisfied: markdown>=2.6.8 in /usr/local/lib/python3.7/dist-packages (from tensorboard<2.9,>=2.8->tensorflow) (3.3.7)\n",
            "Requirement already satisfied: requests<3,>=2.21.0 in /usr/local/lib/python3.7/dist-packages (from tensorboard<2.9,>=2.8->tensorflow) (2.23.0)\n",
            "Requirement already satisfied: google-auth<3,>=1.6.3 in /usr/local/lib/python3.7/dist-packages (from tensorboard<2.9,>=2.8->tensorflow) (1.35.0)\n",
            "Requirement already satisfied: werkzeug>=0.11.15 in /usr/local/lib/python3.7/dist-packages (from tensorboard<2.9,>=2.8->tensorflow) (1.0.1)\n",
            "Requirement already satisfied: tensorboard-plugin-wit>=1.6.0 in /usr/local/lib/python3.7/dist-packages (from tensorboard<2.9,>=2.8->tensorflow) (1.8.1)\n",
            "Requirement already satisfied: tensorboard-data-server<0.7.0,>=0.6.0 in /usr/local/lib/python3.7/dist-packages (from tensorboard<2.9,>=2.8->tensorflow) (0.6.1)\n",
            "Requirement already satisfied: cachetools<5.0,>=2.0.0 in /usr/local/lib/python3.7/dist-packages (from google-auth<3,>=1.6.3->tensorboard<2.9,>=2.8->tensorflow) (4.2.4)\n",
            "Requirement already satisfied: rsa<5,>=3.1.4 in /usr/local/lib/python3.7/dist-packages (from google-auth<3,>=1.6.3->tensorboard<2.9,>=2.8->tensorflow) (4.8)\n",
            "Requirement already satisfied: pyasn1-modules>=0.2.1 in /usr/local/lib/python3.7/dist-packages (from google-auth<3,>=1.6.3->tensorboard<2.9,>=2.8->tensorflow) (0.2.8)\n",
            "Requirement already satisfied: requests-oauthlib>=0.7.0 in /usr/local/lib/python3.7/dist-packages (from google-auth-oauthlib<0.5,>=0.4.1->tensorboard<2.9,>=2.8->tensorflow) (1.3.1)\n",
            "Requirement already satisfied: importlib-metadata>=4.4 in /usr/local/lib/python3.7/dist-packages (from markdown>=2.6.8->tensorboard<2.9,>=2.8->tensorflow) (4.11.4)\n",
            "Requirement already satisfied: zipp>=0.5 in /usr/local/lib/python3.7/dist-packages (from importlib-metadata>=4.4->markdown>=2.6.8->tensorboard<2.9,>=2.8->tensorflow) (3.8.0)\n",
            "Requirement already satisfied: pyasn1<0.5.0,>=0.4.6 in /usr/local/lib/python3.7/dist-packages (from pyasn1-modules>=0.2.1->google-auth<3,>=1.6.3->tensorboard<2.9,>=2.8->tensorflow) (0.4.8)\n",
            "Requirement already satisfied: certifi>=2017.4.17 in /usr/local/lib/python3.7/dist-packages (from requests<3,>=2.21.0->tensorboard<2.9,>=2.8->tensorflow) (2022.5.18.1)\n",
            "Requirement already satisfied: urllib3!=1.25.0,!=1.25.1,<1.26,>=1.21.1 in /usr/local/lib/python3.7/dist-packages (from requests<3,>=2.21.0->tensorboard<2.9,>=2.8->tensorflow) (1.24.3)\n",
            "Requirement already satisfied: chardet<4,>=3.0.2 in /usr/local/lib/python3.7/dist-packages (from requests<3,>=2.21.0->tensorboard<2.9,>=2.8->tensorflow) (3.0.4)\n",
            "Requirement already satisfied: idna<3,>=2.5 in /usr/local/lib/python3.7/dist-packages (from requests<3,>=2.21.0->tensorboard<2.9,>=2.8->tensorflow) (2.10)\n",
            "Requirement already satisfied: oauthlib>=3.0.0 in /usr/local/lib/python3.7/dist-packages (from requests-oauthlib>=0.7.0->google-auth-oauthlib<0.5,>=0.4.1->tensorboard<2.9,>=2.8->tensorflow) (3.2.0)\n"
          ]
        }
      ]
    },
    {
      "cell_type": "code",
      "source": [
        "import keras\n",
        "import numpy as np\n",
        "import matplotlib.pyplot as plt\n",
        "import tensorflow as tf\n",
        "from keras.preprocessing import sequence\n",
        "from keras.models import Sequential\n",
        "from keras.layers import Dense, Embedding\n",
        "from tensorflow.keras.utils import to_categorical\n",
        "from keras.layers import Input, Flatten, Dropout, Activation\n",
        "from keras.layers import Conv1D, MaxPooling1D\n",
        "from keras.models import Model\n",
        "from keras.callbacks import ModelCheckpoint\n",
        "from tensorflow.keras import optimizers\n",
        "\n",
        "model = Sequential()\n",
        "\n",
        "model.add(Conv1D(128, 8,padding='same', #classifier.add(Convolution2D(64, (3, 3), padding = 'same', input_shape = (128, 128, 3), activation = 'relu'))\n",
        "                 input_shape=(40,1)))\n",
        "model.add(Activation('relu'))\n",
        "model.add(Dropout(0.3))\n",
        "model.add(MaxPooling1D(pool_size=(5)))\n",
        "\n",
        "\n",
        "model.add(Conv1D(256,8,padding='same',))\n",
        "model.add(Activation('relu'))\n",
        "model.add(Dropout(0.3))\n",
        "model.add(MaxPooling1D(pool_size=(5)))\n",
        "\n",
        "model.add(Conv1D(256,8,padding='same',))\n",
        "model.add(Activation('relu'))\n",
        "model.add(Dropout(0.3))\n",
        "#model.add(MaxPooling1D(pool_size=(5)))\n",
        "\n",
        "model.add(Flatten())\n",
        "\n",
        "model.add(Dense(256))\n",
        "model.add(Activation('relu'))\n",
        "model.add(Dense(256))\n",
        "model.add(Activation('relu'))\n",
        "\n",
        "model.add(Dense(6))\n",
        "model.add(Activation('softmax'))\n",
        "\n",
        "opt = tf.keras.optimizers.Adam(lr=0.0002 , decay=0.0)\n",
        "#opt = tf.keras.optimizers.RMSprop(lr=0.0001, rho=0.9, epsilon=1e-07, decay=0.0)\n",
        "#opt = tf.keras.optimizers.SGD(lr=0.001, momentum=0.0, decay=0.0, nesterov=False)"
      ],
      "metadata": {
        "id": "g74fXWVAC4Cr",
        "colab": {
          "base_uri": "https://localhost:8080/"
        },
        "outputId": "d33541cc-aad0-4c4d-b102-f3b0ef7d98a3"
      },
      "execution_count": 11,
      "outputs": [
        {
          "output_type": "stream",
          "name": "stderr",
          "text": [
            "/usr/local/lib/python3.7/dist-packages/keras/optimizer_v2/adam.py:105: UserWarning:\n",
            "\n",
            "The `lr` argument is deprecated, use `learning_rate` instead.\n",
            "\n"
          ]
        }
      ]
    },
    {
      "cell_type": "code",
      "source": [
        "model.summary()"
      ],
      "metadata": {
        "colab": {
          "base_uri": "https://localhost:8080/"
        },
        "id": "H6ukOxAGC_I4",
        "outputId": "f57909a7-b4d1-46c1-bad1-202c6f0b455c"
      },
      "execution_count": 12,
      "outputs": [
        {
          "output_type": "stream",
          "name": "stdout",
          "text": [
            "Model: \"sequential\"\n",
            "_________________________________________________________________\n",
            " Layer (type)                Output Shape              Param #   \n",
            "=================================================================\n",
            " conv1d (Conv1D)             (None, 40, 128)           1152      \n",
            "                                                                 \n",
            " activation (Activation)     (None, 40, 128)           0         \n",
            "                                                                 \n",
            " dropout (Dropout)           (None, 40, 128)           0         \n",
            "                                                                 \n",
            " max_pooling1d (MaxPooling1D  (None, 8, 128)           0         \n",
            " )                                                               \n",
            "                                                                 \n",
            " conv1d_1 (Conv1D)           (None, 8, 256)            262400    \n",
            "                                                                 \n",
            " activation_1 (Activation)   (None, 8, 256)            0         \n",
            "                                                                 \n",
            " dropout_1 (Dropout)         (None, 8, 256)            0         \n",
            "                                                                 \n",
            " max_pooling1d_1 (MaxPooling  (None, 1, 256)           0         \n",
            " 1D)                                                             \n",
            "                                                                 \n",
            " conv1d_2 (Conv1D)           (None, 1, 256)            524544    \n",
            "                                                                 \n",
            " activation_2 (Activation)   (None, 1, 256)            0         \n",
            "                                                                 \n",
            " dropout_2 (Dropout)         (None, 1, 256)            0         \n",
            "                                                                 \n",
            " flatten (Flatten)           (None, 256)               0         \n",
            "                                                                 \n",
            " dense (Dense)               (None, 256)               65792     \n",
            "                                                                 \n",
            " activation_3 (Activation)   (None, 256)               0         \n",
            "                                                                 \n",
            " dense_1 (Dense)             (None, 256)               65792     \n",
            "                                                                 \n",
            " activation_4 (Activation)   (None, 256)               0         \n",
            "                                                                 \n",
            " dense_2 (Dense)             (None, 6)                 1542      \n",
            "                                                                 \n",
            " activation_5 (Activation)   (None, 6)                 0         \n",
            "                                                                 \n",
            "=================================================================\n",
            "Total params: 921,222\n",
            "Trainable params: 921,222\n",
            "Non-trainable params: 0\n",
            "_________________________________________________________________\n"
          ]
        }
      ]
    },
    {
      "cell_type": "code",
      "source": [
        "model.compile(loss='sparse_categorical_crossentropy',\n",
        "              optimizer=opt,\n",
        "              metrics=['accuracy'])"
      ],
      "metadata": {
        "id": "AbMlLNk4DCBM"
      },
      "execution_count": 13,
      "outputs": []
    },
    {
      "cell_type": "code",
      "source": [
        "# Create an Instance of Early Stopping Callback.\n",
        "early_stopping_callback = EarlyStopping(monitor = 'val_loss', patience = 25, mode = 'min', restore_best_weights = True)\n",
        "\n",
        "cnnhistory=model.fit(x_traincnn, y_train, batch_size=16, epochs=500 , shuffle = True, \n",
        "                     validation_data=(X_valid, y_valid) , callbacks = [early_stopping_callback])"
      ],
      "metadata": {
        "colab": {
          "base_uri": "https://localhost:8080/"
        },
        "id": "RI1v2AuADFhy",
        "outputId": "5a60fa0f-39e4-435e-e547-5c28dd1a54c3"
      },
      "execution_count": 14,
      "outputs": [
        {
          "output_type": "stream",
          "name": "stdout",
          "text": [
            "Epoch 1/500\n",
            "104/104 [==============================] - 17s 18ms/step - loss: 2.1137 - accuracy: 0.1711 - val_loss: 1.7947 - val_accuracy: 0.1787\n",
            "Epoch 2/500\n",
            "104/104 [==============================] - 1s 12ms/step - loss: 1.8685 - accuracy: 0.1971 - val_loss: 1.7956 - val_accuracy: 0.1256\n",
            "Epoch 3/500\n",
            "104/104 [==============================] - 1s 11ms/step - loss: 1.8241 - accuracy: 0.1898 - val_loss: 1.7848 - val_accuracy: 0.2077\n",
            "Epoch 4/500\n",
            "104/104 [==============================] - 1s 9ms/step - loss: 1.8012 - accuracy: 0.2062 - val_loss: 1.7671 - val_accuracy: 0.2464\n",
            "Epoch 5/500\n",
            "104/104 [==============================] - 1s 8ms/step - loss: 1.7800 - accuracy: 0.2177 - val_loss: 1.7739 - val_accuracy: 0.2657\n",
            "Epoch 6/500\n",
            "104/104 [==============================] - 1s 9ms/step - loss: 1.7569 - accuracy: 0.2177 - val_loss: 1.7354 - val_accuracy: 0.2512\n",
            "Epoch 7/500\n",
            "104/104 [==============================] - 1s 8ms/step - loss: 1.7417 - accuracy: 0.2310 - val_loss: 1.7234 - val_accuracy: 0.2802\n",
            "Epoch 8/500\n",
            "104/104 [==============================] - 1s 6ms/step - loss: 1.7518 - accuracy: 0.2316 - val_loss: 1.7336 - val_accuracy: 0.2271\n",
            "Epoch 9/500\n",
            "104/104 [==============================] - 1s 5ms/step - loss: 1.7166 - accuracy: 0.2443 - val_loss: 1.7109 - val_accuracy: 0.2560\n",
            "Epoch 10/500\n",
            "104/104 [==============================] - 1s 5ms/step - loss: 1.7126 - accuracy: 0.2618 - val_loss: 1.7022 - val_accuracy: 0.2415\n",
            "Epoch 11/500\n",
            "104/104 [==============================] - 1s 6ms/step - loss: 1.6802 - accuracy: 0.2551 - val_loss: 1.6590 - val_accuracy: 0.2995\n",
            "Epoch 12/500\n",
            "104/104 [==============================] - 1s 6ms/step - loss: 1.6701 - accuracy: 0.2696 - val_loss: 1.6423 - val_accuracy: 0.2657\n",
            "Epoch 13/500\n",
            "104/104 [==============================] - 1s 5ms/step - loss: 1.6299 - accuracy: 0.2896 - val_loss: 1.6332 - val_accuracy: 0.3382\n",
            "Epoch 14/500\n",
            "104/104 [==============================] - 1s 6ms/step - loss: 1.6385 - accuracy: 0.2811 - val_loss: 1.6115 - val_accuracy: 0.3043\n",
            "Epoch 15/500\n",
            "104/104 [==============================] - 1s 5ms/step - loss: 1.6214 - accuracy: 0.2902 - val_loss: 1.6071 - val_accuracy: 0.2995\n",
            "Epoch 16/500\n",
            "104/104 [==============================] - 1s 6ms/step - loss: 1.6209 - accuracy: 0.2884 - val_loss: 1.6047 - val_accuracy: 0.3285\n",
            "Epoch 17/500\n",
            "104/104 [==============================] - 1s 5ms/step - loss: 1.5762 - accuracy: 0.3126 - val_loss: 1.6077 - val_accuracy: 0.3285\n",
            "Epoch 18/500\n",
            "104/104 [==============================] - 1s 6ms/step - loss: 1.5799 - accuracy: 0.3186 - val_loss: 1.5710 - val_accuracy: 0.3092\n",
            "Epoch 19/500\n",
            "104/104 [==============================] - 1s 6ms/step - loss: 1.5578 - accuracy: 0.3174 - val_loss: 1.5558 - val_accuracy: 0.3527\n",
            "Epoch 20/500\n",
            "104/104 [==============================] - 1s 5ms/step - loss: 1.5508 - accuracy: 0.3398 - val_loss: 1.5508 - val_accuracy: 0.3188\n",
            "Epoch 21/500\n",
            "104/104 [==============================] - 1s 5ms/step - loss: 1.5388 - accuracy: 0.3247 - val_loss: 1.5508 - val_accuracy: 0.3092\n",
            "Epoch 22/500\n",
            "104/104 [==============================] - 1s 5ms/step - loss: 1.5261 - accuracy: 0.3337 - val_loss: 1.5253 - val_accuracy: 0.3140\n",
            "Epoch 23/500\n",
            "104/104 [==============================] - 1s 5ms/step - loss: 1.5019 - accuracy: 0.3718 - val_loss: 1.5000 - val_accuracy: 0.3768\n",
            "Epoch 24/500\n",
            "104/104 [==============================] - 1s 6ms/step - loss: 1.5011 - accuracy: 0.3615 - val_loss: 1.5198 - val_accuracy: 0.3961\n",
            "Epoch 25/500\n",
            "104/104 [==============================] - 1s 5ms/step - loss: 1.4840 - accuracy: 0.3791 - val_loss: 1.4709 - val_accuracy: 0.3527\n",
            "Epoch 26/500\n",
            "104/104 [==============================] - 1s 6ms/step - loss: 1.4387 - accuracy: 0.3948 - val_loss: 1.4160 - val_accuracy: 0.4396\n",
            "Epoch 27/500\n",
            "104/104 [==============================] - 1s 5ms/step - loss: 1.4113 - accuracy: 0.4123 - val_loss: 1.3890 - val_accuracy: 0.4444\n",
            "Epoch 28/500\n",
            "104/104 [==============================] - 1s 6ms/step - loss: 1.4030 - accuracy: 0.4093 - val_loss: 1.3870 - val_accuracy: 0.4396\n",
            "Epoch 29/500\n",
            "104/104 [==============================] - 1s 5ms/step - loss: 1.3396 - accuracy: 0.4462 - val_loss: 1.3413 - val_accuracy: 0.4493\n",
            "Epoch 30/500\n",
            "104/104 [==============================] - 1s 5ms/step - loss: 1.3470 - accuracy: 0.4238 - val_loss: 1.3153 - val_accuracy: 0.4155\n",
            "Epoch 31/500\n",
            "104/104 [==============================] - 1s 6ms/step - loss: 1.3072 - accuracy: 0.4365 - val_loss: 1.2351 - val_accuracy: 0.4928\n",
            "Epoch 32/500\n",
            "104/104 [==============================] - 1s 5ms/step - loss: 1.2896 - accuracy: 0.4637 - val_loss: 1.2939 - val_accuracy: 0.4686\n",
            "Epoch 33/500\n",
            "104/104 [==============================] - 1s 5ms/step - loss: 1.2734 - accuracy: 0.4698 - val_loss: 1.2429 - val_accuracy: 0.5072\n",
            "Epoch 34/500\n",
            "104/104 [==============================] - 1s 6ms/step - loss: 1.2471 - accuracy: 0.4686 - val_loss: 1.2976 - val_accuracy: 0.4541\n",
            "Epoch 35/500\n",
            "104/104 [==============================] - 1s 5ms/step - loss: 1.2175 - accuracy: 0.4921 - val_loss: 1.1794 - val_accuracy: 0.4879\n",
            "Epoch 36/500\n",
            "104/104 [==============================] - 1s 5ms/step - loss: 1.1782 - accuracy: 0.5169 - val_loss: 1.1681 - val_accuracy: 0.5411\n",
            "Epoch 37/500\n",
            "104/104 [==============================] - 1s 5ms/step - loss: 1.1835 - accuracy: 0.4976 - val_loss: 1.1619 - val_accuracy: 0.5169\n",
            "Epoch 38/500\n",
            "104/104 [==============================] - 1s 5ms/step - loss: 1.1519 - accuracy: 0.5206 - val_loss: 1.1267 - val_accuracy: 0.5266\n",
            "Epoch 39/500\n",
            "104/104 [==============================] - 1s 6ms/step - loss: 1.1157 - accuracy: 0.5278 - val_loss: 1.1362 - val_accuracy: 0.5217\n",
            "Epoch 40/500\n",
            "104/104 [==============================] - 1s 5ms/step - loss: 1.1178 - accuracy: 0.5369 - val_loss: 1.1127 - val_accuracy: 0.5121\n",
            "Epoch 41/500\n",
            "104/104 [==============================] - 1s 6ms/step - loss: 1.1125 - accuracy: 0.5326 - val_loss: 1.0861 - val_accuracy: 0.5652\n",
            "Epoch 42/500\n",
            "104/104 [==============================] - 1s 5ms/step - loss: 1.0955 - accuracy: 0.5520 - val_loss: 1.1265 - val_accuracy: 0.5411\n",
            "Epoch 43/500\n",
            "104/104 [==============================] - 1s 6ms/step - loss: 1.0847 - accuracy: 0.5502 - val_loss: 1.1028 - val_accuracy: 0.5411\n",
            "Epoch 44/500\n",
            "104/104 [==============================] - 1s 5ms/step - loss: 1.0654 - accuracy: 0.5556 - val_loss: 1.0815 - val_accuracy: 0.5604\n",
            "Epoch 45/500\n",
            "104/104 [==============================] - 1s 6ms/step - loss: 1.0591 - accuracy: 0.5629 - val_loss: 1.0756 - val_accuracy: 0.5314\n",
            "Epoch 46/500\n",
            "104/104 [==============================] - 1s 6ms/step - loss: 1.0610 - accuracy: 0.5526 - val_loss: 1.1041 - val_accuracy: 0.5217\n",
            "Epoch 47/500\n",
            "104/104 [==============================] - 1s 5ms/step - loss: 1.0108 - accuracy: 0.5859 - val_loss: 1.0599 - val_accuracy: 0.5314\n",
            "Epoch 48/500\n",
            "104/104 [==============================] - 1s 6ms/step - loss: 1.0283 - accuracy: 0.5768 - val_loss: 1.0261 - val_accuracy: 0.5942\n",
            "Epoch 49/500\n",
            "104/104 [==============================] - 1s 5ms/step - loss: 1.0157 - accuracy: 0.5828 - val_loss: 1.0230 - val_accuracy: 0.5652\n",
            "Epoch 50/500\n",
            "104/104 [==============================] - 1s 6ms/step - loss: 0.9921 - accuracy: 0.5877 - val_loss: 1.0008 - val_accuracy: 0.6135\n",
            "Epoch 51/500\n",
            "104/104 [==============================] - 1s 6ms/step - loss: 0.9930 - accuracy: 0.5967 - val_loss: 1.0111 - val_accuracy: 0.5797\n",
            "Epoch 52/500\n",
            "104/104 [==============================] - 1s 5ms/step - loss: 0.9647 - accuracy: 0.6082 - val_loss: 0.9858 - val_accuracy: 0.5942\n",
            "Epoch 53/500\n",
            "104/104 [==============================] - 1s 6ms/step - loss: 0.9758 - accuracy: 0.5913 - val_loss: 0.9821 - val_accuracy: 0.6232\n",
            "Epoch 54/500\n",
            "104/104 [==============================] - 1s 6ms/step - loss: 0.9303 - accuracy: 0.6209 - val_loss: 0.9409 - val_accuracy: 0.6087\n",
            "Epoch 55/500\n",
            "104/104 [==============================] - 1s 5ms/step - loss: 0.9479 - accuracy: 0.6016 - val_loss: 0.9452 - val_accuracy: 0.6135\n",
            "Epoch 56/500\n",
            "104/104 [==============================] - 1s 6ms/step - loss: 0.9521 - accuracy: 0.6022 - val_loss: 0.9444 - val_accuracy: 0.6280\n",
            "Epoch 57/500\n",
            "104/104 [==============================] - 1s 5ms/step - loss: 0.9431 - accuracy: 0.6276 - val_loss: 0.9386 - val_accuracy: 0.5749\n",
            "Epoch 58/500\n",
            "104/104 [==============================] - 1s 6ms/step - loss: 0.9026 - accuracy: 0.6306 - val_loss: 0.9246 - val_accuracy: 0.6184\n",
            "Epoch 59/500\n",
            "104/104 [==============================] - 1s 5ms/step - loss: 0.9016 - accuracy: 0.6354 - val_loss: 0.9537 - val_accuracy: 0.5990\n",
            "Epoch 60/500\n",
            "104/104 [==============================] - 1s 5ms/step - loss: 0.8700 - accuracy: 0.6360 - val_loss: 0.9183 - val_accuracy: 0.6087\n",
            "Epoch 61/500\n",
            "104/104 [==============================] - 1s 6ms/step - loss: 0.9043 - accuracy: 0.6209 - val_loss: 0.8951 - val_accuracy: 0.6329\n",
            "Epoch 62/500\n",
            "104/104 [==============================] - 1s 5ms/step - loss: 0.8895 - accuracy: 0.6524 - val_loss: 0.9156 - val_accuracy: 0.5990\n",
            "Epoch 63/500\n",
            "104/104 [==============================] - 1s 6ms/step - loss: 0.8775 - accuracy: 0.6378 - val_loss: 0.8917 - val_accuracy: 0.6473\n",
            "Epoch 64/500\n",
            "104/104 [==============================] - 1s 5ms/step - loss: 0.8632 - accuracy: 0.6469 - val_loss: 0.9093 - val_accuracy: 0.6184\n",
            "Epoch 65/500\n",
            "104/104 [==============================] - 1s 5ms/step - loss: 0.8598 - accuracy: 0.6415 - val_loss: 0.8878 - val_accuracy: 0.6522\n",
            "Epoch 66/500\n",
            "104/104 [==============================] - 1s 5ms/step - loss: 0.8654 - accuracy: 0.6397 - val_loss: 0.8987 - val_accuracy: 0.6329\n",
            "Epoch 67/500\n",
            "104/104 [==============================] - 1s 5ms/step - loss: 0.8285 - accuracy: 0.6711 - val_loss: 0.8975 - val_accuracy: 0.6522\n",
            "Epoch 68/500\n",
            "104/104 [==============================] - 1s 6ms/step - loss: 0.8479 - accuracy: 0.6578 - val_loss: 0.8332 - val_accuracy: 0.6763\n",
            "Epoch 69/500\n",
            "104/104 [==============================] - 1s 5ms/step - loss: 0.8395 - accuracy: 0.6548 - val_loss: 0.8725 - val_accuracy: 0.6473\n",
            "Epoch 70/500\n",
            "104/104 [==============================] - 1s 5ms/step - loss: 0.8196 - accuracy: 0.6632 - val_loss: 0.8544 - val_accuracy: 0.6812\n",
            "Epoch 71/500\n",
            "104/104 [==============================] - 1s 6ms/step - loss: 0.8183 - accuracy: 0.6784 - val_loss: 0.8310 - val_accuracy: 0.6812\n",
            "Epoch 72/500\n",
            "104/104 [==============================] - 1s 5ms/step - loss: 0.8030 - accuracy: 0.6874 - val_loss: 0.9087 - val_accuracy: 0.6135\n",
            "Epoch 73/500\n",
            "104/104 [==============================] - 1s 5ms/step - loss: 0.8300 - accuracy: 0.6669 - val_loss: 0.8912 - val_accuracy: 0.6425\n",
            "Epoch 74/500\n",
            "104/104 [==============================] - 0s 5ms/step - loss: 0.7876 - accuracy: 0.6880 - val_loss: 0.8490 - val_accuracy: 0.6377\n",
            "Epoch 75/500\n",
            "104/104 [==============================] - 0s 5ms/step - loss: 0.7869 - accuracy: 0.6747 - val_loss: 0.8772 - val_accuracy: 0.6329\n",
            "Epoch 76/500\n",
            "104/104 [==============================] - 1s 5ms/step - loss: 0.7871 - accuracy: 0.6844 - val_loss: 0.8503 - val_accuracy: 0.6377\n",
            "Epoch 77/500\n",
            "104/104 [==============================] - 1s 5ms/step - loss: 0.7664 - accuracy: 0.6850 - val_loss: 0.8379 - val_accuracy: 0.6908\n",
            "Epoch 78/500\n",
            "104/104 [==============================] - 1s 5ms/step - loss: 0.7903 - accuracy: 0.6747 - val_loss: 0.8252 - val_accuracy: 0.7343\n",
            "Epoch 79/500\n",
            "104/104 [==============================] - 1s 5ms/step - loss: 0.7686 - accuracy: 0.7044 - val_loss: 0.7854 - val_accuracy: 0.6812\n",
            "Epoch 80/500\n",
            "104/104 [==============================] - 1s 5ms/step - loss: 0.7494 - accuracy: 0.6935 - val_loss: 0.7945 - val_accuracy: 0.7005\n",
            "Epoch 81/500\n",
            "104/104 [==============================] - 1s 6ms/step - loss: 0.7531 - accuracy: 0.6832 - val_loss: 0.8013 - val_accuracy: 0.6715\n",
            "Epoch 82/500\n",
            "104/104 [==============================] - 1s 5ms/step - loss: 0.7245 - accuracy: 0.6971 - val_loss: 0.8075 - val_accuracy: 0.6715\n",
            "Epoch 83/500\n",
            "104/104 [==============================] - 1s 6ms/step - loss: 0.7622 - accuracy: 0.6856 - val_loss: 0.8181 - val_accuracy: 0.6425\n",
            "Epoch 84/500\n",
            "104/104 [==============================] - 1s 6ms/step - loss: 0.7584 - accuracy: 0.6868 - val_loss: 0.8223 - val_accuracy: 0.6667\n",
            "Epoch 85/500\n",
            "104/104 [==============================] - 1s 6ms/step - loss: 0.7013 - accuracy: 0.7110 - val_loss: 0.7776 - val_accuracy: 0.6908\n",
            "Epoch 86/500\n",
            "104/104 [==============================] - 1s 6ms/step - loss: 0.7454 - accuracy: 0.6935 - val_loss: 0.7924 - val_accuracy: 0.6715\n",
            "Epoch 87/500\n",
            "104/104 [==============================] - 1s 5ms/step - loss: 0.6858 - accuracy: 0.7225 - val_loss: 0.7697 - val_accuracy: 0.6957\n",
            "Epoch 88/500\n",
            "104/104 [==============================] - 1s 6ms/step - loss: 0.7129 - accuracy: 0.7116 - val_loss: 0.8007 - val_accuracy: 0.6812\n",
            "Epoch 89/500\n",
            "104/104 [==============================] - 1s 5ms/step - loss: 0.6815 - accuracy: 0.7316 - val_loss: 0.7984 - val_accuracy: 0.6860\n",
            "Epoch 90/500\n",
            "104/104 [==============================] - 1s 5ms/step - loss: 0.6980 - accuracy: 0.7225 - val_loss: 0.8017 - val_accuracy: 0.6763\n",
            "Epoch 91/500\n",
            "104/104 [==============================] - 1s 6ms/step - loss: 0.7058 - accuracy: 0.7110 - val_loss: 0.7644 - val_accuracy: 0.7101\n",
            "Epoch 92/500\n",
            "104/104 [==============================] - 1s 5ms/step - loss: 0.6997 - accuracy: 0.7189 - val_loss: 0.7831 - val_accuracy: 0.7246\n",
            "Epoch 93/500\n",
            "104/104 [==============================] - 1s 6ms/step - loss: 0.6621 - accuracy: 0.7304 - val_loss: 0.7648 - val_accuracy: 0.7150\n",
            "Epoch 94/500\n",
            "104/104 [==============================] - 1s 6ms/step - loss: 0.6799 - accuracy: 0.7322 - val_loss: 0.7126 - val_accuracy: 0.7198\n",
            "Epoch 95/500\n",
            "104/104 [==============================] - 1s 5ms/step - loss: 0.6524 - accuracy: 0.7406 - val_loss: 0.7453 - val_accuracy: 0.7150\n",
            "Epoch 96/500\n",
            "104/104 [==============================] - 1s 6ms/step - loss: 0.6768 - accuracy: 0.7304 - val_loss: 0.7302 - val_accuracy: 0.7391\n",
            "Epoch 97/500\n",
            "104/104 [==============================] - 1s 6ms/step - loss: 0.6557 - accuracy: 0.7437 - val_loss: 0.7914 - val_accuracy: 0.6812\n",
            "Epoch 98/500\n",
            "104/104 [==============================] - 1s 6ms/step - loss: 0.6534 - accuracy: 0.7388 - val_loss: 0.7415 - val_accuracy: 0.7150\n",
            "Epoch 99/500\n",
            "104/104 [==============================] - 1s 6ms/step - loss: 0.6275 - accuracy: 0.7497 - val_loss: 0.8154 - val_accuracy: 0.7198\n",
            "Epoch 100/500\n",
            "104/104 [==============================] - 1s 5ms/step - loss: 0.6290 - accuracy: 0.7382 - val_loss: 0.7437 - val_accuracy: 0.7101\n",
            "Epoch 101/500\n",
            "104/104 [==============================] - 1s 6ms/step - loss: 0.6359 - accuracy: 0.7406 - val_loss: 0.7305 - val_accuracy: 0.7295\n",
            "Epoch 102/500\n",
            "104/104 [==============================] - 1s 5ms/step - loss: 0.6268 - accuracy: 0.7479 - val_loss: 0.7994 - val_accuracy: 0.6812\n",
            "Epoch 103/500\n",
            "104/104 [==============================] - 1s 5ms/step - loss: 0.6418 - accuracy: 0.7455 - val_loss: 0.7550 - val_accuracy: 0.6957\n",
            "Epoch 104/500\n",
            "104/104 [==============================] - 1s 6ms/step - loss: 0.6184 - accuracy: 0.7430 - val_loss: 0.7246 - val_accuracy: 0.7053\n",
            "Epoch 105/500\n",
            "104/104 [==============================] - 1s 5ms/step - loss: 0.6316 - accuracy: 0.7576 - val_loss: 0.7521 - val_accuracy: 0.7005\n",
            "Epoch 106/500\n",
            "104/104 [==============================] - 1s 5ms/step - loss: 0.5791 - accuracy: 0.7618 - val_loss: 0.7914 - val_accuracy: 0.7101\n",
            "Epoch 107/500\n",
            "104/104 [==============================] - 1s 6ms/step - loss: 0.6338 - accuracy: 0.7479 - val_loss: 0.7319 - val_accuracy: 0.7101\n",
            "Epoch 108/500\n",
            "104/104 [==============================] - 1s 5ms/step - loss: 0.6379 - accuracy: 0.7533 - val_loss: 0.7230 - val_accuracy: 0.7101\n",
            "Epoch 109/500\n",
            "104/104 [==============================] - 1s 6ms/step - loss: 0.6132 - accuracy: 0.7678 - val_loss: 0.7963 - val_accuracy: 0.6715\n",
            "Epoch 110/500\n",
            "104/104 [==============================] - 1s 5ms/step - loss: 0.6044 - accuracy: 0.7618 - val_loss: 0.7165 - val_accuracy: 0.7295\n",
            "Epoch 111/500\n",
            "104/104 [==============================] - 1s 5ms/step - loss: 0.5797 - accuracy: 0.7696 - val_loss: 0.7032 - val_accuracy: 0.7343\n",
            "Epoch 112/500\n",
            "104/104 [==============================] - 1s 6ms/step - loss: 0.5638 - accuracy: 0.7703 - val_loss: 0.7153 - val_accuracy: 0.7150\n",
            "Epoch 113/500\n",
            "104/104 [==============================] - 1s 5ms/step - loss: 0.5781 - accuracy: 0.7703 - val_loss: 0.7273 - val_accuracy: 0.7246\n",
            "Epoch 114/500\n",
            "104/104 [==============================] - 1s 6ms/step - loss: 0.6029 - accuracy: 0.7563 - val_loss: 0.6895 - val_accuracy: 0.7343\n",
            "Epoch 115/500\n",
            "104/104 [==============================] - 1s 5ms/step - loss: 0.5714 - accuracy: 0.7842 - val_loss: 0.6964 - val_accuracy: 0.7343\n",
            "Epoch 116/500\n",
            "104/104 [==============================] - 1s 5ms/step - loss: 0.6004 - accuracy: 0.7618 - val_loss: 0.6915 - val_accuracy: 0.7488\n",
            "Epoch 117/500\n",
            "104/104 [==============================] - 1s 6ms/step - loss: 0.5482 - accuracy: 0.7902 - val_loss: 0.7325 - val_accuracy: 0.7343\n",
            "Epoch 118/500\n",
            "104/104 [==============================] - 1s 5ms/step - loss: 0.5794 - accuracy: 0.7648 - val_loss: 0.6809 - val_accuracy: 0.7246\n",
            "Epoch 119/500\n",
            "104/104 [==============================] - 1s 6ms/step - loss: 0.5685 - accuracy: 0.7696 - val_loss: 0.6882 - val_accuracy: 0.7440\n",
            "Epoch 120/500\n",
            "104/104 [==============================] - 1s 5ms/step - loss: 0.5536 - accuracy: 0.7884 - val_loss: 0.7350 - val_accuracy: 0.7005\n",
            "Epoch 121/500\n",
            "104/104 [==============================] - 1s 6ms/step - loss: 0.5530 - accuracy: 0.7926 - val_loss: 0.6612 - val_accuracy: 0.7343\n",
            "Epoch 122/500\n",
            "104/104 [==============================] - 1s 5ms/step - loss: 0.5328 - accuracy: 0.7848 - val_loss: 0.6833 - val_accuracy: 0.7391\n",
            "Epoch 123/500\n",
            "104/104 [==============================] - 1s 5ms/step - loss: 0.5272 - accuracy: 0.7932 - val_loss: 0.6460 - val_accuracy: 0.7536\n",
            "Epoch 124/500\n",
            "104/104 [==============================] - 1s 6ms/step - loss: 0.5356 - accuracy: 0.7842 - val_loss: 0.6321 - val_accuracy: 0.7536\n",
            "Epoch 125/500\n",
            "104/104 [==============================] - 1s 5ms/step - loss: 0.5190 - accuracy: 0.7963 - val_loss: 0.6798 - val_accuracy: 0.7343\n",
            "Epoch 126/500\n",
            "104/104 [==============================] - 1s 6ms/step - loss: 0.5153 - accuracy: 0.7926 - val_loss: 0.6630 - val_accuracy: 0.7536\n",
            "Epoch 127/500\n",
            "104/104 [==============================] - 1s 5ms/step - loss: 0.4865 - accuracy: 0.8065 - val_loss: 0.6875 - val_accuracy: 0.7150\n",
            "Epoch 128/500\n",
            "104/104 [==============================] - 1s 5ms/step - loss: 0.4862 - accuracy: 0.8077 - val_loss: 0.7085 - val_accuracy: 0.7343\n",
            "Epoch 129/500\n",
            "104/104 [==============================] - 1s 6ms/step - loss: 0.5180 - accuracy: 0.7884 - val_loss: 0.6624 - val_accuracy: 0.7488\n",
            "Epoch 130/500\n",
            "104/104 [==============================] - 1s 6ms/step - loss: 0.5150 - accuracy: 0.7944 - val_loss: 0.6717 - val_accuracy: 0.7729\n",
            "Epoch 131/500\n",
            "104/104 [==============================] - 1s 7ms/step - loss: 0.5098 - accuracy: 0.8017 - val_loss: 0.6639 - val_accuracy: 0.7681\n",
            "Epoch 132/500\n",
            "104/104 [==============================] - 1s 8ms/step - loss: 0.4992 - accuracy: 0.7956 - val_loss: 0.6584 - val_accuracy: 0.7874\n",
            "Epoch 133/500\n",
            "104/104 [==============================] - 1s 14ms/step - loss: 0.4890 - accuracy: 0.8071 - val_loss: 0.6244 - val_accuracy: 0.7826\n",
            "Epoch 134/500\n",
            "104/104 [==============================] - 1s 14ms/step - loss: 0.4974 - accuracy: 0.8083 - val_loss: 0.6827 - val_accuracy: 0.7391\n",
            "Epoch 135/500\n",
            "104/104 [==============================] - 1s 10ms/step - loss: 0.4688 - accuracy: 0.8210 - val_loss: 0.6434 - val_accuracy: 0.7633\n",
            "Epoch 136/500\n",
            "104/104 [==============================] - 1s 9ms/step - loss: 0.4868 - accuracy: 0.8096 - val_loss: 0.6897 - val_accuracy: 0.7488\n",
            "Epoch 137/500\n",
            "104/104 [==============================] - 1s 6ms/step - loss: 0.5237 - accuracy: 0.7884 - val_loss: 0.6574 - val_accuracy: 0.7681\n",
            "Epoch 138/500\n",
            "104/104 [==============================] - 1s 5ms/step - loss: 0.4743 - accuracy: 0.8186 - val_loss: 0.6692 - val_accuracy: 0.7295\n",
            "Epoch 139/500\n",
            "104/104 [==============================] - 1s 6ms/step - loss: 0.4673 - accuracy: 0.8114 - val_loss: 0.6655 - val_accuracy: 0.7343\n",
            "Epoch 140/500\n",
            "104/104 [==============================] - 1s 5ms/step - loss: 0.4358 - accuracy: 0.8283 - val_loss: 0.6199 - val_accuracy: 0.7826\n",
            "Epoch 141/500\n",
            "104/104 [==============================] - 1s 5ms/step - loss: 0.4814 - accuracy: 0.8156 - val_loss: 0.6344 - val_accuracy: 0.7633\n",
            "Epoch 142/500\n",
            "104/104 [==============================] - 1s 5ms/step - loss: 0.4632 - accuracy: 0.8156 - val_loss: 0.6241 - val_accuracy: 0.7633\n",
            "Epoch 143/500\n",
            "104/104 [==============================] - 1s 5ms/step - loss: 0.4677 - accuracy: 0.8144 - val_loss: 0.6178 - val_accuracy: 0.7681\n",
            "Epoch 144/500\n",
            "104/104 [==============================] - 1s 6ms/step - loss: 0.4545 - accuracy: 0.8247 - val_loss: 0.6120 - val_accuracy: 0.7633\n",
            "Epoch 145/500\n",
            "104/104 [==============================] - 1s 5ms/step - loss: 0.4629 - accuracy: 0.8174 - val_loss: 0.6166 - val_accuracy: 0.7874\n",
            "Epoch 146/500\n",
            "104/104 [==============================] - 1s 6ms/step - loss: 0.4619 - accuracy: 0.8283 - val_loss: 0.6207 - val_accuracy: 0.7874\n",
            "Epoch 147/500\n",
            "104/104 [==============================] - 1s 5ms/step - loss: 0.4279 - accuracy: 0.8235 - val_loss: 0.6492 - val_accuracy: 0.7681\n",
            "Epoch 148/500\n",
            "104/104 [==============================] - 1s 5ms/step - loss: 0.4724 - accuracy: 0.8192 - val_loss: 0.6125 - val_accuracy: 0.7826\n",
            "Epoch 149/500\n",
            "104/104 [==============================] - 1s 6ms/step - loss: 0.4586 - accuracy: 0.8096 - val_loss: 0.5830 - val_accuracy: 0.8068\n",
            "Epoch 150/500\n",
            "104/104 [==============================] - 1s 5ms/step - loss: 0.4133 - accuracy: 0.8446 - val_loss: 0.6290 - val_accuracy: 0.7971\n",
            "Epoch 151/500\n",
            "104/104 [==============================] - 1s 6ms/step - loss: 0.4592 - accuracy: 0.8168 - val_loss: 0.6279 - val_accuracy: 0.7729\n",
            "Epoch 152/500\n",
            "104/104 [==============================] - 1s 6ms/step - loss: 0.4418 - accuracy: 0.8289 - val_loss: 0.6374 - val_accuracy: 0.7681\n",
            "Epoch 153/500\n",
            "104/104 [==============================] - 1s 5ms/step - loss: 0.4051 - accuracy: 0.8440 - val_loss: 0.6260 - val_accuracy: 0.7923\n",
            "Epoch 154/500\n",
            "104/104 [==============================] - 1s 6ms/step - loss: 0.4220 - accuracy: 0.8362 - val_loss: 0.6525 - val_accuracy: 0.7536\n",
            "Epoch 155/500\n",
            "104/104 [==============================] - 1s 5ms/step - loss: 0.4173 - accuracy: 0.8380 - val_loss: 0.7066 - val_accuracy: 0.7536\n",
            "Epoch 156/500\n",
            "104/104 [==============================] - 1s 5ms/step - loss: 0.4294 - accuracy: 0.8289 - val_loss: 0.6275 - val_accuracy: 0.7729\n",
            "Epoch 157/500\n",
            "104/104 [==============================] - 1s 6ms/step - loss: 0.4520 - accuracy: 0.8192 - val_loss: 0.6437 - val_accuracy: 0.7778\n",
            "Epoch 158/500\n",
            "104/104 [==============================] - 0s 5ms/step - loss: 0.4260 - accuracy: 0.8416 - val_loss: 0.6050 - val_accuracy: 0.7729\n",
            "Epoch 159/500\n",
            "104/104 [==============================] - 1s 6ms/step - loss: 0.4237 - accuracy: 0.8295 - val_loss: 0.5887 - val_accuracy: 0.8164\n",
            "Epoch 160/500\n",
            "104/104 [==============================] - 1s 5ms/step - loss: 0.4110 - accuracy: 0.8380 - val_loss: 0.5876 - val_accuracy: 0.8116\n",
            "Epoch 161/500\n",
            "104/104 [==============================] - 1s 6ms/step - loss: 0.3869 - accuracy: 0.8452 - val_loss: 0.6262 - val_accuracy: 0.7826\n",
            "Epoch 162/500\n",
            "104/104 [==============================] - 1s 6ms/step - loss: 0.4064 - accuracy: 0.8501 - val_loss: 0.6574 - val_accuracy: 0.7585\n",
            "Epoch 163/500\n",
            "104/104 [==============================] - 1s 5ms/step - loss: 0.3803 - accuracy: 0.8555 - val_loss: 0.6712 - val_accuracy: 0.7536\n",
            "Epoch 164/500\n",
            "104/104 [==============================] - 1s 6ms/step - loss: 0.4364 - accuracy: 0.8253 - val_loss: 0.6057 - val_accuracy: 0.7874\n",
            "Epoch 165/500\n",
            "104/104 [==============================] - 1s 6ms/step - loss: 0.3674 - accuracy: 0.8628 - val_loss: 0.6860 - val_accuracy: 0.7391\n",
            "Epoch 166/500\n",
            "104/104 [==============================] - 1s 6ms/step - loss: 0.3730 - accuracy: 0.8591 - val_loss: 0.6109 - val_accuracy: 0.7778\n",
            "Epoch 167/500\n",
            "104/104 [==============================] - 1s 6ms/step - loss: 0.4212 - accuracy: 0.8404 - val_loss: 0.5653 - val_accuracy: 0.7826\n",
            "Epoch 168/500\n",
            "104/104 [==============================] - 1s 5ms/step - loss: 0.3931 - accuracy: 0.8482 - val_loss: 0.6222 - val_accuracy: 0.7923\n",
            "Epoch 169/500\n",
            "104/104 [==============================] - 1s 6ms/step - loss: 0.4053 - accuracy: 0.8513 - val_loss: 0.6019 - val_accuracy: 0.7923\n",
            "Epoch 170/500\n",
            "104/104 [==============================] - 1s 5ms/step - loss: 0.4151 - accuracy: 0.8519 - val_loss: 0.6049 - val_accuracy: 0.8116\n",
            "Epoch 171/500\n",
            "104/104 [==============================] - 1s 6ms/step - loss: 0.3572 - accuracy: 0.8585 - val_loss: 0.5704 - val_accuracy: 0.8068\n",
            "Epoch 172/500\n",
            "104/104 [==============================] - 1s 6ms/step - loss: 0.3430 - accuracy: 0.8640 - val_loss: 0.6343 - val_accuracy: 0.7343\n",
            "Epoch 173/500\n",
            "104/104 [==============================] - 1s 5ms/step - loss: 0.3868 - accuracy: 0.8531 - val_loss: 0.6457 - val_accuracy: 0.7681\n",
            "Epoch 174/500\n",
            "104/104 [==============================] - 1s 6ms/step - loss: 0.4186 - accuracy: 0.8319 - val_loss: 0.6668 - val_accuracy: 0.7391\n",
            "Epoch 175/500\n",
            "104/104 [==============================] - 1s 5ms/step - loss: 0.3920 - accuracy: 0.8525 - val_loss: 0.6569 - val_accuracy: 0.7826\n",
            "Epoch 176/500\n",
            "104/104 [==============================] - 1s 6ms/step - loss: 0.3823 - accuracy: 0.8567 - val_loss: 0.5886 - val_accuracy: 0.8068\n",
            "Epoch 177/500\n",
            "104/104 [==============================] - 1s 6ms/step - loss: 0.3556 - accuracy: 0.8609 - val_loss: 0.6330 - val_accuracy: 0.7778\n",
            "Epoch 178/500\n",
            "104/104 [==============================] - 1s 5ms/step - loss: 0.3678 - accuracy: 0.8591 - val_loss: 0.6365 - val_accuracy: 0.7440\n",
            "Epoch 179/500\n",
            "104/104 [==============================] - 1s 6ms/step - loss: 0.3411 - accuracy: 0.8670 - val_loss: 0.6020 - val_accuracy: 0.7874\n",
            "Epoch 180/500\n",
            "104/104 [==============================] - 1s 5ms/step - loss: 0.3529 - accuracy: 0.8585 - val_loss: 0.6083 - val_accuracy: 0.7971\n",
            "Epoch 181/500\n",
            "104/104 [==============================] - 1s 6ms/step - loss: 0.3568 - accuracy: 0.8670 - val_loss: 0.5528 - val_accuracy: 0.8116\n",
            "Epoch 182/500\n",
            "104/104 [==============================] - 1s 6ms/step - loss: 0.3523 - accuracy: 0.8652 - val_loss: 0.6099 - val_accuracy: 0.7874\n",
            "Epoch 183/500\n",
            "104/104 [==============================] - 1s 5ms/step - loss: 0.3818 - accuracy: 0.8537 - val_loss: 0.6500 - val_accuracy: 0.7681\n",
            "Epoch 184/500\n",
            "104/104 [==============================] - 1s 6ms/step - loss: 0.3591 - accuracy: 0.8664 - val_loss: 0.6465 - val_accuracy: 0.7971\n",
            "Epoch 185/500\n",
            "104/104 [==============================] - 1s 5ms/step - loss: 0.3553 - accuracy: 0.8718 - val_loss: 0.5867 - val_accuracy: 0.8019\n",
            "Epoch 186/500\n",
            "104/104 [==============================] - 1s 6ms/step - loss: 0.3298 - accuracy: 0.8755 - val_loss: 0.6232 - val_accuracy: 0.7971\n",
            "Epoch 187/500\n",
            "104/104 [==============================] - 1s 6ms/step - loss: 0.3388 - accuracy: 0.8791 - val_loss: 0.5875 - val_accuracy: 0.7923\n",
            "Epoch 188/500\n",
            "104/104 [==============================] - 1s 5ms/step - loss: 0.3515 - accuracy: 0.8694 - val_loss: 0.6213 - val_accuracy: 0.8068\n",
            "Epoch 189/500\n",
            "104/104 [==============================] - 1s 6ms/step - loss: 0.3532 - accuracy: 0.8658 - val_loss: 0.6545 - val_accuracy: 0.7971\n",
            "Epoch 190/500\n",
            "104/104 [==============================] - 1s 5ms/step - loss: 0.3286 - accuracy: 0.8821 - val_loss: 0.6082 - val_accuracy: 0.7971\n",
            "Epoch 191/500\n",
            "104/104 [==============================] - 1s 6ms/step - loss: 0.3522 - accuracy: 0.8736 - val_loss: 0.6477 - val_accuracy: 0.7391\n",
            "Epoch 192/500\n",
            "104/104 [==============================] - 1s 5ms/step - loss: 0.3560 - accuracy: 0.8706 - val_loss: 0.5742 - val_accuracy: 0.8213\n",
            "Epoch 193/500\n",
            "104/104 [==============================] - 1s 5ms/step - loss: 0.3279 - accuracy: 0.8755 - val_loss: 0.5980 - val_accuracy: 0.7874\n",
            "Epoch 194/500\n",
            "104/104 [==============================] - 1s 6ms/step - loss: 0.3492 - accuracy: 0.8706 - val_loss: 0.6222 - val_accuracy: 0.7778\n",
            "Epoch 195/500\n",
            "104/104 [==============================] - 1s 5ms/step - loss: 0.3504 - accuracy: 0.8549 - val_loss: 0.6351 - val_accuracy: 0.7826\n",
            "Epoch 196/500\n",
            "104/104 [==============================] - 1s 6ms/step - loss: 0.3595 - accuracy: 0.8615 - val_loss: 0.6248 - val_accuracy: 0.8019\n",
            "Epoch 197/500\n",
            "104/104 [==============================] - 1s 6ms/step - loss: 0.3314 - accuracy: 0.8688 - val_loss: 0.6244 - val_accuracy: 0.7826\n",
            "Epoch 198/500\n",
            "104/104 [==============================] - 1s 5ms/step - loss: 0.3168 - accuracy: 0.8767 - val_loss: 0.6114 - val_accuracy: 0.7585\n",
            "Epoch 199/500\n",
            "104/104 [==============================] - 1s 6ms/step - loss: 0.3295 - accuracy: 0.8797 - val_loss: 0.5885 - val_accuracy: 0.7874\n",
            "Epoch 200/500\n",
            "104/104 [==============================] - 1s 5ms/step - loss: 0.2955 - accuracy: 0.8918 - val_loss: 0.5964 - val_accuracy: 0.8213\n",
            "Epoch 201/500\n",
            "104/104 [==============================] - 1s 6ms/step - loss: 0.3219 - accuracy: 0.8839 - val_loss: 0.6262 - val_accuracy: 0.7729\n",
            "Epoch 202/500\n",
            "104/104 [==============================] - 1s 6ms/step - loss: 0.3115 - accuracy: 0.8791 - val_loss: 0.6136 - val_accuracy: 0.7923\n",
            "Epoch 203/500\n",
            "104/104 [==============================] - 1s 5ms/step - loss: 0.3317 - accuracy: 0.8773 - val_loss: 0.6293 - val_accuracy: 0.8068\n",
            "Epoch 204/500\n",
            "104/104 [==============================] - 1s 6ms/step - loss: 0.3245 - accuracy: 0.8791 - val_loss: 0.6864 - val_accuracy: 0.7633\n",
            "Epoch 205/500\n",
            "104/104 [==============================] - 1s 5ms/step - loss: 0.3332 - accuracy: 0.8742 - val_loss: 0.6699 - val_accuracy: 0.7874\n",
            "Epoch 206/500\n",
            "104/104 [==============================] - 1s 6ms/step - loss: 0.3208 - accuracy: 0.8767 - val_loss: 0.6250 - val_accuracy: 0.7971\n"
          ]
        }
      ]
    },
    {
      "cell_type": "code",
      "source": [
        "plt.plot(cnnhistory.history['loss'])\n",
        "plt.plot(cnnhistory.history['val_loss'])\n",
        "plt.title('model loss')\n",
        "plt.ylabel('loss')\n",
        "plt.xlabel('epoch')\n",
        "plt.legend(['train','test'], loc='upper left')\n",
        "plt.show()"
      ],
      "metadata": {
        "colab": {
          "base_uri": "https://localhost:8080/",
          "height": 295
        },
        "id": "oQYnuaCrDH_A",
        "outputId": "2f7fdee8-9b8e-459e-b842-afb24ff38a35"
      },
      "execution_count": 15,
      "outputs": [
        {
          "output_type": "display_data",
          "data": {
            "text/plain": [
              "<Figure size 432x288 with 1 Axes>"
            ],
            "image/png": "[encoded data removed]"
          },
          "metadata": {
            "needs_background": "light"
          }
        }
      ]
    },
    {
      "cell_type": "code",
      "source": [
        "plt.plot(cnnhistory.history['accuracy'])\n",
        "plt.plot(cnnhistory.history['val_accuracy'])\n",
        "plt.title('model accuracy')\n",
        "plt.ylabel('accuracy')\n",
        "plt.xlabel('epoch')\n",
        "plt.legend(['train','test'], loc='upper left')\n",
        "plt.show()"
      ],
      "metadata": {
        "colab": {
          "base_uri": "https://localhost:8080/",
          "height": 295
        },
        "id": "IFkTuO8nDNdq",
        "outputId": "5642744f-50c3-482d-b427-a4884169f483"
      },
      "execution_count": 16,
      "outputs": [
        {
          "output_type": "display_data",
          "data": {
            "text/plain": [
              "<Figure size 432x288 with 1 Axes>"
            ],
            "image/png": "[encoded data removed]"
          },
          "metadata": {
            "needs_background": "light"
          }
        }
      ]
    },
    {
      "cell_type": "code",
      "source": [
        "predictions = model.predict(x_testcnn)"
      ],
      "metadata": {
        "id": "A2xtrN5wDQgY"
      },
      "execution_count": 17,
      "outputs": []
    },
    {
      "cell_type": "code",
      "source": [
        "predictions"
      ],
      "metadata": {
        "colab": {
          "base_uri": "https://localhost:8080/"
        },
        "id": "_f_ohjXKDUpY",
        "outputId": "dfda82a8-f4ac-4aa6-9248-8dcb0bda897a"
      },
      "execution_count": 18,
      "outputs": [
        {
          "output_type": "execute_result",
          "data": {
            "text/plain": [
              "array([[6.67773932e-02, 1.05454512e-02, 9.65677202e-02, 6.56036511e-02,\n",
              "        7.37747252e-01, 2.27585454e-02],\n",
              "       [1.01107544e-04, 1.71048021e-06, 2.29561046e-08, 9.65898156e-01,\n",
              "        5.08787434e-06, 3.39939855e-02],\n",
              "       [1.57717064e-01, 4.09067385e-02, 1.76263675e-02, 4.07836914e-01,\n",
              "        8.16577207e-03, 3.67747098e-01],\n",
              "       ...,\n",
              "       [9.49153618e-05, 9.82756774e-07, 1.25574775e-03, 2.66060047e-03,\n",
              "        6.14618897e-01, 3.81368876e-01],\n",
              "       [1.26510020e-03, 7.49818906e-02, 9.05952275e-01, 6.70502800e-03,\n",
              "        5.20861661e-03, 5.88707579e-03],\n",
              "       [7.19118952e-06, 4.86150441e-07, 3.23142647e-03, 1.74733013e-05,\n",
              "        9.95354295e-01, 1.38915540e-03]], dtype=float32)"
            ]
          },
          "metadata": {},
          "execution_count": 18
        }
      ]
    },
    {
      "cell_type": "code",
      "source": [
        "y_test"
      ],
      "metadata": {
        "colab": {
          "base_uri": "https://localhost:8080/"
        },
        "id": "cmA2bFgsDW3D",
        "outputId": "084a0406-0417-4a6b-be03-a88bc7b1e8d4"
      },
      "execution_count": 19,
      "outputs": [
        {
          "output_type": "execute_result",
          "data": {
            "text/plain": [
              "array([3, 3, 3, 0, 4, 4, 1, 2, 5, 0, 5, 3, 2, 2, 1, 4, 4, 5, 2, 4, 1, 2,\n",
              "       3, 5, 4, 2, 1, 2, 2, 2, 2, 5, 2, 5, 3, 1, 2, 0, 4, 5, 2, 3, 2, 2,\n",
              "       5, 2, 0, 1, 3, 4, 4, 5, 1, 1, 4, 4, 5, 1, 1, 1, 0, 1, 5, 0, 4, 1,\n",
              "       1, 0, 1, 4, 1, 0, 4, 1, 3, 1, 2, 2, 1, 2, 3, 0, 5, 3, 5, 5, 2, 4,\n",
              "       5, 1, 5, 1, 5, 3, 4, 1, 4, 1, 5, 4, 5, 1, 2, 1, 1, 5, 1, 3, 2, 5,\n",
              "       2, 1, 3, 5, 4, 4, 0, 0, 3, 1, 2, 2, 3, 5, 1, 5, 3, 4, 2, 2, 0, 2,\n",
              "       2, 5, 5, 0, 3, 3, 2, 2, 0, 3, 4, 0, 4, 2, 4, 5, 4, 1, 5, 3, 2, 2,\n",
              "       5, 4, 3, 3, 4, 3, 3, 4, 1, 5, 2, 3, 2, 2, 0, 2, 1, 3, 1, 2, 2, 5,\n",
              "       5, 1, 4, 2, 2, 1, 1, 3, 3, 5, 5, 2, 5, 1, 5, 0, 3, 3, 0, 5, 1, 4,\n",
              "       1, 4, 2, 5, 5, 1, 4, 2, 4])"
            ]
          },
          "metadata": {},
          "execution_count": 19
        }
      ]
    },
    {
      "cell_type": "code",
      "source": [
        "new_Ytest = y_test.astype(int)"
      ],
      "metadata": {
        "id": "0PHDKWJWDY3g"
      },
      "execution_count": 20,
      "outputs": []
    },
    {
      "cell_type": "code",
      "source": [
        "new_Ytest"
      ],
      "metadata": {
        "colab": {
          "base_uri": "https://localhost:8080/"
        },
        "id": "k68v2i-pDbZE",
        "outputId": "214a57ab-becc-4c63-c490-0c55e359c3ba"
      },
      "execution_count": 21,
      "outputs": [
        {
          "output_type": "execute_result",
          "data": {
            "text/plain": [
              "array([3, 3, 3, 0, 4, 4, 1, 2, 5, 0, 5, 3, 2, 2, 1, 4, 4, 5, 2, 4, 1, 2,\n",
              "       3, 5, 4, 2, 1, 2, 2, 2, 2, 5, 2, 5, 3, 1, 2, 0, 4, 5, 2, 3, 2, 2,\n",
              "       5, 2, 0, 1, 3, 4, 4, 5, 1, 1, 4, 4, 5, 1, 1, 1, 0, 1, 5, 0, 4, 1,\n",
              "       1, 0, 1, 4, 1, 0, 4, 1, 3, 1, 2, 2, 1, 2, 3, 0, 5, 3, 5, 5, 2, 4,\n",
              "       5, 1, 5, 1, 5, 3, 4, 1, 4, 1, 5, 4, 5, 1, 2, 1, 1, 5, 1, 3, 2, 5,\n",
              "       2, 1, 3, 5, 4, 4, 0, 0, 3, 1, 2, 2, 3, 5, 1, 5, 3, 4, 2, 2, 0, 2,\n",
              "       2, 5, 5, 0, 3, 3, 2, 2, 0, 3, 4, 0, 4, 2, 4, 5, 4, 1, 5, 3, 2, 2,\n",
              "       5, 4, 3, 3, 4, 3, 3, 4, 1, 5, 2, 3, 2, 2, 0, 2, 1, 3, 1, 2, 2, 5,\n",
              "       5, 1, 4, 2, 2, 1, 1, 3, 3, 5, 5, 2, 5, 1, 5, 0, 3, 3, 0, 5, 1, 4,\n",
              "       1, 4, 2, 5, 5, 1, 4, 2, 4])"
            ]
          },
          "metadata": {},
          "execution_count": 21
        }
      ]
    },
    {
      "cell_type": "code",
      "source": [
        "preds1=predictions.argmax(axis=1)\n",
        "preds1"
      ],
      "metadata": {
        "colab": {
          "base_uri": "https://localhost:8080/"
        },
        "id": "4_cAI39VFhtp",
        "outputId": "1fcaba8f-8270-4a45-89e4-9582301dba89"
      },
      "execution_count": 22,
      "outputs": [
        {
          "output_type": "execute_result",
          "data": {
            "text/plain": [
              "array([4, 3, 3, 2, 4, 4, 1, 2, 5, 1, 2, 3, 2, 2, 1, 4, 4, 3, 2, 4, 1, 2,\n",
              "       2, 3, 4, 2, 1, 5, 2, 2, 2, 5, 0, 5, 3, 1, 2, 0, 4, 5, 2, 5, 4, 2,\n",
              "       5, 2, 1, 1, 3, 4, 4, 5, 1, 1, 4, 4, 5, 1, 1, 1, 3, 1, 2, 2, 4, 1,\n",
              "       1, 1, 1, 4, 1, 2, 4, 1, 5, 3, 2, 2, 1, 2, 1, 0, 5, 3, 5, 5, 2, 5,\n",
              "       5, 1, 5, 2, 5, 3, 4, 2, 4, 0, 5, 4, 5, 1, 2, 1, 1, 5, 1, 5, 2, 2,\n",
              "       5, 2, 3, 5, 4, 4, 2, 0, 3, 1, 1, 2, 1, 5, 1, 5, 3, 5, 2, 5, 1, 4,\n",
              "       2, 3, 5, 0, 5, 3, 2, 4, 0, 3, 4, 0, 4, 4, 4, 2, 4, 1, 5, 3, 2, 2,\n",
              "       5, 4, 2, 3, 4, 5, 3, 4, 1, 5, 2, 3, 2, 2, 0, 2, 1, 3, 1, 4, 2, 5,\n",
              "       5, 1, 4, 2, 4, 1, 0, 3, 3, 5, 5, 2, 5, 1, 4, 1, 3, 3, 2, 5, 1, 4,\n",
              "       1, 4, 3, 2, 5, 3, 4, 2, 4])"
            ]
          },
          "metadata": {},
          "execution_count": 22
        }
      ]
    },
    {
      "cell_type": "code",
      "source": [
        "abc = preds1.astype(int).flatten()"
      ],
      "metadata": {
        "id": "H4WEmM60NfQn"
      },
      "execution_count": 23,
      "outputs": []
    },
    {
      "cell_type": "code",
      "source": [
        "from sklearn.metrics import confusion_matrix\n",
        "c = confusion_matrix(new_Ytest, abc) \n",
        "c"
      ],
      "metadata": {
        "colab": {
          "base_uri": "https://localhost:8080/"
        },
        "id": "bKEBeEBlFjB8",
        "outputId": "99369a5f-64ab-4217-950f-73c2c4156641"
      },
      "execution_count": 24,
      "outputs": [
        {
          "output_type": "execute_result",
          "data": {
            "text/plain": [
              "array([[ 7,  5,  5,  1,  0,  0],\n",
              "       [ 2, 34,  3,  2,  0,  0],\n",
              "       [ 1,  1, 33,  1,  6,  3],\n",
              "       [ 0,  2,  2, 21,  1,  5],\n",
              "       [ 0,  0,  0,  0, 31,  2],\n",
              "       [ 0,  0,  5,  3,  1, 30]])"
            ]
          },
          "metadata": {},
          "execution_count": 24
        }
      ]
    },
    {
      "cell_type": "code",
      "source": [
        "y_test"
      ],
      "metadata": {
        "colab": {
          "base_uri": "https://localhost:8080/"
        },
        "id": "m4RjG7LWLSQx",
        "outputId": "7a154f12-2c60-4f89-b123-dab403739930"
      },
      "execution_count": 25,
      "outputs": [
        {
          "output_type": "execute_result",
          "data": {
            "text/plain": [
              "array([3, 3, 3, 0, 4, 4, 1, 2, 5, 0, 5, 3, 2, 2, 1, 4, 4, 5, 2, 4, 1, 2,\n",
              "       3, 5, 4, 2, 1, 2, 2, 2, 2, 5, 2, 5, 3, 1, 2, 0, 4, 5, 2, 3, 2, 2,\n",
              "       5, 2, 0, 1, 3, 4, 4, 5, 1, 1, 4, 4, 5, 1, 1, 1, 0, 1, 5, 0, 4, 1,\n",
              "       1, 0, 1, 4, 1, 0, 4, 1, 3, 1, 2, 2, 1, 2, 3, 0, 5, 3, 5, 5, 2, 4,\n",
              "       5, 1, 5, 1, 5, 3, 4, 1, 4, 1, 5, 4, 5, 1, 2, 1, 1, 5, 1, 3, 2, 5,\n",
              "       2, 1, 3, 5, 4, 4, 0, 0, 3, 1, 2, 2, 3, 5, 1, 5, 3, 4, 2, 2, 0, 2,\n",
              "       2, 5, 5, 0, 3, 3, 2, 2, 0, 3, 4, 0, 4, 2, 4, 5, 4, 1, 5, 3, 2, 2,\n",
              "       5, 4, 3, 3, 4, 3, 3, 4, 1, 5, 2, 3, 2, 2, 0, 2, 1, 3, 1, 2, 2, 5,\n",
              "       5, 1, 4, 2, 2, 1, 1, 3, 3, 5, 5, 2, 5, 1, 5, 0, 3, 3, 0, 5, 1, 4,\n",
              "       1, 4, 2, 5, 5, 1, 4, 2, 4])"
            ]
          },
          "metadata": {},
          "execution_count": 25
        }
      ]
    },
    {
      "cell_type": "code",
      "source": [
        "loss, acc =model.evaluate(x_testcnn, y_test)\n",
        "print(\"Restored model, accuracy: {:5.2f}%\".format(100*acc))"
      ],
      "metadata": {
        "colab": {
          "base_uri": "https://localhost:8080/"
        },
        "id": "n3kzoqPkDqqS",
        "outputId": "f6ec3f01-ad54-43e3-f4dd-d1c3e686fbb6"
      },
      "execution_count": 26,
      "outputs": [
        {
          "output_type": "stream",
          "name": "stdout",
          "text": [
            "7/7 [==============================] - 0s 3ms/step - loss: 0.6554 - accuracy: 0.7536\n",
            "Restored model, accuracy: 75.36%\n"
          ]
        }
      ]
    },
    {
      "cell_type": "code",
      "source": [
        "loss, acc =model.evaluate(X_train, y_train)\n",
        "print(\"Restored model train, accuracy: {:5.2f}%\".format(100*acc))"
      ],
      "metadata": {
        "id": "fJDTGH_OUX0z",
        "colab": {
          "base_uri": "https://localhost:8080/"
        },
        "outputId": "663b3c2f-5ee7-40e4-e51d-32344dceb1a7"
      },
      "execution_count": 27,
      "outputs": [
        {
          "output_type": "stream",
          "name": "stdout",
          "text": [
            "52/52 [==============================] - 0s 5ms/step - loss: 0.2067 - accuracy: 0.9474\n",
            "Restored model train, accuracy: 94.74%\n"
          ]
        }
      ]
    },
    {
      "cell_type": "code",
      "source": [
        "from sklearn.metrics import classification_report, confusion_matrix,accuracy_score\n",
        "import seaborn as sn\n",
        "\n",
        "print(classification_report(new_Ytest,abc))\n",
        "\n",
        "acc = float(accuracy_score(new_Ytest,abc))*100\n",
        "print(\"----accuracy score %s ----\" % acc)\n",
        "\n",
        "cm = confusion_matrix(new_Ytest,abc)\n",
        "#df_cm = pd.DataFrame(cm)\n",
        "class_names = ['neutral','calm', 'happy','sad','angry', 'fearful' ]\n",
        "df_cm = pd.DataFrame(cm, index=class_names, columns=class_names,)\n",
        "sn.heatmap(df_cm, annot=True, fmt='')\n",
        "plt.show()"
      ],
      "metadata": {
        "colab": {
          "base_uri": "https://localhost:8080/",
          "height": 508
        },
        "id": "SfSC3El94LZg",
        "outputId": "c48a72c7-5ae4-459c-bfd9-981ed7bf0843"
      },
      "execution_count": 28,
      "outputs": [
        {
          "output_type": "stream",
          "name": "stdout",
          "text": [
            "              precision    recall  f1-score   support\n",
            "\n",
            "           0       0.70      0.39      0.50        18\n",
            "           1       0.81      0.83      0.82        41\n",
            "           2       0.69      0.73      0.71        45\n",
            "           3       0.75      0.68      0.71        31\n",
            "           4       0.79      0.94      0.86        33\n",
            "           5       0.75      0.77      0.76        39\n",
            "\n",
            "    accuracy                           0.75       207\n",
            "   macro avg       0.75      0.72      0.73       207\n",
            "weighted avg       0.75      0.75      0.75       207\n",
            "\n",
            "----accuracy score 75.36231884057972 ----\n"
          ]
        },
        {
          "output_type": "display_data",
          "data": {
            "text/plain": [
              "<Figure size 432x288 with 2 Axes>"
            ],
            "image/png": "[encoded data removed]"
          },
          "metadata": {
            "needs_background": "light"
          }
        }
      ]
    }
  ]
}