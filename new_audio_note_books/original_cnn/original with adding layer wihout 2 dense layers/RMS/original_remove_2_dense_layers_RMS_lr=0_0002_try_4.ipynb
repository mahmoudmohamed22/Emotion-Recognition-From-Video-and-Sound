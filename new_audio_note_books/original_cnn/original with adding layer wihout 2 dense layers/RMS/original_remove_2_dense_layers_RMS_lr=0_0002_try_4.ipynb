{
  "nbformat": 4,
  "nbformat_minor": 0,
  "metadata": {
    "colab": {
      "name": "original remove 2 dense layers RMS lr=0.0002 try 4.ipynb",
      "provenance": [],
      "collapsed_sections": []
    },
    "kernelspec": {
      "name": "python3",
      "display_name": "Python 3"
    },
    "language_info": {
      "name": "python"
    },
    "accelerator": "GPU"
  },
  "cells": [
    {
      "cell_type": "code",
      "execution_count": 1,
      "metadata": {
        "colab": {
          "base_uri": "https://localhost:8080/"
        },
        "id": "9SRCO-a_AlH5",
        "outputId": "07b2609d-5b14-4b60-9090-74d2653f51b0"
      },
      "outputs": [
        {
          "output_type": "stream",
          "name": "stdout",
          "text": [
            "Drive already mounted at /content/drive; to attempt to forcibly remount, call drive.mount(\"/content/drive\", force_remount=True).\n"
          ]
        }
      ],
      "source": [
        "from google.colab import drive\n",
        "drive.mount('/content/drive')"
      ]
    },
    {
      "cell_type": "code",
      "source": [
        "!pip install librosa"
      ],
      "metadata": {
        "colab": {
          "base_uri": "https://localhost:8080/"
        },
        "id": "5Lo4mUwG9RMd",
        "outputId": "caa27bbe-d050-4d98-c287-caa46bd54749"
      },
      "execution_count": 2,
      "outputs": [
        {
          "output_type": "stream",
          "name": "stdout",
          "text": [
            "Looking in indexes: https://pypi.org/simple, https://us-python.pkg.dev/colab-wheels/public/simple/\n",
            "Requirement already satisfied: librosa in /usr/local/lib/python3.7/dist-packages (0.8.1)\n",
            "Requirement already satisfied: scikit-learn!=0.19.0,>=0.14.0 in /usr/local/lib/python3.7/dist-packages (from librosa) (1.0.2)\n",
            "Requirement already satisfied: packaging>=20.0 in /usr/local/lib/python3.7/dist-packages (from librosa) (21.3)\n",
            "Requirement already satisfied: decorator>=3.0.0 in /usr/local/lib/python3.7/dist-packages (from librosa) (4.4.2)\n",
            "Requirement already satisfied: audioread>=2.0.0 in /usr/local/lib/python3.7/dist-packages (from librosa) (2.1.9)\n",
            "Requirement already satisfied: numpy>=1.15.0 in /usr/local/lib/python3.7/dist-packages (from librosa) (1.21.6)\n",
            "Requirement already satisfied: scipy>=1.0.0 in /usr/local/lib/python3.7/dist-packages (from librosa) (1.4.1)\n",
            "Requirement already satisfied: pooch>=1.0 in /usr/local/lib/python3.7/dist-packages (from librosa) (1.6.0)\n",
            "Requirement already satisfied: resampy>=0.2.2 in /usr/local/lib/python3.7/dist-packages (from librosa) (0.2.2)\n",
            "Requirement already satisfied: joblib>=0.14 in /usr/local/lib/python3.7/dist-packages (from librosa) (1.1.0)\n",
            "Requirement already satisfied: numba>=0.43.0 in /usr/local/lib/python3.7/dist-packages (from librosa) (0.51.2)\n",
            "Requirement already satisfied: soundfile>=0.10.2 in /usr/local/lib/python3.7/dist-packages (from librosa) (0.10.3.post1)\n",
            "Requirement already satisfied: setuptools in /usr/local/lib/python3.7/dist-packages (from numba>=0.43.0->librosa) (57.4.0)\n",
            "Requirement already satisfied: llvmlite<0.35,>=0.34.0.dev0 in /usr/local/lib/python3.7/dist-packages (from numba>=0.43.0->librosa) (0.34.0)\n",
            "Requirement already satisfied: pyparsing!=3.0.5,>=2.0.2 in /usr/local/lib/python3.7/dist-packages (from packaging>=20.0->librosa) (3.0.9)\n",
            "Requirement already satisfied: appdirs>=1.3.0 in /usr/local/lib/python3.7/dist-packages (from pooch>=1.0->librosa) (1.4.4)\n",
            "Requirement already satisfied: requests>=2.19.0 in /usr/local/lib/python3.7/dist-packages (from pooch>=1.0->librosa) (2.23.0)\n",
            "Requirement already satisfied: urllib3!=1.25.0,!=1.25.1,<1.26,>=1.21.1 in /usr/local/lib/python3.7/dist-packages (from requests>=2.19.0->pooch>=1.0->librosa) (1.24.3)\n",
            "Requirement already satisfied: certifi>=2017.4.17 in /usr/local/lib/python3.7/dist-packages (from requests>=2.19.0->pooch>=1.0->librosa) (2022.5.18.1)\n",
            "Requirement already satisfied: chardet<4,>=3.0.2 in /usr/local/lib/python3.7/dist-packages (from requests>=2.19.0->pooch>=1.0->librosa) (3.0.4)\n",
            "Requirement already satisfied: idna<3,>=2.5 in /usr/local/lib/python3.7/dist-packages (from requests>=2.19.0->pooch>=1.0->librosa) (2.10)\n",
            "Requirement already satisfied: six>=1.3 in /usr/local/lib/python3.7/dist-packages (from resampy>=0.2.2->librosa) (1.15.0)\n",
            "Requirement already satisfied: threadpoolctl>=2.0.0 in /usr/local/lib/python3.7/dist-packages (from scikit-learn!=0.19.0,>=0.14.0->librosa) (3.1.0)\n",
            "Requirement already satisfied: cffi>=1.0 in /usr/local/lib/python3.7/dist-packages (from soundfile>=0.10.2->librosa) (1.15.0)\n",
            "Requirement already satisfied: pycparser in /usr/local/lib/python3.7/dist-packages (from cffi>=1.0->soundfile>=0.10.2->librosa) (2.21)\n"
          ]
        }
      ]
    },
    {
      "cell_type": "code",
      "metadata": {
        "id": "HJjcbxwy46bG",
        "colab": {
          "base_uri": "https://localhost:8080/",
          "height": 17
        },
        "outputId": "e3ccde51-b4e2-4b29-dd3f-0b26a3a64723"
      },
      "source": [
        "# Orignial Notebook: https://github.com/MITESHPUTHRANNEU/Speech-Emotion-Analyzer/blob/master/final_results_gender_test.ipynb\n",
        "# This notebook author: Reza Chu\n",
        "# Last Editing Date: 31st May 2019\n",
        "\n",
        "## Python\n",
        "import os\n",
        "import random\n",
        "import sys\n",
        "\n",
        "import IPython\n",
        "from IPython.display import Audio\n",
        "from IPython.display import Image\n",
        "import matplotlib.pyplot as plt\n",
        "\n",
        "## Package\n",
        "import glob \n",
        "import keras\n",
        "import IPython.display as ipd\n",
        "import librosa\n",
        "import librosa.display\n",
        "import matplotlib.pyplot as plt\n",
        "import numpy as np\n",
        "import pandas as pd\n",
        "import plotly.graph_objs as go\n",
        "import plotly.offline as py\n",
        "import plotly.tools as tls\n",
        "import seaborn as sns\n",
        "import scipy.io.wavfile\n",
        "import tensorflow as tf\n",
        "py.init_notebook_mode(connected=True)\n",
        "\n",
        "## Keras\n",
        "from keras import regularizers\n",
        "from keras.callbacks import ModelCheckpoint, LearningRateScheduler, EarlyStopping\n",
        "from keras.callbacks import  History, ReduceLROnPlateau, CSVLogger\n",
        "from keras.models import Model, Sequential\n",
        "from keras.layers import Dense, Embedding, LSTM\n",
        "from keras.layers import Input, Flatten, Dropout, Activation, BatchNormalization\n",
        "from keras.layers import Conv1D, MaxPooling1D, AveragePooling1D\n",
        "from keras.preprocessing import sequence\n",
        "from keras.preprocessing.sequence import pad_sequences\n",
        "from keras.preprocessing.text import Tokenizer\n",
        "from keras.utils import np_utils\n",
        "from tensorflow.keras.utils import to_categorical\n",
        "\n",
        "## Sklearn\n",
        "from sklearn.metrics import confusion_matrix\n",
        "from sklearn.preprocessing import LabelEncoder\n",
        "\n",
        "## Rest\n",
        "from scipy.fftpack import fft\n",
        "from scipy import signal\n",
        "from scipy.io import wavfile\n",
        "from tqdm import tqdm\n",
        "\n",
        "input_duration=3\n",
        "# % pylab inline"
      ],
      "execution_count": 3,
      "outputs": [
        {
          "output_type": "display_data",
          "data": {
            "text/html": [
              "        <script type=\"text/javascript\">\n",
              "        window.PlotlyConfig = {MathJaxConfig: 'local'};\n",
              "        if (window.MathJax) {MathJax.Hub.Config({SVG: {font: \"STIX-Web\"}});}\n",
              "        if (typeof require !== 'undefined') {\n",
              "        require.undef(\"plotly\");\n",
              "        requirejs.config({\n",
              "            paths: {\n",
              "                'plotly': ['https://cdn.plot.ly/plotly-2.8.3.min']\n",
              "            }\n",
              "        });\n",
              "        require(['plotly'], function(Plotly) {\n",
              "            window._Plotly = Plotly;\n",
              "        });\n",
              "        }\n",
              "        </script>\n",
              "        "
            ]
          },
          "metadata": {}
        }
      ]
    },
    {
      "cell_type": "code",
      "source": [
        "# # Saving joblib files to not load them again with the loop above\n",
        "\n",
        "# import joblib\n",
        "\n",
        "# X_name = 'x.joblib'\n",
        "# y_name = 'y.joblib'\n",
        "# save_dir = '/content/drive/My Drive/graduation project/audio/paper_code/features'\n",
        "\n",
        "# savedX = joblib.dump(X, os.path.join(save_dir, X_name))\n",
        "# savedy = joblib.dump(y, os.path.join(save_dir, y_name))"
      ],
      "metadata": {
        "id": "UCzic8rlDcuk"
      },
      "execution_count": 4,
      "outputs": []
    },
    {
      "cell_type": "code",
      "source": [
        "# # Loading saved models\n",
        "import joblib\n",
        "X = joblib.load('/content/drive/My Drive/graduation project/audio/paper_code/features/x.joblib')\n",
        "y = joblib.load('/content/drive/My Drive/graduation project/audio/paper_code/features/y.joblib')"
      ],
      "metadata": {
        "id": "Q35CN6zDrzg1"
      },
      "execution_count": 5,
      "outputs": []
    },
    {
      "cell_type": "code",
      "source": [
        "X.shape"
      ],
      "metadata": {
        "colab": {
          "base_uri": "https://localhost:8080/"
        },
        "id": "7PSTurzjCo5K",
        "outputId": "bc2f8330-09ed-484c-a6e1-5ec19dbb443e"
      },
      "execution_count": 6,
      "outputs": [
        {
          "output_type": "execute_result",
          "data": {
            "text/plain": [
              "(2068, 40)"
            ]
          },
          "metadata": {},
          "execution_count": 6
        }
      ]
    },
    {
      "cell_type": "code",
      "source": [
        "from sklearn.model_selection import train_test_split\n",
        "\n",
        "X_train, X_test, y_train, y_test = train_test_split(X,y, test_size=0.1 ,shuffle = True\n",
        "                                                    , random_state=42)\n",
        "X_train , X_valid, y_train, y_valid = train_test_split(X_train,y_train, test_size=0.1112305212 , shuffle = True \n",
        "                                                       , random_state=42)"
      ],
      "metadata": {
        "id": "Ai4Fy5cPCiq1"
      },
      "execution_count": 7,
      "outputs": []
    },
    {
      "cell_type": "code",
      "source": [
        "import numpy as np\n",
        "x_traincnn = np.expand_dims(X_train, axis=2)\n",
        "x_testcnn = np.expand_dims(X_test, axis=2)\n",
        "X_valid= np.expand_dims(X_valid, axis=2)"
      ],
      "metadata": {
        "id": "tp1Fm5K3CEXu"
      },
      "execution_count": 8,
      "outputs": []
    },
    {
      "cell_type": "code",
      "source": [
        "x_traincnn.shape, x_testcnn.shape , X_valid.shape\n",
        "#1861"
      ],
      "metadata": {
        "id": "RI0MxoIPBws5",
        "colab": {
          "base_uri": "https://localhost:8080/"
        },
        "outputId": "0dacc690-8526-46cf-e27e-eaccb15a2a9a"
      },
      "execution_count": 9,
      "outputs": [
        {
          "output_type": "execute_result",
          "data": {
            "text/plain": [
              "((1654, 40, 1), (207, 40, 1), (207, 40, 1))"
            ]
          },
          "metadata": {},
          "execution_count": 9
        }
      ]
    },
    {
      "cell_type": "code",
      "source": [
        "!pip install tensorflow"
      ],
      "metadata": {
        "colab": {
          "base_uri": "https://localhost:8080/"
        },
        "id": "oALhiMUd9G2Y",
        "outputId": "eb296e2d-4c57-4a43-fc86-228b04c9a3f4"
      },
      "execution_count": 10,
      "outputs": [
        {
          "output_type": "stream",
          "name": "stdout",
          "text": [
            "Looking in indexes: https://pypi.org/simple, https://us-python.pkg.dev/colab-wheels/public/simple/\n",
            "Requirement already satisfied: tensorflow in /usr/local/lib/python3.7/dist-packages (2.8.2+zzzcolab20220527125636)\n",
            "Requirement already satisfied: grpcio<2.0,>=1.24.3 in /usr/local/lib/python3.7/dist-packages (from tensorflow) (1.46.3)\n",
            "Requirement already satisfied: google-pasta>=0.1.1 in /usr/local/lib/python3.7/dist-packages (from tensorflow) (0.2.0)\n",
            "Requirement already satisfied: six>=1.12.0 in /usr/local/lib/python3.7/dist-packages (from tensorflow) (1.15.0)\n",
            "Requirement already satisfied: tensorflow-io-gcs-filesystem>=0.23.1 in /usr/local/lib/python3.7/dist-packages (from tensorflow) (0.26.0)\n",
            "Requirement already satisfied: tensorflow-estimator<2.9,>=2.8 in /usr/local/lib/python3.7/dist-packages (from tensorflow) (2.8.0)\n",
            "Requirement already satisfied: flatbuffers>=1.12 in /usr/local/lib/python3.7/dist-packages (from tensorflow) (2.0)\n",
            "Requirement already satisfied: protobuf<3.20,>=3.9.2 in /usr/local/lib/python3.7/dist-packages (from tensorflow) (3.17.3)\n",
            "Requirement already satisfied: opt-einsum>=2.3.2 in /usr/local/lib/python3.7/dist-packages (from tensorflow) (3.3.0)\n",
            "Requirement already satisfied: keras-preprocessing>=1.1.1 in /usr/local/lib/python3.7/dist-packages (from tensorflow) (1.1.2)\n",
            "Requirement already satisfied: libclang>=9.0.1 in /usr/local/lib/python3.7/dist-packages (from tensorflow) (14.0.1)\n",
            "Requirement already satisfied: keras<2.9,>=2.8.0rc0 in /usr/local/lib/python3.7/dist-packages (from tensorflow) (2.8.0)\n",
            "Requirement already satisfied: typing-extensions>=3.6.6 in /usr/local/lib/python3.7/dist-packages (from tensorflow) (4.2.0)\n",
            "Requirement already satisfied: termcolor>=1.1.0 in /usr/local/lib/python3.7/dist-packages (from tensorflow) (1.1.0)\n",
            "Requirement already satisfied: setuptools in /usr/local/lib/python3.7/dist-packages (from tensorflow) (57.4.0)\n",
            "Requirement already satisfied: absl-py>=0.4.0 in /usr/local/lib/python3.7/dist-packages (from tensorflow) (1.0.0)\n",
            "Requirement already satisfied: h5py>=2.9.0 in /usr/local/lib/python3.7/dist-packages (from tensorflow) (3.1.0)\n",
            "Requirement already satisfied: wrapt>=1.11.0 in /usr/local/lib/python3.7/dist-packages (from tensorflow) (1.14.1)\n",
            "Requirement already satisfied: astunparse>=1.6.0 in /usr/local/lib/python3.7/dist-packages (from tensorflow) (1.6.3)\n",
            "Requirement already satisfied: gast>=0.2.1 in /usr/local/lib/python3.7/dist-packages (from tensorflow) (0.5.3)\n",
            "Requirement already satisfied: tensorboard<2.9,>=2.8 in /usr/local/lib/python3.7/dist-packages (from tensorflow) (2.8.0)\n",
            "Requirement already satisfied: numpy>=1.20 in /usr/local/lib/python3.7/dist-packages (from tensorflow) (1.21.6)\n",
            "Requirement already satisfied: wheel<1.0,>=0.23.0 in /usr/local/lib/python3.7/dist-packages (from astunparse>=1.6.0->tensorflow) (0.37.1)\n",
            "Requirement already satisfied: cached-property in /usr/local/lib/python3.7/dist-packages (from h5py>=2.9.0->tensorflow) (1.5.2)\n",
            "Requirement already satisfied: tensorboard-plugin-wit>=1.6.0 in /usr/local/lib/python3.7/dist-packages (from tensorboard<2.9,>=2.8->tensorflow) (1.8.1)\n",
            "Requirement already satisfied: markdown>=2.6.8 in /usr/local/lib/python3.7/dist-packages (from tensorboard<2.9,>=2.8->tensorflow) (3.3.7)\n",
            "Requirement already satisfied: requests<3,>=2.21.0 in /usr/local/lib/python3.7/dist-packages (from tensorboard<2.9,>=2.8->tensorflow) (2.23.0)\n",
            "Requirement already satisfied: google-auth-oauthlib<0.5,>=0.4.1 in /usr/local/lib/python3.7/dist-packages (from tensorboard<2.9,>=2.8->tensorflow) (0.4.6)\n",
            "Requirement already satisfied: google-auth<3,>=1.6.3 in /usr/local/lib/python3.7/dist-packages (from tensorboard<2.9,>=2.8->tensorflow) (1.35.0)\n",
            "Requirement already satisfied: werkzeug>=0.11.15 in /usr/local/lib/python3.7/dist-packages (from tensorboard<2.9,>=2.8->tensorflow) (1.0.1)\n",
            "Requirement already satisfied: tensorboard-data-server<0.7.0,>=0.6.0 in /usr/local/lib/python3.7/dist-packages (from tensorboard<2.9,>=2.8->tensorflow) (0.6.1)\n",
            "Requirement already satisfied: cachetools<5.0,>=2.0.0 in /usr/local/lib/python3.7/dist-packages (from google-auth<3,>=1.6.3->tensorboard<2.9,>=2.8->tensorflow) (4.2.4)\n",
            "Requirement already satisfied: pyasn1-modules>=0.2.1 in /usr/local/lib/python3.7/dist-packages (from google-auth<3,>=1.6.3->tensorboard<2.9,>=2.8->tensorflow) (0.2.8)\n",
            "Requirement already satisfied: rsa<5,>=3.1.4 in /usr/local/lib/python3.7/dist-packages (from google-auth<3,>=1.6.3->tensorboard<2.9,>=2.8->tensorflow) (4.8)\n",
            "Requirement already satisfied: requests-oauthlib>=0.7.0 in /usr/local/lib/python3.7/dist-packages (from google-auth-oauthlib<0.5,>=0.4.1->tensorboard<2.9,>=2.8->tensorflow) (1.3.1)\n",
            "Requirement already satisfied: importlib-metadata>=4.4 in /usr/local/lib/python3.7/dist-packages (from markdown>=2.6.8->tensorboard<2.9,>=2.8->tensorflow) (4.11.4)\n",
            "Requirement already satisfied: zipp>=0.5 in /usr/local/lib/python3.7/dist-packages (from importlib-metadata>=4.4->markdown>=2.6.8->tensorboard<2.9,>=2.8->tensorflow) (3.8.0)\n",
            "Requirement already satisfied: pyasn1<0.5.0,>=0.4.6 in /usr/local/lib/python3.7/dist-packages (from pyasn1-modules>=0.2.1->google-auth<3,>=1.6.3->tensorboard<2.9,>=2.8->tensorflow) (0.4.8)\n",
            "Requirement already satisfied: chardet<4,>=3.0.2 in /usr/local/lib/python3.7/dist-packages (from requests<3,>=2.21.0->tensorboard<2.9,>=2.8->tensorflow) (3.0.4)\n",
            "Requirement already satisfied: idna<3,>=2.5 in /usr/local/lib/python3.7/dist-packages (from requests<3,>=2.21.0->tensorboard<2.9,>=2.8->tensorflow) (2.10)\n",
            "Requirement already satisfied: certifi>=2017.4.17 in /usr/local/lib/python3.7/dist-packages (from requests<3,>=2.21.0->tensorboard<2.9,>=2.8->tensorflow) (2022.5.18.1)\n",
            "Requirement already satisfied: urllib3!=1.25.0,!=1.25.1,<1.26,>=1.21.1 in /usr/local/lib/python3.7/dist-packages (from requests<3,>=2.21.0->tensorboard<2.9,>=2.8->tensorflow) (1.24.3)\n",
            "Requirement already satisfied: oauthlib>=3.0.0 in /usr/local/lib/python3.7/dist-packages (from requests-oauthlib>=0.7.0->google-auth-oauthlib<0.5,>=0.4.1->tensorboard<2.9,>=2.8->tensorflow) (3.2.0)\n"
          ]
        }
      ]
    },
    {
      "cell_type": "code",
      "source": [
        "import keras\n",
        "import numpy as np\n",
        "import matplotlib.pyplot as plt\n",
        "import tensorflow as tf\n",
        "from keras.preprocessing import sequence\n",
        "from keras.models import Sequential\n",
        "from keras.layers import Dense, Embedding\n",
        "from tensorflow.keras.utils import to_categorical\n",
        "from keras.layers import Input, Flatten, Dropout, Activation\n",
        "from keras.layers import Conv1D, MaxPooling1D\n",
        "from keras.models import Model\n",
        "from keras.callbacks import ModelCheckpoint\n",
        "from tensorflow.keras import optimizers\n",
        "\n",
        "model = Sequential()\n",
        "\n",
        "model.add(Conv1D(128, 8,padding='same', #classifier.add(Convolution2D(64, (3, 3), padding = 'same', input_shape = (128, 128, 3), activation = 'relu'))\n",
        "                 input_shape=(40,1)))\n",
        "model.add(Activation('relu'))\n",
        "model.add(Dropout(0.3))\n",
        "model.add(MaxPooling1D(pool_size=(5)))\n",
        "\n",
        "\n",
        "model.add(Conv1D(256,8,padding='same',))\n",
        "model.add(Activation('relu'))\n",
        "model.add(Dropout(0.3))\n",
        "model.add(MaxPooling1D(pool_size=(5)))\n",
        "\n",
        "model.add(Conv1D(256,8,padding='same',))\n",
        "model.add(Activation('relu'))\n",
        "model.add(Dropout(0.3))\n",
        "#model.add(MaxPooling1D(pool_size=(5)))\n",
        "\n",
        "model.add(Flatten())\n",
        "\n",
        "\n",
        "\n",
        "model.add(Dense(6))\n",
        "model.add(Activation('softmax'))\n",
        "\n",
        "\n",
        "opt = tf.keras.optimizers.RMSprop(lr=0.0002 , decay=0.0)\n",
        "#opt = tf.keras.optimizers.Adam(lr=0.0002 , decay=0.0)\n",
        "#opt = tf.keras.optimizers.RMSprop(lr=0.0001, rho=0.9, epsilon=1e-07, decay=0.0)\n",
        "#opt = tf.keras.optimizers.SGD(lr=0.001, momentum=0.0, decay=0.0, nesterov=False)"
      ],
      "metadata": {
        "id": "g74fXWVAC4Cr",
        "colab": {
          "base_uri": "https://localhost:8080/"
        },
        "outputId": "020ac188-248e-42a4-a91c-8bbb94b7908e"
      },
      "execution_count": 11,
      "outputs": [
        {
          "output_type": "stream",
          "name": "stderr",
          "text": [
            "/usr/local/lib/python3.7/dist-packages/keras/optimizer_v2/rmsprop.py:130: UserWarning:\n",
            "\n",
            "The `lr` argument is deprecated, use `learning_rate` instead.\n",
            "\n"
          ]
        }
      ]
    },
    {
      "cell_type": "code",
      "source": [
        "model.summary()"
      ],
      "metadata": {
        "colab": {
          "base_uri": "https://localhost:8080/"
        },
        "id": "H6ukOxAGC_I4",
        "outputId": "a8a6173e-b8a5-437f-dde6-4afda2076b49"
      },
      "execution_count": 12,
      "outputs": [
        {
          "output_type": "stream",
          "name": "stdout",
          "text": [
            "Model: \"sequential\"\n",
            "_________________________________________________________________\n",
            " Layer (type)                Output Shape              Param #   \n",
            "=================================================================\n",
            " conv1d (Conv1D)             (None, 40, 128)           1152      \n",
            "                                                                 \n",
            " activation (Activation)     (None, 40, 128)           0         \n",
            "                                                                 \n",
            " dropout (Dropout)           (None, 40, 128)           0         \n",
            "                                                                 \n",
            " max_pooling1d (MaxPooling1D  (None, 8, 128)           0         \n",
            " )                                                               \n",
            "                                                                 \n",
            " conv1d_1 (Conv1D)           (None, 8, 256)            262400    \n",
            "                                                                 \n",
            " activation_1 (Activation)   (None, 8, 256)            0         \n",
            "                                                                 \n",
            " dropout_1 (Dropout)         (None, 8, 256)            0         \n",
            "                                                                 \n",
            " max_pooling1d_1 (MaxPooling  (None, 1, 256)           0         \n",
            " 1D)                                                             \n",
            "                                                                 \n",
            " conv1d_2 (Conv1D)           (None, 1, 256)            524544    \n",
            "                                                                 \n",
            " activation_2 (Activation)   (None, 1, 256)            0         \n",
            "                                                                 \n",
            " dropout_2 (Dropout)         (None, 1, 256)            0         \n",
            "                                                                 \n",
            " flatten (Flatten)           (None, 256)               0         \n",
            "                                                                 \n",
            " dense (Dense)               (None, 6)                 1542      \n",
            "                                                                 \n",
            " activation_3 (Activation)   (None, 6)                 0         \n",
            "                                                                 \n",
            "=================================================================\n",
            "Total params: 789,638\n",
            "Trainable params: 789,638\n",
            "Non-trainable params: 0\n",
            "_________________________________________________________________\n"
          ]
        }
      ]
    },
    {
      "cell_type": "code",
      "source": [
        "model.compile(loss='sparse_categorical_crossentropy',\n",
        "              optimizer=opt,\n",
        "              metrics=['accuracy'])"
      ],
      "metadata": {
        "id": "AbMlLNk4DCBM"
      },
      "execution_count": 13,
      "outputs": []
    },
    {
      "cell_type": "code",
      "source": [
        "# Create an Instance of Early Stopping Callback.\n",
        "early_stopping_callback = EarlyStopping(monitor = 'val_loss', patience = 25, mode = 'min', restore_best_weights = True)\n",
        "\n",
        "cnnhistory=model.fit(x_traincnn, y_train, batch_size=16, epochs=500 , shuffle = True, \n",
        "                     validation_data=(X_valid, y_valid) , callbacks = [early_stopping_callback])"
      ],
      "metadata": {
        "colab": {
          "base_uri": "https://localhost:8080/"
        },
        "id": "RI1v2AuADFhy",
        "outputId": "65cbe897-967a-445a-c97f-e2a9cba7744d"
      },
      "execution_count": 14,
      "outputs": [
        {
          "output_type": "stream",
          "name": "stdout",
          "text": [
            "Epoch 1/500\n",
            "104/104 [==============================] - 6s 15ms/step - loss: 3.2242 - accuracy: 0.1862 - val_loss: 1.7749 - val_accuracy: 0.1836\n",
            "Epoch 2/500\n",
            "104/104 [==============================] - 1s 9ms/step - loss: 1.8504 - accuracy: 0.1705 - val_loss: 1.7753 - val_accuracy: 0.1884\n",
            "Epoch 3/500\n",
            "104/104 [==============================] - 1s 10ms/step - loss: 1.8251 - accuracy: 0.1808 - val_loss: 1.8124 - val_accuracy: 0.1932\n",
            "Epoch 4/500\n",
            "104/104 [==============================] - 1s 9ms/step - loss: 1.8012 - accuracy: 0.1917 - val_loss: 1.7706 - val_accuracy: 0.1643\n",
            "Epoch 5/500\n",
            "104/104 [==============================] - 1s 10ms/step - loss: 1.7789 - accuracy: 0.2195 - val_loss: 1.7859 - val_accuracy: 0.1787\n",
            "Epoch 6/500\n",
            "104/104 [==============================] - 1s 9ms/step - loss: 1.7794 - accuracy: 0.2273 - val_loss: 1.8025 - val_accuracy: 0.2077\n",
            "Epoch 7/500\n",
            "104/104 [==============================] - 1s 10ms/step - loss: 1.7582 - accuracy: 0.1995 - val_loss: 1.7419 - val_accuracy: 0.2754\n",
            "Epoch 8/500\n",
            "104/104 [==============================] - 1s 9ms/step - loss: 1.7345 - accuracy: 0.2128 - val_loss: 1.7308 - val_accuracy: 0.2802\n",
            "Epoch 9/500\n",
            "104/104 [==============================] - 1s 10ms/step - loss: 1.7255 - accuracy: 0.2128 - val_loss: 1.7988 - val_accuracy: 0.1691\n",
            "Epoch 10/500\n",
            "104/104 [==============================] - 1s 10ms/step - loss: 1.7178 - accuracy: 0.2382 - val_loss: 1.7314 - val_accuracy: 0.3092\n",
            "Epoch 11/500\n",
            "104/104 [==============================] - 1s 11ms/step - loss: 1.6904 - accuracy: 0.2491 - val_loss: 1.6688 - val_accuracy: 0.2995\n",
            "Epoch 12/500\n",
            "104/104 [==============================] - 1s 9ms/step - loss: 1.6901 - accuracy: 0.2654 - val_loss: 1.6758 - val_accuracy: 0.2899\n",
            "Epoch 13/500\n",
            "104/104 [==============================] - 1s 10ms/step - loss: 1.6846 - accuracy: 0.2563 - val_loss: 1.6841 - val_accuracy: 0.2899\n",
            "Epoch 14/500\n",
            "104/104 [==============================] - 1s 9ms/step - loss: 1.6605 - accuracy: 0.2618 - val_loss: 1.6337 - val_accuracy: 0.2995\n",
            "Epoch 15/500\n",
            "104/104 [==============================] - 1s 10ms/step - loss: 1.6621 - accuracy: 0.2660 - val_loss: 1.6410 - val_accuracy: 0.2850\n",
            "Epoch 16/500\n",
            "104/104 [==============================] - 1s 10ms/step - loss: 1.6398 - accuracy: 0.2672 - val_loss: 1.6181 - val_accuracy: 0.3333\n",
            "Epoch 17/500\n",
            "104/104 [==============================] - 1s 11ms/step - loss: 1.6242 - accuracy: 0.3005 - val_loss: 1.6746 - val_accuracy: 0.2415\n",
            "Epoch 18/500\n",
            "104/104 [==============================] - 1s 10ms/step - loss: 1.6071 - accuracy: 0.2836 - val_loss: 1.7233 - val_accuracy: 0.2222\n",
            "Epoch 19/500\n",
            "104/104 [==============================] - 1s 9ms/step - loss: 1.6125 - accuracy: 0.3120 - val_loss: 1.5801 - val_accuracy: 0.3285\n",
            "Epoch 20/500\n",
            "104/104 [==============================] - 1s 9ms/step - loss: 1.5903 - accuracy: 0.3005 - val_loss: 1.6235 - val_accuracy: 0.2850\n",
            "Epoch 21/500\n",
            "104/104 [==============================] - 1s 9ms/step - loss: 1.5915 - accuracy: 0.3059 - val_loss: 1.5822 - val_accuracy: 0.4058\n",
            "Epoch 22/500\n",
            "104/104 [==============================] - 1s 8ms/step - loss: 1.5837 - accuracy: 0.3301 - val_loss: 1.5786 - val_accuracy: 0.3623\n",
            "Epoch 23/500\n",
            "104/104 [==============================] - 1s 9ms/step - loss: 1.5829 - accuracy: 0.3089 - val_loss: 1.5746 - val_accuracy: 0.3188\n",
            "Epoch 24/500\n",
            "104/104 [==============================] - 1s 9ms/step - loss: 1.5488 - accuracy: 0.3331 - val_loss: 1.5711 - val_accuracy: 0.3188\n",
            "Epoch 25/500\n",
            "104/104 [==============================] - 1s 6ms/step - loss: 1.5483 - accuracy: 0.3398 - val_loss: 1.6514 - val_accuracy: 0.2802\n",
            "Epoch 26/500\n",
            "104/104 [==============================] - 1s 6ms/step - loss: 1.5594 - accuracy: 0.3180 - val_loss: 1.5072 - val_accuracy: 0.3768\n",
            "Epoch 27/500\n",
            "104/104 [==============================] - 1s 5ms/step - loss: 1.5481 - accuracy: 0.3307 - val_loss: 1.5865 - val_accuracy: 0.2899\n",
            "Epoch 28/500\n",
            "104/104 [==============================] - 1s 6ms/step - loss: 1.5250 - accuracy: 0.3428 - val_loss: 1.5476 - val_accuracy: 0.3478\n",
            "Epoch 29/500\n",
            "104/104 [==============================] - 1s 5ms/step - loss: 1.5235 - accuracy: 0.3622 - val_loss: 1.5261 - val_accuracy: 0.3333\n",
            "Epoch 30/500\n",
            "104/104 [==============================] - 1s 6ms/step - loss: 1.5152 - accuracy: 0.3585 - val_loss: 1.5907 - val_accuracy: 0.2850\n",
            "Epoch 31/500\n",
            "104/104 [==============================] - 1s 5ms/step - loss: 1.5058 - accuracy: 0.3386 - val_loss: 1.4655 - val_accuracy: 0.3527\n",
            "Epoch 32/500\n",
            "104/104 [==============================] - 1s 6ms/step - loss: 1.5008 - accuracy: 0.3646 - val_loss: 1.4696 - val_accuracy: 0.4203\n",
            "Epoch 33/500\n",
            "104/104 [==============================] - 1s 6ms/step - loss: 1.4828 - accuracy: 0.3652 - val_loss: 1.4928 - val_accuracy: 0.4106\n",
            "Epoch 34/500\n",
            "104/104 [==============================] - 1s 6ms/step - loss: 1.4900 - accuracy: 0.3815 - val_loss: 1.4653 - val_accuracy: 0.3961\n",
            "Epoch 35/500\n",
            "104/104 [==============================] - 1s 6ms/step - loss: 1.4600 - accuracy: 0.3863 - val_loss: 1.4527 - val_accuracy: 0.4155\n",
            "Epoch 36/500\n",
            "104/104 [==============================] - 1s 5ms/step - loss: 1.4531 - accuracy: 0.3785 - val_loss: 1.4896 - val_accuracy: 0.3478\n",
            "Epoch 37/500\n",
            "104/104 [==============================] - 1s 6ms/step - loss: 1.4249 - accuracy: 0.4057 - val_loss: 1.3969 - val_accuracy: 0.4348\n",
            "Epoch 38/500\n",
            "104/104 [==============================] - 1s 5ms/step - loss: 1.4345 - accuracy: 0.3990 - val_loss: 1.4023 - val_accuracy: 0.4444\n",
            "Epoch 39/500\n",
            "104/104 [==============================] - 1s 6ms/step - loss: 1.3963 - accuracy: 0.4166 - val_loss: 1.3641 - val_accuracy: 0.4734\n",
            "Epoch 40/500\n",
            "104/104 [==============================] - 1s 6ms/step - loss: 1.3808 - accuracy: 0.4401 - val_loss: 1.3413 - val_accuracy: 0.5024\n",
            "Epoch 41/500\n",
            "104/104 [==============================] - 1s 6ms/step - loss: 1.3712 - accuracy: 0.4341 - val_loss: 1.3838 - val_accuracy: 0.4444\n",
            "Epoch 42/500\n",
            "104/104 [==============================] - 1s 6ms/step - loss: 1.3384 - accuracy: 0.4462 - val_loss: 1.2875 - val_accuracy: 0.4928\n",
            "Epoch 43/500\n",
            "104/104 [==============================] - 1s 5ms/step - loss: 1.3132 - accuracy: 0.4498 - val_loss: 1.3295 - val_accuracy: 0.4589\n",
            "Epoch 44/500\n",
            "104/104 [==============================] - 1s 6ms/step - loss: 1.3103 - accuracy: 0.4559 - val_loss: 1.2746 - val_accuracy: 0.5362\n",
            "Epoch 45/500\n",
            "104/104 [==============================] - 1s 5ms/step - loss: 1.2834 - accuracy: 0.4710 - val_loss: 1.2606 - val_accuracy: 0.4976\n",
            "Epoch 46/500\n",
            "104/104 [==============================] - 1s 5ms/step - loss: 1.2710 - accuracy: 0.4752 - val_loss: 1.2083 - val_accuracy: 0.5411\n",
            "Epoch 47/500\n",
            "104/104 [==============================] - 1s 6ms/step - loss: 1.2462 - accuracy: 0.5091 - val_loss: 1.1975 - val_accuracy: 0.5507\n",
            "Epoch 48/500\n",
            "104/104 [==============================] - 1s 5ms/step - loss: 1.2241 - accuracy: 0.4867 - val_loss: 1.2358 - val_accuracy: 0.5121\n",
            "Epoch 49/500\n",
            "104/104 [==============================] - 1s 6ms/step - loss: 1.2089 - accuracy: 0.5048 - val_loss: 1.2550 - val_accuracy: 0.4734\n",
            "Epoch 50/500\n",
            "104/104 [==============================] - 1s 5ms/step - loss: 1.1941 - accuracy: 0.5030 - val_loss: 1.1823 - val_accuracy: 0.5217\n",
            "Epoch 51/500\n",
            "104/104 [==============================] - 1s 6ms/step - loss: 1.1916 - accuracy: 0.5218 - val_loss: 1.1559 - val_accuracy: 0.5217\n",
            "Epoch 52/500\n",
            "104/104 [==============================] - 1s 6ms/step - loss: 1.1713 - accuracy: 0.5163 - val_loss: 1.1693 - val_accuracy: 0.4976\n",
            "Epoch 53/500\n",
            "104/104 [==============================] - 1s 5ms/step - loss: 1.1536 - accuracy: 0.5411 - val_loss: 1.1129 - val_accuracy: 0.5072\n",
            "Epoch 54/500\n",
            "104/104 [==============================] - 1s 6ms/step - loss: 1.1321 - accuracy: 0.5314 - val_loss: 1.1322 - val_accuracy: 0.5845\n",
            "Epoch 55/500\n",
            "104/104 [==============================] - 1s 5ms/step - loss: 1.1233 - accuracy: 0.5417 - val_loss: 1.2617 - val_accuracy: 0.4396\n",
            "Epoch 56/500\n",
            "104/104 [==============================] - 1s 6ms/step - loss: 1.1113 - accuracy: 0.5459 - val_loss: 1.0642 - val_accuracy: 0.5797\n",
            "Epoch 57/500\n",
            "104/104 [==============================] - 1s 5ms/step - loss: 1.0762 - accuracy: 0.5562 - val_loss: 1.0469 - val_accuracy: 0.6329\n",
            "Epoch 58/500\n",
            "104/104 [==============================] - 1s 5ms/step - loss: 1.0764 - accuracy: 0.5732 - val_loss: 1.0645 - val_accuracy: 0.5700\n",
            "Epoch 59/500\n",
            "104/104 [==============================] - 1s 5ms/step - loss: 1.0756 - accuracy: 0.5629 - val_loss: 1.0354 - val_accuracy: 0.5894\n",
            "Epoch 60/500\n",
            "104/104 [==============================] - 0s 5ms/step - loss: 1.0500 - accuracy: 0.5707 - val_loss: 1.0675 - val_accuracy: 0.5411\n",
            "Epoch 61/500\n",
            "104/104 [==============================] - 1s 5ms/step - loss: 1.0350 - accuracy: 0.5732 - val_loss: 0.9967 - val_accuracy: 0.6618\n",
            "Epoch 62/500\n",
            "104/104 [==============================] - 1s 5ms/step - loss: 1.0104 - accuracy: 0.6022 - val_loss: 0.9885 - val_accuracy: 0.5990\n",
            "Epoch 63/500\n",
            "104/104 [==============================] - 1s 5ms/step - loss: 0.9987 - accuracy: 0.6034 - val_loss: 0.9954 - val_accuracy: 0.6232\n",
            "Epoch 64/500\n",
            "104/104 [==============================] - 0s 5ms/step - loss: 0.9983 - accuracy: 0.6016 - val_loss: 0.9718 - val_accuracy: 0.6860\n",
            "Epoch 65/500\n",
            "104/104 [==============================] - 1s 5ms/step - loss: 0.9732 - accuracy: 0.6046 - val_loss: 1.0486 - val_accuracy: 0.5556\n",
            "Epoch 66/500\n",
            "104/104 [==============================] - 1s 5ms/step - loss: 0.9605 - accuracy: 0.6119 - val_loss: 0.9284 - val_accuracy: 0.6039\n",
            "Epoch 67/500\n",
            "104/104 [==============================] - 1s 5ms/step - loss: 0.9479 - accuracy: 0.6288 - val_loss: 1.0252 - val_accuracy: 0.5845\n",
            "Epoch 68/500\n",
            "104/104 [==============================] - 1s 5ms/step - loss: 0.9618 - accuracy: 0.6185 - val_loss: 0.9209 - val_accuracy: 0.6473\n",
            "Epoch 69/500\n",
            "104/104 [==============================] - 1s 5ms/step - loss: 0.9401 - accuracy: 0.6227 - val_loss: 0.9063 - val_accuracy: 0.6715\n",
            "Epoch 70/500\n",
            "104/104 [==============================] - 1s 5ms/step - loss: 0.9342 - accuracy: 0.6342 - val_loss: 0.9550 - val_accuracy: 0.6618\n",
            "Epoch 71/500\n",
            "104/104 [==============================] - 1s 6ms/step - loss: 0.9081 - accuracy: 0.6409 - val_loss: 0.8738 - val_accuracy: 0.6667\n",
            "Epoch 72/500\n",
            "104/104 [==============================] - 1s 5ms/step - loss: 0.9209 - accuracy: 0.6391 - val_loss: 0.9419 - val_accuracy: 0.6473\n",
            "Epoch 73/500\n",
            "104/104 [==============================] - 1s 6ms/step - loss: 0.8985 - accuracy: 0.6330 - val_loss: 0.9271 - val_accuracy: 0.6473\n",
            "Epoch 74/500\n",
            "104/104 [==============================] - 1s 6ms/step - loss: 0.8917 - accuracy: 0.6475 - val_loss: 0.8854 - val_accuracy: 0.6570\n",
            "Epoch 75/500\n",
            "104/104 [==============================] - 1s 6ms/step - loss: 0.8922 - accuracy: 0.6324 - val_loss: 1.0907 - val_accuracy: 0.5169\n",
            "Epoch 76/500\n",
            "104/104 [==============================] - 1s 6ms/step - loss: 0.8783 - accuracy: 0.6602 - val_loss: 0.8852 - val_accuracy: 0.6667\n",
            "Epoch 77/500\n",
            "104/104 [==============================] - 1s 5ms/step - loss: 0.8517 - accuracy: 0.6572 - val_loss: 0.8138 - val_accuracy: 0.6812\n",
            "Epoch 78/500\n",
            "104/104 [==============================] - 1s 6ms/step - loss: 0.8581 - accuracy: 0.6590 - val_loss: 0.8477 - val_accuracy: 0.6570\n",
            "Epoch 79/500\n",
            "104/104 [==============================] - 1s 6ms/step - loss: 0.8398 - accuracy: 0.6741 - val_loss: 0.8642 - val_accuracy: 0.6473\n",
            "Epoch 80/500\n",
            "104/104 [==============================] - 1s 5ms/step - loss: 0.8305 - accuracy: 0.6729 - val_loss: 0.8682 - val_accuracy: 0.6812\n",
            "Epoch 81/500\n",
            "104/104 [==============================] - 1s 6ms/step - loss: 0.8282 - accuracy: 0.6693 - val_loss: 0.8084 - val_accuracy: 0.7101\n",
            "Epoch 82/500\n",
            "104/104 [==============================] - 1s 6ms/step - loss: 0.8238 - accuracy: 0.6644 - val_loss: 0.9331 - val_accuracy: 0.6329\n",
            "Epoch 83/500\n",
            "104/104 [==============================] - 1s 6ms/step - loss: 0.7853 - accuracy: 0.6765 - val_loss: 0.8011 - val_accuracy: 0.7150\n",
            "Epoch 84/500\n",
            "104/104 [==============================] - 1s 6ms/step - loss: 0.8263 - accuracy: 0.6687 - val_loss: 0.9206 - val_accuracy: 0.6184\n",
            "Epoch 85/500\n",
            "104/104 [==============================] - 1s 5ms/step - loss: 0.8010 - accuracy: 0.6796 - val_loss: 0.8042 - val_accuracy: 0.7053\n",
            "Epoch 86/500\n",
            "104/104 [==============================] - 1s 6ms/step - loss: 0.7698 - accuracy: 0.6995 - val_loss: 0.8301 - val_accuracy: 0.6908\n",
            "Epoch 87/500\n",
            "104/104 [==============================] - 1s 5ms/step - loss: 0.7934 - accuracy: 0.6826 - val_loss: 0.8609 - val_accuracy: 0.6425\n",
            "Epoch 88/500\n",
            "104/104 [==============================] - 1s 6ms/step - loss: 0.7740 - accuracy: 0.6995 - val_loss: 0.7773 - val_accuracy: 0.7295\n",
            "Epoch 89/500\n",
            "104/104 [==============================] - 1s 6ms/step - loss: 0.7674 - accuracy: 0.6904 - val_loss: 0.8378 - val_accuracy: 0.7101\n",
            "Epoch 90/500\n",
            "104/104 [==============================] - 1s 5ms/step - loss: 0.7702 - accuracy: 0.6911 - val_loss: 0.8391 - val_accuracy: 0.6522\n",
            "Epoch 91/500\n",
            "104/104 [==============================] - 1s 7ms/step - loss: 0.7660 - accuracy: 0.6941 - val_loss: 0.7400 - val_accuracy: 0.7246\n",
            "Epoch 92/500\n",
            "104/104 [==============================] - 1s 5ms/step - loss: 0.7451 - accuracy: 0.7001 - val_loss: 0.8933 - val_accuracy: 0.6473\n",
            "Epoch 93/500\n",
            "104/104 [==============================] - 1s 6ms/step - loss: 0.7694 - accuracy: 0.6941 - val_loss: 0.7579 - val_accuracy: 0.7101\n",
            "Epoch 94/500\n",
            "104/104 [==============================] - 1s 6ms/step - loss: 0.7536 - accuracy: 0.7104 - val_loss: 0.7654 - val_accuracy: 0.6957\n",
            "Epoch 95/500\n",
            "104/104 [==============================] - 1s 5ms/step - loss: 0.7451 - accuracy: 0.7080 - val_loss: 0.7597 - val_accuracy: 0.6957\n",
            "Epoch 96/500\n",
            "104/104 [==============================] - 1s 6ms/step - loss: 0.7132 - accuracy: 0.7164 - val_loss: 0.8098 - val_accuracy: 0.6667\n",
            "Epoch 97/500\n",
            "104/104 [==============================] - 1s 5ms/step - loss: 0.7133 - accuracy: 0.7140 - val_loss: 0.7304 - val_accuracy: 0.7391\n",
            "Epoch 98/500\n",
            "104/104 [==============================] - 1s 6ms/step - loss: 0.7125 - accuracy: 0.7346 - val_loss: 0.8424 - val_accuracy: 0.6860\n",
            "Epoch 99/500\n",
            "104/104 [==============================] - 1s 6ms/step - loss: 0.7279 - accuracy: 0.7025 - val_loss: 0.8665 - val_accuracy: 0.6763\n",
            "Epoch 100/500\n",
            "104/104 [==============================] - 1s 5ms/step - loss: 0.7206 - accuracy: 0.7122 - val_loss: 0.8141 - val_accuracy: 0.6957\n",
            "Epoch 101/500\n",
            "104/104 [==============================] - 1s 6ms/step - loss: 0.7324 - accuracy: 0.7080 - val_loss: 0.7059 - val_accuracy: 0.7295\n",
            "Epoch 102/500\n",
            "104/104 [==============================] - 1s 5ms/step - loss: 0.7133 - accuracy: 0.7146 - val_loss: 0.8760 - val_accuracy: 0.6763\n",
            "Epoch 103/500\n",
            "104/104 [==============================] - 1s 6ms/step - loss: 0.6968 - accuracy: 0.7128 - val_loss: 0.7924 - val_accuracy: 0.6908\n",
            "Epoch 104/500\n",
            "104/104 [==============================] - 1s 6ms/step - loss: 0.6906 - accuracy: 0.7243 - val_loss: 0.7012 - val_accuracy: 0.7536\n",
            "Epoch 105/500\n",
            "104/104 [==============================] - 1s 6ms/step - loss: 0.6678 - accuracy: 0.7430 - val_loss: 0.8431 - val_accuracy: 0.6570\n",
            "Epoch 106/500\n",
            "104/104 [==============================] - 1s 6ms/step - loss: 0.6709 - accuracy: 0.7382 - val_loss: 0.6604 - val_accuracy: 0.7729\n",
            "Epoch 107/500\n",
            "104/104 [==============================] - 1s 5ms/step - loss: 0.6573 - accuracy: 0.7406 - val_loss: 0.7312 - val_accuracy: 0.7150\n",
            "Epoch 108/500\n",
            "104/104 [==============================] - 1s 6ms/step - loss: 0.6798 - accuracy: 0.7364 - val_loss: 0.7044 - val_accuracy: 0.7633\n",
            "Epoch 109/500\n",
            "104/104 [==============================] - 1s 5ms/step - loss: 0.6444 - accuracy: 0.7563 - val_loss: 0.7102 - val_accuracy: 0.7440\n",
            "Epoch 110/500\n",
            "104/104 [==============================] - 1s 6ms/step - loss: 0.6668 - accuracy: 0.7364 - val_loss: 0.7696 - val_accuracy: 0.7053\n",
            "Epoch 111/500\n",
            "104/104 [==============================] - 1s 6ms/step - loss: 0.6496 - accuracy: 0.7497 - val_loss: 0.6608 - val_accuracy: 0.7536\n",
            "Epoch 112/500\n",
            "104/104 [==============================] - 1s 6ms/step - loss: 0.6705 - accuracy: 0.7376 - val_loss: 0.6584 - val_accuracy: 0.7536\n",
            "Epoch 113/500\n",
            "104/104 [==============================] - 1s 6ms/step - loss: 0.6507 - accuracy: 0.7491 - val_loss: 0.7021 - val_accuracy: 0.7488\n",
            "Epoch 114/500\n",
            "104/104 [==============================] - 1s 5ms/step - loss: 0.6246 - accuracy: 0.7533 - val_loss: 0.8152 - val_accuracy: 0.6860\n",
            "Epoch 115/500\n",
            "104/104 [==============================] - 1s 7ms/step - loss: 0.6315 - accuracy: 0.7563 - val_loss: 0.7402 - val_accuracy: 0.7295\n",
            "Epoch 116/500\n",
            "104/104 [==============================] - 1s 6ms/step - loss: 0.6279 - accuracy: 0.7588 - val_loss: 0.7105 - val_accuracy: 0.7488\n",
            "Epoch 117/500\n",
            "104/104 [==============================] - 1s 6ms/step - loss: 0.6244 - accuracy: 0.7600 - val_loss: 0.6271 - val_accuracy: 0.7729\n",
            "Epoch 118/500\n",
            "104/104 [==============================] - 1s 6ms/step - loss: 0.6251 - accuracy: 0.7684 - val_loss: 0.7079 - val_accuracy: 0.7488\n",
            "Epoch 119/500\n",
            "104/104 [==============================] - 1s 6ms/step - loss: 0.6467 - accuracy: 0.7491 - val_loss: 0.6803 - val_accuracy: 0.7585\n",
            "Epoch 120/500\n",
            "104/104 [==============================] - 1s 9ms/step - loss: 0.6240 - accuracy: 0.7527 - val_loss: 0.7136 - val_accuracy: 0.7246\n",
            "Epoch 121/500\n",
            "104/104 [==============================] - 1s 8ms/step - loss: 0.5974 - accuracy: 0.7727 - val_loss: 0.7008 - val_accuracy: 0.7488\n",
            "Epoch 122/500\n",
            "104/104 [==============================] - 1s 10ms/step - loss: 0.5917 - accuracy: 0.7811 - val_loss: 0.7123 - val_accuracy: 0.7391\n",
            "Epoch 123/500\n",
            "104/104 [==============================] - 1s 10ms/step - loss: 0.5731 - accuracy: 0.7763 - val_loss: 0.7417 - val_accuracy: 0.7295\n",
            "Epoch 124/500\n",
            "104/104 [==============================] - 1s 7ms/step - loss: 0.5772 - accuracy: 0.7709 - val_loss: 0.6856 - val_accuracy: 0.7343\n",
            "Epoch 125/500\n",
            "104/104 [==============================] - 1s 6ms/step - loss: 0.5853 - accuracy: 0.7618 - val_loss: 0.7031 - val_accuracy: 0.7198\n",
            "Epoch 126/500\n",
            "104/104 [==============================] - 1s 6ms/step - loss: 0.6029 - accuracy: 0.7751 - val_loss: 0.6404 - val_accuracy: 0.7633\n",
            "Epoch 127/500\n",
            "104/104 [==============================] - 1s 6ms/step - loss: 0.5738 - accuracy: 0.7703 - val_loss: 0.6345 - val_accuracy: 0.7923\n",
            "Epoch 128/500\n",
            "104/104 [==============================] - 1s 6ms/step - loss: 0.5812 - accuracy: 0.7811 - val_loss: 0.6115 - val_accuracy: 0.7971\n",
            "Epoch 129/500\n",
            "104/104 [==============================] - 1s 6ms/step - loss: 0.5593 - accuracy: 0.7926 - val_loss: 0.6562 - val_accuracy: 0.7246\n",
            "Epoch 130/500\n",
            "104/104 [==============================] - 1s 6ms/step - loss: 0.5787 - accuracy: 0.7817 - val_loss: 0.6123 - val_accuracy: 0.7778\n",
            "Epoch 131/500\n",
            "104/104 [==============================] - 1s 6ms/step - loss: 0.5718 - accuracy: 0.7775 - val_loss: 0.5916 - val_accuracy: 0.7826\n",
            "Epoch 132/500\n",
            "104/104 [==============================] - 1s 6ms/step - loss: 0.5825 - accuracy: 0.7757 - val_loss: 0.6379 - val_accuracy: 0.7923\n",
            "Epoch 133/500\n",
            "104/104 [==============================] - 1s 6ms/step - loss: 0.5557 - accuracy: 0.8023 - val_loss: 0.8740 - val_accuracy: 0.6522\n",
            "Epoch 134/500\n",
            "104/104 [==============================] - 1s 6ms/step - loss: 0.5596 - accuracy: 0.7860 - val_loss: 0.6799 - val_accuracy: 0.7585\n",
            "Epoch 135/500\n",
            "104/104 [==============================] - 1s 6ms/step - loss: 0.5803 - accuracy: 0.7739 - val_loss: 0.6319 - val_accuracy: 0.7633\n",
            "Epoch 136/500\n",
            "104/104 [==============================] - 1s 6ms/step - loss: 0.5543 - accuracy: 0.7878 - val_loss: 0.6131 - val_accuracy: 0.7874\n",
            "Epoch 137/500\n",
            "104/104 [==============================] - 1s 6ms/step - loss: 0.5540 - accuracy: 0.7884 - val_loss: 0.7107 - val_accuracy: 0.7391\n",
            "Epoch 138/500\n",
            "104/104 [==============================] - 1s 7ms/step - loss: 0.5411 - accuracy: 0.7969 - val_loss: 0.6474 - val_accuracy: 0.7681\n",
            "Epoch 139/500\n",
            "104/104 [==============================] - 1s 6ms/step - loss: 0.5275 - accuracy: 0.8053 - val_loss: 0.6941 - val_accuracy: 0.7343\n",
            "Epoch 140/500\n",
            "104/104 [==============================] - 1s 6ms/step - loss: 0.5426 - accuracy: 0.7890 - val_loss: 0.7445 - val_accuracy: 0.7246\n",
            "Epoch 141/500\n",
            "104/104 [==============================] - 1s 6ms/step - loss: 0.5395 - accuracy: 0.7932 - val_loss: 0.6625 - val_accuracy: 0.7681\n",
            "Epoch 142/500\n",
            "104/104 [==============================] - 1s 5ms/step - loss: 0.5396 - accuracy: 0.8089 - val_loss: 0.7619 - val_accuracy: 0.7391\n",
            "Epoch 143/500\n",
            "104/104 [==============================] - 1s 6ms/step - loss: 0.5425 - accuracy: 0.7908 - val_loss: 0.7247 - val_accuracy: 0.7101\n",
            "Epoch 144/500\n",
            "104/104 [==============================] - 1s 5ms/step - loss: 0.5430 - accuracy: 0.7993 - val_loss: 0.7847 - val_accuracy: 0.7005\n",
            "Epoch 145/500\n",
            "104/104 [==============================] - 1s 6ms/step - loss: 0.5383 - accuracy: 0.7956 - val_loss: 0.7034 - val_accuracy: 0.7440\n",
            "Epoch 146/500\n",
            "104/104 [==============================] - 1s 6ms/step - loss: 0.5369 - accuracy: 0.8035 - val_loss: 0.6314 - val_accuracy: 0.7778\n",
            "Epoch 147/500\n",
            "104/104 [==============================] - 1s 6ms/step - loss: 0.5219 - accuracy: 0.8011 - val_loss: 0.6522 - val_accuracy: 0.7729\n",
            "Epoch 148/500\n",
            "104/104 [==============================] - 1s 6ms/step - loss: 0.5248 - accuracy: 0.7975 - val_loss: 0.6986 - val_accuracy: 0.7440\n",
            "Epoch 149/500\n",
            "104/104 [==============================] - 1s 5ms/step - loss: 0.5131 - accuracy: 0.8096 - val_loss: 0.6381 - val_accuracy: 0.7633\n",
            "Epoch 150/500\n",
            "104/104 [==============================] - 1s 6ms/step - loss: 0.5328 - accuracy: 0.7993 - val_loss: 0.7300 - val_accuracy: 0.7198\n",
            "Epoch 151/500\n",
            "104/104 [==============================] - 1s 6ms/step - loss: 0.5170 - accuracy: 0.8168 - val_loss: 0.7277 - val_accuracy: 0.7343\n",
            "Epoch 152/500\n",
            "104/104 [==============================] - 1s 7ms/step - loss: 0.5089 - accuracy: 0.8047 - val_loss: 0.6236 - val_accuracy: 0.7729\n",
            "Epoch 153/500\n",
            "104/104 [==============================] - 1s 7ms/step - loss: 0.4872 - accuracy: 0.8162 - val_loss: 0.6155 - val_accuracy: 0.7826\n",
            "Epoch 154/500\n",
            "104/104 [==============================] - 1s 8ms/step - loss: 0.4940 - accuracy: 0.8102 - val_loss: 0.6592 - val_accuracy: 0.7778\n",
            "Epoch 155/500\n",
            "104/104 [==============================] - 1s 7ms/step - loss: 0.5056 - accuracy: 0.8023 - val_loss: 0.6004 - val_accuracy: 0.7874\n",
            "Epoch 156/500\n",
            "104/104 [==============================] - 1s 8ms/step - loss: 0.5170 - accuracy: 0.8120 - val_loss: 0.6292 - val_accuracy: 0.7923\n"
          ]
        }
      ]
    },
    {
      "cell_type": "code",
      "source": [
        "plt.plot(cnnhistory.history['loss'])\n",
        "plt.plot(cnnhistory.history['val_loss'])\n",
        "plt.title('model loss')\n",
        "plt.ylabel('loss')\n",
        "plt.xlabel('epoch')\n",
        "plt.legend(['train','test'], loc='upper left')\n",
        "plt.show()"
      ],
      "metadata": {
        "colab": {
          "base_uri": "https://localhost:8080/",
          "height": 295
        },
        "id": "oQYnuaCrDH_A",
        "outputId": "d58afb93-00ba-498c-e6fa-327a55958ba0"
      },
      "execution_count": 15,
      "outputs": [
        {
          "output_type": "display_data",
          "data": {
            "text/plain": [
              "<Figure size 432x288 with 1 Axes>"
            ],
            "image/png": "[encoded data removed]"
          },
          "metadata": {
            "needs_background": "light"
          }
        }
      ]
    },
    {
      "cell_type": "code",
      "source": [
        "plt.plot(cnnhistory.history['accuracy'])\n",
        "plt.plot(cnnhistory.history['val_accuracy'])\n",
        "plt.title('model accuracy')\n",
        "plt.ylabel('accuracy')\n",
        "plt.xlabel('epoch')\n",
        "plt.legend(['train','test'], loc='upper left')\n",
        "plt.show()"
      ],
      "metadata": {
        "colab": {
          "base_uri": "https://localhost:8080/",
          "height": 295
        },
        "id": "IFkTuO8nDNdq",
        "outputId": "7e851a96-e274-44ef-b106-8d5c91d37b6f"
      },
      "execution_count": 16,
      "outputs": [
        {
          "output_type": "display_data",
          "data": {
            "text/plain": [
              "<Figure size 432x288 with 1 Axes>"
            ],
            "image/png": "[encoded data removed]"
          },
          "metadata": {
            "needs_background": "light"
          }
        }
      ]
    },
    {
      "cell_type": "code",
      "source": [
        "predictions = model.predict(x_testcnn)"
      ],
      "metadata": {
        "id": "A2xtrN5wDQgY"
      },
      "execution_count": 17,
      "outputs": []
    },
    {
      "cell_type": "code",
      "source": [
        "predictions"
      ],
      "metadata": {
        "colab": {
          "base_uri": "https://localhost:8080/"
        },
        "id": "_f_ohjXKDUpY",
        "outputId": "e2f190a1-f9e5-4a54-ed19-2b64ed3e965a"
      },
      "execution_count": 18,
      "outputs": [
        {
          "output_type": "execute_result",
          "data": {
            "text/plain": [
              "array([[1.6806746e-01, 1.2974814e-01, 3.0415997e-01, 2.3712222e-01,\n",
              "        1.1718561e-01, 4.3716595e-02],\n",
              "       [1.2683627e-05, 1.4308586e-06, 2.6928348e-09, 9.9617201e-01,\n",
              "        2.0105833e-07, 3.8136239e-03],\n",
              "       [1.8391441e-01, 3.2500859e-02, 1.1499016e-01, 4.2189255e-01,\n",
              "        4.7018636e-02, 1.9968328e-01],\n",
              "       ...,\n",
              "       [1.3750805e-06, 6.2708864e-08, 5.6194613e-04, 3.4334553e-05,\n",
              "        9.9833965e-01, 1.0626231e-03],\n",
              "       [2.0885668e-03, 6.4316446e-01, 3.2082102e-01, 2.5204241e-02,\n",
              "        4.1179149e-03, 4.6038306e-03],\n",
              "       [7.2683302e-05, 1.5368320e-05, 1.5284926e-02, 1.1591892e-03,\n",
              "        9.7794241e-01, 5.5254479e-03]], dtype=float32)"
            ]
          },
          "metadata": {},
          "execution_count": 18
        }
      ]
    },
    {
      "cell_type": "code",
      "source": [
        "y_test"
      ],
      "metadata": {
        "colab": {
          "base_uri": "https://localhost:8080/"
        },
        "id": "cmA2bFgsDW3D",
        "outputId": "bb1e4c9b-4c70-4542-9325-52dcb23876d5"
      },
      "execution_count": 19,
      "outputs": [
        {
          "output_type": "execute_result",
          "data": {
            "text/plain": [
              "array([3, 3, 3, 0, 4, 4, 1, 2, 5, 0, 5, 3, 2, 2, 1, 4, 4, 5, 2, 4, 1, 2,\n",
              "       3, 5, 4, 2, 1, 2, 2, 2, 2, 5, 2, 5, 3, 1, 2, 0, 4, 5, 2, 3, 2, 2,\n",
              "       5, 2, 0, 1, 3, 4, 4, 5, 1, 1, 4, 4, 5, 1, 1, 1, 0, 1, 5, 0, 4, 1,\n",
              "       1, 0, 1, 4, 1, 0, 4, 1, 3, 1, 2, 2, 1, 2, 3, 0, 5, 3, 5, 5, 2, 4,\n",
              "       5, 1, 5, 1, 5, 3, 4, 1, 4, 1, 5, 4, 5, 1, 2, 1, 1, 5, 1, 3, 2, 5,\n",
              "       2, 1, 3, 5, 4, 4, 0, 0, 3, 1, 2, 2, 3, 5, 1, 5, 3, 4, 2, 2, 0, 2,\n",
              "       2, 5, 5, 0, 3, 3, 2, 2, 0, 3, 4, 0, 4, 2, 4, 5, 4, 1, 5, 3, 2, 2,\n",
              "       5, 4, 3, 3, 4, 3, 3, 4, 1, 5, 2, 3, 2, 2, 0, 2, 1, 3, 1, 2, 2, 5,\n",
              "       5, 1, 4, 2, 2, 1, 1, 3, 3, 5, 5, 2, 5, 1, 5, 0, 3, 3, 0, 5, 1, 4,\n",
              "       1, 4, 2, 5, 5, 1, 4, 2, 4])"
            ]
          },
          "metadata": {},
          "execution_count": 19
        }
      ]
    },
    {
      "cell_type": "code",
      "source": [
        "new_Ytest = y_test.astype(int)"
      ],
      "metadata": {
        "id": "0PHDKWJWDY3g"
      },
      "execution_count": 20,
      "outputs": []
    },
    {
      "cell_type": "code",
      "source": [
        "new_Ytest"
      ],
      "metadata": {
        "colab": {
          "base_uri": "https://localhost:8080/"
        },
        "id": "k68v2i-pDbZE",
        "outputId": "218f7034-5ef6-493b-ae2e-00ed286c667f"
      },
      "execution_count": 21,
      "outputs": [
        {
          "output_type": "execute_result",
          "data": {
            "text/plain": [
              "array([3, 3, 3, 0, 4, 4, 1, 2, 5, 0, 5, 3, 2, 2, 1, 4, 4, 5, 2, 4, 1, 2,\n",
              "       3, 5, 4, 2, 1, 2, 2, 2, 2, 5, 2, 5, 3, 1, 2, 0, 4, 5, 2, 3, 2, 2,\n",
              "       5, 2, 0, 1, 3, 4, 4, 5, 1, 1, 4, 4, 5, 1, 1, 1, 0, 1, 5, 0, 4, 1,\n",
              "       1, 0, 1, 4, 1, 0, 4, 1, 3, 1, 2, 2, 1, 2, 3, 0, 5, 3, 5, 5, 2, 4,\n",
              "       5, 1, 5, 1, 5, 3, 4, 1, 4, 1, 5, 4, 5, 1, 2, 1, 1, 5, 1, 3, 2, 5,\n",
              "       2, 1, 3, 5, 4, 4, 0, 0, 3, 1, 2, 2, 3, 5, 1, 5, 3, 4, 2, 2, 0, 2,\n",
              "       2, 5, 5, 0, 3, 3, 2, 2, 0, 3, 4, 0, 4, 2, 4, 5, 4, 1, 5, 3, 2, 2,\n",
              "       5, 4, 3, 3, 4, 3, 3, 4, 1, 5, 2, 3, 2, 2, 0, 2, 1, 3, 1, 2, 2, 5,\n",
              "       5, 1, 4, 2, 2, 1, 1, 3, 3, 5, 5, 2, 5, 1, 5, 0, 3, 3, 0, 5, 1, 4,\n",
              "       1, 4, 2, 5, 5, 1, 4, 2, 4])"
            ]
          },
          "metadata": {},
          "execution_count": 21
        }
      ]
    },
    {
      "cell_type": "code",
      "source": [
        "preds1=predictions.argmax(axis=1)\n",
        "preds1"
      ],
      "metadata": {
        "colab": {
          "base_uri": "https://localhost:8080/"
        },
        "id": "4_cAI39VFhtp",
        "outputId": "48a8c699-cce7-4f81-fc9b-4c26f4052bea"
      },
      "execution_count": 22,
      "outputs": [
        {
          "output_type": "execute_result",
          "data": {
            "text/plain": [
              "array([2, 3, 3, 3, 4, 4, 1, 2, 5, 1, 4, 3, 2, 2, 1, 4, 4, 3, 3, 4, 2, 2,\n",
              "       3, 3, 4, 2, 1, 3, 2, 2, 2, 5, 2, 5, 3, 1, 2, 0, 4, 5, 2, 3, 2, 2,\n",
              "       5, 2, 1, 1, 3, 4, 4, 2, 1, 1, 4, 4, 5, 1, 3, 1, 3, 1, 2, 3, 4, 1,\n",
              "       1, 1, 1, 4, 1, 2, 4, 3, 5, 5, 2, 2, 1, 2, 1, 0, 5, 3, 3, 5, 2, 4,\n",
              "       3, 1, 5, 2, 5, 3, 2, 2, 4, 3, 5, 4, 5, 1, 2, 1, 1, 5, 1, 3, 2, 5,\n",
              "       3, 3, 3, 5, 4, 4, 3, 0, 3, 1, 1, 2, 1, 3, 1, 3, 3, 4, 2, 2, 1, 2,\n",
              "       2, 3, 3, 0, 3, 3, 2, 4, 0, 3, 4, 1, 4, 4, 4, 2, 4, 1, 5, 3, 2, 2,\n",
              "       5, 4, 3, 3, 4, 5, 3, 4, 1, 5, 2, 3, 2, 2, 0, 2, 1, 3, 1, 2, 2, 3,\n",
              "       5, 1, 4, 2, 4, 1, 1, 3, 3, 5, 5, 2, 3, 1, 2, 3, 3, 3, 3, 2, 1, 4,\n",
              "       1, 3, 3, 5, 4, 1, 4, 1, 4])"
            ]
          },
          "metadata": {},
          "execution_count": 22
        }
      ]
    },
    {
      "cell_type": "code",
      "source": [
        "abc = preds1.astype(int).flatten()"
      ],
      "metadata": {
        "id": "H4WEmM60NfQn"
      },
      "execution_count": 23,
      "outputs": []
    },
    {
      "cell_type": "code",
      "source": [
        "from sklearn.metrics import confusion_matrix\n",
        "c = confusion_matrix(new_Ytest, abc) \n",
        "c"
      ],
      "metadata": {
        "colab": {
          "base_uri": "https://localhost:8080/"
        },
        "id": "bKEBeEBlFjB8",
        "outputId": "18648794-cbc5-41c3-874b-ac5ac18e5441"
      },
      "execution_count": 24,
      "outputs": [
        {
          "output_type": "execute_result",
          "data": {
            "text/plain": [
              "array([[ 6,  5,  1,  6,  0,  0],\n",
              "       [ 0, 33,  3,  4,  0,  1],\n",
              "       [ 0,  2, 36,  4,  3,  0],\n",
              "       [ 0,  2,  1, 26,  0,  2],\n",
              "       [ 0,  0,  1,  1, 31,  0],\n",
              "       [ 0,  0,  5, 10,  2, 22]])"
            ]
          },
          "metadata": {},
          "execution_count": 24
        }
      ]
    },
    {
      "cell_type": "code",
      "source": [
        "y_test"
      ],
      "metadata": {
        "colab": {
          "base_uri": "https://localhost:8080/"
        },
        "id": "m4RjG7LWLSQx",
        "outputId": "1c259d85-c048-4241-ca15-521e1408d40d"
      },
      "execution_count": 25,
      "outputs": [
        {
          "output_type": "execute_result",
          "data": {
            "text/plain": [
              "array([3, 3, 3, 0, 4, 4, 1, 2, 5, 0, 5, 3, 2, 2, 1, 4, 4, 5, 2, 4, 1, 2,\n",
              "       3, 5, 4, 2, 1, 2, 2, 2, 2, 5, 2, 5, 3, 1, 2, 0, 4, 5, 2, 3, 2, 2,\n",
              "       5, 2, 0, 1, 3, 4, 4, 5, 1, 1, 4, 4, 5, 1, 1, 1, 0, 1, 5, 0, 4, 1,\n",
              "       1, 0, 1, 4, 1, 0, 4, 1, 3, 1, 2, 2, 1, 2, 3, 0, 5, 3, 5, 5, 2, 4,\n",
              "       5, 1, 5, 1, 5, 3, 4, 1, 4, 1, 5, 4, 5, 1, 2, 1, 1, 5, 1, 3, 2, 5,\n",
              "       2, 1, 3, 5, 4, 4, 0, 0, 3, 1, 2, 2, 3, 5, 1, 5, 3, 4, 2, 2, 0, 2,\n",
              "       2, 5, 5, 0, 3, 3, 2, 2, 0, 3, 4, 0, 4, 2, 4, 5, 4, 1, 5, 3, 2, 2,\n",
              "       5, 4, 3, 3, 4, 3, 3, 4, 1, 5, 2, 3, 2, 2, 0, 2, 1, 3, 1, 2, 2, 5,\n",
              "       5, 1, 4, 2, 2, 1, 1, 3, 3, 5, 5, 2, 5, 1, 5, 0, 3, 3, 0, 5, 1, 4,\n",
              "       1, 4, 2, 5, 5, 1, 4, 2, 4])"
            ]
          },
          "metadata": {},
          "execution_count": 25
        }
      ]
    },
    {
      "cell_type": "code",
      "source": [
        "loss, acc =model.evaluate(x_testcnn, y_test)\n",
        "print(\"Restored model, accuracy: {:5.2f}%\".format(100*acc))"
      ],
      "metadata": {
        "colab": {
          "base_uri": "https://localhost:8080/"
        },
        "id": "n3kzoqPkDqqS",
        "outputId": "7a3472e0-f3c9-4c4d-8ddd-3c77f92ccec3"
      },
      "execution_count": 26,
      "outputs": [
        {
          "output_type": "stream",
          "name": "stdout",
          "text": [
            "7/7 [==============================] - 0s 5ms/step - loss: 0.6346 - accuracy: 0.7440\n",
            "Restored model, accuracy: 74.40%\n"
          ]
        }
      ]
    },
    {
      "cell_type": "code",
      "source": [
        "loss, acc =model.evaluate(X_train, y_train)\n",
        "print(\"Restored model train, accuracy: {:5.2f}%\".format(100*acc))"
      ],
      "metadata": {
        "id": "fJDTGH_OUX0z",
        "colab": {
          "base_uri": "https://localhost:8080/"
        },
        "outputId": "2ffbe904-d74b-48bc-b512-a312d24367bd"
      },
      "execution_count": 27,
      "outputs": [
        {
          "output_type": "stream",
          "name": "stdout",
          "text": [
            "52/52 [==============================] - 0s 5ms/step - loss: 0.3781 - accuracy: 0.8888\n",
            "Restored model train, accuracy: 88.88%\n"
          ]
        }
      ]
    },
    {
      "cell_type": "code",
      "source": [
        "from sklearn.metrics import classification_report, confusion_matrix,accuracy_score\n",
        "import seaborn as sn\n",
        "\n",
        "print(classification_report(new_Ytest,abc))\n",
        "\n",
        "acc = float(accuracy_score(new_Ytest,abc))*100\n",
        "print(\"----accuracy score %s ----\" % acc)\n",
        "\n",
        "cm = confusion_matrix(new_Ytest,abc)\n",
        "#df_cm = pd.DataFrame(cm)\n",
        "class_names = ['neutral','calm', 'happy','sad','angry', 'fearful' ]\n",
        "df_cm = pd.DataFrame(cm, index=class_names, columns=class_names,)\n",
        "sn.heatmap(df_cm, annot=True, fmt='')\n",
        "plt.show()"
      ],
      "metadata": {
        "colab": {
          "base_uri": "https://localhost:8080/",
          "height": 508
        },
        "id": "SfSC3El94LZg",
        "outputId": "fc23b0dc-eb9b-45b8-9c3a-70186353bccc"
      },
      "execution_count": 28,
      "outputs": [
        {
          "output_type": "stream",
          "name": "stdout",
          "text": [
            "              precision    recall  f1-score   support\n",
            "\n",
            "           0       1.00      0.33      0.50        18\n",
            "           1       0.79      0.80      0.80        41\n",
            "           2       0.77      0.80      0.78        45\n",
            "           3       0.51      0.84      0.63        31\n",
            "           4       0.86      0.94      0.90        33\n",
            "           5       0.88      0.56      0.69        39\n",
            "\n",
            "    accuracy                           0.74       207\n",
            "   macro avg       0.80      0.71      0.72       207\n",
            "weighted avg       0.79      0.74      0.74       207\n",
            "\n",
            "----accuracy score 74.39613526570048 ----\n"
          ]
        },
        {
          "output_type": "display_data",
          "data": {
            "text/plain": [
              "<Figure size 432x288 with 2 Axes>"
            ],
            "image/png": "[encoded data removed]"
          },
          "metadata": {
            "needs_background": "light"
          }
        }
      ]
    }
  ]
}