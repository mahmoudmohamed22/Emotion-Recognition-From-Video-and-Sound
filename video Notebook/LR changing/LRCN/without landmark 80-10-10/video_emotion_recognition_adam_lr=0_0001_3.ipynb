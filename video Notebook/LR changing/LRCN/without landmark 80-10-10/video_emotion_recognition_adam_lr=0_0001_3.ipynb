{
  "nbformat": 4,
  "nbformat_minor": 0,
  "metadata": {
    "colab": {
      "name": "video_emotion_recognition_adam_lr=0.0001_3.ipynb",
      "provenance": [],
      "collapsed_sections": [],
      "machine_shape": "hm"
    },
    "kernelspec": {
      "name": "python3",
      "display_name": "Python 3"
    },
    "accelerator": "GPU"
  },
  "cells": [
    {
      "cell_type": "code",
      "source": [
        "from google.colab import drive\n",
        "drive.mount('/content/drive')"
      ],
      "metadata": {
        "colab": {
          "base_uri": "https://localhost:8080/"
        },
        "id": "o94I67GBPVfM",
        "outputId": "a2f5d55d-52e7-41e2-cfc2-5d525f9eceed"
      },
      "execution_count": 1,
      "outputs": [
        {
          "output_type": "stream",
          "name": "stdout",
          "text": [
            "Drive already mounted at /content/drive; to attempt to forcibly remount, call drive.mount(\"/content/drive\", force_remount=True).\n"
          ]
        }
      ]
    },
    {
      "cell_type": "code",
      "source": [
        "# Discard the output of this cell.\n",
        "#%%capture\n",
        "\n",
        "# Install the required libraries.\n",
        "!pip install tensorflow opencv-contrib-python youtube-dl moviepy pydot\n",
        "!pip install git+https://github.com/TahaAnwar/pafy.git#egg=pafy"
      ],
      "metadata": {
        "colab": {
          "base_uri": "https://localhost:8080/"
        },
        "id": "6OQ7vRnzP6n8",
        "outputId": "7d92f253-f6f4-4034-8fc7-10ce83be3305"
      },
      "execution_count": 2,
      "outputs": [
        {
          "output_type": "stream",
          "name": "stdout",
          "text": [
            "Looking in indexes: https://pypi.org/simple, https://us-python.pkg.dev/colab-wheels/public/simple/\n",
            "Requirement already satisfied: tensorflow in /usr/local/lib/python3.7/dist-packages (2.8.2+zzzcolab20220527125636)\n",
            "Requirement already satisfied: opencv-contrib-python in /usr/local/lib/python3.7/dist-packages (4.1.2.30)\n",
            "Requirement already satisfied: youtube-dl in /usr/local/lib/python3.7/dist-packages (2021.12.17)\n",
            "Requirement already satisfied: moviepy in /usr/local/lib/python3.7/dist-packages (0.2.3.5)\n",
            "Requirement already satisfied: pydot in /usr/local/lib/python3.7/dist-packages (1.3.0)\n",
            "Requirement already satisfied: gast>=0.2.1 in /usr/local/lib/python3.7/dist-packages (from tensorflow) (0.5.3)\n",
            "Requirement already satisfied: wrapt>=1.11.0 in /usr/local/lib/python3.7/dist-packages (from tensorflow) (1.14.1)\n",
            "Requirement already satisfied: six>=1.12.0 in /usr/local/lib/python3.7/dist-packages (from tensorflow) (1.15.0)\n",
            "Requirement already satisfied: setuptools in /usr/local/lib/python3.7/dist-packages (from tensorflow) (57.4.0)\n",
            "Requirement already satisfied: h5py>=2.9.0 in /usr/local/lib/python3.7/dist-packages (from tensorflow) (3.1.0)\n",
            "Requirement already satisfied: astunparse>=1.6.0 in /usr/local/lib/python3.7/dist-packages (from tensorflow) (1.6.3)\n",
            "Requirement already satisfied: google-pasta>=0.1.1 in /usr/local/lib/python3.7/dist-packages (from tensorflow) (0.2.0)\n",
            "Requirement already satisfied: grpcio<2.0,>=1.24.3 in /usr/local/lib/python3.7/dist-packages (from tensorflow) (1.46.3)\n",
            "Requirement already satisfied: tensorflow-io-gcs-filesystem>=0.23.1 in /usr/local/lib/python3.7/dist-packages (from tensorflow) (0.26.0)\n",
            "Requirement already satisfied: numpy>=1.20 in /usr/local/lib/python3.7/dist-packages (from tensorflow) (1.21.6)\n",
            "Requirement already satisfied: termcolor>=1.1.0 in /usr/local/lib/python3.7/dist-packages (from tensorflow) (1.1.0)\n",
            "Requirement already satisfied: keras<2.9,>=2.8.0rc0 in /usr/local/lib/python3.7/dist-packages (from tensorflow) (2.8.0)\n",
            "Requirement already satisfied: libclang>=9.0.1 in /usr/local/lib/python3.7/dist-packages (from tensorflow) (14.0.1)\n",
            "Requirement already satisfied: protobuf<3.20,>=3.9.2 in /usr/local/lib/python3.7/dist-packages (from tensorflow) (3.17.3)\n",
            "Requirement already satisfied: typing-extensions>=3.6.6 in /usr/local/lib/python3.7/dist-packages (from tensorflow) (4.2.0)\n",
            "Requirement already satisfied: keras-preprocessing>=1.1.1 in /usr/local/lib/python3.7/dist-packages (from tensorflow) (1.1.2)\n",
            "Requirement already satisfied: tensorflow-estimator<2.9,>=2.8 in /usr/local/lib/python3.7/dist-packages (from tensorflow) (2.8.0)\n",
            "Requirement already satisfied: tensorboard<2.9,>=2.8 in /usr/local/lib/python3.7/dist-packages (from tensorflow) (2.8.0)\n",
            "Requirement already satisfied: opt-einsum>=2.3.2 in /usr/local/lib/python3.7/dist-packages (from tensorflow) (3.3.0)\n",
            "Requirement already satisfied: flatbuffers>=1.12 in /usr/local/lib/python3.7/dist-packages (from tensorflow) (2.0)\n",
            "Requirement already satisfied: absl-py>=0.4.0 in /usr/local/lib/python3.7/dist-packages (from tensorflow) (1.0.0)\n",
            "Requirement already satisfied: wheel<1.0,>=0.23.0 in /usr/local/lib/python3.7/dist-packages (from astunparse>=1.6.0->tensorflow) (0.37.1)\n",
            "Requirement already satisfied: cached-property in /usr/local/lib/python3.7/dist-packages (from h5py>=2.9.0->tensorflow) (1.5.2)\n",
            "Requirement already satisfied: google-auth-oauthlib<0.5,>=0.4.1 in /usr/local/lib/python3.7/dist-packages (from tensorboard<2.9,>=2.8->tensorflow) (0.4.6)\n",
            "Requirement already satisfied: tensorboard-data-server<0.7.0,>=0.6.0 in /usr/local/lib/python3.7/dist-packages (from tensorboard<2.9,>=2.8->tensorflow) (0.6.1)\n",
            "Requirement already satisfied: tensorboard-plugin-wit>=1.6.0 in /usr/local/lib/python3.7/dist-packages (from tensorboard<2.9,>=2.8->tensorflow) (1.8.1)\n",
            "Requirement already satisfied: werkzeug>=0.11.15 in /usr/local/lib/python3.7/dist-packages (from tensorboard<2.9,>=2.8->tensorflow) (1.0.1)\n",
            "Requirement already satisfied: google-auth<3,>=1.6.3 in /usr/local/lib/python3.7/dist-packages (from tensorboard<2.9,>=2.8->tensorflow) (1.35.0)\n",
            "Requirement already satisfied: requests<3,>=2.21.0 in /usr/local/lib/python3.7/dist-packages (from tensorboard<2.9,>=2.8->tensorflow) (2.23.0)\n",
            "Requirement already satisfied: markdown>=2.6.8 in /usr/local/lib/python3.7/dist-packages (from tensorboard<2.9,>=2.8->tensorflow) (3.3.7)\n",
            "Requirement already satisfied: rsa<5,>=3.1.4 in /usr/local/lib/python3.7/dist-packages (from google-auth<3,>=1.6.3->tensorboard<2.9,>=2.8->tensorflow) (4.8)\n",
            "Requirement already satisfied: cachetools<5.0,>=2.0.0 in /usr/local/lib/python3.7/dist-packages (from google-auth<3,>=1.6.3->tensorboard<2.9,>=2.8->tensorflow) (4.2.4)\n",
            "Requirement already satisfied: pyasn1-modules>=0.2.1 in /usr/local/lib/python3.7/dist-packages (from google-auth<3,>=1.6.3->tensorboard<2.9,>=2.8->tensorflow) (0.2.8)\n",
            "Requirement already satisfied: requests-oauthlib>=0.7.0 in /usr/local/lib/python3.7/dist-packages (from google-auth-oauthlib<0.5,>=0.4.1->tensorboard<2.9,>=2.8->tensorflow) (1.3.1)\n",
            "Requirement already satisfied: importlib-metadata>=4.4 in /usr/local/lib/python3.7/dist-packages (from markdown>=2.6.8->tensorboard<2.9,>=2.8->tensorflow) (4.11.4)\n",
            "Requirement already satisfied: zipp>=0.5 in /usr/local/lib/python3.7/dist-packages (from importlib-metadata>=4.4->markdown>=2.6.8->tensorboard<2.9,>=2.8->tensorflow) (3.8.0)\n",
            "Requirement already satisfied: pyasn1<0.5.0,>=0.4.6 in /usr/local/lib/python3.7/dist-packages (from pyasn1-modules>=0.2.1->google-auth<3,>=1.6.3->tensorboard<2.9,>=2.8->tensorflow) (0.4.8)\n",
            "Requirement already satisfied: certifi>=2017.4.17 in /usr/local/lib/python3.7/dist-packages (from requests<3,>=2.21.0->tensorboard<2.9,>=2.8->tensorflow) (2022.5.18.1)\n",
            "Requirement already satisfied: urllib3!=1.25.0,!=1.25.1,<1.26,>=1.21.1 in /usr/local/lib/python3.7/dist-packages (from requests<3,>=2.21.0->tensorboard<2.9,>=2.8->tensorflow) (1.24.3)\n",
            "Requirement already satisfied: idna<3,>=2.5 in /usr/local/lib/python3.7/dist-packages (from requests<3,>=2.21.0->tensorboard<2.9,>=2.8->tensorflow) (2.10)\n",
            "Requirement already satisfied: chardet<4,>=3.0.2 in /usr/local/lib/python3.7/dist-packages (from requests<3,>=2.21.0->tensorboard<2.9,>=2.8->tensorflow) (3.0.4)\n",
            "Requirement already satisfied: oauthlib>=3.0.0 in /usr/local/lib/python3.7/dist-packages (from requests-oauthlib>=0.7.0->google-auth-oauthlib<0.5,>=0.4.1->tensorboard<2.9,>=2.8->tensorflow) (3.2.0)\n",
            "Requirement already satisfied: decorator<5.0,>=4.0.2 in /usr/local/lib/python3.7/dist-packages (from moviepy) (4.4.2)\n",
            "Requirement already satisfied: tqdm<5.0,>=4.11.2 in /usr/local/lib/python3.7/dist-packages (from moviepy) (4.64.0)\n",
            "Requirement already satisfied: imageio<3.0,>=2.1.2 in /usr/local/lib/python3.7/dist-packages (from moviepy) (2.4.1)\n",
            "Requirement already satisfied: pillow in /usr/local/lib/python3.7/dist-packages (from imageio<3.0,>=2.1.2->moviepy) (7.1.2)\n",
            "Requirement already satisfied: pyparsing>=2.1.4 in /usr/local/lib/python3.7/dist-packages (from pydot) (3.0.9)\n",
            "Looking in indexes: https://pypi.org/simple, https://us-python.pkg.dev/colab-wheels/public/simple/\n",
            "Collecting pafy\n",
            "  Cloning https://github.com/TahaAnwar/pafy.git to /tmp/pip-install-9zxfpnae/pafy_be03d345b70946b582ff767f0daf22c8\n",
            "  Running command git clone -q https://github.com/TahaAnwar/pafy.git /tmp/pip-install-9zxfpnae/pafy_be03d345b70946b582ff767f0daf22c8\n"
          ]
        }
      ]
    },
    {
      "cell_type": "code",
      "source": [
        "# Import the required libraries.\n",
        "import os\n",
        "import cv2\n",
        "import pafy\n",
        "import math\n",
        "import random\n",
        "import numpy as np\n",
        "import datetime as dt\n",
        "import tensorflow as tf\n",
        "from collections import deque\n",
        "import matplotlib.pyplot as plt\n",
        "\n",
        "from moviepy.editor import *\n",
        "%matplotlib inline\n",
        "\n",
        "from sklearn.model_selection import train_test_split\n",
        "\n",
        "from tensorflow.keras.layers import *\n",
        "from tensorflow.keras.models import Sequential\n",
        "from tensorflow.keras.utils import to_categorical\n",
        "from tensorflow.keras.callbacks import EarlyStopping\n",
        "from tensorflow.keras.utils import plot_model"
      ],
      "metadata": {
        "id": "LiLwshTpP-OB"
      },
      "execution_count": 3,
      "outputs": []
    },
    {
      "cell_type": "code",
      "source": [
        "seed_constant = 27\n",
        "np.random.seed(seed_constant)\n",
        "random.seed(seed_constant)\n",
        "tf.random.set_seed(seed_constant)"
      ],
      "metadata": {
        "id": "u4EtD4rrQEnb"
      },
      "execution_count": 4,
      "outputs": []
    },
    {
      "cell_type": "code",
      "source": [
        "# Specify the height and width to which each video frame will be resized in our dataset.\n",
        "IMAGE_HEIGHT , IMAGE_WIDTH = 64, 64\n",
        "\n",
        "# Specify the number of frames of a video that will be fed to the model as one sequence.\n",
        "SEQUENCE_LENGTH = 30\n",
        "\n",
        "# Specify the directory containing the UCF50 dataset. \n",
        "#DATASET_DIR = \"/content/drive/MyDrive/videospeech_label\"\n",
        "\n",
        "# Specify the list containing the names of the classes used for training. Feel free to choose any set of classes.\n",
        "CLASSES_LIST = [\"neutral\", \"calm\", \"happy\", \"sad\",\"angry\",\"fearful\"]"
      ],
      "metadata": {
        "id": "7H6KBiblQKE9"
      },
      "execution_count": 5,
      "outputs": []
    },
    {
      "cell_type": "code",
      "source": [
        "import joblib\n",
        "features=joblib.load('/content/drive/My Drive/features_ravdess/original_data_set/features_data')\n",
        "labels=joblib.load('/content/drive/My Drive/features_ravdess/original_data_set/labels')\n",
        "video_file_path=joblib.load('/content/drive/My Drive/features_ravdess/original_data_set/video_path')"
      ],
      "metadata": {
        "id": "V_rh-id5cmwd"
      },
      "execution_count": 6,
      "outputs": []
    },
    {
      "cell_type": "code",
      "source": [
        "features = np.asarray(features)\n",
        "labels = np.array(labels)  "
      ],
      "metadata": {
        "id": "WI3wNd7zdKzJ"
      },
      "execution_count": 7,
      "outputs": []
    },
    {
      "cell_type": "code",
      "source": [
        "features.shape"
      ],
      "metadata": {
        "colab": {
          "base_uri": "https://localhost:8080/"
        },
        "id": "pnnmkPz5Qh75",
        "outputId": "387afeee-b6e8-4ffe-85fd-b3a15a229027"
      },
      "execution_count": 8,
      "outputs": [
        {
          "output_type": "execute_result",
          "data": {
            "text/plain": [
              "(2068, 30, 64, 64, 3)"
            ]
          },
          "metadata": {},
          "execution_count": 8
        }
      ]
    },
    {
      "cell_type": "code",
      "source": [
        "labels.shape"
      ],
      "metadata": {
        "colab": {
          "base_uri": "https://localhost:8080/"
        },
        "id": "kSGvdE_hQklC",
        "outputId": "330cc4b1-132e-4293-c997-ae663ec30d1e"
      },
      "execution_count": 9,
      "outputs": [
        {
          "output_type": "execute_result",
          "data": {
            "text/plain": [
              "(2068,)"
            ]
          },
          "metadata": {},
          "execution_count": 9
        }
      ]
    },
    {
      "cell_type": "code",
      "source": [
        "# Using Keras's to_categorical method to convert labels into one-hot-encoded vectors\n",
        "one_hot_encoded_labels = to_categorical(labels)"
      ],
      "metadata": {
        "id": "DGicVwcRQn9x"
      },
      "execution_count": 10,
      "outputs": []
    },
    {
      "cell_type": "code",
      "source": [
        "# Split the Data into Train ( 80% ) and Test Set ( 20% ).\n",
        "features_train, features_test, labels_train, labels_test = train_test_split(features, one_hot_encoded_labels,\n",
        "                                                                            test_size = 0.10, shuffle = True,\n",
        "                                                                            random_state = seed_constant)"
      ],
      "metadata": {
        "id": "pysOwWbgQrBv"
      },
      "execution_count": 11,
      "outputs": []
    },
    {
      "cell_type": "code",
      "source": [
        "def create_LRCN_model():\n",
        "    '''\n",
        "    This function will construct the required LRCN model.\n",
        "    Returns:\n",
        "        model: It is the required constructed LRCN model.\n",
        "    '''\n",
        "\n",
        "    # We will use a Sequential model for model construction.\n",
        "    model = Sequential()\n",
        "    \n",
        "    # Define the Model Architecture.\n",
        "    ########################################################################################################################\n",
        "    \n",
        "    model.add(TimeDistributed(Conv2D(16, (3, 3), padding='same',activation = 'relu'),\n",
        "                              input_shape = (SEQUENCE_LENGTH, IMAGE_HEIGHT, IMAGE_WIDTH, 3)))\n",
        "    \n",
        "    model.add(TimeDistributed(MaxPooling2D((4, 4)))) \n",
        "    model.add(TimeDistributed(Dropout(0.25)))\n",
        "    \n",
        "    model.add(TimeDistributed(Conv2D(32, (3, 3), padding='same',activation = 'relu')))\n",
        "    model.add(TimeDistributed(MaxPooling2D((4, 4))))\n",
        "    model.add(TimeDistributed(Dropout(0.25)))\n",
        "    \n",
        "    model.add(TimeDistributed(Conv2D(64, (3, 3), padding='same',activation = 'relu')))\n",
        "    model.add(TimeDistributed(MaxPooling2D((2, 2))))\n",
        "    model.add(TimeDistributed(Dropout(0.25)))\n",
        "    \n",
        "    model.add(TimeDistributed(Conv2D(64, (3, 3), padding='same',activation = 'relu')))\n",
        "    model.add(TimeDistributed(MaxPooling2D((2, 2))))\n",
        "    #model.add(TimeDistributed(Dropout(0.25)))\n",
        "                                      \n",
        "    model.add(TimeDistributed(Flatten()))\n",
        "                                      \n",
        "    model.add(LSTM(32))\n",
        "                                      \n",
        "    model.add(Dense(len(CLASSES_LIST), activation = 'softmax'))\n",
        "\n",
        "    ########################################################################################################################\n",
        "\n",
        "    # Display the models summary.\n",
        "    model.summary()\n",
        "    \n",
        "    # Return the constructed LRCN model.\n",
        "    return model"
      ],
      "metadata": {
        "id": "01zL-4EVQt3J"
      },
      "execution_count": 12,
      "outputs": []
    },
    {
      "cell_type": "code",
      "source": [
        "# Construct the required LRCN model.\n",
        "LRCN_model = create_LRCN_model()\n",
        "\n",
        "# Display the success message.\n",
        "print(\"Model Created Successfully!\")"
      ],
      "metadata": {
        "colab": {
          "base_uri": "https://localhost:8080/"
        },
        "id": "sFdjcb8zQxX4",
        "outputId": "b7471f53-a0e0-4692-c117-2251e71dc954"
      },
      "execution_count": 13,
      "outputs": [
        {
          "output_type": "stream",
          "name": "stdout",
          "text": [
            "Model: \"sequential\"\n",
            "_________________________________________________________________\n",
            " Layer (type)                Output Shape              Param #   \n",
            "=================================================================\n",
            " time_distributed (TimeDistr  (None, 30, 64, 64, 16)   448       \n",
            " ibuted)                                                         \n",
            "                                                                 \n",
            " time_distributed_1 (TimeDis  (None, 30, 16, 16, 16)   0         \n",
            " tributed)                                                       \n",
            "                                                                 \n",
            " time_distributed_2 (TimeDis  (None, 30, 16, 16, 16)   0         \n",
            " tributed)                                                       \n",
            "                                                                 \n",
            " time_distributed_3 (TimeDis  (None, 30, 16, 16, 32)   4640      \n",
            " tributed)                                                       \n",
            "                                                                 \n",
            " time_distributed_4 (TimeDis  (None, 30, 4, 4, 32)     0         \n",
            " tributed)                                                       \n",
            "                                                                 \n",
            " time_distributed_5 (TimeDis  (None, 30, 4, 4, 32)     0         \n",
            " tributed)                                                       \n",
            "                                                                 \n",
            " time_distributed_6 (TimeDis  (None, 30, 4, 4, 64)     18496     \n",
            " tributed)                                                       \n",
            "                                                                 \n",
            " time_distributed_7 (TimeDis  (None, 30, 2, 2, 64)     0         \n",
            " tributed)                                                       \n",
            "                                                                 \n",
            " time_distributed_8 (TimeDis  (None, 30, 2, 2, 64)     0         \n",
            " tributed)                                                       \n",
            "                                                                 \n",
            " time_distributed_9 (TimeDis  (None, 30, 2, 2, 64)     36928     \n",
            " tributed)                                                       \n",
            "                                                                 \n",
            " time_distributed_10 (TimeDi  (None, 30, 1, 1, 64)     0         \n",
            " stributed)                                                      \n",
            "                                                                 \n",
            " time_distributed_11 (TimeDi  (None, 30, 64)           0         \n",
            " stributed)                                                      \n",
            "                                                                 \n",
            " lstm (LSTM)                 (None, 32)                12416     \n",
            "                                                                 \n",
            " dense (Dense)               (None, 6)                 198       \n",
            "                                                                 \n",
            "=================================================================\n",
            "Total params: 73,126\n",
            "Trainable params: 73,126\n",
            "Non-trainable params: 0\n",
            "_________________________________________________________________\n",
            "Model Created Successfully!\n"
          ]
        }
      ]
    },
    {
      "cell_type": "code",
      "source": [
        "import keras\n",
        "import tensorflow as tf \n",
        "# Create an Instance of Early Stopping Callback.\n",
        "early_stopping_callback = EarlyStopping(monitor = 'val_loss', patience = 25, mode = 'min', restore_best_weights = True)\n",
        "\n",
        "opt = tf.keras.optimizers.Adam(learning_rate=0.0001)\n",
        " \n",
        "# Compile the model and specify loss function, optimizer and metrics to the model.\n",
        "LRCN_model.compile(loss = 'categorical_crossentropy', optimizer = opt, metrics = [\"accuracy\"])\n",
        "\n",
        "# Start training the model.\n",
        "LRCN_model_training_history = LRCN_model.fit(x = features_train, y = labels_train, epochs = 100, batch_size = 4 ,\n",
        "                                             shuffle = True, validation_split = 0.1, callbacks = [early_stopping_callback])"
      ],
      "metadata": {
        "colab": {
          "base_uri": "https://localhost:8080/"
        },
        "id": "cVmXzItZQ4-r",
        "outputId": "fadbe7f7-79d8-457f-b44a-a176c1c7d232"
      },
      "execution_count": 14,
      "outputs": [
        {
          "output_type": "stream",
          "name": "stdout",
          "text": [
            "Epoch 1/100\n",
            "419/419 [==============================] - 28s 20ms/step - loss: 1.7808 - accuracy: 0.1756 - val_loss: 1.7732 - val_accuracy: 0.2193\n",
            "Epoch 2/100\n",
            "419/419 [==============================] - 6s 14ms/step - loss: 1.7703 - accuracy: 0.1738 - val_loss: 1.7814 - val_accuracy: 0.1390\n",
            "Epoch 3/100\n",
            "419/419 [==============================] - 6s 15ms/step - loss: 1.7674 - accuracy: 0.1697 - val_loss: 1.7807 - val_accuracy: 0.1390\n",
            "Epoch 4/100\n",
            "419/419 [==============================] - 6s 14ms/step - loss: 1.7677 - accuracy: 0.1953 - val_loss: 1.7766 - val_accuracy: 0.1711\n",
            "Epoch 5/100\n",
            "419/419 [==============================] - 6s 14ms/step - loss: 1.7695 - accuracy: 0.1613 - val_loss: 1.7816 - val_accuracy: 0.1390\n",
            "Epoch 6/100\n",
            "419/419 [==============================] - 6s 15ms/step - loss: 1.7671 - accuracy: 0.1798 - val_loss: 1.7776 - val_accuracy: 0.1711\n",
            "Epoch 7/100\n",
            "419/419 [==============================] - 6s 14ms/step - loss: 1.7677 - accuracy: 0.1750 - val_loss: 1.7725 - val_accuracy: 0.2299\n",
            "Epoch 8/100\n",
            "419/419 [==============================] - 6s 14ms/step - loss: 1.7668 - accuracy: 0.1858 - val_loss: 1.7772 - val_accuracy: 0.1711\n",
            "Epoch 9/100\n",
            "419/419 [==============================] - 6s 14ms/step - loss: 1.7668 - accuracy: 0.1697 - val_loss: 1.7764 - val_accuracy: 0.1711\n",
            "Epoch 10/100\n",
            "419/419 [==============================] - 6s 14ms/step - loss: 1.7643 - accuracy: 0.2031 - val_loss: 1.7804 - val_accuracy: 0.1390\n",
            "Epoch 11/100\n",
            "419/419 [==============================] - 6s 14ms/step - loss: 1.7648 - accuracy: 0.1900 - val_loss: 1.7760 - val_accuracy: 0.1765\n",
            "Epoch 12/100\n",
            "419/419 [==============================] - 6s 15ms/step - loss: 1.7651 - accuracy: 0.1828 - val_loss: 1.7776 - val_accuracy: 0.1979\n",
            "Epoch 13/100\n",
            "419/419 [==============================] - 6s 15ms/step - loss: 1.7650 - accuracy: 0.1852 - val_loss: 1.7739 - val_accuracy: 0.2460\n",
            "Epoch 14/100\n",
            "419/419 [==============================] - 6s 14ms/step - loss: 1.7657 - accuracy: 0.1768 - val_loss: 1.7760 - val_accuracy: 0.1390\n",
            "Epoch 15/100\n",
            "419/419 [==============================] - 6s 14ms/step - loss: 1.7651 - accuracy: 0.1756 - val_loss: 1.7733 - val_accuracy: 0.1818\n",
            "Epoch 16/100\n",
            "419/419 [==============================] - 6s 14ms/step - loss: 1.7640 - accuracy: 0.1852 - val_loss: 1.7731 - val_accuracy: 0.2193\n",
            "Epoch 17/100\n",
            "419/419 [==============================] - 6s 14ms/step - loss: 1.7639 - accuracy: 0.2043 - val_loss: 1.7757 - val_accuracy: 0.2193\n",
            "Epoch 18/100\n",
            "419/419 [==============================] - 6s 15ms/step - loss: 1.7617 - accuracy: 0.1912 - val_loss: 1.7693 - val_accuracy: 0.2995\n",
            "Epoch 19/100\n",
            "419/419 [==============================] - 6s 15ms/step - loss: 1.7619 - accuracy: 0.1912 - val_loss: 1.7707 - val_accuracy: 0.2353\n",
            "Epoch 20/100\n",
            "419/419 [==============================] - 6s 15ms/step - loss: 1.7585 - accuracy: 0.2103 - val_loss: 1.7628 - val_accuracy: 0.2674\n",
            "Epoch 21/100\n",
            "419/419 [==============================] - 6s 15ms/step - loss: 1.7514 - accuracy: 0.2300 - val_loss: 1.7579 - val_accuracy: 0.2353\n",
            "Epoch 22/100\n",
            "419/419 [==============================] - 6s 15ms/step - loss: 1.7362 - accuracy: 0.2449 - val_loss: 1.7305 - val_accuracy: 0.2674\n",
            "Epoch 23/100\n",
            "419/419 [==============================] - 6s 15ms/step - loss: 1.7192 - accuracy: 0.2497 - val_loss: 1.7128 - val_accuracy: 0.2834\n",
            "Epoch 24/100\n",
            "419/419 [==============================] - 6s 15ms/step - loss: 1.6955 - accuracy: 0.2694 - val_loss: 1.6738 - val_accuracy: 0.2941\n",
            "Epoch 25/100\n",
            "419/419 [==============================] - 6s 15ms/step - loss: 1.6720 - accuracy: 0.2951 - val_loss: 1.6687 - val_accuracy: 0.3155\n",
            "Epoch 26/100\n",
            "419/419 [==============================] - 6s 15ms/step - loss: 1.6329 - accuracy: 0.3065 - val_loss: 1.6208 - val_accuracy: 0.2781\n",
            "Epoch 27/100\n",
            "419/419 [==============================] - 6s 15ms/step - loss: 1.5953 - accuracy: 0.3190 - val_loss: 1.5703 - val_accuracy: 0.3316\n",
            "Epoch 28/100\n",
            "419/419 [==============================] - 6s 15ms/step - loss: 1.5378 - accuracy: 0.3297 - val_loss: 1.5332 - val_accuracy: 0.3102\n",
            "Epoch 29/100\n",
            "419/419 [==============================] - 6s 15ms/step - loss: 1.5034 - accuracy: 0.3716 - val_loss: 1.5020 - val_accuracy: 0.3743\n",
            "Epoch 30/100\n",
            "419/419 [==============================] - 6s 15ms/step - loss: 1.4664 - accuracy: 0.3704 - val_loss: 1.4369 - val_accuracy: 0.4171\n",
            "Epoch 31/100\n",
            "419/419 [==============================] - 6s 15ms/step - loss: 1.4278 - accuracy: 0.3949 - val_loss: 1.4735 - val_accuracy: 0.3476\n",
            "Epoch 32/100\n",
            "419/419 [==============================] - 6s 15ms/step - loss: 1.4106 - accuracy: 0.4002 - val_loss: 1.4066 - val_accuracy: 0.3957\n",
            "Epoch 33/100\n",
            "419/419 [==============================] - 6s 15ms/step - loss: 1.3980 - accuracy: 0.4044 - val_loss: 1.3947 - val_accuracy: 0.4118\n",
            "Epoch 34/100\n",
            "419/419 [==============================] - 6s 15ms/step - loss: 1.3754 - accuracy: 0.4032 - val_loss: 1.3812 - val_accuracy: 0.3957\n",
            "Epoch 35/100\n",
            "419/419 [==============================] - 6s 15ms/step - loss: 1.3609 - accuracy: 0.4259 - val_loss: 1.3639 - val_accuracy: 0.4064\n",
            "Epoch 36/100\n",
            "419/419 [==============================] - 6s 15ms/step - loss: 1.3509 - accuracy: 0.4247 - val_loss: 1.3445 - val_accuracy: 0.4332\n",
            "Epoch 37/100\n",
            "419/419 [==============================] - 6s 15ms/step - loss: 1.3258 - accuracy: 0.4337 - val_loss: 1.3222 - val_accuracy: 0.4599\n",
            "Epoch 38/100\n",
            "419/419 [==============================] - 6s 15ms/step - loss: 1.3247 - accuracy: 0.4367 - val_loss: 1.3292 - val_accuracy: 0.4439\n",
            "Epoch 39/100\n",
            "419/419 [==============================] - 6s 15ms/step - loss: 1.3001 - accuracy: 0.4576 - val_loss: 1.3039 - val_accuracy: 0.4813\n",
            "Epoch 40/100\n",
            "419/419 [==============================] - 6s 15ms/step - loss: 1.2954 - accuracy: 0.4576 - val_loss: 1.2849 - val_accuracy: 0.4599\n",
            "Epoch 41/100\n",
            "419/419 [==============================] - 6s 14ms/step - loss: 1.2825 - accuracy: 0.4504 - val_loss: 1.2837 - val_accuracy: 0.4706\n",
            "Epoch 42/100\n",
            "419/419 [==============================] - 6s 15ms/step - loss: 1.2794 - accuracy: 0.4409 - val_loss: 1.2805 - val_accuracy: 0.4278\n",
            "Epoch 43/100\n",
            "419/419 [==============================] - 6s 15ms/step - loss: 1.2586 - accuracy: 0.4552 - val_loss: 1.2605 - val_accuracy: 0.5080\n",
            "Epoch 44/100\n",
            "419/419 [==============================] - 6s 15ms/step - loss: 1.2435 - accuracy: 0.4648 - val_loss: 1.2441 - val_accuracy: 0.5187\n",
            "Epoch 45/100\n",
            "419/419 [==============================] - 6s 15ms/step - loss: 1.2537 - accuracy: 0.4618 - val_loss: 1.2403 - val_accuracy: 0.4759\n",
            "Epoch 46/100\n",
            "419/419 [==============================] - 6s 14ms/step - loss: 1.2253 - accuracy: 0.4767 - val_loss: 1.3398 - val_accuracy: 0.4332\n",
            "Epoch 47/100\n",
            "419/419 [==============================] - 6s 14ms/step - loss: 1.2382 - accuracy: 0.4731 - val_loss: 1.2817 - val_accuracy: 0.4652\n",
            "Epoch 48/100\n",
            "419/419 [==============================] - 6s 14ms/step - loss: 1.2301 - accuracy: 0.4785 - val_loss: 1.2202 - val_accuracy: 0.4920\n",
            "Epoch 49/100\n",
            "419/419 [==============================] - 6s 14ms/step - loss: 1.2126 - accuracy: 0.4815 - val_loss: 1.2222 - val_accuracy: 0.4813\n",
            "Epoch 50/100\n",
            "419/419 [==============================] - 6s 14ms/step - loss: 1.1895 - accuracy: 0.5042 - val_loss: 1.2118 - val_accuracy: 0.5134\n",
            "Epoch 51/100\n",
            "419/419 [==============================] - 6s 14ms/step - loss: 1.2021 - accuracy: 0.4881 - val_loss: 1.2391 - val_accuracy: 0.4599\n",
            "Epoch 52/100\n",
            "419/419 [==============================] - 6s 15ms/step - loss: 1.1872 - accuracy: 0.4994 - val_loss: 1.2132 - val_accuracy: 0.5134\n",
            "Epoch 53/100\n",
            "419/419 [==============================] - 6s 14ms/step - loss: 1.1690 - accuracy: 0.5072 - val_loss: 1.1812 - val_accuracy: 0.5348\n",
            "Epoch 54/100\n",
            "419/419 [==============================] - 6s 14ms/step - loss: 1.1789 - accuracy: 0.4952 - val_loss: 1.1886 - val_accuracy: 0.5241\n",
            "Epoch 55/100\n",
            "419/419 [==============================] - 6s 15ms/step - loss: 1.1630 - accuracy: 0.5096 - val_loss: 1.2008 - val_accuracy: 0.5027\n",
            "Epoch 56/100\n",
            "419/419 [==============================] - 6s 14ms/step - loss: 1.1459 - accuracy: 0.5281 - val_loss: 1.1780 - val_accuracy: 0.5401\n",
            "Epoch 57/100\n",
            "419/419 [==============================] - 6s 14ms/step - loss: 1.1582 - accuracy: 0.5090 - val_loss: 1.2269 - val_accuracy: 0.4759\n",
            "Epoch 58/100\n",
            "419/419 [==============================] - 6s 14ms/step - loss: 1.1228 - accuracy: 0.5352 - val_loss: 1.1686 - val_accuracy: 0.5455\n",
            "Epoch 59/100\n",
            "419/419 [==============================] - 6s 14ms/step - loss: 1.1296 - accuracy: 0.5179 - val_loss: 1.1631 - val_accuracy: 0.5455\n",
            "Epoch 60/100\n",
            "419/419 [==============================] - 6s 14ms/step - loss: 1.1268 - accuracy: 0.5364 - val_loss: 1.1551 - val_accuracy: 0.5455\n",
            "Epoch 61/100\n",
            "419/419 [==============================] - 6s 14ms/step - loss: 1.1018 - accuracy: 0.5376 - val_loss: 1.1726 - val_accuracy: 0.5134\n",
            "Epoch 62/100\n",
            "419/419 [==============================] - 6s 15ms/step - loss: 1.0869 - accuracy: 0.5454 - val_loss: 1.1571 - val_accuracy: 0.5187\n",
            "Epoch 63/100\n",
            "419/419 [==============================] - 6s 15ms/step - loss: 1.1045 - accuracy: 0.5341 - val_loss: 1.1733 - val_accuracy: 0.5241\n",
            "Epoch 64/100\n",
            "419/419 [==============================] - 6s 15ms/step - loss: 1.0777 - accuracy: 0.5556 - val_loss: 1.1371 - val_accuracy: 0.5187\n",
            "Epoch 65/100\n",
            "419/419 [==============================] - 6s 15ms/step - loss: 1.0798 - accuracy: 0.5597 - val_loss: 1.1365 - val_accuracy: 0.5348\n",
            "Epoch 66/100\n",
            "419/419 [==============================] - 6s 14ms/step - loss: 1.0534 - accuracy: 0.5496 - val_loss: 1.1219 - val_accuracy: 0.5027\n",
            "Epoch 67/100\n",
            "419/419 [==============================] - 6s 14ms/step - loss: 1.0442 - accuracy: 0.5585 - val_loss: 1.1048 - val_accuracy: 0.5615\n",
            "Epoch 68/100\n",
            "419/419 [==============================] - 6s 14ms/step - loss: 1.0401 - accuracy: 0.5735 - val_loss: 1.1716 - val_accuracy: 0.5027\n",
            "Epoch 69/100\n",
            "419/419 [==============================] - 6s 15ms/step - loss: 1.0256 - accuracy: 0.5735 - val_loss: 1.1679 - val_accuracy: 0.5027\n",
            "Epoch 70/100\n",
            "419/419 [==============================] - 6s 15ms/step - loss: 1.0544 - accuracy: 0.5669 - val_loss: 1.1265 - val_accuracy: 0.5241\n",
            "Epoch 71/100\n",
            "419/419 [==============================] - 6s 14ms/step - loss: 1.0288 - accuracy: 0.5753 - val_loss: 1.1366 - val_accuracy: 0.5455\n",
            "Epoch 72/100\n",
            "419/419 [==============================] - 6s 14ms/step - loss: 1.0114 - accuracy: 0.5789 - val_loss: 1.1686 - val_accuracy: 0.5027\n",
            "Epoch 73/100\n",
            "419/419 [==============================] - 6s 14ms/step - loss: 1.0097 - accuracy: 0.5723 - val_loss: 1.1146 - val_accuracy: 0.5615\n",
            "Epoch 74/100\n",
            "419/419 [==============================] - 6s 14ms/step - loss: 0.9854 - accuracy: 0.5944 - val_loss: 1.1129 - val_accuracy: 0.5455\n",
            "Epoch 75/100\n",
            "419/419 [==============================] - 6s 15ms/step - loss: 1.0086 - accuracy: 0.5818 - val_loss: 1.0794 - val_accuracy: 0.5829\n",
            "Epoch 76/100\n",
            "419/419 [==============================] - 6s 14ms/step - loss: 0.9831 - accuracy: 0.5980 - val_loss: 1.0766 - val_accuracy: 0.5775\n",
            "Epoch 77/100\n",
            "419/419 [==============================] - 6s 14ms/step - loss: 0.9834 - accuracy: 0.5980 - val_loss: 1.1116 - val_accuracy: 0.5241\n",
            "Epoch 78/100\n",
            "419/419 [==============================] - 6s 14ms/step - loss: 0.9595 - accuracy: 0.6087 - val_loss: 1.1033 - val_accuracy: 0.5187\n",
            "Epoch 79/100\n",
            "419/419 [==============================] - 6s 14ms/step - loss: 0.9597 - accuracy: 0.6069 - val_loss: 1.1100 - val_accuracy: 0.5348\n",
            "Epoch 80/100\n",
            "419/419 [==============================] - 6s 14ms/step - loss: 0.9393 - accuracy: 0.6129 - val_loss: 1.0955 - val_accuracy: 0.5348\n",
            "Epoch 81/100\n",
            "419/419 [==============================] - 6s 14ms/step - loss: 0.9351 - accuracy: 0.6231 - val_loss: 1.1289 - val_accuracy: 0.5080\n",
            "Epoch 82/100\n",
            "419/419 [==============================] - 6s 14ms/step - loss: 0.9319 - accuracy: 0.6207 - val_loss: 1.0905 - val_accuracy: 0.5294\n",
            "Epoch 83/100\n",
            "419/419 [==============================] - 6s 14ms/step - loss: 0.9174 - accuracy: 0.6296 - val_loss: 1.1206 - val_accuracy: 0.5455\n",
            "Epoch 84/100\n",
            "419/419 [==============================] - 6s 14ms/step - loss: 0.8957 - accuracy: 0.6434 - val_loss: 1.0861 - val_accuracy: 0.5668\n",
            "Epoch 85/100\n",
            "419/419 [==============================] - 6s 14ms/step - loss: 0.8952 - accuracy: 0.6374 - val_loss: 1.0665 - val_accuracy: 0.5668\n",
            "Epoch 86/100\n",
            "419/419 [==============================] - 6s 14ms/step - loss: 0.9069 - accuracy: 0.6290 - val_loss: 1.1512 - val_accuracy: 0.5455\n",
            "Epoch 87/100\n",
            "419/419 [==============================] - 6s 14ms/step - loss: 0.9000 - accuracy: 0.6410 - val_loss: 1.0377 - val_accuracy: 0.5936\n",
            "Epoch 88/100\n",
            "419/419 [==============================] - 6s 14ms/step - loss: 0.8761 - accuracy: 0.6481 - val_loss: 1.0455 - val_accuracy: 0.5668\n",
            "Epoch 89/100\n",
            "419/419 [==============================] - 6s 14ms/step - loss: 0.8507 - accuracy: 0.6631 - val_loss: 1.0045 - val_accuracy: 0.6150\n",
            "Epoch 90/100\n",
            "419/419 [==============================] - 6s 14ms/step - loss: 0.8867 - accuracy: 0.6517 - val_loss: 1.0005 - val_accuracy: 0.6150\n",
            "Epoch 91/100\n",
            "419/419 [==============================] - 6s 14ms/step - loss: 0.8458 - accuracy: 0.6643 - val_loss: 0.9961 - val_accuracy: 0.6364\n",
            "Epoch 92/100\n",
            "419/419 [==============================] - 6s 14ms/step - loss: 0.8324 - accuracy: 0.6679 - val_loss: 1.0069 - val_accuracy: 0.6257\n",
            "Epoch 93/100\n",
            "419/419 [==============================] - 6s 14ms/step - loss: 0.8180 - accuracy: 0.6828 - val_loss: 1.1005 - val_accuracy: 0.5508\n",
            "Epoch 94/100\n",
            "419/419 [==============================] - 6s 14ms/step - loss: 0.8306 - accuracy: 0.6703 - val_loss: 1.0877 - val_accuracy: 0.5401\n",
            "Epoch 95/100\n",
            "419/419 [==============================] - 6s 14ms/step - loss: 0.7982 - accuracy: 0.6983 - val_loss: 1.0047 - val_accuracy: 0.5989\n",
            "Epoch 96/100\n",
            "419/419 [==============================] - 6s 14ms/step - loss: 0.7914 - accuracy: 0.6786 - val_loss: 1.0001 - val_accuracy: 0.6096\n",
            "Epoch 97/100\n",
            "419/419 [==============================] - 6s 14ms/step - loss: 0.7724 - accuracy: 0.6965 - val_loss: 0.9848 - val_accuracy: 0.6150\n",
            "Epoch 98/100\n",
            "419/419 [==============================] - 6s 14ms/step - loss: 0.7957 - accuracy: 0.6864 - val_loss: 0.9836 - val_accuracy: 0.6043\n",
            "Epoch 99/100\n",
            "419/419 [==============================] - 6s 14ms/step - loss: 0.7505 - accuracy: 0.7168 - val_loss: 0.9573 - val_accuracy: 0.6150\n",
            "Epoch 100/100\n",
            "419/419 [==============================] - 6s 14ms/step - loss: 0.7531 - accuracy: 0.6989 - val_loss: 0.9700 - val_accuracy: 0.6417\n"
          ]
        }
      ]
    },
    {
      "cell_type": "code",
      "source": [
        "# Evaluate the trained model.\n",
        "model_evaluation_history = LRCN_model.evaluate(features_test, labels_test)"
      ],
      "metadata": {
        "colab": {
          "base_uri": "https://localhost:8080/"
        },
        "id": "MSwdYqJLiATB",
        "outputId": "3423a42c-d4fd-4078-fb3f-0fbae6e2e981"
      },
      "execution_count": 15,
      "outputs": [
        {
          "output_type": "stream",
          "name": "stdout",
          "text": [
            "7/7 [==============================] - 0s 32ms/step - loss: 1.0096 - accuracy: 0.5652\n"
          ]
        }
      ]
    },
    {
      "cell_type": "code",
      "source": [
        "# Get the loss and accuracy from model_evaluation_history.\n",
        "model_evaluation_loss, model_evaluation_accuracy = model_evaluation_history\n",
        "\n",
        "# Define the string date format.\n",
        "# Get the current Date and Time in a DateTime Object.\n",
        "# Convert the DateTime object to string according to the style mentioned in date_time_format string.\n",
        "date_time_format = '%Y_%m_%d__%H_%M_%S'\n",
        "current_date_time_dt = dt.datetime.now()\n",
        "current_date_time_string = dt.datetime.strftime(current_date_time_dt, date_time_format)\n",
        "    \n",
        "# Define a useful name for our model to make it easy for us while navigating through multiple saved models.\n",
        "model_file_name = f'LRCN_model___Date_Time_{current_date_time_string}___Loss_{model_evaluation_loss}___Accuracy_{model_evaluation_accuracy}.h5'\n",
        "\n",
        "# Save the Model.\n",
        "LRCN_model.save(model_file_name)"
      ],
      "metadata": {
        "id": "D3J57fVJRCEa"
      },
      "execution_count": 16,
      "outputs": []
    },
    {
      "cell_type": "code",
      "source": [
        "def plot_metric(model_training_history, metric_name_1, metric_name_2, plot_name):\n",
        "    '''\n",
        "    This function will plot the metrics passed to it in a graph.\n",
        "    Args:\n",
        "        model_training_history: A history object containing a record of training and validation \n",
        "                                loss values and metrics values at successive epochs\n",
        "        metric_name_1:          The name of the first metric that needs to be plotted in the graph.\n",
        "        metric_name_2:          The name of the second metric that needs to be plotted in the graph.\n",
        "        plot_name:              The title of the graph.\n",
        "    '''\n",
        "    \n",
        "    # Get metric values using metric names as identifiers.\n",
        "    metric_value_1 = model_training_history.history[metric_name_1]\n",
        "    metric_value_2 = model_training_history.history[metric_name_2]\n",
        "    \n",
        "    # Construct a range object which will be used as x-axis (horizontal plane) of the graph.\n",
        "    epochs = range(len(metric_value_1))\n",
        "\n",
        "    # Plot the Graph.\n",
        "    plt.plot(epochs, metric_value_1, 'blue', label = metric_name_1)\n",
        "    plt.plot(epochs, metric_value_2, 'red', label = metric_name_2)\n",
        "\n",
        "    # Add title to the plot.\n",
        "    plt.title(str(plot_name))\n",
        "\n",
        "    # Add legend to the plot.\n",
        "    plt.legend()"
      ],
      "metadata": {
        "id": "sXhBv91xRFgU"
      },
      "execution_count": 17,
      "outputs": []
    },
    {
      "cell_type": "code",
      "source": [
        "# Visualize the training and validation loss metrices.\n",
        "plot_metric(LRCN_model_training_history, 'loss', 'val_loss', 'Total Loss vs Total Validation Loss')"
      ],
      "metadata": {
        "colab": {
          "base_uri": "https://localhost:8080/",
          "height": 281
        },
        "id": "cKhf3si1RJUW",
        "outputId": "66f8ee9d-0fa1-42a2-e2ed-d31f93ae0ed4"
      },
      "execution_count": 18,
      "outputs": [
        {
          "output_type": "display_data",
          "data": {
            "text/plain": [
              "<Figure size 432x288 with 1 Axes>"
            ],
            "image/png": "[encoded data removed]"
          },
          "metadata": {
            "needs_background": "light"
          }
        }
      ]
    },
    {
      "cell_type": "code",
      "source": [
        "# Visualize the training and validation accuracy metrices.\n",
        "plot_metric(LRCN_model_training_history, 'accuracy', 'val_accuracy', 'Total Accuracy vs Total Validation Accuracy')"
      ],
      "metadata": {
        "colab": {
          "base_uri": "https://localhost:8080/",
          "height": 281
        },
        "id": "5JB37wh3RLWX",
        "outputId": "39c1f69d-46d4-481d-9967-cf6dce8e3ed2"
      },
      "execution_count": 19,
      "outputs": [
        {
          "output_type": "display_data",
          "data": {
            "text/plain": [
              "<Figure size 432x288 with 1 Axes>"
            ],
            "image/png": "[encoded data removed]"
          },
          "metadata": {
            "needs_background": "light"
          }
        }
      ]
    },
    {
      "cell_type": "code",
      "source": [
        "predictions =  LRCN_model.predict(features_test)\n",
        "predictions\n"
      ],
      "metadata": {
        "colab": {
          "base_uri": "https://localhost:8080/"
        },
        "id": "yM7edJgyRf-P",
        "outputId": "4e576f95-0b32-4f74-9150-da9e558c011d"
      },
      "execution_count": 20,
      "outputs": [
        {
          "output_type": "execute_result",
          "data": {
            "text/plain": [
              "array([[0.03766367, 0.06231965, 0.02826392, 0.64058566, 0.07563537,\n",
              "        0.1555318 ],\n",
              "       [0.07782269, 0.0203867 , 0.00778702, 0.7406317 , 0.09709402,\n",
              "        0.05627782],\n",
              "       [0.05085712, 0.01547131, 0.5929554 , 0.20940055, 0.05804436,\n",
              "        0.07327127],\n",
              "       ...,\n",
              "       [0.02398907, 0.00841247, 0.01970567, 0.37311628, 0.3953103 ,\n",
              "        0.17946628],\n",
              "       [0.19203697, 0.49650836, 0.2750375 , 0.02483295, 0.0060938 ,\n",
              "        0.0054904 ],\n",
              "       [0.49558753, 0.07669695, 0.11656653, 0.26582047, 0.02550933,\n",
              "        0.01981923]], dtype=float32)"
            ]
          },
          "metadata": {},
          "execution_count": 20
        }
      ]
    },
    {
      "cell_type": "code",
      "source": [
        "preds=predictions.argmax(axis=1)\n",
        "preds"
      ],
      "metadata": {
        "colab": {
          "base_uri": "https://localhost:8080/"
        },
        "id": "DNHaLfq2RjeT",
        "outputId": "3eed542c-7064-467a-ab4a-289c63818e28"
      },
      "execution_count": 21,
      "outputs": [
        {
          "output_type": "execute_result",
          "data": {
            "text/plain": [
              "array([3, 3, 2, 3, 4, 3, 4, 1, 3, 3, 3, 0, 2, 3, 4, 3, 5, 1, 1, 0, 5, 5,\n",
              "       0, 1, 1, 4, 4, 4, 4, 4, 4, 5, 5, 3, 4, 2, 4, 1, 1, 4, 2, 2, 0, 3,\n",
              "       0, 1, 5, 5, 4, 4, 2, 2, 3, 4, 3, 1, 0, 1, 3, 5, 4, 5, 5, 0, 1, 4,\n",
              "       1, 1, 5, 1, 1, 3, 4, 5, 3, 4, 1, 3, 4, 5, 4, 3, 4, 3, 0, 1, 1, 3,\n",
              "       5, 5, 3, 1, 0, 1, 4, 3, 1, 3, 0, 3, 4, 5, 4, 4, 5, 3, 3, 1, 4, 3,\n",
              "       5, 4, 0, 1, 4, 0, 4, 1, 1, 1, 3, 5, 1, 4, 1, 4, 5, 2, 1, 1, 2, 1,\n",
              "       3, 2, 1, 3, 3, 1, 1, 1, 2, 3, 3, 4, 1, 5, 3, 3, 3, 3, 5, 3, 4, 4,\n",
              "       2, 2, 1, 4, 0, 3, 1, 3, 3, 2, 4, 3, 0, 1, 4, 4, 4, 4, 1, 4, 3, 1,\n",
              "       4, 3, 4, 5, 5, 1, 0, 4, 4, 3, 1, 4, 3, 4, 1, 4, 0, 1, 5, 4, 3, 1,\n",
              "       3, 4, 4, 2, 4, 0, 4, 1, 0])"
            ]
          },
          "metadata": {},
          "execution_count": 21
        }
      ]
    },
    {
      "cell_type": "code",
      "source": [
        "new_preds = preds.astype(int).flatten()\n",
        "new_preds"
      ],
      "metadata": {
        "colab": {
          "base_uri": "https://localhost:8080/"
        },
        "id": "0W618McKRl02",
        "outputId": "4d5e3e8b-5159-4b70-d463-2734d8ea621b"
      },
      "execution_count": 22,
      "outputs": [
        {
          "output_type": "execute_result",
          "data": {
            "text/plain": [
              "array([3, 3, 2, 3, 4, 3, 4, 1, 3, 3, 3, 0, 2, 3, 4, 3, 5, 1, 1, 0, 5, 5,\n",
              "       0, 1, 1, 4, 4, 4, 4, 4, 4, 5, 5, 3, 4, 2, 4, 1, 1, 4, 2, 2, 0, 3,\n",
              "       0, 1, 5, 5, 4, 4, 2, 2, 3, 4, 3, 1, 0, 1, 3, 5, 4, 5, 5, 0, 1, 4,\n",
              "       1, 1, 5, 1, 1, 3, 4, 5, 3, 4, 1, 3, 4, 5, 4, 3, 4, 3, 0, 1, 1, 3,\n",
              "       5, 5, 3, 1, 0, 1, 4, 3, 1, 3, 0, 3, 4, 5, 4, 4, 5, 3, 3, 1, 4, 3,\n",
              "       5, 4, 0, 1, 4, 0, 4, 1, 1, 1, 3, 5, 1, 4, 1, 4, 5, 2, 1, 1, 2, 1,\n",
              "       3, 2, 1, 3, 3, 1, 1, 1, 2, 3, 3, 4, 1, 5, 3, 3, 3, 3, 5, 3, 4, 4,\n",
              "       2, 2, 1, 4, 0, 3, 1, 3, 3, 2, 4, 3, 0, 1, 4, 4, 4, 4, 1, 4, 3, 1,\n",
              "       4, 3, 4, 5, 5, 1, 0, 4, 4, 3, 1, 4, 3, 4, 1, 4, 0, 1, 5, 4, 3, 1,\n",
              "       3, 4, 4, 2, 4, 0, 4, 1, 0])"
            ]
          },
          "metadata": {},
          "execution_count": 22
        }
      ]
    },
    {
      "cell_type": "code",
      "source": [
        "\n",
        "from sklearn.metrics import classification_report, confusion_matrix,accuracy_score\n",
        "import seaborn as sn\n",
        "import pandas as pd\n",
        "import numpy as np\n",
        "new_labels=np.argmax(labels_test, axis=1)\n",
        "print(classification_report(new_labels,new_preds))\n",
        "\n",
        "acc = float(accuracy_score(new_labels,new_preds))*100\n",
        "print(\"----accuracy score %s ----\" % acc)\n",
        "\n",
        "cm = confusion_matrix(new_labels,new_preds)\n",
        "#df_cm = pd.DataFrame(cm)\n",
        "class_names = ['neutral','calm', 'happy','sad','angry', 'fearful' ]\n",
        "df_cm = pd.DataFrame(cm, index=class_names, columns=class_names,)\n",
        "sn.heatmap(df_cm, annot=True, fmt='')\n",
        "plt.show()\n"
      ],
      "metadata": {
        "colab": {
          "base_uri": "https://localhost:8080/",
          "height": 508
        },
        "id": "cTET95L8RoVW",
        "outputId": "1ded7414-71b6-4af0-e196-78bd5886627e"
      },
      "execution_count": 23,
      "outputs": [
        {
          "output_type": "stream",
          "name": "stdout",
          "text": [
            "              precision    recall  f1-score   support\n",
            "\n",
            "           0       0.50      0.33      0.40        27\n",
            "           1       0.68      0.73      0.70        44\n",
            "           2       0.93      0.44      0.60        32\n",
            "           3       0.40      0.51      0.45        37\n",
            "           4       0.48      0.81      0.60        32\n",
            "           5       0.68      0.49      0.57        35\n",
            "\n",
            "    accuracy                           0.57       207\n",
            "   macro avg       0.61      0.55      0.55       207\n",
            "weighted avg       0.61      0.57      0.56       207\n",
            "\n",
            "----accuracy score 56.52173913043478 ----\n"
          ]
        },
        {
          "output_type": "display_data",
          "data": {
            "text/plain": [
              "<Figure size 432x288 with 2 Axes>"
            ],
            "image/png": "[encoded data removed]"
          },
          "metadata": {
            "needs_background": "light"
          }
        }
      ]
    },
    {
      "cell_type": "code",
      "source": [
        ""
      ],
      "metadata": {
        "id": "c3nbyK6BfnDR"
      },
      "execution_count": 23,
      "outputs": []
    }
  ]
}