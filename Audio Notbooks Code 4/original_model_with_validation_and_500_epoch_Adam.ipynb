{
  "nbformat": 4,
  "nbformat_minor": 0,
  "metadata": {
    "colab": {
      "name": "original model with validation and 500 epoch_Adam.ipynb",
      "provenance": [],
      "collapsed_sections": []
    },
    "kernelspec": {
      "name": "python3",
      "display_name": "Python 3"
    },
    "language_info": {
      "name": "python"
    }
  },
  "cells": [
    {
      "cell_type": "code",
      "execution_count": 1,
      "metadata": {
        "colab": {
          "base_uri": "https://localhost:8080/"
        },
        "id": "9SRCO-a_AlH5",
        "outputId": "db04ab08-a210-4e9b-edd5-7e3269f7e317"
      },
      "outputs": [
        {
          "output_type": "stream",
          "name": "stdout",
          "text": [
            "Drive already mounted at /content/drive; to attempt to forcibly remount, call drive.mount(\"/content/drive\", force_remount=True).\n"
          ]
        }
      ],
      "source": [
        "from google.colab import drive\n",
        "drive.mount('/content/drive')"
      ]
    },
    {
      "cell_type": "code",
      "source": [
        "!pip install librosa"
      ],
      "metadata": {
        "colab": {
          "base_uri": "https://localhost:8080/"
        },
        "id": "oi8pWV3yBVjO",
        "outputId": "4ae84cf6-a2a2-4e9a-945d-4acb8fd32c5e"
      },
      "execution_count": 2,
      "outputs": [
        {
          "output_type": "stream",
          "name": "stdout",
          "text": [
            "Requirement already satisfied: librosa in /usr/local/lib/python3.7/dist-packages (0.8.1)\n",
            "Requirement already satisfied: resampy>=0.2.2 in /usr/local/lib/python3.7/dist-packages (from librosa) (0.2.2)\n",
            "Requirement already satisfied: scikit-learn!=0.19.0,>=0.14.0 in /usr/local/lib/python3.7/dist-packages (from librosa) (1.0.2)\n",
            "Requirement already satisfied: soundfile>=0.10.2 in /usr/local/lib/python3.7/dist-packages (from librosa) (0.10.3.post1)\n",
            "Requirement already satisfied: numpy>=1.15.0 in /usr/local/lib/python3.7/dist-packages (from librosa) (1.21.5)\n",
            "Requirement already satisfied: decorator>=3.0.0 in /usr/local/lib/python3.7/dist-packages (from librosa) (4.4.2)\n",
            "Requirement already satisfied: pooch>=1.0 in /usr/local/lib/python3.7/dist-packages (from librosa) (1.6.0)\n",
            "Requirement already satisfied: scipy>=1.0.0 in /usr/local/lib/python3.7/dist-packages (from librosa) (1.4.1)\n",
            "Requirement already satisfied: audioread>=2.0.0 in /usr/local/lib/python3.7/dist-packages (from librosa) (2.1.9)\n",
            "Requirement already satisfied: joblib>=0.14 in /usr/local/lib/python3.7/dist-packages (from librosa) (1.1.0)\n",
            "Requirement already satisfied: packaging>=20.0 in /usr/local/lib/python3.7/dist-packages (from librosa) (21.3)\n",
            "Requirement already satisfied: numba>=0.43.0 in /usr/local/lib/python3.7/dist-packages (from librosa) (0.51.2)\n",
            "Requirement already satisfied: llvmlite<0.35,>=0.34.0.dev0 in /usr/local/lib/python3.7/dist-packages (from numba>=0.43.0->librosa) (0.34.0)\n",
            "Requirement already satisfied: setuptools in /usr/local/lib/python3.7/dist-packages (from numba>=0.43.0->librosa) (57.4.0)\n",
            "Requirement already satisfied: pyparsing!=3.0.5,>=2.0.2 in /usr/local/lib/python3.7/dist-packages (from packaging>=20.0->librosa) (3.0.7)\n",
            "Requirement already satisfied: appdirs>=1.3.0 in /usr/local/lib/python3.7/dist-packages (from pooch>=1.0->librosa) (1.4.4)\n",
            "Requirement already satisfied: requests>=2.19.0 in /usr/local/lib/python3.7/dist-packages (from pooch>=1.0->librosa) (2.23.0)\n",
            "Requirement already satisfied: idna<3,>=2.5 in /usr/local/lib/python3.7/dist-packages (from requests>=2.19.0->pooch>=1.0->librosa) (2.10)\n",
            "Requirement already satisfied: chardet<4,>=3.0.2 in /usr/local/lib/python3.7/dist-packages (from requests>=2.19.0->pooch>=1.0->librosa) (3.0.4)\n",
            "Requirement already satisfied: certifi>=2017.4.17 in /usr/local/lib/python3.7/dist-packages (from requests>=2.19.0->pooch>=1.0->librosa) (2021.10.8)\n",
            "Requirement already satisfied: urllib3!=1.25.0,!=1.25.1,<1.26,>=1.21.1 in /usr/local/lib/python3.7/dist-packages (from requests>=2.19.0->pooch>=1.0->librosa) (1.24.3)\n",
            "Requirement already satisfied: six>=1.3 in /usr/local/lib/python3.7/dist-packages (from resampy>=0.2.2->librosa) (1.15.0)\n",
            "Requirement already satisfied: threadpoolctl>=2.0.0 in /usr/local/lib/python3.7/dist-packages (from scikit-learn!=0.19.0,>=0.14.0->librosa) (3.1.0)\n",
            "Requirement already satisfied: cffi>=1.0 in /usr/local/lib/python3.7/dist-packages (from soundfile>=0.10.2->librosa) (1.15.0)\n",
            "Requirement already satisfied: pycparser in /usr/local/lib/python3.7/dist-packages (from cffi>=1.0->soundfile>=0.10.2->librosa) (2.21)\n"
          ]
        }
      ]
    },
    {
      "cell_type": "code",
      "source": [
        ""
      ],
      "metadata": {
        "id": "wsaoikiQGfqd"
      },
      "execution_count": null,
      "outputs": []
    },
    {
      "cell_type": "code",
      "metadata": {
        "id": "HJjcbxwy46bG",
        "colab": {
          "base_uri": "https://localhost:8080/",
          "height": 17
        },
        "outputId": "42ae1014-69fc-43ef-d4ec-9efe9b266223"
      },
      "source": [
        "# Orignial Notebook: https://github.com/MITESHPUTHRANNEU/Speech-Emotion-Analyzer/blob/master/final_results_gender_test.ipynb\n",
        "# This notebook author: Reza Chu\n",
        "# Last Editing Date: 31st May 2019\n",
        "\n",
        "## Python\n",
        "import os\n",
        "import random\n",
        "import sys\n",
        "\n",
        "import IPython\n",
        "from IPython.display import Audio\n",
        "from IPython.display import Image\n",
        "import matplotlib.pyplot as plt\n",
        "\n",
        "## Package\n",
        "import glob \n",
        "import keras\n",
        "import IPython.display as ipd\n",
        "import librosa\n",
        "import librosa.display\n",
        "import matplotlib.pyplot as plt\n",
        "import numpy as np\n",
        "import pandas as pd\n",
        "import plotly.graph_objs as go\n",
        "import plotly.offline as py\n",
        "import plotly.tools as tls\n",
        "import seaborn as sns\n",
        "import scipy.io.wavfile\n",
        "import tensorflow as tf\n",
        "py.init_notebook_mode(connected=True)\n",
        "\n",
        "## Keras\n",
        "from keras import regularizers\n",
        "from keras.callbacks import ModelCheckpoint, LearningRateScheduler, EarlyStopping\n",
        "from keras.callbacks import  History, ReduceLROnPlateau, CSVLogger\n",
        "from keras.models import Model, Sequential\n",
        "from keras.layers import Dense, Embedding, LSTM\n",
        "from keras.layers import Input, Flatten, Dropout, Activation, BatchNormalization\n",
        "from keras.layers import Conv1D, MaxPooling1D, AveragePooling1D\n",
        "from keras.preprocessing import sequence\n",
        "from keras.preprocessing.sequence import pad_sequences\n",
        "from keras.preprocessing.text import Tokenizer\n",
        "from keras.utils import np_utils\n",
        "from tensorflow.keras.utils import to_categorical\n",
        "\n",
        "## Sklearn\n",
        "from sklearn.metrics import confusion_matrix\n",
        "from sklearn.preprocessing import LabelEncoder\n",
        "\n",
        "## Rest\n",
        "from scipy.fftpack import fft\n",
        "from scipy import signal\n",
        "from scipy.io import wavfile\n",
        "from tqdm import tqdm\n",
        "\n",
        "input_duration=3\n",
        "# % pylab inline"
      ],
      "execution_count": 3,
      "outputs": [
        {
          "output_type": "display_data",
          "data": {
            "text/html": [
              "        <script type=\"text/javascript\">\n",
              "        window.PlotlyConfig = {MathJaxConfig: 'local'};\n",
              "        if (window.MathJax) {MathJax.Hub.Config({SVG: {font: \"STIX-Web\"}});}\n",
              "        if (typeof require !== 'undefined') {\n",
              "        require.undef(\"plotly\");\n",
              "        requirejs.config({\n",
              "            paths: {\n",
              "                'plotly': ['https://cdn.plot.ly/plotly-2.8.3.min']\n",
              "            }\n",
              "        });\n",
              "        require(['plotly'], function(Plotly) {\n",
              "            window._Plotly = Plotly;\n",
              "        });\n",
              "        }\n",
              "        </script>\n",
              "        "
            ]
          },
          "metadata": {}
        }
      ]
    },
    {
      "cell_type": "code",
      "source": [
        "#radvass speech and song\n",
        "import time\n",
        "import os\n",
        "import librosa\n",
        "from librosa import display\n",
        "import matplotlib.pyplot as plt\n",
        "\n",
        "count=0\n",
        "path1 = '/content/drive/My Drive/data_set/RAVDESS_speech'\n",
        "path2 = '/content/drive/My Drive/data_set/RAVDESS_song'\n",
        "\n",
        "lst = []\n",
        "\n",
        "start_time = time.time()\n",
        "\n",
        "for subdir, dirs, files in os.walk(path2):\n",
        "  print(dirs)\n",
        "  print(subdir)\n",
        "  #print(files)\n",
        "  for file in files:\n",
        "      try:\n",
        "        count +=1\n",
        "        #Load librosa array, obtain mfcss, store the file and the mcss information in a new array\n",
        "        X, sample_rate = librosa.load(os.path.join(subdir,file), res_type='kaiser_fast')\n",
        "        mfccs = np.mean(librosa.feature.mfcc(y=X, sr=sample_rate, n_mfcc=40).T,axis=0) \n",
        "        # The instruction below converts the labels (from 1 to 8) to a series from 0 to 7\n",
        "        # This is because our predictor needs to start from 0 otherwise it will try to predict also 0.\n",
        "        file = int(file[7:8]) - 1 \n",
        "        arr = mfccs, file\n",
        "        lst.append(arr)\n",
        "      # If the file is not valid, skip it\n",
        "      except ValueError:\n",
        "        continue\n",
        "\n",
        "for subdir, dirs, files in os.walk(path1):\n",
        "  print(dirs)\n",
        "  print(subdir)\n",
        " # print(files)\n",
        "  for file in files:\n",
        "      try:\n",
        "        #Load librosa array, obtain mfcss, store the file and the mcss information in a new array\n",
        "        X, sample_rate = librosa.load(os.path.join(subdir,file), res_type='kaiser_fast')\n",
        "        mfccs = np.mean(librosa.feature.mfcc(y=X, sr=sample_rate, n_mfcc=40).T,axis=0) \n",
        "        # The instruction below converts the labels (from 1 to 8) to a series from 0 to 7\n",
        "        # This is because our predictor needs to start from 0 otherwise it will try to predict also 0.\n",
        "        file = int(file[7:8]) - 1 \n",
        "        if(file ==6 or file==7):\n",
        "          continue\n",
        "        count +=1\n",
        "        arr = mfccs, file\n",
        "        lst.append(arr)\n",
        "      # If the file is not valid, skip it\n",
        "      except ValueError:\n",
        "        continue\n",
        "\n",
        "\n",
        "\n",
        "print(\"--- Data loaded. Loading time: %s seconds ---\" % (time.time() - start_time))"
      ],
      "metadata": {
        "colab": {
          "base_uri": "https://localhost:8080/"
        },
        "id": "IfuyRZl42ccZ",
        "outputId": "783e448c-9fb2-40a9-fad6-920410ade15b"
      },
      "execution_count": 4,
      "outputs": [
        {
          "output_type": "stream",
          "name": "stdout",
          "text": [
            "['Actor_10', 'Actor_11', 'Actor_13', 'Actor_12', 'Actor_14', 'Actor_15', 'Actor_16', 'Actor_17', 'Actor_18', 'Actor_19', 'Actor_21', 'Actor_22', 'Actor_23', 'Actor_09', 'Actor_24', 'Actor_04', 'Actor_08', 'Actor_03', 'Actor_02', 'Actor_06', 'Actor_05', 'Actor_01', 'Actor_07', 'Actor_20']\n",
            "/content/drive/My Drive/data_set/RAVDESS_song\n",
            "[]\n",
            "/content/drive/My Drive/data_set/RAVDESS_song/Actor_10\n",
            "[]\n",
            "/content/drive/My Drive/data_set/RAVDESS_song/Actor_11\n",
            "[]\n",
            "/content/drive/My Drive/data_set/RAVDESS_song/Actor_13\n",
            "[]\n",
            "/content/drive/My Drive/data_set/RAVDESS_song/Actor_12\n",
            "[]\n",
            "/content/drive/My Drive/data_set/RAVDESS_song/Actor_14\n",
            "[]\n",
            "/content/drive/My Drive/data_set/RAVDESS_song/Actor_15\n",
            "[]\n",
            "/content/drive/My Drive/data_set/RAVDESS_song/Actor_16\n",
            "[]\n",
            "/content/drive/My Drive/data_set/RAVDESS_song/Actor_17\n",
            "[]\n",
            "/content/drive/My Drive/data_set/RAVDESS_song/Actor_18\n",
            "[]\n",
            "/content/drive/My Drive/data_set/RAVDESS_song/Actor_19\n",
            "[]\n",
            "/content/drive/My Drive/data_set/RAVDESS_song/Actor_21\n",
            "[]\n",
            "/content/drive/My Drive/data_set/RAVDESS_song/Actor_22\n",
            "[]\n",
            "/content/drive/My Drive/data_set/RAVDESS_song/Actor_23\n",
            "[]\n",
            "/content/drive/My Drive/data_set/RAVDESS_song/Actor_09\n",
            "[]\n",
            "/content/drive/My Drive/data_set/RAVDESS_song/Actor_24\n",
            "[]\n",
            "/content/drive/My Drive/data_set/RAVDESS_song/Actor_04\n",
            "[]\n",
            "/content/drive/My Drive/data_set/RAVDESS_song/Actor_08\n",
            "[]\n",
            "/content/drive/My Drive/data_set/RAVDESS_song/Actor_03\n",
            "[]\n",
            "/content/drive/My Drive/data_set/RAVDESS_song/Actor_02\n",
            "[]\n",
            "/content/drive/My Drive/data_set/RAVDESS_song/Actor_06\n",
            "[]\n",
            "/content/drive/My Drive/data_set/RAVDESS_song/Actor_05\n",
            "[]\n",
            "/content/drive/My Drive/data_set/RAVDESS_song/Actor_01\n",
            "[]\n",
            "/content/drive/My Drive/data_set/RAVDESS_song/Actor_07\n",
            "[]\n",
            "/content/drive/My Drive/data_set/RAVDESS_song/Actor_20\n",
            "['Actor_05', 'Actor_08', 'Actor_10', 'Actor_04', 'Actor_09', 'Actor_14', 'Actor_12', 'Actor_13', 'Actor_11', 'Actor_06', 'Actor_24', 'Actor_07', 'Actor_23', 'Actor_22', 'Actor_21', 'Actor_20', 'Actor_02', 'Actor_19', 'Actor_18', 'Actor_17', 'Actor_16', 'Actor_15', 'Actor_03', 'Actor_01']\n",
            "/content/drive/My Drive/data_set/RAVDESS_speech\n",
            "[]\n",
            "/content/drive/My Drive/data_set/RAVDESS_speech/Actor_05\n",
            "[]\n",
            "/content/drive/My Drive/data_set/RAVDESS_speech/Actor_08\n",
            "[]\n",
            "/content/drive/My Drive/data_set/RAVDESS_speech/Actor_10\n",
            "[]\n",
            "/content/drive/My Drive/data_set/RAVDESS_speech/Actor_04\n",
            "[]\n",
            "/content/drive/My Drive/data_set/RAVDESS_speech/Actor_09\n",
            "[]\n",
            "/content/drive/My Drive/data_set/RAVDESS_speech/Actor_14\n",
            "[]\n",
            "/content/drive/My Drive/data_set/RAVDESS_speech/Actor_12\n",
            "[]\n",
            "/content/drive/My Drive/data_set/RAVDESS_speech/Actor_13\n",
            "[]\n",
            "/content/drive/My Drive/data_set/RAVDESS_speech/Actor_11\n",
            "[]\n",
            "/content/drive/My Drive/data_set/RAVDESS_speech/Actor_06\n",
            "[]\n",
            "/content/drive/My Drive/data_set/RAVDESS_speech/Actor_24\n",
            "[]\n",
            "/content/drive/My Drive/data_set/RAVDESS_speech/Actor_07\n",
            "[]\n",
            "/content/drive/My Drive/data_set/RAVDESS_speech/Actor_23\n",
            "[]\n",
            "/content/drive/My Drive/data_set/RAVDESS_speech/Actor_22\n",
            "[]\n",
            "/content/drive/My Drive/data_set/RAVDESS_speech/Actor_21\n",
            "[]\n",
            "/content/drive/My Drive/data_set/RAVDESS_speech/Actor_20\n",
            "[]\n",
            "/content/drive/My Drive/data_set/RAVDESS_speech/Actor_02\n",
            "[]\n",
            "/content/drive/My Drive/data_set/RAVDESS_speech/Actor_19\n",
            "[]\n",
            "/content/drive/My Drive/data_set/RAVDESS_speech/Actor_18\n",
            "[]\n",
            "/content/drive/My Drive/data_set/RAVDESS_speech/Actor_17\n",
            "[]\n",
            "/content/drive/My Drive/data_set/RAVDESS_speech/Actor_16\n",
            "[]\n",
            "/content/drive/My Drive/data_set/RAVDESS_speech/Actor_15\n",
            "[]\n",
            "/content/drive/My Drive/data_set/RAVDESS_speech/Actor_03\n",
            "[]\n",
            "/content/drive/My Drive/data_set/RAVDESS_speech/Actor_01\n",
            "--- Data loaded. Loading time: 236.10654950141907 seconds ---\n"
          ]
        }
      ]
    },
    {
      "cell_type": "code",
      "source": [
        "count"
      ],
      "metadata": {
        "id": "Ltlhi25L2AI5",
        "colab": {
          "base_uri": "https://localhost:8080/"
        },
        "outputId": "304b0f6e-df14-4ec6-8247-06597775b793"
      },
      "execution_count": 5,
      "outputs": [
        {
          "output_type": "execute_result",
          "data": {
            "text/plain": [
              "2068"
            ]
          },
          "metadata": {},
          "execution_count": 5
        }
      ]
    },
    {
      "cell_type": "code",
      "source": [
        "from numpy.core.fromnumeric import size\n",
        "size(lst)"
      ],
      "metadata": {
        "id": "HMOH7d7mzHB7",
        "colab": {
          "base_uri": "https://localhost:8080/"
        },
        "outputId": "1b26a117-e3be-49dd-dbeb-d67ff30df2c2"
      },
      "execution_count": 6,
      "outputs": [
        {
          "output_type": "stream",
          "name": "stderr",
          "text": [
            "/usr/local/lib/python3.7/dist-packages/numpy/core/fromnumeric.py:3208: VisibleDeprecationWarning:\n",
            "\n",
            "Creating an ndarray from ragged nested sequences (which is a list-or-tuple of lists-or-tuples-or ndarrays with different lengths or shapes) is deprecated. If you meant to do this, you must specify 'dtype=object' when creating the ndarray.\n",
            "\n"
          ]
        },
        {
          "output_type": "execute_result",
          "data": {
            "text/plain": [
              "4136"
            ]
          },
          "metadata": {},
          "execution_count": 6
        }
      ]
    },
    {
      "cell_type": "code",
      "source": [
        "# Creating X and y: zip makes a list of all the first elements, and a list of all the second elements.\n",
        "X, y = zip(*lst)"
      ],
      "metadata": {
        "id": "ocdL7tSTBoMt"
      },
      "execution_count": 7,
      "outputs": []
    },
    {
      "cell_type": "code",
      "source": [
        "import numpy as np\n",
        "X = np.asarray(X)\n",
        "y = np.asarray(y)\n",
        "X.shape, y.shape"
      ],
      "metadata": {
        "id": "vHKwUGTbBtnF",
        "colab": {
          "base_uri": "https://localhost:8080/"
        },
        "outputId": "d58d11df-684e-44c4-cd1f-7f5570ec52f5"
      },
      "execution_count": 8,
      "outputs": [
        {
          "output_type": "execute_result",
          "data": {
            "text/plain": [
              "((2068, 40), (2068,))"
            ]
          },
          "metadata": {},
          "execution_count": 8
        }
      ]
    },
    {
      "cell_type": "code",
      "source": [
        "X.shape"
      ],
      "metadata": {
        "id": "2sUCtbfMztE5",
        "colab": {
          "base_uri": "https://localhost:8080/"
        },
        "outputId": "d8c6ae40-18f6-452c-dade-89102d45a0ea"
      },
      "execution_count": 9,
      "outputs": [
        {
          "output_type": "execute_result",
          "data": {
            "text/plain": [
              "(2068, 40)"
            ]
          },
          "metadata": {},
          "execution_count": 9
        }
      ]
    },
    {
      "cell_type": "code",
      "source": [
        "# Saving joblib files to not load them again with the loop above\n",
        "\n",
        "import joblib\n",
        "\n",
        "X_name = 'saveex5.joblib'\n",
        "y_name = 'saveey5.joblib'\n",
        "save_dir = '/content/drive/My Drive/graduation project/audio/improvement1/features'\n",
        "\n",
        "savedX = joblib.dump(X, os.path.join(save_dir, X_name))\n",
        "savedy = joblib.dump(y, os.path.join(save_dir, y_name))"
      ],
      "metadata": {
        "id": "UCzic8rlDcuk"
      },
      "execution_count": 10,
      "outputs": []
    },
    {
      "cell_type": "code",
      "source": [
        "# Loading saved models\n",
        "import joblib\n",
        "X = joblib.load('/content/drive/My Drive/models/CNN_2/last/features/speech&songx6.joblib')\n",
        "y = joblib.load('/content/drive/My Drive/models/CNN_2/last/features/speech&songy6.joblib')"
      ],
      "metadata": {
        "id": "Q35CN6zDrzg1"
      },
      "execution_count": 11,
      "outputs": []
    },
    {
      "cell_type": "code",
      "source": [
        "from sklearn.model_selection import train_test_split\n",
        "\n",
        "X_train, X_test, y_train, y_test = train_test_split(X,y, test_size=0.2,train_size=0.8, random_state=42)\n",
        "X_valid, X_test, y_valid, y_test = train_test_split(X_test,y_test, test_size=0.5,train_size=0.5, random_state=42)"
      ],
      "metadata": {
        "id": "Ai4Fy5cPCiq1"
      },
      "execution_count": 12,
      "outputs": []
    },
    {
      "cell_type": "code",
      "source": [
        "X.shape"
      ],
      "metadata": {
        "colab": {
          "base_uri": "https://localhost:8080/"
        },
        "id": "7PSTurzjCo5K",
        "outputId": "9a0631b9-fc13-4a54-fe96-103c5b418bce"
      },
      "execution_count": 13,
      "outputs": [
        {
          "output_type": "execute_result",
          "data": {
            "text/plain": [
              "(2068, 40)"
            ]
          },
          "metadata": {},
          "execution_count": 13
        }
      ]
    },
    {
      "cell_type": "code",
      "source": [
        "import numpy as np\n",
        "x_traincnn = np.expand_dims(X_train, axis=2)\n",
        "x_testcnn = np.expand_dims(X_test, axis=2)\n",
        "X_valid= np.expand_dims(X_valid, axis=2)"
      ],
      "metadata": {
        "id": "tp1Fm5K3CEXu"
      },
      "execution_count": 14,
      "outputs": []
    },
    {
      "cell_type": "code",
      "source": [
        "x_traincnn.shape, x_testcnn.shape , X_valid.shape"
      ],
      "metadata": {
        "id": "RI0MxoIPBws5",
        "colab": {
          "base_uri": "https://localhost:8080/"
        },
        "outputId": "3fb49330-55c8-4899-ec37-197b52cad275"
      },
      "execution_count": 15,
      "outputs": [
        {
          "output_type": "execute_result",
          "data": {
            "text/plain": [
              "((1654, 40, 1), (207, 40, 1), (207, 40, 1))"
            ]
          },
          "metadata": {},
          "execution_count": 15
        }
      ]
    },
    {
      "cell_type": "code",
      "source": [
        "!pip install tensorflow"
      ],
      "metadata": {
        "id": "goxL4Y3jKICC",
        "colab": {
          "base_uri": "https://localhost:8080/"
        },
        "outputId": "66889aea-ea24-490e-85da-fe27caa154a3"
      },
      "execution_count": 16,
      "outputs": [
        {
          "output_type": "stream",
          "name": "stdout",
          "text": [
            "Requirement already satisfied: tensorflow in /usr/local/lib/python3.7/dist-packages (2.8.0)\n",
            "Requirement already satisfied: setuptools in /usr/local/lib/python3.7/dist-packages (from tensorflow) (57.4.0)\n",
            "Requirement already satisfied: tf-estimator-nightly==2.8.0.dev2021122109 in /usr/local/lib/python3.7/dist-packages (from tensorflow) (2.8.0.dev2021122109)\n",
            "Requirement already satisfied: libclang>=9.0.1 in /usr/local/lib/python3.7/dist-packages (from tensorflow) (13.0.0)\n",
            "Requirement already satisfied: termcolor>=1.1.0 in /usr/local/lib/python3.7/dist-packages (from tensorflow) (1.1.0)\n",
            "Requirement already satisfied: opt-einsum>=2.3.2 in /usr/local/lib/python3.7/dist-packages (from tensorflow) (3.3.0)\n",
            "Requirement already satisfied: absl-py>=0.4.0 in /usr/local/lib/python3.7/dist-packages (from tensorflow) (1.0.0)\n",
            "Requirement already satisfied: google-pasta>=0.1.1 in /usr/local/lib/python3.7/dist-packages (from tensorflow) (0.2.0)\n",
            "Requirement already satisfied: gast>=0.2.1 in /usr/local/lib/python3.7/dist-packages (from tensorflow) (0.5.3)\n",
            "Requirement already satisfied: grpcio<2.0,>=1.24.3 in /usr/local/lib/python3.7/dist-packages (from tensorflow) (1.44.0)\n",
            "Requirement already satisfied: typing-extensions>=3.6.6 in /usr/local/lib/python3.7/dist-packages (from tensorflow) (3.10.0.2)\n",
            "Requirement already satisfied: keras<2.9,>=2.8.0rc0 in /usr/local/lib/python3.7/dist-packages (from tensorflow) (2.8.0)\n",
            "Requirement already satisfied: keras-preprocessing>=1.1.1 in /usr/local/lib/python3.7/dist-packages (from tensorflow) (1.1.2)\n",
            "Requirement already satisfied: six>=1.12.0 in /usr/local/lib/python3.7/dist-packages (from tensorflow) (1.15.0)\n",
            "Requirement already satisfied: tensorflow-io-gcs-filesystem>=0.23.1 in /usr/local/lib/python3.7/dist-packages (from tensorflow) (0.24.0)\n",
            "Requirement already satisfied: astunparse>=1.6.0 in /usr/local/lib/python3.7/dist-packages (from tensorflow) (1.6.3)\n",
            "Requirement already satisfied: flatbuffers>=1.12 in /usr/local/lib/python3.7/dist-packages (from tensorflow) (2.0)\n",
            "Requirement already satisfied: protobuf>=3.9.2 in /usr/local/lib/python3.7/dist-packages (from tensorflow) (3.17.3)\n",
            "Requirement already satisfied: wrapt>=1.11.0 in /usr/local/lib/python3.7/dist-packages (from tensorflow) (1.13.3)\n",
            "Requirement already satisfied: h5py>=2.9.0 in /usr/local/lib/python3.7/dist-packages (from tensorflow) (3.1.0)\n",
            "Requirement already satisfied: numpy>=1.20 in /usr/local/lib/python3.7/dist-packages (from tensorflow) (1.21.5)\n",
            "Requirement already satisfied: tensorboard<2.9,>=2.8 in /usr/local/lib/python3.7/dist-packages (from tensorflow) (2.8.0)\n",
            "Requirement already satisfied: wheel<1.0,>=0.23.0 in /usr/local/lib/python3.7/dist-packages (from astunparse>=1.6.0->tensorflow) (0.37.1)\n",
            "Requirement already satisfied: cached-property in /usr/local/lib/python3.7/dist-packages (from h5py>=2.9.0->tensorflow) (1.5.2)\n",
            "Requirement already satisfied: google-auth<3,>=1.6.3 in /usr/local/lib/python3.7/dist-packages (from tensorboard<2.9,>=2.8->tensorflow) (1.35.0)\n",
            "Requirement already satisfied: tensorboard-data-server<0.7.0,>=0.6.0 in /usr/local/lib/python3.7/dist-packages (from tensorboard<2.9,>=2.8->tensorflow) (0.6.1)\n",
            "Requirement already satisfied: google-auth-oauthlib<0.5,>=0.4.1 in /usr/local/lib/python3.7/dist-packages (from tensorboard<2.9,>=2.8->tensorflow) (0.4.6)\n",
            "Requirement already satisfied: tensorboard-plugin-wit>=1.6.0 in /usr/local/lib/python3.7/dist-packages (from tensorboard<2.9,>=2.8->tensorflow) (1.8.1)\n",
            "Requirement already satisfied: requests<3,>=2.21.0 in /usr/local/lib/python3.7/dist-packages (from tensorboard<2.9,>=2.8->tensorflow) (2.23.0)\n",
            "Requirement already satisfied: werkzeug>=0.11.15 in /usr/local/lib/python3.7/dist-packages (from tensorboard<2.9,>=2.8->tensorflow) (1.0.1)\n",
            "Requirement already satisfied: markdown>=2.6.8 in /usr/local/lib/python3.7/dist-packages (from tensorboard<2.9,>=2.8->tensorflow) (3.3.6)\n",
            "Requirement already satisfied: rsa<5,>=3.1.4 in /usr/local/lib/python3.7/dist-packages (from google-auth<3,>=1.6.3->tensorboard<2.9,>=2.8->tensorflow) (4.8)\n",
            "Requirement already satisfied: pyasn1-modules>=0.2.1 in /usr/local/lib/python3.7/dist-packages (from google-auth<3,>=1.6.3->tensorboard<2.9,>=2.8->tensorflow) (0.2.8)\n",
            "Requirement already satisfied: cachetools<5.0,>=2.0.0 in /usr/local/lib/python3.7/dist-packages (from google-auth<3,>=1.6.3->tensorboard<2.9,>=2.8->tensorflow) (4.2.4)\n",
            "Requirement already satisfied: requests-oauthlib>=0.7.0 in /usr/local/lib/python3.7/dist-packages (from google-auth-oauthlib<0.5,>=0.4.1->tensorboard<2.9,>=2.8->tensorflow) (1.3.1)\n",
            "Requirement already satisfied: importlib-metadata>=4.4 in /usr/local/lib/python3.7/dist-packages (from markdown>=2.6.8->tensorboard<2.9,>=2.8->tensorflow) (4.11.2)\n",
            "Requirement already satisfied: zipp>=0.5 in /usr/local/lib/python3.7/dist-packages (from importlib-metadata>=4.4->markdown>=2.6.8->tensorboard<2.9,>=2.8->tensorflow) (3.7.0)\n",
            "Requirement already satisfied: pyasn1<0.5.0,>=0.4.6 in /usr/local/lib/python3.7/dist-packages (from pyasn1-modules>=0.2.1->google-auth<3,>=1.6.3->tensorboard<2.9,>=2.8->tensorflow) (0.4.8)\n",
            "Requirement already satisfied: chardet<4,>=3.0.2 in /usr/local/lib/python3.7/dist-packages (from requests<3,>=2.21.0->tensorboard<2.9,>=2.8->tensorflow) (3.0.4)\n",
            "Requirement already satisfied: certifi>=2017.4.17 in /usr/local/lib/python3.7/dist-packages (from requests<3,>=2.21.0->tensorboard<2.9,>=2.8->tensorflow) (2021.10.8)\n",
            "Requirement already satisfied: urllib3!=1.25.0,!=1.25.1,<1.26,>=1.21.1 in /usr/local/lib/python3.7/dist-packages (from requests<3,>=2.21.0->tensorboard<2.9,>=2.8->tensorflow) (1.24.3)\n",
            "Requirement already satisfied: idna<3,>=2.5 in /usr/local/lib/python3.7/dist-packages (from requests<3,>=2.21.0->tensorboard<2.9,>=2.8->tensorflow) (2.10)\n",
            "Requirement already satisfied: oauthlib>=3.0.0 in /usr/local/lib/python3.7/dist-packages (from requests-oauthlib>=0.7.0->google-auth-oauthlib<0.5,>=0.4.1->tensorboard<2.9,>=2.8->tensorflow) (3.2.0)\n"
          ]
        }
      ]
    },
    {
      "cell_type": "code",
      "source": [
        "!pip install keras"
      ],
      "metadata": {
        "id": "EkcmN9UrKSxj",
        "colab": {
          "base_uri": "https://localhost:8080/"
        },
        "outputId": "effdb578-5aca-4d27-ef4e-378fcd2bfc67"
      },
      "execution_count": 17,
      "outputs": [
        {
          "output_type": "stream",
          "name": "stdout",
          "text": [
            "Requirement already satisfied: keras in /usr/local/lib/python3.7/dist-packages (2.8.0)\n"
          ]
        }
      ]
    },
    {
      "cell_type": "code",
      "source": [
        "import keras\n",
        "import numpy as np\n",
        "import matplotlib.pyplot as plt\n",
        "import tensorflow as tf\n",
        "from keras.preprocessing import sequence\n",
        "from keras.models import Sequential\n",
        "from keras.layers import Dense, Embedding\n",
        "from tensorflow.keras.utils import to_categorical\n",
        "from keras.layers import Input, Flatten, Dropout, Activation\n",
        "from keras.layers import Conv1D, MaxPooling1D\n",
        "from keras.models import Model\n",
        "from keras.callbacks import ModelCheckpoint\n",
        "from tensorflow.keras import optimizers\n",
        "\n",
        "model = Sequential()\n",
        "\n",
        "model.add(Conv1D(128, 8,padding='same', #classifier.add(Convolution2D(64, (3, 3), padding = 'same', input_shape = (128, 128, 3), activation = 'relu'))\n",
        "                 input_shape=(40,1)))\n",
        "model.add(Activation('relu'))\n",
        "model.add(Dropout(0.3))\n",
        "model.add(MaxPooling1D(pool_size=(5)))\n",
        "\n",
        "\n",
        "model.add(Conv1D(256,8,padding='same',))\n",
        "model.add(Activation('relu'))\n",
        "model.add(Dropout(0.3))\n",
        "model.add(MaxPooling1D(pool_size=(5)))\n",
        "\n",
        "model.add(Flatten())\n",
        "\n",
        "model.add(Dense(256))\n",
        "model.add(Activation('relu'))\n",
        "model.add(Dense(256))\n",
        "model.add(Activation('relu'))\n",
        "\n",
        "model.add(Dense(6))\n",
        "model.add(Activation('softmax'))\n",
        "\n",
        "opt = tf.keras.optimizers.Adam(lr=0.00002)\n",
        "#opt = tf.keras.optimizers.RMSprop(lr=0.0001, rho=0.9, epsilon=1e-07, decay=0.0)\n",
        "#opt = tf.keras.optimizers.SGD(lr=0.001, momentum=0.0, decay=0.0, nesterov=False)"
      ],
      "metadata": {
        "id": "g74fXWVAC4Cr",
        "colab": {
          "base_uri": "https://localhost:8080/"
        },
        "outputId": "16859f84-a938-4652-bd99-57937a4c0916"
      },
      "execution_count": 17,
      "outputs": [
        {
          "output_type": "stream",
          "name": "stderr",
          "text": [
            "/usr/local/lib/python3.7/dist-packages/keras/optimizer_v2/adam.py:105: UserWarning:\n",
            "\n",
            "The `lr` argument is deprecated, use `learning_rate` instead.\n",
            "\n"
          ]
        }
      ]
    },
    {
      "cell_type": "code",
      "source": [
        "model.summary()"
      ],
      "metadata": {
        "colab": {
          "base_uri": "https://localhost:8080/"
        },
        "id": "H6ukOxAGC_I4",
        "outputId": "d124d008-7778-4134-a4c9-7777cd0556fb"
      },
      "execution_count": 18,
      "outputs": [
        {
          "output_type": "stream",
          "name": "stdout",
          "text": [
            "Model: \"sequential\"\n",
            "_________________________________________________________________\n",
            " Layer (type)                Output Shape              Param #   \n",
            "=================================================================\n",
            " conv1d (Conv1D)             (None, 40, 128)           1152      \n",
            "                                                                 \n",
            " activation (Activation)     (None, 40, 128)           0         \n",
            "                                                                 \n",
            " dropout (Dropout)           (None, 40, 128)           0         \n",
            "                                                                 \n",
            " max_pooling1d (MaxPooling1D  (None, 8, 128)           0         \n",
            " )                                                               \n",
            "                                                                 \n",
            " conv1d_1 (Conv1D)           (None, 8, 256)            262400    \n",
            "                                                                 \n",
            " activation_1 (Activation)   (None, 8, 256)            0         \n",
            "                                                                 \n",
            " dropout_1 (Dropout)         (None, 8, 256)            0         \n",
            "                                                                 \n",
            " max_pooling1d_1 (MaxPooling  (None, 1, 256)           0         \n",
            " 1D)                                                             \n",
            "                                                                 \n",
            " flatten (Flatten)           (None, 256)               0         \n",
            "                                                                 \n",
            " dense (Dense)               (None, 256)               65792     \n",
            "                                                                 \n",
            " activation_2 (Activation)   (None, 256)               0         \n",
            "                                                                 \n",
            " dense_1 (Dense)             (None, 256)               65792     \n",
            "                                                                 \n",
            " activation_3 (Activation)   (None, 256)               0         \n",
            "                                                                 \n",
            " dense_2 (Dense)             (None, 6)                 1542      \n",
            "                                                                 \n",
            " activation_4 (Activation)   (None, 6)                 0         \n",
            "                                                                 \n",
            "=================================================================\n",
            "Total params: 396,678\n",
            "Trainable params: 396,678\n",
            "Non-trainable params: 0\n",
            "_________________________________________________________________\n"
          ]
        }
      ]
    },
    {
      "cell_type": "code",
      "source": [
        "model.compile(loss='sparse_categorical_crossentropy',\n",
        "              optimizer=opt,\n",
        "              metrics=['accuracy'])"
      ],
      "metadata": {
        "id": "AbMlLNk4DCBM"
      },
      "execution_count": 19,
      "outputs": []
    },
    {
      "cell_type": "code",
      "source": [
        "#cnnhistory=model.fit(x_traincnn, y_train, batch_size=16, epochs=700, validation_data=(x_testcnn, y_test))\n",
        "cnnhistory=model.fit(x_traincnn, y_train, batch_size=16, epochs=500 , validation_data=(X_valid, y_valid))"
      ],
      "metadata": {
        "colab": {
          "base_uri": "https://localhost:8080/"
        },
        "id": "RI1v2AuADFhy",
        "outputId": "afb349ce-18c4-49d4-e688-4e4db01d1f76"
      },
      "execution_count": 20,
      "outputs": [
        {
          "output_type": "stream",
          "name": "stdout",
          "text": [
            "Epoch 1/500\n",
            "104/104 [==============================] - 5s 36ms/step - loss: 6.8479 - accuracy: 0.1705 - val_loss: 1.9311 - val_accuracy: 0.2126\n",
            "Epoch 2/500\n",
            "104/104 [==============================] - 2s 21ms/step - loss: 4.8581 - accuracy: 0.1838 - val_loss: 1.9913 - val_accuracy: 0.1981\n",
            "Epoch 3/500\n",
            "104/104 [==============================] - 2s 21ms/step - loss: 4.1600 - accuracy: 0.1862 - val_loss: 1.8433 - val_accuracy: 0.1981\n",
            "Epoch 4/500\n",
            "104/104 [==============================] - 2s 21ms/step - loss: 3.8243 - accuracy: 0.1814 - val_loss: 1.8401 - val_accuracy: 0.2609\n",
            "Epoch 5/500\n",
            "104/104 [==============================] - 2s 21ms/step - loss: 3.4133 - accuracy: 0.1911 - val_loss: 1.7653 - val_accuracy: 0.2319\n",
            "Epoch 6/500\n",
            "104/104 [==============================] - 2s 21ms/step - loss: 3.1514 - accuracy: 0.1983 - val_loss: 1.8031 - val_accuracy: 0.2222\n",
            "Epoch 7/500\n",
            "104/104 [==============================] - 2s 21ms/step - loss: 3.0085 - accuracy: 0.1838 - val_loss: 1.7522 - val_accuracy: 0.2609\n",
            "Epoch 8/500\n",
            "104/104 [==============================] - 2s 21ms/step - loss: 2.7292 - accuracy: 0.2164 - val_loss: 1.7356 - val_accuracy: 0.3237\n",
            "Epoch 9/500\n",
            "104/104 [==============================] - 2s 21ms/step - loss: 2.6315 - accuracy: 0.1868 - val_loss: 1.7320 - val_accuracy: 0.2415\n",
            "Epoch 10/500\n",
            "104/104 [==============================] - 2s 21ms/step - loss: 2.5419 - accuracy: 0.1971 - val_loss: 1.7126 - val_accuracy: 0.3092\n",
            "Epoch 11/500\n",
            "104/104 [==============================] - 2s 21ms/step - loss: 2.5001 - accuracy: 0.2068 - val_loss: 1.7086 - val_accuracy: 0.3527\n",
            "Epoch 12/500\n",
            "104/104 [==============================] - 2s 21ms/step - loss: 2.3592 - accuracy: 0.2231 - val_loss: 1.7457 - val_accuracy: 0.2271\n",
            "Epoch 13/500\n",
            "104/104 [==============================] - 2s 21ms/step - loss: 2.3400 - accuracy: 0.1971 - val_loss: 1.7174 - val_accuracy: 0.3092\n",
            "Epoch 14/500\n",
            "104/104 [==============================] - 2s 21ms/step - loss: 2.3268 - accuracy: 0.1929 - val_loss: 1.6976 - val_accuracy: 0.3188\n",
            "Epoch 15/500\n",
            "104/104 [==============================] - 2s 21ms/step - loss: 2.2062 - accuracy: 0.2134 - val_loss: 1.7274 - val_accuracy: 0.2464\n",
            "Epoch 16/500\n",
            "104/104 [==============================] - 2s 21ms/step - loss: 2.1782 - accuracy: 0.2140 - val_loss: 1.7227 - val_accuracy: 0.3188\n",
            "Epoch 17/500\n",
            "104/104 [==============================] - 2s 21ms/step - loss: 2.1223 - accuracy: 0.2170 - val_loss: 1.7128 - val_accuracy: 0.2222\n",
            "Epoch 18/500\n",
            "104/104 [==============================] - 4s 39ms/step - loss: 2.1017 - accuracy: 0.2388 - val_loss: 1.7149 - val_accuracy: 0.2560\n",
            "Epoch 19/500\n",
            "104/104 [==============================] - 3s 30ms/step - loss: 2.0727 - accuracy: 0.2098 - val_loss: 1.7201 - val_accuracy: 0.2754\n",
            "Epoch 20/500\n",
            "104/104 [==============================] - 2s 22ms/step - loss: 2.0283 - accuracy: 0.2297 - val_loss: 1.6898 - val_accuracy: 0.3527\n",
            "Epoch 21/500\n",
            "104/104 [==============================] - 2s 21ms/step - loss: 2.0572 - accuracy: 0.2104 - val_loss: 1.7130 - val_accuracy: 0.2560\n",
            "Epoch 22/500\n",
            "104/104 [==============================] - 2s 21ms/step - loss: 2.0381 - accuracy: 0.2140 - val_loss: 1.6981 - val_accuracy: 0.3430\n",
            "Epoch 23/500\n",
            "104/104 [==============================] - 2s 22ms/step - loss: 1.9846 - accuracy: 0.2255 - val_loss: 1.6946 - val_accuracy: 0.2609\n",
            "Epoch 24/500\n",
            "104/104 [==============================] - 2s 22ms/step - loss: 1.9712 - accuracy: 0.2291 - val_loss: 1.6859 - val_accuracy: 0.3623\n",
            "Epoch 25/500\n",
            "104/104 [==============================] - 2s 22ms/step - loss: 1.9413 - accuracy: 0.2261 - val_loss: 1.6871 - val_accuracy: 0.3720\n",
            "Epoch 26/500\n",
            "104/104 [==============================] - 2s 21ms/step - loss: 1.9621 - accuracy: 0.2352 - val_loss: 1.6873 - val_accuracy: 0.3478\n",
            "Epoch 27/500\n",
            "104/104 [==============================] - 2s 22ms/step - loss: 1.9022 - accuracy: 0.2449 - val_loss: 1.6717 - val_accuracy: 0.3285\n",
            "Epoch 28/500\n",
            "104/104 [==============================] - 2s 22ms/step - loss: 1.8881 - accuracy: 0.2455 - val_loss: 1.6910 - val_accuracy: 0.2899\n",
            "Epoch 29/500\n",
            "104/104 [==============================] - 2s 22ms/step - loss: 1.8347 - accuracy: 0.2545 - val_loss: 1.6789 - val_accuracy: 0.2464\n",
            "Epoch 30/500\n",
            "104/104 [==============================] - 2s 22ms/step - loss: 1.8982 - accuracy: 0.2600 - val_loss: 1.6861 - val_accuracy: 0.2367\n",
            "Epoch 31/500\n",
            "104/104 [==============================] - 2s 21ms/step - loss: 1.8529 - accuracy: 0.2612 - val_loss: 1.6857 - val_accuracy: 0.2705\n",
            "Epoch 32/500\n",
            "104/104 [==============================] - 2s 22ms/step - loss: 1.8166 - accuracy: 0.2612 - val_loss: 1.6686 - val_accuracy: 0.3237\n",
            "Epoch 33/500\n",
            "104/104 [==============================] - 2s 21ms/step - loss: 1.8501 - accuracy: 0.2588 - val_loss: 1.6895 - val_accuracy: 0.2609\n",
            "Epoch 34/500\n",
            "104/104 [==============================] - 2s 21ms/step - loss: 1.8083 - accuracy: 0.2727 - val_loss: 1.6745 - val_accuracy: 0.2560\n",
            "Epoch 35/500\n",
            "104/104 [==============================] - 2s 21ms/step - loss: 1.8311 - accuracy: 0.2467 - val_loss: 1.6676 - val_accuracy: 0.3623\n",
            "Epoch 36/500\n",
            "104/104 [==============================] - 2s 21ms/step - loss: 1.8310 - accuracy: 0.2503 - val_loss: 1.6627 - val_accuracy: 0.3043\n",
            "Epoch 37/500\n",
            "104/104 [==============================] - 2s 22ms/step - loss: 1.8087 - accuracy: 0.2612 - val_loss: 1.6558 - val_accuracy: 0.3816\n",
            "Epoch 38/500\n",
            "104/104 [==============================] - 2s 22ms/step - loss: 1.8282 - accuracy: 0.2455 - val_loss: 1.6456 - val_accuracy: 0.3527\n",
            "Epoch 39/500\n",
            "104/104 [==============================] - 2s 22ms/step - loss: 1.8078 - accuracy: 0.2588 - val_loss: 1.6597 - val_accuracy: 0.3285\n",
            "Epoch 40/500\n",
            "104/104 [==============================] - 2s 22ms/step - loss: 1.7580 - accuracy: 0.2618 - val_loss: 1.6588 - val_accuracy: 0.3527\n",
            "Epoch 41/500\n",
            "104/104 [==============================] - 2s 21ms/step - loss: 1.7888 - accuracy: 0.2636 - val_loss: 1.6560 - val_accuracy: 0.2995\n",
            "Epoch 42/500\n",
            "104/104 [==============================] - 2s 21ms/step - loss: 1.7544 - accuracy: 0.2696 - val_loss: 1.6670 - val_accuracy: 0.2947\n",
            "Epoch 43/500\n",
            "104/104 [==============================] - 2s 21ms/step - loss: 1.7685 - accuracy: 0.2672 - val_loss: 1.6313 - val_accuracy: 0.3961\n",
            "Epoch 44/500\n",
            "104/104 [==============================] - 2s 24ms/step - loss: 1.7562 - accuracy: 0.2775 - val_loss: 1.6281 - val_accuracy: 0.4058\n",
            "Epoch 45/500\n",
            "104/104 [==============================] - 2s 22ms/step - loss: 1.7309 - accuracy: 0.2799 - val_loss: 1.6329 - val_accuracy: 0.3188\n",
            "Epoch 46/500\n",
            "104/104 [==============================] - 2s 22ms/step - loss: 1.7399 - accuracy: 0.2817 - val_loss: 1.6267 - val_accuracy: 0.3671\n",
            "Epoch 47/500\n",
            "104/104 [==============================] - 2s 22ms/step - loss: 1.7135 - accuracy: 0.2878 - val_loss: 1.6215 - val_accuracy: 0.3575\n",
            "Epoch 48/500\n",
            "104/104 [==============================] - 2s 22ms/step - loss: 1.7137 - accuracy: 0.2830 - val_loss: 1.6079 - val_accuracy: 0.3913\n",
            "Epoch 49/500\n",
            "104/104 [==============================] - 2s 22ms/step - loss: 1.7091 - accuracy: 0.2926 - val_loss: 1.6152 - val_accuracy: 0.3527\n",
            "Epoch 50/500\n",
            "104/104 [==============================] - 2s 21ms/step - loss: 1.7301 - accuracy: 0.2908 - val_loss: 1.6051 - val_accuracy: 0.3527\n",
            "Epoch 51/500\n",
            "104/104 [==============================] - 3s 24ms/step - loss: 1.7162 - accuracy: 0.2787 - val_loss: 1.6197 - val_accuracy: 0.3575\n",
            "Epoch 52/500\n",
            "104/104 [==============================] - 2s 21ms/step - loss: 1.6950 - accuracy: 0.3023 - val_loss: 1.5972 - val_accuracy: 0.3575\n",
            "Epoch 53/500\n",
            "104/104 [==============================] - 2s 22ms/step - loss: 1.6866 - accuracy: 0.3011 - val_loss: 1.6141 - val_accuracy: 0.3382\n",
            "Epoch 54/500\n",
            "104/104 [==============================] - 2s 21ms/step - loss: 1.6991 - accuracy: 0.2848 - val_loss: 1.5880 - val_accuracy: 0.3961\n",
            "Epoch 55/500\n",
            "104/104 [==============================] - 2s 22ms/step - loss: 1.6741 - accuracy: 0.3059 - val_loss: 1.5897 - val_accuracy: 0.4106\n",
            "Epoch 56/500\n",
            "104/104 [==============================] - 2s 21ms/step - loss: 1.6760 - accuracy: 0.3144 - val_loss: 1.6055 - val_accuracy: 0.3140\n",
            "Epoch 57/500\n",
            "104/104 [==============================] - 2s 21ms/step - loss: 1.6786 - accuracy: 0.2993 - val_loss: 1.5720 - val_accuracy: 0.3865\n",
            "Epoch 58/500\n",
            "104/104 [==============================] - 2s 22ms/step - loss: 1.6655 - accuracy: 0.3065 - val_loss: 1.5666 - val_accuracy: 0.3768\n",
            "Epoch 59/500\n",
            "104/104 [==============================] - 2s 22ms/step - loss: 1.6658 - accuracy: 0.3126 - val_loss: 1.5695 - val_accuracy: 0.3671\n",
            "Epoch 60/500\n",
            "104/104 [==============================] - 2s 22ms/step - loss: 1.6441 - accuracy: 0.3229 - val_loss: 1.5683 - val_accuracy: 0.3720\n",
            "Epoch 61/500\n",
            "104/104 [==============================] - 2s 21ms/step - loss: 1.6374 - accuracy: 0.3174 - val_loss: 1.5690 - val_accuracy: 0.3768\n",
            "Epoch 62/500\n",
            "104/104 [==============================] - 2s 22ms/step - loss: 1.6351 - accuracy: 0.3319 - val_loss: 1.5599 - val_accuracy: 0.3865\n",
            "Epoch 63/500\n",
            "104/104 [==============================] - 2s 22ms/step - loss: 1.6419 - accuracy: 0.3331 - val_loss: 1.5501 - val_accuracy: 0.3865\n",
            "Epoch 64/500\n",
            "104/104 [==============================] - 2s 22ms/step - loss: 1.6395 - accuracy: 0.3174 - val_loss: 1.5474 - val_accuracy: 0.3865\n",
            "Epoch 65/500\n",
            "104/104 [==============================] - 2s 22ms/step - loss: 1.6291 - accuracy: 0.3313 - val_loss: 1.5336 - val_accuracy: 0.4155\n",
            "Epoch 66/500\n",
            "104/104 [==============================] - 2s 22ms/step - loss: 1.6269 - accuracy: 0.3476 - val_loss: 1.5377 - val_accuracy: 0.4010\n",
            "Epoch 67/500\n",
            "104/104 [==============================] - 2s 21ms/step - loss: 1.6107 - accuracy: 0.3265 - val_loss: 1.5348 - val_accuracy: 0.4058\n",
            "Epoch 68/500\n",
            "104/104 [==============================] - 2s 21ms/step - loss: 1.6189 - accuracy: 0.3271 - val_loss: 1.5172 - val_accuracy: 0.3913\n",
            "Epoch 69/500\n",
            "104/104 [==============================] - 2s 22ms/step - loss: 1.5808 - accuracy: 0.3452 - val_loss: 1.5109 - val_accuracy: 0.4106\n",
            "Epoch 70/500\n",
            "104/104 [==============================] - 2s 22ms/step - loss: 1.5859 - accuracy: 0.3440 - val_loss: 1.5050 - val_accuracy: 0.3768\n",
            "Epoch 71/500\n",
            "104/104 [==============================] - 2s 22ms/step - loss: 1.6051 - accuracy: 0.3356 - val_loss: 1.5114 - val_accuracy: 0.3913\n",
            "Epoch 72/500\n",
            "104/104 [==============================] - 2s 22ms/step - loss: 1.5827 - accuracy: 0.3531 - val_loss: 1.4971 - val_accuracy: 0.4203\n",
            "Epoch 73/500\n",
            "104/104 [==============================] - 2s 21ms/step - loss: 1.5713 - accuracy: 0.3440 - val_loss: 1.5095 - val_accuracy: 0.3913\n",
            "Epoch 74/500\n",
            "104/104 [==============================] - 2s 21ms/step - loss: 1.5966 - accuracy: 0.3464 - val_loss: 1.4940 - val_accuracy: 0.4251\n",
            "Epoch 75/500\n",
            "104/104 [==============================] - 2s 22ms/step - loss: 1.5827 - accuracy: 0.3489 - val_loss: 1.5135 - val_accuracy: 0.4300\n",
            "Epoch 76/500\n",
            "104/104 [==============================] - 2s 22ms/step - loss: 1.5608 - accuracy: 0.3464 - val_loss: 1.4828 - val_accuracy: 0.4348\n",
            "Epoch 77/500\n",
            "104/104 [==============================] - 2s 22ms/step - loss: 1.5510 - accuracy: 0.3628 - val_loss: 1.4719 - val_accuracy: 0.4300\n",
            "Epoch 78/500\n",
            "104/104 [==============================] - 2s 22ms/step - loss: 1.5897 - accuracy: 0.3368 - val_loss: 1.4706 - val_accuracy: 0.4348\n",
            "Epoch 79/500\n",
            "104/104 [==============================] - 2s 22ms/step - loss: 1.5455 - accuracy: 0.3682 - val_loss: 1.4689 - val_accuracy: 0.4348\n",
            "Epoch 80/500\n",
            "104/104 [==============================] - 2s 22ms/step - loss: 1.5252 - accuracy: 0.3712 - val_loss: 1.4639 - val_accuracy: 0.4155\n",
            "Epoch 81/500\n",
            "104/104 [==============================] - 2s 22ms/step - loss: 1.5376 - accuracy: 0.3688 - val_loss: 1.4478 - val_accuracy: 0.4493\n",
            "Epoch 82/500\n",
            "104/104 [==============================] - 2s 22ms/step - loss: 1.5350 - accuracy: 0.3646 - val_loss: 1.4448 - val_accuracy: 0.4444\n",
            "Epoch 83/500\n",
            "104/104 [==============================] - 2s 22ms/step - loss: 1.5183 - accuracy: 0.3694 - val_loss: 1.4522 - val_accuracy: 0.4300\n",
            "Epoch 84/500\n",
            "104/104 [==============================] - 2s 22ms/step - loss: 1.5174 - accuracy: 0.3845 - val_loss: 1.4320 - val_accuracy: 0.4879\n",
            "Epoch 85/500\n",
            "104/104 [==============================] - 2s 22ms/step - loss: 1.5204 - accuracy: 0.3797 - val_loss: 1.4309 - val_accuracy: 0.4589\n",
            "Epoch 86/500\n",
            "104/104 [==============================] - 2s 22ms/step - loss: 1.5069 - accuracy: 0.3833 - val_loss: 1.4544 - val_accuracy: 0.4155\n",
            "Epoch 87/500\n",
            "104/104 [==============================] - 2s 22ms/step - loss: 1.5043 - accuracy: 0.3767 - val_loss: 1.4176 - val_accuracy: 0.4783\n",
            "Epoch 88/500\n",
            "104/104 [==============================] - 2s 22ms/step - loss: 1.4913 - accuracy: 0.3863 - val_loss: 1.4194 - val_accuracy: 0.4396\n",
            "Epoch 89/500\n",
            "104/104 [==============================] - 2s 22ms/step - loss: 1.4815 - accuracy: 0.3912 - val_loss: 1.4089 - val_accuracy: 0.4589\n",
            "Epoch 90/500\n",
            "104/104 [==============================] - 2s 22ms/step - loss: 1.4671 - accuracy: 0.3984 - val_loss: 1.3914 - val_accuracy: 0.4783\n",
            "Epoch 91/500\n",
            "104/104 [==============================] - 2s 22ms/step - loss: 1.4867 - accuracy: 0.3984 - val_loss: 1.4029 - val_accuracy: 0.4831\n",
            "Epoch 92/500\n",
            "104/104 [==============================] - 2s 22ms/step - loss: 1.4538 - accuracy: 0.3984 - val_loss: 1.3913 - val_accuracy: 0.4541\n",
            "Epoch 93/500\n",
            "104/104 [==============================] - 2s 22ms/step - loss: 1.4744 - accuracy: 0.3918 - val_loss: 1.3658 - val_accuracy: 0.5121\n",
            "Epoch 94/500\n",
            "104/104 [==============================] - 2s 22ms/step - loss: 1.4582 - accuracy: 0.4045 - val_loss: 1.3780 - val_accuracy: 0.5121\n",
            "Epoch 95/500\n",
            "104/104 [==============================] - 2s 22ms/step - loss: 1.4508 - accuracy: 0.4081 - val_loss: 1.3678 - val_accuracy: 0.5314\n",
            "Epoch 96/500\n",
            "104/104 [==============================] - 2s 22ms/step - loss: 1.4457 - accuracy: 0.3960 - val_loss: 1.3587 - val_accuracy: 0.5266\n",
            "Epoch 97/500\n",
            "104/104 [==============================] - 2s 22ms/step - loss: 1.4452 - accuracy: 0.4148 - val_loss: 1.3448 - val_accuracy: 0.5266\n",
            "Epoch 98/500\n",
            "104/104 [==============================] - 2s 22ms/step - loss: 1.4217 - accuracy: 0.4226 - val_loss: 1.3470 - val_accuracy: 0.5314\n",
            "Epoch 99/500\n",
            "104/104 [==============================] - 2s 22ms/step - loss: 1.4123 - accuracy: 0.4329 - val_loss: 1.3366 - val_accuracy: 0.5507\n",
            "Epoch 100/500\n",
            "104/104 [==============================] - 2s 22ms/step - loss: 1.4223 - accuracy: 0.4190 - val_loss: 1.3377 - val_accuracy: 0.5411\n",
            "Epoch 101/500\n",
            "104/104 [==============================] - 2s 22ms/step - loss: 1.4294 - accuracy: 0.4311 - val_loss: 1.3430 - val_accuracy: 0.4831\n",
            "Epoch 102/500\n",
            "104/104 [==============================] - 2s 22ms/step - loss: 1.4317 - accuracy: 0.4184 - val_loss: 1.3444 - val_accuracy: 0.5217\n",
            "Epoch 103/500\n",
            "104/104 [==============================] - 2s 22ms/step - loss: 1.3960 - accuracy: 0.4414 - val_loss: 1.3265 - val_accuracy: 0.5072\n",
            "Epoch 104/500\n",
            "104/104 [==============================] - 2s 22ms/step - loss: 1.4240 - accuracy: 0.4154 - val_loss: 1.3062 - val_accuracy: 0.5652\n",
            "Epoch 105/500\n",
            "104/104 [==============================] - 2s 22ms/step - loss: 1.4109 - accuracy: 0.4214 - val_loss: 1.3213 - val_accuracy: 0.5217\n",
            "Epoch 106/500\n",
            "104/104 [==============================] - 2s 23ms/step - loss: 1.4158 - accuracy: 0.4281 - val_loss: 1.3176 - val_accuracy: 0.5266\n",
            "Epoch 107/500\n",
            "104/104 [==============================] - 2s 22ms/step - loss: 1.3929 - accuracy: 0.4274 - val_loss: 1.3121 - val_accuracy: 0.5411\n",
            "Epoch 108/500\n",
            "104/104 [==============================] - 2s 22ms/step - loss: 1.3830 - accuracy: 0.4426 - val_loss: 1.3029 - val_accuracy: 0.5507\n",
            "Epoch 109/500\n",
            "104/104 [==============================] - 2s 22ms/step - loss: 1.3825 - accuracy: 0.4335 - val_loss: 1.3047 - val_accuracy: 0.5700\n",
            "Epoch 110/500\n",
            "104/104 [==============================] - 2s 22ms/step - loss: 1.3904 - accuracy: 0.4323 - val_loss: 1.3039 - val_accuracy: 0.5459\n",
            "Epoch 111/500\n",
            "104/104 [==============================] - 2s 22ms/step - loss: 1.3703 - accuracy: 0.4619 - val_loss: 1.2972 - val_accuracy: 0.5556\n",
            "Epoch 112/500\n",
            "104/104 [==============================] - 2s 22ms/step - loss: 1.3580 - accuracy: 0.4353 - val_loss: 1.2923 - val_accuracy: 0.5700\n",
            "Epoch 113/500\n",
            "104/104 [==============================] - 2s 22ms/step - loss: 1.3731 - accuracy: 0.4444 - val_loss: 1.2831 - val_accuracy: 0.5700\n",
            "Epoch 114/500\n",
            "104/104 [==============================] - 2s 22ms/step - loss: 1.3531 - accuracy: 0.4534 - val_loss: 1.2835 - val_accuracy: 0.5362\n",
            "Epoch 115/500\n",
            "104/104 [==============================] - 2s 22ms/step - loss: 1.3498 - accuracy: 0.4534 - val_loss: 1.2627 - val_accuracy: 0.5604\n",
            "Epoch 116/500\n",
            "104/104 [==============================] - 2s 22ms/step - loss: 1.3200 - accuracy: 0.4571 - val_loss: 1.2800 - val_accuracy: 0.5266\n",
            "Epoch 117/500\n",
            "104/104 [==============================] - 2s 22ms/step - loss: 1.3620 - accuracy: 0.4516 - val_loss: 1.2676 - val_accuracy: 0.5459\n",
            "Epoch 118/500\n",
            "104/104 [==============================] - 2s 22ms/step - loss: 1.3502 - accuracy: 0.4438 - val_loss: 1.2852 - val_accuracy: 0.5314\n",
            "Epoch 119/500\n",
            "104/104 [==============================] - 2s 22ms/step - loss: 1.3465 - accuracy: 0.4486 - val_loss: 1.2459 - val_accuracy: 0.5507\n",
            "Epoch 120/500\n",
            "104/104 [==============================] - 2s 22ms/step - loss: 1.3334 - accuracy: 0.4522 - val_loss: 1.2678 - val_accuracy: 0.5314\n",
            "Epoch 121/500\n",
            "104/104 [==============================] - 2s 22ms/step - loss: 1.3333 - accuracy: 0.4631 - val_loss: 1.2467 - val_accuracy: 0.5652\n",
            "Epoch 122/500\n",
            "104/104 [==============================] - 2s 22ms/step - loss: 1.3226 - accuracy: 0.4740 - val_loss: 1.2510 - val_accuracy: 0.5556\n",
            "Epoch 123/500\n",
            "104/104 [==============================] - 2s 23ms/step - loss: 1.3325 - accuracy: 0.4498 - val_loss: 1.2344 - val_accuracy: 0.5700\n",
            "Epoch 124/500\n",
            "104/104 [==============================] - 2s 22ms/step - loss: 1.3165 - accuracy: 0.4710 - val_loss: 1.2282 - val_accuracy: 0.5797\n",
            "Epoch 125/500\n",
            "104/104 [==============================] - 2s 22ms/step - loss: 1.3082 - accuracy: 0.4686 - val_loss: 1.2616 - val_accuracy: 0.5652\n",
            "Epoch 126/500\n",
            "104/104 [==============================] - 2s 22ms/step - loss: 1.3079 - accuracy: 0.4758 - val_loss: 1.2244 - val_accuracy: 0.5797\n",
            "Epoch 127/500\n",
            "104/104 [==============================] - 2s 23ms/step - loss: 1.3034 - accuracy: 0.4849 - val_loss: 1.2236 - val_accuracy: 0.5652\n",
            "Epoch 128/500\n",
            "104/104 [==============================] - 2s 22ms/step - loss: 1.3040 - accuracy: 0.4764 - val_loss: 1.2140 - val_accuracy: 0.5845\n",
            "Epoch 129/500\n",
            "104/104 [==============================] - 2s 22ms/step - loss: 1.3202 - accuracy: 0.4655 - val_loss: 1.2167 - val_accuracy: 0.5749\n",
            "Epoch 130/500\n",
            "104/104 [==============================] - 2s 22ms/step - loss: 1.2835 - accuracy: 0.4819 - val_loss: 1.2210 - val_accuracy: 0.5652\n",
            "Epoch 131/500\n",
            "104/104 [==============================] - 2s 22ms/step - loss: 1.3098 - accuracy: 0.4794 - val_loss: 1.2316 - val_accuracy: 0.5797\n",
            "Epoch 132/500\n",
            "104/104 [==============================] - 2s 23ms/step - loss: 1.2830 - accuracy: 0.4843 - val_loss: 1.2247 - val_accuracy: 0.5604\n",
            "Epoch 133/500\n",
            "104/104 [==============================] - 2s 22ms/step - loss: 1.2805 - accuracy: 0.4728 - val_loss: 1.2163 - val_accuracy: 0.5942\n",
            "Epoch 134/500\n",
            "104/104 [==============================] - 2s 24ms/step - loss: 1.2660 - accuracy: 0.4867 - val_loss: 1.2138 - val_accuracy: 0.5700\n",
            "Epoch 135/500\n",
            "104/104 [==============================] - 2s 23ms/step - loss: 1.2775 - accuracy: 0.4879 - val_loss: 1.2264 - val_accuracy: 0.5845\n",
            "Epoch 136/500\n",
            "104/104 [==============================] - 2s 22ms/step - loss: 1.2734 - accuracy: 0.4873 - val_loss: 1.2041 - val_accuracy: 0.5797\n",
            "Epoch 137/500\n",
            "104/104 [==============================] - 2s 22ms/step - loss: 1.2813 - accuracy: 0.4861 - val_loss: 1.2225 - val_accuracy: 0.5652\n",
            "Epoch 138/500\n",
            "104/104 [==============================] - 2s 22ms/step - loss: 1.2721 - accuracy: 0.4970 - val_loss: 1.1921 - val_accuracy: 0.5942\n",
            "Epoch 139/500\n",
            "104/104 [==============================] - 2s 22ms/step - loss: 1.2627 - accuracy: 0.4927 - val_loss: 1.2079 - val_accuracy: 0.5894\n",
            "Epoch 140/500\n",
            "104/104 [==============================] - 2s 23ms/step - loss: 1.2541 - accuracy: 0.4885 - val_loss: 1.1937 - val_accuracy: 0.5845\n",
            "Epoch 141/500\n",
            "104/104 [==============================] - 2s 22ms/step - loss: 1.2788 - accuracy: 0.4770 - val_loss: 1.1842 - val_accuracy: 0.6184\n",
            "Epoch 142/500\n",
            "104/104 [==============================] - 2s 22ms/step - loss: 1.2400 - accuracy: 0.5054 - val_loss: 1.1853 - val_accuracy: 0.6087\n",
            "Epoch 143/500\n",
            "104/104 [==============================] - 2s 22ms/step - loss: 1.2412 - accuracy: 0.5006 - val_loss: 1.1925 - val_accuracy: 0.5652\n",
            "Epoch 144/500\n",
            "104/104 [==============================] - 2s 22ms/step - loss: 1.2428 - accuracy: 0.4909 - val_loss: 1.1688 - val_accuracy: 0.6039\n",
            "Epoch 145/500\n",
            "104/104 [==============================] - 2s 22ms/step - loss: 1.2453 - accuracy: 0.5127 - val_loss: 1.1742 - val_accuracy: 0.5797\n",
            "Epoch 146/500\n",
            "104/104 [==============================] - 2s 22ms/step - loss: 1.2277 - accuracy: 0.5073 - val_loss: 1.1748 - val_accuracy: 0.5942\n",
            "Epoch 147/500\n",
            "104/104 [==============================] - 2s 22ms/step - loss: 1.2177 - accuracy: 0.5054 - val_loss: 1.1592 - val_accuracy: 0.5797\n",
            "Epoch 148/500\n",
            "104/104 [==============================] - 2s 23ms/step - loss: 1.2173 - accuracy: 0.5042 - val_loss: 1.1725 - val_accuracy: 0.5894\n",
            "Epoch 149/500\n",
            "104/104 [==============================] - 2s 22ms/step - loss: 1.2251 - accuracy: 0.5048 - val_loss: 1.1673 - val_accuracy: 0.5990\n",
            "Epoch 150/500\n",
            "104/104 [==============================] - 2s 22ms/step - loss: 1.2143 - accuracy: 0.5193 - val_loss: 1.1532 - val_accuracy: 0.6039\n",
            "Epoch 151/500\n",
            "104/104 [==============================] - 2s 22ms/step - loss: 1.2211 - accuracy: 0.5036 - val_loss: 1.1451 - val_accuracy: 0.5990\n",
            "Epoch 152/500\n",
            "104/104 [==============================] - 2s 22ms/step - loss: 1.2139 - accuracy: 0.5121 - val_loss: 1.1351 - val_accuracy: 0.5797\n",
            "Epoch 153/500\n",
            "104/104 [==============================] - 2s 22ms/step - loss: 1.2115 - accuracy: 0.5133 - val_loss: 1.1338 - val_accuracy: 0.5845\n",
            "Epoch 154/500\n",
            "104/104 [==============================] - 2s 22ms/step - loss: 1.1855 - accuracy: 0.5242 - val_loss: 1.1403 - val_accuracy: 0.6039\n",
            "Epoch 155/500\n",
            "104/104 [==============================] - 2s 22ms/step - loss: 1.2056 - accuracy: 0.5284 - val_loss: 1.1439 - val_accuracy: 0.5990\n",
            "Epoch 156/500\n",
            "104/104 [==============================] - 2s 22ms/step - loss: 1.2094 - accuracy: 0.5224 - val_loss: 1.1451 - val_accuracy: 0.5894\n",
            "Epoch 157/500\n",
            "104/104 [==============================] - 2s 22ms/step - loss: 1.1876 - accuracy: 0.5236 - val_loss: 1.1297 - val_accuracy: 0.5749\n",
            "Epoch 158/500\n",
            "104/104 [==============================] - 2s 22ms/step - loss: 1.1935 - accuracy: 0.5200 - val_loss: 1.1349 - val_accuracy: 0.5749\n",
            "Epoch 159/500\n",
            "104/104 [==============================] - 2s 23ms/step - loss: 1.2004 - accuracy: 0.5212 - val_loss: 1.1367 - val_accuracy: 0.6184\n",
            "Epoch 160/500\n",
            "104/104 [==============================] - 2s 22ms/step - loss: 1.1847 - accuracy: 0.5181 - val_loss: 1.1180 - val_accuracy: 0.6039\n",
            "Epoch 161/500\n",
            "104/104 [==============================] - 2s 22ms/step - loss: 1.1733 - accuracy: 0.5254 - val_loss: 1.1283 - val_accuracy: 0.5700\n",
            "Epoch 162/500\n",
            "104/104 [==============================] - 2s 22ms/step - loss: 1.1665 - accuracy: 0.5151 - val_loss: 1.1294 - val_accuracy: 0.5845\n",
            "Epoch 163/500\n",
            "104/104 [==============================] - 2s 23ms/step - loss: 1.1955 - accuracy: 0.5200 - val_loss: 1.1243 - val_accuracy: 0.5845\n",
            "Epoch 164/500\n",
            "104/104 [==============================] - 2s 23ms/step - loss: 1.1825 - accuracy: 0.5169 - val_loss: 1.1380 - val_accuracy: 0.5700\n",
            "Epoch 165/500\n",
            "104/104 [==============================] - 2s 22ms/step - loss: 1.1879 - accuracy: 0.5248 - val_loss: 1.1393 - val_accuracy: 0.5990\n",
            "Epoch 166/500\n",
            "104/104 [==============================] - 2s 22ms/step - loss: 1.1594 - accuracy: 0.5393 - val_loss: 1.1260 - val_accuracy: 0.5845\n",
            "Epoch 167/500\n",
            "104/104 [==============================] - 2s 23ms/step - loss: 1.1564 - accuracy: 0.5375 - val_loss: 1.1103 - val_accuracy: 0.5894\n",
            "Epoch 168/500\n",
            "104/104 [==============================] - 2s 22ms/step - loss: 1.1736 - accuracy: 0.5236 - val_loss: 1.1106 - val_accuracy: 0.5894\n",
            "Epoch 169/500\n",
            "104/104 [==============================] - 2s 22ms/step - loss: 1.1709 - accuracy: 0.5320 - val_loss: 1.1176 - val_accuracy: 0.5797\n",
            "Epoch 170/500\n",
            "104/104 [==============================] - 2s 22ms/step - loss: 1.1653 - accuracy: 0.5411 - val_loss: 1.0975 - val_accuracy: 0.6184\n",
            "Epoch 171/500\n",
            "104/104 [==============================] - 2s 22ms/step - loss: 1.1408 - accuracy: 0.5617 - val_loss: 1.1034 - val_accuracy: 0.6135\n",
            "Epoch 172/500\n",
            "104/104 [==============================] - 2s 22ms/step - loss: 1.1434 - accuracy: 0.5399 - val_loss: 1.0884 - val_accuracy: 0.5990\n",
            "Epoch 173/500\n",
            "104/104 [==============================] - 2s 22ms/step - loss: 1.1373 - accuracy: 0.5435 - val_loss: 1.0809 - val_accuracy: 0.6135\n",
            "Epoch 174/500\n",
            "104/104 [==============================] - 2s 22ms/step - loss: 1.1515 - accuracy: 0.5375 - val_loss: 1.0935 - val_accuracy: 0.6039\n",
            "Epoch 175/500\n",
            "104/104 [==============================] - 2s 22ms/step - loss: 1.1365 - accuracy: 0.5478 - val_loss: 1.0784 - val_accuracy: 0.6087\n",
            "Epoch 176/500\n",
            "104/104 [==============================] - 2s 22ms/step - loss: 1.1232 - accuracy: 0.5556 - val_loss: 1.0785 - val_accuracy: 0.5894\n",
            "Epoch 177/500\n",
            "104/104 [==============================] - 2s 22ms/step - loss: 1.1349 - accuracy: 0.5423 - val_loss: 1.0803 - val_accuracy: 0.6232\n",
            "Epoch 178/500\n",
            "104/104 [==============================] - 2s 22ms/step - loss: 1.1308 - accuracy: 0.5405 - val_loss: 1.0728 - val_accuracy: 0.5942\n",
            "Epoch 179/500\n",
            "104/104 [==============================] - 2s 22ms/step - loss: 1.1376 - accuracy: 0.5453 - val_loss: 1.0763 - val_accuracy: 0.6039\n",
            "Epoch 180/500\n",
            "104/104 [==============================] - 2s 22ms/step - loss: 1.1127 - accuracy: 0.5623 - val_loss: 1.0766 - val_accuracy: 0.6087\n",
            "Epoch 181/500\n",
            "104/104 [==============================] - 2s 22ms/step - loss: 1.1250 - accuracy: 0.5659 - val_loss: 1.0685 - val_accuracy: 0.6184\n",
            "Epoch 182/500\n",
            "104/104 [==============================] - 2s 22ms/step - loss: 1.1231 - accuracy: 0.5508 - val_loss: 1.0738 - val_accuracy: 0.6039\n",
            "Epoch 183/500\n",
            "104/104 [==============================] - 2s 22ms/step - loss: 1.1208 - accuracy: 0.5580 - val_loss: 1.0619 - val_accuracy: 0.6039\n",
            "Epoch 184/500\n",
            "104/104 [==============================] - 2s 23ms/step - loss: 1.1111 - accuracy: 0.5635 - val_loss: 1.0731 - val_accuracy: 0.6039\n",
            "Epoch 185/500\n",
            "104/104 [==============================] - 2s 23ms/step - loss: 1.1251 - accuracy: 0.5580 - val_loss: 1.0693 - val_accuracy: 0.6280\n",
            "Epoch 186/500\n",
            "104/104 [==============================] - 2s 23ms/step - loss: 1.0985 - accuracy: 0.5435 - val_loss: 1.0639 - val_accuracy: 0.6232\n",
            "Epoch 187/500\n",
            "104/104 [==============================] - 2s 22ms/step - loss: 1.0899 - accuracy: 0.5719 - val_loss: 1.0585 - val_accuracy: 0.5990\n",
            "Epoch 188/500\n",
            "104/104 [==============================] - 2s 23ms/step - loss: 1.1101 - accuracy: 0.5514 - val_loss: 1.0696 - val_accuracy: 0.6329\n",
            "Epoch 189/500\n",
            "104/104 [==============================] - 2s 22ms/step - loss: 1.0967 - accuracy: 0.5520 - val_loss: 1.0450 - val_accuracy: 0.6184\n",
            "Epoch 190/500\n",
            "104/104 [==============================] - 2s 22ms/step - loss: 1.1047 - accuracy: 0.5732 - val_loss: 1.0455 - val_accuracy: 0.6232\n",
            "Epoch 191/500\n",
            "104/104 [==============================] - 2s 22ms/step - loss: 1.0664 - accuracy: 0.5732 - val_loss: 1.0489 - val_accuracy: 0.5942\n",
            "Epoch 192/500\n",
            "104/104 [==============================] - 2s 23ms/step - loss: 1.0989 - accuracy: 0.5701 - val_loss: 1.0471 - val_accuracy: 0.5894\n",
            "Epoch 193/500\n",
            "104/104 [==============================] - 2s 23ms/step - loss: 1.0853 - accuracy: 0.5798 - val_loss: 1.0389 - val_accuracy: 0.6232\n",
            "Epoch 194/500\n",
            "104/104 [==============================] - 2s 22ms/step - loss: 1.0615 - accuracy: 0.5726 - val_loss: 1.0506 - val_accuracy: 0.6039\n",
            "Epoch 195/500\n",
            "104/104 [==============================] - 2s 23ms/step - loss: 1.0637 - accuracy: 0.5859 - val_loss: 1.0344 - val_accuracy: 0.6135\n",
            "Epoch 196/500\n",
            "104/104 [==============================] - 2s 22ms/step - loss: 1.0825 - accuracy: 0.5726 - val_loss: 1.0412 - val_accuracy: 0.5942\n",
            "Epoch 197/500\n",
            "104/104 [==============================] - 2s 22ms/step - loss: 1.0723 - accuracy: 0.5792 - val_loss: 1.0406 - val_accuracy: 0.6280\n",
            "Epoch 198/500\n",
            "104/104 [==============================] - 2s 23ms/step - loss: 1.0744 - accuracy: 0.5792 - val_loss: 1.0421 - val_accuracy: 0.5942\n",
            "Epoch 199/500\n",
            "104/104 [==============================] - 2s 23ms/step - loss: 1.0653 - accuracy: 0.5719 - val_loss: 1.0490 - val_accuracy: 0.6087\n",
            "Epoch 200/500\n",
            "104/104 [==============================] - 2s 23ms/step - loss: 1.0715 - accuracy: 0.5744 - val_loss: 1.0330 - val_accuracy: 0.6184\n",
            "Epoch 201/500\n",
            "104/104 [==============================] - 2s 23ms/step - loss: 1.0605 - accuracy: 0.5719 - val_loss: 1.0192 - val_accuracy: 0.6280\n",
            "Epoch 202/500\n",
            "104/104 [==============================] - 2s 23ms/step - loss: 1.0533 - accuracy: 0.5786 - val_loss: 1.0222 - val_accuracy: 0.6087\n",
            "Epoch 203/500\n",
            "104/104 [==============================] - 2s 22ms/step - loss: 1.0459 - accuracy: 0.5931 - val_loss: 1.0336 - val_accuracy: 0.5990\n",
            "Epoch 204/500\n",
            "104/104 [==============================] - 2s 22ms/step - loss: 1.0515 - accuracy: 0.5726 - val_loss: 1.0343 - val_accuracy: 0.5845\n",
            "Epoch 205/500\n",
            "104/104 [==============================] - 2s 22ms/step - loss: 1.0579 - accuracy: 0.5786 - val_loss: 1.0127 - val_accuracy: 0.6135\n",
            "Epoch 206/500\n",
            "104/104 [==============================] - 2s 22ms/step - loss: 1.0405 - accuracy: 0.5859 - val_loss: 1.0112 - val_accuracy: 0.6087\n",
            "Epoch 207/500\n",
            "104/104 [==============================] - 2s 22ms/step - loss: 1.0390 - accuracy: 0.5889 - val_loss: 1.0266 - val_accuracy: 0.6232\n",
            "Epoch 208/500\n",
            "104/104 [==============================] - 2s 22ms/step - loss: 1.0286 - accuracy: 0.5937 - val_loss: 1.0255 - val_accuracy: 0.6184\n",
            "Epoch 209/500\n",
            "104/104 [==============================] - 2s 22ms/step - loss: 1.0394 - accuracy: 0.5852 - val_loss: 1.0252 - val_accuracy: 0.6039\n",
            "Epoch 210/500\n",
            "104/104 [==============================] - 2s 22ms/step - loss: 1.0618 - accuracy: 0.5683 - val_loss: 1.0143 - val_accuracy: 0.6135\n",
            "Epoch 211/500\n",
            "104/104 [==============================] - 2s 22ms/step - loss: 1.0401 - accuracy: 0.5762 - val_loss: 1.0065 - val_accuracy: 0.6329\n",
            "Epoch 212/500\n",
            "104/104 [==============================] - 2s 22ms/step - loss: 1.0231 - accuracy: 0.5955 - val_loss: 1.0056 - val_accuracy: 0.6184\n",
            "Epoch 213/500\n",
            "104/104 [==============================] - 2s 22ms/step - loss: 1.0563 - accuracy: 0.5719 - val_loss: 0.9920 - val_accuracy: 0.6473\n",
            "Epoch 214/500\n",
            "104/104 [==============================] - 2s 23ms/step - loss: 1.0274 - accuracy: 0.5949 - val_loss: 0.9946 - val_accuracy: 0.6232\n",
            "Epoch 215/500\n",
            "104/104 [==============================] - 2s 22ms/step - loss: 1.0347 - accuracy: 0.5955 - val_loss: 1.0014 - val_accuracy: 0.6087\n",
            "Epoch 216/500\n",
            "104/104 [==============================] - 2s 22ms/step - loss: 1.0417 - accuracy: 0.5762 - val_loss: 1.0120 - val_accuracy: 0.6039\n",
            "Epoch 217/500\n",
            "104/104 [==============================] - 2s 22ms/step - loss: 1.0364 - accuracy: 0.5883 - val_loss: 1.0205 - val_accuracy: 0.6280\n",
            "Epoch 218/500\n",
            "104/104 [==============================] - 2s 22ms/step - loss: 1.0198 - accuracy: 0.5998 - val_loss: 0.9993 - val_accuracy: 0.6232\n",
            "Epoch 219/500\n",
            "104/104 [==============================] - 2s 22ms/step - loss: 1.0156 - accuracy: 0.5919 - val_loss: 0.9953 - val_accuracy: 0.6425\n",
            "Epoch 220/500\n",
            "104/104 [==============================] - 2s 22ms/step - loss: 1.0165 - accuracy: 0.6070 - val_loss: 0.9947 - val_accuracy: 0.6377\n",
            "Epoch 221/500\n",
            "104/104 [==============================] - 2s 22ms/step - loss: 1.0052 - accuracy: 0.6112 - val_loss: 1.0073 - val_accuracy: 0.6473\n",
            "Epoch 222/500\n",
            "104/104 [==============================] - 2s 23ms/step - loss: 1.0445 - accuracy: 0.5925 - val_loss: 0.9934 - val_accuracy: 0.6087\n",
            "Epoch 223/500\n",
            "104/104 [==============================] - 2s 22ms/step - loss: 1.0103 - accuracy: 0.5846 - val_loss: 0.9900 - val_accuracy: 0.6329\n",
            "Epoch 224/500\n",
            "104/104 [==============================] - 2s 22ms/step - loss: 0.9961 - accuracy: 0.6258 - val_loss: 0.9772 - val_accuracy: 0.6377\n",
            "Epoch 225/500\n",
            "104/104 [==============================] - 2s 22ms/step - loss: 1.0144 - accuracy: 0.5943 - val_loss: 0.9802 - val_accuracy: 0.6135\n",
            "Epoch 226/500\n",
            "104/104 [==============================] - 2s 23ms/step - loss: 0.9926 - accuracy: 0.6088 - val_loss: 0.9803 - val_accuracy: 0.6329\n",
            "Epoch 227/500\n",
            "104/104 [==============================] - 2s 22ms/step - loss: 1.0036 - accuracy: 0.5998 - val_loss: 1.0078 - val_accuracy: 0.5942\n",
            "Epoch 228/500\n",
            "104/104 [==============================] - 2s 22ms/step - loss: 1.0061 - accuracy: 0.5913 - val_loss: 0.9830 - val_accuracy: 0.6377\n",
            "Epoch 229/500\n",
            "104/104 [==============================] - 2s 23ms/step - loss: 0.9969 - accuracy: 0.6143 - val_loss: 0.9870 - val_accuracy: 0.6232\n",
            "Epoch 230/500\n",
            "104/104 [==============================] - 2s 23ms/step - loss: 1.0032 - accuracy: 0.6112 - val_loss: 0.9586 - val_accuracy: 0.6473\n",
            "Epoch 231/500\n",
            "104/104 [==============================] - 2s 23ms/step - loss: 0.9923 - accuracy: 0.5967 - val_loss: 0.9671 - val_accuracy: 0.6425\n",
            "Epoch 232/500\n",
            "104/104 [==============================] - 2s 23ms/step - loss: 0.9649 - accuracy: 0.6276 - val_loss: 0.9772 - val_accuracy: 0.6184\n",
            "Epoch 233/500\n",
            "104/104 [==============================] - 2s 22ms/step - loss: 0.9764 - accuracy: 0.6185 - val_loss: 0.9575 - val_accuracy: 0.6329\n",
            "Epoch 234/500\n",
            "104/104 [==============================] - 2s 23ms/step - loss: 0.9850 - accuracy: 0.6258 - val_loss: 0.9590 - val_accuracy: 0.6425\n",
            "Epoch 235/500\n",
            "104/104 [==============================] - 2s 23ms/step - loss: 0.9730 - accuracy: 0.6161 - val_loss: 0.9585 - val_accuracy: 0.6232\n",
            "Epoch 236/500\n",
            "104/104 [==============================] - 2s 24ms/step - loss: 0.9784 - accuracy: 0.6100 - val_loss: 0.9473 - val_accuracy: 0.6425\n",
            "Epoch 237/500\n",
            "104/104 [==============================] - 2s 23ms/step - loss: 0.9662 - accuracy: 0.6252 - val_loss: 0.9433 - val_accuracy: 0.6425\n",
            "Epoch 238/500\n",
            "104/104 [==============================] - 2s 23ms/step - loss: 0.9592 - accuracy: 0.6282 - val_loss: 0.9522 - val_accuracy: 0.6329\n",
            "Epoch 239/500\n",
            "104/104 [==============================] - 2s 23ms/step - loss: 0.9728 - accuracy: 0.6161 - val_loss: 0.9610 - val_accuracy: 0.6280\n",
            "Epoch 240/500\n",
            "104/104 [==============================] - 2s 23ms/step - loss: 0.9717 - accuracy: 0.6209 - val_loss: 0.9534 - val_accuracy: 0.6425\n",
            "Epoch 241/500\n",
            "104/104 [==============================] - 2s 23ms/step - loss: 0.9876 - accuracy: 0.5955 - val_loss: 0.9697 - val_accuracy: 0.6232\n",
            "Epoch 242/500\n",
            "104/104 [==============================] - 2s 23ms/step - loss: 0.9493 - accuracy: 0.6227 - val_loss: 0.9468 - val_accuracy: 0.6329\n",
            "Epoch 243/500\n",
            "104/104 [==============================] - 2s 23ms/step - loss: 0.9751 - accuracy: 0.6064 - val_loss: 0.9535 - val_accuracy: 0.6329\n",
            "Epoch 244/500\n",
            "104/104 [==============================] - 2s 23ms/step - loss: 0.9612 - accuracy: 0.6312 - val_loss: 0.9546 - val_accuracy: 0.6377\n",
            "Epoch 245/500\n",
            "104/104 [==============================] - 2s 22ms/step - loss: 0.9576 - accuracy: 0.6245 - val_loss: 0.9438 - val_accuracy: 0.6377\n",
            "Epoch 246/500\n",
            "104/104 [==============================] - 2s 23ms/step - loss: 0.9434 - accuracy: 0.6252 - val_loss: 0.9430 - val_accuracy: 0.6280\n",
            "Epoch 247/500\n",
            "104/104 [==============================] - 2s 23ms/step - loss: 0.9429 - accuracy: 0.6433 - val_loss: 0.9417 - val_accuracy: 0.6618\n",
            "Epoch 248/500\n",
            "104/104 [==============================] - 2s 22ms/step - loss: 0.9470 - accuracy: 0.6324 - val_loss: 0.9380 - val_accuracy: 0.6425\n",
            "Epoch 249/500\n",
            "104/104 [==============================] - 2s 23ms/step - loss: 0.9569 - accuracy: 0.6233 - val_loss: 0.9510 - val_accuracy: 0.6329\n",
            "Epoch 250/500\n",
            "104/104 [==============================] - 2s 22ms/step - loss: 0.9330 - accuracy: 0.6427 - val_loss: 0.9351 - val_accuracy: 0.6425\n",
            "Epoch 251/500\n",
            "104/104 [==============================] - 2s 23ms/step - loss: 0.9252 - accuracy: 0.6469 - val_loss: 0.9329 - val_accuracy: 0.6618\n",
            "Epoch 252/500\n",
            "104/104 [==============================] - 2s 23ms/step - loss: 0.9409 - accuracy: 0.6324 - val_loss: 0.9291 - val_accuracy: 0.6618\n",
            "Epoch 253/500\n",
            "104/104 [==============================] - 2s 23ms/step - loss: 0.9429 - accuracy: 0.6330 - val_loss: 0.9343 - val_accuracy: 0.6377\n",
            "Epoch 254/500\n",
            "104/104 [==============================] - 2s 23ms/step - loss: 0.9316 - accuracy: 0.6336 - val_loss: 0.9302 - val_accuracy: 0.6570\n",
            "Epoch 255/500\n",
            "104/104 [==============================] - 2s 23ms/step - loss: 0.9297 - accuracy: 0.6318 - val_loss: 0.9391 - val_accuracy: 0.6329\n",
            "Epoch 256/500\n",
            "104/104 [==============================] - 2s 23ms/step - loss: 0.9358 - accuracy: 0.6282 - val_loss: 0.9324 - val_accuracy: 0.6377\n",
            "Epoch 257/500\n",
            "104/104 [==============================] - 2s 23ms/step - loss: 0.9485 - accuracy: 0.6324 - val_loss: 0.9466 - val_accuracy: 0.6329\n",
            "Epoch 258/500\n",
            "104/104 [==============================] - 2s 23ms/step - loss: 0.9288 - accuracy: 0.6499 - val_loss: 0.9289 - val_accuracy: 0.6425\n",
            "Epoch 259/500\n",
            "104/104 [==============================] - 2s 23ms/step - loss: 0.9355 - accuracy: 0.6415 - val_loss: 0.9401 - val_accuracy: 0.6232\n",
            "Epoch 260/500\n",
            "104/104 [==============================] - 3s 24ms/step - loss: 0.9260 - accuracy: 0.6433 - val_loss: 0.9328 - val_accuracy: 0.6522\n",
            "Epoch 261/500\n",
            "104/104 [==============================] - 2s 23ms/step - loss: 0.9118 - accuracy: 0.6475 - val_loss: 0.9328 - val_accuracy: 0.6329\n",
            "Epoch 262/500\n",
            "104/104 [==============================] - 2s 24ms/step - loss: 0.9275 - accuracy: 0.6378 - val_loss: 0.9209 - val_accuracy: 0.6473\n",
            "Epoch 263/500\n",
            "104/104 [==============================] - 3s 31ms/step - loss: 0.9262 - accuracy: 0.6282 - val_loss: 0.9187 - val_accuracy: 0.6522\n",
            "Epoch 264/500\n",
            "104/104 [==============================] - 4s 42ms/step - loss: 0.9025 - accuracy: 0.6469 - val_loss: 0.9152 - val_accuracy: 0.6425\n",
            "Epoch 265/500\n",
            "104/104 [==============================] - 4s 35ms/step - loss: 0.9018 - accuracy: 0.6554 - val_loss: 0.9115 - val_accuracy: 0.6860\n",
            "Epoch 266/500\n",
            "104/104 [==============================] - 4s 36ms/step - loss: 0.9237 - accuracy: 0.6499 - val_loss: 0.9165 - val_accuracy: 0.6667\n",
            "Epoch 267/500\n",
            "104/104 [==============================] - 4s 37ms/step - loss: 0.8965 - accuracy: 0.6463 - val_loss: 0.9071 - val_accuracy: 0.6667\n",
            "Epoch 268/500\n",
            "104/104 [==============================] - 2s 23ms/step - loss: 0.9105 - accuracy: 0.6457 - val_loss: 0.9155 - val_accuracy: 0.6570\n",
            "Epoch 269/500\n",
            "104/104 [==============================] - 2s 23ms/step - loss: 0.9070 - accuracy: 0.6451 - val_loss: 0.9194 - val_accuracy: 0.6570\n",
            "Epoch 270/500\n",
            "104/104 [==============================] - 2s 23ms/step - loss: 0.9054 - accuracy: 0.6475 - val_loss: 0.9259 - val_accuracy: 0.6473\n",
            "Epoch 271/500\n",
            "104/104 [==============================] - 2s 23ms/step - loss: 0.9095 - accuracy: 0.6439 - val_loss: 0.9184 - val_accuracy: 0.6329\n",
            "Epoch 272/500\n",
            "104/104 [==============================] - 2s 23ms/step - loss: 0.9038 - accuracy: 0.6415 - val_loss: 0.9021 - val_accuracy: 0.6570\n",
            "Epoch 273/500\n",
            "104/104 [==============================] - 2s 23ms/step - loss: 0.8938 - accuracy: 0.6457 - val_loss: 0.9095 - val_accuracy: 0.6425\n",
            "Epoch 274/500\n",
            "104/104 [==============================] - 2s 23ms/step - loss: 0.8693 - accuracy: 0.6554 - val_loss: 0.9086 - val_accuracy: 0.6473\n",
            "Epoch 275/500\n",
            "104/104 [==============================] - 2s 23ms/step - loss: 0.8954 - accuracy: 0.6451 - val_loss: 0.8998 - val_accuracy: 0.6570\n",
            "Epoch 276/500\n",
            "104/104 [==============================] - 2s 23ms/step - loss: 0.8861 - accuracy: 0.6578 - val_loss: 0.9210 - val_accuracy: 0.6425\n",
            "Epoch 277/500\n",
            "104/104 [==============================] - 2s 23ms/step - loss: 0.8910 - accuracy: 0.6548 - val_loss: 0.8993 - val_accuracy: 0.6522\n",
            "Epoch 278/500\n",
            "104/104 [==============================] - 2s 23ms/step - loss: 0.8871 - accuracy: 0.6554 - val_loss: 0.9035 - val_accuracy: 0.6473\n",
            "Epoch 279/500\n",
            "104/104 [==============================] - 2s 23ms/step - loss: 0.8999 - accuracy: 0.6300 - val_loss: 0.9019 - val_accuracy: 0.6618\n",
            "Epoch 280/500\n",
            "104/104 [==============================] - 2s 23ms/step - loss: 0.8957 - accuracy: 0.6499 - val_loss: 0.9040 - val_accuracy: 0.6377\n",
            "Epoch 281/500\n",
            "104/104 [==============================] - 2s 23ms/step - loss: 0.8736 - accuracy: 0.6614 - val_loss: 0.8949 - val_accuracy: 0.6715\n",
            "Epoch 282/500\n",
            "104/104 [==============================] - 2s 23ms/step - loss: 0.8898 - accuracy: 0.6366 - val_loss: 0.9184 - val_accuracy: 0.6232\n",
            "Epoch 283/500\n",
            "104/104 [==============================] - 2s 23ms/step - loss: 0.8716 - accuracy: 0.6511 - val_loss: 0.8948 - val_accuracy: 0.6763\n",
            "Epoch 284/500\n",
            "104/104 [==============================] - 2s 22ms/step - loss: 0.8568 - accuracy: 0.6638 - val_loss: 0.9021 - val_accuracy: 0.6522\n",
            "Epoch 285/500\n",
            "104/104 [==============================] - 2s 23ms/step - loss: 0.8757 - accuracy: 0.6554 - val_loss: 0.8974 - val_accuracy: 0.6377\n",
            "Epoch 286/500\n",
            "104/104 [==============================] - 2s 22ms/step - loss: 0.8789 - accuracy: 0.6608 - val_loss: 0.9017 - val_accuracy: 0.6377\n",
            "Epoch 287/500\n",
            "104/104 [==============================] - 2s 23ms/step - loss: 0.8691 - accuracy: 0.6638 - val_loss: 0.8853 - val_accuracy: 0.6570\n",
            "Epoch 288/500\n",
            "104/104 [==============================] - 2s 23ms/step - loss: 0.8762 - accuracy: 0.6626 - val_loss: 0.8863 - val_accuracy: 0.6618\n",
            "Epoch 289/500\n",
            "104/104 [==============================] - 2s 23ms/step - loss: 0.8717 - accuracy: 0.6554 - val_loss: 0.8854 - val_accuracy: 0.6473\n",
            "Epoch 290/500\n",
            "104/104 [==============================] - 2s 23ms/step - loss: 0.8635 - accuracy: 0.6614 - val_loss: 0.8936 - val_accuracy: 0.6425\n",
            "Epoch 291/500\n",
            "104/104 [==============================] - 2s 23ms/step - loss: 0.8696 - accuracy: 0.6499 - val_loss: 0.8797 - val_accuracy: 0.6667\n",
            "Epoch 292/500\n",
            "104/104 [==============================] - 2s 23ms/step - loss: 0.8719 - accuracy: 0.6602 - val_loss: 0.8784 - val_accuracy: 0.6957\n",
            "Epoch 293/500\n",
            "104/104 [==============================] - 2s 23ms/step - loss: 0.8595 - accuracy: 0.6584 - val_loss: 0.8760 - val_accuracy: 0.6812\n",
            "Epoch 294/500\n",
            "104/104 [==============================] - 2s 22ms/step - loss: 0.8674 - accuracy: 0.6548 - val_loss: 0.8916 - val_accuracy: 0.6522\n",
            "Epoch 295/500\n",
            "104/104 [==============================] - 2s 23ms/step - loss: 0.8586 - accuracy: 0.6626 - val_loss: 0.8794 - val_accuracy: 0.6425\n",
            "Epoch 296/500\n",
            "104/104 [==============================] - 2s 22ms/step - loss: 0.8442 - accuracy: 0.6753 - val_loss: 0.8861 - val_accuracy: 0.6473\n",
            "Epoch 297/500\n",
            "104/104 [==============================] - 2s 23ms/step - loss: 0.8463 - accuracy: 0.6638 - val_loss: 0.8686 - val_accuracy: 0.6812\n",
            "Epoch 298/500\n",
            "104/104 [==============================] - 2s 23ms/step - loss: 0.8466 - accuracy: 0.6753 - val_loss: 0.8634 - val_accuracy: 0.6715\n",
            "Epoch 299/500\n",
            "104/104 [==============================] - 2s 23ms/step - loss: 0.8664 - accuracy: 0.6596 - val_loss: 0.8794 - val_accuracy: 0.6715\n",
            "Epoch 300/500\n",
            "104/104 [==============================] - 2s 23ms/step - loss: 0.8392 - accuracy: 0.6651 - val_loss: 0.8771 - val_accuracy: 0.6473\n",
            "Epoch 301/500\n",
            "104/104 [==============================] - 2s 23ms/step - loss: 0.8510 - accuracy: 0.6699 - val_loss: 0.8802 - val_accuracy: 0.6377\n",
            "Epoch 302/500\n",
            "104/104 [==============================] - 2s 23ms/step - loss: 0.8458 - accuracy: 0.6711 - val_loss: 0.8707 - val_accuracy: 0.6667\n",
            "Epoch 303/500\n",
            "104/104 [==============================] - 2s 23ms/step - loss: 0.8358 - accuracy: 0.6657 - val_loss: 0.8713 - val_accuracy: 0.6715\n",
            "Epoch 304/500\n",
            "104/104 [==============================] - 2s 23ms/step - loss: 0.8338 - accuracy: 0.6796 - val_loss: 0.8761 - val_accuracy: 0.6377\n",
            "Epoch 305/500\n",
            "104/104 [==============================] - 2s 23ms/step - loss: 0.8439 - accuracy: 0.6723 - val_loss: 0.8648 - val_accuracy: 0.6715\n",
            "Epoch 306/500\n",
            "104/104 [==============================] - 2s 23ms/step - loss: 0.8480 - accuracy: 0.6711 - val_loss: 0.8679 - val_accuracy: 0.6618\n",
            "Epoch 307/500\n",
            "104/104 [==============================] - 2s 23ms/step - loss: 0.8290 - accuracy: 0.6759 - val_loss: 0.8648 - val_accuracy: 0.6715\n",
            "Epoch 308/500\n",
            "104/104 [==============================] - 2s 23ms/step - loss: 0.8488 - accuracy: 0.6651 - val_loss: 0.8549 - val_accuracy: 0.6473\n",
            "Epoch 309/500\n",
            "104/104 [==============================] - 2s 24ms/step - loss: 0.8385 - accuracy: 0.6741 - val_loss: 0.8646 - val_accuracy: 0.6763\n",
            "Epoch 310/500\n",
            "104/104 [==============================] - 2s 23ms/step - loss: 0.8345 - accuracy: 0.6723 - val_loss: 0.8631 - val_accuracy: 0.6763\n",
            "Epoch 311/500\n",
            "104/104 [==============================] - 2s 23ms/step - loss: 0.8308 - accuracy: 0.6796 - val_loss: 0.8644 - val_accuracy: 0.6667\n",
            "Epoch 312/500\n",
            "104/104 [==============================] - 2s 24ms/step - loss: 0.8356 - accuracy: 0.6741 - val_loss: 0.8682 - val_accuracy: 0.6667\n",
            "Epoch 313/500\n",
            "104/104 [==============================] - 2s 23ms/step - loss: 0.8436 - accuracy: 0.6693 - val_loss: 0.8671 - val_accuracy: 0.6522\n",
            "Epoch 314/500\n",
            "104/104 [==============================] - 2s 23ms/step - loss: 0.8190 - accuracy: 0.6820 - val_loss: 0.8606 - val_accuracy: 0.6667\n",
            "Epoch 315/500\n",
            "104/104 [==============================] - 2s 24ms/step - loss: 0.8197 - accuracy: 0.6862 - val_loss: 0.8498 - val_accuracy: 0.6763\n",
            "Epoch 316/500\n",
            "104/104 [==============================] - 2s 23ms/step - loss: 0.8116 - accuracy: 0.6759 - val_loss: 0.8437 - val_accuracy: 0.6812\n",
            "Epoch 317/500\n",
            "104/104 [==============================] - 2s 23ms/step - loss: 0.8255 - accuracy: 0.6814 - val_loss: 0.8587 - val_accuracy: 0.6522\n",
            "Epoch 318/500\n",
            "104/104 [==============================] - 2s 24ms/step - loss: 0.8364 - accuracy: 0.6663 - val_loss: 0.8521 - val_accuracy: 0.6667\n",
            "Epoch 319/500\n",
            "104/104 [==============================] - 2s 23ms/step - loss: 0.8296 - accuracy: 0.6778 - val_loss: 0.8553 - val_accuracy: 0.6667\n",
            "Epoch 320/500\n",
            "104/104 [==============================] - 2s 24ms/step - loss: 0.8267 - accuracy: 0.6850 - val_loss: 0.8615 - val_accuracy: 0.6570\n",
            "Epoch 321/500\n",
            "104/104 [==============================] - 2s 23ms/step - loss: 0.8303 - accuracy: 0.6675 - val_loss: 0.8438 - val_accuracy: 0.6763\n",
            "Epoch 322/500\n",
            "104/104 [==============================] - 2s 23ms/step - loss: 0.8080 - accuracy: 0.6868 - val_loss: 0.8496 - val_accuracy: 0.6715\n",
            "Epoch 323/500\n",
            "104/104 [==============================] - 2s 24ms/step - loss: 0.8036 - accuracy: 0.6784 - val_loss: 0.8360 - val_accuracy: 0.6667\n",
            "Epoch 324/500\n",
            "104/104 [==============================] - 2s 23ms/step - loss: 0.8249 - accuracy: 0.6784 - val_loss: 0.8613 - val_accuracy: 0.6667\n",
            "Epoch 325/500\n",
            "104/104 [==============================] - 2s 23ms/step - loss: 0.8119 - accuracy: 0.6911 - val_loss: 0.8465 - val_accuracy: 0.7053\n",
            "Epoch 326/500\n",
            "104/104 [==============================] - 2s 23ms/step - loss: 0.8335 - accuracy: 0.6844 - val_loss: 0.8698 - val_accuracy: 0.6473\n",
            "Epoch 327/500\n",
            "104/104 [==============================] - 2s 23ms/step - loss: 0.8132 - accuracy: 0.6826 - val_loss: 0.8544 - val_accuracy: 0.6473\n",
            "Epoch 328/500\n",
            "104/104 [==============================] - 2s 23ms/step - loss: 0.8124 - accuracy: 0.6814 - val_loss: 0.8578 - val_accuracy: 0.6618\n",
            "Epoch 329/500\n",
            "104/104 [==============================] - 2s 23ms/step - loss: 0.8197 - accuracy: 0.6808 - val_loss: 0.8482 - val_accuracy: 0.6570\n",
            "Epoch 330/500\n",
            "104/104 [==============================] - 2s 23ms/step - loss: 0.8509 - accuracy: 0.6657 - val_loss: 0.8553 - val_accuracy: 0.6377\n",
            "Epoch 331/500\n",
            "104/104 [==============================] - 2s 23ms/step - loss: 0.8138 - accuracy: 0.6778 - val_loss: 0.8451 - val_accuracy: 0.6812\n",
            "Epoch 332/500\n",
            "104/104 [==============================] - 2s 24ms/step - loss: 0.8165 - accuracy: 0.6808 - val_loss: 0.8522 - val_accuracy: 0.6667\n",
            "Epoch 333/500\n",
            "104/104 [==============================] - 2s 23ms/step - loss: 0.8053 - accuracy: 0.6856 - val_loss: 0.8392 - val_accuracy: 0.6715\n",
            "Epoch 334/500\n",
            "104/104 [==============================] - 2s 24ms/step - loss: 0.7978 - accuracy: 0.6941 - val_loss: 0.8474 - val_accuracy: 0.6618\n",
            "Epoch 335/500\n",
            "104/104 [==============================] - 2s 23ms/step - loss: 0.7956 - accuracy: 0.6917 - val_loss: 0.8432 - val_accuracy: 0.6957\n",
            "Epoch 336/500\n",
            "104/104 [==============================] - 2s 24ms/step - loss: 0.7877 - accuracy: 0.7025 - val_loss: 0.8516 - val_accuracy: 0.7005\n",
            "Epoch 337/500\n",
            "104/104 [==============================] - 2s 23ms/step - loss: 0.8117 - accuracy: 0.6790 - val_loss: 0.8521 - val_accuracy: 0.6667\n",
            "Epoch 338/500\n",
            "104/104 [==============================] - 2s 23ms/step - loss: 0.7789 - accuracy: 0.6886 - val_loss: 0.8504 - val_accuracy: 0.6715\n",
            "Epoch 339/500\n",
            "104/104 [==============================] - 2s 23ms/step - loss: 0.7892 - accuracy: 0.6953 - val_loss: 0.8456 - val_accuracy: 0.6908\n",
            "Epoch 340/500\n",
            "104/104 [==============================] - 2s 24ms/step - loss: 0.7881 - accuracy: 0.6935 - val_loss: 0.8406 - val_accuracy: 0.7005\n",
            "Epoch 341/500\n",
            "104/104 [==============================] - 2s 24ms/step - loss: 0.7718 - accuracy: 0.6929 - val_loss: 0.8386 - val_accuracy: 0.7150\n",
            "Epoch 342/500\n",
            "104/104 [==============================] - 2s 24ms/step - loss: 0.7749 - accuracy: 0.6965 - val_loss: 0.8234 - val_accuracy: 0.6860\n",
            "Epoch 343/500\n",
            "104/104 [==============================] - 2s 23ms/step - loss: 0.8000 - accuracy: 0.6929 - val_loss: 0.8189 - val_accuracy: 0.7101\n",
            "Epoch 344/500\n",
            "104/104 [==============================] - 2s 23ms/step - loss: 0.7882 - accuracy: 0.6959 - val_loss: 0.8273 - val_accuracy: 0.6715\n",
            "Epoch 345/500\n",
            "104/104 [==============================] - 2s 23ms/step - loss: 0.7803 - accuracy: 0.7031 - val_loss: 0.8217 - val_accuracy: 0.7101\n",
            "Epoch 346/500\n",
            "104/104 [==============================] - 2s 23ms/step - loss: 0.7799 - accuracy: 0.7086 - val_loss: 0.8291 - val_accuracy: 0.6715\n",
            "Epoch 347/500\n",
            "104/104 [==============================] - 2s 23ms/step - loss: 0.7859 - accuracy: 0.6911 - val_loss: 0.8224 - val_accuracy: 0.7005\n",
            "Epoch 348/500\n",
            "104/104 [==============================] - 2s 24ms/step - loss: 0.7694 - accuracy: 0.7013 - val_loss: 0.8276 - val_accuracy: 0.6715\n",
            "Epoch 349/500\n",
            "104/104 [==============================] - 2s 24ms/step - loss: 0.7841 - accuracy: 0.6898 - val_loss: 0.8194 - val_accuracy: 0.7053\n",
            "Epoch 350/500\n",
            "104/104 [==============================] - 2s 23ms/step - loss: 0.7719 - accuracy: 0.6941 - val_loss: 0.8257 - val_accuracy: 0.6812\n",
            "Epoch 351/500\n",
            "104/104 [==============================] - 2s 23ms/step - loss: 0.7832 - accuracy: 0.6814 - val_loss: 0.8281 - val_accuracy: 0.6667\n",
            "Epoch 352/500\n",
            "104/104 [==============================] - 2s 23ms/step - loss: 0.7766 - accuracy: 0.7050 - val_loss: 0.8193 - val_accuracy: 0.6812\n",
            "Epoch 353/500\n",
            "104/104 [==============================] - 2s 24ms/step - loss: 0.7673 - accuracy: 0.6953 - val_loss: 0.8198 - val_accuracy: 0.7005\n",
            "Epoch 354/500\n",
            "104/104 [==============================] - 2s 24ms/step - loss: 0.7823 - accuracy: 0.6929 - val_loss: 0.8090 - val_accuracy: 0.6908\n",
            "Epoch 355/500\n",
            "104/104 [==============================] - 2s 23ms/step - loss: 0.7434 - accuracy: 0.6995 - val_loss: 0.8137 - val_accuracy: 0.6957\n",
            "Epoch 356/500\n",
            "104/104 [==============================] - 2s 23ms/step - loss: 0.7760 - accuracy: 0.6941 - val_loss: 0.8138 - val_accuracy: 0.6860\n",
            "Epoch 357/500\n",
            "104/104 [==============================] - 2s 24ms/step - loss: 0.7411 - accuracy: 0.7098 - val_loss: 0.8093 - val_accuracy: 0.6908\n",
            "Epoch 358/500\n",
            "104/104 [==============================] - 2s 23ms/step - loss: 0.7761 - accuracy: 0.7050 - val_loss: 0.8188 - val_accuracy: 0.6763\n",
            "Epoch 359/500\n",
            "104/104 [==============================] - 2s 23ms/step - loss: 0.7712 - accuracy: 0.6971 - val_loss: 0.8201 - val_accuracy: 0.6860\n",
            "Epoch 360/500\n",
            "104/104 [==============================] - 2s 23ms/step - loss: 0.7541 - accuracy: 0.7001 - val_loss: 0.8123 - val_accuracy: 0.7053\n",
            "Epoch 361/500\n",
            "104/104 [==============================] - 2s 24ms/step - loss: 0.7532 - accuracy: 0.7080 - val_loss: 0.8058 - val_accuracy: 0.7005\n",
            "Epoch 362/500\n",
            "104/104 [==============================] - 2s 24ms/step - loss: 0.7627 - accuracy: 0.7013 - val_loss: 0.7978 - val_accuracy: 0.6860\n",
            "Epoch 363/500\n",
            "104/104 [==============================] - 2s 23ms/step - loss: 0.7529 - accuracy: 0.7025 - val_loss: 0.7950 - val_accuracy: 0.6908\n",
            "Epoch 364/500\n",
            "104/104 [==============================] - 2s 24ms/step - loss: 0.7567 - accuracy: 0.7110 - val_loss: 0.7908 - val_accuracy: 0.7005\n",
            "Epoch 365/500\n",
            "104/104 [==============================] - 2s 23ms/step - loss: 0.7394 - accuracy: 0.7050 - val_loss: 0.8072 - val_accuracy: 0.7053\n",
            "Epoch 366/500\n",
            "104/104 [==============================] - 2s 23ms/step - loss: 0.7578 - accuracy: 0.6965 - val_loss: 0.8242 - val_accuracy: 0.6812\n",
            "Epoch 367/500\n",
            "104/104 [==============================] - 2s 23ms/step - loss: 0.7410 - accuracy: 0.7170 - val_loss: 0.8211 - val_accuracy: 0.6812\n",
            "Epoch 368/500\n",
            "104/104 [==============================] - 2s 23ms/step - loss: 0.7725 - accuracy: 0.7025 - val_loss: 0.8035 - val_accuracy: 0.6715\n",
            "Epoch 369/500\n",
            "104/104 [==============================] - 2s 24ms/step - loss: 0.7708 - accuracy: 0.6971 - val_loss: 0.8130 - val_accuracy: 0.7053\n",
            "Epoch 370/500\n",
            "104/104 [==============================] - 2s 23ms/step - loss: 0.7612 - accuracy: 0.7056 - val_loss: 0.8125 - val_accuracy: 0.6860\n",
            "Epoch 371/500\n",
            "104/104 [==============================] - 2s 23ms/step - loss: 0.7492 - accuracy: 0.7068 - val_loss: 0.8176 - val_accuracy: 0.6522\n",
            "Epoch 372/500\n",
            "104/104 [==============================] - 2s 24ms/step - loss: 0.7455 - accuracy: 0.7146 - val_loss: 0.8038 - val_accuracy: 0.6812\n",
            "Epoch 373/500\n",
            "104/104 [==============================] - 2s 24ms/step - loss: 0.7477 - accuracy: 0.7128 - val_loss: 0.7972 - val_accuracy: 0.7005\n",
            "Epoch 374/500\n",
            "104/104 [==============================] - 2s 24ms/step - loss: 0.7499 - accuracy: 0.7189 - val_loss: 0.8064 - val_accuracy: 0.6957\n",
            "Epoch 375/500\n",
            "104/104 [==============================] - 2s 24ms/step - loss: 0.7531 - accuracy: 0.7098 - val_loss: 0.7994 - val_accuracy: 0.6908\n",
            "Epoch 376/500\n",
            "104/104 [==============================] - 2s 24ms/step - loss: 0.7369 - accuracy: 0.7170 - val_loss: 0.7954 - val_accuracy: 0.6763\n",
            "Epoch 377/500\n",
            "104/104 [==============================] - 2s 24ms/step - loss: 0.7290 - accuracy: 0.7170 - val_loss: 0.7973 - val_accuracy: 0.6763\n",
            "Epoch 378/500\n",
            "104/104 [==============================] - 2s 24ms/step - loss: 0.7303 - accuracy: 0.7177 - val_loss: 0.8048 - val_accuracy: 0.6667\n",
            "Epoch 379/500\n",
            "104/104 [==============================] - 2s 24ms/step - loss: 0.7492 - accuracy: 0.7116 - val_loss: 0.8021 - val_accuracy: 0.6763\n",
            "Epoch 380/500\n",
            "104/104 [==============================] - 2s 23ms/step - loss: 0.7305 - accuracy: 0.7237 - val_loss: 0.7960 - val_accuracy: 0.6957\n",
            "Epoch 381/500\n",
            "104/104 [==============================] - 2s 24ms/step - loss: 0.7455 - accuracy: 0.7044 - val_loss: 0.7862 - val_accuracy: 0.6957\n",
            "Epoch 382/500\n",
            "104/104 [==============================] - 2s 23ms/step - loss: 0.7325 - accuracy: 0.7128 - val_loss: 0.8009 - val_accuracy: 0.6715\n",
            "Epoch 383/500\n",
            "104/104 [==============================] - 2s 24ms/step - loss: 0.7342 - accuracy: 0.7104 - val_loss: 0.7844 - val_accuracy: 0.7246\n",
            "Epoch 384/500\n",
            "104/104 [==============================] - 2s 24ms/step - loss: 0.7315 - accuracy: 0.7243 - val_loss: 0.7909 - val_accuracy: 0.6957\n",
            "Epoch 385/500\n",
            "104/104 [==============================] - 2s 23ms/step - loss: 0.7359 - accuracy: 0.7134 - val_loss: 0.7949 - val_accuracy: 0.6715\n",
            "Epoch 386/500\n",
            "104/104 [==============================] - 2s 24ms/step - loss: 0.7499 - accuracy: 0.7062 - val_loss: 0.7917 - val_accuracy: 0.6957\n",
            "Epoch 387/500\n",
            "104/104 [==============================] - 2s 24ms/step - loss: 0.7482 - accuracy: 0.7013 - val_loss: 0.8056 - val_accuracy: 0.6812\n",
            "Epoch 388/500\n",
            "104/104 [==============================] - 3s 24ms/step - loss: 0.7321 - accuracy: 0.7056 - val_loss: 0.7896 - val_accuracy: 0.7246\n",
            "Epoch 389/500\n",
            "104/104 [==============================] - 2s 24ms/step - loss: 0.7259 - accuracy: 0.7170 - val_loss: 0.8067 - val_accuracy: 0.6812\n",
            "Epoch 390/500\n",
            "104/104 [==============================] - 2s 23ms/step - loss: 0.7222 - accuracy: 0.7189 - val_loss: 0.7835 - val_accuracy: 0.6957\n",
            "Epoch 391/500\n",
            "104/104 [==============================] - 2s 23ms/step - loss: 0.7180 - accuracy: 0.7231 - val_loss: 0.7920 - val_accuracy: 0.7053\n",
            "Epoch 392/500\n",
            "104/104 [==============================] - 2s 23ms/step - loss: 0.7461 - accuracy: 0.7068 - val_loss: 0.7898 - val_accuracy: 0.6908\n",
            "Epoch 393/500\n",
            "104/104 [==============================] - 2s 23ms/step - loss: 0.6861 - accuracy: 0.7515 - val_loss: 0.7897 - val_accuracy: 0.6812\n",
            "Epoch 394/500\n",
            "104/104 [==============================] - 2s 23ms/step - loss: 0.7274 - accuracy: 0.7243 - val_loss: 0.7798 - val_accuracy: 0.7053\n",
            "Epoch 395/500\n",
            "104/104 [==============================] - 2s 23ms/step - loss: 0.7263 - accuracy: 0.7170 - val_loss: 0.7840 - val_accuracy: 0.6957\n",
            "Epoch 396/500\n",
            "104/104 [==============================] - 2s 24ms/step - loss: 0.7199 - accuracy: 0.7201 - val_loss: 0.7718 - val_accuracy: 0.6860\n",
            "Epoch 397/500\n",
            "104/104 [==============================] - 2s 23ms/step - loss: 0.7267 - accuracy: 0.7128 - val_loss: 0.7750 - val_accuracy: 0.7101\n",
            "Epoch 398/500\n",
            "104/104 [==============================] - 2s 23ms/step - loss: 0.7062 - accuracy: 0.7195 - val_loss: 0.7952 - val_accuracy: 0.6763\n",
            "Epoch 399/500\n",
            "104/104 [==============================] - 2s 23ms/step - loss: 0.7066 - accuracy: 0.7243 - val_loss: 0.7899 - val_accuracy: 0.6908\n",
            "Epoch 400/500\n",
            "104/104 [==============================] - 2s 24ms/step - loss: 0.7185 - accuracy: 0.7110 - val_loss: 0.7815 - val_accuracy: 0.6908\n",
            "Epoch 401/500\n",
            "104/104 [==============================] - 2s 23ms/step - loss: 0.7155 - accuracy: 0.7255 - val_loss: 0.7781 - val_accuracy: 0.6957\n",
            "Epoch 402/500\n",
            "104/104 [==============================] - 2s 23ms/step - loss: 0.7158 - accuracy: 0.7183 - val_loss: 0.7761 - val_accuracy: 0.7150\n",
            "Epoch 403/500\n",
            "104/104 [==============================] - 2s 24ms/step - loss: 0.6980 - accuracy: 0.7297 - val_loss: 0.7934 - val_accuracy: 0.6957\n",
            "Epoch 404/500\n",
            "104/104 [==============================] - 2s 23ms/step - loss: 0.6695 - accuracy: 0.7418 - val_loss: 0.7716 - val_accuracy: 0.6957\n",
            "Epoch 405/500\n",
            "104/104 [==============================] - 3s 24ms/step - loss: 0.7186 - accuracy: 0.7261 - val_loss: 0.7654 - val_accuracy: 0.7246\n",
            "Epoch 406/500\n",
            "104/104 [==============================] - 2s 24ms/step - loss: 0.7120 - accuracy: 0.7207 - val_loss: 0.7856 - val_accuracy: 0.6667\n",
            "Epoch 407/500\n",
            "104/104 [==============================] - 2s 24ms/step - loss: 0.7303 - accuracy: 0.7080 - val_loss: 0.7755 - val_accuracy: 0.7005\n",
            "Epoch 408/500\n",
            "104/104 [==============================] - 2s 24ms/step - loss: 0.6908 - accuracy: 0.7334 - val_loss: 0.7649 - val_accuracy: 0.7150\n",
            "Epoch 409/500\n",
            "104/104 [==============================] - 2s 23ms/step - loss: 0.6971 - accuracy: 0.7297 - val_loss: 0.7781 - val_accuracy: 0.6957\n",
            "Epoch 410/500\n",
            "104/104 [==============================] - 2s 24ms/step - loss: 0.7012 - accuracy: 0.7213 - val_loss: 0.7852 - val_accuracy: 0.6957\n",
            "Epoch 411/500\n",
            "104/104 [==============================] - 2s 24ms/step - loss: 0.6964 - accuracy: 0.7328 - val_loss: 0.7780 - val_accuracy: 0.6957\n",
            "Epoch 412/500\n",
            "104/104 [==============================] - 2s 23ms/step - loss: 0.7117 - accuracy: 0.7116 - val_loss: 0.7827 - val_accuracy: 0.6860\n",
            "Epoch 413/500\n",
            "104/104 [==============================] - 2s 24ms/step - loss: 0.6892 - accuracy: 0.7134 - val_loss: 0.7750 - val_accuracy: 0.7053\n",
            "Epoch 414/500\n",
            "104/104 [==============================] - 2s 24ms/step - loss: 0.6760 - accuracy: 0.7424 - val_loss: 0.7743 - val_accuracy: 0.7005\n",
            "Epoch 415/500\n",
            "104/104 [==============================] - 2s 24ms/step - loss: 0.6958 - accuracy: 0.7297 - val_loss: 0.7792 - val_accuracy: 0.6715\n",
            "Epoch 416/500\n",
            "104/104 [==============================] - 2s 24ms/step - loss: 0.6758 - accuracy: 0.7376 - val_loss: 0.7690 - val_accuracy: 0.6957\n",
            "Epoch 417/500\n",
            "104/104 [==============================] - 2s 24ms/step - loss: 0.6943 - accuracy: 0.7255 - val_loss: 0.7663 - val_accuracy: 0.6860\n",
            "Epoch 418/500\n",
            "104/104 [==============================] - 2s 24ms/step - loss: 0.6977 - accuracy: 0.7279 - val_loss: 0.7699 - val_accuracy: 0.6763\n",
            "Epoch 419/500\n",
            "104/104 [==============================] - 2s 24ms/step - loss: 0.6920 - accuracy: 0.7255 - val_loss: 0.7687 - val_accuracy: 0.6957\n",
            "Epoch 420/500\n",
            "104/104 [==============================] - 2s 23ms/step - loss: 0.6825 - accuracy: 0.7328 - val_loss: 0.7611 - val_accuracy: 0.6860\n",
            "Epoch 421/500\n",
            "104/104 [==============================] - 2s 24ms/step - loss: 0.6751 - accuracy: 0.7406 - val_loss: 0.7565 - val_accuracy: 0.7246\n",
            "Epoch 422/500\n",
            "104/104 [==============================] - 2s 24ms/step - loss: 0.6876 - accuracy: 0.7273 - val_loss: 0.7740 - val_accuracy: 0.7343\n",
            "Epoch 423/500\n",
            "104/104 [==============================] - 3s 24ms/step - loss: 0.6827 - accuracy: 0.7364 - val_loss: 0.7657 - val_accuracy: 0.6908\n",
            "Epoch 424/500\n",
            "104/104 [==============================] - 2s 24ms/step - loss: 0.7103 - accuracy: 0.7183 - val_loss: 0.7704 - val_accuracy: 0.6908\n",
            "Epoch 425/500\n",
            "104/104 [==============================] - 2s 24ms/step - loss: 0.6835 - accuracy: 0.7370 - val_loss: 0.7706 - val_accuracy: 0.6908\n",
            "Epoch 426/500\n",
            "104/104 [==============================] - 2s 23ms/step - loss: 0.6976 - accuracy: 0.7189 - val_loss: 0.7669 - val_accuracy: 0.6763\n",
            "Epoch 427/500\n",
            "104/104 [==============================] - 2s 24ms/step - loss: 0.7167 - accuracy: 0.7243 - val_loss: 0.7630 - val_accuracy: 0.7053\n",
            "Epoch 428/500\n",
            "104/104 [==============================] - 2s 24ms/step - loss: 0.6630 - accuracy: 0.7497 - val_loss: 0.7571 - val_accuracy: 0.7198\n",
            "Epoch 429/500\n",
            "104/104 [==============================] - 2s 23ms/step - loss: 0.6749 - accuracy: 0.7388 - val_loss: 0.7612 - val_accuracy: 0.6763\n",
            "Epoch 430/500\n",
            "104/104 [==============================] - 2s 24ms/step - loss: 0.6610 - accuracy: 0.7443 - val_loss: 0.7536 - val_accuracy: 0.6957\n",
            "Epoch 431/500\n",
            "104/104 [==============================] - 2s 24ms/step - loss: 0.6390 - accuracy: 0.7588 - val_loss: 0.7619 - val_accuracy: 0.6812\n",
            "Epoch 432/500\n",
            "104/104 [==============================] - 2s 24ms/step - loss: 0.6691 - accuracy: 0.7267 - val_loss: 0.7693 - val_accuracy: 0.6860\n",
            "Epoch 433/500\n",
            "104/104 [==============================] - 2s 24ms/step - loss: 0.6548 - accuracy: 0.7418 - val_loss: 0.7784 - val_accuracy: 0.7198\n",
            "Epoch 434/500\n",
            "104/104 [==============================] - 2s 23ms/step - loss: 0.6717 - accuracy: 0.7364 - val_loss: 0.7645 - val_accuracy: 0.7005\n",
            "Epoch 435/500\n",
            "104/104 [==============================] - 2s 24ms/step - loss: 0.6738 - accuracy: 0.7364 - val_loss: 0.7585 - val_accuracy: 0.7005\n",
            "Epoch 436/500\n",
            "104/104 [==============================] - 2s 24ms/step - loss: 0.6836 - accuracy: 0.7334 - val_loss: 0.7562 - val_accuracy: 0.7053\n",
            "Epoch 437/500\n",
            "104/104 [==============================] - 2s 24ms/step - loss: 0.6571 - accuracy: 0.7437 - val_loss: 0.7512 - val_accuracy: 0.7150\n",
            "Epoch 438/500\n",
            "104/104 [==============================] - 2s 24ms/step - loss: 0.6481 - accuracy: 0.7497 - val_loss: 0.7460 - val_accuracy: 0.7005\n",
            "Epoch 439/500\n",
            "104/104 [==============================] - 2s 24ms/step - loss: 0.6735 - accuracy: 0.7358 - val_loss: 0.7476 - val_accuracy: 0.7246\n",
            "Epoch 440/500\n",
            "104/104 [==============================] - 3s 24ms/step - loss: 0.6507 - accuracy: 0.7533 - val_loss: 0.7495 - val_accuracy: 0.7053\n",
            "Epoch 441/500\n",
            "104/104 [==============================] - 2s 24ms/step - loss: 0.6712 - accuracy: 0.7340 - val_loss: 0.7463 - val_accuracy: 0.6957\n",
            "Epoch 442/500\n",
            "104/104 [==============================] - 2s 23ms/step - loss: 0.6609 - accuracy: 0.7376 - val_loss: 0.7517 - val_accuracy: 0.7150\n",
            "Epoch 443/500\n",
            "104/104 [==============================] - 2s 23ms/step - loss: 0.6662 - accuracy: 0.7406 - val_loss: 0.7444 - val_accuracy: 0.7150\n",
            "Epoch 444/500\n",
            "104/104 [==============================] - 2s 23ms/step - loss: 0.6502 - accuracy: 0.7424 - val_loss: 0.7581 - val_accuracy: 0.6957\n",
            "Epoch 445/500\n",
            "104/104 [==============================] - 3s 24ms/step - loss: 0.6757 - accuracy: 0.7304 - val_loss: 0.7602 - val_accuracy: 0.6957\n",
            "Epoch 446/500\n",
            "104/104 [==============================] - 2s 24ms/step - loss: 0.6829 - accuracy: 0.7449 - val_loss: 0.7508 - val_accuracy: 0.7440\n",
            "Epoch 447/500\n",
            "104/104 [==============================] - 2s 24ms/step - loss: 0.6526 - accuracy: 0.7443 - val_loss: 0.7597 - val_accuracy: 0.6812\n",
            "Epoch 448/500\n",
            "104/104 [==============================] - 2s 24ms/step - loss: 0.6208 - accuracy: 0.7570 - val_loss: 0.7512 - val_accuracy: 0.6570\n",
            "Epoch 449/500\n",
            "104/104 [==============================] - 3s 24ms/step - loss: 0.6533 - accuracy: 0.7437 - val_loss: 0.7366 - val_accuracy: 0.6957\n",
            "Epoch 450/500\n",
            "104/104 [==============================] - 3s 24ms/step - loss: 0.6299 - accuracy: 0.7630 - val_loss: 0.7323 - val_accuracy: 0.7005\n",
            "Epoch 451/500\n",
            "104/104 [==============================] - 2s 24ms/step - loss: 0.6295 - accuracy: 0.7618 - val_loss: 0.7547 - val_accuracy: 0.6860\n",
            "Epoch 452/500\n",
            "104/104 [==============================] - 2s 24ms/step - loss: 0.6541 - accuracy: 0.7479 - val_loss: 0.7508 - val_accuracy: 0.6763\n",
            "Epoch 453/500\n",
            "104/104 [==============================] - 2s 24ms/step - loss: 0.6686 - accuracy: 0.7304 - val_loss: 0.7382 - val_accuracy: 0.7053\n",
            "Epoch 454/500\n",
            "104/104 [==============================] - 2s 24ms/step - loss: 0.6467 - accuracy: 0.7539 - val_loss: 0.7513 - val_accuracy: 0.7053\n",
            "Epoch 455/500\n",
            "104/104 [==============================] - 3s 24ms/step - loss: 0.6522 - accuracy: 0.7443 - val_loss: 0.7482 - val_accuracy: 0.6812\n",
            "Epoch 456/500\n",
            "104/104 [==============================] - 2s 24ms/step - loss: 0.6433 - accuracy: 0.7557 - val_loss: 0.7509 - val_accuracy: 0.7053\n",
            "Epoch 457/500\n",
            "104/104 [==============================] - 3s 24ms/step - loss: 0.6370 - accuracy: 0.7551 - val_loss: 0.7487 - val_accuracy: 0.7150\n",
            "Epoch 458/500\n",
            "104/104 [==============================] - 3s 24ms/step - loss: 0.6620 - accuracy: 0.7437 - val_loss: 0.7510 - val_accuracy: 0.7005\n",
            "Epoch 459/500\n",
            "104/104 [==============================] - 3s 24ms/step - loss: 0.6588 - accuracy: 0.7449 - val_loss: 0.7496 - val_accuracy: 0.7053\n",
            "Epoch 460/500\n",
            "104/104 [==============================] - 3s 24ms/step - loss: 0.6542 - accuracy: 0.7467 - val_loss: 0.7477 - val_accuracy: 0.7440\n",
            "Epoch 461/500\n",
            "104/104 [==============================] - 2s 24ms/step - loss: 0.6503 - accuracy: 0.7388 - val_loss: 0.7495 - val_accuracy: 0.6860\n",
            "Epoch 462/500\n",
            "104/104 [==============================] - 3s 24ms/step - loss: 0.6449 - accuracy: 0.7430 - val_loss: 0.7436 - val_accuracy: 0.6957\n",
            "Epoch 463/500\n",
            "104/104 [==============================] - 2s 24ms/step - loss: 0.6672 - accuracy: 0.7437 - val_loss: 0.7471 - val_accuracy: 0.7150\n",
            "Epoch 464/500\n",
            "104/104 [==============================] - 2s 24ms/step - loss: 0.6628 - accuracy: 0.7370 - val_loss: 0.7411 - val_accuracy: 0.7053\n",
            "Epoch 465/500\n",
            "104/104 [==============================] - 2s 23ms/step - loss: 0.6405 - accuracy: 0.7437 - val_loss: 0.7493 - val_accuracy: 0.6812\n",
            "Epoch 466/500\n",
            "104/104 [==============================] - 2s 23ms/step - loss: 0.6257 - accuracy: 0.7588 - val_loss: 0.7320 - val_accuracy: 0.7005\n",
            "Epoch 467/500\n",
            "104/104 [==============================] - 2s 24ms/step - loss: 0.6299 - accuracy: 0.7612 - val_loss: 0.7324 - val_accuracy: 0.7101\n",
            "Epoch 468/500\n",
            "104/104 [==============================] - 3s 24ms/step - loss: 0.6418 - accuracy: 0.7479 - val_loss: 0.7422 - val_accuracy: 0.7101\n",
            "Epoch 469/500\n",
            "104/104 [==============================] - 2s 24ms/step - loss: 0.6283 - accuracy: 0.7539 - val_loss: 0.7463 - val_accuracy: 0.6715\n",
            "Epoch 470/500\n",
            "104/104 [==============================] - 2s 24ms/step - loss: 0.6343 - accuracy: 0.7654 - val_loss: 0.7353 - val_accuracy: 0.7198\n",
            "Epoch 471/500\n",
            "104/104 [==============================] - 2s 24ms/step - loss: 0.6263 - accuracy: 0.7582 - val_loss: 0.7420 - val_accuracy: 0.6908\n",
            "Epoch 472/500\n",
            "104/104 [==============================] - 2s 24ms/step - loss: 0.6265 - accuracy: 0.7557 - val_loss: 0.7528 - val_accuracy: 0.6957\n",
            "Epoch 473/500\n",
            "104/104 [==============================] - 2s 24ms/step - loss: 0.6286 - accuracy: 0.7600 - val_loss: 0.7328 - val_accuracy: 0.7101\n",
            "Epoch 474/500\n",
            "104/104 [==============================] - 3s 24ms/step - loss: 0.6400 - accuracy: 0.7576 - val_loss: 0.7353 - val_accuracy: 0.7005\n",
            "Epoch 475/500\n",
            "104/104 [==============================] - 3s 24ms/step - loss: 0.6276 - accuracy: 0.7418 - val_loss: 0.7266 - val_accuracy: 0.7150\n",
            "Epoch 476/500\n",
            "104/104 [==============================] - 2s 23ms/step - loss: 0.6470 - accuracy: 0.7412 - val_loss: 0.7306 - val_accuracy: 0.7198\n",
            "Epoch 477/500\n",
            "104/104 [==============================] - 2s 24ms/step - loss: 0.6275 - accuracy: 0.7690 - val_loss: 0.7258 - val_accuracy: 0.7005\n",
            "Epoch 478/500\n",
            "104/104 [==============================] - 3s 24ms/step - loss: 0.6502 - accuracy: 0.7455 - val_loss: 0.7420 - val_accuracy: 0.7053\n",
            "Epoch 479/500\n",
            "104/104 [==============================] - 3s 24ms/step - loss: 0.6158 - accuracy: 0.7557 - val_loss: 0.7386 - val_accuracy: 0.6957\n",
            "Epoch 480/500\n",
            "104/104 [==============================] - 2s 24ms/step - loss: 0.6243 - accuracy: 0.7467 - val_loss: 0.7257 - val_accuracy: 0.7150\n",
            "Epoch 481/500\n",
            "104/104 [==============================] - 2s 24ms/step - loss: 0.6062 - accuracy: 0.7582 - val_loss: 0.7235 - val_accuracy: 0.7150\n",
            "Epoch 482/500\n",
            "104/104 [==============================] - 2s 24ms/step - loss: 0.6045 - accuracy: 0.7666 - val_loss: 0.7205 - val_accuracy: 0.7101\n",
            "Epoch 483/500\n",
            "104/104 [==============================] - 2s 24ms/step - loss: 0.6092 - accuracy: 0.7642 - val_loss: 0.7384 - val_accuracy: 0.7150\n",
            "Epoch 484/500\n",
            "104/104 [==============================] - 2s 24ms/step - loss: 0.6303 - accuracy: 0.7521 - val_loss: 0.7237 - val_accuracy: 0.7246\n",
            "Epoch 485/500\n",
            "104/104 [==============================] - 2s 24ms/step - loss: 0.6108 - accuracy: 0.7642 - val_loss: 0.7211 - val_accuracy: 0.7150\n",
            "Epoch 486/500\n",
            "104/104 [==============================] - 3s 24ms/step - loss: 0.6136 - accuracy: 0.7624 - val_loss: 0.7295 - val_accuracy: 0.7005\n",
            "Epoch 487/500\n",
            "104/104 [==============================] - 3s 24ms/step - loss: 0.6148 - accuracy: 0.7612 - val_loss: 0.7284 - val_accuracy: 0.7005\n",
            "Epoch 488/500\n",
            "104/104 [==============================] - 2s 24ms/step - loss: 0.6150 - accuracy: 0.7636 - val_loss: 0.7424 - val_accuracy: 0.6908\n",
            "Epoch 489/500\n",
            "104/104 [==============================] - 2s 24ms/step - loss: 0.6078 - accuracy: 0.7624 - val_loss: 0.7268 - val_accuracy: 0.6812\n",
            "Epoch 490/500\n",
            "104/104 [==============================] - 2s 24ms/step - loss: 0.6201 - accuracy: 0.7533 - val_loss: 0.7278 - val_accuracy: 0.7005\n",
            "Epoch 491/500\n",
            "104/104 [==============================] - 2s 24ms/step - loss: 0.6073 - accuracy: 0.7666 - val_loss: 0.7369 - val_accuracy: 0.6715\n",
            "Epoch 492/500\n",
            "104/104 [==============================] - 2s 23ms/step - loss: 0.6055 - accuracy: 0.7733 - val_loss: 0.7356 - val_accuracy: 0.6908\n",
            "Epoch 493/500\n",
            "104/104 [==============================] - 2s 24ms/step - loss: 0.6114 - accuracy: 0.7696 - val_loss: 0.7141 - val_accuracy: 0.7005\n",
            "Epoch 494/500\n",
            "104/104 [==============================] - 2s 24ms/step - loss: 0.5995 - accuracy: 0.7642 - val_loss: 0.7200 - val_accuracy: 0.7198\n",
            "Epoch 495/500\n",
            "104/104 [==============================] - 2s 23ms/step - loss: 0.5985 - accuracy: 0.7733 - val_loss: 0.7128 - val_accuracy: 0.7150\n",
            "Epoch 496/500\n",
            "104/104 [==============================] - 2s 24ms/step - loss: 0.6100 - accuracy: 0.7594 - val_loss: 0.7191 - val_accuracy: 0.7101\n",
            "Epoch 497/500\n",
            "104/104 [==============================] - 2s 23ms/step - loss: 0.5891 - accuracy: 0.7757 - val_loss: 0.7224 - val_accuracy: 0.6957\n",
            "Epoch 498/500\n",
            "104/104 [==============================] - 2s 24ms/step - loss: 0.5957 - accuracy: 0.7690 - val_loss: 0.7297 - val_accuracy: 0.7150\n",
            "Epoch 499/500\n",
            "104/104 [==============================] - 2s 24ms/step - loss: 0.5919 - accuracy: 0.7703 - val_loss: 0.7158 - val_accuracy: 0.7005\n",
            "Epoch 500/500\n",
            "104/104 [==============================] - 2s 24ms/step - loss: 0.6164 - accuracy: 0.7630 - val_loss: 0.7145 - val_accuracy: 0.7101\n"
          ]
        }
      ]
    },
    {
      "cell_type": "code",
      "source": [
        "plt.plot(cnnhistory.history['loss'])\n",
        "plt.plot(cnnhistory.history['val_loss'])\n",
        "plt.title('model loss')\n",
        "plt.ylabel('loss')\n",
        "plt.xlabel('epoch')\n",
        "plt.legend(['train','test'], loc='upper left')\n",
        "plt.show()"
      ],
      "metadata": {
        "colab": {
          "base_uri": "https://localhost:8080/",
          "height": 295
        },
        "id": "oQYnuaCrDH_A",
        "outputId": "74a86c74-acf3-4044-c312-533ccc4cbb41"
      },
      "execution_count": 21,
      "outputs": [
        {
          "output_type": "display_data",
          "data": {
            "image/png": "[encoded data removed]",
            "text/plain": [
              "<Figure size 432x288 with 1 Axes>"
            ]
          },
          "metadata": {
            "needs_background": "light"
          }
        }
      ]
    },
    {
      "cell_type": "code",
      "source": [
        ""
      ],
      "metadata": {
        "id": "01otXNBSCLs9"
      },
      "execution_count": null,
      "outputs": []
    },
    {
      "cell_type": "code",
      "source": [
        "plt.plot(cnnhistory.history['accuracy'])\n",
        "plt.plot(cnnhistory.history['val_accuracy'])\n",
        "plt.title('model accuracy')\n",
        "plt.ylabel('accuracy')\n",
        "plt.xlabel('epoch')\n",
        "plt.legend(['train','test'], loc='upper left')\n",
        "plt.show()"
      ],
      "metadata": {
        "colab": {
          "base_uri": "https://localhost:8080/",
          "height": 295
        },
        "id": "IFkTuO8nDNdq",
        "outputId": "37726d0a-ab57-4c6a-c938-d492213b0b24"
      },
      "execution_count": 22,
      "outputs": [
        {
          "output_type": "display_data",
          "data": {
            "image/png": "[encoded data removed]",
            "text/plain": [
              "<Figure size 432x288 with 1 Axes>"
            ]
          },
          "metadata": {
            "needs_background": "light"
          }
        }
      ]
    },
    {
      "cell_type": "code",
      "source": [
        "#predictions = model.predict_classes(x_testcnn)\n",
        "predictions = model.predict(x_testcnn)"
      ],
      "metadata": {
        "id": "A2xtrN5wDQgY"
      },
      "execution_count": 23,
      "outputs": []
    },
    {
      "cell_type": "code",
      "source": [
        "predictions"
      ],
      "metadata": {
        "colab": {
          "base_uri": "https://localhost:8080/"
        },
        "id": "_f_ohjXKDUpY",
        "outputId": "b6652925-315a-443a-825c-eab166e2b353"
      },
      "execution_count": 24,
      "outputs": [
        {
          "output_type": "execute_result",
          "data": {
            "text/plain": [
              "array([[8.52167141e-03, 1.10138841e-02, 1.12286538e-01, 2.99559031e-02,\n",
              "        6.83514893e-01, 1.54707119e-01],\n",
              "       [8.18625391e-02, 6.31014228e-01, 4.44517918e-02, 7.61395991e-02,\n",
              "        6.35821745e-02, 1.02949746e-01],\n",
              "       [1.95172674e-04, 4.46429523e-03, 8.49163473e-01, 5.88485599e-03,\n",
              "        1.14641629e-01, 2.56506167e-02],\n",
              "       ...,\n",
              "       [3.43118398e-03, 2.22034418e-04, 3.11332010e-03, 1.68017782e-02,\n",
              "        7.76576936e-01, 1.99854717e-01],\n",
              "       [6.58991113e-02, 1.85327921e-02, 2.23888177e-02, 5.15141129e-01,\n",
              "        9.69294645e-03, 3.68345112e-01],\n",
              "       [7.11500971e-03, 5.25307795e-03, 3.60849351e-02, 3.63935858e-01,\n",
              "        1.51692436e-03, 5.86094201e-01]], dtype=float32)"
            ]
          },
          "metadata": {},
          "execution_count": 24
        }
      ]
    },
    {
      "cell_type": "code",
      "source": [
        "y_test"
      ],
      "metadata": {
        "colab": {
          "base_uri": "https://localhost:8080/"
        },
        "id": "cmA2bFgsDW3D",
        "outputId": "190873f7-5157-4fc5-8370-07cc528b2f15"
      },
      "execution_count": 25,
      "outputs": [
        {
          "output_type": "execute_result",
          "data": {
            "text/plain": [
              "array([5, 1, 2, 5, 4, 3, 2, 0, 3, 0, 3, 2, 0, 3, 3, 0, 5, 0, 2, 4, 0, 0,\n",
              "       1, 3, 2, 3, 2, 5, 3, 1, 2, 4, 2, 2, 5, 5, 3, 5, 3, 3, 4, 1, 2, 2,\n",
              "       3, 1, 5, 3, 1, 0, 4, 5, 5, 5, 5, 1, 2, 3, 2, 5, 0, 2, 4, 2, 5, 4,\n",
              "       2, 0, 2, 3, 5, 2, 0, 3, 4, 4, 4, 0, 5, 5, 3, 4, 5, 3, 2, 4, 1, 5,\n",
              "       0, 5, 0, 5, 4, 0, 1, 4, 0, 2, 2, 0, 2, 4, 5, 3, 4, 5, 3, 1, 2, 2,\n",
              "       2, 1, 3, 2, 1, 2, 4, 4, 2, 1, 2, 4, 5, 1, 4, 2, 0, 4, 5, 5, 3, 1,\n",
              "       2, 1, 5, 5, 1, 2, 3, 3, 0, 3, 3, 0, 1, 0, 1, 2, 2, 5, 2, 2, 2, 1,\n",
              "       1, 0, 1, 1, 1, 4, 0, 1, 5, 1, 5, 5, 5, 4, 1, 0, 3, 5, 2, 4, 1, 4,\n",
              "       1, 3, 2, 0, 5, 5, 3, 5, 4, 5, 4, 0, 4, 1, 2, 1, 4, 0, 4, 3, 2, 1,\n",
              "       0, 3, 5, 0, 4, 5, 4, 5, 3])"
            ]
          },
          "metadata": {},
          "execution_count": 25
        }
      ]
    },
    {
      "cell_type": "code",
      "source": [
        "new_Ytest = y_test.astype(int)"
      ],
      "metadata": {
        "id": "0PHDKWJWDY3g"
      },
      "execution_count": 26,
      "outputs": []
    },
    {
      "cell_type": "code",
      "source": [
        "new_Ytest"
      ],
      "metadata": {
        "colab": {
          "base_uri": "https://localhost:8080/"
        },
        "id": "k68v2i-pDbZE",
        "outputId": "40bc4f38-533c-446f-ffc8-6339672e749b"
      },
      "execution_count": 27,
      "outputs": [
        {
          "output_type": "execute_result",
          "data": {
            "text/plain": [
              "array([5, 1, 2, 5, 4, 3, 2, 0, 3, 0, 3, 2, 0, 3, 3, 0, 5, 0, 2, 4, 0, 0,\n",
              "       1, 3, 2, 3, 2, 5, 3, 1, 2, 4, 2, 2, 5, 5, 3, 5, 3, 3, 4, 1, 2, 2,\n",
              "       3, 1, 5, 3, 1, 0, 4, 5, 5, 5, 5, 1, 2, 3, 2, 5, 0, 2, 4, 2, 5, 4,\n",
              "       2, 0, 2, 3, 5, 2, 0, 3, 4, 4, 4, 0, 5, 5, 3, 4, 5, 3, 2, 4, 1, 5,\n",
              "       0, 5, 0, 5, 4, 0, 1, 4, 0, 2, 2, 0, 2, 4, 5, 3, 4, 5, 3, 1, 2, 2,\n",
              "       2, 1, 3, 2, 1, 2, 4, 4, 2, 1, 2, 4, 5, 1, 4, 2, 0, 4, 5, 5, 3, 1,\n",
              "       2, 1, 5, 5, 1, 2, 3, 3, 0, 3, 3, 0, 1, 0, 1, 2, 2, 5, 2, 2, 2, 1,\n",
              "       1, 0, 1, 1, 1, 4, 0, 1, 5, 1, 5, 5, 5, 4, 1, 0, 3, 5, 2, 4, 1, 4,\n",
              "       1, 3, 2, 0, 5, 5, 3, 5, 4, 5, 4, 0, 4, 1, 2, 1, 4, 0, 4, 3, 2, 1,\n",
              "       0, 3, 5, 0, 4, 5, 4, 5, 3])"
            ]
          },
          "metadata": {},
          "execution_count": 27
        }
      ]
    },
    {
      "cell_type": "code",
      "source": [
        "preds1=predictions.argmax(axis=1)\n",
        "preds1"
      ],
      "metadata": {
        "colab": {
          "base_uri": "https://localhost:8080/"
        },
        "id": "4_cAI39VFhtp",
        "outputId": "72fb6fca-cd52-4fb6-d89b-24dd6f82f7d2"
      },
      "execution_count": 28,
      "outputs": [
        {
          "output_type": "execute_result",
          "data": {
            "text/plain": [
              "array([4, 1, 2, 5, 2, 1, 2, 0, 3, 0, 3, 2, 1, 1, 3, 0, 5, 3, 2, 4, 3, 1,\n",
              "       1, 3, 2, 5, 2, 5, 3, 3, 2, 5, 4, 2, 5, 4, 1, 5, 3, 2, 5, 1, 4, 2,\n",
              "       3, 1, 3, 3, 1, 1, 4, 5, 5, 3, 3, 1, 2, 3, 2, 0, 0, 2, 5, 4, 5, 4,\n",
              "       2, 0, 2, 3, 3, 2, 2, 0, 4, 4, 4, 3, 5, 5, 3, 2, 5, 3, 2, 4, 1, 3,\n",
              "       1, 4, 0, 5, 4, 0, 1, 4, 3, 4, 2, 4, 2, 1, 5, 3, 4, 5, 5, 1, 2, 2,\n",
              "       2, 1, 3, 2, 1, 4, 4, 4, 3, 2, 4, 4, 1, 1, 4, 5, 3, 2, 3, 5, 5, 1,\n",
              "       4, 1, 5, 4, 2, 3, 3, 3, 0, 3, 3, 0, 2, 0, 1, 2, 2, 2, 2, 2, 4, 1,\n",
              "       1, 4, 1, 1, 3, 4, 0, 1, 5, 3, 5, 5, 4, 4, 1, 0, 5, 3, 2, 4, 3, 4,\n",
              "       1, 3, 1, 0, 5, 5, 3, 5, 4, 4, 4, 4, 3, 1, 2, 1, 4, 0, 4, 1, 2, 1,\n",
              "       0, 4, 5, 0, 4, 2, 4, 3, 5])"
            ]
          },
          "metadata": {},
          "execution_count": 28
        }
      ]
    },
    {
      "cell_type": "code",
      "source": [
        "abc = preds1.astype(int).flatten()"
      ],
      "metadata": {
        "id": "H4WEmM60NfQn"
      },
      "execution_count": 29,
      "outputs": []
    },
    {
      "cell_type": "code",
      "source": [
        "from sklearn.metrics import confusion_matrix\n",
        "c = confusion_matrix(new_Ytest, abc) \n",
        "c"
      ],
      "metadata": {
        "colab": {
          "base_uri": "https://localhost:8080/"
        },
        "id": "bKEBeEBlFjB8",
        "outputId": "bd5f9f5c-3eb4-45ef-83e1-28b1c0bf6f3c"
      },
      "execution_count": 30,
      "outputs": [
        {
          "output_type": "execute_result",
          "data": {
            "text/plain": [
              "array([[16,  4,  1,  5,  3,  0],\n",
              "       [ 0, 25,  3,  4,  0,  0],\n",
              "       [ 0,  1, 29,  2,  8,  1],\n",
              "       [ 1,  4,  1, 20,  1,  5],\n",
              "       [ 0,  1,  3,  1, 24,  3],\n",
              "       [ 1,  1,  2,  8,  6, 23]])"
            ]
          },
          "metadata": {},
          "execution_count": 30
        }
      ]
    },
    {
      "cell_type": "code",
      "source": [
        "y_test"
      ],
      "metadata": {
        "colab": {
          "base_uri": "https://localhost:8080/"
        },
        "id": "m4RjG7LWLSQx",
        "outputId": "5812e598-c381-4437-8248-f3019b71e312"
      },
      "execution_count": 31,
      "outputs": [
        {
          "output_type": "execute_result",
          "data": {
            "text/plain": [
              "array([5, 1, 2, 5, 4, 3, 2, 0, 3, 0, 3, 2, 0, 3, 3, 0, 5, 0, 2, 4, 0, 0,\n",
              "       1, 3, 2, 3, 2, 5, 3, 1, 2, 4, 2, 2, 5, 5, 3, 5, 3, 3, 4, 1, 2, 2,\n",
              "       3, 1, 5, 3, 1, 0, 4, 5, 5, 5, 5, 1, 2, 3, 2, 5, 0, 2, 4, 2, 5, 4,\n",
              "       2, 0, 2, 3, 5, 2, 0, 3, 4, 4, 4, 0, 5, 5, 3, 4, 5, 3, 2, 4, 1, 5,\n",
              "       0, 5, 0, 5, 4, 0, 1, 4, 0, 2, 2, 0, 2, 4, 5, 3, 4, 5, 3, 1, 2, 2,\n",
              "       2, 1, 3, 2, 1, 2, 4, 4, 2, 1, 2, 4, 5, 1, 4, 2, 0, 4, 5, 5, 3, 1,\n",
              "       2, 1, 5, 5, 1, 2, 3, 3, 0, 3, 3, 0, 1, 0, 1, 2, 2, 5, 2, 2, 2, 1,\n",
              "       1, 0, 1, 1, 1, 4, 0, 1, 5, 1, 5, 5, 5, 4, 1, 0, 3, 5, 2, 4, 1, 4,\n",
              "       1, 3, 2, 0, 5, 5, 3, 5, 4, 5, 4, 0, 4, 1, 2, 1, 4, 0, 4, 3, 2, 1,\n",
              "       0, 3, 5, 0, 4, 5, 4, 5, 3])"
            ]
          },
          "metadata": {},
          "execution_count": 31
        }
      ]
    },
    {
      "cell_type": "code",
      "source": [
        "model.save('/content/drive/My Drive/graduation project/audio/paper_code/mariam/original_500 epoch_with_valid_Adam2')\n",
        "print(\"MODEL SAVED\")"
      ],
      "metadata": {
        "colab": {
          "base_uri": "https://localhost:8080/"
        },
        "id": "lsJBNeMWDl6Z",
        "outputId": "dccce5be-7fc6-460a-9201-3b36829dc7d6"
      },
      "execution_count": 32,
      "outputs": [
        {
          "output_type": "stream",
          "name": "stdout",
          "text": [
            "INFO:tensorflow:Assets written to: /content/drive/My Drive/graduation project/audio/paper_code/mariam/original_500 epoch_with_valid_Adam2/assets\n",
            "MODEL SAVED\n"
          ]
        }
      ]
    },
    {
      "cell_type": "code",
      "source": [
        "new_model=keras.models.load_model('/content/drive/My Drive/graduation project/audio/paper_code/mariam/original_500 epoch_with_valid_Adam2')\n",
        "new_model.summary()"
      ],
      "metadata": {
        "colab": {
          "base_uri": "https://localhost:8080/"
        },
        "id": "Q3KjaO9GDoNl",
        "outputId": "af7c7340-db92-43dc-a6fe-0ddad914a23a"
      },
      "execution_count": 33,
      "outputs": [
        {
          "output_type": "stream",
          "name": "stdout",
          "text": [
            "Model: \"sequential\"\n",
            "_________________________________________________________________\n",
            " Layer (type)                Output Shape              Param #   \n",
            "=================================================================\n",
            " conv1d (Conv1D)             (None, 40, 128)           1152      \n",
            "                                                                 \n",
            " activation (Activation)     (None, 40, 128)           0         \n",
            "                                                                 \n",
            " dropout (Dropout)           (None, 40, 128)           0         \n",
            "                                                                 \n",
            " max_pooling1d (MaxPooling1D  (None, 8, 128)           0         \n",
            " )                                                               \n",
            "                                                                 \n",
            " conv1d_1 (Conv1D)           (None, 8, 256)            262400    \n",
            "                                                                 \n",
            " activation_1 (Activation)   (None, 8, 256)            0         \n",
            "                                                                 \n",
            " dropout_1 (Dropout)         (None, 8, 256)            0         \n",
            "                                                                 \n",
            " max_pooling1d_1 (MaxPooling  (None, 1, 256)           0         \n",
            " 1D)                                                             \n",
            "                                                                 \n",
            " flatten (Flatten)           (None, 256)               0         \n",
            "                                                                 \n",
            " dense (Dense)               (None, 256)               65792     \n",
            "                                                                 \n",
            " activation_2 (Activation)   (None, 256)               0         \n",
            "                                                                 \n",
            " dense_1 (Dense)             (None, 256)               65792     \n",
            "                                                                 \n",
            " activation_3 (Activation)   (None, 256)               0         \n",
            "                                                                 \n",
            " dense_2 (Dense)             (None, 6)                 1542      \n",
            "                                                                 \n",
            " activation_4 (Activation)   (None, 6)                 0         \n",
            "                                                                 \n",
            "=================================================================\n",
            "Total params: 396,678\n",
            "Trainable params: 396,678\n",
            "Non-trainable params: 0\n",
            "_________________________________________________________________\n"
          ]
        }
      ]
    },
    {
      "cell_type": "code",
      "source": [
        "predictions = new_model.predict(x_testcnn)"
      ],
      "metadata": {
        "id": "WOKeSzc7T-MZ"
      },
      "execution_count": 34,
      "outputs": []
    },
    {
      "cell_type": "code",
      "source": [
        "predictions"
      ],
      "metadata": {
        "colab": {
          "base_uri": "https://localhost:8080/"
        },
        "id": "3RjQxa2RUBKQ",
        "outputId": "e9206bb8-4fd5-42ba-cb9c-5e4ce8b0024c"
      },
      "execution_count": 35,
      "outputs": [
        {
          "output_type": "execute_result",
          "data": {
            "text/plain": [
              "array([[8.52167141e-03, 1.10138841e-02, 1.12286538e-01, 2.99559031e-02,\n",
              "        6.83514893e-01, 1.54707119e-01],\n",
              "       [8.18625391e-02, 6.31014228e-01, 4.44517918e-02, 7.61395991e-02,\n",
              "        6.35821745e-02, 1.02949746e-01],\n",
              "       [1.95172674e-04, 4.46429523e-03, 8.49163473e-01, 5.88485599e-03,\n",
              "        1.14641629e-01, 2.56506167e-02],\n",
              "       ...,\n",
              "       [3.43118398e-03, 2.22034418e-04, 3.11332010e-03, 1.68017782e-02,\n",
              "        7.76576936e-01, 1.99854717e-01],\n",
              "       [6.58991113e-02, 1.85327921e-02, 2.23888177e-02, 5.15141129e-01,\n",
              "        9.69294645e-03, 3.68345112e-01],\n",
              "       [7.11500971e-03, 5.25307795e-03, 3.60849351e-02, 3.63935858e-01,\n",
              "        1.51692436e-03, 5.86094201e-01]], dtype=float32)"
            ]
          },
          "metadata": {},
          "execution_count": 35
        }
      ]
    },
    {
      "cell_type": "code",
      "source": [
        "loss, acc =new_model.evaluate(x_testcnn, y_test)\n",
        "print(\"Restored model, accuracy: {:5.2f}%\".format(100*acc))"
      ],
      "metadata": {
        "colab": {
          "base_uri": "https://localhost:8080/"
        },
        "id": "n3kzoqPkDqqS",
        "outputId": "3f945abd-14d5-45e0-e5bd-56a82995638e"
      },
      "execution_count": 36,
      "outputs": [
        {
          "output_type": "stream",
          "name": "stdout",
          "text": [
            "7/7 [==============================] - 0s 6ms/step - loss: 0.8359 - accuracy: 0.6618\n",
            "Restored model, accuracy: 66.18%\n"
          ]
        }
      ]
    },
    {
      "cell_type": "code",
      "source": [
        "loss, acc =new_model.evaluate(X_train, y_train)\n",
        "print(\"Restored model train, accuracy: {:5.2f}%\".format(100*acc))"
      ],
      "metadata": {
        "id": "fJDTGH_OUX0z",
        "colab": {
          "base_uri": "https://localhost:8080/"
        },
        "outputId": "79dc7a00-cbdf-4e7f-fce5-da5b23f94eef"
      },
      "execution_count": 37,
      "outputs": [
        {
          "output_type": "stream",
          "name": "stdout",
          "text": [
            "52/52 [==============================] - 0s 6ms/step - loss: 0.0539 - accuracy: 0.9897\n",
            "Restored model train, accuracy: 98.97%\n"
          ]
        }
      ]
    },
    {
      "cell_type": "code",
      "source": [
        "from sklearn.metrics import classification_report, confusion_matrix,accuracy_score\n",
        "import seaborn as sn\n",
        "\n",
        "print(classification_report(new_Ytest,abc))\n",
        "\n",
        "acc = float(accuracy_score(new_Ytest,abc))*100\n",
        "print(\"----accuracy score %s ----\" % acc)\n",
        "\n",
        "cm = confusion_matrix(new_Ytest,abc)\n",
        "#df_cm = pd.DataFrame(cm)\n",
        "class_names = ['neutral','calm', 'happy','sad','angry', 'fearful' ]\n",
        "df_cm = pd.DataFrame(cm, index=class_names, columns=class_names,)\n",
        "sn.heatmap(df_cm, annot=True, fmt='')\n",
        "plt.show()"
      ],
      "metadata": {
        "colab": {
          "base_uri": "https://localhost:8080/",
          "height": 234
        },
        "id": "SfSC3El94LZg",
        "outputId": "e7ca3194-b61c-4fe9-e18e-a66518673195"
      },
      "execution_count": 38,
      "outputs": [
        {
          "output_type": "error",
          "ename": "NameError",
          "evalue": "ignored",
          "traceback": [
            "\u001b[0;31m---------------------------------------------------------------------------\u001b[0m",
            "\u001b[0;31mNameError\u001b[0m                                 Traceback (most recent call last)",
            "\u001b[0;32m<ipython-input-38-7753ee285a76>\u001b[0m in \u001b[0;36m<module>\u001b[0;34m()\u001b[0m\n\u001b[1;32m      2\u001b[0m \u001b[0;32mimport\u001b[0m \u001b[0mseaborn\u001b[0m \u001b[0;32mas\u001b[0m \u001b[0msn\u001b[0m\u001b[0;34m\u001b[0m\u001b[0;34m\u001b[0m\u001b[0m\n\u001b[1;32m      3\u001b[0m \u001b[0;34m\u001b[0m\u001b[0m\n\u001b[0;32m----> 4\u001b[0;31m \u001b[0mprint\u001b[0m\u001b[0;34m(\u001b[0m\u001b[0mclassification_report\u001b[0m\u001b[0;34m(\u001b[0m\u001b[0mnew_Ytest\u001b[0m\u001b[0;34m,\u001b[0m\u001b[0mabc\u001b[0m\u001b[0;34m)\u001b[0m\u001b[0;34m)\u001b[0m\u001b[0;34m\u001b[0m\u001b[0;34m\u001b[0m\u001b[0m\n\u001b[0m\u001b[1;32m      5\u001b[0m \u001b[0;34m\u001b[0m\u001b[0m\n\u001b[1;32m      6\u001b[0m \u001b[0macc\u001b[0m \u001b[0;34m=\u001b[0m \u001b[0mfloat\u001b[0m\u001b[0;34m(\u001b[0m\u001b[0maccuracy_score\u001b[0m\u001b[0;34m(\u001b[0m\u001b[0mnew_Ytest\u001b[0m\u001b[0;34m,\u001b[0m\u001b[0mabc\u001b[0m\u001b[0;34m)\u001b[0m\u001b[0;34m)\u001b[0m\u001b[0;34m*\u001b[0m\u001b[0;36m100\u001b[0m\u001b[0;34m\u001b[0m\u001b[0;34m\u001b[0m\u001b[0m\n",
            "\u001b[0;31mNameError\u001b[0m: name 'abc' is not defined"
          ]
        }
      ]
    },
    {
      "cell_type": "code",
      "source": [
        ""
      ],
      "metadata": {
        "id": "y5OoGgupF7kU"
      },
      "execution_count": null,
      "outputs": []
    }
  ]
}