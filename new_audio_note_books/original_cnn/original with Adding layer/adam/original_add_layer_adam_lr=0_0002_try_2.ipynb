{
  "nbformat": 4,
  "nbformat_minor": 0,
  "metadata": {
    "colab": {
      "name": "original add layer adam lr=0.0002 try 2.ipynb",
      "provenance": [],
      "collapsed_sections": []
    },
    "kernelspec": {
      "name": "python3",
      "display_name": "Python 3"
    },
    "language_info": {
      "name": "python"
    },
    "accelerator": "GPU"
  },
  "cells": [
    {
      "cell_type": "code",
      "execution_count": 1,
      "metadata": {
        "colab": {
          "base_uri": "https://localhost:8080/"
        },
        "id": "9SRCO-a_AlH5",
        "outputId": "16e71e89-affa-446d-dac3-10907e88ffb0"
      },
      "outputs": [
        {
          "output_type": "stream",
          "name": "stdout",
          "text": [
            "Drive already mounted at /content/drive; to attempt to forcibly remount, call drive.mount(\"/content/drive\", force_remount=True).\n"
          ]
        }
      ],
      "source": [
        "from google.colab import drive\n",
        "drive.mount('/content/drive')"
      ]
    },
    {
      "cell_type": "code",
      "source": [
        "!pip install librosa"
      ],
      "metadata": {
        "colab": {
          "base_uri": "https://localhost:8080/"
        },
        "id": "5Lo4mUwG9RMd",
        "outputId": "76103fe0-8b8b-470b-ee21-6926cdaba2ea"
      },
      "execution_count": 2,
      "outputs": [
        {
          "output_type": "stream",
          "name": "stdout",
          "text": [
            "Looking in indexes: https://pypi.org/simple, https://us-python.pkg.dev/colab-wheels/public/simple/\n",
            "Requirement already satisfied: librosa in /usr/local/lib/python3.7/dist-packages (0.8.1)\n",
            "Requirement already satisfied: decorator>=3.0.0 in /usr/local/lib/python3.7/dist-packages (from librosa) (4.4.2)\n",
            "Requirement already satisfied: numba>=0.43.0 in /usr/local/lib/python3.7/dist-packages (from librosa) (0.51.2)\n",
            "Requirement already satisfied: numpy>=1.15.0 in /usr/local/lib/python3.7/dist-packages (from librosa) (1.21.6)\n",
            "Requirement already satisfied: resampy>=0.2.2 in /usr/local/lib/python3.7/dist-packages (from librosa) (0.2.2)\n",
            "Requirement already satisfied: scikit-learn!=0.19.0,>=0.14.0 in /usr/local/lib/python3.7/dist-packages (from librosa) (1.0.2)\n",
            "Requirement already satisfied: soundfile>=0.10.2 in /usr/local/lib/python3.7/dist-packages (from librosa) (0.10.3.post1)\n",
            "Requirement already satisfied: joblib>=0.14 in /usr/local/lib/python3.7/dist-packages (from librosa) (1.1.0)\n",
            "Requirement already satisfied: packaging>=20.0 in /usr/local/lib/python3.7/dist-packages (from librosa) (21.3)\n",
            "Requirement already satisfied: audioread>=2.0.0 in /usr/local/lib/python3.7/dist-packages (from librosa) (2.1.9)\n",
            "Requirement already satisfied: scipy>=1.0.0 in /usr/local/lib/python3.7/dist-packages (from librosa) (1.4.1)\n",
            "Requirement already satisfied: pooch>=1.0 in /usr/local/lib/python3.7/dist-packages (from librosa) (1.6.0)\n",
            "Requirement already satisfied: setuptools in /usr/local/lib/python3.7/dist-packages (from numba>=0.43.0->librosa) (57.4.0)\n",
            "Requirement already satisfied: llvmlite<0.35,>=0.34.0.dev0 in /usr/local/lib/python3.7/dist-packages (from numba>=0.43.0->librosa) (0.34.0)\n",
            "Requirement already satisfied: pyparsing!=3.0.5,>=2.0.2 in /usr/local/lib/python3.7/dist-packages (from packaging>=20.0->librosa) (3.0.9)\n",
            "Requirement already satisfied: requests>=2.19.0 in /usr/local/lib/python3.7/dist-packages (from pooch>=1.0->librosa) (2.23.0)\n",
            "Requirement already satisfied: appdirs>=1.3.0 in /usr/local/lib/python3.7/dist-packages (from pooch>=1.0->librosa) (1.4.4)\n",
            "Requirement already satisfied: urllib3!=1.25.0,!=1.25.1,<1.26,>=1.21.1 in /usr/local/lib/python3.7/dist-packages (from requests>=2.19.0->pooch>=1.0->librosa) (1.24.3)\n",
            "Requirement already satisfied: chardet<4,>=3.0.2 in /usr/local/lib/python3.7/dist-packages (from requests>=2.19.0->pooch>=1.0->librosa) (3.0.4)\n",
            "Requirement already satisfied: idna<3,>=2.5 in /usr/local/lib/python3.7/dist-packages (from requests>=2.19.0->pooch>=1.0->librosa) (2.10)\n",
            "Requirement already satisfied: certifi>=2017.4.17 in /usr/local/lib/python3.7/dist-packages (from requests>=2.19.0->pooch>=1.0->librosa) (2022.5.18.1)\n",
            "Requirement already satisfied: six>=1.3 in /usr/local/lib/python3.7/dist-packages (from resampy>=0.2.2->librosa) (1.15.0)\n",
            "Requirement already satisfied: threadpoolctl>=2.0.0 in /usr/local/lib/python3.7/dist-packages (from scikit-learn!=0.19.0,>=0.14.0->librosa) (3.1.0)\n",
            "Requirement already satisfied: cffi>=1.0 in /usr/local/lib/python3.7/dist-packages (from soundfile>=0.10.2->librosa) (1.15.0)\n",
            "Requirement already satisfied: pycparser in /usr/local/lib/python3.7/dist-packages (from cffi>=1.0->soundfile>=0.10.2->librosa) (2.21)\n"
          ]
        }
      ]
    },
    {
      "cell_type": "code",
      "metadata": {
        "id": "HJjcbxwy46bG",
        "colab": {
          "base_uri": "https://localhost:8080/",
          "height": 17
        },
        "outputId": "b30f841f-b607-4bf6-fe18-377482c6ffc6"
      },
      "source": [
        "# Orignial Notebook: https://github.com/MITESHPUTHRANNEU/Speech-Emotion-Analyzer/blob/master/final_results_gender_test.ipynb\n",
        "# This notebook author: Reza Chu\n",
        "# Last Editing Date: 31st May 2019\n",
        "\n",
        "## Python\n",
        "import os\n",
        "import random\n",
        "import sys\n",
        "\n",
        "import IPython\n",
        "from IPython.display import Audio\n",
        "from IPython.display import Image\n",
        "import matplotlib.pyplot as plt\n",
        "\n",
        "## Package\n",
        "import glob \n",
        "import keras\n",
        "import IPython.display as ipd\n",
        "import librosa\n",
        "import librosa.display\n",
        "import matplotlib.pyplot as plt\n",
        "import numpy as np\n",
        "import pandas as pd\n",
        "import plotly.graph_objs as go\n",
        "import plotly.offline as py\n",
        "import plotly.tools as tls\n",
        "import seaborn as sns\n",
        "import scipy.io.wavfile\n",
        "import tensorflow as tf\n",
        "py.init_notebook_mode(connected=True)\n",
        "\n",
        "## Keras\n",
        "from keras import regularizers\n",
        "from keras.callbacks import ModelCheckpoint, LearningRateScheduler, EarlyStopping\n",
        "from keras.callbacks import  History, ReduceLROnPlateau, CSVLogger\n",
        "from keras.models import Model, Sequential\n",
        "from keras.layers import Dense, Embedding, LSTM\n",
        "from keras.layers import Input, Flatten, Dropout, Activation, BatchNormalization\n",
        "from keras.layers import Conv1D, MaxPooling1D, AveragePooling1D\n",
        "from keras.preprocessing import sequence\n",
        "from keras.preprocessing.sequence import pad_sequences\n",
        "from keras.preprocessing.text import Tokenizer\n",
        "from keras.utils import np_utils\n",
        "from tensorflow.keras.utils import to_categorical\n",
        "\n",
        "## Sklearn\n",
        "from sklearn.metrics import confusion_matrix\n",
        "from sklearn.preprocessing import LabelEncoder\n",
        "\n",
        "## Rest\n",
        "from scipy.fftpack import fft\n",
        "from scipy import signal\n",
        "from scipy.io import wavfile\n",
        "from tqdm import tqdm\n",
        "\n",
        "input_duration=3\n",
        "# % pylab inline"
      ],
      "execution_count": 3,
      "outputs": [
        {
          "output_type": "display_data",
          "data": {
            "text/html": [
              "        <script type=\"text/javascript\">\n",
              "        window.PlotlyConfig = {MathJaxConfig: 'local'};\n",
              "        if (window.MathJax) {MathJax.Hub.Config({SVG: {font: \"STIX-Web\"}});}\n",
              "        if (typeof require !== 'undefined') {\n",
              "        require.undef(\"plotly\");\n",
              "        requirejs.config({\n",
              "            paths: {\n",
              "                'plotly': ['https://cdn.plot.ly/plotly-2.8.3.min']\n",
              "            }\n",
              "        });\n",
              "        require(['plotly'], function(Plotly) {\n",
              "            window._Plotly = Plotly;\n",
              "        });\n",
              "        }\n",
              "        </script>\n",
              "        "
            ]
          },
          "metadata": {}
        }
      ]
    },
    {
      "cell_type": "code",
      "source": [
        "# # Saving joblib files to not load them again with the loop above\n",
        "\n",
        "# import joblib\n",
        "\n",
        "# X_name = 'x.joblib'\n",
        "# y_name = 'y.joblib'\n",
        "# save_dir = '/content/drive/My Drive/graduation project/audio/paper_code/features'\n",
        "\n",
        "# savedX = joblib.dump(X, os.path.join(save_dir, X_name))\n",
        "# savedy = joblib.dump(y, os.path.join(save_dir, y_name))"
      ],
      "metadata": {
        "id": "UCzic8rlDcuk"
      },
      "execution_count": 4,
      "outputs": []
    },
    {
      "cell_type": "code",
      "source": [
        "# # Loading saved models\n",
        "import joblib\n",
        "X = joblib.load('/content/drive/My Drive/graduation project/audio/paper_code/features/x.joblib')\n",
        "y = joblib.load('/content/drive/My Drive/graduation project/audio/paper_code/features/y.joblib')"
      ],
      "metadata": {
        "id": "Q35CN6zDrzg1"
      },
      "execution_count": 5,
      "outputs": []
    },
    {
      "cell_type": "code",
      "source": [
        "X.shape"
      ],
      "metadata": {
        "colab": {
          "base_uri": "https://localhost:8080/"
        },
        "id": "7PSTurzjCo5K",
        "outputId": "e3e81aed-616f-4c4e-acf7-404ed59a3b2e"
      },
      "execution_count": 6,
      "outputs": [
        {
          "output_type": "execute_result",
          "data": {
            "text/plain": [
              "(2068, 40)"
            ]
          },
          "metadata": {},
          "execution_count": 6
        }
      ]
    },
    {
      "cell_type": "code",
      "source": [
        "from sklearn.model_selection import train_test_split\n",
        "\n",
        "X_train, X_test, y_train, y_test = train_test_split(X,y, test_size=0.1 ,shuffle = True\n",
        "                                                    , random_state=42)\n",
        "X_train , X_valid, y_train, y_valid = train_test_split(X_train,y_train, test_size=0.1112305212 , shuffle = True \n",
        "                                                       , random_state=42)"
      ],
      "metadata": {
        "id": "Ai4Fy5cPCiq1"
      },
      "execution_count": 7,
      "outputs": []
    },
    {
      "cell_type": "code",
      "source": [
        "import numpy as np\n",
        "x_traincnn = np.expand_dims(X_train, axis=2)\n",
        "x_testcnn = np.expand_dims(X_test, axis=2)\n",
        "X_valid= np.expand_dims(X_valid, axis=2)"
      ],
      "metadata": {
        "id": "tp1Fm5K3CEXu"
      },
      "execution_count": 8,
      "outputs": []
    },
    {
      "cell_type": "code",
      "source": [
        "x_traincnn.shape, x_testcnn.shape , X_valid.shape\n",
        "#1861"
      ],
      "metadata": {
        "id": "RI0MxoIPBws5",
        "colab": {
          "base_uri": "https://localhost:8080/"
        },
        "outputId": "b9e73c57-0be5-446f-d118-48bc7ec5b107"
      },
      "execution_count": 9,
      "outputs": [
        {
          "output_type": "execute_result",
          "data": {
            "text/plain": [
              "((1654, 40, 1), (207, 40, 1), (207, 40, 1))"
            ]
          },
          "metadata": {},
          "execution_count": 9
        }
      ]
    },
    {
      "cell_type": "code",
      "source": [
        "!pip install tensorflow"
      ],
      "metadata": {
        "colab": {
          "base_uri": "https://localhost:8080/"
        },
        "id": "oALhiMUd9G2Y",
        "outputId": "dd0909ab-b3fc-4e49-a332-b690ba624f03"
      },
      "execution_count": 10,
      "outputs": [
        {
          "output_type": "stream",
          "name": "stdout",
          "text": [
            "Looking in indexes: https://pypi.org/simple, https://us-python.pkg.dev/colab-wheels/public/simple/\n",
            "Requirement already satisfied: tensorflow in /usr/local/lib/python3.7/dist-packages (2.8.2+zzzcolab20220527125636)\n",
            "Requirement already satisfied: typing-extensions>=3.6.6 in /usr/local/lib/python3.7/dist-packages (from tensorflow) (4.2.0)\n",
            "Requirement already satisfied: tensorboard<2.9,>=2.8 in /usr/local/lib/python3.7/dist-packages (from tensorflow) (2.8.0)\n",
            "Requirement already satisfied: h5py>=2.9.0 in /usr/local/lib/python3.7/dist-packages (from tensorflow) (3.1.0)\n",
            "Requirement already satisfied: gast>=0.2.1 in /usr/local/lib/python3.7/dist-packages (from tensorflow) (0.5.3)\n",
            "Requirement already satisfied: astunparse>=1.6.0 in /usr/local/lib/python3.7/dist-packages (from tensorflow) (1.6.3)\n",
            "Requirement already satisfied: opt-einsum>=2.3.2 in /usr/local/lib/python3.7/dist-packages (from tensorflow) (3.3.0)\n",
            "Requirement already satisfied: absl-py>=0.4.0 in /usr/local/lib/python3.7/dist-packages (from tensorflow) (1.0.0)\n",
            "Requirement already satisfied: keras<2.9,>=2.8.0rc0 in /usr/local/lib/python3.7/dist-packages (from tensorflow) (2.8.0)\n",
            "Requirement already satisfied: google-pasta>=0.1.1 in /usr/local/lib/python3.7/dist-packages (from tensorflow) (0.2.0)\n",
            "Requirement already satisfied: tensorflow-io-gcs-filesystem>=0.23.1 in /usr/local/lib/python3.7/dist-packages (from tensorflow) (0.26.0)\n",
            "Requirement already satisfied: grpcio<2.0,>=1.24.3 in /usr/local/lib/python3.7/dist-packages (from tensorflow) (1.46.3)\n",
            "Requirement already satisfied: tensorflow-estimator<2.9,>=2.8 in /usr/local/lib/python3.7/dist-packages (from tensorflow) (2.8.0)\n",
            "Requirement already satisfied: flatbuffers>=1.12 in /usr/local/lib/python3.7/dist-packages (from tensorflow) (2.0)\n",
            "Requirement already satisfied: six>=1.12.0 in /usr/local/lib/python3.7/dist-packages (from tensorflow) (1.15.0)\n",
            "Requirement already satisfied: wrapt>=1.11.0 in /usr/local/lib/python3.7/dist-packages (from tensorflow) (1.14.1)\n",
            "Requirement already satisfied: termcolor>=1.1.0 in /usr/local/lib/python3.7/dist-packages (from tensorflow) (1.1.0)\n",
            "Requirement already satisfied: keras-preprocessing>=1.1.1 in /usr/local/lib/python3.7/dist-packages (from tensorflow) (1.1.2)\n",
            "Requirement already satisfied: protobuf<3.20,>=3.9.2 in /usr/local/lib/python3.7/dist-packages (from tensorflow) (3.17.3)\n",
            "Requirement already satisfied: libclang>=9.0.1 in /usr/local/lib/python3.7/dist-packages (from tensorflow) (14.0.1)\n",
            "Requirement already satisfied: setuptools in /usr/local/lib/python3.7/dist-packages (from tensorflow) (57.4.0)\n",
            "Requirement already satisfied: numpy>=1.20 in /usr/local/lib/python3.7/dist-packages (from tensorflow) (1.21.6)\n",
            "Requirement already satisfied: wheel<1.0,>=0.23.0 in /usr/local/lib/python3.7/dist-packages (from astunparse>=1.6.0->tensorflow) (0.37.1)\n",
            "Requirement already satisfied: cached-property in /usr/local/lib/python3.7/dist-packages (from h5py>=2.9.0->tensorflow) (1.5.2)\n",
            "Requirement already satisfied: tensorboard-data-server<0.7.0,>=0.6.0 in /usr/local/lib/python3.7/dist-packages (from tensorboard<2.9,>=2.8->tensorflow) (0.6.1)\n",
            "Requirement already satisfied: markdown>=2.6.8 in /usr/local/lib/python3.7/dist-packages (from tensorboard<2.9,>=2.8->tensorflow) (3.3.7)\n",
            "Requirement already satisfied: google-auth-oauthlib<0.5,>=0.4.1 in /usr/local/lib/python3.7/dist-packages (from tensorboard<2.9,>=2.8->tensorflow) (0.4.6)\n",
            "Requirement already satisfied: tensorboard-plugin-wit>=1.6.0 in /usr/local/lib/python3.7/dist-packages (from tensorboard<2.9,>=2.8->tensorflow) (1.8.1)\n",
            "Requirement already satisfied: werkzeug>=0.11.15 in /usr/local/lib/python3.7/dist-packages (from tensorboard<2.9,>=2.8->tensorflow) (1.0.1)\n",
            "Requirement already satisfied: google-auth<3,>=1.6.3 in /usr/local/lib/python3.7/dist-packages (from tensorboard<2.9,>=2.8->tensorflow) (1.35.0)\n",
            "Requirement already satisfied: requests<3,>=2.21.0 in /usr/local/lib/python3.7/dist-packages (from tensorboard<2.9,>=2.8->tensorflow) (2.23.0)\n",
            "Requirement already satisfied: pyasn1-modules>=0.2.1 in /usr/local/lib/python3.7/dist-packages (from google-auth<3,>=1.6.3->tensorboard<2.9,>=2.8->tensorflow) (0.2.8)\n",
            "Requirement already satisfied: rsa<5,>=3.1.4 in /usr/local/lib/python3.7/dist-packages (from google-auth<3,>=1.6.3->tensorboard<2.9,>=2.8->tensorflow) (4.8)\n",
            "Requirement already satisfied: cachetools<5.0,>=2.0.0 in /usr/local/lib/python3.7/dist-packages (from google-auth<3,>=1.6.3->tensorboard<2.9,>=2.8->tensorflow) (4.2.4)\n",
            "Requirement already satisfied: requests-oauthlib>=0.7.0 in /usr/local/lib/python3.7/dist-packages (from google-auth-oauthlib<0.5,>=0.4.1->tensorboard<2.9,>=2.8->tensorflow) (1.3.1)\n",
            "Requirement already satisfied: importlib-metadata>=4.4 in /usr/local/lib/python3.7/dist-packages (from markdown>=2.6.8->tensorboard<2.9,>=2.8->tensorflow) (4.11.4)\n",
            "Requirement already satisfied: zipp>=0.5 in /usr/local/lib/python3.7/dist-packages (from importlib-metadata>=4.4->markdown>=2.6.8->tensorboard<2.9,>=2.8->tensorflow) (3.8.0)\n",
            "Requirement already satisfied: pyasn1<0.5.0,>=0.4.6 in /usr/local/lib/python3.7/dist-packages (from pyasn1-modules>=0.2.1->google-auth<3,>=1.6.3->tensorboard<2.9,>=2.8->tensorflow) (0.4.8)\n",
            "Requirement already satisfied: certifi>=2017.4.17 in /usr/local/lib/python3.7/dist-packages (from requests<3,>=2.21.0->tensorboard<2.9,>=2.8->tensorflow) (2022.5.18.1)\n",
            "Requirement already satisfied: chardet<4,>=3.0.2 in /usr/local/lib/python3.7/dist-packages (from requests<3,>=2.21.0->tensorboard<2.9,>=2.8->tensorflow) (3.0.4)\n",
            "Requirement already satisfied: idna<3,>=2.5 in /usr/local/lib/python3.7/dist-packages (from requests<3,>=2.21.0->tensorboard<2.9,>=2.8->tensorflow) (2.10)\n",
            "Requirement already satisfied: urllib3!=1.25.0,!=1.25.1,<1.26,>=1.21.1 in /usr/local/lib/python3.7/dist-packages (from requests<3,>=2.21.0->tensorboard<2.9,>=2.8->tensorflow) (1.24.3)\n",
            "Requirement already satisfied: oauthlib>=3.0.0 in /usr/local/lib/python3.7/dist-packages (from requests-oauthlib>=0.7.0->google-auth-oauthlib<0.5,>=0.4.1->tensorboard<2.9,>=2.8->tensorflow) (3.2.0)\n"
          ]
        }
      ]
    },
    {
      "cell_type": "code",
      "source": [
        "import keras\n",
        "import numpy as np\n",
        "import matplotlib.pyplot as plt\n",
        "import tensorflow as tf\n",
        "from keras.preprocessing import sequence\n",
        "from keras.models import Sequential\n",
        "from keras.layers import Dense, Embedding\n",
        "from tensorflow.keras.utils import to_categorical\n",
        "from keras.layers import Input, Flatten, Dropout, Activation\n",
        "from keras.layers import Conv1D, MaxPooling1D\n",
        "from keras.models import Model\n",
        "from keras.callbacks import ModelCheckpoint\n",
        "from tensorflow.keras import optimizers\n",
        "\n",
        "model = Sequential()\n",
        "\n",
        "model.add(Conv1D(128, 8,padding='same', #classifier.add(Convolution2D(64, (3, 3), padding = 'same', input_shape = (128, 128, 3), activation = 'relu'))\n",
        "                 input_shape=(40,1)))\n",
        "model.add(Activation('relu'))\n",
        "model.add(Dropout(0.3))\n",
        "model.add(MaxPooling1D(pool_size=(5)))\n",
        "\n",
        "\n",
        "model.add(Conv1D(256,8,padding='same',))\n",
        "model.add(Activation('relu'))\n",
        "model.add(Dropout(0.3))\n",
        "model.add(MaxPooling1D(pool_size=(5)))\n",
        "\n",
        "model.add(Conv1D(256,8,padding='same',))\n",
        "model.add(Activation('relu'))\n",
        "model.add(Dropout(0.3))\n",
        "#model.add(MaxPooling1D(pool_size=(5)))\n",
        "\n",
        "model.add(Flatten())\n",
        "\n",
        "model.add(Dense(256))\n",
        "model.add(Activation('relu'))\n",
        "model.add(Dense(256))\n",
        "model.add(Activation('relu'))\n",
        "\n",
        "model.add(Dense(6))\n",
        "model.add(Activation('softmax'))\n",
        "\n",
        "opt = tf.keras.optimizers.Adam(lr=0.0002 , decay=0.0)\n",
        "#opt = tf.keras.optimizers.RMSprop(lr=0.0001, rho=0.9, epsilon=1e-07, decay=0.0)\n",
        "#opt = tf.keras.optimizers.SGD(lr=0.001, momentum=0.0, decay=0.0, nesterov=False)"
      ],
      "metadata": {
        "id": "g74fXWVAC4Cr",
        "colab": {
          "base_uri": "https://localhost:8080/"
        },
        "outputId": "b48967b4-a6d7-4082-991d-00e49a1b560d"
      },
      "execution_count": 11,
      "outputs": [
        {
          "output_type": "stream",
          "name": "stderr",
          "text": [
            "/usr/local/lib/python3.7/dist-packages/keras/optimizer_v2/adam.py:105: UserWarning:\n",
            "\n",
            "The `lr` argument is deprecated, use `learning_rate` instead.\n",
            "\n"
          ]
        }
      ]
    },
    {
      "cell_type": "code",
      "source": [
        "model.summary()"
      ],
      "metadata": {
        "colab": {
          "base_uri": "https://localhost:8080/"
        },
        "id": "H6ukOxAGC_I4",
        "outputId": "dd07923d-a0d9-4ffb-8e51-0941fc4df9df"
      },
      "execution_count": 12,
      "outputs": [
        {
          "output_type": "stream",
          "name": "stdout",
          "text": [
            "Model: \"sequential\"\n",
            "_________________________________________________________________\n",
            " Layer (type)                Output Shape              Param #   \n",
            "=================================================================\n",
            " conv1d (Conv1D)             (None, 40, 128)           1152      \n",
            "                                                                 \n",
            " activation (Activation)     (None, 40, 128)           0         \n",
            "                                                                 \n",
            " dropout (Dropout)           (None, 40, 128)           0         \n",
            "                                                                 \n",
            " max_pooling1d (MaxPooling1D  (None, 8, 128)           0         \n",
            " )                                                               \n",
            "                                                                 \n",
            " conv1d_1 (Conv1D)           (None, 8, 256)            262400    \n",
            "                                                                 \n",
            " activation_1 (Activation)   (None, 8, 256)            0         \n",
            "                                                                 \n",
            " dropout_1 (Dropout)         (None, 8, 256)            0         \n",
            "                                                                 \n",
            " max_pooling1d_1 (MaxPooling  (None, 1, 256)           0         \n",
            " 1D)                                                             \n",
            "                                                                 \n",
            " conv1d_2 (Conv1D)           (None, 1, 256)            524544    \n",
            "                                                                 \n",
            " activation_2 (Activation)   (None, 1, 256)            0         \n",
            "                                                                 \n",
            " dropout_2 (Dropout)         (None, 1, 256)            0         \n",
            "                                                                 \n",
            " flatten (Flatten)           (None, 256)               0         \n",
            "                                                                 \n",
            " dense (Dense)               (None, 256)               65792     \n",
            "                                                                 \n",
            " activation_3 (Activation)   (None, 256)               0         \n",
            "                                                                 \n",
            " dense_1 (Dense)             (None, 256)               65792     \n",
            "                                                                 \n",
            " activation_4 (Activation)   (None, 256)               0         \n",
            "                                                                 \n",
            " dense_2 (Dense)             (None, 6)                 1542      \n",
            "                                                                 \n",
            " activation_5 (Activation)   (None, 6)                 0         \n",
            "                                                                 \n",
            "=================================================================\n",
            "Total params: 921,222\n",
            "Trainable params: 921,222\n",
            "Non-trainable params: 0\n",
            "_________________________________________________________________\n"
          ]
        }
      ]
    },
    {
      "cell_type": "code",
      "source": [
        "model.compile(loss='sparse_categorical_crossentropy',\n",
        "              optimizer=opt,\n",
        "              metrics=['accuracy'])"
      ],
      "metadata": {
        "id": "AbMlLNk4DCBM"
      },
      "execution_count": 13,
      "outputs": []
    },
    {
      "cell_type": "code",
      "source": [
        "# Create an Instance of Early Stopping Callback.\n",
        "early_stopping_callback = EarlyStopping(monitor = 'val_loss', patience = 25, mode = 'min', restore_best_weights = True)\n",
        "\n",
        "cnnhistory=model.fit(x_traincnn, y_train, batch_size=16, epochs=500 , shuffle = True, \n",
        "                     validation_data=(X_valid, y_valid) , callbacks = [early_stopping_callback])"
      ],
      "metadata": {
        "colab": {
          "base_uri": "https://localhost:8080/"
        },
        "id": "RI1v2AuADFhy",
        "outputId": "51be0dd8-b958-499c-a744-6f6728c6624c"
      },
      "execution_count": 14,
      "outputs": [
        {
          "output_type": "stream",
          "name": "stdout",
          "text": [
            "Epoch 1/500\n",
            "104/104 [==============================] - 5s 14ms/step - loss: 2.3394 - accuracy: 0.1675 - val_loss: 1.8009 - val_accuracy: 0.2029\n",
            "Epoch 2/500\n",
            "104/104 [==============================] - 1s 8ms/step - loss: 1.8831 - accuracy: 0.1892 - val_loss: 1.7963 - val_accuracy: 0.1932\n",
            "Epoch 3/500\n",
            "104/104 [==============================] - 1s 10ms/step - loss: 1.8267 - accuracy: 0.1971 - val_loss: 1.7774 - val_accuracy: 0.1787\n",
            "Epoch 4/500\n",
            "104/104 [==============================] - 1s 9ms/step - loss: 1.8072 - accuracy: 0.1959 - val_loss: 1.7760 - val_accuracy: 0.1256\n",
            "Epoch 5/500\n",
            "104/104 [==============================] - 1s 9ms/step - loss: 1.8006 - accuracy: 0.2092 - val_loss: 1.7739 - val_accuracy: 0.2271\n",
            "Epoch 6/500\n",
            "104/104 [==============================] - 1s 9ms/step - loss: 1.7832 - accuracy: 0.2025 - val_loss: 1.7667 - val_accuracy: 0.1836\n",
            "Epoch 7/500\n",
            "104/104 [==============================] - 1s 10ms/step - loss: 1.7717 - accuracy: 0.2170 - val_loss: 1.7489 - val_accuracy: 0.2271\n",
            "Epoch 8/500\n",
            "104/104 [==============================] - 1s 8ms/step - loss: 1.7536 - accuracy: 0.2291 - val_loss: 1.7454 - val_accuracy: 0.2899\n",
            "Epoch 9/500\n",
            "104/104 [==============================] - 1s 9ms/step - loss: 1.7569 - accuracy: 0.2195 - val_loss: 1.7487 - val_accuracy: 0.2415\n",
            "Epoch 10/500\n",
            "104/104 [==============================] - 1s 8ms/step - loss: 1.7404 - accuracy: 0.2255 - val_loss: 1.7196 - val_accuracy: 0.2754\n",
            "Epoch 11/500\n",
            "104/104 [==============================] - 1s 9ms/step - loss: 1.7174 - accuracy: 0.2497 - val_loss: 1.6987 - val_accuracy: 0.3043\n",
            "Epoch 12/500\n",
            "104/104 [==============================] - 1s 10ms/step - loss: 1.7074 - accuracy: 0.2364 - val_loss: 1.6959 - val_accuracy: 0.2802\n",
            "Epoch 13/500\n",
            "104/104 [==============================] - 1s 11ms/step - loss: 1.6753 - accuracy: 0.2684 - val_loss: 1.7034 - val_accuracy: 0.2947\n",
            "Epoch 14/500\n",
            "104/104 [==============================] - 1s 8ms/step - loss: 1.6817 - accuracy: 0.2739 - val_loss: 1.7018 - val_accuracy: 0.2657\n",
            "Epoch 15/500\n",
            "104/104 [==============================] - 1s 10ms/step - loss: 1.6656 - accuracy: 0.2739 - val_loss: 1.6751 - val_accuracy: 0.2705\n",
            "Epoch 16/500\n",
            "104/104 [==============================] - 1s 10ms/step - loss: 1.6469 - accuracy: 0.2799 - val_loss: 1.6165 - val_accuracy: 0.2947\n",
            "Epoch 17/500\n",
            "104/104 [==============================] - 1s 12ms/step - loss: 1.6272 - accuracy: 0.2805 - val_loss: 1.6246 - val_accuracy: 0.2899\n",
            "Epoch 18/500\n",
            "104/104 [==============================] - 1s 10ms/step - loss: 1.5981 - accuracy: 0.2956 - val_loss: 1.6412 - val_accuracy: 0.2850\n",
            "Epoch 19/500\n",
            "104/104 [==============================] - 1s 10ms/step - loss: 1.5910 - accuracy: 0.3029 - val_loss: 1.5885 - val_accuracy: 0.2754\n",
            "Epoch 20/500\n",
            "104/104 [==============================] - 1s 10ms/step - loss: 1.5646 - accuracy: 0.3241 - val_loss: 1.5573 - val_accuracy: 0.3478\n",
            "Epoch 21/500\n",
            "104/104 [==============================] - 1s 9ms/step - loss: 1.5517 - accuracy: 0.3132 - val_loss: 1.6106 - val_accuracy: 0.3092\n",
            "Epoch 22/500\n",
            "104/104 [==============================] - 1s 11ms/step - loss: 1.5763 - accuracy: 0.3102 - val_loss: 1.5910 - val_accuracy: 0.2947\n",
            "Epoch 23/500\n",
            "104/104 [==============================] - 1s 10ms/step - loss: 1.5433 - accuracy: 0.3271 - val_loss: 1.5531 - val_accuracy: 0.3092\n",
            "Epoch 24/500\n",
            "104/104 [==============================] - 1s 8ms/step - loss: 1.5286 - accuracy: 0.3368 - val_loss: 1.5357 - val_accuracy: 0.3961\n",
            "Epoch 25/500\n",
            "104/104 [==============================] - 1s 9ms/step - loss: 1.5299 - accuracy: 0.3313 - val_loss: 1.5569 - val_accuracy: 0.3043\n",
            "Epoch 26/500\n",
            "104/104 [==============================] - 1s 6ms/step - loss: 1.5075 - accuracy: 0.3476 - val_loss: 1.5514 - val_accuracy: 0.3188\n",
            "Epoch 27/500\n",
            "104/104 [==============================] - 1s 5ms/step - loss: 1.4897 - accuracy: 0.3700 - val_loss: 1.4982 - val_accuracy: 0.4010\n",
            "Epoch 28/500\n",
            "104/104 [==============================] - 1s 5ms/step - loss: 1.4765 - accuracy: 0.3622 - val_loss: 1.4464 - val_accuracy: 0.4348\n",
            "Epoch 29/500\n",
            "104/104 [==============================] - 1s 6ms/step - loss: 1.4500 - accuracy: 0.3779 - val_loss: 1.4704 - val_accuracy: 0.3865\n",
            "Epoch 30/500\n",
            "104/104 [==============================] - 0s 5ms/step - loss: 1.4201 - accuracy: 0.3821 - val_loss: 1.4324 - val_accuracy: 0.3816\n",
            "Epoch 31/500\n",
            "104/104 [==============================] - 1s 6ms/step - loss: 1.4025 - accuracy: 0.3881 - val_loss: 1.3961 - val_accuracy: 0.4348\n",
            "Epoch 32/500\n",
            "104/104 [==============================] - 1s 6ms/step - loss: 1.3622 - accuracy: 0.4202 - val_loss: 1.3313 - val_accuracy: 0.4686\n",
            "Epoch 33/500\n",
            "104/104 [==============================] - 1s 5ms/step - loss: 1.3454 - accuracy: 0.4462 - val_loss: 1.3280 - val_accuracy: 0.4396\n",
            "Epoch 34/500\n",
            "104/104 [==============================] - 1s 6ms/step - loss: 1.3137 - accuracy: 0.4619 - val_loss: 1.3179 - val_accuracy: 0.4638\n",
            "Epoch 35/500\n",
            "104/104 [==============================] - 1s 5ms/step - loss: 1.2986 - accuracy: 0.4522 - val_loss: 1.2444 - val_accuracy: 0.4976\n",
            "Epoch 36/500\n",
            "104/104 [==============================] - 1s 6ms/step - loss: 1.2645 - accuracy: 0.4601 - val_loss: 1.2309 - val_accuracy: 0.4928\n",
            "Epoch 37/500\n",
            "104/104 [==============================] - 1s 5ms/step - loss: 1.2376 - accuracy: 0.4825 - val_loss: 1.2544 - val_accuracy: 0.5314\n",
            "Epoch 38/500\n",
            "104/104 [==============================] - 1s 5ms/step - loss: 1.2117 - accuracy: 0.4831 - val_loss: 1.2441 - val_accuracy: 0.4155\n",
            "Epoch 39/500\n",
            "104/104 [==============================] - 1s 6ms/step - loss: 1.2018 - accuracy: 0.4988 - val_loss: 1.2080 - val_accuracy: 0.4928\n",
            "Epoch 40/500\n",
            "104/104 [==============================] - 1s 5ms/step - loss: 1.1736 - accuracy: 0.5266 - val_loss: 1.1632 - val_accuracy: 0.5024\n",
            "Epoch 41/500\n",
            "104/104 [==============================] - 1s 6ms/step - loss: 1.1619 - accuracy: 0.5266 - val_loss: 1.1443 - val_accuracy: 0.5700\n",
            "Epoch 42/500\n",
            "104/104 [==============================] - 1s 5ms/step - loss: 1.1298 - accuracy: 0.5314 - val_loss: 1.1772 - val_accuracy: 0.4734\n",
            "Epoch 43/500\n",
            "104/104 [==============================] - 1s 5ms/step - loss: 1.1094 - accuracy: 0.5333 - val_loss: 1.1177 - val_accuracy: 0.5700\n",
            "Epoch 44/500\n",
            "104/104 [==============================] - 1s 6ms/step - loss: 1.1270 - accuracy: 0.5333 - val_loss: 1.1048 - val_accuracy: 0.5459\n",
            "Epoch 45/500\n",
            "104/104 [==============================] - 1s 5ms/step - loss: 1.0911 - accuracy: 0.5593 - val_loss: 1.0704 - val_accuracy: 0.5556\n",
            "Epoch 46/500\n",
            "104/104 [==============================] - 1s 6ms/step - loss: 1.0684 - accuracy: 0.5562 - val_loss: 1.0788 - val_accuracy: 0.5362\n",
            "Epoch 47/500\n",
            "104/104 [==============================] - 1s 6ms/step - loss: 1.0608 - accuracy: 0.5508 - val_loss: 1.0902 - val_accuracy: 0.5459\n",
            "Epoch 48/500\n",
            "104/104 [==============================] - 1s 5ms/step - loss: 1.0529 - accuracy: 0.5568 - val_loss: 1.0294 - val_accuracy: 0.5942\n",
            "Epoch 49/500\n",
            "104/104 [==============================] - 1s 6ms/step - loss: 1.0342 - accuracy: 0.5593 - val_loss: 1.0711 - val_accuracy: 0.4976\n",
            "Epoch 50/500\n",
            "104/104 [==============================] - 1s 5ms/step - loss: 1.0343 - accuracy: 0.5593 - val_loss: 1.0230 - val_accuracy: 0.5700\n",
            "Epoch 51/500\n",
            "104/104 [==============================] - 1s 6ms/step - loss: 1.0228 - accuracy: 0.5816 - val_loss: 1.0413 - val_accuracy: 0.5700\n",
            "Epoch 52/500\n",
            "104/104 [==============================] - 1s 6ms/step - loss: 0.9914 - accuracy: 0.5985 - val_loss: 1.0615 - val_accuracy: 0.5652\n",
            "Epoch 53/500\n",
            "104/104 [==============================] - 1s 5ms/step - loss: 0.9829 - accuracy: 0.5889 - val_loss: 1.0358 - val_accuracy: 0.5700\n",
            "Epoch 54/500\n",
            "104/104 [==============================] - 1s 6ms/step - loss: 0.9790 - accuracy: 0.5973 - val_loss: 1.0010 - val_accuracy: 0.5797\n",
            "Epoch 55/500\n",
            "104/104 [==============================] - 1s 5ms/step - loss: 0.9640 - accuracy: 0.6082 - val_loss: 1.0180 - val_accuracy: 0.5652\n",
            "Epoch 56/500\n",
            "104/104 [==============================] - 1s 6ms/step - loss: 0.9515 - accuracy: 0.6119 - val_loss: 0.9990 - val_accuracy: 0.6087\n",
            "Epoch 57/500\n",
            "104/104 [==============================] - 1s 5ms/step - loss: 0.9328 - accuracy: 0.6161 - val_loss: 1.0267 - val_accuracy: 0.5700\n",
            "Epoch 58/500\n",
            "104/104 [==============================] - 1s 5ms/step - loss: 0.9358 - accuracy: 0.6245 - val_loss: 0.9509 - val_accuracy: 0.6425\n",
            "Epoch 59/500\n",
            "104/104 [==============================] - 1s 6ms/step - loss: 0.9321 - accuracy: 0.6094 - val_loss: 0.9698 - val_accuracy: 0.6184\n",
            "Epoch 60/500\n",
            "104/104 [==============================] - 1s 5ms/step - loss: 0.9492 - accuracy: 0.6125 - val_loss: 0.9789 - val_accuracy: 0.5652\n",
            "Epoch 61/500\n",
            "104/104 [==============================] - 1s 6ms/step - loss: 0.9199 - accuracy: 0.6300 - val_loss: 0.9125 - val_accuracy: 0.6039\n",
            "Epoch 62/500\n",
            "104/104 [==============================] - 1s 5ms/step - loss: 0.8766 - accuracy: 0.6572 - val_loss: 0.9221 - val_accuracy: 0.6329\n",
            "Epoch 63/500\n",
            "104/104 [==============================] - 1s 5ms/step - loss: 0.8662 - accuracy: 0.6530 - val_loss: 0.9190 - val_accuracy: 0.6135\n",
            "Epoch 64/500\n",
            "104/104 [==============================] - 1s 6ms/step - loss: 0.8835 - accuracy: 0.6324 - val_loss: 0.9077 - val_accuracy: 0.6184\n",
            "Epoch 65/500\n",
            "104/104 [==============================] - 1s 5ms/step - loss: 0.8683 - accuracy: 0.6499 - val_loss: 0.9131 - val_accuracy: 0.6473\n",
            "Epoch 66/500\n",
            "104/104 [==============================] - 1s 6ms/step - loss: 0.8712 - accuracy: 0.6560 - val_loss: 0.9107 - val_accuracy: 0.6570\n",
            "Epoch 67/500\n",
            "104/104 [==============================] - 1s 5ms/step - loss: 0.8507 - accuracy: 0.6487 - val_loss: 0.8530 - val_accuracy: 0.6667\n",
            "Epoch 68/500\n",
            "104/104 [==============================] - 1s 5ms/step - loss: 0.8528 - accuracy: 0.6584 - val_loss: 0.9099 - val_accuracy: 0.6473\n",
            "Epoch 69/500\n",
            "104/104 [==============================] - 1s 6ms/step - loss: 0.8587 - accuracy: 0.6493 - val_loss: 0.8600 - val_accuracy: 0.6763\n",
            "Epoch 70/500\n",
            "104/104 [==============================] - 1s 5ms/step - loss: 0.8382 - accuracy: 0.6614 - val_loss: 0.8332 - val_accuracy: 0.6715\n",
            "Epoch 71/500\n",
            "104/104 [==============================] - 1s 6ms/step - loss: 0.8449 - accuracy: 0.6445 - val_loss: 0.8344 - val_accuracy: 0.6763\n",
            "Epoch 72/500\n",
            "104/104 [==============================] - 1s 5ms/step - loss: 0.8097 - accuracy: 0.6747 - val_loss: 0.8459 - val_accuracy: 0.6522\n",
            "Epoch 73/500\n",
            "104/104 [==============================] - 1s 6ms/step - loss: 0.8142 - accuracy: 0.6693 - val_loss: 0.8779 - val_accuracy: 0.6522\n",
            "Epoch 74/500\n",
            "104/104 [==============================] - 1s 5ms/step - loss: 0.8046 - accuracy: 0.6759 - val_loss: 0.8337 - val_accuracy: 0.6860\n",
            "Epoch 75/500\n",
            "104/104 [==============================] - 1s 5ms/step - loss: 0.7966 - accuracy: 0.6820 - val_loss: 0.8645 - val_accuracy: 0.6763\n",
            "Epoch 76/500\n",
            "104/104 [==============================] - 1s 5ms/step - loss: 0.8196 - accuracy: 0.6681 - val_loss: 0.8415 - val_accuracy: 0.6715\n",
            "Epoch 77/500\n",
            "104/104 [==============================] - 1s 5ms/step - loss: 0.7803 - accuracy: 0.6935 - val_loss: 0.8117 - val_accuracy: 0.6570\n",
            "Epoch 78/500\n",
            "104/104 [==============================] - 1s 5ms/step - loss: 0.7930 - accuracy: 0.6729 - val_loss: 0.8337 - val_accuracy: 0.6908\n",
            "Epoch 79/500\n",
            "104/104 [==============================] - 1s 6ms/step - loss: 0.7687 - accuracy: 0.6983 - val_loss: 0.8441 - val_accuracy: 0.6425\n",
            "Epoch 80/500\n",
            "104/104 [==============================] - 1s 5ms/step - loss: 0.7441 - accuracy: 0.7092 - val_loss: 0.8109 - val_accuracy: 0.6667\n",
            "Epoch 81/500\n",
            "104/104 [==============================] - 1s 6ms/step - loss: 0.7634 - accuracy: 0.6729 - val_loss: 0.7995 - val_accuracy: 0.6908\n",
            "Epoch 82/500\n",
            "104/104 [==============================] - 1s 6ms/step - loss: 0.7322 - accuracy: 0.7031 - val_loss: 0.7712 - val_accuracy: 0.7198\n",
            "Epoch 83/500\n",
            "104/104 [==============================] - 1s 6ms/step - loss: 0.7510 - accuracy: 0.6929 - val_loss: 0.8386 - val_accuracy: 0.6618\n",
            "Epoch 84/500\n",
            "104/104 [==============================] - 1s 5ms/step - loss: 0.7632 - accuracy: 0.6965 - val_loss: 0.7923 - val_accuracy: 0.7005\n",
            "Epoch 85/500\n",
            "104/104 [==============================] - 1s 5ms/step - loss: 0.7370 - accuracy: 0.7056 - val_loss: 0.8521 - val_accuracy: 0.6715\n",
            "Epoch 86/500\n",
            "104/104 [==============================] - 1s 6ms/step - loss: 0.7346 - accuracy: 0.7013 - val_loss: 0.8029 - val_accuracy: 0.6908\n",
            "Epoch 87/500\n",
            "104/104 [==============================] - 1s 5ms/step - loss: 0.6908 - accuracy: 0.7243 - val_loss: 0.7939 - val_accuracy: 0.6715\n",
            "Epoch 88/500\n",
            "104/104 [==============================] - 1s 6ms/step - loss: 0.7262 - accuracy: 0.7116 - val_loss: 0.7860 - val_accuracy: 0.6957\n",
            "Epoch 89/500\n",
            "104/104 [==============================] - 1s 6ms/step - loss: 0.7271 - accuracy: 0.7050 - val_loss: 0.8096 - val_accuracy: 0.6715\n",
            "Epoch 90/500\n",
            "104/104 [==============================] - 1s 5ms/step - loss: 0.7041 - accuracy: 0.7152 - val_loss: 0.8119 - val_accuracy: 0.6570\n",
            "Epoch 91/500\n",
            "104/104 [==============================] - 1s 6ms/step - loss: 0.7306 - accuracy: 0.7050 - val_loss: 0.8524 - val_accuracy: 0.6957\n",
            "Epoch 92/500\n",
            "104/104 [==============================] - 1s 5ms/step - loss: 0.6951 - accuracy: 0.7170 - val_loss: 0.8032 - val_accuracy: 0.6667\n",
            "Epoch 93/500\n",
            "104/104 [==============================] - 1s 6ms/step - loss: 0.6776 - accuracy: 0.7316 - val_loss: 0.7347 - val_accuracy: 0.7246\n",
            "Epoch 94/500\n",
            "104/104 [==============================] - 1s 5ms/step - loss: 0.6978 - accuracy: 0.7213 - val_loss: 0.8022 - val_accuracy: 0.6618\n",
            "Epoch 95/500\n",
            "104/104 [==============================] - 1s 5ms/step - loss: 0.6943 - accuracy: 0.7195 - val_loss: 0.7701 - val_accuracy: 0.7198\n",
            "Epoch 96/500\n",
            "104/104 [==============================] - 1s 6ms/step - loss: 0.6469 - accuracy: 0.7424 - val_loss: 0.7363 - val_accuracy: 0.7150\n",
            "Epoch 97/500\n",
            "104/104 [==============================] - 1s 5ms/step - loss: 0.6582 - accuracy: 0.7376 - val_loss: 0.7728 - val_accuracy: 0.7053\n",
            "Epoch 98/500\n",
            "104/104 [==============================] - 1s 5ms/step - loss: 0.6504 - accuracy: 0.7322 - val_loss: 0.7469 - val_accuracy: 0.6860\n",
            "Epoch 99/500\n",
            "104/104 [==============================] - 1s 5ms/step - loss: 0.6739 - accuracy: 0.7322 - val_loss: 0.7492 - val_accuracy: 0.6957\n",
            "Epoch 100/500\n",
            "104/104 [==============================] - 1s 5ms/step - loss: 0.6578 - accuracy: 0.7376 - val_loss: 0.7777 - val_accuracy: 0.6522\n",
            "Epoch 101/500\n",
            "104/104 [==============================] - 1s 6ms/step - loss: 0.6496 - accuracy: 0.7443 - val_loss: 0.7168 - val_accuracy: 0.7198\n",
            "Epoch 102/500\n",
            "104/104 [==============================] - 1s 5ms/step - loss: 0.6479 - accuracy: 0.7406 - val_loss: 0.7405 - val_accuracy: 0.7150\n",
            "Epoch 103/500\n",
            "104/104 [==============================] - 1s 5ms/step - loss: 0.6408 - accuracy: 0.7310 - val_loss: 0.7322 - val_accuracy: 0.7005\n",
            "Epoch 104/500\n",
            "104/104 [==============================] - 1s 5ms/step - loss: 0.6376 - accuracy: 0.7424 - val_loss: 0.7568 - val_accuracy: 0.6763\n",
            "Epoch 105/500\n",
            "104/104 [==============================] - 1s 5ms/step - loss: 0.6035 - accuracy: 0.7600 - val_loss: 0.7455 - val_accuracy: 0.6860\n",
            "Epoch 106/500\n",
            "104/104 [==============================] - 1s 6ms/step - loss: 0.6243 - accuracy: 0.7376 - val_loss: 0.7581 - val_accuracy: 0.7101\n",
            "Epoch 107/500\n",
            "104/104 [==============================] - 1s 6ms/step - loss: 0.6208 - accuracy: 0.7527 - val_loss: 0.7763 - val_accuracy: 0.6812\n",
            "Epoch 108/500\n",
            "104/104 [==============================] - 1s 6ms/step - loss: 0.5864 - accuracy: 0.7660 - val_loss: 0.7102 - val_accuracy: 0.7150\n",
            "Epoch 109/500\n",
            "104/104 [==============================] - 1s 6ms/step - loss: 0.6339 - accuracy: 0.7491 - val_loss: 0.6980 - val_accuracy: 0.7633\n",
            "Epoch 110/500\n",
            "104/104 [==============================] - 1s 11ms/step - loss: 0.6034 - accuracy: 0.7648 - val_loss: 0.7480 - val_accuracy: 0.7150\n",
            "Epoch 111/500\n",
            "104/104 [==============================] - 1s 8ms/step - loss: 0.5895 - accuracy: 0.7557 - val_loss: 0.7194 - val_accuracy: 0.7295\n",
            "Epoch 112/500\n",
            "104/104 [==============================] - 1s 9ms/step - loss: 0.5981 - accuracy: 0.7600 - val_loss: 0.7140 - val_accuracy: 0.7053\n",
            "Epoch 113/500\n",
            "104/104 [==============================] - 1s 5ms/step - loss: 0.6125 - accuracy: 0.7582 - val_loss: 0.7195 - val_accuracy: 0.7053\n",
            "Epoch 114/500\n",
            "104/104 [==============================] - 1s 10ms/step - loss: 0.5562 - accuracy: 0.7690 - val_loss: 0.7019 - val_accuracy: 0.7246\n",
            "Epoch 115/500\n",
            "104/104 [==============================] - 1s 7ms/step - loss: 0.5717 - accuracy: 0.7775 - val_loss: 0.7237 - val_accuracy: 0.6908\n",
            "Epoch 116/500\n",
            "104/104 [==============================] - 1s 6ms/step - loss: 0.6034 - accuracy: 0.7709 - val_loss: 0.7114 - val_accuracy: 0.7343\n",
            "Epoch 117/500\n",
            "104/104 [==============================] - 1s 5ms/step - loss: 0.5281 - accuracy: 0.7890 - val_loss: 0.6773 - val_accuracy: 0.7488\n",
            "Epoch 118/500\n",
            "104/104 [==============================] - 1s 6ms/step - loss: 0.5808 - accuracy: 0.7715 - val_loss: 0.7340 - val_accuracy: 0.7246\n",
            "Epoch 119/500\n",
            "104/104 [==============================] - 1s 5ms/step - loss: 0.5553 - accuracy: 0.7769 - val_loss: 0.6847 - val_accuracy: 0.7391\n",
            "Epoch 120/500\n",
            "104/104 [==============================] - 1s 5ms/step - loss: 0.5647 - accuracy: 0.7793 - val_loss: 0.6891 - val_accuracy: 0.7488\n",
            "Epoch 121/500\n",
            "104/104 [==============================] - 1s 6ms/step - loss: 0.5246 - accuracy: 0.7830 - val_loss: 0.7377 - val_accuracy: 0.7198\n",
            "Epoch 122/500\n",
            "104/104 [==============================] - 1s 5ms/step - loss: 0.5531 - accuracy: 0.7763 - val_loss: 0.7150 - val_accuracy: 0.7295\n",
            "Epoch 123/500\n",
            "104/104 [==============================] - 1s 6ms/step - loss: 0.5309 - accuracy: 0.7969 - val_loss: 0.6831 - val_accuracy: 0.7343\n",
            "Epoch 124/500\n",
            "104/104 [==============================] - 1s 5ms/step - loss: 0.4995 - accuracy: 0.8047 - val_loss: 0.6670 - val_accuracy: 0.7440\n",
            "Epoch 125/500\n",
            "104/104 [==============================] - 1s 5ms/step - loss: 0.5457 - accuracy: 0.7890 - val_loss: 0.6674 - val_accuracy: 0.7391\n",
            "Epoch 126/500\n",
            "104/104 [==============================] - 1s 10ms/step - loss: 0.5075 - accuracy: 0.8059 - val_loss: 0.6961 - val_accuracy: 0.7585\n",
            "Epoch 127/500\n",
            "104/104 [==============================] - 1s 6ms/step - loss: 0.5804 - accuracy: 0.7739 - val_loss: 0.6578 - val_accuracy: 0.7343\n",
            "Epoch 128/500\n",
            "104/104 [==============================] - 1s 5ms/step - loss: 0.5287 - accuracy: 0.7823 - val_loss: 0.6740 - val_accuracy: 0.7391\n",
            "Epoch 129/500\n",
            "104/104 [==============================] - 1s 5ms/step - loss: 0.5104 - accuracy: 0.7956 - val_loss: 0.6966 - val_accuracy: 0.7440\n",
            "Epoch 130/500\n",
            "104/104 [==============================] - 1s 6ms/step - loss: 0.5095 - accuracy: 0.7981 - val_loss: 0.6948 - val_accuracy: 0.7246\n",
            "Epoch 131/500\n",
            "104/104 [==============================] - 1s 5ms/step - loss: 0.5114 - accuracy: 0.7866 - val_loss: 0.7132 - val_accuracy: 0.7198\n",
            "Epoch 132/500\n",
            "104/104 [==============================] - 1s 6ms/step - loss: 0.4991 - accuracy: 0.8083 - val_loss: 0.6801 - val_accuracy: 0.7295\n",
            "Epoch 133/500\n",
            "104/104 [==============================] - 1s 5ms/step - loss: 0.4964 - accuracy: 0.8041 - val_loss: 0.7087 - val_accuracy: 0.7198\n",
            "Epoch 134/500\n",
            "104/104 [==============================] - 1s 5ms/step - loss: 0.4965 - accuracy: 0.8096 - val_loss: 0.6954 - val_accuracy: 0.7053\n",
            "Epoch 135/500\n",
            "104/104 [==============================] - 1s 6ms/step - loss: 0.5399 - accuracy: 0.7817 - val_loss: 0.6920 - val_accuracy: 0.7005\n",
            "Epoch 136/500\n",
            "104/104 [==============================] - 0s 5ms/step - loss: 0.4888 - accuracy: 0.8089 - val_loss: 0.6919 - val_accuracy: 0.7343\n",
            "Epoch 137/500\n",
            "104/104 [==============================] - 1s 6ms/step - loss: 0.4768 - accuracy: 0.8132 - val_loss: 0.6798 - val_accuracy: 0.7391\n",
            "Epoch 138/500\n",
            "104/104 [==============================] - 1s 5ms/step - loss: 0.4736 - accuracy: 0.8023 - val_loss: 0.7065 - val_accuracy: 0.7246\n",
            "Epoch 139/500\n",
            "104/104 [==============================] - 1s 6ms/step - loss: 0.4676 - accuracy: 0.8162 - val_loss: 0.6818 - val_accuracy: 0.7295\n",
            "Epoch 140/500\n",
            "104/104 [==============================] - 1s 6ms/step - loss: 0.4936 - accuracy: 0.8089 - val_loss: 0.6721 - val_accuracy: 0.7488\n",
            "Epoch 141/500\n",
            "104/104 [==============================] - 1s 5ms/step - loss: 0.4735 - accuracy: 0.8192 - val_loss: 0.7036 - val_accuracy: 0.7246\n",
            "Epoch 142/500\n",
            "104/104 [==============================] - 1s 6ms/step - loss: 0.4670 - accuracy: 0.8035 - val_loss: 0.6836 - val_accuracy: 0.7440\n",
            "Epoch 143/500\n",
            "104/104 [==============================] - 1s 6ms/step - loss: 0.4700 - accuracy: 0.8192 - val_loss: 0.6792 - val_accuracy: 0.7681\n",
            "Epoch 144/500\n",
            "104/104 [==============================] - 1s 6ms/step - loss: 0.4445 - accuracy: 0.8265 - val_loss: 0.6735 - val_accuracy: 0.7391\n",
            "Epoch 145/500\n",
            "104/104 [==============================] - 1s 6ms/step - loss: 0.4478 - accuracy: 0.8362 - val_loss: 0.6902 - val_accuracy: 0.7585\n",
            "Epoch 146/500\n",
            "104/104 [==============================] - 1s 5ms/step - loss: 0.4550 - accuracy: 0.8204 - val_loss: 0.7543 - val_accuracy: 0.6812\n",
            "Epoch 147/500\n",
            "104/104 [==============================] - 1s 6ms/step - loss: 0.4479 - accuracy: 0.8204 - val_loss: 0.7164 - val_accuracy: 0.7343\n",
            "Epoch 148/500\n",
            "104/104 [==============================] - 1s 5ms/step - loss: 0.4268 - accuracy: 0.8271 - val_loss: 0.6835 - val_accuracy: 0.7343\n",
            "Epoch 149/500\n",
            "104/104 [==============================] - 1s 6ms/step - loss: 0.4518 - accuracy: 0.8295 - val_loss: 0.6530 - val_accuracy: 0.7488\n",
            "Epoch 150/500\n",
            "104/104 [==============================] - 1s 5ms/step - loss: 0.4386 - accuracy: 0.8289 - val_loss: 0.6719 - val_accuracy: 0.7343\n",
            "Epoch 151/500\n",
            "104/104 [==============================] - 1s 6ms/step - loss: 0.4462 - accuracy: 0.8216 - val_loss: 0.7002 - val_accuracy: 0.7295\n",
            "Epoch 152/500\n",
            "104/104 [==============================] - 1s 6ms/step - loss: 0.4494 - accuracy: 0.8259 - val_loss: 0.6384 - val_accuracy: 0.7633\n",
            "Epoch 153/500\n",
            "104/104 [==============================] - 1s 5ms/step - loss: 0.4249 - accuracy: 0.8271 - val_loss: 0.7252 - val_accuracy: 0.7246\n",
            "Epoch 154/500\n",
            "104/104 [==============================] - 1s 6ms/step - loss: 0.4575 - accuracy: 0.8162 - val_loss: 0.6316 - val_accuracy: 0.7633\n",
            "Epoch 155/500\n",
            "104/104 [==============================] - 1s 5ms/step - loss: 0.4360 - accuracy: 0.8277 - val_loss: 0.6668 - val_accuracy: 0.7826\n",
            "Epoch 156/500\n",
            "104/104 [==============================] - 1s 6ms/step - loss: 0.4509 - accuracy: 0.8319 - val_loss: 0.6640 - val_accuracy: 0.7198\n",
            "Epoch 157/500\n",
            "104/104 [==============================] - 1s 5ms/step - loss: 0.3910 - accuracy: 0.8519 - val_loss: 0.6460 - val_accuracy: 0.7729\n",
            "Epoch 158/500\n",
            "104/104 [==============================] - 1s 5ms/step - loss: 0.4489 - accuracy: 0.8235 - val_loss: 0.6602 - val_accuracy: 0.7585\n",
            "Epoch 159/500\n",
            "104/104 [==============================] - 1s 6ms/step - loss: 0.4112 - accuracy: 0.8356 - val_loss: 0.6845 - val_accuracy: 0.7488\n",
            "Epoch 160/500\n",
            "104/104 [==============================] - 1s 5ms/step - loss: 0.3975 - accuracy: 0.8513 - val_loss: 0.6973 - val_accuracy: 0.7440\n",
            "Epoch 161/500\n",
            "104/104 [==============================] - 1s 6ms/step - loss: 0.3971 - accuracy: 0.8440 - val_loss: 0.6543 - val_accuracy: 0.7633\n",
            "Epoch 162/500\n",
            "104/104 [==============================] - 1s 6ms/step - loss: 0.4450 - accuracy: 0.8331 - val_loss: 0.6772 - val_accuracy: 0.7729\n",
            "Epoch 163/500\n",
            "104/104 [==============================] - 1s 5ms/step - loss: 0.4131 - accuracy: 0.8319 - val_loss: 0.6632 - val_accuracy: 0.7874\n",
            "Epoch 164/500\n",
            "104/104 [==============================] - 1s 6ms/step - loss: 0.4107 - accuracy: 0.8368 - val_loss: 0.7037 - val_accuracy: 0.7536\n",
            "Epoch 165/500\n",
            "104/104 [==============================] - 1s 5ms/step - loss: 0.3952 - accuracy: 0.8495 - val_loss: 0.7004 - val_accuracy: 0.7391\n",
            "Epoch 166/500\n",
            "104/104 [==============================] - 1s 6ms/step - loss: 0.3833 - accuracy: 0.8543 - val_loss: 0.6985 - val_accuracy: 0.7391\n",
            "Epoch 167/500\n",
            "104/104 [==============================] - 1s 8ms/step - loss: 0.4065 - accuracy: 0.8434 - val_loss: 0.6547 - val_accuracy: 0.7246\n",
            "Epoch 168/500\n",
            "104/104 [==============================] - 1s 7ms/step - loss: 0.4288 - accuracy: 0.8386 - val_loss: 0.6692 - val_accuracy: 0.7874\n",
            "Epoch 169/500\n",
            "104/104 [==============================] - 1s 8ms/step - loss: 0.3975 - accuracy: 0.8482 - val_loss: 0.6510 - val_accuracy: 0.7633\n",
            "Epoch 170/500\n",
            "104/104 [==============================] - 1s 8ms/step - loss: 0.3677 - accuracy: 0.8615 - val_loss: 0.6554 - val_accuracy: 0.7633\n",
            "Epoch 171/500\n",
            "104/104 [==============================] - 1s 7ms/step - loss: 0.3925 - accuracy: 0.8507 - val_loss: 0.6552 - val_accuracy: 0.7681\n",
            "Epoch 172/500\n",
            "104/104 [==============================] - 1s 6ms/step - loss: 0.3596 - accuracy: 0.8622 - val_loss: 0.7297 - val_accuracy: 0.7633\n",
            "Epoch 173/500\n",
            "104/104 [==============================] - 1s 6ms/step - loss: 0.3587 - accuracy: 0.8628 - val_loss: 0.6400 - val_accuracy: 0.7633\n",
            "Epoch 174/500\n",
            "104/104 [==============================] - 1s 5ms/step - loss: 0.3642 - accuracy: 0.8646 - val_loss: 0.6989 - val_accuracy: 0.7633\n",
            "Epoch 175/500\n",
            "104/104 [==============================] - 1s 6ms/step - loss: 0.3445 - accuracy: 0.8730 - val_loss: 0.6292 - val_accuracy: 0.7923\n",
            "Epoch 176/500\n",
            "104/104 [==============================] - 1s 5ms/step - loss: 0.3766 - accuracy: 0.8531 - val_loss: 0.6857 - val_accuracy: 0.7585\n",
            "Epoch 177/500\n",
            "104/104 [==============================] - 1s 6ms/step - loss: 0.3582 - accuracy: 0.8640 - val_loss: 0.6721 - val_accuracy: 0.7488\n",
            "Epoch 178/500\n",
            "104/104 [==============================] - 1s 6ms/step - loss: 0.3689 - accuracy: 0.8525 - val_loss: 0.6517 - val_accuracy: 0.7729\n",
            "Epoch 179/500\n",
            "104/104 [==============================] - 1s 5ms/step - loss: 0.3897 - accuracy: 0.8458 - val_loss: 0.6592 - val_accuracy: 0.7295\n",
            "Epoch 180/500\n",
            "104/104 [==============================] - 1s 6ms/step - loss: 0.3609 - accuracy: 0.8555 - val_loss: 0.6753 - val_accuracy: 0.7633\n",
            "Epoch 181/500\n",
            "104/104 [==============================] - 1s 6ms/step - loss: 0.3890 - accuracy: 0.8561 - val_loss: 0.6849 - val_accuracy: 0.7585\n",
            "Epoch 182/500\n",
            "104/104 [==============================] - 1s 6ms/step - loss: 0.3703 - accuracy: 0.8609 - val_loss: 0.6582 - val_accuracy: 0.7633\n",
            "Epoch 183/500\n",
            "104/104 [==============================] - 1s 6ms/step - loss: 0.3728 - accuracy: 0.8609 - val_loss: 0.6571 - val_accuracy: 0.7778\n",
            "Epoch 184/500\n",
            "104/104 [==============================] - 1s 6ms/step - loss: 0.3736 - accuracy: 0.8561 - val_loss: 0.6428 - val_accuracy: 0.7536\n",
            "Epoch 185/500\n",
            "104/104 [==============================] - 1s 7ms/step - loss: 0.3265 - accuracy: 0.8712 - val_loss: 0.6976 - val_accuracy: 0.7391\n",
            "Epoch 186/500\n",
            "104/104 [==============================] - 1s 5ms/step - loss: 0.3379 - accuracy: 0.8755 - val_loss: 0.6353 - val_accuracy: 0.7874\n",
            "Epoch 187/500\n",
            "104/104 [==============================] - 1s 6ms/step - loss: 0.3534 - accuracy: 0.8670 - val_loss: 0.6255 - val_accuracy: 0.7681\n",
            "Epoch 188/500\n",
            "104/104 [==============================] - 1s 5ms/step - loss: 0.3799 - accuracy: 0.8567 - val_loss: 0.6190 - val_accuracy: 0.7778\n",
            "Epoch 189/500\n",
            "104/104 [==============================] - 1s 6ms/step - loss: 0.3474 - accuracy: 0.8694 - val_loss: 0.6736 - val_accuracy: 0.7246\n",
            "Epoch 190/500\n",
            "104/104 [==============================] - 1s 6ms/step - loss: 0.3139 - accuracy: 0.8815 - val_loss: 0.6292 - val_accuracy: 0.7729\n",
            "Epoch 191/500\n",
            "104/104 [==============================] - 1s 6ms/step - loss: 0.3562 - accuracy: 0.8573 - val_loss: 0.6627 - val_accuracy: 0.7681\n",
            "Epoch 192/500\n",
            "104/104 [==============================] - 1s 6ms/step - loss: 0.3400 - accuracy: 0.8791 - val_loss: 0.6670 - val_accuracy: 0.7681\n",
            "Epoch 193/500\n",
            "104/104 [==============================] - 1s 5ms/step - loss: 0.3285 - accuracy: 0.8815 - val_loss: 0.6657 - val_accuracy: 0.7488\n",
            "Epoch 194/500\n",
            "104/104 [==============================] - 1s 6ms/step - loss: 0.3447 - accuracy: 0.8670 - val_loss: 0.6814 - val_accuracy: 0.7729\n",
            "Epoch 195/500\n",
            "104/104 [==============================] - 1s 5ms/step - loss: 0.3048 - accuracy: 0.8730 - val_loss: 0.6362 - val_accuracy: 0.7923\n",
            "Epoch 196/500\n",
            "104/104 [==============================] - 1s 5ms/step - loss: 0.3297 - accuracy: 0.8700 - val_loss: 0.6241 - val_accuracy: 0.7778\n",
            "Epoch 197/500\n",
            "104/104 [==============================] - 1s 6ms/step - loss: 0.3481 - accuracy: 0.8658 - val_loss: 0.6237 - val_accuracy: 0.7874\n",
            "Epoch 198/500\n",
            "104/104 [==============================] - 1s 6ms/step - loss: 0.3277 - accuracy: 0.8748 - val_loss: 0.6415 - val_accuracy: 0.7874\n",
            "Epoch 199/500\n",
            "104/104 [==============================] - 1s 6ms/step - loss: 0.3535 - accuracy: 0.8640 - val_loss: 0.6606 - val_accuracy: 0.7826\n",
            "Epoch 200/500\n",
            "104/104 [==============================] - 1s 5ms/step - loss: 0.3396 - accuracy: 0.8736 - val_loss: 0.6049 - val_accuracy: 0.7923\n",
            "Epoch 201/500\n",
            "104/104 [==============================] - 1s 6ms/step - loss: 0.3531 - accuracy: 0.8724 - val_loss: 0.6624 - val_accuracy: 0.7391\n",
            "Epoch 202/500\n",
            "104/104 [==============================] - 1s 6ms/step - loss: 0.3345 - accuracy: 0.8869 - val_loss: 0.7098 - val_accuracy: 0.7633\n",
            "Epoch 203/500\n",
            "104/104 [==============================] - 1s 5ms/step - loss: 0.2980 - accuracy: 0.8863 - val_loss: 0.6732 - val_accuracy: 0.7440\n",
            "Epoch 204/500\n",
            "104/104 [==============================] - 1s 6ms/step - loss: 0.3245 - accuracy: 0.8748 - val_loss: 0.6478 - val_accuracy: 0.7681\n",
            "Epoch 205/500\n",
            "104/104 [==============================] - 1s 5ms/step - loss: 0.3013 - accuracy: 0.8894 - val_loss: 0.6301 - val_accuracy: 0.7729\n",
            "Epoch 206/500\n",
            "104/104 [==============================] - 1s 6ms/step - loss: 0.3068 - accuracy: 0.8761 - val_loss: 0.6653 - val_accuracy: 0.7826\n",
            "Epoch 207/500\n",
            "104/104 [==============================] - 1s 5ms/step - loss: 0.2836 - accuracy: 0.8972 - val_loss: 0.6744 - val_accuracy: 0.7826\n",
            "Epoch 208/500\n",
            "104/104 [==============================] - 1s 6ms/step - loss: 0.3154 - accuracy: 0.8839 - val_loss: 0.7249 - val_accuracy: 0.7440\n",
            "Epoch 209/500\n",
            "104/104 [==============================] - 1s 6ms/step - loss: 0.3111 - accuracy: 0.8821 - val_loss: 0.6740 - val_accuracy: 0.7391\n",
            "Epoch 210/500\n",
            "104/104 [==============================] - 1s 5ms/step - loss: 0.3237 - accuracy: 0.8863 - val_loss: 0.7313 - val_accuracy: 0.7198\n",
            "Epoch 211/500\n",
            "104/104 [==============================] - 1s 6ms/step - loss: 0.3284 - accuracy: 0.8821 - val_loss: 0.6330 - val_accuracy: 0.7778\n",
            "Epoch 212/500\n",
            "104/104 [==============================] - 1s 5ms/step - loss: 0.2805 - accuracy: 0.8984 - val_loss: 0.5752 - val_accuracy: 0.8261\n",
            "Epoch 213/500\n",
            "104/104 [==============================] - 1s 6ms/step - loss: 0.2919 - accuracy: 0.8978 - val_loss: 0.6925 - val_accuracy: 0.7585\n",
            "Epoch 214/500\n",
            "104/104 [==============================] - 1s 6ms/step - loss: 0.3179 - accuracy: 0.8742 - val_loss: 0.6107 - val_accuracy: 0.8068\n",
            "Epoch 215/500\n",
            "104/104 [==============================] - 1s 5ms/step - loss: 0.3203 - accuracy: 0.8779 - val_loss: 0.6239 - val_accuracy: 0.8019\n",
            "Epoch 216/500\n",
            "104/104 [==============================] - 1s 6ms/step - loss: 0.2721 - accuracy: 0.9039 - val_loss: 0.6300 - val_accuracy: 0.7633\n",
            "Epoch 217/500\n",
            "104/104 [==============================] - 1s 5ms/step - loss: 0.3239 - accuracy: 0.8785 - val_loss: 0.7156 - val_accuracy: 0.7391\n",
            "Epoch 218/500\n",
            "104/104 [==============================] - 1s 6ms/step - loss: 0.3409 - accuracy: 0.8676 - val_loss: 0.6508 - val_accuracy: 0.7971\n",
            "Epoch 219/500\n",
            "104/104 [==============================] - 1s 6ms/step - loss: 0.2911 - accuracy: 0.8851 - val_loss: 0.6057 - val_accuracy: 0.7729\n",
            "Epoch 220/500\n",
            "104/104 [==============================] - 1s 6ms/step - loss: 0.3275 - accuracy: 0.8773 - val_loss: 0.6528 - val_accuracy: 0.7729\n",
            "Epoch 221/500\n",
            "104/104 [==============================] - 1s 6ms/step - loss: 0.3116 - accuracy: 0.8930 - val_loss: 0.6439 - val_accuracy: 0.7729\n",
            "Epoch 222/500\n",
            "104/104 [==============================] - 1s 5ms/step - loss: 0.3086 - accuracy: 0.8797 - val_loss: 0.6881 - val_accuracy: 0.7681\n",
            "Epoch 223/500\n",
            "104/104 [==============================] - 1s 6ms/step - loss: 0.2992 - accuracy: 0.8906 - val_loss: 0.6899 - val_accuracy: 0.7633\n",
            "Epoch 224/500\n",
            "104/104 [==============================] - 1s 5ms/step - loss: 0.3182 - accuracy: 0.8815 - val_loss: 0.6452 - val_accuracy: 0.7971\n",
            "Epoch 225/500\n",
            "104/104 [==============================] - 1s 6ms/step - loss: 0.2966 - accuracy: 0.8881 - val_loss: 0.6807 - val_accuracy: 0.7633\n",
            "Epoch 226/500\n",
            "104/104 [==============================] - 1s 6ms/step - loss: 0.2792 - accuracy: 0.8990 - val_loss: 0.6864 - val_accuracy: 0.7585\n",
            "Epoch 227/500\n",
            "104/104 [==============================] - 1s 5ms/step - loss: 0.3116 - accuracy: 0.8875 - val_loss: 0.6093 - val_accuracy: 0.7971\n",
            "Epoch 228/500\n",
            "104/104 [==============================] - 1s 6ms/step - loss: 0.2963 - accuracy: 0.8845 - val_loss: 0.6189 - val_accuracy: 0.8019\n",
            "Epoch 229/500\n",
            "104/104 [==============================] - 1s 6ms/step - loss: 0.3103 - accuracy: 0.8833 - val_loss: 0.6434 - val_accuracy: 0.7585\n",
            "Epoch 230/500\n",
            "104/104 [==============================] - 1s 6ms/step - loss: 0.3001 - accuracy: 0.8869 - val_loss: 0.6099 - val_accuracy: 0.7971\n",
            "Epoch 231/500\n",
            "104/104 [==============================] - 1s 6ms/step - loss: 0.3005 - accuracy: 0.8930 - val_loss: 0.6175 - val_accuracy: 0.8019\n",
            "Epoch 232/500\n",
            "104/104 [==============================] - 1s 5ms/step - loss: 0.2700 - accuracy: 0.9008 - val_loss: 0.6663 - val_accuracy: 0.7826\n",
            "Epoch 233/500\n",
            "104/104 [==============================] - 1s 6ms/step - loss: 0.2742 - accuracy: 0.8930 - val_loss: 0.6580 - val_accuracy: 0.7826\n",
            "Epoch 234/500\n",
            "104/104 [==============================] - 1s 5ms/step - loss: 0.2799 - accuracy: 0.8833 - val_loss: 0.6381 - val_accuracy: 0.7826\n",
            "Epoch 235/500\n",
            "104/104 [==============================] - 1s 6ms/step - loss: 0.2660 - accuracy: 0.9135 - val_loss: 0.6339 - val_accuracy: 0.7585\n",
            "Epoch 236/500\n",
            "104/104 [==============================] - 1s 5ms/step - loss: 0.2607 - accuracy: 0.9111 - val_loss: 0.6107 - val_accuracy: 0.8116\n",
            "Epoch 237/500\n",
            "104/104 [==============================] - 1s 6ms/step - loss: 0.2822 - accuracy: 0.8888 - val_loss: 0.6498 - val_accuracy: 0.7729\n"
          ]
        }
      ]
    },
    {
      "cell_type": "code",
      "source": [
        "plt.plot(cnnhistory.history['loss'])\n",
        "plt.plot(cnnhistory.history['val_loss'])\n",
        "plt.title('model loss')\n",
        "plt.ylabel('loss')\n",
        "plt.xlabel('epoch')\n",
        "plt.legend(['train','test'], loc='upper left')\n",
        "plt.show()"
      ],
      "metadata": {
        "colab": {
          "base_uri": "https://localhost:8080/",
          "height": 295
        },
        "id": "oQYnuaCrDH_A",
        "outputId": "d17506e4-9833-48ff-b5c8-19c0af17141f"
      },
      "execution_count": 15,
      "outputs": [
        {
          "output_type": "display_data",
          "data": {
            "text/plain": [
              "<Figure size 432x288 with 1 Axes>"
            ],
            "image/png": "[encoded data removed]"
          },
          "metadata": {
            "needs_background": "light"
          }
        }
      ]
    },
    {
      "cell_type": "code",
      "source": [
        "plt.plot(cnnhistory.history['accuracy'])\n",
        "plt.plot(cnnhistory.history['val_accuracy'])\n",
        "plt.title('model accuracy')\n",
        "plt.ylabel('accuracy')\n",
        "plt.xlabel('epoch')\n",
        "plt.legend(['train','test'], loc='upper left')\n",
        "plt.show()"
      ],
      "metadata": {
        "colab": {
          "base_uri": "https://localhost:8080/",
          "height": 295
        },
        "id": "IFkTuO8nDNdq",
        "outputId": "f848a97b-1fc5-4241-940e-2f5750b74386"
      },
      "execution_count": 16,
      "outputs": [
        {
          "output_type": "display_data",
          "data": {
            "text/plain": [
              "<Figure size 432x288 with 1 Axes>"
            ],
            "image/png": "[encoded data removed]"
          },
          "metadata": {
            "needs_background": "light"
          }
        }
      ]
    },
    {
      "cell_type": "code",
      "source": [
        "predictions = model.predict(x_testcnn)"
      ],
      "metadata": {
        "id": "A2xtrN5wDQgY"
      },
      "execution_count": 17,
      "outputs": []
    },
    {
      "cell_type": "code",
      "source": [
        "predictions"
      ],
      "metadata": {
        "colab": {
          "base_uri": "https://localhost:8080/"
        },
        "id": "_f_ohjXKDUpY",
        "outputId": "a09ee975-4d96-492f-f6a2-4ab220447641"
      },
      "execution_count": 18,
      "outputs": [
        {
          "output_type": "execute_result",
          "data": {
            "text/plain": [
              "array([[3.6942708e-01, 7.3546119e-02, 8.2850091e-02, 1.9327451e-01,\n",
              "        7.5173669e-02, 2.0572858e-01],\n",
              "       [2.1302993e-05, 3.1672877e-05, 7.3432268e-08, 9.9284863e-01,\n",
              "        2.1741405e-06, 7.0959884e-03],\n",
              "       [1.2839295e-01, 6.3811056e-02, 1.3394828e-03, 6.8358660e-01,\n",
              "        1.0428734e-03, 1.2182705e-01],\n",
              "       ...,\n",
              "       [4.4148851e-07, 3.4811722e-09, 5.0734590e-05, 1.1136989e-06,\n",
              "        9.9990654e-01, 4.1065319e-05],\n",
              "       [1.9234295e-03, 5.3117675e-01, 4.5924398e-01, 2.6885835e-03,\n",
              "        3.0239110e-03, 1.9432945e-03],\n",
              "       [7.0985884e-08, 3.6470058e-09, 3.8768182e-04, 1.0316086e-06,\n",
              "        9.9952340e-01, 8.7813802e-05]], dtype=float32)"
            ]
          },
          "metadata": {},
          "execution_count": 18
        }
      ]
    },
    {
      "cell_type": "code",
      "source": [
        "y_test"
      ],
      "metadata": {
        "colab": {
          "base_uri": "https://localhost:8080/"
        },
        "id": "cmA2bFgsDW3D",
        "outputId": "a44be812-7903-445c-8ce3-797c0db8edae"
      },
      "execution_count": 19,
      "outputs": [
        {
          "output_type": "execute_result",
          "data": {
            "text/plain": [
              "array([3, 3, 3, 0, 4, 4, 1, 2, 5, 0, 5, 3, 2, 2, 1, 4, 4, 5, 2, 4, 1, 2,\n",
              "       3, 5, 4, 2, 1, 2, 2, 2, 2, 5, 2, 5, 3, 1, 2, 0, 4, 5, 2, 3, 2, 2,\n",
              "       5, 2, 0, 1, 3, 4, 4, 5, 1, 1, 4, 4, 5, 1, 1, 1, 0, 1, 5, 0, 4, 1,\n",
              "       1, 0, 1, 4, 1, 0, 4, 1, 3, 1, 2, 2, 1, 2, 3, 0, 5, 3, 5, 5, 2, 4,\n",
              "       5, 1, 5, 1, 5, 3, 4, 1, 4, 1, 5, 4, 5, 1, 2, 1, 1, 5, 1, 3, 2, 5,\n",
              "       2, 1, 3, 5, 4, 4, 0, 0, 3, 1, 2, 2, 3, 5, 1, 5, 3, 4, 2, 2, 0, 2,\n",
              "       2, 5, 5, 0, 3, 3, 2, 2, 0, 3, 4, 0, 4, 2, 4, 5, 4, 1, 5, 3, 2, 2,\n",
              "       5, 4, 3, 3, 4, 3, 3, 4, 1, 5, 2, 3, 2, 2, 0, 2, 1, 3, 1, 2, 2, 5,\n",
              "       5, 1, 4, 2, 2, 1, 1, 3, 3, 5, 5, 2, 5, 1, 5, 0, 3, 3, 0, 5, 1, 4,\n",
              "       1, 4, 2, 5, 5, 1, 4, 2, 4])"
            ]
          },
          "metadata": {},
          "execution_count": 19
        }
      ]
    },
    {
      "cell_type": "code",
      "source": [
        "new_Ytest = y_test.astype(int)"
      ],
      "metadata": {
        "id": "0PHDKWJWDY3g"
      },
      "execution_count": 20,
      "outputs": []
    },
    {
      "cell_type": "code",
      "source": [
        "new_Ytest"
      ],
      "metadata": {
        "colab": {
          "base_uri": "https://localhost:8080/"
        },
        "id": "k68v2i-pDbZE",
        "outputId": "09f37238-b5ca-4fe8-e862-e2eb35e2b26c"
      },
      "execution_count": 21,
      "outputs": [
        {
          "output_type": "execute_result",
          "data": {
            "text/plain": [
              "array([3, 3, 3, 0, 4, 4, 1, 2, 5, 0, 5, 3, 2, 2, 1, 4, 4, 5, 2, 4, 1, 2,\n",
              "       3, 5, 4, 2, 1, 2, 2, 2, 2, 5, 2, 5, 3, 1, 2, 0, 4, 5, 2, 3, 2, 2,\n",
              "       5, 2, 0, 1, 3, 4, 4, 5, 1, 1, 4, 4, 5, 1, 1, 1, 0, 1, 5, 0, 4, 1,\n",
              "       1, 0, 1, 4, 1, 0, 4, 1, 3, 1, 2, 2, 1, 2, 3, 0, 5, 3, 5, 5, 2, 4,\n",
              "       5, 1, 5, 1, 5, 3, 4, 1, 4, 1, 5, 4, 5, 1, 2, 1, 1, 5, 1, 3, 2, 5,\n",
              "       2, 1, 3, 5, 4, 4, 0, 0, 3, 1, 2, 2, 3, 5, 1, 5, 3, 4, 2, 2, 0, 2,\n",
              "       2, 5, 5, 0, 3, 3, 2, 2, 0, 3, 4, 0, 4, 2, 4, 5, 4, 1, 5, 3, 2, 2,\n",
              "       5, 4, 3, 3, 4, 3, 3, 4, 1, 5, 2, 3, 2, 2, 0, 2, 1, 3, 1, 2, 2, 5,\n",
              "       5, 1, 4, 2, 2, 1, 1, 3, 3, 5, 5, 2, 5, 1, 5, 0, 3, 3, 0, 5, 1, 4,\n",
              "       1, 4, 2, 5, 5, 1, 4, 2, 4])"
            ]
          },
          "metadata": {},
          "execution_count": 21
        }
      ]
    },
    {
      "cell_type": "code",
      "source": [
        "preds1=predictions.argmax(axis=1)\n",
        "preds1"
      ],
      "metadata": {
        "colab": {
          "base_uri": "https://localhost:8080/"
        },
        "id": "4_cAI39VFhtp",
        "outputId": "03f16547-3f58-4da1-dcd7-eb59362ee3bf"
      },
      "execution_count": 22,
      "outputs": [
        {
          "output_type": "execute_result",
          "data": {
            "text/plain": [
              "array([0, 3, 3, 3, 4, 4, 1, 2, 5, 0, 5, 3, 2, 2, 1, 4, 4, 3, 2, 4, 1, 2,\n",
              "       3, 3, 4, 2, 1, 5, 2, 2, 2, 5, 2, 5, 3, 1, 2, 0, 4, 2, 2, 5, 4, 2,\n",
              "       5, 4, 1, 1, 3, 4, 4, 3, 1, 1, 4, 4, 5, 1, 0, 1, 3, 1, 5, 1, 4, 1,\n",
              "       1, 1, 1, 4, 1, 0, 4, 1, 5, 3, 2, 2, 1, 4, 1, 0, 5, 3, 5, 2, 2, 3,\n",
              "       5, 1, 3, 2, 5, 3, 4, 1, 4, 3, 5, 4, 5, 1, 2, 1, 1, 5, 1, 5, 2, 5,\n",
              "       3, 1, 3, 2, 4, 4, 3, 0, 3, 3, 1, 2, 1, 5, 1, 5, 3, 4, 2, 2, 0, 2,\n",
              "       2, 3, 3, 0, 3, 3, 2, 4, 0, 3, 4, 0, 4, 4, 4, 1, 4, 1, 5, 3, 2, 2,\n",
              "       5, 4, 3, 3, 4, 5, 3, 4, 1, 5, 2, 3, 2, 2, 0, 2, 1, 3, 1, 2, 4, 5,\n",
              "       5, 1, 4, 2, 2, 1, 1, 3, 3, 5, 5, 2, 5, 1, 2, 1, 3, 3, 0, 4, 1, 4,\n",
              "       1, 4, 3, 2, 5, 0, 4, 1, 4])"
            ]
          },
          "metadata": {},
          "execution_count": 22
        }
      ]
    },
    {
      "cell_type": "code",
      "source": [
        "abc = preds1.astype(int).flatten()"
      ],
      "metadata": {
        "id": "H4WEmM60NfQn"
      },
      "execution_count": 23,
      "outputs": []
    },
    {
      "cell_type": "code",
      "source": [
        "from sklearn.metrics import confusion_matrix\n",
        "c = confusion_matrix(new_Ytest, abc) \n",
        "c"
      ],
      "metadata": {
        "colab": {
          "base_uri": "https://localhost:8080/"
        },
        "id": "bKEBeEBlFjB8",
        "outputId": "8367cc3f-b2bf-4117-a2d9-1f9a5c500995"
      },
      "execution_count": 24,
      "outputs": [
        {
          "output_type": "execute_result",
          "data": {
            "text/plain": [
              "array([[11,  4,  0,  3,  0,  0],\n",
              "       [ 2, 35,  1,  3,  0,  0],\n",
              "       [ 0,  2, 34,  2,  6,  1],\n",
              "       [ 1,  2,  0, 24,  0,  4],\n",
              "       [ 0,  0,  0,  1, 32,  0],\n",
              "       [ 0,  1,  5,  6,  1, 26]])"
            ]
          },
          "metadata": {},
          "execution_count": 24
        }
      ]
    },
    {
      "cell_type": "code",
      "source": [
        "y_test"
      ],
      "metadata": {
        "colab": {
          "base_uri": "https://localhost:8080/"
        },
        "id": "m4RjG7LWLSQx",
        "outputId": "1690a7c5-2c5f-4e32-b1ee-d499c0cf0969"
      },
      "execution_count": 25,
      "outputs": [
        {
          "output_type": "execute_result",
          "data": {
            "text/plain": [
              "array([3, 3, 3, 0, 4, 4, 1, 2, 5, 0, 5, 3, 2, 2, 1, 4, 4, 5, 2, 4, 1, 2,\n",
              "       3, 5, 4, 2, 1, 2, 2, 2, 2, 5, 2, 5, 3, 1, 2, 0, 4, 5, 2, 3, 2, 2,\n",
              "       5, 2, 0, 1, 3, 4, 4, 5, 1, 1, 4, 4, 5, 1, 1, 1, 0, 1, 5, 0, 4, 1,\n",
              "       1, 0, 1, 4, 1, 0, 4, 1, 3, 1, 2, 2, 1, 2, 3, 0, 5, 3, 5, 5, 2, 4,\n",
              "       5, 1, 5, 1, 5, 3, 4, 1, 4, 1, 5, 4, 5, 1, 2, 1, 1, 5, 1, 3, 2, 5,\n",
              "       2, 1, 3, 5, 4, 4, 0, 0, 3, 1, 2, 2, 3, 5, 1, 5, 3, 4, 2, 2, 0, 2,\n",
              "       2, 5, 5, 0, 3, 3, 2, 2, 0, 3, 4, 0, 4, 2, 4, 5, 4, 1, 5, 3, 2, 2,\n",
              "       5, 4, 3, 3, 4, 3, 3, 4, 1, 5, 2, 3, 2, 2, 0, 2, 1, 3, 1, 2, 2, 5,\n",
              "       5, 1, 4, 2, 2, 1, 1, 3, 3, 5, 5, 2, 5, 1, 5, 0, 3, 3, 0, 5, 1, 4,\n",
              "       1, 4, 2, 5, 5, 1, 4, 2, 4])"
            ]
          },
          "metadata": {},
          "execution_count": 25
        }
      ]
    },
    {
      "cell_type": "code",
      "source": [
        "loss, acc =model.evaluate(x_testcnn, y_test)\n",
        "print(\"Restored model, accuracy: {:5.2f}%\".format(100*acc))"
      ],
      "metadata": {
        "colab": {
          "base_uri": "https://localhost:8080/"
        },
        "id": "n3kzoqPkDqqS",
        "outputId": "57e07ad0-bc73-4ee3-e1fc-9d6455b6aeb6"
      },
      "execution_count": 26,
      "outputs": [
        {
          "output_type": "stream",
          "name": "stdout",
          "text": [
            "7/7 [==============================] - 0s 3ms/step - loss: 0.5894 - accuracy: 0.7826\n",
            "Restored model, accuracy: 78.26%\n"
          ]
        }
      ]
    },
    {
      "cell_type": "code",
      "source": [
        "loss, acc =model.evaluate(X_train, y_train)\n",
        "print(\"Restored model train, accuracy: {:5.2f}%\".format(100*acc))"
      ],
      "metadata": {
        "id": "fJDTGH_OUX0z",
        "colab": {
          "base_uri": "https://localhost:8080/"
        },
        "outputId": "6d2f6b00-3a4a-4f4c-dbf6-1eb9fb0e3470"
      },
      "execution_count": 27,
      "outputs": [
        {
          "output_type": "stream",
          "name": "stdout",
          "text": [
            "52/52 [==============================] - 0s 5ms/step - loss: 0.1474 - accuracy: 0.9752\n",
            "Restored model train, accuracy: 97.52%\n"
          ]
        }
      ]
    },
    {
      "cell_type": "code",
      "source": [
        "from sklearn.metrics import classification_report, confusion_matrix,accuracy_score\n",
        "import seaborn as sn\n",
        "\n",
        "print(classification_report(new_Ytest,abc))\n",
        "\n",
        "acc = float(accuracy_score(new_Ytest,abc))*100\n",
        "print(\"----accuracy score %s ----\" % acc)\n",
        "\n",
        "cm = confusion_matrix(new_Ytest,abc)\n",
        "#df_cm = pd.DataFrame(cm)\n",
        "class_names = ['neutral','calm', 'happy','sad','angry', 'fearful' ]\n",
        "df_cm = pd.DataFrame(cm, index=class_names, columns=class_names,)\n",
        "sn.heatmap(df_cm, annot=True, fmt='')\n",
        "plt.show()"
      ],
      "metadata": {
        "colab": {
          "base_uri": "https://localhost:8080/",
          "height": 512
        },
        "id": "SfSC3El94LZg",
        "outputId": "8af87365-37a0-4c59-d806-33fe95c1d6b5"
      },
      "execution_count": 28,
      "outputs": [
        {
          "output_type": "stream",
          "name": "stdout",
          "text": [
            "              precision    recall  f1-score   support\n",
            "\n",
            "           0       0.79      0.61      0.69        18\n",
            "           1       0.80      0.85      0.82        41\n",
            "           2       0.85      0.76      0.80        45\n",
            "           3       0.62      0.77      0.69        31\n",
            "           4       0.82      0.97      0.89        33\n",
            "           5       0.84      0.67      0.74        39\n",
            "\n",
            "    accuracy                           0.78       207\n",
            "   macro avg       0.78      0.77      0.77       207\n",
            "weighted avg       0.79      0.78      0.78       207\n",
            "\n",
            "----accuracy score 78.26086956521739 ----\n"
          ]
        },
        {
          "output_type": "display_data",
          "data": {
            "text/plain": [
              "<Figure size 432x288 with 2 Axes>"
            ],
            "image/png": "[encoded data removed]"
          },
          "metadata": {
            "needs_background": "light"
          }
        }
      ]
    }
  ]
}