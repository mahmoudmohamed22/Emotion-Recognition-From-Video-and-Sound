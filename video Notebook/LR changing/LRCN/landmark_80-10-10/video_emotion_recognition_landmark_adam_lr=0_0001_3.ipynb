{
  "nbformat": 4,
  "nbformat_minor": 0,
  "metadata": {
    "colab": {
      "name": "video_emotion_recognition_landmark_adam_lr=0.0001_3.ipynb",
      "provenance": [],
      "collapsed_sections": [],
      "machine_shape": "hm"
    },
    "kernelspec": {
      "name": "python3",
      "display_name": "Python 3"
    },
    "accelerator": "GPU"
  },
  "cells": [
    {
      "cell_type": "code",
      "source": [
        "from google.colab import drive\n",
        "drive.mount('/content/drive')"
      ],
      "metadata": {
        "colab": {
          "base_uri": "https://localhost:8080/"
        },
        "id": "o94I67GBPVfM",
        "outputId": "69f95b97-0d97-4771-adca-f3d4880c6cbb"
      },
      "execution_count": 1,
      "outputs": [
        {
          "output_type": "stream",
          "name": "stdout",
          "text": [
            "Mounted at /content/drive\n"
          ]
        }
      ]
    },
    {
      "cell_type": "code",
      "source": [
        "# Discard the output of this cell.\n",
        "#%%capture\n",
        "\n",
        "# Install the required libraries.\n",
        "!pip install tensorflow opencv-contrib-python youtube-dl moviepy pydot\n",
        "!pip install git+https://github.com/TahaAnwar/pafy.git#egg=pafy"
      ],
      "metadata": {
        "colab": {
          "base_uri": "https://localhost:8080/"
        },
        "id": "6OQ7vRnzP6n8",
        "outputId": "d81bc957-7446-4ec4-b0b5-aca60029f939"
      },
      "execution_count": 1,
      "outputs": [
        {
          "output_type": "stream",
          "name": "stdout",
          "text": [
            "Looking in indexes: https://pypi.org/simple, https://us-python.pkg.dev/colab-wheels/public/simple/\n",
            "Requirement already satisfied: tensorflow in /usr/local/lib/python3.7/dist-packages (2.8.2+zzzcolab20220527125636)\n",
            "Requirement already satisfied: opencv-contrib-python in /usr/local/lib/python3.7/dist-packages (4.1.2.30)\n",
            "Requirement already satisfied: youtube-dl in /usr/local/lib/python3.7/dist-packages (2021.12.17)\n",
            "Requirement already satisfied: moviepy in /usr/local/lib/python3.7/dist-packages (0.2.3.5)\n",
            "Requirement already satisfied: pydot in /usr/local/lib/python3.7/dist-packages (1.3.0)\n",
            "Requirement already satisfied: numpy>=1.20 in /usr/local/lib/python3.7/dist-packages (from tensorflow) (1.21.6)\n",
            "Requirement already satisfied: astunparse>=1.6.0 in /usr/local/lib/python3.7/dist-packages (from tensorflow) (1.6.3)\n",
            "Requirement already satisfied: protobuf<3.20,>=3.9.2 in /usr/local/lib/python3.7/dist-packages (from tensorflow) (3.17.3)\n",
            "Requirement already satisfied: google-pasta>=0.1.1 in /usr/local/lib/python3.7/dist-packages (from tensorflow) (0.2.0)\n",
            "Requirement already satisfied: libclang>=9.0.1 in /usr/local/lib/python3.7/dist-packages (from tensorflow) (14.0.1)\n",
            "Requirement already satisfied: keras-preprocessing>=1.1.1 in /usr/local/lib/python3.7/dist-packages (from tensorflow) (1.1.2)\n",
            "Requirement already satisfied: grpcio<2.0,>=1.24.3 in /usr/local/lib/python3.7/dist-packages (from tensorflow) (1.46.3)\n",
            "Requirement already satisfied: tensorflow-io-gcs-filesystem>=0.23.1 in /usr/local/lib/python3.7/dist-packages (from tensorflow) (0.26.0)\n",
            "Requirement already satisfied: six>=1.12.0 in /usr/local/lib/python3.7/dist-packages (from tensorflow) (1.15.0)\n",
            "Requirement already satisfied: absl-py>=0.4.0 in /usr/local/lib/python3.7/dist-packages (from tensorflow) (1.0.0)\n",
            "Requirement already satisfied: tensorboard<2.9,>=2.8 in /usr/local/lib/python3.7/dist-packages (from tensorflow) (2.8.0)\n",
            "Requirement already satisfied: opt-einsum>=2.3.2 in /usr/local/lib/python3.7/dist-packages (from tensorflow) (3.3.0)\n",
            "Requirement already satisfied: setuptools in /usr/local/lib/python3.7/dist-packages (from tensorflow) (57.4.0)\n",
            "Requirement already satisfied: typing-extensions>=3.6.6 in /usr/local/lib/python3.7/dist-packages (from tensorflow) (4.2.0)\n",
            "Requirement already satisfied: tensorflow-estimator<2.9,>=2.8 in /usr/local/lib/python3.7/dist-packages (from tensorflow) (2.8.0)\n",
            "Requirement already satisfied: wrapt>=1.11.0 in /usr/local/lib/python3.7/dist-packages (from tensorflow) (1.14.1)\n",
            "Requirement already satisfied: termcolor>=1.1.0 in /usr/local/lib/python3.7/dist-packages (from tensorflow) (1.1.0)\n",
            "Requirement already satisfied: gast>=0.2.1 in /usr/local/lib/python3.7/dist-packages (from tensorflow) (0.5.3)\n",
            "Requirement already satisfied: keras<2.9,>=2.8.0rc0 in /usr/local/lib/python3.7/dist-packages (from tensorflow) (2.8.0)\n",
            "Requirement already satisfied: flatbuffers>=1.12 in /usr/local/lib/python3.7/dist-packages (from tensorflow) (2.0)\n",
            "Requirement already satisfied: h5py>=2.9.0 in /usr/local/lib/python3.7/dist-packages (from tensorflow) (3.1.0)\n",
            "Requirement already satisfied: wheel<1.0,>=0.23.0 in /usr/local/lib/python3.7/dist-packages (from astunparse>=1.6.0->tensorflow) (0.37.1)\n",
            "Requirement already satisfied: cached-property in /usr/local/lib/python3.7/dist-packages (from h5py>=2.9.0->tensorflow) (1.5.2)\n",
            "Requirement already satisfied: tensorboard-plugin-wit>=1.6.0 in /usr/local/lib/python3.7/dist-packages (from tensorboard<2.9,>=2.8->tensorflow) (1.8.1)\n",
            "Requirement already satisfied: werkzeug>=0.11.15 in /usr/local/lib/python3.7/dist-packages (from tensorboard<2.9,>=2.8->tensorflow) (1.0.1)\n",
            "Requirement already satisfied: markdown>=2.6.8 in /usr/local/lib/python3.7/dist-packages (from tensorboard<2.9,>=2.8->tensorflow) (3.3.7)\n",
            "Requirement already satisfied: google-auth-oauthlib<0.5,>=0.4.1 in /usr/local/lib/python3.7/dist-packages (from tensorboard<2.9,>=2.8->tensorflow) (0.4.6)\n",
            "Requirement already satisfied: requests<3,>=2.21.0 in /usr/local/lib/python3.7/dist-packages (from tensorboard<2.9,>=2.8->tensorflow) (2.23.0)\n",
            "Requirement already satisfied: google-auth<3,>=1.6.3 in /usr/local/lib/python3.7/dist-packages (from tensorboard<2.9,>=2.8->tensorflow) (1.35.0)\n",
            "Requirement already satisfied: tensorboard-data-server<0.7.0,>=0.6.0 in /usr/local/lib/python3.7/dist-packages (from tensorboard<2.9,>=2.8->tensorflow) (0.6.1)\n",
            "Requirement already satisfied: pyasn1-modules>=0.2.1 in /usr/local/lib/python3.7/dist-packages (from google-auth<3,>=1.6.3->tensorboard<2.9,>=2.8->tensorflow) (0.2.8)\n",
            "Requirement already satisfied: cachetools<5.0,>=2.0.0 in /usr/local/lib/python3.7/dist-packages (from google-auth<3,>=1.6.3->tensorboard<2.9,>=2.8->tensorflow) (4.2.4)\n",
            "Requirement already satisfied: rsa<5,>=3.1.4 in /usr/local/lib/python3.7/dist-packages (from google-auth<3,>=1.6.3->tensorboard<2.9,>=2.8->tensorflow) (4.8)\n",
            "Requirement already satisfied: requests-oauthlib>=0.7.0 in /usr/local/lib/python3.7/dist-packages (from google-auth-oauthlib<0.5,>=0.4.1->tensorboard<2.9,>=2.8->tensorflow) (1.3.1)\n",
            "Requirement already satisfied: importlib-metadata>=4.4 in /usr/local/lib/python3.7/dist-packages (from markdown>=2.6.8->tensorboard<2.9,>=2.8->tensorflow) (4.11.4)\n",
            "Requirement already satisfied: zipp>=0.5 in /usr/local/lib/python3.7/dist-packages (from importlib-metadata>=4.4->markdown>=2.6.8->tensorboard<2.9,>=2.8->tensorflow) (3.8.0)\n",
            "Requirement already satisfied: pyasn1<0.5.0,>=0.4.6 in /usr/local/lib/python3.7/dist-packages (from pyasn1-modules>=0.2.1->google-auth<3,>=1.6.3->tensorboard<2.9,>=2.8->tensorflow) (0.4.8)\n",
            "Requirement already satisfied: chardet<4,>=3.0.2 in /usr/local/lib/python3.7/dist-packages (from requests<3,>=2.21.0->tensorboard<2.9,>=2.8->tensorflow) (3.0.4)\n",
            "Requirement already satisfied: urllib3!=1.25.0,!=1.25.1,<1.26,>=1.21.1 in /usr/local/lib/python3.7/dist-packages (from requests<3,>=2.21.0->tensorboard<2.9,>=2.8->tensorflow) (1.24.3)\n",
            "Requirement already satisfied: certifi>=2017.4.17 in /usr/local/lib/python3.7/dist-packages (from requests<3,>=2.21.0->tensorboard<2.9,>=2.8->tensorflow) (2022.5.18.1)\n",
            "Requirement already satisfied: idna<3,>=2.5 in /usr/local/lib/python3.7/dist-packages (from requests<3,>=2.21.0->tensorboard<2.9,>=2.8->tensorflow) (2.10)\n",
            "Requirement already satisfied: oauthlib>=3.0.0 in /usr/local/lib/python3.7/dist-packages (from requests-oauthlib>=0.7.0->google-auth-oauthlib<0.5,>=0.4.1->tensorboard<2.9,>=2.8->tensorflow) (3.2.0)\n",
            "Requirement already satisfied: tqdm<5.0,>=4.11.2 in /usr/local/lib/python3.7/dist-packages (from moviepy) (4.64.0)\n",
            "Requirement already satisfied: decorator<5.0,>=4.0.2 in /usr/local/lib/python3.7/dist-packages (from moviepy) (4.4.2)\n",
            "Requirement already satisfied: imageio<3.0,>=2.1.2 in /usr/local/lib/python3.7/dist-packages (from moviepy) (2.4.1)\n",
            "Requirement already satisfied: pillow in /usr/local/lib/python3.7/dist-packages (from imageio<3.0,>=2.1.2->moviepy) (7.1.2)\n",
            "Requirement already satisfied: pyparsing>=2.1.4 in /usr/local/lib/python3.7/dist-packages (from pydot) (3.0.9)\n",
            "Looking in indexes: https://pypi.org/simple, https://us-python.pkg.dev/colab-wheels/public/simple/\n",
            "Collecting pafy\n",
            "  Cloning https://github.com/TahaAnwar/pafy.git to /tmp/pip-install-z5_u3_cn/pafy_17b5b0b7d28f453cba5f14dd0e41f89c\n",
            "  Running command git clone -q https://github.com/TahaAnwar/pafy.git /tmp/pip-install-z5_u3_cn/pafy_17b5b0b7d28f453cba5f14dd0e41f89c\n"
          ]
        }
      ]
    },
    {
      "cell_type": "code",
      "source": [
        "# Import the required libraries.\n",
        "import os\n",
        "import cv2\n",
        "import pafy\n",
        "import math\n",
        "import random\n",
        "import numpy as np\n",
        "import datetime as dt\n",
        "import tensorflow as tf\n",
        "from collections import deque\n",
        "import matplotlib.pyplot as plt\n",
        "\n",
        "from moviepy.editor import *\n",
        "%matplotlib inline\n",
        "\n",
        "from sklearn.model_selection import train_test_split\n",
        "\n",
        "from tensorflow.keras.layers import *\n",
        "from tensorflow.keras.models import Sequential\n",
        "from tensorflow.keras.utils import to_categorical\n",
        "from tensorflow.keras.callbacks import EarlyStopping\n",
        "from tensorflow.keras.utils import plot_model"
      ],
      "metadata": {
        "id": "LiLwshTpP-OB"
      },
      "execution_count": 2,
      "outputs": []
    },
    {
      "cell_type": "code",
      "source": [
        "seed_constant = 27\n",
        "np.random.seed(seed_constant)\n",
        "random.seed(seed_constant)\n",
        "tf.random.set_seed(seed_constant)"
      ],
      "metadata": {
        "id": "u4EtD4rrQEnb"
      },
      "execution_count": 3,
      "outputs": []
    },
    {
      "cell_type": "code",
      "source": [
        "# Specify the height and width to which each video frame will be resized in our dataset.\n",
        "IMAGE_HEIGHT , IMAGE_WIDTH = 64, 64\n",
        "\n",
        "# Specify the number of frames of a video that will be fed to the model as one sequence.\n",
        "SEQUENCE_LENGTH = 30\n",
        "\n",
        "# Specify the directory containing the UCF50 dataset. \n",
        "#DATASET_DIR = \"/content/drive/MyDrive/videospeech_label\"\n",
        "\n",
        "# Specify the list containing the names of the classes used for training. Feel free to choose any set of classes.\n",
        "CLASSES_LIST = [\"neutral\", \"calm\", \"happy\", \"sad\",\"angry\",\"fearful\"]"
      ],
      "metadata": {
        "id": "7H6KBiblQKE9"
      },
      "execution_count": 4,
      "outputs": []
    },
    {
      "cell_type": "code",
      "source": [
        "import joblib\n",
        "features=joblib.load('/content/drive/My Drive/features_ravdess/data_set/features_data')\n",
        "labels=joblib.load('/content/drive/My Drive/features_ravdess/data_set/labels')\n",
        "video_file_path=joblib.load('/content/drive/My Drive/features_ravdess/data_set/video_path')"
      ],
      "metadata": {
        "id": "V_rh-id5cmwd"
      },
      "execution_count": 5,
      "outputs": []
    },
    {
      "cell_type": "code",
      "source": [
        "features = np.asarray(features)\n",
        "labels = np.array(labels)  "
      ],
      "metadata": {
        "id": "WI3wNd7zdKzJ"
      },
      "execution_count": 6,
      "outputs": []
    },
    {
      "cell_type": "code",
      "source": [
        "features.shape"
      ],
      "metadata": {
        "colab": {
          "base_uri": "https://localhost:8080/"
        },
        "id": "pnnmkPz5Qh75",
        "outputId": "9eef053c-eb3e-496a-e6dc-39a1b9b0e7d9"
      },
      "execution_count": 7,
      "outputs": [
        {
          "output_type": "execute_result",
          "data": {
            "text/plain": [
              "(2067, 30, 64, 64, 3)"
            ]
          },
          "metadata": {},
          "execution_count": 7
        }
      ]
    },
    {
      "cell_type": "code",
      "source": [
        "labels.shape"
      ],
      "metadata": {
        "colab": {
          "base_uri": "https://localhost:8080/"
        },
        "id": "kSGvdE_hQklC",
        "outputId": "94d36e44-5562-4a05-d84c-d04c124e9dff"
      },
      "execution_count": 8,
      "outputs": [
        {
          "output_type": "execute_result",
          "data": {
            "text/plain": [
              "(2067,)"
            ]
          },
          "metadata": {},
          "execution_count": 8
        }
      ]
    },
    {
      "cell_type": "code",
      "source": [
        "# Using Keras's to_categorical method to convert labels into one-hot-encoded vectors\n",
        "one_hot_encoded_labels = to_categorical(labels)"
      ],
      "metadata": {
        "id": "DGicVwcRQn9x"
      },
      "execution_count": 9,
      "outputs": []
    },
    {
      "cell_type": "code",
      "source": [
        "# Split the Data into Train ( 80% ) and Test Set ( 20% ).\n",
        "features_train, features_test, labels_train, labels_test = train_test_split(features, one_hot_encoded_labels,\n",
        "                                                                            test_size = 0.10, shuffle = True,\n",
        "                                                                            random_state = seed_constant)"
      ],
      "metadata": {
        "id": "pysOwWbgQrBv"
      },
      "execution_count": 10,
      "outputs": []
    },
    {
      "cell_type": "code",
      "source": [
        "def create_LRCN_model():\n",
        "    '''\n",
        "    This function will construct the required LRCN model.\n",
        "    Returns:\n",
        "        model: It is the required constructed LRCN model.\n",
        "    '''\n",
        "\n",
        "    # We will use a Sequential model for model construction.\n",
        "    model = Sequential()\n",
        "    \n",
        "    # Define the Model Architecture.\n",
        "    ########################################################################################################################\n",
        "    \n",
        "    model.add(TimeDistributed(Conv2D(16, (3, 3), padding='same',activation = 'relu'),\n",
        "                              input_shape = (SEQUENCE_LENGTH, IMAGE_HEIGHT, IMAGE_WIDTH, 3)))\n",
        "    \n",
        "    model.add(TimeDistributed(MaxPooling2D((4, 4)))) \n",
        "    model.add(TimeDistributed(Dropout(0.25)))\n",
        "    \n",
        "    model.add(TimeDistributed(Conv2D(32, (3, 3), padding='same',activation = 'relu')))\n",
        "    model.add(TimeDistributed(MaxPooling2D((4, 4))))\n",
        "    model.add(TimeDistributed(Dropout(0.25)))\n",
        "    \n",
        "    model.add(TimeDistributed(Conv2D(64, (3, 3), padding='same',activation = 'relu')))\n",
        "    model.add(TimeDistributed(MaxPooling2D((2, 2))))\n",
        "    model.add(TimeDistributed(Dropout(0.25)))\n",
        "    \n",
        "    model.add(TimeDistributed(Conv2D(64, (3, 3), padding='same',activation = 'relu')))\n",
        "    model.add(TimeDistributed(MaxPooling2D((2, 2))))\n",
        "    #model.add(TimeDistributed(Dropout(0.25)))\n",
        "                                      \n",
        "    model.add(TimeDistributed(Flatten()))\n",
        "                                      \n",
        "    model.add(LSTM(32))\n",
        "                                      \n",
        "    model.add(Dense(len(CLASSES_LIST), activation = 'softmax'))\n",
        "\n",
        "    ########################################################################################################################\n",
        "\n",
        "    # Display the models summary.\n",
        "    model.summary()\n",
        "    \n",
        "    # Return the constructed LRCN model.\n",
        "    return model"
      ],
      "metadata": {
        "id": "01zL-4EVQt3J"
      },
      "execution_count": 11,
      "outputs": []
    },
    {
      "cell_type": "code",
      "source": [
        "# Construct the required LRCN model.\n",
        "LRCN_model = create_LRCN_model()\n",
        "\n",
        "# Display the success message.\n",
        "print(\"Model Created Successfully!\")"
      ],
      "metadata": {
        "colab": {
          "base_uri": "https://localhost:8080/"
        },
        "id": "sFdjcb8zQxX4",
        "outputId": "410f351f-466e-434d-fd6b-6a20f5591bce"
      },
      "execution_count": 12,
      "outputs": [
        {
          "output_type": "stream",
          "name": "stdout",
          "text": [
            "Model: \"sequential\"\n",
            "_________________________________________________________________\n",
            " Layer (type)                Output Shape              Param #   \n",
            "=================================================================\n",
            " time_distributed (TimeDistr  (None, 30, 64, 64, 16)   448       \n",
            " ibuted)                                                         \n",
            "                                                                 \n",
            " time_distributed_1 (TimeDis  (None, 30, 16, 16, 16)   0         \n",
            " tributed)                                                       \n",
            "                                                                 \n",
            " time_distributed_2 (TimeDis  (None, 30, 16, 16, 16)   0         \n",
            " tributed)                                                       \n",
            "                                                                 \n",
            " time_distributed_3 (TimeDis  (None, 30, 16, 16, 32)   4640      \n",
            " tributed)                                                       \n",
            "                                                                 \n",
            " time_distributed_4 (TimeDis  (None, 30, 4, 4, 32)     0         \n",
            " tributed)                                                       \n",
            "                                                                 \n",
            " time_distributed_5 (TimeDis  (None, 30, 4, 4, 32)     0         \n",
            " tributed)                                                       \n",
            "                                                                 \n",
            " time_distributed_6 (TimeDis  (None, 30, 4, 4, 64)     18496     \n",
            " tributed)                                                       \n",
            "                                                                 \n",
            " time_distributed_7 (TimeDis  (None, 30, 2, 2, 64)     0         \n",
            " tributed)                                                       \n",
            "                                                                 \n",
            " time_distributed_8 (TimeDis  (None, 30, 2, 2, 64)     0         \n",
            " tributed)                                                       \n",
            "                                                                 \n",
            " time_distributed_9 (TimeDis  (None, 30, 2, 2, 64)     36928     \n",
            " tributed)                                                       \n",
            "                                                                 \n",
            " time_distributed_10 (TimeDi  (None, 30, 1, 1, 64)     0         \n",
            " stributed)                                                      \n",
            "                                                                 \n",
            " time_distributed_11 (TimeDi  (None, 30, 64)           0         \n",
            " stributed)                                                      \n",
            "                                                                 \n",
            " lstm (LSTM)                 (None, 32)                12416     \n",
            "                                                                 \n",
            " dense (Dense)               (None, 6)                 198       \n",
            "                                                                 \n",
            "=================================================================\n",
            "Total params: 73,126\n",
            "Trainable params: 73,126\n",
            "Non-trainable params: 0\n",
            "_________________________________________________________________\n",
            "Model Created Successfully!\n"
          ]
        }
      ]
    },
    {
      "cell_type": "code",
      "source": [
        "import keras\n",
        "import tensorflow as tf \n",
        "# Create an Instance of Early Stopping Callback.\n",
        "early_stopping_callback = EarlyStopping(monitor = 'val_loss', patience = 25, mode = 'min', restore_best_weights = True)\n",
        "\n",
        "opt = tf.keras.optimizers.Adam(learning_rate=0.0001)\n",
        " \n",
        "# Compile the model and specify loss function, optimizer and metrics to the model.\n",
        "LRCN_model.compile(loss = 'categorical_crossentropy', optimizer = opt, metrics = [\"accuracy\"])\n",
        "\n",
        "# Start training the model.\n",
        "LRCN_model_training_history = LRCN_model.fit(x = features_train, y = labels_train, epochs = 100, batch_size = 4 ,\n",
        "                                             shuffle = True, validation_split = 0.1, callbacks = [early_stopping_callback])"
      ],
      "metadata": {
        "colab": {
          "base_uri": "https://localhost:8080/"
        },
        "id": "cVmXzItZQ4-r",
        "outputId": "411fce05-f0e0-49de-f9c1-06581c3fd0c4"
      },
      "execution_count": 13,
      "outputs": [
        {
          "output_type": "stream",
          "name": "stdout",
          "text": [
            "Epoch 1/100\n",
            "419/419 [==============================] - 27s 20ms/step - loss: 1.7769 - accuracy: 0.1732 - val_loss: 1.7734 - val_accuracy: 0.2419\n",
            "Epoch 2/100\n",
            "419/419 [==============================] - 6s 15ms/step - loss: 1.7687 - accuracy: 0.1798 - val_loss: 1.7777 - val_accuracy: 0.1398\n",
            "Epoch 3/100\n",
            "419/419 [==============================] - 6s 15ms/step - loss: 1.7669 - accuracy: 0.1792 - val_loss: 1.7762 - val_accuracy: 0.1559\n",
            "Epoch 4/100\n",
            "419/419 [==============================] - 6s 15ms/step - loss: 1.7637 - accuracy: 0.2055 - val_loss: 1.7742 - val_accuracy: 0.2312\n",
            "Epoch 5/100\n",
            "419/419 [==============================] - 6s 15ms/step - loss: 1.7607 - accuracy: 0.2186 - val_loss: 1.7733 - val_accuracy: 0.2581\n",
            "Epoch 6/100\n",
            "419/419 [==============================] - 6s 15ms/step - loss: 1.7543 - accuracy: 0.2222 - val_loss: 1.7510 - val_accuracy: 0.2903\n",
            "Epoch 7/100\n",
            "419/419 [==============================] - 6s 15ms/step - loss: 1.7152 - accuracy: 0.2682 - val_loss: 1.6857 - val_accuracy: 0.3387\n",
            "Epoch 8/100\n",
            "419/419 [==============================] - 6s 15ms/step - loss: 1.6357 - accuracy: 0.3065 - val_loss: 1.5881 - val_accuracy: 0.3387\n",
            "Epoch 9/100\n",
            "419/419 [==============================] - 6s 15ms/step - loss: 1.5949 - accuracy: 0.3220 - val_loss: 1.6176 - val_accuracy: 0.3118\n",
            "Epoch 10/100\n",
            "419/419 [==============================] - 6s 15ms/step - loss: 1.5631 - accuracy: 0.3566 - val_loss: 1.5520 - val_accuracy: 0.3548\n",
            "Epoch 11/100\n",
            "419/419 [==============================] - 6s 15ms/step - loss: 1.5258 - accuracy: 0.3596 - val_loss: 1.4949 - val_accuracy: 0.3871\n",
            "Epoch 12/100\n",
            "419/419 [==============================] - 6s 15ms/step - loss: 1.4750 - accuracy: 0.3919 - val_loss: 1.4408 - val_accuracy: 0.3763\n",
            "Epoch 13/100\n",
            "419/419 [==============================] - 6s 14ms/step - loss: 1.4164 - accuracy: 0.4241 - val_loss: 1.4332 - val_accuracy: 0.4355\n",
            "Epoch 14/100\n",
            "419/419 [==============================] - 6s 15ms/step - loss: 1.3415 - accuracy: 0.4564 - val_loss: 1.3244 - val_accuracy: 0.4731\n",
            "Epoch 15/100\n",
            "419/419 [==============================] - 6s 15ms/step - loss: 1.2770 - accuracy: 0.4761 - val_loss: 1.3153 - val_accuracy: 0.4785\n",
            "Epoch 16/100\n",
            "419/419 [==============================] - 6s 15ms/step - loss: 1.2320 - accuracy: 0.4827 - val_loss: 1.2551 - val_accuracy: 0.4785\n",
            "Epoch 17/100\n",
            "419/419 [==============================] - 6s 15ms/step - loss: 1.1829 - accuracy: 0.5227 - val_loss: 1.2091 - val_accuracy: 0.4946\n",
            "Epoch 18/100\n",
            "419/419 [==============================] - 6s 15ms/step - loss: 1.1497 - accuracy: 0.5376 - val_loss: 1.1867 - val_accuracy: 0.4892\n",
            "Epoch 19/100\n",
            "419/419 [==============================] - 6s 15ms/step - loss: 1.1363 - accuracy: 0.5478 - val_loss: 1.1953 - val_accuracy: 0.5054\n",
            "Epoch 20/100\n",
            "419/419 [==============================] - 6s 15ms/step - loss: 1.0974 - accuracy: 0.5478 - val_loss: 1.1345 - val_accuracy: 0.4946\n",
            "Epoch 21/100\n",
            "419/419 [==============================] - 6s 15ms/step - loss: 1.0794 - accuracy: 0.5406 - val_loss: 1.0876 - val_accuracy: 0.5161\n",
            "Epoch 22/100\n",
            "419/419 [==============================] - 6s 15ms/step - loss: 1.0584 - accuracy: 0.5657 - val_loss: 1.0978 - val_accuracy: 0.5538\n",
            "Epoch 23/100\n",
            "419/419 [==============================] - 6s 15ms/step - loss: 1.0277 - accuracy: 0.5639 - val_loss: 1.0685 - val_accuracy: 0.5108\n",
            "Epoch 24/100\n",
            "419/419 [==============================] - 6s 15ms/step - loss: 1.0100 - accuracy: 0.5795 - val_loss: 1.0507 - val_accuracy: 0.5430\n",
            "Epoch 25/100\n",
            "419/419 [==============================] - 6s 15ms/step - loss: 0.9844 - accuracy: 0.6022 - val_loss: 1.0387 - val_accuracy: 0.5699\n",
            "Epoch 26/100\n",
            "419/419 [==============================] - 6s 14ms/step - loss: 0.9799 - accuracy: 0.5938 - val_loss: 1.1209 - val_accuracy: 0.5108\n",
            "Epoch 27/100\n",
            "419/419 [==============================] - 6s 14ms/step - loss: 0.9489 - accuracy: 0.6141 - val_loss: 1.0094 - val_accuracy: 0.5538\n",
            "Epoch 28/100\n",
            "419/419 [==============================] - 6s 14ms/step - loss: 0.9374 - accuracy: 0.6183 - val_loss: 0.9710 - val_accuracy: 0.5860\n",
            "Epoch 29/100\n",
            "419/419 [==============================] - 6s 14ms/step - loss: 0.9327 - accuracy: 0.6207 - val_loss: 1.0438 - val_accuracy: 0.5430\n",
            "Epoch 30/100\n",
            "419/419 [==============================] - 6s 15ms/step - loss: 0.9160 - accuracy: 0.6225 - val_loss: 0.9676 - val_accuracy: 0.5484\n",
            "Epoch 31/100\n",
            "419/419 [==============================] - 6s 15ms/step - loss: 0.8980 - accuracy: 0.6302 - val_loss: 0.9427 - val_accuracy: 0.5484\n",
            "Epoch 32/100\n",
            "419/419 [==============================] - 6s 15ms/step - loss: 0.8618 - accuracy: 0.6517 - val_loss: 0.9339 - val_accuracy: 0.5968\n",
            "Epoch 33/100\n",
            "419/419 [==============================] - 6s 15ms/step - loss: 0.8564 - accuracy: 0.6553 - val_loss: 0.9844 - val_accuracy: 0.5538\n",
            "Epoch 34/100\n",
            "419/419 [==============================] - 6s 15ms/step - loss: 0.8464 - accuracy: 0.6595 - val_loss: 0.8990 - val_accuracy: 0.6075\n",
            "Epoch 35/100\n",
            "419/419 [==============================] - 6s 15ms/step - loss: 0.8384 - accuracy: 0.6714 - val_loss: 0.9678 - val_accuracy: 0.5753\n",
            "Epoch 36/100\n",
            "419/419 [==============================] - 6s 15ms/step - loss: 0.8085 - accuracy: 0.6804 - val_loss: 0.9487 - val_accuracy: 0.5806\n",
            "Epoch 37/100\n",
            "419/419 [==============================] - 7s 16ms/step - loss: 0.8035 - accuracy: 0.6840 - val_loss: 1.0116 - val_accuracy: 0.5753\n",
            "Epoch 38/100\n",
            "419/419 [==============================] - 6s 15ms/step - loss: 0.7755 - accuracy: 0.6959 - val_loss: 0.8410 - val_accuracy: 0.6828\n",
            "Epoch 39/100\n",
            "419/419 [==============================] - 6s 15ms/step - loss: 0.7478 - accuracy: 0.7031 - val_loss: 0.8153 - val_accuracy: 0.6882\n",
            "Epoch 40/100\n",
            "419/419 [==============================] - 6s 15ms/step - loss: 0.7557 - accuracy: 0.7001 - val_loss: 0.8479 - val_accuracy: 0.6505\n",
            "Epoch 41/100\n",
            "419/419 [==============================] - 6s 15ms/step - loss: 0.7225 - accuracy: 0.7276 - val_loss: 0.7934 - val_accuracy: 0.6828\n",
            "Epoch 42/100\n",
            "419/419 [==============================] - 6s 15ms/step - loss: 0.7129 - accuracy: 0.7210 - val_loss: 0.8492 - val_accuracy: 0.6667\n",
            "Epoch 43/100\n",
            "419/419 [==============================] - 6s 15ms/step - loss: 0.7021 - accuracy: 0.7174 - val_loss: 0.9563 - val_accuracy: 0.6237\n",
            "Epoch 44/100\n",
            "419/419 [==============================] - 6s 15ms/step - loss: 0.6819 - accuracy: 0.7455 - val_loss: 0.8831 - val_accuracy: 0.6398\n",
            "Epoch 45/100\n",
            "419/419 [==============================] - 6s 15ms/step - loss: 0.6548 - accuracy: 0.7515 - val_loss: 0.7653 - val_accuracy: 0.6989\n",
            "Epoch 46/100\n",
            "419/419 [==============================] - 6s 15ms/step - loss: 0.6583 - accuracy: 0.7533 - val_loss: 0.8521 - val_accuracy: 0.6828\n",
            "Epoch 47/100\n",
            "419/419 [==============================] - 6s 15ms/step - loss: 0.6294 - accuracy: 0.7599 - val_loss: 0.7260 - val_accuracy: 0.6989\n",
            "Epoch 48/100\n",
            "419/419 [==============================] - 6s 15ms/step - loss: 0.6049 - accuracy: 0.7861 - val_loss: 0.7403 - val_accuracy: 0.6882\n",
            "Epoch 49/100\n",
            "419/419 [==============================] - 6s 15ms/step - loss: 0.5959 - accuracy: 0.7760 - val_loss: 0.7178 - val_accuracy: 0.7204\n",
            "Epoch 50/100\n",
            "419/419 [==============================] - 6s 15ms/step - loss: 0.5750 - accuracy: 0.7796 - val_loss: 0.6760 - val_accuracy: 0.7204\n",
            "Epoch 51/100\n",
            "419/419 [==============================] - 6s 15ms/step - loss: 0.5733 - accuracy: 0.7849 - val_loss: 0.6801 - val_accuracy: 0.7151\n",
            "Epoch 52/100\n",
            "419/419 [==============================] - 6s 15ms/step - loss: 0.5362 - accuracy: 0.8011 - val_loss: 0.7286 - val_accuracy: 0.7097\n",
            "Epoch 53/100\n",
            "419/419 [==============================] - 6s 15ms/step - loss: 0.5500 - accuracy: 0.7999 - val_loss: 0.6676 - val_accuracy: 0.7634\n",
            "Epoch 54/100\n",
            "419/419 [==============================] - 6s 15ms/step - loss: 0.5096 - accuracy: 0.8106 - val_loss: 0.6738 - val_accuracy: 0.7419\n",
            "Epoch 55/100\n",
            "419/419 [==============================] - 6s 15ms/step - loss: 0.4978 - accuracy: 0.8238 - val_loss: 0.5878 - val_accuracy: 0.7581\n",
            "Epoch 56/100\n",
            "419/419 [==============================] - 6s 15ms/step - loss: 0.4794 - accuracy: 0.8303 - val_loss: 0.6263 - val_accuracy: 0.7581\n",
            "Epoch 57/100\n",
            "419/419 [==============================] - 6s 15ms/step - loss: 0.4726 - accuracy: 0.8375 - val_loss: 0.6342 - val_accuracy: 0.7473\n",
            "Epoch 58/100\n",
            "419/419 [==============================] - 6s 15ms/step - loss: 0.4670 - accuracy: 0.8292 - val_loss: 0.6185 - val_accuracy: 0.7634\n",
            "Epoch 59/100\n",
            "419/419 [==============================] - 6s 15ms/step - loss: 0.4540 - accuracy: 0.8501 - val_loss: 0.6004 - val_accuracy: 0.7849\n",
            "Epoch 60/100\n",
            "419/419 [==============================] - 6s 15ms/step - loss: 0.4529 - accuracy: 0.8441 - val_loss: 0.5834 - val_accuracy: 0.7634\n",
            "Epoch 61/100\n",
            "419/419 [==============================] - 6s 15ms/step - loss: 0.4218 - accuracy: 0.8513 - val_loss: 0.5703 - val_accuracy: 0.7903\n",
            "Epoch 62/100\n",
            "419/419 [==============================] - 6s 15ms/step - loss: 0.4167 - accuracy: 0.8554 - val_loss: 0.7777 - val_accuracy: 0.7043\n",
            "Epoch 63/100\n",
            "419/419 [==============================] - 6s 15ms/step - loss: 0.4328 - accuracy: 0.8483 - val_loss: 0.6205 - val_accuracy: 0.7634\n",
            "Epoch 64/100\n",
            "419/419 [==============================] - 6s 15ms/step - loss: 0.3946 - accuracy: 0.8632 - val_loss: 0.5478 - val_accuracy: 0.7849\n",
            "Epoch 65/100\n",
            "419/419 [==============================] - 6s 15ms/step - loss: 0.3921 - accuracy: 0.8614 - val_loss: 0.5878 - val_accuracy: 0.7742\n",
            "Epoch 66/100\n",
            "419/419 [==============================] - 6s 15ms/step - loss: 0.3596 - accuracy: 0.8787 - val_loss: 0.4893 - val_accuracy: 0.8280\n",
            "Epoch 67/100\n",
            "419/419 [==============================] - 6s 15ms/step - loss: 0.4095 - accuracy: 0.8536 - val_loss: 0.6108 - val_accuracy: 0.7366\n",
            "Epoch 68/100\n",
            "419/419 [==============================] - 6s 15ms/step - loss: 0.3649 - accuracy: 0.8769 - val_loss: 0.5882 - val_accuracy: 0.7796\n",
            "Epoch 69/100\n",
            "419/419 [==============================] - 6s 15ms/step - loss: 0.3636 - accuracy: 0.8692 - val_loss: 0.4983 - val_accuracy: 0.7957\n",
            "Epoch 70/100\n",
            "419/419 [==============================] - 6s 15ms/step - loss: 0.3266 - accuracy: 0.8907 - val_loss: 0.5362 - val_accuracy: 0.7849\n",
            "Epoch 71/100\n",
            "419/419 [==============================] - 6s 15ms/step - loss: 0.3389 - accuracy: 0.8817 - val_loss: 0.5199 - val_accuracy: 0.8011\n",
            "Epoch 72/100\n",
            "419/419 [==============================] - 6s 15ms/step - loss: 0.3431 - accuracy: 0.8865 - val_loss: 0.5638 - val_accuracy: 0.8011\n",
            "Epoch 73/100\n",
            "419/419 [==============================] - 6s 15ms/step - loss: 0.3232 - accuracy: 0.8925 - val_loss: 0.4537 - val_accuracy: 0.8226\n",
            "Epoch 74/100\n",
            "419/419 [==============================] - 6s 15ms/step - loss: 0.3085 - accuracy: 0.8961 - val_loss: 0.4833 - val_accuracy: 0.8118\n",
            "Epoch 75/100\n",
            "419/419 [==============================] - 6s 15ms/step - loss: 0.3141 - accuracy: 0.8859 - val_loss: 0.4598 - val_accuracy: 0.8172\n",
            "Epoch 76/100\n",
            "419/419 [==============================] - 6s 15ms/step - loss: 0.2704 - accuracy: 0.9104 - val_loss: 0.4878 - val_accuracy: 0.8172\n",
            "Epoch 77/100\n",
            "419/419 [==============================] - 6s 15ms/step - loss: 0.2847 - accuracy: 0.9062 - val_loss: 0.6243 - val_accuracy: 0.7796\n",
            "Epoch 78/100\n",
            "419/419 [==============================] - 6s 15ms/step - loss: 0.3060 - accuracy: 0.9002 - val_loss: 0.5376 - val_accuracy: 0.8011\n",
            "Epoch 79/100\n",
            "419/419 [==============================] - 6s 15ms/step - loss: 0.2908 - accuracy: 0.8943 - val_loss: 0.4986 - val_accuracy: 0.7957\n",
            "Epoch 80/100\n",
            "419/419 [==============================] - 6s 15ms/step - loss: 0.2732 - accuracy: 0.9044 - val_loss: 0.5097 - val_accuracy: 0.8172\n",
            "Epoch 81/100\n",
            "419/419 [==============================] - 6s 15ms/step - loss: 0.2575 - accuracy: 0.9086 - val_loss: 0.5470 - val_accuracy: 0.8065\n",
            "Epoch 82/100\n",
            "419/419 [==============================] - 7s 16ms/step - loss: 0.2775 - accuracy: 0.8996 - val_loss: 0.5260 - val_accuracy: 0.8065\n",
            "Epoch 83/100\n",
            "419/419 [==============================] - 6s 15ms/step - loss: 0.2570 - accuracy: 0.9134 - val_loss: 0.5676 - val_accuracy: 0.7742\n",
            "Epoch 84/100\n",
            "419/419 [==============================] - 6s 15ms/step - loss: 0.2577 - accuracy: 0.9074 - val_loss: 0.4370 - val_accuracy: 0.8333\n",
            "Epoch 85/100\n",
            "419/419 [==============================] - 6s 15ms/step - loss: 0.2693 - accuracy: 0.8984 - val_loss: 0.4458 - val_accuracy: 0.8333\n",
            "Epoch 86/100\n",
            "419/419 [==============================] - 6s 15ms/step - loss: 0.2408 - accuracy: 0.9134 - val_loss: 0.5004 - val_accuracy: 0.8065\n",
            "Epoch 87/100\n",
            "419/419 [==============================] - 6s 15ms/step - loss: 0.2371 - accuracy: 0.9116 - val_loss: 0.4217 - val_accuracy: 0.8602\n",
            "Epoch 88/100\n",
            "419/419 [==============================] - 6s 15ms/step - loss: 0.2445 - accuracy: 0.9176 - val_loss: 0.5013 - val_accuracy: 0.8118\n",
            "Epoch 89/100\n",
            "419/419 [==============================] - 6s 15ms/step - loss: 0.2447 - accuracy: 0.9176 - val_loss: 0.3903 - val_accuracy: 0.8763\n",
            "Epoch 90/100\n",
            "419/419 [==============================] - 6s 15ms/step - loss: 0.2121 - accuracy: 0.9277 - val_loss: 0.5560 - val_accuracy: 0.8118\n",
            "Epoch 91/100\n",
            "419/419 [==============================] - 6s 15ms/step - loss: 0.2363 - accuracy: 0.9170 - val_loss: 0.4227 - val_accuracy: 0.8441\n",
            "Epoch 92/100\n",
            "419/419 [==============================] - 6s 15ms/step - loss: 0.2404 - accuracy: 0.9122 - val_loss: 0.4863 - val_accuracy: 0.8065\n",
            "Epoch 93/100\n",
            "419/419 [==============================] - 6s 15ms/step - loss: 0.2333 - accuracy: 0.9223 - val_loss: 0.5322 - val_accuracy: 0.7796\n",
            "Epoch 94/100\n",
            "419/419 [==============================] - 6s 15ms/step - loss: 0.2178 - accuracy: 0.9265 - val_loss: 0.3295 - val_accuracy: 0.8871\n",
            "Epoch 95/100\n",
            "419/419 [==============================] - 6s 15ms/step - loss: 0.2519 - accuracy: 0.9092 - val_loss: 0.4761 - val_accuracy: 0.8280\n",
            "Epoch 96/100\n",
            "419/419 [==============================] - 6s 15ms/step - loss: 0.1964 - accuracy: 0.9343 - val_loss: 0.5014 - val_accuracy: 0.8172\n",
            "Epoch 97/100\n",
            "419/419 [==============================] - 6s 15ms/step - loss: 0.1957 - accuracy: 0.9313 - val_loss: 0.3292 - val_accuracy: 0.8925\n",
            "Epoch 98/100\n",
            "419/419 [==============================] - 6s 15ms/step - loss: 0.1843 - accuracy: 0.9367 - val_loss: 0.3770 - val_accuracy: 0.8602\n",
            "Epoch 99/100\n",
            "419/419 [==============================] - 6s 15ms/step - loss: 0.2072 - accuracy: 0.9265 - val_loss: 0.5516 - val_accuracy: 0.8065\n",
            "Epoch 100/100\n",
            "419/419 [==============================] - 6s 15ms/step - loss: 0.2148 - accuracy: 0.9307 - val_loss: 0.5395 - val_accuracy: 0.7957\n"
          ]
        }
      ]
    },
    {
      "cell_type": "code",
      "source": [
        "# Evaluate the trained model.\n",
        "model_evaluation_history = LRCN_model.evaluate(features_test, labels_test)"
      ],
      "metadata": {
        "colab": {
          "base_uri": "https://localhost:8080/"
        },
        "id": "MSwdYqJLiATB",
        "outputId": "3efaf798-585f-4e76-e0db-5ad6d27014d2"
      },
      "execution_count": 14,
      "outputs": [
        {
          "output_type": "stream",
          "name": "stdout",
          "text": [
            "7/7 [==============================] - 0s 29ms/step - loss: 0.6073 - accuracy: 0.7923\n"
          ]
        }
      ]
    },
    {
      "cell_type": "code",
      "source": [
        "# Get the loss and accuracy from model_evaluation_history.\n",
        "model_evaluation_loss, model_evaluation_accuracy = model_evaluation_history\n",
        "\n",
        "# Define the string date format.\n",
        "# Get the current Date and Time in a DateTime Object.\n",
        "# Convert the DateTime object to string according to the style mentioned in date_time_format string.\n",
        "date_time_format = '%Y_%m_%d__%H_%M_%S'\n",
        "current_date_time_dt = dt.datetime.now()\n",
        "current_date_time_string = dt.datetime.strftime(current_date_time_dt, date_time_format)\n",
        "    \n",
        "# Define a useful name for our model to make it easy for us while navigating through multiple saved models.\n",
        "model_file_name = f'LRCN_model___Date_Time_{current_date_time_string}___Loss_{model_evaluation_loss}___Accuracy_{model_evaluation_accuracy}.h5'\n",
        "\n",
        "# Save the Model.\n",
        "LRCN_model.save(model_file_name)"
      ],
      "metadata": {
        "id": "D3J57fVJRCEa"
      },
      "execution_count": null,
      "outputs": []
    },
    {
      "cell_type": "code",
      "source": [
        "def plot_metric(model_training_history, metric_name_1, metric_name_2, plot_name):\n",
        "    '''\n",
        "    This function will plot the metrics passed to it in a graph.\n",
        "    Args:\n",
        "        model_training_history: A history object containing a record of training and validation \n",
        "                                loss values and metrics values at successive epochs\n",
        "        metric_name_1:          The name of the first metric that needs to be plotted in the graph.\n",
        "        metric_name_2:          The name of the second metric that needs to be plotted in the graph.\n",
        "        plot_name:              The title of the graph.\n",
        "    '''\n",
        "    \n",
        "    # Get metric values using metric names as identifiers.\n",
        "    metric_value_1 = model_training_history.history[metric_name_1]\n",
        "    metric_value_2 = model_training_history.history[metric_name_2]\n",
        "    \n",
        "    # Construct a range object which will be used as x-axis (horizontal plane) of the graph.\n",
        "    epochs = range(len(metric_value_1))\n",
        "\n",
        "    # Plot the Graph.\n",
        "    plt.plot(epochs, metric_value_1, 'blue', label = metric_name_1)\n",
        "    plt.plot(epochs, metric_value_2, 'red', label = metric_name_2)\n",
        "\n",
        "    # Add title to the plot.\n",
        "    plt.title(str(plot_name))\n",
        "\n",
        "    # Add legend to the plot.\n",
        "    plt.legend()"
      ],
      "metadata": {
        "id": "sXhBv91xRFgU"
      },
      "execution_count": 15,
      "outputs": []
    },
    {
      "cell_type": "code",
      "source": [
        "# Visualize the training and validation loss metrices.\n",
        "plot_metric(LRCN_model_training_history, 'loss', 'val_loss', 'Total Loss vs Total Validation Loss')"
      ],
      "metadata": {
        "colab": {
          "base_uri": "https://localhost:8080/",
          "height": 281
        },
        "id": "cKhf3si1RJUW",
        "outputId": "06a991ed-f31b-4fea-a18e-131bd1c4097c"
      },
      "execution_count": 16,
      "outputs": [
        {
          "output_type": "display_data",
          "data": {
            "text/plain": [
              "<Figure size 432x288 with 1 Axes>"
            ],
            "image/png": "[encoded data removed]"
          },
          "metadata": {
            "needs_background": "light"
          }
        }
      ]
    },
    {
      "cell_type": "code",
      "source": [
        "# Visualize the training and validation accuracy metrices.\n",
        "plot_metric(LRCN_model_training_history, 'accuracy', 'val_accuracy', 'Total Accuracy vs Total Validation Accuracy')"
      ],
      "metadata": {
        "colab": {
          "base_uri": "https://localhost:8080/",
          "height": 281
        },
        "id": "5JB37wh3RLWX",
        "outputId": "db61c79c-a277-4a99-c8b2-1871cb5426c9"
      },
      "execution_count": 17,
      "outputs": [
        {
          "output_type": "display_data",
          "data": {
            "text/plain": [
              "<Figure size 432x288 with 1 Axes>"
            ],
            "image/png": "[encoded data removed]"
          },
          "metadata": {
            "needs_background": "light"
          }
        }
      ]
    },
    {
      "cell_type": "code",
      "source": [
        "predictions =  LRCN_model.predict(features_test)\n",
        "predictions\n"
      ],
      "metadata": {
        "colab": {
          "base_uri": "https://localhost:8080/"
        },
        "id": "yM7edJgyRf-P",
        "outputId": "a3cf6686-c5b6-4c1b-b488-29860f7a4ca0"
      },
      "execution_count": 18,
      "outputs": [
        {
          "output_type": "execute_result",
          "data": {
            "text/plain": [
              "array([[5.9596854e-01, 1.5395024e-01, 5.6718010e-04, 2.3314899e-01,\n",
              "        1.1215485e-02, 5.1494795e-03],\n",
              "       [1.5828096e-03, 2.3471380e-03, 2.5254645e-04, 8.9655769e-01,\n",
              "        1.4333954e-02, 8.4925950e-02],\n",
              "       [5.6760485e-04, 1.2417451e-02, 9.8349172e-01, 1.8309174e-03,\n",
              "        2.5143765e-04, 1.4407716e-03],\n",
              "       ...,\n",
              "       [9.4506133e-04, 4.3579537e-04, 3.0542992e-04, 5.8847112e-03,\n",
              "        4.3849102e-03, 9.8804408e-01],\n",
              "       [5.6730397e-04, 3.1096244e-04, 7.4658712e-04, 1.0057717e-01,\n",
              "        1.5968598e-01, 7.3811197e-01],\n",
              "       [2.4919312e-03, 9.8846018e-01, 1.3441832e-03, 6.2666503e-03,\n",
              "        5.1587989e-04, 9.2114188e-04]], dtype=float32)"
            ]
          },
          "metadata": {},
          "execution_count": 18
        }
      ]
    },
    {
      "cell_type": "code",
      "source": [
        "preds=predictions.argmax(axis=1)\n",
        "preds"
      ],
      "metadata": {
        "colab": {
          "base_uri": "https://localhost:8080/"
        },
        "id": "DNHaLfq2RjeT",
        "outputId": "c136dbc1-4a1c-4830-f476-b912f3688adf"
      },
      "execution_count": 19,
      "outputs": [
        {
          "output_type": "execute_result",
          "data": {
            "text/plain": [
              "array([0, 3, 2, 5, 5, 2, 5, 1, 5, 0, 3, 1, 4, 0, 4, 5, 5, 1, 2, 1, 5, 2,\n",
              "       0, 2, 2, 5, 3, 5, 5, 5, 5, 4, 5, 0, 2, 2, 5, 1, 5, 5, 2, 2, 1, 5,\n",
              "       2, 1, 5, 0, 3, 5, 5, 2, 1, 3, 3, 0, 0, 0, 2, 5, 4, 5, 5, 0, 0, 3,\n",
              "       1, 0, 5, 2, 1, 2, 5, 3, 5, 4, 0, 3, 5, 5, 3, 3, 5, 0, 0, 1, 2, 3,\n",
              "       3, 5, 5, 1, 0, 1, 5, 5, 1, 2, 5, 3, 0, 3, 3, 5, 5, 5, 2, 1, 5, 1,\n",
              "       5, 2, 0, 0, 4, 0, 3, 1, 1, 1, 1, 5, 1, 5, 1, 2, 0, 2, 5, 1, 2, 0,\n",
              "       1, 5, 1, 0, 5, 0, 1, 1, 2, 1, 2, 5, 0, 2, 3, 0, 0, 3, 2, 3, 5, 3,\n",
              "       1, 2, 1, 3, 0, 0, 1, 3, 3, 1, 5, 0, 0, 0, 5, 4, 5, 3, 1, 5, 3, 1,\n",
              "       5, 0, 5, 5, 4, 0, 0, 5, 1, 3, 1, 3, 3, 4, 1, 5, 1, 0, 5, 2, 3, 1,\n",
              "       5, 5, 3, 2, 5, 2, 5, 5, 1])"
            ]
          },
          "metadata": {},
          "execution_count": 19
        }
      ]
    },
    {
      "cell_type": "code",
      "source": [
        "new_preds = preds.astype(int).flatten()\n",
        "new_preds"
      ],
      "metadata": {
        "colab": {
          "base_uri": "https://localhost:8080/"
        },
        "id": "0W618McKRl02",
        "outputId": "f732766c-e5f2-420c-8866-239efbdb5704"
      },
      "execution_count": 20,
      "outputs": [
        {
          "output_type": "execute_result",
          "data": {
            "text/plain": [
              "array([0, 3, 2, 5, 5, 2, 5, 1, 5, 0, 3, 1, 4, 0, 4, 5, 5, 1, 2, 1, 5, 2,\n",
              "       0, 2, 2, 5, 3, 5, 5, 5, 5, 4, 5, 0, 2, 2, 5, 1, 5, 5, 2, 2, 1, 5,\n",
              "       2, 1, 5, 0, 3, 5, 5, 2, 1, 3, 3, 0, 0, 0, 2, 5, 4, 5, 5, 0, 0, 3,\n",
              "       1, 0, 5, 2, 1, 2, 5, 3, 5, 4, 0, 3, 5, 5, 3, 3, 5, 0, 0, 1, 2, 3,\n",
              "       3, 5, 5, 1, 0, 1, 5, 5, 1, 2, 5, 3, 0, 3, 3, 5, 5, 5, 2, 1, 5, 1,\n",
              "       5, 2, 0, 0, 4, 0, 3, 1, 1, 1, 1, 5, 1, 5, 1, 2, 0, 2, 5, 1, 2, 0,\n",
              "       1, 5, 1, 0, 5, 0, 1, 1, 2, 1, 2, 5, 0, 2, 3, 0, 0, 3, 2, 3, 5, 3,\n",
              "       1, 2, 1, 3, 0, 0, 1, 3, 3, 1, 5, 0, 0, 0, 5, 4, 5, 3, 1, 5, 3, 1,\n",
              "       5, 0, 5, 5, 4, 0, 0, 5, 1, 3, 1, 3, 3, 4, 1, 5, 1, 0, 5, 2, 3, 1,\n",
              "       5, 5, 3, 2, 5, 2, 5, 5, 1])"
            ]
          },
          "metadata": {},
          "execution_count": 20
        }
      ]
    },
    {
      "cell_type": "code",
      "source": [
        "\n",
        "from sklearn.metrics import classification_report, confusion_matrix,accuracy_score\n",
        "import seaborn as sn\n",
        "import pandas as pd\n",
        "import numpy as np\n",
        "new_labels=np.argmax(labels_test, axis=1)\n",
        "print(classification_report(new_labels,new_preds))\n",
        "\n",
        "acc = float(accuracy_score(new_labels,new_preds))*100\n",
        "print(\"----accuracy score %s ----\" % acc)\n",
        "\n",
        "cm = confusion_matrix(new_labels,new_preds)\n",
        "#df_cm = pd.DataFrame(cm)\n",
        "class_names = ['neutral','calm', 'happy','sad','angry', 'fearful' ]\n",
        "df_cm = pd.DataFrame(cm, index=class_names, columns=class_names,)\n",
        "sn.heatmap(df_cm, annot=True, fmt='')\n",
        "plt.show()\n"
      ],
      "metadata": {
        "colab": {
          "base_uri": "https://localhost:8080/",
          "height": 508
        },
        "id": "cTET95L8RoVW",
        "outputId": "8a344455-4008-4468-eb9d-2d85ce2dea81"
      },
      "execution_count": 21,
      "outputs": [
        {
          "output_type": "stream",
          "name": "stdout",
          "text": [
            "              precision    recall  f1-score   support\n",
            "\n",
            "           0       0.75      1.00      0.86        27\n",
            "           1       0.93      0.84      0.88        44\n",
            "           2       0.93      0.93      0.93        30\n",
            "           3       0.87      0.79      0.83        34\n",
            "           4       1.00      0.26      0.42        34\n",
            "           5       0.59      0.95      0.73        38\n",
            "\n",
            "    accuracy                           0.79       207\n",
            "   macro avg       0.84      0.80      0.77       207\n",
            "weighted avg       0.85      0.79      0.77       207\n",
            "\n",
            "----accuracy score 79.22705314009661 ----\n"
          ]
        },
        {
          "output_type": "display_data",
          "data": {
            "text/plain": [
              "<Figure size 432x288 with 2 Axes>"
            ],
            "image/png": "[encoded data removed]"
          },
          "metadata": {
            "needs_background": "light"
          }
        }
      ]
    },
    {
      "cell_type": "code",
      "source": [
        ""
      ],
      "metadata": {
        "id": "c3nbyK6BfnDR"
      },
      "execution_count": null,
      "outputs": []
    }
  ]
}