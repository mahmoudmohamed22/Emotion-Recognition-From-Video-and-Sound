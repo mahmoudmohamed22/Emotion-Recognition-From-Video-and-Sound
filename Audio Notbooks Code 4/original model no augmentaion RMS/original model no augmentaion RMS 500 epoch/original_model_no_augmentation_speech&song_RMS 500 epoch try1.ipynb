{
  "nbformat": 4,
  "nbformat_minor": 0,
  "metadata": {
    "colab": {
      "name": "original model no augmentation speech&song RMS.ipynb",
      "provenance": [],
      "collapsed_sections": []
    },
    "kernelspec": {
      "name": "python3",
      "display_name": "Python 3"
    },
    "language_info": {
      "name": "python"
    },
    "accelerator": "GPU"
  },
  "cells": [
    {
      "cell_type": "code",
      "execution_count": 1,
      "metadata": {
        "colab": {
          "base_uri": "https://localhost:8080/"
        },
        "id": "9SRCO-a_AlH5",
        "outputId": "7a47c551-4728-45d0-8436-7f79ac1c25f7"
      },
      "outputs": [
        {
          "output_type": "stream",
          "name": "stdout",
          "text": [
            "Drive already mounted at /content/drive; to attempt to forcibly remount, call drive.mount(\"/content/drive\", force_remount=True).\n"
          ]
        }
      ],
      "source": [
        "from google.colab import drive\n",
        "drive.mount('/content/drive')"
      ]
    },
    {
      "cell_type": "code",
      "source": [
        "!pip install librosa"
      ],
      "metadata": {
        "colab": {
          "base_uri": "https://localhost:8080/"
        },
        "id": "oi8pWV3yBVjO",
        "outputId": "1967e16c-0823-4ec4-a049-5facc502132f"
      },
      "execution_count": 2,
      "outputs": [
        {
          "output_type": "stream",
          "name": "stdout",
          "text": [
            "Looking in indexes: https://pypi.org/simple, https://us-python.pkg.dev/colab-wheels/public/simple/\n",
            "Requirement already satisfied: librosa in /usr/local/lib/python3.7/dist-packages (0.8.1)\n",
            "Requirement already satisfied: joblib>=0.14 in /usr/local/lib/python3.7/dist-packages (from librosa) (1.1.0)\n",
            "Requirement already satisfied: scikit-learn!=0.19.0,>=0.14.0 in /usr/local/lib/python3.7/dist-packages (from librosa) (1.0.2)\n",
            "Requirement already satisfied: packaging>=20.0 in /usr/local/lib/python3.7/dist-packages (from librosa) (21.3)\n",
            "Requirement already satisfied: decorator>=3.0.0 in /usr/local/lib/python3.7/dist-packages (from librosa) (4.4.2)\n",
            "Requirement already satisfied: numpy>=1.15.0 in /usr/local/lib/python3.7/dist-packages (from librosa) (1.21.6)\n",
            "Requirement already satisfied: numba>=0.43.0 in /usr/local/lib/python3.7/dist-packages (from librosa) (0.51.2)\n",
            "Requirement already satisfied: resampy>=0.2.2 in /usr/local/lib/python3.7/dist-packages (from librosa) (0.2.2)\n",
            "Requirement already satisfied: scipy>=1.0.0 in /usr/local/lib/python3.7/dist-packages (from librosa) (1.4.1)\n",
            "Requirement already satisfied: soundfile>=0.10.2 in /usr/local/lib/python3.7/dist-packages (from librosa) (0.10.3.post1)\n",
            "Requirement already satisfied: audioread>=2.0.0 in /usr/local/lib/python3.7/dist-packages (from librosa) (2.1.9)\n",
            "Requirement already satisfied: pooch>=1.0 in /usr/local/lib/python3.7/dist-packages (from librosa) (1.6.0)\n",
            "Requirement already satisfied: setuptools in /usr/local/lib/python3.7/dist-packages (from numba>=0.43.0->librosa) (57.4.0)\n",
            "Requirement already satisfied: llvmlite<0.35,>=0.34.0.dev0 in /usr/local/lib/python3.7/dist-packages (from numba>=0.43.0->librosa) (0.34.0)\n",
            "Requirement already satisfied: pyparsing!=3.0.5,>=2.0.2 in /usr/local/lib/python3.7/dist-packages (from packaging>=20.0->librosa) (3.0.9)\n",
            "Requirement already satisfied: requests>=2.19.0 in /usr/local/lib/python3.7/dist-packages (from pooch>=1.0->librosa) (2.23.0)\n",
            "Requirement already satisfied: appdirs>=1.3.0 in /usr/local/lib/python3.7/dist-packages (from pooch>=1.0->librosa) (1.4.4)\n",
            "Requirement already satisfied: certifi>=2017.4.17 in /usr/local/lib/python3.7/dist-packages (from requests>=2.19.0->pooch>=1.0->librosa) (2022.5.18.1)\n",
            "Requirement already satisfied: idna<3,>=2.5 in /usr/local/lib/python3.7/dist-packages (from requests>=2.19.0->pooch>=1.0->librosa) (2.10)\n",
            "Requirement already satisfied: chardet<4,>=3.0.2 in /usr/local/lib/python3.7/dist-packages (from requests>=2.19.0->pooch>=1.0->librosa) (3.0.4)\n",
            "Requirement already satisfied: urllib3!=1.25.0,!=1.25.1,<1.26,>=1.21.1 in /usr/local/lib/python3.7/dist-packages (from requests>=2.19.0->pooch>=1.0->librosa) (1.24.3)\n",
            "Requirement already satisfied: six>=1.3 in /usr/local/lib/python3.7/dist-packages (from resampy>=0.2.2->librosa) (1.15.0)\n",
            "Requirement already satisfied: threadpoolctl>=2.0.0 in /usr/local/lib/python3.7/dist-packages (from scikit-learn!=0.19.0,>=0.14.0->librosa) (3.1.0)\n",
            "Requirement already satisfied: cffi>=1.0 in /usr/local/lib/python3.7/dist-packages (from soundfile>=0.10.2->librosa) (1.15.0)\n",
            "Requirement already satisfied: pycparser in /usr/local/lib/python3.7/dist-packages (from cffi>=1.0->soundfile>=0.10.2->librosa) (2.21)\n"
          ]
        }
      ]
    },
    {
      "cell_type": "code",
      "metadata": {
        "id": "HJjcbxwy46bG",
        "colab": {
          "base_uri": "https://localhost:8080/",
          "height": 17
        },
        "outputId": "3bc2ac4d-c5d0-4427-a498-188d8799f088"
      },
      "source": [
        "# Orignial Notebook: https://github.com/MITESHPUTHRANNEU/Speech-Emotion-Analyzer/blob/master/final_results_gender_test.ipynb\n",
        "# This notebook author: Reza Chu\n",
        "# Last Editing Date: 31st May 2019\n",
        "\n",
        "## Python\n",
        "import os\n",
        "import random\n",
        "import sys\n",
        "\n",
        "import IPython\n",
        "from IPython.display import Audio\n",
        "from IPython.display import Image\n",
        "import matplotlib.pyplot as plt\n",
        "\n",
        "## Package\n",
        "import glob \n",
        "import keras\n",
        "import IPython.display as ipd\n",
        "import librosa\n",
        "import librosa.display\n",
        "import matplotlib.pyplot as plt\n",
        "import numpy as np\n",
        "import pandas as pd\n",
        "import plotly.graph_objs as go\n",
        "import plotly.offline as py\n",
        "import plotly.tools as tls\n",
        "import seaborn as sns\n",
        "import scipy.io.wavfile\n",
        "import tensorflow as tf\n",
        "py.init_notebook_mode(connected=True)\n",
        "\n",
        "## Keras\n",
        "from keras import regularizers\n",
        "from keras.callbacks import ModelCheckpoint, LearningRateScheduler, EarlyStopping\n",
        "from keras.callbacks import  History, ReduceLROnPlateau, CSVLogger\n",
        "from keras.models import Model, Sequential\n",
        "from keras.layers import Dense, Embedding, LSTM\n",
        "from keras.layers import Input, Flatten, Dropout, Activation, BatchNormalization\n",
        "from keras.layers import Conv1D, MaxPooling1D, AveragePooling1D\n",
        "from keras.preprocessing import sequence\n",
        "from keras.preprocessing.sequence import pad_sequences\n",
        "from keras.preprocessing.text import Tokenizer\n",
        "from keras.utils import np_utils\n",
        "from tensorflow.keras.utils import to_categorical\n",
        "\n",
        "## Sklearn\n",
        "from sklearn.metrics import confusion_matrix\n",
        "from sklearn.preprocessing import LabelEncoder\n",
        "\n",
        "## Rest\n",
        "from scipy.fftpack import fft\n",
        "from scipy import signal\n",
        "from scipy.io import wavfile\n",
        "from tqdm import tqdm\n",
        "\n",
        "input_duration=3\n",
        "# % pylab inline"
      ],
      "execution_count": 3,
      "outputs": [
        {
          "output_type": "display_data",
          "data": {
            "text/html": [
              "        <script type=\"text/javascript\">\n",
              "        window.PlotlyConfig = {MathJaxConfig: 'local'};\n",
              "        if (window.MathJax) {MathJax.Hub.Config({SVG: {font: \"STIX-Web\"}});}\n",
              "        if (typeof require !== 'undefined') {\n",
              "        require.undef(\"plotly\");\n",
              "        requirejs.config({\n",
              "            paths: {\n",
              "                'plotly': ['https://cdn.plot.ly/plotly-2.8.3.min']\n",
              "            }\n",
              "        });\n",
              "        require(['plotly'], function(Plotly) {\n",
              "            window._Plotly = Plotly;\n",
              "        });\n",
              "        }\n",
              "        </script>\n",
              "        "
            ]
          },
          "metadata": {}
        }
      ]
    },
    {
      "cell_type": "code",
      "source": [
        "#radvass speech and song\n",
        "import time\n",
        "import os\n",
        "import librosa\n",
        "from librosa import display\n",
        "import matplotlib.pyplot as plt\n",
        "\n",
        "count=0\n",
        "path1 = '/content/drive/MyDrive/RAVDESS_speech'\n",
        "path2 = '/content/drive/MyDrive/RAVDESS_song'\n",
        "\n",
        "lst = []\n",
        "\n",
        "start_time = time.time()\n",
        "\n",
        "for subdir, dirs, files in os.walk(path2):\n",
        "  #print(dirs)\n",
        "  #print(subdir)\n",
        "  #print(files)\n",
        "  for file in files:\n",
        "      try:\n",
        "        count +=1\n",
        "        #Load librosa array, obtain mfcss, store the file and the mcss information in a new array\n",
        "        X, sample_rate = librosa.load(os.path.join(subdir,file), res_type='kaiser_fast')\n",
        "        mfccs = np.mean(librosa.feature.mfcc(y=X, sr=sample_rate, n_mfcc=40).T,axis=0) \n",
        "        # The instruction below converts the labels (from 1 to 8) to a series from 0 to 7\n",
        "        # This is because our predictor needs to start from 0 otherwise it will try to predict also 0.\n",
        "        file = int(file[7:8]) - 1 \n",
        "        arr = mfccs, file\n",
        "        lst.append(arr)\n",
        "      # If the file is not valid, skip it\n",
        "      except ValueError:\n",
        "        continue\n",
        "\n",
        "for subdir, dirs, files in os.walk(path1):\n",
        "  #print(dirs)\n",
        "  #print(subdir)\n",
        " # print(files)\n",
        "  for file in files:\n",
        "      try:\n",
        "        #Load librosa array, obtain mfcss, store the file and the mcss information in a new array\n",
        "        X, sample_rate = librosa.load(os.path.join(subdir,file), res_type='kaiser_fast')\n",
        "        mfccs = np.mean(librosa.feature.mfcc(y=X, sr=sample_rate, n_mfcc=40).T,axis=0) \n",
        "        # The instruction below converts the labels (from 1 to 8) to a series from 0 to 7\n",
        "        # This is because our predictor needs to start from 0 otherwise it will try to predict also 0.\n",
        "        file = int(file[7:8]) - 1 \n",
        "        if(file ==6 or file==7):\n",
        "          continue\n",
        "        count +=1\n",
        "        arr = mfccs, file\n",
        "        lst.append(arr)\n",
        "      # If the file is not valid, skip it\n",
        "      except ValueError:\n",
        "        continue\n",
        "\n",
        "\n",
        "\n",
        "print(\"--- Data loaded. Loading time: %s seconds ---\" % (time.time() - start_time))"
      ],
      "metadata": {
        "colab": {
          "base_uri": "https://localhost:8080/"
        },
        "id": "IfuyRZl42ccZ",
        "outputId": "7a1aad67-156f-42e2-c01d-8905d55fe61b"
      },
      "execution_count": 4,
      "outputs": [
        {
          "output_type": "stream",
          "name": "stdout",
          "text": [
            "--- Data loaded. Loading time: 388.71568989753723 seconds ---\n"
          ]
        }
      ]
    },
    {
      "cell_type": "code",
      "source": [
        "count"
      ],
      "metadata": {
        "id": "Ltlhi25L2AI5",
        "colab": {
          "base_uri": "https://localhost:8080/"
        },
        "outputId": "f5c32fd4-1b17-4fad-edd8-d57fbfc0d516"
      },
      "execution_count": 5,
      "outputs": [
        {
          "output_type": "execute_result",
          "data": {
            "text/plain": [
              "2068"
            ]
          },
          "metadata": {},
          "execution_count": 5
        }
      ]
    },
    {
      "cell_type": "code",
      "source": [
        "from numpy.core.fromnumeric import size\n",
        "size(lst)"
      ],
      "metadata": {
        "id": "HMOH7d7mzHB7",
        "colab": {
          "base_uri": "https://localhost:8080/"
        },
        "outputId": "7921778d-7e9a-4f25-f2e5-09caa41ef9e6"
      },
      "execution_count": 6,
      "outputs": [
        {
          "output_type": "stream",
          "name": "stderr",
          "text": [
            "/usr/local/lib/python3.7/dist-packages/numpy/core/fromnumeric.py:3208: VisibleDeprecationWarning:\n",
            "\n",
            "Creating an ndarray from ragged nested sequences (which is a list-or-tuple of lists-or-tuples-or ndarrays with different lengths or shapes) is deprecated. If you meant to do this, you must specify 'dtype=object' when creating the ndarray.\n",
            "\n"
          ]
        },
        {
          "output_type": "execute_result",
          "data": {
            "text/plain": [
              "4136"
            ]
          },
          "metadata": {},
          "execution_count": 6
        }
      ]
    },
    {
      "cell_type": "code",
      "source": [
        "# Creating X and y: zip makes a list of all the first elements, and a list of all the second elements.\n",
        "X, y = zip(*lst)"
      ],
      "metadata": {
        "id": "ocdL7tSTBoMt"
      },
      "execution_count": 7,
      "outputs": []
    },
    {
      "cell_type": "code",
      "source": [
        "import numpy as np\n",
        "X = np.asarray(X)\n",
        "y = np.asarray(y)\n",
        "X.shape, y.shape"
      ],
      "metadata": {
        "id": "vHKwUGTbBtnF",
        "colab": {
          "base_uri": "https://localhost:8080/"
        },
        "outputId": "93429a2d-fc2e-4c0a-9d99-a57a177a8538"
      },
      "execution_count": 8,
      "outputs": [
        {
          "output_type": "execute_result",
          "data": {
            "text/plain": [
              "((2068, 40), (2068,))"
            ]
          },
          "metadata": {},
          "execution_count": 8
        }
      ]
    },
    {
      "cell_type": "code",
      "source": [
        "X.shape"
      ],
      "metadata": {
        "id": "2sUCtbfMztE5",
        "colab": {
          "base_uri": "https://localhost:8080/"
        },
        "outputId": "ce381845-24b3-4e08-f46b-a52281428487"
      },
      "execution_count": 9,
      "outputs": [
        {
          "output_type": "execute_result",
          "data": {
            "text/plain": [
              "(2068, 40)"
            ]
          },
          "metadata": {},
          "execution_count": 9
        }
      ]
    },
    {
      "cell_type": "code",
      "source": [
        "X.shape"
      ],
      "metadata": {
        "colab": {
          "base_uri": "https://localhost:8080/"
        },
        "id": "7PSTurzjCo5K",
        "outputId": "beafe53c-2a00-4369-d749-7dad7f0b634d"
      },
      "execution_count": 10,
      "outputs": [
        {
          "output_type": "execute_result",
          "data": {
            "text/plain": [
              "(2068, 40)"
            ]
          },
          "metadata": {},
          "execution_count": 10
        }
      ]
    },
    {
      "cell_type": "code",
      "source": [
        "from sklearn.model_selection import train_test_split\n",
        "\n",
        "X_train, X_test, y_train, y_test = train_test_split(X,y, test_size=0.2,train_size=0.8, random_state=42)\n",
        "X_valid, X_test, y_valid, y_test = train_test_split(X_test,y_test, test_size=0.5,train_size=0.5, random_state=42)"
      ],
      "metadata": {
        "id": "Ai4Fy5cPCiq1"
      },
      "execution_count": 11,
      "outputs": []
    },
    {
      "cell_type": "code",
      "source": [
        "import numpy as np\n",
        "x_traincnn = np.expand_dims(X_train, axis=2)\n",
        "x_testcnn = np.expand_dims(X_test, axis=2)\n",
        "X_valid= np.expand_dims(X_valid, axis=2)"
      ],
      "metadata": {
        "id": "tp1Fm5K3CEXu"
      },
      "execution_count": 12,
      "outputs": []
    },
    {
      "cell_type": "code",
      "source": [
        "x_traincnn.shape, x_testcnn.shape , X_valid.shape"
      ],
      "metadata": {
        "id": "RI0MxoIPBws5",
        "colab": {
          "base_uri": "https://localhost:8080/"
        },
        "outputId": "bfa0769e-abed-4594-9264-27f6ec45f3a2"
      },
      "execution_count": 13,
      "outputs": [
        {
          "output_type": "execute_result",
          "data": {
            "text/plain": [
              "((1654, 40, 1), (207, 40, 1), (207, 40, 1))"
            ]
          },
          "metadata": {},
          "execution_count": 13
        }
      ]
    },
    {
      "cell_type": "code",
      "source": [
        "!pip install tensorflow"
      ],
      "metadata": {
        "id": "goxL4Y3jKICC",
        "colab": {
          "base_uri": "https://localhost:8080/"
        },
        "outputId": "68d986a6-4921-4e7d-c6cc-2af5a53280dd"
      },
      "execution_count": 14,
      "outputs": [
        {
          "output_type": "stream",
          "name": "stdout",
          "text": [
            "Looking in indexes: https://pypi.org/simple, https://us-python.pkg.dev/colab-wheels/public/simple/\n",
            "Requirement already satisfied: tensorflow in /usr/local/lib/python3.7/dist-packages (2.8.2+zzzcolab20220527125636)\n",
            "Requirement already satisfied: protobuf<3.20,>=3.9.2 in /usr/local/lib/python3.7/dist-packages (from tensorflow) (3.17.3)\n",
            "Requirement already satisfied: libclang>=9.0.1 in /usr/local/lib/python3.7/dist-packages (from tensorflow) (14.0.1)\n",
            "Requirement already satisfied: setuptools in /usr/local/lib/python3.7/dist-packages (from tensorflow) (57.4.0)\n",
            "Requirement already satisfied: gast>=0.2.1 in /usr/local/lib/python3.7/dist-packages (from tensorflow) (0.5.3)\n",
            "Requirement already satisfied: keras<2.9,>=2.8.0rc0 in /usr/local/lib/python3.7/dist-packages (from tensorflow) (2.8.0)\n",
            "Requirement already satisfied: six>=1.12.0 in /usr/local/lib/python3.7/dist-packages (from tensorflow) (1.15.0)\n",
            "Requirement already satisfied: tensorflow-estimator<2.9,>=2.8 in /usr/local/lib/python3.7/dist-packages (from tensorflow) (2.8.0)\n",
            "Requirement already satisfied: grpcio<2.0,>=1.24.3 in /usr/local/lib/python3.7/dist-packages (from tensorflow) (1.46.3)\n",
            "Requirement already satisfied: tensorflow-io-gcs-filesystem>=0.23.1 in /usr/local/lib/python3.7/dist-packages (from tensorflow) (0.26.0)\n",
            "Requirement already satisfied: google-pasta>=0.1.1 in /usr/local/lib/python3.7/dist-packages (from tensorflow) (0.2.0)\n",
            "Requirement already satisfied: keras-preprocessing>=1.1.1 in /usr/local/lib/python3.7/dist-packages (from tensorflow) (1.1.2)\n",
            "Requirement already satisfied: numpy>=1.20 in /usr/local/lib/python3.7/dist-packages (from tensorflow) (1.21.6)\n",
            "Requirement already satisfied: h5py>=2.9.0 in /usr/local/lib/python3.7/dist-packages (from tensorflow) (3.1.0)\n",
            "Requirement already satisfied: tensorboard<2.9,>=2.8 in /usr/local/lib/python3.7/dist-packages (from tensorflow) (2.8.0)\n",
            "Requirement already satisfied: opt-einsum>=2.3.2 in /usr/local/lib/python3.7/dist-packages (from tensorflow) (3.3.0)\n",
            "Requirement already satisfied: termcolor>=1.1.0 in /usr/local/lib/python3.7/dist-packages (from tensorflow) (1.1.0)\n",
            "Requirement already satisfied: typing-extensions>=3.6.6 in /usr/local/lib/python3.7/dist-packages (from tensorflow) (4.2.0)\n",
            "Requirement already satisfied: absl-py>=0.4.0 in /usr/local/lib/python3.7/dist-packages (from tensorflow) (1.0.0)\n",
            "Requirement already satisfied: flatbuffers>=1.12 in /usr/local/lib/python3.7/dist-packages (from tensorflow) (2.0)\n",
            "Requirement already satisfied: astunparse>=1.6.0 in /usr/local/lib/python3.7/dist-packages (from tensorflow) (1.6.3)\n",
            "Requirement already satisfied: wrapt>=1.11.0 in /usr/local/lib/python3.7/dist-packages (from tensorflow) (1.14.1)\n",
            "Requirement already satisfied: wheel<1.0,>=0.23.0 in /usr/local/lib/python3.7/dist-packages (from astunparse>=1.6.0->tensorflow) (0.37.1)\n",
            "Requirement already satisfied: cached-property in /usr/local/lib/python3.7/dist-packages (from h5py>=2.9.0->tensorflow) (1.5.2)\n",
            "Requirement already satisfied: google-auth-oauthlib<0.5,>=0.4.1 in /usr/local/lib/python3.7/dist-packages (from tensorboard<2.9,>=2.8->tensorflow) (0.4.6)\n",
            "Requirement already satisfied: markdown>=2.6.8 in /usr/local/lib/python3.7/dist-packages (from tensorboard<2.9,>=2.8->tensorflow) (3.3.7)\n",
            "Requirement already satisfied: werkzeug>=0.11.15 in /usr/local/lib/python3.7/dist-packages (from tensorboard<2.9,>=2.8->tensorflow) (1.0.1)\n",
            "Requirement already satisfied: tensorboard-data-server<0.7.0,>=0.6.0 in /usr/local/lib/python3.7/dist-packages (from tensorboard<2.9,>=2.8->tensorflow) (0.6.1)\n",
            "Requirement already satisfied: tensorboard-plugin-wit>=1.6.0 in /usr/local/lib/python3.7/dist-packages (from tensorboard<2.9,>=2.8->tensorflow) (1.8.1)\n",
            "Requirement already satisfied: requests<3,>=2.21.0 in /usr/local/lib/python3.7/dist-packages (from tensorboard<2.9,>=2.8->tensorflow) (2.23.0)\n",
            "Requirement already satisfied: google-auth<3,>=1.6.3 in /usr/local/lib/python3.7/dist-packages (from tensorboard<2.9,>=2.8->tensorflow) (1.35.0)\n",
            "Requirement already satisfied: cachetools<5.0,>=2.0.0 in /usr/local/lib/python3.7/dist-packages (from google-auth<3,>=1.6.3->tensorboard<2.9,>=2.8->tensorflow) (4.2.4)\n",
            "Requirement already satisfied: pyasn1-modules>=0.2.1 in /usr/local/lib/python3.7/dist-packages (from google-auth<3,>=1.6.3->tensorboard<2.9,>=2.8->tensorflow) (0.2.8)\n",
            "Requirement already satisfied: rsa<5,>=3.1.4 in /usr/local/lib/python3.7/dist-packages (from google-auth<3,>=1.6.3->tensorboard<2.9,>=2.8->tensorflow) (4.8)\n",
            "Requirement already satisfied: requests-oauthlib>=0.7.0 in /usr/local/lib/python3.7/dist-packages (from google-auth-oauthlib<0.5,>=0.4.1->tensorboard<2.9,>=2.8->tensorflow) (1.3.1)\n",
            "Requirement already satisfied: importlib-metadata>=4.4 in /usr/local/lib/python3.7/dist-packages (from markdown>=2.6.8->tensorboard<2.9,>=2.8->tensorflow) (4.11.4)\n",
            "Requirement already satisfied: zipp>=0.5 in /usr/local/lib/python3.7/dist-packages (from importlib-metadata>=4.4->markdown>=2.6.8->tensorboard<2.9,>=2.8->tensorflow) (3.8.0)\n",
            "Requirement already satisfied: pyasn1<0.5.0,>=0.4.6 in /usr/local/lib/python3.7/dist-packages (from pyasn1-modules>=0.2.1->google-auth<3,>=1.6.3->tensorboard<2.9,>=2.8->tensorflow) (0.4.8)\n",
            "Requirement already satisfied: certifi>=2017.4.17 in /usr/local/lib/python3.7/dist-packages (from requests<3,>=2.21.0->tensorboard<2.9,>=2.8->tensorflow) (2022.5.18.1)\n",
            "Requirement already satisfied: chardet<4,>=3.0.2 in /usr/local/lib/python3.7/dist-packages (from requests<3,>=2.21.0->tensorboard<2.9,>=2.8->tensorflow) (3.0.4)\n",
            "Requirement already satisfied: idna<3,>=2.5 in /usr/local/lib/python3.7/dist-packages (from requests<3,>=2.21.0->tensorboard<2.9,>=2.8->tensorflow) (2.10)\n",
            "Requirement already satisfied: urllib3!=1.25.0,!=1.25.1,<1.26,>=1.21.1 in /usr/local/lib/python3.7/dist-packages (from requests<3,>=2.21.0->tensorboard<2.9,>=2.8->tensorflow) (1.24.3)\n",
            "Requirement already satisfied: oauthlib>=3.0.0 in /usr/local/lib/python3.7/dist-packages (from requests-oauthlib>=0.7.0->google-auth-oauthlib<0.5,>=0.4.1->tensorboard<2.9,>=2.8->tensorflow) (3.2.0)\n"
          ]
        }
      ]
    },
    {
      "cell_type": "code",
      "source": [
        "!pip install keras"
      ],
      "metadata": {
        "id": "EkcmN9UrKSxj",
        "colab": {
          "base_uri": "https://localhost:8080/"
        },
        "outputId": "4ecafd7d-30b1-469c-bbbf-065247bf581c"
      },
      "execution_count": 15,
      "outputs": [
        {
          "output_type": "stream",
          "name": "stdout",
          "text": [
            "Looking in indexes: https://pypi.org/simple, https://us-python.pkg.dev/colab-wheels/public/simple/\n",
            "Requirement already satisfied: keras in /usr/local/lib/python3.7/dist-packages (2.8.0)\n"
          ]
        }
      ]
    },
    {
      "cell_type": "code",
      "source": [
        "import keras\n",
        "import numpy as np\n",
        "import matplotlib.pyplot as plt\n",
        "import tensorflow as tf\n",
        "from keras.preprocessing import sequence\n",
        "from keras.models import Sequential\n",
        "from keras.layers import Dense, Embedding\n",
        "from tensorflow.keras.utils import to_categorical\n",
        "from keras.layers import Input, Flatten, Dropout, Activation\n",
        "from keras.layers import Conv1D, MaxPooling1D\n",
        "from keras.models import Model\n",
        "from keras.callbacks import ModelCheckpoint\n",
        "from tensorflow.keras import optimizers\n",
        "\n",
        "model = Sequential()\n",
        "\n",
        "model.add(Conv1D(128, 8,padding='same', #classifier.add(Convolution2D(64, (3, 3), padding = 'same', input_shape = (128, 128, 3), activation = 'relu'))\n",
        "                 input_shape=(40,1)))\n",
        "model.add(Activation('relu'))\n",
        "model.add(Dropout(0.3))\n",
        "model.add(MaxPooling1D(pool_size=(5)))\n",
        "\n",
        "\n",
        "model.add(Conv1D(256,8,padding='same',))\n",
        "model.add(Activation('relu'))\n",
        "model.add(Dropout(0.3))\n",
        "model.add(MaxPooling1D(pool_size=(5)))\n",
        "\n",
        "model.add(Flatten())\n",
        "\n",
        "model.add(Dense(256))\n",
        "model.add(Activation('relu'))\n",
        "model.add(Dense(256))\n",
        "model.add(Activation('relu'))\n",
        "\n",
        "model.add(Dense(6))\n",
        "model.add(Activation('softmax'))\n",
        "\n",
        "#opt = tf.keras.optimizers.Adam(lr=0.00002)\n",
        "opt = tf.keras.optimizers.RMSprop(lr=0.00002, rho=0.9, epsilon=1e-07, decay=0.0)\n",
        "#opt = tf.keras.optimizers.SGD(lr=0.001, momentum=0.0, decay=0.0, nesterov=False)"
      ],
      "metadata": {
        "id": "g74fXWVAC4Cr",
        "colab": {
          "base_uri": "https://localhost:8080/"
        },
        "outputId": "2c021041-4974-48e8-90a7-f0712c48deaf"
      },
      "execution_count": 16,
      "outputs": [
        {
          "output_type": "stream",
          "name": "stderr",
          "text": [
            "/usr/local/lib/python3.7/dist-packages/keras/optimizer_v2/rmsprop.py:130: UserWarning:\n",
            "\n",
            "The `lr` argument is deprecated, use `learning_rate` instead.\n",
            "\n"
          ]
        }
      ]
    },
    {
      "cell_type": "code",
      "source": [
        "model.summary()"
      ],
      "metadata": {
        "colab": {
          "base_uri": "https://localhost:8080/"
        },
        "id": "H6ukOxAGC_I4",
        "outputId": "77247d31-4bcd-4d8d-b48f-f6407cf7193e"
      },
      "execution_count": 17,
      "outputs": [
        {
          "output_type": "stream",
          "name": "stdout",
          "text": [
            "Model: \"sequential\"\n",
            "_________________________________________________________________\n",
            " Layer (type)                Output Shape              Param #   \n",
            "=================================================================\n",
            " conv1d (Conv1D)             (None, 40, 128)           1152      \n",
            "                                                                 \n",
            " activation (Activation)     (None, 40, 128)           0         \n",
            "                                                                 \n",
            " dropout (Dropout)           (None, 40, 128)           0         \n",
            "                                                                 \n",
            " max_pooling1d (MaxPooling1D  (None, 8, 128)           0         \n",
            " )                                                               \n",
            "                                                                 \n",
            " conv1d_1 (Conv1D)           (None, 8, 256)            262400    \n",
            "                                                                 \n",
            " activation_1 (Activation)   (None, 8, 256)            0         \n",
            "                                                                 \n",
            " dropout_1 (Dropout)         (None, 8, 256)            0         \n",
            "                                                                 \n",
            " max_pooling1d_1 (MaxPooling  (None, 1, 256)           0         \n",
            " 1D)                                                             \n",
            "                                                                 \n",
            " flatten (Flatten)           (None, 256)               0         \n",
            "                                                                 \n",
            " dense (Dense)               (None, 256)               65792     \n",
            "                                                                 \n",
            " activation_2 (Activation)   (None, 256)               0         \n",
            "                                                                 \n",
            " dense_1 (Dense)             (None, 256)               65792     \n",
            "                                                                 \n",
            " activation_3 (Activation)   (None, 256)               0         \n",
            "                                                                 \n",
            " dense_2 (Dense)             (None, 6)                 1542      \n",
            "                                                                 \n",
            " activation_4 (Activation)   (None, 6)                 0         \n",
            "                                                                 \n",
            "=================================================================\n",
            "Total params: 396,678\n",
            "Trainable params: 396,678\n",
            "Non-trainable params: 0\n",
            "_________________________________________________________________\n"
          ]
        }
      ]
    },
    {
      "cell_type": "code",
      "source": [
        "model.compile(loss='sparse_categorical_crossentropy',\n",
        "              optimizer=opt,\n",
        "              metrics=['accuracy'])"
      ],
      "metadata": {
        "id": "AbMlLNk4DCBM"
      },
      "execution_count": 18,
      "outputs": []
    },
    {
      "cell_type": "code",
      "source": [
        "#cnnhistory=model.fit(x_traincnn, y_train, batch_size=16, epochs=700, validation_data=(x_testcnn, y_test))\n",
        "cnnhistory=model.fit(x_traincnn, y_train, batch_size=16, epochs=500 , validation_data=(X_valid, y_valid))"
      ],
      "metadata": {
        "colab": {
          "base_uri": "https://localhost:8080/"
        },
        "id": "RI1v2AuADFhy",
        "outputId": "240ea787-0176-492d-e85f-5b0c5e2bf89a"
      },
      "execution_count": 19,
      "outputs": [
        {
          "output_type": "stream",
          "name": "stdout",
          "text": [
            "Epoch 1/500\n",
            "104/104 [==============================] - 17s 15ms/step - loss: 6.4515 - accuracy: 0.1753 - val_loss: 2.1655 - val_accuracy: 0.1594\n",
            "Epoch 2/500\n",
            "104/104 [==============================] - 1s 9ms/step - loss: 4.5519 - accuracy: 0.1778 - val_loss: 2.2568 - val_accuracy: 0.2415\n",
            "Epoch 3/500\n",
            "104/104 [==============================] - 1s 9ms/step - loss: 3.8357 - accuracy: 0.1838 - val_loss: 1.8511 - val_accuracy: 0.1836\n",
            "Epoch 4/500\n",
            "104/104 [==============================] - 1s 10ms/step - loss: 3.4937 - accuracy: 0.1995 - val_loss: 1.9413 - val_accuracy: 0.1884\n",
            "Epoch 5/500\n",
            "104/104 [==============================] - 1s 8ms/step - loss: 3.2071 - accuracy: 0.1850 - val_loss: 2.2168 - val_accuracy: 0.1594\n",
            "Epoch 6/500\n",
            "104/104 [==============================] - 1s 9ms/step - loss: 3.0471 - accuracy: 0.1983 - val_loss: 1.8242 - val_accuracy: 0.2415\n",
            "Epoch 7/500\n",
            "104/104 [==============================] - 1s 9ms/step - loss: 2.8169 - accuracy: 0.1977 - val_loss: 1.7388 - val_accuracy: 0.2512\n",
            "Epoch 8/500\n",
            "104/104 [==============================] - 1s 7ms/step - loss: 2.6182 - accuracy: 0.2164 - val_loss: 1.7184 - val_accuracy: 0.2560\n",
            "Epoch 9/500\n",
            "104/104 [==============================] - 1s 9ms/step - loss: 2.5132 - accuracy: 0.2037 - val_loss: 1.6923 - val_accuracy: 0.2705\n",
            "Epoch 10/500\n",
            "104/104 [==============================] - 1s 8ms/step - loss: 2.5033 - accuracy: 0.1911 - val_loss: 1.6671 - val_accuracy: 0.3140\n",
            "Epoch 11/500\n",
            "104/104 [==============================] - 1s 8ms/step - loss: 2.3464 - accuracy: 0.2056 - val_loss: 1.6451 - val_accuracy: 0.2609\n",
            "Epoch 12/500\n",
            "104/104 [==============================] - 1s 8ms/step - loss: 2.2884 - accuracy: 0.1983 - val_loss: 1.6849 - val_accuracy: 0.2657\n",
            "Epoch 13/500\n",
            "104/104 [==============================] - 1s 7ms/step - loss: 2.2718 - accuracy: 0.1953 - val_loss: 1.6455 - val_accuracy: 0.3575\n",
            "Epoch 14/500\n",
            "104/104 [==============================] - 1s 8ms/step - loss: 2.1202 - accuracy: 0.2243 - val_loss: 1.6417 - val_accuracy: 0.3092\n",
            "Epoch 15/500\n",
            "104/104 [==============================] - 1s 5ms/step - loss: 2.1193 - accuracy: 0.2080 - val_loss: 1.6523 - val_accuracy: 0.3237\n",
            "Epoch 16/500\n",
            "104/104 [==============================] - 0s 5ms/step - loss: 2.0620 - accuracy: 0.2146 - val_loss: 1.6475 - val_accuracy: 0.3237\n",
            "Epoch 17/500\n",
            "104/104 [==============================] - 1s 5ms/step - loss: 2.0187 - accuracy: 0.2231 - val_loss: 1.6871 - val_accuracy: 0.3430\n",
            "Epoch 18/500\n",
            "104/104 [==============================] - 0s 4ms/step - loss: 1.9813 - accuracy: 0.2509 - val_loss: 1.6971 - val_accuracy: 0.2802\n",
            "Epoch 19/500\n",
            "104/104 [==============================] - 1s 5ms/step - loss: 1.9875 - accuracy: 0.2376 - val_loss: 1.6735 - val_accuracy: 0.3188\n",
            "Epoch 20/500\n",
            "104/104 [==============================] - 0s 4ms/step - loss: 1.9687 - accuracy: 0.2183 - val_loss: 1.6664 - val_accuracy: 0.3430\n",
            "Epoch 21/500\n",
            "104/104 [==============================] - 1s 5ms/step - loss: 1.9677 - accuracy: 0.2164 - val_loss: 1.7164 - val_accuracy: 0.2609\n",
            "Epoch 22/500\n",
            "104/104 [==============================] - 0s 4ms/step - loss: 1.9409 - accuracy: 0.2152 - val_loss: 1.6827 - val_accuracy: 0.3043\n",
            "Epoch 23/500\n",
            "104/104 [==============================] - 0s 5ms/step - loss: 1.9291 - accuracy: 0.2237 - val_loss: 1.6774 - val_accuracy: 0.2657\n",
            "Epoch 24/500\n",
            "104/104 [==============================] - 0s 4ms/step - loss: 1.8826 - accuracy: 0.2273 - val_loss: 1.6730 - val_accuracy: 0.3285\n",
            "Epoch 25/500\n",
            "104/104 [==============================] - 1s 5ms/step - loss: 1.8805 - accuracy: 0.2509 - val_loss: 1.6832 - val_accuracy: 0.2560\n",
            "Epoch 26/500\n",
            "104/104 [==============================] - 0s 4ms/step - loss: 1.8710 - accuracy: 0.2539 - val_loss: 1.7167 - val_accuracy: 0.2464\n",
            "Epoch 27/500\n",
            "104/104 [==============================] - 1s 5ms/step - loss: 1.8825 - accuracy: 0.2461 - val_loss: 1.6487 - val_accuracy: 0.3478\n",
            "Epoch 28/500\n",
            "104/104 [==============================] - 1s 5ms/step - loss: 1.8658 - accuracy: 0.2328 - val_loss: 1.7461 - val_accuracy: 0.2512\n",
            "Epoch 29/500\n",
            "104/104 [==============================] - 1s 5ms/step - loss: 1.8324 - accuracy: 0.2654 - val_loss: 1.6991 - val_accuracy: 0.2657\n",
            "Epoch 30/500\n",
            "104/104 [==============================] - 1s 5ms/step - loss: 1.8025 - accuracy: 0.2527 - val_loss: 1.6775 - val_accuracy: 0.2657\n",
            "Epoch 31/500\n",
            "104/104 [==============================] - 1s 5ms/step - loss: 1.8120 - accuracy: 0.2485 - val_loss: 1.6717 - val_accuracy: 0.2802\n",
            "Epoch 32/500\n",
            "104/104 [==============================] - 1s 5ms/step - loss: 1.8099 - accuracy: 0.2394 - val_loss: 1.6763 - val_accuracy: 0.2705\n",
            "Epoch 33/500\n",
            "104/104 [==============================] - 0s 5ms/step - loss: 1.7802 - accuracy: 0.2793 - val_loss: 1.6417 - val_accuracy: 0.3527\n",
            "Epoch 34/500\n",
            "104/104 [==============================] - 0s 5ms/step - loss: 1.7918 - accuracy: 0.2848 - val_loss: 1.6485 - val_accuracy: 0.3430\n",
            "Epoch 35/500\n",
            "104/104 [==============================] - 1s 5ms/step - loss: 1.7648 - accuracy: 0.2727 - val_loss: 1.6352 - val_accuracy: 0.3285\n",
            "Epoch 36/500\n",
            "104/104 [==============================] - 1s 5ms/step - loss: 1.7724 - accuracy: 0.2703 - val_loss: 1.6653 - val_accuracy: 0.3188\n",
            "Epoch 37/500\n",
            "104/104 [==============================] - 0s 5ms/step - loss: 1.7441 - accuracy: 0.2582 - val_loss: 1.6129 - val_accuracy: 0.3478\n",
            "Epoch 38/500\n",
            "104/104 [==============================] - 0s 5ms/step - loss: 1.7481 - accuracy: 0.2775 - val_loss: 1.6212 - val_accuracy: 0.2947\n",
            "Epoch 39/500\n",
            "104/104 [==============================] - 1s 5ms/step - loss: 1.7322 - accuracy: 0.2866 - val_loss: 1.6348 - val_accuracy: 0.3671\n",
            "Epoch 40/500\n",
            "104/104 [==============================] - 0s 5ms/step - loss: 1.7249 - accuracy: 0.2987 - val_loss: 1.6348 - val_accuracy: 0.3237\n",
            "Epoch 41/500\n",
            "104/104 [==============================] - 0s 5ms/step - loss: 1.7305 - accuracy: 0.2823 - val_loss: 1.6352 - val_accuracy: 0.2754\n",
            "Epoch 42/500\n",
            "104/104 [==============================] - 0s 5ms/step - loss: 1.7057 - accuracy: 0.2890 - val_loss: 1.6027 - val_accuracy: 0.3575\n",
            "Epoch 43/500\n",
            "104/104 [==============================] - 0s 5ms/step - loss: 1.7099 - accuracy: 0.2902 - val_loss: 1.6134 - val_accuracy: 0.3913\n",
            "Epoch 44/500\n",
            "104/104 [==============================] - 0s 5ms/step - loss: 1.7006 - accuracy: 0.2848 - val_loss: 1.5776 - val_accuracy: 0.3768\n",
            "Epoch 45/500\n",
            "104/104 [==============================] - 1s 5ms/step - loss: 1.7148 - accuracy: 0.2963 - val_loss: 1.5833 - val_accuracy: 0.3623\n",
            "Epoch 46/500\n",
            "104/104 [==============================] - 1s 5ms/step - loss: 1.6971 - accuracy: 0.2914 - val_loss: 1.5987 - val_accuracy: 0.3768\n",
            "Epoch 47/500\n",
            "104/104 [==============================] - 0s 5ms/step - loss: 1.7139 - accuracy: 0.2956 - val_loss: 1.5821 - val_accuracy: 0.4058\n",
            "Epoch 48/500\n",
            "104/104 [==============================] - 0s 5ms/step - loss: 1.6809 - accuracy: 0.2963 - val_loss: 1.5865 - val_accuracy: 0.3720\n",
            "Epoch 49/500\n",
            "104/104 [==============================] - 1s 5ms/step - loss: 1.6573 - accuracy: 0.3126 - val_loss: 1.5966 - val_accuracy: 0.3816\n",
            "Epoch 50/500\n",
            "104/104 [==============================] - 1s 5ms/step - loss: 1.6689 - accuracy: 0.3041 - val_loss: 1.5673 - val_accuracy: 0.3961\n",
            "Epoch 51/500\n",
            "104/104 [==============================] - 1s 5ms/step - loss: 1.6888 - accuracy: 0.2963 - val_loss: 1.5578 - val_accuracy: 0.4106\n",
            "Epoch 52/500\n",
            "104/104 [==============================] - 1s 5ms/step - loss: 1.6830 - accuracy: 0.2884 - val_loss: 1.5895 - val_accuracy: 0.3865\n",
            "Epoch 53/500\n",
            "104/104 [==============================] - 1s 5ms/step - loss: 1.6623 - accuracy: 0.3210 - val_loss: 1.5956 - val_accuracy: 0.3527\n",
            "Epoch 54/500\n",
            "104/104 [==============================] - 0s 5ms/step - loss: 1.6638 - accuracy: 0.3035 - val_loss: 1.5658 - val_accuracy: 0.3913\n",
            "Epoch 55/500\n",
            "104/104 [==============================] - 1s 5ms/step - loss: 1.6568 - accuracy: 0.3120 - val_loss: 1.5734 - val_accuracy: 0.4203\n",
            "Epoch 56/500\n",
            "104/104 [==============================] - 0s 5ms/step - loss: 1.6593 - accuracy: 0.3120 - val_loss: 1.5604 - val_accuracy: 0.4010\n",
            "Epoch 57/500\n",
            "104/104 [==============================] - 1s 5ms/step - loss: 1.6530 - accuracy: 0.3126 - val_loss: 1.5490 - val_accuracy: 0.3865\n",
            "Epoch 58/500\n",
            "104/104 [==============================] - 1s 5ms/step - loss: 1.6380 - accuracy: 0.3138 - val_loss: 1.5673 - val_accuracy: 0.4010\n",
            "Epoch 59/500\n",
            "104/104 [==============================] - 1s 5ms/step - loss: 1.6195 - accuracy: 0.3325 - val_loss: 1.5493 - val_accuracy: 0.3575\n",
            "Epoch 60/500\n",
            "104/104 [==============================] - 1s 5ms/step - loss: 1.6415 - accuracy: 0.3259 - val_loss: 1.5494 - val_accuracy: 0.3382\n",
            "Epoch 61/500\n",
            "104/104 [==============================] - 0s 5ms/step - loss: 1.6152 - accuracy: 0.3204 - val_loss: 1.5342 - val_accuracy: 0.4444\n",
            "Epoch 62/500\n",
            "104/104 [==============================] - 1s 5ms/step - loss: 1.6173 - accuracy: 0.3343 - val_loss: 1.5363 - val_accuracy: 0.4058\n",
            "Epoch 63/500\n",
            "104/104 [==============================] - 0s 5ms/step - loss: 1.6005 - accuracy: 0.3489 - val_loss: 1.5231 - val_accuracy: 0.4638\n",
            "Epoch 64/500\n",
            "104/104 [==============================] - 1s 5ms/step - loss: 1.6061 - accuracy: 0.3410 - val_loss: 1.5077 - val_accuracy: 0.4396\n",
            "Epoch 65/500\n",
            "104/104 [==============================] - 1s 5ms/step - loss: 1.5808 - accuracy: 0.3404 - val_loss: 1.5478 - val_accuracy: 0.3816\n",
            "Epoch 66/500\n",
            "104/104 [==============================] - 1s 5ms/step - loss: 1.5932 - accuracy: 0.3313 - val_loss: 1.4930 - val_accuracy: 0.4203\n",
            "Epoch 67/500\n",
            "104/104 [==============================] - 0s 5ms/step - loss: 1.5798 - accuracy: 0.3452 - val_loss: 1.5196 - val_accuracy: 0.3623\n",
            "Epoch 68/500\n",
            "104/104 [==============================] - 0s 5ms/step - loss: 1.5716 - accuracy: 0.3519 - val_loss: 1.5125 - val_accuracy: 0.4106\n",
            "Epoch 69/500\n",
            "104/104 [==============================] - 0s 4ms/step - loss: 1.5877 - accuracy: 0.3495 - val_loss: 1.4927 - val_accuracy: 0.4444\n",
            "Epoch 70/500\n",
            "104/104 [==============================] - 0s 5ms/step - loss: 1.5793 - accuracy: 0.3531 - val_loss: 1.4800 - val_accuracy: 0.4396\n",
            "Epoch 71/500\n",
            "104/104 [==============================] - 0s 5ms/step - loss: 1.5783 - accuracy: 0.3343 - val_loss: 1.5044 - val_accuracy: 0.3768\n",
            "Epoch 72/500\n",
            "104/104 [==============================] - 1s 5ms/step - loss: 1.5517 - accuracy: 0.3634 - val_loss: 1.4677 - val_accuracy: 0.4493\n",
            "Epoch 73/500\n",
            "104/104 [==============================] - 0s 5ms/step - loss: 1.5594 - accuracy: 0.3573 - val_loss: 1.4654 - val_accuracy: 0.4203\n",
            "Epoch 74/500\n",
            "104/104 [==============================] - 1s 5ms/step - loss: 1.5612 - accuracy: 0.3573 - val_loss: 1.4788 - val_accuracy: 0.4300\n",
            "Epoch 75/500\n",
            "104/104 [==============================] - 1s 5ms/step - loss: 1.5284 - accuracy: 0.3670 - val_loss: 1.4751 - val_accuracy: 0.4396\n",
            "Epoch 76/500\n",
            "104/104 [==============================] - 0s 5ms/step - loss: 1.5188 - accuracy: 0.3906 - val_loss: 1.4478 - val_accuracy: 0.5024\n",
            "Epoch 77/500\n",
            "104/104 [==============================] - 0s 5ms/step - loss: 1.5357 - accuracy: 0.3706 - val_loss: 1.4975 - val_accuracy: 0.3768\n",
            "Epoch 78/500\n",
            "104/104 [==============================] - 0s 5ms/step - loss: 1.5189 - accuracy: 0.3755 - val_loss: 1.4683 - val_accuracy: 0.4638\n",
            "Epoch 79/500\n",
            "104/104 [==============================] - 0s 5ms/step - loss: 1.5083 - accuracy: 0.3785 - val_loss: 1.4654 - val_accuracy: 0.4106\n",
            "Epoch 80/500\n",
            "104/104 [==============================] - 0s 5ms/step - loss: 1.5126 - accuracy: 0.3676 - val_loss: 1.4705 - val_accuracy: 0.4396\n",
            "Epoch 81/500\n",
            "104/104 [==============================] - 1s 5ms/step - loss: 1.5097 - accuracy: 0.3761 - val_loss: 1.4212 - val_accuracy: 0.4638\n",
            "Epoch 82/500\n",
            "104/104 [==============================] - 1s 5ms/step - loss: 1.5171 - accuracy: 0.3863 - val_loss: 1.4298 - val_accuracy: 0.4879\n",
            "Epoch 83/500\n",
            "104/104 [==============================] - 1s 5ms/step - loss: 1.5034 - accuracy: 0.3936 - val_loss: 1.4314 - val_accuracy: 0.4831\n",
            "Epoch 84/500\n",
            "104/104 [==============================] - 1s 5ms/step - loss: 1.4850 - accuracy: 0.3894 - val_loss: 1.4252 - val_accuracy: 0.4831\n",
            "Epoch 85/500\n",
            "104/104 [==============================] - 0s 5ms/step - loss: 1.5162 - accuracy: 0.3748 - val_loss: 1.4083 - val_accuracy: 0.4831\n",
            "Epoch 86/500\n",
            "104/104 [==============================] - 1s 5ms/step - loss: 1.4989 - accuracy: 0.4002 - val_loss: 1.4299 - val_accuracy: 0.4734\n",
            "Epoch 87/500\n",
            "104/104 [==============================] - 0s 5ms/step - loss: 1.5043 - accuracy: 0.3821 - val_loss: 1.4137 - val_accuracy: 0.4879\n",
            "Epoch 88/500\n",
            "104/104 [==============================] - 0s 5ms/step - loss: 1.4773 - accuracy: 0.3972 - val_loss: 1.4222 - val_accuracy: 0.5121\n",
            "Epoch 89/500\n",
            "104/104 [==============================] - 0s 5ms/step - loss: 1.4721 - accuracy: 0.4015 - val_loss: 1.4155 - val_accuracy: 0.4686\n",
            "Epoch 90/500\n",
            "104/104 [==============================] - 0s 5ms/step - loss: 1.4651 - accuracy: 0.3857 - val_loss: 1.4243 - val_accuracy: 0.4444\n",
            "Epoch 91/500\n",
            "104/104 [==============================] - 0s 5ms/step - loss: 1.5042 - accuracy: 0.3912 - val_loss: 1.4072 - val_accuracy: 0.4976\n",
            "Epoch 92/500\n",
            "104/104 [==============================] - 1s 5ms/step - loss: 1.4672 - accuracy: 0.3960 - val_loss: 1.4106 - val_accuracy: 0.4589\n",
            "Epoch 93/500\n",
            "104/104 [==============================] - 1s 5ms/step - loss: 1.4534 - accuracy: 0.4075 - val_loss: 1.4118 - val_accuracy: 0.4444\n",
            "Epoch 94/500\n",
            "104/104 [==============================] - 1s 5ms/step - loss: 1.4571 - accuracy: 0.4033 - val_loss: 1.3799 - val_accuracy: 0.5072\n",
            "Epoch 95/500\n",
            "104/104 [==============================] - 0s 5ms/step - loss: 1.4665 - accuracy: 0.4166 - val_loss: 1.3842 - val_accuracy: 0.5072\n",
            "Epoch 96/500\n",
            "104/104 [==============================] - 0s 5ms/step - loss: 1.4347 - accuracy: 0.4160 - val_loss: 1.3805 - val_accuracy: 0.5217\n",
            "Epoch 97/500\n",
            "104/104 [==============================] - 1s 5ms/step - loss: 1.4310 - accuracy: 0.4196 - val_loss: 1.3615 - val_accuracy: 0.5121\n",
            "Epoch 98/500\n",
            "104/104 [==============================] - 1s 5ms/step - loss: 1.4247 - accuracy: 0.4214 - val_loss: 1.3738 - val_accuracy: 0.5217\n",
            "Epoch 99/500\n",
            "104/104 [==============================] - 1s 5ms/step - loss: 1.4300 - accuracy: 0.3990 - val_loss: 1.3673 - val_accuracy: 0.4879\n",
            "Epoch 100/500\n",
            "104/104 [==============================] - 1s 5ms/step - loss: 1.4351 - accuracy: 0.4069 - val_loss: 1.3629 - val_accuracy: 0.5362\n",
            "Epoch 101/500\n",
            "104/104 [==============================] - 1s 5ms/step - loss: 1.4432 - accuracy: 0.4141 - val_loss: 1.3613 - val_accuracy: 0.5169\n",
            "Epoch 102/500\n",
            "104/104 [==============================] - 1s 5ms/step - loss: 1.4407 - accuracy: 0.4135 - val_loss: 1.3667 - val_accuracy: 0.5024\n",
            "Epoch 103/500\n",
            "104/104 [==============================] - 1s 5ms/step - loss: 1.3962 - accuracy: 0.4329 - val_loss: 1.3593 - val_accuracy: 0.5169\n",
            "Epoch 104/500\n",
            "104/104 [==============================] - 1s 5ms/step - loss: 1.4046 - accuracy: 0.4287 - val_loss: 1.3613 - val_accuracy: 0.4928\n",
            "Epoch 105/500\n",
            "104/104 [==============================] - 0s 5ms/step - loss: 1.4224 - accuracy: 0.4250 - val_loss: 1.3470 - val_accuracy: 0.5169\n",
            "Epoch 106/500\n",
            "104/104 [==============================] - 1s 5ms/step - loss: 1.3935 - accuracy: 0.4347 - val_loss: 1.3470 - val_accuracy: 0.5169\n",
            "Epoch 107/500\n",
            "104/104 [==============================] - 1s 5ms/step - loss: 1.3917 - accuracy: 0.4414 - val_loss: 1.3328 - val_accuracy: 0.5411\n",
            "Epoch 108/500\n",
            "104/104 [==============================] - 1s 5ms/step - loss: 1.3937 - accuracy: 0.4438 - val_loss: 1.3244 - val_accuracy: 0.5507\n",
            "Epoch 109/500\n",
            "104/104 [==============================] - 1s 5ms/step - loss: 1.3877 - accuracy: 0.4256 - val_loss: 1.3470 - val_accuracy: 0.4783\n",
            "Epoch 110/500\n",
            "104/104 [==============================] - 1s 7ms/step - loss: 1.3974 - accuracy: 0.4329 - val_loss: 1.3319 - val_accuracy: 0.5169\n",
            "Epoch 111/500\n",
            "104/104 [==============================] - 1s 9ms/step - loss: 1.3644 - accuracy: 0.4323 - val_loss: 1.3336 - val_accuracy: 0.4976\n",
            "Epoch 112/500\n",
            "104/104 [==============================] - 1s 7ms/step - loss: 1.3810 - accuracy: 0.4335 - val_loss: 1.3421 - val_accuracy: 0.4783\n",
            "Epoch 113/500\n",
            "104/104 [==============================] - 1s 12ms/step - loss: 1.3861 - accuracy: 0.4432 - val_loss: 1.3539 - val_accuracy: 0.5072\n",
            "Epoch 114/500\n",
            "104/104 [==============================] - 1s 8ms/step - loss: 1.3690 - accuracy: 0.4486 - val_loss: 1.3287 - val_accuracy: 0.5314\n",
            "Epoch 115/500\n",
            "104/104 [==============================] - 1s 7ms/step - loss: 1.3594 - accuracy: 0.4492 - val_loss: 1.3355 - val_accuracy: 0.5266\n",
            "Epoch 116/500\n",
            "104/104 [==============================] - 1s 7ms/step - loss: 1.3868 - accuracy: 0.4468 - val_loss: 1.3300 - val_accuracy: 0.5362\n",
            "Epoch 117/500\n",
            "104/104 [==============================] - 1s 6ms/step - loss: 1.3508 - accuracy: 0.4504 - val_loss: 1.2983 - val_accuracy: 0.5362\n",
            "Epoch 118/500\n",
            "104/104 [==============================] - 1s 5ms/step - loss: 1.3520 - accuracy: 0.4547 - val_loss: 1.3039 - val_accuracy: 0.5362\n",
            "Epoch 119/500\n",
            "104/104 [==============================] - 1s 5ms/step - loss: 1.3452 - accuracy: 0.4637 - val_loss: 1.3116 - val_accuracy: 0.5024\n",
            "Epoch 120/500\n",
            "104/104 [==============================] - 0s 5ms/step - loss: 1.3446 - accuracy: 0.4547 - val_loss: 1.2827 - val_accuracy: 0.5556\n",
            "Epoch 121/500\n",
            "104/104 [==============================] - 1s 5ms/step - loss: 1.3541 - accuracy: 0.4486 - val_loss: 1.3147 - val_accuracy: 0.5217\n",
            "Epoch 122/500\n",
            "104/104 [==============================] - 1s 5ms/step - loss: 1.3279 - accuracy: 0.4601 - val_loss: 1.2709 - val_accuracy: 0.5459\n",
            "Epoch 123/500\n",
            "104/104 [==============================] - 0s 5ms/step - loss: 1.3477 - accuracy: 0.4498 - val_loss: 1.2920 - val_accuracy: 0.5266\n",
            "Epoch 124/500\n",
            "104/104 [==============================] - 0s 5ms/step - loss: 1.3186 - accuracy: 0.4764 - val_loss: 1.2961 - val_accuracy: 0.5314\n",
            "Epoch 125/500\n",
            "104/104 [==============================] - 1s 5ms/step - loss: 1.3161 - accuracy: 0.4698 - val_loss: 1.2750 - val_accuracy: 0.5652\n",
            "Epoch 126/500\n",
            "104/104 [==============================] - 1s 5ms/step - loss: 1.2900 - accuracy: 0.4879 - val_loss: 1.2573 - val_accuracy: 0.5700\n",
            "Epoch 127/500\n",
            "104/104 [==============================] - 1s 5ms/step - loss: 1.3108 - accuracy: 0.4643 - val_loss: 1.2671 - val_accuracy: 0.5459\n",
            "Epoch 128/500\n",
            "104/104 [==============================] - 1s 8ms/step - loss: 1.3234 - accuracy: 0.4722 - val_loss: 1.2633 - val_accuracy: 0.5411\n",
            "Epoch 129/500\n",
            "104/104 [==============================] - 1s 8ms/step - loss: 1.3078 - accuracy: 0.4692 - val_loss: 1.2533 - val_accuracy: 0.5604\n",
            "Epoch 130/500\n",
            "104/104 [==============================] - 0s 5ms/step - loss: 1.3198 - accuracy: 0.4710 - val_loss: 1.2681 - val_accuracy: 0.5362\n",
            "Epoch 131/500\n",
            "104/104 [==============================] - 0s 5ms/step - loss: 1.3053 - accuracy: 0.4764 - val_loss: 1.2579 - val_accuracy: 0.5652\n",
            "Epoch 132/500\n",
            "104/104 [==============================] - 1s 5ms/step - loss: 1.2725 - accuracy: 0.4843 - val_loss: 1.2437 - val_accuracy: 0.5217\n",
            "Epoch 133/500\n",
            "104/104 [==============================] - 1s 5ms/step - loss: 1.2986 - accuracy: 0.4988 - val_loss: 1.2688 - val_accuracy: 0.5266\n",
            "Epoch 134/500\n",
            "104/104 [==============================] - 0s 5ms/step - loss: 1.2841 - accuracy: 0.4861 - val_loss: 1.2606 - val_accuracy: 0.5072\n",
            "Epoch 135/500\n",
            "104/104 [==============================] - 1s 5ms/step - loss: 1.2880 - accuracy: 0.4794 - val_loss: 1.2478 - val_accuracy: 0.5411\n",
            "Epoch 136/500\n",
            "104/104 [==============================] - 1s 5ms/step - loss: 1.2999 - accuracy: 0.4758 - val_loss: 1.2694 - val_accuracy: 0.5072\n",
            "Epoch 137/500\n",
            "104/104 [==============================] - 1s 5ms/step - loss: 1.2613 - accuracy: 0.4903 - val_loss: 1.2060 - val_accuracy: 0.5749\n",
            "Epoch 138/500\n",
            "104/104 [==============================] - 1s 5ms/step - loss: 1.2675 - accuracy: 0.4940 - val_loss: 1.2574 - val_accuracy: 0.5411\n",
            "Epoch 139/500\n",
            "104/104 [==============================] - 1s 5ms/step - loss: 1.2604 - accuracy: 0.4879 - val_loss: 1.2163 - val_accuracy: 0.5700\n",
            "Epoch 140/500\n",
            "104/104 [==============================] - 1s 5ms/step - loss: 1.2714 - accuracy: 0.4831 - val_loss: 1.2163 - val_accuracy: 0.5797\n",
            "Epoch 141/500\n",
            "104/104 [==============================] - 1s 5ms/step - loss: 1.2620 - accuracy: 0.4958 - val_loss: 1.2395 - val_accuracy: 0.5507\n",
            "Epoch 142/500\n",
            "104/104 [==============================] - 1s 5ms/step - loss: 1.2781 - accuracy: 0.4825 - val_loss: 1.2153 - val_accuracy: 0.5507\n",
            "Epoch 143/500\n",
            "104/104 [==============================] - 1s 5ms/step - loss: 1.2822 - accuracy: 0.4794 - val_loss: 1.2259 - val_accuracy: 0.5556\n",
            "Epoch 144/500\n",
            "104/104 [==============================] - 1s 5ms/step - loss: 1.2623 - accuracy: 0.4903 - val_loss: 1.2355 - val_accuracy: 0.5604\n",
            "Epoch 145/500\n",
            "104/104 [==============================] - 1s 5ms/step - loss: 1.2394 - accuracy: 0.5042 - val_loss: 1.2146 - val_accuracy: 0.5797\n",
            "Epoch 146/500\n",
            "104/104 [==============================] - 1s 5ms/step - loss: 1.2465 - accuracy: 0.5000 - val_loss: 1.2313 - val_accuracy: 0.5797\n",
            "Epoch 147/500\n",
            "104/104 [==============================] - 1s 5ms/step - loss: 1.2588 - accuracy: 0.4982 - val_loss: 1.2081 - val_accuracy: 0.5459\n",
            "Epoch 148/500\n",
            "104/104 [==============================] - 0s 5ms/step - loss: 1.2616 - accuracy: 0.4885 - val_loss: 1.2097 - val_accuracy: 0.5700\n",
            "Epoch 149/500\n",
            "104/104 [==============================] - 1s 5ms/step - loss: 1.2303 - accuracy: 0.5145 - val_loss: 1.1951 - val_accuracy: 0.5507\n",
            "Epoch 150/500\n",
            "104/104 [==============================] - 1s 5ms/step - loss: 1.2168 - accuracy: 0.5024 - val_loss: 1.2152 - val_accuracy: 0.5604\n",
            "Epoch 151/500\n",
            "104/104 [==============================] - 1s 5ms/step - loss: 1.2139 - accuracy: 0.5127 - val_loss: 1.1784 - val_accuracy: 0.5797\n",
            "Epoch 152/500\n",
            "104/104 [==============================] - 1s 5ms/step - loss: 1.2530 - accuracy: 0.5103 - val_loss: 1.2092 - val_accuracy: 0.5700\n",
            "Epoch 153/500\n",
            "104/104 [==============================] - 0s 5ms/step - loss: 1.2211 - accuracy: 0.5115 - val_loss: 1.1956 - val_accuracy: 0.5556\n",
            "Epoch 154/500\n",
            "104/104 [==============================] - 1s 5ms/step - loss: 1.2354 - accuracy: 0.5018 - val_loss: 1.1752 - val_accuracy: 0.5845\n",
            "Epoch 155/500\n",
            "104/104 [==============================] - 1s 5ms/step - loss: 1.2400 - accuracy: 0.5067 - val_loss: 1.1776 - val_accuracy: 0.6039\n",
            "Epoch 156/500\n",
            "104/104 [==============================] - 1s 5ms/step - loss: 1.2199 - accuracy: 0.5060 - val_loss: 1.1845 - val_accuracy: 0.6087\n",
            "Epoch 157/500\n",
            "104/104 [==============================] - 0s 5ms/step - loss: 1.1992 - accuracy: 0.5314 - val_loss: 1.1954 - val_accuracy: 0.5845\n",
            "Epoch 158/500\n",
            "104/104 [==============================] - 1s 5ms/step - loss: 1.2190 - accuracy: 0.4952 - val_loss: 1.1650 - val_accuracy: 0.5942\n",
            "Epoch 159/500\n",
            "104/104 [==============================] - 1s 5ms/step - loss: 1.1953 - accuracy: 0.5193 - val_loss: 1.1730 - val_accuracy: 0.6039\n",
            "Epoch 160/500\n",
            "104/104 [==============================] - 1s 5ms/step - loss: 1.2087 - accuracy: 0.5067 - val_loss: 1.1725 - val_accuracy: 0.5797\n",
            "Epoch 161/500\n",
            "104/104 [==============================] - 1s 5ms/step - loss: 1.2225 - accuracy: 0.4909 - val_loss: 1.1528 - val_accuracy: 0.5894\n",
            "Epoch 162/500\n",
            "104/104 [==============================] - 1s 5ms/step - loss: 1.1899 - accuracy: 0.5320 - val_loss: 1.1552 - val_accuracy: 0.5749\n",
            "Epoch 163/500\n",
            "104/104 [==============================] - 0s 5ms/step - loss: 1.2066 - accuracy: 0.5121 - val_loss: 1.1491 - val_accuracy: 0.5845\n",
            "Epoch 164/500\n",
            "104/104 [==============================] - 1s 5ms/step - loss: 1.2032 - accuracy: 0.5272 - val_loss: 1.1653 - val_accuracy: 0.5990\n",
            "Epoch 165/500\n",
            "104/104 [==============================] - 0s 5ms/step - loss: 1.1934 - accuracy: 0.5157 - val_loss: 1.1619 - val_accuracy: 0.5797\n",
            "Epoch 166/500\n",
            "104/104 [==============================] - 0s 5ms/step - loss: 1.1912 - accuracy: 0.5206 - val_loss: 1.1302 - val_accuracy: 0.5990\n",
            "Epoch 167/500\n",
            "104/104 [==============================] - 0s 5ms/step - loss: 1.1761 - accuracy: 0.5417 - val_loss: 1.1607 - val_accuracy: 0.5894\n",
            "Epoch 168/500\n",
            "104/104 [==============================] - 0s 5ms/step - loss: 1.1754 - accuracy: 0.5181 - val_loss: 1.1694 - val_accuracy: 0.5700\n",
            "Epoch 169/500\n",
            "104/104 [==============================] - 1s 5ms/step - loss: 1.1674 - accuracy: 0.5230 - val_loss: 1.1449 - val_accuracy: 0.5942\n",
            "Epoch 170/500\n",
            "104/104 [==============================] - 1s 5ms/step - loss: 1.1674 - accuracy: 0.5290 - val_loss: 1.1393 - val_accuracy: 0.5749\n",
            "Epoch 171/500\n",
            "104/104 [==============================] - 1s 5ms/step - loss: 1.1603 - accuracy: 0.5278 - val_loss: 1.1374 - val_accuracy: 0.5845\n",
            "Epoch 172/500\n",
            "104/104 [==============================] - 1s 5ms/step - loss: 1.1644 - accuracy: 0.5326 - val_loss: 1.1426 - val_accuracy: 0.5652\n",
            "Epoch 173/500\n",
            "104/104 [==============================] - 0s 5ms/step - loss: 1.1569 - accuracy: 0.5381 - val_loss: 1.1515 - val_accuracy: 0.6039\n",
            "Epoch 174/500\n",
            "104/104 [==============================] - 1s 5ms/step - loss: 1.1633 - accuracy: 0.5326 - val_loss: 1.1272 - val_accuracy: 0.5990\n",
            "Epoch 175/500\n",
            "104/104 [==============================] - 1s 5ms/step - loss: 1.1667 - accuracy: 0.5260 - val_loss: 1.1656 - val_accuracy: 0.5845\n",
            "Epoch 176/500\n",
            "104/104 [==============================] - 0s 5ms/step - loss: 1.1629 - accuracy: 0.5266 - val_loss: 1.1440 - val_accuracy: 0.5652\n",
            "Epoch 177/500\n",
            "104/104 [==============================] - 0s 5ms/step - loss: 1.1732 - accuracy: 0.5466 - val_loss: 1.1208 - val_accuracy: 0.5990\n",
            "Epoch 178/500\n",
            "104/104 [==============================] - 0s 5ms/step - loss: 1.1461 - accuracy: 0.5466 - val_loss: 1.1308 - val_accuracy: 0.6135\n",
            "Epoch 179/500\n",
            "104/104 [==============================] - 1s 5ms/step - loss: 1.1738 - accuracy: 0.5387 - val_loss: 1.1377 - val_accuracy: 0.5990\n",
            "Epoch 180/500\n",
            "104/104 [==============================] - 1s 5ms/step - loss: 1.1668 - accuracy: 0.5308 - val_loss: 1.1221 - val_accuracy: 0.5942\n",
            "Epoch 181/500\n",
            "104/104 [==============================] - 1s 5ms/step - loss: 1.1375 - accuracy: 0.5520 - val_loss: 1.1502 - val_accuracy: 0.5749\n",
            "Epoch 182/500\n",
            "104/104 [==============================] - 1s 5ms/step - loss: 1.1532 - accuracy: 0.5417 - val_loss: 1.1239 - val_accuracy: 0.5990\n",
            "Epoch 183/500\n",
            "104/104 [==============================] - 0s 5ms/step - loss: 1.1642 - accuracy: 0.5296 - val_loss: 1.1456 - val_accuracy: 0.5894\n",
            "Epoch 184/500\n",
            "104/104 [==============================] - 1s 5ms/step - loss: 1.1469 - accuracy: 0.5405 - val_loss: 1.1022 - val_accuracy: 0.6329\n",
            "Epoch 185/500\n",
            "104/104 [==============================] - 1s 5ms/step - loss: 1.1080 - accuracy: 0.5593 - val_loss: 1.1214 - val_accuracy: 0.5894\n",
            "Epoch 186/500\n",
            "104/104 [==============================] - 1s 5ms/step - loss: 1.1262 - accuracy: 0.5423 - val_loss: 1.0908 - val_accuracy: 0.5894\n",
            "Epoch 187/500\n",
            "104/104 [==============================] - 1s 5ms/step - loss: 1.1420 - accuracy: 0.5490 - val_loss: 1.1177 - val_accuracy: 0.6039\n",
            "Epoch 188/500\n",
            "104/104 [==============================] - 1s 5ms/step - loss: 1.1274 - accuracy: 0.5593 - val_loss: 1.0986 - val_accuracy: 0.6184\n",
            "Epoch 189/500\n",
            "104/104 [==============================] - 1s 5ms/step - loss: 1.1391 - accuracy: 0.5508 - val_loss: 1.0842 - val_accuracy: 0.6425\n",
            "Epoch 190/500\n",
            "104/104 [==============================] - 1s 5ms/step - loss: 1.1243 - accuracy: 0.5478 - val_loss: 1.0871 - val_accuracy: 0.6039\n",
            "Epoch 191/500\n",
            "104/104 [==============================] - 1s 5ms/step - loss: 1.1213 - accuracy: 0.5514 - val_loss: 1.0869 - val_accuracy: 0.5990\n",
            "Epoch 192/500\n",
            "104/104 [==============================] - 1s 5ms/step - loss: 1.1250 - accuracy: 0.5496 - val_loss: 1.0733 - val_accuracy: 0.6184\n",
            "Epoch 193/500\n",
            "104/104 [==============================] - 1s 5ms/step - loss: 1.1127 - accuracy: 0.5496 - val_loss: 1.0912 - val_accuracy: 0.6039\n",
            "Epoch 194/500\n",
            "104/104 [==============================] - 1s 5ms/step - loss: 1.1175 - accuracy: 0.5508 - val_loss: 1.1004 - val_accuracy: 0.6039\n",
            "Epoch 195/500\n",
            "104/104 [==============================] - 1s 5ms/step - loss: 1.1193 - accuracy: 0.5593 - val_loss: 1.0904 - val_accuracy: 0.5990\n",
            "Epoch 196/500\n",
            "104/104 [==============================] - 1s 5ms/step - loss: 1.1183 - accuracy: 0.5508 - val_loss: 1.0743 - val_accuracy: 0.6184\n",
            "Epoch 197/500\n",
            "104/104 [==============================] - 1s 5ms/step - loss: 1.1068 - accuracy: 0.5629 - val_loss: 1.0754 - val_accuracy: 0.6232\n",
            "Epoch 198/500\n",
            "104/104 [==============================] - 1s 5ms/step - loss: 1.0880 - accuracy: 0.5738 - val_loss: 1.0665 - val_accuracy: 0.6425\n",
            "Epoch 199/500\n",
            "104/104 [==============================] - 1s 5ms/step - loss: 1.0899 - accuracy: 0.5623 - val_loss: 1.0710 - val_accuracy: 0.6425\n",
            "Epoch 200/500\n",
            "104/104 [==============================] - 0s 5ms/step - loss: 1.1147 - accuracy: 0.5574 - val_loss: 1.0739 - val_accuracy: 0.6329\n",
            "Epoch 201/500\n",
            "104/104 [==============================] - 1s 5ms/step - loss: 1.0888 - accuracy: 0.5605 - val_loss: 1.0628 - val_accuracy: 0.6135\n",
            "Epoch 202/500\n",
            "104/104 [==============================] - 1s 5ms/step - loss: 1.0750 - accuracy: 0.5719 - val_loss: 1.0492 - val_accuracy: 0.6473\n",
            "Epoch 203/500\n",
            "104/104 [==============================] - 1s 5ms/step - loss: 1.0857 - accuracy: 0.5707 - val_loss: 1.0594 - val_accuracy: 0.6280\n",
            "Epoch 204/500\n",
            "104/104 [==============================] - 1s 5ms/step - loss: 1.1067 - accuracy: 0.5647 - val_loss: 1.0547 - val_accuracy: 0.6377\n",
            "Epoch 205/500\n",
            "104/104 [==============================] - 1s 5ms/step - loss: 1.0911 - accuracy: 0.5526 - val_loss: 1.0783 - val_accuracy: 0.6329\n",
            "Epoch 206/500\n",
            "104/104 [==============================] - 1s 5ms/step - loss: 1.0937 - accuracy: 0.5605 - val_loss: 1.0542 - val_accuracy: 0.6715\n",
            "Epoch 207/500\n",
            "104/104 [==============================] - 1s 5ms/step - loss: 1.1039 - accuracy: 0.5520 - val_loss: 1.0816 - val_accuracy: 0.6232\n",
            "Epoch 208/500\n",
            "104/104 [==============================] - 1s 5ms/step - loss: 1.0850 - accuracy: 0.5792 - val_loss: 1.0682 - val_accuracy: 0.6473\n",
            "Epoch 209/500\n",
            "104/104 [==============================] - 1s 5ms/step - loss: 1.0824 - accuracy: 0.5659 - val_loss: 1.0527 - val_accuracy: 0.6522\n",
            "Epoch 210/500\n",
            "104/104 [==============================] - 1s 5ms/step - loss: 1.0804 - accuracy: 0.5695 - val_loss: 1.0761 - val_accuracy: 0.5845\n",
            "Epoch 211/500\n",
            "104/104 [==============================] - 1s 5ms/step - loss: 1.0742 - accuracy: 0.5810 - val_loss: 1.0476 - val_accuracy: 0.6232\n",
            "Epoch 212/500\n",
            "104/104 [==============================] - 1s 5ms/step - loss: 1.0813 - accuracy: 0.5780 - val_loss: 1.0498 - val_accuracy: 0.6280\n",
            "Epoch 213/500\n",
            "104/104 [==============================] - 0s 5ms/step - loss: 1.0823 - accuracy: 0.5732 - val_loss: 1.0790 - val_accuracy: 0.6087\n",
            "Epoch 214/500\n",
            "104/104 [==============================] - 0s 5ms/step - loss: 1.0616 - accuracy: 0.5859 - val_loss: 1.0593 - val_accuracy: 0.6329\n",
            "Epoch 215/500\n",
            "104/104 [==============================] - 0s 5ms/step - loss: 1.0568 - accuracy: 0.5774 - val_loss: 1.0241 - val_accuracy: 0.6715\n",
            "Epoch 216/500\n",
            "104/104 [==============================] - 1s 5ms/step - loss: 1.0616 - accuracy: 0.5719 - val_loss: 1.0662 - val_accuracy: 0.6039\n",
            "Epoch 217/500\n",
            "104/104 [==============================] - 1s 5ms/step - loss: 1.0683 - accuracy: 0.5744 - val_loss: 1.0563 - val_accuracy: 0.6087\n",
            "Epoch 218/500\n",
            "104/104 [==============================] - 1s 5ms/step - loss: 1.0633 - accuracy: 0.5677 - val_loss: 1.0587 - val_accuracy: 0.6184\n",
            "Epoch 219/500\n",
            "104/104 [==============================] - 1s 5ms/step - loss: 1.0577 - accuracy: 0.5768 - val_loss: 1.1021 - val_accuracy: 0.5942\n",
            "Epoch 220/500\n",
            "104/104 [==============================] - 1s 5ms/step - loss: 1.0379 - accuracy: 0.5883 - val_loss: 1.0345 - val_accuracy: 0.6377\n",
            "Epoch 221/500\n",
            "104/104 [==============================] - 0s 5ms/step - loss: 1.0409 - accuracy: 0.5992 - val_loss: 1.0165 - val_accuracy: 0.6377\n",
            "Epoch 222/500\n",
            "104/104 [==============================] - 1s 5ms/step - loss: 1.0739 - accuracy: 0.5732 - val_loss: 1.0442 - val_accuracy: 0.6087\n",
            "Epoch 223/500\n",
            "104/104 [==============================] - 1s 5ms/step - loss: 1.0481 - accuracy: 0.5695 - val_loss: 1.0277 - val_accuracy: 0.6232\n",
            "Epoch 224/500\n",
            "104/104 [==============================] - 1s 5ms/step - loss: 1.0378 - accuracy: 0.5937 - val_loss: 1.0322 - val_accuracy: 0.6570\n",
            "Epoch 225/500\n",
            "104/104 [==============================] - 1s 5ms/step - loss: 1.0436 - accuracy: 0.5907 - val_loss: 1.0424 - val_accuracy: 0.6232\n",
            "Epoch 226/500\n",
            "104/104 [==============================] - 1s 5ms/step - loss: 1.0592 - accuracy: 0.5834 - val_loss: 1.0278 - val_accuracy: 0.6618\n",
            "Epoch 227/500\n",
            "104/104 [==============================] - 0s 5ms/step - loss: 1.0148 - accuracy: 0.6016 - val_loss: 1.0220 - val_accuracy: 0.6473\n",
            "Epoch 228/500\n",
            "104/104 [==============================] - 0s 5ms/step - loss: 1.0224 - accuracy: 0.5967 - val_loss: 1.0451 - val_accuracy: 0.6329\n",
            "Epoch 229/500\n",
            "104/104 [==============================] - 1s 5ms/step - loss: 1.0394 - accuracy: 0.5919 - val_loss: 1.0249 - val_accuracy: 0.6329\n",
            "Epoch 230/500\n",
            "104/104 [==============================] - 1s 5ms/step - loss: 1.0295 - accuracy: 0.5877 - val_loss: 1.0066 - val_accuracy: 0.6473\n",
            "Epoch 231/500\n",
            "104/104 [==============================] - 1s 5ms/step - loss: 1.0506 - accuracy: 0.5871 - val_loss: 1.0538 - val_accuracy: 0.6039\n",
            "Epoch 232/500\n",
            "104/104 [==============================] - 1s 5ms/step - loss: 1.0233 - accuracy: 0.5925 - val_loss: 1.0281 - val_accuracy: 0.6425\n",
            "Epoch 233/500\n",
            "104/104 [==============================] - 1s 5ms/step - loss: 1.0380 - accuracy: 0.5955 - val_loss: 1.0114 - val_accuracy: 0.6425\n",
            "Epoch 234/500\n",
            "104/104 [==============================] - 1s 5ms/step - loss: 1.0193 - accuracy: 0.5992 - val_loss: 1.0187 - val_accuracy: 0.6232\n",
            "Epoch 235/500\n",
            "104/104 [==============================] - 1s 5ms/step - loss: 1.0121 - accuracy: 0.6022 - val_loss: 1.0558 - val_accuracy: 0.6135\n",
            "Epoch 236/500\n",
            "104/104 [==============================] - 1s 5ms/step - loss: 1.0292 - accuracy: 0.5937 - val_loss: 1.0110 - val_accuracy: 0.6618\n",
            "Epoch 237/500\n",
            "104/104 [==============================] - 1s 5ms/step - loss: 1.0447 - accuracy: 0.5919 - val_loss: 1.0812 - val_accuracy: 0.5797\n",
            "Epoch 238/500\n",
            "104/104 [==============================] - 1s 5ms/step - loss: 1.0234 - accuracy: 0.5961 - val_loss: 1.0160 - val_accuracy: 0.6473\n",
            "Epoch 239/500\n",
            "104/104 [==============================] - 1s 5ms/step - loss: 1.0151 - accuracy: 0.5907 - val_loss: 1.0150 - val_accuracy: 0.6329\n",
            "Epoch 240/500\n",
            "104/104 [==============================] - 1s 5ms/step - loss: 1.0182 - accuracy: 0.5967 - val_loss: 1.0294 - val_accuracy: 0.6039\n",
            "Epoch 241/500\n",
            "104/104 [==============================] - 1s 5ms/step - loss: 1.0188 - accuracy: 0.6064 - val_loss: 0.9962 - val_accuracy: 0.6570\n",
            "Epoch 242/500\n",
            "104/104 [==============================] - 0s 5ms/step - loss: 0.9891 - accuracy: 0.6046 - val_loss: 0.9877 - val_accuracy: 0.6715\n",
            "Epoch 243/500\n",
            "104/104 [==============================] - 0s 5ms/step - loss: 1.0219 - accuracy: 0.5937 - val_loss: 0.9950 - val_accuracy: 0.6329\n",
            "Epoch 244/500\n",
            "104/104 [==============================] - 0s 5ms/step - loss: 0.9901 - accuracy: 0.6209 - val_loss: 0.9982 - val_accuracy: 0.6473\n",
            "Epoch 245/500\n",
            "104/104 [==============================] - 1s 5ms/step - loss: 0.9978 - accuracy: 0.6004 - val_loss: 1.0146 - val_accuracy: 0.6522\n",
            "Epoch 246/500\n",
            "104/104 [==============================] - 0s 5ms/step - loss: 0.9910 - accuracy: 0.6155 - val_loss: 0.9919 - val_accuracy: 0.6377\n",
            "Epoch 247/500\n",
            "104/104 [==============================] - 1s 5ms/step - loss: 0.9946 - accuracy: 0.6064 - val_loss: 1.0007 - val_accuracy: 0.6377\n",
            "Epoch 248/500\n",
            "104/104 [==============================] - 1s 5ms/step - loss: 1.0000 - accuracy: 0.6010 - val_loss: 1.0174 - val_accuracy: 0.6329\n",
            "Epoch 249/500\n",
            "104/104 [==============================] - 1s 5ms/step - loss: 1.0045 - accuracy: 0.5973 - val_loss: 1.0087 - val_accuracy: 0.6377\n",
            "Epoch 250/500\n",
            "104/104 [==============================] - 1s 5ms/step - loss: 0.9907 - accuracy: 0.6046 - val_loss: 1.0009 - val_accuracy: 0.6570\n",
            "Epoch 251/500\n",
            "104/104 [==============================] - 1s 5ms/step - loss: 0.9776 - accuracy: 0.6185 - val_loss: 0.9751 - val_accuracy: 0.6667\n",
            "Epoch 252/500\n",
            "104/104 [==============================] - 0s 5ms/step - loss: 0.9997 - accuracy: 0.6004 - val_loss: 0.9891 - val_accuracy: 0.6570\n",
            "Epoch 253/500\n",
            "104/104 [==============================] - 1s 5ms/step - loss: 0.9777 - accuracy: 0.6131 - val_loss: 0.9691 - val_accuracy: 0.6667\n",
            "Epoch 254/500\n",
            "104/104 [==============================] - 0s 5ms/step - loss: 0.9774 - accuracy: 0.6245 - val_loss: 0.9957 - val_accuracy: 0.6377\n",
            "Epoch 255/500\n",
            "104/104 [==============================] - 1s 5ms/step - loss: 0.9889 - accuracy: 0.6076 - val_loss: 0.9779 - val_accuracy: 0.6715\n",
            "Epoch 256/500\n",
            "104/104 [==============================] - 1s 5ms/step - loss: 0.9837 - accuracy: 0.5907 - val_loss: 0.9809 - val_accuracy: 0.6425\n",
            "Epoch 257/500\n",
            "104/104 [==============================] - 1s 5ms/step - loss: 0.9632 - accuracy: 0.6046 - val_loss: 0.9647 - val_accuracy: 0.6860\n",
            "Epoch 258/500\n",
            "104/104 [==============================] - 1s 5ms/step - loss: 0.9661 - accuracy: 0.6252 - val_loss: 0.9574 - val_accuracy: 0.6618\n",
            "Epoch 259/500\n",
            "104/104 [==============================] - 1s 5ms/step - loss: 0.9855 - accuracy: 0.6119 - val_loss: 0.9614 - val_accuracy: 0.6667\n",
            "Epoch 260/500\n",
            "104/104 [==============================] - 1s 5ms/step - loss: 0.9724 - accuracy: 0.6252 - val_loss: 0.9683 - val_accuracy: 0.6618\n",
            "Epoch 261/500\n",
            "104/104 [==============================] - 1s 5ms/step - loss: 0.9672 - accuracy: 0.6161 - val_loss: 0.9818 - val_accuracy: 0.6473\n",
            "Epoch 262/500\n",
            "104/104 [==============================] - 1s 5ms/step - loss: 0.9597 - accuracy: 0.6233 - val_loss: 0.9551 - val_accuracy: 0.6570\n",
            "Epoch 263/500\n",
            "104/104 [==============================] - 1s 5ms/step - loss: 0.9722 - accuracy: 0.6112 - val_loss: 0.9950 - val_accuracy: 0.6329\n",
            "Epoch 264/500\n",
            "104/104 [==============================] - 1s 5ms/step - loss: 0.9661 - accuracy: 0.6191 - val_loss: 0.9620 - val_accuracy: 0.6280\n",
            "Epoch 265/500\n",
            "104/104 [==============================] - 1s 5ms/step - loss: 0.9651 - accuracy: 0.6276 - val_loss: 1.0060 - val_accuracy: 0.6425\n",
            "Epoch 266/500\n",
            "104/104 [==============================] - 1s 5ms/step - loss: 0.9733 - accuracy: 0.6270 - val_loss: 0.9604 - val_accuracy: 0.6860\n",
            "Epoch 267/500\n",
            "104/104 [==============================] - 1s 5ms/step - loss: 0.9516 - accuracy: 0.6451 - val_loss: 0.9466 - val_accuracy: 0.6908\n",
            "Epoch 268/500\n",
            "104/104 [==============================] - 1s 6ms/step - loss: 0.9621 - accuracy: 0.6143 - val_loss: 0.9579 - val_accuracy: 0.6570\n",
            "Epoch 269/500\n",
            "104/104 [==============================] - 1s 5ms/step - loss: 0.9676 - accuracy: 0.6294 - val_loss: 0.9317 - val_accuracy: 0.6812\n",
            "Epoch 270/500\n",
            "104/104 [==============================] - 1s 5ms/step - loss: 0.9507 - accuracy: 0.6233 - val_loss: 0.9684 - val_accuracy: 0.6473\n",
            "Epoch 271/500\n",
            "104/104 [==============================] - 1s 5ms/step - loss: 0.9639 - accuracy: 0.6173 - val_loss: 0.9740 - val_accuracy: 0.6377\n",
            "Epoch 272/500\n",
            "104/104 [==============================] - 1s 5ms/step - loss: 0.9696 - accuracy: 0.6258 - val_loss: 0.9466 - val_accuracy: 0.6715\n",
            "Epoch 273/500\n",
            "104/104 [==============================] - 1s 5ms/step - loss: 0.9478 - accuracy: 0.6282 - val_loss: 0.9629 - val_accuracy: 0.6570\n",
            "Epoch 274/500\n",
            "104/104 [==============================] - 1s 5ms/step - loss: 0.9528 - accuracy: 0.6264 - val_loss: 0.9556 - val_accuracy: 0.6715\n",
            "Epoch 275/500\n",
            "104/104 [==============================] - 1s 5ms/step - loss: 0.9520 - accuracy: 0.6270 - val_loss: 0.9456 - val_accuracy: 0.6473\n",
            "Epoch 276/500\n",
            "104/104 [==============================] - 1s 5ms/step - loss: 0.9492 - accuracy: 0.6245 - val_loss: 0.9413 - val_accuracy: 0.6812\n",
            "Epoch 277/500\n",
            "104/104 [==============================] - 1s 5ms/step - loss: 0.9401 - accuracy: 0.6245 - val_loss: 0.9346 - val_accuracy: 0.6908\n",
            "Epoch 278/500\n",
            "104/104 [==============================] - 1s 5ms/step - loss: 0.9257 - accuracy: 0.6397 - val_loss: 0.9291 - val_accuracy: 0.6715\n",
            "Epoch 279/500\n",
            "104/104 [==============================] - 1s 5ms/step - loss: 0.9357 - accuracy: 0.6300 - val_loss: 0.9504 - val_accuracy: 0.6570\n",
            "Epoch 280/500\n",
            "104/104 [==============================] - 1s 5ms/step - loss: 0.9344 - accuracy: 0.6336 - val_loss: 0.9485 - val_accuracy: 0.6667\n",
            "Epoch 281/500\n",
            "104/104 [==============================] - 1s 5ms/step - loss: 0.9186 - accuracy: 0.6378 - val_loss: 0.9450 - val_accuracy: 0.6763\n",
            "Epoch 282/500\n",
            "104/104 [==============================] - 1s 5ms/step - loss: 0.9167 - accuracy: 0.6330 - val_loss: 0.9701 - val_accuracy: 0.6329\n",
            "Epoch 283/500\n",
            "104/104 [==============================] - 1s 5ms/step - loss: 0.9635 - accuracy: 0.6233 - val_loss: 0.9371 - val_accuracy: 0.6908\n",
            "Epoch 284/500\n",
            "104/104 [==============================] - 1s 5ms/step - loss: 0.9352 - accuracy: 0.6288 - val_loss: 0.9434 - val_accuracy: 0.6473\n",
            "Epoch 285/500\n",
            "104/104 [==============================] - 1s 5ms/step - loss: 0.9461 - accuracy: 0.6397 - val_loss: 0.9231 - val_accuracy: 0.6860\n",
            "Epoch 286/500\n",
            "104/104 [==============================] - 1s 5ms/step - loss: 0.9166 - accuracy: 0.6348 - val_loss: 0.9441 - val_accuracy: 0.6425\n",
            "Epoch 287/500\n",
            "104/104 [==============================] - 1s 5ms/step - loss: 0.9261 - accuracy: 0.6342 - val_loss: 0.9123 - val_accuracy: 0.7005\n",
            "Epoch 288/500\n",
            "104/104 [==============================] - 1s 5ms/step - loss: 0.9275 - accuracy: 0.6330 - val_loss: 0.9369 - val_accuracy: 0.6667\n",
            "Epoch 289/500\n",
            "104/104 [==============================] - 1s 5ms/step - loss: 0.9039 - accuracy: 0.6385 - val_loss: 0.9117 - val_accuracy: 0.6570\n",
            "Epoch 290/500\n",
            "104/104 [==============================] - 1s 5ms/step - loss: 0.9271 - accuracy: 0.6324 - val_loss: 0.9355 - val_accuracy: 0.6715\n",
            "Epoch 291/500\n",
            "104/104 [==============================] - 1s 5ms/step - loss: 0.9222 - accuracy: 0.6330 - val_loss: 0.9216 - val_accuracy: 0.6667\n",
            "Epoch 292/500\n",
            "104/104 [==============================] - 1s 5ms/step - loss: 0.9245 - accuracy: 0.6360 - val_loss: 0.9316 - val_accuracy: 0.6570\n",
            "Epoch 293/500\n",
            "104/104 [==============================] - 1s 5ms/step - loss: 0.8951 - accuracy: 0.6505 - val_loss: 0.9347 - val_accuracy: 0.6763\n",
            "Epoch 294/500\n",
            "104/104 [==============================] - 1s 5ms/step - loss: 0.9201 - accuracy: 0.6288 - val_loss: 0.9131 - val_accuracy: 0.6715\n",
            "Epoch 295/500\n",
            "104/104 [==============================] - 1s 5ms/step - loss: 0.9246 - accuracy: 0.6197 - val_loss: 0.9162 - val_accuracy: 0.6908\n",
            "Epoch 296/500\n",
            "104/104 [==============================] - 1s 5ms/step - loss: 0.9211 - accuracy: 0.6300 - val_loss: 0.9284 - val_accuracy: 0.6522\n",
            "Epoch 297/500\n",
            "104/104 [==============================] - 1s 5ms/step - loss: 0.9156 - accuracy: 0.6421 - val_loss: 0.9167 - val_accuracy: 0.6957\n",
            "Epoch 298/500\n",
            "104/104 [==============================] - 1s 5ms/step - loss: 0.9052 - accuracy: 0.6445 - val_loss: 0.9278 - val_accuracy: 0.6908\n",
            "Epoch 299/500\n",
            "104/104 [==============================] - 1s 5ms/step - loss: 0.9086 - accuracy: 0.6469 - val_loss: 0.9140 - val_accuracy: 0.6763\n",
            "Epoch 300/500\n",
            "104/104 [==============================] - 1s 5ms/step - loss: 0.9120 - accuracy: 0.6391 - val_loss: 0.9263 - val_accuracy: 0.6618\n",
            "Epoch 301/500\n",
            "104/104 [==============================] - 1s 5ms/step - loss: 0.8982 - accuracy: 0.6475 - val_loss: 0.9165 - val_accuracy: 0.6812\n",
            "Epoch 302/500\n",
            "104/104 [==============================] - 1s 5ms/step - loss: 0.8838 - accuracy: 0.6578 - val_loss: 0.9382 - val_accuracy: 0.6715\n",
            "Epoch 303/500\n",
            "104/104 [==============================] - 1s 5ms/step - loss: 0.9189 - accuracy: 0.6421 - val_loss: 0.9142 - val_accuracy: 0.7101\n",
            "Epoch 304/500\n",
            "104/104 [==============================] - 1s 5ms/step - loss: 0.8950 - accuracy: 0.6487 - val_loss: 0.9199 - val_accuracy: 0.6812\n",
            "Epoch 305/500\n",
            "104/104 [==============================] - 1s 5ms/step - loss: 0.9051 - accuracy: 0.6372 - val_loss: 0.9051 - val_accuracy: 0.6812\n",
            "Epoch 306/500\n",
            "104/104 [==============================] - 1s 6ms/step - loss: 0.8899 - accuracy: 0.6457 - val_loss: 0.9341 - val_accuracy: 0.6570\n",
            "Epoch 307/500\n",
            "104/104 [==============================] - 1s 5ms/step - loss: 0.8917 - accuracy: 0.6391 - val_loss: 0.9085 - val_accuracy: 0.7053\n",
            "Epoch 308/500\n",
            "104/104 [==============================] - 1s 5ms/step - loss: 0.9017 - accuracy: 0.6433 - val_loss: 0.9155 - val_accuracy: 0.6570\n",
            "Epoch 309/500\n",
            "104/104 [==============================] - 1s 5ms/step - loss: 0.9011 - accuracy: 0.6433 - val_loss: 0.8999 - val_accuracy: 0.6812\n",
            "Epoch 310/500\n",
            "104/104 [==============================] - 1s 5ms/step - loss: 0.8781 - accuracy: 0.6717 - val_loss: 0.9137 - val_accuracy: 0.6618\n",
            "Epoch 311/500\n",
            "104/104 [==============================] - 1s 5ms/step - loss: 0.8810 - accuracy: 0.6530 - val_loss: 0.9061 - val_accuracy: 0.6908\n",
            "Epoch 312/500\n",
            "104/104 [==============================] - 1s 5ms/step - loss: 0.8876 - accuracy: 0.6536 - val_loss: 0.9062 - val_accuracy: 0.6763\n",
            "Epoch 313/500\n",
            "104/104 [==============================] - 1s 5ms/step - loss: 0.8795 - accuracy: 0.6657 - val_loss: 0.8908 - val_accuracy: 0.6812\n",
            "Epoch 314/500\n",
            "104/104 [==============================] - 1s 5ms/step - loss: 0.8963 - accuracy: 0.6663 - val_loss: 0.8956 - val_accuracy: 0.6812\n",
            "Epoch 315/500\n",
            "104/104 [==============================] - 1s 5ms/step - loss: 0.8806 - accuracy: 0.6566 - val_loss: 0.8918 - val_accuracy: 0.6908\n",
            "Epoch 316/500\n",
            "104/104 [==============================] - 1s 5ms/step - loss: 0.8977 - accuracy: 0.6548 - val_loss: 0.9169 - val_accuracy: 0.6763\n",
            "Epoch 317/500\n",
            "104/104 [==============================] - 1s 6ms/step - loss: 0.8795 - accuracy: 0.6457 - val_loss: 0.9046 - val_accuracy: 0.6715\n",
            "Epoch 318/500\n",
            "104/104 [==============================] - 1s 5ms/step - loss: 0.8773 - accuracy: 0.6602 - val_loss: 0.8987 - val_accuracy: 0.6908\n",
            "Epoch 319/500\n",
            "104/104 [==============================] - 1s 5ms/step - loss: 0.8927 - accuracy: 0.6578 - val_loss: 0.8870 - val_accuracy: 0.6860\n",
            "Epoch 320/500\n",
            "104/104 [==============================] - 1s 5ms/step - loss: 0.8973 - accuracy: 0.6457 - val_loss: 0.9112 - val_accuracy: 0.6715\n",
            "Epoch 321/500\n",
            "104/104 [==============================] - 1s 6ms/step - loss: 0.8839 - accuracy: 0.6427 - val_loss: 0.9048 - val_accuracy: 0.6715\n",
            "Epoch 322/500\n",
            "104/104 [==============================] - 1s 5ms/step - loss: 0.8905 - accuracy: 0.6481 - val_loss: 0.9369 - val_accuracy: 0.6377\n",
            "Epoch 323/500\n",
            "104/104 [==============================] - 1s 5ms/step - loss: 0.8906 - accuracy: 0.6524 - val_loss: 0.8882 - val_accuracy: 0.7101\n",
            "Epoch 324/500\n",
            "104/104 [==============================] - 1s 5ms/step - loss: 0.8934 - accuracy: 0.6463 - val_loss: 0.8872 - val_accuracy: 0.7005\n",
            "Epoch 325/500\n",
            "104/104 [==============================] - 1s 5ms/step - loss: 0.8784 - accuracy: 0.6596 - val_loss: 0.9106 - val_accuracy: 0.6908\n",
            "Epoch 326/500\n",
            "104/104 [==============================] - 1s 5ms/step - loss: 0.8656 - accuracy: 0.6681 - val_loss: 0.9030 - val_accuracy: 0.7005\n",
            "Epoch 327/500\n",
            "104/104 [==============================] - 1s 5ms/step - loss: 0.8691 - accuracy: 0.6445 - val_loss: 0.8936 - val_accuracy: 0.7150\n",
            "Epoch 328/500\n",
            "104/104 [==============================] - 1s 5ms/step - loss: 0.8586 - accuracy: 0.6723 - val_loss: 0.8849 - val_accuracy: 0.6957\n",
            "Epoch 329/500\n",
            "104/104 [==============================] - 1s 5ms/step - loss: 0.8632 - accuracy: 0.6663 - val_loss: 0.8826 - val_accuracy: 0.6957\n",
            "Epoch 330/500\n",
            "104/104 [==============================] - 1s 6ms/step - loss: 0.8782 - accuracy: 0.6638 - val_loss: 0.9117 - val_accuracy: 0.6860\n",
            "Epoch 331/500\n",
            "104/104 [==============================] - 1s 5ms/step - loss: 0.8820 - accuracy: 0.6578 - val_loss: 0.8971 - val_accuracy: 0.6812\n",
            "Epoch 332/500\n",
            "104/104 [==============================] - 1s 5ms/step - loss: 0.8562 - accuracy: 0.6536 - val_loss: 0.9037 - val_accuracy: 0.6715\n",
            "Epoch 333/500\n",
            "104/104 [==============================] - 1s 5ms/step - loss: 0.8633 - accuracy: 0.6505 - val_loss: 0.9004 - val_accuracy: 0.6957\n",
            "Epoch 334/500\n",
            "104/104 [==============================] - 1s 5ms/step - loss: 0.8606 - accuracy: 0.6518 - val_loss: 0.8810 - val_accuracy: 0.6860\n",
            "Epoch 335/500\n",
            "104/104 [==============================] - 1s 5ms/step - loss: 0.8548 - accuracy: 0.6596 - val_loss: 0.8933 - val_accuracy: 0.6908\n",
            "Epoch 336/500\n",
            "104/104 [==============================] - 1s 5ms/step - loss: 0.8703 - accuracy: 0.6651 - val_loss: 0.9075 - val_accuracy: 0.6908\n",
            "Epoch 337/500\n",
            "104/104 [==============================] - 1s 5ms/step - loss: 0.8532 - accuracy: 0.6644 - val_loss: 0.8820 - val_accuracy: 0.7150\n",
            "Epoch 338/500\n",
            "104/104 [==============================] - 1s 5ms/step - loss: 0.8659 - accuracy: 0.6644 - val_loss: 0.8639 - val_accuracy: 0.7101\n",
            "Epoch 339/500\n",
            "104/104 [==============================] - 1s 5ms/step - loss: 0.8418 - accuracy: 0.6602 - val_loss: 0.8986 - val_accuracy: 0.6908\n",
            "Epoch 340/500\n",
            "104/104 [==============================] - 1s 5ms/step - loss: 0.8562 - accuracy: 0.6681 - val_loss: 0.8761 - val_accuracy: 0.6957\n",
            "Epoch 341/500\n",
            "104/104 [==============================] - 1s 5ms/step - loss: 0.8356 - accuracy: 0.6747 - val_loss: 0.8746 - val_accuracy: 0.6763\n",
            "Epoch 342/500\n",
            "104/104 [==============================] - 1s 5ms/step - loss: 0.8459 - accuracy: 0.6729 - val_loss: 0.8784 - val_accuracy: 0.6957\n",
            "Epoch 343/500\n",
            "104/104 [==============================] - 1s 5ms/step - loss: 0.8618 - accuracy: 0.6644 - val_loss: 0.8744 - val_accuracy: 0.7005\n",
            "Epoch 344/500\n",
            "104/104 [==============================] - 1s 5ms/step - loss: 0.8541 - accuracy: 0.6638 - val_loss: 0.8711 - val_accuracy: 0.7198\n",
            "Epoch 345/500\n",
            "104/104 [==============================] - 1s 5ms/step - loss: 0.8427 - accuracy: 0.6681 - val_loss: 0.8611 - val_accuracy: 0.7150\n",
            "Epoch 346/500\n",
            "104/104 [==============================] - 1s 5ms/step - loss: 0.8393 - accuracy: 0.6729 - val_loss: 0.8806 - val_accuracy: 0.6812\n",
            "Epoch 347/500\n",
            "104/104 [==============================] - 1s 5ms/step - loss: 0.8393 - accuracy: 0.6759 - val_loss: 0.8951 - val_accuracy: 0.6715\n",
            "Epoch 348/500\n",
            "104/104 [==============================] - 1s 6ms/step - loss: 0.8259 - accuracy: 0.6771 - val_loss: 0.8944 - val_accuracy: 0.6812\n",
            "Epoch 349/500\n",
            "104/104 [==============================] - 1s 5ms/step - loss: 0.8410 - accuracy: 0.6717 - val_loss: 0.8565 - val_accuracy: 0.7150\n",
            "Epoch 350/500\n",
            "104/104 [==============================] - 1s 5ms/step - loss: 0.8240 - accuracy: 0.6729 - val_loss: 0.8927 - val_accuracy: 0.6763\n",
            "Epoch 351/500\n",
            "104/104 [==============================] - 1s 5ms/step - loss: 0.8485 - accuracy: 0.6741 - val_loss: 0.8905 - val_accuracy: 0.6570\n",
            "Epoch 352/500\n",
            "104/104 [==============================] - 1s 5ms/step - loss: 0.8275 - accuracy: 0.6705 - val_loss: 0.8795 - val_accuracy: 0.6667\n",
            "Epoch 353/500\n",
            "104/104 [==============================] - 1s 5ms/step - loss: 0.8564 - accuracy: 0.6596 - val_loss: 0.8708 - val_accuracy: 0.7053\n",
            "Epoch 354/500\n",
            "104/104 [==============================] - 1s 6ms/step - loss: 0.8357 - accuracy: 0.6614 - val_loss: 0.8624 - val_accuracy: 0.7198\n",
            "Epoch 355/500\n",
            "104/104 [==============================] - 1s 5ms/step - loss: 0.8103 - accuracy: 0.6838 - val_loss: 0.8468 - val_accuracy: 0.7150\n",
            "Epoch 356/500\n",
            "104/104 [==============================] - 1s 5ms/step - loss: 0.8321 - accuracy: 0.6699 - val_loss: 0.8515 - val_accuracy: 0.7101\n",
            "Epoch 357/500\n",
            "104/104 [==============================] - 1s 5ms/step - loss: 0.8409 - accuracy: 0.6814 - val_loss: 0.8481 - val_accuracy: 0.7005\n",
            "Epoch 358/500\n",
            "104/104 [==============================] - 1s 5ms/step - loss: 0.8161 - accuracy: 0.6778 - val_loss: 0.8634 - val_accuracy: 0.6860\n",
            "Epoch 359/500\n",
            "104/104 [==============================] - 1s 5ms/step - loss: 0.8230 - accuracy: 0.6778 - val_loss: 0.8410 - val_accuracy: 0.7053\n",
            "Epoch 360/500\n",
            "104/104 [==============================] - 1s 5ms/step - loss: 0.8307 - accuracy: 0.6693 - val_loss: 0.8550 - val_accuracy: 0.7053\n",
            "Epoch 361/500\n",
            "104/104 [==============================] - 1s 5ms/step - loss: 0.8079 - accuracy: 0.6947 - val_loss: 0.8633 - val_accuracy: 0.6957\n",
            "Epoch 362/500\n",
            "104/104 [==============================] - 1s 5ms/step - loss: 0.8353 - accuracy: 0.6753 - val_loss: 0.8769 - val_accuracy: 0.6667\n",
            "Epoch 363/500\n",
            "104/104 [==============================] - 1s 5ms/step - loss: 0.8159 - accuracy: 0.6820 - val_loss: 0.8585 - val_accuracy: 0.6908\n",
            "Epoch 364/500\n",
            "104/104 [==============================] - 1s 6ms/step - loss: 0.8470 - accuracy: 0.6753 - val_loss: 0.8751 - val_accuracy: 0.6618\n",
            "Epoch 365/500\n",
            "104/104 [==============================] - 1s 5ms/step - loss: 0.8454 - accuracy: 0.6638 - val_loss: 0.8662 - val_accuracy: 0.6908\n",
            "Epoch 366/500\n",
            "104/104 [==============================] - 1s 5ms/step - loss: 0.8268 - accuracy: 0.6735 - val_loss: 0.8703 - val_accuracy: 0.6763\n",
            "Epoch 367/500\n",
            "104/104 [==============================] - 1s 6ms/step - loss: 0.8301 - accuracy: 0.6735 - val_loss: 0.8602 - val_accuracy: 0.6957\n",
            "Epoch 368/500\n",
            "104/104 [==============================] - 1s 5ms/step - loss: 0.8200 - accuracy: 0.6778 - val_loss: 0.8782 - val_accuracy: 0.6860\n",
            "Epoch 369/500\n",
            "104/104 [==============================] - 1s 5ms/step - loss: 0.8251 - accuracy: 0.6765 - val_loss: 0.8804 - val_accuracy: 0.6667\n",
            "Epoch 370/500\n",
            "104/104 [==============================] - 1s 5ms/step - loss: 0.8168 - accuracy: 0.6790 - val_loss: 0.8910 - val_accuracy: 0.6522\n",
            "Epoch 371/500\n",
            "104/104 [==============================] - 1s 6ms/step - loss: 0.8037 - accuracy: 0.6880 - val_loss: 0.8483 - val_accuracy: 0.7101\n",
            "Epoch 372/500\n",
            "104/104 [==============================] - 1s 5ms/step - loss: 0.7917 - accuracy: 0.6892 - val_loss: 0.8661 - val_accuracy: 0.6618\n",
            "Epoch 373/500\n",
            "104/104 [==============================] - 1s 5ms/step - loss: 0.8344 - accuracy: 0.6669 - val_loss: 0.8647 - val_accuracy: 0.6667\n",
            "Epoch 374/500\n",
            "104/104 [==============================] - 1s 5ms/step - loss: 0.8343 - accuracy: 0.6481 - val_loss: 0.8652 - val_accuracy: 0.6908\n",
            "Epoch 375/500\n",
            "104/104 [==============================] - 1s 5ms/step - loss: 0.8242 - accuracy: 0.6759 - val_loss: 0.8537 - val_accuracy: 0.6957\n",
            "Epoch 376/500\n",
            "104/104 [==============================] - 1s 5ms/step - loss: 0.8290 - accuracy: 0.6778 - val_loss: 0.8391 - val_accuracy: 0.7005\n",
            "Epoch 377/500\n",
            "104/104 [==============================] - 1s 5ms/step - loss: 0.8139 - accuracy: 0.6681 - val_loss: 0.8411 - val_accuracy: 0.7053\n",
            "Epoch 378/500\n",
            "104/104 [==============================] - 1s 5ms/step - loss: 0.7979 - accuracy: 0.6747 - val_loss: 0.8385 - val_accuracy: 0.7005\n",
            "Epoch 379/500\n",
            "104/104 [==============================] - 1s 5ms/step - loss: 0.8084 - accuracy: 0.6844 - val_loss: 0.8367 - val_accuracy: 0.6957\n",
            "Epoch 380/500\n",
            "104/104 [==============================] - 1s 6ms/step - loss: 0.7781 - accuracy: 0.6977 - val_loss: 0.8699 - val_accuracy: 0.6763\n",
            "Epoch 381/500\n",
            "104/104 [==============================] - 1s 5ms/step - loss: 0.8125 - accuracy: 0.6838 - val_loss: 0.8551 - val_accuracy: 0.6957\n",
            "Epoch 382/500\n",
            "104/104 [==============================] - 1s 5ms/step - loss: 0.8015 - accuracy: 0.6886 - val_loss: 0.8443 - val_accuracy: 0.6860\n",
            "Epoch 383/500\n",
            "104/104 [==============================] - 1s 5ms/step - loss: 0.7896 - accuracy: 0.6898 - val_loss: 0.8445 - val_accuracy: 0.7198\n",
            "Epoch 384/500\n",
            "104/104 [==============================] - 1s 5ms/step - loss: 0.7992 - accuracy: 0.7019 - val_loss: 0.8560 - val_accuracy: 0.6957\n",
            "Epoch 385/500\n",
            "104/104 [==============================] - 1s 5ms/step - loss: 0.7913 - accuracy: 0.6941 - val_loss: 0.8267 - val_accuracy: 0.7198\n",
            "Epoch 386/500\n",
            "104/104 [==============================] - 1s 5ms/step - loss: 0.8003 - accuracy: 0.7056 - val_loss: 0.8402 - val_accuracy: 0.6860\n",
            "Epoch 387/500\n",
            "104/104 [==============================] - 1s 6ms/step - loss: 0.7912 - accuracy: 0.6947 - val_loss: 0.8288 - val_accuracy: 0.7150\n",
            "Epoch 388/500\n",
            "104/104 [==============================] - 1s 5ms/step - loss: 0.7677 - accuracy: 0.6935 - val_loss: 0.8429 - val_accuracy: 0.7440\n",
            "Epoch 389/500\n",
            "104/104 [==============================] - 1s 5ms/step - loss: 0.8058 - accuracy: 0.6790 - val_loss: 0.8430 - val_accuracy: 0.6812\n",
            "Epoch 390/500\n",
            "104/104 [==============================] - 1s 5ms/step - loss: 0.7922 - accuracy: 0.6989 - val_loss: 0.8244 - val_accuracy: 0.7101\n",
            "Epoch 391/500\n",
            "104/104 [==============================] - 1s 5ms/step - loss: 0.7831 - accuracy: 0.6898 - val_loss: 0.8370 - val_accuracy: 0.6957\n",
            "Epoch 392/500\n",
            "104/104 [==============================] - 1s 5ms/step - loss: 0.8026 - accuracy: 0.6850 - val_loss: 0.8107 - val_accuracy: 0.7246\n",
            "Epoch 393/500\n",
            "104/104 [==============================] - 1s 5ms/step - loss: 0.7953 - accuracy: 0.6947 - val_loss: 0.8364 - val_accuracy: 0.7005\n",
            "Epoch 394/500\n",
            "104/104 [==============================] - 1s 5ms/step - loss: 0.7968 - accuracy: 0.6699 - val_loss: 0.8233 - val_accuracy: 0.7246\n",
            "Epoch 395/500\n",
            "104/104 [==============================] - 1s 5ms/step - loss: 0.7942 - accuracy: 0.6874 - val_loss: 0.8141 - val_accuracy: 0.7295\n",
            "Epoch 396/500\n",
            "104/104 [==============================] - 1s 5ms/step - loss: 0.7768 - accuracy: 0.6983 - val_loss: 0.8362 - val_accuracy: 0.7053\n",
            "Epoch 397/500\n",
            "104/104 [==============================] - 1s 5ms/step - loss: 0.7863 - accuracy: 0.6923 - val_loss: 0.8312 - val_accuracy: 0.7246\n",
            "Epoch 398/500\n",
            "104/104 [==============================] - 1s 6ms/step - loss: 0.7787 - accuracy: 0.6977 - val_loss: 0.8288 - val_accuracy: 0.7198\n",
            "Epoch 399/500\n",
            "104/104 [==============================] - 1s 6ms/step - loss: 0.7876 - accuracy: 0.6808 - val_loss: 0.8291 - val_accuracy: 0.7053\n",
            "Epoch 400/500\n",
            "104/104 [==============================] - 1s 6ms/step - loss: 0.7992 - accuracy: 0.6856 - val_loss: 0.8724 - val_accuracy: 0.6667\n",
            "Epoch 401/500\n",
            "104/104 [==============================] - 1s 5ms/step - loss: 0.7838 - accuracy: 0.6911 - val_loss: 0.8316 - val_accuracy: 0.6908\n",
            "Epoch 402/500\n",
            "104/104 [==============================] - 1s 5ms/step - loss: 0.7847 - accuracy: 0.6911 - val_loss: 0.8207 - val_accuracy: 0.7198\n",
            "Epoch 403/500\n",
            "104/104 [==============================] - 1s 5ms/step - loss: 0.8016 - accuracy: 0.6868 - val_loss: 0.8476 - val_accuracy: 0.6715\n",
            "Epoch 404/500\n",
            "104/104 [==============================] - 1s 5ms/step - loss: 0.7822 - accuracy: 0.6911 - val_loss: 0.8429 - val_accuracy: 0.6812\n",
            "Epoch 405/500\n",
            "104/104 [==============================] - 1s 6ms/step - loss: 0.7883 - accuracy: 0.6929 - val_loss: 0.8199 - val_accuracy: 0.7101\n",
            "Epoch 406/500\n",
            "104/104 [==============================] - 1s 5ms/step - loss: 0.7900 - accuracy: 0.6904 - val_loss: 0.8273 - val_accuracy: 0.6908\n",
            "Epoch 407/500\n",
            "104/104 [==============================] - 1s 6ms/step - loss: 0.7717 - accuracy: 0.7110 - val_loss: 0.8248 - val_accuracy: 0.7053\n",
            "Epoch 408/500\n",
            "104/104 [==============================] - 1s 5ms/step - loss: 0.7772 - accuracy: 0.6886 - val_loss: 0.8329 - val_accuracy: 0.6812\n",
            "Epoch 409/500\n",
            "104/104 [==============================] - 1s 5ms/step - loss: 0.8032 - accuracy: 0.6959 - val_loss: 0.8310 - val_accuracy: 0.6957\n",
            "Epoch 410/500\n",
            "104/104 [==============================] - 1s 6ms/step - loss: 0.7661 - accuracy: 0.7086 - val_loss: 0.8419 - val_accuracy: 0.7005\n",
            "Epoch 411/500\n",
            "104/104 [==============================] - 1s 6ms/step - loss: 0.7749 - accuracy: 0.6935 - val_loss: 0.8234 - val_accuracy: 0.7246\n",
            "Epoch 412/500\n",
            "104/104 [==============================] - 1s 6ms/step - loss: 0.7752 - accuracy: 0.6886 - val_loss: 0.8202 - val_accuracy: 0.6860\n",
            "Epoch 413/500\n",
            "104/104 [==============================] - 1s 5ms/step - loss: 0.7578 - accuracy: 0.7007 - val_loss: 0.8569 - val_accuracy: 0.6860\n",
            "Epoch 414/500\n",
            "104/104 [==============================] - 1s 5ms/step - loss: 0.7745 - accuracy: 0.6959 - val_loss: 0.8255 - val_accuracy: 0.6763\n",
            "Epoch 415/500\n",
            "104/104 [==============================] - 1s 5ms/step - loss: 0.7514 - accuracy: 0.7092 - val_loss: 0.8042 - val_accuracy: 0.7198\n",
            "Epoch 416/500\n",
            "104/104 [==============================] - 1s 5ms/step - loss: 0.7631 - accuracy: 0.6971 - val_loss: 0.8434 - val_accuracy: 0.6667\n",
            "Epoch 417/500\n",
            "104/104 [==============================] - 1s 5ms/step - loss: 0.7717 - accuracy: 0.7086 - val_loss: 0.8034 - val_accuracy: 0.7150\n",
            "Epoch 418/500\n",
            "104/104 [==============================] - 1s 5ms/step - loss: 0.7650 - accuracy: 0.7025 - val_loss: 0.8114 - val_accuracy: 0.7053\n",
            "Epoch 419/500\n",
            "104/104 [==============================] - 1s 5ms/step - loss: 0.7632 - accuracy: 0.6995 - val_loss: 0.8132 - val_accuracy: 0.7053\n",
            "Epoch 420/500\n",
            "104/104 [==============================] - 1s 5ms/step - loss: 0.7703 - accuracy: 0.6923 - val_loss: 0.7971 - val_accuracy: 0.7343\n",
            "Epoch 421/500\n",
            "104/104 [==============================] - 1s 5ms/step - loss: 0.7785 - accuracy: 0.6935 - val_loss: 0.8040 - val_accuracy: 0.7005\n",
            "Epoch 422/500\n",
            "104/104 [==============================] - 1s 5ms/step - loss: 0.7541 - accuracy: 0.7056 - val_loss: 0.8098 - val_accuracy: 0.6570\n",
            "Epoch 423/500\n",
            "104/104 [==============================] - 1s 5ms/step - loss: 0.7612 - accuracy: 0.7007 - val_loss: 0.8346 - val_accuracy: 0.6618\n",
            "Epoch 424/500\n",
            "104/104 [==============================] - 1s 5ms/step - loss: 0.7615 - accuracy: 0.7056 - val_loss: 0.8027 - val_accuracy: 0.7005\n",
            "Epoch 425/500\n",
            "104/104 [==============================] - 1s 6ms/step - loss: 0.7597 - accuracy: 0.7056 - val_loss: 0.8030 - val_accuracy: 0.7053\n",
            "Epoch 426/500\n",
            "104/104 [==============================] - 1s 6ms/step - loss: 0.7499 - accuracy: 0.7013 - val_loss: 0.8126 - val_accuracy: 0.7391\n",
            "Epoch 427/500\n",
            "104/104 [==============================] - 1s 6ms/step - loss: 0.7490 - accuracy: 0.7116 - val_loss: 0.8378 - val_accuracy: 0.6812\n",
            "Epoch 428/500\n",
            "104/104 [==============================] - 1s 5ms/step - loss: 0.7552 - accuracy: 0.7013 - val_loss: 0.7997 - val_accuracy: 0.6812\n",
            "Epoch 429/500\n",
            "104/104 [==============================] - 1s 5ms/step - loss: 0.7597 - accuracy: 0.7062 - val_loss: 0.8071 - val_accuracy: 0.6957\n",
            "Epoch 430/500\n",
            "104/104 [==============================] - 1s 5ms/step - loss: 0.7574 - accuracy: 0.7122 - val_loss: 0.8172 - val_accuracy: 0.6860\n",
            "Epoch 431/500\n",
            "104/104 [==============================] - 1s 5ms/step - loss: 0.7590 - accuracy: 0.7128 - val_loss: 0.8180 - val_accuracy: 0.6763\n",
            "Epoch 432/500\n",
            "104/104 [==============================] - 1s 6ms/step - loss: 0.7246 - accuracy: 0.7122 - val_loss: 0.8006 - val_accuracy: 0.7101\n",
            "Epoch 433/500\n",
            "104/104 [==============================] - 1s 5ms/step - loss: 0.7622 - accuracy: 0.7037 - val_loss: 0.8165 - val_accuracy: 0.6908\n",
            "Epoch 434/500\n",
            "104/104 [==============================] - 1s 5ms/step - loss: 0.7548 - accuracy: 0.7110 - val_loss: 0.8033 - val_accuracy: 0.6812\n",
            "Epoch 435/500\n",
            "104/104 [==============================] - 1s 5ms/step - loss: 0.7577 - accuracy: 0.7001 - val_loss: 0.7994 - val_accuracy: 0.6957\n",
            "Epoch 436/500\n",
            "104/104 [==============================] - 1s 5ms/step - loss: 0.7496 - accuracy: 0.7019 - val_loss: 0.8002 - val_accuracy: 0.6860\n",
            "Epoch 437/500\n",
            "104/104 [==============================] - 1s 5ms/step - loss: 0.7519 - accuracy: 0.7031 - val_loss: 0.8066 - val_accuracy: 0.7150\n",
            "Epoch 438/500\n",
            "104/104 [==============================] - 1s 5ms/step - loss: 0.7534 - accuracy: 0.7044 - val_loss: 0.8118 - val_accuracy: 0.6812\n",
            "Epoch 439/500\n",
            "104/104 [==============================] - 1s 5ms/step - loss: 0.7291 - accuracy: 0.7146 - val_loss: 0.8110 - val_accuracy: 0.6860\n",
            "Epoch 440/500\n",
            "104/104 [==============================] - 1s 6ms/step - loss: 0.7634 - accuracy: 0.6953 - val_loss: 0.8271 - val_accuracy: 0.6425\n",
            "Epoch 441/500\n",
            "104/104 [==============================] - 1s 6ms/step - loss: 0.7228 - accuracy: 0.7146 - val_loss: 0.8101 - val_accuracy: 0.6812\n",
            "Epoch 442/500\n",
            "104/104 [==============================] - 1s 6ms/step - loss: 0.7530 - accuracy: 0.7189 - val_loss: 0.8232 - val_accuracy: 0.6812\n",
            "Epoch 443/500\n",
            "104/104 [==============================] - 1s 5ms/step - loss: 0.7466 - accuracy: 0.7068 - val_loss: 0.8022 - val_accuracy: 0.6860\n",
            "Epoch 444/500\n",
            "104/104 [==============================] - 1s 6ms/step - loss: 0.7368 - accuracy: 0.7086 - val_loss: 0.8129 - val_accuracy: 0.6860\n",
            "Epoch 445/500\n",
            "104/104 [==============================] - 1s 6ms/step - loss: 0.7471 - accuracy: 0.7013 - val_loss: 0.8210 - val_accuracy: 0.7005\n",
            "Epoch 446/500\n",
            "104/104 [==============================] - 1s 6ms/step - loss: 0.7456 - accuracy: 0.7068 - val_loss: 0.7928 - val_accuracy: 0.7053\n",
            "Epoch 447/500\n",
            "104/104 [==============================] - 1s 5ms/step - loss: 0.7446 - accuracy: 0.6965 - val_loss: 0.8074 - val_accuracy: 0.6908\n",
            "Epoch 448/500\n",
            "104/104 [==============================] - 1s 5ms/step - loss: 0.7214 - accuracy: 0.7152 - val_loss: 0.8045 - val_accuracy: 0.7101\n",
            "Epoch 449/500\n",
            "104/104 [==============================] - 1s 5ms/step - loss: 0.7363 - accuracy: 0.7201 - val_loss: 0.7955 - val_accuracy: 0.7053\n",
            "Epoch 450/500\n",
            "104/104 [==============================] - 1s 5ms/step - loss: 0.7237 - accuracy: 0.7086 - val_loss: 0.7876 - val_accuracy: 0.6908\n",
            "Epoch 451/500\n",
            "104/104 [==============================] - 1s 5ms/step - loss: 0.7436 - accuracy: 0.7056 - val_loss: 0.7958 - val_accuracy: 0.7391\n",
            "Epoch 452/500\n",
            "104/104 [==============================] - 1s 6ms/step - loss: 0.7299 - accuracy: 0.7195 - val_loss: 0.8015 - val_accuracy: 0.6715\n",
            "Epoch 453/500\n",
            "104/104 [==============================] - 1s 5ms/step - loss: 0.7301 - accuracy: 0.7213 - val_loss: 0.7853 - val_accuracy: 0.7343\n",
            "Epoch 454/500\n",
            "104/104 [==============================] - 1s 5ms/step - loss: 0.7036 - accuracy: 0.7291 - val_loss: 0.8042 - val_accuracy: 0.7101\n",
            "Epoch 455/500\n",
            "104/104 [==============================] - 1s 5ms/step - loss: 0.7362 - accuracy: 0.7092 - val_loss: 0.7734 - val_accuracy: 0.7005\n",
            "Epoch 456/500\n",
            "104/104 [==============================] - 1s 5ms/step - loss: 0.7091 - accuracy: 0.7249 - val_loss: 0.7844 - val_accuracy: 0.7198\n",
            "Epoch 457/500\n",
            "104/104 [==============================] - 1s 5ms/step - loss: 0.7134 - accuracy: 0.7219 - val_loss: 0.7787 - val_accuracy: 0.7198\n",
            "Epoch 458/500\n",
            "104/104 [==============================] - 1s 6ms/step - loss: 0.7192 - accuracy: 0.7170 - val_loss: 0.7786 - val_accuracy: 0.7005\n",
            "Epoch 459/500\n",
            "104/104 [==============================] - 1s 5ms/step - loss: 0.7276 - accuracy: 0.7140 - val_loss: 0.7901 - val_accuracy: 0.6860\n",
            "Epoch 460/500\n",
            "104/104 [==============================] - 1s 5ms/step - loss: 0.7094 - accuracy: 0.7116 - val_loss: 0.7874 - val_accuracy: 0.6957\n",
            "Epoch 461/500\n",
            "104/104 [==============================] - 1s 5ms/step - loss: 0.7230 - accuracy: 0.7195 - val_loss: 0.8059 - val_accuracy: 0.6812\n",
            "Epoch 462/500\n",
            "104/104 [==============================] - 1s 6ms/step - loss: 0.7271 - accuracy: 0.7086 - val_loss: 0.8025 - val_accuracy: 0.6812\n",
            "Epoch 463/500\n",
            "104/104 [==============================] - 1s 5ms/step - loss: 0.7232 - accuracy: 0.7195 - val_loss: 0.7817 - val_accuracy: 0.7391\n",
            "Epoch 464/500\n",
            "104/104 [==============================] - 1s 6ms/step - loss: 0.7177 - accuracy: 0.7316 - val_loss: 0.8102 - val_accuracy: 0.6763\n",
            "Epoch 465/500\n",
            "104/104 [==============================] - 1s 5ms/step - loss: 0.7026 - accuracy: 0.7213 - val_loss: 0.7879 - val_accuracy: 0.7198\n",
            "Epoch 466/500\n",
            "104/104 [==============================] - 1s 6ms/step - loss: 0.7162 - accuracy: 0.7158 - val_loss: 0.7847 - val_accuracy: 0.7246\n",
            "Epoch 467/500\n",
            "104/104 [==============================] - 1s 5ms/step - loss: 0.6923 - accuracy: 0.7400 - val_loss: 0.8140 - val_accuracy: 0.6860\n",
            "Epoch 468/500\n",
            "104/104 [==============================] - 1s 5ms/step - loss: 0.7002 - accuracy: 0.7358 - val_loss: 0.7881 - val_accuracy: 0.7246\n",
            "Epoch 469/500\n",
            "104/104 [==============================] - 1s 5ms/step - loss: 0.7057 - accuracy: 0.7310 - val_loss: 0.7706 - val_accuracy: 0.7150\n",
            "Epoch 470/500\n",
            "104/104 [==============================] - 1s 5ms/step - loss: 0.6826 - accuracy: 0.7340 - val_loss: 0.7912 - val_accuracy: 0.6812\n",
            "Epoch 471/500\n",
            "104/104 [==============================] - 1s 5ms/step - loss: 0.7416 - accuracy: 0.7195 - val_loss: 0.7950 - val_accuracy: 0.6957\n",
            "Epoch 472/500\n",
            "104/104 [==============================] - 1s 5ms/step - loss: 0.6984 - accuracy: 0.7273 - val_loss: 0.7742 - val_accuracy: 0.7150\n",
            "Epoch 473/500\n",
            "104/104 [==============================] - 1s 6ms/step - loss: 0.7107 - accuracy: 0.7279 - val_loss: 0.7857 - val_accuracy: 0.7101\n",
            "Epoch 474/500\n",
            "104/104 [==============================] - 1s 5ms/step - loss: 0.7049 - accuracy: 0.7237 - val_loss: 0.8058 - val_accuracy: 0.7198\n",
            "Epoch 475/500\n",
            "104/104 [==============================] - 1s 6ms/step - loss: 0.7093 - accuracy: 0.7195 - val_loss: 0.7857 - val_accuracy: 0.7295\n",
            "Epoch 476/500\n",
            "104/104 [==============================] - 1s 5ms/step - loss: 0.7027 - accuracy: 0.7358 - val_loss: 0.8005 - val_accuracy: 0.7053\n",
            "Epoch 477/500\n",
            "104/104 [==============================] - 1s 6ms/step - loss: 0.6940 - accuracy: 0.7334 - val_loss: 0.7974 - val_accuracy: 0.7053\n",
            "Epoch 478/500\n",
            "104/104 [==============================] - 1s 6ms/step - loss: 0.7035 - accuracy: 0.7249 - val_loss: 0.7849 - val_accuracy: 0.6908\n",
            "Epoch 479/500\n",
            "104/104 [==============================] - 1s 6ms/step - loss: 0.7103 - accuracy: 0.7358 - val_loss: 0.7928 - val_accuracy: 0.6618\n",
            "Epoch 480/500\n",
            "104/104 [==============================] - 1s 6ms/step - loss: 0.7099 - accuracy: 0.7201 - val_loss: 0.8039 - val_accuracy: 0.6618\n",
            "Epoch 481/500\n",
            "104/104 [==============================] - 1s 5ms/step - loss: 0.7112 - accuracy: 0.7273 - val_loss: 0.7890 - val_accuracy: 0.6908\n",
            "Epoch 482/500\n",
            "104/104 [==============================] - 1s 6ms/step - loss: 0.6798 - accuracy: 0.7267 - val_loss: 0.7784 - val_accuracy: 0.7053\n",
            "Epoch 483/500\n",
            "104/104 [==============================] - 1s 6ms/step - loss: 0.6977 - accuracy: 0.7273 - val_loss: 0.7873 - val_accuracy: 0.6908\n",
            "Epoch 484/500\n",
            "104/104 [==============================] - 1s 5ms/step - loss: 0.6877 - accuracy: 0.7291 - val_loss: 0.7807 - val_accuracy: 0.6715\n",
            "Epoch 485/500\n",
            "104/104 [==============================] - 1s 6ms/step - loss: 0.7221 - accuracy: 0.7213 - val_loss: 0.7753 - val_accuracy: 0.7101\n",
            "Epoch 486/500\n",
            "104/104 [==============================] - 1s 6ms/step - loss: 0.6805 - accuracy: 0.7297 - val_loss: 0.8075 - val_accuracy: 0.6908\n",
            "Epoch 487/500\n",
            "104/104 [==============================] - 1s 5ms/step - loss: 0.7246 - accuracy: 0.7158 - val_loss: 0.7705 - val_accuracy: 0.7343\n",
            "Epoch 488/500\n",
            "104/104 [==============================] - 1s 5ms/step - loss: 0.6989 - accuracy: 0.7195 - val_loss: 0.7848 - val_accuracy: 0.6908\n",
            "Epoch 489/500\n",
            "104/104 [==============================] - 1s 6ms/step - loss: 0.6908 - accuracy: 0.7285 - val_loss: 0.8082 - val_accuracy: 0.6908\n",
            "Epoch 490/500\n",
            "104/104 [==============================] - 1s 6ms/step - loss: 0.6842 - accuracy: 0.7364 - val_loss: 0.7552 - val_accuracy: 0.7295\n",
            "Epoch 491/500\n",
            "104/104 [==============================] - 1s 5ms/step - loss: 0.6801 - accuracy: 0.7364 - val_loss: 0.7701 - val_accuracy: 0.7005\n",
            "Epoch 492/500\n",
            "104/104 [==============================] - 1s 6ms/step - loss: 0.6999 - accuracy: 0.7328 - val_loss: 0.7709 - val_accuracy: 0.7101\n",
            "Epoch 493/500\n",
            "104/104 [==============================] - 1s 5ms/step - loss: 0.7018 - accuracy: 0.7183 - val_loss: 0.7690 - val_accuracy: 0.7198\n",
            "Epoch 494/500\n",
            "104/104 [==============================] - 1s 5ms/step - loss: 0.6757 - accuracy: 0.7297 - val_loss: 0.7578 - val_accuracy: 0.7246\n",
            "Epoch 495/500\n",
            "104/104 [==============================] - 1s 5ms/step - loss: 0.6867 - accuracy: 0.7328 - val_loss: 0.7657 - val_accuracy: 0.6957\n",
            "Epoch 496/500\n",
            "104/104 [==============================] - 1s 6ms/step - loss: 0.6887 - accuracy: 0.7400 - val_loss: 0.7550 - val_accuracy: 0.7198\n",
            "Epoch 497/500\n",
            "104/104 [==============================] - 1s 5ms/step - loss: 0.6756 - accuracy: 0.7297 - val_loss: 0.7607 - val_accuracy: 0.7150\n",
            "Epoch 498/500\n",
            "104/104 [==============================] - 1s 5ms/step - loss: 0.6910 - accuracy: 0.7146 - val_loss: 0.7692 - val_accuracy: 0.7053\n",
            "Epoch 499/500\n",
            "104/104 [==============================] - 1s 5ms/step - loss: 0.6733 - accuracy: 0.7310 - val_loss: 0.7737 - val_accuracy: 0.7005\n",
            "Epoch 500/500\n",
            "104/104 [==============================] - 1s 5ms/step - loss: 0.6903 - accuracy: 0.7376 - val_loss: 0.7942 - val_accuracy: 0.7053\n"
          ]
        }
      ]
    },
    {
      "cell_type": "code",
      "source": [
        "plt.plot(cnnhistory.history['loss'])\n",
        "plt.plot(cnnhistory.history['val_loss'])\n",
        "plt.title('model loss')\n",
        "plt.ylabel('loss')\n",
        "plt.xlabel('epoch')\n",
        "plt.legend(['train','test'], loc='upper left')\n",
        "plt.show()"
      ],
      "metadata": {
        "colab": {
          "base_uri": "https://localhost:8080/",
          "height": 295
        },
        "id": "oQYnuaCrDH_A",
        "outputId": "e41d8591-4084-4d1f-abbf-685b40c12f82"
      },
      "execution_count": 20,
      "outputs": [
        {
          "output_type": "display_data",
          "data": {
            "text/plain": [
              "<Figure size 432x288 with 1 Axes>"
            ],
            "image/png": "[encoded data removed]"
          },
          "metadata": {
            "needs_background": "light"
          }
        }
      ]
    },
    {
      "cell_type": "code",
      "source": [
        "plt.plot(cnnhistory.history['accuracy'])\n",
        "plt.plot(cnnhistory.history['val_accuracy'])\n",
        "plt.title('model accuracy')\n",
        "plt.ylabel('accuracy')\n",
        "plt.xlabel('epoch')\n",
        "plt.legend(['train','test'], loc='upper left')\n",
        "plt.show()"
      ],
      "metadata": {
        "colab": {
          "base_uri": "https://localhost:8080/",
          "height": 295
        },
        "id": "IFkTuO8nDNdq",
        "outputId": "f4319e20-12a9-4ced-ccbc-b89960b512b4"
      },
      "execution_count": 21,
      "outputs": [
        {
          "output_type": "display_data",
          "data": {
            "text/plain": [
              "<Figure size 432x288 with 1 Axes>"
            ],
            "image/png": "[encoded data removed]"
          },
          "metadata": {
            "needs_background": "light"
          }
        }
      ]
    },
    {
      "cell_type": "code",
      "source": [
        "#predictions = model.predict_classes(x_testcnn)\n",
        "predictions = model.predict(x_testcnn)"
      ],
      "metadata": {
        "id": "A2xtrN5wDQgY"
      },
      "execution_count": 22,
      "outputs": []
    },
    {
      "cell_type": "code",
      "source": [
        "predictions"
      ],
      "metadata": {
        "colab": {
          "base_uri": "https://localhost:8080/"
        },
        "id": "_f_ohjXKDUpY",
        "outputId": "8d5e9469-ed8e-4b57-dc4d-4b7af4261f98"
      },
      "execution_count": 23,
      "outputs": [
        {
          "output_type": "execute_result",
          "data": {
            "text/plain": [
              "array([[1.85435259e-04, 7.07351574e-05, 2.02663783e-02, 1.47818625e-02,\n",
              "        3.26853096e-02, 9.32010293e-01],\n",
              "       [1.83774367e-01, 4.58934069e-01, 9.44179371e-02, 1.25581026e-01,\n",
              "        5.17759025e-02, 8.55167955e-02],\n",
              "       [1.75502698e-03, 3.50298313e-03, 5.60124397e-01, 1.38516733e-02,\n",
              "        2.10480392e-01, 2.10285559e-01],\n",
              "       ...,\n",
              "       [5.24158077e-03, 8.63997964e-04, 1.28408782e-02, 5.96904159e-02,\n",
              "        5.64095914e-01, 3.57267290e-01],\n",
              "       [3.03563215e-02, 8.66899919e-03, 5.68918930e-03, 5.84085584e-01,\n",
              "        7.60859624e-03, 3.63591254e-01],\n",
              "       [1.41903654e-01, 7.70210251e-02, 2.79814035e-01, 1.20150432e-01,\n",
              "        3.45161051e-01, 3.59498002e-02]], dtype=float32)"
            ]
          },
          "metadata": {},
          "execution_count": 23
        }
      ]
    },
    {
      "cell_type": "code",
      "source": [
        "y_test"
      ],
      "metadata": {
        "colab": {
          "base_uri": "https://localhost:8080/"
        },
        "id": "cmA2bFgsDW3D",
        "outputId": "9ff4ee49-d25c-4926-8771-aa1e46e032c7"
      },
      "execution_count": 24,
      "outputs": [
        {
          "output_type": "execute_result",
          "data": {
            "text/plain": [
              "array([5, 1, 2, 5, 3, 4, 2, 0, 3, 1, 3, 2, 1, 4, 3, 0, 5, 0, 2, 5, 0, 0,\n",
              "       1, 3, 2, 3, 2, 5, 4, 2, 2, 3, 1, 2, 5, 5, 3, 5, 3, 3, 4, 1, 3, 2,\n",
              "       3, 1, 5, 3, 1, 2, 4, 4, 5, 5, 5, 1, 2, 3, 2, 5, 0, 2, 4, 2, 5, 4,\n",
              "       3, 0, 1, 2, 5, 2, 1, 2, 4, 5, 4, 1, 5, 5, 3, 1, 5, 3, 2, 4, 2, 5,\n",
              "       0, 5, 0, 5, 4, 0, 2, 4, 0, 2, 2, 0, 2, 3, 5, 3, 5, 5, 3, 1, 2, 2,\n",
              "       2, 1, 3, 2, 1, 3, 4, 4, 1, 1, 2, 4, 4, 1, 4, 2, 0, 4, 5, 5, 3, 1,\n",
              "       2, 1, 5, 5, 1, 2, 3, 3, 0, 3, 3, 0, 1, 0, 1, 2, 1, 5, 1, 2, 2, 0,\n",
              "       1, 1, 1, 1, 1, 4, 0, 1, 5, 1, 4, 5, 5, 4, 1, 0, 3, 5, 2, 3, 0, 4,\n",
              "       1, 3, 1, 0, 5, 5, 3, 5, 4, 5, 4, 0, 4, 1, 2, 1, 5, 0, 4, 3, 2, 1,\n",
              "       0, 3, 5, 0, 4, 5, 4, 5, 4])"
            ]
          },
          "metadata": {},
          "execution_count": 24
        }
      ]
    },
    {
      "cell_type": "code",
      "source": [
        "new_Ytest = y_test.astype(int)"
      ],
      "metadata": {
        "id": "0PHDKWJWDY3g"
      },
      "execution_count": 25,
      "outputs": []
    },
    {
      "cell_type": "code",
      "source": [
        "new_Ytest"
      ],
      "metadata": {
        "colab": {
          "base_uri": "https://localhost:8080/"
        },
        "id": "k68v2i-pDbZE",
        "outputId": "8a3bbd6a-dfa3-4454-d3cd-5af6daeb6ff9"
      },
      "execution_count": 26,
      "outputs": [
        {
          "output_type": "execute_result",
          "data": {
            "text/plain": [
              "array([5, 1, 2, 5, 3, 4, 2, 0, 3, 1, 3, 2, 1, 4, 3, 0, 5, 0, 2, 5, 0, 0,\n",
              "       1, 3, 2, 3, 2, 5, 4, 2, 2, 3, 1, 2, 5, 5, 3, 5, 3, 3, 4, 1, 3, 2,\n",
              "       3, 1, 5, 3, 1, 2, 4, 4, 5, 5, 5, 1, 2, 3, 2, 5, 0, 2, 4, 2, 5, 4,\n",
              "       3, 0, 1, 2, 5, 2, 1, 2, 4, 5, 4, 1, 5, 5, 3, 1, 5, 3, 2, 4, 2, 5,\n",
              "       0, 5, 0, 5, 4, 0, 2, 4, 0, 2, 2, 0, 2, 3, 5, 3, 5, 5, 3, 1, 2, 2,\n",
              "       2, 1, 3, 2, 1, 3, 4, 4, 1, 1, 2, 4, 4, 1, 4, 2, 0, 4, 5, 5, 3, 1,\n",
              "       2, 1, 5, 5, 1, 2, 3, 3, 0, 3, 3, 0, 1, 0, 1, 2, 1, 5, 1, 2, 2, 0,\n",
              "       1, 1, 1, 1, 1, 4, 0, 1, 5, 1, 4, 5, 5, 4, 1, 0, 3, 5, 2, 3, 0, 4,\n",
              "       1, 3, 1, 0, 5, 5, 3, 5, 4, 5, 4, 0, 4, 1, 2, 1, 5, 0, 4, 3, 2, 1,\n",
              "       0, 3, 5, 0, 4, 5, 4, 5, 4])"
            ]
          },
          "metadata": {},
          "execution_count": 26
        }
      ]
    },
    {
      "cell_type": "code",
      "source": [
        "preds1=predictions.argmax(axis=1)\n",
        "preds1"
      ],
      "metadata": {
        "colab": {
          "base_uri": "https://localhost:8080/"
        },
        "id": "4_cAI39VFhtp",
        "outputId": "a0e2494e-ae17-4d39-8e45-e44d88059206"
      },
      "execution_count": 27,
      "outputs": [
        {
          "output_type": "execute_result",
          "data": {
            "text/plain": [
              "array([5, 1, 2, 5, 3, 4, 2, 0, 3, 0, 3, 4, 2, 4, 3, 0, 5, 3, 2, 5, 3, 0,\n",
              "       2, 3, 2, 3, 2, 0, 2, 4, 2, 3, 0, 2, 5, 4, 0, 5, 3, 2, 4, 1, 0, 2,\n",
              "       3, 1, 3, 3, 1, 3, 4, 4, 5, 5, 3, 3, 2, 3, 2, 5, 0, 2, 4, 4, 5, 4,\n",
              "       3, 0, 0, 2, 5, 2, 0, 0, 5, 3, 4, 3, 5, 5, 3, 2, 5, 3, 2, 4, 2, 3,\n",
              "       0, 4, 0, 3, 4, 0, 3, 4, 3, 2, 2, 3, 2, 3, 5, 3, 5, 5, 5, 1, 2, 2,\n",
              "       2, 1, 3, 2, 2, 4, 4, 4, 0, 3, 2, 4, 4, 1, 4, 2, 3, 4, 4, 5, 5, 1,\n",
              "       2, 1, 5, 4, 2, 3, 3, 3, 0, 3, 3, 0, 0, 0, 1, 2, 0, 2, 0, 2, 4, 0,\n",
              "       1, 4, 1, 1, 3, 4, 0, 1, 5, 3, 4, 5, 4, 2, 1, 0, 5, 3, 2, 3, 3, 4,\n",
              "       1, 3, 1, 3, 5, 2, 3, 5, 4, 3, 4, 0, 0, 0, 2, 3, 3, 0, 4, 3, 2, 1,\n",
              "       1, 5, 5, 0, 5, 5, 4, 3, 4])"
            ]
          },
          "metadata": {},
          "execution_count": 27
        }
      ]
    },
    {
      "cell_type": "code",
      "source": [
        "abc = preds1.astype(int).flatten()"
      ],
      "metadata": {
        "id": "H4WEmM60NfQn"
      },
      "execution_count": 28,
      "outputs": []
    },
    {
      "cell_type": "code",
      "source": [
        "from sklearn.metrics import confusion_matrix\n",
        "c = confusion_matrix(new_Ytest, abc) \n",
        "c"
      ],
      "metadata": {
        "colab": {
          "base_uri": "https://localhost:8080/"
        },
        "id": "bKEBeEBlFjB8",
        "outputId": "2b13a080-83c9-4f6f-c236-e12a7fd2c394"
      },
      "execution_count": 29,
      "outputs": [
        {
          "output_type": "execute_result",
          "data": {
            "text/plain": [
              "array([[17,  1,  0,  7,  0,  0],\n",
              "       [ 9, 18,  5,  6,  1,  0],\n",
              "       [ 1,  0, 30,  3,  4,  0],\n",
              "       [ 2,  0,  1, 25,  1,  4],\n",
              "       [ 1,  0,  2,  0, 25,  2],\n",
              "       [ 1,  0,  2,  9,  5, 25]])"
            ]
          },
          "metadata": {},
          "execution_count": 29
        }
      ]
    },
    {
      "cell_type": "code",
      "source": [
        "y_test"
      ],
      "metadata": {
        "colab": {
          "base_uri": "https://localhost:8080/"
        },
        "id": "m4RjG7LWLSQx",
        "outputId": "e84738c3-5d0a-4ba0-c590-09b0a95bb3ca"
      },
      "execution_count": 30,
      "outputs": [
        {
          "output_type": "execute_result",
          "data": {
            "text/plain": [
              "array([5, 1, 2, 5, 3, 4, 2, 0, 3, 1, 3, 2, 1, 4, 3, 0, 5, 0, 2, 5, 0, 0,\n",
              "       1, 3, 2, 3, 2, 5, 4, 2, 2, 3, 1, 2, 5, 5, 3, 5, 3, 3, 4, 1, 3, 2,\n",
              "       3, 1, 5, 3, 1, 2, 4, 4, 5, 5, 5, 1, 2, 3, 2, 5, 0, 2, 4, 2, 5, 4,\n",
              "       3, 0, 1, 2, 5, 2, 1, 2, 4, 5, 4, 1, 5, 5, 3, 1, 5, 3, 2, 4, 2, 5,\n",
              "       0, 5, 0, 5, 4, 0, 2, 4, 0, 2, 2, 0, 2, 3, 5, 3, 5, 5, 3, 1, 2, 2,\n",
              "       2, 1, 3, 2, 1, 3, 4, 4, 1, 1, 2, 4, 4, 1, 4, 2, 0, 4, 5, 5, 3, 1,\n",
              "       2, 1, 5, 5, 1, 2, 3, 3, 0, 3, 3, 0, 1, 0, 1, 2, 1, 5, 1, 2, 2, 0,\n",
              "       1, 1, 1, 1, 1, 4, 0, 1, 5, 1, 4, 5, 5, 4, 1, 0, 3, 5, 2, 3, 0, 4,\n",
              "       1, 3, 1, 0, 5, 5, 3, 5, 4, 5, 4, 0, 4, 1, 2, 1, 5, 0, 4, 3, 2, 1,\n",
              "       0, 3, 5, 0, 4, 5, 4, 5, 4])"
            ]
          },
          "metadata": {},
          "execution_count": 30
        }
      ]
    },
    {
      "cell_type": "code",
      "source": [
        "model.save('/content/drive/MyDrive/model2')\n",
        "print(\"MODEL SAVED\")"
      ],
      "metadata": {
        "colab": {
          "base_uri": "https://localhost:8080/"
        },
        "id": "lsJBNeMWDl6Z",
        "outputId": "8924dba4-0780-45fd-a1c6-fdfb783c5d2c"
      },
      "execution_count": 33,
      "outputs": [
        {
          "output_type": "stream",
          "name": "stdout",
          "text": [
            "INFO:tensorflow:Assets written to: /content/drive/MyDrive/model2/assets\n",
            "MODEL SAVED\n"
          ]
        }
      ]
    },
    {
      "cell_type": "code",
      "source": [
        "new_model=keras.models.load_model('/content/drive/MyDrive/model2')\n",
        "new_model.summary()"
      ],
      "metadata": {
        "colab": {
          "base_uri": "https://localhost:8080/"
        },
        "id": "Q3KjaO9GDoNl",
        "outputId": "f7d68527-cfb3-4a52-d461-4a0859270f83"
      },
      "execution_count": 34,
      "outputs": [
        {
          "output_type": "stream",
          "name": "stdout",
          "text": [
            "Model: \"sequential\"\n",
            "_________________________________________________________________\n",
            " Layer (type)                Output Shape              Param #   \n",
            "=================================================================\n",
            " conv1d (Conv1D)             (None, 40, 128)           1152      \n",
            "                                                                 \n",
            " activation (Activation)     (None, 40, 128)           0         \n",
            "                                                                 \n",
            " dropout (Dropout)           (None, 40, 128)           0         \n",
            "                                                                 \n",
            " max_pooling1d (MaxPooling1D  (None, 8, 128)           0         \n",
            " )                                                               \n",
            "                                                                 \n",
            " conv1d_1 (Conv1D)           (None, 8, 256)            262400    \n",
            "                                                                 \n",
            " activation_1 (Activation)   (None, 8, 256)            0         \n",
            "                                                                 \n",
            " dropout_1 (Dropout)         (None, 8, 256)            0         \n",
            "                                                                 \n",
            " max_pooling1d_1 (MaxPooling  (None, 1, 256)           0         \n",
            " 1D)                                                             \n",
            "                                                                 \n",
            " flatten (Flatten)           (None, 256)               0         \n",
            "                                                                 \n",
            " dense (Dense)               (None, 256)               65792     \n",
            "                                                                 \n",
            " activation_2 (Activation)   (None, 256)               0         \n",
            "                                                                 \n",
            " dense_1 (Dense)             (None, 256)               65792     \n",
            "                                                                 \n",
            " activation_3 (Activation)   (None, 256)               0         \n",
            "                                                                 \n",
            " dense_2 (Dense)             (None, 6)                 1542      \n",
            "                                                                 \n",
            " activation_4 (Activation)   (None, 6)                 0         \n",
            "                                                                 \n",
            "=================================================================\n",
            "Total params: 396,678\n",
            "Trainable params: 396,678\n",
            "Non-trainable params: 0\n",
            "_________________________________________________________________\n"
          ]
        }
      ]
    },
    {
      "cell_type": "code",
      "source": [
        "loss, acc =model.evaluate(x_testcnn, y_test)\n",
        "print(\"Restored model, accuracy: {:5.2f}%\".format(100*acc))"
      ],
      "metadata": {
        "colab": {
          "base_uri": "https://localhost:8080/"
        },
        "id": "n3kzoqPkDqqS",
        "outputId": "ece9f98e-9ae8-4eb4-bc19-4a6082a08da0"
      },
      "execution_count": 35,
      "outputs": [
        {
          "output_type": "stream",
          "name": "stdout",
          "text": [
            "7/7 [==============================] - 0s 3ms/step - loss: 0.7961 - accuracy: 0.6763\n",
            "Restored model, accuracy: 67.63%\n"
          ]
        }
      ]
    },
    {
      "cell_type": "code",
      "source": [
        "loss, acc =model.evaluate(X_train, y_train)\n",
        "print(\"Restored model train, accuracy: {:5.2f}%\".format(100*acc))"
      ],
      "metadata": {
        "id": "fJDTGH_OUX0z",
        "colab": {
          "base_uri": "https://localhost:8080/"
        },
        "outputId": "76e4865e-9fe2-417c-927b-b01785e3b496"
      },
      "execution_count": 36,
      "outputs": [
        {
          "output_type": "stream",
          "name": "stdout",
          "text": [
            "52/52 [==============================] - 0s 4ms/step - loss: 0.6028 - accuracy: 0.8077\n",
            "Restored model train, accuracy: 80.77%\n"
          ]
        }
      ]
    },
    {
      "cell_type": "code",
      "source": [
        "from sklearn.metrics import classification_report, confusion_matrix,accuracy_score\n",
        "import seaborn as sn\n",
        "\n",
        "print(classification_report(new_Ytest,abc))\n",
        "\n",
        "acc = float(accuracy_score(new_Ytest,abc))*100\n",
        "print(\"----accuracy score %s ----\" % acc)\n",
        "\n",
        "cm = confusion_matrix(new_Ytest,abc)\n",
        "#df_cm = pd.DataFrame(cm)\n",
        "class_names = ['neutral','calm', 'happy','sad','angry', 'fearful' ]\n",
        "df_cm = pd.DataFrame(cm, index=class_names, columns=class_names,)\n",
        "sn.heatmap(df_cm, annot=True, fmt='')\n",
        "plt.show()"
      ],
      "metadata": {
        "colab": {
          "base_uri": "https://localhost:8080/",
          "height": 512
        },
        "id": "SfSC3El94LZg",
        "outputId": "fe62175d-1392-446e-960a-9dccbf97b82d"
      },
      "execution_count": 37,
      "outputs": [
        {
          "output_type": "stream",
          "name": "stdout",
          "text": [
            "              precision    recall  f1-score   support\n",
            "\n",
            "           0       0.55      0.68      0.61        25\n",
            "           1       0.95      0.46      0.62        39\n",
            "           2       0.75      0.79      0.77        38\n",
            "           3       0.50      0.76      0.60        33\n",
            "           4       0.69      0.83      0.76        30\n",
            "           5       0.81      0.60      0.68        42\n",
            "\n",
            "    accuracy                           0.68       207\n",
            "   macro avg       0.71      0.69      0.67       207\n",
            "weighted avg       0.73      0.68      0.68       207\n",
            "\n",
            "----accuracy score 67.6328502415459 ----\n"
          ]
        },
        {
          "output_type": "display_data",
          "data": {
            "text/plain": [
              "<Figure size 432x288 with 2 Axes>"
            ],
            "image/png": "[encoded data removed]"
          },
          "metadata": {
            "needs_background": "light"
          }
        }
      ]
    }
  ]
}