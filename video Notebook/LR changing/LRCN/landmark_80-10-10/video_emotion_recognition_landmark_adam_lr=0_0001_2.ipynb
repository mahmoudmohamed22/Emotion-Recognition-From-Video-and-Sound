{
  "nbformat": 4,
  "nbformat_minor": 0,
  "metadata": {
    "colab": {
      "name": "video_emotion_recognition_landmark_adam_lr=0.0001_2.ipynb",
      "provenance": [],
      "collapsed_sections": [],
      "machine_shape": "hm"
    },
    "kernelspec": {
      "name": "python3",
      "display_name": "Python 3"
    },
    "accelerator": "GPU"
  },
  "cells": [
    {
      "cell_type": "code",
      "source": [
        "from google.colab import drive\n",
        "drive.mount('/content/drive')"
      ],
      "metadata": {
        "colab": {
          "base_uri": "https://localhost:8080/"
        },
        "id": "o94I67GBPVfM",
        "outputId": "69f95b97-0d97-4771-adca-f3d4880c6cbb"
      },
      "execution_count": 1,
      "outputs": [
        {
          "output_type": "stream",
          "name": "stdout",
          "text": [
            "Mounted at /content/drive\n"
          ]
        }
      ]
    },
    {
      "cell_type": "code",
      "source": [
        "# Discard the output of this cell.\n",
        "#%%capture\n",
        "\n",
        "# Install the required libraries.\n",
        "!pip install tensorflow opencv-contrib-python youtube-dl moviepy pydot\n",
        "!pip install git+https://github.com/TahaAnwar/pafy.git#egg=pafy"
      ],
      "metadata": {
        "colab": {
          "base_uri": "https://localhost:8080/"
        },
        "id": "6OQ7vRnzP6n8",
        "outputId": "95740c8f-7017-4a87-9cc3-e49103343eab"
      },
      "execution_count": 1,
      "outputs": [
        {
          "output_type": "stream",
          "name": "stdout",
          "text": [
            "Looking in indexes: https://pypi.org/simple, https://us-python.pkg.dev/colab-wheels/public/simple/\n",
            "Requirement already satisfied: tensorflow in /usr/local/lib/python3.7/dist-packages (2.8.2+zzzcolab20220527125636)\n",
            "Requirement already satisfied: opencv-contrib-python in /usr/local/lib/python3.7/dist-packages (4.1.2.30)\n",
            "Requirement already satisfied: youtube-dl in /usr/local/lib/python3.7/dist-packages (2021.12.17)\n",
            "Requirement already satisfied: moviepy in /usr/local/lib/python3.7/dist-packages (0.2.3.5)\n",
            "Requirement already satisfied: pydot in /usr/local/lib/python3.7/dist-packages (1.3.0)\n",
            "Requirement already satisfied: h5py>=2.9.0 in /usr/local/lib/python3.7/dist-packages (from tensorflow) (3.1.0)\n",
            "Requirement already satisfied: google-pasta>=0.1.1 in /usr/local/lib/python3.7/dist-packages (from tensorflow) (0.2.0)\n",
            "Requirement already satisfied: protobuf<3.20,>=3.9.2 in /usr/local/lib/python3.7/dist-packages (from tensorflow) (3.17.3)\n",
            "Requirement already satisfied: libclang>=9.0.1 in /usr/local/lib/python3.7/dist-packages (from tensorflow) (14.0.1)\n",
            "Requirement already satisfied: gast>=0.2.1 in /usr/local/lib/python3.7/dist-packages (from tensorflow) (0.5.3)\n",
            "Requirement already satisfied: wrapt>=1.11.0 in /usr/local/lib/python3.7/dist-packages (from tensorflow) (1.14.1)\n",
            "Requirement already satisfied: keras<2.9,>=2.8.0rc0 in /usr/local/lib/python3.7/dist-packages (from tensorflow) (2.8.0)\n",
            "Requirement already satisfied: astunparse>=1.6.0 in /usr/local/lib/python3.7/dist-packages (from tensorflow) (1.6.3)\n",
            "Requirement already satisfied: termcolor>=1.1.0 in /usr/local/lib/python3.7/dist-packages (from tensorflow) (1.1.0)\n",
            "Requirement already satisfied: numpy>=1.20 in /usr/local/lib/python3.7/dist-packages (from tensorflow) (1.21.6)\n",
            "Requirement already satisfied: setuptools in /usr/local/lib/python3.7/dist-packages (from tensorflow) (57.4.0)\n",
            "Requirement already satisfied: tensorboard<2.9,>=2.8 in /usr/local/lib/python3.7/dist-packages (from tensorflow) (2.8.0)\n",
            "Requirement already satisfied: absl-py>=0.4.0 in /usr/local/lib/python3.7/dist-packages (from tensorflow) (1.0.0)\n",
            "Requirement already satisfied: flatbuffers>=1.12 in /usr/local/lib/python3.7/dist-packages (from tensorflow) (2.0)\n",
            "Requirement already satisfied: grpcio<2.0,>=1.24.3 in /usr/local/lib/python3.7/dist-packages (from tensorflow) (1.46.3)\n",
            "Requirement already satisfied: typing-extensions>=3.6.6 in /usr/local/lib/python3.7/dist-packages (from tensorflow) (4.2.0)\n",
            "Requirement already satisfied: tensorflow-io-gcs-filesystem>=0.23.1 in /usr/local/lib/python3.7/dist-packages (from tensorflow) (0.26.0)\n",
            "Requirement already satisfied: opt-einsum>=2.3.2 in /usr/local/lib/python3.7/dist-packages (from tensorflow) (3.3.0)\n",
            "Requirement already satisfied: tensorflow-estimator<2.9,>=2.8 in /usr/local/lib/python3.7/dist-packages (from tensorflow) (2.8.0)\n",
            "Requirement already satisfied: keras-preprocessing>=1.1.1 in /usr/local/lib/python3.7/dist-packages (from tensorflow) (1.1.2)\n",
            "Requirement already satisfied: six>=1.12.0 in /usr/local/lib/python3.7/dist-packages (from tensorflow) (1.15.0)\n",
            "Requirement already satisfied: wheel<1.0,>=0.23.0 in /usr/local/lib/python3.7/dist-packages (from astunparse>=1.6.0->tensorflow) (0.37.1)\n",
            "Requirement already satisfied: cached-property in /usr/local/lib/python3.7/dist-packages (from h5py>=2.9.0->tensorflow) (1.5.2)\n",
            "Requirement already satisfied: google-auth-oauthlib<0.5,>=0.4.1 in /usr/local/lib/python3.7/dist-packages (from tensorboard<2.9,>=2.8->tensorflow) (0.4.6)\n",
            "Requirement already satisfied: tensorboard-data-server<0.7.0,>=0.6.0 in /usr/local/lib/python3.7/dist-packages (from tensorboard<2.9,>=2.8->tensorflow) (0.6.1)\n",
            "Requirement already satisfied: tensorboard-plugin-wit>=1.6.0 in /usr/local/lib/python3.7/dist-packages (from tensorboard<2.9,>=2.8->tensorflow) (1.8.1)\n",
            "Requirement already satisfied: requests<3,>=2.21.0 in /usr/local/lib/python3.7/dist-packages (from tensorboard<2.9,>=2.8->tensorflow) (2.23.0)\n",
            "Requirement already satisfied: werkzeug>=0.11.15 in /usr/local/lib/python3.7/dist-packages (from tensorboard<2.9,>=2.8->tensorflow) (1.0.1)\n",
            "Requirement already satisfied: markdown>=2.6.8 in /usr/local/lib/python3.7/dist-packages (from tensorboard<2.9,>=2.8->tensorflow) (3.3.7)\n",
            "Requirement already satisfied: google-auth<3,>=1.6.3 in /usr/local/lib/python3.7/dist-packages (from tensorboard<2.9,>=2.8->tensorflow) (1.35.0)\n",
            "Requirement already satisfied: cachetools<5.0,>=2.0.0 in /usr/local/lib/python3.7/dist-packages (from google-auth<3,>=1.6.3->tensorboard<2.9,>=2.8->tensorflow) (4.2.4)\n",
            "Requirement already satisfied: pyasn1-modules>=0.2.1 in /usr/local/lib/python3.7/dist-packages (from google-auth<3,>=1.6.3->tensorboard<2.9,>=2.8->tensorflow) (0.2.8)\n",
            "Requirement already satisfied: rsa<5,>=3.1.4 in /usr/local/lib/python3.7/dist-packages (from google-auth<3,>=1.6.3->tensorboard<2.9,>=2.8->tensorflow) (4.8)\n",
            "Requirement already satisfied: requests-oauthlib>=0.7.0 in /usr/local/lib/python3.7/dist-packages (from google-auth-oauthlib<0.5,>=0.4.1->tensorboard<2.9,>=2.8->tensorflow) (1.3.1)\n",
            "Requirement already satisfied: importlib-metadata>=4.4 in /usr/local/lib/python3.7/dist-packages (from markdown>=2.6.8->tensorboard<2.9,>=2.8->tensorflow) (4.11.4)\n",
            "Requirement already satisfied: zipp>=0.5 in /usr/local/lib/python3.7/dist-packages (from importlib-metadata>=4.4->markdown>=2.6.8->tensorboard<2.9,>=2.8->tensorflow) (3.8.0)\n",
            "Requirement already satisfied: pyasn1<0.5.0,>=0.4.6 in /usr/local/lib/python3.7/dist-packages (from pyasn1-modules>=0.2.1->google-auth<3,>=1.6.3->tensorboard<2.9,>=2.8->tensorflow) (0.4.8)\n",
            "Requirement already satisfied: urllib3!=1.25.0,!=1.25.1,<1.26,>=1.21.1 in /usr/local/lib/python3.7/dist-packages (from requests<3,>=2.21.0->tensorboard<2.9,>=2.8->tensorflow) (1.24.3)\n",
            "Requirement already satisfied: idna<3,>=2.5 in /usr/local/lib/python3.7/dist-packages (from requests<3,>=2.21.0->tensorboard<2.9,>=2.8->tensorflow) (2.10)\n",
            "Requirement already satisfied: chardet<4,>=3.0.2 in /usr/local/lib/python3.7/dist-packages (from requests<3,>=2.21.0->tensorboard<2.9,>=2.8->tensorflow) (3.0.4)\n",
            "Requirement already satisfied: certifi>=2017.4.17 in /usr/local/lib/python3.7/dist-packages (from requests<3,>=2.21.0->tensorboard<2.9,>=2.8->tensorflow) (2022.5.18.1)\n",
            "Requirement already satisfied: oauthlib>=3.0.0 in /usr/local/lib/python3.7/dist-packages (from requests-oauthlib>=0.7.0->google-auth-oauthlib<0.5,>=0.4.1->tensorboard<2.9,>=2.8->tensorflow) (3.2.0)\n",
            "Requirement already satisfied: decorator<5.0,>=4.0.2 in /usr/local/lib/python3.7/dist-packages (from moviepy) (4.4.2)\n",
            "Requirement already satisfied: tqdm<5.0,>=4.11.2 in /usr/local/lib/python3.7/dist-packages (from moviepy) (4.64.0)\n",
            "Requirement already satisfied: imageio<3.0,>=2.1.2 in /usr/local/lib/python3.7/dist-packages (from moviepy) (2.4.1)\n",
            "Requirement already satisfied: pillow in /usr/local/lib/python3.7/dist-packages (from imageio<3.0,>=2.1.2->moviepy) (7.1.2)\n",
            "Requirement already satisfied: pyparsing>=2.1.4 in /usr/local/lib/python3.7/dist-packages (from pydot) (3.0.9)\n",
            "Looking in indexes: https://pypi.org/simple, https://us-python.pkg.dev/colab-wheels/public/simple/\n",
            "Collecting pafy\n",
            "  Cloning https://github.com/TahaAnwar/pafy.git to /tmp/pip-install-32ffywhg/pafy_14c0b8f96d264bbba96ef328b6931ddd\n",
            "  Running command git clone -q https://github.com/TahaAnwar/pafy.git /tmp/pip-install-32ffywhg/pafy_14c0b8f96d264bbba96ef328b6931ddd\n"
          ]
        }
      ]
    },
    {
      "cell_type": "code",
      "source": [
        "# Import the required libraries.\n",
        "import os\n",
        "import cv2\n",
        "import pafy\n",
        "import math\n",
        "import random\n",
        "import numpy as np\n",
        "import datetime as dt\n",
        "import tensorflow as tf\n",
        "from collections import deque\n",
        "import matplotlib.pyplot as plt\n",
        "\n",
        "from moviepy.editor import *\n",
        "%matplotlib inline\n",
        "\n",
        "from sklearn.model_selection import train_test_split\n",
        "\n",
        "from tensorflow.keras.layers import *\n",
        "from tensorflow.keras.models import Sequential\n",
        "from tensorflow.keras.utils import to_categorical\n",
        "from tensorflow.keras.callbacks import EarlyStopping\n",
        "from tensorflow.keras.utils import plot_model"
      ],
      "metadata": {
        "id": "LiLwshTpP-OB"
      },
      "execution_count": 2,
      "outputs": []
    },
    {
      "cell_type": "code",
      "source": [
        "seed_constant = 27\n",
        "np.random.seed(seed_constant)\n",
        "random.seed(seed_constant)\n",
        "tf.random.set_seed(seed_constant)"
      ],
      "metadata": {
        "id": "u4EtD4rrQEnb"
      },
      "execution_count": 3,
      "outputs": []
    },
    {
      "cell_type": "code",
      "source": [
        "# Specify the height and width to which each video frame will be resized in our dataset.\n",
        "IMAGE_HEIGHT , IMAGE_WIDTH = 64, 64\n",
        "\n",
        "# Specify the number of frames of a video that will be fed to the model as one sequence.\n",
        "SEQUENCE_LENGTH = 30\n",
        "\n",
        "# Specify the directory containing the UCF50 dataset. \n",
        "#DATASET_DIR = \"/content/drive/MyDrive/videospeech_label\"\n",
        "\n",
        "# Specify the list containing the names of the classes used for training. Feel free to choose any set of classes.\n",
        "CLASSES_LIST = [\"neutral\", \"calm\", \"happy\", \"sad\",\"angry\",\"fearful\"]"
      ],
      "metadata": {
        "id": "7H6KBiblQKE9"
      },
      "execution_count": 4,
      "outputs": []
    },
    {
      "cell_type": "code",
      "source": [
        "import joblib\n",
        "features=joblib.load('/content/drive/My Drive/features_ravdess/data_set/features_data')\n",
        "labels=joblib.load('/content/drive/My Drive/features_ravdess/data_set/labels')\n",
        "video_file_path=joblib.load('/content/drive/My Drive/features_ravdess/data_set/video_path')"
      ],
      "metadata": {
        "id": "V_rh-id5cmwd"
      },
      "execution_count": 5,
      "outputs": []
    },
    {
      "cell_type": "code",
      "source": [
        "features = np.asarray(features)\n",
        "labels = np.array(labels)  "
      ],
      "metadata": {
        "id": "WI3wNd7zdKzJ"
      },
      "execution_count": 6,
      "outputs": []
    },
    {
      "cell_type": "code",
      "source": [
        "features.shape"
      ],
      "metadata": {
        "colab": {
          "base_uri": "https://localhost:8080/"
        },
        "id": "pnnmkPz5Qh75",
        "outputId": "36ef1e64-65f0-4b6f-9bb4-cefc2968d992"
      },
      "execution_count": 7,
      "outputs": [
        {
          "output_type": "execute_result",
          "data": {
            "text/plain": [
              "(2067, 30, 64, 64, 3)"
            ]
          },
          "metadata": {},
          "execution_count": 7
        }
      ]
    },
    {
      "cell_type": "code",
      "source": [
        "labels.shape"
      ],
      "metadata": {
        "colab": {
          "base_uri": "https://localhost:8080/"
        },
        "id": "kSGvdE_hQklC",
        "outputId": "976cf500-a5c9-402d-c6d3-e71de33dcb68"
      },
      "execution_count": 8,
      "outputs": [
        {
          "output_type": "execute_result",
          "data": {
            "text/plain": [
              "(2067,)"
            ]
          },
          "metadata": {},
          "execution_count": 8
        }
      ]
    },
    {
      "cell_type": "code",
      "source": [
        "# Using Keras's to_categorical method to convert labels into one-hot-encoded vectors\n",
        "one_hot_encoded_labels = to_categorical(labels)"
      ],
      "metadata": {
        "id": "DGicVwcRQn9x"
      },
      "execution_count": 9,
      "outputs": []
    },
    {
      "cell_type": "code",
      "source": [
        "# Split the Data into Train ( 80% ) and Test Set ( 20% ).\n",
        "features_train, features_test, labels_train, labels_test = train_test_split(features, one_hot_encoded_labels,\n",
        "                                                                            test_size = 0.10, shuffle = True,\n",
        "                                                                            random_state = seed_constant)"
      ],
      "metadata": {
        "id": "pysOwWbgQrBv"
      },
      "execution_count": 10,
      "outputs": []
    },
    {
      "cell_type": "code",
      "source": [
        "def create_LRCN_model():\n",
        "    '''\n",
        "    This function will construct the required LRCN model.\n",
        "    Returns:\n",
        "        model: It is the required constructed LRCN model.\n",
        "    '''\n",
        "\n",
        "    # We will use a Sequential model for model construction.\n",
        "    model = Sequential()\n",
        "    \n",
        "    # Define the Model Architecture.\n",
        "    ########################################################################################################################\n",
        "    \n",
        "    model.add(TimeDistributed(Conv2D(16, (3, 3), padding='same',activation = 'relu'),\n",
        "                              input_shape = (SEQUENCE_LENGTH, IMAGE_HEIGHT, IMAGE_WIDTH, 3)))\n",
        "    \n",
        "    model.add(TimeDistributed(MaxPooling2D((4, 4)))) \n",
        "    model.add(TimeDistributed(Dropout(0.25)))\n",
        "    \n",
        "    model.add(TimeDistributed(Conv2D(32, (3, 3), padding='same',activation = 'relu')))\n",
        "    model.add(TimeDistributed(MaxPooling2D((4, 4))))\n",
        "    model.add(TimeDistributed(Dropout(0.25)))\n",
        "    \n",
        "    model.add(TimeDistributed(Conv2D(64, (3, 3), padding='same',activation = 'relu')))\n",
        "    model.add(TimeDistributed(MaxPooling2D((2, 2))))\n",
        "    model.add(TimeDistributed(Dropout(0.25)))\n",
        "    \n",
        "    model.add(TimeDistributed(Conv2D(64, (3, 3), padding='same',activation = 'relu')))\n",
        "    model.add(TimeDistributed(MaxPooling2D((2, 2))))\n",
        "    #model.add(TimeDistributed(Dropout(0.25)))\n",
        "                                      \n",
        "    model.add(TimeDistributed(Flatten()))\n",
        "                                      \n",
        "    model.add(LSTM(32))\n",
        "                                      \n",
        "    model.add(Dense(len(CLASSES_LIST), activation = 'softmax'))\n",
        "\n",
        "    ########################################################################################################################\n",
        "\n",
        "    # Display the models summary.\n",
        "    model.summary()\n",
        "    \n",
        "    # Return the constructed LRCN model.\n",
        "    return model"
      ],
      "metadata": {
        "id": "01zL-4EVQt3J"
      },
      "execution_count": 11,
      "outputs": []
    },
    {
      "cell_type": "code",
      "source": [
        "# Construct the required LRCN model.\n",
        "LRCN_model = create_LRCN_model()\n",
        "\n",
        "# Display the success message.\n",
        "print(\"Model Created Successfully!\")"
      ],
      "metadata": {
        "colab": {
          "base_uri": "https://localhost:8080/"
        },
        "id": "sFdjcb8zQxX4",
        "outputId": "ff2efe9d-a935-4ad0-b48b-03e3d7575244"
      },
      "execution_count": 12,
      "outputs": [
        {
          "output_type": "stream",
          "name": "stdout",
          "text": [
            "Model: \"sequential\"\n",
            "_________________________________________________________________\n",
            " Layer (type)                Output Shape              Param #   \n",
            "=================================================================\n",
            " time_distributed (TimeDistr  (None, 30, 64, 64, 16)   448       \n",
            " ibuted)                                                         \n",
            "                                                                 \n",
            " time_distributed_1 (TimeDis  (None, 30, 16, 16, 16)   0         \n",
            " tributed)                                                       \n",
            "                                                                 \n",
            " time_distributed_2 (TimeDis  (None, 30, 16, 16, 16)   0         \n",
            " tributed)                                                       \n",
            "                                                                 \n",
            " time_distributed_3 (TimeDis  (None, 30, 16, 16, 32)   4640      \n",
            " tributed)                                                       \n",
            "                                                                 \n",
            " time_distributed_4 (TimeDis  (None, 30, 4, 4, 32)     0         \n",
            " tributed)                                                       \n",
            "                                                                 \n",
            " time_distributed_5 (TimeDis  (None, 30, 4, 4, 32)     0         \n",
            " tributed)                                                       \n",
            "                                                                 \n",
            " time_distributed_6 (TimeDis  (None, 30, 4, 4, 64)     18496     \n",
            " tributed)                                                       \n",
            "                                                                 \n",
            " time_distributed_7 (TimeDis  (None, 30, 2, 2, 64)     0         \n",
            " tributed)                                                       \n",
            "                                                                 \n",
            " time_distributed_8 (TimeDis  (None, 30, 2, 2, 64)     0         \n",
            " tributed)                                                       \n",
            "                                                                 \n",
            " time_distributed_9 (TimeDis  (None, 30, 2, 2, 64)     36928     \n",
            " tributed)                                                       \n",
            "                                                                 \n",
            " time_distributed_10 (TimeDi  (None, 30, 1, 1, 64)     0         \n",
            " stributed)                                                      \n",
            "                                                                 \n",
            " time_distributed_11 (TimeDi  (None, 30, 64)           0         \n",
            " stributed)                                                      \n",
            "                                                                 \n",
            " lstm (LSTM)                 (None, 32)                12416     \n",
            "                                                                 \n",
            " dense (Dense)               (None, 6)                 198       \n",
            "                                                                 \n",
            "=================================================================\n",
            "Total params: 73,126\n",
            "Trainable params: 73,126\n",
            "Non-trainable params: 0\n",
            "_________________________________________________________________\n",
            "Model Created Successfully!\n"
          ]
        }
      ]
    },
    {
      "cell_type": "code",
      "source": [
        "import keras\n",
        "import tensorflow as tf \n",
        "# Create an Instance of Early Stopping Callback.\n",
        "early_stopping_callback = EarlyStopping(monitor = 'val_loss', patience = 25, mode = 'min', restore_best_weights = True)\n",
        "\n",
        "opt = tf.keras.optimizers.Adam(learning_rate=0.0001)\n",
        " \n",
        "# Compile the model and specify loss function, optimizer and metrics to the model.\n",
        "LRCN_model.compile(loss = 'categorical_crossentropy', optimizer = opt, metrics = [\"accuracy\"])\n",
        "\n",
        "# Start training the model.\n",
        "LRCN_model_training_history = LRCN_model.fit(x = features_train, y = labels_train, epochs = 100, batch_size = 4 ,\n",
        "                                             shuffle = True, validation_split = 0.1, callbacks = [early_stopping_callback])"
      ],
      "metadata": {
        "colab": {
          "base_uri": "https://localhost:8080/"
        },
        "id": "cVmXzItZQ4-r",
        "outputId": "e46d3ddd-f9a9-4485-9835-c015d1740112"
      },
      "execution_count": 13,
      "outputs": [
        {
          "output_type": "stream",
          "name": "stdout",
          "text": [
            "Epoch 1/100\n",
            "419/419 [==============================] - 24s 17ms/step - loss: 1.7769 - accuracy: 0.1732 - val_loss: 1.7731 - val_accuracy: 0.2473\n",
            "Epoch 2/100\n",
            "419/419 [==============================] - 6s 13ms/step - loss: 1.7687 - accuracy: 0.1816 - val_loss: 1.7770 - val_accuracy: 0.1398\n",
            "Epoch 3/100\n",
            "419/419 [==============================] - 6s 14ms/step - loss: 1.7670 - accuracy: 0.1762 - val_loss: 1.7765 - val_accuracy: 0.1505\n",
            "Epoch 4/100\n",
            "419/419 [==============================] - 6s 14ms/step - loss: 1.7636 - accuracy: 0.1983 - val_loss: 1.7740 - val_accuracy: 0.2366\n",
            "Epoch 5/100\n",
            "419/419 [==============================] - 6s 14ms/step - loss: 1.7604 - accuracy: 0.2210 - val_loss: 1.7723 - val_accuracy: 0.2581\n",
            "Epoch 6/100\n",
            "419/419 [==============================] - 6s 14ms/step - loss: 1.7512 - accuracy: 0.2318 - val_loss: 1.7423 - val_accuracy: 0.3280\n",
            "Epoch 7/100\n",
            "419/419 [==============================] - 6s 14ms/step - loss: 1.6943 - accuracy: 0.2754 - val_loss: 1.6785 - val_accuracy: 0.2527\n",
            "Epoch 8/100\n",
            "419/419 [==============================] - 6s 14ms/step - loss: 1.6255 - accuracy: 0.3196 - val_loss: 1.5863 - val_accuracy: 0.3387\n",
            "Epoch 9/100\n",
            "419/419 [==============================] - 6s 14ms/step - loss: 1.5860 - accuracy: 0.3172 - val_loss: 1.6231 - val_accuracy: 0.3280\n",
            "Epoch 10/100\n",
            "419/419 [==============================] - 6s 14ms/step - loss: 1.5605 - accuracy: 0.3519 - val_loss: 1.5525 - val_accuracy: 0.3710\n",
            "Epoch 11/100\n",
            "419/419 [==============================] - 6s 14ms/step - loss: 1.5271 - accuracy: 0.3644 - val_loss: 1.5012 - val_accuracy: 0.3763\n",
            "Epoch 12/100\n",
            "419/419 [==============================] - 6s 14ms/step - loss: 1.4874 - accuracy: 0.3829 - val_loss: 1.4500 - val_accuracy: 0.3763\n",
            "Epoch 13/100\n",
            "419/419 [==============================] - 6s 14ms/step - loss: 1.4296 - accuracy: 0.4188 - val_loss: 1.4549 - val_accuracy: 0.4301\n",
            "Epoch 14/100\n",
            "419/419 [==============================] - 6s 14ms/step - loss: 1.3569 - accuracy: 0.4534 - val_loss: 1.3415 - val_accuracy: 0.4570\n",
            "Epoch 15/100\n",
            "419/419 [==============================] - 6s 14ms/step - loss: 1.2871 - accuracy: 0.4791 - val_loss: 1.3541 - val_accuracy: 0.4624\n",
            "Epoch 16/100\n",
            "419/419 [==============================] - 6s 14ms/step - loss: 1.2454 - accuracy: 0.4916 - val_loss: 1.2597 - val_accuracy: 0.4731\n",
            "Epoch 17/100\n",
            "419/419 [==============================] - 6s 14ms/step - loss: 1.1973 - accuracy: 0.5108 - val_loss: 1.2278 - val_accuracy: 0.5108\n",
            "Epoch 18/100\n",
            "419/419 [==============================] - 6s 14ms/step - loss: 1.1604 - accuracy: 0.5364 - val_loss: 1.1875 - val_accuracy: 0.5000\n",
            "Epoch 19/100\n",
            "419/419 [==============================] - 6s 14ms/step - loss: 1.1534 - accuracy: 0.5376 - val_loss: 1.2621 - val_accuracy: 0.4570\n",
            "Epoch 20/100\n",
            "419/419 [==============================] - 6s 14ms/step - loss: 1.1054 - accuracy: 0.5502 - val_loss: 1.1377 - val_accuracy: 0.5054\n",
            "Epoch 21/100\n",
            "419/419 [==============================] - 6s 14ms/step - loss: 1.0931 - accuracy: 0.5382 - val_loss: 1.1088 - val_accuracy: 0.5376\n",
            "Epoch 22/100\n",
            "419/419 [==============================] - 6s 14ms/step - loss: 1.0688 - accuracy: 0.5651 - val_loss: 1.1398 - val_accuracy: 0.5054\n",
            "Epoch 23/100\n",
            "419/419 [==============================] - 6s 14ms/step - loss: 1.0399 - accuracy: 0.5729 - val_loss: 1.0645 - val_accuracy: 0.5376\n",
            "Epoch 24/100\n",
            "419/419 [==============================] - 6s 14ms/step - loss: 1.0188 - accuracy: 0.5741 - val_loss: 1.0805 - val_accuracy: 0.5591\n",
            "Epoch 25/100\n",
            "419/419 [==============================] - 6s 14ms/step - loss: 0.9873 - accuracy: 0.6057 - val_loss: 1.0694 - val_accuracy: 0.5806\n",
            "Epoch 26/100\n",
            "419/419 [==============================] - 6s 14ms/step - loss: 0.9895 - accuracy: 0.5944 - val_loss: 1.0889 - val_accuracy: 0.5161\n",
            "Epoch 27/100\n",
            "419/419 [==============================] - 6s 14ms/step - loss: 0.9613 - accuracy: 0.6123 - val_loss: 1.0284 - val_accuracy: 0.5430\n",
            "Epoch 28/100\n",
            "419/419 [==============================] - 6s 14ms/step - loss: 0.9473 - accuracy: 0.6266 - val_loss: 1.0015 - val_accuracy: 0.6022\n",
            "Epoch 29/100\n",
            "419/419 [==============================] - 6s 14ms/step - loss: 0.9425 - accuracy: 0.6135 - val_loss: 1.0552 - val_accuracy: 0.5161\n",
            "Epoch 30/100\n",
            "419/419 [==============================] - 6s 14ms/step - loss: 0.9266 - accuracy: 0.6278 - val_loss: 0.9696 - val_accuracy: 0.5860\n",
            "Epoch 31/100\n",
            "419/419 [==============================] - 6s 14ms/step - loss: 0.9082 - accuracy: 0.6225 - val_loss: 0.9751 - val_accuracy: 0.5430\n",
            "Epoch 32/100\n",
            "419/419 [==============================] - 6s 14ms/step - loss: 0.8737 - accuracy: 0.6589 - val_loss: 0.9601 - val_accuracy: 0.5914\n",
            "Epoch 33/100\n",
            "419/419 [==============================] - 6s 14ms/step - loss: 0.8630 - accuracy: 0.6440 - val_loss: 1.0170 - val_accuracy: 0.5323\n",
            "Epoch 34/100\n",
            "419/419 [==============================] - 6s 14ms/step - loss: 0.8672 - accuracy: 0.6481 - val_loss: 0.9330 - val_accuracy: 0.5753\n",
            "Epoch 35/100\n",
            "419/419 [==============================] - 6s 13ms/step - loss: 0.8428 - accuracy: 0.6673 - val_loss: 0.9869 - val_accuracy: 0.5699\n",
            "Epoch 36/100\n",
            "419/419 [==============================] - 6s 13ms/step - loss: 0.8298 - accuracy: 0.6703 - val_loss: 0.9822 - val_accuracy: 0.5860\n",
            "Epoch 37/100\n",
            "419/419 [==============================] - 6s 14ms/step - loss: 0.8223 - accuracy: 0.6738 - val_loss: 0.9625 - val_accuracy: 0.5968\n",
            "Epoch 38/100\n",
            "419/419 [==============================] - 6s 14ms/step - loss: 0.7886 - accuracy: 0.6834 - val_loss: 0.8643 - val_accuracy: 0.6505\n",
            "Epoch 39/100\n",
            "419/419 [==============================] - 6s 14ms/step - loss: 0.7675 - accuracy: 0.6947 - val_loss: 0.8742 - val_accuracy: 0.6398\n",
            "Epoch 40/100\n",
            "419/419 [==============================] - 6s 14ms/step - loss: 0.7691 - accuracy: 0.7097 - val_loss: 0.8897 - val_accuracy: 0.6452\n",
            "Epoch 41/100\n",
            "419/419 [==============================] - 6s 13ms/step - loss: 0.7440 - accuracy: 0.7109 - val_loss: 0.8544 - val_accuracy: 0.6290\n",
            "Epoch 42/100\n",
            "419/419 [==============================] - 6s 13ms/step - loss: 0.7222 - accuracy: 0.7133 - val_loss: 0.8999 - val_accuracy: 0.6129\n",
            "Epoch 43/100\n",
            "419/419 [==============================] - 6s 13ms/step - loss: 0.7169 - accuracy: 0.7216 - val_loss: 0.9998 - val_accuracy: 0.5699\n",
            "Epoch 44/100\n",
            "419/419 [==============================] - 6s 14ms/step - loss: 0.6953 - accuracy: 0.7366 - val_loss: 0.8689 - val_accuracy: 0.6559\n",
            "Epoch 45/100\n",
            "419/419 [==============================] - 6s 14ms/step - loss: 0.6734 - accuracy: 0.7515 - val_loss: 0.7889 - val_accuracy: 0.7043\n",
            "Epoch 46/100\n",
            "419/419 [==============================] - 6s 14ms/step - loss: 0.6730 - accuracy: 0.7479 - val_loss: 0.8549 - val_accuracy: 0.6559\n",
            "Epoch 47/100\n",
            "419/419 [==============================] - 6s 14ms/step - loss: 0.6372 - accuracy: 0.7593 - val_loss: 0.7051 - val_accuracy: 0.7312\n",
            "Epoch 48/100\n",
            "419/419 [==============================] - 6s 14ms/step - loss: 0.6211 - accuracy: 0.7742 - val_loss: 0.8154 - val_accuracy: 0.6720\n",
            "Epoch 49/100\n",
            "419/419 [==============================] - 6s 14ms/step - loss: 0.6117 - accuracy: 0.7730 - val_loss: 0.7552 - val_accuracy: 0.7097\n",
            "Epoch 50/100\n",
            "419/419 [==============================] - 6s 14ms/step - loss: 0.5831 - accuracy: 0.7808 - val_loss: 0.7621 - val_accuracy: 0.6882\n",
            "Epoch 51/100\n",
            "419/419 [==============================] - 6s 14ms/step - loss: 0.5876 - accuracy: 0.7748 - val_loss: 0.7365 - val_accuracy: 0.6774\n",
            "Epoch 52/100\n",
            "419/419 [==============================] - 6s 14ms/step - loss: 0.5589 - accuracy: 0.7826 - val_loss: 0.7420 - val_accuracy: 0.7097\n",
            "Epoch 53/100\n",
            "419/419 [==============================] - 6s 14ms/step - loss: 0.5555 - accuracy: 0.8005 - val_loss: 0.6444 - val_accuracy: 0.7742\n",
            "Epoch 54/100\n",
            "419/419 [==============================] - 6s 14ms/step - loss: 0.5308 - accuracy: 0.8106 - val_loss: 0.7411 - val_accuracy: 0.6828\n",
            "Epoch 55/100\n",
            "419/419 [==============================] - 6s 14ms/step - loss: 0.5062 - accuracy: 0.8065 - val_loss: 0.6295 - val_accuracy: 0.7527\n",
            "Epoch 56/100\n",
            "419/419 [==============================] - 6s 14ms/step - loss: 0.4952 - accuracy: 0.8250 - val_loss: 0.7531 - val_accuracy: 0.7097\n",
            "Epoch 57/100\n",
            "419/419 [==============================] - 6s 14ms/step - loss: 0.4859 - accuracy: 0.8238 - val_loss: 0.6518 - val_accuracy: 0.7742\n",
            "Epoch 58/100\n",
            "419/419 [==============================] - 6s 14ms/step - loss: 0.4838 - accuracy: 0.8208 - val_loss: 0.6935 - val_accuracy: 0.7527\n",
            "Epoch 59/100\n",
            "419/419 [==============================] - 6s 14ms/step - loss: 0.4786 - accuracy: 0.8286 - val_loss: 0.6637 - val_accuracy: 0.7634\n",
            "Epoch 60/100\n",
            "419/419 [==============================] - 6s 14ms/step - loss: 0.4671 - accuracy: 0.8393 - val_loss: 0.6914 - val_accuracy: 0.7097\n",
            "Epoch 61/100\n",
            "419/419 [==============================] - 6s 14ms/step - loss: 0.4363 - accuracy: 0.8435 - val_loss: 0.6179 - val_accuracy: 0.7688\n",
            "Epoch 62/100\n",
            "419/419 [==============================] - 6s 14ms/step - loss: 0.4469 - accuracy: 0.8465 - val_loss: 0.8678 - val_accuracy: 0.6828\n",
            "Epoch 63/100\n",
            "419/419 [==============================] - 6s 14ms/step - loss: 0.4416 - accuracy: 0.8459 - val_loss: 0.7411 - val_accuracy: 0.7097\n",
            "Epoch 64/100\n",
            "419/419 [==============================] - 6s 14ms/step - loss: 0.4172 - accuracy: 0.8554 - val_loss: 0.5603 - val_accuracy: 0.8118\n",
            "Epoch 65/100\n",
            "419/419 [==============================] - 6s 14ms/step - loss: 0.4094 - accuracy: 0.8626 - val_loss: 0.6312 - val_accuracy: 0.7581\n",
            "Epoch 66/100\n",
            "419/419 [==============================] - 6s 14ms/step - loss: 0.3884 - accuracy: 0.8471 - val_loss: 0.5141 - val_accuracy: 0.8011\n",
            "Epoch 67/100\n",
            "419/419 [==============================] - 6s 14ms/step - loss: 0.4164 - accuracy: 0.8441 - val_loss: 0.6898 - val_accuracy: 0.7312\n",
            "Epoch 68/100\n",
            "419/419 [==============================] - 6s 14ms/step - loss: 0.3960 - accuracy: 0.8608 - val_loss: 0.6768 - val_accuracy: 0.7581\n",
            "Epoch 69/100\n",
            "419/419 [==============================] - 6s 14ms/step - loss: 0.3685 - accuracy: 0.8710 - val_loss: 0.5333 - val_accuracy: 0.7849\n",
            "Epoch 70/100\n",
            "419/419 [==============================] - 6s 14ms/step - loss: 0.3478 - accuracy: 0.8781 - val_loss: 0.5454 - val_accuracy: 0.8011\n",
            "Epoch 71/100\n",
            "419/419 [==============================] - 6s 14ms/step - loss: 0.3497 - accuracy: 0.8805 - val_loss: 0.4844 - val_accuracy: 0.8172\n",
            "Epoch 72/100\n",
            "419/419 [==============================] - 6s 14ms/step - loss: 0.3681 - accuracy: 0.8728 - val_loss: 0.5851 - val_accuracy: 0.7849\n",
            "Epoch 73/100\n",
            "419/419 [==============================] - 6s 14ms/step - loss: 0.3299 - accuracy: 0.8853 - val_loss: 0.4897 - val_accuracy: 0.8065\n",
            "Epoch 74/100\n",
            "419/419 [==============================] - 6s 14ms/step - loss: 0.3302 - accuracy: 0.8817 - val_loss: 0.5881 - val_accuracy: 0.7634\n",
            "Epoch 75/100\n",
            "419/419 [==============================] - 6s 14ms/step - loss: 0.3214 - accuracy: 0.8865 - val_loss: 0.5550 - val_accuracy: 0.7796\n",
            "Epoch 76/100\n",
            "419/419 [==============================] - 6s 14ms/step - loss: 0.2938 - accuracy: 0.9050 - val_loss: 0.4937 - val_accuracy: 0.8118\n",
            "Epoch 77/100\n",
            "419/419 [==============================] - 6s 14ms/step - loss: 0.2962 - accuracy: 0.9044 - val_loss: 0.7156 - val_accuracy: 0.7312\n",
            "Epoch 78/100\n",
            "419/419 [==============================] - 6s 14ms/step - loss: 0.3340 - accuracy: 0.8829 - val_loss: 0.4835 - val_accuracy: 0.8065\n",
            "Epoch 79/100\n",
            "419/419 [==============================] - 6s 14ms/step - loss: 0.3150 - accuracy: 0.8883 - val_loss: 0.4891 - val_accuracy: 0.8172\n",
            "Epoch 80/100\n",
            "419/419 [==============================] - 6s 14ms/step - loss: 0.2893 - accuracy: 0.9020 - val_loss: 0.3878 - val_accuracy: 0.8656\n",
            "Epoch 81/100\n",
            "419/419 [==============================] - 6s 14ms/step - loss: 0.2671 - accuracy: 0.9068 - val_loss: 0.4753 - val_accuracy: 0.8280\n",
            "Epoch 82/100\n",
            "419/419 [==============================] - 6s 14ms/step - loss: 0.2865 - accuracy: 0.8943 - val_loss: 0.3969 - val_accuracy: 0.8387\n",
            "Epoch 83/100\n",
            "419/419 [==============================] - 6s 14ms/step - loss: 0.2927 - accuracy: 0.8990 - val_loss: 0.6103 - val_accuracy: 0.7688\n",
            "Epoch 84/100\n",
            "419/419 [==============================] - 6s 14ms/step - loss: 0.2679 - accuracy: 0.9068 - val_loss: 0.4607 - val_accuracy: 0.8118\n",
            "Epoch 85/100\n",
            "419/419 [==============================] - 6s 14ms/step - loss: 0.2786 - accuracy: 0.9008 - val_loss: 0.4147 - val_accuracy: 0.8387\n",
            "Epoch 86/100\n",
            "419/419 [==============================] - 6s 14ms/step - loss: 0.2524 - accuracy: 0.9080 - val_loss: 0.4977 - val_accuracy: 0.8118\n",
            "Epoch 87/100\n",
            "419/419 [==============================] - 6s 14ms/step - loss: 0.2542 - accuracy: 0.9122 - val_loss: 0.4101 - val_accuracy: 0.8602\n",
            "Epoch 88/100\n",
            "419/419 [==============================] - 6s 14ms/step - loss: 0.2613 - accuracy: 0.8990 - val_loss: 0.5660 - val_accuracy: 0.7903\n",
            "Epoch 89/100\n",
            "419/419 [==============================] - 6s 14ms/step - loss: 0.2516 - accuracy: 0.9116 - val_loss: 0.3687 - val_accuracy: 0.8548\n",
            "Epoch 90/100\n",
            "419/419 [==============================] - 6s 14ms/step - loss: 0.2281 - accuracy: 0.9205 - val_loss: 0.5076 - val_accuracy: 0.8172\n",
            "Epoch 91/100\n",
            "419/419 [==============================] - 6s 14ms/step - loss: 0.2338 - accuracy: 0.9205 - val_loss: 0.4672 - val_accuracy: 0.8280\n",
            "Epoch 92/100\n",
            "419/419 [==============================] - 6s 14ms/step - loss: 0.2375 - accuracy: 0.9211 - val_loss: 0.4332 - val_accuracy: 0.8172\n",
            "Epoch 93/100\n",
            "419/419 [==============================] - 6s 15ms/step - loss: 0.2357 - accuracy: 0.9170 - val_loss: 0.5129 - val_accuracy: 0.8118\n",
            "Epoch 94/100\n",
            "419/419 [==============================] - 6s 14ms/step - loss: 0.2379 - accuracy: 0.9205 - val_loss: 0.3673 - val_accuracy: 0.8925\n",
            "Epoch 95/100\n",
            "419/419 [==============================] - 6s 15ms/step - loss: 0.2500 - accuracy: 0.9104 - val_loss: 0.5412 - val_accuracy: 0.8065\n",
            "Epoch 96/100\n",
            "419/419 [==============================] - 6s 14ms/step - loss: 0.2118 - accuracy: 0.9295 - val_loss: 0.6285 - val_accuracy: 0.7688\n",
            "Epoch 97/100\n",
            "419/419 [==============================] - 6s 14ms/step - loss: 0.2010 - accuracy: 0.9301 - val_loss: 0.3835 - val_accuracy: 0.8710\n",
            "Epoch 98/100\n",
            "419/419 [==============================] - 6s 14ms/step - loss: 0.2133 - accuracy: 0.9176 - val_loss: 0.4094 - val_accuracy: 0.8495\n",
            "Epoch 99/100\n",
            "419/419 [==============================] - 6s 14ms/step - loss: 0.2106 - accuracy: 0.9259 - val_loss: 0.5501 - val_accuracy: 0.8118\n",
            "Epoch 100/100\n",
            "419/419 [==============================] - 6s 14ms/step - loss: 0.2298 - accuracy: 0.9259 - val_loss: 0.4299 - val_accuracy: 0.8280\n"
          ]
        }
      ]
    },
    {
      "cell_type": "code",
      "source": [
        "# Evaluate the trained model.\n",
        "model_evaluation_history = LRCN_model.evaluate(features_test, labels_test)"
      ],
      "metadata": {
        "colab": {
          "base_uri": "https://localhost:8080/"
        },
        "id": "MSwdYqJLiATB",
        "outputId": "35895bd4-52bc-4b52-ba2c-df1d2bc96142"
      },
      "execution_count": 15,
      "outputs": [
        {
          "output_type": "stream",
          "name": "stdout",
          "text": [
            "7/7 [==============================] - 0s 24ms/step - loss: 0.5415 - accuracy: 0.7874\n"
          ]
        }
      ]
    },
    {
      "cell_type": "code",
      "source": [
        "# Get the loss and accuracy from model_evaluation_history.\n",
        "model_evaluation_loss, model_evaluation_accuracy = model_evaluation_history\n",
        "\n",
        "# Define the string date format.\n",
        "# Get the current Date and Time in a DateTime Object.\n",
        "# Convert the DateTime object to string according to the style mentioned in date_time_format string.\n",
        "date_time_format = '%Y_%m_%d__%H_%M_%S'\n",
        "current_date_time_dt = dt.datetime.now()\n",
        "current_date_time_string = dt.datetime.strftime(current_date_time_dt, date_time_format)\n",
        "    \n",
        "# Define a useful name for our model to make it easy for us while navigating through multiple saved models.\n",
        "model_file_name = f'LRCN_model___Date_Time_{current_date_time_string}___Loss_{model_evaluation_loss}___Accuracy_{model_evaluation_accuracy}.h5'\n",
        "\n",
        "# Save the Model.\n",
        "LRCN_model.save(model_file_name)"
      ],
      "metadata": {
        "id": "D3J57fVJRCEa"
      },
      "execution_count": null,
      "outputs": []
    },
    {
      "cell_type": "code",
      "source": [
        "def plot_metric(model_training_history, metric_name_1, metric_name_2, plot_name):\n",
        "    '''\n",
        "    This function will plot the metrics passed to it in a graph.\n",
        "    Args:\n",
        "        model_training_history: A history object containing a record of training and validation \n",
        "                                loss values and metrics values at successive epochs\n",
        "        metric_name_1:          The name of the first metric that needs to be plotted in the graph.\n",
        "        metric_name_2:          The name of the second metric that needs to be plotted in the graph.\n",
        "        plot_name:              The title of the graph.\n",
        "    '''\n",
        "    \n",
        "    # Get metric values using metric names as identifiers.\n",
        "    metric_value_1 = model_training_history.history[metric_name_1]\n",
        "    metric_value_2 = model_training_history.history[metric_name_2]\n",
        "    \n",
        "    # Construct a range object which will be used as x-axis (horizontal plane) of the graph.\n",
        "    epochs = range(len(metric_value_1))\n",
        "\n",
        "    # Plot the Graph.\n",
        "    plt.plot(epochs, metric_value_1, 'blue', label = metric_name_1)\n",
        "    plt.plot(epochs, metric_value_2, 'red', label = metric_name_2)\n",
        "\n",
        "    # Add title to the plot.\n",
        "    plt.title(str(plot_name))\n",
        "\n",
        "    # Add legend to the plot.\n",
        "    plt.legend()"
      ],
      "metadata": {
        "id": "sXhBv91xRFgU"
      },
      "execution_count": 16,
      "outputs": []
    },
    {
      "cell_type": "code",
      "source": [
        "# Visualize the training and validation loss metrices.\n",
        "plot_metric(LRCN_model_training_history, 'loss', 'val_loss', 'Total Loss vs Total Validation Loss')"
      ],
      "metadata": {
        "colab": {
          "base_uri": "https://localhost:8080/",
          "height": 281
        },
        "id": "cKhf3si1RJUW",
        "outputId": "31854e89-0a84-4198-a2d8-fd9d1aa9d5f5"
      },
      "execution_count": 17,
      "outputs": [
        {
          "output_type": "display_data",
          "data": {
            "text/plain": [
              "<Figure size 432x288 with 1 Axes>"
            ],
            "image/png": "[encoded data removed]"
          },
          "metadata": {
            "needs_background": "light"
          }
        }
      ]
    },
    {
      "cell_type": "code",
      "source": [
        "# Visualize the training and validation accuracy metrices.\n",
        "plot_metric(LRCN_model_training_history, 'accuracy', 'val_accuracy', 'Total Accuracy vs Total Validation Accuracy')"
      ],
      "metadata": {
        "colab": {
          "base_uri": "https://localhost:8080/",
          "height": 281
        },
        "id": "5JB37wh3RLWX",
        "outputId": "b9969947-7461-4810-8c10-63a0aacde447"
      },
      "execution_count": 18,
      "outputs": [
        {
          "output_type": "display_data",
          "data": {
            "text/plain": [
              "<Figure size 432x288 with 1 Axes>"
            ],
            "image/png": "[encoded data removed]"
          },
          "metadata": {
            "needs_background": "light"
          }
        }
      ]
    },
    {
      "cell_type": "code",
      "source": [
        "predictions =  LRCN_model.predict(features_test)\n",
        "predictions\n"
      ],
      "metadata": {
        "colab": {
          "base_uri": "https://localhost:8080/"
        },
        "id": "yM7edJgyRf-P",
        "outputId": "aa0bda70-a02c-4dee-87c6-3bb2bfd011c4"
      },
      "execution_count": 19,
      "outputs": [
        {
          "output_type": "execute_result",
          "data": {
            "text/plain": [
              "array([[7.8446651e-01, 4.7253426e-02, 1.1629586e-03, 1.5097030e-01,\n",
              "        8.1162667e-03, 8.0305198e-03],\n",
              "       [2.5997616e-03, 1.9392322e-03, 4.4680611e-04, 3.3466139e-01,\n",
              "        8.7896362e-02, 5.7245642e-01],\n",
              "       [3.9916398e-04, 3.8366530e-03, 9.9434292e-01, 5.2575907e-04,\n",
              "        1.0550771e-04, 7.8998302e-04],\n",
              "       ...,\n",
              "       [2.3940183e-02, 7.8698434e-03, 1.1267671e-03, 9.5471162e-03,\n",
              "        1.4178186e-02, 9.4333792e-01],\n",
              "       [4.4733667e-04, 4.9449259e-04, 5.5306894e-04, 3.1828940e-02,\n",
              "        6.6880834e-01, 2.9786783e-01],\n",
              "       [4.3002190e-03, 9.6860093e-01, 1.5660603e-02, 8.7966239e-03,\n",
              "        5.5098993e-04, 2.0906229e-03]], dtype=float32)"
            ]
          },
          "metadata": {},
          "execution_count": 19
        }
      ]
    },
    {
      "cell_type": "code",
      "source": [
        "preds=predictions.argmax(axis=1)\n",
        "preds"
      ],
      "metadata": {
        "colab": {
          "base_uri": "https://localhost:8080/"
        },
        "id": "DNHaLfq2RjeT",
        "outputId": "aef682fe-cca3-4fbe-9513-ae3f19bc89fc"
      },
      "execution_count": 20,
      "outputs": [
        {
          "output_type": "execute_result",
          "data": {
            "text/plain": [
              "array([0, 5, 2, 5, 5, 2, 5, 1, 5, 0, 5, 1, 4, 0, 4, 5, 4, 5, 2, 1, 5, 2,\n",
              "       0, 2, 2, 5, 3, 5, 5, 5, 5, 4, 5, 0, 2, 2, 5, 1, 5, 4, 2, 2, 1, 5,\n",
              "       2, 0, 5, 0, 5, 5, 5, 2, 1, 0, 3, 0, 0, 0, 2, 5, 4, 5, 5, 0, 0, 3,\n",
              "       1, 0, 5, 2, 1, 2, 5, 5, 5, 4, 0, 3, 4, 4, 3, 3, 5, 0, 0, 1, 2, 3,\n",
              "       3, 5, 5, 1, 0, 1, 5, 5, 1, 2, 5, 3, 0, 3, 0, 5, 5, 5, 2, 1, 4, 1,\n",
              "       5, 2, 0, 0, 4, 0, 4, 0, 1, 1, 1, 5, 1, 4, 1, 2, 3, 2, 5, 1, 2, 0,\n",
              "       1, 5, 1, 0, 5, 0, 1, 1, 2, 2, 2, 5, 0, 2, 5, 0, 0, 3, 2, 3, 5, 0,\n",
              "       1, 2, 1, 5, 1, 0, 1, 3, 5, 2, 5, 0, 0, 0, 5, 4, 5, 3, 1, 5, 3, 1,\n",
              "       5, 0, 5, 5, 4, 0, 0, 5, 3, 3, 1, 3, 3, 4, 1, 5, 0, 0, 4, 2, 3, 1,\n",
              "       5, 5, 3, 2, 5, 2, 5, 4, 1])"
            ]
          },
          "metadata": {},
          "execution_count": 20
        }
      ]
    },
    {
      "cell_type": "code",
      "source": [
        "new_preds = preds.astype(int).flatten()\n",
        "new_preds"
      ],
      "metadata": {
        "colab": {
          "base_uri": "https://localhost:8080/"
        },
        "id": "0W618McKRl02",
        "outputId": "328cf0ab-2199-4022-d9b2-5e09052696e6"
      },
      "execution_count": 21,
      "outputs": [
        {
          "output_type": "execute_result",
          "data": {
            "text/plain": [
              "array([0, 5, 2, 5, 5, 2, 5, 1, 5, 0, 5, 1, 4, 0, 4, 5, 4, 5, 2, 1, 5, 2,\n",
              "       0, 2, 2, 5, 3, 5, 5, 5, 5, 4, 5, 0, 2, 2, 5, 1, 5, 4, 2, 2, 1, 5,\n",
              "       2, 0, 5, 0, 5, 5, 5, 2, 1, 0, 3, 0, 0, 0, 2, 5, 4, 5, 5, 0, 0, 3,\n",
              "       1, 0, 5, 2, 1, 2, 5, 5, 5, 4, 0, 3, 4, 4, 3, 3, 5, 0, 0, 1, 2, 3,\n",
              "       3, 5, 5, 1, 0, 1, 5, 5, 1, 2, 5, 3, 0, 3, 0, 5, 5, 5, 2, 1, 4, 1,\n",
              "       5, 2, 0, 0, 4, 0, 4, 0, 1, 1, 1, 5, 1, 4, 1, 2, 3, 2, 5, 1, 2, 0,\n",
              "       1, 5, 1, 0, 5, 0, 1, 1, 2, 2, 2, 5, 0, 2, 5, 0, 0, 3, 2, 3, 5, 0,\n",
              "       1, 2, 1, 5, 1, 0, 1, 3, 5, 2, 5, 0, 0, 0, 5, 4, 5, 3, 1, 5, 3, 1,\n",
              "       5, 0, 5, 5, 4, 0, 0, 5, 3, 3, 1, 3, 3, 4, 1, 5, 0, 0, 4, 2, 3, 1,\n",
              "       5, 5, 3, 2, 5, 2, 5, 4, 1])"
            ]
          },
          "metadata": {},
          "execution_count": 21
        }
      ]
    },
    {
      "cell_type": "code",
      "source": [
        "\n",
        "from sklearn.metrics import classification_report, confusion_matrix,accuracy_score\n",
        "import seaborn as sn\n",
        "import pandas as pd\n",
        "import numpy as np\n",
        "new_labels=np.argmax(labels_test, axis=1)\n",
        "print(classification_report(new_labels,new_preds))\n",
        "\n",
        "acc = float(accuracy_score(new_labels,new_preds))*100\n",
        "print(\"----accuracy score %s ----\" % acc)\n",
        "\n",
        "cm = confusion_matrix(new_labels,new_preds)\n",
        "#df_cm = pd.DataFrame(cm)\n",
        "class_names = ['neutral','calm', 'happy','sad','angry', 'fearful' ]\n",
        "df_cm = pd.DataFrame(cm, index=class_names, columns=class_names,)\n",
        "sn.heatmap(df_cm, annot=True, fmt='')\n",
        "plt.show()\n"
      ],
      "metadata": {
        "colab": {
          "base_uri": "https://localhost:8080/",
          "height": 508
        },
        "id": "cTET95L8RoVW",
        "outputId": "d27b5130-547d-450a-b67a-ec015fa67ff1"
      },
      "execution_count": 22,
      "outputs": [
        {
          "output_type": "stream",
          "name": "stdout",
          "text": [
            "              precision    recall  f1-score   support\n",
            "\n",
            "           0       0.65      0.96      0.78        27\n",
            "           1       0.94      0.73      0.82        44\n",
            "           2       0.91      0.97      0.94        30\n",
            "           3       0.95      0.62      0.75        34\n",
            "           4       1.00      0.53      0.69        34\n",
            "           5       0.61      0.97      0.75        38\n",
            "\n",
            "    accuracy                           0.79       207\n",
            "   macro avg       0.84      0.80      0.79       207\n",
            "weighted avg       0.85      0.79      0.79       207\n",
            "\n",
            "----accuracy score 78.74396135265701 ----\n"
          ]
        },
        {
          "output_type": "display_data",
          "data": {
            "text/plain": [
              "<Figure size 432x288 with 2 Axes>"
            ],
            "image/png": "[encoded data removed]"
          },
          "metadata": {
            "needs_background": "light"
          }
        }
      ]
    },
    {
      "cell_type": "code",
      "source": [
        ""
      ],
      "metadata": {
        "id": "c3nbyK6BfnDR"
      },
      "execution_count": null,
      "outputs": []
    }
  ]
}