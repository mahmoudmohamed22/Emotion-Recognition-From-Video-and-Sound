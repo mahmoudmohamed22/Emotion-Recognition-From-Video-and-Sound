{
  "nbformat": 4,
  "nbformat_minor": 0,
  "metadata": {
    "colab": {
      "name": "original add layer adam lr=0.0002 try 3.ipynb",
      "provenance": [],
      "collapsed_sections": []
    },
    "kernelspec": {
      "name": "python3",
      "display_name": "Python 3"
    },
    "language_info": {
      "name": "python"
    },
    "accelerator": "GPU"
  },
  "cells": [
    {
      "cell_type": "code",
      "execution_count": 1,
      "metadata": {
        "colab": {
          "base_uri": "https://localhost:8080/"
        },
        "id": "9SRCO-a_AlH5",
        "outputId": "a172244b-d32e-4df2-a540-2dd1c3a41741"
      },
      "outputs": [
        {
          "output_type": "stream",
          "name": "stdout",
          "text": [
            "Drive already mounted at /content/drive; to attempt to forcibly remount, call drive.mount(\"/content/drive\", force_remount=True).\n"
          ]
        }
      ],
      "source": [
        "from google.colab import drive\n",
        "drive.mount('/content/drive')"
      ]
    },
    {
      "cell_type": "code",
      "source": [
        "!pip install librosa"
      ],
      "metadata": {
        "colab": {
          "base_uri": "https://localhost:8080/"
        },
        "id": "5Lo4mUwG9RMd",
        "outputId": "7efe03a0-9b1c-4d46-ed73-123a4760f8ca"
      },
      "execution_count": 2,
      "outputs": [
        {
          "output_type": "stream",
          "name": "stdout",
          "text": [
            "Looking in indexes: https://pypi.org/simple, https://us-python.pkg.dev/colab-wheels/public/simple/\n",
            "Requirement already satisfied: librosa in /usr/local/lib/python3.7/dist-packages (0.8.1)\n",
            "Requirement already satisfied: packaging>=20.0 in /usr/local/lib/python3.7/dist-packages (from librosa) (21.3)\n",
            "Requirement already satisfied: numba>=0.43.0 in /usr/local/lib/python3.7/dist-packages (from librosa) (0.51.2)\n",
            "Requirement already satisfied: numpy>=1.15.0 in /usr/local/lib/python3.7/dist-packages (from librosa) (1.21.6)\n",
            "Requirement already satisfied: resampy>=0.2.2 in /usr/local/lib/python3.7/dist-packages (from librosa) (0.2.2)\n",
            "Requirement already satisfied: soundfile>=0.10.2 in /usr/local/lib/python3.7/dist-packages (from librosa) (0.10.3.post1)\n",
            "Requirement already satisfied: audioread>=2.0.0 in /usr/local/lib/python3.7/dist-packages (from librosa) (2.1.9)\n",
            "Requirement already satisfied: pooch>=1.0 in /usr/local/lib/python3.7/dist-packages (from librosa) (1.6.0)\n",
            "Requirement already satisfied: scikit-learn!=0.19.0,>=0.14.0 in /usr/local/lib/python3.7/dist-packages (from librosa) (1.0.2)\n",
            "Requirement already satisfied: scipy>=1.0.0 in /usr/local/lib/python3.7/dist-packages (from librosa) (1.4.1)\n",
            "Requirement already satisfied: decorator>=3.0.0 in /usr/local/lib/python3.7/dist-packages (from librosa) (4.4.2)\n",
            "Requirement already satisfied: joblib>=0.14 in /usr/local/lib/python3.7/dist-packages (from librosa) (1.1.0)\n",
            "Requirement already satisfied: llvmlite<0.35,>=0.34.0.dev0 in /usr/local/lib/python3.7/dist-packages (from numba>=0.43.0->librosa) (0.34.0)\n",
            "Requirement already satisfied: setuptools in /usr/local/lib/python3.7/dist-packages (from numba>=0.43.0->librosa) (57.4.0)\n",
            "Requirement already satisfied: pyparsing!=3.0.5,>=2.0.2 in /usr/local/lib/python3.7/dist-packages (from packaging>=20.0->librosa) (3.0.9)\n",
            "Requirement already satisfied: appdirs>=1.3.0 in /usr/local/lib/python3.7/dist-packages (from pooch>=1.0->librosa) (1.4.4)\n",
            "Requirement already satisfied: requests>=2.19.0 in /usr/local/lib/python3.7/dist-packages (from pooch>=1.0->librosa) (2.23.0)\n",
            "Requirement already satisfied: idna<3,>=2.5 in /usr/local/lib/python3.7/dist-packages (from requests>=2.19.0->pooch>=1.0->librosa) (2.10)\n",
            "Requirement already satisfied: certifi>=2017.4.17 in /usr/local/lib/python3.7/dist-packages (from requests>=2.19.0->pooch>=1.0->librosa) (2022.5.18.1)\n",
            "Requirement already satisfied: chardet<4,>=3.0.2 in /usr/local/lib/python3.7/dist-packages (from requests>=2.19.0->pooch>=1.0->librosa) (3.0.4)\n",
            "Requirement already satisfied: urllib3!=1.25.0,!=1.25.1,<1.26,>=1.21.1 in /usr/local/lib/python3.7/dist-packages (from requests>=2.19.0->pooch>=1.0->librosa) (1.24.3)\n",
            "Requirement already satisfied: six>=1.3 in /usr/local/lib/python3.7/dist-packages (from resampy>=0.2.2->librosa) (1.15.0)\n",
            "Requirement already satisfied: threadpoolctl>=2.0.0 in /usr/local/lib/python3.7/dist-packages (from scikit-learn!=0.19.0,>=0.14.0->librosa) (3.1.0)\n",
            "Requirement already satisfied: cffi>=1.0 in /usr/local/lib/python3.7/dist-packages (from soundfile>=0.10.2->librosa) (1.15.0)\n",
            "Requirement already satisfied: pycparser in /usr/local/lib/python3.7/dist-packages (from cffi>=1.0->soundfile>=0.10.2->librosa) (2.21)\n"
          ]
        }
      ]
    },
    {
      "cell_type": "code",
      "metadata": {
        "id": "HJjcbxwy46bG",
        "colab": {
          "base_uri": "https://localhost:8080/",
          "height": 17
        },
        "outputId": "fd708054-68fe-48b6-e243-aabb6c17a9d0"
      },
      "source": [
        "# Orignial Notebook: https://github.com/MITESHPUTHRANNEU/Speech-Emotion-Analyzer/blob/master/final_results_gender_test.ipynb\n",
        "# This notebook author: Reza Chu\n",
        "# Last Editing Date: 31st May 2019\n",
        "\n",
        "## Python\n",
        "import os\n",
        "import random\n",
        "import sys\n",
        "\n",
        "import IPython\n",
        "from IPython.display import Audio\n",
        "from IPython.display import Image\n",
        "import matplotlib.pyplot as plt\n",
        "\n",
        "## Package\n",
        "import glob \n",
        "import keras\n",
        "import IPython.display as ipd\n",
        "import librosa\n",
        "import librosa.display\n",
        "import matplotlib.pyplot as plt\n",
        "import numpy as np\n",
        "import pandas as pd\n",
        "import plotly.graph_objs as go\n",
        "import plotly.offline as py\n",
        "import plotly.tools as tls\n",
        "import seaborn as sns\n",
        "import scipy.io.wavfile\n",
        "import tensorflow as tf\n",
        "py.init_notebook_mode(connected=True)\n",
        "\n",
        "## Keras\n",
        "from keras import regularizers\n",
        "from keras.callbacks import ModelCheckpoint, LearningRateScheduler, EarlyStopping\n",
        "from keras.callbacks import  History, ReduceLROnPlateau, CSVLogger\n",
        "from keras.models import Model, Sequential\n",
        "from keras.layers import Dense, Embedding, LSTM\n",
        "from keras.layers import Input, Flatten, Dropout, Activation, BatchNormalization\n",
        "from keras.layers import Conv1D, MaxPooling1D, AveragePooling1D\n",
        "from keras.preprocessing import sequence\n",
        "from keras.preprocessing.sequence import pad_sequences\n",
        "from keras.preprocessing.text import Tokenizer\n",
        "from keras.utils import np_utils\n",
        "from tensorflow.keras.utils import to_categorical\n",
        "\n",
        "## Sklearn\n",
        "from sklearn.metrics import confusion_matrix\n",
        "from sklearn.preprocessing import LabelEncoder\n",
        "\n",
        "## Rest\n",
        "from scipy.fftpack import fft\n",
        "from scipy import signal\n",
        "from scipy.io import wavfile\n",
        "from tqdm import tqdm\n",
        "\n",
        "input_duration=3\n",
        "# % pylab inline"
      ],
      "execution_count": 3,
      "outputs": [
        {
          "output_type": "display_data",
          "data": {
            "text/html": [
              "        <script type=\"text/javascript\">\n",
              "        window.PlotlyConfig = {MathJaxConfig: 'local'};\n",
              "        if (window.MathJax) {MathJax.Hub.Config({SVG: {font: \"STIX-Web\"}});}\n",
              "        if (typeof require !== 'undefined') {\n",
              "        require.undef(\"plotly\");\n",
              "        requirejs.config({\n",
              "            paths: {\n",
              "                'plotly': ['https://cdn.plot.ly/plotly-2.8.3.min']\n",
              "            }\n",
              "        });\n",
              "        require(['plotly'], function(Plotly) {\n",
              "            window._Plotly = Plotly;\n",
              "        });\n",
              "        }\n",
              "        </script>\n",
              "        "
            ]
          },
          "metadata": {}
        }
      ]
    },
    {
      "cell_type": "code",
      "source": [
        "# # Saving joblib files to not load them again with the loop above\n",
        "\n",
        "# import joblib\n",
        "\n",
        "# X_name = 'x.joblib'\n",
        "# y_name = 'y.joblib'\n",
        "# save_dir = '/content/drive/My Drive/graduation project/audio/paper_code/features'\n",
        "\n",
        "# savedX = joblib.dump(X, os.path.join(save_dir, X_name))\n",
        "# savedy = joblib.dump(y, os.path.join(save_dir, y_name))"
      ],
      "metadata": {
        "id": "UCzic8rlDcuk"
      },
      "execution_count": 4,
      "outputs": []
    },
    {
      "cell_type": "code",
      "source": [
        "# # Loading saved models\n",
        "import joblib\n",
        "X = joblib.load('/content/drive/My Drive/graduation project/audio/paper_code/features/x.joblib')\n",
        "y = joblib.load('/content/drive/My Drive/graduation project/audio/paper_code/features/y.joblib')"
      ],
      "metadata": {
        "id": "Q35CN6zDrzg1"
      },
      "execution_count": 5,
      "outputs": []
    },
    {
      "cell_type": "code",
      "source": [
        "X.shape"
      ],
      "metadata": {
        "colab": {
          "base_uri": "https://localhost:8080/"
        },
        "id": "7PSTurzjCo5K",
        "outputId": "212f9321-df80-44da-db88-f996e4253434"
      },
      "execution_count": 6,
      "outputs": [
        {
          "output_type": "execute_result",
          "data": {
            "text/plain": [
              "(2068, 40)"
            ]
          },
          "metadata": {},
          "execution_count": 6
        }
      ]
    },
    {
      "cell_type": "code",
      "source": [
        "from sklearn.model_selection import train_test_split\n",
        "\n",
        "X_train, X_test, y_train, y_test = train_test_split(X,y, test_size=0.1 ,shuffle = True\n",
        "                                                    , random_state=42)\n",
        "X_train , X_valid, y_train, y_valid = train_test_split(X_train,y_train, test_size=0.1112305212 , shuffle = True \n",
        "                                                       , random_state=42)"
      ],
      "metadata": {
        "id": "Ai4Fy5cPCiq1"
      },
      "execution_count": 7,
      "outputs": []
    },
    {
      "cell_type": "code",
      "source": [
        "import numpy as np\n",
        "x_traincnn = np.expand_dims(X_train, axis=2)\n",
        "x_testcnn = np.expand_dims(X_test, axis=2)\n",
        "X_valid= np.expand_dims(X_valid, axis=2)"
      ],
      "metadata": {
        "id": "tp1Fm5K3CEXu"
      },
      "execution_count": 8,
      "outputs": []
    },
    {
      "cell_type": "code",
      "source": [
        "x_traincnn.shape, x_testcnn.shape , X_valid.shape\n",
        "#1861"
      ],
      "metadata": {
        "id": "RI0MxoIPBws5",
        "colab": {
          "base_uri": "https://localhost:8080/"
        },
        "outputId": "3bcd5619-e652-481a-fbcf-3a417c81e425"
      },
      "execution_count": 9,
      "outputs": [
        {
          "output_type": "execute_result",
          "data": {
            "text/plain": [
              "((1654, 40, 1), (207, 40, 1), (207, 40, 1))"
            ]
          },
          "metadata": {},
          "execution_count": 9
        }
      ]
    },
    {
      "cell_type": "code",
      "source": [
        "!pip install tensorflow"
      ],
      "metadata": {
        "colab": {
          "base_uri": "https://localhost:8080/"
        },
        "id": "oALhiMUd9G2Y",
        "outputId": "a6ef2b0f-db0d-4052-a35c-2bb8724bedef"
      },
      "execution_count": 10,
      "outputs": [
        {
          "output_type": "stream",
          "name": "stdout",
          "text": [
            "Looking in indexes: https://pypi.org/simple, https://us-python.pkg.dev/colab-wheels/public/simple/\n",
            "Requirement already satisfied: tensorflow in /usr/local/lib/python3.7/dist-packages (2.8.2+zzzcolab20220527125636)\n",
            "Requirement already satisfied: six>=1.12.0 in /usr/local/lib/python3.7/dist-packages (from tensorflow) (1.15.0)\n",
            "Requirement already satisfied: h5py>=2.9.0 in /usr/local/lib/python3.7/dist-packages (from tensorflow) (3.1.0)\n",
            "Requirement already satisfied: astunparse>=1.6.0 in /usr/local/lib/python3.7/dist-packages (from tensorflow) (1.6.3)\n",
            "Requirement already satisfied: gast>=0.2.1 in /usr/local/lib/python3.7/dist-packages (from tensorflow) (0.5.3)\n",
            "Requirement already satisfied: keras-preprocessing>=1.1.1 in /usr/local/lib/python3.7/dist-packages (from tensorflow) (1.1.2)\n",
            "Requirement already satisfied: opt-einsum>=2.3.2 in /usr/local/lib/python3.7/dist-packages (from tensorflow) (3.3.0)\n",
            "Requirement already satisfied: google-pasta>=0.1.1 in /usr/local/lib/python3.7/dist-packages (from tensorflow) (0.2.0)\n",
            "Requirement already satisfied: termcolor>=1.1.0 in /usr/local/lib/python3.7/dist-packages (from tensorflow) (1.1.0)\n",
            "Requirement already satisfied: setuptools in /usr/local/lib/python3.7/dist-packages (from tensorflow) (57.4.0)\n",
            "Requirement already satisfied: keras<2.9,>=2.8.0rc0 in /usr/local/lib/python3.7/dist-packages (from tensorflow) (2.8.0)\n",
            "Requirement already satisfied: wrapt>=1.11.0 in /usr/local/lib/python3.7/dist-packages (from tensorflow) (1.14.1)\n",
            "Requirement already satisfied: flatbuffers>=1.12 in /usr/local/lib/python3.7/dist-packages (from tensorflow) (2.0)\n",
            "Requirement already satisfied: tensorflow-estimator<2.9,>=2.8 in /usr/local/lib/python3.7/dist-packages (from tensorflow) (2.8.0)\n",
            "Requirement already satisfied: tensorboard<2.9,>=2.8 in /usr/local/lib/python3.7/dist-packages (from tensorflow) (2.8.0)\n",
            "Requirement already satisfied: tensorflow-io-gcs-filesystem>=0.23.1 in /usr/local/lib/python3.7/dist-packages (from tensorflow) (0.26.0)\n",
            "Requirement already satisfied: absl-py>=0.4.0 in /usr/local/lib/python3.7/dist-packages (from tensorflow) (1.0.0)\n",
            "Requirement already satisfied: protobuf<3.20,>=3.9.2 in /usr/local/lib/python3.7/dist-packages (from tensorflow) (3.17.3)\n",
            "Requirement already satisfied: libclang>=9.0.1 in /usr/local/lib/python3.7/dist-packages (from tensorflow) (14.0.1)\n",
            "Requirement already satisfied: grpcio<2.0,>=1.24.3 in /usr/local/lib/python3.7/dist-packages (from tensorflow) (1.46.3)\n",
            "Requirement already satisfied: typing-extensions>=3.6.6 in /usr/local/lib/python3.7/dist-packages (from tensorflow) (4.2.0)\n",
            "Requirement already satisfied: numpy>=1.20 in /usr/local/lib/python3.7/dist-packages (from tensorflow) (1.21.6)\n",
            "Requirement already satisfied: wheel<1.0,>=0.23.0 in /usr/local/lib/python3.7/dist-packages (from astunparse>=1.6.0->tensorflow) (0.37.1)\n",
            "Requirement already satisfied: cached-property in /usr/local/lib/python3.7/dist-packages (from h5py>=2.9.0->tensorflow) (1.5.2)\n",
            "Requirement already satisfied: werkzeug>=0.11.15 in /usr/local/lib/python3.7/dist-packages (from tensorboard<2.9,>=2.8->tensorflow) (1.0.1)\n",
            "Requirement already satisfied: google-auth<3,>=1.6.3 in /usr/local/lib/python3.7/dist-packages (from tensorboard<2.9,>=2.8->tensorflow) (1.35.0)\n",
            "Requirement already satisfied: tensorboard-data-server<0.7.0,>=0.6.0 in /usr/local/lib/python3.7/dist-packages (from tensorboard<2.9,>=2.8->tensorflow) (0.6.1)\n",
            "Requirement already satisfied: google-auth-oauthlib<0.5,>=0.4.1 in /usr/local/lib/python3.7/dist-packages (from tensorboard<2.9,>=2.8->tensorflow) (0.4.6)\n",
            "Requirement already satisfied: markdown>=2.6.8 in /usr/local/lib/python3.7/dist-packages (from tensorboard<2.9,>=2.8->tensorflow) (3.3.7)\n",
            "Requirement already satisfied: requests<3,>=2.21.0 in /usr/local/lib/python3.7/dist-packages (from tensorboard<2.9,>=2.8->tensorflow) (2.23.0)\n",
            "Requirement already satisfied: tensorboard-plugin-wit>=1.6.0 in /usr/local/lib/python3.7/dist-packages (from tensorboard<2.9,>=2.8->tensorflow) (1.8.1)\n",
            "Requirement already satisfied: cachetools<5.0,>=2.0.0 in /usr/local/lib/python3.7/dist-packages (from google-auth<3,>=1.6.3->tensorboard<2.9,>=2.8->tensorflow) (4.2.4)\n",
            "Requirement already satisfied: rsa<5,>=3.1.4 in /usr/local/lib/python3.7/dist-packages (from google-auth<3,>=1.6.3->tensorboard<2.9,>=2.8->tensorflow) (4.8)\n",
            "Requirement already satisfied: pyasn1-modules>=0.2.1 in /usr/local/lib/python3.7/dist-packages (from google-auth<3,>=1.6.3->tensorboard<2.9,>=2.8->tensorflow) (0.2.8)\n",
            "Requirement already satisfied: requests-oauthlib>=0.7.0 in /usr/local/lib/python3.7/dist-packages (from google-auth-oauthlib<0.5,>=0.4.1->tensorboard<2.9,>=2.8->tensorflow) (1.3.1)\n",
            "Requirement already satisfied: importlib-metadata>=4.4 in /usr/local/lib/python3.7/dist-packages (from markdown>=2.6.8->tensorboard<2.9,>=2.8->tensorflow) (4.11.4)\n",
            "Requirement already satisfied: zipp>=0.5 in /usr/local/lib/python3.7/dist-packages (from importlib-metadata>=4.4->markdown>=2.6.8->tensorboard<2.9,>=2.8->tensorflow) (3.8.0)\n",
            "Requirement already satisfied: pyasn1<0.5.0,>=0.4.6 in /usr/local/lib/python3.7/dist-packages (from pyasn1-modules>=0.2.1->google-auth<3,>=1.6.3->tensorboard<2.9,>=2.8->tensorflow) (0.4.8)\n",
            "Requirement already satisfied: certifi>=2017.4.17 in /usr/local/lib/python3.7/dist-packages (from requests<3,>=2.21.0->tensorboard<2.9,>=2.8->tensorflow) (2022.5.18.1)\n",
            "Requirement already satisfied: idna<3,>=2.5 in /usr/local/lib/python3.7/dist-packages (from requests<3,>=2.21.0->tensorboard<2.9,>=2.8->tensorflow) (2.10)\n",
            "Requirement already satisfied: chardet<4,>=3.0.2 in /usr/local/lib/python3.7/dist-packages (from requests<3,>=2.21.0->tensorboard<2.9,>=2.8->tensorflow) (3.0.4)\n",
            "Requirement already satisfied: urllib3!=1.25.0,!=1.25.1,<1.26,>=1.21.1 in /usr/local/lib/python3.7/dist-packages (from requests<3,>=2.21.0->tensorboard<2.9,>=2.8->tensorflow) (1.24.3)\n",
            "Requirement already satisfied: oauthlib>=3.0.0 in /usr/local/lib/python3.7/dist-packages (from requests-oauthlib>=0.7.0->google-auth-oauthlib<0.5,>=0.4.1->tensorboard<2.9,>=2.8->tensorflow) (3.2.0)\n"
          ]
        }
      ]
    },
    {
      "cell_type": "code",
      "source": [
        "import keras\n",
        "import numpy as np\n",
        "import matplotlib.pyplot as plt\n",
        "import tensorflow as tf\n",
        "from keras.preprocessing import sequence\n",
        "from keras.models import Sequential\n",
        "from keras.layers import Dense, Embedding\n",
        "from tensorflow.keras.utils import to_categorical\n",
        "from keras.layers import Input, Flatten, Dropout, Activation\n",
        "from keras.layers import Conv1D, MaxPooling1D\n",
        "from keras.models import Model\n",
        "from keras.callbacks import ModelCheckpoint\n",
        "from tensorflow.keras import optimizers\n",
        "\n",
        "model = Sequential()\n",
        "\n",
        "model.add(Conv1D(128, 8,padding='same', #classifier.add(Convolution2D(64, (3, 3), padding = 'same', input_shape = (128, 128, 3), activation = 'relu'))\n",
        "                 input_shape=(40,1)))\n",
        "model.add(Activation('relu'))\n",
        "model.add(Dropout(0.3))\n",
        "model.add(MaxPooling1D(pool_size=(5)))\n",
        "\n",
        "\n",
        "model.add(Conv1D(256,8,padding='same',))\n",
        "model.add(Activation('relu'))\n",
        "model.add(Dropout(0.3))\n",
        "model.add(MaxPooling1D(pool_size=(5)))\n",
        "\n",
        "model.add(Conv1D(256,8,padding='same',))\n",
        "model.add(Activation('relu'))\n",
        "model.add(Dropout(0.3))\n",
        "#model.add(MaxPooling1D(pool_size=(5)))\n",
        "\n",
        "model.add(Flatten())\n",
        "\n",
        "model.add(Dense(256))\n",
        "model.add(Activation('relu'))\n",
        "model.add(Dense(256))\n",
        "model.add(Activation('relu'))\n",
        "\n",
        "model.add(Dense(6))\n",
        "model.add(Activation('softmax'))\n",
        "\n",
        "opt = tf.keras.optimizers.Adam(lr=0.0002 , decay=0.0)\n",
        "#opt = tf.keras.optimizers.RMSprop(lr=0.0001, rho=0.9, epsilon=1e-07, decay=0.0)\n",
        "#opt = tf.keras.optimizers.SGD(lr=0.001, momentum=0.0, decay=0.0, nesterov=False)"
      ],
      "metadata": {
        "id": "g74fXWVAC4Cr",
        "colab": {
          "base_uri": "https://localhost:8080/"
        },
        "outputId": "0da6a018-3a8c-4ea7-86a8-a213bb5c5386"
      },
      "execution_count": 11,
      "outputs": [
        {
          "output_type": "stream",
          "name": "stderr",
          "text": [
            "/usr/local/lib/python3.7/dist-packages/keras/optimizer_v2/adam.py:105: UserWarning:\n",
            "\n",
            "The `lr` argument is deprecated, use `learning_rate` instead.\n",
            "\n"
          ]
        }
      ]
    },
    {
      "cell_type": "code",
      "source": [
        "model.summary()"
      ],
      "metadata": {
        "colab": {
          "base_uri": "https://localhost:8080/"
        },
        "id": "H6ukOxAGC_I4",
        "outputId": "41eee744-85c4-4030-cd9c-6f0aba88f039"
      },
      "execution_count": 12,
      "outputs": [
        {
          "output_type": "stream",
          "name": "stdout",
          "text": [
            "Model: \"sequential\"\n",
            "_________________________________________________________________\n",
            " Layer (type)                Output Shape              Param #   \n",
            "=================================================================\n",
            " conv1d (Conv1D)             (None, 40, 128)           1152      \n",
            "                                                                 \n",
            " activation (Activation)     (None, 40, 128)           0         \n",
            "                                                                 \n",
            " dropout (Dropout)           (None, 40, 128)           0         \n",
            "                                                                 \n",
            " max_pooling1d (MaxPooling1D  (None, 8, 128)           0         \n",
            " )                                                               \n",
            "                                                                 \n",
            " conv1d_1 (Conv1D)           (None, 8, 256)            262400    \n",
            "                                                                 \n",
            " activation_1 (Activation)   (None, 8, 256)            0         \n",
            "                                                                 \n",
            " dropout_1 (Dropout)         (None, 8, 256)            0         \n",
            "                                                                 \n",
            " max_pooling1d_1 (MaxPooling  (None, 1, 256)           0         \n",
            " 1D)                                                             \n",
            "                                                                 \n",
            " conv1d_2 (Conv1D)           (None, 1, 256)            524544    \n",
            "                                                                 \n",
            " activation_2 (Activation)   (None, 1, 256)            0         \n",
            "                                                                 \n",
            " dropout_2 (Dropout)         (None, 1, 256)            0         \n",
            "                                                                 \n",
            " flatten (Flatten)           (None, 256)               0         \n",
            "                                                                 \n",
            " dense (Dense)               (None, 256)               65792     \n",
            "                                                                 \n",
            " activation_3 (Activation)   (None, 256)               0         \n",
            "                                                                 \n",
            " dense_1 (Dense)             (None, 256)               65792     \n",
            "                                                                 \n",
            " activation_4 (Activation)   (None, 256)               0         \n",
            "                                                                 \n",
            " dense_2 (Dense)             (None, 6)                 1542      \n",
            "                                                                 \n",
            " activation_5 (Activation)   (None, 6)                 0         \n",
            "                                                                 \n",
            "=================================================================\n",
            "Total params: 921,222\n",
            "Trainable params: 921,222\n",
            "Non-trainable params: 0\n",
            "_________________________________________________________________\n"
          ]
        }
      ]
    },
    {
      "cell_type": "code",
      "source": [
        "model.compile(loss='sparse_categorical_crossentropy',\n",
        "              optimizer=opt,\n",
        "              metrics=['accuracy'])"
      ],
      "metadata": {
        "id": "AbMlLNk4DCBM"
      },
      "execution_count": 13,
      "outputs": []
    },
    {
      "cell_type": "code",
      "source": [
        "# Create an Instance of Early Stopping Callback.\n",
        "early_stopping_callback = EarlyStopping(monitor = 'val_loss', patience = 25, mode = 'min', restore_best_weights = True)\n",
        "\n",
        "cnnhistory=model.fit(x_traincnn, y_train, batch_size=16, epochs=500 , shuffle = True, \n",
        "                     validation_data=(X_valid, y_valid) , callbacks = [early_stopping_callback])"
      ],
      "metadata": {
        "colab": {
          "base_uri": "https://localhost:8080/"
        },
        "id": "RI1v2AuADFhy",
        "outputId": "b37c7b02-03ef-4f50-a302-0c7f07065772"
      },
      "execution_count": 14,
      "outputs": [
        {
          "output_type": "stream",
          "name": "stdout",
          "text": [
            "Epoch 1/500\n",
            "104/104 [==============================] - 5s 14ms/step - loss: 2.0988 - accuracy: 0.1929 - val_loss: 1.7778 - val_accuracy: 0.2077\n",
            "Epoch 2/500\n",
            "104/104 [==============================] - 1s 9ms/step - loss: 1.8574 - accuracy: 0.2013 - val_loss: 1.7902 - val_accuracy: 0.1594\n",
            "Epoch 3/500\n",
            "104/104 [==============================] - 1s 8ms/step - loss: 1.8138 - accuracy: 0.1874 - val_loss: 1.7659 - val_accuracy: 0.2271\n",
            "Epoch 4/500\n",
            "104/104 [==============================] - 1s 8ms/step - loss: 1.8054 - accuracy: 0.1959 - val_loss: 1.7700 - val_accuracy: 0.2415\n",
            "Epoch 5/500\n",
            "104/104 [==============================] - 1s 9ms/step - loss: 1.7886 - accuracy: 0.2044 - val_loss: 1.7737 - val_accuracy: 0.1594\n",
            "Epoch 6/500\n",
            "104/104 [==============================] - 1s 9ms/step - loss: 1.7815 - accuracy: 0.2019 - val_loss: 1.7760 - val_accuracy: 0.2126\n",
            "Epoch 7/500\n",
            "104/104 [==============================] - 1s 10ms/step - loss: 1.7610 - accuracy: 0.1995 - val_loss: 1.7494 - val_accuracy: 0.2222\n",
            "Epoch 8/500\n",
            "104/104 [==============================] - 1s 9ms/step - loss: 1.7555 - accuracy: 0.2297 - val_loss: 1.7465 - val_accuracy: 0.2415\n",
            "Epoch 9/500\n",
            "104/104 [==============================] - 1s 9ms/step - loss: 1.7456 - accuracy: 0.2116 - val_loss: 1.7070 - val_accuracy: 0.3043\n",
            "Epoch 10/500\n",
            "104/104 [==============================] - 1s 9ms/step - loss: 1.7348 - accuracy: 0.2437 - val_loss: 1.7002 - val_accuracy: 0.2512\n",
            "Epoch 11/500\n",
            "104/104 [==============================] - 1s 11ms/step - loss: 1.7100 - accuracy: 0.2630 - val_loss: 1.6842 - val_accuracy: 0.2995\n",
            "Epoch 12/500\n",
            "104/104 [==============================] - 1s 11ms/step - loss: 1.6874 - accuracy: 0.2600 - val_loss: 1.6602 - val_accuracy: 0.2899\n",
            "Epoch 13/500\n",
            "104/104 [==============================] - 1s 10ms/step - loss: 1.6678 - accuracy: 0.2721 - val_loss: 1.6633 - val_accuracy: 0.2899\n",
            "Epoch 14/500\n",
            "104/104 [==============================] - 1s 10ms/step - loss: 1.6404 - accuracy: 0.2884 - val_loss: 1.6128 - val_accuracy: 0.3140\n",
            "Epoch 15/500\n",
            "104/104 [==============================] - 1s 10ms/step - loss: 1.6289 - accuracy: 0.2823 - val_loss: 1.6100 - val_accuracy: 0.2995\n",
            "Epoch 16/500\n",
            "104/104 [==============================] - 1s 8ms/step - loss: 1.6103 - accuracy: 0.2999 - val_loss: 1.6231 - val_accuracy: 0.2899\n",
            "Epoch 17/500\n",
            "104/104 [==============================] - 1s 11ms/step - loss: 1.5944 - accuracy: 0.2963 - val_loss: 1.5969 - val_accuracy: 0.3575\n",
            "Epoch 18/500\n",
            "104/104 [==============================] - 1s 11ms/step - loss: 1.5982 - accuracy: 0.2926 - val_loss: 1.5813 - val_accuracy: 0.3043\n",
            "Epoch 19/500\n",
            "104/104 [==============================] - 1s 9ms/step - loss: 1.5719 - accuracy: 0.3114 - val_loss: 1.5467 - val_accuracy: 0.3333\n",
            "Epoch 20/500\n",
            "104/104 [==============================] - 1s 10ms/step - loss: 1.5592 - accuracy: 0.3229 - val_loss: 1.5430 - val_accuracy: 0.3527\n",
            "Epoch 21/500\n",
            "104/104 [==============================] - 1s 10ms/step - loss: 1.5430 - accuracy: 0.3283 - val_loss: 1.5342 - val_accuracy: 0.3237\n",
            "Epoch 22/500\n",
            "104/104 [==============================] - 1s 11ms/step - loss: 1.5200 - accuracy: 0.3404 - val_loss: 1.4887 - val_accuracy: 0.3527\n",
            "Epoch 23/500\n",
            "104/104 [==============================] - 1s 11ms/step - loss: 1.5170 - accuracy: 0.3664 - val_loss: 1.5010 - val_accuracy: 0.4058\n",
            "Epoch 24/500\n",
            "104/104 [==============================] - 1s 8ms/step - loss: 1.5022 - accuracy: 0.3622 - val_loss: 1.4779 - val_accuracy: 0.4106\n",
            "Epoch 25/500\n",
            "104/104 [==============================] - 1s 9ms/step - loss: 1.4776 - accuracy: 0.3730 - val_loss: 1.4617 - val_accuracy: 0.4203\n",
            "Epoch 26/500\n",
            "104/104 [==============================] - 1s 8ms/step - loss: 1.4756 - accuracy: 0.3791 - val_loss: 1.4722 - val_accuracy: 0.4106\n",
            "Epoch 27/500\n",
            "104/104 [==============================] - 1s 6ms/step - loss: 1.4635 - accuracy: 0.3761 - val_loss: 1.4437 - val_accuracy: 0.4058\n",
            "Epoch 28/500\n",
            "104/104 [==============================] - 1s 5ms/step - loss: 1.4341 - accuracy: 0.3972 - val_loss: 1.4385 - val_accuracy: 0.4396\n",
            "Epoch 29/500\n",
            "104/104 [==============================] - 1s 6ms/step - loss: 1.3943 - accuracy: 0.4111 - val_loss: 1.3706 - val_accuracy: 0.4734\n",
            "Epoch 30/500\n",
            "104/104 [==============================] - 1s 5ms/step - loss: 1.3824 - accuracy: 0.4087 - val_loss: 1.3455 - val_accuracy: 0.4589\n",
            "Epoch 31/500\n",
            "104/104 [==============================] - 1s 5ms/step - loss: 1.3506 - accuracy: 0.4365 - val_loss: 1.3255 - val_accuracy: 0.4589\n",
            "Epoch 32/500\n",
            "104/104 [==============================] - 1s 6ms/step - loss: 1.3171 - accuracy: 0.4571 - val_loss: 1.2781 - val_accuracy: 0.5072\n",
            "Epoch 33/500\n",
            "104/104 [==============================] - 1s 5ms/step - loss: 1.2591 - accuracy: 0.4601 - val_loss: 1.2429 - val_accuracy: 0.4879\n",
            "Epoch 34/500\n",
            "104/104 [==============================] - 1s 6ms/step - loss: 1.2525 - accuracy: 0.4788 - val_loss: 1.2105 - val_accuracy: 0.5314\n",
            "Epoch 35/500\n",
            "104/104 [==============================] - 1s 5ms/step - loss: 1.2402 - accuracy: 0.4776 - val_loss: 1.1764 - val_accuracy: 0.5411\n",
            "Epoch 36/500\n",
            "104/104 [==============================] - 1s 5ms/step - loss: 1.2026 - accuracy: 0.5200 - val_loss: 1.2008 - val_accuracy: 0.4879\n",
            "Epoch 37/500\n",
            "104/104 [==============================] - 1s 5ms/step - loss: 1.1770 - accuracy: 0.5278 - val_loss: 1.1482 - val_accuracy: 0.5121\n",
            "Epoch 38/500\n",
            "104/104 [==============================] - 1s 5ms/step - loss: 1.1446 - accuracy: 0.5339 - val_loss: 1.1271 - val_accuracy: 0.5700\n",
            "Epoch 39/500\n",
            "104/104 [==============================] - 1s 6ms/step - loss: 1.1350 - accuracy: 0.5290 - val_loss: 1.1148 - val_accuracy: 0.5411\n",
            "Epoch 40/500\n",
            "104/104 [==============================] - 1s 5ms/step - loss: 1.1172 - accuracy: 0.5290 - val_loss: 1.0613 - val_accuracy: 0.5942\n",
            "Epoch 41/500\n",
            "104/104 [==============================] - 1s 5ms/step - loss: 1.0837 - accuracy: 0.5520 - val_loss: 1.0599 - val_accuracy: 0.5459\n",
            "Epoch 42/500\n",
            "104/104 [==============================] - 1s 6ms/step - loss: 1.0604 - accuracy: 0.5623 - val_loss: 1.0614 - val_accuracy: 0.5797\n",
            "Epoch 43/500\n",
            "104/104 [==============================] - 1s 5ms/step - loss: 1.0439 - accuracy: 0.5653 - val_loss: 1.0059 - val_accuracy: 0.5749\n",
            "Epoch 44/500\n",
            "104/104 [==============================] - 1s 6ms/step - loss: 1.0473 - accuracy: 0.5695 - val_loss: 0.9937 - val_accuracy: 0.5990\n",
            "Epoch 45/500\n",
            "104/104 [==============================] - 1s 5ms/step - loss: 1.0215 - accuracy: 0.5756 - val_loss: 1.0340 - val_accuracy: 0.5797\n",
            "Epoch 46/500\n",
            "104/104 [==============================] - 1s 5ms/step - loss: 1.0358 - accuracy: 0.5774 - val_loss: 0.9633 - val_accuracy: 0.6087\n",
            "Epoch 47/500\n",
            "104/104 [==============================] - 1s 6ms/step - loss: 1.0084 - accuracy: 0.5828 - val_loss: 0.9848 - val_accuracy: 0.5845\n",
            "Epoch 48/500\n",
            "104/104 [==============================] - 1s 5ms/step - loss: 0.9689 - accuracy: 0.5979 - val_loss: 0.9343 - val_accuracy: 0.6473\n",
            "Epoch 49/500\n",
            "104/104 [==============================] - 1s 6ms/step - loss: 0.9705 - accuracy: 0.5998 - val_loss: 0.9523 - val_accuracy: 0.6135\n",
            "Epoch 50/500\n",
            "104/104 [==============================] - 1s 5ms/step - loss: 0.9632 - accuracy: 0.6040 - val_loss: 0.9582 - val_accuracy: 0.6184\n",
            "Epoch 51/500\n",
            "104/104 [==============================] - 1s 5ms/step - loss: 0.9635 - accuracy: 0.5967 - val_loss: 0.9506 - val_accuracy: 0.6087\n",
            "Epoch 52/500\n",
            "104/104 [==============================] - 1s 6ms/step - loss: 0.9537 - accuracy: 0.6149 - val_loss: 0.9398 - val_accuracy: 0.6135\n",
            "Epoch 53/500\n",
            "104/104 [==============================] - 1s 5ms/step - loss: 0.9407 - accuracy: 0.6336 - val_loss: 0.9553 - val_accuracy: 0.6425\n",
            "Epoch 54/500\n",
            "104/104 [==============================] - 1s 6ms/step - loss: 0.9255 - accuracy: 0.6209 - val_loss: 0.9399 - val_accuracy: 0.6087\n",
            "Epoch 55/500\n",
            "104/104 [==============================] - 1s 5ms/step - loss: 0.9156 - accuracy: 0.6258 - val_loss: 0.9369 - val_accuracy: 0.6329\n",
            "Epoch 56/500\n",
            "104/104 [==============================] - 1s 6ms/step - loss: 0.9061 - accuracy: 0.6318 - val_loss: 0.9197 - val_accuracy: 0.6232\n",
            "Epoch 57/500\n",
            "104/104 [==============================] - 1s 6ms/step - loss: 0.8980 - accuracy: 0.6409 - val_loss: 0.9056 - val_accuracy: 0.6135\n",
            "Epoch 58/500\n",
            "104/104 [==============================] - 1s 5ms/step - loss: 0.8840 - accuracy: 0.6421 - val_loss: 0.8933 - val_accuracy: 0.6377\n",
            "Epoch 59/500\n",
            "104/104 [==============================] - 1s 6ms/step - loss: 0.8869 - accuracy: 0.6499 - val_loss: 0.8387 - val_accuracy: 0.6522\n",
            "Epoch 60/500\n",
            "104/104 [==============================] - 1s 6ms/step - loss: 0.8573 - accuracy: 0.6518 - val_loss: 0.8631 - val_accuracy: 0.6908\n",
            "Epoch 61/500\n",
            "104/104 [==============================] - 1s 6ms/step - loss: 0.8436 - accuracy: 0.6638 - val_loss: 0.8827 - val_accuracy: 0.6377\n",
            "Epoch 62/500\n",
            "104/104 [==============================] - 1s 6ms/step - loss: 0.8254 - accuracy: 0.6681 - val_loss: 0.8403 - val_accuracy: 0.6763\n",
            "Epoch 63/500\n",
            "104/104 [==============================] - 1s 5ms/step - loss: 0.8483 - accuracy: 0.6566 - val_loss: 0.8744 - val_accuracy: 0.6763\n",
            "Epoch 64/500\n",
            "104/104 [==============================] - 1s 6ms/step - loss: 0.8106 - accuracy: 0.6778 - val_loss: 0.8012 - val_accuracy: 0.6812\n",
            "Epoch 65/500\n",
            "104/104 [==============================] - 1s 5ms/step - loss: 0.8253 - accuracy: 0.6657 - val_loss: 0.8353 - val_accuracy: 0.6425\n",
            "Epoch 66/500\n",
            "104/104 [==============================] - 1s 5ms/step - loss: 0.8027 - accuracy: 0.6747 - val_loss: 0.8233 - val_accuracy: 0.6522\n",
            "Epoch 67/500\n",
            "104/104 [==============================] - 1s 6ms/step - loss: 0.8073 - accuracy: 0.6741 - val_loss: 0.8478 - val_accuracy: 0.6329\n",
            "Epoch 68/500\n",
            "104/104 [==============================] - 0s 5ms/step - loss: 0.8096 - accuracy: 0.6711 - val_loss: 0.8768 - val_accuracy: 0.6232\n",
            "Epoch 69/500\n",
            "104/104 [==============================] - 1s 6ms/step - loss: 0.7964 - accuracy: 0.6814 - val_loss: 0.7481 - val_accuracy: 0.7198\n",
            "Epoch 70/500\n",
            "104/104 [==============================] - 1s 6ms/step - loss: 0.7793 - accuracy: 0.6880 - val_loss: 0.7662 - val_accuracy: 0.7053\n",
            "Epoch 71/500\n",
            "104/104 [==============================] - 1s 5ms/step - loss: 0.7513 - accuracy: 0.6880 - val_loss: 0.8034 - val_accuracy: 0.6618\n",
            "Epoch 72/500\n",
            "104/104 [==============================] - 1s 6ms/step - loss: 0.7625 - accuracy: 0.7062 - val_loss: 0.8026 - val_accuracy: 0.6812\n",
            "Epoch 73/500\n",
            "104/104 [==============================] - 0s 5ms/step - loss: 0.7363 - accuracy: 0.7098 - val_loss: 0.7583 - val_accuracy: 0.7295\n",
            "Epoch 74/500\n",
            "104/104 [==============================] - 1s 5ms/step - loss: 0.7517 - accuracy: 0.7019 - val_loss: 0.7630 - val_accuracy: 0.7053\n",
            "Epoch 75/500\n",
            "104/104 [==============================] - 1s 6ms/step - loss: 0.7325 - accuracy: 0.7164 - val_loss: 0.7197 - val_accuracy: 0.7198\n",
            "Epoch 76/500\n",
            "104/104 [==============================] - 1s 5ms/step - loss: 0.7129 - accuracy: 0.7116 - val_loss: 0.7986 - val_accuracy: 0.6522\n",
            "Epoch 77/500\n",
            "104/104 [==============================] - 1s 6ms/step - loss: 0.7106 - accuracy: 0.7255 - val_loss: 0.8229 - val_accuracy: 0.6908\n",
            "Epoch 78/500\n",
            "104/104 [==============================] - 1s 5ms/step - loss: 0.7301 - accuracy: 0.7243 - val_loss: 0.7187 - val_accuracy: 0.7391\n",
            "Epoch 79/500\n",
            "104/104 [==============================] - 1s 6ms/step - loss: 0.7145 - accuracy: 0.7152 - val_loss: 0.7190 - val_accuracy: 0.7488\n",
            "Epoch 80/500\n",
            "104/104 [==============================] - 1s 6ms/step - loss: 0.7127 - accuracy: 0.7050 - val_loss: 0.7050 - val_accuracy: 0.7536\n",
            "Epoch 81/500\n",
            "104/104 [==============================] - 1s 5ms/step - loss: 0.6850 - accuracy: 0.7304 - val_loss: 0.7519 - val_accuracy: 0.7295\n",
            "Epoch 82/500\n",
            "104/104 [==============================] - 1s 6ms/step - loss: 0.6819 - accuracy: 0.7116 - val_loss: 0.7436 - val_accuracy: 0.7005\n",
            "Epoch 83/500\n",
            "104/104 [==============================] - 1s 5ms/step - loss: 0.7047 - accuracy: 0.7231 - val_loss: 0.7544 - val_accuracy: 0.6860\n",
            "Epoch 84/500\n",
            "104/104 [==============================] - 1s 6ms/step - loss: 0.6835 - accuracy: 0.7297 - val_loss: 0.7448 - val_accuracy: 0.6957\n",
            "Epoch 85/500\n",
            "104/104 [==============================] - 1s 6ms/step - loss: 0.6547 - accuracy: 0.7430 - val_loss: 0.7143 - val_accuracy: 0.7343\n",
            "Epoch 86/500\n",
            "104/104 [==============================] - 1s 5ms/step - loss: 0.6693 - accuracy: 0.7352 - val_loss: 0.6951 - val_accuracy: 0.7440\n",
            "Epoch 87/500\n",
            "104/104 [==============================] - 1s 6ms/step - loss: 0.7031 - accuracy: 0.7279 - val_loss: 0.7224 - val_accuracy: 0.7343\n",
            "Epoch 88/500\n",
            "104/104 [==============================] - 1s 5ms/step - loss: 0.6362 - accuracy: 0.7618 - val_loss: 0.6817 - val_accuracy: 0.7488\n",
            "Epoch 89/500\n",
            "104/104 [==============================] - 1s 5ms/step - loss: 0.6482 - accuracy: 0.7449 - val_loss: 0.7621 - val_accuracy: 0.6812\n",
            "Epoch 90/500\n",
            "104/104 [==============================] - 1s 6ms/step - loss: 0.6377 - accuracy: 0.7430 - val_loss: 0.6553 - val_accuracy: 0.7391\n",
            "Epoch 91/500\n",
            "104/104 [==============================] - 1s 8ms/step - loss: 0.6388 - accuracy: 0.7473 - val_loss: 0.7167 - val_accuracy: 0.7391\n",
            "Epoch 92/500\n",
            "104/104 [==============================] - 1s 10ms/step - loss: 0.6099 - accuracy: 0.7473 - val_loss: 0.7288 - val_accuracy: 0.7150\n",
            "Epoch 93/500\n",
            "104/104 [==============================] - 1s 10ms/step - loss: 0.6228 - accuracy: 0.7618 - val_loss: 0.6837 - val_accuracy: 0.7681\n",
            "Epoch 94/500\n",
            "104/104 [==============================] - 1s 11ms/step - loss: 0.6036 - accuracy: 0.7715 - val_loss: 0.6942 - val_accuracy: 0.7246\n",
            "Epoch 95/500\n",
            "104/104 [==============================] - 1s 9ms/step - loss: 0.6313 - accuracy: 0.7563 - val_loss: 0.7061 - val_accuracy: 0.7681\n",
            "Epoch 96/500\n",
            "104/104 [==============================] - 1s 10ms/step - loss: 0.6072 - accuracy: 0.7721 - val_loss: 0.7032 - val_accuracy: 0.7005\n",
            "Epoch 97/500\n",
            "104/104 [==============================] - 1s 11ms/step - loss: 0.5927 - accuracy: 0.7618 - val_loss: 0.6368 - val_accuracy: 0.7681\n",
            "Epoch 98/500\n",
            "104/104 [==============================] - 1s 10ms/step - loss: 0.6073 - accuracy: 0.7527 - val_loss: 0.6798 - val_accuracy: 0.7488\n",
            "Epoch 99/500\n",
            "104/104 [==============================] - 1s 10ms/step - loss: 0.5322 - accuracy: 0.7902 - val_loss: 0.6857 - val_accuracy: 0.6957\n",
            "Epoch 100/500\n",
            "104/104 [==============================] - 1s 10ms/step - loss: 0.5598 - accuracy: 0.7666 - val_loss: 0.6686 - val_accuracy: 0.7198\n",
            "Epoch 101/500\n",
            "104/104 [==============================] - 1s 10ms/step - loss: 0.5798 - accuracy: 0.7624 - val_loss: 0.6555 - val_accuracy: 0.7343\n",
            "Epoch 102/500\n",
            "104/104 [==============================] - 1s 8ms/step - loss: 0.5821 - accuracy: 0.7684 - val_loss: 0.6864 - val_accuracy: 0.7005\n",
            "Epoch 103/500\n",
            "104/104 [==============================] - 1s 6ms/step - loss: 0.5535 - accuracy: 0.7817 - val_loss: 0.6257 - val_accuracy: 0.7536\n",
            "Epoch 104/500\n",
            "104/104 [==============================] - 1s 5ms/step - loss: 0.5481 - accuracy: 0.7914 - val_loss: 0.6305 - val_accuracy: 0.7681\n",
            "Epoch 105/500\n",
            "104/104 [==============================] - 1s 6ms/step - loss: 0.5620 - accuracy: 0.7920 - val_loss: 0.6651 - val_accuracy: 0.7343\n",
            "Epoch 106/500\n",
            "104/104 [==============================] - 1s 6ms/step - loss: 0.5364 - accuracy: 0.7896 - val_loss: 0.6664 - val_accuracy: 0.7198\n",
            "Epoch 107/500\n",
            "104/104 [==============================] - 1s 5ms/step - loss: 0.5263 - accuracy: 0.7896 - val_loss: 0.6363 - val_accuracy: 0.7778\n",
            "Epoch 108/500\n",
            "104/104 [==============================] - 1s 5ms/step - loss: 0.5634 - accuracy: 0.7805 - val_loss: 0.6077 - val_accuracy: 0.7536\n",
            "Epoch 109/500\n",
            "104/104 [==============================] - 1s 6ms/step - loss: 0.4967 - accuracy: 0.8096 - val_loss: 0.6794 - val_accuracy: 0.7150\n",
            "Epoch 110/500\n",
            "104/104 [==============================] - 1s 6ms/step - loss: 0.5192 - accuracy: 0.7987 - val_loss: 0.6464 - val_accuracy: 0.7633\n",
            "Epoch 111/500\n",
            "104/104 [==============================] - 1s 5ms/step - loss: 0.5281 - accuracy: 0.7842 - val_loss: 0.6341 - val_accuracy: 0.7536\n",
            "Epoch 112/500\n",
            "104/104 [==============================] - 1s 6ms/step - loss: 0.5207 - accuracy: 0.8041 - val_loss: 0.6202 - val_accuracy: 0.7440\n",
            "Epoch 113/500\n",
            "104/104 [==============================] - 1s 6ms/step - loss: 0.5071 - accuracy: 0.8053 - val_loss: 0.6216 - val_accuracy: 0.7488\n",
            "Epoch 114/500\n",
            "104/104 [==============================] - 1s 8ms/step - loss: 0.5153 - accuracy: 0.7932 - val_loss: 0.6753 - val_accuracy: 0.7681\n",
            "Epoch 115/500\n",
            "104/104 [==============================] - 1s 8ms/step - loss: 0.5313 - accuracy: 0.7993 - val_loss: 0.7053 - val_accuracy: 0.7198\n",
            "Epoch 116/500\n",
            "104/104 [==============================] - 1s 10ms/step - loss: 0.4974 - accuracy: 0.8144 - val_loss: 0.6175 - val_accuracy: 0.7826\n",
            "Epoch 117/500\n",
            "104/104 [==============================] - 1s 8ms/step - loss: 0.4970 - accuracy: 0.8071 - val_loss: 0.6032 - val_accuracy: 0.7778\n",
            "Epoch 118/500\n",
            "104/104 [==============================] - 1s 9ms/step - loss: 0.4708 - accuracy: 0.8204 - val_loss: 0.6288 - val_accuracy: 0.7440\n",
            "Epoch 119/500\n",
            "104/104 [==============================] - 1s 6ms/step - loss: 0.4857 - accuracy: 0.8162 - val_loss: 0.5851 - val_accuracy: 0.7874\n",
            "Epoch 120/500\n",
            "104/104 [==============================] - 1s 6ms/step - loss: 0.4840 - accuracy: 0.8041 - val_loss: 0.6769 - val_accuracy: 0.7440\n",
            "Epoch 121/500\n",
            "104/104 [==============================] - 1s 7ms/step - loss: 0.4992 - accuracy: 0.8065 - val_loss: 0.7053 - val_accuracy: 0.7440\n",
            "Epoch 122/500\n",
            "104/104 [==============================] - 1s 8ms/step - loss: 0.5005 - accuracy: 0.7956 - val_loss: 0.6100 - val_accuracy: 0.7874\n",
            "Epoch 123/500\n",
            "104/104 [==============================] - 1s 8ms/step - loss: 0.4913 - accuracy: 0.8168 - val_loss: 0.6443 - val_accuracy: 0.7536\n",
            "Epoch 124/500\n",
            "104/104 [==============================] - 1s 7ms/step - loss: 0.4842 - accuracy: 0.8162 - val_loss: 0.6137 - val_accuracy: 0.7585\n",
            "Epoch 125/500\n",
            "104/104 [==============================] - 1s 8ms/step - loss: 0.4484 - accuracy: 0.8229 - val_loss: 0.5823 - val_accuracy: 0.7681\n",
            "Epoch 126/500\n",
            "104/104 [==============================] - 1s 5ms/step - loss: 0.4663 - accuracy: 0.8168 - val_loss: 0.6597 - val_accuracy: 0.7536\n",
            "Epoch 127/500\n",
            "104/104 [==============================] - 1s 5ms/step - loss: 0.4515 - accuracy: 0.8253 - val_loss: 0.6766 - val_accuracy: 0.7198\n",
            "Epoch 128/500\n",
            "104/104 [==============================] - 1s 5ms/step - loss: 0.4595 - accuracy: 0.8210 - val_loss: 0.6055 - val_accuracy: 0.7633\n",
            "Epoch 129/500\n",
            "104/104 [==============================] - 1s 5ms/step - loss: 0.4541 - accuracy: 0.8144 - val_loss: 0.5952 - val_accuracy: 0.7729\n",
            "Epoch 130/500\n",
            "104/104 [==============================] - 1s 6ms/step - loss: 0.4413 - accuracy: 0.8283 - val_loss: 0.6115 - val_accuracy: 0.7391\n",
            "Epoch 131/500\n",
            "104/104 [==============================] - 1s 5ms/step - loss: 0.4453 - accuracy: 0.8241 - val_loss: 0.6171 - val_accuracy: 0.7585\n",
            "Epoch 132/500\n",
            "104/104 [==============================] - 1s 5ms/step - loss: 0.4485 - accuracy: 0.8295 - val_loss: 0.6562 - val_accuracy: 0.7295\n",
            "Epoch 133/500\n",
            "104/104 [==============================] - 1s 5ms/step - loss: 0.4543 - accuracy: 0.8343 - val_loss: 0.6136 - val_accuracy: 0.7874\n",
            "Epoch 134/500\n",
            "104/104 [==============================] - 1s 5ms/step - loss: 0.4307 - accuracy: 0.8289 - val_loss: 0.6459 - val_accuracy: 0.7681\n",
            "Epoch 135/500\n",
            "104/104 [==============================] - 1s 6ms/step - loss: 0.4220 - accuracy: 0.8241 - val_loss: 0.5885 - val_accuracy: 0.7826\n",
            "Epoch 136/500\n",
            "104/104 [==============================] - 1s 5ms/step - loss: 0.4288 - accuracy: 0.8295 - val_loss: 0.6264 - val_accuracy: 0.7729\n",
            "Epoch 137/500\n",
            "104/104 [==============================] - 1s 6ms/step - loss: 0.4400 - accuracy: 0.8392 - val_loss: 0.6000 - val_accuracy: 0.7826\n",
            "Epoch 138/500\n",
            "104/104 [==============================] - 1s 6ms/step - loss: 0.4279 - accuracy: 0.8319 - val_loss: 0.6355 - val_accuracy: 0.7633\n",
            "Epoch 139/500\n",
            "104/104 [==============================] - 1s 6ms/step - loss: 0.4371 - accuracy: 0.8301 - val_loss: 0.5977 - val_accuracy: 0.7681\n",
            "Epoch 140/500\n",
            "104/104 [==============================] - 1s 6ms/step - loss: 0.4199 - accuracy: 0.8374 - val_loss: 0.6280 - val_accuracy: 0.7681\n",
            "Epoch 141/500\n",
            "104/104 [==============================] - 1s 5ms/step - loss: 0.4013 - accuracy: 0.8476 - val_loss: 0.6126 - val_accuracy: 0.7874\n",
            "Epoch 142/500\n",
            "104/104 [==============================] - 1s 6ms/step - loss: 0.3972 - accuracy: 0.8404 - val_loss: 0.6027 - val_accuracy: 0.7874\n",
            "Epoch 143/500\n",
            "104/104 [==============================] - 1s 6ms/step - loss: 0.4358 - accuracy: 0.8307 - val_loss: 0.6118 - val_accuracy: 0.7536\n",
            "Epoch 144/500\n",
            "104/104 [==============================] - 1s 5ms/step - loss: 0.3722 - accuracy: 0.8597 - val_loss: 0.6211 - val_accuracy: 0.7440\n",
            "Epoch 145/500\n",
            "104/104 [==============================] - 1s 6ms/step - loss: 0.3883 - accuracy: 0.8531 - val_loss: 0.6413 - val_accuracy: 0.7778\n",
            "Epoch 146/500\n",
            "104/104 [==============================] - 1s 6ms/step - loss: 0.4215 - accuracy: 0.8470 - val_loss: 0.6401 - val_accuracy: 0.7778\n",
            "Epoch 147/500\n",
            "104/104 [==============================] - 1s 5ms/step - loss: 0.3938 - accuracy: 0.8531 - val_loss: 0.6366 - val_accuracy: 0.7826\n",
            "Epoch 148/500\n",
            "104/104 [==============================] - 1s 6ms/step - loss: 0.4042 - accuracy: 0.8458 - val_loss: 0.6034 - val_accuracy: 0.7729\n",
            "Epoch 149/500\n",
            "104/104 [==============================] - 1s 5ms/step - loss: 0.3951 - accuracy: 0.8476 - val_loss: 0.6015 - val_accuracy: 0.7826\n",
            "Epoch 150/500\n",
            "104/104 [==============================] - 1s 6ms/step - loss: 0.3836 - accuracy: 0.8470 - val_loss: 0.5787 - val_accuracy: 0.7923\n",
            "Epoch 151/500\n",
            "104/104 [==============================] - 1s 6ms/step - loss: 0.3572 - accuracy: 0.8628 - val_loss: 0.6210 - val_accuracy: 0.7729\n",
            "Epoch 152/500\n",
            "104/104 [==============================] - 1s 6ms/step - loss: 0.3722 - accuracy: 0.8640 - val_loss: 0.6193 - val_accuracy: 0.7536\n",
            "Epoch 153/500\n",
            "104/104 [==============================] - 1s 6ms/step - loss: 0.4178 - accuracy: 0.8428 - val_loss: 0.6399 - val_accuracy: 0.7729\n",
            "Epoch 154/500\n",
            "104/104 [==============================] - 1s 5ms/step - loss: 0.3589 - accuracy: 0.8658 - val_loss: 0.6319 - val_accuracy: 0.7585\n",
            "Epoch 155/500\n",
            "104/104 [==============================] - 1s 6ms/step - loss: 0.3610 - accuracy: 0.8561 - val_loss: 0.6211 - val_accuracy: 0.7826\n",
            "Epoch 156/500\n",
            "104/104 [==============================] - 1s 5ms/step - loss: 0.3940 - accuracy: 0.8543 - val_loss: 0.6505 - val_accuracy: 0.7729\n",
            "Epoch 157/500\n",
            "104/104 [==============================] - 1s 5ms/step - loss: 0.3916 - accuracy: 0.8519 - val_loss: 0.6224 - val_accuracy: 0.7971\n",
            "Epoch 158/500\n",
            "104/104 [==============================] - 1s 6ms/step - loss: 0.3957 - accuracy: 0.8501 - val_loss: 0.6288 - val_accuracy: 0.7778\n",
            "Epoch 159/500\n",
            "104/104 [==============================] - 1s 5ms/step - loss: 0.3602 - accuracy: 0.8603 - val_loss: 0.6480 - val_accuracy: 0.7681\n",
            "Epoch 160/500\n",
            "104/104 [==============================] - 1s 6ms/step - loss: 0.3797 - accuracy: 0.8585 - val_loss: 0.5402 - val_accuracy: 0.8068\n",
            "Epoch 161/500\n",
            "104/104 [==============================] - 1s 6ms/step - loss: 0.3769 - accuracy: 0.8597 - val_loss: 0.5777 - val_accuracy: 0.8068\n",
            "Epoch 162/500\n",
            "104/104 [==============================] - 1s 5ms/step - loss: 0.3384 - accuracy: 0.8682 - val_loss: 0.6502 - val_accuracy: 0.7633\n",
            "Epoch 163/500\n",
            "104/104 [==============================] - 1s 6ms/step - loss: 0.3423 - accuracy: 0.8640 - val_loss: 0.6425 - val_accuracy: 0.7729\n",
            "Epoch 164/500\n",
            "104/104 [==============================] - 1s 5ms/step - loss: 0.3711 - accuracy: 0.8609 - val_loss: 0.6102 - val_accuracy: 0.7778\n",
            "Epoch 165/500\n",
            "104/104 [==============================] - 1s 6ms/step - loss: 0.3373 - accuracy: 0.8761 - val_loss: 0.6217 - val_accuracy: 0.7874\n",
            "Epoch 166/500\n",
            "104/104 [==============================] - 1s 5ms/step - loss: 0.3309 - accuracy: 0.8724 - val_loss: 0.5678 - val_accuracy: 0.7729\n",
            "Epoch 167/500\n",
            "104/104 [==============================] - 1s 5ms/step - loss: 0.3182 - accuracy: 0.8724 - val_loss: 0.6039 - val_accuracy: 0.7874\n",
            "Epoch 168/500\n",
            "104/104 [==============================] - 1s 6ms/step - loss: 0.3410 - accuracy: 0.8779 - val_loss: 0.6414 - val_accuracy: 0.7681\n",
            "Epoch 169/500\n",
            "104/104 [==============================] - 1s 5ms/step - loss: 0.3392 - accuracy: 0.8646 - val_loss: 0.5860 - val_accuracy: 0.8116\n",
            "Epoch 170/500\n",
            "104/104 [==============================] - 1s 6ms/step - loss: 0.3216 - accuracy: 0.8839 - val_loss: 0.5798 - val_accuracy: 0.8019\n",
            "Epoch 171/500\n",
            "104/104 [==============================] - 1s 5ms/step - loss: 0.3358 - accuracy: 0.8730 - val_loss: 0.6183 - val_accuracy: 0.7681\n",
            "Epoch 172/500\n",
            "104/104 [==============================] - 1s 5ms/step - loss: 0.3304 - accuracy: 0.8670 - val_loss: 0.5895 - val_accuracy: 0.7971\n",
            "Epoch 173/500\n",
            "104/104 [==============================] - 1s 6ms/step - loss: 0.3295 - accuracy: 0.8773 - val_loss: 0.5867 - val_accuracy: 0.8068\n",
            "Epoch 174/500\n",
            "104/104 [==============================] - 1s 5ms/step - loss: 0.3244 - accuracy: 0.8761 - val_loss: 0.6387 - val_accuracy: 0.7923\n",
            "Epoch 175/500\n",
            "104/104 [==============================] - 1s 6ms/step - loss: 0.3422 - accuracy: 0.8706 - val_loss: 0.5401 - val_accuracy: 0.8213\n",
            "Epoch 176/500\n",
            "104/104 [==============================] - 1s 5ms/step - loss: 0.3096 - accuracy: 0.8869 - val_loss: 0.5862 - val_accuracy: 0.8019\n",
            "Epoch 177/500\n",
            "104/104 [==============================] - 1s 6ms/step - loss: 0.2968 - accuracy: 0.8875 - val_loss: 0.5753 - val_accuracy: 0.7923\n",
            "Epoch 178/500\n",
            "104/104 [==============================] - 1s 6ms/step - loss: 0.3495 - accuracy: 0.8664 - val_loss: 0.5409 - val_accuracy: 0.8019\n",
            "Epoch 179/500\n",
            "104/104 [==============================] - 1s 5ms/step - loss: 0.2835 - accuracy: 0.8990 - val_loss: 0.6027 - val_accuracy: 0.7633\n",
            "Epoch 180/500\n",
            "104/104 [==============================] - 1s 6ms/step - loss: 0.3067 - accuracy: 0.8924 - val_loss: 0.5478 - val_accuracy: 0.7971\n",
            "Epoch 181/500\n",
            "104/104 [==============================] - 1s 5ms/step - loss: 0.3358 - accuracy: 0.8809 - val_loss: 0.5936 - val_accuracy: 0.8019\n",
            "Epoch 182/500\n",
            "104/104 [==============================] - 1s 5ms/step - loss: 0.2993 - accuracy: 0.8900 - val_loss: 0.5852 - val_accuracy: 0.8019\n",
            "Epoch 183/500\n",
            "104/104 [==============================] - 1s 6ms/step - loss: 0.3275 - accuracy: 0.8724 - val_loss: 0.5627 - val_accuracy: 0.8019\n",
            "Epoch 184/500\n",
            "104/104 [==============================] - 1s 5ms/step - loss: 0.3307 - accuracy: 0.8609 - val_loss: 0.6275 - val_accuracy: 0.8116\n",
            "Epoch 185/500\n",
            "104/104 [==============================] - 1s 6ms/step - loss: 0.3107 - accuracy: 0.8821 - val_loss: 0.6183 - val_accuracy: 0.8164\n",
            "Epoch 186/500\n",
            "104/104 [==============================] - 1s 6ms/step - loss: 0.3062 - accuracy: 0.8851 - val_loss: 0.5691 - val_accuracy: 0.8068\n",
            "Epoch 187/500\n",
            "104/104 [==============================] - 1s 5ms/step - loss: 0.3147 - accuracy: 0.8773 - val_loss: 0.5922 - val_accuracy: 0.8019\n",
            "Epoch 188/500\n",
            "104/104 [==============================] - 1s 6ms/step - loss: 0.2925 - accuracy: 0.8942 - val_loss: 0.5818 - val_accuracy: 0.8164\n",
            "Epoch 189/500\n",
            "104/104 [==============================] - 1s 6ms/step - loss: 0.3077 - accuracy: 0.8803 - val_loss: 0.5950 - val_accuracy: 0.7826\n",
            "Epoch 190/500\n",
            "104/104 [==============================] - 1s 6ms/step - loss: 0.2944 - accuracy: 0.8869 - val_loss: 0.5277 - val_accuracy: 0.8116\n",
            "Epoch 191/500\n",
            "104/104 [==============================] - 1s 6ms/step - loss: 0.3138 - accuracy: 0.8869 - val_loss: 0.5673 - val_accuracy: 0.8019\n",
            "Epoch 192/500\n",
            "104/104 [==============================] - 1s 5ms/step - loss: 0.2949 - accuracy: 0.8809 - val_loss: 0.5242 - val_accuracy: 0.7971\n",
            "Epoch 193/500\n",
            "104/104 [==============================] - 1s 6ms/step - loss: 0.2910 - accuracy: 0.8815 - val_loss: 0.5706 - val_accuracy: 0.7923\n",
            "Epoch 194/500\n",
            "104/104 [==============================] - 1s 6ms/step - loss: 0.2976 - accuracy: 0.8888 - val_loss: 0.6190 - val_accuracy: 0.8019\n",
            "Epoch 195/500\n",
            "104/104 [==============================] - 1s 6ms/step - loss: 0.2870 - accuracy: 0.8906 - val_loss: 0.5717 - val_accuracy: 0.7923\n",
            "Epoch 196/500\n",
            "104/104 [==============================] - 1s 5ms/step - loss: 0.2831 - accuracy: 0.8863 - val_loss: 0.5747 - val_accuracy: 0.8213\n",
            "Epoch 197/500\n",
            "104/104 [==============================] - 1s 6ms/step - loss: 0.2664 - accuracy: 0.9002 - val_loss: 0.6363 - val_accuracy: 0.7874\n",
            "Epoch 198/500\n",
            "104/104 [==============================] - 1s 6ms/step - loss: 0.2740 - accuracy: 0.8990 - val_loss: 0.5893 - val_accuracy: 0.8019\n",
            "Epoch 199/500\n",
            "104/104 [==============================] - 1s 5ms/step - loss: 0.2953 - accuracy: 0.8984 - val_loss: 0.6118 - val_accuracy: 0.7923\n",
            "Epoch 200/500\n",
            "104/104 [==============================] - 1s 6ms/step - loss: 0.2734 - accuracy: 0.8906 - val_loss: 0.6381 - val_accuracy: 0.7874\n",
            "Epoch 201/500\n",
            "104/104 [==============================] - 1s 5ms/step - loss: 0.2750 - accuracy: 0.8960 - val_loss: 0.6004 - val_accuracy: 0.8019\n",
            "Epoch 202/500\n",
            "104/104 [==============================] - 1s 6ms/step - loss: 0.2752 - accuracy: 0.8960 - val_loss: 0.5634 - val_accuracy: 0.7923\n",
            "Epoch 203/500\n",
            "104/104 [==============================] - 1s 6ms/step - loss: 0.3239 - accuracy: 0.8797 - val_loss: 0.6070 - val_accuracy: 0.7874\n",
            "Epoch 204/500\n",
            "104/104 [==============================] - 1s 6ms/step - loss: 0.2816 - accuracy: 0.8942 - val_loss: 0.6135 - val_accuracy: 0.7729\n",
            "Epoch 205/500\n",
            "104/104 [==============================] - 1s 6ms/step - loss: 0.2549 - accuracy: 0.8996 - val_loss: 0.6142 - val_accuracy: 0.7874\n",
            "Epoch 206/500\n",
            "104/104 [==============================] - 1s 5ms/step - loss: 0.2433 - accuracy: 0.8930 - val_loss: 0.6033 - val_accuracy: 0.8116\n",
            "Epoch 207/500\n",
            "104/104 [==============================] - 1s 6ms/step - loss: 0.3114 - accuracy: 0.8803 - val_loss: 0.6732 - val_accuracy: 0.7826\n",
            "Epoch 208/500\n",
            "104/104 [==============================] - 1s 8ms/step - loss: 0.2745 - accuracy: 0.8912 - val_loss: 0.6224 - val_accuracy: 0.7729\n",
            "Epoch 209/500\n",
            "104/104 [==============================] - 1s 9ms/step - loss: 0.2632 - accuracy: 0.8936 - val_loss: 0.5944 - val_accuracy: 0.7971\n",
            "Epoch 210/500\n",
            "104/104 [==============================] - 1s 6ms/step - loss: 0.2264 - accuracy: 0.9148 - val_loss: 0.5742 - val_accuracy: 0.7923\n",
            "Epoch 211/500\n",
            "104/104 [==============================] - 1s 6ms/step - loss: 0.2847 - accuracy: 0.8942 - val_loss: 0.5834 - val_accuracy: 0.7971\n",
            "Epoch 212/500\n",
            "104/104 [==============================] - 1s 5ms/step - loss: 0.2710 - accuracy: 0.8960 - val_loss: 0.5832 - val_accuracy: 0.8116\n",
            "Epoch 213/500\n",
            "104/104 [==============================] - 1s 6ms/step - loss: 0.2555 - accuracy: 0.9111 - val_loss: 0.6219 - val_accuracy: 0.8019\n",
            "Epoch 214/500\n",
            "104/104 [==============================] - 1s 5ms/step - loss: 0.2881 - accuracy: 0.8918 - val_loss: 0.5795 - val_accuracy: 0.7971\n",
            "Epoch 215/500\n",
            "104/104 [==============================] - 1s 5ms/step - loss: 0.2726 - accuracy: 0.8881 - val_loss: 0.5496 - val_accuracy: 0.8116\n",
            "Epoch 216/500\n",
            "104/104 [==============================] - 1s 6ms/step - loss: 0.2849 - accuracy: 0.8942 - val_loss: 0.5992 - val_accuracy: 0.8309\n",
            "Epoch 217/500\n",
            "104/104 [==============================] - 1s 5ms/step - loss: 0.2646 - accuracy: 0.9027 - val_loss: 0.6272 - val_accuracy: 0.7923\n"
          ]
        }
      ]
    },
    {
      "cell_type": "code",
      "source": [
        "plt.plot(cnnhistory.history['loss'])\n",
        "plt.plot(cnnhistory.history['val_loss'])\n",
        "plt.title('model loss')\n",
        "plt.ylabel('loss')\n",
        "plt.xlabel('epoch')\n",
        "plt.legend(['train','test'], loc='upper left')\n",
        "plt.show()"
      ],
      "metadata": {
        "colab": {
          "base_uri": "https://localhost:8080/",
          "height": 295
        },
        "id": "oQYnuaCrDH_A",
        "outputId": "6230a413-0b28-4242-ebc2-505764ea06b8"
      },
      "execution_count": 15,
      "outputs": [
        {
          "output_type": "display_data",
          "data": {
            "text/plain": [
              "<Figure size 432x288 with 1 Axes>"
            ],
            "image/png": "[encoded data removed]"
          },
          "metadata": {
            "needs_background": "light"
          }
        }
      ]
    },
    {
      "cell_type": "code",
      "source": [
        "plt.plot(cnnhistory.history['accuracy'])\n",
        "plt.plot(cnnhistory.history['val_accuracy'])\n",
        "plt.title('model accuracy')\n",
        "plt.ylabel('accuracy')\n",
        "plt.xlabel('epoch')\n",
        "plt.legend(['train','test'], loc='upper left')\n",
        "plt.show()"
      ],
      "metadata": {
        "colab": {
          "base_uri": "https://localhost:8080/",
          "height": 295
        },
        "id": "IFkTuO8nDNdq",
        "outputId": "e3a13157-5f63-454a-ea4f-073bc3243fd6"
      },
      "execution_count": 16,
      "outputs": [
        {
          "output_type": "display_data",
          "data": {
            "text/plain": [
              "<Figure size 432x288 with 1 Axes>"
            ],
            "image/png": "[encoded data removed]"
          },
          "metadata": {
            "needs_background": "light"
          }
        }
      ]
    },
    {
      "cell_type": "code",
      "source": [
        "predictions = model.predict(x_testcnn)"
      ],
      "metadata": {
        "id": "A2xtrN5wDQgY"
      },
      "execution_count": 17,
      "outputs": []
    },
    {
      "cell_type": "code",
      "source": [
        "predictions"
      ],
      "metadata": {
        "colab": {
          "base_uri": "https://localhost:8080/"
        },
        "id": "_f_ohjXKDUpY",
        "outputId": "3f58a69b-ed0a-427c-a76b-cdcecfdbdf3b"
      },
      "execution_count": 18,
      "outputs": [
        {
          "output_type": "execute_result",
          "data": {
            "text/plain": [
              "array([[1.8145905e-01, 9.3417503e-03, 2.0220965e-01, 3.8549277e-01,\n",
              "        2.0141853e-01, 2.0078294e-02],\n",
              "       [1.4852357e-04, 5.5291002e-07, 1.1815814e-08, 9.9870288e-01,\n",
              "        2.9756910e-07, 1.1477150e-03],\n",
              "       [1.3977286e-01, 7.4201755e-02, 9.4299344e-03, 4.1211668e-01,\n",
              "        6.4969673e-03, 3.5798177e-01],\n",
              "       ...,\n",
              "       [3.6587542e-05, 1.9143151e-06, 7.8181864e-04, 1.8784389e-04,\n",
              "        9.9223161e-01, 6.7602135e-03],\n",
              "       [1.3886583e-03, 3.1503072e-01, 6.7459649e-01, 2.2666964e-03,\n",
              "        3.2980195e-03, 3.4194791e-03],\n",
              "       [9.2944123e-05, 1.5927440e-05, 1.0126566e-02, 7.8433208e-05,\n",
              "        9.8724759e-01, 2.4385478e-03]], dtype=float32)"
            ]
          },
          "metadata": {},
          "execution_count": 18
        }
      ]
    },
    {
      "cell_type": "code",
      "source": [
        "y_test"
      ],
      "metadata": {
        "colab": {
          "base_uri": "https://localhost:8080/"
        },
        "id": "cmA2bFgsDW3D",
        "outputId": "ac3d0217-8d6c-46e1-f54f-433c3a32135a"
      },
      "execution_count": 19,
      "outputs": [
        {
          "output_type": "execute_result",
          "data": {
            "text/plain": [
              "array([3, 3, 3, 0, 4, 4, 1, 2, 5, 0, 5, 3, 2, 2, 1, 4, 4, 5, 2, 4, 1, 2,\n",
              "       3, 5, 4, 2, 1, 2, 2, 2, 2, 5, 2, 5, 3, 1, 2, 0, 4, 5, 2, 3, 2, 2,\n",
              "       5, 2, 0, 1, 3, 4, 4, 5, 1, 1, 4, 4, 5, 1, 1, 1, 0, 1, 5, 0, 4, 1,\n",
              "       1, 0, 1, 4, 1, 0, 4, 1, 3, 1, 2, 2, 1, 2, 3, 0, 5, 3, 5, 5, 2, 4,\n",
              "       5, 1, 5, 1, 5, 3, 4, 1, 4, 1, 5, 4, 5, 1, 2, 1, 1, 5, 1, 3, 2, 5,\n",
              "       2, 1, 3, 5, 4, 4, 0, 0, 3, 1, 2, 2, 3, 5, 1, 5, 3, 4, 2, 2, 0, 2,\n",
              "       2, 5, 5, 0, 3, 3, 2, 2, 0, 3, 4, 0, 4, 2, 4, 5, 4, 1, 5, 3, 2, 2,\n",
              "       5, 4, 3, 3, 4, 3, 3, 4, 1, 5, 2, 3, 2, 2, 0, 2, 1, 3, 1, 2, 2, 5,\n",
              "       5, 1, 4, 2, 2, 1, 1, 3, 3, 5, 5, 2, 5, 1, 5, 0, 3, 3, 0, 5, 1, 4,\n",
              "       1, 4, 2, 5, 5, 1, 4, 2, 4])"
            ]
          },
          "metadata": {},
          "execution_count": 19
        }
      ]
    },
    {
      "cell_type": "code",
      "source": [
        "new_Ytest = y_test.astype(int)"
      ],
      "metadata": {
        "id": "0PHDKWJWDY3g"
      },
      "execution_count": 20,
      "outputs": []
    },
    {
      "cell_type": "code",
      "source": [
        "new_Ytest"
      ],
      "metadata": {
        "colab": {
          "base_uri": "https://localhost:8080/"
        },
        "id": "k68v2i-pDbZE",
        "outputId": "39efef5a-56df-4265-9a96-a96006fa6262"
      },
      "execution_count": 21,
      "outputs": [
        {
          "output_type": "execute_result",
          "data": {
            "text/plain": [
              "array([3, 3, 3, 0, 4, 4, 1, 2, 5, 0, 5, 3, 2, 2, 1, 4, 4, 5, 2, 4, 1, 2,\n",
              "       3, 5, 4, 2, 1, 2, 2, 2, 2, 5, 2, 5, 3, 1, 2, 0, 4, 5, 2, 3, 2, 2,\n",
              "       5, 2, 0, 1, 3, 4, 4, 5, 1, 1, 4, 4, 5, 1, 1, 1, 0, 1, 5, 0, 4, 1,\n",
              "       1, 0, 1, 4, 1, 0, 4, 1, 3, 1, 2, 2, 1, 2, 3, 0, 5, 3, 5, 5, 2, 4,\n",
              "       5, 1, 5, 1, 5, 3, 4, 1, 4, 1, 5, 4, 5, 1, 2, 1, 1, 5, 1, 3, 2, 5,\n",
              "       2, 1, 3, 5, 4, 4, 0, 0, 3, 1, 2, 2, 3, 5, 1, 5, 3, 4, 2, 2, 0, 2,\n",
              "       2, 5, 5, 0, 3, 3, 2, 2, 0, 3, 4, 0, 4, 2, 4, 5, 4, 1, 5, 3, 2, 2,\n",
              "       5, 4, 3, 3, 4, 3, 3, 4, 1, 5, 2, 3, 2, 2, 0, 2, 1, 3, 1, 2, 2, 5,\n",
              "       5, 1, 4, 2, 2, 1, 1, 3, 3, 5, 5, 2, 5, 1, 5, 0, 3, 3, 0, 5, 1, 4,\n",
              "       1, 4, 2, 5, 5, 1, 4, 2, 4])"
            ]
          },
          "metadata": {},
          "execution_count": 21
        }
      ]
    },
    {
      "cell_type": "code",
      "source": [
        "preds1=predictions.argmax(axis=1)\n",
        "preds1"
      ],
      "metadata": {
        "colab": {
          "base_uri": "https://localhost:8080/"
        },
        "id": "4_cAI39VFhtp",
        "outputId": "883bd0a1-8127-4f1c-d492-a0e0eaab3542"
      },
      "execution_count": 22,
      "outputs": [
        {
          "output_type": "execute_result",
          "data": {
            "text/plain": [
              "array([3, 3, 3, 0, 4, 4, 1, 2, 5, 1, 5, 3, 2, 2, 1, 4, 4, 3, 3, 4, 2, 2,\n",
              "       3, 3, 4, 2, 1, 2, 2, 2, 2, 4, 2, 5, 3, 1, 2, 0, 4, 5, 2, 5, 2, 2,\n",
              "       3, 2, 1, 1, 1, 4, 4, 5, 1, 1, 4, 4, 5, 1, 0, 1, 0, 1, 2, 1, 4, 1,\n",
              "       1, 1, 1, 4, 1, 0, 4, 1, 3, 1, 2, 2, 1, 2, 1, 0, 5, 3, 5, 2, 2, 5,\n",
              "       4, 1, 3, 1, 5, 3, 2, 1, 4, 3, 5, 4, 5, 1, 2, 1, 1, 5, 1, 3, 2, 2,\n",
              "       5, 0, 3, 5, 4, 4, 0, 0, 3, 1, 1, 2, 1, 3, 1, 5, 3, 4, 2, 2, 0, 2,\n",
              "       2, 3, 3, 0, 3, 3, 2, 2, 0, 3, 4, 0, 4, 4, 4, 5, 4, 1, 5, 3, 2, 2,\n",
              "       5, 4, 3, 3, 4, 5, 3, 4, 1, 5, 2, 3, 2, 2, 0, 2, 1, 3, 1, 2, 2, 5,\n",
              "       5, 1, 4, 2, 2, 1, 1, 3, 3, 5, 5, 2, 5, 1, 2, 1, 3, 3, 0, 5, 1, 4,\n",
              "       1, 4, 0, 5, 5, 1, 4, 2, 4])"
            ]
          },
          "metadata": {},
          "execution_count": 22
        }
      ]
    },
    {
      "cell_type": "code",
      "source": [
        "abc = preds1.astype(int).flatten()"
      ],
      "metadata": {
        "id": "H4WEmM60NfQn"
      },
      "execution_count": 23,
      "outputs": []
    },
    {
      "cell_type": "code",
      "source": [
        "from sklearn.metrics import confusion_matrix\n",
        "c = confusion_matrix(new_Ytest, abc) \n",
        "c"
      ],
      "metadata": {
        "colab": {
          "base_uri": "https://localhost:8080/"
        },
        "id": "bKEBeEBlFjB8",
        "outputId": "b436e842-8017-4b69-92e8-7de0acf9e4fd"
      },
      "execution_count": 24,
      "outputs": [
        {
          "output_type": "execute_result",
          "data": {
            "text/plain": [
              "array([[13,  5,  0,  0,  0,  0],\n",
              "       [ 2, 37,  1,  1,  0,  0],\n",
              "       [ 1,  1, 40,  1,  1,  1],\n",
              "       [ 0,  3,  0, 26,  0,  2],\n",
              "       [ 0,  0,  1,  0, 31,  1],\n",
              "       [ 0,  0,  4,  7,  2, 26]])"
            ]
          },
          "metadata": {},
          "execution_count": 24
        }
      ]
    },
    {
      "cell_type": "code",
      "source": [
        "y_test"
      ],
      "metadata": {
        "colab": {
          "base_uri": "https://localhost:8080/"
        },
        "id": "m4RjG7LWLSQx",
        "outputId": "b5114c6b-8d81-4fc2-f2ab-bca762f521fb"
      },
      "execution_count": 25,
      "outputs": [
        {
          "output_type": "execute_result",
          "data": {
            "text/plain": [
              "array([3, 3, 3, 0, 4, 4, 1, 2, 5, 0, 5, 3, 2, 2, 1, 4, 4, 5, 2, 4, 1, 2,\n",
              "       3, 5, 4, 2, 1, 2, 2, 2, 2, 5, 2, 5, 3, 1, 2, 0, 4, 5, 2, 3, 2, 2,\n",
              "       5, 2, 0, 1, 3, 4, 4, 5, 1, 1, 4, 4, 5, 1, 1, 1, 0, 1, 5, 0, 4, 1,\n",
              "       1, 0, 1, 4, 1, 0, 4, 1, 3, 1, 2, 2, 1, 2, 3, 0, 5, 3, 5, 5, 2, 4,\n",
              "       5, 1, 5, 1, 5, 3, 4, 1, 4, 1, 5, 4, 5, 1, 2, 1, 1, 5, 1, 3, 2, 5,\n",
              "       2, 1, 3, 5, 4, 4, 0, 0, 3, 1, 2, 2, 3, 5, 1, 5, 3, 4, 2, 2, 0, 2,\n",
              "       2, 5, 5, 0, 3, 3, 2, 2, 0, 3, 4, 0, 4, 2, 4, 5, 4, 1, 5, 3, 2, 2,\n",
              "       5, 4, 3, 3, 4, 3, 3, 4, 1, 5, 2, 3, 2, 2, 0, 2, 1, 3, 1, 2, 2, 5,\n",
              "       5, 1, 4, 2, 2, 1, 1, 3, 3, 5, 5, 2, 5, 1, 5, 0, 3, 3, 0, 5, 1, 4,\n",
              "       1, 4, 2, 5, 5, 1, 4, 2, 4])"
            ]
          },
          "metadata": {},
          "execution_count": 25
        }
      ]
    },
    {
      "cell_type": "code",
      "source": [
        "loss, acc =model.evaluate(x_testcnn, y_test)\n",
        "print(\"Restored model, accuracy: {:5.2f}%\".format(100*acc))"
      ],
      "metadata": {
        "colab": {
          "base_uri": "https://localhost:8080/"
        },
        "id": "n3kzoqPkDqqS",
        "outputId": "97ecfa65-5f50-4690-fe92-60201416d22e"
      },
      "execution_count": 26,
      "outputs": [
        {
          "output_type": "stream",
          "name": "stdout",
          "text": [
            "7/7 [==============================] - 0s 3ms/step - loss: 0.5055 - accuracy: 0.8357\n",
            "Restored model, accuracy: 83.57%\n"
          ]
        }
      ]
    },
    {
      "cell_type": "code",
      "source": [
        "loss, acc =model.evaluate(X_train, y_train)\n",
        "print(\"Restored model train, accuracy: {:5.2f}%\".format(100*acc))"
      ],
      "metadata": {
        "id": "fJDTGH_OUX0z",
        "colab": {
          "base_uri": "https://localhost:8080/"
        },
        "outputId": "6fb5febd-7c79-44d5-d9b6-5bb130af97bd"
      },
      "execution_count": 27,
      "outputs": [
        {
          "output_type": "stream",
          "name": "stdout",
          "text": [
            "52/52 [==============================] - 0s 5ms/step - loss: 0.1289 - accuracy: 0.9740\n",
            "Restored model train, accuracy: 97.40%\n"
          ]
        }
      ]
    },
    {
      "cell_type": "code",
      "source": [
        "from sklearn.metrics import classification_report, confusion_matrix,accuracy_score\n",
        "import seaborn as sn\n",
        "\n",
        "print(classification_report(new_Ytest,abc))\n",
        "\n",
        "acc = float(accuracy_score(new_Ytest,abc))*100\n",
        "print(\"----accuracy score %s ----\" % acc)\n",
        "\n",
        "cm = confusion_matrix(new_Ytest,abc)\n",
        "#df_cm = pd.DataFrame(cm)\n",
        "class_names = ['neutral','calm', 'happy','sad','angry', 'fearful' ]\n",
        "df_cm = pd.DataFrame(cm, index=class_names, columns=class_names,)\n",
        "sn.heatmap(df_cm, annot=True, fmt='')\n",
        "plt.show()"
      ],
      "metadata": {
        "colab": {
          "base_uri": "https://localhost:8080/",
          "height": 512
        },
        "id": "SfSC3El94LZg",
        "outputId": "d99000ab-ff5c-47b1-d958-2d392d165c21"
      },
      "execution_count": 28,
      "outputs": [
        {
          "output_type": "stream",
          "name": "stdout",
          "text": [
            "              precision    recall  f1-score   support\n",
            "\n",
            "           0       0.81      0.72      0.76        18\n",
            "           1       0.80      0.90      0.85        41\n",
            "           2       0.87      0.89      0.88        45\n",
            "           3       0.74      0.84      0.79        31\n",
            "           4       0.91      0.94      0.93        33\n",
            "           5       0.87      0.67      0.75        39\n",
            "\n",
            "    accuracy                           0.84       207\n",
            "   macro avg       0.83      0.83      0.83       207\n",
            "weighted avg       0.84      0.84      0.83       207\n",
            "\n",
            "----accuracy score 83.57487922705315 ----\n"
          ]
        },
        {
          "output_type": "display_data",
          "data": {
            "text/plain": [
              "<Figure size 432x288 with 2 Axes>"
            ],
            "image/png": "[encoded data removed]"
          },
          "metadata": {
            "needs_background": "light"
          }
        }
      ]
    }
  ]
}