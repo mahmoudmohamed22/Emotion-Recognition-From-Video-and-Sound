{
  "cells": [
    {
      "cell_type": "code",
      "execution_count": 1,
      "metadata": {
        "colab": {
          "base_uri": "https://localhost:8080/"
        },
        "id": "iC_o_HaWEBQ4",
        "outputId": "23c904be-c459-421b-a463-87bc1735e15f"
      },
      "outputs": [
        {
          "output_type": "stream",
          "name": "stdout",
          "text": [
            "Looking in indexes: https://pypi.org/simple, https://us-python.pkg.dev/colab-wheels/public/simple/\n",
            "Requirement already satisfied: tensorflow in /usr/local/lib/python3.7/dist-packages (2.8.2+zzzcolab20220527125636)\n",
            "Requirement already satisfied: opencv-contrib-python in /usr/local/lib/python3.7/dist-packages (4.1.2.30)\n",
            "Collecting youtube-dl\n",
            "  Downloading youtube_dl-2021.12.17-py2.py3-none-any.whl (1.9 MB)\n",
            "\u001b[K     |████████████████████████████████| 1.9 MB 4.2 MB/s \n",
            "\u001b[?25hRequirement already satisfied: moviepy in /usr/local/lib/python3.7/dist-packages (0.2.3.5)\n",
            "Requirement already satisfied: pydot in /usr/local/lib/python3.7/dist-packages (1.3.0)\n",
            "Requirement already satisfied: flatbuffers>=1.12 in /usr/local/lib/python3.7/dist-packages (from tensorflow) (2.0)\n",
            "Requirement already satisfied: absl-py>=0.4.0 in /usr/local/lib/python3.7/dist-packages (from tensorflow) (1.1.0)\n",
            "Requirement already satisfied: six>=1.12.0 in /usr/local/lib/python3.7/dist-packages (from tensorflow) (1.15.0)\n",
            "Requirement already satisfied: setuptools in /usr/local/lib/python3.7/dist-packages (from tensorflow) (57.4.0)\n",
            "Requirement already satisfied: grpcio<2.0,>=1.24.3 in /usr/local/lib/python3.7/dist-packages (from tensorflow) (1.46.3)\n",
            "Requirement already satisfied: tensorflow-io-gcs-filesystem>=0.23.1 in /usr/local/lib/python3.7/dist-packages (from tensorflow) (0.26.0)\n",
            "Requirement already satisfied: astunparse>=1.6.0 in /usr/local/lib/python3.7/dist-packages (from tensorflow) (1.6.3)\n",
            "Requirement already satisfied: wrapt>=1.11.0 in /usr/local/lib/python3.7/dist-packages (from tensorflow) (1.14.1)\n",
            "Requirement already satisfied: gast>=0.2.1 in /usr/local/lib/python3.7/dist-packages (from tensorflow) (0.5.3)\n",
            "Requirement already satisfied: opt-einsum>=2.3.2 in /usr/local/lib/python3.7/dist-packages (from tensorflow) (3.3.0)\n",
            "Requirement already satisfied: keras<2.9,>=2.8.0rc0 in /usr/local/lib/python3.7/dist-packages (from tensorflow) (2.8.0)\n",
            "Requirement already satisfied: numpy>=1.20 in /usr/local/lib/python3.7/dist-packages (from tensorflow) (1.21.6)\n",
            "Requirement already satisfied: h5py>=2.9.0 in /usr/local/lib/python3.7/dist-packages (from tensorflow) (3.1.0)\n",
            "Requirement already satisfied: tensorboard<2.9,>=2.8 in /usr/local/lib/python3.7/dist-packages (from tensorflow) (2.8.0)\n",
            "Requirement already satisfied: protobuf<3.20,>=3.9.2 in /usr/local/lib/python3.7/dist-packages (from tensorflow) (3.17.3)\n",
            "Requirement already satisfied: termcolor>=1.1.0 in /usr/local/lib/python3.7/dist-packages (from tensorflow) (1.1.0)\n",
            "Requirement already satisfied: typing-extensions>=3.6.6 in /usr/local/lib/python3.7/dist-packages (from tensorflow) (4.2.0)\n",
            "Requirement already satisfied: libclang>=9.0.1 in /usr/local/lib/python3.7/dist-packages (from tensorflow) (14.0.1)\n",
            "Requirement already satisfied: google-pasta>=0.1.1 in /usr/local/lib/python3.7/dist-packages (from tensorflow) (0.2.0)\n",
            "Requirement already satisfied: tensorflow-estimator<2.9,>=2.8 in /usr/local/lib/python3.7/dist-packages (from tensorflow) (2.8.0)\n",
            "Requirement already satisfied: keras-preprocessing>=1.1.1 in /usr/local/lib/python3.7/dist-packages (from tensorflow) (1.1.2)\n",
            "Requirement already satisfied: wheel<1.0,>=0.23.0 in /usr/local/lib/python3.7/dist-packages (from astunparse>=1.6.0->tensorflow) (0.37.1)\n",
            "Requirement already satisfied: cached-property in /usr/local/lib/python3.7/dist-packages (from h5py>=2.9.0->tensorflow) (1.5.2)\n",
            "Requirement already satisfied: markdown>=2.6.8 in /usr/local/lib/python3.7/dist-packages (from tensorboard<2.9,>=2.8->tensorflow) (3.3.7)\n",
            "Requirement already satisfied: google-auth-oauthlib<0.5,>=0.4.1 in /usr/local/lib/python3.7/dist-packages (from tensorboard<2.9,>=2.8->tensorflow) (0.4.6)\n",
            "Requirement already satisfied: tensorboard-data-server<0.7.0,>=0.6.0 in /usr/local/lib/python3.7/dist-packages (from tensorboard<2.9,>=2.8->tensorflow) (0.6.1)\n",
            "Requirement already satisfied: tensorboard-plugin-wit>=1.6.0 in /usr/local/lib/python3.7/dist-packages (from tensorboard<2.9,>=2.8->tensorflow) (1.8.1)\n",
            "Requirement already satisfied: requests<3,>=2.21.0 in /usr/local/lib/python3.7/dist-packages (from tensorboard<2.9,>=2.8->tensorflow) (2.23.0)\n",
            "Requirement already satisfied: google-auth<3,>=1.6.3 in /usr/local/lib/python3.7/dist-packages (from tensorboard<2.9,>=2.8->tensorflow) (1.35.0)\n",
            "Requirement already satisfied: werkzeug>=0.11.15 in /usr/local/lib/python3.7/dist-packages (from tensorboard<2.9,>=2.8->tensorflow) (1.0.1)\n",
            "Requirement already satisfied: rsa<5,>=3.1.4 in /usr/local/lib/python3.7/dist-packages (from google-auth<3,>=1.6.3->tensorboard<2.9,>=2.8->tensorflow) (4.8)\n",
            "Requirement already satisfied: cachetools<5.0,>=2.0.0 in /usr/local/lib/python3.7/dist-packages (from google-auth<3,>=1.6.3->tensorboard<2.9,>=2.8->tensorflow) (4.2.4)\n",
            "Requirement already satisfied: pyasn1-modules>=0.2.1 in /usr/local/lib/python3.7/dist-packages (from google-auth<3,>=1.6.3->tensorboard<2.9,>=2.8->tensorflow) (0.2.8)\n",
            "Requirement already satisfied: requests-oauthlib>=0.7.0 in /usr/local/lib/python3.7/dist-packages (from google-auth-oauthlib<0.5,>=0.4.1->tensorboard<2.9,>=2.8->tensorflow) (1.3.1)\n",
            "Requirement already satisfied: importlib-metadata>=4.4 in /usr/local/lib/python3.7/dist-packages (from markdown>=2.6.8->tensorboard<2.9,>=2.8->tensorflow) (4.11.4)\n",
            "Requirement already satisfied: zipp>=0.5 in /usr/local/lib/python3.7/dist-packages (from importlib-metadata>=4.4->markdown>=2.6.8->tensorboard<2.9,>=2.8->tensorflow) (3.8.0)\n",
            "Requirement already satisfied: pyasn1<0.5.0,>=0.4.6 in /usr/local/lib/python3.7/dist-packages (from pyasn1-modules>=0.2.1->google-auth<3,>=1.6.3->tensorboard<2.9,>=2.8->tensorflow) (0.4.8)\n",
            "Requirement already satisfied: certifi>=2017.4.17 in /usr/local/lib/python3.7/dist-packages (from requests<3,>=2.21.0->tensorboard<2.9,>=2.8->tensorflow) (2022.5.18.1)\n",
            "Requirement already satisfied: chardet<4,>=3.0.2 in /usr/local/lib/python3.7/dist-packages (from requests<3,>=2.21.0->tensorboard<2.9,>=2.8->tensorflow) (3.0.4)\n",
            "Requirement already satisfied: urllib3!=1.25.0,!=1.25.1,<1.26,>=1.21.1 in /usr/local/lib/python3.7/dist-packages (from requests<3,>=2.21.0->tensorboard<2.9,>=2.8->tensorflow) (1.24.3)\n",
            "Requirement already satisfied: idna<3,>=2.5 in /usr/local/lib/python3.7/dist-packages (from requests<3,>=2.21.0->tensorboard<2.9,>=2.8->tensorflow) (2.10)\n",
            "Requirement already satisfied: oauthlib>=3.0.0 in /usr/local/lib/python3.7/dist-packages (from requests-oauthlib>=0.7.0->google-auth-oauthlib<0.5,>=0.4.1->tensorboard<2.9,>=2.8->tensorflow) (3.2.0)\n",
            "Requirement already satisfied: imageio<3.0,>=2.1.2 in /usr/local/lib/python3.7/dist-packages (from moviepy) (2.4.1)\n",
            "Requirement already satisfied: tqdm<5.0,>=4.11.2 in /usr/local/lib/python3.7/dist-packages (from moviepy) (4.64.0)\n",
            "Requirement already satisfied: decorator<5.0,>=4.0.2 in /usr/local/lib/python3.7/dist-packages (from moviepy) (4.4.2)\n",
            "Requirement already satisfied: pillow in /usr/local/lib/python3.7/dist-packages (from imageio<3.0,>=2.1.2->moviepy) (7.1.2)\n",
            "Requirement already satisfied: pyparsing>=2.1.4 in /usr/local/lib/python3.7/dist-packages (from pydot) (3.0.9)\n",
            "Installing collected packages: youtube-dl\n",
            "Successfully installed youtube-dl-2021.12.17\n",
            "Looking in indexes: https://pypi.org/simple, https://us-python.pkg.dev/colab-wheels/public/simple/\n",
            "Collecting pafy\n",
            "  Cloning https://github.com/TahaAnwar/pafy.git to /tmp/pip-install-_0u1htt3/pafy_af8497504b8f4293911fe85e4fa676a0\n",
            "  Running command git clone -q https://github.com/TahaAnwar/pafy.git /tmp/pip-install-_0u1htt3/pafy_af8497504b8f4293911fe85e4fa676a0\n",
            "Building wheels for collected packages: pafy\n",
            "  Building wheel for pafy (setup.py) ... \u001b[?25l\u001b[?25hdone\n",
            "  Created wheel for pafy: filename=pafy-0.5.5-py2.py3-none-any.whl size=35706 sha256=68fcaa18222c9fd5cb23ccf55ae79108eed0e7690223bfad9291bd4f77e14255\n",
            "  Stored in directory: /tmp/pip-ephem-wheel-cache-0z6zqj7d/wheels/64/82/dd/3d7823b3bbbe1aca9b30f8cf0d6bb6c1b72ccd95e3360f8190\n",
            "Successfully built pafy\n",
            "Installing collected packages: pafy\n",
            "Successfully installed pafy-0.5.5\n"
          ]
        }
      ],
      "source": [
        "# Discard the output of this cell.\n",
        "#%%capture\n",
        "\n",
        "# Install the required libraries.\n",
        "!pip install tensorflow opencv-contrib-python youtube-dl moviepy pydot\n",
        "!pip install git+https://github.com/TahaAnwar/pafy.git#egg=pafy"
      ]
    },
    {
      "cell_type": "code",
      "execution_count": 2,
      "metadata": {
        "colab": {
          "base_uri": "https://localhost:8080/"
        },
        "id": "773CUmldFLWW",
        "outputId": "f05e518f-d168-49e4-c0e3-a82dcf42163d"
      },
      "outputs": [
        {
          "output_type": "stream",
          "name": "stdout",
          "text": [
            "Mounted at /content/drive\n"
          ]
        }
      ],
      "source": [
        "from google.colab import drive\n",
        "drive.mount('/content/drive')"
      ]
    },
    {
      "cell_type": "code",
      "execution_count": 3,
      "metadata": {
        "id": "pI_Uxj54EZA-",
        "colab": {
          "base_uri": "https://localhost:8080/"
        },
        "outputId": "9a901f5c-4621-408d-ea15-d49057ec51da"
      },
      "outputs": [
        {
          "output_type": "stream",
          "name": "stdout",
          "text": [
            "Imageio: 'ffmpeg-linux64-v3.3.1' was not found on your computer; downloading it now.\n",
            "Try 1. Download from https://github.com/imageio/imageio-binaries/raw/master/ffmpeg/ffmpeg-linux64-v3.3.1 (43.8 MB)\n",
            "Downloading: 8192/45929032 bytes (0.0%)\b\b\b\b\b\b\b\b\b\b\b\b\b\b\b\b\b\b\b\b\b\b\b\b\b\b2637824/45929032 bytes (5.7%)\b\b\b\b\b\b\b\b\b\b\b\b\b\b\b\b\b\b\b\b\b\b\b\b\b\b\b\b\b5791744/45929032 bytes (12.6%)\b\b\b\b\b\b\b\b\b\b\b\b\b\b\b\b\b\b\b\b\b\b\b\b\b\b\b\b\b\b9650176/45929032 bytes (21.0%)\b\b\b\b\b\b\b\b\b\b\b\b\b\b\b\b\b\b\b\b\b\b\b\b\b\b\b\b\b\b13058048/45929032 bytes (28.4%)\b\b\b\b\b\b\b\b\b\b\b\b\b\b\b\b\b\b\b\b\b\b\b\b\b\b\b\b\b\b\b16826368/45929032 bytes (36.6%)\b\b\b\b\b\b\b\b\b\b\b\b\b\b\b\b\b\b\b\b\b\b\b\b\b\b\b\b\b\b\b20004864/45929032 bytes (43.6%)\b\b\b\b\b\b\b\b\b\b\b\b\b\b\b\b\b\b\b\b\b\b\b\b\b\b\b\b\b\b\b23437312/45929032 bytes (51.0%)\b\b\b\b\b\b\b\b\b\b\b\b\b\b\b\b\b\b\b\b\b\b\b\b\b\b\b\b\b\b\b26968064/45929032 bytes (58.7%)\b\b\b\b\b\b\b\b\b\b\b\b\b\b\b\b\b\b\b\b\b\b\b\b\b\b\b\b\b\b\b30138368/45929032 bytes (65.6%)\b\b\b\b\b\b\b\b\b\b\b\b\b\b\b\b\b\b\b\b\b\b\b\b\b\b\b\b\b\b\b33275904/45929032 bytes (72.5%)\b\b\b\b\b\b\b\b\b\b\b\b\b\b\b\b\b\b\b\b\b\b\b\b\b\b\b\b\b\b\b36970496/45929032 bytes (80.5%)\b\b\b\b\b\b\b\b\b\b\b\b\b\b\b\b\b\b\b\b\b\b\b\b\b\b\b\b\b\b\b39591936/45929032 bytes (86.2%)\b\b\b\b\b\b\b\b\b\b\b\b\b\b\b\b\b\b\b\b\b\b\b\b\b\b\b\b\b\b\b42811392/45929032 bytes (93.2%)\b\b\b\b\b\b\b\b\b\b\b\b\b\b\b\b\b\b\b\b\b\b\b\b\b\b\b\b\b\b\b45891584/45929032 bytes (99.9%)\b\b\b\b\b\b\b\b\b\b\b\b\b\b\b\b\b\b\b\b\b\b\b\b\b\b\b\b\b\b\b45929032/45929032 bytes (100.0%)\n",
            "  Done\n",
            "File saved as /root/.imageio/ffmpeg/ffmpeg-linux64-v3.3.1.\n"
          ]
        }
      ],
      "source": [
        "# Import the required libraries.\n",
        "import os\n",
        "import cv2\n",
        "import pafy\n",
        "import math\n",
        "import random\n",
        "import numpy as np\n",
        "import datetime as dt\n",
        "import tensorflow as tf\n",
        "from collections import deque\n",
        "import matplotlib.pyplot as plt\n",
        "\n",
        "from moviepy.editor import *\n",
        "%matplotlib inline\n",
        "\n",
        "from sklearn.model_selection import train_test_split\n",
        "\n",
        "from tensorflow.keras.layers import *\n",
        "from tensorflow.keras.models import Sequential\n",
        "from tensorflow.keras.utils import to_categorical\n",
        "from tensorflow.keras.callbacks import EarlyStopping\n",
        "from tensorflow.keras.utils import plot_model"
      ]
    },
    {
      "cell_type": "code",
      "execution_count": 4,
      "metadata": {
        "id": "p_XR9N_KEd0h",
        "colab": {
          "base_uri": "https://localhost:8080/"
        },
        "outputId": "c7bd5dcc-fdf8-41d1-ef78-7e675c63e489"
      },
      "outputs": [
        {
          "output_type": "stream",
          "name": "stdout",
          "text": [
            "42\n",
            "None\n",
            "None\n",
            "None\n",
            "42\n"
          ]
        }
      ],
      "source": [
        "seed_constant = 42\n",
        "my_seed=np.random.seed(seed_constant)\n",
        "print(seed_constant)\n",
        "print(my_seed)\n",
        "my_seed=random.seed(seed_constant)\n",
        "print(my_seed)\n",
        "my_seed=tf.random.set_seed(seed_constant)\n",
        "print(my_seed)\n",
        "print(seed_constant)"
      ]
    },
    {
      "cell_type": "code",
      "execution_count": 5,
      "metadata": {
        "id": "SjdIu5iUEtFT"
      },
      "outputs": [],
      "source": [
        "# Specify the height and width to which each video frame will be resized in our dataset.\n",
        "IMAGE_HEIGHT , IMAGE_WIDTH = 64, 64\n",
        "\n",
        "# Specify the number of frames of a video that will be fed to the model as one sequence.\n",
        "SEQUENCE_LENGTH = 30\n",
        "\n",
        "# Specify the directory containing the UCF50 dataset. \n",
        "#DATASET_DIR = \"/content/drive/MyDrive/videospeechsong_label\"\n",
        "\n",
        "# Specify the list containing the names of the classes used for training. Feel free to choose any set of classes.\n",
        "CLASSES_LIST = [\"neutral\", \"calm\", \"happy\", \"sad\",\"angry\",\"fearful\"]"
      ]
    },
    {
      "cell_type": "code",
      "execution_count": 6,
      "metadata": {
        "id": "z1PugGDOFidu"
      },
      "outputs": [],
      "source": [
        "import joblib\n",
        "features = joblib.load('/content/drive/My Drive/features_ravdess/data_set/features_data')\n",
        "labels = joblib.load('/content/drive/MyDrive/features_ravdess/data_set/labels')\n",
        "video_files_paths = joblib.load('/content/drive/My Drive/features_ravdess/data_set/video_path')"
      ]
    },
    {
      "cell_type": "code",
      "execution_count": 7,
      "metadata": {
        "id": "AQLmPjgCf52M"
      },
      "outputs": [],
      "source": [
        "features = np.asarray(features)\n",
        "labels = np.array(labels)"
      ]
    },
    {
      "cell_type": "code",
      "execution_count": 8,
      "metadata": {
        "colab": {
          "base_uri": "https://localhost:8080/"
        },
        "id": "MU9jM0FlE-aH",
        "outputId": "70d762ed-8bfb-4480-aa8d-8d3a855a08c3"
      },
      "outputs": [
        {
          "output_type": "execute_result",
          "data": {
            "text/plain": [
              "((2067, 30, 64, 64, 3), (2067,), 2067)"
            ]
          },
          "metadata": {},
          "execution_count": 8
        }
      ],
      "source": [
        "features.shape,labels.shape,len(video_files_paths)"
      ]
    },
    {
      "cell_type": "code",
      "source": [
        "\n",
        "# Split the Data into Train ( 80% ) and Test Set ( 20% ).\n",
        "features_train, features_test, labels_train, labels_test,video_train_path,video_test_path = train_test_split(features, labels,video_files_paths,\n",
        "                                                                            test_size = 0.10, shuffle = True,\n",
        "                                                                            random_state = seed_constant)"
      ],
      "metadata": {
        "id": "7ygQ1ZFPHD4v"
      },
      "execution_count": 9,
      "outputs": []
    },
    {
      "cell_type": "code",
      "source": [
        "len(features_train),len(features_test),len(labels_train),len(labels_test),len(video_train_path),len(video_test_path)"
      ],
      "metadata": {
        "colab": {
          "base_uri": "https://localhost:8080/"
        },
        "id": "BiEcB_EoH7_y",
        "outputId": "fefb3d61-916b-4333-a604-df0de73d3018"
      },
      "execution_count": 10,
      "outputs": [
        {
          "output_type": "execute_result",
          "data": {
            "text/plain": [
              "(1860, 207, 1860, 207, 1860, 207)"
            ]
          },
          "metadata": {},
          "execution_count": 10
        }
      ]
    },
    {
      "cell_type": "code",
      "source": [
        "\n",
        "# Split train the Data into Train ( 80% ) and valid Set ( 20% ).\n",
        "features_train, features_valid, labels_train, labels_valid,video_train_path,video_valid_path = train_test_split(features_train, labels_train,video_train_path,\n",
        "                                                                            test_size = 0.11129032258, shuffle = True,\n",
        "                                                                            random_state = seed_constant)"
      ],
      "metadata": {
        "id": "9tk83FqyIKrO"
      },
      "execution_count": 11,
      "outputs": []
    },
    {
      "cell_type": "code",
      "source": [
        "len(features_train),len(features_valid),len(labels_train),len(labels_valid),len(video_train_path),len(video_valid_path)"
      ],
      "metadata": {
        "colab": {
          "base_uri": "https://localhost:8080/"
        },
        "id": "jJAp-BHdHFDd",
        "outputId": "cd0e7fb2-e272-42f8-942b-33fd479f72e9"
      },
      "execution_count": 12,
      "outputs": [
        {
          "output_type": "execute_result",
          "data": {
            "text/plain": [
              "(1653, 207, 1653, 207, 1653, 207)"
            ]
          },
          "metadata": {},
          "execution_count": 12
        }
      ]
    },
    {
      "cell_type": "code",
      "source": [
        "video_valid_path"
      ],
      "metadata": {
        "colab": {
          "base_uri": "https://localhost:8080/"
        },
        "id": "0X0V_x1-KGz7",
        "outputId": "db5a117f-ff4c-4e44-c0f3-df8232334d69"
      },
      "execution_count": null,
      "outputs": [
        {
          "output_type": "execute_result",
          "data": {
            "text/plain": [
              "['/content/drive/MyDrive/frames_ravdess_label/sad/01-01-04-01-02-01-22.mp4',\n",
              " '/content/drive/MyDrive/frames_ravdess_label/fearful/01-01-06-02-02-01-04.mp4',\n",
              " '/content/drive/MyDrive/frames_ravdess_label/calm/01-01-02-01-02-02-01.mp4',\n",
              " '/content/drive/MyDrive/frames_ravdess_label/sad/01-01-04-02-01-02-09.mp4',\n",
              " '/content/drive/MyDrive/frames_ravdess_label/calm/01-02-02-02-02-01-01.mp4',\n",
              " '/content/drive/MyDrive/frames_ravdess_label/angry/01-01-05-01-01-01-22.mp4',\n",
              " '/content/drive/MyDrive/frames_ravdess_label/calm/01-01-02-02-01-01-13.mp4',\n",
              " '/content/drive/MyDrive/frames_ravdess_label/fearful/01-02-06-02-01-01-23.mp4',\n",
              " '/content/drive/MyDrive/frames_ravdess_label/neutral/01-01-01-01-02-02-03.mp4',\n",
              " '/content/drive/MyDrive/frames_ravdess_label/fearful/01-02-06-01-02-02-22.mp4',\n",
              " '/content/drive/MyDrive/frames_ravdess_label/happy/01-01-03-01-01-01-18.mp4',\n",
              " '/content/drive/MyDrive/frames_ravdess_label/angry/01-02-05-02-02-02-04.mp4',\n",
              " '/content/drive/MyDrive/frames_ravdess_label/fearful/01-02-06-02-02-01-02.mp4',\n",
              " '/content/drive/MyDrive/frames_ravdess_label/sad/01-02-04-01-01-01-02.mp4',\n",
              " '/content/drive/MyDrive/frames_ravdess_label/neutral/01-02-01-01-01-02-15.mp4',\n",
              " '/content/drive/MyDrive/frames_ravdess_label/fearful/01-01-06-02-01-01-04.mp4',\n",
              " '/content/drive/MyDrive/frames_ravdess_label/neutral/01-02-01-01-02-01-09.mp4',\n",
              " '/content/drive/MyDrive/frames_ravdess_label/calm/01-01-02-02-02-02-09.mp4',\n",
              " '/content/drive/MyDrive/frames_ravdess_label/happy/01-02-03-01-01-01-01.mp4',\n",
              " '/content/drive/MyDrive/frames_ravdess_label/happy/01-01-03-01-02-02-22.mp4',\n",
              " '/content/drive/MyDrive/frames_ravdess_label/fearful/01-02-06-02-02-01-07.mp4',\n",
              " '/content/drive/MyDrive/frames_ravdess_label/calm/01-02-02-01-01-02-03.mp4',\n",
              " '/content/drive/MyDrive/frames_ravdess_label/fearful/01-01-06-02-02-02-17.mp4',\n",
              " '/content/drive/MyDrive/frames_ravdess_label/neutral/01-02-01-01-02-01-07.mp4',\n",
              " '/content/drive/MyDrive/frames_ravdess_label/angry/01-01-05-02-01-02-24.mp4',\n",
              " '/content/drive/MyDrive/frames_ravdess_label/angry/01-02-05-02-01-02-06.mp4',\n",
              " '/content/drive/MyDrive/frames_ravdess_label/sad/01-02-04-01-01-01-05.mp4',\n",
              " '/content/drive/MyDrive/frames_ravdess_label/happy/01-01-03-02-02-02-22.mp4',\n",
              " '/content/drive/MyDrive/frames_ravdess_label/neutral/01-02-01-01-01-02-20.mp4',\n",
              " '/content/drive/MyDrive/frames_ravdess_label/sad/01-02-04-02-02-02-20.mp4',\n",
              " '/content/drive/MyDrive/frames_ravdess_label/angry/01-02-05-01-02-02-04.mp4',\n",
              " '/content/drive/MyDrive/frames_ravdess_label/fearful/01-01-06-01-01-01-03.mp4',\n",
              " '/content/drive/MyDrive/frames_ravdess_label/fearful/01-02-06-02-01-01-12.mp4',\n",
              " '/content/drive/MyDrive/frames_ravdess_label/angry/01-01-05-02-02-02-11.mp4',\n",
              " '/content/drive/MyDrive/frames_ravdess_label/sad/01-02-04-01-01-01-07.mp4',\n",
              " '/content/drive/MyDrive/frames_ravdess_label/happy/01-01-03-01-01-02-24.mp4',\n",
              " '/content/drive/MyDrive/frames_ravdess_label/calm/01-01-02-02-01-02-02.mp4',\n",
              " '/content/drive/MyDrive/frames_ravdess_label/angry/01-02-05-01-01-01-20.mp4',\n",
              " '/content/drive/MyDrive/frames_ravdess_label/neutral/01-02-01-01-02-02-13.mp4',\n",
              " '/content/drive/MyDrive/frames_ravdess_label/sad/01-01-04-02-01-01-13.mp4',\n",
              " '/content/drive/MyDrive/frames_ravdess_label/fearful/01-01-06-02-02-01-17.mp4',\n",
              " '/content/drive/MyDrive/frames_ravdess_label/calm/01-02-02-02-02-01-11.mp4',\n",
              " '/content/drive/MyDrive/frames_ravdess_label/angry/01-01-05-02-01-02-09.mp4',\n",
              " '/content/drive/MyDrive/frames_ravdess_label/sad/01-01-04-02-01-02-05.mp4',\n",
              " '/content/drive/MyDrive/frames_ravdess_label/sad/01-01-04-01-02-01-04.mp4',\n",
              " '/content/drive/MyDrive/frames_ravdess_label/sad/01-01-04-01-01-01-03.mp4',\n",
              " '/content/drive/MyDrive/frames_ravdess_label/fearful/01-01-06-01-01-02-05.mp4',\n",
              " '/content/drive/MyDrive/frames_ravdess_label/neutral/01-02-01-01-01-01-19.mp4',\n",
              " '/content/drive/MyDrive/frames_ravdess_label/calm/01-02-02-02-02-01-17.mp4',\n",
              " '/content/drive/MyDrive/frames_ravdess_label/angry/01-02-05-01-02-01-07.mp4',\n",
              " '/content/drive/MyDrive/frames_ravdess_label/sad/01-01-04-02-01-02-02.mp4',\n",
              " '/content/drive/MyDrive/frames_ravdess_label/calm/01-02-02-02-02-01-15.mp4',\n",
              " '/content/drive/MyDrive/frames_ravdess_label/angry/01-01-05-02-01-01-03.mp4',\n",
              " '/content/drive/MyDrive/frames_ravdess_label/neutral/01-02-01-01-02-02-11.mp4',\n",
              " '/content/drive/MyDrive/frames_ravdess_label/calm/01-02-02-01-01-01-14.mp4',\n",
              " '/content/drive/MyDrive/frames_ravdess_label/happy/01-01-03-02-01-01-01.mp4',\n",
              " '/content/drive/MyDrive/frames_ravdess_label/angry/01-02-05-01-02-01-22.mp4',\n",
              " '/content/drive/MyDrive/frames_ravdess_label/calm/01-02-02-01-02-01-06.mp4',\n",
              " '/content/drive/MyDrive/frames_ravdess_label/neutral/01-02-01-01-01-02-04.mp4',\n",
              " '/content/drive/MyDrive/frames_ravdess_label/calm/01-01-02-01-02-01-11.mp4',\n",
              " '/content/drive/MyDrive/frames_ravdess_label/angry/01-01-05-01-01-02-16.mp4',\n",
              " '/content/drive/MyDrive/frames_ravdess_label/sad/01-01-04-02-02-01-14.mp4',\n",
              " '/content/drive/MyDrive/frames_ravdess_label/calm/01-01-02-02-01-01-18.mp4',\n",
              " '/content/drive/MyDrive/frames_ravdess_label/fearful/01-02-06-01-01-02-10.mp4',\n",
              " '/content/drive/MyDrive/frames_ravdess_label/neutral/01-02-01-01-01-02-13.mp4',\n",
              " '/content/drive/MyDrive/frames_ravdess_label/neutral/01-02-01-01-02-02-01.mp4',\n",
              " '/content/drive/MyDrive/frames_ravdess_label/calm/01-02-02-01-01-02-09.mp4',\n",
              " '/content/drive/MyDrive/frames_ravdess_label/happy/01-01-03-01-02-01-20.mp4',\n",
              " '/content/drive/MyDrive/frames_ravdess_label/sad/01-02-04-01-02-02-05.mp4',\n",
              " '/content/drive/MyDrive/frames_ravdess_label/happy/01-01-03-01-02-01-22.mp4',\n",
              " '/content/drive/MyDrive/frames_ravdess_label/calm/01-02-02-02-02-01-13.mp4',\n",
              " '/content/drive/MyDrive/frames_ravdess_label/happy/01-01-03-02-01-02-15.mp4',\n",
              " '/content/drive/MyDrive/frames_ravdess_label/sad/01-01-04-02-01-01-18.mp4',\n",
              " '/content/drive/MyDrive/frames_ravdess_label/calm/01-01-02-02-02-02-06.mp4',\n",
              " '/content/drive/MyDrive/frames_ravdess_label/calm/01-01-02-01-02-01-04.mp4',\n",
              " '/content/drive/MyDrive/frames_ravdess_label/happy/01-01-03-01-02-01-23.mp4',\n",
              " '/content/drive/MyDrive/frames_ravdess_label/sad/01-01-04-02-02-01-17.mp4',\n",
              " '/content/drive/MyDrive/frames_ravdess_label/fearful/01-02-06-01-02-02-21.mp4',\n",
              " '/content/drive/MyDrive/frames_ravdess_label/happy/01-01-03-02-01-01-03.mp4',\n",
              " '/content/drive/MyDrive/frames_ravdess_label/fearful/01-01-06-02-02-01-09.mp4',\n",
              " '/content/drive/MyDrive/frames_ravdess_label/neutral/01-01-01-01-02-01-08.mp4',\n",
              " '/content/drive/MyDrive/frames_ravdess_label/angry/01-02-05-01-01-01-21.mp4',\n",
              " '/content/drive/MyDrive/frames_ravdess_label/happy/01-02-03-02-01-02-15.mp4',\n",
              " '/content/drive/MyDrive/frames_ravdess_label/calm/01-01-02-02-02-01-12.mp4',\n",
              " '/content/drive/MyDrive/frames_ravdess_label/neutral/01-02-01-01-01-02-21.mp4',\n",
              " '/content/drive/MyDrive/frames_ravdess_label/fearful/01-01-06-01-01-02-04.mp4',\n",
              " '/content/drive/MyDrive/frames_ravdess_label/angry/01-02-05-02-02-01-21.mp4',\n",
              " '/content/drive/MyDrive/frames_ravdess_label/happy/01-02-03-02-01-01-13.mp4',\n",
              " '/content/drive/MyDrive/frames_ravdess_label/angry/01-02-05-01-01-01-05.mp4',\n",
              " '/content/drive/MyDrive/frames_ravdess_label/angry/01-02-05-01-01-01-06.mp4',\n",
              " '/content/drive/MyDrive/frames_ravdess_label/happy/01-02-03-02-01-02-04.mp4',\n",
              " '/content/drive/MyDrive/frames_ravdess_label/neutral/01-01-01-01-01-01-04.mp4',\n",
              " '/content/drive/MyDrive/frames_ravdess_label/sad/01-02-04-01-02-02-21.mp4',\n",
              " '/content/drive/MyDrive/frames_ravdess_label/angry/01-02-05-01-01-02-22.mp4',\n",
              " '/content/drive/MyDrive/frames_ravdess_label/happy/01-01-03-02-02-02-10.mp4',\n",
              " '/content/drive/MyDrive/frames_ravdess_label/fearful/01-02-06-01-02-01-03.mp4',\n",
              " '/content/drive/MyDrive/frames_ravdess_label/calm/01-01-02-01-01-02-02.mp4',\n",
              " '/content/drive/MyDrive/frames_ravdess_label/sad/01-01-04-02-02-02-13.mp4',\n",
              " '/content/drive/MyDrive/frames_ravdess_label/angry/01-01-05-01-02-02-22.mp4',\n",
              " '/content/drive/MyDrive/frames_ravdess_label/fearful/01-01-06-02-02-02-19.mp4',\n",
              " '/content/drive/MyDrive/frames_ravdess_label/fearful/01-01-06-01-02-02-02.mp4',\n",
              " '/content/drive/MyDrive/frames_ravdess_label/fearful/01-02-06-02-02-02-13.mp4',\n",
              " '/content/drive/MyDrive/frames_ravdess_label/angry/01-02-05-01-01-01-24.mp4',\n",
              " '/content/drive/MyDrive/frames_ravdess_label/neutral/01-01-01-01-01-01-23.mp4',\n",
              " '/content/drive/MyDrive/frames_ravdess_label/happy/01-02-03-02-02-01-11.mp4',\n",
              " '/content/drive/MyDrive/frames_ravdess_label/sad/01-02-04-01-02-01-20.mp4',\n",
              " '/content/drive/MyDrive/frames_ravdess_label/calm/01-01-02-02-01-01-11.mp4',\n",
              " '/content/drive/MyDrive/frames_ravdess_label/angry/01-01-05-02-02-01-24.mp4',\n",
              " '/content/drive/MyDrive/frames_ravdess_label/calm/01-02-02-01-01-02-06.mp4',\n",
              " '/content/drive/MyDrive/frames_ravdess_label/sad/01-01-04-01-02-01-23.mp4',\n",
              " '/content/drive/MyDrive/frames_ravdess_label/angry/01-01-05-01-01-01-19.mp4',\n",
              " '/content/drive/MyDrive/frames_ravdess_label/sad/01-02-04-01-01-01-01.mp4',\n",
              " '/content/drive/MyDrive/frames_ravdess_label/fearful/01-02-06-02-02-02-10.mp4',\n",
              " '/content/drive/MyDrive/frames_ravdess_label/angry/01-01-05-01-02-02-09.mp4',\n",
              " '/content/drive/MyDrive/frames_ravdess_label/angry/01-01-05-01-01-01-06.mp4',\n",
              " '/content/drive/MyDrive/frames_ravdess_label/calm/01-02-02-02-02-02-17.mp4',\n",
              " '/content/drive/MyDrive/frames_ravdess_label/angry/01-01-05-01-02-02-03.mp4',\n",
              " '/content/drive/MyDrive/frames_ravdess_label/sad/01-02-04-02-01-01-24.mp4',\n",
              " '/content/drive/MyDrive/frames_ravdess_label/fearful/01-02-06-02-02-01-20.mp4',\n",
              " '/content/drive/MyDrive/frames_ravdess_label/fearful/01-01-06-02-01-02-11.mp4',\n",
              " '/content/drive/MyDrive/frames_ravdess_label/angry/01-01-05-02-02-01-07.mp4',\n",
              " '/content/drive/MyDrive/frames_ravdess_label/fearful/01-01-06-01-01-01-12.mp4',\n",
              " '/content/drive/MyDrive/frames_ravdess_label/neutral/01-01-01-01-02-01-18.mp4',\n",
              " '/content/drive/MyDrive/frames_ravdess_label/sad/01-02-04-02-01-02-17.mp4',\n",
              " '/content/drive/MyDrive/frames_ravdess_label/sad/01-01-04-01-02-02-21.mp4',\n",
              " '/content/drive/MyDrive/frames_ravdess_label/fearful/01-02-06-01-02-02-04.mp4',\n",
              " '/content/drive/MyDrive/frames_ravdess_label/fearful/01-01-06-01-01-02-19.mp4',\n",
              " '/content/drive/MyDrive/frames_ravdess_label/fearful/01-01-06-01-01-02-12.mp4',\n",
              " '/content/drive/MyDrive/frames_ravdess_label/fearful/01-01-06-02-02-01-22.mp4',\n",
              " '/content/drive/MyDrive/frames_ravdess_label/sad/01-01-04-02-02-02-04.mp4',\n",
              " '/content/drive/MyDrive/frames_ravdess_label/happy/01-02-03-01-01-01-21.mp4',\n",
              " '/content/drive/MyDrive/frames_ravdess_label/happy/01-02-03-02-02-02-17.mp4',\n",
              " '/content/drive/MyDrive/frames_ravdess_label/calm/01-02-02-02-02-01-02.mp4',\n",
              " '/content/drive/MyDrive/frames_ravdess_label/neutral/01-01-01-01-01-01-24.mp4',\n",
              " '/content/drive/MyDrive/frames_ravdess_label/happy/01-01-03-01-01-01-24.mp4',\n",
              " '/content/drive/MyDrive/frames_ravdess_label/calm/01-01-02-02-01-01-17.mp4',\n",
              " '/content/drive/MyDrive/frames_ravdess_label/calm/01-01-02-01-01-02-19.mp4',\n",
              " '/content/drive/MyDrive/frames_ravdess_label/sad/01-02-04-01-01-01-08.mp4',\n",
              " '/content/drive/MyDrive/frames_ravdess_label/happy/01-02-03-02-02-01-20.mp4',\n",
              " '/content/drive/MyDrive/frames_ravdess_label/sad/01-01-04-01-02-02-04.mp4',\n",
              " '/content/drive/MyDrive/frames_ravdess_label/neutral/01-02-01-01-02-01-16.mp4',\n",
              " '/content/drive/MyDrive/frames_ravdess_label/sad/01-02-04-01-02-01-02.mp4',\n",
              " '/content/drive/MyDrive/frames_ravdess_label/fearful/01-02-06-01-01-02-02.mp4',\n",
              " '/content/drive/MyDrive/frames_ravdess_label/happy/01-02-03-01-02-01-11.mp4',\n",
              " '/content/drive/MyDrive/frames_ravdess_label/happy/01-02-03-01-01-02-06.mp4',\n",
              " '/content/drive/MyDrive/frames_ravdess_label/happy/01-01-03-02-02-01-04.mp4',\n",
              " '/content/drive/MyDrive/frames_ravdess_label/calm/01-01-02-01-02-02-17.mp4',\n",
              " '/content/drive/MyDrive/frames_ravdess_label/angry/01-01-05-01-02-02-04.mp4',\n",
              " '/content/drive/MyDrive/frames_ravdess_label/angry/01-01-05-01-02-02-02.mp4',\n",
              " '/content/drive/MyDrive/frames_ravdess_label/angry/01-01-05-01-02-02-12.mp4',\n",
              " '/content/drive/MyDrive/frames_ravdess_label/calm/01-01-02-01-01-01-02.mp4',\n",
              " '/content/drive/MyDrive/frames_ravdess_label/angry/01-01-05-02-02-02-02.mp4',\n",
              " '/content/drive/MyDrive/frames_ravdess_label/calm/01-01-02-02-02-02-14.mp4',\n",
              " '/content/drive/MyDrive/frames_ravdess_label/angry/01-02-05-02-01-02-15.mp4',\n",
              " '/content/drive/MyDrive/frames_ravdess_label/happy/01-02-03-02-02-01-07.mp4',\n",
              " '/content/drive/MyDrive/frames_ravdess_label/calm/01-01-02-01-02-02-06.mp4',\n",
              " '/content/drive/MyDrive/frames_ravdess_label/happy/01-02-03-01-02-02-01.mp4',\n",
              " '/content/drive/MyDrive/frames_ravdess_label/angry/01-02-05-01-01-02-19.mp4',\n",
              " '/content/drive/MyDrive/frames_ravdess_label/happy/01-01-03-02-02-02-17.mp4',\n",
              " '/content/drive/MyDrive/frames_ravdess_label/angry/01-02-05-01-01-01-23.mp4',\n",
              " '/content/drive/MyDrive/frames_ravdess_label/angry/01-02-05-02-01-01-24.mp4',\n",
              " '/content/drive/MyDrive/frames_ravdess_label/angry/01-02-05-02-02-01-15.mp4',\n",
              " '/content/drive/MyDrive/frames_ravdess_label/happy/01-02-03-01-02-01-02.mp4',\n",
              " '/content/drive/MyDrive/frames_ravdess_label/fearful/01-01-06-02-02-02-11.mp4',\n",
              " '/content/drive/MyDrive/frames_ravdess_label/neutral/01-02-01-01-01-01-15.mp4',\n",
              " '/content/drive/MyDrive/frames_ravdess_label/sad/01-02-04-01-01-01-06.mp4',\n",
              " '/content/drive/MyDrive/frames_ravdess_label/fearful/01-02-06-01-01-02-13.mp4',\n",
              " '/content/drive/MyDrive/frames_ravdess_label/fearful/01-02-06-01-01-01-15.mp4',\n",
              " '/content/drive/MyDrive/frames_ravdess_label/angry/01-02-05-01-02-01-16.mp4',\n",
              " '/content/drive/MyDrive/frames_ravdess_label/calm/01-02-02-01-02-02-13.mp4',\n",
              " '/content/drive/MyDrive/frames_ravdess_label/happy/01-02-03-02-01-01-22.mp4',\n",
              " '/content/drive/MyDrive/frames_ravdess_label/fearful/01-02-06-02-01-01-16.mp4',\n",
              " '/content/drive/MyDrive/frames_ravdess_label/calm/01-01-02-02-02-02-19.mp4',\n",
              " '/content/drive/MyDrive/frames_ravdess_label/fearful/01-01-06-02-01-01-22.mp4',\n",
              " '/content/drive/MyDrive/frames_ravdess_label/angry/01-01-05-01-02-01-02.mp4',\n",
              " '/content/drive/MyDrive/frames_ravdess_label/sad/01-01-04-02-02-01-18.mp4',\n",
              " '/content/drive/MyDrive/frames_ravdess_label/neutral/01-01-01-01-01-01-18.mp4',\n",
              " '/content/drive/MyDrive/frames_ravdess_label/calm/01-02-02-01-01-01-16.mp4',\n",
              " '/content/drive/MyDrive/frames_ravdess_label/calm/01-01-02-02-01-02-11.mp4',\n",
              " '/content/drive/MyDrive/frames_ravdess_label/calm/01-02-02-02-02-02-11.mp4',\n",
              " '/content/drive/MyDrive/frames_ravdess_label/fearful/01-01-06-02-02-01-24.mp4',\n",
              " '/content/drive/MyDrive/frames_ravdess_label/happy/01-02-03-01-01-01-02.mp4',\n",
              " '/content/drive/MyDrive/frames_ravdess_label/sad/01-02-04-01-01-02-03.mp4',\n",
              " '/content/drive/MyDrive/frames_ravdess_label/angry/01-01-05-02-01-01-21.mp4',\n",
              " '/content/drive/MyDrive/frames_ravdess_label/calm/01-01-02-02-01-01-22.mp4',\n",
              " '/content/drive/MyDrive/frames_ravdess_label/calm/01-01-02-01-02-01-21.mp4',\n",
              " '/content/drive/MyDrive/frames_ravdess_label/sad/01-01-04-02-01-02-19.mp4',\n",
              " '/content/drive/MyDrive/frames_ravdess_label/angry/01-02-05-01-01-02-14.mp4',\n",
              " '/content/drive/MyDrive/frames_ravdess_label/angry/01-02-05-01-01-01-03.mp4',\n",
              " '/content/drive/MyDrive/frames_ravdess_label/fearful/01-01-06-01-02-02-20.mp4',\n",
              " '/content/drive/MyDrive/frames_ravdess_label/sad/01-02-04-02-02-01-13.mp4',\n",
              " '/content/drive/MyDrive/frames_ravdess_label/fearful/01-02-06-01-01-02-01.mp4',\n",
              " '/content/drive/MyDrive/frames_ravdess_label/calm/01-01-02-02-02-02-13.mp4',\n",
              " '/content/drive/MyDrive/frames_ravdess_label/happy/01-02-03-02-01-02-21.mp4',\n",
              " '/content/drive/MyDrive/frames_ravdess_label/sad/01-01-04-02-02-02-08.mp4',\n",
              " '/content/drive/MyDrive/frames_ravdess_label/happy/01-02-03-02-01-01-05.mp4',\n",
              " '/content/drive/MyDrive/frames_ravdess_label/fearful/01-01-06-01-02-02-01.mp4',\n",
              " '/content/drive/MyDrive/frames_ravdess_label/fearful/01-02-06-01-02-01-13.mp4',\n",
              " '/content/drive/MyDrive/frames_ravdess_label/neutral/01-02-01-01-01-01-24.mp4',\n",
              " '/content/drive/MyDrive/frames_ravdess_label/happy/01-02-03-01-02-01-22.mp4',\n",
              " '/content/drive/MyDrive/frames_ravdess_label/fearful/01-02-06-01-01-01-19.mp4',\n",
              " '/content/drive/MyDrive/frames_ravdess_label/sad/01-01-04-01-02-01-01.mp4',\n",
              " '/content/drive/MyDrive/frames_ravdess_label/sad/01-02-04-01-02-01-24.mp4',\n",
              " '/content/drive/MyDrive/frames_ravdess_label/neutral/01-01-01-01-01-02-21.mp4',\n",
              " '/content/drive/MyDrive/frames_ravdess_label/angry/01-02-05-02-01-02-23.mp4',\n",
              " '/content/drive/MyDrive/frames_ravdess_label/angry/01-02-05-01-01-01-13.mp4',\n",
              " '/content/drive/MyDrive/frames_ravdess_label/happy/01-01-03-01-01-02-04.mp4']"
            ]
          },
          "metadata": {},
          "execution_count": 13
        }
      ]
    },
    {
      "cell_type": "code",
      "source": [
        "# '/content/drive/MyDrive/frames_ravdess_label/angry/01-01-05-02-02-01-01.mp4']"
      ],
      "metadata": {
        "id": "rJK-xsrkTzvC"
      },
      "execution_count": null,
      "outputs": []
    },
    {
      "cell_type": "markdown",
      "source": [
        "**please not forget to change expert number**"
      ],
      "metadata": {
        "id": "yODensEaOZ-E"
      }
    },
    {
      "cell_type": "code",
      "source": [
        "import joblib\n",
        "\n",
        "save_dir = '/content/drive/My Drive/fusion/video/data_set_fusion/expert7'\n",
        "\n",
        "savedvX = joblib.dump(labels_train, os.path.join(save_dir, 'train/labels_train'))\n",
        "savedvX = joblib.dump(labels_test, os.path.join(save_dir, 'test/labels_test'))\n",
        "savedvX = joblib.dump(labels_valid, os.path.join(save_dir, 'valid/labels_valid'))\n",
        "savedvX = joblib.dump(video_train_path, os.path.join(save_dir, 'train/video_train_path'))\n",
        "savedvX = joblib.dump(video_test_path, os.path.join(save_dir, 'test/video_test_path'))\n",
        "savedvX = joblib.dump(video_valid_path, os.path.join(save_dir, 'valid/video_valid_path'))"
      ],
      "metadata": {
        "id": "Tchx6xO0HHzb"
      },
      "execution_count": 13,
      "outputs": []
    },
    {
      "cell_type": "code",
      "source": [
        "labels_test=to_categorical(labels_test)\n",
        "labels_train=to_categorical(labels_train)\n",
        "labels_valid=to_categorical(labels_valid)"
      ],
      "metadata": {
        "id": "6lLzecnJHMaY"
      },
      "execution_count": 14,
      "outputs": []
    },
    {
      "cell_type": "code",
      "execution_count": 15,
      "metadata": {
        "id": "4WmDntbuFEzc"
      },
      "outputs": [],
      "source": [
        "def create_LRCN_model():\n",
        "    '''\n",
        "    This function will construct the required LRCN model.\n",
        "    Returns:\n",
        "        model: It is the required constructed LRCN model.\n",
        "    '''\n",
        "\n",
        "    # We will use a Sequential model for model construction.\n",
        "    model = Sequential()\n",
        "   \n",
        "    # Define the Model Architecture.\n",
        "    ########################################################################################################################\n",
        "    \n",
        "    model.add(TimeDistributed(Conv2D(16, (5, 5), padding='same'),\n",
        "                              input_shape = (SEQUENCE_LENGTH, IMAGE_HEIGHT, IMAGE_WIDTH, 3)))\n",
        "    model.add(TimeDistributed(BatchNormalization()))\n",
        "    model.add(TimeDistributed(Activation('relu')))\n",
        "    model.add(TimeDistributed(MaxPooling2D((4, 4)))) \n",
        "    model.add(TimeDistributed(Dropout(0.1)))\n",
        "    \n",
        "    model.add(TimeDistributed(Conv2D(32, (5, 5), padding='same')))\n",
        "    model.add(TimeDistributed(BatchNormalization()))\n",
        "    model.add(TimeDistributed(Activation('relu')))\n",
        "    model.add(TimeDistributed(MaxPooling2D((4, 4))))\n",
        "    model.add(TimeDistributed(Dropout(0.2)))\n",
        "    \n",
        "    model.add(TimeDistributed(Conv2D(64, (5, 5), padding='same')))\n",
        "    model.add(TimeDistributed(BatchNormalization()))\n",
        "    model.add(TimeDistributed(Activation('relu')))\n",
        "    model.add(TimeDistributed(MaxPooling2D((2, 2))))\n",
        "    model.add(TimeDistributed(Dropout(0.3)))\n",
        "    \n",
        "    model.add(TimeDistributed(Conv2D(64, (5, 5), padding='same')))\n",
        "    model.add(TimeDistributed(BatchNormalization()))\n",
        "    model.add(TimeDistributed(Activation('relu')))\n",
        "    model.add(TimeDistributed(MaxPooling2D((2, 2))))\n",
        "    #model.add(TimeDistributed(Dropout(0.25)))\n",
        "                                      \n",
        "    model.add(TimeDistributed(Flatten()))\n",
        "                                      \n",
        "    model.add(LSTM(64))\n",
        "                                      \n",
        "    model.add(Dense(len(CLASSES_LIST), activation = 'softmax'))\n",
        "\n",
        "    ########################################################################################################################\n",
        "\n",
        "    # Display the models summary.\n",
        "    model.summary()\n",
        "    \n",
        "    # Return the constructed LRCN model.\n",
        "    return model"
      ]
    },
    {
      "cell_type": "code",
      "execution_count": 16,
      "metadata": {
        "colab": {
          "base_uri": "https://localhost:8080/"
        },
        "id": "2Mjr6pjzFOkd",
        "outputId": "d9ba04ec-6cd1-4bc2-fe01-ff55cccdc5ce"
      },
      "outputs": [
        {
          "output_type": "stream",
          "name": "stdout",
          "text": [
            "Model: \"sequential\"\n",
            "_________________________________________________________________\n",
            " Layer (type)                Output Shape              Param #   \n",
            "=================================================================\n",
            " time_distributed (TimeDistr  (None, 30, 64, 64, 16)   1216      \n",
            " ibuted)                                                         \n",
            "                                                                 \n",
            " time_distributed_1 (TimeDis  (None, 30, 64, 64, 16)   64        \n",
            " tributed)                                                       \n",
            "                                                                 \n",
            " time_distributed_2 (TimeDis  (None, 30, 64, 64, 16)   0         \n",
            " tributed)                                                       \n",
            "                                                                 \n",
            " time_distributed_3 (TimeDis  (None, 30, 16, 16, 16)   0         \n",
            " tributed)                                                       \n",
            "                                                                 \n",
            " time_distributed_4 (TimeDis  (None, 30, 16, 16, 16)   0         \n",
            " tributed)                                                       \n",
            "                                                                 \n",
            " time_distributed_5 (TimeDis  (None, 30, 16, 16, 32)   12832     \n",
            " tributed)                                                       \n",
            "                                                                 \n",
            " time_distributed_6 (TimeDis  (None, 30, 16, 16, 32)   128       \n",
            " tributed)                                                       \n",
            "                                                                 \n",
            " time_distributed_7 (TimeDis  (None, 30, 16, 16, 32)   0         \n",
            " tributed)                                                       \n",
            "                                                                 \n",
            " time_distributed_8 (TimeDis  (None, 30, 4, 4, 32)     0         \n",
            " tributed)                                                       \n",
            "                                                                 \n",
            " time_distributed_9 (TimeDis  (None, 30, 4, 4, 32)     0         \n",
            " tributed)                                                       \n",
            "                                                                 \n",
            " time_distributed_10 (TimeDi  (None, 30, 4, 4, 64)     51264     \n",
            " stributed)                                                      \n",
            "                                                                 \n",
            " time_distributed_11 (TimeDi  (None, 30, 4, 4, 64)     256       \n",
            " stributed)                                                      \n",
            "                                                                 \n",
            " time_distributed_12 (TimeDi  (None, 30, 4, 4, 64)     0         \n",
            " stributed)                                                      \n",
            "                                                                 \n",
            " time_distributed_13 (TimeDi  (None, 30, 2, 2, 64)     0         \n",
            " stributed)                                                      \n",
            "                                                                 \n",
            " time_distributed_14 (TimeDi  (None, 30, 2, 2, 64)     0         \n",
            " stributed)                                                      \n",
            "                                                                 \n",
            " time_distributed_15 (TimeDi  (None, 30, 2, 2, 64)     102464    \n",
            " stributed)                                                      \n",
            "                                                                 \n",
            " time_distributed_16 (TimeDi  (None, 30, 2, 2, 64)     256       \n",
            " stributed)                                                      \n",
            "                                                                 \n",
            " time_distributed_17 (TimeDi  (None, 30, 2, 2, 64)     0         \n",
            " stributed)                                                      \n",
            "                                                                 \n",
            " time_distributed_18 (TimeDi  (None, 30, 1, 1, 64)     0         \n",
            " stributed)                                                      \n",
            "                                                                 \n",
            " time_distributed_19 (TimeDi  (None, 30, 64)           0         \n",
            " stributed)                                                      \n",
            "                                                                 \n",
            " lstm (LSTM)                 (None, 64)                33024     \n",
            "                                                                 \n",
            " dense (Dense)               (None, 6)                 390       \n",
            "                                                                 \n",
            "=================================================================\n",
            "Total params: 201,894\n",
            "Trainable params: 201,542\n",
            "Non-trainable params: 352\n",
            "_________________________________________________________________\n",
            "Model Created Successfully!\n"
          ]
        }
      ],
      "source": [
        "# Construct the required LRCN model.\n",
        "LRCN_model = create_LRCN_model()\n",
        "\n",
        "# Display the success message.\n",
        "print(\"Model Created Successfully!\")\n"
      ]
    },
    {
      "cell_type": "code",
      "execution_count": 17,
      "metadata": {
        "colab": {
          "base_uri": "https://localhost:8080/"
        },
        "id": "dvXcqO0TFRzR",
        "outputId": "062c572b-1d97-4603-c7e6-221728cefcae"
      },
      "outputs": [
        {
          "output_type": "stream",
          "name": "stdout",
          "text": [
            "Epoch 1/100\n",
            "414/414 [==============================] - 23s 19ms/step - loss: 1.5461 - accuracy: 0.3424 - val_loss: 1.5706 - val_accuracy: 0.3816\n",
            "Epoch 2/100\n",
            "414/414 [==============================] - 7s 16ms/step - loss: 1.2012 - accuracy: 0.4779 - val_loss: 2.0618 - val_accuracy: 0.3671\n",
            "Epoch 3/100\n",
            "414/414 [==============================] - 7s 16ms/step - loss: 1.0641 - accuracy: 0.5535 - val_loss: 1.6491 - val_accuracy: 0.4203\n",
            "Epoch 4/100\n",
            "414/414 [==============================] - 7s 17ms/step - loss: 1.0129 - accuracy: 0.5796 - val_loss: 2.3095 - val_accuracy: 0.3188\n",
            "Epoch 5/100\n",
            "414/414 [==============================] - 7s 16ms/step - loss: 0.9119 - accuracy: 0.6273 - val_loss: 2.6613 - val_accuracy: 0.3188\n",
            "Epoch 6/100\n",
            "414/414 [==============================] - 7s 16ms/step - loss: 0.8804 - accuracy: 0.6328 - val_loss: 0.7963 - val_accuracy: 0.6860\n",
            "Epoch 7/100\n",
            "414/414 [==============================] - 7s 16ms/step - loss: 0.7857 - accuracy: 0.6866 - val_loss: 0.7439 - val_accuracy: 0.7391\n",
            "Epoch 8/100\n",
            "414/414 [==============================] - 7s 16ms/step - loss: 0.7207 - accuracy: 0.7145 - val_loss: 2.0151 - val_accuracy: 0.4058\n",
            "Epoch 9/100\n",
            "414/414 [==============================] - 7s 16ms/step - loss: 0.6568 - accuracy: 0.7502 - val_loss: 1.2483 - val_accuracy: 0.5604\n",
            "Epoch 10/100\n",
            "414/414 [==============================] - 7s 16ms/step - loss: 0.5861 - accuracy: 0.7774 - val_loss: 0.6727 - val_accuracy: 0.7488\n",
            "Epoch 11/100\n",
            "414/414 [==============================] - 7s 16ms/step - loss: 0.5767 - accuracy: 0.7780 - val_loss: 0.8040 - val_accuracy: 0.7488\n",
            "Epoch 12/100\n",
            "414/414 [==============================] - 7s 16ms/step - loss: 0.4728 - accuracy: 0.8161 - val_loss: 0.4937 - val_accuracy: 0.8019\n",
            "Epoch 13/100\n",
            "414/414 [==============================] - 7s 16ms/step - loss: 0.4166 - accuracy: 0.8536 - val_loss: 0.5216 - val_accuracy: 0.7826\n",
            "Epoch 14/100\n",
            "414/414 [==============================] - 7s 16ms/step - loss: 0.4399 - accuracy: 0.8300 - val_loss: 0.7116 - val_accuracy: 0.7150\n",
            "Epoch 15/100\n",
            "414/414 [==============================] - 7s 16ms/step - loss: 0.4218 - accuracy: 0.8463 - val_loss: 0.4959 - val_accuracy: 0.8164\n",
            "Epoch 16/100\n",
            "414/414 [==============================] - 7s 16ms/step - loss: 0.3557 - accuracy: 0.8736 - val_loss: 0.5863 - val_accuracy: 0.7681\n",
            "Epoch 17/100\n",
            "414/414 [==============================] - 7s 16ms/step - loss: 0.3489 - accuracy: 0.8766 - val_loss: 0.5753 - val_accuracy: 0.7971\n",
            "Epoch 18/100\n",
            "414/414 [==============================] - 7s 16ms/step - loss: 0.2878 - accuracy: 0.9038 - val_loss: 0.4095 - val_accuracy: 0.8309\n",
            "Epoch 19/100\n",
            "414/414 [==============================] - 7s 16ms/step - loss: 0.2778 - accuracy: 0.9002 - val_loss: 0.4608 - val_accuracy: 0.8502\n",
            "Epoch 20/100\n",
            "414/414 [==============================] - 7s 16ms/step - loss: 0.2887 - accuracy: 0.8923 - val_loss: 0.4470 - val_accuracy: 0.8406\n",
            "Epoch 21/100\n",
            "414/414 [==============================] - 7s 16ms/step - loss: 0.2411 - accuracy: 0.9153 - val_loss: 0.3531 - val_accuracy: 0.8986\n",
            "Epoch 22/100\n",
            "414/414 [==============================] - 7s 16ms/step - loss: 0.2253 - accuracy: 0.9280 - val_loss: 0.6322 - val_accuracy: 0.7778\n",
            "Epoch 23/100\n",
            "414/414 [==============================] - 7s 17ms/step - loss: 0.2313 - accuracy: 0.9177 - val_loss: 0.2623 - val_accuracy: 0.9130\n",
            "Epoch 24/100\n",
            "414/414 [==============================] - 7s 17ms/step - loss: 0.2038 - accuracy: 0.9347 - val_loss: 0.5376 - val_accuracy: 0.8116\n",
            "Epoch 25/100\n",
            "414/414 [==============================] - 7s 16ms/step - loss: 0.1777 - accuracy: 0.9377 - val_loss: 0.2664 - val_accuracy: 0.9275\n",
            "Epoch 26/100\n",
            "414/414 [==============================] - 7s 16ms/step - loss: 0.2005 - accuracy: 0.9292 - val_loss: 0.2203 - val_accuracy: 0.9420\n",
            "Epoch 27/100\n",
            "414/414 [==============================] - 7s 16ms/step - loss: 0.1648 - accuracy: 0.9407 - val_loss: 0.3648 - val_accuracy: 0.8792\n",
            "Epoch 28/100\n",
            "414/414 [==============================] - 7s 16ms/step - loss: 0.1812 - accuracy: 0.9383 - val_loss: 0.1985 - val_accuracy: 0.9324\n",
            "Epoch 29/100\n",
            "414/414 [==============================] - 7s 16ms/step - loss: 0.1719 - accuracy: 0.9395 - val_loss: 0.2861 - val_accuracy: 0.9034\n",
            "Epoch 30/100\n",
            "414/414 [==============================] - 7s 16ms/step - loss: 0.1586 - accuracy: 0.9395 - val_loss: 0.2391 - val_accuracy: 0.8889\n",
            "Epoch 31/100\n",
            "414/414 [==============================] - 7s 17ms/step - loss: 0.1375 - accuracy: 0.9492 - val_loss: 0.1344 - val_accuracy: 0.9517\n",
            "Epoch 32/100\n",
            "414/414 [==============================] - 7s 17ms/step - loss: 0.1350 - accuracy: 0.9516 - val_loss: 0.1952 - val_accuracy: 0.9469\n",
            "Epoch 33/100\n",
            "414/414 [==============================] - 7s 17ms/step - loss: 0.1549 - accuracy: 0.9462 - val_loss: 0.2311 - val_accuracy: 0.9179\n",
            "Epoch 34/100\n",
            "414/414 [==============================] - 7s 16ms/step - loss: 0.1148 - accuracy: 0.9613 - val_loss: 0.0958 - val_accuracy: 0.9758\n",
            "Epoch 35/100\n",
            "414/414 [==============================] - 7s 16ms/step - loss: 0.1170 - accuracy: 0.9625 - val_loss: 0.5787 - val_accuracy: 0.8019\n",
            "Epoch 36/100\n",
            "414/414 [==============================] - 7s 16ms/step - loss: 0.1600 - accuracy: 0.9419 - val_loss: 0.5058 - val_accuracy: 0.8019\n",
            "Epoch 37/100\n",
            "414/414 [==============================] - 7s 17ms/step - loss: 0.1153 - accuracy: 0.9583 - val_loss: 0.1692 - val_accuracy: 0.9469\n",
            "Epoch 38/100\n",
            "414/414 [==============================] - 7s 17ms/step - loss: 0.1042 - accuracy: 0.9637 - val_loss: 0.1924 - val_accuracy: 0.9324\n",
            "Epoch 39/100\n",
            "414/414 [==============================] - 7s 17ms/step - loss: 0.0754 - accuracy: 0.9764 - val_loss: 0.5355 - val_accuracy: 0.8357\n",
            "Epoch 40/100\n",
            "414/414 [==============================] - 7s 16ms/step - loss: 0.1405 - accuracy: 0.9601 - val_loss: 0.2167 - val_accuracy: 0.9324\n",
            "Epoch 41/100\n",
            "414/414 [==============================] - 7s 16ms/step - loss: 0.1168 - accuracy: 0.9552 - val_loss: 0.1779 - val_accuracy: 0.9420\n",
            "Epoch 42/100\n",
            "414/414 [==============================] - 7s 17ms/step - loss: 0.1013 - accuracy: 0.9673 - val_loss: 0.1720 - val_accuracy: 0.9614\n",
            "Epoch 43/100\n",
            "414/414 [==============================] - 7s 16ms/step - loss: 0.1162 - accuracy: 0.9619 - val_loss: 0.1257 - val_accuracy: 0.9420\n",
            "Epoch 44/100\n",
            "414/414 [==============================] - 7s 16ms/step - loss: 0.1117 - accuracy: 0.9589 - val_loss: 0.1886 - val_accuracy: 0.9324\n",
            "Epoch 45/100\n",
            "414/414 [==============================] - 7s 17ms/step - loss: 0.1011 - accuracy: 0.9619 - val_loss: 0.2383 - val_accuracy: 0.9179\n",
            "Epoch 46/100\n",
            "414/414 [==============================] - 7s 17ms/step - loss: 0.0818 - accuracy: 0.9758 - val_loss: 0.1149 - val_accuracy: 0.9758\n",
            "Epoch 47/100\n",
            "414/414 [==============================] - 7s 16ms/step - loss: 0.0964 - accuracy: 0.9661 - val_loss: 0.2670 - val_accuracy: 0.9130\n",
            "Epoch 48/100\n",
            "414/414 [==============================] - 7s 16ms/step - loss: 0.0604 - accuracy: 0.9806 - val_loss: 0.3480 - val_accuracy: 0.8889\n",
            "Epoch 49/100\n",
            "414/414 [==============================] - 7s 16ms/step - loss: 0.1094 - accuracy: 0.9631 - val_loss: 0.2305 - val_accuracy: 0.9275\n",
            "Epoch 50/100\n",
            "414/414 [==============================] - 7s 17ms/step - loss: 0.0936 - accuracy: 0.9679 - val_loss: 0.2229 - val_accuracy: 0.9275\n",
            "Epoch 51/100\n",
            "414/414 [==============================] - 7s 17ms/step - loss: 0.0758 - accuracy: 0.9776 - val_loss: 0.0514 - val_accuracy: 0.9903\n",
            "Epoch 52/100\n",
            "414/414 [==============================] - 7s 16ms/step - loss: 0.0843 - accuracy: 0.9716 - val_loss: 0.2160 - val_accuracy: 0.9034\n",
            "Epoch 53/100\n",
            "414/414 [==============================] - 7s 17ms/step - loss: 0.0867 - accuracy: 0.9740 - val_loss: 0.0790 - val_accuracy: 0.9710\n",
            "Epoch 54/100\n",
            "414/414 [==============================] - 7s 16ms/step - loss: 0.0813 - accuracy: 0.9716 - val_loss: 0.1266 - val_accuracy: 0.9614\n",
            "Epoch 55/100\n",
            "414/414 [==============================] - 7s 17ms/step - loss: 0.0491 - accuracy: 0.9843 - val_loss: 0.3992 - val_accuracy: 0.8599\n",
            "Epoch 56/100\n",
            "414/414 [==============================] - 7s 17ms/step - loss: 0.1241 - accuracy: 0.9637 - val_loss: 0.2700 - val_accuracy: 0.9130\n",
            "Epoch 57/100\n",
            "414/414 [==============================] - 7s 17ms/step - loss: 0.0474 - accuracy: 0.9849 - val_loss: 0.1565 - val_accuracy: 0.9517\n",
            "Epoch 58/100\n",
            "414/414 [==============================] - 7s 17ms/step - loss: 0.0832 - accuracy: 0.9746 - val_loss: 0.4067 - val_accuracy: 0.8937\n",
            "Epoch 59/100\n",
            "414/414 [==============================] - 7s 17ms/step - loss: 0.0702 - accuracy: 0.9812 - val_loss: 0.1235 - val_accuracy: 0.9565\n",
            "Epoch 60/100\n",
            "414/414 [==============================] - 7s 16ms/step - loss: 0.0580 - accuracy: 0.9819 - val_loss: 0.1129 - val_accuracy: 0.9565\n",
            "Epoch 61/100\n",
            "414/414 [==============================] - 7s 16ms/step - loss: 0.0594 - accuracy: 0.9806 - val_loss: 0.2140 - val_accuracy: 0.9420\n",
            "Epoch 62/100\n",
            "414/414 [==============================] - 7s 17ms/step - loss: 0.0580 - accuracy: 0.9825 - val_loss: 0.0924 - val_accuracy: 0.9758\n",
            "Epoch 63/100\n",
            "414/414 [==============================] - 7s 17ms/step - loss: 0.0512 - accuracy: 0.9855 - val_loss: 0.0659 - val_accuracy: 0.9807\n",
            "Epoch 64/100\n",
            "414/414 [==============================] - 7s 17ms/step - loss: 0.0436 - accuracy: 0.9843 - val_loss: 0.2774 - val_accuracy: 0.9227\n",
            "Epoch 65/100\n",
            "414/414 [==============================] - 7s 17ms/step - loss: 0.0515 - accuracy: 0.9855 - val_loss: 0.1138 - val_accuracy: 0.9565\n",
            "Epoch 66/100\n",
            "414/414 [==============================] - 7s 17ms/step - loss: 0.0915 - accuracy: 0.9685 - val_loss: 0.1157 - val_accuracy: 0.9662\n",
            "Epoch 67/100\n",
            "414/414 [==============================] - 7s 17ms/step - loss: 0.0437 - accuracy: 0.9861 - val_loss: 0.1324 - val_accuracy: 0.9662\n",
            "Epoch 68/100\n",
            "414/414 [==============================] - 7s 17ms/step - loss: 0.0743 - accuracy: 0.9776 - val_loss: 0.2338 - val_accuracy: 0.9372\n",
            "Epoch 69/100\n",
            "414/414 [==============================] - 7s 17ms/step - loss: 0.0824 - accuracy: 0.9667 - val_loss: 1.1666 - val_accuracy: 0.7343\n",
            "Epoch 70/100\n",
            "414/414 [==============================] - 7s 17ms/step - loss: 0.0462 - accuracy: 0.9831 - val_loss: 0.1071 - val_accuracy: 0.9662\n",
            "Epoch 71/100\n",
            "414/414 [==============================] - 7s 17ms/step - loss: 0.0280 - accuracy: 0.9921 - val_loss: 0.2438 - val_accuracy: 0.9275\n",
            "Epoch 72/100\n",
            "414/414 [==============================] - 7s 17ms/step - loss: 0.0271 - accuracy: 0.9933 - val_loss: 0.1633 - val_accuracy: 0.9517\n",
            "Epoch 73/100\n",
            "414/414 [==============================] - 7s 17ms/step - loss: 0.0685 - accuracy: 0.9800 - val_loss: 0.2341 - val_accuracy: 0.9227\n",
            "Epoch 74/100\n",
            "414/414 [==============================] - 7s 17ms/step - loss: 0.0949 - accuracy: 0.9691 - val_loss: 0.2337 - val_accuracy: 0.9372\n",
            "Epoch 75/100\n",
            "414/414 [==============================] - 7s 17ms/step - loss: 0.0351 - accuracy: 0.9891 - val_loss: 0.1562 - val_accuracy: 0.9517\n",
            "Epoch 76/100\n",
            "414/414 [==============================] - 7s 17ms/step - loss: 0.0361 - accuracy: 0.9885 - val_loss: 0.1091 - val_accuracy: 0.9662\n"
          ]
        }
      ],
      "source": [
        "# Create an Instance of Early Stopping Callback.\n",
        "early_stopping_callback = EarlyStopping(monitor = 'val_loss', patience = 25, mode = 'min', restore_best_weights = True)\n",
        " \n",
        "# Compile the model and specify loss function, optimizer and metrics to the model.\n",
        "LRCN_model.compile(loss = 'categorical_crossentropy', optimizer = 'Adam', metrics = [\"accuracy\"])\n",
        "\n",
        "# Start training the model.\n",
        "LRCN_model_training_history = LRCN_model.fit(x = features_train, y = labels_train, epochs = 100, batch_size = 4 ,\n",
        "                                             shuffle = True, validation_data = (features_valid,labels_valid), callbacks = [early_stopping_callback])"
      ]
    },
    {
      "cell_type": "code",
      "execution_count": 18,
      "metadata": {
        "colab": {
          "base_uri": "https://localhost:8080/"
        },
        "id": "2UP4-H_oF4TZ",
        "outputId": "dffb33e6-717d-4894-a251-bd7c87ab6708"
      },
      "outputs": [
        {
          "output_type": "stream",
          "name": "stdout",
          "text": [
            "7/7 [==============================] - 1s 68ms/step - loss: 0.1577 - accuracy: 0.9517\n"
          ]
        }
      ],
      "source": [
        "# Evaluate the trained model.\n",
        "model_evaluation_history = LRCN_model.evaluate(features_test, labels_test)"
      ]
    },
    {
      "cell_type": "markdown",
      "source": [
        "**please don't forget to change expert number**"
      ],
      "metadata": {
        "id": "6cFm75mqPQv2"
      }
    },
    {
      "cell_type": "code",
      "execution_count": 19,
      "metadata": {
        "id": "ZQFzvcgbF73v"
      },
      "outputs": [],
      "source": [
        "# Get the loss and accuracy from model_evaluation_history.\n",
        "model_evaluation_loss, model_evaluation_accuracy = model_evaluation_history\n",
        "\n",
        "# Define the string date format.\n",
        "# Get the current Date and Time in a DateTime Object.\n",
        "# Convert the DateTime object to string according to the style mentioned in date_time_format string.\n",
        "#date_time_format = '%Y_%m_%d__%H_%M_%S'\n",
        "#current_date_time_dt = dt.datetime.now()\n",
        "#current_date_time_string = dt.datetime.strftime(current_date_time_dt, date_time_format)\n",
        "    \n",
        "# Define a useful name for our model to make it easy for us while navigating through multiple saved models.\n",
        "model_file_name = f'/content/drive/My Drive/fusion/video/model/expert7/best_LRCN_model___Loss_{model_evaluation_loss}___Accuracy_{model_evaluation_accuracy}.h5'\n",
        "\n",
        "# Save the Model.\n",
        "LRCN_model.save(model_file_name)"
      ]
    },
    {
      "cell_type": "code",
      "source": [
        "from keras.models import save_model\n",
        "\n",
        "# you can write whatever you desire instead of 'my_model'\n",
        "# model = Your trained model\n",
        "LRCN_model.save('/content/drive/My Drive/fusion/video/model/expert7/best_LRCN_model')\n"
      ],
      "metadata": {
        "colab": {
          "base_uri": "https://localhost:8080/"
        },
        "id": "A18RutO-XK26",
        "outputId": "7a7998ba-0bdb-4d84-d58d-9ef5cd16781f"
      },
      "execution_count": 20,
      "outputs": [
        {
          "output_type": "stream",
          "name": "stderr",
          "text": [
            "WARNING:absl:Found untraced functions such as lstm_cell_layer_call_fn, lstm_cell_layer_call_and_return_conditional_losses while saving (showing 2 of 2). These functions will not be directly callable after loading.\n"
          ]
        },
        {
          "output_type": "stream",
          "name": "stdout",
          "text": [
            "INFO:tensorflow:Assets written to: /content/drive/My Drive/fusion/video/model/expert7/best_LRCN_model/assets\n"
          ]
        },
        {
          "output_type": "stream",
          "name": "stderr",
          "text": [
            "INFO:tensorflow:Assets written to: /content/drive/My Drive/fusion/video/model/expert7/best_LRCN_model/assets\n",
            "WARNING:absl:<keras.layers.recurrent.LSTMCell object at 0x7fb9e020db50> has the same name 'LSTMCell' as a built-in Keras object. Consider renaming <class 'keras.layers.recurrent.LSTMCell'> to avoid naming conflicts when loading with `tf.keras.models.load_model`. If renaming is not possible, pass the object in the `custom_objects` parameter of the load function.\n"
          ]
        }
      ]
    },
    {
      "cell_type": "code",
      "source": [
        "# serialize model to JSON\n",
        "model_json = LRCN_model.to_json()\n",
        "with open(\"/content/drive/My Drive/fusion/video/model/expert7/best_LRCN_model.json\", \"w\") as json_file:\n",
        "    json_file.write(model_json)"
      ],
      "metadata": {
        "id": "Ttu6HwNtXx7x"
      },
      "execution_count": 21,
      "outputs": []
    },
    {
      "cell_type": "code",
      "execution_count": 22,
      "metadata": {
        "id": "f6YHM7o_F-LU"
      },
      "outputs": [],
      "source": [
        "def plot_metric(model_training_history, metric_name_1, metric_name_2, plot_name):\n",
        "    '''\n",
        "    This function will plot the metrics passed to it in a graph.\n",
        "    Args:\n",
        "        model_training_history: A history object containing a record of training and validation \n",
        "                                loss values and metrics values at successive epochs\n",
        "        metric_name_1:          The name of the first metric that needs to be plotted in the graph.\n",
        "        metric_name_2:          The name of the second metric that needs to be plotted in the graph.\n",
        "        plot_name:              The title of the graph.\n",
        "    '''\n",
        "    \n",
        "    # Get metric values using metric names as identifiers.\n",
        "    metric_value_1 = model_training_history.history[metric_name_1]\n",
        "    metric_value_2 = model_training_history.history[metric_name_2]\n",
        "    \n",
        "    # Construct a range object which will be used as x-axis (horizontal plane) of the graph.\n",
        "    epochs = range(len(metric_value_1))\n",
        "\n",
        "    # Plot the Graph.\n",
        "    plt.plot(epochs, metric_value_1, 'blue', label = metric_name_1)\n",
        "    plt.plot(epochs, metric_value_2, 'red', label = metric_name_2)\n",
        "\n",
        "    # Add title to the plot.\n",
        "    plt.title(str(plot_name))\n",
        "\n",
        "    # Add legend to the plot.\n",
        "    plt.legend()"
      ]
    },
    {
      "cell_type": "code",
      "execution_count": 23,
      "metadata": {
        "colab": {
          "base_uri": "https://localhost:8080/",
          "height": 281
        },
        "id": "3V346_N6GAKN",
        "outputId": "8dbeb55a-e50a-424e-b62c-a5da3b3dc671"
      },
      "outputs": [
        {
          "output_type": "display_data",
          "data": {
            "text/plain": [
              "<Figure size 432x288 with 1 Axes>"
            ],
            "image/png": "[encoded data removed]"
          },
          "metadata": {
            "needs_background": "light"
          }
        }
      ],
      "source": [
        "# Visualize the training and validation loss metrices.\n",
        "plot_metric(LRCN_model_training_history, 'loss', 'val_loss', 'Total Loss vs Total Validation Loss')"
      ]
    },
    {
      "cell_type": "code",
      "execution_count": 24,
      "metadata": {
        "colab": {
          "base_uri": "https://localhost:8080/",
          "height": 281
        },
        "id": "K-2dqoIFGCZl",
        "outputId": "e1fecef7-9d94-4981-987a-7bc59774ae0b"
      },
      "outputs": [
        {
          "output_type": "display_data",
          "data": {
            "text/plain": [
              "<Figure size 432x288 with 1 Axes>"
            ],
            "image/png": "[encoded data removed]"
          },
          "metadata": {
            "needs_background": "light"
          }
        }
      ],
      "source": [
        "# Visualize the training and validation accuracy metrices.\n",
        "plot_metric(LRCN_model_training_history, 'accuracy', 'val_accuracy', 'Total Accuracy vs Total Validation Accuracy')"
      ]
    },
    {
      "cell_type": "code",
      "execution_count": 25,
      "metadata": {
        "colab": {
          "base_uri": "https://localhost:8080/"
        },
        "id": "UIQGDtkcGGu0",
        "outputId": "b3fff30c-12c3-4d1d-f13b-f972267ff1af"
      },
      "outputs": [
        {
          "output_type": "execute_result",
          "data": {
            "text/plain": [
              "array([[6.2077030e-05, 9.9965882e-01, 7.9602287e-05, 1.9562832e-04,\n",
              "        2.8884317e-06, 9.5396001e-07],\n",
              "       [8.6944556e-04, 9.9554789e-01, 5.2256155e-04, 3.0418385e-03,\n",
              "        9.3772278e-06, 8.9224623e-06],\n",
              "       [4.8842881e-05, 4.1076441e-05, 2.0046318e-05, 2.1232632e-03,\n",
              "        1.4556343e-03, 9.9631113e-01],\n",
              "       ...,\n",
              "       [9.9130499e-01, 7.2939130e-03, 2.0510803e-05, 1.3094619e-03,\n",
              "        1.4057681e-05, 5.7217308e-05],\n",
              "       [4.3252576e-04, 9.9871099e-01, 5.9434841e-04, 2.5629590e-04,\n",
              "        4.7538351e-06, 1.0355271e-06],\n",
              "       [2.4759468e-06, 1.5783844e-03, 9.9824309e-01, 1.4819845e-04,\n",
              "        1.0934489e-05, 1.6958165e-05]], dtype=float32)"
            ]
          },
          "metadata": {},
          "execution_count": 25
        }
      ],
      "source": [
        "predictions =  LRCN_model.predict(features_test)\n",
        "predictions"
      ]
    },
    {
      "cell_type": "code",
      "execution_count": 26,
      "metadata": {
        "colab": {
          "base_uri": "https://localhost:8080/"
        },
        "id": "E7smnX9oGMly",
        "outputId": "4cb37647-57bc-450b-c840-cd8ba2a0b4ee"
      },
      "outputs": [
        {
          "output_type": "execute_result",
          "data": {
            "text/plain": [
              "array([1, 1, 5, 1, 0, 0, 3, 2, 5, 2, 4, 5, 1, 2, 3, 3, 0, 3, 0, 1, 0, 1,\n",
              "       4, 3, 3, 4, 1, 3, 3, 1, 2, 3, 2, 4, 4, 1, 1, 3, 1, 5, 2, 2, 3, 4,\n",
              "       1, 3, 0, 2, 1, 2, 2, 5, 4, 1, 4, 5, 1, 5, 1, 1, 5, 4, 4, 1, 2, 3,\n",
              "       2, 4, 2, 2, 1, 3, 2, 1, 5, 5, 1, 5, 1, 5, 3, 2, 4, 0, 5, 0, 0, 5,\n",
              "       1, 1, 5, 5, 3, 4, 1, 4, 2, 4, 2, 4, 1, 2, 3, 4, 5, 3, 2, 4, 4, 4,\n",
              "       5, 3, 3, 1, 1, 1, 2, 1, 5, 3, 4, 0, 4, 2, 2, 1, 4, 3, 3, 1, 5, 3,\n",
              "       5, 1, 1, 5, 3, 5, 4, 1, 3, 1, 3, 1, 2, 5, 4, 1, 2, 2, 3, 2, 3, 1,\n",
              "       1, 2, 5, 5, 5, 4, 4, 4, 5, 5, 1, 1, 3, 3, 5, 4, 4, 4, 4, 1, 5, 1,\n",
              "       1, 3, 5, 2, 0, 4, 5, 1, 3, 5, 3, 3, 2, 5, 4, 3, 5, 1, 3, 4, 2, 0,\n",
              "       4, 5, 0, 5, 5, 1, 0, 1, 2])"
            ]
          },
          "metadata": {},
          "execution_count": 26
        }
      ],
      "source": [
        "preds=predictions.argmax(axis=1)\n",
        "preds"
      ]
    },
    {
      "cell_type": "code",
      "execution_count": 27,
      "metadata": {
        "colab": {
          "base_uri": "https://localhost:8080/"
        },
        "id": "DvrDaZw2GPHK",
        "outputId": "d65842fb-2d05-4b26-bc73-26b6d23832e5"
      },
      "outputs": [
        {
          "output_type": "execute_result",
          "data": {
            "text/plain": [
              "array([1, 1, 5, 1, 0, 0, 3, 2, 5, 2, 4, 5, 1, 2, 3, 3, 0, 3, 0, 1, 0, 1,\n",
              "       4, 3, 3, 4, 1, 3, 3, 1, 2, 3, 2, 4, 4, 1, 1, 3, 1, 5, 2, 2, 3, 4,\n",
              "       1, 3, 0, 2, 1, 2, 2, 5, 4, 1, 4, 5, 1, 5, 1, 1, 5, 4, 4, 1, 2, 3,\n",
              "       2, 4, 2, 2, 1, 3, 2, 1, 5, 5, 1, 5, 1, 5, 3, 2, 4, 0, 5, 0, 0, 5,\n",
              "       1, 1, 5, 5, 3, 4, 1, 4, 2, 4, 2, 4, 1, 2, 3, 4, 5, 3, 2, 4, 4, 4,\n",
              "       5, 3, 3, 1, 1, 1, 2, 1, 5, 3, 4, 0, 4, 2, 2, 1, 4, 3, 3, 1, 5, 3,\n",
              "       5, 1, 1, 5, 3, 5, 4, 1, 3, 1, 3, 1, 2, 5, 4, 1, 2, 2, 3, 2, 3, 1,\n",
              "       1, 2, 5, 5, 5, 4, 4, 4, 5, 5, 1, 1, 3, 3, 5, 4, 4, 4, 4, 1, 5, 1,\n",
              "       1, 3, 5, 2, 0, 4, 5, 1, 3, 5, 3, 3, 2, 5, 4, 3, 5, 1, 3, 4, 2, 0,\n",
              "       4, 5, 0, 5, 5, 1, 0, 1, 2])"
            ]
          },
          "metadata": {},
          "execution_count": 27
        }
      ],
      "source": [
        "new_preds = preds.astype(int).flatten()\n",
        "new_preds"
      ]
    },
    {
      "cell_type": "code",
      "execution_count": 28,
      "metadata": {
        "colab": {
          "base_uri": "https://localhost:8080/",
          "height": 508
        },
        "id": "7p7e1ihVGSke",
        "outputId": "a7105860-bc0a-45ea-a04f-f7e3bd5d7e36"
      },
      "outputs": [
        {
          "output_type": "stream",
          "name": "stdout",
          "text": [
            "              precision    recall  f1-score   support\n",
            "\n",
            "           0       0.93      0.93      0.93        14\n",
            "           1       0.96      0.98      0.97        48\n",
            "           2       1.00      1.00      1.00        32\n",
            "           3       0.95      0.97      0.96        36\n",
            "           4       0.97      0.88      0.92        40\n",
            "           5       0.90      0.95      0.92        37\n",
            "\n",
            "    accuracy                           0.95       207\n",
            "   macro avg       0.95      0.95      0.95       207\n",
            "weighted avg       0.95      0.95      0.95       207\n",
            "\n",
            "----accuracy score 95.16908212560386 ----\n"
          ]
        },
        {
          "output_type": "display_data",
          "data": {
            "text/plain": [
              "<Figure size 432x288 with 2 Axes>"
            ],
            "image/png": "[encoded data removed]"
          },
          "metadata": {
            "needs_background": "light"
          }
        }
      ],
      "source": [
        "from sklearn.metrics import classification_report, confusion_matrix,accuracy_score\n",
        "import seaborn as sn\n",
        "import pandas as pd\n",
        "import numpy as np\n",
        "new_labels=np.argmax(labels_test, axis=1)\n",
        "print(classification_report(new_labels,new_preds))\n",
        "\n",
        "acc = float(accuracy_score(new_labels,new_preds))*100\n",
        "print(\"----accuracy score %s ----\" % acc)\n",
        "\n",
        "cm = confusion_matrix(new_labels,new_preds)\n",
        "#df_cm = pd.DataFrame(cm)\n",
        "class_names = ['neutral','calm', 'happy','sad','angry', 'fearful' ]\n",
        "df_cm = pd.DataFrame(cm, index=class_names, columns=class_names,)\n",
        "sn.heatmap(df_cm, annot=True, fmt='')\n",
        "plt.show()"
      ]
    },
    {
      "cell_type": "code",
      "source": [
        "predictions_train=LRCN_model.predict(features_train)\n",
        "predictions_valid=LRCN_model.predict(features_valid)"
      ],
      "metadata": {
        "id": "n3lLZ2bpZ3u0"
      },
      "execution_count": 29,
      "outputs": []
    },
    {
      "cell_type": "code",
      "source": [
        "df_video_train=pd.DataFrame(predictions_train,columns=[\"OV_\"+str(i) for i in range(6)]) \n",
        "df_video_test=pd.DataFrame(predictions,columns=[\"OV_\"+str(i) for i in range(6)]) \n",
        "df_video_valid=pd.DataFrame(predictions_valid,columns=[\"OV_\"+str(i) for i in range(6)])"
      ],
      "metadata": {
        "id": "FYlqyEzUcl7n"
      },
      "execution_count": 30,
      "outputs": []
    },
    {
      "cell_type": "code",
      "source": [
        "df_video_valid"
      ],
      "metadata": {
        "colab": {
          "base_uri": "https://localhost:8080/",
          "height": 424
        },
        "id": "rz92KqhXcw3Q",
        "outputId": "eb3cbba0-f199-4261-cbf6-7be2cffe0afe"
      },
      "execution_count": 31,
      "outputs": [
        {
          "output_type": "execute_result",
          "data": {
            "text/plain": [
              "         OV_0      OV_1          OV_2      OV_3      OV_4          OV_5\n",
              "0    0.000009  0.000103  7.190592e-05  0.004093  0.000051  9.956717e-01\n",
              "1    0.000471  0.082567  8.963286e-01  0.019465  0.000417  7.514142e-04\n",
              "2    0.000021  0.000217  8.147347e-07  0.999497  0.000017  2.466796e-04\n",
              "3    0.000012  0.000019  5.519183e-05  0.000083  0.000098  9.997334e-01\n",
              "4    0.000065  0.999570  6.776198e-05  0.000290  0.000007  9.623528e-07\n",
              "..        ...       ...           ...       ...       ...           ...\n",
              "202  0.001335  0.996680  1.703442e-03  0.000212  0.000062  7.762030e-06\n",
              "203  0.000135  0.999532  1.162601e-04  0.000212  0.000005  9.671194e-07\n",
              "204  0.000002  0.000004  8.520990e-06  0.000211  0.000115  9.996591e-01\n",
              "205  0.000009  0.000728  1.373353e-06  0.999060  0.000009  1.925414e-04\n",
              "206  0.000005  0.000014  3.302180e-06  0.000046  0.998507  1.425267e-03\n",
              "\n",
              "[207 rows x 6 columns]"
            ],
            "text/html": [
              "\n",
              "  <div id=\"df-a2db3e37-372b-4301-8b08-98cd0db193ec\">\n",
              "    <div class=\"colab-df-container\">\n",
              "      <div>\n",
              "<style scoped>\n",
              "    .dataframe tbody tr th:only-of-type {\n",
              "        vertical-align: middle;\n",
              "    }\n",
              "\n",
              "    .dataframe tbody tr th {\n",
              "        vertical-align: top;\n",
              "    }\n",
              "\n",
              "    .dataframe thead th {\n",
              "        text-align: right;\n",
              "    }\n",
              "</style>\n",
              "<table border=\"1\" class=\"dataframe\">\n",
              "  <thead>\n",
              "    <tr style=\"text-align: right;\">\n",
              "      <th></th>\n",
              "      <th>OV_0</th>\n",
              "      <th>OV_1</th>\n",
              "      <th>OV_2</th>\n",
              "      <th>OV_3</th>\n",
              "      <th>OV_4</th>\n",
              "      <th>OV_5</th>\n",
              "    </tr>\n",
              "  </thead>\n",
              "  <tbody>\n",
              "    <tr>\n",
              "      <th>0</th>\n",
              "      <td>0.000009</td>\n",
              "      <td>0.000103</td>\n",
              "      <td>7.190592e-05</td>\n",
              "      <td>0.004093</td>\n",
              "      <td>0.000051</td>\n",
              "      <td>9.956717e-01</td>\n",
              "    </tr>\n",
              "    <tr>\n",
              "      <th>1</th>\n",
              "      <td>0.000471</td>\n",
              "      <td>0.082567</td>\n",
              "      <td>8.963286e-01</td>\n",
              "      <td>0.019465</td>\n",
              "      <td>0.000417</td>\n",
              "      <td>7.514142e-04</td>\n",
              "    </tr>\n",
              "    <tr>\n",
              "      <th>2</th>\n",
              "      <td>0.000021</td>\n",
              "      <td>0.000217</td>\n",
              "      <td>8.147347e-07</td>\n",
              "      <td>0.999497</td>\n",
              "      <td>0.000017</td>\n",
              "      <td>2.466796e-04</td>\n",
              "    </tr>\n",
              "    <tr>\n",
              "      <th>3</th>\n",
              "      <td>0.000012</td>\n",
              "      <td>0.000019</td>\n",
              "      <td>5.519183e-05</td>\n",
              "      <td>0.000083</td>\n",
              "      <td>0.000098</td>\n",
              "      <td>9.997334e-01</td>\n",
              "    </tr>\n",
              "    <tr>\n",
              "      <th>4</th>\n",
              "      <td>0.000065</td>\n",
              "      <td>0.999570</td>\n",
              "      <td>6.776198e-05</td>\n",
              "      <td>0.000290</td>\n",
              "      <td>0.000007</td>\n",
              "      <td>9.623528e-07</td>\n",
              "    </tr>\n",
              "    <tr>\n",
              "      <th>...</th>\n",
              "      <td>...</td>\n",
              "      <td>...</td>\n",
              "      <td>...</td>\n",
              "      <td>...</td>\n",
              "      <td>...</td>\n",
              "      <td>...</td>\n",
              "    </tr>\n",
              "    <tr>\n",
              "      <th>202</th>\n",
              "      <td>0.001335</td>\n",
              "      <td>0.996680</td>\n",
              "      <td>1.703442e-03</td>\n",
              "      <td>0.000212</td>\n",
              "      <td>0.000062</td>\n",
              "      <td>7.762030e-06</td>\n",
              "    </tr>\n",
              "    <tr>\n",
              "      <th>203</th>\n",
              "      <td>0.000135</td>\n",
              "      <td>0.999532</td>\n",
              "      <td>1.162601e-04</td>\n",
              "      <td>0.000212</td>\n",
              "      <td>0.000005</td>\n",
              "      <td>9.671194e-07</td>\n",
              "    </tr>\n",
              "    <tr>\n",
              "      <th>204</th>\n",
              "      <td>0.000002</td>\n",
              "      <td>0.000004</td>\n",
              "      <td>8.520990e-06</td>\n",
              "      <td>0.000211</td>\n",
              "      <td>0.000115</td>\n",
              "      <td>9.996591e-01</td>\n",
              "    </tr>\n",
              "    <tr>\n",
              "      <th>205</th>\n",
              "      <td>0.000009</td>\n",
              "      <td>0.000728</td>\n",
              "      <td>1.373353e-06</td>\n",
              "      <td>0.999060</td>\n",
              "      <td>0.000009</td>\n",
              "      <td>1.925414e-04</td>\n",
              "    </tr>\n",
              "    <tr>\n",
              "      <th>206</th>\n",
              "      <td>0.000005</td>\n",
              "      <td>0.000014</td>\n",
              "      <td>3.302180e-06</td>\n",
              "      <td>0.000046</td>\n",
              "      <td>0.998507</td>\n",
              "      <td>1.425267e-03</td>\n",
              "    </tr>\n",
              "  </tbody>\n",
              "</table>\n",
              "<p>207 rows × 6 columns</p>\n",
              "</div>\n",
              "      <button class=\"colab-df-convert\" onclick=\"convertToInteractive('df-a2db3e37-372b-4301-8b08-98cd0db193ec')\"\n",
              "              title=\"Convert this dataframe to an interactive table.\"\n",
              "              style=\"display:none;\">\n",
              "        \n",
              "  <svg xmlns=\"http://www.w3.org/2000/svg\" height=\"24px\"viewBox=\"0 0 24 24\"\n",
              "       width=\"24px\">\n",
              "    <path d=\"M0 0h24v24H0V0z\" fill=\"none\"/>\n",
              "    <path d=\"M18.56 5.44l.94 2.06.94-2.06 2.06-.94-2.06-.94-.94-2.06-.94 2.06-2.06.94zm-11 1L8.5 8.5l.94-2.06 2.06-.94-2.06-.94L8.5 2.5l-.94 2.06-2.06.94zm10 10l.94 2.06.94-2.06 2.06-.94-2.06-.94-.94-2.06-.94 2.06-2.06.94z\"/><path d=\"M17.41 7.96l-1.37-1.37c-.4-.4-.92-.59-1.43-.59-.52 0-1.04.2-1.43.59L10.3 9.45l-7.72 7.72c-.78.78-.78 2.05 0 2.83L4 21.41c.39.39.9.59 1.41.59.51 0 1.02-.2 1.41-.59l7.78-7.78 2.81-2.81c.8-.78.8-2.07 0-2.86zM5.41 20L4 18.59l7.72-7.72 1.47 1.35L5.41 20z\"/>\n",
              "  </svg>\n",
              "      </button>\n",
              "      \n",
              "  <style>\n",
              "    .colab-df-container {\n",
              "      display:flex;\n",
              "      flex-wrap:wrap;\n",
              "      gap: 12px;\n",
              "    }\n",
              "\n",
              "    .colab-df-convert {\n",
              "      background-color: #E8F0FE;\n",
              "      border: none;\n",
              "      border-radius: 50%;\n",
              "      cursor: pointer;\n",
              "      display: none;\n",
              "      fill: #1967D2;\n",
              "      height: 32px;\n",
              "      padding: 0 0 0 0;\n",
              "      width: 32px;\n",
              "    }\n",
              "\n",
              "    .colab-df-convert:hover {\n",
              "      background-color: #E2EBFA;\n",
              "      box-shadow: 0px 1px 2px rgba(60, 64, 67, 0.3), 0px 1px 3px 1px rgba(60, 64, 67, 0.15);\n",
              "      fill: #174EA6;\n",
              "    }\n",
              "\n",
              "    [theme=dark] .colab-df-convert {\n",
              "      background-color: #3B4455;\n",
              "      fill: #D2E3FC;\n",
              "    }\n",
              "\n",
              "    [theme=dark] .colab-df-convert:hover {\n",
              "      background-color: #434B5C;\n",
              "      box-shadow: 0px 1px 3px 1px rgba(0, 0, 0, 0.15);\n",
              "      filter: drop-shadow(0px 1px 2px rgba(0, 0, 0, 0.3));\n",
              "      fill: #FFFFFF;\n",
              "    }\n",
              "  </style>\n",
              "\n",
              "      <script>\n",
              "        const buttonEl =\n",
              "          document.querySelector('#df-a2db3e37-372b-4301-8b08-98cd0db193ec button.colab-df-convert');\n",
              "        buttonEl.style.display =\n",
              "          google.colab.kernel.accessAllowed ? 'block' : 'none';\n",
              "\n",
              "        async function convertToInteractive(key) {\n",
              "          const element = document.querySelector('#df-a2db3e37-372b-4301-8b08-98cd0db193ec');\n",
              "          const dataTable =\n",
              "            await google.colab.kernel.invokeFunction('convertToInteractive',\n",
              "                                                     [key], {});\n",
              "          if (!dataTable) return;\n",
              "\n",
              "          const docLinkHtml = 'Like what you see? Visit the ' +\n",
              "            '<a target=\"_blank\" href=https://colab.research.google.com/notebooks/data_table.ipynb>data table notebook</a>'\n",
              "            + ' to learn more about interactive tables.';\n",
              "          element.innerHTML = '';\n",
              "          dataTable['output_type'] = 'display_data';\n",
              "          await google.colab.output.renderOutput(dataTable, element);\n",
              "          const docLink = document.createElement('div');\n",
              "          docLink.innerHTML = docLinkHtml;\n",
              "          element.appendChild(docLink);\n",
              "        }\n",
              "      </script>\n",
              "    </div>\n",
              "  </div>\n",
              "  "
            ]
          },
          "metadata": {},
          "execution_count": 31
        }
      ]
    },
    {
      "cell_type": "code",
      "source": [
        "save_dir = '/content/drive/My Drive/fusion/video/data_set_fusion/expert7'\n",
        "\n",
        "savedvX = joblib.dump(df_video_train, os.path.join(save_dir, 'train/pred_train'))\n",
        "savedvX = joblib.dump(df_video_test, os.path.join(save_dir, 'test/pred_test'))\n",
        "savedvX = joblib.dump(df_video_valid, os.path.join(save_dir, 'valid/pred_valid'))"
      ],
      "metadata": {
        "id": "cJrh9R1CZKY-"
      },
      "execution_count": 32,
      "outputs": []
    }
  ],
  "metadata": {
    "accelerator": "GPU",
    "colab": {
      "machine_shape": "hm",
      "name": "our_best_final_lrcn_model_7.ipynb",
      "provenance": [],
      "collapsed_sections": []
    },
    "kernelspec": {
      "display_name": "Python 3",
      "name": "python3"
    },
    "language_info": {
      "name": "python"
    }
  },
  "nbformat": 4,
  "nbformat_minor": 0
}