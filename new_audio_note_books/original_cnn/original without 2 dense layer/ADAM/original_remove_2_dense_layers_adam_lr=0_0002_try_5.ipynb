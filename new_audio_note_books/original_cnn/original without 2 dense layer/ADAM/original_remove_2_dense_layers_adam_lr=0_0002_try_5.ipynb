{
  "nbformat": 4,
  "nbformat_minor": 0,
  "metadata": {
    "colab": {
      "name": "original remove 2 dense layers adam lr=0.0002 try 5.ipynb",
      "provenance": [],
      "collapsed_sections": []
    },
    "kernelspec": {
      "name": "python3",
      "display_name": "Python 3"
    },
    "language_info": {
      "name": "python"
    },
    "accelerator": "GPU"
  },
  "cells": [
    {
      "cell_type": "code",
      "execution_count": 1,
      "metadata": {
        "colab": {
          "base_uri": "https://localhost:8080/"
        },
        "id": "9SRCO-a_AlH5",
        "outputId": "da6d2bf2-06bb-4ec1-997d-db70cfe6e492"
      },
      "outputs": [
        {
          "output_type": "stream",
          "name": "stdout",
          "text": [
            "Drive already mounted at /content/drive; to attempt to forcibly remount, call drive.mount(\"/content/drive\", force_remount=True).\n"
          ]
        }
      ],
      "source": [
        "from google.colab import drive\n",
        "drive.mount('/content/drive')"
      ]
    },
    {
      "cell_type": "code",
      "source": [
        "!pip install librosa"
      ],
      "metadata": {
        "colab": {
          "base_uri": "https://localhost:8080/"
        },
        "id": "5Lo4mUwG9RMd",
        "outputId": "e37c03fe-c3ce-436c-8fde-e5a0f08a2d67"
      },
      "execution_count": 2,
      "outputs": [
        {
          "output_type": "stream",
          "name": "stdout",
          "text": [
            "Looking in indexes: https://pypi.org/simple, https://us-python.pkg.dev/colab-wheels/public/simple/\n",
            "Requirement already satisfied: librosa in /usr/local/lib/python3.7/dist-packages (0.8.1)\n",
            "Requirement already satisfied: scipy>=1.0.0 in /usr/local/lib/python3.7/dist-packages (from librosa) (1.4.1)\n",
            "Requirement already satisfied: numba>=0.43.0 in /usr/local/lib/python3.7/dist-packages (from librosa) (0.51.2)\n",
            "Requirement already satisfied: joblib>=0.14 in /usr/local/lib/python3.7/dist-packages (from librosa) (1.1.0)\n",
            "Requirement already satisfied: numpy>=1.15.0 in /usr/local/lib/python3.7/dist-packages (from librosa) (1.21.6)\n",
            "Requirement already satisfied: resampy>=0.2.2 in /usr/local/lib/python3.7/dist-packages (from librosa) (0.2.2)\n",
            "Requirement already satisfied: packaging>=20.0 in /usr/local/lib/python3.7/dist-packages (from librosa) (21.3)\n",
            "Requirement already satisfied: soundfile>=0.10.2 in /usr/local/lib/python3.7/dist-packages (from librosa) (0.10.3.post1)\n",
            "Requirement already satisfied: decorator>=3.0.0 in /usr/local/lib/python3.7/dist-packages (from librosa) (4.4.2)\n",
            "Requirement already satisfied: scikit-learn!=0.19.0,>=0.14.0 in /usr/local/lib/python3.7/dist-packages (from librosa) (1.0.2)\n",
            "Requirement already satisfied: audioread>=2.0.0 in /usr/local/lib/python3.7/dist-packages (from librosa) (2.1.9)\n",
            "Requirement already satisfied: pooch>=1.0 in /usr/local/lib/python3.7/dist-packages (from librosa) (1.6.0)\n",
            "Requirement already satisfied: llvmlite<0.35,>=0.34.0.dev0 in /usr/local/lib/python3.7/dist-packages (from numba>=0.43.0->librosa) (0.34.0)\n",
            "Requirement already satisfied: setuptools in /usr/local/lib/python3.7/dist-packages (from numba>=0.43.0->librosa) (57.4.0)\n",
            "Requirement already satisfied: pyparsing!=3.0.5,>=2.0.2 in /usr/local/lib/python3.7/dist-packages (from packaging>=20.0->librosa) (3.0.9)\n",
            "Requirement already satisfied: appdirs>=1.3.0 in /usr/local/lib/python3.7/dist-packages (from pooch>=1.0->librosa) (1.4.4)\n",
            "Requirement already satisfied: requests>=2.19.0 in /usr/local/lib/python3.7/dist-packages (from pooch>=1.0->librosa) (2.23.0)\n",
            "Requirement already satisfied: chardet<4,>=3.0.2 in /usr/local/lib/python3.7/dist-packages (from requests>=2.19.0->pooch>=1.0->librosa) (3.0.4)\n",
            "Requirement already satisfied: certifi>=2017.4.17 in /usr/local/lib/python3.7/dist-packages (from requests>=2.19.0->pooch>=1.0->librosa) (2022.5.18.1)\n",
            "Requirement already satisfied: urllib3!=1.25.0,!=1.25.1,<1.26,>=1.21.1 in /usr/local/lib/python3.7/dist-packages (from requests>=2.19.0->pooch>=1.0->librosa) (1.24.3)\n",
            "Requirement already satisfied: idna<3,>=2.5 in /usr/local/lib/python3.7/dist-packages (from requests>=2.19.0->pooch>=1.0->librosa) (2.10)\n",
            "Requirement already satisfied: six>=1.3 in /usr/local/lib/python3.7/dist-packages (from resampy>=0.2.2->librosa) (1.15.0)\n",
            "Requirement already satisfied: threadpoolctl>=2.0.0 in /usr/local/lib/python3.7/dist-packages (from scikit-learn!=0.19.0,>=0.14.0->librosa) (3.1.0)\n",
            "Requirement already satisfied: cffi>=1.0 in /usr/local/lib/python3.7/dist-packages (from soundfile>=0.10.2->librosa) (1.15.0)\n",
            "Requirement already satisfied: pycparser in /usr/local/lib/python3.7/dist-packages (from cffi>=1.0->soundfile>=0.10.2->librosa) (2.21)\n"
          ]
        }
      ]
    },
    {
      "cell_type": "code",
      "metadata": {
        "id": "HJjcbxwy46bG",
        "colab": {
          "base_uri": "https://localhost:8080/",
          "height": 17
        },
        "outputId": "1caeac6b-e2eb-49f0-f56d-01a12b8a289d"
      },
      "source": [
        "# Orignial Notebook: https://github.com/MITESHPUTHRANNEU/Speech-Emotion-Analyzer/blob/master/final_results_gender_test.ipynb\n",
        "# This notebook author: Reza Chu\n",
        "# Last Editing Date: 31st May 2019\n",
        "\n",
        "## Python\n",
        "import os\n",
        "import random\n",
        "import sys\n",
        "\n",
        "import IPython\n",
        "from IPython.display import Audio\n",
        "from IPython.display import Image\n",
        "import matplotlib.pyplot as plt\n",
        "\n",
        "## Package\n",
        "import glob \n",
        "import keras\n",
        "import IPython.display as ipd\n",
        "import librosa\n",
        "import librosa.display\n",
        "import matplotlib.pyplot as plt\n",
        "import numpy as np\n",
        "import pandas as pd\n",
        "import plotly.graph_objs as go\n",
        "import plotly.offline as py\n",
        "import plotly.tools as tls\n",
        "import seaborn as sns\n",
        "import scipy.io.wavfile\n",
        "import tensorflow as tf\n",
        "py.init_notebook_mode(connected=True)\n",
        "\n",
        "## Keras\n",
        "from keras import regularizers\n",
        "from keras.callbacks import ModelCheckpoint, LearningRateScheduler, EarlyStopping\n",
        "from keras.callbacks import  History, ReduceLROnPlateau, CSVLogger\n",
        "from keras.models import Model, Sequential\n",
        "from keras.layers import Dense, Embedding, LSTM\n",
        "from keras.layers import Input, Flatten, Dropout, Activation, BatchNormalization\n",
        "from keras.layers import Conv1D, MaxPooling1D, AveragePooling1D\n",
        "from keras.preprocessing import sequence\n",
        "from keras.preprocessing.sequence import pad_sequences\n",
        "from keras.preprocessing.text import Tokenizer\n",
        "from keras.utils import np_utils\n",
        "from tensorflow.keras.utils import to_categorical\n",
        "\n",
        "## Sklearn\n",
        "from sklearn.metrics import confusion_matrix\n",
        "from sklearn.preprocessing import LabelEncoder\n",
        "\n",
        "## Rest\n",
        "from scipy.fftpack import fft\n",
        "from scipy import signal\n",
        "from scipy.io import wavfile\n",
        "from tqdm import tqdm\n",
        "\n",
        "input_duration=3\n",
        "# % pylab inline"
      ],
      "execution_count": 3,
      "outputs": [
        {
          "output_type": "display_data",
          "data": {
            "text/html": [
              "        <script type=\"text/javascript\">\n",
              "        window.PlotlyConfig = {MathJaxConfig: 'local'};\n",
              "        if (window.MathJax) {MathJax.Hub.Config({SVG: {font: \"STIX-Web\"}});}\n",
              "        if (typeof require !== 'undefined') {\n",
              "        require.undef(\"plotly\");\n",
              "        requirejs.config({\n",
              "            paths: {\n",
              "                'plotly': ['https://cdn.plot.ly/plotly-2.8.3.min']\n",
              "            }\n",
              "        });\n",
              "        require(['plotly'], function(Plotly) {\n",
              "            window._Plotly = Plotly;\n",
              "        });\n",
              "        }\n",
              "        </script>\n",
              "        "
            ]
          },
          "metadata": {}
        }
      ]
    },
    {
      "cell_type": "code",
      "source": [
        "# # Saving joblib files to not load them again with the loop above\n",
        "\n",
        "# import joblib\n",
        "\n",
        "# X_name = 'x.joblib'\n",
        "# y_name = 'y.joblib'\n",
        "# save_dir = '/content/drive/My Drive/graduation project/audio/paper_code/features'\n",
        "\n",
        "# savedX = joblib.dump(X, os.path.join(save_dir, X_name))\n",
        "# savedy = joblib.dump(y, os.path.join(save_dir, y_name))"
      ],
      "metadata": {
        "id": "UCzic8rlDcuk"
      },
      "execution_count": 4,
      "outputs": []
    },
    {
      "cell_type": "code",
      "source": [
        "# # Loading saved models\n",
        "import joblib\n",
        "X = joblib.load('/content/drive/My Drive/graduation project/audio/paper_code/features/x.joblib')\n",
        "y = joblib.load('/content/drive/My Drive/graduation project/audio/paper_code/features/y.joblib')"
      ],
      "metadata": {
        "id": "Q35CN6zDrzg1"
      },
      "execution_count": 5,
      "outputs": []
    },
    {
      "cell_type": "code",
      "source": [
        "X.shape"
      ],
      "metadata": {
        "colab": {
          "base_uri": "https://localhost:8080/"
        },
        "id": "7PSTurzjCo5K",
        "outputId": "ff48a5e3-9ae4-4f0b-9a38-da803e3656a4"
      },
      "execution_count": 6,
      "outputs": [
        {
          "output_type": "execute_result",
          "data": {
            "text/plain": [
              "(2068, 40)"
            ]
          },
          "metadata": {},
          "execution_count": 6
        }
      ]
    },
    {
      "cell_type": "code",
      "source": [
        "from sklearn.model_selection import train_test_split\n",
        "\n",
        "X_train, X_test, y_train, y_test = train_test_split(X,y, test_size=0.1 ,shuffle = True\n",
        "                                                    , random_state=42)\n",
        "X_train , X_valid, y_train, y_valid = train_test_split(X_train,y_train, test_size=0.1112305212 , shuffle = True \n",
        "                                                       , random_state=42)"
      ],
      "metadata": {
        "id": "Ai4Fy5cPCiq1"
      },
      "execution_count": 7,
      "outputs": []
    },
    {
      "cell_type": "code",
      "source": [
        "import numpy as np\n",
        "x_traincnn = np.expand_dims(X_train, axis=2)\n",
        "x_testcnn = np.expand_dims(X_test, axis=2)\n",
        "X_valid= np.expand_dims(X_valid, axis=2)"
      ],
      "metadata": {
        "id": "tp1Fm5K3CEXu"
      },
      "execution_count": 8,
      "outputs": []
    },
    {
      "cell_type": "code",
      "source": [
        "x_traincnn.shape, x_testcnn.shape , X_valid.shape\n",
        "#1861"
      ],
      "metadata": {
        "id": "RI0MxoIPBws5",
        "colab": {
          "base_uri": "https://localhost:8080/"
        },
        "outputId": "88f1c95a-c608-40b6-8857-5e59429e6e2d"
      },
      "execution_count": 9,
      "outputs": [
        {
          "output_type": "execute_result",
          "data": {
            "text/plain": [
              "((1654, 40, 1), (207, 40, 1), (207, 40, 1))"
            ]
          },
          "metadata": {},
          "execution_count": 9
        }
      ]
    },
    {
      "cell_type": "code",
      "source": [
        "!pip install tensorflow"
      ],
      "metadata": {
        "colab": {
          "base_uri": "https://localhost:8080/"
        },
        "id": "oALhiMUd9G2Y",
        "outputId": "d1a9268f-9920-4ee3-9533-c382eeda0da2"
      },
      "execution_count": 10,
      "outputs": [
        {
          "output_type": "stream",
          "name": "stdout",
          "text": [
            "Looking in indexes: https://pypi.org/simple, https://us-python.pkg.dev/colab-wheels/public/simple/\n",
            "Requirement already satisfied: tensorflow in /usr/local/lib/python3.7/dist-packages (2.8.2+zzzcolab20220527125636)\n",
            "Requirement already satisfied: grpcio<2.0,>=1.24.3 in /usr/local/lib/python3.7/dist-packages (from tensorflow) (1.46.3)\n",
            "Requirement already satisfied: keras-preprocessing>=1.1.1 in /usr/local/lib/python3.7/dist-packages (from tensorflow) (1.1.2)\n",
            "Requirement already satisfied: numpy>=1.20 in /usr/local/lib/python3.7/dist-packages (from tensorflow) (1.21.6)\n",
            "Requirement already satisfied: protobuf<3.20,>=3.9.2 in /usr/local/lib/python3.7/dist-packages (from tensorflow) (3.17.3)\n",
            "Requirement already satisfied: tensorboard<2.9,>=2.8 in /usr/local/lib/python3.7/dist-packages (from tensorflow) (2.8.0)\n",
            "Requirement already satisfied: h5py>=2.9.0 in /usr/local/lib/python3.7/dist-packages (from tensorflow) (3.1.0)\n",
            "Requirement already satisfied: termcolor>=1.1.0 in /usr/local/lib/python3.7/dist-packages (from tensorflow) (1.1.0)\n",
            "Requirement already satisfied: google-pasta>=0.1.1 in /usr/local/lib/python3.7/dist-packages (from tensorflow) (0.2.0)\n",
            "Requirement already satisfied: flatbuffers>=1.12 in /usr/local/lib/python3.7/dist-packages (from tensorflow) (2.0)\n",
            "Requirement already satisfied: typing-extensions>=3.6.6 in /usr/local/lib/python3.7/dist-packages (from tensorflow) (4.2.0)\n",
            "Requirement already satisfied: gast>=0.2.1 in /usr/local/lib/python3.7/dist-packages (from tensorflow) (0.5.3)\n",
            "Requirement already satisfied: opt-einsum>=2.3.2 in /usr/local/lib/python3.7/dist-packages (from tensorflow) (3.3.0)\n",
            "Requirement already satisfied: libclang>=9.0.1 in /usr/local/lib/python3.7/dist-packages (from tensorflow) (14.0.1)\n",
            "Requirement already satisfied: absl-py>=0.4.0 in /usr/local/lib/python3.7/dist-packages (from tensorflow) (1.0.0)\n",
            "Requirement already satisfied: keras<2.9,>=2.8.0rc0 in /usr/local/lib/python3.7/dist-packages (from tensorflow) (2.8.0)\n",
            "Requirement already satisfied: tensorflow-io-gcs-filesystem>=0.23.1 in /usr/local/lib/python3.7/dist-packages (from tensorflow) (0.26.0)\n",
            "Requirement already satisfied: astunparse>=1.6.0 in /usr/local/lib/python3.7/dist-packages (from tensorflow) (1.6.3)\n",
            "Requirement already satisfied: setuptools in /usr/local/lib/python3.7/dist-packages (from tensorflow) (57.4.0)\n",
            "Requirement already satisfied: tensorflow-estimator<2.9,>=2.8 in /usr/local/lib/python3.7/dist-packages (from tensorflow) (2.8.0)\n",
            "Requirement already satisfied: six>=1.12.0 in /usr/local/lib/python3.7/dist-packages (from tensorflow) (1.15.0)\n",
            "Requirement already satisfied: wrapt>=1.11.0 in /usr/local/lib/python3.7/dist-packages (from tensorflow) (1.14.1)\n",
            "Requirement already satisfied: wheel<1.0,>=0.23.0 in /usr/local/lib/python3.7/dist-packages (from astunparse>=1.6.0->tensorflow) (0.37.1)\n",
            "Requirement already satisfied: cached-property in /usr/local/lib/python3.7/dist-packages (from h5py>=2.9.0->tensorflow) (1.5.2)\n",
            "Requirement already satisfied: requests<3,>=2.21.0 in /usr/local/lib/python3.7/dist-packages (from tensorboard<2.9,>=2.8->tensorflow) (2.23.0)\n",
            "Requirement already satisfied: google-auth<3,>=1.6.3 in /usr/local/lib/python3.7/dist-packages (from tensorboard<2.9,>=2.8->tensorflow) (1.35.0)\n",
            "Requirement already satisfied: tensorboard-data-server<0.7.0,>=0.6.0 in /usr/local/lib/python3.7/dist-packages (from tensorboard<2.9,>=2.8->tensorflow) (0.6.1)\n",
            "Requirement already satisfied: tensorboard-plugin-wit>=1.6.0 in /usr/local/lib/python3.7/dist-packages (from tensorboard<2.9,>=2.8->tensorflow) (1.8.1)\n",
            "Requirement already satisfied: markdown>=2.6.8 in /usr/local/lib/python3.7/dist-packages (from tensorboard<2.9,>=2.8->tensorflow) (3.3.7)\n",
            "Requirement already satisfied: google-auth-oauthlib<0.5,>=0.4.1 in /usr/local/lib/python3.7/dist-packages (from tensorboard<2.9,>=2.8->tensorflow) (0.4.6)\n",
            "Requirement already satisfied: werkzeug>=0.11.15 in /usr/local/lib/python3.7/dist-packages (from tensorboard<2.9,>=2.8->tensorflow) (1.0.1)\n",
            "Requirement already satisfied: rsa<5,>=3.1.4 in /usr/local/lib/python3.7/dist-packages (from google-auth<3,>=1.6.3->tensorboard<2.9,>=2.8->tensorflow) (4.8)\n",
            "Requirement already satisfied: cachetools<5.0,>=2.0.0 in /usr/local/lib/python3.7/dist-packages (from google-auth<3,>=1.6.3->tensorboard<2.9,>=2.8->tensorflow) (4.2.4)\n",
            "Requirement already satisfied: pyasn1-modules>=0.2.1 in /usr/local/lib/python3.7/dist-packages (from google-auth<3,>=1.6.3->tensorboard<2.9,>=2.8->tensorflow) (0.2.8)\n",
            "Requirement already satisfied: requests-oauthlib>=0.7.0 in /usr/local/lib/python3.7/dist-packages (from google-auth-oauthlib<0.5,>=0.4.1->tensorboard<2.9,>=2.8->tensorflow) (1.3.1)\n",
            "Requirement already satisfied: importlib-metadata>=4.4 in /usr/local/lib/python3.7/dist-packages (from markdown>=2.6.8->tensorboard<2.9,>=2.8->tensorflow) (4.11.4)\n",
            "Requirement already satisfied: zipp>=0.5 in /usr/local/lib/python3.7/dist-packages (from importlib-metadata>=4.4->markdown>=2.6.8->tensorboard<2.9,>=2.8->tensorflow) (3.8.0)\n",
            "Requirement already satisfied: pyasn1<0.5.0,>=0.4.6 in /usr/local/lib/python3.7/dist-packages (from pyasn1-modules>=0.2.1->google-auth<3,>=1.6.3->tensorboard<2.9,>=2.8->tensorflow) (0.4.8)\n",
            "Requirement already satisfied: idna<3,>=2.5 in /usr/local/lib/python3.7/dist-packages (from requests<3,>=2.21.0->tensorboard<2.9,>=2.8->tensorflow) (2.10)\n",
            "Requirement already satisfied: certifi>=2017.4.17 in /usr/local/lib/python3.7/dist-packages (from requests<3,>=2.21.0->tensorboard<2.9,>=2.8->tensorflow) (2022.5.18.1)\n",
            "Requirement already satisfied: urllib3!=1.25.0,!=1.25.1,<1.26,>=1.21.1 in /usr/local/lib/python3.7/dist-packages (from requests<3,>=2.21.0->tensorboard<2.9,>=2.8->tensorflow) (1.24.3)\n",
            "Requirement already satisfied: chardet<4,>=3.0.2 in /usr/local/lib/python3.7/dist-packages (from requests<3,>=2.21.0->tensorboard<2.9,>=2.8->tensorflow) (3.0.4)\n",
            "Requirement already satisfied: oauthlib>=3.0.0 in /usr/local/lib/python3.7/dist-packages (from requests-oauthlib>=0.7.0->google-auth-oauthlib<0.5,>=0.4.1->tensorboard<2.9,>=2.8->tensorflow) (3.2.0)\n"
          ]
        }
      ]
    },
    {
      "cell_type": "code",
      "source": [
        "import keras\n",
        "import numpy as np\n",
        "import matplotlib.pyplot as plt\n",
        "import tensorflow as tf\n",
        "from keras.preprocessing import sequence\n",
        "from keras.models import Sequential\n",
        "from keras.layers import Dense, Embedding\n",
        "from tensorflow.keras.utils import to_categorical\n",
        "from keras.layers import Input, Flatten, Dropout, Activation\n",
        "from keras.layers import Conv1D, MaxPooling1D\n",
        "from keras.models import Model\n",
        "from keras.callbacks import ModelCheckpoint\n",
        "from tensorflow.keras import optimizers\n",
        "\n",
        "model = Sequential()\n",
        "\n",
        "model.add(Conv1D(128, 8,padding='same', #classifier.add(Convolution2D(64, (3, 3), padding = 'same', input_shape = (128, 128, 3), activation = 'relu'))\n",
        "                 input_shape=(40,1)))\n",
        "model.add(Activation('relu'))\n",
        "model.add(Dropout(0.3))\n",
        "model.add(MaxPooling1D(pool_size=(5)))\n",
        "\n",
        "\n",
        "model.add(Conv1D(256,8,padding='same',))\n",
        "model.add(Activation('relu'))\n",
        "model.add(Dropout(0.3))\n",
        "model.add(MaxPooling1D(pool_size=(5)))\n",
        "\n",
        "#model.add(MaxPooling1D(pool_size=(5)))\n",
        "\n",
        "model.add(Flatten())\n",
        "\n",
        "\n",
        "\n",
        "model.add(Dense(6))\n",
        "model.add(Activation('softmax'))\n",
        "\n",
        "\n",
        "#opt = tf.keras.optimizers.RMSprop(lr=0.0002 , decay=0.0)\n",
        "opt = tf.keras.optimizers.Adam(lr=0.0002 , decay=0.0)\n",
        "#opt = tf.keras.optimizers.RMSprop(lr=0.0001, rho=0.9, epsilon=1e-07, decay=0.0)\n",
        "#opt = tf.keras.optimizers.SGD(lr=0.001, momentum=0.0, decay=0.0, nesterov=False)"
      ],
      "metadata": {
        "id": "g74fXWVAC4Cr",
        "colab": {
          "base_uri": "https://localhost:8080/"
        },
        "outputId": "4eda8ad6-3f13-4b56-8356-f896f012f78c"
      },
      "execution_count": 11,
      "outputs": [
        {
          "output_type": "stream",
          "name": "stderr",
          "text": [
            "/usr/local/lib/python3.7/dist-packages/keras/optimizer_v2/adam.py:105: UserWarning:\n",
            "\n",
            "The `lr` argument is deprecated, use `learning_rate` instead.\n",
            "\n"
          ]
        }
      ]
    },
    {
      "cell_type": "code",
      "source": [
        "model.summary()"
      ],
      "metadata": {
        "colab": {
          "base_uri": "https://localhost:8080/"
        },
        "id": "H6ukOxAGC_I4",
        "outputId": "7b9fc554-259f-482e-afaa-782c9ca00b2b"
      },
      "execution_count": 12,
      "outputs": [
        {
          "output_type": "stream",
          "name": "stdout",
          "text": [
            "Model: \"sequential\"\n",
            "_________________________________________________________________\n",
            " Layer (type)                Output Shape              Param #   \n",
            "=================================================================\n",
            " conv1d (Conv1D)             (None, 40, 128)           1152      \n",
            "                                                                 \n",
            " activation (Activation)     (None, 40, 128)           0         \n",
            "                                                                 \n",
            " dropout (Dropout)           (None, 40, 128)           0         \n",
            "                                                                 \n",
            " max_pooling1d (MaxPooling1D  (None, 8, 128)           0         \n",
            " )                                                               \n",
            "                                                                 \n",
            " conv1d_1 (Conv1D)           (None, 8, 256)            262400    \n",
            "                                                                 \n",
            " activation_1 (Activation)   (None, 8, 256)            0         \n",
            "                                                                 \n",
            " dropout_1 (Dropout)         (None, 8, 256)            0         \n",
            "                                                                 \n",
            " max_pooling1d_1 (MaxPooling  (None, 1, 256)           0         \n",
            " 1D)                                                             \n",
            "                                                                 \n",
            " flatten (Flatten)           (None, 256)               0         \n",
            "                                                                 \n",
            " dense (Dense)               (None, 6)                 1542      \n",
            "                                                                 \n",
            " activation_2 (Activation)   (None, 6)                 0         \n",
            "                                                                 \n",
            "=================================================================\n",
            "Total params: 265,094\n",
            "Trainable params: 265,094\n",
            "Non-trainable params: 0\n",
            "_________________________________________________________________\n"
          ]
        }
      ]
    },
    {
      "cell_type": "code",
      "source": [
        "model.compile(loss='sparse_categorical_crossentropy',\n",
        "              optimizer=opt,\n",
        "              metrics=['accuracy'])"
      ],
      "metadata": {
        "id": "AbMlLNk4DCBM"
      },
      "execution_count": 13,
      "outputs": []
    },
    {
      "cell_type": "code",
      "source": [
        "# Create an Instance of Early Stopping Callback.\n",
        "early_stopping_callback = EarlyStopping(monitor = 'val_loss', patience = 25, mode = 'min', restore_best_weights = True)\n",
        "\n",
        "cnnhistory=model.fit(x_traincnn, y_train, batch_size=16, epochs=500 , shuffle = True, \n",
        "                     validation_data=(X_valid, y_valid) , callbacks = [early_stopping_callback])"
      ],
      "metadata": {
        "colab": {
          "base_uri": "https://localhost:8080/"
        },
        "id": "RI1v2AuADFhy",
        "outputId": "667ead93-ad41-4e31-803c-f4934147dd78"
      },
      "execution_count": 14,
      "outputs": [
        {
          "output_type": "stream",
          "name": "stdout",
          "text": [
            "Epoch 1/500\n",
            "104/104 [==============================] - 5s 12ms/step - loss: 12.4214 - accuracy: 0.2013 - val_loss: 3.6987 - val_accuracy: 0.1884\n",
            "Epoch 2/500\n",
            "104/104 [==============================] - 1s 7ms/step - loss: 8.1318 - accuracy: 0.2050 - val_loss: 2.3567 - val_accuracy: 0.2705\n",
            "Epoch 3/500\n",
            "104/104 [==============================] - 1s 9ms/step - loss: 6.3998 - accuracy: 0.2164 - val_loss: 2.3217 - val_accuracy: 0.2754\n",
            "Epoch 4/500\n",
            "104/104 [==============================] - 1s 8ms/step - loss: 5.1271 - accuracy: 0.2551 - val_loss: 2.5049 - val_accuracy: 0.2850\n",
            "Epoch 5/500\n",
            "104/104 [==============================] - 1s 10ms/step - loss: 4.0922 - accuracy: 0.2618 - val_loss: 1.9837 - val_accuracy: 0.3188\n",
            "Epoch 6/500\n",
            "104/104 [==============================] - 1s 7ms/step - loss: 3.4546 - accuracy: 0.2630 - val_loss: 1.8873 - val_accuracy: 0.2995\n",
            "Epoch 7/500\n",
            "104/104 [==============================] - 1s 10ms/step - loss: 2.9900 - accuracy: 0.2624 - val_loss: 1.7530 - val_accuracy: 0.2850\n",
            "Epoch 8/500\n",
            "104/104 [==============================] - 1s 9ms/step - loss: 2.5222 - accuracy: 0.3011 - val_loss: 1.7501 - val_accuracy: 0.3237\n",
            "Epoch 9/500\n",
            "104/104 [==============================] - 1s 7ms/step - loss: 2.2747 - accuracy: 0.3047 - val_loss: 1.6075 - val_accuracy: 0.3816\n",
            "Epoch 10/500\n",
            "104/104 [==============================] - 1s 9ms/step - loss: 2.1002 - accuracy: 0.3482 - val_loss: 1.4601 - val_accuracy: 0.4589\n",
            "Epoch 11/500\n",
            "104/104 [==============================] - 1s 7ms/step - loss: 2.0385 - accuracy: 0.3168 - val_loss: 1.5134 - val_accuracy: 0.3768\n",
            "Epoch 12/500\n",
            "104/104 [==============================] - 1s 8ms/step - loss: 1.9040 - accuracy: 0.3458 - val_loss: 1.4723 - val_accuracy: 0.4251\n",
            "Epoch 13/500\n",
            "104/104 [==============================] - 1s 7ms/step - loss: 1.7354 - accuracy: 0.3597 - val_loss: 1.4306 - val_accuracy: 0.4976\n",
            "Epoch 14/500\n",
            "104/104 [==============================] - 1s 10ms/step - loss: 1.7260 - accuracy: 0.3513 - val_loss: 1.4044 - val_accuracy: 0.4734\n",
            "Epoch 15/500\n",
            "104/104 [==============================] - 1s 7ms/step - loss: 1.6467 - accuracy: 0.3615 - val_loss: 1.4287 - val_accuracy: 0.4010\n",
            "Epoch 16/500\n",
            "104/104 [==============================] - 1s 8ms/step - loss: 1.5613 - accuracy: 0.4057 - val_loss: 1.3567 - val_accuracy: 0.4589\n",
            "Epoch 17/500\n",
            "104/104 [==============================] - 1s 9ms/step - loss: 1.5474 - accuracy: 0.4051 - val_loss: 1.3363 - val_accuracy: 0.5556\n",
            "Epoch 18/500\n",
            "104/104 [==============================] - 1s 9ms/step - loss: 1.5057 - accuracy: 0.4093 - val_loss: 1.3614 - val_accuracy: 0.4589\n",
            "Epoch 19/500\n",
            "104/104 [==============================] - 1s 8ms/step - loss: 1.4357 - accuracy: 0.4498 - val_loss: 1.3209 - val_accuracy: 0.4541\n",
            "Epoch 20/500\n",
            "104/104 [==============================] - 1s 8ms/step - loss: 1.4358 - accuracy: 0.4420 - val_loss: 1.3034 - val_accuracy: 0.4976\n",
            "Epoch 21/500\n",
            "104/104 [==============================] - 1s 8ms/step - loss: 1.3482 - accuracy: 0.4825 - val_loss: 1.2715 - val_accuracy: 0.5072\n",
            "Epoch 22/500\n",
            "104/104 [==============================] - 1s 9ms/step - loss: 1.3349 - accuracy: 0.4607 - val_loss: 1.2265 - val_accuracy: 0.5700\n",
            "Epoch 23/500\n",
            "104/104 [==============================] - 1s 9ms/step - loss: 1.3296 - accuracy: 0.4794 - val_loss: 1.2554 - val_accuracy: 0.5362\n",
            "Epoch 24/500\n",
            "104/104 [==============================] - 1s 7ms/step - loss: 1.2632 - accuracy: 0.5036 - val_loss: 1.2128 - val_accuracy: 0.5266\n",
            "Epoch 25/500\n",
            "104/104 [==============================] - 1s 9ms/step - loss: 1.2586 - accuracy: 0.4915 - val_loss: 1.1964 - val_accuracy: 0.5749\n",
            "Epoch 26/500\n",
            "104/104 [==============================] - 1s 7ms/step - loss: 1.2426 - accuracy: 0.4964 - val_loss: 1.1884 - val_accuracy: 0.5990\n",
            "Epoch 27/500\n",
            "104/104 [==============================] - 1s 7ms/step - loss: 1.1939 - accuracy: 0.5381 - val_loss: 1.1601 - val_accuracy: 0.6135\n",
            "Epoch 28/500\n",
            "104/104 [==============================] - 1s 6ms/step - loss: 1.1727 - accuracy: 0.5151 - val_loss: 1.1643 - val_accuracy: 0.6184\n",
            "Epoch 29/500\n",
            "104/104 [==============================] - 1s 7ms/step - loss: 1.1444 - accuracy: 0.5490 - val_loss: 1.1346 - val_accuracy: 0.5700\n",
            "Epoch 30/500\n",
            "104/104 [==============================] - 0s 5ms/step - loss: 1.1704 - accuracy: 0.5339 - val_loss: 1.1195 - val_accuracy: 0.6039\n",
            "Epoch 31/500\n",
            "104/104 [==============================] - 0s 4ms/step - loss: 1.1539 - accuracy: 0.5417 - val_loss: 1.1031 - val_accuracy: 0.6425\n",
            "Epoch 32/500\n",
            "104/104 [==============================] - 1s 5ms/step - loss: 1.1072 - accuracy: 0.5665 - val_loss: 1.0868 - val_accuracy: 0.6039\n",
            "Epoch 33/500\n",
            "104/104 [==============================] - 0s 4ms/step - loss: 1.1191 - accuracy: 0.5484 - val_loss: 1.0834 - val_accuracy: 0.6039\n",
            "Epoch 34/500\n",
            "104/104 [==============================] - 0s 4ms/step - loss: 1.0800 - accuracy: 0.5792 - val_loss: 1.1031 - val_accuracy: 0.5749\n",
            "Epoch 35/500\n",
            "104/104 [==============================] - 0s 5ms/step - loss: 1.0680 - accuracy: 0.5719 - val_loss: 1.0470 - val_accuracy: 0.6039\n",
            "Epoch 36/500\n",
            "104/104 [==============================] - 0s 4ms/step - loss: 1.0699 - accuracy: 0.5750 - val_loss: 1.0440 - val_accuracy: 0.6377\n",
            "Epoch 37/500\n",
            "104/104 [==============================] - 0s 4ms/step - loss: 1.0454 - accuracy: 0.5967 - val_loss: 1.0133 - val_accuracy: 0.6280\n",
            "Epoch 38/500\n",
            "104/104 [==============================] - 1s 5ms/step - loss: 1.0214 - accuracy: 0.6070 - val_loss: 1.0246 - val_accuracy: 0.6232\n",
            "Epoch 39/500\n",
            "104/104 [==============================] - 0s 4ms/step - loss: 1.0048 - accuracy: 0.5998 - val_loss: 0.9964 - val_accuracy: 0.6715\n",
            "Epoch 40/500\n",
            "104/104 [==============================] - 0s 5ms/step - loss: 1.0371 - accuracy: 0.5919 - val_loss: 1.0124 - val_accuracy: 0.6425\n",
            "Epoch 41/500\n",
            "104/104 [==============================] - 1s 5ms/step - loss: 1.0082 - accuracy: 0.5979 - val_loss: 1.0018 - val_accuracy: 0.6280\n",
            "Epoch 42/500\n",
            "104/104 [==============================] - 0s 5ms/step - loss: 0.9995 - accuracy: 0.6058 - val_loss: 0.9931 - val_accuracy: 0.6329\n",
            "Epoch 43/500\n",
            "104/104 [==============================] - 0s 4ms/step - loss: 0.9648 - accuracy: 0.6288 - val_loss: 0.9847 - val_accuracy: 0.6377\n",
            "Epoch 44/500\n",
            "104/104 [==============================] - 1s 5ms/step - loss: 0.9741 - accuracy: 0.6094 - val_loss: 0.9555 - val_accuracy: 0.6618\n",
            "Epoch 45/500\n",
            "104/104 [==============================] - 0s 4ms/step - loss: 0.9849 - accuracy: 0.6131 - val_loss: 0.9409 - val_accuracy: 0.6812\n",
            "Epoch 46/500\n",
            "104/104 [==============================] - 0s 4ms/step - loss: 0.9522 - accuracy: 0.6288 - val_loss: 0.9654 - val_accuracy: 0.6377\n",
            "Epoch 47/500\n",
            "104/104 [==============================] - 1s 5ms/step - loss: 0.9569 - accuracy: 0.6106 - val_loss: 0.9674 - val_accuracy: 0.6522\n",
            "Epoch 48/500\n",
            "104/104 [==============================] - 0s 4ms/step - loss: 0.9617 - accuracy: 0.6276 - val_loss: 0.9731 - val_accuracy: 0.6473\n",
            "Epoch 49/500\n",
            "104/104 [==============================] - 0s 5ms/step - loss: 0.9327 - accuracy: 0.6252 - val_loss: 0.9445 - val_accuracy: 0.6860\n",
            "Epoch 50/500\n",
            "104/104 [==============================] - 1s 5ms/step - loss: 0.9209 - accuracy: 0.6354 - val_loss: 0.8847 - val_accuracy: 0.6908\n",
            "Epoch 51/500\n",
            "104/104 [==============================] - 1s 5ms/step - loss: 0.9029 - accuracy: 0.6530 - val_loss: 0.9069 - val_accuracy: 0.6957\n",
            "Epoch 52/500\n",
            "104/104 [==============================] - 0s 4ms/step - loss: 0.8862 - accuracy: 0.6554 - val_loss: 0.8947 - val_accuracy: 0.6763\n",
            "Epoch 53/500\n",
            "104/104 [==============================] - 1s 5ms/step - loss: 0.8784 - accuracy: 0.6657 - val_loss: 0.8837 - val_accuracy: 0.7101\n",
            "Epoch 54/500\n",
            "104/104 [==============================] - 1s 5ms/step - loss: 0.8764 - accuracy: 0.6572 - val_loss: 0.8655 - val_accuracy: 0.7150\n",
            "Epoch 55/500\n",
            "104/104 [==============================] - 0s 4ms/step - loss: 0.8756 - accuracy: 0.6560 - val_loss: 0.8960 - val_accuracy: 0.6763\n",
            "Epoch 56/500\n",
            "104/104 [==============================] - 0s 5ms/step - loss: 0.8857 - accuracy: 0.6536 - val_loss: 0.8778 - val_accuracy: 0.6908\n",
            "Epoch 57/500\n",
            "104/104 [==============================] - 0s 5ms/step - loss: 0.8468 - accuracy: 0.6790 - val_loss: 0.8630 - val_accuracy: 0.6957\n",
            "Epoch 58/500\n",
            "104/104 [==============================] - 0s 4ms/step - loss: 0.8438 - accuracy: 0.6711 - val_loss: 0.8252 - val_accuracy: 0.7150\n",
            "Epoch 59/500\n",
            "104/104 [==============================] - 1s 5ms/step - loss: 0.8275 - accuracy: 0.6759 - val_loss: 0.8478 - val_accuracy: 0.7101\n",
            "Epoch 60/500\n",
            "104/104 [==============================] - 0s 5ms/step - loss: 0.8387 - accuracy: 0.6687 - val_loss: 0.8433 - val_accuracy: 0.6957\n",
            "Epoch 61/500\n",
            "104/104 [==============================] - 0s 5ms/step - loss: 0.8063 - accuracy: 0.6868 - val_loss: 0.8231 - val_accuracy: 0.7101\n",
            "Epoch 62/500\n",
            "104/104 [==============================] - 0s 4ms/step - loss: 0.8206 - accuracy: 0.6796 - val_loss: 0.8599 - val_accuracy: 0.6860\n",
            "Epoch 63/500\n",
            "104/104 [==============================] - 1s 5ms/step - loss: 0.8043 - accuracy: 0.6911 - val_loss: 0.8331 - val_accuracy: 0.7246\n",
            "Epoch 64/500\n",
            "104/104 [==============================] - 0s 5ms/step - loss: 0.8126 - accuracy: 0.6814 - val_loss: 0.8301 - val_accuracy: 0.6908\n",
            "Epoch 65/500\n",
            "104/104 [==============================] - 1s 5ms/step - loss: 0.7985 - accuracy: 0.6923 - val_loss: 0.8098 - val_accuracy: 0.7681\n",
            "Epoch 66/500\n",
            "104/104 [==============================] - 0s 4ms/step - loss: 0.7903 - accuracy: 0.6941 - val_loss: 0.8556 - val_accuracy: 0.6763\n",
            "Epoch 67/500\n",
            "104/104 [==============================] - 0s 4ms/step - loss: 0.7743 - accuracy: 0.6929 - val_loss: 0.8098 - val_accuracy: 0.7246\n",
            "Epoch 68/500\n",
            "104/104 [==============================] - 0s 5ms/step - loss: 0.7543 - accuracy: 0.7062 - val_loss: 0.8371 - val_accuracy: 0.7101\n",
            "Epoch 69/500\n",
            "104/104 [==============================] - 0s 4ms/step - loss: 0.7787 - accuracy: 0.6911 - val_loss: 0.8192 - val_accuracy: 0.7053\n",
            "Epoch 70/500\n",
            "104/104 [==============================] - 1s 5ms/step - loss: 0.7382 - accuracy: 0.7086 - val_loss: 0.8003 - val_accuracy: 0.7295\n",
            "Epoch 71/500\n",
            "104/104 [==============================] - 0s 5ms/step - loss: 0.7463 - accuracy: 0.7001 - val_loss: 0.8062 - val_accuracy: 0.7295\n",
            "Epoch 72/500\n",
            "104/104 [==============================] - 1s 5ms/step - loss: 0.7520 - accuracy: 0.7098 - val_loss: 0.7782 - val_accuracy: 0.7391\n",
            "Epoch 73/500\n",
            "104/104 [==============================] - 0s 5ms/step - loss: 0.7457 - accuracy: 0.7201 - val_loss: 0.8195 - val_accuracy: 0.7246\n",
            "Epoch 74/500\n",
            "104/104 [==============================] - 1s 5ms/step - loss: 0.7584 - accuracy: 0.7086 - val_loss: 0.7605 - val_accuracy: 0.7198\n",
            "Epoch 75/500\n",
            "104/104 [==============================] - 1s 5ms/step - loss: 0.7171 - accuracy: 0.7177 - val_loss: 0.7574 - val_accuracy: 0.7488\n",
            "Epoch 76/500\n",
            "104/104 [==============================] - 0s 5ms/step - loss: 0.7415 - accuracy: 0.7068 - val_loss: 0.7887 - val_accuracy: 0.7343\n",
            "Epoch 77/500\n",
            "104/104 [==============================] - 0s 4ms/step - loss: 0.7230 - accuracy: 0.7122 - val_loss: 0.7852 - val_accuracy: 0.7246\n",
            "Epoch 78/500\n",
            "104/104 [==============================] - 0s 4ms/step - loss: 0.7228 - accuracy: 0.7158 - val_loss: 0.7649 - val_accuracy: 0.7440\n",
            "Epoch 79/500\n",
            "104/104 [==============================] - 0s 5ms/step - loss: 0.6900 - accuracy: 0.7352 - val_loss: 0.7705 - val_accuracy: 0.7246\n",
            "Epoch 80/500\n",
            "104/104 [==============================] - 1s 5ms/step - loss: 0.6954 - accuracy: 0.7279 - val_loss: 0.7764 - val_accuracy: 0.7101\n",
            "Epoch 81/500\n",
            "104/104 [==============================] - 0s 4ms/step - loss: 0.6853 - accuracy: 0.7485 - val_loss: 0.7362 - val_accuracy: 0.7488\n",
            "Epoch 82/500\n",
            "104/104 [==============================] - 1s 5ms/step - loss: 0.7066 - accuracy: 0.7273 - val_loss: 0.7641 - val_accuracy: 0.7440\n",
            "Epoch 83/500\n",
            "104/104 [==============================] - 1s 5ms/step - loss: 0.6904 - accuracy: 0.7297 - val_loss: 0.7681 - val_accuracy: 0.7101\n",
            "Epoch 84/500\n",
            "104/104 [==============================] - 0s 4ms/step - loss: 0.6647 - accuracy: 0.7346 - val_loss: 0.7616 - val_accuracy: 0.7440\n",
            "Epoch 85/500\n",
            "104/104 [==============================] - 1s 5ms/step - loss: 0.6674 - accuracy: 0.7455 - val_loss: 0.7458 - val_accuracy: 0.7536\n",
            "Epoch 86/500\n",
            "104/104 [==============================] - 1s 5ms/step - loss: 0.6629 - accuracy: 0.7437 - val_loss: 0.7379 - val_accuracy: 0.7440\n",
            "Epoch 87/500\n",
            "104/104 [==============================] - 0s 4ms/step - loss: 0.6655 - accuracy: 0.7467 - val_loss: 0.7481 - val_accuracy: 0.7440\n",
            "Epoch 88/500\n",
            "104/104 [==============================] - 1s 5ms/step - loss: 0.6725 - accuracy: 0.7437 - val_loss: 0.7353 - val_accuracy: 0.7536\n",
            "Epoch 89/500\n",
            "104/104 [==============================] - 0s 5ms/step - loss: 0.6559 - accuracy: 0.7503 - val_loss: 0.7290 - val_accuracy: 0.7488\n",
            "Epoch 90/500\n",
            "104/104 [==============================] - 0s 5ms/step - loss: 0.6358 - accuracy: 0.7491 - val_loss: 0.7037 - val_accuracy: 0.7681\n",
            "Epoch 91/500\n",
            "104/104 [==============================] - 1s 5ms/step - loss: 0.6278 - accuracy: 0.7630 - val_loss: 0.7243 - val_accuracy: 0.7536\n",
            "Epoch 92/500\n",
            "104/104 [==============================] - 0s 5ms/step - loss: 0.6300 - accuracy: 0.7557 - val_loss: 0.6923 - val_accuracy: 0.7633\n",
            "Epoch 93/500\n",
            "104/104 [==============================] - 0s 4ms/step - loss: 0.6273 - accuracy: 0.7515 - val_loss: 0.7207 - val_accuracy: 0.7536\n",
            "Epoch 94/500\n",
            "104/104 [==============================] - 0s 5ms/step - loss: 0.6207 - accuracy: 0.7551 - val_loss: 0.6927 - val_accuracy: 0.7729\n",
            "Epoch 95/500\n",
            "104/104 [==============================] - 1s 5ms/step - loss: 0.6266 - accuracy: 0.7600 - val_loss: 0.7144 - val_accuracy: 0.7681\n",
            "Epoch 96/500\n",
            "104/104 [==============================] - 0s 4ms/step - loss: 0.6227 - accuracy: 0.7467 - val_loss: 0.6990 - val_accuracy: 0.7536\n",
            "Epoch 97/500\n",
            "104/104 [==============================] - 1s 5ms/step - loss: 0.5964 - accuracy: 0.7763 - val_loss: 0.7452 - val_accuracy: 0.7391\n",
            "Epoch 98/500\n",
            "104/104 [==============================] - 1s 5ms/step - loss: 0.5967 - accuracy: 0.7582 - val_loss: 0.7037 - val_accuracy: 0.7488\n",
            "Epoch 99/500\n",
            "104/104 [==============================] - 0s 4ms/step - loss: 0.5896 - accuracy: 0.7745 - val_loss: 0.6953 - val_accuracy: 0.7778\n",
            "Epoch 100/500\n",
            "104/104 [==============================] - 1s 5ms/step - loss: 0.6011 - accuracy: 0.7624 - val_loss: 0.6668 - val_accuracy: 0.7729\n",
            "Epoch 101/500\n",
            "104/104 [==============================] - 1s 5ms/step - loss: 0.5782 - accuracy: 0.7811 - val_loss: 0.7036 - val_accuracy: 0.7826\n",
            "Epoch 102/500\n",
            "104/104 [==============================] - 0s 5ms/step - loss: 0.5832 - accuracy: 0.7745 - val_loss: 0.6729 - val_accuracy: 0.7681\n",
            "Epoch 103/500\n",
            "104/104 [==============================] - 1s 5ms/step - loss: 0.5793 - accuracy: 0.7678 - val_loss: 0.6835 - val_accuracy: 0.7488\n",
            "Epoch 104/500\n",
            "104/104 [==============================] - 0s 4ms/step - loss: 0.5688 - accuracy: 0.7908 - val_loss: 0.6562 - val_accuracy: 0.7633\n",
            "Epoch 105/500\n",
            "104/104 [==============================] - 0s 5ms/step - loss: 0.5565 - accuracy: 0.7896 - val_loss: 0.6553 - val_accuracy: 0.7633\n",
            "Epoch 106/500\n",
            "104/104 [==============================] - 0s 5ms/step - loss: 0.5496 - accuracy: 0.7938 - val_loss: 0.6794 - val_accuracy: 0.7536\n",
            "Epoch 107/500\n",
            "104/104 [==============================] - 0s 5ms/step - loss: 0.5261 - accuracy: 0.7938 - val_loss: 0.6617 - val_accuracy: 0.7826\n",
            "Epoch 108/500\n",
            "104/104 [==============================] - 1s 5ms/step - loss: 0.5324 - accuracy: 0.7938 - val_loss: 0.6714 - val_accuracy: 0.7633\n",
            "Epoch 109/500\n",
            "104/104 [==============================] - 1s 5ms/step - loss: 0.5138 - accuracy: 0.7993 - val_loss: 0.6318 - val_accuracy: 0.7633\n",
            "Epoch 110/500\n",
            "104/104 [==============================] - 0s 4ms/step - loss: 0.5351 - accuracy: 0.7963 - val_loss: 0.6836 - val_accuracy: 0.7488\n",
            "Epoch 111/500\n",
            "104/104 [==============================] - 0s 5ms/step - loss: 0.5399 - accuracy: 0.7926 - val_loss: 0.6649 - val_accuracy: 0.7826\n",
            "Epoch 112/500\n",
            "104/104 [==============================] - 1s 5ms/step - loss: 0.5323 - accuracy: 0.7944 - val_loss: 0.6575 - val_accuracy: 0.7295\n",
            "Epoch 113/500\n",
            "104/104 [==============================] - 0s 5ms/step - loss: 0.5515 - accuracy: 0.7830 - val_loss: 0.6586 - val_accuracy: 0.7681\n",
            "Epoch 114/500\n",
            "104/104 [==============================] - 1s 6ms/step - loss: 0.5119 - accuracy: 0.8089 - val_loss: 0.6490 - val_accuracy: 0.7585\n",
            "Epoch 115/500\n",
            "104/104 [==============================] - 1s 7ms/step - loss: 0.5095 - accuracy: 0.8053 - val_loss: 0.6516 - val_accuracy: 0.7874\n",
            "Epoch 116/500\n",
            "104/104 [==============================] - 1s 5ms/step - loss: 0.5124 - accuracy: 0.7999 - val_loss: 0.6460 - val_accuracy: 0.7633\n",
            "Epoch 117/500\n",
            "104/104 [==============================] - 1s 5ms/step - loss: 0.5229 - accuracy: 0.8041 - val_loss: 0.6627 - val_accuracy: 0.7633\n",
            "Epoch 118/500\n",
            "104/104 [==============================] - 0s 4ms/step - loss: 0.5000 - accuracy: 0.8096 - val_loss: 0.6556 - val_accuracy: 0.7440\n",
            "Epoch 119/500\n",
            "104/104 [==============================] - 1s 5ms/step - loss: 0.5160 - accuracy: 0.7981 - val_loss: 0.6394 - val_accuracy: 0.7681\n",
            "Epoch 120/500\n",
            "104/104 [==============================] - 0s 5ms/step - loss: 0.5034 - accuracy: 0.8089 - val_loss: 0.6444 - val_accuracy: 0.7585\n",
            "Epoch 121/500\n",
            "104/104 [==============================] - 0s 5ms/step - loss: 0.5033 - accuracy: 0.8035 - val_loss: 0.6496 - val_accuracy: 0.7729\n",
            "Epoch 122/500\n",
            "104/104 [==============================] - 1s 5ms/step - loss: 0.5084 - accuracy: 0.7908 - val_loss: 0.6180 - val_accuracy: 0.7874\n",
            "Epoch 123/500\n",
            "104/104 [==============================] - 0s 4ms/step - loss: 0.5011 - accuracy: 0.8120 - val_loss: 0.6266 - val_accuracy: 0.7729\n",
            "Epoch 124/500\n",
            "104/104 [==============================] - 1s 5ms/step - loss: 0.4992 - accuracy: 0.8071 - val_loss: 0.6917 - val_accuracy: 0.7585\n",
            "Epoch 125/500\n",
            "104/104 [==============================] - 1s 5ms/step - loss: 0.5023 - accuracy: 0.8138 - val_loss: 0.6232 - val_accuracy: 0.7633\n",
            "Epoch 126/500\n",
            "104/104 [==============================] - 1s 5ms/step - loss: 0.4652 - accuracy: 0.8150 - val_loss: 0.6694 - val_accuracy: 0.7681\n",
            "Epoch 127/500\n",
            "104/104 [==============================] - 0s 5ms/step - loss: 0.4482 - accuracy: 0.8313 - val_loss: 0.6493 - val_accuracy: 0.7343\n",
            "Epoch 128/500\n",
            "104/104 [==============================] - 1s 5ms/step - loss: 0.4521 - accuracy: 0.8313 - val_loss: 0.6540 - val_accuracy: 0.7778\n",
            "Epoch 129/500\n",
            "104/104 [==============================] - 0s 4ms/step - loss: 0.4823 - accuracy: 0.8138 - val_loss: 0.6571 - val_accuracy: 0.7729\n",
            "Epoch 130/500\n",
            "104/104 [==============================] - 0s 4ms/step - loss: 0.4885 - accuracy: 0.8126 - val_loss: 0.6515 - val_accuracy: 0.7826\n",
            "Epoch 131/500\n",
            "104/104 [==============================] - 0s 5ms/step - loss: 0.4542 - accuracy: 0.8289 - val_loss: 0.6280 - val_accuracy: 0.8019\n",
            "Epoch 132/500\n",
            "104/104 [==============================] - 0s 5ms/step - loss: 0.4562 - accuracy: 0.8307 - val_loss: 0.6105 - val_accuracy: 0.8019\n",
            "Epoch 133/500\n",
            "104/104 [==============================] - 0s 4ms/step - loss: 0.4516 - accuracy: 0.8392 - val_loss: 0.6177 - val_accuracy: 0.7971\n",
            "Epoch 134/500\n",
            "104/104 [==============================] - 1s 5ms/step - loss: 0.4307 - accuracy: 0.8416 - val_loss: 0.6299 - val_accuracy: 0.7874\n",
            "Epoch 135/500\n",
            "104/104 [==============================] - 0s 5ms/step - loss: 0.4597 - accuracy: 0.8216 - val_loss: 0.6204 - val_accuracy: 0.7681\n",
            "Epoch 136/500\n",
            "104/104 [==============================] - 1s 5ms/step - loss: 0.3969 - accuracy: 0.8519 - val_loss: 0.5962 - val_accuracy: 0.7874\n",
            "Epoch 137/500\n",
            "104/104 [==============================] - 1s 5ms/step - loss: 0.4222 - accuracy: 0.8380 - val_loss: 0.5994 - val_accuracy: 0.7923\n",
            "Epoch 138/500\n",
            "104/104 [==============================] - 0s 4ms/step - loss: 0.4463 - accuracy: 0.8241 - val_loss: 0.6164 - val_accuracy: 0.7681\n",
            "Epoch 139/500\n",
            "104/104 [==============================] - 0s 5ms/step - loss: 0.4263 - accuracy: 0.8440 - val_loss: 0.6032 - val_accuracy: 0.7923\n",
            "Epoch 140/500\n",
            "104/104 [==============================] - 0s 5ms/step - loss: 0.4434 - accuracy: 0.8313 - val_loss: 0.6398 - val_accuracy: 0.7633\n",
            "Epoch 141/500\n",
            "104/104 [==============================] - 0s 5ms/step - loss: 0.4194 - accuracy: 0.8446 - val_loss: 0.6088 - val_accuracy: 0.8019\n",
            "Epoch 142/500\n",
            "104/104 [==============================] - 1s 5ms/step - loss: 0.4370 - accuracy: 0.8307 - val_loss: 0.6267 - val_accuracy: 0.7971\n",
            "Epoch 143/500\n",
            "104/104 [==============================] - 0s 4ms/step - loss: 0.4190 - accuracy: 0.8537 - val_loss: 0.5923 - val_accuracy: 0.8068\n",
            "Epoch 144/500\n",
            "104/104 [==============================] - 0s 5ms/step - loss: 0.4089 - accuracy: 0.8489 - val_loss: 0.6516 - val_accuracy: 0.7874\n",
            "Epoch 145/500\n",
            "104/104 [==============================] - 1s 5ms/step - loss: 0.4292 - accuracy: 0.8313 - val_loss: 0.6016 - val_accuracy: 0.8019\n",
            "Epoch 146/500\n",
            "104/104 [==============================] - 0s 5ms/step - loss: 0.4120 - accuracy: 0.8489 - val_loss: 0.5809 - val_accuracy: 0.7874\n",
            "Epoch 147/500\n",
            "104/104 [==============================] - 1s 6ms/step - loss: 0.4013 - accuracy: 0.8446 - val_loss: 0.5741 - val_accuracy: 0.7923\n",
            "Epoch 148/500\n",
            "104/104 [==============================] - 1s 7ms/step - loss: 0.4070 - accuracy: 0.8513 - val_loss: 0.6445 - val_accuracy: 0.7778\n",
            "Epoch 149/500\n",
            "104/104 [==============================] - 1s 6ms/step - loss: 0.3816 - accuracy: 0.8561 - val_loss: 0.5998 - val_accuracy: 0.7778\n",
            "Epoch 150/500\n",
            "104/104 [==============================] - 1s 7ms/step - loss: 0.4215 - accuracy: 0.8482 - val_loss: 0.5851 - val_accuracy: 0.8019\n",
            "Epoch 151/500\n",
            "104/104 [==============================] - 1s 6ms/step - loss: 0.3937 - accuracy: 0.8489 - val_loss: 0.5691 - val_accuracy: 0.8068\n",
            "Epoch 152/500\n",
            "104/104 [==============================] - 1s 6ms/step - loss: 0.4048 - accuracy: 0.8410 - val_loss: 0.5988 - val_accuracy: 0.7874\n",
            "Epoch 153/500\n",
            "104/104 [==============================] - 1s 5ms/step - loss: 0.4065 - accuracy: 0.8513 - val_loss: 0.6009 - val_accuracy: 0.7874\n",
            "Epoch 154/500\n",
            "104/104 [==============================] - 0s 5ms/step - loss: 0.3755 - accuracy: 0.8597 - val_loss: 0.6105 - val_accuracy: 0.8068\n",
            "Epoch 155/500\n",
            "104/104 [==============================] - 1s 5ms/step - loss: 0.3658 - accuracy: 0.8573 - val_loss: 0.6174 - val_accuracy: 0.7633\n",
            "Epoch 156/500\n",
            "104/104 [==============================] - 0s 4ms/step - loss: 0.3881 - accuracy: 0.8513 - val_loss: 0.6123 - val_accuracy: 0.7729\n",
            "Epoch 157/500\n",
            "104/104 [==============================] - 1s 7ms/step - loss: 0.3853 - accuracy: 0.8507 - val_loss: 0.5730 - val_accuracy: 0.7826\n",
            "Epoch 158/500\n",
            "104/104 [==============================] - 1s 8ms/step - loss: 0.3650 - accuracy: 0.8664 - val_loss: 0.6075 - val_accuracy: 0.8068\n",
            "Epoch 159/500\n",
            "104/104 [==============================] - 1s 9ms/step - loss: 0.3756 - accuracy: 0.8561 - val_loss: 0.5998 - val_accuracy: 0.7826\n",
            "Epoch 160/500\n",
            "104/104 [==============================] - 1s 6ms/step - loss: 0.3731 - accuracy: 0.8658 - val_loss: 0.5662 - val_accuracy: 0.7923\n",
            "Epoch 161/500\n",
            "104/104 [==============================] - 1s 11ms/step - loss: 0.3560 - accuracy: 0.8700 - val_loss: 0.6135 - val_accuracy: 0.7778\n",
            "Epoch 162/500\n",
            "104/104 [==============================] - 0s 5ms/step - loss: 0.3886 - accuracy: 0.8507 - val_loss: 0.6049 - val_accuracy: 0.7971\n",
            "Epoch 163/500\n",
            "104/104 [==============================] - 1s 5ms/step - loss: 0.3865 - accuracy: 0.8525 - val_loss: 0.5835 - val_accuracy: 0.7874\n",
            "Epoch 164/500\n",
            "104/104 [==============================] - 0s 4ms/step - loss: 0.3721 - accuracy: 0.8652 - val_loss: 0.5748 - val_accuracy: 0.7923\n",
            "Epoch 165/500\n",
            "104/104 [==============================] - 0s 5ms/step - loss: 0.3524 - accuracy: 0.8748 - val_loss: 0.5636 - val_accuracy: 0.8164\n",
            "Epoch 166/500\n",
            "104/104 [==============================] - 0s 4ms/step - loss: 0.3584 - accuracy: 0.8712 - val_loss: 0.5673 - val_accuracy: 0.7923\n",
            "Epoch 167/500\n",
            "104/104 [==============================] - 0s 4ms/step - loss: 0.3524 - accuracy: 0.8676 - val_loss: 0.5868 - val_accuracy: 0.7971\n",
            "Epoch 168/500\n",
            "104/104 [==============================] - 1s 5ms/step - loss: 0.3685 - accuracy: 0.8730 - val_loss: 0.6088 - val_accuracy: 0.7826\n",
            "Epoch 169/500\n",
            "104/104 [==============================] - 0s 5ms/step - loss: 0.3487 - accuracy: 0.8664 - val_loss: 0.5719 - val_accuracy: 0.8068\n",
            "Epoch 170/500\n",
            "104/104 [==============================] - 1s 5ms/step - loss: 0.3636 - accuracy: 0.8640 - val_loss: 0.5577 - val_accuracy: 0.7874\n",
            "Epoch 171/500\n",
            "104/104 [==============================] - 1s 5ms/step - loss: 0.3256 - accuracy: 0.8730 - val_loss: 0.5833 - val_accuracy: 0.7971\n",
            "Epoch 172/500\n",
            "104/104 [==============================] - 1s 5ms/step - loss: 0.3660 - accuracy: 0.8622 - val_loss: 0.6007 - val_accuracy: 0.7874\n",
            "Epoch 173/500\n",
            "104/104 [==============================] - 1s 5ms/step - loss: 0.3588 - accuracy: 0.8652 - val_loss: 0.5891 - val_accuracy: 0.7923\n",
            "Epoch 174/500\n",
            "104/104 [==============================] - 1s 5ms/step - loss: 0.3625 - accuracy: 0.8525 - val_loss: 0.5708 - val_accuracy: 0.8164\n",
            "Epoch 175/500\n",
            "104/104 [==============================] - 0s 4ms/step - loss: 0.3616 - accuracy: 0.8537 - val_loss: 0.5535 - val_accuracy: 0.7923\n",
            "Epoch 176/500\n",
            "104/104 [==============================] - 0s 5ms/step - loss: 0.3412 - accuracy: 0.8712 - val_loss: 0.5803 - val_accuracy: 0.8019\n",
            "Epoch 177/500\n",
            "104/104 [==============================] - 1s 5ms/step - loss: 0.3551 - accuracy: 0.8622 - val_loss: 0.5767 - val_accuracy: 0.7874\n",
            "Epoch 178/500\n",
            "104/104 [==============================] - 0s 4ms/step - loss: 0.3404 - accuracy: 0.8748 - val_loss: 0.5582 - val_accuracy: 0.8116\n",
            "Epoch 179/500\n",
            "104/104 [==============================] - 0s 4ms/step - loss: 0.3188 - accuracy: 0.8881 - val_loss: 0.5456 - val_accuracy: 0.7971\n",
            "Epoch 180/500\n",
            "104/104 [==============================] - 1s 5ms/step - loss: 0.3196 - accuracy: 0.8839 - val_loss: 0.6064 - val_accuracy: 0.7874\n",
            "Epoch 181/500\n",
            "104/104 [==============================] - 1s 5ms/step - loss: 0.3207 - accuracy: 0.8845 - val_loss: 0.6157 - val_accuracy: 0.7778\n",
            "Epoch 182/500\n",
            "104/104 [==============================] - 1s 5ms/step - loss: 0.3187 - accuracy: 0.8827 - val_loss: 0.5334 - val_accuracy: 0.8261\n",
            "Epoch 183/500\n",
            "104/104 [==============================] - 1s 5ms/step - loss: 0.3249 - accuracy: 0.8773 - val_loss: 0.5567 - val_accuracy: 0.7923\n",
            "Epoch 184/500\n",
            "104/104 [==============================] - 0s 4ms/step - loss: 0.3442 - accuracy: 0.8652 - val_loss: 0.5924 - val_accuracy: 0.8068\n",
            "Epoch 185/500\n",
            "104/104 [==============================] - 0s 4ms/step - loss: 0.3310 - accuracy: 0.8797 - val_loss: 0.5880 - val_accuracy: 0.8116\n",
            "Epoch 186/500\n",
            "104/104 [==============================] - 1s 5ms/step - loss: 0.3076 - accuracy: 0.8900 - val_loss: 0.5957 - val_accuracy: 0.7874\n",
            "Epoch 187/500\n",
            "104/104 [==============================] - 0s 4ms/step - loss: 0.3289 - accuracy: 0.8797 - val_loss: 0.5485 - val_accuracy: 0.8116\n",
            "Epoch 188/500\n",
            "104/104 [==============================] - 0s 4ms/step - loss: 0.3222 - accuracy: 0.8809 - val_loss: 0.5927 - val_accuracy: 0.7971\n",
            "Epoch 189/500\n",
            "104/104 [==============================] - 1s 5ms/step - loss: 0.3014 - accuracy: 0.8791 - val_loss: 0.5635 - val_accuracy: 0.8164\n",
            "Epoch 190/500\n",
            "104/104 [==============================] - 0s 4ms/step - loss: 0.2922 - accuracy: 0.8912 - val_loss: 0.6085 - val_accuracy: 0.7778\n",
            "Epoch 191/500\n",
            "104/104 [==============================] - 0s 4ms/step - loss: 0.3001 - accuracy: 0.8960 - val_loss: 0.5561 - val_accuracy: 0.7874\n",
            "Epoch 192/500\n",
            "104/104 [==============================] - 1s 5ms/step - loss: 0.3122 - accuracy: 0.8881 - val_loss: 0.5646 - val_accuracy: 0.8068\n",
            "Epoch 193/500\n",
            "104/104 [==============================] - 0s 4ms/step - loss: 0.2945 - accuracy: 0.8888 - val_loss: 0.5474 - val_accuracy: 0.8261\n",
            "Epoch 194/500\n",
            "104/104 [==============================] - 1s 5ms/step - loss: 0.3296 - accuracy: 0.8785 - val_loss: 0.5648 - val_accuracy: 0.8019\n",
            "Epoch 195/500\n",
            "104/104 [==============================] - 1s 5ms/step - loss: 0.3174 - accuracy: 0.8730 - val_loss: 0.5604 - val_accuracy: 0.8164\n",
            "Epoch 196/500\n",
            "104/104 [==============================] - 1s 5ms/step - loss: 0.2932 - accuracy: 0.8815 - val_loss: 0.6266 - val_accuracy: 0.7633\n",
            "Epoch 197/500\n",
            "104/104 [==============================] - 0s 5ms/step - loss: 0.2868 - accuracy: 0.9015 - val_loss: 0.5281 - val_accuracy: 0.8213\n",
            "Epoch 198/500\n",
            "104/104 [==============================] - 1s 5ms/step - loss: 0.2997 - accuracy: 0.8863 - val_loss: 0.5335 - val_accuracy: 0.8164\n",
            "Epoch 199/500\n",
            "104/104 [==============================] - 0s 5ms/step - loss: 0.3004 - accuracy: 0.8894 - val_loss: 0.5391 - val_accuracy: 0.8019\n",
            "Epoch 200/500\n",
            "104/104 [==============================] - 0s 4ms/step - loss: 0.2870 - accuracy: 0.8960 - val_loss: 0.5451 - val_accuracy: 0.7971\n",
            "Epoch 201/500\n",
            "104/104 [==============================] - 0s 5ms/step - loss: 0.2824 - accuracy: 0.9008 - val_loss: 0.5670 - val_accuracy: 0.8019\n",
            "Epoch 202/500\n",
            "104/104 [==============================] - 1s 5ms/step - loss: 0.2873 - accuracy: 0.8869 - val_loss: 0.5507 - val_accuracy: 0.7923\n",
            "Epoch 203/500\n",
            "104/104 [==============================] - 0s 4ms/step - loss: 0.2842 - accuracy: 0.8990 - val_loss: 0.5612 - val_accuracy: 0.8068\n",
            "Epoch 204/500\n",
            "104/104 [==============================] - 1s 5ms/step - loss: 0.2992 - accuracy: 0.8875 - val_loss: 0.5661 - val_accuracy: 0.7729\n",
            "Epoch 205/500\n",
            "104/104 [==============================] - 1s 5ms/step - loss: 0.2871 - accuracy: 0.8930 - val_loss: 0.5575 - val_accuracy: 0.7874\n",
            "Epoch 206/500\n",
            "104/104 [==============================] - 0s 5ms/step - loss: 0.2979 - accuracy: 0.8863 - val_loss: 0.5681 - val_accuracy: 0.7923\n",
            "Epoch 207/500\n",
            "104/104 [==============================] - 1s 5ms/step - loss: 0.2859 - accuracy: 0.8918 - val_loss: 0.5779 - val_accuracy: 0.7971\n",
            "Epoch 208/500\n",
            "104/104 [==============================] - 1s 5ms/step - loss: 0.2751 - accuracy: 0.9057 - val_loss: 0.6014 - val_accuracy: 0.7923\n",
            "Epoch 209/500\n",
            "104/104 [==============================] - 0s 4ms/step - loss: 0.2701 - accuracy: 0.9027 - val_loss: 0.5519 - val_accuracy: 0.7923\n",
            "Epoch 210/500\n",
            "104/104 [==============================] - 0s 5ms/step - loss: 0.2807 - accuracy: 0.8948 - val_loss: 0.6183 - val_accuracy: 0.7923\n",
            "Epoch 211/500\n",
            "104/104 [==============================] - 1s 5ms/step - loss: 0.2810 - accuracy: 0.8857 - val_loss: 0.5466 - val_accuracy: 0.7971\n",
            "Epoch 212/500\n",
            "104/104 [==============================] - 0s 5ms/step - loss: 0.2803 - accuracy: 0.8972 - val_loss: 0.5898 - val_accuracy: 0.8116\n",
            "Epoch 213/500\n",
            "104/104 [==============================] - 1s 5ms/step - loss: 0.2859 - accuracy: 0.8894 - val_loss: 0.5568 - val_accuracy: 0.7971\n",
            "Epoch 214/500\n",
            "104/104 [==============================] - 1s 5ms/step - loss: 0.2682 - accuracy: 0.9015 - val_loss: 0.5819 - val_accuracy: 0.7923\n",
            "Epoch 215/500\n",
            "104/104 [==============================] - 0s 5ms/step - loss: 0.2812 - accuracy: 0.8960 - val_loss: 0.5317 - val_accuracy: 0.8213\n",
            "Epoch 216/500\n",
            "104/104 [==============================] - 1s 5ms/step - loss: 0.2838 - accuracy: 0.8978 - val_loss: 0.5828 - val_accuracy: 0.7971\n",
            "Epoch 217/500\n",
            "104/104 [==============================] - 1s 5ms/step - loss: 0.2580 - accuracy: 0.9111 - val_loss: 0.5671 - val_accuracy: 0.7778\n",
            "Epoch 218/500\n",
            "104/104 [==============================] - 0s 4ms/step - loss: 0.2751 - accuracy: 0.9045 - val_loss: 0.5551 - val_accuracy: 0.7971\n",
            "Epoch 219/500\n",
            "104/104 [==============================] - 0s 5ms/step - loss: 0.2703 - accuracy: 0.9008 - val_loss: 0.5512 - val_accuracy: 0.7971\n",
            "Epoch 220/500\n",
            "104/104 [==============================] - 1s 5ms/step - loss: 0.2670 - accuracy: 0.9051 - val_loss: 0.5550 - val_accuracy: 0.7971\n",
            "Epoch 221/500\n",
            "104/104 [==============================] - 0s 5ms/step - loss: 0.2714 - accuracy: 0.8966 - val_loss: 0.5535 - val_accuracy: 0.8116\n",
            "Epoch 222/500\n",
            "104/104 [==============================] - 1s 5ms/step - loss: 0.2596 - accuracy: 0.9051 - val_loss: 0.5210 - val_accuracy: 0.8261\n",
            "Epoch 223/500\n",
            "104/104 [==============================] - 1s 5ms/step - loss: 0.2764 - accuracy: 0.8966 - val_loss: 0.5832 - val_accuracy: 0.7778\n",
            "Epoch 224/500\n",
            "104/104 [==============================] - 0s 4ms/step - loss: 0.2869 - accuracy: 0.8948 - val_loss: 0.5940 - val_accuracy: 0.7874\n",
            "Epoch 225/500\n",
            "104/104 [==============================] - 1s 5ms/step - loss: 0.2662 - accuracy: 0.8984 - val_loss: 0.5760 - val_accuracy: 0.7971\n",
            "Epoch 226/500\n",
            "104/104 [==============================] - 0s 5ms/step - loss: 0.2697 - accuracy: 0.8918 - val_loss: 0.6636 - val_accuracy: 0.7778\n",
            "Epoch 227/500\n",
            "104/104 [==============================] - 1s 5ms/step - loss: 0.2461 - accuracy: 0.9117 - val_loss: 0.5686 - val_accuracy: 0.8164\n",
            "Epoch 228/500\n",
            "104/104 [==============================] - 0s 4ms/step - loss: 0.2697 - accuracy: 0.9021 - val_loss: 0.5590 - val_accuracy: 0.8068\n",
            "Epoch 229/500\n",
            "104/104 [==============================] - 0s 5ms/step - loss: 0.2622 - accuracy: 0.9015 - val_loss: 0.5975 - val_accuracy: 0.7923\n",
            "Epoch 230/500\n",
            "104/104 [==============================] - 0s 5ms/step - loss: 0.2518 - accuracy: 0.9093 - val_loss: 0.5203 - val_accuracy: 0.8406\n",
            "Epoch 231/500\n",
            "104/104 [==============================] - 0s 4ms/step - loss: 0.2426 - accuracy: 0.9063 - val_loss: 0.5402 - val_accuracy: 0.8019\n",
            "Epoch 232/500\n",
            "104/104 [==============================] - 0s 5ms/step - loss: 0.2292 - accuracy: 0.9075 - val_loss: 0.5722 - val_accuracy: 0.8164\n",
            "Epoch 233/500\n",
            "104/104 [==============================] - 0s 4ms/step - loss: 0.2336 - accuracy: 0.9141 - val_loss: 0.5376 - val_accuracy: 0.8068\n",
            "Epoch 234/500\n",
            "104/104 [==============================] - 0s 4ms/step - loss: 0.2452 - accuracy: 0.9063 - val_loss: 0.5287 - val_accuracy: 0.8357\n",
            "Epoch 235/500\n",
            "104/104 [==============================] - 0s 4ms/step - loss: 0.2669 - accuracy: 0.8978 - val_loss: 0.5858 - val_accuracy: 0.8019\n",
            "Epoch 236/500\n",
            "104/104 [==============================] - 0s 4ms/step - loss: 0.2454 - accuracy: 0.9154 - val_loss: 0.5776 - val_accuracy: 0.7826\n",
            "Epoch 237/500\n",
            "104/104 [==============================] - 1s 5ms/step - loss: 0.2685 - accuracy: 0.9002 - val_loss: 0.5756 - val_accuracy: 0.7971\n",
            "Epoch 238/500\n",
            "104/104 [==============================] - 1s 5ms/step - loss: 0.2329 - accuracy: 0.9184 - val_loss: 0.5511 - val_accuracy: 0.8213\n",
            "Epoch 239/500\n",
            "104/104 [==============================] - 0s 5ms/step - loss: 0.2424 - accuracy: 0.9148 - val_loss: 0.5793 - val_accuracy: 0.8019\n",
            "Epoch 240/500\n",
            "104/104 [==============================] - 1s 5ms/step - loss: 0.2510 - accuracy: 0.9033 - val_loss: 0.5785 - val_accuracy: 0.8019\n",
            "Epoch 241/500\n",
            "104/104 [==============================] - 0s 4ms/step - loss: 0.2294 - accuracy: 0.9184 - val_loss: 0.6114 - val_accuracy: 0.7923\n",
            "Epoch 242/500\n",
            "104/104 [==============================] - 1s 5ms/step - loss: 0.2511 - accuracy: 0.9039 - val_loss: 0.5524 - val_accuracy: 0.8068\n",
            "Epoch 243/500\n",
            "104/104 [==============================] - 1s 5ms/step - loss: 0.2535 - accuracy: 0.9069 - val_loss: 0.5790 - val_accuracy: 0.8019\n",
            "Epoch 244/500\n",
            "104/104 [==============================] - 0s 5ms/step - loss: 0.2460 - accuracy: 0.9063 - val_loss: 0.5643 - val_accuracy: 0.8019\n",
            "Epoch 245/500\n",
            "104/104 [==============================] - 1s 5ms/step - loss: 0.2588 - accuracy: 0.9027 - val_loss: 0.5862 - val_accuracy: 0.7923\n",
            "Epoch 246/500\n",
            "104/104 [==============================] - 1s 5ms/step - loss: 0.2453 - accuracy: 0.9105 - val_loss: 0.4896 - val_accuracy: 0.8454\n",
            "Epoch 247/500\n",
            "104/104 [==============================] - 0s 5ms/step - loss: 0.2243 - accuracy: 0.9178 - val_loss: 0.5817 - val_accuracy: 0.8068\n",
            "Epoch 248/500\n",
            "104/104 [==============================] - 0s 5ms/step - loss: 0.2459 - accuracy: 0.9081 - val_loss: 0.5679 - val_accuracy: 0.8068\n",
            "Epoch 249/500\n",
            "104/104 [==============================] - 0s 5ms/step - loss: 0.2386 - accuracy: 0.9214 - val_loss: 0.5610 - val_accuracy: 0.8213\n",
            "Epoch 250/500\n",
            "104/104 [==============================] - 0s 5ms/step - loss: 0.2349 - accuracy: 0.9178 - val_loss: 0.5488 - val_accuracy: 0.8116\n",
            "Epoch 251/500\n",
            "104/104 [==============================] - 0s 4ms/step - loss: 0.2257 - accuracy: 0.9220 - val_loss: 0.6260 - val_accuracy: 0.7778\n",
            "Epoch 252/500\n",
            "104/104 [==============================] - 0s 5ms/step - loss: 0.2425 - accuracy: 0.9141 - val_loss: 0.5855 - val_accuracy: 0.8116\n",
            "Epoch 253/500\n",
            "104/104 [==============================] - 0s 4ms/step - loss: 0.2373 - accuracy: 0.9129 - val_loss: 0.5739 - val_accuracy: 0.7971\n",
            "Epoch 254/500\n",
            "104/104 [==============================] - 0s 5ms/step - loss: 0.2323 - accuracy: 0.9081 - val_loss: 0.5783 - val_accuracy: 0.8019\n",
            "Epoch 255/500\n",
            "104/104 [==============================] - 0s 4ms/step - loss: 0.2065 - accuracy: 0.9256 - val_loss: 0.5945 - val_accuracy: 0.7826\n",
            "Epoch 256/500\n",
            "104/104 [==============================] - 0s 5ms/step - loss: 0.2184 - accuracy: 0.9148 - val_loss: 0.6145 - val_accuracy: 0.8068\n",
            "Epoch 257/500\n",
            "104/104 [==============================] - 0s 5ms/step - loss: 0.2448 - accuracy: 0.9057 - val_loss: 0.5981 - val_accuracy: 0.8068\n",
            "Epoch 258/500\n",
            "104/104 [==============================] - 0s 5ms/step - loss: 0.2303 - accuracy: 0.9184 - val_loss: 0.5576 - val_accuracy: 0.8116\n",
            "Epoch 259/500\n",
            "104/104 [==============================] - 0s 5ms/step - loss: 0.2286 - accuracy: 0.9166 - val_loss: 0.5460 - val_accuracy: 0.8213\n",
            "Epoch 260/500\n",
            "104/104 [==============================] - 0s 5ms/step - loss: 0.2326 - accuracy: 0.9166 - val_loss: 0.5364 - val_accuracy: 0.8116\n",
            "Epoch 261/500\n",
            "104/104 [==============================] - 0s 4ms/step - loss: 0.2027 - accuracy: 0.9190 - val_loss: 0.5952 - val_accuracy: 0.8116\n",
            "Epoch 262/500\n",
            "104/104 [==============================] - 0s 4ms/step - loss: 0.2487 - accuracy: 0.9075 - val_loss: 0.5531 - val_accuracy: 0.8164\n",
            "Epoch 263/500\n",
            "104/104 [==============================] - 0s 5ms/step - loss: 0.2293 - accuracy: 0.9135 - val_loss: 0.5508 - val_accuracy: 0.8261\n",
            "Epoch 264/500\n",
            "104/104 [==============================] - 1s 5ms/step - loss: 0.2241 - accuracy: 0.9166 - val_loss: 0.5137 - val_accuracy: 0.8357\n",
            "Epoch 265/500\n",
            "104/104 [==============================] - 1s 5ms/step - loss: 0.1931 - accuracy: 0.9329 - val_loss: 0.5247 - val_accuracy: 0.8116\n",
            "Epoch 266/500\n",
            "104/104 [==============================] - 0s 5ms/step - loss: 0.2423 - accuracy: 0.9069 - val_loss: 0.5608 - val_accuracy: 0.8116\n",
            "Epoch 267/500\n",
            "104/104 [==============================] - 1s 5ms/step - loss: 0.2331 - accuracy: 0.9160 - val_loss: 0.5327 - val_accuracy: 0.8213\n",
            "Epoch 268/500\n",
            "104/104 [==============================] - 1s 5ms/step - loss: 0.2090 - accuracy: 0.9244 - val_loss: 0.5996 - val_accuracy: 0.8116\n",
            "Epoch 269/500\n",
            "104/104 [==============================] - 1s 5ms/step - loss: 0.2055 - accuracy: 0.9214 - val_loss: 0.5731 - val_accuracy: 0.7971\n",
            "Epoch 270/500\n",
            "104/104 [==============================] - 1s 5ms/step - loss: 0.2272 - accuracy: 0.9178 - val_loss: 0.5482 - val_accuracy: 0.8068\n",
            "Epoch 271/500\n",
            "104/104 [==============================] - 0s 5ms/step - loss: 0.2229 - accuracy: 0.9141 - val_loss: 0.5557 - val_accuracy: 0.8019\n"
          ]
        }
      ]
    },
    {
      "cell_type": "code",
      "source": [
        "plt.plot(cnnhistory.history['loss'])\n",
        "plt.plot(cnnhistory.history['val_loss'])\n",
        "plt.title('model loss')\n",
        "plt.ylabel('loss')\n",
        "plt.xlabel('epoch')\n",
        "plt.legend(['train','test'], loc='upper left')\n",
        "plt.show()"
      ],
      "metadata": {
        "colab": {
          "base_uri": "https://localhost:8080/",
          "height": 295
        },
        "id": "oQYnuaCrDH_A",
        "outputId": "a6739665-5bf6-45fe-a471-33d10213fc41"
      },
      "execution_count": 15,
      "outputs": [
        {
          "output_type": "display_data",
          "data": {
            "text/plain": [
              "<Figure size 432x288 with 1 Axes>"
            ],
            "image/png": "[encoded data removed]"
          },
          "metadata": {
            "needs_background": "light"
          }
        }
      ]
    },
    {
      "cell_type": "code",
      "source": [
        "plt.plot(cnnhistory.history['accuracy'])\n",
        "plt.plot(cnnhistory.history['val_accuracy'])\n",
        "plt.title('model accuracy')\n",
        "plt.ylabel('accuracy')\n",
        "plt.xlabel('epoch')\n",
        "plt.legend(['train','test'], loc='upper left')\n",
        "plt.show()"
      ],
      "metadata": {
        "colab": {
          "base_uri": "https://localhost:8080/",
          "height": 295
        },
        "id": "IFkTuO8nDNdq",
        "outputId": "f988fdb9-ae1e-422d-839e-7d810249962c"
      },
      "execution_count": 16,
      "outputs": [
        {
          "output_type": "display_data",
          "data": {
            "text/plain": [
              "<Figure size 432x288 with 1 Axes>"
            ],
            "image/png": "[encoded data removed]"
          },
          "metadata": {
            "needs_background": "light"
          }
        }
      ]
    },
    {
      "cell_type": "code",
      "source": [
        "predictions = model.predict(x_testcnn)"
      ],
      "metadata": {
        "id": "A2xtrN5wDQgY"
      },
      "execution_count": 17,
      "outputs": []
    },
    {
      "cell_type": "code",
      "source": [
        "predictions"
      ],
      "metadata": {
        "colab": {
          "base_uri": "https://localhost:8080/"
        },
        "id": "_f_ohjXKDUpY",
        "outputId": "aacedf0f-412c-4d2b-a158-1bcdcdd82ffa"
      },
      "execution_count": 18,
      "outputs": [
        {
          "output_type": "execute_result",
          "data": {
            "text/plain": [
              "array([[2.5489742e-01, 6.9738731e-02, 3.0021986e-01, 2.1443506e-01,\n",
              "        9.3200341e-02, 6.7508578e-02],\n",
              "       [8.7691326e-08, 1.2744721e-09, 1.1888646e-11, 9.9924517e-01,\n",
              "        4.2694488e-08, 7.5473922e-04],\n",
              "       [6.3349910e-02, 3.5923929e-03, 3.8150232e-04, 7.2045028e-01,\n",
              "        4.0720813e-03, 2.0815387e-01],\n",
              "       ...,\n",
              "       [4.3384994e-06, 6.8717469e-11, 3.8774147e-06, 5.2884552e-05,\n",
              "        9.9140680e-01, 8.5321721e-03],\n",
              "       [1.0254132e-04, 6.4268309e-01, 3.5557285e-01, 3.2273552e-04,\n",
              "        7.7385129e-04, 5.4500409e-04],\n",
              "       [5.0015082e-05, 1.9148493e-04, 1.5679862e-02, 1.0805927e-04,\n",
              "        9.7844601e-01, 5.5245096e-03]], dtype=float32)"
            ]
          },
          "metadata": {},
          "execution_count": 18
        }
      ]
    },
    {
      "cell_type": "code",
      "source": [
        "y_test"
      ],
      "metadata": {
        "colab": {
          "base_uri": "https://localhost:8080/"
        },
        "id": "cmA2bFgsDW3D",
        "outputId": "c0a5ca10-2f24-4516-a2a0-1e31d422d7ee"
      },
      "execution_count": 19,
      "outputs": [
        {
          "output_type": "execute_result",
          "data": {
            "text/plain": [
              "array([3, 3, 3, 0, 4, 4, 1, 2, 5, 0, 5, 3, 2, 2, 1, 4, 4, 5, 2, 4, 1, 2,\n",
              "       3, 5, 4, 2, 1, 2, 2, 2, 2, 5, 2, 5, 3, 1, 2, 0, 4, 5, 2, 3, 2, 2,\n",
              "       5, 2, 0, 1, 3, 4, 4, 5, 1, 1, 4, 4, 5, 1, 1, 1, 0, 1, 5, 0, 4, 1,\n",
              "       1, 0, 1, 4, 1, 0, 4, 1, 3, 1, 2, 2, 1, 2, 3, 0, 5, 3, 5, 5, 2, 4,\n",
              "       5, 1, 5, 1, 5, 3, 4, 1, 4, 1, 5, 4, 5, 1, 2, 1, 1, 5, 1, 3, 2, 5,\n",
              "       2, 1, 3, 5, 4, 4, 0, 0, 3, 1, 2, 2, 3, 5, 1, 5, 3, 4, 2, 2, 0, 2,\n",
              "       2, 5, 5, 0, 3, 3, 2, 2, 0, 3, 4, 0, 4, 2, 4, 5, 4, 1, 5, 3, 2, 2,\n",
              "       5, 4, 3, 3, 4, 3, 3, 4, 1, 5, 2, 3, 2, 2, 0, 2, 1, 3, 1, 2, 2, 5,\n",
              "       5, 1, 4, 2, 2, 1, 1, 3, 3, 5, 5, 2, 5, 1, 5, 0, 3, 3, 0, 5, 1, 4,\n",
              "       1, 4, 2, 5, 5, 1, 4, 2, 4])"
            ]
          },
          "metadata": {},
          "execution_count": 19
        }
      ]
    },
    {
      "cell_type": "code",
      "source": [
        "new_Ytest = y_test.astype(int)"
      ],
      "metadata": {
        "id": "0PHDKWJWDY3g"
      },
      "execution_count": 20,
      "outputs": []
    },
    {
      "cell_type": "code",
      "source": [
        "new_Ytest"
      ],
      "metadata": {
        "colab": {
          "base_uri": "https://localhost:8080/"
        },
        "id": "k68v2i-pDbZE",
        "outputId": "aab4ff61-9573-4a9b-b719-c3cd3263b581"
      },
      "execution_count": 21,
      "outputs": [
        {
          "output_type": "execute_result",
          "data": {
            "text/plain": [
              "array([3, 3, 3, 0, 4, 4, 1, 2, 5, 0, 5, 3, 2, 2, 1, 4, 4, 5, 2, 4, 1, 2,\n",
              "       3, 5, 4, 2, 1, 2, 2, 2, 2, 5, 2, 5, 3, 1, 2, 0, 4, 5, 2, 3, 2, 2,\n",
              "       5, 2, 0, 1, 3, 4, 4, 5, 1, 1, 4, 4, 5, 1, 1, 1, 0, 1, 5, 0, 4, 1,\n",
              "       1, 0, 1, 4, 1, 0, 4, 1, 3, 1, 2, 2, 1, 2, 3, 0, 5, 3, 5, 5, 2, 4,\n",
              "       5, 1, 5, 1, 5, 3, 4, 1, 4, 1, 5, 4, 5, 1, 2, 1, 1, 5, 1, 3, 2, 5,\n",
              "       2, 1, 3, 5, 4, 4, 0, 0, 3, 1, 2, 2, 3, 5, 1, 5, 3, 4, 2, 2, 0, 2,\n",
              "       2, 5, 5, 0, 3, 3, 2, 2, 0, 3, 4, 0, 4, 2, 4, 5, 4, 1, 5, 3, 2, 2,\n",
              "       5, 4, 3, 3, 4, 3, 3, 4, 1, 5, 2, 3, 2, 2, 0, 2, 1, 3, 1, 2, 2, 5,\n",
              "       5, 1, 4, 2, 2, 1, 1, 3, 3, 5, 5, 2, 5, 1, 5, 0, 3, 3, 0, 5, 1, 4,\n",
              "       1, 4, 2, 5, 5, 1, 4, 2, 4])"
            ]
          },
          "metadata": {},
          "execution_count": 21
        }
      ]
    },
    {
      "cell_type": "code",
      "source": [
        "preds1=predictions.argmax(axis=1)\n",
        "preds1"
      ],
      "metadata": {
        "colab": {
          "base_uri": "https://localhost:8080/"
        },
        "id": "4_cAI39VFhtp",
        "outputId": "384dadd6-65e8-4890-c373-6389876a28b8"
      },
      "execution_count": 22,
      "outputs": [
        {
          "output_type": "execute_result",
          "data": {
            "text/plain": [
              "array([2, 3, 3, 0, 4, 4, 1, 2, 5, 1, 5, 3, 2, 2, 1, 4, 4, 3, 2, 4, 2, 2,\n",
              "       0, 3, 4, 2, 1, 0, 2, 2, 1, 5, 2, 5, 3, 1, 2, 0, 4, 5, 1, 3, 2, 2,\n",
              "       3, 2, 1, 1, 3, 4, 4, 2, 1, 1, 4, 4, 5, 1, 1, 1, 3, 1, 2, 3, 4, 1,\n",
              "       1, 1, 1, 4, 1, 0, 4, 1, 3, 4, 2, 2, 1, 2, 1, 0, 5, 3, 5, 5, 2, 3,\n",
              "       3, 1, 5, 1, 5, 3, 4, 1, 0, 1, 3, 4, 5, 1, 2, 1, 1, 5, 1, 3, 2, 5,\n",
              "       5, 3, 3, 5, 4, 4, 3, 0, 3, 3, 1, 2, 1, 5, 1, 5, 3, 3, 2, 2, 0, 2,\n",
              "       2, 3, 5, 0, 3, 3, 2, 2, 0, 3, 4, 0, 4, 4, 4, 2, 4, 1, 5, 3, 2, 2,\n",
              "       5, 4, 3, 3, 4, 5, 3, 4, 1, 5, 2, 3, 2, 2, 0, 2, 1, 3, 1, 2, 2, 3,\n",
              "       5, 1, 4, 2, 2, 1, 1, 3, 3, 5, 5, 2, 5, 1, 2, 0, 3, 3, 2, 5, 1, 4,\n",
              "       1, 3, 3, 2, 5, 1, 4, 1, 4])"
            ]
          },
          "metadata": {},
          "execution_count": 22
        }
      ]
    },
    {
      "cell_type": "code",
      "source": [
        "abc = preds1.astype(int).flatten()"
      ],
      "metadata": {
        "id": "H4WEmM60NfQn"
      },
      "execution_count": 23,
      "outputs": []
    },
    {
      "cell_type": "code",
      "source": [
        "from sklearn.metrics import confusion_matrix\n",
        "c = confusion_matrix(new_Ytest, abc) \n",
        "c"
      ],
      "metadata": {
        "colab": {
          "base_uri": "https://localhost:8080/"
        },
        "id": "bKEBeEBlFjB8",
        "outputId": "811d4803-1ef4-42ed-bf10-4cc8a1ebf3fa"
      },
      "execution_count": 24,
      "outputs": [
        {
          "output_type": "execute_result",
          "data": {
            "text/plain": [
              "array([[11,  3,  1,  3,  0,  0],\n",
              "       [ 0, 37,  1,  2,  1,  0],\n",
              "       [ 1,  4, 37,  1,  1,  1],\n",
              "       [ 1,  2,  1, 26,  0,  1],\n",
              "       [ 1,  0,  0,  3, 29,  0],\n",
              "       [ 0,  0,  5,  7,  0, 27]])"
            ]
          },
          "metadata": {},
          "execution_count": 24
        }
      ]
    },
    {
      "cell_type": "code",
      "source": [
        "y_test"
      ],
      "metadata": {
        "colab": {
          "base_uri": "https://localhost:8080/"
        },
        "id": "m4RjG7LWLSQx",
        "outputId": "8f1537f5-02b6-40f3-ee6a-ddb2a7d10160"
      },
      "execution_count": 25,
      "outputs": [
        {
          "output_type": "execute_result",
          "data": {
            "text/plain": [
              "array([3, 3, 3, 0, 4, 4, 1, 2, 5, 0, 5, 3, 2, 2, 1, 4, 4, 5, 2, 4, 1, 2,\n",
              "       3, 5, 4, 2, 1, 2, 2, 2, 2, 5, 2, 5, 3, 1, 2, 0, 4, 5, 2, 3, 2, 2,\n",
              "       5, 2, 0, 1, 3, 4, 4, 5, 1, 1, 4, 4, 5, 1, 1, 1, 0, 1, 5, 0, 4, 1,\n",
              "       1, 0, 1, 4, 1, 0, 4, 1, 3, 1, 2, 2, 1, 2, 3, 0, 5, 3, 5, 5, 2, 4,\n",
              "       5, 1, 5, 1, 5, 3, 4, 1, 4, 1, 5, 4, 5, 1, 2, 1, 1, 5, 1, 3, 2, 5,\n",
              "       2, 1, 3, 5, 4, 4, 0, 0, 3, 1, 2, 2, 3, 5, 1, 5, 3, 4, 2, 2, 0, 2,\n",
              "       2, 5, 5, 0, 3, 3, 2, 2, 0, 3, 4, 0, 4, 2, 4, 5, 4, 1, 5, 3, 2, 2,\n",
              "       5, 4, 3, 3, 4, 3, 3, 4, 1, 5, 2, 3, 2, 2, 0, 2, 1, 3, 1, 2, 2, 5,\n",
              "       5, 1, 4, 2, 2, 1, 1, 3, 3, 5, 5, 2, 5, 1, 5, 0, 3, 3, 0, 5, 1, 4,\n",
              "       1, 4, 2, 5, 5, 1, 4, 2, 4])"
            ]
          },
          "metadata": {},
          "execution_count": 25
        }
      ]
    },
    {
      "cell_type": "code",
      "source": [
        "loss, acc =model.evaluate(x_testcnn, y_test)\n",
        "print(\"Restored model, accuracy: {:5.2f}%\".format(100*acc))"
      ],
      "metadata": {
        "colab": {
          "base_uri": "https://localhost:8080/"
        },
        "id": "n3kzoqPkDqqS",
        "outputId": "d6fcb1c3-d2fe-4bb2-bd51-10d312e3f969"
      },
      "execution_count": 26,
      "outputs": [
        {
          "output_type": "stream",
          "name": "stdout",
          "text": [
            "7/7 [==============================] - 0s 3ms/step - loss: 0.5216 - accuracy: 0.8068\n",
            "Restored model, accuracy: 80.68%\n"
          ]
        }
      ]
    },
    {
      "cell_type": "code",
      "source": [
        "loss, acc =model.evaluate(X_train, y_train)\n",
        "print(\"Restored model train, accuracy: {:5.2f}%\".format(100*acc))"
      ],
      "metadata": {
        "id": "fJDTGH_OUX0z",
        "colab": {
          "base_uri": "https://localhost:8080/"
        },
        "outputId": "d4816485-cc80-4bae-de9c-2ab3db4b2eca"
      },
      "execution_count": 27,
      "outputs": [
        {
          "output_type": "stream",
          "name": "stdout",
          "text": [
            "52/52 [==============================] - 0s 4ms/step - loss: 0.1265 - accuracy: 0.9849\n",
            "Restored model train, accuracy: 98.49%\n"
          ]
        }
      ]
    },
    {
      "cell_type": "code",
      "source": [
        "from sklearn.metrics import classification_report, confusion_matrix,accuracy_score\n",
        "import seaborn as sn\n",
        "\n",
        "print(classification_report(new_Ytest,abc))\n",
        "\n",
        "acc = float(accuracy_score(new_Ytest,abc))*100\n",
        "print(\"----accuracy score %s ----\" % acc)\n",
        "\n",
        "cm = confusion_matrix(new_Ytest,abc)\n",
        "#df_cm = pd.DataFrame(cm)\n",
        "class_names = ['neutral','calm', 'happy','sad','angry', 'fearful' ]\n",
        "df_cm = pd.DataFrame(cm, index=class_names, columns=class_names,)\n",
        "sn.heatmap(df_cm, annot=True, fmt='')\n",
        "plt.show()"
      ],
      "metadata": {
        "colab": {
          "base_uri": "https://localhost:8080/",
          "height": 508
        },
        "id": "SfSC3El94LZg",
        "outputId": "c203d270-81a8-44fa-98e5-46967e716129"
      },
      "execution_count": 28,
      "outputs": [
        {
          "output_type": "stream",
          "name": "stdout",
          "text": [
            "              precision    recall  f1-score   support\n",
            "\n",
            "           0       0.79      0.61      0.69        18\n",
            "           1       0.80      0.90      0.85        41\n",
            "           2       0.82      0.82      0.82        45\n",
            "           3       0.62      0.84      0.71        31\n",
            "           4       0.94      0.88      0.91        33\n",
            "           5       0.93      0.69      0.79        39\n",
            "\n",
            "    accuracy                           0.81       207\n",
            "   macro avg       0.82      0.79      0.80       207\n",
            "weighted avg       0.82      0.81      0.81       207\n",
            "\n",
            "----accuracy score 80.67632850241546 ----\n"
          ]
        },
        {
          "output_type": "display_data",
          "data": {
            "text/plain": [
              "<Figure size 432x288 with 2 Axes>"
            ],
            "image/png": "[encoded data removed]"
          },
          "metadata": {
            "needs_background": "light"
          }
        }
      ]
    }
  ]
}