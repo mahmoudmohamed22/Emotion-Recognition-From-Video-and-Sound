{
  "nbformat": 4,
  "nbformat_minor": 0,
  "metadata": {
    "colab": {
      "name": "original_adam_0.00002_without decay_500_4.ipynb",
      "provenance": [],
      "collapsed_sections": []
    },
    "kernelspec": {
      "name": "python3",
      "display_name": "Python 3"
    },
    "language_info": {
      "name": "python"
    },
    "accelerator": "GPU"
  },
  "cells": [
    {
      "cell_type": "code",
      "execution_count": 1,
      "metadata": {
        "colab": {
          "base_uri": "https://localhost:8080/"
        },
        "id": "9SRCO-a_AlH5",
        "outputId": "ceb6f24c-8e5f-462b-dce8-0296c3f5d519"
      },
      "outputs": [
        {
          "output_type": "stream",
          "name": "stdout",
          "text": [
            "Drive already mounted at /content/drive; to attempt to forcibly remount, call drive.mount(\"/content/drive\", force_remount=True).\n"
          ]
        }
      ],
      "source": [
        "from google.colab import drive\n",
        "drive.mount('/content/drive')"
      ]
    },
    {
      "cell_type": "code",
      "source": [
        "!pip install librosa"
      ],
      "metadata": {
        "colab": {
          "base_uri": "https://localhost:8080/"
        },
        "id": "5Lo4mUwG9RMd",
        "outputId": "5da823e0-3262-4fdd-ea65-9239806a050c"
      },
      "execution_count": 2,
      "outputs": [
        {
          "output_type": "stream",
          "name": "stdout",
          "text": [
            "Looking in indexes: https://pypi.org/simple, https://us-python.pkg.dev/colab-wheels/public/simple/\n",
            "Requirement already satisfied: librosa in /usr/local/lib/python3.7/dist-packages (0.8.1)\n",
            "Requirement already satisfied: resampy>=0.2.2 in /usr/local/lib/python3.7/dist-packages (from librosa) (0.2.2)\n",
            "Requirement already satisfied: packaging>=20.0 in /usr/local/lib/python3.7/dist-packages (from librosa) (21.3)\n",
            "Requirement already satisfied: joblib>=0.14 in /usr/local/lib/python3.7/dist-packages (from librosa) (1.1.0)\n",
            "Requirement already satisfied: decorator>=3.0.0 in /usr/local/lib/python3.7/dist-packages (from librosa) (4.4.2)\n",
            "Requirement already satisfied: scipy>=1.0.0 in /usr/local/lib/python3.7/dist-packages (from librosa) (1.4.1)\n",
            "Requirement already satisfied: pooch>=1.0 in /usr/local/lib/python3.7/dist-packages (from librosa) (1.6.0)\n",
            "Requirement already satisfied: scikit-learn!=0.19.0,>=0.14.0 in /usr/local/lib/python3.7/dist-packages (from librosa) (1.0.2)\n",
            "Requirement already satisfied: audioread>=2.0.0 in /usr/local/lib/python3.7/dist-packages (from librosa) (2.1.9)\n",
            "Requirement already satisfied: numpy>=1.15.0 in /usr/local/lib/python3.7/dist-packages (from librosa) (1.21.6)\n",
            "Requirement already satisfied: numba>=0.43.0 in /usr/local/lib/python3.7/dist-packages (from librosa) (0.51.2)\n",
            "Requirement already satisfied: soundfile>=0.10.2 in /usr/local/lib/python3.7/dist-packages (from librosa) (0.10.3.post1)\n",
            "Requirement already satisfied: setuptools in /usr/local/lib/python3.7/dist-packages (from numba>=0.43.0->librosa) (57.4.0)\n",
            "Requirement already satisfied: llvmlite<0.35,>=0.34.0.dev0 in /usr/local/lib/python3.7/dist-packages (from numba>=0.43.0->librosa) (0.34.0)\n",
            "Requirement already satisfied: pyparsing!=3.0.5,>=2.0.2 in /usr/local/lib/python3.7/dist-packages (from packaging>=20.0->librosa) (3.0.9)\n",
            "Requirement already satisfied: requests>=2.19.0 in /usr/local/lib/python3.7/dist-packages (from pooch>=1.0->librosa) (2.23.0)\n",
            "Requirement already satisfied: appdirs>=1.3.0 in /usr/local/lib/python3.7/dist-packages (from pooch>=1.0->librosa) (1.4.4)\n",
            "Requirement already satisfied: idna<3,>=2.5 in /usr/local/lib/python3.7/dist-packages (from requests>=2.19.0->pooch>=1.0->librosa) (2.10)\n",
            "Requirement already satisfied: urllib3!=1.25.0,!=1.25.1,<1.26,>=1.21.1 in /usr/local/lib/python3.7/dist-packages (from requests>=2.19.0->pooch>=1.0->librosa) (1.24.3)\n",
            "Requirement already satisfied: chardet<4,>=3.0.2 in /usr/local/lib/python3.7/dist-packages (from requests>=2.19.0->pooch>=1.0->librosa) (3.0.4)\n",
            "Requirement already satisfied: certifi>=2017.4.17 in /usr/local/lib/python3.7/dist-packages (from requests>=2.19.0->pooch>=1.0->librosa) (2022.5.18.1)\n",
            "Requirement already satisfied: six>=1.3 in /usr/local/lib/python3.7/dist-packages (from resampy>=0.2.2->librosa) (1.15.0)\n",
            "Requirement already satisfied: threadpoolctl>=2.0.0 in /usr/local/lib/python3.7/dist-packages (from scikit-learn!=0.19.0,>=0.14.0->librosa) (3.1.0)\n",
            "Requirement already satisfied: cffi>=1.0 in /usr/local/lib/python3.7/dist-packages (from soundfile>=0.10.2->librosa) (1.15.0)\n",
            "Requirement already satisfied: pycparser in /usr/local/lib/python3.7/dist-packages (from cffi>=1.0->soundfile>=0.10.2->librosa) (2.21)\n"
          ]
        }
      ]
    },
    {
      "cell_type": "code",
      "metadata": {
        "id": "HJjcbxwy46bG",
        "colab": {
          "base_uri": "https://localhost:8080/",
          "height": 17
        },
        "outputId": "6090e4ea-6baf-4e56-9886-1281a8bb77da"
      },
      "source": [
        "# Orignial Notebook: https://github.com/MITESHPUTHRANNEU/Speech-Emotion-Analyzer/blob/master/final_results_gender_test.ipynb\n",
        "# This notebook author: Reza Chu\n",
        "# Last Editing Date: 31st May 2019\n",
        "\n",
        "## Python\n",
        "import os\n",
        "import random\n",
        "import sys\n",
        "\n",
        "import IPython\n",
        "from IPython.display import Audio\n",
        "from IPython.display import Image\n",
        "import matplotlib.pyplot as plt\n",
        "\n",
        "## Package\n",
        "import glob \n",
        "import keras\n",
        "import IPython.display as ipd\n",
        "import librosa\n",
        "import librosa.display\n",
        "import matplotlib.pyplot as plt\n",
        "import numpy as np\n",
        "import pandas as pd\n",
        "import plotly.graph_objs as go\n",
        "import plotly.offline as py\n",
        "import plotly.tools as tls\n",
        "import seaborn as sns\n",
        "import scipy.io.wavfile\n",
        "import tensorflow as tf\n",
        "py.init_notebook_mode(connected=True)\n",
        "\n",
        "## Keras\n",
        "from keras import regularizers\n",
        "from keras.callbacks import ModelCheckpoint, LearningRateScheduler, EarlyStopping\n",
        "from keras.callbacks import  History, ReduceLROnPlateau, CSVLogger\n",
        "from keras.models import Model, Sequential\n",
        "from keras.layers import Dense, Embedding, LSTM\n",
        "from keras.layers import Input, Flatten, Dropout, Activation, BatchNormalization\n",
        "from keras.layers import Conv1D, MaxPooling1D, AveragePooling1D\n",
        "from keras.preprocessing import sequence\n",
        "from keras.preprocessing.sequence import pad_sequences\n",
        "from keras.preprocessing.text import Tokenizer\n",
        "from keras.utils import np_utils\n",
        "from tensorflow.keras.utils import to_categorical\n",
        "\n",
        "## Sklearn\n",
        "from sklearn.metrics import confusion_matrix\n",
        "from sklearn.preprocessing import LabelEncoder\n",
        "\n",
        "## Rest\n",
        "from scipy.fftpack import fft\n",
        "from scipy import signal\n",
        "from scipy.io import wavfile\n",
        "from tqdm import tqdm\n",
        "\n",
        "input_duration=3\n",
        "# % pylab inline"
      ],
      "execution_count": 3,
      "outputs": [
        {
          "output_type": "display_data",
          "data": {
            "text/html": [
              "        <script type=\"text/javascript\">\n",
              "        window.PlotlyConfig = {MathJaxConfig: 'local'};\n",
              "        if (window.MathJax) {MathJax.Hub.Config({SVG: {font: \"STIX-Web\"}});}\n",
              "        if (typeof require !== 'undefined') {\n",
              "        require.undef(\"plotly\");\n",
              "        requirejs.config({\n",
              "            paths: {\n",
              "                'plotly': ['https://cdn.plot.ly/plotly-2.8.3.min']\n",
              "            }\n",
              "        });\n",
              "        require(['plotly'], function(Plotly) {\n",
              "            window._Plotly = Plotly;\n",
              "        });\n",
              "        }\n",
              "        </script>\n",
              "        "
            ]
          },
          "metadata": {}
        }
      ]
    },
    {
      "cell_type": "code",
      "source": [
        "# # Saving joblib files to not load them again with the loop above\n",
        "\n",
        "# import joblib\n",
        "\n",
        "# X_name = 'x.joblib'\n",
        "# y_name = 'y.joblib'\n",
        "# save_dir = '/content/drive/My Drive/graduation project/audio/paper_code/features'\n",
        "\n",
        "# savedX = joblib.dump(X, os.path.join(save_dir, X_name))\n",
        "# savedy = joblib.dump(y, os.path.join(save_dir, y_name))"
      ],
      "metadata": {
        "id": "UCzic8rlDcuk"
      },
      "execution_count": 4,
      "outputs": []
    },
    {
      "cell_type": "code",
      "source": [
        "# # Loading saved models\n",
        "import joblib\n",
        "X = joblib.load('/content/drive/My Drive/graduation project/audio/paper_code/features/x.joblib')\n",
        "y = joblib.load('/content/drive/My Drive/graduation project/audio/paper_code/features/y.joblib')"
      ],
      "metadata": {
        "id": "Q35CN6zDrzg1"
      },
      "execution_count": 5,
      "outputs": []
    },
    {
      "cell_type": "code",
      "source": [
        "X.shape"
      ],
      "metadata": {
        "colab": {
          "base_uri": "https://localhost:8080/"
        },
        "id": "7PSTurzjCo5K",
        "outputId": "491612bb-df63-47f8-fec4-90ba648272c6"
      },
      "execution_count": 6,
      "outputs": [
        {
          "output_type": "execute_result",
          "data": {
            "text/plain": [
              "(2068, 40)"
            ]
          },
          "metadata": {},
          "execution_count": 6
        }
      ]
    },
    {
      "cell_type": "code",
      "source": [
        "from sklearn.model_selection import train_test_split\n",
        "\n",
        "X_train, X_test, y_train, y_test = train_test_split(X,y, test_size=0.1 ,shuffle = True\n",
        "                                                    , random_state=42)\n",
        "X_train , X_valid, y_train, y_valid = train_test_split(X_train,y_train, test_size=0.1112305212 , shuffle = True \n",
        "                                                       , random_state=42)"
      ],
      "metadata": {
        "id": "Ai4Fy5cPCiq1"
      },
      "execution_count": 7,
      "outputs": []
    },
    {
      "cell_type": "code",
      "source": [
        "import numpy as np\n",
        "x_traincnn = np.expand_dims(X_train, axis=2)\n",
        "x_testcnn = np.expand_dims(X_test, axis=2)\n",
        "X_valid= np.expand_dims(X_valid, axis=2)"
      ],
      "metadata": {
        "id": "tp1Fm5K3CEXu"
      },
      "execution_count": 8,
      "outputs": []
    },
    {
      "cell_type": "code",
      "source": [
        "x_traincnn.shape, x_testcnn.shape , X_valid.shape\n",
        "#1861"
      ],
      "metadata": {
        "id": "RI0MxoIPBws5",
        "colab": {
          "base_uri": "https://localhost:8080/"
        },
        "outputId": "2eb10c73-cdc1-4071-8e51-ea14f888a38a"
      },
      "execution_count": 9,
      "outputs": [
        {
          "output_type": "execute_result",
          "data": {
            "text/plain": [
              "((1654, 40, 1), (207, 40, 1), (207, 40, 1))"
            ]
          },
          "metadata": {},
          "execution_count": 9
        }
      ]
    },
    {
      "cell_type": "code",
      "source": [
        "!pip install tensorflow"
      ],
      "metadata": {
        "colab": {
          "base_uri": "https://localhost:8080/"
        },
        "id": "oALhiMUd9G2Y",
        "outputId": "148b7ade-831c-4fbc-f974-f90f84deb744"
      },
      "execution_count": 10,
      "outputs": [
        {
          "output_type": "stream",
          "name": "stdout",
          "text": [
            "Looking in indexes: https://pypi.org/simple, https://us-python.pkg.dev/colab-wheels/public/simple/\n",
            "Requirement already satisfied: tensorflow in /usr/local/lib/python3.7/dist-packages (2.8.2+zzzcolab20220527125636)\n",
            "Requirement already satisfied: numpy>=1.20 in /usr/local/lib/python3.7/dist-packages (from tensorflow) (1.21.6)\n",
            "Requirement already satisfied: wrapt>=1.11.0 in /usr/local/lib/python3.7/dist-packages (from tensorflow) (1.14.1)\n",
            "Requirement already satisfied: setuptools in /usr/local/lib/python3.7/dist-packages (from tensorflow) (57.4.0)\n",
            "Requirement already satisfied: tensorflow-estimator<2.9,>=2.8 in /usr/local/lib/python3.7/dist-packages (from tensorflow) (2.8.0)\n",
            "Requirement already satisfied: absl-py>=0.4.0 in /usr/local/lib/python3.7/dist-packages (from tensorflow) (1.0.0)\n",
            "Requirement already satisfied: flatbuffers>=1.12 in /usr/local/lib/python3.7/dist-packages (from tensorflow) (2.0)\n",
            "Requirement already satisfied: grpcio<2.0,>=1.24.3 in /usr/local/lib/python3.7/dist-packages (from tensorflow) (1.46.3)\n",
            "Requirement already satisfied: opt-einsum>=2.3.2 in /usr/local/lib/python3.7/dist-packages (from tensorflow) (3.3.0)\n",
            "Requirement already satisfied: protobuf<3.20,>=3.9.2 in /usr/local/lib/python3.7/dist-packages (from tensorflow) (3.17.3)\n",
            "Requirement already satisfied: h5py>=2.9.0 in /usr/local/lib/python3.7/dist-packages (from tensorflow) (3.1.0)\n",
            "Requirement already satisfied: keras<2.9,>=2.8.0rc0 in /usr/local/lib/python3.7/dist-packages (from tensorflow) (2.8.0)\n",
            "Requirement already satisfied: gast>=0.2.1 in /usr/local/lib/python3.7/dist-packages (from tensorflow) (0.5.3)\n",
            "Requirement already satisfied: keras-preprocessing>=1.1.1 in /usr/local/lib/python3.7/dist-packages (from tensorflow) (1.1.2)\n",
            "Requirement already satisfied: termcolor>=1.1.0 in /usr/local/lib/python3.7/dist-packages (from tensorflow) (1.1.0)\n",
            "Requirement already satisfied: tensorflow-io-gcs-filesystem>=0.23.1 in /usr/local/lib/python3.7/dist-packages (from tensorflow) (0.26.0)\n",
            "Requirement already satisfied: tensorboard<2.9,>=2.8 in /usr/local/lib/python3.7/dist-packages (from tensorflow) (2.8.0)\n",
            "Requirement already satisfied: astunparse>=1.6.0 in /usr/local/lib/python3.7/dist-packages (from tensorflow) (1.6.3)\n",
            "Requirement already satisfied: google-pasta>=0.1.1 in /usr/local/lib/python3.7/dist-packages (from tensorflow) (0.2.0)\n",
            "Requirement already satisfied: libclang>=9.0.1 in /usr/local/lib/python3.7/dist-packages (from tensorflow) (14.0.1)\n",
            "Requirement already satisfied: typing-extensions>=3.6.6 in /usr/local/lib/python3.7/dist-packages (from tensorflow) (4.2.0)\n",
            "Requirement already satisfied: six>=1.12.0 in /usr/local/lib/python3.7/dist-packages (from tensorflow) (1.15.0)\n",
            "Requirement already satisfied: wheel<1.0,>=0.23.0 in /usr/local/lib/python3.7/dist-packages (from astunparse>=1.6.0->tensorflow) (0.37.1)\n",
            "Requirement already satisfied: cached-property in /usr/local/lib/python3.7/dist-packages (from h5py>=2.9.0->tensorflow) (1.5.2)\n",
            "Requirement already satisfied: tensorboard-plugin-wit>=1.6.0 in /usr/local/lib/python3.7/dist-packages (from tensorboard<2.9,>=2.8->tensorflow) (1.8.1)\n",
            "Requirement already satisfied: tensorboard-data-server<0.7.0,>=0.6.0 in /usr/local/lib/python3.7/dist-packages (from tensorboard<2.9,>=2.8->tensorflow) (0.6.1)\n",
            "Requirement already satisfied: requests<3,>=2.21.0 in /usr/local/lib/python3.7/dist-packages (from tensorboard<2.9,>=2.8->tensorflow) (2.23.0)\n",
            "Requirement already satisfied: markdown>=2.6.8 in /usr/local/lib/python3.7/dist-packages (from tensorboard<2.9,>=2.8->tensorflow) (3.3.7)\n",
            "Requirement already satisfied: werkzeug>=0.11.15 in /usr/local/lib/python3.7/dist-packages (from tensorboard<2.9,>=2.8->tensorflow) (1.0.1)\n",
            "Requirement already satisfied: google-auth-oauthlib<0.5,>=0.4.1 in /usr/local/lib/python3.7/dist-packages (from tensorboard<2.9,>=2.8->tensorflow) (0.4.6)\n",
            "Requirement already satisfied: google-auth<3,>=1.6.3 in /usr/local/lib/python3.7/dist-packages (from tensorboard<2.9,>=2.8->tensorflow) (1.35.0)\n",
            "Requirement already satisfied: pyasn1-modules>=0.2.1 in /usr/local/lib/python3.7/dist-packages (from google-auth<3,>=1.6.3->tensorboard<2.9,>=2.8->tensorflow) (0.2.8)\n",
            "Requirement already satisfied: cachetools<5.0,>=2.0.0 in /usr/local/lib/python3.7/dist-packages (from google-auth<3,>=1.6.3->tensorboard<2.9,>=2.8->tensorflow) (4.2.4)\n",
            "Requirement already satisfied: rsa<5,>=3.1.4 in /usr/local/lib/python3.7/dist-packages (from google-auth<3,>=1.6.3->tensorboard<2.9,>=2.8->tensorflow) (4.8)\n",
            "Requirement already satisfied: requests-oauthlib>=0.7.0 in /usr/local/lib/python3.7/dist-packages (from google-auth-oauthlib<0.5,>=0.4.1->tensorboard<2.9,>=2.8->tensorflow) (1.3.1)\n",
            "Requirement already satisfied: importlib-metadata>=4.4 in /usr/local/lib/python3.7/dist-packages (from markdown>=2.6.8->tensorboard<2.9,>=2.8->tensorflow) (4.11.4)\n",
            "Requirement already satisfied: zipp>=0.5 in /usr/local/lib/python3.7/dist-packages (from importlib-metadata>=4.4->markdown>=2.6.8->tensorboard<2.9,>=2.8->tensorflow) (3.8.0)\n",
            "Requirement already satisfied: pyasn1<0.5.0,>=0.4.6 in /usr/local/lib/python3.7/dist-packages (from pyasn1-modules>=0.2.1->google-auth<3,>=1.6.3->tensorboard<2.9,>=2.8->tensorflow) (0.4.8)\n",
            "Requirement already satisfied: certifi>=2017.4.17 in /usr/local/lib/python3.7/dist-packages (from requests<3,>=2.21.0->tensorboard<2.9,>=2.8->tensorflow) (2022.5.18.1)\n",
            "Requirement already satisfied: idna<3,>=2.5 in /usr/local/lib/python3.7/dist-packages (from requests<3,>=2.21.0->tensorboard<2.9,>=2.8->tensorflow) (2.10)\n",
            "Requirement already satisfied: urllib3!=1.25.0,!=1.25.1,<1.26,>=1.21.1 in /usr/local/lib/python3.7/dist-packages (from requests<3,>=2.21.0->tensorboard<2.9,>=2.8->tensorflow) (1.24.3)\n",
            "Requirement already satisfied: chardet<4,>=3.0.2 in /usr/local/lib/python3.7/dist-packages (from requests<3,>=2.21.0->tensorboard<2.9,>=2.8->tensorflow) (3.0.4)\n",
            "Requirement already satisfied: oauthlib>=3.0.0 in /usr/local/lib/python3.7/dist-packages (from requests-oauthlib>=0.7.0->google-auth-oauthlib<0.5,>=0.4.1->tensorboard<2.9,>=2.8->tensorflow) (3.2.0)\n"
          ]
        }
      ]
    },
    {
      "cell_type": "code",
      "source": [
        "import keras\n",
        "import numpy as np\n",
        "import matplotlib.pyplot as plt\n",
        "import tensorflow as tf\n",
        "from keras.preprocessing import sequence\n",
        "from keras.models import Sequential\n",
        "from keras.layers import Dense, Embedding\n",
        "from tensorflow.keras.utils import to_categorical\n",
        "from keras.layers import Input, Flatten, Dropout, Activation\n",
        "from keras.layers import Conv1D, MaxPooling1D\n",
        "from keras.models import Model\n",
        "from keras.callbacks import ModelCheckpoint\n",
        "from tensorflow.keras import optimizers\n",
        "\n",
        "model = Sequential()\n",
        "\n",
        "model.add(Conv1D(128, 8,padding='same', #classifier.add(Convolution2D(64, (3, 3), padding = 'same', input_shape = (128, 128, 3), activation = 'relu'))\n",
        "                 input_shape=(40,1)))\n",
        "model.add(Activation('relu'))\n",
        "model.add(Dropout(0.3))\n",
        "model.add(MaxPooling1D(pool_size=(5)))\n",
        "\n",
        "\n",
        "model.add(Conv1D(256,8,padding='same',))\n",
        "model.add(Activation('relu'))\n",
        "model.add(Dropout(0.3))\n",
        "model.add(MaxPooling1D(pool_size=(5)))\n",
        "\n",
        "model.add(Flatten())\n",
        "\n",
        "model.add(Dense(256))\n",
        "model.add(Activation('relu'))\n",
        "model.add(Dense(256))\n",
        "model.add(Activation('relu'))\n",
        "\n",
        "model.add(Dense(6))\n",
        "model.add(Activation('softmax'))\n",
        "\n",
        "opt = tf.keras.optimizers.Adam(lr=0.0002 , decay=0.0)\n",
        "#opt = tf.keras.optimizers.RMSprop(lr=0.0001, rho=0.9, epsilon=1e-07, decay=0.0)\n",
        "#opt = tf.keras.optimizers.SGD(lr=0.001, momentum=0.0, decay=0.0, nesterov=False)"
      ],
      "metadata": {
        "id": "g74fXWVAC4Cr",
        "colab": {
          "base_uri": "https://localhost:8080/"
        },
        "outputId": "9bfbc45b-05af-4557-9b61-159c2db6fa62"
      },
      "execution_count": 11,
      "outputs": [
        {
          "output_type": "stream",
          "name": "stderr",
          "text": [
            "/usr/local/lib/python3.7/dist-packages/keras/optimizer_v2/adam.py:105: UserWarning:\n",
            "\n",
            "The `lr` argument is deprecated, use `learning_rate` instead.\n",
            "\n"
          ]
        }
      ]
    },
    {
      "cell_type": "code",
      "source": [
        "model.summary()"
      ],
      "metadata": {
        "colab": {
          "base_uri": "https://localhost:8080/"
        },
        "id": "H6ukOxAGC_I4",
        "outputId": "e76bc83d-d431-4a97-ec46-445db393f8d0"
      },
      "execution_count": 12,
      "outputs": [
        {
          "output_type": "stream",
          "name": "stdout",
          "text": [
            "Model: \"sequential\"\n",
            "_________________________________________________________________\n",
            " Layer (type)                Output Shape              Param #   \n",
            "=================================================================\n",
            " conv1d (Conv1D)             (None, 40, 128)           1152      \n",
            "                                                                 \n",
            " activation (Activation)     (None, 40, 128)           0         \n",
            "                                                                 \n",
            " dropout (Dropout)           (None, 40, 128)           0         \n",
            "                                                                 \n",
            " max_pooling1d (MaxPooling1D  (None, 8, 128)           0         \n",
            " )                                                               \n",
            "                                                                 \n",
            " conv1d_1 (Conv1D)           (None, 8, 256)            262400    \n",
            "                                                                 \n",
            " activation_1 (Activation)   (None, 8, 256)            0         \n",
            "                                                                 \n",
            " dropout_1 (Dropout)         (None, 8, 256)            0         \n",
            "                                                                 \n",
            " max_pooling1d_1 (MaxPooling  (None, 1, 256)           0         \n",
            " 1D)                                                             \n",
            "                                                                 \n",
            " flatten (Flatten)           (None, 256)               0         \n",
            "                                                                 \n",
            " dense (Dense)               (None, 256)               65792     \n",
            "                                                                 \n",
            " activation_2 (Activation)   (None, 256)               0         \n",
            "                                                                 \n",
            " dense_1 (Dense)             (None, 256)               65792     \n",
            "                                                                 \n",
            " activation_3 (Activation)   (None, 256)               0         \n",
            "                                                                 \n",
            " dense_2 (Dense)             (None, 6)                 1542      \n",
            "                                                                 \n",
            " activation_4 (Activation)   (None, 6)                 0         \n",
            "                                                                 \n",
            "=================================================================\n",
            "Total params: 396,678\n",
            "Trainable params: 396,678\n",
            "Non-trainable params: 0\n",
            "_________________________________________________________________\n"
          ]
        }
      ]
    },
    {
      "cell_type": "code",
      "source": [
        "model.compile(loss='sparse_categorical_crossentropy',\n",
        "              optimizer=opt,\n",
        "              metrics=['accuracy'])"
      ],
      "metadata": {
        "id": "AbMlLNk4DCBM"
      },
      "execution_count": 13,
      "outputs": []
    },
    {
      "cell_type": "code",
      "source": [
        "# Create an Instance of Early Stopping Callback.\n",
        "early_stopping_callback = EarlyStopping(monitor = 'val_loss', patience = 25, mode = 'min', restore_best_weights = True)\n",
        "\n",
        "cnnhistory=model.fit(x_traincnn, y_train, batch_size=16, epochs=500 , shuffle = True, \n",
        "                     validation_data=(X_valid, y_valid) , callbacks = [early_stopping_callback])"
      ],
      "metadata": {
        "colab": {
          "base_uri": "https://localhost:8080/"
        },
        "id": "RI1v2AuADFhy",
        "outputId": "5acef046-a33e-4583-a251-ef4d3667b7ac"
      },
      "execution_count": 14,
      "outputs": [
        {
          "output_type": "stream",
          "name": "stdout",
          "text": [
            "Epoch 1/500\n",
            "104/104 [==============================] - 4s 7ms/step - loss: 4.4381 - accuracy: 0.1917 - val_loss: 1.8493 - val_accuracy: 0.1546\n",
            "Epoch 2/500\n",
            "104/104 [==============================] - 0s 4ms/step - loss: 2.3989 - accuracy: 0.2158 - val_loss: 1.9175 - val_accuracy: 0.1884\n",
            "Epoch 3/500\n",
            "104/104 [==============================] - 0s 4ms/step - loss: 2.1522 - accuracy: 0.2098 - val_loss: 1.7669 - val_accuracy: 0.1981\n",
            "Epoch 4/500\n",
            "104/104 [==============================] - 0s 4ms/step - loss: 2.0092 - accuracy: 0.2183 - val_loss: 1.7053 - val_accuracy: 0.3092\n",
            "Epoch 5/500\n",
            "104/104 [==============================] - 1s 5ms/step - loss: 1.9107 - accuracy: 0.2140 - val_loss: 1.7053 - val_accuracy: 0.2560\n",
            "Epoch 6/500\n",
            "104/104 [==============================] - 1s 6ms/step - loss: 1.8483 - accuracy: 0.2358 - val_loss: 1.7346 - val_accuracy: 0.3140\n",
            "Epoch 7/500\n",
            "104/104 [==============================] - 1s 7ms/step - loss: 1.8087 - accuracy: 0.2400 - val_loss: 1.7140 - val_accuracy: 0.3430\n",
            "Epoch 8/500\n",
            "104/104 [==============================] - 1s 8ms/step - loss: 1.7608 - accuracy: 0.2582 - val_loss: 1.6510 - val_accuracy: 0.4010\n",
            "Epoch 9/500\n",
            "104/104 [==============================] - 1s 8ms/step - loss: 1.7543 - accuracy: 0.2703 - val_loss: 1.6816 - val_accuracy: 0.2899\n",
            "Epoch 10/500\n",
            "104/104 [==============================] - 1s 7ms/step - loss: 1.7367 - accuracy: 0.2636 - val_loss: 1.6223 - val_accuracy: 0.3382\n",
            "Epoch 11/500\n",
            "104/104 [==============================] - 1s 7ms/step - loss: 1.6826 - accuracy: 0.2823 - val_loss: 1.6329 - val_accuracy: 0.3478\n",
            "Epoch 12/500\n",
            "104/104 [==============================] - 1s 7ms/step - loss: 1.6742 - accuracy: 0.2944 - val_loss: 1.6311 - val_accuracy: 0.3575\n",
            "Epoch 13/500\n",
            "104/104 [==============================] - 1s 7ms/step - loss: 1.6666 - accuracy: 0.3017 - val_loss: 1.6080 - val_accuracy: 0.3527\n",
            "Epoch 14/500\n",
            "104/104 [==============================] - 1s 7ms/step - loss: 1.6264 - accuracy: 0.3301 - val_loss: 1.6092 - val_accuracy: 0.3671\n",
            "Epoch 15/500\n",
            "104/104 [==============================] - 1s 8ms/step - loss: 1.5989 - accuracy: 0.3271 - val_loss: 1.5559 - val_accuracy: 0.3333\n",
            "Epoch 16/500\n",
            "104/104 [==============================] - 1s 7ms/step - loss: 1.5866 - accuracy: 0.3229 - val_loss: 1.5711 - val_accuracy: 0.3575\n",
            "Epoch 17/500\n",
            "104/104 [==============================] - 1s 8ms/step - loss: 1.5633 - accuracy: 0.3543 - val_loss: 1.5379 - val_accuracy: 0.3865\n",
            "Epoch 18/500\n",
            "104/104 [==============================] - 1s 7ms/step - loss: 1.5434 - accuracy: 0.3609 - val_loss: 1.4942 - val_accuracy: 0.4010\n",
            "Epoch 19/500\n",
            "104/104 [==============================] - 1s 8ms/step - loss: 1.5023 - accuracy: 0.3797 - val_loss: 1.4675 - val_accuracy: 0.4203\n",
            "Epoch 20/500\n",
            "104/104 [==============================] - 1s 7ms/step - loss: 1.4789 - accuracy: 0.3628 - val_loss: 1.4613 - val_accuracy: 0.4251\n",
            "Epoch 21/500\n",
            "104/104 [==============================] - 1s 7ms/step - loss: 1.4468 - accuracy: 0.3942 - val_loss: 1.4188 - val_accuracy: 0.4348\n",
            "Epoch 22/500\n",
            "104/104 [==============================] - 1s 7ms/step - loss: 1.4427 - accuracy: 0.3930 - val_loss: 1.4040 - val_accuracy: 0.4396\n",
            "Epoch 23/500\n",
            "104/104 [==============================] - 1s 7ms/step - loss: 1.4238 - accuracy: 0.4172 - val_loss: 1.3776 - val_accuracy: 0.4686\n",
            "Epoch 24/500\n",
            "104/104 [==============================] - 1s 8ms/step - loss: 1.3925 - accuracy: 0.4208 - val_loss: 1.3314 - val_accuracy: 0.4831\n",
            "Epoch 25/500\n",
            "104/104 [==============================] - 1s 7ms/step - loss: 1.3428 - accuracy: 0.4547 - val_loss: 1.3436 - val_accuracy: 0.4541\n",
            "Epoch 26/500\n",
            "104/104 [==============================] - 1s 8ms/step - loss: 1.3232 - accuracy: 0.4607 - val_loss: 1.3038 - val_accuracy: 0.4589\n",
            "Epoch 27/500\n",
            "104/104 [==============================] - 1s 7ms/step - loss: 1.3139 - accuracy: 0.4347 - val_loss: 1.2700 - val_accuracy: 0.5362\n",
            "Epoch 28/500\n",
            "104/104 [==============================] - 1s 8ms/step - loss: 1.2974 - accuracy: 0.4565 - val_loss: 1.2766 - val_accuracy: 0.4638\n",
            "Epoch 29/500\n",
            "104/104 [==============================] - 1s 8ms/step - loss: 1.2699 - accuracy: 0.4734 - val_loss: 1.2304 - val_accuracy: 0.5700\n",
            "Epoch 30/500\n",
            "104/104 [==============================] - 1s 8ms/step - loss: 1.2286 - accuracy: 0.4897 - val_loss: 1.1724 - val_accuracy: 0.5314\n",
            "Epoch 31/500\n",
            "104/104 [==============================] - 1s 7ms/step - loss: 1.2227 - accuracy: 0.4933 - val_loss: 1.1998 - val_accuracy: 0.5266\n",
            "Epoch 32/500\n",
            "104/104 [==============================] - 1s 7ms/step - loss: 1.2071 - accuracy: 0.5073 - val_loss: 1.1700 - val_accuracy: 0.5507\n",
            "Epoch 33/500\n",
            "104/104 [==============================] - 1s 7ms/step - loss: 1.1900 - accuracy: 0.5085 - val_loss: 1.2005 - val_accuracy: 0.5604\n",
            "Epoch 34/500\n",
            "104/104 [==============================] - 1s 7ms/step - loss: 1.1523 - accuracy: 0.5181 - val_loss: 1.1359 - val_accuracy: 0.5411\n",
            "Epoch 35/500\n",
            "104/104 [==============================] - 0s 4ms/step - loss: 1.1487 - accuracy: 0.5326 - val_loss: 1.1854 - val_accuracy: 0.5072\n",
            "Epoch 36/500\n",
            "104/104 [==============================] - 0s 4ms/step - loss: 1.1594 - accuracy: 0.5121 - val_loss: 1.1490 - val_accuracy: 0.5411\n",
            "Epoch 37/500\n",
            "104/104 [==============================] - 0s 4ms/step - loss: 1.1096 - accuracy: 0.5459 - val_loss: 1.0818 - val_accuracy: 0.5797\n",
            "Epoch 38/500\n",
            "104/104 [==============================] - 0s 5ms/step - loss: 1.0967 - accuracy: 0.5459 - val_loss: 1.0457 - val_accuracy: 0.5894\n",
            "Epoch 39/500\n",
            "104/104 [==============================] - 0s 4ms/step - loss: 1.0807 - accuracy: 0.5586 - val_loss: 1.0813 - val_accuracy: 0.5362\n",
            "Epoch 40/500\n",
            "104/104 [==============================] - 0s 4ms/step - loss: 1.0862 - accuracy: 0.5556 - val_loss: 1.0806 - val_accuracy: 0.5845\n",
            "Epoch 41/500\n",
            "104/104 [==============================] - 0s 4ms/step - loss: 1.0785 - accuracy: 0.5423 - val_loss: 1.0289 - val_accuracy: 0.6280\n",
            "Epoch 42/500\n",
            "104/104 [==============================] - 0s 4ms/step - loss: 1.0457 - accuracy: 0.5635 - val_loss: 1.0394 - val_accuracy: 0.6280\n",
            "Epoch 43/500\n",
            "104/104 [==============================] - 0s 4ms/step - loss: 1.0292 - accuracy: 0.5762 - val_loss: 0.9904 - val_accuracy: 0.6425\n",
            "Epoch 44/500\n",
            "104/104 [==============================] - 0s 4ms/step - loss: 1.0213 - accuracy: 0.5895 - val_loss: 0.9957 - val_accuracy: 0.6667\n",
            "Epoch 45/500\n",
            "104/104 [==============================] - 0s 4ms/step - loss: 1.0174 - accuracy: 0.5816 - val_loss: 1.0169 - val_accuracy: 0.6135\n",
            "Epoch 46/500\n",
            "104/104 [==============================] - 0s 4ms/step - loss: 0.9951 - accuracy: 0.5961 - val_loss: 0.9918 - val_accuracy: 0.6377\n",
            "Epoch 47/500\n",
            "104/104 [==============================] - 0s 4ms/step - loss: 1.0090 - accuracy: 0.5816 - val_loss: 0.9713 - val_accuracy: 0.6135\n",
            "Epoch 48/500\n",
            "104/104 [==============================] - 0s 4ms/step - loss: 0.9912 - accuracy: 0.5919 - val_loss: 0.9931 - val_accuracy: 0.6184\n",
            "Epoch 49/500\n",
            "104/104 [==============================] - 0s 5ms/step - loss: 0.9724 - accuracy: 0.5961 - val_loss: 0.9502 - val_accuracy: 0.6667\n",
            "Epoch 50/500\n",
            "104/104 [==============================] - 0s 4ms/step - loss: 0.9685 - accuracy: 0.5943 - val_loss: 0.9533 - val_accuracy: 0.6425\n",
            "Epoch 51/500\n",
            "104/104 [==============================] - 0s 4ms/step - loss: 0.9452 - accuracy: 0.6010 - val_loss: 0.9332 - val_accuracy: 0.6377\n",
            "Epoch 52/500\n",
            "104/104 [==============================] - 0s 4ms/step - loss: 0.9343 - accuracy: 0.6191 - val_loss: 0.9126 - val_accuracy: 0.6184\n",
            "Epoch 53/500\n",
            "104/104 [==============================] - 0s 4ms/step - loss: 0.9371 - accuracy: 0.6258 - val_loss: 0.9348 - val_accuracy: 0.6522\n",
            "Epoch 54/500\n",
            "104/104 [==============================] - 0s 4ms/step - loss: 0.9315 - accuracy: 0.6185 - val_loss: 0.9127 - val_accuracy: 0.6377\n",
            "Epoch 55/500\n",
            "104/104 [==============================] - 0s 4ms/step - loss: 0.9023 - accuracy: 0.6421 - val_loss: 0.9076 - val_accuracy: 0.6618\n",
            "Epoch 56/500\n",
            "104/104 [==============================] - 0s 4ms/step - loss: 0.9051 - accuracy: 0.6294 - val_loss: 0.8971 - val_accuracy: 0.6763\n",
            "Epoch 57/500\n",
            "104/104 [==============================] - 0s 4ms/step - loss: 0.9298 - accuracy: 0.6112 - val_loss: 0.9050 - val_accuracy: 0.6232\n",
            "Epoch 58/500\n",
            "104/104 [==============================] - 0s 4ms/step - loss: 0.8864 - accuracy: 0.6542 - val_loss: 0.9123 - val_accuracy: 0.6667\n",
            "Epoch 59/500\n",
            "104/104 [==============================] - 0s 4ms/step - loss: 0.8969 - accuracy: 0.6312 - val_loss: 0.8554 - val_accuracy: 0.7053\n",
            "Epoch 60/500\n",
            "104/104 [==============================] - 0s 4ms/step - loss: 0.8581 - accuracy: 0.6463 - val_loss: 0.8529 - val_accuracy: 0.6860\n",
            "Epoch 61/500\n",
            "104/104 [==============================] - 0s 4ms/step - loss: 0.8773 - accuracy: 0.6433 - val_loss: 0.8727 - val_accuracy: 0.6957\n",
            "Epoch 62/500\n",
            "104/104 [==============================] - 0s 4ms/step - loss: 0.8494 - accuracy: 0.6487 - val_loss: 0.9397 - val_accuracy: 0.6135\n",
            "Epoch 63/500\n",
            "104/104 [==============================] - 0s 4ms/step - loss: 0.8693 - accuracy: 0.6572 - val_loss: 0.8897 - val_accuracy: 0.6763\n",
            "Epoch 64/500\n",
            "104/104 [==============================] - 0s 5ms/step - loss: 0.8224 - accuracy: 0.6554 - val_loss: 0.8527 - val_accuracy: 0.6570\n",
            "Epoch 65/500\n",
            "104/104 [==============================] - 0s 4ms/step - loss: 0.8420 - accuracy: 0.6536 - val_loss: 0.8305 - val_accuracy: 0.7053\n",
            "Epoch 66/500\n",
            "104/104 [==============================] - 0s 4ms/step - loss: 0.8385 - accuracy: 0.6536 - val_loss: 0.8641 - val_accuracy: 0.6812\n",
            "Epoch 67/500\n",
            "104/104 [==============================] - 0s 4ms/step - loss: 0.8230 - accuracy: 0.6620 - val_loss: 0.8202 - val_accuracy: 0.7101\n",
            "Epoch 68/500\n",
            "104/104 [==============================] - 0s 4ms/step - loss: 0.8214 - accuracy: 0.6620 - val_loss: 0.8465 - val_accuracy: 0.6860\n",
            "Epoch 69/500\n",
            "104/104 [==============================] - 0s 4ms/step - loss: 0.8276 - accuracy: 0.6669 - val_loss: 0.8540 - val_accuracy: 0.6957\n",
            "Epoch 70/500\n",
            "104/104 [==============================] - 0s 5ms/step - loss: 0.8031 - accuracy: 0.6711 - val_loss: 0.8812 - val_accuracy: 0.6329\n",
            "Epoch 71/500\n",
            "104/104 [==============================] - 0s 4ms/step - loss: 0.7761 - accuracy: 0.6832 - val_loss: 0.8297 - val_accuracy: 0.6763\n",
            "Epoch 72/500\n",
            "104/104 [==============================] - 0s 5ms/step - loss: 0.7728 - accuracy: 0.6820 - val_loss: 0.8661 - val_accuracy: 0.6618\n",
            "Epoch 73/500\n",
            "104/104 [==============================] - 0s 4ms/step - loss: 0.7630 - accuracy: 0.6868 - val_loss: 0.8427 - val_accuracy: 0.7198\n",
            "Epoch 74/500\n",
            "104/104 [==============================] - 0s 4ms/step - loss: 0.7924 - accuracy: 0.6699 - val_loss: 0.8019 - val_accuracy: 0.7295\n",
            "Epoch 75/500\n",
            "104/104 [==============================] - 0s 4ms/step - loss: 0.7654 - accuracy: 0.6880 - val_loss: 0.8219 - val_accuracy: 0.6715\n",
            "Epoch 76/500\n",
            "104/104 [==============================] - 0s 4ms/step - loss: 0.7669 - accuracy: 0.6838 - val_loss: 0.7934 - val_accuracy: 0.7246\n",
            "Epoch 77/500\n",
            "104/104 [==============================] - 0s 5ms/step - loss: 0.7462 - accuracy: 0.6953 - val_loss: 0.7984 - val_accuracy: 0.6763\n",
            "Epoch 78/500\n",
            "104/104 [==============================] - 0s 5ms/step - loss: 0.7456 - accuracy: 0.7092 - val_loss: 0.7939 - val_accuracy: 0.7536\n",
            "Epoch 79/500\n",
            "104/104 [==============================] - 0s 5ms/step - loss: 0.7211 - accuracy: 0.7031 - val_loss: 0.7605 - val_accuracy: 0.7343\n",
            "Epoch 80/500\n",
            "104/104 [==============================] - 0s 4ms/step - loss: 0.7079 - accuracy: 0.7122 - val_loss: 0.8089 - val_accuracy: 0.7101\n",
            "Epoch 81/500\n",
            "104/104 [==============================] - 0s 5ms/step - loss: 0.7005 - accuracy: 0.7116 - val_loss: 0.7331 - val_accuracy: 0.7633\n",
            "Epoch 82/500\n",
            "104/104 [==============================] - 0s 5ms/step - loss: 0.6927 - accuracy: 0.7128 - val_loss: 0.7428 - val_accuracy: 0.7295\n",
            "Epoch 83/500\n",
            "104/104 [==============================] - 0s 5ms/step - loss: 0.6992 - accuracy: 0.7086 - val_loss: 0.7506 - val_accuracy: 0.7391\n",
            "Epoch 84/500\n",
            "104/104 [==============================] - 0s 4ms/step - loss: 0.6910 - accuracy: 0.7170 - val_loss: 0.7258 - val_accuracy: 0.7585\n",
            "Epoch 85/500\n",
            "104/104 [==============================] - 1s 5ms/step - loss: 0.6931 - accuracy: 0.7164 - val_loss: 0.7885 - val_accuracy: 0.7198\n",
            "Epoch 86/500\n",
            "104/104 [==============================] - 0s 4ms/step - loss: 0.6750 - accuracy: 0.7400 - val_loss: 0.7381 - val_accuracy: 0.7198\n",
            "Epoch 87/500\n",
            "104/104 [==============================] - 0s 4ms/step - loss: 0.6649 - accuracy: 0.7310 - val_loss: 0.7224 - val_accuracy: 0.7729\n",
            "Epoch 88/500\n",
            "104/104 [==============================] - 0s 5ms/step - loss: 0.6454 - accuracy: 0.7449 - val_loss: 0.7594 - val_accuracy: 0.7005\n",
            "Epoch 89/500\n",
            "104/104 [==============================] - 0s 5ms/step - loss: 0.6616 - accuracy: 0.7310 - val_loss: 0.7741 - val_accuracy: 0.7053\n",
            "Epoch 90/500\n",
            "104/104 [==============================] - 0s 4ms/step - loss: 0.6449 - accuracy: 0.7334 - val_loss: 0.7076 - val_accuracy: 0.7488\n",
            "Epoch 91/500\n",
            "104/104 [==============================] - 0s 4ms/step - loss: 0.6381 - accuracy: 0.7455 - val_loss: 0.7817 - val_accuracy: 0.7053\n",
            "Epoch 92/500\n",
            "104/104 [==============================] - 0s 4ms/step - loss: 0.6502 - accuracy: 0.7316 - val_loss: 0.7484 - val_accuracy: 0.7440\n",
            "Epoch 93/500\n",
            "104/104 [==============================] - 0s 4ms/step - loss: 0.6318 - accuracy: 0.7491 - val_loss: 0.7164 - val_accuracy: 0.7343\n",
            "Epoch 94/500\n",
            "104/104 [==============================] - 0s 5ms/step - loss: 0.6402 - accuracy: 0.7443 - val_loss: 0.7131 - val_accuracy: 0.7536\n",
            "Epoch 95/500\n",
            "104/104 [==============================] - 0s 4ms/step - loss: 0.6232 - accuracy: 0.7443 - val_loss: 0.7106 - val_accuracy: 0.7391\n",
            "Epoch 96/500\n",
            "104/104 [==============================] - 0s 4ms/step - loss: 0.5907 - accuracy: 0.7606 - val_loss: 0.7262 - val_accuracy: 0.7198\n",
            "Epoch 97/500\n",
            "104/104 [==============================] - 0s 4ms/step - loss: 0.6154 - accuracy: 0.7533 - val_loss: 0.7074 - val_accuracy: 0.7536\n",
            "Epoch 98/500\n",
            "104/104 [==============================] - 0s 4ms/step - loss: 0.6021 - accuracy: 0.7545 - val_loss: 0.7445 - val_accuracy: 0.7391\n",
            "Epoch 99/500\n",
            "104/104 [==============================] - 0s 4ms/step - loss: 0.5889 - accuracy: 0.7606 - val_loss: 0.6895 - val_accuracy: 0.7681\n",
            "Epoch 100/500\n",
            "104/104 [==============================] - 0s 4ms/step - loss: 0.5527 - accuracy: 0.7854 - val_loss: 0.7084 - val_accuracy: 0.7391\n",
            "Epoch 101/500\n",
            "104/104 [==============================] - 0s 5ms/step - loss: 0.5653 - accuracy: 0.7739 - val_loss: 0.6809 - val_accuracy: 0.7778\n",
            "Epoch 102/500\n",
            "104/104 [==============================] - 0s 5ms/step - loss: 0.5833 - accuracy: 0.7703 - val_loss: 0.6835 - val_accuracy: 0.7681\n",
            "Epoch 103/500\n",
            "104/104 [==============================] - 0s 4ms/step - loss: 0.5324 - accuracy: 0.7914 - val_loss: 0.7074 - val_accuracy: 0.7729\n",
            "Epoch 104/500\n",
            "104/104 [==============================] - 0s 4ms/step - loss: 0.5832 - accuracy: 0.7648 - val_loss: 0.7038 - val_accuracy: 0.7440\n",
            "Epoch 105/500\n",
            "104/104 [==============================] - 0s 5ms/step - loss: 0.5108 - accuracy: 0.8017 - val_loss: 0.6851 - val_accuracy: 0.7391\n",
            "Epoch 106/500\n",
            "104/104 [==============================] - 0s 4ms/step - loss: 0.5511 - accuracy: 0.7793 - val_loss: 0.7077 - val_accuracy: 0.7536\n",
            "Epoch 107/500\n",
            "104/104 [==============================] - 1s 5ms/step - loss: 0.5215 - accuracy: 0.7860 - val_loss: 0.6881 - val_accuracy: 0.7585\n",
            "Epoch 108/500\n",
            "104/104 [==============================] - 0s 4ms/step - loss: 0.5232 - accuracy: 0.8005 - val_loss: 0.7404 - val_accuracy: 0.7536\n",
            "Epoch 109/500\n",
            "104/104 [==============================] - 0s 4ms/step - loss: 0.5531 - accuracy: 0.7836 - val_loss: 0.7175 - val_accuracy: 0.7295\n",
            "Epoch 110/500\n",
            "104/104 [==============================] - 0s 5ms/step - loss: 0.5237 - accuracy: 0.7944 - val_loss: 0.6964 - val_accuracy: 0.7440\n",
            "Epoch 111/500\n",
            "104/104 [==============================] - 0s 4ms/step - loss: 0.5209 - accuracy: 0.7932 - val_loss: 0.7282 - val_accuracy: 0.7729\n",
            "Epoch 112/500\n",
            "104/104 [==============================] - 0s 5ms/step - loss: 0.5078 - accuracy: 0.7950 - val_loss: 0.6630 - val_accuracy: 0.7826\n",
            "Epoch 113/500\n",
            "104/104 [==============================] - 0s 4ms/step - loss: 0.4876 - accuracy: 0.8071 - val_loss: 0.6663 - val_accuracy: 0.7826\n",
            "Epoch 114/500\n",
            "104/104 [==============================] - 0s 5ms/step - loss: 0.4780 - accuracy: 0.8077 - val_loss: 0.6251 - val_accuracy: 0.7971\n",
            "Epoch 115/500\n",
            "104/104 [==============================] - 0s 4ms/step - loss: 0.5066 - accuracy: 0.7963 - val_loss: 0.6854 - val_accuracy: 0.7826\n",
            "Epoch 116/500\n",
            "104/104 [==============================] - 0s 4ms/step - loss: 0.4949 - accuracy: 0.8114 - val_loss: 0.6430 - val_accuracy: 0.7923\n",
            "Epoch 117/500\n",
            "104/104 [==============================] - 0s 4ms/step - loss: 0.4881 - accuracy: 0.8017 - val_loss: 0.6740 - val_accuracy: 0.7585\n",
            "Epoch 118/500\n",
            "104/104 [==============================] - 0s 4ms/step - loss: 0.4765 - accuracy: 0.8156 - val_loss: 0.6682 - val_accuracy: 0.7585\n",
            "Epoch 119/500\n",
            "104/104 [==============================] - 0s 4ms/step - loss: 0.4594 - accuracy: 0.8235 - val_loss: 0.6654 - val_accuracy: 0.7633\n",
            "Epoch 120/500\n",
            "104/104 [==============================] - 0s 4ms/step - loss: 0.4932 - accuracy: 0.8065 - val_loss: 0.6637 - val_accuracy: 0.7778\n",
            "Epoch 121/500\n",
            "104/104 [==============================] - 0s 4ms/step - loss: 0.5119 - accuracy: 0.8011 - val_loss: 0.6783 - val_accuracy: 0.7874\n",
            "Epoch 122/500\n",
            "104/104 [==============================] - 0s 4ms/step - loss: 0.4643 - accuracy: 0.8283 - val_loss: 0.6563 - val_accuracy: 0.7826\n",
            "Epoch 123/500\n",
            "104/104 [==============================] - 0s 5ms/step - loss: 0.4706 - accuracy: 0.8132 - val_loss: 0.6801 - val_accuracy: 0.7681\n",
            "Epoch 124/500\n",
            "104/104 [==============================] - 0s 5ms/step - loss: 0.4851 - accuracy: 0.8150 - val_loss: 0.6650 - val_accuracy: 0.7681\n",
            "Epoch 125/500\n",
            "104/104 [==============================] - 0s 4ms/step - loss: 0.4338 - accuracy: 0.8331 - val_loss: 0.6267 - val_accuracy: 0.7729\n",
            "Epoch 126/500\n",
            "104/104 [==============================] - 0s 5ms/step - loss: 0.4276 - accuracy: 0.8319 - val_loss: 0.6319 - val_accuracy: 0.7826\n",
            "Epoch 127/500\n",
            "104/104 [==============================] - 1s 5ms/step - loss: 0.4657 - accuracy: 0.8174 - val_loss: 0.6675 - val_accuracy: 0.7826\n",
            "Epoch 128/500\n",
            "104/104 [==============================] - 0s 4ms/step - loss: 0.4111 - accuracy: 0.8392 - val_loss: 0.6623 - val_accuracy: 0.7633\n",
            "Epoch 129/500\n",
            "104/104 [==============================] - 1s 5ms/step - loss: 0.4353 - accuracy: 0.8277 - val_loss: 0.6481 - val_accuracy: 0.7971\n",
            "Epoch 130/500\n",
            "104/104 [==============================] - 0s 5ms/step - loss: 0.4305 - accuracy: 0.8337 - val_loss: 0.6353 - val_accuracy: 0.7971\n",
            "Epoch 131/500\n",
            "104/104 [==============================] - 0s 4ms/step - loss: 0.4044 - accuracy: 0.8470 - val_loss: 0.6596 - val_accuracy: 0.7971\n",
            "Epoch 132/500\n",
            "104/104 [==============================] - 0s 4ms/step - loss: 0.4152 - accuracy: 0.8374 - val_loss: 0.6293 - val_accuracy: 0.7874\n",
            "Epoch 133/500\n",
            "104/104 [==============================] - 0s 4ms/step - loss: 0.4072 - accuracy: 0.8301 - val_loss: 0.6460 - val_accuracy: 0.7826\n",
            "Epoch 134/500\n",
            "104/104 [==============================] - 1s 5ms/step - loss: 0.3956 - accuracy: 0.8507 - val_loss: 0.7406 - val_accuracy: 0.7295\n",
            "Epoch 135/500\n",
            "104/104 [==============================] - 0s 4ms/step - loss: 0.4096 - accuracy: 0.8428 - val_loss: 0.6394 - val_accuracy: 0.7729\n",
            "Epoch 136/500\n",
            "104/104 [==============================] - 0s 5ms/step - loss: 0.3886 - accuracy: 0.8470 - val_loss: 0.6194 - val_accuracy: 0.8019\n",
            "Epoch 137/500\n",
            "104/104 [==============================] - 0s 5ms/step - loss: 0.3846 - accuracy: 0.8513 - val_loss: 0.6151 - val_accuracy: 0.7874\n",
            "Epoch 138/500\n",
            "104/104 [==============================] - 0s 5ms/step - loss: 0.3652 - accuracy: 0.8513 - val_loss: 0.6501 - val_accuracy: 0.7633\n",
            "Epoch 139/500\n",
            "104/104 [==============================] - 0s 4ms/step - loss: 0.3900 - accuracy: 0.8476 - val_loss: 0.6400 - val_accuracy: 0.7729\n",
            "Epoch 140/500\n",
            "104/104 [==============================] - 1s 8ms/step - loss: 0.3538 - accuracy: 0.8591 - val_loss: 0.6242 - val_accuracy: 0.7874\n",
            "Epoch 141/500\n",
            "104/104 [==============================] - 1s 6ms/step - loss: 0.3459 - accuracy: 0.8615 - val_loss: 0.6647 - val_accuracy: 0.7874\n",
            "Epoch 142/500\n",
            "104/104 [==============================] - 1s 8ms/step - loss: 0.3447 - accuracy: 0.8706 - val_loss: 0.6522 - val_accuracy: 0.8068\n",
            "Epoch 143/500\n",
            "104/104 [==============================] - 1s 6ms/step - loss: 0.3474 - accuracy: 0.8615 - val_loss: 0.6806 - val_accuracy: 0.7778\n",
            "Epoch 144/500\n",
            "104/104 [==============================] - 1s 9ms/step - loss: 0.3361 - accuracy: 0.8682 - val_loss: 0.6448 - val_accuracy: 0.7874\n",
            "Epoch 145/500\n",
            "104/104 [==============================] - 0s 4ms/step - loss: 0.3707 - accuracy: 0.8694 - val_loss: 0.5900 - val_accuracy: 0.8116\n",
            "Epoch 146/500\n",
            "104/104 [==============================] - 0s 4ms/step - loss: 0.3499 - accuracy: 0.8676 - val_loss: 0.6134 - val_accuracy: 0.7681\n",
            "Epoch 147/500\n",
            "104/104 [==============================] - 0s 5ms/step - loss: 0.3488 - accuracy: 0.8622 - val_loss: 0.6404 - val_accuracy: 0.7778\n",
            "Epoch 148/500\n",
            "104/104 [==============================] - 0s 4ms/step - loss: 0.3510 - accuracy: 0.8640 - val_loss: 0.6291 - val_accuracy: 0.7874\n",
            "Epoch 149/500\n",
            "104/104 [==============================] - 0s 4ms/step - loss: 0.3356 - accuracy: 0.8742 - val_loss: 0.6271 - val_accuracy: 0.7923\n",
            "Epoch 150/500\n",
            "104/104 [==============================] - 0s 4ms/step - loss: 0.3253 - accuracy: 0.8785 - val_loss: 0.6138 - val_accuracy: 0.8019\n",
            "Epoch 151/500\n",
            "104/104 [==============================] - 0s 5ms/step - loss: 0.3289 - accuracy: 0.8767 - val_loss: 0.6722 - val_accuracy: 0.7923\n",
            "Epoch 152/500\n",
            "104/104 [==============================] - 0s 5ms/step - loss: 0.3207 - accuracy: 0.8851 - val_loss: 0.6193 - val_accuracy: 0.7971\n",
            "Epoch 153/500\n",
            "104/104 [==============================] - 0s 5ms/step - loss: 0.3436 - accuracy: 0.8652 - val_loss: 0.6871 - val_accuracy: 0.7729\n",
            "Epoch 154/500\n",
            "104/104 [==============================] - 0s 4ms/step - loss: 0.3387 - accuracy: 0.8670 - val_loss: 0.6627 - val_accuracy: 0.7826\n",
            "Epoch 155/500\n",
            "104/104 [==============================] - 0s 4ms/step - loss: 0.2895 - accuracy: 0.8912 - val_loss: 0.6557 - val_accuracy: 0.7778\n",
            "Epoch 156/500\n",
            "104/104 [==============================] - 0s 5ms/step - loss: 0.3025 - accuracy: 0.8875 - val_loss: 0.6537 - val_accuracy: 0.7923\n",
            "Epoch 157/500\n",
            "104/104 [==============================] - 0s 5ms/step - loss: 0.3370 - accuracy: 0.8628 - val_loss: 0.6158 - val_accuracy: 0.8213\n",
            "Epoch 158/500\n",
            "104/104 [==============================] - 0s 4ms/step - loss: 0.3002 - accuracy: 0.8881 - val_loss: 0.6356 - val_accuracy: 0.7971\n",
            "Epoch 159/500\n",
            "104/104 [==============================] - 0s 5ms/step - loss: 0.3334 - accuracy: 0.8700 - val_loss: 0.5903 - val_accuracy: 0.8406\n",
            "Epoch 160/500\n",
            "104/104 [==============================] - 0s 5ms/step - loss: 0.3152 - accuracy: 0.8821 - val_loss: 0.6495 - val_accuracy: 0.7971\n",
            "Epoch 161/500\n",
            "104/104 [==============================] - 0s 4ms/step - loss: 0.3225 - accuracy: 0.8779 - val_loss: 0.6411 - val_accuracy: 0.8116\n",
            "Epoch 162/500\n",
            "104/104 [==============================] - 0s 5ms/step - loss: 0.3330 - accuracy: 0.8700 - val_loss: 0.6221 - val_accuracy: 0.7681\n",
            "Epoch 163/500\n",
            "104/104 [==============================] - 0s 4ms/step - loss: 0.2974 - accuracy: 0.8827 - val_loss: 0.6795 - val_accuracy: 0.7778\n",
            "Epoch 164/500\n",
            "104/104 [==============================] - 0s 4ms/step - loss: 0.3094 - accuracy: 0.8785 - val_loss: 0.6149 - val_accuracy: 0.7729\n",
            "Epoch 165/500\n",
            "104/104 [==============================] - 0s 5ms/step - loss: 0.2905 - accuracy: 0.8930 - val_loss: 0.5984 - val_accuracy: 0.7971\n",
            "Epoch 166/500\n",
            "104/104 [==============================] - 0s 5ms/step - loss: 0.2965 - accuracy: 0.8845 - val_loss: 0.6418 - val_accuracy: 0.8116\n",
            "Epoch 167/500\n",
            "104/104 [==============================] - 0s 4ms/step - loss: 0.2764 - accuracy: 0.8966 - val_loss: 0.5824 - val_accuracy: 0.8164\n",
            "Epoch 168/500\n",
            "104/104 [==============================] - 0s 4ms/step - loss: 0.2751 - accuracy: 0.8984 - val_loss: 0.6582 - val_accuracy: 0.8019\n",
            "Epoch 169/500\n",
            "104/104 [==============================] - 0s 5ms/step - loss: 0.2598 - accuracy: 0.8978 - val_loss: 0.6100 - val_accuracy: 0.8019\n",
            "Epoch 170/500\n",
            "104/104 [==============================] - 0s 4ms/step - loss: 0.2765 - accuracy: 0.8881 - val_loss: 0.6427 - val_accuracy: 0.7971\n",
            "Epoch 171/500\n",
            "104/104 [==============================] - 0s 5ms/step - loss: 0.2473 - accuracy: 0.9099 - val_loss: 0.6283 - val_accuracy: 0.7971\n",
            "Epoch 172/500\n",
            "104/104 [==============================] - 0s 4ms/step - loss: 0.2708 - accuracy: 0.8912 - val_loss: 0.6381 - val_accuracy: 0.8019\n",
            "Epoch 173/500\n",
            "104/104 [==============================] - 0s 4ms/step - loss: 0.2688 - accuracy: 0.9008 - val_loss: 0.6686 - val_accuracy: 0.7778\n",
            "Epoch 174/500\n",
            "104/104 [==============================] - 0s 5ms/step - loss: 0.2834 - accuracy: 0.8966 - val_loss: 0.6392 - val_accuracy: 0.8164\n",
            "Epoch 175/500\n",
            "104/104 [==============================] - 0s 4ms/step - loss: 0.3064 - accuracy: 0.8851 - val_loss: 0.6124 - val_accuracy: 0.7826\n",
            "Epoch 176/500\n",
            "104/104 [==============================] - 0s 5ms/step - loss: 0.2584 - accuracy: 0.9045 - val_loss: 0.6550 - val_accuracy: 0.8019\n",
            "Epoch 177/500\n",
            "104/104 [==============================] - 0s 4ms/step - loss: 0.2573 - accuracy: 0.9111 - val_loss: 0.6300 - val_accuracy: 0.7826\n",
            "Epoch 178/500\n",
            "104/104 [==============================] - 0s 4ms/step - loss: 0.2676 - accuracy: 0.8990 - val_loss: 0.6189 - val_accuracy: 0.8019\n",
            "Epoch 179/500\n",
            "104/104 [==============================] - 0s 4ms/step - loss: 0.2685 - accuracy: 0.9033 - val_loss: 0.6442 - val_accuracy: 0.7971\n",
            "Epoch 180/500\n",
            "104/104 [==============================] - 0s 4ms/step - loss: 0.2765 - accuracy: 0.8954 - val_loss: 0.5994 - val_accuracy: 0.7729\n",
            "Epoch 181/500\n",
            "104/104 [==============================] - 0s 4ms/step - loss: 0.2394 - accuracy: 0.9105 - val_loss: 0.6033 - val_accuracy: 0.7971\n",
            "Epoch 182/500\n",
            "104/104 [==============================] - 0s 4ms/step - loss: 0.2321 - accuracy: 0.9093 - val_loss: 0.6340 - val_accuracy: 0.8019\n",
            "Epoch 183/500\n",
            "104/104 [==============================] - 0s 5ms/step - loss: 0.2388 - accuracy: 0.9105 - val_loss: 0.6555 - val_accuracy: 0.7826\n",
            "Epoch 184/500\n",
            "104/104 [==============================] - 0s 5ms/step - loss: 0.2350 - accuracy: 0.9129 - val_loss: 0.6703 - val_accuracy: 0.7971\n",
            "Epoch 185/500\n",
            "104/104 [==============================] - 0s 5ms/step - loss: 0.2445 - accuracy: 0.9087 - val_loss: 0.6390 - val_accuracy: 0.7971\n",
            "Epoch 186/500\n",
            "104/104 [==============================] - 0s 5ms/step - loss: 0.2368 - accuracy: 0.9178 - val_loss: 0.6706 - val_accuracy: 0.7971\n",
            "Epoch 187/500\n",
            "104/104 [==============================] - 0s 5ms/step - loss: 0.2375 - accuracy: 0.9099 - val_loss: 0.6028 - val_accuracy: 0.8164\n",
            "Epoch 188/500\n",
            "104/104 [==============================] - 0s 4ms/step - loss: 0.2460 - accuracy: 0.9051 - val_loss: 0.6028 - val_accuracy: 0.7971\n",
            "Epoch 189/500\n",
            "104/104 [==============================] - 0s 4ms/step - loss: 0.2360 - accuracy: 0.9166 - val_loss: 0.6377 - val_accuracy: 0.7971\n",
            "Epoch 190/500\n",
            "104/104 [==============================] - 0s 4ms/step - loss: 0.2155 - accuracy: 0.9172 - val_loss: 0.6584 - val_accuracy: 0.8068\n",
            "Epoch 191/500\n",
            "104/104 [==============================] - 0s 5ms/step - loss: 0.2641 - accuracy: 0.9021 - val_loss: 0.5774 - val_accuracy: 0.8019\n",
            "Epoch 192/500\n",
            "104/104 [==============================] - 0s 5ms/step - loss: 0.2531 - accuracy: 0.9075 - val_loss: 0.6038 - val_accuracy: 0.8164\n",
            "Epoch 193/500\n",
            "104/104 [==============================] - 0s 5ms/step - loss: 0.2428 - accuracy: 0.9160 - val_loss: 0.6817 - val_accuracy: 0.7729\n",
            "Epoch 194/500\n",
            "104/104 [==============================] - 0s 4ms/step - loss: 0.2086 - accuracy: 0.9232 - val_loss: 0.6684 - val_accuracy: 0.7874\n",
            "Epoch 195/500\n",
            "104/104 [==============================] - 0s 4ms/step - loss: 0.2308 - accuracy: 0.9129 - val_loss: 0.6471 - val_accuracy: 0.7874\n",
            "Epoch 196/500\n",
            "104/104 [==============================] - 0s 5ms/step - loss: 0.2397 - accuracy: 0.9129 - val_loss: 0.6205 - val_accuracy: 0.8164\n",
            "Epoch 197/500\n",
            "104/104 [==============================] - 0s 5ms/step - loss: 0.2052 - accuracy: 0.9317 - val_loss: 0.6501 - val_accuracy: 0.7874\n",
            "Epoch 198/500\n",
            "104/104 [==============================] - 0s 4ms/step - loss: 0.2133 - accuracy: 0.9148 - val_loss: 0.6612 - val_accuracy: 0.7923\n",
            "Epoch 199/500\n",
            "104/104 [==============================] - 0s 4ms/step - loss: 0.2173 - accuracy: 0.9196 - val_loss: 0.7029 - val_accuracy: 0.7585\n",
            "Epoch 200/500\n",
            "104/104 [==============================] - 0s 4ms/step - loss: 0.2474 - accuracy: 0.9069 - val_loss: 0.6895 - val_accuracy: 0.7826\n",
            "Epoch 201/500\n",
            "104/104 [==============================] - 0s 5ms/step - loss: 0.1804 - accuracy: 0.9311 - val_loss: 0.6065 - val_accuracy: 0.7971\n",
            "Epoch 202/500\n",
            "104/104 [==============================] - 0s 5ms/step - loss: 0.2238 - accuracy: 0.9178 - val_loss: 0.7015 - val_accuracy: 0.7681\n",
            "Epoch 203/500\n",
            "104/104 [==============================] - 0s 4ms/step - loss: 0.2216 - accuracy: 0.9232 - val_loss: 0.6990 - val_accuracy: 0.7826\n",
            "Epoch 204/500\n",
            "104/104 [==============================] - 0s 4ms/step - loss: 0.2025 - accuracy: 0.9299 - val_loss: 0.6025 - val_accuracy: 0.8116\n",
            "Epoch 205/500\n",
            "104/104 [==============================] - 0s 4ms/step - loss: 0.2125 - accuracy: 0.9250 - val_loss: 0.6777 - val_accuracy: 0.7971\n",
            "Epoch 206/500\n",
            "104/104 [==============================] - 0s 4ms/step - loss: 0.2025 - accuracy: 0.9250 - val_loss: 0.6211 - val_accuracy: 0.7874\n",
            "Epoch 207/500\n",
            "104/104 [==============================] - 0s 4ms/step - loss: 0.2115 - accuracy: 0.9202 - val_loss: 0.6875 - val_accuracy: 0.7971\n",
            "Epoch 208/500\n",
            "104/104 [==============================] - 0s 5ms/step - loss: 0.1840 - accuracy: 0.9323 - val_loss: 0.6619 - val_accuracy: 0.8116\n",
            "Epoch 209/500\n",
            "104/104 [==============================] - 0s 4ms/step - loss: 0.1535 - accuracy: 0.9468 - val_loss: 0.6346 - val_accuracy: 0.7729\n",
            "Epoch 210/500\n",
            "104/104 [==============================] - 0s 5ms/step - loss: 0.1998 - accuracy: 0.9299 - val_loss: 0.6611 - val_accuracy: 0.7923\n",
            "Epoch 211/500\n",
            "104/104 [==============================] - 0s 4ms/step - loss: 0.2208 - accuracy: 0.9093 - val_loss: 0.6868 - val_accuracy: 0.7633\n",
            "Epoch 212/500\n",
            "104/104 [==============================] - 0s 4ms/step - loss: 0.2090 - accuracy: 0.9232 - val_loss: 0.6838 - val_accuracy: 0.8164\n",
            "Epoch 213/500\n",
            "104/104 [==============================] - 0s 4ms/step - loss: 0.1854 - accuracy: 0.9359 - val_loss: 0.6366 - val_accuracy: 0.8213\n",
            "Epoch 214/500\n",
            "104/104 [==============================] - 0s 4ms/step - loss: 0.2044 - accuracy: 0.9262 - val_loss: 0.6677 - val_accuracy: 0.8116\n",
            "Epoch 215/500\n",
            "104/104 [==============================] - 0s 4ms/step - loss: 0.2051 - accuracy: 0.9238 - val_loss: 0.6908 - val_accuracy: 0.7923\n",
            "Epoch 216/500\n",
            "104/104 [==============================] - 0s 5ms/step - loss: 0.1959 - accuracy: 0.9274 - val_loss: 0.6583 - val_accuracy: 0.7923\n"
          ]
        }
      ]
    },
    {
      "cell_type": "code",
      "source": [
        "plt.plot(cnnhistory.history['loss'])\n",
        "plt.plot(cnnhistory.history['val_loss'])\n",
        "plt.title('model loss')\n",
        "plt.ylabel('loss')\n",
        "plt.xlabel('epoch')\n",
        "plt.legend(['train','test'], loc='upper left')\n",
        "plt.show()"
      ],
      "metadata": {
        "colab": {
          "base_uri": "https://localhost:8080/",
          "height": 295
        },
        "id": "oQYnuaCrDH_A",
        "outputId": "b23c5c77-4f2d-40ea-c805-24c930449504"
      },
      "execution_count": 15,
      "outputs": [
        {
          "output_type": "display_data",
          "data": {
            "text/plain": [
              "<Figure size 432x288 with 1 Axes>"
            ],
            "image/png": "[encoded data removed]"
          },
          "metadata": {
            "needs_background": "light"
          }
        }
      ]
    },
    {
      "cell_type": "code",
      "source": [
        "plt.plot(cnnhistory.history['accuracy'])\n",
        "plt.plot(cnnhistory.history['val_accuracy'])\n",
        "plt.title('model accuracy')\n",
        "plt.ylabel('accuracy')\n",
        "plt.xlabel('epoch')\n",
        "plt.legend(['train','test'], loc='upper left')\n",
        "plt.show()"
      ],
      "metadata": {
        "colab": {
          "base_uri": "https://localhost:8080/",
          "height": 295
        },
        "id": "IFkTuO8nDNdq",
        "outputId": "3ec58632-e414-4f8a-f26e-c4103450c60a"
      },
      "execution_count": 16,
      "outputs": [
        {
          "output_type": "display_data",
          "data": {
            "text/plain": [
              "<Figure size 432x288 with 1 Axes>"
            ],
            "image/png": "[encoded data removed]"
          },
          "metadata": {
            "needs_background": "light"
          }
        }
      ]
    },
    {
      "cell_type": "code",
      "source": [
        "predictions = model.predict(x_testcnn)"
      ],
      "metadata": {
        "id": "A2xtrN5wDQgY"
      },
      "execution_count": 17,
      "outputs": []
    },
    {
      "cell_type": "code",
      "source": [
        "predictions"
      ],
      "metadata": {
        "colab": {
          "base_uri": "https://localhost:8080/"
        },
        "id": "_f_ohjXKDUpY",
        "outputId": "c8e79d9a-7577-44d4-bbc5-0339260cdd00"
      },
      "execution_count": 18,
      "outputs": [
        {
          "output_type": "execute_result",
          "data": {
            "text/plain": [
              "array([[6.45449102e-01, 9.72016007e-02, 1.31739080e-01, 6.20899312e-02,\n",
              "        4.84083816e-02, 1.51119847e-02],\n",
              "       [1.44981750e-05, 1.68846299e-07, 1.13573852e-10, 9.94635046e-01,\n",
              "        9.04433421e-07, 5.34931384e-03],\n",
              "       [2.90164113e-01, 1.95187442e-02, 1.25698643e-02, 6.33883357e-01,\n",
              "        1.24478934e-03, 4.26191278e-02],\n",
              "       ...,\n",
              "       [2.74168327e-04, 9.26965313e-08, 1.17140180e-05, 7.46543345e-04,\n",
              "        9.59408343e-01, 3.95591259e-02],\n",
              "       [4.20337565e-05, 8.05167437e-01, 1.93106309e-01, 7.17568793e-04,\n",
              "        1.19758566e-04, 8.46907613e-04],\n",
              "       [1.47806031e-06, 1.58403196e-07, 2.92593986e-03, 6.79702180e-06,\n",
              "        9.96988952e-01, 7.66355006e-05]], dtype=float32)"
            ]
          },
          "metadata": {},
          "execution_count": 18
        }
      ]
    },
    {
      "cell_type": "code",
      "source": [
        "y_test"
      ],
      "metadata": {
        "colab": {
          "base_uri": "https://localhost:8080/"
        },
        "id": "cmA2bFgsDW3D",
        "outputId": "f4063755-aa2f-4e02-ea2b-30ca0b00f9aa"
      },
      "execution_count": 19,
      "outputs": [
        {
          "output_type": "execute_result",
          "data": {
            "text/plain": [
              "array([3, 3, 3, 0, 4, 4, 1, 2, 5, 0, 5, 3, 2, 2, 1, 4, 4, 5, 2, 4, 1, 2,\n",
              "       3, 5, 4, 2, 1, 2, 2, 2, 2, 5, 2, 5, 3, 1, 2, 0, 4, 5, 2, 3, 2, 2,\n",
              "       5, 2, 0, 1, 3, 4, 4, 5, 1, 1, 4, 4, 5, 1, 1, 1, 0, 1, 5, 0, 4, 1,\n",
              "       1, 0, 1, 4, 1, 0, 4, 1, 3, 1, 2, 2, 1, 2, 3, 0, 5, 3, 5, 5, 2, 4,\n",
              "       5, 1, 5, 1, 5, 3, 4, 1, 4, 1, 5, 4, 5, 1, 2, 1, 1, 5, 1, 3, 2, 5,\n",
              "       2, 1, 3, 5, 4, 4, 0, 0, 3, 1, 2, 2, 3, 5, 1, 5, 3, 4, 2, 2, 0, 2,\n",
              "       2, 5, 5, 0, 3, 3, 2, 2, 0, 3, 4, 0, 4, 2, 4, 5, 4, 1, 5, 3, 2, 2,\n",
              "       5, 4, 3, 3, 4, 3, 3, 4, 1, 5, 2, 3, 2, 2, 0, 2, 1, 3, 1, 2, 2, 5,\n",
              "       5, 1, 4, 2, 2, 1, 1, 3, 3, 5, 5, 2, 5, 1, 5, 0, 3, 3, 0, 5, 1, 4,\n",
              "       1, 4, 2, 5, 5, 1, 4, 2, 4])"
            ]
          },
          "metadata": {},
          "execution_count": 19
        }
      ]
    },
    {
      "cell_type": "code",
      "source": [
        "new_Ytest = y_test.astype(int)"
      ],
      "metadata": {
        "id": "0PHDKWJWDY3g"
      },
      "execution_count": 20,
      "outputs": []
    },
    {
      "cell_type": "code",
      "source": [
        "new_Ytest"
      ],
      "metadata": {
        "colab": {
          "base_uri": "https://localhost:8080/"
        },
        "id": "k68v2i-pDbZE",
        "outputId": "5099e5d5-39bc-4c12-b94b-8f02735ca24b"
      },
      "execution_count": 21,
      "outputs": [
        {
          "output_type": "execute_result",
          "data": {
            "text/plain": [
              "array([3, 3, 3, 0, 4, 4, 1, 2, 5, 0, 5, 3, 2, 2, 1, 4, 4, 5, 2, 4, 1, 2,\n",
              "       3, 5, 4, 2, 1, 2, 2, 2, 2, 5, 2, 5, 3, 1, 2, 0, 4, 5, 2, 3, 2, 2,\n",
              "       5, 2, 0, 1, 3, 4, 4, 5, 1, 1, 4, 4, 5, 1, 1, 1, 0, 1, 5, 0, 4, 1,\n",
              "       1, 0, 1, 4, 1, 0, 4, 1, 3, 1, 2, 2, 1, 2, 3, 0, 5, 3, 5, 5, 2, 4,\n",
              "       5, 1, 5, 1, 5, 3, 4, 1, 4, 1, 5, 4, 5, 1, 2, 1, 1, 5, 1, 3, 2, 5,\n",
              "       2, 1, 3, 5, 4, 4, 0, 0, 3, 1, 2, 2, 3, 5, 1, 5, 3, 4, 2, 2, 0, 2,\n",
              "       2, 5, 5, 0, 3, 3, 2, 2, 0, 3, 4, 0, 4, 2, 4, 5, 4, 1, 5, 3, 2, 2,\n",
              "       5, 4, 3, 3, 4, 3, 3, 4, 1, 5, 2, 3, 2, 2, 0, 2, 1, 3, 1, 2, 2, 5,\n",
              "       5, 1, 4, 2, 2, 1, 1, 3, 3, 5, 5, 2, 5, 1, 5, 0, 3, 3, 0, 5, 1, 4,\n",
              "       1, 4, 2, 5, 5, 1, 4, 2, 4])"
            ]
          },
          "metadata": {},
          "execution_count": 21
        }
      ]
    },
    {
      "cell_type": "code",
      "source": [
        "preds1=predictions.argmax(axis=1)\n",
        "preds1"
      ],
      "metadata": {
        "colab": {
          "base_uri": "https://localhost:8080/"
        },
        "id": "4_cAI39VFhtp",
        "outputId": "79b60ed6-f92a-4042-ad18-f649c7d40598"
      },
      "execution_count": 22,
      "outputs": [
        {
          "output_type": "execute_result",
          "data": {
            "text/plain": [
              "array([0, 3, 3, 0, 4, 4, 1, 2, 5, 0, 5, 3, 2, 2, 1, 4, 4, 3, 3, 4, 1, 2,\n",
              "       3, 3, 4, 2, 1, 0, 4, 2, 2, 3, 2, 5, 3, 1, 2, 0, 4, 5, 2, 5, 4, 2,\n",
              "       5, 2, 1, 1, 3, 4, 4, 1, 1, 1, 4, 4, 4, 1, 0, 1, 3, 1, 3, 1, 4, 1,\n",
              "       1, 1, 1, 4, 0, 0, 4, 1, 5, 3, 2, 2, 1, 2, 0, 0, 3, 3, 5, 5, 2, 3,\n",
              "       3, 1, 5, 1, 5, 3, 4, 1, 4, 0, 5, 4, 5, 1, 2, 1, 1, 5, 1, 5, 2, 5,\n",
              "       0, 2, 3, 5, 4, 4, 2, 0, 3, 1, 1, 2, 1, 5, 1, 3, 3, 4, 2, 2, 0, 2,\n",
              "       2, 3, 3, 0, 3, 3, 2, 4, 0, 3, 4, 0, 4, 4, 4, 2, 4, 1, 5, 3, 2, 2,\n",
              "       5, 4, 3, 3, 4, 5, 3, 4, 1, 5, 2, 3, 2, 2, 0, 2, 1, 3, 1, 2, 4, 5,\n",
              "       5, 1, 4, 2, 2, 1, 1, 3, 3, 5, 5, 2, 5, 1, 4, 0, 3, 3, 2, 5, 1, 4,\n",
              "       1, 3, 5, 2, 5, 3, 4, 1, 4])"
            ]
          },
          "metadata": {},
          "execution_count": 22
        }
      ]
    },
    {
      "cell_type": "code",
      "source": [
        "abc = preds1.astype(int).flatten()"
      ],
      "metadata": {
        "id": "H4WEmM60NfQn"
      },
      "execution_count": 23,
      "outputs": []
    },
    {
      "cell_type": "code",
      "source": [
        "from sklearn.metrics import confusion_matrix\n",
        "c = confusion_matrix(new_Ytest, abc) \n",
        "c"
      ],
      "metadata": {
        "colab": {
          "base_uri": "https://localhost:8080/"
        },
        "id": "bKEBeEBlFjB8",
        "outputId": "67790ba1-ead1-404d-818d-7e7afac6f977"
      },
      "execution_count": 24,
      "outputs": [
        {
          "output_type": "execute_result",
          "data": {
            "text/plain": [
              "array([[12,  3,  2,  1,  0,  0],\n",
              "       [ 3, 35,  1,  2,  0,  0],\n",
              "       [ 2,  2, 34,  1,  5,  1],\n",
              "       [ 2,  1,  0, 24,  0,  4],\n",
              "       [ 0,  0,  0,  2, 31,  0],\n",
              "       [ 0,  1,  2,  9,  2, 25]])"
            ]
          },
          "metadata": {},
          "execution_count": 24
        }
      ]
    },
    {
      "cell_type": "code",
      "source": [
        "y_test"
      ],
      "metadata": {
        "colab": {
          "base_uri": "https://localhost:8080/"
        },
        "id": "m4RjG7LWLSQx",
        "outputId": "0059a324-5510-4029-bc5e-f15b16ff8a04"
      },
      "execution_count": 25,
      "outputs": [
        {
          "output_type": "execute_result",
          "data": {
            "text/plain": [
              "array([3, 3, 3, 0, 4, 4, 1, 2, 5, 0, 5, 3, 2, 2, 1, 4, 4, 5, 2, 4, 1, 2,\n",
              "       3, 5, 4, 2, 1, 2, 2, 2, 2, 5, 2, 5, 3, 1, 2, 0, 4, 5, 2, 3, 2, 2,\n",
              "       5, 2, 0, 1, 3, 4, 4, 5, 1, 1, 4, 4, 5, 1, 1, 1, 0, 1, 5, 0, 4, 1,\n",
              "       1, 0, 1, 4, 1, 0, 4, 1, 3, 1, 2, 2, 1, 2, 3, 0, 5, 3, 5, 5, 2, 4,\n",
              "       5, 1, 5, 1, 5, 3, 4, 1, 4, 1, 5, 4, 5, 1, 2, 1, 1, 5, 1, 3, 2, 5,\n",
              "       2, 1, 3, 5, 4, 4, 0, 0, 3, 1, 2, 2, 3, 5, 1, 5, 3, 4, 2, 2, 0, 2,\n",
              "       2, 5, 5, 0, 3, 3, 2, 2, 0, 3, 4, 0, 4, 2, 4, 5, 4, 1, 5, 3, 2, 2,\n",
              "       5, 4, 3, 3, 4, 3, 3, 4, 1, 5, 2, 3, 2, 2, 0, 2, 1, 3, 1, 2, 2, 5,\n",
              "       5, 1, 4, 2, 2, 1, 1, 3, 3, 5, 5, 2, 5, 1, 5, 0, 3, 3, 0, 5, 1, 4,\n",
              "       1, 4, 2, 5, 5, 1, 4, 2, 4])"
            ]
          },
          "metadata": {},
          "execution_count": 25
        }
      ]
    },
    {
      "cell_type": "code",
      "source": [
        "loss, acc =model.evaluate(x_testcnn, y_test)\n",
        "print(\"Restored model, accuracy: {:5.2f}%\".format(100*acc))"
      ],
      "metadata": {
        "colab": {
          "base_uri": "https://localhost:8080/"
        },
        "id": "n3kzoqPkDqqS",
        "outputId": "b641ad2f-b414-4988-c9cb-3750684616c3"
      },
      "execution_count": 26,
      "outputs": [
        {
          "output_type": "stream",
          "name": "stdout",
          "text": [
            "7/7 [==============================] - 0s 3ms/step - loss: 0.5714 - accuracy: 0.7778\n",
            "Restored model, accuracy: 77.78%\n"
          ]
        }
      ]
    },
    {
      "cell_type": "code",
      "source": [
        "loss, acc =model.evaluate(X_train, y_train)\n",
        "print(\"Restored model train, accuracy: {:5.2f}%\".format(100*acc))"
      ],
      "metadata": {
        "id": "fJDTGH_OUX0z",
        "colab": {
          "base_uri": "https://localhost:8080/"
        },
        "outputId": "65123426-f0a4-454c-9a9b-538b01f0673d"
      },
      "execution_count": 27,
      "outputs": [
        {
          "output_type": "stream",
          "name": "stdout",
          "text": [
            "52/52 [==============================] - 0s 4ms/step - loss: 0.1657 - accuracy: 0.9541\n",
            "Restored model train, accuracy: 95.41%\n"
          ]
        }
      ]
    },
    {
      "cell_type": "code",
      "source": [
        "from sklearn.metrics import classification_report, confusion_matrix,accuracy_score\n",
        "import seaborn as sn\n",
        "\n",
        "print(classification_report(new_Ytest,abc))\n",
        "\n",
        "acc = float(accuracy_score(new_Ytest,abc))*100\n",
        "print(\"----accuracy score %s ----\" % acc)\n",
        "\n",
        "cm = confusion_matrix(new_Ytest,abc)\n",
        "#df_cm = pd.DataFrame(cm)\n",
        "class_names = ['neutral','calm', 'happy','sad','angry', 'fearful' ]\n",
        "df_cm = pd.DataFrame(cm, index=class_names, columns=class_names,)\n",
        "sn.heatmap(df_cm, annot=True, fmt='')\n",
        "plt.show()"
      ],
      "metadata": {
        "colab": {
          "base_uri": "https://localhost:8080/",
          "height": 512
        },
        "id": "SfSC3El94LZg",
        "outputId": "7f2e4e44-7772-485d-dd10-cf78f5bf4524"
      },
      "execution_count": 28,
      "outputs": [
        {
          "output_type": "stream",
          "name": "stdout",
          "text": [
            "              precision    recall  f1-score   support\n",
            "\n",
            "           0       0.63      0.67      0.65        18\n",
            "           1       0.83      0.85      0.84        41\n",
            "           2       0.87      0.76      0.81        45\n",
            "           3       0.62      0.77      0.69        31\n",
            "           4       0.82      0.94      0.87        33\n",
            "           5       0.83      0.64      0.72        39\n",
            "\n",
            "    accuracy                           0.78       207\n",
            "   macro avg       0.77      0.77      0.76       207\n",
            "weighted avg       0.79      0.78      0.78       207\n",
            "\n",
            "----accuracy score 77.77777777777779 ----\n"
          ]
        },
        {
          "output_type": "display_data",
          "data": {
            "text/plain": [
              "<Figure size 432x288 with 2 Axes>"
            ],
            "image/png": "[encoded data removed]"
          },
          "metadata": {
            "needs_background": "light"
          }
        }
      ]
    }
  ]
}